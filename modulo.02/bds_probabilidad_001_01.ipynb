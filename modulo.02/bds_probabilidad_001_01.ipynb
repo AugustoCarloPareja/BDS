{
  "nbformat": 4,
  "nbformat_minor": 0,
  "metadata": {
    "colab": {
      "provenance": [],
      "include_colab_link": true
    },
    "kernelspec": {
      "name": "python3",
      "display_name": "Python 3"
    },
    "language_info": {
      "name": "python"
    }
  },
  "cells": [
    {
      "cell_type": "markdown",
      "metadata": {
        "id": "view-in-github",
        "colab_type": "text"
      },
      "source": [
        "<a href=\"https://colab.research.google.com/github/cristiandarioortegayubro/BDS/blob/main/modulo.02/bds_probabilidad_001_01.ipynb\" target=\"_parent\"><img src=\"https://colab.research.google.com/assets/colab-badge.svg\" alt=\"Open In Colab\"/></a>"
      ]
    },
    {
      "cell_type": "markdown",
      "source": [
        "<p align=\"center\">\n",
        "<img src=\"https://github.com/cristiandarioortegayubro/BDS/blob/main/images/Logo%20BDS%20Horizontal%208.png?raw=true\">\n",
        "</p>"
      ],
      "metadata": {
        "id": "AXWIKajUNsmr"
      }
    },
    {
      "cell_type": "code",
      "source": [
        "import numpy as np\n",
        "import matplotlib.pyplot as plt\n",
        "import sympy as sp\n",
        "import scipy as sc\n",
        "import random as rd"
      ],
      "metadata": {
        "id": "jyh319pmN0y6"
      },
      "execution_count": null,
      "outputs": []
    },
    {
      "cell_type": "markdown",
      "source": [
        " # **<font color=\"DeepPink\">Probabilidad</font>**"
      ],
      "metadata": {
        "id": "N7D0fRgiNwMk"
      }
    },
    {
      "cell_type": "markdown",
      "source": [
        " <p align=\"justify\">\n",
        "<strong>Experimento aleatorio</strong>: Un experimento aleatorio es un experimento en el que no se conoce con certeza el resultado. Por ejemplo, tirar un dado para ver que cala queda hacia arriba o mudarse a otro país a trabajar y probar suerte.<br><br>\n",
        "<strong>Espacio muestral</strong>: Es el conjunto de todos los resultados posibles de un experimento aleatorio. En general lo indicamos como $\\Omega$. Para el caso del dado, definiendo como $i$ la cara de $i$ puntitos:<br><br>\n",
        "$$ \\Omega = \\{1,2,3,4,5,6 \\}  $$<br><br>\n",
        "Para el caso de viajar para trabajar, el conjunto de resultados posibles será el conjunto de todos los salarios anuales que puedo llegar a obtener. En dólares:<br><br>\n",
        "$$ \\Omega = [0, 2000] $$<br><br>\n",
        "<strong>Evento</strong>: Es cualquier subconjunto de $\\Omega$. Para el caso del dado:<br><br>\n",
        "$$ E_{p}=\\{2,4,6 \\}\\subset \\Omega$$<br><br>\n",
        "$$ \\{ 1\\} \\subset \\Omega \\qquad \\text{ (suceso individual) } $$ <br><br>\n",
        "$$ \\Omega \\subset \\Omega \\qquad \\text{(suceso seguro)} $$<br><br>\n",
        "$$ \\phi = \\{ \\} \\subset \\Omega \\qquad \\text{(suceso imposible)} $$<br><br>\n",
        "Para el caso de los ingresos, $[1000, 1500] \\subset \\Omega$.<br><br>\n",
        "<strong>Eventos disjuntos</strong>: Son eventos de $\\Omega$ tales que su intersección es vacía. Para el caso del dado, el evento \"la cara es par\" y el evento \"la cara es impar\" son disjuntos, $\\{ 1, 3, 5 \\} \\cap \\{ 2, 4, 6 \\} = \\phi$.<br><br>\n",
        "Denominamos $P(\\Omega)$ al conjunto de todos los posibles eventos de $\\Omega$.\n",
        "</p>"
      ],
      "metadata": {
        "id": "j-xNUf9IN3lb"
      }
    },
    {
      "cell_type": "markdown",
      "source": [
        " <p align=\"justify\">\n",
        "<strong>Definición clásica de probabilidad</strong>: Dado un espacio muestral  finito $\\Omega$ tal que cada suceso individual sea equiprobable, entonces la probabilidad de un evento $A \\subset \\Omega$ es el cociente entre el número de elementos de $A$ y el número de elementos de $\\Omega$. Para el caso del dado:<br><br>\n",
        "$$ \\text{P}(\\{ 1, 3, 5 \\}) = \\frac{ \\# \\{ 1, 3, 5 \\}}{ \\# \\{ 1,2, 3,4, 5,6 \\}} = \\frac{3}{6}=\\frac{1}{2}. $$<br><br>\n",
        "La definición misma expresa las dificultades de esta definición.<br><br>\n",
        "<strong>Definición frecuentista de probabilidad</strong>: Dado un experimento aleatorio con un espacio muestral $\\Omega$, la probabilidad de que ocurra $A \\subset \\Omega$ se obtiene repitiendo un número $n$ \"grande\" de veces el experimento y contabilizando la cantidad de veces que ocurre $A$ y calculando el cociente entre ambas cantidades:<br><br>\n",
        "$$ \\text{P}(A) \\approx \\frac{\\text{veces que ocurre }A}{\\text{veces que se realiza el experimento}} $$<br><br>\n",
        "Deberíamos repetir el experimento infinitas veces para obtener la verdadera probabilidad. Una vez más, la misma definición establece las dificultades de este concepto. <br><br>\n",
        "Simulemos el lanzamiento de una moneda utilizando el comando \"random.choice\".\n",
        "\n",
        "</p>"
      ],
      "metadata": {
        "id": "Cm_k68RISO5K"
      }
    },
    {
      "cell_type": "code",
      "source": [
        "omega = ['cara','seca']\n",
        "n = 100000\n",
        "t = 0\n",
        "for i in range(n):\n",
        "  t += (rd.choice(omega) == 'cara')\n",
        "\n",
        "t/n"
      ],
      "metadata": {
        "id": "5hgj0xkgUzQ5"
      },
      "execution_count": null,
      "outputs": []
    },
    {
      "cell_type": "markdown",
      "source": [
        " <p align=\"justify\">\n",
        "<strong>Definición axiomática de probabilidad</strong>: Sea $\\Omega$ un conjunto no vacío y $P(\\Omega)$ le conjunto de todos los posibles subconjuntos de $\\Omega$. Se llama <strong>función de probabilidad</strong> a cualquier función<br><br>\n",
        "$$ \\text{P}:P(\\Omega) \\to [0,1] $$<br><br>\n",
        "tal que cumple las siguientes condiciones:<br><br>\n",
        "1. $\\text{P}(\\Omega) = 1$<br><br>\n",
        "2. Para cualquier sucesión $\\{ A_n \\}$ de elementos de $P(\\Omega)$ disjuntos dos a dos se verifica que:<br><br>\n",
        "$$ \\text{P}\\big( \\bigcup_{n=1}^{\\infty} A_{n} \\big) = \\sum_{n=1}^{\\infty} \\text{P}(A_n) $$<br><br>\n",
        "A la terna $(\\Omega, P(\\Omega), \\text{P})$ se la llama espacio de probabilidad.<br><br>\n",
        "<strong>Ejemplo</strong>:<br><br>\n",
        "Dado el experimento de tirar un dado y ver que cara sale hacia arriba definimos como $\\{ i \\}$ es suceso \"sale la cara de $i$ puntitos hacia arriba\" y consideramos como función de probabilidad:<br><br>\n",
        "$$ \\text{P}(\\{ i \\}) = \\frac{1}{6}. $$<br><br>\n",
        "Esta función cumple las condiciones (o axiomas) de la definición axiomática de probabilidad y también cumple las condiciones de la definición clásica.<br><br>\n",
        "Desde un punto de vista general, entendemos que la probabilidad de un evento $A$ viene dado por el \"peso\" de $A$ realtivo al peso de $\\Omega$. También lo podemos entender como el lugar que ocupa todo el conjunto $A$ en el conjunto $\\Omega$.\n",
        "\n",
        "\n",
        "\n",
        "\n",
        "</p>"
      ],
      "metadata": {
        "id": "5spWcqTZV75V"
      }
    },
    {
      "cell_type": "markdown",
      "source": [
        "<p align=\"center\">\n",
        "<img src=\"https://github.com/cristiandarioortegayubro/BDS/blob/main/images/Probabilidad-001.png?raw=true\" width=\"500\" height=\"\">\n",
        "</p>\n"
      ],
      "metadata": {
        "id": "6jEouUJf0g4o"
      }
    },
    {
      "cell_type": "markdown",
      "source": [
        " <p align=\"justify\">\n",
        "<strong>Propiedades de la función de Probabilidad</strong><br><br>\n",
        "Sea $(\\Omega, P(\\Omega), \\text{P})$ un espacio de probabilidad y $A,B \\subset \\Omega$ ($A$ y $B$ eventos de omega), se cumple que:<br><br>\n",
        "1. $ \\text{P}(\\phi) = 0$<br><br>\n",
        "2. Si $A$ y $B$ son disjuntos entonces $\\text{P}(A \\cup B)= \\text{P}(A) + \\text{P}(B)$\n",
        "\n",
        "\n",
        "</p>"
      ],
      "metadata": {
        "id": "LZuqJNG-Zxgi"
      }
    },
    {
      "cell_type": "markdown",
      "source": [
        "<p align=\"center\">\n",
        "<img src=\"https://github.com/cristiandarioortegayubro/BDS/blob/main/images/Probabilidad-002.png?raw=true\" width=\"500\" height=\"\">\n",
        "</p>\n"
      ],
      "metadata": {
        "id": "CVi2ZePm0yQ7"
      }
    },
    {
      "cell_type": "markdown",
      "source": [
        "3. $\\text{P}(A^c) = 1 - \\text{P(A)}$ donde $A^c$ denota el conjunto complemento de $A$ que es el conjunto de \"todo lo que no es $A$\".<br><br>\n",
        "4. Si $B \\subset A$ entonces $\\text{P}(B) \\leq \\text{P}(A)$."
      ],
      "metadata": {
        "id": "Ic_IsO5tbE53"
      }
    },
    {
      "cell_type": "markdown",
      "source": [
        "<p align=\"center\">\n",
        "<img src=\"https://github.com/cristiandarioortegayubro/BDS/blob/main/images/Probabilidad-003.png?raw=true\" width=\"500\" height=\"\">\n",
        "</p>\n"
      ],
      "metadata": {
        "id": "M5e_d_in0_Ch"
      }
    },
    {
      "cell_type": "markdown",
      "source": [
        "5. Formula general para la unión de conjuntos: $\\text{P}(A \\cup B) = \\text{P}(A) + \\text{P}(B) - \\text{P}(A\\cap B)$."
      ],
      "metadata": {
        "id": "TqrHvNy9cIax"
      }
    },
    {
      "cell_type": "markdown",
      "source": [
        "<p align=\"center\">\n",
        "<img src=\"https://github.com/cristiandarioortegayubro/BDS/blob/main/images/Probabilidad-004.png?raw=true\" width=\"500\" height=\"\">\n",
        "</p>\n"
      ],
      "metadata": {
        "id": "dgTj8tmB1HTg"
      }
    },
    {
      "cell_type": "markdown",
      "source": [
        " <p align=\"justify\">\n",
        "<strong>Probabilidad condicional</strong><br><br>\n",
        "Dado un espacio de probabilidad $(\\Omega, P(\\Omega), \\text{P})$ y un evento $B$ tal que $\\text{P}(B) \\neq 0$, para cada evento $A$ la probabilidad condicional de $A$ dado $B$, que se denota $\\text{P}(A|B)$ viene dada por:<br><br>\n",
        "$$ \\text{P}(A|B) = \\frac{\\text{P}(A \\cap B)}{\\text{P}(B)} $$.<br><br>\n",
        "La función $\\text{P}(\\cdot|B):P(\\Omega) \\to [0,1]$ es una función de probabilidad en si misma (cumple todas las propiedades). Representa el espacio que ocupa $A$ en el conjunto $B$.<br><br>\n",
        "La pregunta ¿Cuál es la probailidad de que al irme a vivir a España gane más de 1500 euros mensuales? posiblemente tenga una respuesta distinta a la pregunta ¿cuál es la probailidad de que al irme a vivir a España gane más de 1500 euros mensuales dado que soy ingeniero?<br><br>\n",
        "Condicionar significa agregar nueva información que puede o no ser relevante para tomar decisiones.<br><br>\n",
        "<strong>Eventos independientes</strong><br><br>\n",
        "Dado un espacio de probabilidad $(\\Omega, P(\\Omega), \\text{P})$, decimos que dos eventos $A$ y $B$ de este espacio son independientes si:<br><br>\n",
        "1. $ \\text{P}(A|B) = \\text{P}(A) $ o<br><br>\n",
        "2. $ \\text{P}(B|A) = \\text{P}(B) $ o<br><br>\n",
        "3. $ \\text{P}(A \\cap B) = \\text{P}(A)\\text{P}(B) $<br><br>\n",
        "teniendo en cuenta que si se cumple una condición entonces se cumplen las otras dos.\n",
        "\n",
        "\n",
        "</p>"
      ],
      "metadata": {
        "id": "LMJcbPD0cxtj"
      }
    },
    {
      "cell_type": "markdown",
      "source": [
        " <p align=\"justify\">\n",
        "<strong>Ejemplo</strong><br><br>\n",
        "Dado el experimento mencionado de lanzar un dado con su respectiva función de probabilidad ya definida. ¿Cuál es la probabilidad de que la cara que salga sea par dado que la cara que sale tiene 4 puntos o menos?<br><br>\n",
        "$$ \\text{P(cara sea par)}=\\text{P}(\\{ 2, 4, 6 \\})= \\frac{1}{2} $$<br><br>\n",
        "$$ \\text{P(cara tenga 4 puntos o menos)}=\\text{P}(\\{ 1,2,3, 4 \\})= \\frac{2}{3} $$<br><br>\n",
        "$$ \\text{P(cara sea par y tenga 4 puntos o menos)}=\\text{P}(\\{ 2, 4, 6 \\} \\cap\\{ 1,2,3, 4 \\})= \\frac{1}{3} $$<br><br>\n",
        "$$ \\text{P(cara sea par | tiene 4 puntos o menos)}=\\frac{\\text{P}(\\{ 2, 4, 6 \\} \\cap\\{ 1,2,3, 4 \\})}{\\text{P}(\\{ 1,2,3, 4 \\})}= \\frac{1}{2} $$<br><br>\n",
        "Los eventos son independientes.<br><br>\n",
        "¿Cuál es la probabilidad de que la cara que salga sea par si se sabe que ha salido una cara impar? $\\text{P}(\\{2,4,6 \\} | \\{1,3,5\\})=0$.<br><br>\n",
        "A partir de aquí usaremos $P$ o $\\text{P}$ indistintamente para designar a la función de probabilidad (ya que no haremos mención al conjuto $P(\\Omega)$).\n",
        "\n",
        "\n",
        "\n",
        "</p>"
      ],
      "metadata": {
        "id": "MZuOsNaygozQ"
      }
    },
    {
      "cell_type": "markdown",
      "source": [
        " # **<font color=\"DeepPink\">Variable Aleatoria</font>**"
      ],
      "metadata": {
        "id": "8cEQ-SYCu7dl"
      }
    },
    {
      "cell_type": "markdown",
      "source": [
        " <p align=\"justify\">\n",
        "<strong>Definición</strong><br><br>\n",
        "Dado un espacio muestral $\\Omega$, una Variable Aleatoria (V.A.) $X$ es una función que asigna a cada elemento $\\omega$ de $\\Omega$ un número real: <br><br>$$X:\\Omega \\to R$$<br><br>\n",
        "Una V.A. lo que hace es renombrar los elementos del conjunto $\\Omega$ con números reales. Por ejemplo, dado el experimento de lanzar una moneda y ver si sale cara o seca, definimos la V.A. $X$ como:<br><br>\n",
        "$$ X(\\omega) = \\begin{cases} 0 \\quad \\text{si } \\omega = \\text{seca} \\\\ 1 \\quad \\text{si } \\omega = \\text{cara} \\end{cases} $$<br><br>\n",
        "Cuando sea posible y no genere duda alguna vamos definir a una V.A. en forma coloquíal. Por ejemplo, se sabemos que el experimento tiene solo dos resultados posibles:<br><br>\n",
        "$$ X\\text{: 1 si sale cara.} $$<br><br>\n",
        "Otros ejemplos:<br><br>\n",
        "$$ Y\\text{: número de puntos que tiene la cara del dado.} $$<br><br>\n",
        "$$ Z\\text{: salario percibido en un mes determinado.} $$<br><br>\n",
        "Las variables aleatorias pueden ser discretas o continuas:<br><br>\n",
        "Una viariable aleatoria es discreta si su dominio $(\\Omega)$ es finito o infinito numerable. Ejemplos de V.A. dicretas (V.A.D.):<br><br>\n",
        "$$ X\\text{: 1 si sale cara.} $$<br><br>\n",
        "$$ Y\\text{: Cantidad de autos que pasan por día por la calle Perú.} $$<br><br>\n",
        "Una viariable aleatoria es continua si su dominio $(\\Omega)$ es infinito no numerable (continuo). Ejemplos de V.A. Continuas (V.A.C.):<br><br>\n",
        "$$ Z\\text{: salario percibido en un mes determinado.} $$<br><br>\n",
        "$$ W\\text{: velocidad a la que se desplaza un auto.} $$<br><br>\n",
        "Vamos a estudiar V.A. que pueden ser racionales, ordinales o nominales. Para las variables aleatorias que son racionales tiene sentido preguntarse distancias y proporciones entre distintos resultados posibles. Por ejemplo si estamos estudiando la velocidad a la que se desplaza un auto podemos determinar que un auto que se desplaza a $20$ km/h se mueve el doble de rápido que un auto que se desplaza a $10$ km/h.<br><br>\n",
        "Para V.A. ordinales esto no tiene sentido. Este tipo de variables aleatorias determina que \"más es mejor (o peor)\" pero no podemos establecer una distancia entre un resultado posible y otro. Por ejemplo, estamos estudiando la percepción por parte de una persona de la calidad de un servicio:<br><br>\n",
        "$$ X(\\omega) = \\begin{cases} 1 \\quad \\text{si } \\omega= \\text{Malo} \\\\  2 \\quad \\text{si } \\omega= \\text{Regular}  \\\\ 3 \\quad \\text{si } \\omega= \\text{Bueno} \\\\ 4 \\quad \\text{si } \\omega= \\text{Muy Bueno} \\\\  5 \\quad \\text{si } \\omega= \\text{Excelente} \\end{cases} $$ <br><br>\n",
        "Finalmente, las V.A. nominales solo establecen un nombre. En este caso más no significa nada. Estamo estudiando a que candidato va a votar una detreminada persona:<br><br>\n",
        "$$ Y(\\omega) = \\begin{cases} 1 \\quad \\text{si } \\omega= \\text{Candidato A} \\\\  2 \\quad \\text{si } \\omega= \\text{Candidato B}  \\\\ 3 \\quad \\text{si } \\omega= \\text{Candidato C} \\ \\end{cases} $$ <br><br>\n",
        "En relación a las V.A. es importante tener claro el concepto de <strong>conjunto imagen</strong>. El conjunto imagen de una V.A es el conjunto de valores dentro de los números reales que efectivamente toma la V.A. y se denota $X(\\Omega)$. Para el caso de la V.A. $Y$ que nomina los candidatos de un proceso electoral, el codominio de la V.A. es el conjunto de todos los números reales mientras que el conjunto imagen de $Y$ es $Y=\\{ 1,2,3 \\}$. La notación será relevante para el caso de V.A. discretas.<br><br>\n",
        "<strong>Algunas Propiedades</strong><br><br>\n",
        "Sean $X$ e $Y$ variables aleatorias y $c$ una constante:<br><br>\n",
        "1. La función $X=c$ es una V.A.<br><br>\n",
        "2. $cX$ es una V.A.<br><br>\n",
        "3. $X+Y$ es una V.A.<br><br>\n",
        "4. $XY$ es una V.A.<br><br>\n",
        "5. $X/Y$ es una V.A. siempre que $Y \\neq 0$.<br><br>\n",
        "6. $X \\circ Y$ es una V.A:<br><br>\n",
        "6. Sea $g:R \\to R$ una función, $g(X)$ es una V.A.<br><br>\n",
        "\n",
        "\n",
        "</p>"
      ],
      "metadata": {
        "id": "UXl5ZyievoTV"
      }
    },
    {
      "cell_type": "markdown",
      "source": [
        " <p align=\"justify\">\n",
        "<strong>Función de distribución acumulativa:</strong><br><br>\n",
        "Dado un espacio de probabilidad y $X$ una V.A. definida sobre el espacio muestral de dicho espacio de probabilidad $\\Omega$. Se llama función de distribución acumulativa (f.d.a.) de $X$ a la función:<br><br>\n",
        "$$ F_X:R \\to [0,1]/F_X(x)=P(X \\leq x) $$<br><br>\n",
        "La expresión $P(X \\leq x)$ se lee \"probabilidad que la V.A. $X$ tome valores menores o iguales al número (real) $x$\".<br><br>\n",
        "Propiedad 1: $F_X$ toma valores positivos o cero.<br><br>\n",
        "Propiedad 2: es no decreciiente.<br><br>\n",
        "Propiedad 3: $\\lim_{x\\to -\\infty}F_X(x)=0 \\quad \\wedge \\quad \\lim_{x\\to \\infty}F_X(x)=1$<br><br>\n",
        "<strong>Función densidad de probabilidad</strong><br><br>\n",
        "Sea $X$ una V.A. definida sobre un espacio de probabilidad. Llamamos la función densidad de probabilidad (f.d.p.) de $X$ a la función:<br><br>\n",
        "$$ f_X:R \\to [0,1]/f_X(x)=P(X=x) \\text{ si }X\\text{ es una V.A.D.} $$<br><br>\n",
        "$$ f_X:R \\to R \\text{ } \\text{ tal que } \\text{ }F_X(x)=\\int_{-\\infty}^{x}f_X(t)dt \\text{ } \\text{ si }X\\text{ es una V.A.C.} $$<br><br>\n",
        "Para el caso de V.A.D. la desidad representa la probabilidad de que la $X$ tome algún valor específico. Para V.A.C. la densidad es la derivada de la función de dsitribución acumulativa.<br><br>\n",
        "Relación entre las funciones densidad y acumulativa:<br><br>\n",
        "$$ F_X(x)=P(X \\leq x)=\\sum_{x_j \\leq x} P(X=x_j) = \\sum_{x_j \\leq x} f_X(x) \\quad \\text{si }X\\text{ es V.A.D.}  $$\n",
        "$$ F_X(x)=P(X \\leq x)= \\int_{-\\infty}^{x} f_X(t)dt \\qquad \\text{si }X\\text{ es V.A.C.}  $$<br><br>\n",
        "En general, vamos a usar la densidad para el cálculo de probabilidades. Para el caso de variables aleatorias discretas:<br><br>\n",
        "$$ P(X=a)=f_X(a) $$<br><br>\n",
        "$$ P(a \\leq X \\leq b) = \\sum_{a \\leq x_j \\leq b } f_X(x_j) $$<br><br>\n",
        "Para V.A. continuas:\n",
        "$$ P(X=a)=0 $$<br><br>\n",
        "$$ \\int_{-\\infty}^{\\infty} f_X(x)dt = 1 $$<br><br>\n",
        "$$ P(a \\leq X \\leq b) = \\int_{a}^{b} f_X(x)dx $$<br><br>\n",
        "Ejemplo:<br><br>\n",
        "1. Sea X una V.A.C. cuya densidad viene dada por:<br><br>\n",
        "$$ f_X(x) = \\frac{1}{\\sqrt{2 \\times 4 \\times \\pi}}e^{-\\frac{(x-3)^2}{2\\times 4}} $$<br><br>\n",
        "Grafiquemos la función densidad, la acumulada y calculemos la $P(2 \\leq X \\leq 3)$.\n",
        "\n",
        "\n",
        "\n",
        "</p>"
      ],
      "metadata": {
        "id": "tvrpu_IYQBbB"
      }
    },
    {
      "cell_type": "code",
      "source": [
        "def fX(x):\n",
        "  return 1/(2*np.sqrt(2*np.pi)) * np.e**(-((x - 3)**2)/(8))"
      ],
      "metadata": {
        "id": "hsCUjW0iXr-Q"
      },
      "execution_count": null,
      "outputs": []
    },
    {
      "cell_type": "code",
      "source": [
        "X = np.linspace(-4, 10, 1000)\n",
        "\n",
        "fig, ax = plt.subplots(figsize=(9,6))  #creamos una figura vacía\n",
        "ax.plot(X, fX(X), label='$f_X$', color='green')\n",
        "ax.legend()\n",
        "plt.show"
      ],
      "metadata": {
        "id": "e186-0H-fQen"
      },
      "execution_count": null,
      "outputs": []
    },
    {
      "cell_type": "code",
      "source": [
        "sc.integrate.quad(fX, -1000, 3)[0]"
      ],
      "metadata": {
        "id": "8x9mxVDUiiZc"
      },
      "execution_count": null,
      "outputs": []
    },
    {
      "cell_type": "code",
      "source": [
        "def FX(x):\n",
        "  return sc.integrate.quad(fX, -1000, x)[0]"
      ],
      "metadata": {
        "id": "S7V7K1Tjf9SH"
      },
      "execution_count": null,
      "outputs": []
    },
    {
      "cell_type": "code",
      "source": [
        "X = np.linspace(-5, 10, 1000)\n",
        "Y = []\n",
        "for x in X:\n",
        "  Y.append(FX(x))\n",
        "\n",
        "fig, ax = plt.subplots(figsize=(9,6))  #creamos una figura vacía\n",
        "ax.plot(X, Y, label='$F_X$ distribución normal', color='green')\n",
        "ax.legend()\n",
        "plt.show"
      ],
      "metadata": {
        "id": "7PYfimwhgwFg"
      },
      "execution_count": null,
      "outputs": []
    },
    {
      "cell_type": "code",
      "source": [
        "def P(a,b):\n",
        "  return sc.integrate.quad(fX, a, b)[0]\n",
        "P(2,3)"
      ],
      "metadata": {
        "id": "vV3OpMG2lEHI"
      },
      "execution_count": null,
      "outputs": []
    },
    {
      "cell_type": "markdown",
      "source": [
        " <p align=\"justify\">\n",
        "2. Sea Y una V.A.X. cuya densidad viene dada por:<br><br>\n",
        "$$ f_Y(x) = \\frac{e^{-4} 4^{x}}{x!}I_{N}(x) $$<br><br>\n",
        "Grafiquemos la función densidad, la acumulada y calculemos la $P(2 \\leq X \\leq 3)$.<br><br>\n",
        "Nota: La función $I_A$ se denomina función indicadora del conjunto $A$ y su regla es $I_A(x)=1$ si $x \\in A$ y $I_A(x)=0$ si $x \\notin A$.\n",
        "\n",
        "\n",
        "\n",
        "</p>"
      ],
      "metadata": {
        "id": "0ViIkHc7ssS6"
      }
    },
    {
      "cell_type": "code",
      "source": [
        "import math\n",
        "\n",
        "def fY(x):\n",
        "  y = int(x)\n",
        "  if y - x == 0 and y>= 0:\n",
        "    return (np.e**(-4) * 4**y)/math.factorial(y)\n",
        "  else:\n",
        "    return 0"
      ],
      "metadata": {
        "id": "IpwQEEUYlj64"
      },
      "execution_count": null,
      "outputs": []
    },
    {
      "cell_type": "code",
      "source": [
        "X = np.linspace(0,10,11)\n",
        "Y = []\n",
        "for x in X:\n",
        "  Y.append(fY(x))\n",
        "\n",
        "fig, ax = plt.subplots(figsize=(9,6))  #creamos una figura vacía\n",
        "ax.plot(X, Y, \"o\" , label='$f_Y$ distribución poisson', color='red') #usamos 'o' para que solo marque los puntos \n",
        "ax.legend()\n",
        "plt.show"
      ],
      "metadata": {
        "id": "PBzKh_oUud1A"
      },
      "execution_count": null,
      "outputs": []
    },
    {
      "cell_type": "code",
      "source": [
        "def FY(x):\n",
        "  y = int(x)\n",
        "  FY = 0\n",
        "  for t in list(range(y+1)):\n",
        "    FY += fY(t)\n",
        "  return FY"
      ],
      "metadata": {
        "id": "gtVO8j2TvMOJ"
      },
      "execution_count": null,
      "outputs": []
    },
    {
      "cell_type": "code",
      "source": [
        "X = np.linspace(0,10,1000)\n",
        "Y = []\n",
        "for x in X:\n",
        "  Y.append(FY(x))\n",
        "\n",
        "fig, ax = plt.subplots(figsize=(9,6))  #creamos una figura vacía\n",
        "ax.plot(X, Y ,  marker=\"o\", label='$F_Y$ distribución poisson', color='red') \n",
        "ax.legend()\n",
        "plt.show"
      ],
      "metadata": {
        "id": "dyUKapfrxGqP"
      },
      "execution_count": null,
      "outputs": []
    },
    {
      "cell_type": "markdown",
      "source": [
        "Nota: La función densidad de una V.A. siempre toma valores mayores o iguales a 0."
      ],
      "metadata": {
        "id": "bObw4u7Wz91V"
      }
    },
    {
      "cell_type": "markdown",
      "source": [
        " # **<font color=\"DeepPink\"> Mediana, Media, Varianza y Moda</font>**"
      ],
      "metadata": {
        "id": "uDVmfX_Z0Mkk"
      }
    },
    {
      "cell_type": "markdown",
      "source": [
        " <p align=\"justify\">\n",
        "<strong>Definición de Mediana de una V.A.</strong><br><br>\n",
        "Sea $X$ un variable aleatoria definida sobre un espacio de probabilidad, la mediana de $X$ a la que denotamos $x_{0.5}$ es el menor valor $x$ de la V.A. que cumple:<br><br>\n",
        "$$ P(X \\leq x) = F_X(x) \\geq 0,5 $$<br><br>\n",
        "Si bien la expresión anterior es general, es principalmente utilizada para V.A. dicretas. Para las V.A. continuas podemos definir la mediana como el valor de $x$ que resuelve la ecuación:<br><br>\n",
        "$$ P(X \\leq x) = F_X(x) = 0,5 $$<br><br>\n",
        "Busquemos la mediana para las variables aleaorias antes estudiadas.\n",
        "</p>"
      ],
      "metadata": {
        "id": "-wVLnsDm0Rtk"
      }
    },
    {
      "cell_type": "code",
      "source": [
        "#Mediana para X\n",
        "FX(0),FX(6) "
      ],
      "metadata": {
        "id": "TfDdTwOY2TdG"
      },
      "execution_count": null,
      "outputs": []
    },
    {
      "cell_type": "code",
      "source": [
        "#Mediana para Y\n",
        "FY(3),FY(4)"
      ],
      "metadata": {
        "id": "bq4q4jrP2dcB"
      },
      "execution_count": null,
      "outputs": []
    },
    {
      "cell_type": "markdown",
      "source": [
        " <p align=\"justify\">\n",
        "La mediana de $X$ es $x_{0,5}=3$ y la mediana de $Y$ es $y_{0,5}=4$.<br><br>\n",
        "Intuitivamente la mediana divide a la V.A. en dos porciones con la misma probabilidad (o lo más cerca de eso).<br><br>\n",
        "<strong>Esperanza de una variable aleatoria</strong><br><br>\n",
        "Dado un espacio de probabilidad y $X$ una V.A. definida sobre el mismo con función densidad $f_X$. Se llama media (o esperanza) de $X$ al valor (si existe):<br><br>\n",
        "$$ E(X) = \\sum_{x_j \\in X(\\Omega)}x_j f(x_{j}) \\quad \\text{si }X \\text{ es V.A.D.}$$<br><br>\n",
        "$$ E(X) = \\int_{-\\infty}^{\\infty}xf_X(x)dx \\quad \\text{si }X \\text{ es V.A.C.}$$<br><br>\n",
        "En general denotamos a la esperanza de $X$ como $E(X)$, $\\mu$ o $\\mu_X$. En todos los casos tenemos que recordar que la esperanza representa un valor fijo, una constante.<br><br>\n",
        "Calculemos la esperenza de $X$ e $Y$ para nuestro ejemplo.\n",
        "</p>"
      ],
      "metadata": {
        "id": "jSRTaVLX27oe"
      }
    },
    {
      "cell_type": "code",
      "source": [
        "#Esperanza de X\n",
        "xfx = lambda x: x*fX(x)\n",
        "EX = sc.integrate.quad(xfx, -np.inf, np.inf)[0]\n",
        "EX"
      ],
      "metadata": {
        "id": "ZO3GTRCY21HI"
      },
      "execution_count": null,
      "outputs": []
    },
    {
      "cell_type": "code",
      "source": [
        "#Esperanza de Y\n",
        "n = 10\n",
        "Y = np.linspace(0,n,n+1)\n",
        "sum = 0\n",
        "for y in Y:\n",
        "  sum += y*fY(y)\n",
        "sum"
      ],
      "metadata": {
        "id": "pflCwxv-6s7H"
      },
      "execution_count": null,
      "outputs": []
    },
    {
      "cell_type": "markdown",
      "source": [
        " <p align=\"justify\">\n",
        "<strong>Interpretación</strong>:\n",
        "intuitivamente, la mediana es el punto que deja el mismo peso de un lado de la distribución y del otro mientras  que la media es el punto que equilibra la distribución según el peso y la distancia entre todos los puntos.<br><br>\n",
        "Si la distribución es <strong>simétrica (respecto de su media)</strong>, ambos valores coinciden.\n",
        "</p>"
      ],
      "metadata": {
        "id": "GIGMsXRxs35B"
      }
    },
    {
      "cell_type": "markdown",
      "source": [
        "<p align=\"center\">\n",
        "<img src=\"https://github.com/cristiandarioortegayubro/BDS/blob/main/images/Probabilidad-005.png?raw=true\" width=\"600\" height=\"\">\n",
        "</p>\n"
      ],
      "metadata": {
        "id": "mqYTvyJ-1P_S"
      }
    },
    {
      "cell_type": "markdown",
      "source": [
        " Pero si no es simétrica:"
      ],
      "metadata": {
        "id": "Qmg_1c0vuMWZ"
      }
    },
    {
      "cell_type": "markdown",
      "source": [
        "<p align=\"center\">\n",
        "<img src=\"https://github.com/cristiandarioortegayubro/BDS/blob/main/images/Probabilidad-006.png?raw=true\" width=\"600\" height=\"\">\n",
        "</p>\n"
      ],
      "metadata": {
        "id": "r3XMC3Nv1a0Z"
      }
    },
    {
      "cell_type": "markdown",
      "source": [
        " <p align=\"justify\">\n",
        "Sea $X$ una variable aleatoria (discreta o continua) y sea $g$ una función definida de reales en reales. Dado que $g(X)$ es una variables aleatoria, su media viene dada por:<br><br>\n",
        "$$ E(g(X)) = \\sum_{x_j \\in X(\\Omega)} g(x_j)f_X(x_j) \\quad \\text{si }X \\text{ es V.A.D.} $$<br><br>\n",
        "$$ E(g(X)) = \\int_{-\\infty}^{\\infty} g(x)f_X(x)dx \\quad \\text{si }X \\text{ es V.A.C.} $$<br><br>\n",
        "Un caso importante viene dado por $g(X)=(X-\\mu)^2$, donde $\\mu = E(X)$. <br><br>\n",
        "Sea $X$ una V.A., a $E\\bigg[ (X-\\mu)^2 \\bigg]$ la llamamos varianza de $X$ y es una medida de la disperción de $X$ en torno a su media. En general la denotamos $\\text{var}(X)$ o $\\sigma^2_X$. Dos puntos importantes respecto a la varianza:<br><br>\n",
        "1. Forma de cálculo: $\\text{var}(X)=E(X^2) - \\Big(E(X) \\Big)^2$.<br><br>\n",
        "2. Mientras que $E(X)$ se mide en las mismas unidades que los valores que toma $X$, la varianza se mide en otras unidades, por lo que su valor no se puede comparar directamente con las unidades de $X$. En cambio, si podemos comparar $\\sqrt{\\text{var}(X)} = \\sigma$ con los valores que toma $X$. A $\\sigma$ la llamamos desviación estandar de $X$.<br><br>\n",
        "3. Puede no existir, o más bien ser infinita.<br><br>\n",
        "Calculemos varianza y desvío estandar para las variables $X$ e $Y$ de nuestro ejemplo.\n",
        "\n",
        "</p>"
      ],
      "metadata": {
        "id": "x-qw9grpumEu"
      }
    },
    {
      "cell_type": "code",
      "source": [
        "#Varianza de X\n",
        "x2fx = lambda x: x**2 * fX(x)\n",
        "varX = sc.integrate.quad(x2fx, -np.inf, np.inf)[0] - (sc.integrate.quad(xfx, -np.inf, np.inf)[0])**2\n",
        "varX, np.sqrt(varX)"
      ],
      "metadata": {
        "id": "_CdObFXevPdV"
      },
      "execution_count": null,
      "outputs": []
    },
    {
      "cell_type": "code",
      "source": [
        "#Varianza de Y\n",
        "n = 100\n",
        "Y = np.linspace(0,n,n+1)\n",
        "sum1 = 0\n",
        "for y in Y:\n",
        "  sum1 += y*fY(y)\n",
        "\n",
        "sum2 = 0\n",
        "for y in Y:\n",
        "  sum2 += y**2 * fY(y)\n",
        "\n",
        "varY = sum2 - sum1**2\n",
        "varY, np.sqrt(varY)"
      ],
      "metadata": {
        "id": "WhT_R6_RvnDl"
      },
      "execution_count": null,
      "outputs": []
    },
    {
      "cell_type": "markdown",
      "source": [
        " <p align=\"justify\">\n",
        "Sea $X$ una V.A. definida sobre un espacio de probabilidad. Se denomina momento no centrado de orden $r$ de $X$ a:<br><br>\n",
        "$$ \\mu_r = E(X^r) $$<br><br>\n",
        "Sea $X$ una V.A. definida sobre un espacio de probabilidad. Se denomina momento centrado de orden $r$ de $X$ a:<br><br>\n",
        "$$ \\mu_r' = E\\Big[ (X-\\mu)^r \\Big] $$<br><br>\n",
        "Los distintos momentos de una V.A. dan información relativa a como se distribuye una variable aleatoria.<br><br>\n",
        "1. Cuál es su valor central $\\mu_1$.<br>\n",
        "2. Qué tan dispersa es la distribución en relación a su valor central $\\mu'_2$.<br>\n",
        "3. Qué tan simétrica es la distribución.<br>\n",
        "4. Cuál es su curtosis.<br><br>\n",
        "No siempre existen todos los momentos (centrados o no centrados) de una V.A. pero si existe un momento de orden $r$ entonces existen todos los momentos de ordenes menores a $r$.<br><br>\n",
        "<strong>Moda de una variable aleatoria</strong><br><br>\n",
        "Sea $X$ una V.A. definida sobre un espacio de probabilidad con función densidad $f_X$. La moda de $X$ viene dada por el valor $x \\in X(\\Omega)$ que resuelve el problema:<br><br>\n",
        "$$ \\max_{x}f_X(x) $$<br><br>\n",
        "Para V.A.D. la moda representa el valor más probable. Para V.A.C. la moda es un máximo relativo en la función densidad. También puede interpretarse como el valor central del intervalo $(x - \\Delta x ; x + \\Delta x)$ más probable.<br><br>\n",
        "Para las V.A. $X$ e $Y$ estudiadas nos basta observar el gráfico de sus funciones densidad para saber que la moda de $X$ es $3$ y que $Y$ tiene dos valores modales $3$ y $4$.\n",
        "\n",
        "</p> \n"
      ],
      "metadata": {
        "id": "CBATVh7SwHif"
      }
    },
    {
      "cell_type": "markdown",
      "source": [
        " <p align=\"justify\">\n",
        "<strong>Modelos para Variables Aleatorias</strong><br><br>\n",
        "<strong>Para Variables Aleatorias Discretas</strong>:<br><br>\n",
        "<strong>Distribución Bernoulli</strong>: Si $X:\\Omega \\to \\{ 0,1 \\}$ tal que $P(X=1)=\\pi$ y $P(X=0) = 1-\\pi$ decimos que $X$ tiene distribución Bernoulli con parámetro $\\pi$.<br><br>\n",
        "La función densidad de $X$ viene dada por:<br><br>\n",
        "$f_{X}(x)=\\pi^{x}(1-\\pi)^{1-x} I_{ \\{0,1\\} }(x) \\quad \\text{o} \\quad f_X(x)= \\begin{cases} \\pi \\quad \\quad \\text{ } \\text{ si $x=1$} \\\\ 1-\\pi \\quad \\text{si $x=0$} \\\\ 0 \\qquad \\text{ } \\text{ cualquier otro caso} \\end{cases}$.<br><br>\n",
        "Si $X \\sim \\text{Bernoulli}(\\pi)$ ($X$ se distribuye Bernoulli con parámetro $\\pi$) entonces $E(X) = \\pi$ y $\\text{var}(X)=\\pi(1-\\pi)$.<br><br>\n",
        "El modelo Bernoulli se utiliza para cualquier V.A. discreta que tenga dos posibles resultados a los que en general denominamos 'éxito' y 'fracaso'. El parámetro $\\pi$ representa la probabilidad de éxito.<br><br>\n",
        "De este modelo derivan otros relacionados como lo son:<br><br>\n",
        "1. Modelo Binomial: se utiliza para estudiar la probabilidad de obtener $x$ éxitos al repetir $n$ veces un experimento que tiene solo dos posibles resultados, éxito o fracaso.<br><br>\n",
        "2. Modelo geométrico: se utiliza para estudiar la posibilidad de obtener el primer éxito después de haber repetido el experimento una cantidad $x$ de veces.<br><br>\n",
        "<strong>Distribución Poisson:</strong> $X$ tiene distribución Poisson si representa el número de veces que ocurre un suceso por unidad de tiempo, area, volumen, etc. Este modelo considera que no pueden ocurrir dos eventos simultaneamente, que el numéro esperado de eventos es constante y que el número de ocurrencias es independiente de la unidad de tiempo, area, etc. <br><br>Ejemplo, la cantidad de autos que pasa por la esquina de San Martín y Colón en Mendoza cada día laboral.<br><br>\n",
        "Si $X \\sim \\text{Poisson}(\\lambda)$ su función densidad viene dada por:<br><br>\n",
        "$$ f_X(x)= \\frac{e^{-\\lambda} \\lambda^x}{x!}I_{N}(x) $$<br><br>\n",
        "Y se cumple que $E(X) = \\text{var}(X)=\\lambda$.<br><br>\n",
        "<strong>Distribución uniforme discreta:</strong> este es el caso del dado, existen $n$ posibles resultados y todos tienen probabilidad $1/n$.<br><br>\n",
        "<strong>Para Variables Aleatorias Discretas</strong>:<br><br>\n",
        "<strong>Distribución uniforme continua:</strong> Decimos que $X$ tiene distribución uniforme en el intervalo $[a,b]$ si su función densidad viene dada por:<br><br>\n",
        "$$ f_X(x)=\\frac{1}{b-a}I_{[a,b]}(x) \\quad \\text{ o } \\quad f_X(x)=\\begin{cases} \\frac{1}{b-a} \\text{ si $x\\in[a,b]$} \\\\ 0 \\quad \\text{ otro caso} \\end{cases} $$<br><br>\n",
        "Lo denotamos $X \\sim U[a,b]$. Para esta distribución $a$ y $b$ son los parámetros que la determinan.<br><br>\n",
        "$$ E(X)=\\frac{a+b}{2} \\quad \\text{y} \\quad \\text{var}(X)=\\frac{(b-a)^2}{12} $$<br><br>\n",
        "<strong>Distribución normal o gaussiana:</strong> Decimos que $X$ tiene distribución normal con parámetros $\\mu$ y $\\sigma^2$ si su función densidad viene dada por:<br><br>\n",
        "$$ f_X(x) = \\frac{1}{\\sqrt{2 \\times \\sigma^2 \\times \\pi}}e^{-\\frac{(x-\\mu)^2}{2\\times \\sigma^2}} $$<br><br>\n",
        "Lo denotamos $X \\sim N(\\mu, \\sigma^2)$<br><br>\n",
        "Esta distribución es simétrica respecto de $\\mu$, por este motivo $\\mu$ coincide con la media y la mediana de la distribución. Además, $\\mu$ es la moda de $X$. Finalmente, $\\text{var}(X)=\\sigma^2$ y $\\sigma$ es la desvición estandar de $X$.<br><br>\n",
        "<strong>Propiedad</strong>: si $X \\sim N(\\mu, \\sigma^2)$ entonces:\n",
        "$$ Z = \\frac{X-\\mu}{\\sigma} \\sim N(0,1) $$.<br><br>\n",
        "La variable aleatoria $Z$ se dice que tiene distribución normal estandar y mide la probabilidad de que $X$ se encuentre a cierta cantidad de desvíos estandar de su media.<br><br>\n",
        "Esta propiedad es importante porque si $X \\sim N(\\mu , \\sigma^2)$ se cumple que:<br><br>\n",
        "$$ P(\\mu - \\sigma \\leq X \\leq \\mu + \\sigma) = 0.68 $$<br><br>\n",
        "$$ P(\\mu - 2\\sigma \\leq X \\leq \\mu + 2\\sigma) = 0.95 $$<br><br>\n",
        "$$ P(\\mu - 3\\sigma \\leq X \\leq \\mu + 3\\sigma) = 0.99 $$<br><br>\n",
        "Lo que equivale a:<br><br>\n",
        "$$ P(-1 \\leq Z \\leq 1) = 0.68 $$<br><br>\n",
        "$$ P(-2 \\leq Z \\leq 2) = 0.95 $$<br><br>\n",
        "$$ P(-3 \\leq Z \\leq 3) = 0.99 $$<br><br>\n",
        "Esto se utiliza para hacer comparaciones. Por ejemplo, un estudiante de la facultad A tiene promedio de egreso 8 y otro estudiante de la facultad B tiene promedio de egreso 9. En principio parece que el segundo estudiante es mejor que el primero, pero eso depende de la distribución del promedio de notas en cada facultad. Si ambos promedios se distrubuyen normal, podemos cualcular cuantos desvíos estandar está cada estudiante por enciama o por debajo de su propia media. Si el primer estudiante (de promedio 8) está 2 desvíos estandar por encima de su media y el segundo estudiante esta solo 0,5 desvíos estandar por enciam de su media entonces es más raro (o menos probable) observar un estudiante tan bueno como el primero.<br><br>\n",
        "\n",
        "</p> "
      ],
      "metadata": {
        "id": "ethAEe_dhfLJ"
      }
    },
    {
      "cell_type": "markdown",
      "source": [
        "![image.png](data:image/png;base64,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)"
      ],
      "metadata": {
        "id": "hQO__lhDU-jJ"
      }
    },
    {
      "cell_type": "markdown",
      "source": [
        " <p align=\"justify\">\n",
        "<strong>Nota</strong>: el nombre Normal no se relaciona con la idea coloquial de normalidad que tenemos en la cabeza. Es decir, el nombre normal de la distribución no deriva de la idea que es esperado que una variable aleatoria se distribuya normal.<br><br>\n",
        "<strong>Otras distribuciones</strong>: Existen un conjunto de familias de distribuciones continuas que pueden derivarse unas de otras. Para cada familia de distribución existe un conjunto de parámetros que determian la distribución de probabilidad específica. Para nombrar algunas:<br><br>\n",
        "1. Distribución $t$ de student: Es una distribución simétrica respecto del 0. Su parámetro, $n$, recibe el nombre de grados de libertad y puede tomar cualquier valor natural $n \\in \\{1,2,3,... \\}$. Mientras mayores son los grados de libertad más se parece la distribución $t$ a una normal estandar.<br><br>\n",
        "2. Distribuciones Gamma: sirve para variables aleatorias que toman valores solo positivos. Es una distribución no simétrica respecto de su media (sesgada a izquierda, puesto que la mediana es menor a la media). Se suele utilizar para modelar salarios.<br><br>\n",
        "3. Otras: Chi-cuadrado, F de Fischer, Beta, etc.\n",
        "\n",
        "\n",
        "\n",
        "</p>\n",
        "\n"
      ],
      "metadata": {
        "id": "E32DBZXgUtx2"
      }
    },
    {
      "cell_type": "markdown",
      "source": [
        " # **<font color=\"DeepPink\"> Distribuciones conjuntas</font>**"
      ],
      "metadata": {
        "id": "zVvrNINaXZji"
      }
    },
    {
      "cell_type": "markdown",
      "source": [
        " <p align=\"justify\">\n",
        "En general estamos interesados en estudiar, no una única V.A., si no un conjunto de V.A. que de alguna forma se relacionan. Por ejemplo, nos interesa saber como se relacionan los años de estudio de una persona con el ingreso de esa misma persona.<br><br>\n",
        "Dadas dos V.A. $X$ e $Y$, la función densidad de probabilidad $f_{XY}$ describe la relación de probabilidades del vector aleatorio $(X,Y)$. Si ambas V.A. son discretas se cumple que:<br><br>\n",
        "$$ P(X=a \\wedge Y=b)=f_{XY}(a,b) $$<br><br>\n",
        "Si ambas V.A. son continuas se cumple que:<br><br>\n",
        "$$ P(a \\leq X \\leq b \\wedge c \\leq Y \\leq d) = \\int_{c}^{d} \\int_{a}^{b}f_{XY}(x,y)dydx$$.<br><br>\n",
        "De la densidad $f_{XY}$ podemos recuperar la función densidad de $X$ y de $Y$ para hacer cálculos de esperanza y varianza para cada variable individual. Pero necesitamos la distribución conjunta para definir la covarianza entre $X$ e $Y$ cuya forma de cálculo viene dada por:<br><br>\n",
        "$$ \\text{cov}(X,Y)=E(XY) - E(X)E(Y) $$<br><br>\n",
        "Con la covarianza de $X$ e $Y$ podemos calcular el coeficiente de correlación entre $X$ e $Y$:<br><br>\n",
        "$$ \\rho_{XY}=\\frac{\\text{cov}(X,Y)}{\\sigma_{X}\\sigma_{Y}} $$<br><br>\n",
        "El coeficiente de correlación entre dos variables mide el grado de asociación lineal entre las mismas.<br><br>\n",
        "1. Si el coeficiente es positivo nos dice que cuando $X$ toma valores mayores $Y$ tiende a tomar valores mayores.<br><br>\n",
        "2. Si el coeficiente es negativo nos dice que cuando $X$ toma valores menores $Y$ tiende a tomar valores menores.<br><br>\n",
        "3. Si el coeficiente es cero no hay relación lineal (pero podría haber otro tipo de relación).<br><br>\n",
        "<strong>Variables Aleatorias independientes y condicionadas</strong><br><br>\n",
        "Dos variables aleatorias, $X$ e $Y$, son independientes cuando $f_{XY}(x,y)=f_X(x) \\times f_{Y}(y)$<br><br>Esto quiere decir que si $X$ e $Y$ son independientes da igual estudiar cada V.A. por separado o en conjunto.<br><br>\n",
        "Si $X$ e $Y$ son independientes entonces el coeficiente de correlación será cero:<br><br>\n",
        "$$ X,Y\\text{ independientes }\\to \\rho_{XY}=0 $$<br><br>\n",
        "Dadas dos V.A. $X$ e $Y$ con densidad conjunta $f_{XY}$ podemos definir una nueva V.A., \"$X$ dado que $Y$ toma el valor $y_0$\" y la denotamos $X|Y=y_0$. Esta nueva V.A. nos sirve para estudiar como se distribuye $X$ cuando la variable aleatoria $Y$ toma un detreminado valor fijo. Por ejemplo, podemos estudiar la V.A. ingreso de una persona dado que tiene 12 años de estudio.<br><br>\n",
        "La nueva V.A. $X|Y=y_0$ tiene su propia densidad la cual se construye a partir de la densidad conjunta y de la densidad de Y. También tendrá su propia esperanza y su propia varianza.<br><br> Más aún, tendremos una $E(X|Y=y_0)$ para cada valor que pueda tomar la V.A. $Y$. A $E(X|Y)$ la llamamos esperanza de $X$ condicional a $Y$ y es una función del valor que considero para $Y$. <br><br>\n",
        "Si $X$ e $Y$ son independientes entonces la función densidad de $X|Y=y_0$ es igual a la función densidad de $X$ (sin condicionar), sea cual sea el valor $y_0$ considerado. Esto quiere decir que no gano información al condicionar la V.A. $Y$.\n",
        "\n",
        "\n",
        "\n",
        "\n",
        "\n",
        "\n",
        "</p>"
      ],
      "metadata": {
        "id": "-EwnafTglatq"
      }
    },
    {
      "cell_type": "markdown",
      "source": [
        " # **<font color=\"DeepPink\"> Regla de predicción</font>**\n"
      ],
      "metadata": {
        "id": "hYJCoUGvuQYi"
      }
    },
    {
      "cell_type": "markdown",
      "source": [
        "<p align=\"justify\">\n",
        "En general, estamos interesados en \"predecir\" el resultado de una V.A. $X$. Queremos saber que va a pasar. Una regla de predicción es una función $p$ que toma una variable aleatoria y nos devuelve un número que podemos interpretar como el resultado que va a tomar la variable aleatoria $X$ cuando se realice el experimento (\"es el valor por el que apuesto\").<br><br>\n",
        "Ejemplo: $X$ es una V.A. que solo puede tomar valor $0$ o $1$ y de la cual sabemos que $P(X=1)=0.9$ y $P(X=0)$. Mi regla de predicción sería:<br><br>\n",
        "$$ p(X)=1 $$<br><br>\n",
        "Cuando realice el experimento asociado a la V.A. $X$ el resultado será $1$. ¿Por qué elegí este valor y no $0$?<br><br>\n",
        "¿Cómo determino reglas de decisión que tengan sentido? Respuesta: optimizando.<br><br>\n",
        "Nuestra primera regla propuesta fue elegir el valor más probable para la V.A. $X$. Es una regla que tiene sentido, que puede ser buena en algunos casos y no tanto en otros. En general la <strong>regla consiste en asignar a una V.A. cualquiera su moda</strong>, es decir buscar el valor que maximiza la función densidad de $X$.<br><br>\n",
        "Otra forma de buscar una regla es proponer una constante $C$ que minimice la \"distancia\" entre la misma constante $C$ y la variable aleatoria $X$. Es decir, vamos a proponer una consttante que se parezca lo más posible a la V.A. <br><br>\n",
        "Si la V.A. es continua y consideramos distancia euclidea, nuestra regla surge de:<br><br>\n",
        "$$ \\min_{C} \\int_{-\\infty}^{\\infty}(x-C)^2f_X(x)dx $$<br><br>\n",
        "Y la solución a este problema es $C = E(X)$. Esta solución es válida para V.A. discretas también.\n",
        "Si la V.A. es continua y consideramos distancia Manhatan, nuestra regla surge de:<br><br>\n",
        "$$ \\min_{C} \\int_{-\\infty}^{\\infty}|x-C|f_X(x)dx $$<br><br>\n",
        "Y la solución a este problema es $C = \\text{mediana de} X$. Esta solución es válida para V.A. discretas también.<br><br>\n",
        "Las 3 reglas vistas son validas cuando condicionamos $X$. Podemos considerar como regla de desición:<br><br>\n",
        "$$ \\text{moda de }X \\text{ condicional a que }Y=y_0 $$<br><br>\n",
        "$$ \\text{esperanza de }X \\text{ condicional a que }Y=y_0 $$<br><br>\n",
        "$$ \\text{mediana de }X \\text{ condicional a que }Y=y_0 $$<br><br>\n",
        "Pueden haber otras.\n",
        "</p>"
      ],
      "metadata": {
        "id": "5euUtHyzuX6E"
      }
    },
    {
      "cell_type": "markdown",
      "source": [
        " # **<font color=\"DeepPink\"> Ejercicios</font>**"
      ],
      "metadata": {
        "id": "bQLhll0j1Zyt"
      }
    },
    {
      "cell_type": "markdown",
      "source": [
        "<p align=\"justify\">\n",
        "<strong>Ejercicio 1: Simulación</strong><br><br>\n",
        "Pedro y Juan tienen 100 dólares cada uno y han dicidido jugar al siguiente juego. Van a tirar una moneda al aire varias veces. En cada tirada si sale cara Juan le paga un dólar a Pedro y si sale seca Pedro le paga un dólar a Juan. El juego termina cuando uno de los dos se queda sin dinero o cuando llegan a la repetición 1000 .<br><br>\n",
        "a. Construya un programa que le permita simular el juego utilizando la función choice del paquete random vista al principio de este collab.<br><br>\n",
        "b. Utilice el programa construido para simular muchas veces el juego, $1000$ o más, y poder así calcular la probabilidad de que uno de los dos se quede con todo el dinero antes de tirar 1000 veces la moneda.<br><br>\n",
        "<strong>Ejercicio 2: Distribución Uniforme</strong><br><br>\n",
        "La variable aleatoria $X$ tiene distribución uniforme en el intervalo $[0,1]$. Utilizando solo Numpy, Matplotlib.pyplot y la función integrate de Scypy debe:<br><br> \n",
        "a. Construir y graficar la función densidad de probabilidad de $X$.<br><br>\n",
        "b. Construir y grafica la función de distribución acumulada de $X$<br><br>\n",
        "c. Calcular Esperanza y Varianza de $X$ comparando los resultados con los establecidos en el modelo teórico. <br><br> \n",
        "d. Calcular la probabilidad de que $X$ tome valores entre $0$ y $0.5$.<br><br>\n",
        "e. <strong>Bonus</strong>: investigue como obtener los mismos resultados utilizando la distribución uniforma que viene en Scypy y compare (uniform).\n",
        "\n",
        "</p>"
      ],
      "metadata": {
        "id": "F_BDdumg1bxh"
      }
    }
  ]
}