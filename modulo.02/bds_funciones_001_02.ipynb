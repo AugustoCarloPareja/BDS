{
  "nbformat": 4,
  "nbformat_minor": 0,
  "metadata": {
    "colab": {
      "provenance": [],
      "include_colab_link": true
    },
    "kernelspec": {
      "name": "python3",
      "display_name": "Python 3"
    },
    "language_info": {
      "name": "python"
    }
  },
  "cells": [
    {
      "cell_type": "markdown",
      "metadata": {
        "id": "view-in-github",
        "colab_type": "text"
      },
      "source": [
        "<a href=\"https://colab.research.google.com/github/cristiandarioortegayubro/BDS/blob/main/modulo.02/bds_funciones_001_02.ipynb\" target=\"_parent\"><img src=\"https://colab.research.google.com/assets/colab-badge.svg\" alt=\"Open In Colab\"/></a>"
      ]
    },
    {
      "cell_type": "markdown",
      "source": [
        "<p align=\"center\">\n",
        "<img src=\"https://github.com/cristiandarioortegayubro/BDS/blob/main/images/Logo%20BDS%20Horizontal%208.png?raw=true\">\n",
        "</p>"
      ],
      "metadata": {
        "id": "Q1YkYciJNCdo"
      }
    },
    {
      "cell_type": "markdown",
      "source": [
        " # **<font color=\"DeepPink\">Resumen encuentro 1</font>**"
      ],
      "metadata": {
        "id": "wwFyqHKENEVj"
      }
    },
    {
      "cell_type": "markdown",
      "source": [
        " <p align=\"justify\">\n",
        "<strong> Teoría </strong><br><br>\n",
        "1. Dada una función $f$ que toma valores reales y devuelve valores reales y un punto $x_0$ del dominio de $f$, la derivada de $f$ evaluada en $x_0$ (si existe) nos dice si $f$ es creciente o decreciente en $x_0$.<br><br>\n",
        "a. Si $f'(x_0)>0$ entonces $f$ es creciente en $x_0$.<br>\n",
        "b. Si $f'(x_0)< 0$ entonces $f$ es decreciente en $x_0$.<br>\n",
        "c. Si $f'(x_0)= 0$ entonces $f$ no crece ni decrece en $x_0$.<br><br>\n",
        "2. Estamos interesados en los puntos donde $f'(x) = 0$ porque $f$ puede tomar un valor máximo o mínimo en esos puntos. Aunque esto puede ocurrir también en puntos donde no existe la derivada de $f$.<br><br>\n",
        "3. Usando la derivada podemos aproximar una función $f$ centrándonos en un punto $x_0$ mediante:<br><br>\n",
        "$$ f(x) \\approx f(x_0) + f'(x_0)(x - x_0) $$<br>\n",
        "El lado izquierdo es la verdadera función cuya gráfica puede tener cualquier forma mientras que el lado derecho, teniendo en cuenta que $f(x_0)$ y $f'(x_0)$ son valores fijo, es una recta. Esta aproximación es buena para puntos \"cercanos\" a $x_0$ y empeora a medida que me alejo de $x_0$. Puede llegar a ser muy mala.<br><br>\n",
        "<strong>Nota</strong> Una función $f$ es lineal si su regla viene dado por una expresión de la forma:<br><br>\n",
        "$$ f(x) = mx + b $$<br><br>\n",
        "donde $m$ y $b$ son constantes. Por ejemplo, mostramos la regla de 3 funciones lineales $f$, $g$ y $h$:<br><br>\n",
        "$$ f(x) = 3x + 4$$<br><br>\n",
        "$$ g(x) = -2x + 4$$<br><br>\n",
        "$$ h(x) = x - 8$$<br><br>\n",
        "Si una función es lineal entonces su gráfica es una linea recta.\n",
        "\n",
        "</p>"
      ],
      "metadata": {
        "id": "egRHTGhCNNbH"
      }
    },
    {
      "cell_type": "code",
      "execution_count": null,
      "metadata": {
        "id": "wVBvd8kvNBEF"
      },
      "outputs": [],
      "source": [
        "#Paquetes utilizados\n",
        "import numpy as np                #Cualquier comando que venga de numpy empezara con \"np.\"\n",
        "import sympy as sp                #Cualquier comando que venga de sympy empezara con \"sp.\"\n",
        "import matplotlib.pyplot as plt   #Cualquier comando que venga de matplotlib.pyplot empezara con \"plt.\""
      ]
    },
    {
      "cell_type": "code",
      "source": [
        "X = np.linspace(3,8,1000)   #X es una  lista de 1000 números igualmente espaciados entre 3 y 8. (único comando de Numpy que vamos a usar por ahora)\n",
        "\n",
        "def f(x):\n",
        "  return x**2               #definimos f como una función que toma un argumento x y devuelve x**2 (devuelve x al cuadrado). Estamos armando un nuevo comando en Python que se llama f.\n",
        "\n",
        "f = lambda x: x**2          #Es igual al código anterior (pero lo resume en una linea), se utiliza mucho para funciones numéricas. No lo vamos a usar mucho.\n",
        "\n",
        "f(X)                        #Aplica la función f (elevar al cuadrado en este caso) a cada elemento de la lista X\n",
        "\n",
        "#Comandos de Sympy\n",
        "x = sp.Symbol('x')          #Guarda con nombre x un string 'x' que lo usa para escribir una expresión algebraica\n",
        "g = x**2                    #Guarda con nombre g un string 'x**2' que lo expresa en forma linda y con el que puede operar algebraicamente\n",
        "sp.diff(g,x)                #Toma la expresión algebraica g y devuelve una nueva expresión algebraica que es la derivada de g respecto de la variable x (segundo argumento de diff)\n",
        "f2 = sp.lambdify(x, g)      #La función sp.lambdify Toma la expresión algebraica g y la transforma en una función de Python interpretando que la x de la expresión algebraica será la variable\n",
        "                            #En este caso estamos llamando f2 a la nueva función que hace lo mismo que la función f que cargamos en la tercera linea.\n",
        "\n",
        "#Comandos de Matplotlib.pyplot\n",
        "plt.plot(X,f(X))            #Gráfica la lista X contra la lista f(X). Grafica puntos cuya primera coordenada la saca de X y su segunda coordenada la saca de $f(X)$. Ambas listas deben ser iguales de largas\n",
        "\n",
        "\n",
        "fig, ax = plt.subplots(figsize=(9,6))  #creamos una figura vacía de tamaño 9 por 6.\n",
        "ax.plot(X, f(X))                       #dentro de la figura vacía graficamos la lista X contra la lista f(X) igual que en el paso anterior.\n",
        "plt.show                               #Pedimos que muestre la figura que hemos hecho.\n",
        "#Esta última forma de graficar nos permite controlar más lo que vamos dibjando."
      ],
      "metadata": {
        "id": "sPDlBLEUQZjN"
      },
      "execution_count": null,
      "outputs": []
    },
    {
      "cell_type": "code",
      "source": [
        "#Recuerde que la sintaxis:\n",
        "#X = np.linspace(3,8,1000) \n",
        "#Guarda la información generada por el comando del lado derecho del igual bajo el nombre 'X', pero no la muestra.\n",
        "#Si quiero ver que ha guardado debo llamar al objeto X\n",
        "X = np.linspace(3,8,100)\n",
        "X"
      ],
      "metadata": {
        "colab": {
          "base_uri": "https://localhost:8080/"
        },
        "id": "ANPM3y5uaTZZ",
        "outputId": "f0b47681-429e-4f24-9161-7931bed0c979"
      },
      "execution_count": null,
      "outputs": [
        {
          "output_type": "execute_result",
          "data": {
            "text/plain": [
              "array([3.        , 3.05050505, 3.1010101 , 3.15151515, 3.2020202 ,\n",
              "       3.25252525, 3.3030303 , 3.35353535, 3.4040404 , 3.45454545,\n",
              "       3.50505051, 3.55555556, 3.60606061, 3.65656566, 3.70707071,\n",
              "       3.75757576, 3.80808081, 3.85858586, 3.90909091, 3.95959596,\n",
              "       4.01010101, 4.06060606, 4.11111111, 4.16161616, 4.21212121,\n",
              "       4.26262626, 4.31313131, 4.36363636, 4.41414141, 4.46464646,\n",
              "       4.51515152, 4.56565657, 4.61616162, 4.66666667, 4.71717172,\n",
              "       4.76767677, 4.81818182, 4.86868687, 4.91919192, 4.96969697,\n",
              "       5.02020202, 5.07070707, 5.12121212, 5.17171717, 5.22222222,\n",
              "       5.27272727, 5.32323232, 5.37373737, 5.42424242, 5.47474747,\n",
              "       5.52525253, 5.57575758, 5.62626263, 5.67676768, 5.72727273,\n",
              "       5.77777778, 5.82828283, 5.87878788, 5.92929293, 5.97979798,\n",
              "       6.03030303, 6.08080808, 6.13131313, 6.18181818, 6.23232323,\n",
              "       6.28282828, 6.33333333, 6.38383838, 6.43434343, 6.48484848,\n",
              "       6.53535354, 6.58585859, 6.63636364, 6.68686869, 6.73737374,\n",
              "       6.78787879, 6.83838384, 6.88888889, 6.93939394, 6.98989899,\n",
              "       7.04040404, 7.09090909, 7.14141414, 7.19191919, 7.24242424,\n",
              "       7.29292929, 7.34343434, 7.39393939, 7.44444444, 7.49494949,\n",
              "       7.54545455, 7.5959596 , 7.64646465, 7.6969697 , 7.74747475,\n",
              "       7.7979798 , 7.84848485, 7.8989899 , 7.94949495, 8.        ])"
            ]
          },
          "metadata": {},
          "execution_count": 9
        }
      ]
    },
    {
      "cell_type": "markdown",
      "source": [
        "<br>\n",
        "<br>\n",
        "<p align=\"center\"><b>\n",
        "💗\n",
        "<font color=\"DeepPink\">\n",
        "Hemos llegado al final de nuestro colab resumen de funciones, a seguir codeando...\n",
        "<br><br><img src=\"https://github.com/cristiandarioortegayubro/BDS/blob/main/images/Logo%20BDS%20Horizontal%208.png?raw=true\"/>\n",
        "</p>\n",
        "\n",
        "---"
      ],
      "metadata": {
        "id": "TIk5DY9Vta47"
      }
    },
    {
      "cell_type": "markdown",
      "source": [
        " # **<font color=\"DeepPink\">Resumen encuentro 2</font>**"
      ],
      "metadata": {
        "id": "uQHHgc6N8vd-"
      }
    },
    {
      "cell_type": "markdown",
      "source": [
        " <p align=\"justify\">\n",
        "1. La derivada de una función nos dice como varía el valor que toma la función cuando cambia $x$.<br><br>\n",
        "2. La integral de una función nos dice como se acumula valor a medida que aumenta $x$. Concretamente, la integral entre $a$ y $b$ nos devuelve todo el valor acumulado por $f$ entre $a$ y $b$.<br><br>\n",
        "3. Usamos la derivada para resolver el problema de:<br><br>\n",
        "$$ \\min_{x} f(x) $$<br><br>\n",
        "4. <strong>3 algoritmos</strong> para conseguirlo:<br><br>\n",
        "<strong>Método de Newton</strong>: $x_{k+1} = x_{k} - f'(x_{k})/f''(x_{k}) $. Funciona mal cuando $f''$ se acerca a 0.<br><br>\n",
        "<strong>Descenso del gradiente</strong>: $x_{k+1} = x_{k} - \\alpha f'(x_{k})$ con $\\alpha>0$. problema de deterrminar valor para $\\alpha$.<br><br>\n",
        "<strong>Busqueda directa</strong>: determinar intervalo de busqueda y probar tantos valores como sea necesario. En general es muy costoso.\n",
        "\n",
        "\n",
        "</p>"
      ],
      "metadata": {
        "id": "L6ZP39uM8zpN"
      }
    }
  ]
}