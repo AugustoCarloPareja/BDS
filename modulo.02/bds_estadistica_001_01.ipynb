{
  "nbformat": 4,
  "nbformat_minor": 0,
  "metadata": {
    "colab": {
      "provenance": [],
      "include_colab_link": true
    },
    "kernelspec": {
      "name": "python3",
      "display_name": "Python 3"
    },
    "language_info": {
      "name": "python"
    }
  },
  "cells": [
    {
      "cell_type": "markdown",
      "metadata": {
        "id": "view-in-github",
        "colab_type": "text"
      },
      "source": [
        "<a href=\"https://colab.research.google.com/github/cristiandarioortegayubro/BDS/blob/main/modulo.02/bds_estadistica_001_01.ipynb\" target=\"_parent\"><img src=\"https://colab.research.google.com/assets/colab-badge.svg\" alt=\"Open In Colab\"/></a>"
      ]
    },
    {
      "cell_type": "markdown",
      "source": [
        "<p align=\"center\">\n",
        "<img src=\"https://github.com/cristiandarioortegayubro/BDS/blob/main/images/Logo%20BDS%20Horizontal%208.png?raw=true\">\n",
        "</p>"
      ],
      "metadata": {
        "id": "nPhF7gL_urrj"
      }
    },
    {
      "cell_type": "code",
      "execution_count": null,
      "metadata": {
        "id": "RTkRGlz4umLJ"
      },
      "outputs": [],
      "source": [
        "import numpy as np\n",
        "import matplotlib.pyplot as plt\n",
        "import pandas as pd"
      ]
    },
    {
      "cell_type": "markdown",
      "source": [
        " # **<font color=\"DeepPink\">Introducción</font>**"
      ],
      "metadata": {
        "id": "aR1gtPxVu1Mr"
      }
    },
    {
      "cell_type": "markdown",
      "source": [
        " <p align=\"justify\">\n",
        "Podríamos decir que el <strong>problema general de la estadística</strong> es determinar como se distribuye una V.A. $X$ cualquiera. Es decir, estamos interesados en obtener información relativa una V.A. que sea relevante para la toma de decisiones.<br><br>\n",
        "Ejemplo:<br><br>\n",
        "Estoy interesado en conocer <strong>cómo me puede ir en términos salariales si me mudo a España</strong>. Necesito información sobre como se distribuyen los salarios en España, mejor si es información relativa a como se distribuyen los salarios en la regíon que estoy pensando mudarme, y mejor aún si la información es relativa a salarios de la región vinculados al nivel educativo que tengo y puesto laboral al que puedo aspirar.<br><br>\n",
        "Mientras más información vinculada con las condiciones que yo necesito tenga más preciso tenderá a ser mi análisis y más fácil me será tomar una decisión.<br><br>\n",
        "La información necesaria para intentar reconstruir la distribución de prababilidad de una V.A. provendrá de una muestra aleatoria.<br><br>\n",
        "<strong>Población</strong>: Se llama población al conjunto total de\n",
        "elementos en discusión y sobre los cuáles se quiere tener alguna información.<br><br>\n",
        "<strong>Muestra aleatoria</strong>: Una muestra aleatoria de tamaño $n$\n",
        "de una población con densidad $f_X$ es un conjunto de $n$ variables aleatorias independientes y cada una con idéntica distribución en la población.\n",
        "Se denota:<br><br>\n",
        "$$ X_1,X_2,...,X_n \\sim^{i.i.d} f_{X} $$<br><br>\n",
        "En general obtenemos muestras de <strong>vectores aleatorios</strong> cada uno formado por un conjunto de V.A. que esperamos estén relacionadas de alguna forma. Con la muestra de estos vectores aleatorios queremos:<br><br>\n",
        "1. Determinar la distribución de $X$ condicionada a cada variable relevante para explicarala. Queremos el vínculo entre las variables. Este es el escenario óptimo pero no es posible.<br><br>\n",
        "2. Determinar la distribución de $X$ condicionada a algunas variables relevantes para explicarala (o algunas características de esta distribución). Veremos que es muy costoso en términos de información.<br><br>\n",
        "3. Determinar la distribución $X$ condicionada a algunas variables relevantes para explicarala suponiendo alguna relación a priori entre ellas. Menos costoso pero más impreciso.<br><br>\n",
        "4. Determinar la distribución $X$ no condicionada o algunas características de  esta distribución. Sigue siendo muy costoso y complejo de interpretar.<br><br>\n",
        "</p>"
      ],
      "metadata": {
        "id": "ULOPtXcbu4iu"
      }
    },
    {
      "cell_type": "markdown",
      "source": [
        " # **<font color=\"DeepPink\">Estimador</font>**"
      ],
      "metadata": {
        "id": "2Qjp_Bs66Eop"
      }
    },
    {
      "cell_type": "markdown",
      "source": [
        " <p align=\"justify\">\n",
        "<strong>Estadístico</strong><br><br>\n",
        "Dada una muestra aleatoria $X_1, X_2, ..., X_n$, un estadístico es una función aplicada a la muestra aleatoria cuyo resultado es una nueva variable aleatoria. Por ejemplo los estadísticos $\\bar{X}$ o $\\tilde{S^2}$ vienen dados por:<br><br>\n",
        "$$ \\bar{X} = \\frac{1}{n}\\sum_{i=1}^{n}X_i $$<br><br>\n",
        "$$ \\tilde{S^2} = \\frac{1}{n}\\sum_{i=1}^{n}(X_i - \\bar{X})^2 $$<br><br>\n",
        "A $\\bar{X}$ se lo denomina promedio o media muestral y a $\\tilde{S^2}$ cuasi-varianza muestral.<br><br>\n",
        "Dado que los estadisticos son V.A., <strong>tienen su propia distribución con sus propias carcaterísticas</strong>, las cuales derivan de la distribución original de $X$. Ejemplo:<br><br>\n",
        "$$ E(\\bar{X}) = E(X) $$<br><br>\n",
        "Esto nos dice que \"en promedio\", la media muestral es igual a la poblacional. Es decir, a veces la media muestral toma valores por debajo de la poblacional y a veces por encima pero de una forma \"equilibrada\".<br><br>\n",
        "Otra caracteristica es:<br><br>\n",
        "$$ \\text{var}(\\bar{X}) = \\frac{\\text{var}(X)}{n} $$<br><br>\n",
        "La varianza de $\\bar{X}$ es igual a la varianza de $X$ partida por el tamaño de la muestra. Mientras mayor sea la muestra, menor será la variabilidad de $\\bar{X}$. De esto se deduce:<br><br>\n",
        "$$ \\sigma_{\\bar{X}}=\\frac{\\sigma_X}{\\sqrt{n}}  $$<br><br>\n",
        "<strong>Estimador</strong><br><br> Un estimador es el valor de un estadistico observado que se utiliza para estimar alguna carcaterística o parámetro de la distribución de una Variable Aleatoria.<br><br>\n",
        "Puesto que $\\bar{X}$ en promedio toma el valor de la verdadera $E(X)$ es intuitivo considerar que el valor observado de $\\bar{X}$ nos puede servir para estimar a $E(X)$.<br><br>\n",
        "<strong>¿Cuándo un estimador es bueno?</strong><br><br>\n",
        "Dado un estadistico $\\hat{\\theta}$, este estadístico será un buen estimador de un parámetro $\\theta$ de una distribución dada si la <strong>distancia</strong> entre el estadistico y el verdadero parámetro es pequeña. A esta distancia se la conoce como <strong>Error Cuadrático Medio</strong>.<br><br>\n",
        "$$ ECM(\\hat{\\theta})=E\\big[ (\\hat{\\theta} - \\theta)^2 \\big] $$<br><br>\n",
        "Cuando un estimador $\\hat{\\theta}$ cumple que $E(\\hat{\\theta})=\\theta$ (como el caso de la media muestral) decimos que el estimador es insesgado. Podemos descomponer el Error Cuadratico Medio de la siguiente forma:<br><br>\n",
        "$$ ECM(\\hat{\\theta}) = \\text{var}(\\hat{\\theta}) + \\big( E(\\hat{\\theta}) - \\theta  \\big)^2 $$<br><br>\n",
        "El $ECM$ de un estimador se compone de la varianza del estimador más el sesgo del estimador elevado al cuadrado. Para el caso de usar el promedio muestral para estimar la media poblacional tenemos que:<br><br>\n",
        "$$ ECM(\\bar{X}) = \\text{var}(\\bar{X}) + \\big( E(\\bar{X}) - E(X))  \\big)^2 = \\frac{\\text{var}(X)}{n} $$<br><br>\n",
        "El $ECM$ del promedio es la varianza de la variable aleatoria dividida por el tamaño muestral. Mientras mayor sea la muestra mejor funciona el estimador.<br><br>\n",
        "De aquí surgen 3 propiedades deseables de los estimadores:<br><br>\n",
        "1. Insesgadez: $E(\\hat{\\theta})=\\theta$.<br><br>\n",
        "2. Varianza mínima (o eficiencia).<br><br>\n",
        "3. Consistencia: $ \\lim_{n \\to \\infty}ECM(\\hat{\\theta})=0$. Cuando el tamaño de muestra aumenta indefinidamente el estimador converge al verdadero valor del parámetro estimado.<br><br>\n",
        "Como hemos visto, $\\bar{X}$ es un estimador insesgado de $E(X)$. Además, cumple que:<br><br>\n",
        "$$ \\lim_{n \\to \\infty} \\text{var}(\\bar(X))=\\lim_{n \\to \\infty} \\frac{\\text{var}(X)}{n} = 0 $$.<br><br>\n",
        "Estas dos propiedades hacen que sea un estimador consistente.<br><br>\n",
        "$ \\tilde{S^2} $ es un estimador sesgado de $\\text{var}(X)$ puesto que:<br><br>\n",
        "$$ E(\\tilde{S^2}) = \\frac{n-1}{n}\\sigma^2 $$.<br><br>\n",
        "Para tamaños muestrales muy grandes el sesgo tiende a desaparecer por lo que se dice que es <strong>asintóticamente insesgado</strong>. También podemos corregir el sesgo usando el siguiente estimador para la varianza de una V.A. $X$:<br><br>\n",
        "$$ S^2 = \\frac{n}{n-1}\\tilde{S^2} = \\frac{1}{n-1} \\sum_{i=1}^{n}(X_i - \\bar{X})^2 $$.<br><br>\n",
        "A $S^2$ lo denominamos varianza muestral.\n",
        "\n",
        "\n",
        "\n",
        "\n",
        "\n",
        "</p>"
      ],
      "metadata": {
        "id": "0geCcxXG7lR_"
      }
    },
    {
      "cell_type": "markdown",
      "source": [
        "# **<font color=\"DeepPink\">Trade off Sesgo - Varianza</font>**"
      ],
      "metadata": {
        "id": "gNsiV3-FQ9Mk"
      }
    },
    {
      "cell_type": "markdown",
      "source": [
        "¿Son malos los estimadores sesgados? ¿Debemos descartarlos?<br><br>\n",
        "El siguiente gráfico muestra como podrían distribuirse 2 estimadores $\\hat{\\theta}_1$ y $\\hat{\\theta}_2$ de un mismo parámetro $\\theta$. ¿Cuál es mejor?"
      ],
      "metadata": {
        "id": "Re9xNlIXREPi"
      }
    },
    {
      "cell_type": "markdown",
      "source": [
        "![image.png](data:image/png;base64,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)"
      ],
      "metadata": {
        "id": "QYMADKS5Syst"
      }
    },
    {
      "cell_type": "markdown",
      "source": [
        " <p align=\"justify\">\n",
        "Mientras que $\\hat{\\theta}_1$ es insesgado, $\\hat{\\theta}_2$ es sesgado pero presenta una varianza menor. Más aún, $\\hat{\\theta}_2$ tiene a estar más \"cerca\" del verdadero parámetro $\\theta$ en términos probabilisticos. Esto hace que el estimador $\\hat{\\theta}_2$ sea (o pueda ser) preferido al estimador $\\hat{\\theta}_1$.<br><br>\n",
        "En la práctica es común utilizar estimadores sesgados pero consistentes o sesgados en muestra finita pero insegados asintóticamente. Aunque también es común encontrar estimadores simplemente sesgados dentro de la literatura del aprendizaje automático. Esto se hace mediante regularización para evitar \"overfitting\".\n",
        "\n",
        "</p>"
      ],
      "metadata": {
        "id": "dCaiww34S4ub"
      }
    },
    {
      "cell_type": "markdown",
      "source": [
        "# **<font color=\"DeepPink\">¿Cómo obtenemos estimadores?</font>**"
      ],
      "metadata": {
        "id": "6JqD-OF5UOzE"
      }
    },
    {
      "cell_type": "markdown",
      "source": [
        " <p align=\"justify\">\n",
        "A grandes razgos, hay dos métodos para obtener estimadores para una V.A. $X$.<br><br>\n",
        "1. Por optimización (M-estimadores).<br><br>\n",
        "2. Por construcción similar de lo que intentan estimar (estimadores de momentos).<br><br>\n",
        "<strong>M-estimadores</strong><br><br>\n",
        "Existen dos mecanimos para obtener M-estimadores. En el primero que vamos a estudiar, denominado método de máxima verosimilitud, se establece a priori una posible familia de distribuciones para $X$ (normal, beta, gamma, etc.) y se estiman los parámetros de esa distribución de forma tal que la función de probabilidad resultante sea la que mejor \"ajuste\" los datos observados.<br><br>\n",
        "Si consideramos que $X \\sim f(\\cdot, \\theta)$ donde $\\theta$ es el parámetro (o vector de parámetros) a estimar, dado que la muestra aleatoria genera variables independientes identicamente distribuidas, tenemos que la función densidad de probabilidad conjunta de toda la muestra viene dada por:<br><br>\n",
        "$$ f_{X_1,X_2,...,X_n}(x_1,x_2,...,x_n,\\theta) = f_{X}(x_1,\\theta)\\times f_{X}(x_2,\\theta)\\times ...\\times f_{X}(x_n,\\theta) $$.<br><br>\n",
        "Utilizamos los datos observados de la muestra para $x_1, x_2,...,x_n$ y buscamos el $\\theta$ que resuelve el problema:<br><br>\n",
        "$$ \\hat{\\theta} = \\max_{\\theta} f_{X}(x_1,\\theta)\\times f_{X}(x_2,\\theta)\\times ...\\times f_{X}(x_n,\\theta) $$.<br><br>\n",
        "A la función $f_{X}(x_1,\\theta)\\times f_{X}(x_2,\\theta)\\times ...\\times f_{X}(x_n,\\theta)$ se la conoce como <strong>función de verosimilitud</strong>.<br><br>\n",
        "En general, se aplica logaritmos (naturales) a la función de verosimilitud para obtener una suma donde hay una multiplicación de funciones. De esta forma, el proceso de derivación (y optimización en general) es más sensillo:<br><br>\n",
        "$$ \\hat{\\theta} = \\max_{\\theta} \\log(f_{X}(x_1,\\theta)) + \\log(f_{X}(x_2,\\theta)) + ... + \\log( f_{X}(x_n,\\theta)) $$.<br><br>\n",
        "A la nueva función a optimizar se la conoce como log-verosimilitud y este proceso produce el mismo resultado que el anterior.<br><br>\n",
        "El segundo mecanismo para obtener M-estimadores consiste en establecer una función de pérdida que depende de la muestra y del parámetro desconocido a estimar y se utilizan los datos observados de la muestra para minimizar la función de pérdida. Este método no requiere suponer como se distribuye la variable aleatória $X$ bajo estudio.<br><br>\n",
        "<strong>Estimadores de momentos</strong><br><br>\n",
        "Este método no requiere suponer como se distribuye la V.A. bajo estudio. Consiste en encontrar distintas carcaterísticas de su distribución construyendo estimadores mediante similitud a su construcción poblacional. Por ejemplo:<br><br>\n",
        "$$ E(X)=\\int_{-\\infty}^{\\infty} xf_X(x)dx \\quad \\to \\quad \\bar{X} =  \\sum_{i=1}^{n}\\frac{1}{n}X_i $$<br><br>\n",
        "$$ P(a \\leq X \\leq b) = \\int_{a}^{b}f_X(x)dx \\quad \\to \\quad \\hat{P}(a \\leq X \\leq b) = \\frac{\\text{cantidad de casos entre a y b}}{n}  $$<br><br>\n",
        "La mediana de una distribución resuelve la ecuación $F_X(x) = 0.5$, para estimarla tome la muestra y ordenela de menor a mayor. Considere que el número que queda en el medio (o el promedio de los dos que quedan en el medio) es un estimador para la mediana. Ejemplo, los valores de la muestra observada son:<br><br>\n",
        "$$ 3, 1, 4, 5, 3 $$<br><br>\n",
        "Al ordenarlos tenemos:<br><br>\n",
        "$$ 1, 3, 3, 4, 5 $$<br><br>\n",
        "Como $3$ queda en el medio lo considerameos el valor estimado de la mediana de la distribución para esta variable aleatoria.\n",
        "\n",
        "\n",
        "</p>"
      ],
      "metadata": {
        "id": "VFobx8EMUUy_"
      }
    },
    {
      "cell_type": "markdown",
      "source": [
        "Vamos a ver esto con un ejemplo. Descargue la Encuesta Permanente de Hogares del 4° trimestre del 2022 del siguiente link:<br><br>\n",
        "https://www.indec.gob.ar/ftp/cuadros/menusuperior/eph/EPH_usu_4_Trim_2022_txt.zip\n",
        "Descomprima el archivo .zip para luego subir en una carpeta de su drive el archivo 'usu_individual_T422.txt'."
      ],
      "metadata": {
        "id": "Ehhx-I3keMS3"
      }
    },
    {
      "cell_type": "code",
      "source": [
        "#from google.colab import drive\n",
        "#drive.mount('/content/drive')\n",
        "#EPH422 = pd.read_csv('/content/drive/MyDrive/Datos/usu_individual_T422.txt.txt', sep=\";\") #debe copiar la ruta a su carpeta de drive."
      ],
      "metadata": {
        "colab": {
          "base_uri": "https://localhost:8080/"
        },
        "id": "OJW3ifpIcaLc",
        "outputId": "7f4d1382-10bb-4794-c794-de5ee7c8e5dd"
      },
      "execution_count": null,
      "outputs": [
        {
          "output_type": "stream",
          "name": "stdout",
          "text": [
            "Mounted at /content/drive\n"
          ]
        },
        {
          "output_type": "stream",
          "name": "stderr",
          "text": [
            "<ipython-input-2-5532d9bed8ab>:3: DtypeWarning: Columns (102) have mixed types. Specify dtype option on import or set low_memory=False.\n",
            "  EPH422 = pd.read_csv('/content/drive/MyDrive/Datos/usu_individual_T422.txt.txt', sep=\";\") #debe copiar la ruta a su carpeta de drive.\n"
          ]
        }
      ]
    },
    {
      "cell_type": "code",
      "source": [
        "EPH422 = pd.read_csv('https://raw.githubusercontent.com/cristiandarioortegayubro/BDS/main/datasets/usu_individual_T422.txt', sep=\";\")\n"
      ],
      "metadata": {
        "colab": {
          "base_uri": "https://localhost:8080/"
        },
        "id": "s5CZaZOWhfuJ",
        "outputId": "86839180-37d8-4535-fdf5-41c425793e2b"
      },
      "execution_count": null,
      "outputs": [
        {
          "output_type": "stream",
          "name": "stderr",
          "text": [
            "<ipython-input-2-79c8b2ad259f>:1: DtypeWarning: Columns (102) have mixed types. Specify dtype option on import or set low_memory=False.\n",
            "  EPH422 = pd.read_csv('https://raw.githubusercontent.com/cristiandarioortegayubro/BDS/main/datasets/usu_individual_T422.txt', sep=\";\")\n"
          ]
        }
      ]
    },
    {
      "cell_type": "code",
      "source": [
        "EPH422"
      ],
      "metadata": {
        "id": "Yknl27p2PpzI"
      },
      "execution_count": null,
      "outputs": []
    },
    {
      "cell_type": "markdown",
      "source": [
        "Vamos a limpiar la base puesto que nos interesa trabajar unicamente con el ingreso de los asalariados. Nos quedaremos con empleados con "
      ],
      "metadata": {
        "id": "X762SJ84PeZo"
      }
    },
    {
      "cell_type": "code",
      "source": [
        "#CAT_OCUP == 3 para obtener solo asalariados\n",
        "\n",
        "#P21 ingreso de la ocupación principal (debe ser > 0 y aparece -9 si el individuo no quiso contestar)\n",
        "\n",
        "#NIVEL_ED ==  1 Primario imcompleto\n",
        "#             2 Primario Completo\n",
        "#             3 Secundario Incompleto\n",
        "#             4 Secundario Completo\n",
        "#             5 Superior Incompleto\n",
        "#             6 Superior Completo\n",
        "#             7 Sin Instrucción\n",
        "#             9 Ns/Nc (eliminar este grupo)\n",
        "\n",
        "Base_limpia = EPH422[(EPH422['P21'] > 0)]\n",
        "Base_limpia = Base_limpia[(Base_limpia['CAT_OCUP']==3)]\n",
        "Base_limpia = Base_limpia[(Base_limpia['NIVEL_ED']<9)]"
      ],
      "metadata": {
        "id": "myOscqV-V2AK"
      },
      "execution_count": null,
      "outputs": []
    },
    {
      "cell_type": "code",
      "source": [
        "#Estudiemos los salarios\n",
        "Base_limpia['P21'].min(), Base_limpia['P21'].max(), Base_limpia['P21'].median(), Base_limpia['P21'].mean(), Base_limpia['P21'].std(), len(Base_limpia['P21'])"
      ],
      "metadata": {
        "colab": {
          "base_uri": "https://localhost:8080/"
        },
        "id": "5_zUwn5Tby-E",
        "outputId": "8051a18d-c4fc-4a9c-da59-362938d6af8b"
      },
      "execution_count": null,
      "outputs": [
        {
          "output_type": "execute_result",
          "data": {
            "text/plain": [
              "(1500, 1500000, 80000.0, 90600.33323182337, 71461.13320365343, 13135)"
            ]
          },
          "metadata": {},
          "execution_count": 7
        }
      ]
    },
    {
      "cell_type": "markdown",
      "source": [
        "Buscamos el intervalo modal estimando la probabilidad de observar un salario entre a y b:<br><br>\n",
        "$$ P( a < X < b) = \\frac{\\text{casos entre a y b}}{\\text{tamaño de muestra}} $$"
      ],
      "metadata": {
        "id": "rxexoeE3Zniw"
      }
    },
    {
      "cell_type": "code",
      "source": [
        "a = 31500\n",
        "b = 61500\n",
        "n = len(Base_limpia['P21'])\n",
        "\n",
        "t = 0\n",
        "for i in Base_limpia['P21']:\n",
        "  if i>a and i<b:\n",
        "    t +=1\n",
        "t/n"
      ],
      "metadata": {
        "colab": {
          "base_uri": "https://localhost:8080/"
        },
        "id": "Trxp-WD1R214",
        "outputId": "1e7a2ff3-d053-404c-df49-06095c676076"
      },
      "execution_count": null,
      "outputs": [
        {
          "output_type": "execute_result",
          "data": {
            "text/plain": [
              "0.24111153406928054"
            ]
          },
          "metadata": {},
          "execution_count": 21
        }
      ]
    },
    {
      "cell_type": "code",
      "source": [
        "histogram = Base_limpia['P21'].plot.hist(bins= 50, weights=np.ones_like(Base_limpia['P21']) / len(Base_limpia['P21']))\n",
        "print(histogram)\n",
        "plt.show()"
      ],
      "metadata": {
        "colab": {
          "base_uri": "https://localhost:8080/",
          "height": 466
        },
        "id": "mACgNbMNIncU",
        "outputId": "e8d4a656-8f37-4914-b40a-8ded4a25cf3b"
      },
      "execution_count": null,
      "outputs": [
        {
          "output_type": "stream",
          "name": "stdout",
          "text": [
            "Axes(0.125,0.11;0.775x0.77)\n"
          ]
        },
        {
          "output_type": "display_data",
          "data": {
            "text/plain": [
              "<Figure size 640x480 with 1 Axes>"
            ],
            "image/png": "[encoded data removed]"
          },
          "metadata": {}
        }
      ]
    },
    {
      "cell_type": "markdown",
      "source": [
        "Dado que esperamos que el nivel educativo de una persona impacte en el salario de la misma, vamos a crear un variable llamada \"Educacion\" que tome los siguientes valores:<br><br>\n",
        "$$ \\text{Educacion} = \\begin{cases} 0 \\text{ si Nivel_ED = 7} \\\\ 1 \\text{ si Nivel_ED = 1} \\\\ 2 \\text{ si Nivel_ED = 2} \\\\ 3 \\text{ si Nivel_ED = 3} \\\\ 4 \\text{ si Nivel_ED = 4} \\\\ 5 \\text{ si Nivel_ED = 5} \\\\ 6 \\text{ si Nivel_ED = 6} \\end{cases} $$<br><br>\n",
        "Es de esperar que nuestra variable \"Educacion\" presente una correlación positiva con la variable \"P21\".\n"
      ],
      "metadata": {
        "id": "AEqQqgITbeJJ"
      }
    },
    {
      "cell_type": "code",
      "source": [
        "#Creamos la nueva variable\n",
        "Base_limpia['Educacion'] = Base_limpia['NIVEL_ED']\n",
        "Base_limpia.loc[Base_limpia['Educacion'] == 7 , 'Educacion'] = 0"
      ],
      "metadata": {
        "id": "2nTCOKuCczDt"
      },
      "execution_count": null,
      "outputs": []
    },
    {
      "cell_type": "code",
      "source": [
        "#Comprobamos el resultado\n",
        "Base_limpia['Educacion'].describe()"
      ],
      "metadata": {
        "id": "gp2WS98Ddvde"
      },
      "execution_count": null,
      "outputs": []
    },
    {
      "cell_type": "code",
      "source": [
        "#Para calcular el coeficiente de correlación \n",
        "np.corrcoef(Base_limpia['P21'], Base_limpia['Educacion'])"
      ],
      "metadata": {
        "colab": {
          "base_uri": "https://localhost:8080/"
        },
        "id": "hyibLvbUdwqY",
        "outputId": "4c2d9b1f-537d-414b-ee5f-70980f13e353"
      },
      "execution_count": null,
      "outputs": [
        {
          "output_type": "execute_result",
          "data": {
            "text/plain": [
              "array([[1.        , 0.28225317],\n",
              "       [0.28225317, 1.        ]])"
            ]
          },
          "metadata": {},
          "execution_count": 25
        }
      ]
    },
    {
      "cell_type": "markdown",
      "source": [
        "Dado que la correlación es positiva, podríamos calcular medias y medianas condicionadas a un cierto nivel educativo."
      ],
      "metadata": {
        "id": "nuf3gPA7fIyG"
      }
    },
    {
      "cell_type": "code",
      "source": [
        "Condicionada = Base_limpia[(Base_limpia['Educacion'] == 6)]\n",
        "Condicionada['P21'].min(), Condicionada['P21'].max(), Condicionada['P21'].median(), Condicionada['P21'].mean(), Condicionada['P21'].std(), len(Condicionada['P21'])"
      ],
      "metadata": {
        "colab": {
          "base_uri": "https://localhost:8080/"
        },
        "id": "PHyhsEF9f8Ef",
        "outputId": "fa7fd35a-5c42-41c2-9fa1-b92c82541747"
      },
      "execution_count": null,
      "outputs": [
        {
          "output_type": "execute_result",
          "data": {
            "text/plain": [
              "(3000, 1500000, 100000.0, 126957.90667530784, 89880.62088346836, 3086)"
            ]
          },
          "metadata": {},
          "execution_count": 11
        }
      ]
    },
    {
      "cell_type": "code",
      "source": [
        "histogram = Condicionada['P21'].plot.hist(bins=30, weights=np.ones_like(Condicionada['P21']) / len(Condicionada['P21']))\n",
        "print(histogram)\n",
        "plt.show()"
      ],
      "metadata": {
        "id": "VuJSfNhKgfHd"
      },
      "execution_count": null,
      "outputs": []
    },
    {
      "cell_type": "code",
      "source": [
        "X = [0,1,2,3,4,5,6]\n",
        "EYX = []\n",
        "for x in X:\n",
        "  Condicionada = Base_limpia[(Base_limpia['Educacion'] == x)]\n",
        "  EYX.append(Condicionada['P21'].mean())\n",
        "\n",
        "plt.plot(X,EYX, 'o-')"
      ],
      "metadata": {
        "colab": {
          "base_uri": "https://localhost:8080/",
          "height": 450
        },
        "id": "3jsUwne5X8-Y",
        "outputId": "bcf85a02-84eb-4ada-e13a-01f0b6decddd"
      },
      "execution_count": null,
      "outputs": [
        {
          "output_type": "execute_result",
          "data": {
            "text/plain": [
              "[<matplotlib.lines.Line2D at 0x7fddc8633af0>]"
            ]
          },
          "metadata": {},
          "execution_count": 27
        },
        {
          "output_type": "display_data",
          "data": {
            "text/plain": [
              "<Figure size 640x480 with 1 Axes>"
            ],
            "image/png": "[encoded data removed]"
          },
          "metadata": {}
        }
      ]
    },
    {
      "cell_type": "markdown",
      "source": [
        " <p align=\"justify\">\n",
        "Con este método podríamos obtener la esperanza, media, moda o desviación estandar de cualquier V.A. condicionada a cualquier otra variable o a cualesquiera otras variables. El problema consiste en que obtener un estimador de la esperanza condicional del salario de una persona condicionada a que esa persona tiene educación superior completa, 10 años  experiencia laboral y vive en Mendoza requiere de tener una muestra de salarios de personas que viven en mendoza, tienen eduación superior completa y tienen 10 años de experiencia laboral.<br><br>\n",
        "Cada vez que condicionamos necesitamos una muestra específica según la condición para estimar lo que necesitamos, a la vez que dejamos de lado toda la información que no reune las características deseadas. Esto genera que nuestros estimadores sean \"menos precisos\" (al perder información) a la vez que muy costosos en términos de información. <br><br>\n",
        "A todo esto se le suma el problema de contar con la información específica requerida. Para el ejemplo anterior, podría suceder que nuestro muestreo no haya captado a ningún individuo con las características justas deseadas, pero si haya captado individuos de Mendoza con educación superior con 8, 9, 11, 12, y 15 años de experiencia laboral. En este caso, el método de condicionar la V.A. bajo estudio que hemos visto no nos permite obtener un estimador para la media del salario de una persona que vive en Mendoza, tiene educación superior y cuenta con 10 años de experiencia laboral. <br><br>\n",
        "Para resolver estos problemas existen los modelos de regresión.\n",
        "\n",
        "</p>"
      ],
      "metadata": {
        "id": "doaLtijL_Zxr"
      }
    },
    {
      "cell_type": "markdown",
      "source": [
        "# **<font color=\"DeepPink\">Modelos de regresión lineal</font>**"
      ],
      "metadata": {
        "id": "0DA_jIgQB21v"
      }
    },
    {
      "cell_type": "markdown",
      "source": [
        " <p align=\"justify\">\n",
        "Hasta el momento hemos intentado estudiar como se comporta una V.A. $Y$ condicionada a que otra V.A. $X$ toma un cierto fijo sin suponer cual es la relación por la cual $X$ afecta a $Y$.<br><br>\n",
        "En este punto, vamos a suponer que existe una relación real dada por alguna función $f$ entre las V.A. $X$ e $Y$, de forma tal que:<br><br>\n",
        "$$ Y = f(X) + \\mu $$<br><br>\n",
        "donde $\\mu$ es una variable aleatoría (o término aleatorio) la cual suponemos que cumple:<br><br>\n",
        "$$ E(\\mu) = 0 $$<br>\n",
        "$$ \\text{var}(\\mu) = \\sigma^2 $$<br><br>\n",
        "Bajo estos supuestos, la Esperanza $Y$ condicional a que $X$ toma un valor fijo $x$ cualquiera viene dado por:<br><br>\n",
        "$$ E(Y|X=x) = f(x) $$ <br><br>\n",
        "Con lo cual, si conocemos la función $f$ es facil obtener todas las esperanzas condicionadas de $Y$. <br><br>\n",
        "Dado que en la práctica no conocemos la forma funcional de $f$ lo que generalmente se hace es suponerla. Y la forma funcional más sencilla (y más utilizada) es la forma lineal:<br><br>\n",
        "$$ Y = \\beta_0 + \\beta_1X + \\mu $$<br><br>\n",
        "donde $\\beta_0$ y $\\beta_1$ son constantes que deben ser estimadas utilizando los datos de una muestra.<br><br>\n",
        "Bajo esta forma funcional propuesta, los datos que observamos de una muestra $(x_1,y_1), (x_2,y_2),...,(x_n,y_n)$ se generan de la siguiente forma: <br><br>\n",
        "$$ y_1 = \\beta_0 + \\beta_1 x_1 + \\mu_1 \\\\ y_2 = \\beta_0 + \\beta_1 x_2 + \\mu_2 \\\\ ... \\\\ y_n = \\beta_0 + \\beta_1 x_n + \\mu_n $$<br><br>\n",
        "Dado, que no conocemos $\\mu_1, \\mu_2, ... ,\\mu_n$ también debemos estimarlos junto con $\\beta_1$ y $\\beta_2$, y lo vamos a hacer de forma tal que el aporte de estos términos aleatorios sea el menor posible dentro del modelo.<br><br>\n",
        "En el mejor de los casos los términos aleatorios serían todos 0 y tendríamos:<br><br>\n",
        "$$ y_1 = \\beta_0 + \\beta_1 x_1 \\\\ y_2 = \\beta_0 + \\beta_1 x_2  \\\\ ... \\\\ y_n = \\beta_0 + \\beta_1 x_n  $$<br><br>\n",
        "Esto genera un conjunto de ecuaciones todas vinculadas por los mismos $\\beta_0$ y $\\beta_1$ al cual lo podemos escribir en forma matricial:<br><br>\n",
        "$$ \\begin{bmatrix} y_1 \\\\ y_2 \\\\ ... \\\\ y_n \\end{bmatrix} = \\begin{bmatrix} 1 & x_1 \\\\ 1 & x_2 \\\\ ... \\\\ 1 & x_n \\end{bmatrix} \\begin{bmatrix} \\beta_0 \\\\ \\beta_1 \\end{bmatrix} $$<br><br>\n",
        "En general, este sistema se escribe:<br><br>\n",
        "$$ Y = X \\beta $$<br><br>\n",
        "donde en esta útlima ecuación $Y$ representa el vector de observaciones que deseamos explicar, $X$ la matriz de caracteristicas observadas que utilizamos para explicar a $Y$ y $\\beta$ es el vector de parámetros desconocidos a estimar (o incognitas del sistema).<br><br>\n",
        "Dado que al modelo le hemos sacado un término ($\\mu_i$), el sistema anterior es inconsitente y generalmente tiene más ecuaciones que incognitas. Podemos encontrar un vector $\\hat{\\beta}$ que mejor se aproxima a una solución. O lo que es lo mismo, buscamos un vector $\\hat{\\beta}$ que resuelva el siguiente problema:<br><br>\n",
        "$$ \\hat{\\beta} = \\min_{\\beta} || Y - X \\beta  ||_2 $$<br><br>\n",
        "o, equivalentemente:<br><br>\n",
        "$$ \\hat{\\beta} = \\min_{\\beta} || Y - X \\beta  ||^2_2 $$<br><br>\n",
        "Para este caso, $|| Y - X \\beta  ||^2_2$, que es función de $\\beta$, es la función de pérdida antes mencionada.<br><br>\n",
        "Ya sabemos que la solución a este problema viene dada por:<br><br>\n",
        "$$ \\hat{\\beta}=(X'X)^{-1}(X'Y) $$<br><br>\n",
        "A este $\\hat{\\beta}$ se lo conoce como estimador de Mínimos Cuadrados Ordinarios.\n",
        "\n",
        "</p>"
      ],
      "metadata": {
        "id": "DEpVi6k8B_mE"
      }
    },
    {
      "cell_type": "markdown",
      "source": [
        " <p align=\"justify\">\n",
        "<strong>Ejemplo</strong><br><br>\n",
        "Supongamos que el salario de las personas viene determinado por la siguiente relación:<br><br>\n",
        "$$ \\text{salario} = \\beta_0 + \\beta_1 \\text{ años de estudio } + \\mu $$<br><br>\n",
        "Si bien no tenemos los años de estudio de una persona, podemos construir una variable que los aproxime en base al máximo nivel educativo alcanzado por cada sujeto encuestado. La variable \"estudio\" la construiremos de la siguiente forma:<br><br>\n",
        "$$ \\text{estudio} = \\begin{cases} 0 \\text{ si Educacion = 0} \\\\ 3 \\text{ si Educacion = 1} \\\\ 6 \\text{ si Educacion = 2} \\\\ 9 \\text{ si Educacion = 3} \\\\12 \\text{ si Educacion = 4} \\\\ 15 \\text{ si Educacion = 5} \\\\ 18 \\text{ si Educacion = 6} \\end{cases} $$\n",
        "\n",
        "\n",
        "</p>"
      ],
      "metadata": {
        "id": "wRL6P5YCK34O"
      }
    },
    {
      "cell_type": "code",
      "source": [
        "Base_limpia['Estudio'] = 3 * Base_limpia['Educacion']\n",
        "Base_limpia['Estudio'].describe()"
      ],
      "metadata": {
        "id": "pypfrMDKMPEo",
        "colab": {
          "base_uri": "https://localhost:8080/"
        },
        "outputId": "d2be6e61-7637-4301-f18a-e53913b79e25"
      },
      "execution_count": null,
      "outputs": [
        {
          "output_type": "execute_result",
          "data": {
            "text/plain": [
              "count    13135.000000\n",
              "mean        12.363837\n",
              "std          4.218166\n",
              "min          0.000000\n",
              "25%          9.000000\n",
              "50%         12.000000\n",
              "75%         15.000000\n",
              "max         18.000000\n",
              "Name: Estudio, dtype: float64"
            ]
          },
          "metadata": {},
          "execution_count": 6
        }
      ]
    },
    {
      "cell_type": "markdown",
      "source": [
        "Calculemos los beta que estimariamos según a relación lineal propuesta."
      ],
      "metadata": {
        "id": "R1IoreO1Mgni"
      }
    },
    {
      "cell_type": "code",
      "source": [
        "Y = np.array(Base_limpia['P21'])\n",
        "\n",
        "unos = np.ones(n)\n",
        "x = Base_limpia['Estudio']\n",
        "X = [[unos, x] for unos, x in zip(unos, x)] #acá seguir\n",
        "X = np.array(X)"
      ],
      "metadata": {
        "id": "94lmrL2UMdT2"
      },
      "execution_count": null,
      "outputs": []
    },
    {
      "cell_type": "code",
      "source": [
        "beta = np.linalg.inv((X.T @ X)) @ (X.T @ Y)\n",
        "beta"
      ],
      "metadata": {
        "colab": {
          "base_uri": "https://localhost:8080/"
        },
        "id": "O8o8bu_VNQ5S",
        "outputId": "83da3e6b-354a-4fc5-a0ec-97674082a457"
      },
      "execution_count": null,
      "outputs": [
        {
          "output_type": "execute_result",
          "data": {
            "text/plain": [
              "array([31479.79564472,  4781.73055996])"
            ]
          },
          "metadata": {},
          "execution_count": 30
        }
      ]
    },
    {
      "cell_type": "markdown",
      "source": [
        "La constante del modelo lineal es $31479$ y la pendiente de la recta es $4781$. Este ultimo dato nos dice que por cada año eduactivo adicional obtenemos un aumento en el salario esperado de $4781.73$ pesos.<br><br>\n",
        "Pandas nos permite estimar el modelo lineal directamente."
      ],
      "metadata": {
        "id": "aJrWFunkNnSb"
      }
    },
    {
      "cell_type": "code",
      "source": [
        "from statsmodels.formula.api import ols"
      ],
      "metadata": {
        "id": "yPyI78joOSsW"
      },
      "execution_count": null,
      "outputs": []
    },
    {
      "cell_type": "code",
      "source": [
        "res = ols('P21 ~ Estudio', Base_limpia).fit()\n",
        "res.summary()"
      ],
      "metadata": {
        "colab": {
          "base_uri": "https://localhost:8080/",
          "height": 439
        },
        "id": "-2yD9AoSNjJ4",
        "outputId": "048c200a-0a77-4a8a-ddee-d77f0d6d8d31"
      },
      "execution_count": null,
      "outputs": [
        {
          "output_type": "execute_result",
          "data": {
            "text/plain": [
              "<class 'statsmodels.iolib.summary.Summary'>\n",
              "\"\"\"\n",
              "                            OLS Regression Results                            \n",
              "==============================================================================\n",
              "Dep. Variable:                    P21   R-squared:                       0.080\n",
              "Model:                            OLS   Adj. R-squared:                  0.080\n",
              "Method:                 Least Squares   F-statistic:                     1137.\n",
              "Date:                Wed, 24 May 2023   Prob (F-statistic):          4.34e-239\n",
              "Time:                        19:48:50   Log-Likelihood:            -1.6490e+05\n",
              "No. Observations:               13135   AIC:                         3.298e+05\n",
              "Df Residuals:                   13133   BIC:                         3.298e+05\n",
              "Df Model:                           1                                         \n",
              "Covariance Type:            nonrobust                                         \n",
              "==============================================================================\n",
              "                 coef    std err          t      P>|t|      [0.025      0.975]\n",
              "------------------------------------------------------------------------------\n",
              "Intercept   3.148e+04   1852.668     16.992      0.000    2.78e+04    3.51e+04\n",
              "Estudio     4781.7306    141.820     33.717      0.000    4503.743    5059.718\n",
              "==============================================================================\n",
              "Omnibus:                    11805.071   Durbin-Watson:                   1.750\n",
              "Prob(Omnibus):                  0.000   Jarque-Bera (JB):          1131510.159\n",
              "Skew:                           3.932   Prob(JB):                         0.00\n",
              "Kurtosis:                      47.784   Cond. No.                         40.7\n",
              "==============================================================================\n",
              "\n",
              "Notes:\n",
              "[1] Standard Errors assume that the covariance matrix of the errors is correctly specified.\n",
              "\"\"\""
            ],
            "text/html": [
              "<table class=\"simpletable\">\n",
              "<caption>OLS Regression Results</caption>\n",
              "<tr>\n",
              "  <th>Dep. Variable:</th>           <td>P21</td>       <th>  R-squared:         </th>  <td>   0.080</td>  \n",
              "</tr>\n",
              "<tr>\n",
              "  <th>Model:</th>                   <td>OLS</td>       <th>  Adj. R-squared:    </th>  <td>   0.080</td>  \n",
              "</tr>\n",
              "<tr>\n",
              "  <th>Method:</th>             <td>Least Squares</td>  <th>  F-statistic:       </th>  <td>   1137.</td>  \n",
              "</tr>\n",
              "<tr>\n",
              "  <th>Date:</th>             <td>Wed, 24 May 2023</td> <th>  Prob (F-statistic):</th>  <td>4.34e-239</td> \n",
              "</tr>\n",
              "<tr>\n",
              "  <th>Time:</th>                 <td>19:48:50</td>     <th>  Log-Likelihood:    </th> <td>-1.6490e+05</td>\n",
              "</tr>\n",
              "<tr>\n",
              "  <th>No. Observations:</th>      <td> 13135</td>      <th>  AIC:               </th>  <td>3.298e+05</td> \n",
              "</tr>\n",
              "<tr>\n",
              "  <th>Df Residuals:</th>          <td> 13133</td>      <th>  BIC:               </th>  <td>3.298e+05</td> \n",
              "</tr>\n",
              "<tr>\n",
              "  <th>Df Model:</th>              <td>     1</td>      <th>                     </th>      <td> </td>     \n",
              "</tr>\n",
              "<tr>\n",
              "  <th>Covariance Type:</th>      <td>nonrobust</td>    <th>                     </th>      <td> </td>     \n",
              "</tr>\n",
              "</table>\n",
              "<table class=\"simpletable\">\n",
              "<tr>\n",
              "      <td></td>         <th>coef</th>     <th>std err</th>      <th>t</th>      <th>P>|t|</th>  <th>[0.025</th>    <th>0.975]</th>  \n",
              "</tr>\n",
              "<tr>\n",
              "  <th>Intercept</th> <td> 3.148e+04</td> <td> 1852.668</td> <td>   16.992</td> <td> 0.000</td> <td> 2.78e+04</td> <td> 3.51e+04</td>\n",
              "</tr>\n",
              "<tr>\n",
              "  <th>Estudio</th>   <td> 4781.7306</td> <td>  141.820</td> <td>   33.717</td> <td> 0.000</td> <td> 4503.743</td> <td> 5059.718</td>\n",
              "</tr>\n",
              "</table>\n",
              "<table class=\"simpletable\">\n",
              "<tr>\n",
              "  <th>Omnibus:</th>       <td>11805.071</td> <th>  Durbin-Watson:     </th>  <td>   1.750</td>  \n",
              "</tr>\n",
              "<tr>\n",
              "  <th>Prob(Omnibus):</th>  <td> 0.000</td>   <th>  Jarque-Bera (JB):  </th> <td>1131510.159</td>\n",
              "</tr>\n",
              "<tr>\n",
              "  <th>Skew:</th>           <td> 3.932</td>   <th>  Prob(JB):          </th>  <td>    0.00</td>  \n",
              "</tr>\n",
              "<tr>\n",
              "  <th>Kurtosis:</th>       <td>47.784</td>   <th>  Cond. No.          </th>  <td>    40.7</td>  \n",
              "</tr>\n",
              "</table><br/><br/>Notes:<br/>[1] Standard Errors assume that the covariance matrix of the errors is correctly specified."
            ]
          },
          "metadata": {},
          "execution_count": 80
        }
      ]
    },
    {
      "cell_type": "code",
      "source": [
        "def lineal(x):\n",
        "  return 31479.79564472 + 4781.73055996*x\n",
        "\n",
        "X = np.array([0,3,6,9,12,15,18])\n",
        "\n",
        "fig, ax = plt.subplots(figsize=(9,6))  \n",
        "ax.plot(X, lineal(X), 'o-' , label='Modelo lineal', color='green')\n",
        "ax.plot(X, EYX, 'o-', label='No paramétrico', color='red')  #Usamos los datos de la esperanza condicional calculada al principio.\n",
        "ax.legend()\n",
        "plt.show"
      ],
      "metadata": {
        "colab": {
          "base_uri": "https://localhost:8080/",
          "height": 539
        },
        "id": "roQdWwl2QKSr",
        "outputId": "05713773-9cbf-4d38-cfae-056d64b85ab8"
      },
      "execution_count": null,
      "outputs": [
        {
          "output_type": "execute_result",
          "data": {
            "text/plain": [
              "<function matplotlib.pyplot.show(close=None, block=None)>"
            ]
          },
          "metadata": {},
          "execution_count": 17
        },
        {
          "output_type": "display_data",
          "data": {
            "text/plain": [
              "<Figure size 900x600 with 1 Axes>"
            ],
            "image/png": "[encoded data removed]"
          },
          "metadata": {}
        }
      ]
    },
    {
      "cell_type": "markdown",
      "source": [
        "La fórmula anterior es válida cuando el modelo incluye más variables. Por ejemplo:<br><br>\n",
        "$$ \\text{salario} = \\beta_0 + \\beta_1 \\text{ años de estudio } + \\beta_2 \\text{ edad } + \\mu $$<br><br>\n",
        "En este caso, la matriz de características observadas incluye una nueva columna que representa a la variable edad. El resto del proceso es igual y nos permite estimar los 3 parámetros de interés, $\\beta_0$, $\\beta_1$ y $\\beta_2$.<br><br>\n",
        "Nota: el modelo supone que la V.A. explicada ($Y$) es continua. \n"
      ],
      "metadata": {
        "id": "b0t7tyVzPAlK"
      }
    },
    {
      "cell_type": "code",
      "source": [
        "#CH06 representa la edad\n",
        "res = ols('P21 ~ Estudio + CH06', Base_limpia).fit()\n",
        "res.summary()"
      ],
      "metadata": {
        "colab": {
          "base_uri": "https://localhost:8080/",
          "height": 459
        },
        "id": "8GWQqVvtTnLp",
        "outputId": "9650a60e-0237-42ce-e283-2a6472a59110"
      },
      "execution_count": null,
      "outputs": [
        {
          "output_type": "execute_result",
          "data": {
            "text/plain": [
              "<class 'statsmodels.iolib.summary.Summary'>\n",
              "\"\"\"\n",
              "                            OLS Regression Results                            \n",
              "==============================================================================\n",
              "Dep. Variable:                    P21   R-squared:                       0.123\n",
              "Model:                            OLS   Adj. R-squared:                  0.123\n",
              "Method:                 Least Squares   F-statistic:                     918.9\n",
              "Date:                Wed, 24 May 2023   Prob (F-statistic):               0.00\n",
              "Time:                        19:48:53   Log-Likelihood:            -1.6459e+05\n",
              "No. Observations:               13135   AIC:                         3.292e+05\n",
              "Df Residuals:                   13132   BIC:                         3.292e+05\n",
              "Df Model:                           2                                         \n",
              "Covariance Type:            nonrobust                                         \n",
              "==============================================================================\n",
              "                 coef    std err          t      P>|t|      [0.025      0.975]\n",
              "------------------------------------------------------------------------------\n",
              "Intercept  -1.839e+04   2669.416     -6.888      0.000   -2.36e+04   -1.32e+04\n",
              "Estudio     4917.5276    138.567     35.488      0.000    4645.915    5189.140\n",
              "CH06        1206.3744     47.493     25.401      0.000    1113.282    1299.467\n",
              "==============================================================================\n",
              "Omnibus:                    11906.953   Durbin-Watson:                   1.747\n",
              "Prob(Omnibus):                  0.000   Jarque-Bera (JB):          1228435.786\n",
              "Skew:                           3.963   Prob(JB):                         0.00\n",
              "Kurtosis:                      49.709   Cond. No.                         199.\n",
              "==============================================================================\n",
              "\n",
              "Notes:\n",
              "[1] Standard Errors assume that the covariance matrix of the errors is correctly specified.\n",
              "\"\"\""
            ],
            "text/html": [
              "<table class=\"simpletable\">\n",
              "<caption>OLS Regression Results</caption>\n",
              "<tr>\n",
              "  <th>Dep. Variable:</th>           <td>P21</td>       <th>  R-squared:         </th>  <td>   0.123</td>  \n",
              "</tr>\n",
              "<tr>\n",
              "  <th>Model:</th>                   <td>OLS</td>       <th>  Adj. R-squared:    </th>  <td>   0.123</td>  \n",
              "</tr>\n",
              "<tr>\n",
              "  <th>Method:</th>             <td>Least Squares</td>  <th>  F-statistic:       </th>  <td>   918.9</td>  \n",
              "</tr>\n",
              "<tr>\n",
              "  <th>Date:</th>             <td>Wed, 24 May 2023</td> <th>  Prob (F-statistic):</th>   <td>  0.00</td>   \n",
              "</tr>\n",
              "<tr>\n",
              "  <th>Time:</th>                 <td>19:48:53</td>     <th>  Log-Likelihood:    </th> <td>-1.6459e+05</td>\n",
              "</tr>\n",
              "<tr>\n",
              "  <th>No. Observations:</th>      <td> 13135</td>      <th>  AIC:               </th>  <td>3.292e+05</td> \n",
              "</tr>\n",
              "<tr>\n",
              "  <th>Df Residuals:</th>          <td> 13132</td>      <th>  BIC:               </th>  <td>3.292e+05</td> \n",
              "</tr>\n",
              "<tr>\n",
              "  <th>Df Model:</th>              <td>     2</td>      <th>                     </th>      <td> </td>     \n",
              "</tr>\n",
              "<tr>\n",
              "  <th>Covariance Type:</th>      <td>nonrobust</td>    <th>                     </th>      <td> </td>     \n",
              "</tr>\n",
              "</table>\n",
              "<table class=\"simpletable\">\n",
              "<tr>\n",
              "      <td></td>         <th>coef</th>     <th>std err</th>      <th>t</th>      <th>P>|t|</th>  <th>[0.025</th>    <th>0.975]</th>  \n",
              "</tr>\n",
              "<tr>\n",
              "  <th>Intercept</th> <td>-1.839e+04</td> <td> 2669.416</td> <td>   -6.888</td> <td> 0.000</td> <td>-2.36e+04</td> <td>-1.32e+04</td>\n",
              "</tr>\n",
              "<tr>\n",
              "  <th>Estudio</th>   <td> 4917.5276</td> <td>  138.567</td> <td>   35.488</td> <td> 0.000</td> <td> 4645.915</td> <td> 5189.140</td>\n",
              "</tr>\n",
              "<tr>\n",
              "  <th>CH06</th>      <td> 1206.3744</td> <td>   47.493</td> <td>   25.401</td> <td> 0.000</td> <td> 1113.282</td> <td> 1299.467</td>\n",
              "</tr>\n",
              "</table>\n",
              "<table class=\"simpletable\">\n",
              "<tr>\n",
              "  <th>Omnibus:</th>       <td>11906.953</td> <th>  Durbin-Watson:     </th>  <td>   1.747</td>  \n",
              "</tr>\n",
              "<tr>\n",
              "  <th>Prob(Omnibus):</th>  <td> 0.000</td>   <th>  Jarque-Bera (JB):  </th> <td>1228435.786</td>\n",
              "</tr>\n",
              "<tr>\n",
              "  <th>Skew:</th>           <td> 3.963</td>   <th>  Prob(JB):          </th>  <td>    0.00</td>  \n",
              "</tr>\n",
              "<tr>\n",
              "  <th>Kurtosis:</th>       <td>49.709</td>   <th>  Cond. No.          </th>  <td>    199.</td>  \n",
              "</tr>\n",
              "</table><br/><br/>Notes:<br/>[1] Standard Errors assume that the covariance matrix of the errors is correctly specified."
            ]
          },
          "metadata": {},
          "execution_count": 81
        }
      ]
    },
    {
      "cell_type": "markdown",
      "source": [
        "<strong>Busque el teorema Gauss-Markov</strong>"
      ],
      "metadata": {
        "id": "VzHDqgCSuif8"
      }
    },
    {
      "cell_type": "markdown",
      "source": [
        "# **<font color=\"DeepPink\">Modelo logit (o probit?)</font>**"
      ],
      "metadata": {
        "id": "xrbCR0aWlugF"
      }
    },
    {
      "cell_type": "markdown",
      "source": [
        "<p align=\"justify\">\n",
        "Sea $Y$ una V.A. que toma valores en $\\{ 0,1 \\}$, dicotómica, y sea $X$ un vector aleatorio relacionado con $Y$. El modelo logit asume:<br><br>\n",
        "$$ P(Y=1 | X=x) = \\pi_{\\beta}(x)=\\frac{\\text{exp}(x.\\beta)}{1 + \\text{exp}(x.\\beta)} $$<br><br>\n",
        "donde $\\text{exp}(\\cdot)$ es la función exponencial y $x.\\beta$ es el producto punto entre el vector $x$ de caracteristicas condicionadas y $\\beta$ el vector de parámetros a estimar.<br><br>\n",
        "Los parámetros del modelo se deben estimar por máxima verosimilitud. Si tenemos una muestra aleatoria $(Y_1, X_1), (Y_2, X_2),...,(Y_n, X_n)$, la función de verosimilitud viene dada por:<br><br>\n",
        "$$ L(\\beta) = \\prod_{i=1}^{n} \\pi_{\\beta}(X_i)^{Y_i}(1-\\pi_{\\beta}(X_i))^{1-Y_i} $$<br><br>\n",
        "Podemos aplicar logaritmo en ambos miembros de la ecuación para obtener:<br><br>\n",
        "$$ \\log(L(\\beta)) = \\sum_{i=1}^{n} \\bigg[ Y_i \\log \\big(\\pi_{\\beta}(X_i) \\big) + (1-Y_i) \\log \\big( (1-\\pi_{\\beta}(X_i)) \\big) \\bigg] $$<br><br>\n",
        "Debemos recordar que $Y_i$ toma valor $0$ o $1$. A la función anterior se la conoce como log-verosimilitud<br><br>\n",
        "Escrito en forma completa, para estimar el vector $\\beta$ debemos resolver el siguiente problema:<br><br>\n",
        "$$ \\max_{\\beta}  \\sum_{i=1}^{n} \\bigg[ Y_i \\log \\bigg(\\frac{\\text{exp}(x.\\beta)}{1 + \\text{exp}(x.\\beta)} \\bigg) + (1-Y_i) \\log \\bigg( \\frac{1}{1 + \\text{exp}(x.\\beta)} \\bigg) \\bigg] $$:<br><br>\n",
        "Este problema solo puede ser resuelto usando métodos numéricos.<br><br>\n",
        "Una vez estimado el modelo se considera la siguiente regla de predicción:<br><br>\n",
        "$$ \\hat{Y}= \\begin{cases} 1 \\text{ si } \\hat{\\pi}_{\\beta}(x) > k \\\\ 0 \\text{  en otro caso} \\end{cases} $$<br><br>\n",
        "La regla es sensilla, se asigna valor $1$ a $Y$ siestimamos que su probabilidad de tomar valor $1$ es mayor a un cierto umbral $k$. Por lo general, consideramos $k=0.5$.\n",
        "</p>"
      ],
      "metadata": {
        "id": "xiyKzEIwl6jY"
      }
    },
    {
      "cell_type": "markdown",
      "source": [
        "# **<font color=\"DeepPink\">Ejercicios</font>**\n",
        "<p align=\"justify\">\n",
        "<strong>Ejercicio 1</strong><br><br>\n",
        "Repita (en forma completa) el analisis realizado distinguiendo entre dos aglomerados urbanos, Gran Mendoza y CABA. Dentro de la base de datos, la variable \"AGLOMERADO\" contiene la información requerida, toma valor 10 para Gran Mendoza y 32 para CABA.<br><br>\n",
        "Estime la esperanza condicional a cada nivel educativo para cada aglomerado urbano por separado y muestre la información obtenida en un único gráfico que le permita hacer comparaciones. ¿Observa algo llamativo?<br><br>\n",
        "Estime un modelo lineal para el salario en función de la edad y de los años de eduación para cada aglomerado urbano. Compare los betas obtenidos.\n",
        "</p>\n"
      ],
      "metadata": {
        "id": "l0vvaRgZWCXK"
      }
    }
  ]
}