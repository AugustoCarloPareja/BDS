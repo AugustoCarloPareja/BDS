{
  "nbformat": 4,
  "nbformat_minor": 0,
  "metadata": {
    "colab": {
      "provenance": [],
      "include_colab_link": true
    },
    "kernelspec": {
      "name": "python3",
      "display_name": "Python 3"
    },
    "language_info": {
      "name": "python"
    }
  },
  "cells": [
    {
      "cell_type": "markdown",
      "metadata": {
        "id": "view-in-github",
        "colab_type": "text"
      },
      "source": [
        "<a href=\"https://colab.research.google.com/github/cristiandarioortegayubro/BDS/blob/main/modulo.02/bds_vectores_y_matrices_001_01.ipynb\" target=\"_parent\"><img src=\"https://colab.research.google.com/assets/colab-badge.svg\" alt=\"Open In Colab\"/></a>"
      ]
    },
    {
      "cell_type": "markdown",
      "source": [
        "<p align=\"center\">\n",
        "<img src=\"https://github.com/cristiandarioortegayubro/BDS/blob/main/images/Logo%20BDS%20Horizontal%208.png?raw=true\">\n",
        "</p>"
      ],
      "metadata": {
        "id": "UFcg9dacEIsJ"
      }
    },
    {
      "cell_type": "code",
      "execution_count": null,
      "metadata": {
        "id": "oWTKQ7XWEBTX"
      },
      "outputs": [],
      "source": [
        "import numpy as np\n",
        "import matplotlib.pyplot as plt\n",
        "import sympy as sp\n",
        "import scipy as sc"
      ]
    },
    {
      "cell_type": "markdown",
      "source": [
        "<strong>Bibliografía:</strong> Poole, David (2011). Álgebra lineal. Una introducción moderna. Cengage Learning 3ra Ed."
      ],
      "metadata": {
        "id": "miFE584H-1V3"
      }
    },
    {
      "cell_type": "markdown",
      "source": [
        " # **<font color=\"DeepPink\">Vectores</font>**"
      ],
      "metadata": {
        "id": "1aFXtArQEN2p"
      }
    },
    {
      "cell_type": "markdown",
      "source": [
        " <p align=\"justify\">\n",
        "<strong>Definición:</strong> Un vector de $R^n$ es un n-tupla de números reales ordenados. En general, estos números se presentan en forma vertical encerrados entre corchetes.<br><br>\n",
        "$$v = \\begin{bmatrix} v_{1} \\\\ v_{2}  \\\\ \\vdots\\\\  v_{n}  \\end{bmatrix}$$  <br><br>\n",
        "Ejemplos:<br><br>\n",
        "$$v = \\begin{bmatrix} 1 \\\\ 2 \\end{bmatrix} \\in R^2 \\quad u = \\begin{bmatrix} 3 \\\\ -1 \\\\ 8 \\end{bmatrix} \\in R^3$$<br><br>\n",
        "Los números reales que componen a cada vetor se denominan componenetes del vector.<br><br>\n",
        "Desde un punto de vista computacional, los vectores son útilies para \"guardar\" información numérica relativamente homogenea. Po ejemplo, podemos tener un vector de ventas anuales de un local de una empresa, el vector de precios de los distintos articulos vendidos de una empresa, un vector de valores de acciones que tenemos en una cartera, etc.<br><br>\n",
        "Desde un punto de vista geométrico, en principio puramente matemático, los vectores representan \"desplazamientos\". El vector $v$ del ejemplo representa un desplazamiento en el plano de 1 unidad a la derecha y 2 unidades hacia arriba, mientras que el vector $u$ representa un desplazamiento en el espacio de 3 unidades a la derecha, 1 unidad hacia atrás y 8 unidades hacia arriba. Un vector de 4 componentes también representa un desplazamiento pero un espacio que no podemos vizualizar.<br><br>\n",
        "Existen dos operaciones básicas a realizar con vectores, suma y multiplización por un escalar.<br><br>\n",
        "<strong>Suma de vectores:</strong> sean $u$ y $v$ dos vectores de $R^n$, la suma de $u$ y $v$ es un nuevo vector de $R^n$ cuyas componenetes se obtienen sumando las respectivas componentes de $u$ y de $v$.<br><br>\n",
        "$$u+v = \\begin{bmatrix} u_{1} \\\\ u_{2}  \\\\ \\vdots\\\\  u_{n}  \\end{bmatrix} + \\begin{bmatrix} v_{1} \\\\ v_{2}  \\\\ \\vdots\\\\  v_{n}  \\end{bmatrix} = \\begin{bmatrix} u_{1} + v_{1} \\\\ u_{2} + v_{2}  \\\\ \\vdots\\\\ u_{n} + v_{n}  \\end{bmatrix}$$.<br><br>\n",
        "Ejemplo:<br>\n",
        "$$\\begin{bmatrix} 3 \\\\ -1 \\\\ 8 \\end{bmatrix} + \\begin{bmatrix} -4 \\\\ 1 \\\\ 3 \\end{bmatrix} = \\begin{bmatrix} -1 \\\\ 0 \\\\ 11 \\end{bmatrix}$$<br><br>\n",
        "<strong>Producto por un escalar:</strong> sea $u$ un vector de $R^n$ y $c \\in R$ un escalar, el producto entre $c$ y $u$ (en ese orden) es un nuevo vector de $R^n$ cuyas componentes se obtienen multiplicando cada componente de $u$ por $c$:<br><br>\n",
        "$$ cu = c \\begin{bmatrix} u_{1} \\\\ u_{2}  \\\\ \\vdots\\\\  u_{n}  \\end{bmatrix} = \\begin{bmatrix} cu_{1} \\\\ cu_{2}  \\\\ \\vdots\\\\  cu_{n}  \\end{bmatrix}$$.<br><br>\n",
        "Ejemplo:<br>\n",
        "$$ 2\\begin{bmatrix} 3 \\\\ -1 \\\\ 8 \\end{bmatrix} = \\begin{bmatrix} 6 \\\\ -2 \\\\ 16 \\end{bmatrix} $$ <br><br>\n",
        "Podemos utilizar las definiciones anteriores para definir la resta entre vectores.<br><br>\n",
        "<strong>Resta de vectores:</strong> sean $u$ y $v$ dos vectores de $R^n$, la resta entre $u$ y $v$ se define de la siguiente forma:<br><br>\n",
        "$$ u-v = u + (-1)v $$<br><br>\n",
        "Notemos que una lista de $n$ números en Python es un n-tupla de números reales ordenados, sin embargo Python no nos permite trabajar como si fuera un vector.\n",
        "\n",
        "\n",
        "    \n",
        "</p>"
      ],
      "metadata": {
        "id": "Cjz3xzVcETZ5"
      }
    },
    {
      "cell_type": "code",
      "source": [
        "v = [3, -1, 4]\n",
        "u = [-4, 1, 3]\n",
        "w = [1,1]\n",
        "2*u "
      ],
      "metadata": {
        "id": "lK5EdbEjMYsI",
        "colab": {
          "base_uri": "https://localhost:8080/"
        },
        "outputId": "f0817ade-645d-4999-b4fb-e2ac93b0a10a"
      },
      "execution_count": null,
      "outputs": [
        {
          "output_type": "execute_result",
          "data": {
            "text/plain": [
              "[-4, 1, 3, -4, 1, 3]"
            ]
          },
          "metadata": {},
          "execution_count": 13
        }
      ]
    },
    {
      "cell_type": "markdown",
      "source": [
        "Para operar con listas como si fueran vectores deberiamos definir funciones adecuadamente. Por ejemplo:"
      ],
      "metadata": {
        "id": "Z-7xB3eXNLms"
      }
    },
    {
      "cell_type": "code",
      "source": [
        "def suma(u,v):\n",
        "  if len(u) == len(v):\n",
        "    w = []\n",
        "    for i in range(len(u)):\n",
        "      w.append(u[i]+v[i])\n",
        "    return w\n",
        "  else:\n",
        "    return 'Los vectores tienen distinta cantidad de componentes'"
      ],
      "metadata": {
        "id": "JDjgdtpaNUf1"
      },
      "execution_count": null,
      "outputs": []
    },
    {
      "cell_type": "code",
      "source": [
        "suma(u,v)"
      ],
      "metadata": {
        "colab": {
          "base_uri": "https://localhost:8080/"
        },
        "id": "mUpzkVA4NmwT",
        "outputId": "b080e14b-64ea-4341-e0d8-9fc5af1c7f87"
      },
      "execution_count": null,
      "outputs": [
        {
          "output_type": "execute_result",
          "data": {
            "text/plain": [
              "[-1, 0, 7]"
            ]
          },
          "metadata": {},
          "execution_count": 15
        }
      ]
    },
    {
      "cell_type": "markdown",
      "source": [
        "Para operar con vectores tenemos el módulo Numpy que toma listas numéricas y las \"transforma\" en vectores con los que podemos operar. Para ello utilizamos la función \"array\" de Numpy sobre una lista de números."
      ],
      "metadata": {
        "id": "GTT5RgXgM9dL"
      }
    },
    {
      "cell_type": "code",
      "source": [
        "v = np.array([3, -1, 4])\n",
        "u = np.array([-4, 1, 3])\n",
        "w = np.array([1,1])\n",
        "v+u, 2*w"
      ],
      "metadata": {
        "colab": {
          "base_uri": "https://localhost:8080/"
        },
        "id": "ogUToC-yM25R",
        "outputId": "d15f6580-a735-42b4-9317-94a99d5363ea"
      },
      "execution_count": null,
      "outputs": [
        {
          "output_type": "execute_result",
          "data": {
            "text/plain": [
              "(array([-1,  0,  7]), array([2, 2]))"
            ]
          },
          "metadata": {},
          "execution_count": 17
        }
      ]
    },
    {
      "cell_type": "markdown",
      "source": [
        " <p align=\"justify\">\n",
        "Las listas tienen un conjunto de métodos y atributos propios que mantienen al ser transformados en arrays, a la vez que ganan nuevos métodos y atributos.<br><br>\n",
        "Las operaciones mencionadas entre vectores presentan un conjunto de propiedades.<br><br>\n",
        "<strong>Propiedades de las operaciones entre vectores</strong><br><br>\n",
        "Sean $u,v$ y $w$ vectores de $R^n$ y sean $c$ y $d$ escalares (números reales). Se cumple que:<br><br>\n",
        "1. $u+v = v+u$<br><br>\n",
        "2. $(u+v) + w = u+(v+w)$<br><br>\n",
        "3. Existe el vector $\\textbf{0} \\in R^n$ tal que $u+\\textbf{0} = u$<br><br>\n",
        "4. Para cada vector $u \\in R^n$ existe $-u$ tal que $u + (-u) = \\textbf{0}$<br><br>\n",
        "5. $(c+d)u=cu + du$<br><br>\n",
        "6. $c(u+v)=cu+cv$<br><br>\n",
        "7. $(cd)u=c(du)=d(cu)$<br><br>\n",
        "8. $1u = u$<br><br>\n",
        "<strong>Combinación lineal:</strong> Decimos que el vector $u$ es combinación lineal de los vectores $v_1, v_2, ..., v_k$ si existen escalares $c_1, c_2,...,c_k$ tales que:<br><br>\n",
        "$$u=c_1v_1+c_2v_2+...+c_nv_n$$<br><br>\n",
        "Ejemplo:<br><br>\n",
        "$$(-1)\\begin{bmatrix} 3 \\\\ -1 \\\\ 8 \\end{bmatrix} + 2\\begin{bmatrix} -4 \\\\ 1 \\\\ 3 \\end{bmatrix} = \\begin{bmatrix} -11 \\\\ 3 \\\\ -2 \\end{bmatrix}$$<br><br>\n",
        "<strong>Aplicación</strong><br><br>\n",
        "Sea $f:R^2 \\to R / f(x,y) = x^2y - \\frac{1}{y}$. Esta función toma como argumento de entrada un vector de $R^2$ y devuelve un número real. Una pregunta a hacernos aquí es ¿qué es la derivada en esta función?<br><br>\n",
        "En este caso, no existe \"La Derivada\", si no que exite una derivada específica para cada variable independiente considerada. Es decir, en un caso vamos a derivar unicamente con respecto a $x$ considerando $y$ constante y en otro vamos a derivar con respecto $y$ considerando $x$ constante. A la derivada de $f$ respecto de $x$ la denotamos $f'_x$ y a la derivada de $f$ respecto de $y$ la denotamos $f'_y$. El elemento análogo a La Derivada para funciones multivaluadas es el vector gradiente, que es el vector que contiene, en orden, la derivada de la función estudiada respecto de cada variable independiente. Para este caso:<br><br>\n",
        "$$ \\nabla f(x,y) = \\begin{bmatrix} f'_x(x,y) \\\\ f'_y(x,y) \\end{bmatrix} $$<br><br>\n",
        "Para este caso, $\\nabla f$ es una función que toma vectores de $R^2$ y devuelve vectores de $R^2$.<br><br>\n",
        "La información contenida en el vector $\\nabla f$ es similar a la información  contenida en el valor de la derivada para una función univaluada. Si la primer componente del vector $\\nabla f$ es positiva entonces la función es creciente en la primer variable considerada y si es negativo la función es decreciente en esta variable. Es decir, el vector $\\nabla f$ nos da información de crecimiento y decrecimiento pero variable a variable.<br><br>\n",
        "<strong>Ejercicio</strong>: construya una función que compute el vector gradiente de $f(x,y)=x^2y - 1/y$\n",
        "\n",
        "</p>"
      ],
      "metadata": {
        "id": "XpAZeG7IOy5W"
      }
    },
    {
      "cell_type": "code",
      "source": [
        "x = sp.Symbol('x')\n",
        "y = sp.Symbol('y')\n",
        "f_alg = x**2 * y - 1/y\n",
        "f_alg"
      ],
      "metadata": {
        "colab": {
          "base_uri": "https://localhost:8080/",
          "height": 54
        },
        "id": "25LBemkMcHkR",
        "outputId": "88546e17-c14b-42bf-89c5-e5c88e65be0c"
      },
      "execution_count": null,
      "outputs": [
        {
          "output_type": "execute_result",
          "data": {
            "text/plain": [
              "x**2*y - 1/y"
            ],
            "text/latex": "$\\displaystyle x^{2} y - \\frac{1}{y}$"
          },
          "metadata": {},
          "execution_count": 18
        }
      ]
    },
    {
      "cell_type": "code",
      "source": [
        "f = sp.lambdify([x, y], f_alg)\n",
        "f(1,1)"
      ],
      "metadata": {
        "colab": {
          "base_uri": "https://localhost:8080/"
        },
        "id": "sZeqTovxsEp5",
        "outputId": "6565bb0a-376d-459c-ebc0-350b18ac85f2"
      },
      "execution_count": null,
      "outputs": [
        {
          "output_type": "execute_result",
          "data": {
            "text/plain": [
              "0.0"
            ]
          },
          "metadata": {},
          "execution_count": 19
        }
      ]
    },
    {
      "cell_type": "code",
      "source": [
        "def df(u,v):\n",
        "  dfx = sp.lambdify([x, y], sp.diff(f_alg,x))\n",
        "  dfy = sp.lambdify([x, y], sp.diff(f_alg,y))\n",
        "  return np.array([dfx(u,v), dfy(u,v)])"
      ],
      "metadata": {
        "id": "NlFp3kWFs2gP"
      },
      "execution_count": null,
      "outputs": []
    },
    {
      "cell_type": "code",
      "source": [
        "df(2,3)"
      ],
      "metadata": {
        "colab": {
          "base_uri": "https://localhost:8080/"
        },
        "id": "HawVEWd9tZ2u",
        "outputId": "bbaf2ac0-e9b0-42a9-f15f-e059d9311a76"
      },
      "execution_count": null,
      "outputs": [
        {
          "output_type": "execute_result",
          "data": {
            "text/plain": [
              "array([12.        ,  4.11111111])"
            ]
          },
          "metadata": {},
          "execution_count": 23
        }
      ]
    },
    {
      "cell_type": "markdown",
      "source": [
        " <p align=\"justify\">\n",
        "<strong>Vectorización</strong>: Sea $f$ una función definida de reales en raeles y sea $u$ un vector de $R^n$, definimos $f(u)$ como el vector de $R^n$ que se obtiene al aplicar $f$ a cada componente de $u$. Computacionalmente esta operación se denomina vectorización y Numpy nos permite aplicarla facilmente.\n",
        "\n",
        "</p>"
      ],
      "metadata": {
        "id": "k9qkB29GN3VT"
      }
    },
    {
      "cell_type": "code",
      "source": [
        "u = np.array([1,2,1])\n",
        "v = np.array([2,2,2])\n",
        "u*v"
      ],
      "metadata": {
        "colab": {
          "base_uri": "https://localhost:8080/"
        },
        "id": "XZQLkYYxOY11",
        "outputId": "ec28e6a2-e558-4318-d259-07ded354b0db"
      },
      "execution_count": null,
      "outputs": [
        {
          "output_type": "execute_result",
          "data": {
            "text/plain": [
              "array([2, 4, 2])"
            ]
          },
          "metadata": {},
          "execution_count": 26
        }
      ]
    },
    {
      "cell_type": "markdown",
      "source": [
        "<strong>Ejercicio bis</strong>: Construya una función que devuelva el vector gradiente calculado por derivación numérica"
      ],
      "metadata": {
        "id": "aGkeLiWhu_Rz"
      }
    },
    {
      "cell_type": "markdown",
      "source": [
        " # **<font color=\"DeepPink\">Producto Punto y Norma</font>**"
      ],
      "metadata": {
        "id": "DBRNHsXcu9nV"
      }
    },
    {
      "cell_type": "markdown",
      "source": [
        " <p align=\"justify\">\n",
        "Un vector, entendido como un desplazamiento, tiene dirección, sentido y longitud. Estos atributos quedan perfectamente determinados por las componentes del vector.<br><br>\n",
        "Si pensamos en un auto que se desplaza por una ruta, la dirección viene representada por la ruta en si misma, sin importar si va o viene (esto representa el sentido). Otra forma de verlo, si viajo a Buenos Aires desde Mendoza, la dirección es este-oeste y el sentido es hacia el este.<br><br>\n",
        "Más formalmente, los vectores:<br>\n",
        "$$\\begin{bmatrix} 2 \\\\ 1 \\end{bmatrix} \\text{ y } \\begin{bmatrix} -2 \\\\ -1 \\end{bmatrix}$$<br>\n",
        "tienen la misma dirección pero sentido contrario. Más aun, si $u$ es un vector de $R^n$ y $c$ es un escalar, los vectores $u$ y $cu$ tienen la misma dirección. Lo que hace el escalar es modificar la longitud del desplazamiento y el sentido (si genera un cambio de signo en las componentes del vector resultante). Intuitivamente, $u$ representa un desplazamiento dado, el vector $2u$ representa un desplazamiento en la misma dirección y sentido que $u$ pero con el doble de longitud.<br><br>\n",
        "Dado, dos vectores $u$ y $v$ de $R^n$, decimos que $u$ y $v$ son paralelos si existe un escalar $c$ o un escalar $k$ tales que:<br>\n",
        "$$ u = cv  \\quad \\text{o} \\quad v=ku.$$<br>\n",
        "Formalmente, decimos que $u$ es múltiplo escalar de $v$.<br><br>\n",
        "Esta es la primera noción de relación de dirección entre vectores. Para entender la segunda relación de direcciones entre vectores que vamos a estudiar primero debemos definir una nueva operación entre vectores, el producto punto, y el concepto de longitud de un vector (formalmente llamada norma).<br><br>\n",
        "<strong>Producto punto:</strong> Dado dos vectores $u$ y $v$ de $R^n$ definimos el producto punto (o producto interior) entre $u$ y $v$ de la siguiente forma:<br>\n",
        "$$ u.v= u_1v_1 + u_2v_2 + ...+u_nv_n $$<br>\n",
        "El producto punto entre $u$ y $v$ se denota $u.v$, $uv$ o $< u , v >$.<br>\n",
        "Numpy tiene más de una función específica que calcula el producto punto entre vectores, pero nosotros vamos a construir la nuestra.\n",
        "</p>"
      ],
      "metadata": {
        "id": "kA_sKwU2vXMt"
      }
    },
    {
      "cell_type": "code",
      "source": [
        "def pp(u,v):\n",
        "  if len(u) == len(v):\n",
        "    return(np.sum(u*v))\n",
        "  else:\n",
        "    'Los vectores tienen distinta cantidad de componentes'"
      ],
      "metadata": {
        "id": "j4baf_Ve07lt"
      },
      "execution_count": null,
      "outputs": []
    },
    {
      "cell_type": "code",
      "source": [
        "u = np.array([2,1,2])\n",
        "v = np.array([1,1,1])\n",
        "pp(u,v)"
      ],
      "metadata": {
        "id": "PAsgUvYG1Oac"
      },
      "execution_count": null,
      "outputs": []
    },
    {
      "cell_type": "markdown",
      "source": [
        "A partir de esto vamos a estudiar la longitud (o norma) de un vector."
      ],
      "metadata": {
        "id": "3zOUrNxDKJ0I"
      }
    },
    {
      "cell_type": "markdown",
      "source": [
        "![image.png](data:image/png;base64,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)"
      ],
      "metadata": {
        "id": "VjRvoGDAKHml"
      }
    },
    {
      "cell_type": "markdown",
      "source": [
        " <p align=\"justify\">\n",
        "<strong>Norma de un vector</strong>: Una norma en $R^n$ es una función $||\\cdot||:R^n \\to R$ tal que cumple las siguientes propiedades:<br><br>\n",
        "1. $||u||\\geq0$ para todo $u \\in R^n$ y $||u||=0$ si y solo si $u = \\textbf{0}$.<br><br>\n",
        "2. Si $u \\in R^n$ y $c \\in R$ entonces $||cu||=|c|.||u||.$<br><br>\n",
        "3. Si $u,v \\in R^n$ entonces $||u+v|| \\leq ||u|| + ||v||$<br><br>\n",
        "Las 3 normas más utilizadas son:<br><br>\n",
        "a. Norma Manhatan o Norma-1: $||u|| = |u_1| + |u_2| + ...+ |u_n|.$<br><br>\n",
        "b. Norma Euclidea o Norma-2: $||u|| = \\sqrt{u_1^2 + u_2^2 + ...+ u_n^2}$<br><br>\n",
        "c. Norma Sup o Norma-$\\infty$ = $||u|| = \\max { \\{|u_1| , |u_2| , ..., |u_n| \\} }$<br><br>\n",
        "A modo general, podemos considerar la Norma de Minkowski:<br><br>\n",
        "$$ ||u|| = ( |u_1| ^ p + |u_2| ^ p + ... + |u_n| ^ p ) ^{ \\frac {1} {p} } \\text{con }p>0 $$<br><br>\n",
        "La norma de Minkowski es igual a la Norma-1 cuando consideramos $p=1$, a la Norma-2 cuando consideramos $p=2$ y a la Norma sup cuando $p \\to \\infty$. En este apunte trabajaremos solo con Norma-2.\n",
        "\n",
        "</p>"
      ],
      "metadata": {
        "id": "5IwYMk1zKQZ9"
      }
    },
    {
      "cell_type": "code",
      "source": [
        "#Norma 2\n",
        "def norma(u):\n",
        "  return np.sqrt(np.sum(u*u))    #u*u es un nuevo vector cuyas componentes son los cuadrados de las componentes de u."
      ],
      "metadata": {
        "id": "GLGrQnaONt4v"
      },
      "execution_count": null,
      "outputs": []
    },
    {
      "cell_type": "code",
      "source": [
        "u = np.array([1,-1,0,4])\n",
        "norma(u)"
      ],
      "metadata": {
        "colab": {
          "base_uri": "https://localhost:8080/"
        },
        "id": "7CLSy_gUOzlt",
        "outputId": "42d13fdd-8b8f-4a74-925d-5d9627e640cf"
      },
      "execution_count": null,
      "outputs": [
        {
          "output_type": "execute_result",
          "data": {
            "text/plain": [
              "4.242640687119285"
            ]
          },
          "metadata": {},
          "execution_count": 32
        }
      ]
    },
    {
      "cell_type": "markdown",
      "source": [
        " <p align=\"justify\">\n",
        "Las normas nos permiten calcular distancia entre vectores. Sean $u$ y $v$ dos vectores de $R^n$, definimos la distancia entre $u$ y $v$ como la norma del vector diferencia entre $u$ y $v$:<br><br>\n",
        "$$ d(u,v)=||u-v|| $$<br><br>\n",
        "En términos generales, la distancia entre dos vectores nos dice cuanto se parecen esos dos vectores. Si la distancia es 0 entonces los dos vectores son iguales. Mientras mayor sea la distancia más disímiles son.\n",
        "\n",
        "</p>"
      ],
      "metadata": {
        "id": "1a1CTNWzO_AP"
      }
    },
    {
      "cell_type": "code",
      "source": [
        "u = np.array([1,-1,0,4])\n",
        "v = np.array([-1,2,2,1])\n",
        "norma(u-v), norma(v-u)         #La distáncia entre u y v es la misma que la distáncia entre v y u"
      ],
      "metadata": {
        "colab": {
          "base_uri": "https://localhost:8080/"
        },
        "id": "x4cmC7MEP5P3",
        "outputId": "c2422d15-c735-4939-c847-4fd0060a4118"
      },
      "execution_count": null,
      "outputs": [
        {
          "output_type": "execute_result",
          "data": {
            "text/plain": [
              "(5.0990195135927845, 5.0990195135927845)"
            ]
          },
          "metadata": {},
          "execution_count": 33
        }
      ]
    },
    {
      "cell_type": "markdown",
      "source": [
        " <p align=\"justify\">\n",
        "<strong>Ortogonalidad</strong>: Sean $u$ y $v$ dos vectores de $R^n$, decimos que son ortogonales si se cumple que:<br><br>\n",
        "$$ u.v = 0 $$<br><br>\n",
        "La idea de ortogonalidad es importante. En el espacio bidimiensional o tridimensional, que dos vectores sean ortogonales significa que forman un ángulo recto. Esto quiere decir, si $u$ y $v$ son ortogonales, al avanzar en la dirección de uno de ellos no avanzo en la dirección del otro.<br><br>\n",
        "A modo de ejemplo, las direcciones Norte-Sur y Este-Oeste son ortogonales. Pero la dirección Sureste-Noroeste no es ortogonal a la dirección Norte-Sur. Al avanzar en el dirección Sureste-Noroeste algo avanzo en la dirección Norte-Sur.<br><br>\n",
        "De un modo más general, si dos vectores son ortogonales al aprender en la dirección de uno, no aprendo nada en la dirección del otro.<br><br>\n",
        "<strong>Aplicación:</strong> Dada una función $f:R^2 \\to R$ diferenciable, $f'_x$ nos da información de como varía $f$ al variar solo $x$ y $f'_y$ nos da información de como varía $f$ al variar solo $y$. Podemos calcular una derivada que nos diga como varía $f$ al variar $x$ e $y$ en una proporción fija entre ellos. Esta derivada se obtiene mediante el proudto punto:<br><br>\n",
        "$$f'_u(x,y) = \\nabla f (x,y). u$$<br><br>\n",
        "donde $u$ debe ser un vector de norma euclidia igual a 1. No obstante, Si solo estamos interesados en saber si la función crece o decrece en la dirección y sentido de un determinado vectro $v$ (cualquiera, sin importar su norma), nos basta aplicar el producto punto directo:<br><br>\n",
        "1. Si $\\nabla f(x,y) . v >0$ la función crece cuando variamos $x$ e $y$ en la dirección y sentido del vector $v$. <br><br>\n",
        "2. Si $\\nabla f (x,y). v < 0$ la función decrece cuando variamos $x$ e $y$ en la dirección y sentido del vector $v$. <br><br>\n",
        "3. Si $\\nabla f (x,y). v = 0$ la función no varía cuando variamos $x$ e $y$ en la dirección (no importa sentido) del vector $v$. <br><br>\n",
        "Dado $\\nabla f(x_0,y_0)$, la dirección y sentido de mayor crecimiento para la función en $(x_0,y_0)$ viene dada por el mismo vector $\\nabla f(x_0,y_0)$, mentras que la dirección y sentido de mayor decrecimiento viene dada por $-\\nabla f(x_0,y_0)$. Ejemplo, si el vector gradiente de $f$ en un punto $(x_0,y_0)$ es<br><br>\n",
        "$$ \\nabla f(x_0,y_0) = \\begin{bmatrix} 2 \\\\ -1 \\end{bmatrix}$$<br><br>\n",
        "Entonces el crecimiento de $f$ es máximo cuando disminuimos en 1 unidad el valor de $y$ por cada $2$ unidades que aumentamos la $x$. Y el decrecimiento es máximo cuando aumentamos en 1 unidad $y$ por cada 2 unidades que disminuimos $x$.\n",
        "\n",
        "</p>"
      ],
      "metadata": {
        "id": "TavE146xQMmM"
      }
    },
    {
      "cell_type": "markdown",
      "source": [
        " # **<font color=\"DeepPink\">Matrices</font>**"
      ],
      "metadata": {
        "id": "UPbXFKTXVZiK"
      }
    },
    {
      "cell_type": "markdown",
      "source": [
        " <p align=\"justify\">\n",
        "<strong>Definición</strong>: Una matriz es un arreglo rectangular de números reales. Concretamente, una matriz $A_{m \\times n}$ contiene $m\\times n$ números reales ordenados en $m$ filas y $n$ columnas.<br><br>\n",
        "$$A_{m \\times n} = \\begin{bmatrix} \n",
        "            a_{1,1} & a_{1,2} & \\cdots & a_{1,n} \\\\ \n",
        "            a_{2,1} & a_{2,2} & \\cdots & a_{2,n} \\\\ \n",
        "            \\vdots  & \\vdots  & \\ddots & \\vdots  \\\\ \n",
        "            a_{m,1} & a_{m,2} & \\cdots & a_{m,n} \n",
        "            \\end{bmatrix}$$<br><br>\n",
        "El tamaño de la matriz viene dado por la cantidad de filas y columnas que tiene especificadas en ese orden ($m \\times n$), y $a_{i,j}$ representa al elemento que ocupa el lugar de la fila $i$ columna $j$. Ejemplo:<br><br>\n",
        "\n",
        "$$B = \\begin{bmatrix} 2 & 3 & 1 \\\\ 1 & -1 & -2 \\end{bmatrix}$$<br><br>\n",
        "La matriz $B$ es de tamaño $2 \\times 3$ y el elemento $(2,3)$ es $-2$ ($b_{2,3}=-2$).<br><br>\n",
        "Una matriz de $m \\times n$ se puede entender como $m$ vectores fila pegados uno debajo del otro, o como $n$ vectores columna pegados uno al lado del otro<br><br>\n",
        "Un vector de $R^n$ puede entenderse como una matriz de $n \\times 1$. De hecho, a este tipo de matrices las llamaremos vectores.<br><br>\n",
        "Las matrices son útiles para almacenar información que guarda algún tipo de relación entre filas y columnas. Por ejemplo, una matriz puede contener las ventas anuales de distintas sucursales de una empresa. Cada columna representa una sucursal y cada fila un año. Las encestas almacenan su información en matrices donde una fila contiene toda la información relativa a una observación, y una columna contine la información relativa a una de las variables estudiadas para todas las observaciones.<br><br>\n",
        "Las matrices <strong>pueden sumarse si tienen el mismo tamaño</strong> y la suma se realiza elemento a elemento respectivamente. También se define el producto de un escalar por una matriz de la misma forma que se define para vectores. Más aún, las propiedades de estas operaciones son las mismas que las propiedades de las operaciones análogas para vectores.<br><br>\n",
        "Para cargar una matriz en Python debemos usar la misma función array de Numpy, pero en esta ocación debemos suministrar como input una lista de listas. Cada lista dentre de la lista principal será una fila de la matriz.\n",
        "            \n",
        "            \n",
        "\n",
        "</p>"
      ],
      "metadata": {
        "id": "TdwKtcj9VwJQ"
      }
    },
    {
      "cell_type": "code",
      "source": [
        "lista = [[2,1],[1,1]]\n",
        "lista[1]"
      ],
      "metadata": {
        "colab": {
          "base_uri": "https://localhost:8080/"
        },
        "id": "PK0AolcmcRwu",
        "outputId": "e98818e5-29f3-4a25-88ab-f4eee7fc0f15"
      },
      "execution_count": null,
      "outputs": [
        {
          "output_type": "execute_result",
          "data": {
            "text/plain": [
              "[1, 1]"
            ]
          },
          "metadata": {},
          "execution_count": 3
        }
      ]
    },
    {
      "cell_type": "code",
      "source": [
        "A = np.array([[2,1],\n",
        "              [1,1]])  \n",
        "\n",
        "B = np.array([[-2,1],\n",
        "              [-1,4]])\n",
        "\n",
        "C = np.array([[2,1,1],\n",
        "              [1,1,0]])\n",
        "#Para sumar, multiplicar por un escalar o vectorizar funciona igual que para vectores\n",
        "np.sin(A)"
      ],
      "metadata": {
        "colab": {
          "base_uri": "https://localhost:8080/"
        },
        "id": "uKgRXuohaJBs",
        "outputId": "4f93ec2e-fcd1-4321-ecb7-f154fa983dbe"
      },
      "execution_count": null,
      "outputs": [
        {
          "output_type": "execute_result",
          "data": {
            "text/plain": [
              "array([[0.90929743, 0.84147098],\n",
              "       [0.84147098, 0.84147098]])"
            ]
          },
          "metadata": {},
          "execution_count": 10
        }
      ]
    },
    {
      "cell_type": "markdown",
      "source": [
        " <p align=\"justify\">\n",
        "<strong>Multiplicación de matrices:</strong> Sea $A_{m \\times n}$ y $B_{n \\times p}$ matrices. Dado que el número de columnas de $A$ coincide con el número de filas de $B$, el producto $AB$ está definido y es una nueva matriz de tamaño $m \\times p$ cuyo elemneto $(i,j)$ se obtine calculando el producto punto entre el i-ésimo vector fila de $A$ y el j-ésimo vector columna de $B$.<br><br>\n",
        "Ejemplo:<br><br>\n",
        "$$A = \\begin{bmatrix} 2 & 3 & 0 \\\\ 1 & 0 & 1 \\end{bmatrix}_{2 \\times 3} \\text{  y } B = \\begin{bmatrix} -2 \\\\ -1 \\\\ 1 \\end{bmatrix}_{3 \\times 1} \\to \\begin{bmatrix} 2 & 3 & 0 \\\\ 1 & 0 & 1 \\end{bmatrix} \\begin{bmatrix} -2 \\\\ -1 \\\\ 1 \\end{bmatrix} = \\begin{bmatrix} 2.(-2)+3.(-1)+1.0 \\\\ 1.(-2)+0.1+1.1  \\end{bmatrix}_{2 \\times 1} = \\begin{bmatrix} -7 \\\\ -1  \\end{bmatrix}_{2 \\times 1}$$<br><br>\n",
        "Note que el producto $BA$ no está definido puesto que el número de columnas de $B$ (una sola) no coincide con el número de filas de $A$ (tres). <br><br>\n",
        "El producto de matrices no cumple la propiedad conmutativa. Por lo tanto, hay que ser cuidadosos al operar con productos de matrices.<br><br>\n",
        "<strong>Propiedades de la multiplicación de matrices</strong><br><br>\n",
        "Sean $A,B,C$ matrices de tamaños adecuados para realizar las operaciones siguentes, se cumple que:<br><br>\n",
        "1. $(AB)C = A(BC)$.<br><br>\n",
        "2. $A(B+C) = AB + AC$.<br><br>\n",
        "3. $(A+B)C = AC + BC$.<br><br>\n",
        "4. Existe una matriz $I$ tal que $AI=A$ y otra matriz $I'$ tal que $I'A = A.$<br><br>\n",
        "<strong>Matrices Cuadradas:</strong> una matriz es cuadrada si tiene la misma cantidad de filas y de columnas. Una matriz especial cuadrada es la matriz Identidad de orden $n$ ($I_n$). Esta matriz tiene $n$ filas y $n$ columnas, todos los elementos $(i,i)$ toman valor $1$ mienstras que los restantes toman valor $0$. Ejemplo:<br><br>\n",
        "$$ I_3 = \\begin{bmatrix} 1&0&0 \\\\ 0&1&0 \\\\ 0&0&1 \\end{bmatrix}$$<br><br>\n",
        "Para multiplicar matrices con Numpy se utiliza @.\n",
        "\n",
        "\n",
        "\n",
        "</p>"
      ],
      "metadata": {
        "id": "HHFalLGM0yhd"
      }
    },
    {
      "cell_type": "code",
      "source": [
        "A = np.array([[1,2,3], [2,1,1]])    #A es 2x3\n",
        "B = np.array([[1,1],[0,1],[1,-3]])  #B es 3x2\n",
        "A@B                                 #AB es 2x2 y BA es 3x3"
      ],
      "metadata": {
        "colab": {
          "base_uri": "https://localhost:8080/"
        },
        "id": "W5iGmlYc3KOV",
        "outputId": "cea522fc-6cd3-4fdb-8053-1c87d7980355"
      },
      "execution_count": null,
      "outputs": [
        {
          "output_type": "execute_result",
          "data": {
            "text/plain": [
              "array([[ 4, -6],\n",
              "       [ 3,  0]])"
            ]
          },
          "metadata": {},
          "execution_count": 13
        }
      ]
    },
    {
      "cell_type": "code",
      "source": [
        "#Para Numpy los vectores no son matrices\n",
        "v = np.array([1,2])    # v matriz fila 1x2\n",
        "v@A, B@v"
      ],
      "metadata": {
        "colab": {
          "base_uri": "https://localhost:8080/"
        },
        "id": "K-Z94geTOOOg",
        "outputId": "a4d40490-ea00-4900-df9e-8eaec5021ada"
      },
      "execution_count": null,
      "outputs": [
        {
          "output_type": "execute_result",
          "data": {
            "text/plain": [
              "(array([5, 4, 5]), array([ 3,  2, -5]))"
            ]
          },
          "metadata": {},
          "execution_count": 17
        }
      ]
    },
    {
      "cell_type": "code",
      "source": [
        "#Para transformar una vector en una matriz usamos reshape\n",
        "#v.shape\n",
        "vcol = np.reshape(v,(2,1))\n",
        "vfil = np.reshape(v,(1,2))\n",
        "vfil.shape, v.shape"
      ],
      "metadata": {
        "colab": {
          "base_uri": "https://localhost:8080/"
        },
        "id": "vND9EbShwl0V",
        "outputId": "b59b0caa-7fa2-4084-c108-df2da4f1b186"
      },
      "execution_count": null,
      "outputs": [
        {
          "output_type": "execute_result",
          "data": {
            "text/plain": [
              "((1, 2), (2,))"
            ]
          },
          "metadata": {},
          "execution_count": 23
        }
      ]
    },
    {
      "cell_type": "markdown",
      "source": [
        " <p align=\"justify\">\n",
        "<strong>Transpuesta de una matriz:</strong> Sea $A$ una matriz de tamaño $m \\times n$, la matriz transpuesta de $A$ es una matriz de tamaño $n \\times m$ que denotamos $A'$ (o $A^t$) en la que las filas de $A'$ son las columnas de $A$.<br><br>\n",
        "\n",
        "\n",
        "\n",
        "\n",
        "</p>"
      ],
      "metadata": {
        "id": "W8y8qI6TZvaF"
      }
    },
    {
      "cell_type": "code",
      "source": [
        "A\n",
        "B = A.T\n",
        "B"
      ],
      "metadata": {
        "colab": {
          "base_uri": "https://localhost:8080/"
        },
        "id": "ond9gmbe9wVW",
        "outputId": "1945702c-3386-41f0-a4c3-f612bf4bbf05"
      },
      "execution_count": null,
      "outputs": [
        {
          "output_type": "execute_result",
          "data": {
            "text/plain": [
              "array([[1, 2],\n",
              "       [2, 1],\n",
              "       [3, 1]])"
            ]
          },
          "metadata": {},
          "execution_count": 28
        }
      ]
    },
    {
      "cell_type": "markdown",
      "source": [
        " <p align=\"justify\">\n",
        "<strong>Propiedades:</strong> Sean $A$ y $B$ matrices tales que las siguientes operaciones estan definidas y $c$ un escalar:<br><br>\n",
        "1. $(A')'=A.$<br><br>\n",
        "2. $(A+B)'=A'+B'$.<br><br>\n",
        "3. $(cA)'=cA'$.<br><br>\n",
        "4. $(AB)'=B'A'$.\n",
        "\n",
        "\n",
        "\n",
        "\n",
        "</p>"
      ],
      "metadata": {
        "id": "0OFCTVKQt7gG"
      }
    },
    {
      "cell_type": "markdown",
      "source": [
        " <p align=\"justify\">\n",
        "<strong>Inversa de una Matriz</strong><br><br>\n",
        "Sea $A$ una matriz cuadrada $n \\times n$, decimos que $A$ es invertible si existe una matriz $B$ (también cuadrada) tal que:<br><br>\n",
        "$$ AB = BA = I_n $$<br><br>\n",
        "A dicha matriz $B$ la llamamos inversa de $A$ y la denotamos $A^{-1}$.\n",
        "\n",
        "\n",
        "\n",
        "\n",
        "\n",
        "</p>"
      ],
      "metadata": {
        "id": "z1ZAWM5SujfO"
      }
    },
    {
      "cell_type": "code",
      "source": [
        "A = np.array([[1,2],\n",
        "              [2,1]])\n",
        "\n",
        "B = np.linalg.inv(A)\n",
        "B"
      ],
      "metadata": {
        "colab": {
          "base_uri": "https://localhost:8080/"
        },
        "id": "dPcCbzfhvhBq",
        "outputId": "57db0a71-416f-4c27-bdf7-c9e830983b16"
      },
      "execution_count": null,
      "outputs": [
        {
          "output_type": "execute_result",
          "data": {
            "text/plain": [
              "array([[-0.33333333,  0.66666667],\n",
              "       [ 0.66666667, -0.33333333]])"
            ]
          },
          "metadata": {},
          "execution_count": 32
        }
      ]
    },
    {
      "cell_type": "markdown",
      "source": [
        " <p align=\"justify\">\n",
        "<strong>Propiedades:</strong> Sean $A$ y $B$ matricies invertibles del mismo tamaño y sea $c$ un escalar: <br><br> \n",
        "1. $(A^{-1})^{-1}=A.$<br><br> \n",
        "2. $(cA)^{-1}=\\frac{1}{c}A^{-1}$<br><br> \n",
        "3. $(AB)^{-1}=B^{-1}A^{-1}$<br><br> \n",
        "4. $(A')^{-1}=(A^{-1})'$<br><br> \n",
        "¿Cómo determinamos si una matriz es invertible? Para ello vamos a utilizar el rango de una matriz.<br><br> \n",
        "<strong>Rango de una matriz:</strong> Sea $A$ una matriz $m \\times n$, el rango de $A$, al que denotamos $\\text{Rango}(A)$, es el número que representa la cantidad de vectores fila de la matriz $A$ que no pueden ser escritos como combinación lineal de los restantes vectores filas de la matriz.<br><br> \n",
        "Ejemplo:<br><br> \n",
        "$$ A = \\begin{bmatrix} 1 & 1 \\\\ 0 & 1 \\\\ 2 & 1 \\end{bmatrix} $$<br><br>\n",
        "Llamando $F_i$ a al i-ésimo vector fila de la matriz $A$, vemos que $F_3$ es combinación linel de $F_2$ y de $F_1$:<br><br>\n",
        "$$ 2F_1 + (-1)F_2 = F_3 $$<br><br>\n",
        "$$ 2\\begin{bmatrix} 1 \\\\ 1 \\end{bmatrix} + (-1)\\begin{bmatrix} 0 \\\\ 1 \\end{bmatrix} = \\begin{bmatrix} 2 \\\\ 1 \\end{bmatrix} $$<br><br>\n",
        "Una vez descartado $F_3$, ni la primer fila no puede escribirse como combinación lineal de la segunda ni la segunda como combinación lineal de la primera. Esto es, no existen $c \\in R$ ni $k \\in R$ tales que:<br><br>\n",
        "$$ c\\begin{bmatrix} 1 \\\\ 1 \\end{bmatrix} = \\begin{bmatrix} 0 \\\\ 1 \\end{bmatrix} $$<br>\n",
        "$$ k\\begin{bmatrix} 0 \\\\ 1 \\end{bmatrix} = \\begin{bmatrix} 1 \\\\ 1 \\end{bmatrix} $$<br><br>\n",
        "Luego, $\\text{Rango}(A) = 2$<br><br>\n",
        "<strong>Dos propiedades importantes</strong> referidas al rango de una matriz:<br><br>\n",
        "1. Si $A$ es $m \\times n$ entonces $\\text{Rango}(A) \\leq \\min \\{ m;n \\}$<br><br>\n",
        "2. Si $A$ y $B$ son dos matrices tales que $AB$ está definido entonces $\\text{Rango}(AB) = \\min \\{\\text{Rango}(A);\\text{Rango}(B) \\}$<br><br>\n",
        "Para obtener el rango de una matriz con Numpy se utiliza la función linalg.matrix_rank (A).\n",
        "\n",
        "\n",
        "</p>"
      ],
      "metadata": {
        "id": "jRlB0MFXVb-b"
      }
    },
    {
      "cell_type": "code",
      "source": [
        "A = np.array([[1,1],[0,1],[2,1]])\n",
        "np.linalg.matrix_rank(A)"
      ],
      "metadata": {
        "colab": {
          "base_uri": "https://localhost:8080/"
        },
        "id": "Llux0kCZ-sNM",
        "outputId": "1241f586-3618-4535-ef2a-58c4f9b06e53"
      },
      "execution_count": null,
      "outputs": [
        {
          "output_type": "execute_result",
          "data": {
            "text/plain": [
              "2"
            ]
          },
          "metadata": {},
          "execution_count": 33
        }
      ]
    },
    {
      "cell_type": "markdown",
      "source": [
        "<strong>Propiedad:</strong> Una matriz cuadrada $A$ de tamaño $n \\times n$ es invertible si $\\text{Rango}(A) = n$. Es decir, una matriz cuadrada es invertible si su rango es igual a la cantidad de filas que tiene la matriz."
      ],
      "metadata": {
        "id": "pmw2xh8k--Lt"
      }
    },
    {
      "cell_type": "markdown",
      "source": [
        " # **<font color=\"DeepPink\">Sistemas de Ecuaciones Lineales</font>**"
      ],
      "metadata": {
        "id": "h1GO8Ez5_bHP"
      }
    },
    {
      "cell_type": "markdown",
      "source": [
        " <p align=\"justify\">\n",
        "Una ecuación es lineale si las incognitas presententes solo aparecen multiplicadas por escalares:<br><br>\n",
        "Ejemplo, la siguiente es una ecuación lineal con incógnitas $x$, $y$, $z$ y $w$:<br><br>\n",
        "$$ 2x + 3y - z -4w = 8 $$<br><br>\n",
        "Un sistema de ecuaciones lineales es un conjunto de ecuaciones lineales con las mismas incognitas. Por ejemplo:<br><br>\n",
        "$$   \\begin{cases}\n",
        "    2x + 3y -z -4w =8\\\\ 1x - 3y +z +2w =0 \\\\ -x - y + 4z +0w =-4\n",
        "  \\end{cases} $$<br><br>\n",
        "Podemos utilizar la multiplicación matricial para escribir este sistema:<br><br>\n",
        "$$ \\begin{bmatrix} 2&3&-1&-4\\\\1&-3&1&2\\\\-1&-1&4&0 \\end{bmatrix} \\begin{bmatrix} x \\\\ y \\\\ z \\\\ w \\end{bmatrix} = \\begin{bmatrix} 8 \\\\ 0 \\\\ -4 \\end{bmatrix}$$<br><br>\n",
        "La expresión anterior es la forma matricial del sistema de ecuaciones. Esta forma es la más usada y la más práctica para estudiar al sistema.<br><br>\n",
        "Cualquier sistema de $m$ ecuaciones lineales con $n$ incognitas se puede escribir en forma matrical:<br><br>\n",
        "$$ A_{m \\times n} X_{n \\times 1} = B_{m \\times 1}, $$<br><br>\n",
        "donde $A$ es la matriz de coeficientes del sistema, $X$ es la matriz de incógnitas del sistema y $B$ es la matriz de términos independientes del sistema.<br><br>\n",
        "Una solución para un sistema como el anterior es un vector $s \\in R^n$ tal que se cumple la igualdad matricial:<br><br>\n",
        "$$ A s = B $$<br><br>\n",
        "Se denomina conjunto solución del sistema al conjunto de todos los vectores que son solución al sistema:<br><br>\n",
        "$$S = \\bigg\\{ s \\in R^n / As = B \\bigg \\}$$<br><br>\n",
        "Los sistemas de ecuaciones lieales son importantes desde un punto de vista matemático porque conocemos muy bien como \"funcionan\".<br><br>\n",
        "Un sistema de ecuaciones lineales $AX = B$ puede tener:<br><br>\n",
        "1. Un conjunto solución vacío (0 soluciones).<br><br>\n",
        "2. Un conjunto solución unitario (solución única)<br><br>\n",
        "3. Un conjunto solución infinito (infinita cantidad de soluciones)<br><br>\n",
        "La propiedad implica que si un sistema de ecuaciones lineales tiene dos soluciones entonces tiene infinitas soluciones. Los sistemas que no tienen solución alguna se denominan Inconsistentes (o incompatibles) mientras que los sistemas que presentan al menos una solución se denominan consitentes. Los sistemas consistentes pueden ser Determinados si tienen solución única o Indeterminados si tienen infinitas soluciones. Nos vamos a centrar unicamente en sistemas consistentes determinados y veremos algunos casos especiales de sistemas inconsistentes.<br><br>\n",
        "Dado un sistema de ecuaciones lineales $AX = B$, denominamos <strong>matriz ampliada</strong> del sistema a la matriz que se obtiene al pegar el matriz las matrices $A$ y $B$ una al lado de la otra, en el orden mencionado, y la denotamos $[A|B]$. En nuestro ejemplo, la matriz ampliada del sistema es:<br><br>\n",
        "$$ [A|B] = \\begin{bmatrix} 2&3&-1&-4&8\\\\1&-3&1&2&0\\\\-1&-1&4&0&4 \\end{bmatrix}  $$<br><br>\n",
        "A partir de la matriz ampliada podemos determinar si un sistema de ecuaciones tiene solución o no:<br><br>\n",
        "<strong>Teorema Rouche-Frobenius:</strong> Un sistema de ecuaciones lineales $AX = B$ es consistente si $\\text{Rango}(A) = \\text{Rango}(A|B)$ (un sistema de ecuaciones lineales tiene solución si el rango de la matriz e coeficientes es igual al rango de la matriz ampliada).<br><br>\n",
        "<strong>Teorema del Rango: </strong>Dado un sistema de ecuaciones lineales $AX = B$ consistente, el sitema tendrá solución única si el $\\text{Rango}(A) = n° \\text{ } incognitas$ (o al número de columnas de $A$).<br><br>\n",
        "\n",
        "\n",
        "\n",
        "</p>"
      ],
      "metadata": {
        "id": "o4ZLSjC5_e-k"
      }
    },
    {
      "cell_type": "markdown",
      "source": [
        " # **<font color=\"DeepPink\">Resolución de Sistemas de Ecuaciones Lineales</font>**"
      ],
      "metadata": {
        "id": "KUblHbUwOhuc"
      }
    },
    {
      "cell_type": "markdown",
      "source": [
        " <p align=\"justify\">\n",
        "El método de Gauss (y su variante Gauss-Jordan) es el método general utilizado para encontrar el conjunto solución a cualquier sistema de ecuaciones lineales. Al aplicarlo nos damos cuenta facilmente si el sistema es consitente o no, y si es determiando o indeterminado. No vamos a estudiarlo en este apunte, puede consultar los temas de Operaciones elementales por filas y Método de Gauss en el libro de Poole si está interesado.<br><br>\n",
        "El método consiste en reeemplazar ecuaciones en el sistema original por nuevas ecuaciones que facilitan el cálculo de la solución. Una ecuación se reemplaza por una Combinación lineal entre si misma y las restantes ecuaciones lineales. Esto se puede hacer directamente utilizando la matriz ampliada del sistema, reempelzando una fila de la matriz ampliada por una combinación lineal de si misma y de las restantes filas. Esto permite que algunas filas se transformen en filas completas de ceros y dejen de tenerse en cuenta (reduciendo el tamaño del problema). También se busca que cada ecuación tenga la menor cantidad de incognitas posibles transformando en ceros los correspondientes coeficientes.<br><br>\n",
        "Vamos a estudiar aquí dos tipos de Sistemas de Ecuaciones Lineales, matriz de coeficientes cuadrada y matriz de coeficientes con más filas que columnas, y para ambos tipos consideraremos que el rango de la matriz de coeficientes es igual al número de columnas dela matriz.<br><br>\n",
        "Sea $AX = B$ un sistema de ecuaciones lineales tal que $A$ es cuadrada $n \\times n$ y $\\text{Rango}(A) = n$. Bajo estas condiciones la matriz $A$ es invertible y por los teoremas anteriores el sistema tiene solución única. Paratamos de la ecuación matricial inicial:<br><br>\n",
        "$$ AX = B $$<br>\n",
        "$$ A^{-1}AX = A^{-1}B $$<br>\n",
        "$$ IX = A^{-1}B $$<br>\n",
        "$$ X = A^{-1}B $$<br>\n",
        "La única solución del sistema viene dada por $A^{-1}X$<br><br>\n",
        "Resuelva el siguiente sistema de ecuaciones lineales:<br><br>\n",
        "$$ \\begin{bmatrix} 2&1 \\\\ 3&3 \\end{bmatrix} \\begin{bmatrix} x \\\\ y \\end{bmatrix} = \\begin{bmatrix} 1 \\\\ 1 \\end{bmatrix} $$\n",
        "</p>"
      ],
      "metadata": {
        "id": "MfCnyGhWOmSV"
      }
    },
    {
      "cell_type": "code",
      "source": [
        "#Cargamos las matrices\n",
        "A = np.array([[2,1],[3,3]])\n",
        "B = np.array([1,1])"
      ],
      "metadata": {
        "id": "HuJJKEwYMz3h"
      },
      "execution_count": null,
      "outputs": []
    },
    {
      "cell_type": "code",
      "source": [
        "#Determinamos si A es invertible\n",
        "np.linalg.matrix_rank(A)"
      ],
      "metadata": {
        "colab": {
          "base_uri": "https://localhost:8080/"
        },
        "id": "ygnRzj5eVVbo",
        "outputId": "bdc7db24-b4d1-4d33-ba51-ab641b8ed91e"
      },
      "execution_count": null,
      "outputs": [
        {
          "output_type": "execute_result",
          "data": {
            "text/plain": [
              "2"
            ]
          },
          "metadata": {},
          "execution_count": 41
        }
      ]
    },
    {
      "cell_type": "code",
      "source": [
        "#Buscamos la solución\n",
        "X = np.linalg.inv(A)@B\n",
        "X"
      ],
      "metadata": {
        "colab": {
          "base_uri": "https://localhost:8080/"
        },
        "id": "xj0Bu1sJV27i",
        "outputId": "99b257b0-0efa-417b-a1b4-1eca269accfd"
      },
      "execution_count": null,
      "outputs": [
        {
          "output_type": "execute_result",
          "data": {
            "text/plain": [
              "array([ 0.66666667, -0.33333333])"
            ]
          },
          "metadata": {},
          "execution_count": 42
        }
      ]
    },
    {
      "cell_type": "markdown",
      "source": [
        " <p align=\"justify\">\n",
        "Sea $AX = B$ un sistema consistente con $m$ ecuaciones y $n$ ingonitas tal que $m>n$ (hay más ecuaciones que incognitas), $\\text{Rango}(A) = n$. Por las condiciones mencionadas, el sistema tiene solución única. Trabajemos con la ecuación matricial:<br><br>\n",
        "$$ A_{m \\times n}X_{n \\times 1} = B_{m \\times 1} $$<br>\n",
        "$$ A'_{n\\times m}(A_{m \\times n}X_{n \\times 1})= A'_{n\\times m}B_{m \\times 1} $$<br>\n",
        "$$ (A'_{n\\times m}A_{m \\times n})X_{n \\times 1}= A'_{n\\times m}B_{m \\times 1} $$<br>\n",
        "$$ (A'A)X= (A'B) $$<br>\n",
        "Ahora tenemos un nuevo sistema $(A'A)X=(A'B)$. Note que la matriz $A'A$ es de cuadrada de tamaño $n \\times n$ con $\\text{Rango (A'A)=n}$. Es decir, $A'A$ es una matriz invertible, por lo que podemos emplear el método anterior para resolver el nuevo sistema:<br><br>\n",
        "$$ X = (A'A)^{-1}(A'B) $$<br><br>\n",
        "Resuelva el siguiente sistema de ecuaciones:<br><br>\n",
        "$$ \\begin{bmatrix} 2&1 \\\\ 3&3 \\\\ 1&2 \\end{bmatrix} \\begin{bmatrix} x \\\\ y \\end{bmatrix} = \\begin{bmatrix} 1 \\\\ 1 \\\\ 0 \\end{bmatrix} $$\n",
        "\n",
        "</p>"
      ],
      "metadata": {
        "id": "nvZFKbztWRyD"
      }
    },
    {
      "cell_type": "code",
      "source": [
        "#Cargamos las matrices\n",
        "A = np.array([[2,1],[3,3],[1,2]])\n",
        "B = np.array([1,1,0])\n",
        "AB = np.array([[2,1,1],[3,3,1],[1,2,0]])"
      ],
      "metadata": {
        "id": "wRobdfFqZLN_"
      },
      "execution_count": null,
      "outputs": []
    },
    {
      "cell_type": "code",
      "source": [
        "#Verificamos condiciones de rangos\n",
        "np.linalg.matrix_rank(A),np.linalg.matrix_rank(AB)"
      ],
      "metadata": {
        "colab": {
          "base_uri": "https://localhost:8080/"
        },
        "id": "Ssov84VTaYxk",
        "outputId": "ba68f421-df5e-4d14-a65b-008c42f773a1"
      },
      "execution_count": null,
      "outputs": [
        {
          "output_type": "execute_result",
          "data": {
            "text/plain": [
              "(2, 2)"
            ]
          },
          "metadata": {},
          "execution_count": 44
        }
      ]
    },
    {
      "cell_type": "code",
      "source": [
        "#Resolvemos\n",
        "X = np.linalg.inv(A.T @ A) @ (A.T @ B)\n",
        "X"
      ],
      "metadata": {
        "colab": {
          "base_uri": "https://localhost:8080/"
        },
        "id": "nMhAQ5-pcQqQ",
        "outputId": "e2cdcca8-db81-4d45-dc71-d984e7479476"
      },
      "execution_count": null,
      "outputs": [
        {
          "output_type": "execute_result",
          "data": {
            "text/plain": [
              "array([ 0.66666667, -0.33333333])"
            ]
          },
          "metadata": {},
          "execution_count": 45
        }
      ]
    },
    {
      "cell_type": "markdown",
      "source": [
        " <p align=\"justify\">\n",
        "Finalmente, vamos a trabajar con sistema $AX = B$ con $m$ ecuaciones y $n$ incongnitas tal que $\\text{Rango}(A) = n$ pero inconsistente. Este sistema no tiene solucion:<br><br>\n",
        "$$ AX \\neq B \\qquad \\forall X \\in R^n $$<br><br>\n",
        "Podemos reformular este problema para que tenga sentido buscando un vector $X$ tal que la distancia entre $AX$ y $B$ sea mínima. Es decir, podemos resolver el siguiente problema:<br><br>\n",
        "$$ \\min_X ||AX - B|| $$<br>\n",
        "Que es equivalente a:<br><br>\n",
        "$$ \\min_X ||AX - B||^2 $$<br>\n",
        "Si bien no lo vamos a probar, la solución a este problema viene dada por:<br><br>\n",
        "$$ X = (A'A)^{-1}(A'B) $$<br><br>\n",
        "Busque la solución que mejor aproxima a un solución del sistema corroborando todas las condiciones que se deben cumplir:<br><br>\n",
        "$$ \\begin{bmatrix} 2&1 \\\\ 3&3 \\\\ 1&2 \\end{bmatrix} \\begin{bmatrix} x \\\\ y \\end{bmatrix} = \\begin{bmatrix} 1 \\\\ 1 \\\\ 1 \\end{bmatrix} $$<br><br>\n",
        "</p>"
      ],
      "metadata": {
        "id": "IAEF2Ypvchyo"
      }
    },
    {
      "cell_type": "markdown",
      "source": [
        " # **<font color=\"DeepPink\">Aplicación: Sistemas de ecuaciones no lineales</font>**"
      ],
      "metadata": {
        "id": "2bBLj9y9e9yZ"
      }
    },
    {
      "cell_type": "markdown",
      "source": [
        " <p align=\"justify\">\n",
        "<strong>Funciones de $R^n$ en $ R^n$</strong><br><br>\n",
        "Una función de $f:A \\subset R^n \\to R^n$ es una aplicación que toma vectores de $R^n$ y devuelve vectores de $R^n$ cuya regla puede escribirse de la siguiente forma:<br><br>\n",
        "$$ f(X) = f(x_1, x_2, ..., x_n) = \\begin{bmatrix} f^1(X) \\\\ f^2(X) \\\\ ... \\\\ f^n(X) \\end{bmatrix} = \\begin{bmatrix} f^1(x_1, x_2, ..., x_n) \\\\ f^2(x_1, x_2, ..., x_n) \\\\ ... \\\\ f^n(x_1, x_2, ..., x_n) \\end{bmatrix} $$<br><br>\n",
        "donde $f^i$ es una función de $R^n$ en $R$ para cada $i$ y $X=(x_1,x_2,...,x_n)$. Además, que $f(X)$ es un vector de $R^n$. Por ejemplo:<br><br>\n",
        "$$  f(x,y) = \\begin{bmatrix} x + y^2 \\\\ y \\log{(x+y)}  \\end{bmatrix}  $$<br><br>\n",
        "Su \"derivada\", si existe, ahora será una matriz de $n \\times n$ ya que cada función $f^{i}$ tiene $n$ derivadas parciales:<br><br>\n",
        "$$ \\nabla f(X) = \\begin{bmatrix} f^1_{x_1}(X)&f^1_{x_2}(X)&...&f^1_{x_n}(X) \\\\ f^2_{x_1}(X)&f^2_{x_2}(X)&...&f^2_{x_n}(X) \\\\ ... & ... & ... & ... \\\\ f^n_{x_1}(X)&f^n_{x_2}(X)&...&f^n_{x_n}(X) \\end{bmatrix}$$<br><br>\n",
        "<strong>Aproximación lineal para funciones de $R^n$ a $R^n$</strong><br><br>\n",
        "Empecemos por el caso ssencillo. Sea $f:A \\subset R^2 \\to R$ y sea $(x_0,y_0)$ un punto del dominio de $f$. Si $f$ es diferenciable en el punto $(x_0,y_0)$ entonces podemos aproximar la función $f$ (en un entorno de $(x_0,y_0)$) mediante:<br><br>\n",
        "$$ f(x,y) \\approx f(x_0,y_0) + f'_x(x_0,y_0) \\times (x - x_0) + f'_y(x_0,y_0) \\times (y - y_0) $$<br><br>\n",
        "Esta expresión es análoga a la aproximación lineal para funciones de una variable real. El primer termino aproxima el cambio en $f$ debido a la variación en $x$ y el segundo el cambio en $f$ debido a la variación en $y$. El cambio total en $f$ es la suma de ambos. Ahora bien, utilizando lo que hemos aprendido de producto punto entre vectores:<br><br>\n",
        "$$ f(x,y) \\approx f(x_0,y_0) + f'_x(x_0,y_0) \\times (x - x_0) + f'_y(x_0,y_0) \\times (y - y_0) = f(x_0,y_0) + \\begin{bmatrix} f'_x(x_0,y_0) \\\\ f'_y(x_0,y_0) \\end{bmatrix}\\begin{bmatrix} x-x_0 \\\\ y-y_0 \\end{bmatrix}$$<br><br>\n",
        "Finalmente, por suma (o resta) de vectores, podemos escribir:<br><br>\n",
        "$$ f(x,y) \\approx f(x_0,y_0) + \\begin{bmatrix} f'_x(x_0,y_0) \\\\ f'_y(x_0,y_0) \\end{bmatrix}\\Bigg( \\begin{bmatrix} x \\\\ y \\end{bmatrix} - \\begin{bmatrix} x_0 \\\\ y_0 \\end{bmatrix} \\Bigg) = f(x_0,y_0) + \\nabla f(x_0,y_0) \\big(X-X_0 \\big)$$<br><br>\n",
        "Sea $f:A \\subset R^n \\to R^n$ y sea $X_0 \\in R^n$ un punto del dominio de $f$. Si $f$ es diferenciable en $X_0$ entonces la aproximación lineal de $f$ entorno a $X_0$ viene dada por:<br><br>\n",
        "$$ f(X) = f(X_0) + \\nabla f(X_0).\\big(X-X_0 \\big) $$<br><br>\n",
        "<strong>Sistemas de ecuaciones no lineales</strong><br><br>\n",
        "Un sistema de $n$ ecuaciones no lineales en $n$ incognitas puede ser escrito de la siguiente forma:<br><br>\n",
        "$$ f(X) = 0 $$<br><br>\n",
        "donde $f$ es una función con dominio en un subconjunto de $R^n$, $X$ es un vector de $n$ incognitas y $0$ es el vector nulo de $R^n$.<br><br>\n",
        "Para un sistema de este tipo, sin importar las condiciones de $f$ sabemos poco. <strong>¿Tiene o no tiene solución? Si tiene, ¿una, dos, 10, infinitas? ¿Hay algún método de resolución general?</strong> No lo sabemos. <br><br>\n",
        "Si $f$ es diferenciable en su dominio entonces podemos aplicar el análogo del método de Newton para encontrar la solución al sistema. Empezando en un punto $X_0$ tenemos que:<br><br>\n",
        "$$ f(X) \\approx f(X_0) + \\nabla f(X_0).\\big(X-X_0 \\big) $$<br><br>\n",
        "$$ 0 \\approx f(X_0) + \\nabla f(X_0).X- \\nabla f(X_0)X_0  $$<br><br>\n",
        "$$  \\nabla f(X_0).X \\approx -f(X_0) + \\nabla f(X_0)X_0  $$<br><br>\n",
        "Teniendo en cuenta que $\\nabla f(X_0)$ es una matriz cuadrada que por cosntrucción es invertible:<br><br>\n",
        "$$  X \\approx X_0 - \\nabla f(X_0)^{-1} f(X_0)   $$<br><br>\n",
        "De esta forma, obtenemos un nuevo valor $X$ el cual está más cerca de la verdadera solución. Podemos iterar usando este método para acercarnos más a la solución verdadera usando la siguiente regla:<br><br>\n",
        "$$  X_k = X_{k-1} - \\nabla f(X_{k-1})^{-1} f(X_{k-1})   $$<br><br>\n",
        "\n",
        "</p>"
      ],
      "metadata": {
        "id": "QNIsQTq7gon3"
      }
    },
    {
      "cell_type": "markdown",
      "source": [
        " # **<font color=\"DeepPink\">Aplicación: optimización</font>**"
      ],
      "metadata": {
        "id": "5QDmZtEh-Mke"
      }
    },
    {
      "cell_type": "markdown",
      "source": [
        " <p align=\"justify\">\n",
        "Sea $f:A \\subset R^n \\to R$, queremos resolver el siguiente problema:<br><br>\n",
        "$$ \\min_{X} f(X) $$<br><br>\n",
        "<strong>Método de Newton</strong><br><br>\n",
        "Si la función $f$ es diferenciable, entonces estamos buscando un punto del dominio $X$ para el cual se cumpla la siguiente condición análoga a la condición para funciones de una variable real:<br><br>\n",
        "$$ \\nabla f(X) = 0 $$<br><br>\n",
        "Si $f$ es dos veces diferenciable, podemos aplicar el método de Newton para optimizar la función partiendo desde un punto inicial $X_0$ y actualizando el punto mediante la siguiente regla:<br><br>\n",
        "$$ X_k = X_{k-1} - H_{f}(X_{k-1})^{-1} \\nabla f(X_{k-1}) $$<br><br>\n",
        "donde $H_{f}(X)$ es la matriz de derivadas segundas de $f$. Esta matriz debe ser simétrica, $H(X)^{t}=H(X)$. <br><br>\n",
        "El proceso continua hasta que se cumpla el criterio de parada, generalemnte:<br><br>\n",
        "$$ ||X_{k+1} - X_{k}||_{2}<\\text{tolerancia} $$<br><br>\n",
        "<strong>Gradiente del descenso</strong><br><br>\n",
        "Si $f$ es diferenciable en casi todo punto de su dominio, teniendo en cuenta que hemos mencionado que $\\nabla f(X)$ determina la dirección y sentido de máximo crecimiento de la función en el punto $X$ y que <strong>$-\\nabla f(X)$ determina la dirección y sentido de máximo decrecimiento</strong> de la función en el punto $X$, podemos:<br><br>\n",
        "1. Tomar un punto inicial $X_0$.<br><br>\n",
        "2. Determinar un tamaño de paso $\\alpha$.<br><br>\n",
        "3. Actualizar el valor del punto mediante la regla:<br><br>\n",
        "$$ X_{k+1} = X_{K} - \\alpha \\nabla f(X_k) $$<br><br>\n",
        "4. Continuar hasta que se cumpla el criterio de parada.<br><br>\n",
        "Este método no requiere que $f$ sea diferenciable en el punto óptimo.<br><br>\n",
        "<strong>Métodos de orden 0</strong><br><br>\n",
        "Existen métodos que no requieren de la derivada de la función. Vimos que el método de busqueda directa es uno de ellos, pero la complejidad computacional de este método crece exponencialmente cuando crece la dimensión del problema. Para ver esto, suponga que necesita evaluar $1000$ puntos distintos para buscar el mínimo de una función de $R$ en $R$, entonces necesita $1000^2$ puntos para obtener un resultado igual de eficiente para una función de $R^2$ en $R$ y $1000^3$ puntos para una función de $R^3$ en $R$.<br><br>\n",
        "Una alternativa a este método es el método de busqueda aleatoria:<br><br>\n",
        "1. Determine una región de busqueda (un cuadrado en $R^2$, un cubo $R^3$).<br><br>\n",
        "2. Genere una cantidad finita pero grande de puntos aleatorios dentro de la región de búsqueda.<br><br>\n",
        "3. Determine que punto entre los generados tiene un menor valor para $f$.\n",
        "4. Construya una nueva región de búsqueda centrada en el punto determinado en (3.) cuya medida (superficie, volumen) sea menor que la original y repita el proceso.<br><br>\n",
        "5. Continue hasta que se cumpla el criterio de parada.<br><br>\n",
        "\n",
        "\n",
        "\n",
        "</p>"
      ],
      "metadata": {
        "id": "YTTI53GtRPD3"
      }
    },
    {
      "cell_type": "markdown",
      "source": [
        " # **<font color=\"DeepPink\">Ejercicios a resolver</font>**"
      ],
      "metadata": {
        "id": "wl7FXW8CFCUk"
      }
    },
    {
      "cell_type": "markdown",
      "source": [
        " <p align=\"justify\">\n",
        "<strong>Ejercicio 1</strong><br><br>\n",
        "a. Construya <strong>una</strong> función que tome una matriz de coeficientes y una matriz de terminos independientes, evalue el rango de la matriz de coeficientes para determianar si puede resolver el sistema invirtiendo la matriz adecuada y que devuelva la solución al sistema o un mensaje que diga \"El rango de la matriz no es igual al número de columnas\".<br><br>\n",
        "b. Determine si los siguientes sistemas son compatibles o incompatibles y utilice la función construida para resolverlos. Interprete adecuadamente la solución hallada según la clasificación que haya hecho de cada sistema.<br><br>\n",
        "$$ \\begin{bmatrix} 2&1 \\\\ 3&-4 \\end{bmatrix} \\begin{bmatrix} x \\\\ y \\end{bmatrix} = \\begin{bmatrix} 1 \\\\ 1 \\end{bmatrix}$$<br><br>\n",
        "$$ \\begin{bmatrix} 2&1 \\\\ 3&-4 \\\\ 5&-3 \\end{bmatrix} \\begin{bmatrix} x \\\\ y \\end{bmatrix} = \\begin{bmatrix} 1 \\\\ 1 \\\\ 2 \\end{bmatrix}$$<br><br>\n",
        "$$ \\begin{bmatrix} 2&1 \\\\ 3&-4 \\\\ 5&-3 \\end{bmatrix} \\begin{bmatrix} x \\\\ y \\end{bmatrix} = \\begin{bmatrix} 1 \\\\ 1 \\\\ -2 \\end{bmatrix}$$<br><br>\n",
        "<strong>Ejercicio 2</strong><br><br>\n",
        "a. Construya una función que tome como argumentos un vector de $R^n$ cualquiera sea $n$ y un valor $p$ para que calcule la norma de Minkowski con parámetro $p$. Construya una función que determine la Norma sup de cualquier vector de $R^n$ <br><br>\n",
        "b. Utilice las funciones anteriores para calcular la Norma-1, la Norma-2 y la Norma sup de los siguientes vectores:<br><br>\n",
        "$$ v_1 = \\begin{bmatrix} 2 \\\\ 1 \\\\ -3 \\end{bmatrix} \\quad  v_2 = \\begin{bmatrix} 2 \\\\ 1 \\\\ -3 \\end{bmatrix} $$<br><br>\n",
        "Compare los resultados entre distintas normas.<br><br>\n",
        "c. Utilice las funciones anteriores para calcular la norma de Minkoski del vector $v_1$ anterior para valores de $p$ que van aumentando desde $1$ hasta $1000$. Construya un gráfico que muestre como varia la norma calculada al aumentar $p$ y grafique una linea recta a la altura del valor de la Norma-sup del mismo vector. Interprete el resultado.<br><br>\n",
        "<strong>Ejercicio 3</strong><br><br>\n",
        "a. La función $f:R^2 \\to R / f(x,y) = (3-x)^2 + (2-y)^2$ presenta un mínimo en el punto $(3,2)$. Construya una función (o un programa) en Python que le permíta aplicar el método de gradiente de descenso para buscar el mínimo de la función. Conociendo cual es el resultado deseado, ajuste $\\alpha$ adecuadamente si su algoritmo no encuentra un punto cercano al óptimo. <br><br> b. Investigue alguna función de Scipy que le permita aplicar el método de Newton para minimizar funciones y utilicela para resolver el problema. Compare el resultado de su programa con el obtenido con la función de Scipy.\n",
        "\n",
        "\n",
        "</p>"
      ],
      "metadata": {
        "id": "UOOjHdzsFIQw"
      }
    }
  ]
}