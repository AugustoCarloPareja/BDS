{
  "nbformat": 4,
  "nbformat_minor": 0,
  "metadata": {
    "colab": {
      "provenance": [],
      "include_colab_link": true
    },
    "kernelspec": {
      "name": "python3",
      "display_name": "Python 3"
    },
    "language_info": {
      "name": "python"
    }
  },
  "cells": [
    {
      "cell_type": "markdown",
      "metadata": {
        "id": "view-in-github",
        "colab_type": "text"
      },
      "source": [
        "<a href=\"https://colab.research.google.com/github/cristiandarioortegayubro/BDS/blob/main/modulo.02/bds_ejercicios_001_01.ipynb\" target=\"_parent\"><img src=\"https://colab.research.google.com/assets/colab-badge.svg\" alt=\"Open In Colab\"/></a>"
      ]
    },
    {
      "cell_type": "markdown",
      "source": [
        "<p align=\"center\">\n",
        "<img src=\"https://github.com/cristiandarioortegayubro/BDS/blob/main/images/Logo%20BDS%20Horizontal%208.png?raw=true\">\n",
        "</p>"
      ],
      "metadata": {
        "id": "KlImB8ZeT_FX"
      }
    },
    {
      "cell_type": "markdown",
      "source": [
        " # **<font color=\"DeepPink\">Derivadas e integrales</font>**"
      ],
      "metadata": {
        "id": "ANvExhcdUDPG"
      }
    },
    {
      "cell_type": "markdown",
      "source": [
        " <p align=\"justify\">\n",
        "<strong>Ejercicio 1</strong><br><br>\n",
        " Para las siguientes funciones:<br><br>\n",
        "$$ f(x) = ln(x) $$<br><br>\n",
        "$$ g(x) = x^3 - 2x^2 + x $$<br><br>\n",
        "$$ h(x) = x^2 + ln(x) $$<br><br>\n",
        "a. Carguelas en Python como funciones numéricas (o lambda) y calcule el valor que toma cada función cuando $x$ es igual a $2$.<br><br>\n",
        "b. Grafíquelas para valores de $x$ entre $0.5$ y $4$. Interprete a grandes razgos, simplemente mirando el gráfico, si la función es creciente o decreciente, o si cambia de crecer a decrecer (o viceversa).<br><br>\n",
        "c. Cargue las funciones simbólicas con Sympy, busque la derivada utilizando la función \"diff\" y transformela a función lambda utilizando la función \"lambdify\". Calcule el valor de la derivada de cada función en $x=2$. Interprete según lo obtenido si cada una de las funciones es creciente o decreciente cuando $x$ toma valor $2$ y compruebe si su interpretación es correcta en base a lo obtenido graficamente en b).<br><br>\n",
        "d. Grafique cada función derivada obtenida en c) en el intervalo $[0.5 ; 4]$.<br><br>\n",
        "e. Calcule para cada función la derivada numérica en $x=2$ y compare sus resultados con lo obtenido en c). Utilice un $h=0.0001$.<br><br>\n",
        "f. Utilizando sympy, integre cada función en el intervalo $[0.5 ; 4]$. Según lo observado graficamente en b). ¿el resultado de las integrales puede considerarse como el area encerrada entre el gráfico de la función y el eje $x$?<br><br>\n",
        "g. Vuelva a calcular las integrales pedidas pero utilizando el método \"híbrido\" mencionado en el apunte de funciones. Utilice entre 100 y 1000 puntos para hacer el cálculo.<br><br>\n",
        "</p>"
      ],
      "metadata": {
        "id": "zY6RCzzrUD5V"
      }
    },
    {
      "cell_type": "code",
      "source": [
        "#Ejercicio 1"
      ],
      "metadata": {
        "id": "0T8SGPsc2oto"
      },
      "execution_count": null,
      "outputs": []
    },
    {
      "cell_type": "markdown",
      "source": [
        " <p align=\"justify\">\n",
        "<strong>Ejercicio 2</strong><br><br>\n",
        "Dados los siguientes vectores:<br><br>\n",
        "$$ u = \\begin{bmatrix} 2 \\\\ 3 \\\\ 4 \\end{bmatrix} \\quad v = \\begin{bmatrix} -1 \\\\ 2 \\\\ 1 \\end{bmatrix} \\quad w = \\begin{bmatrix} 2 \\\\ 1 \\\\ 0 \\end{bmatrix} \\quad x = \\begin{bmatrix} -2 \\\\ 0 \\\\ 1 \\end{bmatrix}$$<br><br>\n",
        "a. Cargue los vectores con Numpy y resuelva las siguientes operaciones:<br><br>\n",
        "$u + v=$<br>\n",
        "$2w=$<br>\n",
        "$3x-u=$<br>\n",
        "$w-u+2x-4v=$<br><br>\n",
        "b. Calcule el producto punto entre cada par posible de vectores.¿Cuáles son ortogonales entre si?<br><br>\n",
        "c. Para cada vector calcule la norma manhatan, euclidea y sup. Diga cuál es el vector con mayor longitud según la norma considerada. (intente construir un programa para cada norma pedida que le devuelva el resultado deseado).<br><br>\n",
        "</p>"
      ],
      "metadata": {
        "id": "q1Wa6JS72jTv"
      }
    },
    {
      "cell_type": "code",
      "source": [
        "#Ejercicio 2"
      ],
      "metadata": {
        "id": "S5gis-w92paB"
      },
      "execution_count": null,
      "outputs": []
    },
    {
      "cell_type": "markdown",
      "source": [
        " <p align=\"justify\">\n",
        "<strong>Ejercicio 3</strong><br><br>\n",
        "Dadas las siguientes matrices:<br><br>\n",
        "$$ A = \\begin{bmatrix} 1 & 2 \\\\ 1 & 3 \\end{bmatrix} \\quad B = \\begin{bmatrix} 1 & 2 \\\\ 2 & 4 \\end{bmatrix} \\quad C = \\begin{bmatrix} 1 & 2 \\\\ 1 & 3 \\\\ 1 & -2 \\end{bmatrix} \\quad D = \\begin{bmatrix} 1 & 2 & 1\\\\ 1 & 3 & -2 \\\\ 1 & -2 & 0 \\end{bmatrix}   $$<br><br>\n",
        "a. Cargue las matrices con Numpy.<br><br>\n",
        "b. Intente resolver las siguientes operaciones:<br>\n",
        "$A + B=$<br>\n",
        "$B + 2A=$<br>\n",
        "$C + D=$<br>\n",
        "$3C = $ <br>\n",
        "¿Por qué no es posible obtener un resultado para todas las operaciones propuestas?<br><br>\n",
        "c. Calcule, cuando sea posible, los productos matriciales propuestos:<br>\n",
        "$A\\times B=$ <br>\n",
        "$B\\times A=$<br>\n",
        "$A\\times C=$<br>\n",
        "$C\\times A=$<br>\n",
        "$D \\times C=$ <br>\n",
        "¿Por qué no es posible calcular $A\\times C$?<br><br>\n",
        "d. Calcule el rango de las matrices $A, B, C$ y $D$ utilizando Numpy. En base a los resultados que obtenga, determine el rango de las matrices resultantes de las operaciones $A\\times B$, $B\\times A$, $C\\times A$ y $D \\times C$ utilizando la propiedad vista en clase.<br><br>\n",
        "e. Dado los resultados obtenidos en d), algunas matrices son invertibles y otras no. Encuentre las matrices inversas de cada matriz invertible analizada en d).\n",
        "\n",
        "\n",
        "\n",
        "\n",
        "</p>"
      ],
      "metadata": {
        "id": "O6fTsUMR2etB"
      }
    },
    {
      "cell_type": "code",
      "source": [
        "#Ejercicio 3"
      ],
      "metadata": {
        "id": "cWZZQtQj2qDo"
      },
      "execution_count": null,
      "outputs": []
    }
  ]
}