{
  "nbformat": 4,
  "nbformat_minor": 0,
  "metadata": {
    "colab": {
      "provenance": [],
      "include_colab_link": true
    },
    "kernelspec": {
      "name": "python3",
      "display_name": "Python 3"
    },
    "language_info": {
      "name": "python"
    }
  },
  "cells": [
    {
      "cell_type": "markdown",
      "metadata": {
        "id": "view-in-github",
        "colab_type": "text"
      },
      "source": [
        "<a href=\"https://colab.research.google.com/github/cristiandarioortegayubro/BDS/blob/main/modulo.05/bds_evaluacion_003_00.ipynb\" target=\"_parent\"><img src=\"https://colab.research.google.com/assets/colab-badge.svg\" alt=\"Open In Colab\"/></a>"
      ]
    },
    {
      "cell_type": "markdown",
      "source": [
        "<p align=\"center\">\n",
        "<img src=\"https://github.com/cristiandarioortegayubro/BDS/blob/main/images/Logo%20BDS%20Horizontal%208.png?raw=true\">\n",
        "</p>\n"
      ],
      "metadata": {
        "id": "iheuwam9e4CH"
      }
    },
    {
      "cell_type": "markdown",
      "source": [
        "<p align=\"center\">\n",
        "<img src=\"https://github.com/cristiandarioortegayubro/BDS/blob/main/images/Logo%20Scikit-learn.png?raw=true\">\n",
        "</p>"
      ],
      "metadata": {
        "id": "fBNtvjpUxHaM"
      }
    },
    {
      "cell_type": "markdown",
      "source": [
        " # **<font color=\"DeepPink\">Métricas de evaluación del desempeño: Clasificación</font>**"
      ],
      "metadata": {
        "id": "_o8tuKydjnRZ"
      }
    },
    {
      "cell_type": "markdown",
      "source": [
        "<p align=\"justify\">\n",
        "En problemas de clasificación, se utilizan diversas métricas de evaluación para medir la efectividad y el rendimiento de los modelos predictivos. Estas métricas son esenciales para comparar diferentes modelos y seleccionar el más adecuado para una tarea de clasificación específica.\n",
        "<br><br>\n",
        "Algunas de las métricas más comunes utilizadas en problemas de clasificación incluyen: <b>Accuracy, Precision, Recall, F1-Score, Matriz de Confusión, Cohen's kappa coefficient y Matthews correlation coefficient (MCC)</b>.\n",
        "<br><br>\n",
        "La elección de la métrica de evaluación en un problema de clasificación debe depender de la naturaleza del problema, las implicaciones de los falsos positivos y falsos negativos, y los objetivos específicos de la aplicación. Cada métrica proporciona una perspectiva única sobre el rendimiento del modelo y puede ser más relevante según el contexto.\n",
        "\n",
        "\n",
        "\n",
        "\n"
      ],
      "metadata": {
        "id": "07gtKeSEeDHc"
      }
    },
    {
      "cell_type": "markdown",
      "source": [
        " # **<font color=\"DeepPink\">Carga de las librerías básicas</font>**"
      ],
      "metadata": {
        "id": "b56mxPEzheFx"
      }
    },
    {
      "cell_type": "code",
      "source": [
        "import numpy as np\n",
        "import pandas as pd"
      ],
      "metadata": {
        "id": "dQtWrchXqRb3"
      },
      "execution_count": null,
      "outputs": []
    },
    {
      "cell_type": "code",
      "source": [
        "import plotly.express as px"
      ],
      "metadata": {
        "id": "qCz4roZLF6ti"
      },
      "execution_count": null,
      "outputs": []
    },
    {
      "cell_type": "markdown",
      "source": [
        " # **<font color=\"DeepPink\">Conjunto de datos</font>**"
      ],
      "metadata": {
        "id": "tZxCwdTuorIq"
      }
    },
    {
      "cell_type": "code",
      "source": [
        "url = \"https://raw.githubusercontent.com/cristiandarioortegayubro/BDS/main/datasets/income.csv\""
      ],
      "metadata": {
        "id": "bsWjXZZiwYHM"
      },
      "execution_count": null,
      "outputs": []
    },
    {
      "cell_type": "code",
      "source": [
        "df = pd.read_csv(url)"
      ],
      "metadata": {
        "id": "iNHGFqNVy3SR"
      },
      "execution_count": null,
      "outputs": []
    },
    {
      "cell_type": "code",
      "source": [
        "df"
      ],
      "metadata": {
        "colab": {
          "base_uri": "https://localhost:8080/",
          "height": 606
        },
        "id": "KLBRgxYI0YFN",
        "outputId": "97be6f7e-921a-4803-9387-54c99d82b130"
      },
      "execution_count": null,
      "outputs": [
        {
          "output_type": "execute_result",
          "data": {
            "text/plain": [
              "       age         workclass   education  education-num      marital-status  \\\n",
              "0       39         State-gov   Bachelors             13       Never-married   \n",
              "1       50  Self-emp-not-inc   Bachelors             13  Married-civ-spouse   \n",
              "2       38           Private     HS-grad              9            Divorced   \n",
              "3       53           Private        11th              7  Married-civ-spouse   \n",
              "4       28           Private   Bachelors             13  Married-civ-spouse   \n",
              "...    ...               ...         ...            ...                 ...   \n",
              "32556   27           Private  Assoc-acdm             12  Married-civ-spouse   \n",
              "32557   40           Private     HS-grad              9  Married-civ-spouse   \n",
              "32558   58           Private     HS-grad              9             Widowed   \n",
              "32559   22           Private     HS-grad              9       Never-married   \n",
              "32560   52      Self-emp-inc     HS-grad              9  Married-civ-spouse   \n",
              "\n",
              "              occupation   relationship   race     sex  capital-gain  \\\n",
              "0           Adm-clerical  Not-in-family  White    Male          2174   \n",
              "1        Exec-managerial        Husband  White    Male             0   \n",
              "2      Handlers-cleaners  Not-in-family  White    Male             0   \n",
              "3      Handlers-cleaners        Husband  Black    Male             0   \n",
              "4         Prof-specialty           Wife  Black  Female             0   \n",
              "...                  ...            ...    ...     ...           ...   \n",
              "32556       Tech-support           Wife  White  Female             0   \n",
              "32557  Machine-op-inspct        Husband  White    Male             0   \n",
              "32558       Adm-clerical      Unmarried  White  Female             0   \n",
              "32559       Adm-clerical      Own-child  White    Male             0   \n",
              "32560    Exec-managerial           Wife  White  Female         15024   \n",
              "\n",
              "       capital-loss  hours-per-week native-country  income >50K  \n",
              "0                 0              40  United-States            0  \n",
              "1                 0              13  United-States            0  \n",
              "2                 0              40  United-States            0  \n",
              "3                 0              40  United-States            0  \n",
              "4                 0              40           Cuba            0  \n",
              "...             ...             ...            ...          ...  \n",
              "32556             0              38  United-States            0  \n",
              "32557             0              40  United-States            1  \n",
              "32558             0              40  United-States            0  \n",
              "32559             0              20  United-States            0  \n",
              "32560             0              40  United-States            1  \n",
              "\n",
              "[32561 rows x 14 columns]"
            ],
            "text/html": [
              "\n",
              "\n",
              "  <div id=\"df-7fe216eb-885f-45d7-bb03-da9965a592f2\">\n",
              "    <div class=\"colab-df-container\">\n",
              "      <div>\n",
              "<style scoped>\n",
              "    .dataframe tbody tr th:only-of-type {\n",
              "        vertical-align: middle;\n",
              "    }\n",
              "\n",
              "    .dataframe tbody tr th {\n",
              "        vertical-align: top;\n",
              "    }\n",
              "\n",
              "    .dataframe thead th {\n",
              "        text-align: right;\n",
              "    }\n",
              "</style>\n",
              "<table border=\"1\" class=\"dataframe\">\n",
              "  <thead>\n",
              "    <tr style=\"text-align: right;\">\n",
              "      <th></th>\n",
              "      <th>age</th>\n",
              "      <th>workclass</th>\n",
              "      <th>education</th>\n",
              "      <th>education-num</th>\n",
              "      <th>marital-status</th>\n",
              "      <th>occupation</th>\n",
              "      <th>relationship</th>\n",
              "      <th>race</th>\n",
              "      <th>sex</th>\n",
              "      <th>capital-gain</th>\n",
              "      <th>capital-loss</th>\n",
              "      <th>hours-per-week</th>\n",
              "      <th>native-country</th>\n",
              "      <th>income &gt;50K</th>\n",
              "    </tr>\n",
              "  </thead>\n",
              "  <tbody>\n",
              "    <tr>\n",
              "      <th>0</th>\n",
              "      <td>39</td>\n",
              "      <td>State-gov</td>\n",
              "      <td>Bachelors</td>\n",
              "      <td>13</td>\n",
              "      <td>Never-married</td>\n",
              "      <td>Adm-clerical</td>\n",
              "      <td>Not-in-family</td>\n",
              "      <td>White</td>\n",
              "      <td>Male</td>\n",
              "      <td>2174</td>\n",
              "      <td>0</td>\n",
              "      <td>40</td>\n",
              "      <td>United-States</td>\n",
              "      <td>0</td>\n",
              "    </tr>\n",
              "    <tr>\n",
              "      <th>1</th>\n",
              "      <td>50</td>\n",
              "      <td>Self-emp-not-inc</td>\n",
              "      <td>Bachelors</td>\n",
              "      <td>13</td>\n",
              "      <td>Married-civ-spouse</td>\n",
              "      <td>Exec-managerial</td>\n",
              "      <td>Husband</td>\n",
              "      <td>White</td>\n",
              "      <td>Male</td>\n",
              "      <td>0</td>\n",
              "      <td>0</td>\n",
              "      <td>13</td>\n",
              "      <td>United-States</td>\n",
              "      <td>0</td>\n",
              "    </tr>\n",
              "    <tr>\n",
              "      <th>2</th>\n",
              "      <td>38</td>\n",
              "      <td>Private</td>\n",
              "      <td>HS-grad</td>\n",
              "      <td>9</td>\n",
              "      <td>Divorced</td>\n",
              "      <td>Handlers-cleaners</td>\n",
              "      <td>Not-in-family</td>\n",
              "      <td>White</td>\n",
              "      <td>Male</td>\n",
              "      <td>0</td>\n",
              "      <td>0</td>\n",
              "      <td>40</td>\n",
              "      <td>United-States</td>\n",
              "      <td>0</td>\n",
              "    </tr>\n",
              "    <tr>\n",
              "      <th>3</th>\n",
              "      <td>53</td>\n",
              "      <td>Private</td>\n",
              "      <td>11th</td>\n",
              "      <td>7</td>\n",
              "      <td>Married-civ-spouse</td>\n",
              "      <td>Handlers-cleaners</td>\n",
              "      <td>Husband</td>\n",
              "      <td>Black</td>\n",
              "      <td>Male</td>\n",
              "      <td>0</td>\n",
              "      <td>0</td>\n",
              "      <td>40</td>\n",
              "      <td>United-States</td>\n",
              "      <td>0</td>\n",
              "    </tr>\n",
              "    <tr>\n",
              "      <th>4</th>\n",
              "      <td>28</td>\n",
              "      <td>Private</td>\n",
              "      <td>Bachelors</td>\n",
              "      <td>13</td>\n",
              "      <td>Married-civ-spouse</td>\n",
              "      <td>Prof-specialty</td>\n",
              "      <td>Wife</td>\n",
              "      <td>Black</td>\n",
              "      <td>Female</td>\n",
              "      <td>0</td>\n",
              "      <td>0</td>\n",
              "      <td>40</td>\n",
              "      <td>Cuba</td>\n",
              "      <td>0</td>\n",
              "    </tr>\n",
              "    <tr>\n",
              "      <th>...</th>\n",
              "      <td>...</td>\n",
              "      <td>...</td>\n",
              "      <td>...</td>\n",
              "      <td>...</td>\n",
              "      <td>...</td>\n",
              "      <td>...</td>\n",
              "      <td>...</td>\n",
              "      <td>...</td>\n",
              "      <td>...</td>\n",
              "      <td>...</td>\n",
              "      <td>...</td>\n",
              "      <td>...</td>\n",
              "      <td>...</td>\n",
              "      <td>...</td>\n",
              "    </tr>\n",
              "    <tr>\n",
              "      <th>32556</th>\n",
              "      <td>27</td>\n",
              "      <td>Private</td>\n",
              "      <td>Assoc-acdm</td>\n",
              "      <td>12</td>\n",
              "      <td>Married-civ-spouse</td>\n",
              "      <td>Tech-support</td>\n",
              "      <td>Wife</td>\n",
              "      <td>White</td>\n",
              "      <td>Female</td>\n",
              "      <td>0</td>\n",
              "      <td>0</td>\n",
              "      <td>38</td>\n",
              "      <td>United-States</td>\n",
              "      <td>0</td>\n",
              "    </tr>\n",
              "    <tr>\n",
              "      <th>32557</th>\n",
              "      <td>40</td>\n",
              "      <td>Private</td>\n",
              "      <td>HS-grad</td>\n",
              "      <td>9</td>\n",
              "      <td>Married-civ-spouse</td>\n",
              "      <td>Machine-op-inspct</td>\n",
              "      <td>Husband</td>\n",
              "      <td>White</td>\n",
              "      <td>Male</td>\n",
              "      <td>0</td>\n",
              "      <td>0</td>\n",
              "      <td>40</td>\n",
              "      <td>United-States</td>\n",
              "      <td>1</td>\n",
              "    </tr>\n",
              "    <tr>\n",
              "      <th>32558</th>\n",
              "      <td>58</td>\n",
              "      <td>Private</td>\n",
              "      <td>HS-grad</td>\n",
              "      <td>9</td>\n",
              "      <td>Widowed</td>\n",
              "      <td>Adm-clerical</td>\n",
              "      <td>Unmarried</td>\n",
              "      <td>White</td>\n",
              "      <td>Female</td>\n",
              "      <td>0</td>\n",
              "      <td>0</td>\n",
              "      <td>40</td>\n",
              "      <td>United-States</td>\n",
              "      <td>0</td>\n",
              "    </tr>\n",
              "    <tr>\n",
              "      <th>32559</th>\n",
              "      <td>22</td>\n",
              "      <td>Private</td>\n",
              "      <td>HS-grad</td>\n",
              "      <td>9</td>\n",
              "      <td>Never-married</td>\n",
              "      <td>Adm-clerical</td>\n",
              "      <td>Own-child</td>\n",
              "      <td>White</td>\n",
              "      <td>Male</td>\n",
              "      <td>0</td>\n",
              "      <td>0</td>\n",
              "      <td>20</td>\n",
              "      <td>United-States</td>\n",
              "      <td>0</td>\n",
              "    </tr>\n",
              "    <tr>\n",
              "      <th>32560</th>\n",
              "      <td>52</td>\n",
              "      <td>Self-emp-inc</td>\n",
              "      <td>HS-grad</td>\n",
              "      <td>9</td>\n",
              "      <td>Married-civ-spouse</td>\n",
              "      <td>Exec-managerial</td>\n",
              "      <td>Wife</td>\n",
              "      <td>White</td>\n",
              "      <td>Female</td>\n",
              "      <td>15024</td>\n",
              "      <td>0</td>\n",
              "      <td>40</td>\n",
              "      <td>United-States</td>\n",
              "      <td>1</td>\n",
              "    </tr>\n",
              "  </tbody>\n",
              "</table>\n",
              "<p>32561 rows × 14 columns</p>\n",
              "</div>\n",
              "      <button class=\"colab-df-convert\" onclick=\"convertToInteractive('df-7fe216eb-885f-45d7-bb03-da9965a592f2')\"\n",
              "              title=\"Convert this dataframe to an interactive table.\"\n",
              "              style=\"display:none;\">\n",
              "\n",
              "  <svg xmlns=\"http://www.w3.org/2000/svg\" height=\"24px\"viewBox=\"0 0 24 24\"\n",
              "       width=\"24px\">\n",
              "    <path d=\"M0 0h24v24H0V0z\" fill=\"none\"/>\n",
              "    <path d=\"M18.56 5.44l.94 2.06.94-2.06 2.06-.94-2.06-.94-.94-2.06-.94 2.06-2.06.94zm-11 1L8.5 8.5l.94-2.06 2.06-.94-2.06-.94L8.5 2.5l-.94 2.06-2.06.94zm10 10l.94 2.06.94-2.06 2.06-.94-2.06-.94-.94-2.06-.94 2.06-2.06.94z\"/><path d=\"M17.41 7.96l-1.37-1.37c-.4-.4-.92-.59-1.43-.59-.52 0-1.04.2-1.43.59L10.3 9.45l-7.72 7.72c-.78.78-.78 2.05 0 2.83L4 21.41c.39.39.9.59 1.41.59.51 0 1.02-.2 1.41-.59l7.78-7.78 2.81-2.81c.8-.78.8-2.07 0-2.86zM5.41 20L4 18.59l7.72-7.72 1.47 1.35L5.41 20z\"/>\n",
              "  </svg>\n",
              "      </button>\n",
              "\n",
              "\n",
              "\n",
              "    <div id=\"df-90ad42e7-063d-4794-8c0c-0a232734e385\">\n",
              "      <button class=\"colab-df-quickchart\" onclick=\"quickchart('df-90ad42e7-063d-4794-8c0c-0a232734e385')\"\n",
              "              title=\"Suggest charts.\"\n",
              "              style=\"display:none;\">\n",
              "\n",
              "<svg xmlns=\"http://www.w3.org/2000/svg\" height=\"24px\"viewBox=\"0 0 24 24\"\n",
              "     width=\"24px\">\n",
              "    <g>\n",
              "        <path d=\"M19 3H5c-1.1 0-2 .9-2 2v14c0 1.1.9 2 2 2h14c1.1 0 2-.9 2-2V5c0-1.1-.9-2-2-2zM9 17H7v-7h2v7zm4 0h-2V7h2v10zm4 0h-2v-4h2v4z\"/>\n",
              "    </g>\n",
              "</svg>\n",
              "      </button>\n",
              "    </div>\n",
              "\n",
              "<style>\n",
              "  .colab-df-quickchart {\n",
              "    background-color: #E8F0FE;\n",
              "    border: none;\n",
              "    border-radius: 50%;\n",
              "    cursor: pointer;\n",
              "    display: none;\n",
              "    fill: #1967D2;\n",
              "    height: 32px;\n",
              "    padding: 0 0 0 0;\n",
              "    width: 32px;\n",
              "  }\n",
              "\n",
              "  .colab-df-quickchart:hover {\n",
              "    background-color: #E2EBFA;\n",
              "    box-shadow: 0px 1px 2px rgba(60, 64, 67, 0.3), 0px 1px 3px 1px rgba(60, 64, 67, 0.15);\n",
              "    fill: #174EA6;\n",
              "  }\n",
              "\n",
              "  [theme=dark] .colab-df-quickchart {\n",
              "    background-color: #3B4455;\n",
              "    fill: #D2E3FC;\n",
              "  }\n",
              "\n",
              "  [theme=dark] .colab-df-quickchart:hover {\n",
              "    background-color: #434B5C;\n",
              "    box-shadow: 0px 1px 3px 1px rgba(0, 0, 0, 0.15);\n",
              "    filter: drop-shadow(0px 1px 2px rgba(0, 0, 0, 0.3));\n",
              "    fill: #FFFFFF;\n",
              "  }\n",
              "</style>\n",
              "\n",
              "    <script>\n",
              "      async function quickchart(key) {\n",
              "        const containerElement = document.querySelector('#' + key);\n",
              "        const charts = await google.colab.kernel.invokeFunction(\n",
              "            'suggestCharts', [key], {});\n",
              "      }\n",
              "    </script>\n",
              "\n",
              "      <script>\n",
              "\n",
              "function displayQuickchartButton(domScope) {\n",
              "  let quickchartButtonEl =\n",
              "    domScope.querySelector('#df-90ad42e7-063d-4794-8c0c-0a232734e385 button.colab-df-quickchart');\n",
              "  quickchartButtonEl.style.display =\n",
              "    google.colab.kernel.accessAllowed ? 'block' : 'none';\n",
              "}\n",
              "\n",
              "        displayQuickchartButton(document);\n",
              "      </script>\n",
              "      <style>\n",
              "    .colab-df-container {\n",
              "      display:flex;\n",
              "      flex-wrap:wrap;\n",
              "      gap: 12px;\n",
              "    }\n",
              "\n",
              "    .colab-df-convert {\n",
              "      background-color: #E8F0FE;\n",
              "      border: none;\n",
              "      border-radius: 50%;\n",
              "      cursor: pointer;\n",
              "      display: none;\n",
              "      fill: #1967D2;\n",
              "      height: 32px;\n",
              "      padding: 0 0 0 0;\n",
              "      width: 32px;\n",
              "    }\n",
              "\n",
              "    .colab-df-convert:hover {\n",
              "      background-color: #E2EBFA;\n",
              "      box-shadow: 0px 1px 2px rgba(60, 64, 67, 0.3), 0px 1px 3px 1px rgba(60, 64, 67, 0.15);\n",
              "      fill: #174EA6;\n",
              "    }\n",
              "\n",
              "    [theme=dark] .colab-df-convert {\n",
              "      background-color: #3B4455;\n",
              "      fill: #D2E3FC;\n",
              "    }\n",
              "\n",
              "    [theme=dark] .colab-df-convert:hover {\n",
              "      background-color: #434B5C;\n",
              "      box-shadow: 0px 1px 3px 1px rgba(0, 0, 0, 0.15);\n",
              "      filter: drop-shadow(0px 1px 2px rgba(0, 0, 0, 0.3));\n",
              "      fill: #FFFFFF;\n",
              "    }\n",
              "  </style>\n",
              "\n",
              "      <script>\n",
              "        const buttonEl =\n",
              "          document.querySelector('#df-7fe216eb-885f-45d7-bb03-da9965a592f2 button.colab-df-convert');\n",
              "        buttonEl.style.display =\n",
              "          google.colab.kernel.accessAllowed ? 'block' : 'none';\n",
              "\n",
              "        async function convertToInteractive(key) {\n",
              "          const element = document.querySelector('#df-7fe216eb-885f-45d7-bb03-da9965a592f2');\n",
              "          const dataTable =\n",
              "            await google.colab.kernel.invokeFunction('convertToInteractive',\n",
              "                                                     [key], {});\n",
              "          if (!dataTable) return;\n",
              "\n",
              "          const docLinkHtml = 'Like what you see? Visit the ' +\n",
              "            '<a target=\"_blank\" href=https://colab.research.google.com/notebooks/data_table.ipynb>data table notebook</a>'\n",
              "            + ' to learn more about interactive tables.';\n",
              "          element.innerHTML = '';\n",
              "          dataTable['output_type'] = 'display_data';\n",
              "          await google.colab.output.renderOutput(dataTable, element);\n",
              "          const docLink = document.createElement('div');\n",
              "          docLink.innerHTML = docLinkHtml;\n",
              "          element.appendChild(docLink);\n",
              "        }\n",
              "      </script>\n",
              "    </div>\n",
              "  </div>\n"
            ]
          },
          "metadata": {},
          "execution_count": 5
        }
      ]
    },
    {
      "cell_type": "code",
      "source": [
        "df.info()"
      ],
      "metadata": {
        "colab": {
          "base_uri": "https://localhost:8080/"
        },
        "id": "kEnxX4WtAXGx",
        "outputId": "c79fce3d-b1df-49b8-ae1c-b280f47f9503"
      },
      "execution_count": null,
      "outputs": [
        {
          "output_type": "stream",
          "name": "stdout",
          "text": [
            "<class 'pandas.core.frame.DataFrame'>\n",
            "RangeIndex: 32561 entries, 0 to 32560\n",
            "Data columns (total 14 columns):\n",
            " #   Column          Non-Null Count  Dtype \n",
            "---  ------          --------------  ----- \n",
            " 0   age             32561 non-null  int64 \n",
            " 1   workclass       30725 non-null  object\n",
            " 2   education       32561 non-null  object\n",
            " 3   education-num   32561 non-null  int64 \n",
            " 4   marital-status  32561 non-null  object\n",
            " 5   occupation      30718 non-null  object\n",
            " 6   relationship    32561 non-null  object\n",
            " 7   race            32561 non-null  object\n",
            " 8   sex             32561 non-null  object\n",
            " 9   capital-gain    32561 non-null  int64 \n",
            " 10  capital-loss    32561 non-null  int64 \n",
            " 11  hours-per-week  32561 non-null  int64 \n",
            " 12  native-country  31978 non-null  object\n",
            " 13  income >50K     32561 non-null  int64 \n",
            "dtypes: int64(6), object(8)\n",
            "memory usage: 3.5+ MB\n"
          ]
        }
      ]
    },
    {
      "cell_type": "markdown",
      "source": [
        " ## **<font color=\"DeepPink\">Separamos la variable objetivo y las variables explicativas</font>**"
      ],
      "metadata": {
        "id": "zgtfXztWb8Ab"
      }
    },
    {
      "cell_type": "code",
      "source": [
        "y = df['income >50K']"
      ],
      "metadata": {
        "id": "e-Jetj2Fb9KI"
      },
      "execution_count": null,
      "outputs": []
    },
    {
      "cell_type": "code",
      "source": [
        "X = df.drop(columns='income >50K')\n",
        "X.head()"
      ],
      "metadata": {
        "colab": {
          "base_uri": "https://localhost:8080/",
          "height": 206
        },
        "id": "3c_ySgbvcO0w",
        "outputId": "f95b417e-c0e9-42b1-ad9d-49713609220b"
      },
      "execution_count": null,
      "outputs": [
        {
          "output_type": "execute_result",
          "data": {
            "text/plain": [
              "   age         workclass  education  education-num      marital-status  \\\n",
              "0   39         State-gov  Bachelors             13       Never-married   \n",
              "1   50  Self-emp-not-inc  Bachelors             13  Married-civ-spouse   \n",
              "2   38           Private    HS-grad              9            Divorced   \n",
              "3   53           Private       11th              7  Married-civ-spouse   \n",
              "4   28           Private  Bachelors             13  Married-civ-spouse   \n",
              "\n",
              "          occupation   relationship   race     sex  capital-gain  \\\n",
              "0       Adm-clerical  Not-in-family  White    Male          2174   \n",
              "1    Exec-managerial        Husband  White    Male             0   \n",
              "2  Handlers-cleaners  Not-in-family  White    Male             0   \n",
              "3  Handlers-cleaners        Husband  Black    Male             0   \n",
              "4     Prof-specialty           Wife  Black  Female             0   \n",
              "\n",
              "   capital-loss  hours-per-week native-country  \n",
              "0             0              40  United-States  \n",
              "1             0              13  United-States  \n",
              "2             0              40  United-States  \n",
              "3             0              40  United-States  \n",
              "4             0              40           Cuba  "
            ],
            "text/html": [
              "\n",
              "\n",
              "  <div id=\"df-248b3fcf-e5b0-4a28-b314-c1e8124c7044\">\n",
              "    <div class=\"colab-df-container\">\n",
              "      <div>\n",
              "<style scoped>\n",
              "    .dataframe tbody tr th:only-of-type {\n",
              "        vertical-align: middle;\n",
              "    }\n",
              "\n",
              "    .dataframe tbody tr th {\n",
              "        vertical-align: top;\n",
              "    }\n",
              "\n",
              "    .dataframe thead th {\n",
              "        text-align: right;\n",
              "    }\n",
              "</style>\n",
              "<table border=\"1\" class=\"dataframe\">\n",
              "  <thead>\n",
              "    <tr style=\"text-align: right;\">\n",
              "      <th></th>\n",
              "      <th>age</th>\n",
              "      <th>workclass</th>\n",
              "      <th>education</th>\n",
              "      <th>education-num</th>\n",
              "      <th>marital-status</th>\n",
              "      <th>occupation</th>\n",
              "      <th>relationship</th>\n",
              "      <th>race</th>\n",
              "      <th>sex</th>\n",
              "      <th>capital-gain</th>\n",
              "      <th>capital-loss</th>\n",
              "      <th>hours-per-week</th>\n",
              "      <th>native-country</th>\n",
              "    </tr>\n",
              "  </thead>\n",
              "  <tbody>\n",
              "    <tr>\n",
              "      <th>0</th>\n",
              "      <td>39</td>\n",
              "      <td>State-gov</td>\n",
              "      <td>Bachelors</td>\n",
              "      <td>13</td>\n",
              "      <td>Never-married</td>\n",
              "      <td>Adm-clerical</td>\n",
              "      <td>Not-in-family</td>\n",
              "      <td>White</td>\n",
              "      <td>Male</td>\n",
              "      <td>2174</td>\n",
              "      <td>0</td>\n",
              "      <td>40</td>\n",
              "      <td>United-States</td>\n",
              "    </tr>\n",
              "    <tr>\n",
              "      <th>1</th>\n",
              "      <td>50</td>\n",
              "      <td>Self-emp-not-inc</td>\n",
              "      <td>Bachelors</td>\n",
              "      <td>13</td>\n",
              "      <td>Married-civ-spouse</td>\n",
              "      <td>Exec-managerial</td>\n",
              "      <td>Husband</td>\n",
              "      <td>White</td>\n",
              "      <td>Male</td>\n",
              "      <td>0</td>\n",
              "      <td>0</td>\n",
              "      <td>13</td>\n",
              "      <td>United-States</td>\n",
              "    </tr>\n",
              "    <tr>\n",
              "      <th>2</th>\n",
              "      <td>38</td>\n",
              "      <td>Private</td>\n",
              "      <td>HS-grad</td>\n",
              "      <td>9</td>\n",
              "      <td>Divorced</td>\n",
              "      <td>Handlers-cleaners</td>\n",
              "      <td>Not-in-family</td>\n",
              "      <td>White</td>\n",
              "      <td>Male</td>\n",
              "      <td>0</td>\n",
              "      <td>0</td>\n",
              "      <td>40</td>\n",
              "      <td>United-States</td>\n",
              "    </tr>\n",
              "    <tr>\n",
              "      <th>3</th>\n",
              "      <td>53</td>\n",
              "      <td>Private</td>\n",
              "      <td>11th</td>\n",
              "      <td>7</td>\n",
              "      <td>Married-civ-spouse</td>\n",
              "      <td>Handlers-cleaners</td>\n",
              "      <td>Husband</td>\n",
              "      <td>Black</td>\n",
              "      <td>Male</td>\n",
              "      <td>0</td>\n",
              "      <td>0</td>\n",
              "      <td>40</td>\n",
              "      <td>United-States</td>\n",
              "    </tr>\n",
              "    <tr>\n",
              "      <th>4</th>\n",
              "      <td>28</td>\n",
              "      <td>Private</td>\n",
              "      <td>Bachelors</td>\n",
              "      <td>13</td>\n",
              "      <td>Married-civ-spouse</td>\n",
              "      <td>Prof-specialty</td>\n",
              "      <td>Wife</td>\n",
              "      <td>Black</td>\n",
              "      <td>Female</td>\n",
              "      <td>0</td>\n",
              "      <td>0</td>\n",
              "      <td>40</td>\n",
              "      <td>Cuba</td>\n",
              "    </tr>\n",
              "  </tbody>\n",
              "</table>\n",
              "</div>\n",
              "      <button class=\"colab-df-convert\" onclick=\"convertToInteractive('df-248b3fcf-e5b0-4a28-b314-c1e8124c7044')\"\n",
              "              title=\"Convert this dataframe to an interactive table.\"\n",
              "              style=\"display:none;\">\n",
              "\n",
              "  <svg xmlns=\"http://www.w3.org/2000/svg\" height=\"24px\"viewBox=\"0 0 24 24\"\n",
              "       width=\"24px\">\n",
              "    <path d=\"M0 0h24v24H0V0z\" fill=\"none\"/>\n",
              "    <path d=\"M18.56 5.44l.94 2.06.94-2.06 2.06-.94-2.06-.94-.94-2.06-.94 2.06-2.06.94zm-11 1L8.5 8.5l.94-2.06 2.06-.94-2.06-.94L8.5 2.5l-.94 2.06-2.06.94zm10 10l.94 2.06.94-2.06 2.06-.94-2.06-.94-.94-2.06-.94 2.06-2.06.94z\"/><path d=\"M17.41 7.96l-1.37-1.37c-.4-.4-.92-.59-1.43-.59-.52 0-1.04.2-1.43.59L10.3 9.45l-7.72 7.72c-.78.78-.78 2.05 0 2.83L4 21.41c.39.39.9.59 1.41.59.51 0 1.02-.2 1.41-.59l7.78-7.78 2.81-2.81c.8-.78.8-2.07 0-2.86zM5.41 20L4 18.59l7.72-7.72 1.47 1.35L5.41 20z\"/>\n",
              "  </svg>\n",
              "      </button>\n",
              "\n",
              "\n",
              "\n",
              "    <div id=\"df-4ae08c31-4303-453c-bc26-9718b239d8c5\">\n",
              "      <button class=\"colab-df-quickchart\" onclick=\"quickchart('df-4ae08c31-4303-453c-bc26-9718b239d8c5')\"\n",
              "              title=\"Suggest charts.\"\n",
              "              style=\"display:none;\">\n",
              "\n",
              "<svg xmlns=\"http://www.w3.org/2000/svg\" height=\"24px\"viewBox=\"0 0 24 24\"\n",
              "     width=\"24px\">\n",
              "    <g>\n",
              "        <path d=\"M19 3H5c-1.1 0-2 .9-2 2v14c0 1.1.9 2 2 2h14c1.1 0 2-.9 2-2V5c0-1.1-.9-2-2-2zM9 17H7v-7h2v7zm4 0h-2V7h2v10zm4 0h-2v-4h2v4z\"/>\n",
              "    </g>\n",
              "</svg>\n",
              "      </button>\n",
              "    </div>\n",
              "\n",
              "<style>\n",
              "  .colab-df-quickchart {\n",
              "    background-color: #E8F0FE;\n",
              "    border: none;\n",
              "    border-radius: 50%;\n",
              "    cursor: pointer;\n",
              "    display: none;\n",
              "    fill: #1967D2;\n",
              "    height: 32px;\n",
              "    padding: 0 0 0 0;\n",
              "    width: 32px;\n",
              "  }\n",
              "\n",
              "  .colab-df-quickchart:hover {\n",
              "    background-color: #E2EBFA;\n",
              "    box-shadow: 0px 1px 2px rgba(60, 64, 67, 0.3), 0px 1px 3px 1px rgba(60, 64, 67, 0.15);\n",
              "    fill: #174EA6;\n",
              "  }\n",
              "\n",
              "  [theme=dark] .colab-df-quickchart {\n",
              "    background-color: #3B4455;\n",
              "    fill: #D2E3FC;\n",
              "  }\n",
              "\n",
              "  [theme=dark] .colab-df-quickchart:hover {\n",
              "    background-color: #434B5C;\n",
              "    box-shadow: 0px 1px 3px 1px rgba(0, 0, 0, 0.15);\n",
              "    filter: drop-shadow(0px 1px 2px rgba(0, 0, 0, 0.3));\n",
              "    fill: #FFFFFF;\n",
              "  }\n",
              "</style>\n",
              "\n",
              "    <script>\n",
              "      async function quickchart(key) {\n",
              "        const containerElement = document.querySelector('#' + key);\n",
              "        const charts = await google.colab.kernel.invokeFunction(\n",
              "            'suggestCharts', [key], {});\n",
              "      }\n",
              "    </script>\n",
              "\n",
              "      <script>\n",
              "\n",
              "function displayQuickchartButton(domScope) {\n",
              "  let quickchartButtonEl =\n",
              "    domScope.querySelector('#df-4ae08c31-4303-453c-bc26-9718b239d8c5 button.colab-df-quickchart');\n",
              "  quickchartButtonEl.style.display =\n",
              "    google.colab.kernel.accessAllowed ? 'block' : 'none';\n",
              "}\n",
              "\n",
              "        displayQuickchartButton(document);\n",
              "      </script>\n",
              "      <style>\n",
              "    .colab-df-container {\n",
              "      display:flex;\n",
              "      flex-wrap:wrap;\n",
              "      gap: 12px;\n",
              "    }\n",
              "\n",
              "    .colab-df-convert {\n",
              "      background-color: #E8F0FE;\n",
              "      border: none;\n",
              "      border-radius: 50%;\n",
              "      cursor: pointer;\n",
              "      display: none;\n",
              "      fill: #1967D2;\n",
              "      height: 32px;\n",
              "      padding: 0 0 0 0;\n",
              "      width: 32px;\n",
              "    }\n",
              "\n",
              "    .colab-df-convert:hover {\n",
              "      background-color: #E2EBFA;\n",
              "      box-shadow: 0px 1px 2px rgba(60, 64, 67, 0.3), 0px 1px 3px 1px rgba(60, 64, 67, 0.15);\n",
              "      fill: #174EA6;\n",
              "    }\n",
              "\n",
              "    [theme=dark] .colab-df-convert {\n",
              "      background-color: #3B4455;\n",
              "      fill: #D2E3FC;\n",
              "    }\n",
              "\n",
              "    [theme=dark] .colab-df-convert:hover {\n",
              "      background-color: #434B5C;\n",
              "      box-shadow: 0px 1px 3px 1px rgba(0, 0, 0, 0.15);\n",
              "      filter: drop-shadow(0px 1px 2px rgba(0, 0, 0, 0.3));\n",
              "      fill: #FFFFFF;\n",
              "    }\n",
              "  </style>\n",
              "\n",
              "      <script>\n",
              "        const buttonEl =\n",
              "          document.querySelector('#df-248b3fcf-e5b0-4a28-b314-c1e8124c7044 button.colab-df-convert');\n",
              "        buttonEl.style.display =\n",
              "          google.colab.kernel.accessAllowed ? 'block' : 'none';\n",
              "\n",
              "        async function convertToInteractive(key) {\n",
              "          const element = document.querySelector('#df-248b3fcf-e5b0-4a28-b314-c1e8124c7044');\n",
              "          const dataTable =\n",
              "            await google.colab.kernel.invokeFunction('convertToInteractive',\n",
              "                                                     [key], {});\n",
              "          if (!dataTable) return;\n",
              "\n",
              "          const docLinkHtml = 'Like what you see? Visit the ' +\n",
              "            '<a target=\"_blank\" href=https://colab.research.google.com/notebooks/data_table.ipynb>data table notebook</a>'\n",
              "            + ' to learn more about interactive tables.';\n",
              "          element.innerHTML = '';\n",
              "          dataTable['output_type'] = 'display_data';\n",
              "          await google.colab.output.renderOutput(dataTable, element);\n",
              "          const docLink = document.createElement('div');\n",
              "          docLink.innerHTML = docLinkHtml;\n",
              "          element.appendChild(docLink);\n",
              "        }\n",
              "      </script>\n",
              "    </div>\n",
              "  </div>\n"
            ]
          },
          "metadata": {},
          "execution_count": 8
        }
      ]
    },
    {
      "cell_type": "markdown",
      "source": [
        " ## **<font color=\"DeepPink\">Preprocesamiento de variables categóricas con `sklearn`</font>**"
      ],
      "metadata": {
        "id": "J3OJvnFH-wYf"
      }
    },
    {
      "cell_type": "code",
      "source": [
        "from sklearn.compose import make_column_selector as selector"
      ],
      "metadata": {
        "id": "Dg9KLZdnDoq6"
      },
      "execution_count": null,
      "outputs": []
    },
    {
      "cell_type": "code",
      "source": [
        "numerical_columns_selector = selector(dtype_exclude=object)\n",
        "categorical_columns_selector = selector(dtype_include=object)"
      ],
      "metadata": {
        "id": "-JoeBc4iDqT_"
      },
      "execution_count": null,
      "outputs": []
    },
    {
      "cell_type": "code",
      "source": [
        "numerical_columns = numerical_columns_selector(X)\n",
        "categorical_columns = categorical_columns_selector(X)"
      ],
      "metadata": {
        "id": "veyp4jd1Dy_k"
      },
      "execution_count": null,
      "outputs": []
    },
    {
      "cell_type": "code",
      "source": [
        "numerical_columns"
      ],
      "metadata": {
        "colab": {
          "base_uri": "https://localhost:8080/"
        },
        "id": "h4POXFQaD4NS",
        "outputId": "34f6f383-b886-49de-817a-81b58b4bc616"
      },
      "execution_count": null,
      "outputs": [
        {
          "output_type": "execute_result",
          "data": {
            "text/plain": [
              "['age', 'education-num', 'capital-gain', 'capital-loss', 'hours-per-week']"
            ]
          },
          "metadata": {},
          "execution_count": 12
        }
      ]
    },
    {
      "cell_type": "code",
      "source": [
        "categorical_columns"
      ],
      "metadata": {
        "colab": {
          "base_uri": "https://localhost:8080/"
        },
        "id": "cFHAN7xGD7J7",
        "outputId": "03445685-18d5-4827-ec43-c9e220f3364a"
      },
      "execution_count": null,
      "outputs": [
        {
          "output_type": "execute_result",
          "data": {
            "text/plain": [
              "['workclass',\n",
              " 'education',\n",
              " 'marital-status',\n",
              " 'occupation',\n",
              " 'relationship',\n",
              " 'race',\n",
              " 'sex',\n",
              " 'native-country']"
            ]
          },
          "metadata": {},
          "execution_count": 13
        }
      ]
    },
    {
      "cell_type": "code",
      "source": [
        "from sklearn.preprocessing import OneHotEncoder, StandardScaler"
      ],
      "metadata": {
        "id": "3nNAvwVsEA0r"
      },
      "execution_count": null,
      "outputs": []
    },
    {
      "cell_type": "code",
      "source": [
        "categorical_preprocessor = OneHotEncoder(handle_unknown=\"ignore\")\n",
        "numerical_preprocessor = StandardScaler()"
      ],
      "metadata": {
        "id": "8jYC24jGEUIc"
      },
      "execution_count": null,
      "outputs": []
    },
    {
      "cell_type": "code",
      "source": [
        "from sklearn.compose import ColumnTransformer"
      ],
      "metadata": {
        "id": "q3PS2qHcEEMQ"
      },
      "execution_count": null,
      "outputs": []
    },
    {
      "cell_type": "code",
      "source": [
        "preprocessor = ColumnTransformer(\n",
        "                    [('one-hot-encoding',\n",
        "                      OneHotEncoder(handle_unknown='ignore',\n",
        "                                    sparse_output=False),\n",
        "                      categorical_columns)],\n",
        "                    remainder='passthrough')"
      ],
      "metadata": {
        "id": "qV1W3eEiEFoC"
      },
      "execution_count": null,
      "outputs": []
    },
    {
      "cell_type": "code",
      "source": [
        "preprocessor"
      ],
      "metadata": {
        "colab": {
          "base_uri": "https://localhost:8080/",
          "height": 118
        },
        "id": "cTZCwcdREaR1",
        "outputId": "151b531a-c3be-47dc-bcec-058cbe217ae0"
      },
      "execution_count": null,
      "outputs": [
        {
          "output_type": "execute_result",
          "data": {
            "text/plain": [
              "ColumnTransformer(remainder='passthrough',\n",
              "                  transformers=[('one-hot-encoding',\n",
              "                                 OneHotEncoder(handle_unknown='ignore',\n",
              "                                               sparse_output=False),\n",
              "                                 ['workclass', 'education', 'marital-status',\n",
              "                                  'occupation', 'relationship', 'race', 'sex',\n",
              "                                  'native-country'])])"
            ],
            "text/html": [
              "<style>#sk-container-id-1 {color: black;background-color: white;}#sk-container-id-1 pre{padding: 0;}#sk-container-id-1 div.sk-toggleable {background-color: white;}#sk-container-id-1 label.sk-toggleable__label {cursor: pointer;display: block;width: 100%;margin-bottom: 0;padding: 0.3em;box-sizing: border-box;text-align: center;}#sk-container-id-1 label.sk-toggleable__label-arrow:before {content: \"▸\";float: left;margin-right: 0.25em;color: #696969;}#sk-container-id-1 label.sk-toggleable__label-arrow:hover:before {color: black;}#sk-container-id-1 div.sk-estimator:hover label.sk-toggleable__label-arrow:before {color: black;}#sk-container-id-1 div.sk-toggleable__content {max-height: 0;max-width: 0;overflow: hidden;text-align: left;background-color: #f0f8ff;}#sk-container-id-1 div.sk-toggleable__content pre {margin: 0.2em;color: black;border-radius: 0.25em;background-color: #f0f8ff;}#sk-container-id-1 input.sk-toggleable__control:checked~div.sk-toggleable__content {max-height: 200px;max-width: 100%;overflow: auto;}#sk-container-id-1 input.sk-toggleable__control:checked~label.sk-toggleable__label-arrow:before {content: \"▾\";}#sk-container-id-1 div.sk-estimator input.sk-toggleable__control:checked~label.sk-toggleable__label {background-color: #d4ebff;}#sk-container-id-1 div.sk-label input.sk-toggleable__control:checked~label.sk-toggleable__label {background-color: #d4ebff;}#sk-container-id-1 input.sk-hidden--visually {border: 0;clip: rect(1px 1px 1px 1px);clip: rect(1px, 1px, 1px, 1px);height: 1px;margin: -1px;overflow: hidden;padding: 0;position: absolute;width: 1px;}#sk-container-id-1 div.sk-estimator {font-family: monospace;background-color: #f0f8ff;border: 1px dotted black;border-radius: 0.25em;box-sizing: border-box;margin-bottom: 0.5em;}#sk-container-id-1 div.sk-estimator:hover {background-color: #d4ebff;}#sk-container-id-1 div.sk-parallel-item::after {content: \"\";width: 100%;border-bottom: 1px solid gray;flex-grow: 1;}#sk-container-id-1 div.sk-label:hover label.sk-toggleable__label {background-color: #d4ebff;}#sk-container-id-1 div.sk-serial::before {content: \"\";position: absolute;border-left: 1px solid gray;box-sizing: border-box;top: 0;bottom: 0;left: 50%;z-index: 0;}#sk-container-id-1 div.sk-serial {display: flex;flex-direction: column;align-items: center;background-color: white;padding-right: 0.2em;padding-left: 0.2em;position: relative;}#sk-container-id-1 div.sk-item {position: relative;z-index: 1;}#sk-container-id-1 div.sk-parallel {display: flex;align-items: stretch;justify-content: center;background-color: white;position: relative;}#sk-container-id-1 div.sk-item::before, #sk-container-id-1 div.sk-parallel-item::before {content: \"\";position: absolute;border-left: 1px solid gray;box-sizing: border-box;top: 0;bottom: 0;left: 50%;z-index: -1;}#sk-container-id-1 div.sk-parallel-item {display: flex;flex-direction: column;z-index: 1;position: relative;background-color: white;}#sk-container-id-1 div.sk-parallel-item:first-child::after {align-self: flex-end;width: 50%;}#sk-container-id-1 div.sk-parallel-item:last-child::after {align-self: flex-start;width: 50%;}#sk-container-id-1 div.sk-parallel-item:only-child::after {width: 0;}#sk-container-id-1 div.sk-dashed-wrapped {border: 1px dashed gray;margin: 0 0.4em 0.5em 0.4em;box-sizing: border-box;padding-bottom: 0.4em;background-color: white;}#sk-container-id-1 div.sk-label label {font-family: monospace;font-weight: bold;display: inline-block;line-height: 1.2em;}#sk-container-id-1 div.sk-label-container {text-align: center;}#sk-container-id-1 div.sk-container {/* jupyter's `normalize.less` sets `[hidden] { display: none; }` but bootstrap.min.css set `[hidden] { display: none !important; }` so we also need the `!important` here to be able to override the default hidden behavior on the sphinx rendered scikit-learn.org. See: https://github.com/scikit-learn/scikit-learn/issues/21755 */display: inline-block !important;position: relative;}#sk-container-id-1 div.sk-text-repr-fallback {display: none;}</style><div id=\"sk-container-id-1\" class=\"sk-top-container\"><div class=\"sk-text-repr-fallback\"><pre>ColumnTransformer(remainder=&#x27;passthrough&#x27;,\n",
              "                  transformers=[(&#x27;one-hot-encoding&#x27;,\n",
              "                                 OneHotEncoder(handle_unknown=&#x27;ignore&#x27;,\n",
              "                                               sparse_output=False),\n",
              "                                 [&#x27;workclass&#x27;, &#x27;education&#x27;, &#x27;marital-status&#x27;,\n",
              "                                  &#x27;occupation&#x27;, &#x27;relationship&#x27;, &#x27;race&#x27;, &#x27;sex&#x27;,\n",
              "                                  &#x27;native-country&#x27;])])</pre><b>In a Jupyter environment, please rerun this cell to show the HTML representation or trust the notebook. <br />On GitHub, the HTML representation is unable to render, please try loading this page with nbviewer.org.</b></div><div class=\"sk-container\" hidden><div class=\"sk-item sk-dashed-wrapped\"><div class=\"sk-label-container\"><div class=\"sk-label sk-toggleable\"><input class=\"sk-toggleable__control sk-hidden--visually\" id=\"sk-estimator-id-1\" type=\"checkbox\" ><label for=\"sk-estimator-id-1\" class=\"sk-toggleable__label sk-toggleable__label-arrow\">ColumnTransformer</label><div class=\"sk-toggleable__content\"><pre>ColumnTransformer(remainder=&#x27;passthrough&#x27;,\n",
              "                  transformers=[(&#x27;one-hot-encoding&#x27;,\n",
              "                                 OneHotEncoder(handle_unknown=&#x27;ignore&#x27;,\n",
              "                                               sparse_output=False),\n",
              "                                 [&#x27;workclass&#x27;, &#x27;education&#x27;, &#x27;marital-status&#x27;,\n",
              "                                  &#x27;occupation&#x27;, &#x27;relationship&#x27;, &#x27;race&#x27;, &#x27;sex&#x27;,\n",
              "                                  &#x27;native-country&#x27;])])</pre></div></div></div><div class=\"sk-parallel\"><div class=\"sk-parallel-item\"><div class=\"sk-item\"><div class=\"sk-label-container\"><div class=\"sk-label sk-toggleable\"><input class=\"sk-toggleable__control sk-hidden--visually\" id=\"sk-estimator-id-2\" type=\"checkbox\" ><label for=\"sk-estimator-id-2\" class=\"sk-toggleable__label sk-toggleable__label-arrow\">one-hot-encoding</label><div class=\"sk-toggleable__content\"><pre>[&#x27;workclass&#x27;, &#x27;education&#x27;, &#x27;marital-status&#x27;, &#x27;occupation&#x27;, &#x27;relationship&#x27;, &#x27;race&#x27;, &#x27;sex&#x27;, &#x27;native-country&#x27;]</pre></div></div></div><div class=\"sk-serial\"><div class=\"sk-item\"><div class=\"sk-estimator sk-toggleable\"><input class=\"sk-toggleable__control sk-hidden--visually\" id=\"sk-estimator-id-3\" type=\"checkbox\" ><label for=\"sk-estimator-id-3\" class=\"sk-toggleable__label sk-toggleable__label-arrow\">OneHotEncoder</label><div class=\"sk-toggleable__content\"><pre>OneHotEncoder(handle_unknown=&#x27;ignore&#x27;, sparse_output=False)</pre></div></div></div></div></div></div><div class=\"sk-parallel-item\"><div class=\"sk-item\"><div class=\"sk-label-container\"><div class=\"sk-label sk-toggleable\"><input class=\"sk-toggleable__control sk-hidden--visually\" id=\"sk-estimator-id-4\" type=\"checkbox\" ><label for=\"sk-estimator-id-4\" class=\"sk-toggleable__label sk-toggleable__label-arrow\">remainder</label><div class=\"sk-toggleable__content\"><pre></pre></div></div></div><div class=\"sk-serial\"><div class=\"sk-item\"><div class=\"sk-estimator sk-toggleable\"><input class=\"sk-toggleable__control sk-hidden--visually\" id=\"sk-estimator-id-5\" type=\"checkbox\" ><label for=\"sk-estimator-id-5\" class=\"sk-toggleable__label sk-toggleable__label-arrow\">passthrough</label><div class=\"sk-toggleable__content\"><pre>passthrough</pre></div></div></div></div></div></div></div></div></div></div>"
            ]
          },
          "metadata": {},
          "execution_count": 18
        }
      ]
    },
    {
      "cell_type": "markdown",
      "source": [
        " ## **<font color=\"DeepPink\">División del conjunto de entrenamiento y prueba</font>**"
      ],
      "metadata": {
        "id": "CVBiAsNW9Up2"
      }
    },
    {
      "cell_type": "markdown",
      "source": [
        "👀 Dividimos en conjunto de entrenamiento y prueba"
      ],
      "metadata": {
        "id": "QTQGrlXBhWcV"
      }
    },
    {
      "cell_type": "code",
      "source": [
        "from sklearn.model_selection import train_test_split\n",
        "X_train, X_test, y_train, y_test = train_test_split(X,\n",
        "                                                    y,\n",
        "                                                    random_state=123)"
      ],
      "metadata": {
        "id": "SmDFFoqNIkgo"
      },
      "execution_count": null,
      "outputs": []
    },
    {
      "cell_type": "markdown",
      "source": [
        " # **<font color=\"DeepPink\">Gradient Boosting con histogramas para clasificación</font>**"
      ],
      "metadata": {
        "id": "YYHF-ZwaeNK8"
      }
    },
    {
      "cell_type": "markdown",
      "source": [
        " <p align=\"justify\">\n",
        " La clase <code>HistGradientBoostingClassifier</code> de la biblioteca <code>sklearn</code> es un algoritmo de clasificación. Este algoritmo utiliza histogramas para discretizar las variables explicativas continuas en rangos discretos (<a href=\"https://en.wikipedia.org/wiki/Data_binning\">estrategia de binning</a>). Esto permite reducir la complejidad computacional, ya que el proceso de búsqueda de variables predictoras óptimas para cada división se realiza sobre los bins, lo que suele ser más rápido que considerar cada valor único de la variable predictora. Esto hace que el proceso de entrenamiento sea más eficiente, especialmente en conjuntos de datos grandes. Puede encontrarse una descripción detallada de todos los hiperparámetros en <a href=\"https://scikit-learn.org/stable/modules/generated/sklearn.ensemble.HistGradientBoostingClassifier.html\"> sklearn.ensemble.HistGradientBoostingClassifier</a>."
      ],
      "metadata": {
        "id": "Q-7Kr1Gq24ah"
      }
    },
    {
      "cell_type": "code",
      "source": [
        "from sklearn.ensemble import HistGradientBoostingClassifier\n",
        "#from sklearn.ensemble import RandomForestClassifier\n",
        "from sklearn.pipeline import make_pipeline"
      ],
      "metadata": {
        "id": "t97HP0LFeMxV"
      },
      "execution_count": null,
      "outputs": []
    },
    {
      "cell_type": "markdown",
      "source": [
        "<p align=\"justify\">\n",
        "Se crea un modelo de Gradient Boosting con histogramas para clasificación utilizando la biblioteca  <code>sklearn</code>. Se consideran los hiperparámetros por defecto que trae el algoritmo."
      ],
      "metadata": {
        "id": "cF08w7OW4LZ8"
      }
    },
    {
      "cell_type": "code",
      "source": [
        "model = make_pipeline(preprocessor,\n",
        "                      HistGradientBoostingClassifier(random_state = 123))\n",
        "model"
      ],
      "metadata": {
        "colab": {
          "base_uri": "https://localhost:8080/",
          "height": 193
        },
        "id": "5H_aLEPNyyfD",
        "outputId": "ebf903af-d95b-40b7-d5b3-1d51f6cdabf2"
      },
      "execution_count": null,
      "outputs": [
        {
          "output_type": "execute_result",
          "data": {
            "text/plain": [
              "Pipeline(steps=[('columntransformer',\n",
              "                 ColumnTransformer(remainder='passthrough',\n",
              "                                   transformers=[('one-hot-encoding',\n",
              "                                                  OneHotEncoder(handle_unknown='ignore',\n",
              "                                                                sparse_output=False),\n",
              "                                                  ['workclass', 'education',\n",
              "                                                   'marital-status',\n",
              "                                                   'occupation', 'relationship',\n",
              "                                                   'race', 'sex',\n",
              "                                                   'native-country'])])),\n",
              "                ('histgradientboostingclassifier',\n",
              "                 HistGradientBoostingClassifier(random_state=123))])"
            ],
            "text/html": [
              "<style>#sk-container-id-2 {color: black;background-color: white;}#sk-container-id-2 pre{padding: 0;}#sk-container-id-2 div.sk-toggleable {background-color: white;}#sk-container-id-2 label.sk-toggleable__label {cursor: pointer;display: block;width: 100%;margin-bottom: 0;padding: 0.3em;box-sizing: border-box;text-align: center;}#sk-container-id-2 label.sk-toggleable__label-arrow:before {content: \"▸\";float: left;margin-right: 0.25em;color: #696969;}#sk-container-id-2 label.sk-toggleable__label-arrow:hover:before {color: black;}#sk-container-id-2 div.sk-estimator:hover label.sk-toggleable__label-arrow:before {color: black;}#sk-container-id-2 div.sk-toggleable__content {max-height: 0;max-width: 0;overflow: hidden;text-align: left;background-color: #f0f8ff;}#sk-container-id-2 div.sk-toggleable__content pre {margin: 0.2em;color: black;border-radius: 0.25em;background-color: #f0f8ff;}#sk-container-id-2 input.sk-toggleable__control:checked~div.sk-toggleable__content {max-height: 200px;max-width: 100%;overflow: auto;}#sk-container-id-2 input.sk-toggleable__control:checked~label.sk-toggleable__label-arrow:before {content: \"▾\";}#sk-container-id-2 div.sk-estimator input.sk-toggleable__control:checked~label.sk-toggleable__label {background-color: #d4ebff;}#sk-container-id-2 div.sk-label input.sk-toggleable__control:checked~label.sk-toggleable__label {background-color: #d4ebff;}#sk-container-id-2 input.sk-hidden--visually {border: 0;clip: rect(1px 1px 1px 1px);clip: rect(1px, 1px, 1px, 1px);height: 1px;margin: -1px;overflow: hidden;padding: 0;position: absolute;width: 1px;}#sk-container-id-2 div.sk-estimator {font-family: monospace;background-color: #f0f8ff;border: 1px dotted black;border-radius: 0.25em;box-sizing: border-box;margin-bottom: 0.5em;}#sk-container-id-2 div.sk-estimator:hover {background-color: #d4ebff;}#sk-container-id-2 div.sk-parallel-item::after {content: \"\";width: 100%;border-bottom: 1px solid gray;flex-grow: 1;}#sk-container-id-2 div.sk-label:hover label.sk-toggleable__label {background-color: #d4ebff;}#sk-container-id-2 div.sk-serial::before {content: \"\";position: absolute;border-left: 1px solid gray;box-sizing: border-box;top: 0;bottom: 0;left: 50%;z-index: 0;}#sk-container-id-2 div.sk-serial {display: flex;flex-direction: column;align-items: center;background-color: white;padding-right: 0.2em;padding-left: 0.2em;position: relative;}#sk-container-id-2 div.sk-item {position: relative;z-index: 1;}#sk-container-id-2 div.sk-parallel {display: flex;align-items: stretch;justify-content: center;background-color: white;position: relative;}#sk-container-id-2 div.sk-item::before, #sk-container-id-2 div.sk-parallel-item::before {content: \"\";position: absolute;border-left: 1px solid gray;box-sizing: border-box;top: 0;bottom: 0;left: 50%;z-index: -1;}#sk-container-id-2 div.sk-parallel-item {display: flex;flex-direction: column;z-index: 1;position: relative;background-color: white;}#sk-container-id-2 div.sk-parallel-item:first-child::after {align-self: flex-end;width: 50%;}#sk-container-id-2 div.sk-parallel-item:last-child::after {align-self: flex-start;width: 50%;}#sk-container-id-2 div.sk-parallel-item:only-child::after {width: 0;}#sk-container-id-2 div.sk-dashed-wrapped {border: 1px dashed gray;margin: 0 0.4em 0.5em 0.4em;box-sizing: border-box;padding-bottom: 0.4em;background-color: white;}#sk-container-id-2 div.sk-label label {font-family: monospace;font-weight: bold;display: inline-block;line-height: 1.2em;}#sk-container-id-2 div.sk-label-container {text-align: center;}#sk-container-id-2 div.sk-container {/* jupyter's `normalize.less` sets `[hidden] { display: none; }` but bootstrap.min.css set `[hidden] { display: none !important; }` so we also need the `!important` here to be able to override the default hidden behavior on the sphinx rendered scikit-learn.org. See: https://github.com/scikit-learn/scikit-learn/issues/21755 */display: inline-block !important;position: relative;}#sk-container-id-2 div.sk-text-repr-fallback {display: none;}</style><div id=\"sk-container-id-2\" class=\"sk-top-container\"><div class=\"sk-text-repr-fallback\"><pre>Pipeline(steps=[(&#x27;columntransformer&#x27;,\n",
              "                 ColumnTransformer(remainder=&#x27;passthrough&#x27;,\n",
              "                                   transformers=[(&#x27;one-hot-encoding&#x27;,\n",
              "                                                  OneHotEncoder(handle_unknown=&#x27;ignore&#x27;,\n",
              "                                                                sparse_output=False),\n",
              "                                                  [&#x27;workclass&#x27;, &#x27;education&#x27;,\n",
              "                                                   &#x27;marital-status&#x27;,\n",
              "                                                   &#x27;occupation&#x27;, &#x27;relationship&#x27;,\n",
              "                                                   &#x27;race&#x27;, &#x27;sex&#x27;,\n",
              "                                                   &#x27;native-country&#x27;])])),\n",
              "                (&#x27;histgradientboostingclassifier&#x27;,\n",
              "                 HistGradientBoostingClassifier(random_state=123))])</pre><b>In a Jupyter environment, please rerun this cell to show the HTML representation or trust the notebook. <br />On GitHub, the HTML representation is unable to render, please try loading this page with nbviewer.org.</b></div><div class=\"sk-container\" hidden><div class=\"sk-item sk-dashed-wrapped\"><div class=\"sk-label-container\"><div class=\"sk-label sk-toggleable\"><input class=\"sk-toggleable__control sk-hidden--visually\" id=\"sk-estimator-id-6\" type=\"checkbox\" ><label for=\"sk-estimator-id-6\" class=\"sk-toggleable__label sk-toggleable__label-arrow\">Pipeline</label><div class=\"sk-toggleable__content\"><pre>Pipeline(steps=[(&#x27;columntransformer&#x27;,\n",
              "                 ColumnTransformer(remainder=&#x27;passthrough&#x27;,\n",
              "                                   transformers=[(&#x27;one-hot-encoding&#x27;,\n",
              "                                                  OneHotEncoder(handle_unknown=&#x27;ignore&#x27;,\n",
              "                                                                sparse_output=False),\n",
              "                                                  [&#x27;workclass&#x27;, &#x27;education&#x27;,\n",
              "                                                   &#x27;marital-status&#x27;,\n",
              "                                                   &#x27;occupation&#x27;, &#x27;relationship&#x27;,\n",
              "                                                   &#x27;race&#x27;, &#x27;sex&#x27;,\n",
              "                                                   &#x27;native-country&#x27;])])),\n",
              "                (&#x27;histgradientboostingclassifier&#x27;,\n",
              "                 HistGradientBoostingClassifier(random_state=123))])</pre></div></div></div><div class=\"sk-serial\"><div class=\"sk-item sk-dashed-wrapped\"><div class=\"sk-label-container\"><div class=\"sk-label sk-toggleable\"><input class=\"sk-toggleable__control sk-hidden--visually\" id=\"sk-estimator-id-7\" type=\"checkbox\" ><label for=\"sk-estimator-id-7\" class=\"sk-toggleable__label sk-toggleable__label-arrow\">columntransformer: ColumnTransformer</label><div class=\"sk-toggleable__content\"><pre>ColumnTransformer(remainder=&#x27;passthrough&#x27;,\n",
              "                  transformers=[(&#x27;one-hot-encoding&#x27;,\n",
              "                                 OneHotEncoder(handle_unknown=&#x27;ignore&#x27;,\n",
              "                                               sparse_output=False),\n",
              "                                 [&#x27;workclass&#x27;, &#x27;education&#x27;, &#x27;marital-status&#x27;,\n",
              "                                  &#x27;occupation&#x27;, &#x27;relationship&#x27;, &#x27;race&#x27;, &#x27;sex&#x27;,\n",
              "                                  &#x27;native-country&#x27;])])</pre></div></div></div><div class=\"sk-parallel\"><div class=\"sk-parallel-item\"><div class=\"sk-item\"><div class=\"sk-label-container\"><div class=\"sk-label sk-toggleable\"><input class=\"sk-toggleable__control sk-hidden--visually\" id=\"sk-estimator-id-8\" type=\"checkbox\" ><label for=\"sk-estimator-id-8\" class=\"sk-toggleable__label sk-toggleable__label-arrow\">one-hot-encoding</label><div class=\"sk-toggleable__content\"><pre>[&#x27;workclass&#x27;, &#x27;education&#x27;, &#x27;marital-status&#x27;, &#x27;occupation&#x27;, &#x27;relationship&#x27;, &#x27;race&#x27;, &#x27;sex&#x27;, &#x27;native-country&#x27;]</pre></div></div></div><div class=\"sk-serial\"><div class=\"sk-item\"><div class=\"sk-estimator sk-toggleable\"><input class=\"sk-toggleable__control sk-hidden--visually\" id=\"sk-estimator-id-9\" type=\"checkbox\" ><label for=\"sk-estimator-id-9\" class=\"sk-toggleable__label sk-toggleable__label-arrow\">OneHotEncoder</label><div class=\"sk-toggleable__content\"><pre>OneHotEncoder(handle_unknown=&#x27;ignore&#x27;, sparse_output=False)</pre></div></div></div></div></div></div><div class=\"sk-parallel-item\"><div class=\"sk-item\"><div class=\"sk-label-container\"><div class=\"sk-label sk-toggleable\"><input class=\"sk-toggleable__control sk-hidden--visually\" id=\"sk-estimator-id-10\" type=\"checkbox\" ><label for=\"sk-estimator-id-10\" class=\"sk-toggleable__label sk-toggleable__label-arrow\">remainder</label><div class=\"sk-toggleable__content\"><pre></pre></div></div></div><div class=\"sk-serial\"><div class=\"sk-item\"><div class=\"sk-estimator sk-toggleable\"><input class=\"sk-toggleable__control sk-hidden--visually\" id=\"sk-estimator-id-11\" type=\"checkbox\" ><label for=\"sk-estimator-id-11\" class=\"sk-toggleable__label sk-toggleable__label-arrow\">passthrough</label><div class=\"sk-toggleable__content\"><pre>passthrough</pre></div></div></div></div></div></div></div></div><div class=\"sk-item\"><div class=\"sk-estimator sk-toggleable\"><input class=\"sk-toggleable__control sk-hidden--visually\" id=\"sk-estimator-id-12\" type=\"checkbox\" ><label for=\"sk-estimator-id-12\" class=\"sk-toggleable__label sk-toggleable__label-arrow\">HistGradientBoostingClassifier</label><div class=\"sk-toggleable__content\"><pre>HistGradientBoostingClassifier(random_state=123)</pre></div></div></div></div></div></div></div>"
            ]
          },
          "metadata": {},
          "execution_count": 21
        }
      ]
    },
    {
      "cell_type": "markdown",
      "source": [
        "<p align=\"justify\">\n",
        "Una vez creado el modelo, se ajusta con los datos de entrenamiento: <code>X_train</code> (variables explicativas) e <code>y_train</code> (variable objetivo)."
      ],
      "metadata": {
        "id": "xb00peJw5ZgB"
      }
    },
    {
      "cell_type": "code",
      "source": [
        "model.fit(X_train, y_train)"
      ],
      "metadata": {
        "id": "GWyGNzSliJ0s",
        "colab": {
          "base_uri": "https://localhost:8080/",
          "height": 193
        },
        "outputId": "df5434a4-1a4f-4cc5-d93b-6bd28f1df8b7"
      },
      "execution_count": null,
      "outputs": [
        {
          "output_type": "execute_result",
          "data": {
            "text/plain": [
              "Pipeline(steps=[('columntransformer',\n",
              "                 ColumnTransformer(remainder='passthrough',\n",
              "                                   transformers=[('one-hot-encoding',\n",
              "                                                  OneHotEncoder(handle_unknown='ignore',\n",
              "                                                                sparse_output=False),\n",
              "                                                  ['workclass', 'education',\n",
              "                                                   'marital-status',\n",
              "                                                   'occupation', 'relationship',\n",
              "                                                   'race', 'sex',\n",
              "                                                   'native-country'])])),\n",
              "                ('histgradientboostingclassifier',\n",
              "                 HistGradientBoostingClassifier(random_state=123))])"
            ],
            "text/html": [
              "<style>#sk-container-id-3 {color: black;background-color: white;}#sk-container-id-3 pre{padding: 0;}#sk-container-id-3 div.sk-toggleable {background-color: white;}#sk-container-id-3 label.sk-toggleable__label {cursor: pointer;display: block;width: 100%;margin-bottom: 0;padding: 0.3em;box-sizing: border-box;text-align: center;}#sk-container-id-3 label.sk-toggleable__label-arrow:before {content: \"▸\";float: left;margin-right: 0.25em;color: #696969;}#sk-container-id-3 label.sk-toggleable__label-arrow:hover:before {color: black;}#sk-container-id-3 div.sk-estimator:hover label.sk-toggleable__label-arrow:before {color: black;}#sk-container-id-3 div.sk-toggleable__content {max-height: 0;max-width: 0;overflow: hidden;text-align: left;background-color: #f0f8ff;}#sk-container-id-3 div.sk-toggleable__content pre {margin: 0.2em;color: black;border-radius: 0.25em;background-color: #f0f8ff;}#sk-container-id-3 input.sk-toggleable__control:checked~div.sk-toggleable__content {max-height: 200px;max-width: 100%;overflow: auto;}#sk-container-id-3 input.sk-toggleable__control:checked~label.sk-toggleable__label-arrow:before {content: \"▾\";}#sk-container-id-3 div.sk-estimator input.sk-toggleable__control:checked~label.sk-toggleable__label {background-color: #d4ebff;}#sk-container-id-3 div.sk-label input.sk-toggleable__control:checked~label.sk-toggleable__label {background-color: #d4ebff;}#sk-container-id-3 input.sk-hidden--visually {border: 0;clip: rect(1px 1px 1px 1px);clip: rect(1px, 1px, 1px, 1px);height: 1px;margin: -1px;overflow: hidden;padding: 0;position: absolute;width: 1px;}#sk-container-id-3 div.sk-estimator {font-family: monospace;background-color: #f0f8ff;border: 1px dotted black;border-radius: 0.25em;box-sizing: border-box;margin-bottom: 0.5em;}#sk-container-id-3 div.sk-estimator:hover {background-color: #d4ebff;}#sk-container-id-3 div.sk-parallel-item::after {content: \"\";width: 100%;border-bottom: 1px solid gray;flex-grow: 1;}#sk-container-id-3 div.sk-label:hover label.sk-toggleable__label {background-color: #d4ebff;}#sk-container-id-3 div.sk-serial::before {content: \"\";position: absolute;border-left: 1px solid gray;box-sizing: border-box;top: 0;bottom: 0;left: 50%;z-index: 0;}#sk-container-id-3 div.sk-serial {display: flex;flex-direction: column;align-items: center;background-color: white;padding-right: 0.2em;padding-left: 0.2em;position: relative;}#sk-container-id-3 div.sk-item {position: relative;z-index: 1;}#sk-container-id-3 div.sk-parallel {display: flex;align-items: stretch;justify-content: center;background-color: white;position: relative;}#sk-container-id-3 div.sk-item::before, #sk-container-id-3 div.sk-parallel-item::before {content: \"\";position: absolute;border-left: 1px solid gray;box-sizing: border-box;top: 0;bottom: 0;left: 50%;z-index: -1;}#sk-container-id-3 div.sk-parallel-item {display: flex;flex-direction: column;z-index: 1;position: relative;background-color: white;}#sk-container-id-3 div.sk-parallel-item:first-child::after {align-self: flex-end;width: 50%;}#sk-container-id-3 div.sk-parallel-item:last-child::after {align-self: flex-start;width: 50%;}#sk-container-id-3 div.sk-parallel-item:only-child::after {width: 0;}#sk-container-id-3 div.sk-dashed-wrapped {border: 1px dashed gray;margin: 0 0.4em 0.5em 0.4em;box-sizing: border-box;padding-bottom: 0.4em;background-color: white;}#sk-container-id-3 div.sk-label label {font-family: monospace;font-weight: bold;display: inline-block;line-height: 1.2em;}#sk-container-id-3 div.sk-label-container {text-align: center;}#sk-container-id-3 div.sk-container {/* jupyter's `normalize.less` sets `[hidden] { display: none; }` but bootstrap.min.css set `[hidden] { display: none !important; }` so we also need the `!important` here to be able to override the default hidden behavior on the sphinx rendered scikit-learn.org. See: https://github.com/scikit-learn/scikit-learn/issues/21755 */display: inline-block !important;position: relative;}#sk-container-id-3 div.sk-text-repr-fallback {display: none;}</style><div id=\"sk-container-id-3\" class=\"sk-top-container\"><div class=\"sk-text-repr-fallback\"><pre>Pipeline(steps=[(&#x27;columntransformer&#x27;,\n",
              "                 ColumnTransformer(remainder=&#x27;passthrough&#x27;,\n",
              "                                   transformers=[(&#x27;one-hot-encoding&#x27;,\n",
              "                                                  OneHotEncoder(handle_unknown=&#x27;ignore&#x27;,\n",
              "                                                                sparse_output=False),\n",
              "                                                  [&#x27;workclass&#x27;, &#x27;education&#x27;,\n",
              "                                                   &#x27;marital-status&#x27;,\n",
              "                                                   &#x27;occupation&#x27;, &#x27;relationship&#x27;,\n",
              "                                                   &#x27;race&#x27;, &#x27;sex&#x27;,\n",
              "                                                   &#x27;native-country&#x27;])])),\n",
              "                (&#x27;histgradientboostingclassifier&#x27;,\n",
              "                 HistGradientBoostingClassifier(random_state=123))])</pre><b>In a Jupyter environment, please rerun this cell to show the HTML representation or trust the notebook. <br />On GitHub, the HTML representation is unable to render, please try loading this page with nbviewer.org.</b></div><div class=\"sk-container\" hidden><div class=\"sk-item sk-dashed-wrapped\"><div class=\"sk-label-container\"><div class=\"sk-label sk-toggleable\"><input class=\"sk-toggleable__control sk-hidden--visually\" id=\"sk-estimator-id-13\" type=\"checkbox\" ><label for=\"sk-estimator-id-13\" class=\"sk-toggleable__label sk-toggleable__label-arrow\">Pipeline</label><div class=\"sk-toggleable__content\"><pre>Pipeline(steps=[(&#x27;columntransformer&#x27;,\n",
              "                 ColumnTransformer(remainder=&#x27;passthrough&#x27;,\n",
              "                                   transformers=[(&#x27;one-hot-encoding&#x27;,\n",
              "                                                  OneHotEncoder(handle_unknown=&#x27;ignore&#x27;,\n",
              "                                                                sparse_output=False),\n",
              "                                                  [&#x27;workclass&#x27;, &#x27;education&#x27;,\n",
              "                                                   &#x27;marital-status&#x27;,\n",
              "                                                   &#x27;occupation&#x27;, &#x27;relationship&#x27;,\n",
              "                                                   &#x27;race&#x27;, &#x27;sex&#x27;,\n",
              "                                                   &#x27;native-country&#x27;])])),\n",
              "                (&#x27;histgradientboostingclassifier&#x27;,\n",
              "                 HistGradientBoostingClassifier(random_state=123))])</pre></div></div></div><div class=\"sk-serial\"><div class=\"sk-item sk-dashed-wrapped\"><div class=\"sk-label-container\"><div class=\"sk-label sk-toggleable\"><input class=\"sk-toggleable__control sk-hidden--visually\" id=\"sk-estimator-id-14\" type=\"checkbox\" ><label for=\"sk-estimator-id-14\" class=\"sk-toggleable__label sk-toggleable__label-arrow\">columntransformer: ColumnTransformer</label><div class=\"sk-toggleable__content\"><pre>ColumnTransformer(remainder=&#x27;passthrough&#x27;,\n",
              "                  transformers=[(&#x27;one-hot-encoding&#x27;,\n",
              "                                 OneHotEncoder(handle_unknown=&#x27;ignore&#x27;,\n",
              "                                               sparse_output=False),\n",
              "                                 [&#x27;workclass&#x27;, &#x27;education&#x27;, &#x27;marital-status&#x27;,\n",
              "                                  &#x27;occupation&#x27;, &#x27;relationship&#x27;, &#x27;race&#x27;, &#x27;sex&#x27;,\n",
              "                                  &#x27;native-country&#x27;])])</pre></div></div></div><div class=\"sk-parallel\"><div class=\"sk-parallel-item\"><div class=\"sk-item\"><div class=\"sk-label-container\"><div class=\"sk-label sk-toggleable\"><input class=\"sk-toggleable__control sk-hidden--visually\" id=\"sk-estimator-id-15\" type=\"checkbox\" ><label for=\"sk-estimator-id-15\" class=\"sk-toggleable__label sk-toggleable__label-arrow\">one-hot-encoding</label><div class=\"sk-toggleable__content\"><pre>[&#x27;workclass&#x27;, &#x27;education&#x27;, &#x27;marital-status&#x27;, &#x27;occupation&#x27;, &#x27;relationship&#x27;, &#x27;race&#x27;, &#x27;sex&#x27;, &#x27;native-country&#x27;]</pre></div></div></div><div class=\"sk-serial\"><div class=\"sk-item\"><div class=\"sk-estimator sk-toggleable\"><input class=\"sk-toggleable__control sk-hidden--visually\" id=\"sk-estimator-id-16\" type=\"checkbox\" ><label for=\"sk-estimator-id-16\" class=\"sk-toggleable__label sk-toggleable__label-arrow\">OneHotEncoder</label><div class=\"sk-toggleable__content\"><pre>OneHotEncoder(handle_unknown=&#x27;ignore&#x27;, sparse_output=False)</pre></div></div></div></div></div></div><div class=\"sk-parallel-item\"><div class=\"sk-item\"><div class=\"sk-label-container\"><div class=\"sk-label sk-toggleable\"><input class=\"sk-toggleable__control sk-hidden--visually\" id=\"sk-estimator-id-17\" type=\"checkbox\" ><label for=\"sk-estimator-id-17\" class=\"sk-toggleable__label sk-toggleable__label-arrow\">remainder</label><div class=\"sk-toggleable__content\"><pre>[&#x27;age&#x27;, &#x27;education-num&#x27;, &#x27;capital-gain&#x27;, &#x27;capital-loss&#x27;, &#x27;hours-per-week&#x27;]</pre></div></div></div><div class=\"sk-serial\"><div class=\"sk-item\"><div class=\"sk-estimator sk-toggleable\"><input class=\"sk-toggleable__control sk-hidden--visually\" id=\"sk-estimator-id-18\" type=\"checkbox\" ><label for=\"sk-estimator-id-18\" class=\"sk-toggleable__label sk-toggleable__label-arrow\">passthrough</label><div class=\"sk-toggleable__content\"><pre>passthrough</pre></div></div></div></div></div></div></div></div><div class=\"sk-item\"><div class=\"sk-estimator sk-toggleable\"><input class=\"sk-toggleable__control sk-hidden--visually\" id=\"sk-estimator-id-19\" type=\"checkbox\" ><label for=\"sk-estimator-id-19\" class=\"sk-toggleable__label sk-toggleable__label-arrow\">HistGradientBoostingClassifier</label><div class=\"sk-toggleable__content\"><pre>HistGradientBoostingClassifier(random_state=123)</pre></div></div></div></div></div></div></div>"
            ]
          },
          "metadata": {},
          "execution_count": 22
        }
      ]
    },
    {
      "cell_type": "markdown",
      "source": [
        "<p align=\"justify\">\n",
        "Después de entrenar el modelo, se realizan las predicciones sobre nuevos datos (<code>X_test</code>)."
      ],
      "metadata": {
        "id": "22eejseS6Seo"
      }
    },
    {
      "cell_type": "code",
      "source": [
        "prediction = model.predict(X_test)\n",
        "prediction[:10]"
      ],
      "metadata": {
        "colab": {
          "base_uri": "https://localhost:8080/"
        },
        "id": "qk2GcOP3hLh9",
        "outputId": "5472d5d6-8063-4082-ee8a-8829ac6b9556"
      },
      "execution_count": null,
      "outputs": [
        {
          "output_type": "execute_result",
          "data": {
            "text/plain": [
              "array([0, 0, 0, 1, 0, 0, 1, 0, 0, 0])"
            ]
          },
          "metadata": {},
          "execution_count": 23
        }
      ]
    },
    {
      "cell_type": "markdown",
      "source": [
        "<p align=\"justify\">\n",
        "Por último, se evalua el rendimiento del modelo usando diferentes métricas.\n"
      ],
      "metadata": {
        "id": "gXmNNkJg7JWm"
      }
    },
    {
      "cell_type": "markdown",
      "source": [
        " ## **<font color=\"DeepPink\">Evaluación del modelo</font>**"
      ],
      "metadata": {
        "id": "kJ_jbWv0IlDT"
      }
    },
    {
      "cell_type": "markdown",
      "source": [
        "<p align=\"justify\">\n",
        "Las métricas para los modelos de clasificación implican resumir la habilidad predictiva del modelo. Se puede evaluar la calidad de los modelos de clasificación con las siguientes <a href='https://scikit-learn.org/stable/modules/model_evaluation.html'>métricas</a>:\n",
        "\n"
      ],
      "metadata": {
        "id": "sG5R5B75weCP"
      }
    },
    {
      "cell_type": "markdown",
      "source": [
        "### **<font color=\"DeepPink\">Accuracy**"
      ],
      "metadata": {
        "id": "L5ErSp5y-Kpq"
      }
    },
    {
      "cell_type": "markdown",
      "source": [
        "<p align=\"justify\">\n",
        "La métrica llamada <i>accuracy</i> calcula la relación entre el número de predicciones correctas (cuando predicciones y valores reales coinciden) y el número total de predicciones realizadas por el modelo con el conjunto de prueba. Se mide el porcentaje de los casos que el modelo ha acertado.\n",
        "<br>\n",
        "\n",
        "$$Accuracy = \\frac{Predicciones \\ correctas}{Predicciones \\ totales}$$\n",
        "\n",
        "<br><p align=\"justify\">\n",
        "Documentación <a href='https://scikit-learn.org/stable/modules/generated/sklearn.metrics.accuracy_score.html#sklearn.metrics.accuracy_score'>sklearn.metrics.accuracy_score</a>"
      ],
      "metadata": {
        "id": "8SqnW0SwMDeb"
      }
    },
    {
      "cell_type": "code",
      "source": [
        "from sklearn.metrics import accuracy_score\n",
        "accuracy = accuracy_score(y_true = y_test,\n",
        "                          y_pred = prediction)\n",
        "accuracy.round(4)"
      ],
      "metadata": {
        "colab": {
          "base_uri": "https://localhost:8080/"
        },
        "id": "9HkolKyLN5HT",
        "outputId": "744eaafe-02d8-449e-9934-9bef533b70dd"
      },
      "execution_count": null,
      "outputs": [
        {
          "output_type": "execute_result",
          "data": {
            "text/plain": [
              "0.8745"
            ]
          },
          "metadata": {},
          "execution_count": 36
        }
      ]
    },
    {
      "cell_type": "markdown",
      "source": [
        "<p align=\"justify\">\n",
        "Un valor de accuracy de 0.8745 significa que el modelo ha acertado el 87.45% de todas las predicciones realizadas, independientemente de si eran casos positivos o negativos.\n",
        "<br><br>\n",
        "Sin embargo, esta métrica, aunque es muy utilizada no distingue dos tipos de errores:\n",
        "<ul align=\"justify\">\n",
        "<li>Falsos Positivos (<b>FP</b>): cuando la predicción dio 1, pero el valor real es 0.\n",
        "<li>Falsos Negativos (<b>FN</b>): cuando la predicción dio 0, pero el valor real es 1.\n"
      ],
      "metadata": {
        "id": "G2uDP-oPZTVl"
      }
    },
    {
      "cell_type": "markdown",
      "source": [
        "### **<font color=\"DeepPink\">Matriz de confusión (Confusion Matrix)**"
      ],
      "metadata": {
        "id": "qLZQRle4QC7B"
      }
    },
    {
      "cell_type": "markdown",
      "source": [
        "<p align=\"justify\">\n",
        "Aunque existen diversos modelos teóricos, en la práctica se puede utilizar una tabla de doble entrada denominada matriz de confusión, la cual indica que tan confundido está el clasificador.\n",
        "\n",
        "Documentación <a href='https://scikit-learn.org/stable/modules/generated/sklearn.metrics.confusion_matrix.html'>sklearn.metrics.confusion_matrix</a>\n"
      ],
      "metadata": {
        "id": "yQe_X__ye24X"
      }
    },
    {
      "cell_type": "code",
      "source": [
        "from sklearn.metrics import confusion_matrix, ConfusionMatrixDisplay\n",
        "cm = confusion_matrix(y_true = y_test,\n",
        "                      y_pred = prediction)\n",
        "cm"
      ],
      "metadata": {
        "colab": {
          "base_uri": "https://localhost:8080/"
        },
        "id": "VpG9dwgZNqCu",
        "outputId": "0a4211ee-54bd-4b3c-9c2d-b31a13e3e7c6"
      },
      "execution_count": null,
      "outputs": [
        {
          "output_type": "execute_result",
          "data": {
            "text/plain": [
              "array([[5808,  357],\n",
              "       [ 665, 1311]])"
            ]
          },
          "metadata": {},
          "execution_count": 26
        }
      ]
    },
    {
      "cell_type": "code",
      "source": [
        "import plotly.express as px\n",
        "fig = px.imshow(cm,\n",
        "                text_auto=True,\n",
        "                labels=dict(x=\"Predict\", y=\"True\"),\n",
        "                x=['0', '1'],\n",
        "                y=['0 ', '1 '])\n",
        "fig.update_coloraxes(showscale=False)\n",
        "fig.show()"
      ],
      "metadata": {
        "colab": {
          "base_uri": "https://localhost:8080/",
          "height": 542
        },
        "id": "gXDqsc7HD4ms",
        "outputId": "44fbca85-fc4b-42b8-9fff-91dff89bca71"
      },
      "execution_count": null,
      "outputs": [
        {
          "output_type": "display_data",
          "data": {
            "text/html": [
              "<html>\n",
              "<head><meta charset=\"utf-8\" /></head>\n",
              "<body>\n",
              "    <div>            <script src=\"https://cdnjs.cloudflare.com/ajax/libs/mathjax/2.7.5/MathJax.js?config=TeX-AMS-MML_SVG\"></script><script type=\"text/javascript\">if (window.MathJax && window.MathJax.Hub && window.MathJax.Hub.Config) {window.MathJax.Hub.Config({SVG: {font: \"STIX-Web\"}});}</script>                <script type=\"text/javascript\">window.PlotlyConfig = {MathJaxConfig: 'local'};</script>\n",
              "        <script charset=\"utf-8\" src=\"https://cdn.plot.ly/plotly-2.24.1.min.js\"></script>                <div id=\"05d7bf76-bc22-489d-84a1-901879cf63df\" class=\"plotly-graph-div\" style=\"height:525px; width:100%;\"></div>            <script type=\"text/javascript\">                                    window.PLOTLYENV=window.PLOTLYENV || {};                                    if (document.getElementById(\"05d7bf76-bc22-489d-84a1-901879cf63df\")) {                    Plotly.newPlot(                        \"05d7bf76-bc22-489d-84a1-901879cf63df\",                        [{\"coloraxis\":\"coloraxis\",\"name\":\"0\",\"texttemplate\":\"%{z}\",\"x\":[\"0\",\"1\"],\"y\":[\"0 \",\"1 \"],\"z\":[[5808,357],[665,1311]],\"type\":\"heatmap\",\"xaxis\":\"x\",\"yaxis\":\"y\",\"hovertemplate\":\"Predict: %{x}\\u003cbr\\u003eTrue: %{y}\\u003cbr\\u003ecolor: %{z}\\u003cextra\\u003e\\u003c\\u002fextra\\u003e\"}],                        {\"template\":{\"data\":{\"histogram2dcontour\":[{\"type\":\"histogram2dcontour\",\"colorbar\":{\"outlinewidth\":0,\"ticks\":\"\"},\"colorscale\":[[0.0,\"#0d0887\"],[0.1111111111111111,\"#46039f\"],[0.2222222222222222,\"#7201a8\"],[0.3333333333333333,\"#9c179e\"],[0.4444444444444444,\"#bd3786\"],[0.5555555555555556,\"#d8576b\"],[0.6666666666666666,\"#ed7953\"],[0.7777777777777778,\"#fb9f3a\"],[0.8888888888888888,\"#fdca26\"],[1.0,\"#f0f921\"]]}],\"choropleth\":[{\"type\":\"choropleth\",\"colorbar\":{\"outlinewidth\":0,\"ticks\":\"\"}}],\"histogram2d\":[{\"type\":\"histogram2d\",\"colorbar\":{\"outlinewidth\":0,\"ticks\":\"\"},\"colorscale\":[[0.0,\"#0d0887\"],[0.1111111111111111,\"#46039f\"],[0.2222222222222222,\"#7201a8\"],[0.3333333333333333,\"#9c179e\"],[0.4444444444444444,\"#bd3786\"],[0.5555555555555556,\"#d8576b\"],[0.6666666666666666,\"#ed7953\"],[0.7777777777777778,\"#fb9f3a\"],[0.8888888888888888,\"#fdca26\"],[1.0,\"#f0f921\"]]}],\"heatmap\":[{\"type\":\"heatmap\",\"colorbar\":{\"outlinewidth\":0,\"ticks\":\"\"},\"colorscale\":[[0.0,\"#0d0887\"],[0.1111111111111111,\"#46039f\"],[0.2222222222222222,\"#7201a8\"],[0.3333333333333333,\"#9c179e\"],[0.4444444444444444,\"#bd3786\"],[0.5555555555555556,\"#d8576b\"],[0.6666666666666666,\"#ed7953\"],[0.7777777777777778,\"#fb9f3a\"],[0.8888888888888888,\"#fdca26\"],[1.0,\"#f0f921\"]]}],\"heatmapgl\":[{\"type\":\"heatmapgl\",\"colorbar\":{\"outlinewidth\":0,\"ticks\":\"\"},\"colorscale\":[[0.0,\"#0d0887\"],[0.1111111111111111,\"#46039f\"],[0.2222222222222222,\"#7201a8\"],[0.3333333333333333,\"#9c179e\"],[0.4444444444444444,\"#bd3786\"],[0.5555555555555556,\"#d8576b\"],[0.6666666666666666,\"#ed7953\"],[0.7777777777777778,\"#fb9f3a\"],[0.8888888888888888,\"#fdca26\"],[1.0,\"#f0f921\"]]}],\"contourcarpet\":[{\"type\":\"contourcarpet\",\"colorbar\":{\"outlinewidth\":0,\"ticks\":\"\"}}],\"contour\":[{\"type\":\"contour\",\"colorbar\":{\"outlinewidth\":0,\"ticks\":\"\"},\"colorscale\":[[0.0,\"#0d0887\"],[0.1111111111111111,\"#46039f\"],[0.2222222222222222,\"#7201a8\"],[0.3333333333333333,\"#9c179e\"],[0.4444444444444444,\"#bd3786\"],[0.5555555555555556,\"#d8576b\"],[0.6666666666666666,\"#ed7953\"],[0.7777777777777778,\"#fb9f3a\"],[0.8888888888888888,\"#fdca26\"],[1.0,\"#f0f921\"]]}],\"surface\":[{\"type\":\"surface\",\"colorbar\":{\"outlinewidth\":0,\"ticks\":\"\"},\"colorscale\":[[0.0,\"#0d0887\"],[0.1111111111111111,\"#46039f\"],[0.2222222222222222,\"#7201a8\"],[0.3333333333333333,\"#9c179e\"],[0.4444444444444444,\"#bd3786\"],[0.5555555555555556,\"#d8576b\"],[0.6666666666666666,\"#ed7953\"],[0.7777777777777778,\"#fb9f3a\"],[0.8888888888888888,\"#fdca26\"],[1.0,\"#f0f921\"]]}],\"mesh3d\":[{\"type\":\"mesh3d\",\"colorbar\":{\"outlinewidth\":0,\"ticks\":\"\"}}],\"scatter\":[{\"fillpattern\":{\"fillmode\":\"overlay\",\"size\":10,\"solidity\":0.2},\"type\":\"scatter\"}],\"parcoords\":[{\"type\":\"parcoords\",\"line\":{\"colorbar\":{\"outlinewidth\":0,\"ticks\":\"\"}}}],\"scatterpolargl\":[{\"type\":\"scatterpolargl\",\"marker\":{\"colorbar\":{\"outlinewidth\":0,\"ticks\":\"\"}}}],\"bar\":[{\"error_x\":{\"color\":\"#2a3f5f\"},\"error_y\":{\"color\":\"#2a3f5f\"},\"marker\":{\"line\":{\"color\":\"#E5ECF6\",\"width\":0.5},\"pattern\":{\"fillmode\":\"overlay\",\"size\":10,\"solidity\":0.2}},\"type\":\"bar\"}],\"scattergeo\":[{\"type\":\"scattergeo\",\"marker\":{\"colorbar\":{\"outlinewidth\":0,\"ticks\":\"\"}}}],\"scatterpolar\":[{\"type\":\"scatterpolar\",\"marker\":{\"colorbar\":{\"outlinewidth\":0,\"ticks\":\"\"}}}],\"histogram\":[{\"marker\":{\"pattern\":{\"fillmode\":\"overlay\",\"size\":10,\"solidity\":0.2}},\"type\":\"histogram\"}],\"scattergl\":[{\"type\":\"scattergl\",\"marker\":{\"colorbar\":{\"outlinewidth\":0,\"ticks\":\"\"}}}],\"scatter3d\":[{\"type\":\"scatter3d\",\"line\":{\"colorbar\":{\"outlinewidth\":0,\"ticks\":\"\"}},\"marker\":{\"colorbar\":{\"outlinewidth\":0,\"ticks\":\"\"}}}],\"scattermapbox\":[{\"type\":\"scattermapbox\",\"marker\":{\"colorbar\":{\"outlinewidth\":0,\"ticks\":\"\"}}}],\"scatterternary\":[{\"type\":\"scatterternary\",\"marker\":{\"colorbar\":{\"outlinewidth\":0,\"ticks\":\"\"}}}],\"scattercarpet\":[{\"type\":\"scattercarpet\",\"marker\":{\"colorbar\":{\"outlinewidth\":0,\"ticks\":\"\"}}}],\"carpet\":[{\"aaxis\":{\"endlinecolor\":\"#2a3f5f\",\"gridcolor\":\"white\",\"linecolor\":\"white\",\"minorgridcolor\":\"white\",\"startlinecolor\":\"#2a3f5f\"},\"baxis\":{\"endlinecolor\":\"#2a3f5f\",\"gridcolor\":\"white\",\"linecolor\":\"white\",\"minorgridcolor\":\"white\",\"startlinecolor\":\"#2a3f5f\"},\"type\":\"carpet\"}],\"table\":[{\"cells\":{\"fill\":{\"color\":\"#EBF0F8\"},\"line\":{\"color\":\"white\"}},\"header\":{\"fill\":{\"color\":\"#C8D4E3\"},\"line\":{\"color\":\"white\"}},\"type\":\"table\"}],\"barpolar\":[{\"marker\":{\"line\":{\"color\":\"#E5ECF6\",\"width\":0.5},\"pattern\":{\"fillmode\":\"overlay\",\"size\":10,\"solidity\":0.2}},\"type\":\"barpolar\"}],\"pie\":[{\"automargin\":true,\"type\":\"pie\"}]},\"layout\":{\"autotypenumbers\":\"strict\",\"colorway\":[\"#636efa\",\"#EF553B\",\"#00cc96\",\"#ab63fa\",\"#FFA15A\",\"#19d3f3\",\"#FF6692\",\"#B6E880\",\"#FF97FF\",\"#FECB52\"],\"font\":{\"color\":\"#2a3f5f\"},\"hovermode\":\"closest\",\"hoverlabel\":{\"align\":\"left\"},\"paper_bgcolor\":\"white\",\"plot_bgcolor\":\"#E5ECF6\",\"polar\":{\"bgcolor\":\"#E5ECF6\",\"angularaxis\":{\"gridcolor\":\"white\",\"linecolor\":\"white\",\"ticks\":\"\"},\"radialaxis\":{\"gridcolor\":\"white\",\"linecolor\":\"white\",\"ticks\":\"\"}},\"ternary\":{\"bgcolor\":\"#E5ECF6\",\"aaxis\":{\"gridcolor\":\"white\",\"linecolor\":\"white\",\"ticks\":\"\"},\"baxis\":{\"gridcolor\":\"white\",\"linecolor\":\"white\",\"ticks\":\"\"},\"caxis\":{\"gridcolor\":\"white\",\"linecolor\":\"white\",\"ticks\":\"\"}},\"coloraxis\":{\"colorbar\":{\"outlinewidth\":0,\"ticks\":\"\"}},\"colorscale\":{\"sequential\":[[0.0,\"#0d0887\"],[0.1111111111111111,\"#46039f\"],[0.2222222222222222,\"#7201a8\"],[0.3333333333333333,\"#9c179e\"],[0.4444444444444444,\"#bd3786\"],[0.5555555555555556,\"#d8576b\"],[0.6666666666666666,\"#ed7953\"],[0.7777777777777778,\"#fb9f3a\"],[0.8888888888888888,\"#fdca26\"],[1.0,\"#f0f921\"]],\"sequentialminus\":[[0.0,\"#0d0887\"],[0.1111111111111111,\"#46039f\"],[0.2222222222222222,\"#7201a8\"],[0.3333333333333333,\"#9c179e\"],[0.4444444444444444,\"#bd3786\"],[0.5555555555555556,\"#d8576b\"],[0.6666666666666666,\"#ed7953\"],[0.7777777777777778,\"#fb9f3a\"],[0.8888888888888888,\"#fdca26\"],[1.0,\"#f0f921\"]],\"diverging\":[[0,\"#8e0152\"],[0.1,\"#c51b7d\"],[0.2,\"#de77ae\"],[0.3,\"#f1b6da\"],[0.4,\"#fde0ef\"],[0.5,\"#f7f7f7\"],[0.6,\"#e6f5d0\"],[0.7,\"#b8e186\"],[0.8,\"#7fbc41\"],[0.9,\"#4d9221\"],[1,\"#276419\"]]},\"xaxis\":{\"gridcolor\":\"white\",\"linecolor\":\"white\",\"ticks\":\"\",\"title\":{\"standoff\":15},\"zerolinecolor\":\"white\",\"automargin\":true,\"zerolinewidth\":2},\"yaxis\":{\"gridcolor\":\"white\",\"linecolor\":\"white\",\"ticks\":\"\",\"title\":{\"standoff\":15},\"zerolinecolor\":\"white\",\"automargin\":true,\"zerolinewidth\":2},\"scene\":{\"xaxis\":{\"backgroundcolor\":\"#E5ECF6\",\"gridcolor\":\"white\",\"linecolor\":\"white\",\"showbackground\":true,\"ticks\":\"\",\"zerolinecolor\":\"white\",\"gridwidth\":2},\"yaxis\":{\"backgroundcolor\":\"#E5ECF6\",\"gridcolor\":\"white\",\"linecolor\":\"white\",\"showbackground\":true,\"ticks\":\"\",\"zerolinecolor\":\"white\",\"gridwidth\":2},\"zaxis\":{\"backgroundcolor\":\"#E5ECF6\",\"gridcolor\":\"white\",\"linecolor\":\"white\",\"showbackground\":true,\"ticks\":\"\",\"zerolinecolor\":\"white\",\"gridwidth\":2}},\"shapedefaults\":{\"line\":{\"color\":\"#2a3f5f\"}},\"annotationdefaults\":{\"arrowcolor\":\"#2a3f5f\",\"arrowhead\":0,\"arrowwidth\":1},\"geo\":{\"bgcolor\":\"white\",\"landcolor\":\"#E5ECF6\",\"subunitcolor\":\"white\",\"showland\":true,\"showlakes\":true,\"lakecolor\":\"white\"},\"title\":{\"x\":0.05},\"mapbox\":{\"style\":\"light\"}}},\"xaxis\":{\"anchor\":\"y\",\"domain\":[0.0,1.0],\"scaleanchor\":\"y\",\"constrain\":\"domain\",\"title\":{\"text\":\"Predict\"}},\"yaxis\":{\"anchor\":\"x\",\"domain\":[0.0,1.0],\"autorange\":\"reversed\",\"constrain\":\"domain\",\"title\":{\"text\":\"True\"}},\"coloraxis\":{\"colorscale\":[[0.0,\"#0d0887\"],[0.1111111111111111,\"#46039f\"],[0.2222222222222222,\"#7201a8\"],[0.3333333333333333,\"#9c179e\"],[0.4444444444444444,\"#bd3786\"],[0.5555555555555556,\"#d8576b\"],[0.6666666666666666,\"#ed7953\"],[0.7777777777777778,\"#fb9f3a\"],[0.8888888888888888,\"#fdca26\"],[1.0,\"#f0f921\"]],\"showscale\":false},\"margin\":{\"t\":60}},                        {\"responsive\": true}                    ).then(function(){\n",
              "                            \n",
              "var gd = document.getElementById('05d7bf76-bc22-489d-84a1-901879cf63df');\n",
              "var x = new MutationObserver(function (mutations, observer) {{\n",
              "        var display = window.getComputedStyle(gd).display;\n",
              "        if (!display || display === 'none') {{\n",
              "            console.log([gd, 'removed!']);\n",
              "            Plotly.purge(gd);\n",
              "            observer.disconnect();\n",
              "        }}\n",
              "}});\n",
              "\n",
              "// Listen for the removal of the full notebook cells\n",
              "var notebookContainer = gd.closest('#notebook-container');\n",
              "if (notebookContainer) {{\n",
              "    x.observe(notebookContainer, {childList: true});\n",
              "}}\n",
              "\n",
              "// Listen for the clearing of the current output cell\n",
              "var outputEl = gd.closest('.output');\n",
              "if (outputEl) {{\n",
              "    x.observe(outputEl, {childList: true});\n",
              "}}\n",
              "\n",
              "                        })                };                            </script>        </div>\n",
              "</body>\n",
              "</html>"
            ]
          },
          "metadata": {}
        }
      ]
    },
    {
      "cell_type": "markdown",
      "source": [
        "El siguiente código utiliza la biblioteca <code>matplotlib</code> para visualizar la matriz de confusión."
      ],
      "metadata": {
        "id": "kXv_QSJzNeod"
      }
    },
    {
      "cell_type": "code",
      "source": [
        "import matplotlib.pyplot as plt\n",
        "disp = ConfusionMatrixDisplay(confusion_matrix=cm,                              # cm es la matriz de confusión calculada previamente.\n",
        "                              display_labels=model.classes_)                    # Es un atributo de un modelo entrenado que proporciona un array con las etiquetas de clase [0,1].\n",
        "disp.plot()"
      ],
      "metadata": {
        "colab": {
          "base_uri": "https://localhost:8080/",
          "height": 467
        },
        "id": "dRA0dGQaMhWd",
        "outputId": "05ee037f-e9dc-4d1a-d973-d32a6c5a59e1"
      },
      "execution_count": null,
      "outputs": [
        {
          "output_type": "execute_result",
          "data": {
            "text/plain": [
              "<sklearn.metrics._plot.confusion_matrix.ConfusionMatrixDisplay at 0x79a9c2cfb220>"
            ]
          },
          "metadata": {},
          "execution_count": 31
        },
        {
          "output_type": "display_data",
          "data": {
            "text/plain": [
              "<Figure size 640x480 with 2 Axes>"
            ],
            "image/png": "[encoded data removed]"
          },
          "metadata": {}
        }
      ]
    },
    {
      "cell_type": "markdown",
      "source": [
        "<p align=\"justify\">\n",
        "La matriz de confusión es una herramienta comúnmente utilizada para evaluar el rendimiento de un modelo de clasificación, especialmente cuando se trata de problemas de dos clases, como la clasificación binaria. En este ejemplo solo hay dos clases posibles: la clase 0 (income <= 50K) y la clase 1 (income > 50K).\n",
        "<br>\n",
        "<br>\n",
        "En un modelo de clasificación binaria, los resultados de las predicciones se pueden resumir en cuatro términos:\n",
        "\n",
        "<ol align=\"justify\">\n",
        "<li><b>Verdaderos positivos (VP)</b>: Representa el número de muestras que pertenecen a la clase 1 (positiva) y fueron clasificadas correctamente como clase 1.</li><br>\n",
        "<li><b>Verdaderos negativos (VN)</b>: Representa el número de muestras que pertenecen a la clase 0 (negativa) y fueron clasificadas correctamente como clase 0.</li><br>\n",
        "<li><b>Falsos positivos (FP)</b>: Representa el número de muestras que pertenecen a la clase 0 (negativa) pero fueron incorrectamente clasificadas como clase 1.</li><br>\n",
        "<li><b>Falsos negativos (FN)</b>: Representa el número de muestras que pertenecen a la clase 1 (positiva) pero fueron incorrectamente clasificadas como clase 0.</li>"
      ],
      "metadata": {
        "id": "HgDiuQX945BJ"
      }
    },
    {
      "cell_type": "markdown",
      "source": [
        "<p align=\"justify\">\n",
        "Este modelo clasifica como clase 1 (income > 50K) y efectivamente fue clase 1 (<b>Verdadero Positivo</b>) 1311 veces, por el contrario, clasificó como clase 0 (income <= 50K), pero el valor real fue clase 1 (<b>Falso Negativo</b>) 665 veces.\n",
        "<br><br>\n",
        "Complementariamente el modelo clasifica clase 0 (income <= 50K) y efectivamente fue clase 0 (<b>Verdadero Negativo</b>) 5808 veces, por el contrario, clasificó como clase 1 (income > 50K), pero el valor real fue clase 0 (<b>Falso Positivo</b>) 357 veces.\n",
        "<br><br>\n",
        "En resumen:\n",
        "<ul align=\"justify\">\n",
        "<li>VP = 1311\n",
        "<li>VN = 5808\n",
        "<li>FP = 357\n",
        "<li>FN = 665\n"
      ],
      "metadata": {
        "id": "D-LU7FZB_Low"
      }
    },
    {
      "cell_type": "markdown",
      "source": [
        "### **<font color=\"DeepPink\">Recall**"
      ],
      "metadata": {
        "id": "_-bNaptVR2o-"
      }
    },
    {
      "cell_type": "markdown",
      "source": [
        "<p align=\"justify\">\n",
        "El nombre <i>recall</i> tiene su origen en el campo de la recuperación de información, el cual se centra en la extracción de información relevante a partir de conjuntos de grandes datos. Esta métrica establece una relación entre los <b>Verdaderos Positivos</b> y la totalidad de los elementos relevantes, es decir, aquellos valores que realmente son positivos (suma de <b>Verdaderos Positivos</b> y <b>Falsos Negativos</b>). Para su cálculo se utiliza la siguiente fórmula:\n",
        "<br>\n",
        "\n",
        "$$Recall=\\frac{VP}{VP+FN}$$\n",
        "\n",
        "Documentación <a href='https://scikit-learn.org/stable/modules/generated/sklearn.metrics.recall_score.html#sklearn.metrics.recall_score'>sklearn.metrics.recall_score</a>"
      ],
      "metadata": {
        "id": "s8VNkc99FYqL"
      }
    },
    {
      "cell_type": "code",
      "source": [
        "from sklearn.metrics import recall_score\n",
        "recall = recall_score(y_true = y_test,\n",
        "                      y_pred = prediction)\n",
        "recall.round(2)"
      ],
      "metadata": {
        "colab": {
          "base_uri": "https://localhost:8080/"
        },
        "id": "U6WUOtpV0ZEG",
        "outputId": "ce2dc470-c6f5-4c12-f59c-7ece6e8bc1ed"
      },
      "execution_count": null,
      "outputs": [
        {
          "output_type": "execute_result",
          "data": {
            "text/plain": [
              "0.66"
            ]
          },
          "metadata": {},
          "execution_count": 32
        }
      ]
    },
    {
      "cell_type": "markdown",
      "source": [
        "<p align=\"justify\">\n",
        "En resumen, de todos los elementos que realmente son positivos, cuantas predicciones positivas realizó el modelo. Un recall de 0.66 indica que de todas las personas que realmente poseen ingresos superiorer a 55K (income > 50K), el 66% de ellas fueron detectadas correctamente por el modelo."
      ],
      "metadata": {
        "id": "HuLG4QdJL1dL"
      }
    },
    {
      "cell_type": "markdown",
      "source": [
        "### **<font color=\"DeepPink\">Precision**"
      ],
      "metadata": {
        "id": "v0Fkd1U2UhXh"
      }
    },
    {
      "cell_type": "markdown",
      "source": [
        "<p align=\"justify\">\n",
        "Siguiendo la analogía de recuperación de la información, la <i>precision</i> relaciona los <b>Verdaderos Positivos</b> y todos los elementos recolectados, es decir, aquellas predicciones positivas (suma de <b>Verdaderos Positivos</b> y <b>Falsos Positivos</b>). Para su cálculo se utiliza la siguiente fórmula:\n",
        "<br>\n",
        "\n",
        "$$Precision=\\frac{VP}{VP+FP}$$\n",
        "\n",
        "Documentación <a href='https://scikit-learn.org/stable/modules/generated/sklearn.metrics.precision_score.html#sklearn.metrics.precision_score'>sklearn.metrics.precision_score</a>"
      ],
      "metadata": {
        "id": "L_XI8zAqVhvb"
      }
    },
    {
      "cell_type": "code",
      "source": [
        "from sklearn.metrics import precision_score\n",
        "precision = precision_score(y_true = y_test,\n",
        "                      y_pred = prediction)\n",
        "precision.round(2)"
      ],
      "metadata": {
        "colab": {
          "base_uri": "https://localhost:8080/"
        },
        "id": "XEDiQ7zski_u",
        "outputId": "5236c476-f4c3-4dc7-e4a3-979eb1cda5c2"
      },
      "execution_count": null,
      "outputs": [
        {
          "output_type": "execute_result",
          "data": {
            "text/plain": [
              "0.79"
            ]
          },
          "metadata": {},
          "execution_count": 33
        }
      ]
    },
    {
      "cell_type": "markdown",
      "source": [
        "<p align=\"justify\">\n",
        "En resumen, de todos los elementos que predijo el modelo como positivos, cuántos realmente son positivos. Una precision de 0.79 indica que de todas las personas que el modelo predijo que tienen ingresos superiorer a 55K (income > 50K), solo lo tienen realmente el 79%.  "
      ],
      "metadata": {
        "id": "iD6Vpok8D97y"
      }
    },
    {
      "cell_type": "markdown",
      "source": [
        "### **<font color=\"DeepPink\">F1-Score**"
      ],
      "metadata": {
        "id": "9F2FxdwGVkPV"
      }
    },
    {
      "cell_type": "markdown",
      "source": [
        "<p align=\"justify\">\n",
        "El puntaje F1 se utiliza para combinar las métricas de <i>Precision</i> y <i>Recall</i> en un sólo valor. Proporciona una forma de evaluar el equilibrio entre <i>Precision</i> y <i>Recall</i>.  Para su cálculo se utiliza la siguiente fórmula:\n",
        "\n",
        "\n",
        "$$F1 = 2*\\frac{Precision*Recall}{Precision+Recall}$$\n",
        "\n",
        "Documentación <a href='https://scikit-learn.org/stable/modules/generated/sklearn.metrics.f1_score.html#sklearn.metrics.f1_score'>sklearn.metrics.f1_score</a>"
      ],
      "metadata": {
        "id": "rBliciKHI0Dy"
      }
    },
    {
      "cell_type": "code",
      "source": [
        "from sklearn.metrics import f1_score\n",
        "f1 = f1_score(y_true = y_test,\n",
        "              y_pred = prediction)\n",
        "f1.round(2)"
      ],
      "metadata": {
        "colab": {
          "base_uri": "https://localhost:8080/"
        },
        "id": "XL-bjwcDsjwO",
        "outputId": "29b5952f-76c9-4e4c-83e1-1b757b28613a"
      },
      "execution_count": null,
      "outputs": [
        {
          "output_type": "execute_result",
          "data": {
            "text/plain": [
              "0.72"
            ]
          },
          "metadata": {},
          "execution_count": 34
        }
      ]
    },
    {
      "cell_type": "markdown",
      "source": [
        "<p align=\"justify\">\n",
        "Un valor de F1-Score de 0.72 indica que el modelo tiene un buen equilibrio entre la Precisión y el Recall en sus predicciones. Además, este valor indica generalmente un desempeño satisfactorio del modelo de clasificación, sin embargo, el umbral se establece según el contexto del problema."
      ],
      "metadata": {
        "id": "owFvIZ4gFU_g"
      }
    },
    {
      "cell_type": "markdown",
      "source": [
        "### **<font color=\"DeepPink\">Kappa-Score**"
      ],
      "metadata": {
        "id": "chOKEbvYFdOM"
      }
    },
    {
      "cell_type": "markdown",
      "source": [
        "<p align=\"justify\">\n",
        "El puntaje Kappa, conocido también como el coeficiente Kappa de Cohen, es una métrica utilizada para ajustar el efecto del azar en la proporción de concordancia o acuerdos observados entre las predicciones y los valores reales. Proporciona una medida más robusta que el simple cálculo del porcentaje de concordancia (<i>Accuracy</i>), ya que Kappa considera tanto el acuerdo real como el acuerdo que podría ocurrir por azar. En otras palabras, evalúa cuánto mejor (o peor) es el acuerdo real en comparación con lo que podría ocurrir por azar. Para su cálculo se utiliza la siguiente fórmula:\n",
        "\n",
        "\n",
        "$$Kappa = \\frac{Pc-Pa}{1-Pa}$$\n",
        "\n",
        "Donde:\n",
        "- $Pc$ es la proporción de acuerdos observados (Accuracy).\n",
        "- $Pa$ es la proporción de acuerdo esperados por azar.\n",
        "\n",
        "<br><p align=\"justify\">\n",
        "Para calcular $Pa$, es decir, la probabilidad de que el acuerdo se deba al azar, es necesario tener en cuenta la <b>matriz de confusión</b>.\n",
        "<br><br>\n",
        "La medida de proporción de acuerdo esperado por azar para la clase 1 (income > 50K) refleja la probabilidad de que el nivel de concordancia entre el valor real y la predicción en la clase sea resultado del azar. Su cálculo implica sumar las filas y columnas correspondientes a la clase 1 en la matriz de confusión, dividiendo cada suma por el total de instancias en la matriz. Luego, estos valores se multiplican entre sí para obtener la proporción final para la clase: <br><br>\n",
        "\n",
        "$$Pa(C_1) = \\frac{1668}{8141}*\\frac{1976}{8141}=0.05$$\n",
        "\n",
        "<br><p align=\"justify\">\n",
        "Del mismo modo para calcular la proporción de acuerdo esperado por azar para la clase 0 (income <= 50K) se suman de las filas y columnas correspondientes a la clase 0 en la matriz de confusión, luego, se divide cada una de estas sumas por el total de instancias en la matriz. Finalmente, se multiplican estos valores entre sí para obtener la proporción final asociada a la clase 0:<br><br>\n",
        "\n",
        "$$Pa(C_0) = \\frac{6473}{8141}*\\frac{6165}{8141}=0.60$$\n",
        "\n",
        "<br><p align=\"justify\">\n",
        "Teniendo en cuenta lo anterior, el valor de $Pa$ se calcula como la suma de la proporción de acuerdo esperado por azar para ambas clases:<br><br>\n",
        "\n",
        "$$Pa = Pa(C_1)+Pa(C_0)=0.65$$\n",
        "\n",
        "<br><p align=\"justify\">\n",
        "Aplicando los valores de $Pc$ y $Pa$ en la fórmula de Kappa de Cohen se obtiene:\n",
        "<br><br>\n",
        "$$Kappa = \\frac{0.8765-0.65}{1-0.65}=0.64$$\n",
        "<br>\n",
        "Documentación <a href='https://scikit-learn.org/stable/modules/generated/sklearn.metrics.cohen_kappa_score.html#sklearn.metrics.cohen_kappa_score\n",
        "'>sklearn.metrics.cohen_kappa_score</a>\n",
        "\n",
        "\n",
        "\n",
        "\n"
      ],
      "metadata": {
        "id": "PZH4ZujxFdOM"
      }
    },
    {
      "cell_type": "code",
      "source": [
        "from sklearn.metrics import cohen_kappa_score\n",
        "kappa = cohen_kappa_score(y_test, prediction)\n",
        "kappa.round(2)"
      ],
      "metadata": {
        "colab": {
          "base_uri": "https://localhost:8080/"
        },
        "outputId": "7b2aa621-3829-434c-c1b7-9c477195e9d6",
        "id": "VMx5_zEuFdON"
      },
      "execution_count": null,
      "outputs": [
        {
          "output_type": "execute_result",
          "data": {
            "text/plain": [
              "0.64"
            ]
          },
          "metadata": {},
          "execution_count": 37
        }
      ]
    },
    {
      "cell_type": "markdown",
      "source": [
        "<br><p align=\"justify\">\n",
        "El valor del puntaje Kappa varía entre -1 y +1, donde un valor positivo indica un acuerdo más allá del acuerdo esperado por azar, 0 indica acuerdo igual al azar y un valor negativo indica acuerdo peor que el azar. Un valor cercano a 1 indica un alto nivel de acuerdo, mientras que uno cercano a 0 sugiere un acuerdo limitado o esperado por azar. Un valor de kappa de 0.64 sugiere un acuerdo de moderado a alto.\n",
        "<br><br>\n",
        "En el ámbito de negocios, esto sugiere que hay un nivel razonable de acuerdo entre las predicciones realizadas por el modelo y los valores reales, más allá de lo que podría esperarse por azar."
      ],
      "metadata": {
        "id": "HSbFzOudH95c"
      }
    },
    {
      "cell_type": "markdown",
      "source": [
        "### **<font color=\"DeepPink\">MCC**"
      ],
      "metadata": {
        "id": "JVOotJsQH7fL"
      }
    },
    {
      "cell_type": "markdown",
      "source": [
        "<br><p align=\"justify\">\n",
        "El coeficiente de correlación de Matthews (MCC por sus siglas en inglés), también conocido como coeficiente phi (φ), es una métrica de evaluación utilizada en problemas de clasificación binaria para medir la calidad de un modelo de clasificación. MCC es especialmente útil cuando las clases están desequilibradas. Al igual que el puntaje Kappa, el coeficiente MCC es una métrica robusta que considera la concordancia real entre predicciones y observaciones, ajustando el efecto del azar y proporcionando una evaluación más completa. Para su cálculo se utiliza la siguiente fórmula:\n",
        "<br><br>\n",
        "\n",
        "$$MCC=\\frac{VP*VN-FP*FN}{\\sqrt{ (VP+FP)(VP+FN)(VN+FP)(VN+FN) }}$$\n",
        "\n",
        "<br><p align=\"justify\">\n",
        "Documentación <a href='https://scikit-learn.org/stable/modules/generated/sklearn.metrics.matthews_corrcoef.html'>sklearn.metrics.matthews_corrcoef</a>\n"
      ],
      "metadata": {
        "id": "9xWCyVP9H7fM"
      }
    },
    {
      "cell_type": "code",
      "source": [
        "from sklearn.metrics import matthews_corrcoef\n",
        "mcc = matthews_corrcoef(y_true = y_test,\n",
        "                        y_pred = prediction)\n",
        "mcc.round(2)"
      ],
      "metadata": {
        "colab": {
          "base_uri": "https://localhost:8080/"
        },
        "outputId": "f290f064-1203-462c-e456-691deb395697",
        "id": "UuyIY-YhH7fN"
      },
      "execution_count": null,
      "outputs": [
        {
          "output_type": "execute_result",
          "data": {
            "text/plain": [
              "0.64"
            ]
          },
          "metadata": {},
          "execution_count": 85
        }
      ]
    },
    {
      "cell_type": "markdown",
      "source": [
        "<p align=\"justify\">\n",
        "El MCC produce valores en el rango de -1 a +1. Un valor de +1 indica una clasificación perfecta, 0 indica una clasificación al azar y -1 indica una clasificación inversa perfecta. Un MCC de 0.64 sugiere que hay una correlación\n",
        "de moderada a fuerte entre las predicciones y las observaciones reales en un problema de clasificación binaria. Esto significa que el modelo está haciendo predicciones que se correlacionan positivamente con los valores reales, aunque hay margen de mejora."
      ],
      "metadata": {
        "id": "W9JdPsuNH7fO"
      }
    },
    {
      "cell_type": "markdown",
      "source": [
        " ## **<font color=\"DeepPink\">Evaluación del modelo con `sklearn`</font>**"
      ],
      "metadata": {
        "id": "aYkqlFFIdqUm"
      }
    },
    {
      "cell_type": "markdown",
      "source": [
        "<p align=\"justify\">\n",
        "Podemos calcular las métricas anteriores con <code>Sklearn</code> de formas diferntes:\n",
        "<br><br><ul align=\"justify\">\n",
        "<li>Método <code>score</code>: todos los algoritmos incluyen un método <code>score</code> que provee el resultado de un criterio de evaluación por defecto para aquel problema al que están orientados. De esta manera, el método <code>score</code> de un modelo de clasificación devuelve el Accuracy.\n",
        "<br><br>\n",
        "<li>Parámetro <code>scoring</code>: algunas herramientas de evaluación de modelos que utilizan validación cruzada (como <code>cross_val_score</code> o <code>GridSeachCV</code>) incluyen sus propias métricas de rendimiento. Puede consultar las métricas disponibles en la <a href=\"https://scikit-learn.org/stable/modules/model_evaluation.html\">documentación</a>.\n",
        "<br><br>\n",
        "<li>Módulo <code>metrics</code>: implementa un buen número de medidas de evaluación del modelo, incluyendo un reporte de métricas (<code>classification_report</code>)."
      ],
      "metadata": {
        "id": "HTBrxZEvGnS0"
      }
    },
    {
      "cell_type": "code",
      "source": [
        "# Método score\n",
        "model.score(X_test, y_test).round(2)"
      ],
      "metadata": {
        "colab": {
          "base_uri": "https://localhost:8080/"
        },
        "id": "IqpZu9pjRElC",
        "outputId": "a31a1ecb-438f-4278-a2aa-f62a431089cf"
      },
      "execution_count": null,
      "outputs": [
        {
          "output_type": "execute_result",
          "data": {
            "text/plain": [
              "0.87"
            ]
          },
          "metadata": {},
          "execution_count": 38
        }
      ]
    },
    {
      "cell_type": "code",
      "source": [
        "# Parámetro scoring de cross_val_score\n",
        "from sklearn.model_selection import cross_val_score\n",
        "cv_results = cross_val_score(model, X, y, scoring = 'accuracy', cv=5)\n",
        "cv_results.mean().round(2)"
      ],
      "metadata": {
        "colab": {
          "base_uri": "https://localhost:8080/"
        },
        "id": "8fPnEhGxR13Y",
        "outputId": "e3638c62-7d70-4f4e-ebe1-5c6902f2f8a3"
      },
      "execution_count": null,
      "outputs": [
        {
          "output_type": "execute_result",
          "data": {
            "text/plain": [
              "0.87"
            ]
          },
          "metadata": {},
          "execution_count": 39
        }
      ]
    },
    {
      "cell_type": "code",
      "source": [
        "# Módulo Metrics (classification_report)\n",
        "from sklearn.metrics import classification_report\n",
        "report = classification_report(y_true = y_test,\n",
        "                               y_pred = prediction)\n",
        "print(report)"
      ],
      "metadata": {
        "colab": {
          "base_uri": "https://localhost:8080/"
        },
        "id": "9To8vT5J-Z7l",
        "outputId": "2c84d067-086b-452f-d80a-a311256c5f74"
      },
      "execution_count": null,
      "outputs": [
        {
          "output_type": "stream",
          "name": "stdout",
          "text": [
            "              precision    recall  f1-score   support\n",
            "\n",
            "           0       0.90      0.94      0.92      6165\n",
            "           1       0.79      0.66      0.72      1976\n",
            "\n",
            "    accuracy                           0.87      8141\n",
            "   macro avg       0.84      0.80      0.82      8141\n",
            "weighted avg       0.87      0.87      0.87      8141\n",
            "\n"
          ]
        }
      ]
    },
    {
      "cell_type": "markdown",
      "source": [
        "<p align=\"justify\">\n",
        "El informe de clasificación generado por classification_report incluye varias métricas útiles que evalúan el rendimiento del modelo en términos de <i>precision</i>, <i>recall</i> y <i>F1-score</i> para cada clase en un problema de clasificación, no solo la clase positiva como vimos enteriormente.  "
      ],
      "metadata": {
        "id": "xBYKKDA9Jy__"
      }
    },
    {
      "cell_type": "markdown",
      "source": [
        " # **<font color=\"DeepPink\">Conclusiones</font>**"
      ],
      "metadata": {
        "id": "AeFSFlMVY2kF"
      }
    },
    {
      "cell_type": "markdown",
      "source": [
        "<p align=\"justify\">\n",
        "👀 En este colab nosotros:\n",
        "<br><br>\n",
        "✅ Cargamos los datos y le dimos estructura de <code>DataFrame</code> usando <code>Pandas</code>.<br>\n",
        "✅ Generamos un modelo base de Gradient Boosting con histogramas para clasificación.\n",
        "<br>\n",
        "✅ Realizamos la predicción y evaluación, usando diferentes métricas, con un conjunto de prueba. <br>\n",
        "✅ Calculamos la matriz de confusión y la graficamos.\n",
        "<br>\n",
        "✅ Generamos el reporte de metricas para clasificación.\n",
        "<br>\n",
        "\n"
      ],
      "metadata": {
        "id": "hMlr5a9OY9xY"
      }
    },
    {
      "cell_type": "markdown",
      "source": [
        "<br>\n",
        "<br>\n",
        "<p align=\"center\"><b>\n",
        "💗\n",
        "<font color=\"DeepPink\">\n",
        "Hemos llegado al final de nuestro colab, a seguir codeando...\n",
        "</font>\n",
        "</p>\n",
        "<br>\n",
        "<p align=\"center\">\n",
        "<img src=\"https://github.com/cristiandarioortegayubro/BDS/blob/main/images/Logo%20BDS%20Horizontal%208.png?raw=true\">\n",
        "</p>\n",
        "\n",
        "---\n"
      ],
      "metadata": {
        "id": "wtgChAZSaUMQ"
      }
    }
  ]
}