{
  "nbformat": 4,
  "nbformat_minor": 0,
  "metadata": {
    "colab": {
      "provenance": [],
      "authorship_tag": "ABX9TyPmInRRaZMb6nuJAaRNLqza",
      "include_colab_link": true
    },
    "kernelspec": {
      "name": "python3",
      "display_name": "Python 3"
    },
    "language_info": {
      "name": "python"
    }
  },
  "cells": [
    {
      "cell_type": "markdown",
      "metadata": {
        "id": "view-in-github",
        "colab_type": "text"
      },
      "source": [
        "<a href=\"https://colab.research.google.com/github/cristiandarioortegayubro/BDS/blob/main/modulo.01/bds_python_003_01.ipynb\" target=\"_parent\"><img src=\"https://colab.research.google.com/assets/colab-badge.svg\" alt=\"Open In Colab\"/></a>"
      ]
    },
    {
      "cell_type": "markdown",
      "source": [
        "<p align=\"center\">\n",
        "<img src=\"https://github.com/cristiandarioortegayubro/BDS/blob/main/images/Logo%20BDS%20Horizontal%208.png?raw=true\">\n",
        "</p>\n",
        "\n"
      ],
      "metadata": {
        "id": "iheuwam9e4CH"
      }
    },
    {
      "cell_type": "markdown",
      "source": [
        "# **<font color=\"DeepPink\">Estructuras y secuencias de datos</font>**"
      ],
      "metadata": {
        "id": "_fRBXj8mbrnO"
      }
    },
    {
      "cell_type": "markdown",
      "source": [
        "<p align=\"center\">\n",
        "<img src=\"https://www.python.org/static/community_logos/python-powered-h-70x91.png\">\n",
        "</p>\n"
      ],
      "metadata": {
        "id": "gjpEYi_23t-3"
      }
    },
    {
      "cell_type": "markdown",
      "source": [
        "<p align=\"justify\"><b>\n",
        "<font color=\"DeepPink\">\n",
        "💗 Todo el mundo deberia aprender a programar, porque te enseña a pensar...\n",
        "</font>\n",
        "</p>\n",
        "<p align=\"right\"><b>\n",
        "<font color=\"DeepPink\">\n",
        "Steve Jobs (1995)\n",
        "</font>\n",
        "</p>\n",
        "<br>\n",
        "<br>\n",
        "\n"
      ],
      "metadata": {
        "id": "A3xiW7d-t0I0"
      }
    },
    {
      "cell_type": "markdown",
      "source": [
        "<p align=\"justify\">\n",
        "En este colab, vamos a desarrollar metodos y atributos de las estructuras y secuencias de datos de Python. Conocer los metodos y los atributos de estas estructuras facilitará la tareas que vamos a desarrollar.\n",
        "</p>\n"
      ],
      "metadata": {
        "id": "vOwXzjwpuP3i"
      }
    },
    {
      "cell_type": "markdown",
      "source": [
        "<p>\n",
        "<font color=\"DeepPink\">\n",
        "\n",
        "**👀 Antes que nada, verificamos la versión de Python con la cual estamos trabajando...**\n",
        "\n",
        "</font>\n",
        "</p>"
      ],
      "metadata": {
        "id": "L8m8oTHH7Tx2"
      }
    },
    {
      "cell_type": "code",
      "source": [
        "!python3 -V"
      ],
      "metadata": {
        "colab": {
          "base_uri": "https://localhost:8080/"
        },
        "id": "QZrQLzKbPisZ",
        "outputId": "8e204af1-3de2-42dc-da9d-2317f4ecdfc9"
      },
      "execution_count": null,
      "outputs": [
        {
          "output_type": "stream",
          "name": "stdout",
          "text": [
            "Python 3.8.10\n"
          ]
        }
      ]
    },
    {
      "cell_type": "markdown",
      "source": [
        "https://docs.python.org/3.8/reference/index.html"
      ],
      "metadata": {
        "id": "_0KjFVkBcMPz"
      }
    },
    {
      "cell_type": "markdown",
      "source": [
        "# **<font color=\"DeepPink\">Metodos en estructuras de datos</font>**"
      ],
      "metadata": {
        "id": "PO99UQh5hxQ2"
      }
    },
    {
      "cell_type": "markdown",
      "source": [
        " # **<font color=\"DeepPink\"> Tuplas <code>tuple()</code></font>**"
      ],
      "metadata": {
        "id": "9aIZlO0IufqJ"
      }
    },
    {
      "cell_type": "markdown",
      "source": [
        "<p align=\"justify\">\n",
        "En Python, una tupla es un conjunto ordenado de elementos iguales o de diferente tipo. Las tuplas se representan escribiendo los elementos entre paréntesis y separados por comas. Recordar, siempre tiene que estar presente la coma para separar los elementos.<br><br> 👀 Las tuplas son inmutables.\n",
        "</p>"
      ],
      "metadata": {
        "id": "y7JQcCXDyGc6"
      }
    },
    {
      "cell_type": "markdown",
      "source": [
        "```python\n",
        "tuple=(2,3,4)\n",
        "```"
      ],
      "metadata": {
        "id": "ZwKfk0gCzDm8"
      }
    },
    {
      "cell_type": "markdown",
      "source": [
        " # **<font color=\"DeepPink\"> Listas <code>list()</code></font>**"
      ],
      "metadata": {
        "id": "PPHCSCnmzgWm"
      }
    },
    {
      "cell_type": "markdown",
      "source": [
        "<p align=\"justify\">\n",
        "Las listas son conjuntos ordenados de elementos (números, cadenas de caracteres, tuplas, listas y otros objetos como los dataframe). Las listas se delimitan por corchetes <code>[ ]</code> y los elementos siempre se separan por comas.<br><br>Las listas son buenas para realizar un seguimiento de los elementos por su orden, especialmente cuando el orden y el contenido puede cambiar. A diferencia de las tuplas, las listas si son mutables. Se puede cambiar una lista, agregar nuevos elementos y eliminar o reemplazar elementos existentes. El mismo valor puede aparecer más de una vez en una lista...</p>"
      ],
      "metadata": {
        "id": "9TaukTZW_FD9"
      }
    },
    {
      "cell_type": "markdown",
      "source": [
        "```python\n",
        "list=[2,3,4]\n",
        "```"
      ],
      "metadata": {
        "id": "YmehFcXp_JWC"
      }
    },
    {
      "cell_type": "markdown",
      "source": [
        "## <font color=\"DeepPink\">**Metodos**</font>"
      ],
      "metadata": {
        "id": "J6d4yO1YLhit"
      }
    },
    {
      "cell_type": "markdown",
      "source": [
        "Comenzando con la siguiente lista:"
      ],
      "metadata": {
        "id": "_0y4WU8xMhfo"
      }
    },
    {
      "cell_type": "code",
      "source": [
        "a=[100,103,105,102,107,103]"
      ],
      "metadata": {
        "id": "PALCDd6BM9qH"
      },
      "execution_count": null,
      "outputs": []
    },
    {
      "cell_type": "markdown",
      "source": [
        "### <font color=\"DeepPink\">**```append()```**</font>"
      ],
      "metadata": {
        "id": "h6ALYS4NNYZN"
      }
    },
    {
      "cell_type": "code",
      "source": [
        "a.append(108)\n",
        "a.append(110)\n",
        "a.append(110)"
      ],
      "metadata": {
        "id": "HD70qifrNn0V"
      },
      "execution_count": null,
      "outputs": []
    },
    {
      "cell_type": "code",
      "source": [
        "a"
      ],
      "metadata": {
        "colab": {
          "base_uri": "https://localhost:8080/"
        },
        "id": "h-KU_j4dOAhM",
        "outputId": "6aaa6a23-9465-4ad9-95d0-472c7a98b566"
      },
      "execution_count": null,
      "outputs": [
        {
          "output_type": "execute_result",
          "data": {
            "text/plain": [
              "[100, 103, 105, 102, 107, 103, 108, 110, 110]"
            ]
          },
          "metadata": {},
          "execution_count": 4
        }
      ]
    },
    {
      "cell_type": "code",
      "source": [
        "b=[201,205,203,202]"
      ],
      "metadata": {
        "id": "HCQhMIUwOM-c"
      },
      "execution_count": null,
      "outputs": []
    },
    {
      "cell_type": "code",
      "source": [
        "a.append(b)"
      ],
      "metadata": {
        "id": "OnHWkVVQOlGu"
      },
      "execution_count": null,
      "outputs": []
    },
    {
      "cell_type": "code",
      "source": [
        "a"
      ],
      "metadata": {
        "colab": {
          "base_uri": "https://localhost:8080/"
        },
        "id": "Rr5RqUH5Oqoy",
        "outputId": "630d526f-ba7d-4f49-9003-2e4d0d70b38c"
      },
      "execution_count": null,
      "outputs": [
        {
          "output_type": "execute_result",
          "data": {
            "text/plain": [
              "[100, 103, 105, 102, 107, 103, 108, 110, 110, [201, 205, 203, 202]]"
            ]
          },
          "metadata": {},
          "execution_count": 7
        }
      ]
    },
    {
      "cell_type": "code",
      "source": [
        "c=[\"corriente\",\"no corriente\"]"
      ],
      "metadata": {
        "id": "nXx65M2SPCw6"
      },
      "execution_count": null,
      "outputs": []
    },
    {
      "cell_type": "code",
      "source": [
        "a.append(c)"
      ],
      "metadata": {
        "id": "HObnd_1SPL54"
      },
      "execution_count": null,
      "outputs": []
    },
    {
      "cell_type": "code",
      "source": [
        "a"
      ],
      "metadata": {
        "colab": {
          "base_uri": "https://localhost:8080/"
        },
        "id": "HvE_d8YRPN-P",
        "outputId": "21934bd8-7014-44c3-ab7a-b1f91dd6656f"
      },
      "execution_count": null,
      "outputs": [
        {
          "output_type": "execute_result",
          "data": {
            "text/plain": [
              "[100,\n",
              " 103,\n",
              " 105,\n",
              " 102,\n",
              " 107,\n",
              " 103,\n",
              " 108,\n",
              " 110,\n",
              " 110,\n",
              " [201, 205, 203, 202],\n",
              " ['corriente', 'no corriente']]"
            ]
          },
          "metadata": {},
          "execution_count": 10
        }
      ]
    },
    {
      "cell_type": "code",
      "source": [
        "print(a)"
      ],
      "metadata": {
        "colab": {
          "base_uri": "https://localhost:8080/"
        },
        "id": "cIm8KRHuPSC8",
        "outputId": "61b34782-bbfe-4eb0-aba2-9a7480b83aaf"
      },
      "execution_count": null,
      "outputs": [
        {
          "output_type": "stream",
          "name": "stdout",
          "text": [
            "[100, 103, 105, 102, 107, 103, 108, 110, 110, [201, 205, 203, 202], ['corriente', 'no corriente']]\n"
          ]
        }
      ]
    },
    {
      "cell_type": "code",
      "source": [
        "a[9]"
      ],
      "metadata": {
        "colab": {
          "base_uri": "https://localhost:8080/"
        },
        "id": "DbCJBL71PlhT",
        "outputId": "0f056734-27ea-4d12-ddad-b25037d9bfb5"
      },
      "execution_count": null,
      "outputs": [
        {
          "output_type": "execute_result",
          "data": {
            "text/plain": [
              "[201, 205, 203, 202]"
            ]
          },
          "metadata": {},
          "execution_count": 12
        }
      ]
    },
    {
      "cell_type": "code",
      "source": [
        "a[10]"
      ],
      "metadata": {
        "colab": {
          "base_uri": "https://localhost:8080/"
        },
        "id": "eUdUSMIzPpuW",
        "outputId": "026081f4-29c0-4bff-d75a-12ef8fe5be85"
      },
      "execution_count": null,
      "outputs": [
        {
          "output_type": "execute_result",
          "data": {
            "text/plain": [
              "['corriente', 'no corriente']"
            ]
          },
          "metadata": {},
          "execution_count": 13
        }
      ]
    },
    {
      "cell_type": "markdown",
      "source": [
        "### <font color=\"DeepPink\">**```extend()```**</font>"
      ],
      "metadata": {
        "id": "DKDpp0DNPySc"
      }
    },
    {
      "cell_type": "code",
      "source": [
        "a=[100,103,105,102,107,103]\n",
        "b=[201,205,203,202]"
      ],
      "metadata": {
        "id": "NA0EuatsP5F1"
      },
      "execution_count": null,
      "outputs": []
    },
    {
      "cell_type": "code",
      "source": [
        "a.extend(b)"
      ],
      "metadata": {
        "id": "i7FrtqBhQC4m"
      },
      "execution_count": null,
      "outputs": []
    },
    {
      "cell_type": "code",
      "source": [
        "a"
      ],
      "metadata": {
        "colab": {
          "base_uri": "https://localhost:8080/"
        },
        "id": "KWsqFVEWQJfK",
        "outputId": "eb36b77a-12c0-4574-b082-32bcf6d7a3a2"
      },
      "execution_count": null,
      "outputs": [
        {
          "output_type": "execute_result",
          "data": {
            "text/plain": [
              "[100, 103, 105, 102, 107, 103, 201, 205, 203, 202]"
            ]
          },
          "metadata": {},
          "execution_count": 16
        }
      ]
    },
    {
      "cell_type": "code",
      "source": [
        "a.extend(range(100,104))"
      ],
      "metadata": {
        "id": "codssgetQUyr"
      },
      "execution_count": null,
      "outputs": []
    },
    {
      "cell_type": "code",
      "source": [
        "a"
      ],
      "metadata": {
        "colab": {
          "base_uri": "https://localhost:8080/"
        },
        "id": "OL3KomUCQb9V",
        "outputId": "02886abd-81a0-4448-bbc3-203e39a81dee"
      },
      "execution_count": null,
      "outputs": [
        {
          "output_type": "execute_result",
          "data": {
            "text/plain": [
              "[100, 103, 105, 102, 107, 103, 201, 205, 203, 202, 100, 101, 102, 103]"
            ]
          },
          "metadata": {},
          "execution_count": 18
        }
      ]
    },
    {
      "cell_type": "markdown",
      "source": [
        "### <font color=\"DeepPink\">**```index()```**</font>"
      ],
      "metadata": {
        "id": "5woiG6x5Q90e"
      }
    },
    {
      "cell_type": "code",
      "source": [
        "a.index(107)"
      ],
      "metadata": {
        "colab": {
          "base_uri": "https://localhost:8080/"
        },
        "id": "NubFb6wLQqdu",
        "outputId": "13909eb5-36d0-439e-a975-9aaa9dab6df3"
      },
      "execution_count": null,
      "outputs": [
        {
          "output_type": "execute_result",
          "data": {
            "text/plain": [
              "4"
            ]
          },
          "metadata": {},
          "execution_count": 19
        }
      ]
    },
    {
      "cell_type": "code",
      "source": [
        "a.index(103)"
      ],
      "metadata": {
        "colab": {
          "base_uri": "https://localhost:8080/"
        },
        "id": "uqzet0moR5Hh",
        "outputId": "16444c77-ac8b-42d0-b284-3923171bb611"
      },
      "execution_count": null,
      "outputs": [
        {
          "output_type": "execute_result",
          "data": {
            "text/plain": [
              "1"
            ]
          },
          "metadata": {},
          "execution_count": 20
        }
      ]
    },
    {
      "cell_type": "code",
      "source": [
        "a.index(103, 10)"
      ],
      "metadata": {
        "colab": {
          "base_uri": "https://localhost:8080/"
        },
        "id": "emRAYRCVSMJz",
        "outputId": "1d1014f4-c201-4a15-e3b5-31f006e9cc02"
      },
      "execution_count": null,
      "outputs": [
        {
          "output_type": "execute_result",
          "data": {
            "text/plain": [
              "13"
            ]
          },
          "metadata": {},
          "execution_count": 21
        }
      ]
    },
    {
      "cell_type": "markdown",
      "source": [
        "### <font color=\"DeepPink\">**```insert()```**</font>"
      ],
      "metadata": {
        "id": "xjnh3mfHScLC"
      }
    },
    {
      "cell_type": "code",
      "source": [
        "a.insert(0, 10)"
      ],
      "metadata": {
        "id": "ArJuU3V0Sn2P"
      },
      "execution_count": null,
      "outputs": []
    },
    {
      "cell_type": "code",
      "source": [
        "a"
      ],
      "metadata": {
        "colab": {
          "base_uri": "https://localhost:8080/"
        },
        "id": "0H-uk0XFSqBx",
        "outputId": "177f0b69-7cb7-4b05-fba2-63f06c8e05e3"
      },
      "execution_count": null,
      "outputs": [
        {
          "output_type": "execute_result",
          "data": {
            "text/plain": [
              "[10, 100, 103, 105, 102, 107, 103, 201, 205, 203, 202, 100, 101, 102, 103]"
            ]
          },
          "metadata": {},
          "execution_count": 23
        }
      ]
    },
    {
      "cell_type": "code",
      "source": [
        "a.insert(2, 10)"
      ],
      "metadata": {
        "id": "0L__4Mv8S-Dw"
      },
      "execution_count": null,
      "outputs": []
    },
    {
      "cell_type": "code",
      "source": [
        "a"
      ],
      "metadata": {
        "colab": {
          "base_uri": "https://localhost:8080/"
        },
        "id": "7xeDKsPmTK7H",
        "outputId": "0570a127-75ac-4f00-d035-8d81ccb286ea"
      },
      "execution_count": null,
      "outputs": [
        {
          "output_type": "execute_result",
          "data": {
            "text/plain": [
              "[10, 100, 10, 103, 105, 102, 107, 103, 201, 205, 203, 202, 100, 101, 102, 103]"
            ]
          },
          "metadata": {},
          "execution_count": 25
        }
      ]
    },
    {
      "cell_type": "markdown",
      "source": [
        "### <font color=\"DeepPink\">**```pop()```**</font>"
      ],
      "metadata": {
        "id": "1b68Ccm2TX06"
      }
    },
    {
      "cell_type": "code",
      "source": [
        "a.pop(0)"
      ],
      "metadata": {
        "colab": {
          "base_uri": "https://localhost:8080/"
        },
        "id": "4kdH051LTakQ",
        "outputId": "3cb6f43a-5b93-4f89-bd07-13638bc5fe4a"
      },
      "execution_count": null,
      "outputs": [
        {
          "output_type": "execute_result",
          "data": {
            "text/plain": [
              "203"
            ]
          },
          "metadata": {},
          "execution_count": 26
        }
      ]
    },
    {
      "cell_type": "code",
      "source": [
        "a"
      ],
      "metadata": {
        "colab": {
          "base_uri": "https://localhost:8080/"
        },
        "id": "6FtaZtNB3a2d",
        "outputId": "02f3970f-e821-4f51-cffc-4418addcc6b2"
      },
      "execution_count": null,
      "outputs": [
        {
          "output_type": "execute_result",
          "data": {
            "text/plain": [
              "[10, 100, 10, 103, 105, 102, 107, 103, 201, 205, 202, 100, 101, 102, 103]"
            ]
          },
          "metadata": {},
          "execution_count": 27
        }
      ]
    },
    {
      "cell_type": "code",
      "source": [
        "a.pop()"
      ],
      "metadata": {
        "colab": {
          "base_uri": "https://localhost:8080/"
        },
        "id": "MgNWuv1q3ske",
        "outputId": "a3176370-a4bf-4486-9a7a-d3e70fd5aa01"
      },
      "execution_count": null,
      "outputs": [
        {
          "output_type": "execute_result",
          "data": {
            "text/plain": [
              "103"
            ]
          },
          "metadata": {},
          "execution_count": 28
        }
      ]
    },
    {
      "cell_type": "code",
      "source": [
        "a"
      ],
      "metadata": {
        "colab": {
          "base_uri": "https://localhost:8080/"
        },
        "id": "jKrMrdyW3tYy",
        "outputId": "abfa9f56-c457-4bde-a641-8d56bcbd6ef8"
      },
      "execution_count": null,
      "outputs": [
        {
          "output_type": "execute_result",
          "data": {
            "text/plain": [
              "[10, 100, 10, 103, 105, 102, 107, 103, 201, 205, 202, 100, 101, 102]"
            ]
          },
          "metadata": {},
          "execution_count": 29
        }
      ]
    },
    {
      "cell_type": "markdown",
      "source": [
        "### <font color=\"DeepPink\">**```remove()```**</font>"
      ],
      "metadata": {
        "id": "-L8XR5xyTbAs"
      }
    },
    {
      "cell_type": "code",
      "source": [
        "a.remove(10)"
      ],
      "metadata": {
        "id": "-BYbjcwQTf4i"
      },
      "execution_count": null,
      "outputs": []
    },
    {
      "cell_type": "code",
      "source": [
        "a"
      ],
      "metadata": {
        "colab": {
          "base_uri": "https://localhost:8080/"
        },
        "id": "UdO017ep34-y",
        "outputId": "2f2aa396-d172-413c-e87d-da03d481a2a4"
      },
      "execution_count": null,
      "outputs": [
        {
          "output_type": "execute_result",
          "data": {
            "text/plain": [
              "[100, 10, 103, 105, 102, 107, 103, 201, 205, 202, 100, 101, 102]"
            ]
          },
          "metadata": {},
          "execution_count": 31
        }
      ]
    },
    {
      "cell_type": "code",
      "source": [
        "a.remove(102)"
      ],
      "metadata": {
        "id": "pPmG0XOw37ms"
      },
      "execution_count": null,
      "outputs": []
    },
    {
      "cell_type": "code",
      "source": [
        "a"
      ],
      "metadata": {
        "colab": {
          "base_uri": "https://localhost:8080/"
        },
        "id": "dsjY_qyH4EpQ",
        "outputId": "a18e5efc-7e32-423d-9d60-3856771aea5e"
      },
      "execution_count": null,
      "outputs": [
        {
          "output_type": "execute_result",
          "data": {
            "text/plain": [
              "[100, 10, 103, 105, 107, 103, 201, 205, 202, 100, 101, 102]"
            ]
          },
          "metadata": {},
          "execution_count": 33
        }
      ]
    },
    {
      "cell_type": "markdown",
      "source": [
        "### <font color=\"DeepPink\">**```reverse()```**</font>"
      ],
      "metadata": {
        "id": "SM3cS3H_TgYn"
      }
    },
    {
      "cell_type": "code",
      "source": [
        "a.reverse()"
      ],
      "metadata": {
        "id": "v3xHcmcvTlLO"
      },
      "execution_count": null,
      "outputs": []
    },
    {
      "cell_type": "code",
      "source": [
        "a"
      ],
      "metadata": {
        "colab": {
          "base_uri": "https://localhost:8080/"
        },
        "id": "oM_lGsSktjN9",
        "outputId": "d55aac61-474a-42a5-8e9f-9a3474a4b0a3"
      },
      "execution_count": null,
      "outputs": [
        {
          "output_type": "execute_result",
          "data": {
            "text/plain": [
              "[103, 102, 101, 100, 202, 203, 205, 201, 103, 107, 102, 105, 103, 10, 100, 10]"
            ]
          },
          "metadata": {},
          "execution_count": 27
        }
      ]
    },
    {
      "cell_type": "markdown",
      "source": [
        "### <font color=\"DeepPink\">**```count()```**</font>"
      ],
      "metadata": {
        "id": "4Epbyb2QTlh1"
      }
    },
    {
      "cell_type": "code",
      "source": [
        "a.count(103)"
      ],
      "metadata": {
        "colab": {
          "base_uri": "https://localhost:8080/"
        },
        "id": "KrnLriB5Tosm",
        "outputId": "704e3c38-6876-4ed6-b82e-2e2a94e2e733"
      },
      "execution_count": null,
      "outputs": [
        {
          "output_type": "execute_result",
          "data": {
            "text/plain": [
              "3"
            ]
          },
          "metadata": {},
          "execution_count": 28
        }
      ]
    },
    {
      "cell_type": "markdown",
      "source": [
        "### <font color=\"DeepPink\">**```sort()```**</font>"
      ],
      "metadata": {
        "id": "ugA6WiPWTpO1"
      }
    },
    {
      "cell_type": "code",
      "source": [
        "a.sort()"
      ],
      "metadata": {
        "id": "GFkscXrqtyVm"
      },
      "execution_count": null,
      "outputs": []
    },
    {
      "cell_type": "code",
      "source": [
        "a"
      ],
      "metadata": {
        "colab": {
          "base_uri": "https://localhost:8080/"
        },
        "id": "0jplOwOWt45Y",
        "outputId": "11139546-9467-4c3d-f4f7-3fcfda15532e"
      },
      "execution_count": null,
      "outputs": [
        {
          "output_type": "execute_result",
          "data": {
            "text/plain": [
              "[10, 10, 100, 100, 101, 102, 102, 103, 103, 103, 105, 107, 201, 202, 203, 205]"
            ]
          },
          "metadata": {},
          "execution_count": 30
        }
      ]
    },
    {
      "cell_type": "code",
      "source": [
        "a.sort(reverse=True)"
      ],
      "metadata": {
        "id": "3cBo4WvKt7SJ"
      },
      "execution_count": null,
      "outputs": []
    },
    {
      "cell_type": "code",
      "source": [
        "a"
      ],
      "metadata": {
        "colab": {
          "base_uri": "https://localhost:8080/"
        },
        "id": "v5ZmetzFt_8_",
        "outputId": "0bce005b-3bcd-4d4a-f00e-eae1d0b6da35"
      },
      "execution_count": null,
      "outputs": [
        {
          "output_type": "execute_result",
          "data": {
            "text/plain": [
              "[205, 203, 202, 201, 107, 105, 103, 103, 103, 102, 102, 101, 100, 100, 10, 10]"
            ]
          },
          "metadata": {},
          "execution_count": 32
        }
      ]
    },
    {
      "cell_type": "markdown",
      "source": [
        "### <font color=\"DeepPink\">**```clear()```**</font>"
      ],
      "metadata": {
        "id": "Nw--rx9Y5D4U"
      }
    },
    {
      "cell_type": "code",
      "source": [
        "a.clear()"
      ],
      "metadata": {
        "id": "uFAcZZmf5Gb8"
      },
      "execution_count": null,
      "outputs": []
    },
    {
      "cell_type": "code",
      "source": [
        "a"
      ],
      "metadata": {
        "colab": {
          "base_uri": "https://localhost:8080/"
        },
        "id": "z7Sc4xwU5PP7",
        "outputId": "33424025-912d-4cdf-d8f8-53ced0dfd77d"
      },
      "execution_count": null,
      "outputs": [
        {
          "output_type": "execute_result",
          "data": {
            "text/plain": [
              "[]"
            ]
          },
          "metadata": {},
          "execution_count": 35
        }
      ]
    },
    {
      "cell_type": "markdown",
      "source": [
        "## <font color=\"DeepPink\">**Elementos de la lista**</font>"
      ],
      "metadata": {
        "id": "quFLtarR5ffX"
      }
    },
    {
      "cell_type": "code",
      "source": [
        "lista=[1,2,3,4,5,6,7,8,9]"
      ],
      "metadata": {
        "id": "ut0HKecQ5_CQ"
      },
      "execution_count": null,
      "outputs": []
    },
    {
      "cell_type": "code",
      "source": [
        "lista[0]"
      ],
      "metadata": {
        "colab": {
          "base_uri": "https://localhost:8080/"
        },
        "id": "OWPP5iwJ6Sdm",
        "outputId": "8123e026-ff34-4c80-ab52-2ec9fc86a850"
      },
      "execution_count": null,
      "outputs": [
        {
          "output_type": "execute_result",
          "data": {
            "text/plain": [
              "1"
            ]
          },
          "metadata": {},
          "execution_count": 37
        }
      ]
    },
    {
      "cell_type": "code",
      "source": [
        "lista[-1]"
      ],
      "metadata": {
        "colab": {
          "base_uri": "https://localhost:8080/"
        },
        "id": "nklsMsQX6YlI",
        "outputId": "1c20d3be-9eba-4b29-e1ab-2448874fc28d"
      },
      "execution_count": null,
      "outputs": [
        {
          "output_type": "execute_result",
          "data": {
            "text/plain": [
              "9"
            ]
          },
          "metadata": {},
          "execution_count": 38
        }
      ]
    },
    {
      "cell_type": "code",
      "source": [
        "lista[len(lista)-1]"
      ],
      "metadata": {
        "colab": {
          "base_uri": "https://localhost:8080/"
        },
        "id": "yJCSzgg26qQk",
        "outputId": "337303b6-77fc-4294-a933-7e7bed3a1692"
      },
      "execution_count": null,
      "outputs": [
        {
          "output_type": "execute_result",
          "data": {
            "text/plain": [
              "9"
            ]
          },
          "metadata": {},
          "execution_count": 39
        }
      ]
    },
    {
      "cell_type": "code",
      "source": [
        "lista[1:]"
      ],
      "metadata": {
        "colab": {
          "base_uri": "https://localhost:8080/"
        },
        "id": "T-EkZIGX65fU",
        "outputId": "ca158557-8571-4b26-f95d-2ab2daa38e37"
      },
      "execution_count": null,
      "outputs": [
        {
          "output_type": "execute_result",
          "data": {
            "text/plain": [
              "[2, 3, 4, 5, 6, 7, 8, 9]"
            ]
          },
          "metadata": {},
          "execution_count": 40
        }
      ]
    },
    {
      "cell_type": "code",
      "source": [
        "lista[:5]"
      ],
      "metadata": {
        "colab": {
          "base_uri": "https://localhost:8080/"
        },
        "id": "N25WmOxt6_ZJ",
        "outputId": "27209905-c03d-4adb-df12-22233a909ce1"
      },
      "execution_count": null,
      "outputs": [
        {
          "output_type": "execute_result",
          "data": {
            "text/plain": [
              "[1, 2, 3, 4, 5]"
            ]
          },
          "metadata": {},
          "execution_count": 41
        }
      ]
    },
    {
      "cell_type": "code",
      "source": [
        "lista[::2]"
      ],
      "metadata": {
        "colab": {
          "base_uri": "https://localhost:8080/"
        },
        "id": "b7GzpTp07GGD",
        "outputId": "32ebdf8f-7bcc-47b7-b18f-e93e3721456a"
      },
      "execution_count": null,
      "outputs": [
        {
          "output_type": "execute_result",
          "data": {
            "text/plain": [
              "[1, 3, 5, 7, 9]"
            ]
          },
          "metadata": {},
          "execution_count": 43
        }
      ]
    },
    {
      "cell_type": "code",
      "source": [
        "lista[1::2]"
      ],
      "metadata": {
        "colab": {
          "base_uri": "https://localhost:8080/"
        },
        "id": "OrPdK3GM7Pui",
        "outputId": "fbcb002d-ee1a-4912-dcab-99531d412425"
      },
      "execution_count": null,
      "outputs": [
        {
          "output_type": "execute_result",
          "data": {
            "text/plain": [
              "[2, 4, 6, 8]"
            ]
          },
          "metadata": {},
          "execution_count": 44
        }
      ]
    },
    {
      "cell_type": "code",
      "source": [
        "lista[8::-2]"
      ],
      "metadata": {
        "colab": {
          "base_uri": "https://localhost:8080/"
        },
        "id": "rem-9OPv7xn4",
        "outputId": "b15ea166-cdd2-457f-e202-9deebc33494e"
      },
      "execution_count": null,
      "outputs": [
        {
          "output_type": "execute_result",
          "data": {
            "text/plain": [
              "[9, 7, 5, 3, 1]"
            ]
          },
          "metadata": {},
          "execution_count": 45
        }
      ]
    },
    {
      "cell_type": "markdown",
      "source": [
        " # **<font color=\"DeepPink\">Diccionarios <code>dict()</code></font>**"
      ],
      "metadata": {
        "id": "qwmhtLpyzmEO"
      }
    },
    {
      "cell_type": "markdown",
      "source": [
        "<p align=\"justify\">\n",
        "Los diccionarios son similares a las listas, pero el orden de los elementos no importa. En los diccionarios se puede especificar una clave única para asociar a cada valor. Esta clave es a menudo una cadena de caracteres, pero en realidad puede ser cualquiera de los tipos de datos inmutables de Python: booleano, entero, flotante, tupla, cadena de caracteres y otros. <br><br> 👀 Los diccionarios son mutables, por lo que puede agregar, eliminar y cambiar sus elementos clave-valor.</p>"
      ],
      "metadata": {
        "id": "cShx1zLzBmmf"
      }
    },
    {
      "cell_type": "markdown",
      "source": [
        "```python\n",
        "dict={\"numeros\":[2,3,4,5]}\n",
        "```"
      ],
      "metadata": {
        "id": "qNJPM3WTA_ch"
      }
    },
    {
      "cell_type": "markdown",
      "source": [
        " # **<font color=\"DeepPink\">Conjuntos <code>set()</code></font>**"
      ],
      "metadata": {
        "id": "_VTV2vhcz00M"
      }
    },
    {
      "cell_type": "markdown",
      "source": [
        "<p align=\"justify\">\n",
        "Un conjunto es una colección desordenada de elementos únicos. Los conjuntos admiten operaciones como la unión, la intersección, la diferencia y la diferencia simétrica.</p>"
      ],
      "metadata": {
        "id": "GNCrEKEODNqY"
      }
    },
    {
      "cell_type": "markdown",
      "source": [
        "```python\n",
        "set={2,3,4}\n",
        "```"
      ],
      "metadata": {
        "id": "74BHD7KpBBQY"
      }
    },
    {
      "cell_type": "code",
      "source": [
        "a={1, 2, 3, 4, 5}\n",
        "b={3, 4, 5, 6, 7, 8}"
      ],
      "metadata": {
        "id": "yv3nCeUQGNZt"
      },
      "execution_count": null,
      "outputs": []
    },
    {
      "cell_type": "markdown",
      "source": [
        "## <font color=\"DeepPink\">**Métodos**</font>"
      ],
      "metadata": {
        "id": "ca4WJ-tE4Sj4"
      }
    },
    {
      "cell_type": "markdown",
      "source": [
        "### <font color=\"DeepPink\">**```union()```**</font>"
      ],
      "metadata": {
        "id": "VmqYuA3wGgEB"
      }
    },
    {
      "cell_type": "markdown",
      "source": [
        "La unión de estos dos conjuntos es el conjunto de elementos distintos que se encuentran en cualquiera de los conjuntos.\n",
        "\n",
        "> Esto se puede calcular con el método ```union()``` o con el operador ```|```\n",
        "\n"
      ],
      "metadata": {
        "id": "z8hfXg3sGocL"
      }
    },
    {
      "cell_type": "code",
      "source": [
        "a.union(b)"
      ],
      "metadata": {
        "colab": {
          "base_uri": "https://localhost:8080/"
        },
        "id": "xVfoc1qAG1s2",
        "outputId": "ca1679a3-e990-4269-92f3-3036af2fad9c"
      },
      "execution_count": null,
      "outputs": [
        {
          "output_type": "execute_result",
          "data": {
            "text/plain": [
              "{1, 2, 3, 4, 5, 6, 7, 8}"
            ]
          },
          "metadata": {},
          "execution_count": 34
        }
      ]
    },
    {
      "cell_type": "code",
      "source": [
        "a | b"
      ],
      "metadata": {
        "colab": {
          "base_uri": "https://localhost:8080/"
        },
        "id": "dlLX3NgUG7s1",
        "outputId": "8578ab8c-6063-432f-f24f-094fb226cb53"
      },
      "execution_count": null,
      "outputs": [
        {
          "output_type": "execute_result",
          "data": {
            "text/plain": [
              "{1, 2, 3, 4, 5, 6, 7, 8}"
            ]
          },
          "metadata": {},
          "execution_count": 35
        }
      ]
    },
    {
      "cell_type": "markdown",
      "source": [
        "### <font color=\"DeepPink\">**```intersection()```**</font>"
      ],
      "metadata": {
        "id": "Fap24kEQHPXP"
      }
    },
    {
      "cell_type": "markdown",
      "source": [
        "La intersección contiene los elementos que ocurren en ambos conjuntos.\n",
        "\n",
        "> Se puede utilizar el operador ```&``` o el método ```intersection()```\n",
        "\n"
      ],
      "metadata": {
        "id": "YXp5VMwcHdgK"
      }
    },
    {
      "cell_type": "code",
      "source": [
        "a.intersection(b)"
      ],
      "metadata": {
        "colab": {
          "base_uri": "https://localhost:8080/"
        },
        "id": "ggta7MnPHlFy",
        "outputId": "8bb80498-3292-4e86-f0a1-b242e6adddd5"
      },
      "execution_count": null,
      "outputs": [
        {
          "output_type": "execute_result",
          "data": {
            "text/plain": [
              "{3, 4, 5}"
            ]
          },
          "metadata": {},
          "execution_count": 36
        }
      ]
    },
    {
      "cell_type": "code",
      "source": [
        "a & b"
      ],
      "metadata": {
        "colab": {
          "base_uri": "https://localhost:8080/"
        },
        "id": "3pPkfnqwHmtV",
        "outputId": "e7574346-7ba8-4cf9-c8c3-68befabaddb4"
      },
      "execution_count": null,
      "outputs": [
        {
          "output_type": "execute_result",
          "data": {
            "text/plain": [
              "{3, 4, 5}"
            ]
          },
          "metadata": {},
          "execution_count": 37
        }
      ]
    },
    {
      "cell_type": "markdown",
      "source": [
        "### <font color=\"DeepPink\">**```difference()```**</font>"
      ],
      "metadata": {
        "id": "yv3FerqXHsDj"
      }
    },
    {
      "cell_type": "code",
      "source": [
        "a.difference(b)"
      ],
      "metadata": {
        "colab": {
          "base_uri": "https://localhost:8080/"
        },
        "id": "8BQPylF0IBcl",
        "outputId": "b7c5f499-a6cd-4772-b26c-257389536a07"
      },
      "execution_count": null,
      "outputs": [
        {
          "output_type": "execute_result",
          "data": {
            "text/plain": [
              "{1, 2}"
            ]
          },
          "metadata": {},
          "execution_count": 38
        }
      ]
    },
    {
      "cell_type": "markdown",
      "source": [
        "> Son los elementos de ```a``` que no están en ```b```"
      ],
      "metadata": {
        "id": "fWLY4HTvIG74"
      }
    },
    {
      "cell_type": "code",
      "source": [
        "b.difference(a)"
      ],
      "metadata": {
        "colab": {
          "base_uri": "https://localhost:8080/"
        },
        "id": "ZqgWGwWWIMlK",
        "outputId": "355db873-dee6-497a-cf47-e288fe023dc2"
      },
      "execution_count": null,
      "outputs": [
        {
          "output_type": "execute_result",
          "data": {
            "text/plain": [
              "{6, 7, 8}"
            ]
          },
          "metadata": {},
          "execution_count": 39
        }
      ]
    },
    {
      "cell_type": "markdown",
      "source": [
        "> Son los elementos de ```b``` que no están en ```a```"
      ],
      "metadata": {
        "id": "BQFcXtLRIId0"
      }
    },
    {
      "cell_type": "markdown",
      "source": [
        "### <font color=\"DeepPink\">**```symmetric_difference()```**</font>"
      ],
      "metadata": {
        "id": "ldJZjfYQIcWm"
      }
    },
    {
      "cell_type": "code",
      "source": [
        "a.symmetric_difference(b)"
      ],
      "metadata": {
        "colab": {
          "base_uri": "https://localhost:8080/"
        },
        "id": "GnA-lh8FIkbk",
        "outputId": "e9fc6626-df7b-4906-8cb7-995cae038e66"
      },
      "execution_count": null,
      "outputs": [
        {
          "output_type": "execute_result",
          "data": {
            "text/plain": [
              "{1, 2, 6, 7, 8}"
            ]
          },
          "metadata": {},
          "execution_count": 40
        }
      ]
    },
    {
      "cell_type": "markdown",
      "source": [
        "> Son todos los elementos de ```a```  o ```b```que no están en ambos..."
      ],
      "metadata": {
        "id": "aG9V1KdlIpwa"
      }
    },
    {
      "cell_type": "markdown",
      "source": [
        "<p align=\"center\"><b>\n",
        "💗\n",
        "<font color=\"DeepPink\">\n",
        "Hemos llegado al final de nuestro colab, a seguir codeando...\n",
        "</font>\n",
        "</p>\n",
        "\n"
      ],
      "metadata": {
        "id": "CCNb-8t3wmPh"
      }
    },
    {
      "cell_type": "markdown",
      "source": [
        "<p align=\"center\">\n",
        "<img src=\"https://github.com/cristiandarioortegayubro/BDS/blob/main/images/Logo%20BDS%20Horizontal%208.png?raw=true\"/>\n",
        "</p>\n",
        "\n",
        "---"
      ],
      "metadata": {
        "id": "Hl7Qveu2wnc5"
      }
    }
  ]
}