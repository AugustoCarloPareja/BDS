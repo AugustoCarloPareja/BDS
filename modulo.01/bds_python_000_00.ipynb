{
  "nbformat": 4,
  "nbformat_minor": 0,
  "metadata": {
    "colab": {
      "provenance": [],
      "toc_visible": true,
      "authorship_tag": "ABX9TyNvsE+2zT5yqnxHkEKwIRgq",
      "include_colab_link": true
    },
    "kernelspec": {
      "name": "python3",
      "display_name": "Python 3"
    },
    "language_info": {
      "name": "python"
    }
  },
  "cells": [
    {
      "cell_type": "markdown",
      "metadata": {
        "id": "view-in-github",
        "colab_type": "text"
      },
      "source": [
        "<a href=\"https://colab.research.google.com/github/cristiandarioortegayubro/BDS/blob/main/modulo.01/bds_python_000_00.ipynb\" target=\"_parent\"><img src=\"https://colab.research.google.com/assets/colab-badge.svg\" alt=\"Open In Colab\"/></a>"
      ]
    },
    {
      "cell_type": "markdown",
      "source": [
        "![logo](https://github.com/cristiandarioortegayubro/BDS/blob/main/images/Logo%20BDS%20Horizontal%208.png?raw=true)"
      ],
      "metadata": {
        "id": "iheuwam9e4CH"
      }
    },
    {
      "cell_type": "markdown",
      "source": [
        " # **<font color=\"DeepPink\">Fundamentos de programacion en Python</font>**"
      ],
      "metadata": {
        "id": "_fRBXj8mbrnO"
      }
    },
    {
      "cell_type": "markdown",
      "source": [
        "![](https://www.python.org/static/community_logos/python-powered-h-70x91.png)"
      ],
      "metadata": {
        "id": "gjpEYi_23t-3"
      }
    },
    {
      "cell_type": "markdown",
      "source": [
        "<p align=\"justify\"><b>\n",
        "<font color=\"DeepPink\">\n",
        "💗 Todo el mundo deberia aprender a programar, porque te enseña a pensar...\n",
        "</font>\n",
        "</p>\n",
        "<p align=\"right\"><b>\n",
        "<font color=\"DeepPink\">\n",
        "Steve Jobs (1995)\n",
        "</font>\n",
        "</p>\n",
        "\n"
      ],
      "metadata": {
        "id": "A3xiW7d-t0I0"
      }
    },
    {
      "cell_type": "markdown",
      "source": [
        " # **<font color=\"DeepPink\">Versión de Python</font>**"
      ],
      "metadata": {
        "id": "60STscB0JS87"
      }
    },
    {
      "cell_type": "markdown",
      "source": [
        "<p>\n",
        "<font color=\"DeepPink\">\n",
        "\n",
        "**👀 Antes que nada, verificamos la versión de Python con la cual estamos trabajando...**\n",
        "\n",
        "</font>\n",
        "</p>"
      ],
      "metadata": {
        "id": "L8m8oTHH7Tx2"
      }
    },
    {
      "cell_type": "code",
      "source": [
        "!python3 -V"
      ],
      "metadata": {
        "colab": {
          "base_uri": "https://localhost:8080/"
        },
        "id": "QZrQLzKbPisZ",
        "outputId": "e24412c8-60fd-4692-fe45-17068a13d625"
      },
      "execution_count": null,
      "outputs": [
        {
          "output_type": "stream",
          "name": "stdout",
          "text": [
            "Python 3.8.10\n"
          ]
        }
      ]
    },
    {
      "cell_type": "markdown",
      "source": [
        "https://docs.python.org/3.8/reference/index.html"
      ],
      "metadata": {
        "id": "_0KjFVkBcMPz"
      }
    },
    {
      "cell_type": "markdown",
      "source": [
        " # **<font color=\"DeepPink\">Estructuras de datos</font>**"
      ],
      "metadata": {
        "id": "PO99UQh5hxQ2"
      }
    },
    {
      "cell_type": "markdown",
      "source": [
        " # **<font color=\"DeepPink\">▪ Tuplas <code>tuple</code></font>**"
      ],
      "metadata": {
        "id": "9aIZlO0IufqJ"
      }
    },
    {
      "cell_type": "markdown",
      "source": [
        "```python\n",
        "tuple = (2,3,4)\n",
        "```"
      ],
      "metadata": {
        "id": "ZwKfk0gCzDm8"
      }
    },
    {
      "cell_type": "markdown",
      "source": [
        "<p align=\"justify\"><b>\n",
        "<font color=\"DeepPink\">\n",
        "En Python, una tupla es un conjunto ordenado de elementos iguales o de diferente tipo. Las tuplas se representan escribiendo los elementos entre paréntesis y separados por comas. Recordar, siempre tiene que estar presente la coma para separar los elementos.<br><br>Las tuplas son inmutables.\n",
        "</font>\n",
        "</p>"
      ],
      "metadata": {
        "id": "y7JQcCXDyGc6"
      }
    },
    {
      "cell_type": "code",
      "source": [],
      "metadata": {
        "id": "nLxf_Hf0-4Qk"
      },
      "execution_count": null,
      "outputs": []
    },
    {
      "cell_type": "markdown",
      "source": [
        " # **<font color=\"DeepPink\">▪ Listas <code>list</code></font>**"
      ],
      "metadata": {
        "id": "PPHCSCnmzgWm"
      }
    },
    {
      "cell_type": "markdown",
      "source": [
        "```python\n",
        "list = [2,3,4]\n",
        "```"
      ],
      "metadata": {
        "id": "YmehFcXp_JWC"
      }
    },
    {
      "cell_type": "markdown",
      "source": [
        "<p align=\"justify\"><b>\n",
        "<font color=\"DeepPink\">\n",
        "Las listas son conjuntos ordenados de elementos (números, cadenas de caracteres, tuplas, listas y otros objetos como los dataframe). Las listas se delimitan por corchetes <code>[ ]</code> y los elementos siempre se separan por comas.<br><br>Las listas son buenas para realizar un seguimiento de los elementos por su orden, especialmente cuando el orden y el contenido puede cambiar. A diferencia de las tuplas, las listas si son mutables. Se puede cambiar una lista, agregar nuevos elementos y eliminar o reemplazar elementos existentes. El mismo valor puede aparecer más de una vez en una lista...</font>\n",
        "</p>"
      ],
      "metadata": {
        "id": "9TaukTZW_FD9"
      }
    },
    {
      "cell_type": "markdown",
      "source": [
        " # **<font color=\"DeepPink\">▪ Diccionarios <code>dict</code></font>**"
      ],
      "metadata": {
        "id": "qwmhtLpyzmEO"
      }
    },
    {
      "cell_type": "markdown",
      "source": [
        "```python\n",
        "dict = {\"numeros\":[2,3,4,5]}\n",
        "```"
      ],
      "metadata": {
        "id": "qNJPM3WTA_ch"
      }
    },
    {
      "cell_type": "markdown",
      "source": [
        "<p align=\"justify\"><b>\n",
        "<font color=\"DeepPink\">\n",
        "Los diccionarios son similares a las listas, pero el orden de los elementos no importa. En los diccionarios se puede especificar una clave única para asociar a cada valor. Esta clave es a menudo una cadena de caracteres, pero en realidad puede ser cualquiera de los tipos de datos inmutables de Python: booleano, entero, flotante, tupla, cadena de caracteres y otros. <br><br>Los diccionarios son mutables, por lo que puede agregar, eliminar y cambiar sus elementos clave-valor.</p>"
      ],
      "metadata": {
        "id": "cShx1zLzBmmf"
      }
    },
    {
      "cell_type": "markdown",
      "source": [
        " # **<font color=\"DeepPink\">▪ Conjuntos <code>set</code></font>**"
      ],
      "metadata": {
        "id": "_VTV2vhcz00M"
      }
    },
    {
      "cell_type": "markdown",
      "source": [
        "```python\n",
        "set = {2,3,4}\n",
        "```"
      ],
      "metadata": {
        "id": "74BHD7KpBBQY"
      }
    },
    {
      "cell_type": "markdown",
      "source": [
        "<p align=\"justify\"><b>\n",
        "<font color=\"DeepPink\">\n",
        "Un conjunto es una colección desordenada de elementos únicos. Los conjuntos admiten operaciones como la unión, la intersección, la diferencia y la diferencia simétrica.</p>"
      ],
      "metadata": {
        "id": "GNCrEKEODNqY"
      }
    },
    {
      "cell_type": "code",
      "source": [
        "a = {1, 2, 3, 4, 5}\n",
        "b = {3, 4, 5, 6, 7, 8}"
      ],
      "metadata": {
        "id": "yv3nCeUQGNZt"
      },
      "execution_count": 2,
      "outputs": []
    },
    {
      "cell_type": "markdown",
      "source": [
        "## <font color=\"DeepPink\">**Función ```union()```**</font>"
      ],
      "metadata": {
        "id": "VmqYuA3wGgEB"
      }
    },
    {
      "cell_type": "markdown",
      "source": [
        "La unión de estos dos conjuntos es el conjunto de elementos distintos que se encuentran en cualquiera de los conjuntos.\n",
        "\n",
        "> Esto se puede calcular con el método ```union()``` o con el operador ```|```\n",
        "\n"
      ],
      "metadata": {
        "id": "z8hfXg3sGocL"
      }
    },
    {
      "cell_type": "code",
      "source": [
        "a.union(b)"
      ],
      "metadata": {
        "colab": {
          "base_uri": "https://localhost:8080/"
        },
        "id": "xVfoc1qAG1s2",
        "outputId": "23b7b573-0eae-4983-c244-22b6af51ef79"
      },
      "execution_count": 3,
      "outputs": [
        {
          "output_type": "execute_result",
          "data": {
            "text/plain": [
              "{1, 2, 3, 4, 5, 6, 7, 8}"
            ]
          },
          "metadata": {},
          "execution_count": 3
        }
      ]
    },
    {
      "cell_type": "code",
      "source": [
        "a | b"
      ],
      "metadata": {
        "colab": {
          "base_uri": "https://localhost:8080/"
        },
        "id": "dlLX3NgUG7s1",
        "outputId": "ff329cf2-573f-4317-c18a-d1e14fa7e897"
      },
      "execution_count": 4,
      "outputs": [
        {
          "output_type": "execute_result",
          "data": {
            "text/plain": [
              "{1, 2, 3, 4, 5, 6, 7, 8}"
            ]
          },
          "metadata": {},
          "execution_count": 4
        }
      ]
    },
    {
      "cell_type": "markdown",
      "source": [
        "## <font color=\"DeepPink\">**Función ```intersection()```**</font>"
      ],
      "metadata": {
        "id": "Fap24kEQHPXP"
      }
    },
    {
      "cell_type": "markdown",
      "source": [
        "La intersección contiene los elementos que ocurren en ambos conjuntos.\n",
        "\n",
        "> Se puede utilizar el operador ```&``` o el método ```intersection()```\n",
        "\n"
      ],
      "metadata": {
        "id": "YXp5VMwcHdgK"
      }
    },
    {
      "cell_type": "code",
      "source": [
        "a.intersection(b)"
      ],
      "metadata": {
        "colab": {
          "base_uri": "https://localhost:8080/"
        },
        "id": "ggta7MnPHlFy",
        "outputId": "2df6b17d-b7fa-44fe-d89e-8d2fb7154c97"
      },
      "execution_count": 5,
      "outputs": [
        {
          "output_type": "execute_result",
          "data": {
            "text/plain": [
              "{3, 4, 5}"
            ]
          },
          "metadata": {},
          "execution_count": 5
        }
      ]
    },
    {
      "cell_type": "code",
      "source": [
        "a & b"
      ],
      "metadata": {
        "colab": {
          "base_uri": "https://localhost:8080/"
        },
        "id": "3pPkfnqwHmtV",
        "outputId": "ec86549e-fe98-43e0-ee76-e48bfb0fdb90"
      },
      "execution_count": 6,
      "outputs": [
        {
          "output_type": "execute_result",
          "data": {
            "text/plain": [
              "{3, 4, 5}"
            ]
          },
          "metadata": {},
          "execution_count": 6
        }
      ]
    },
    {
      "cell_type": "markdown",
      "source": [
        "## <font color=\"DeepPink\">**Función ```difference()```**</font>"
      ],
      "metadata": {
        "id": "yv3FerqXHsDj"
      }
    },
    {
      "cell_type": "code",
      "source": [
        "a.difference(b)"
      ],
      "metadata": {
        "colab": {
          "base_uri": "https://localhost:8080/"
        },
        "id": "8BQPylF0IBcl",
        "outputId": "ad036353-df64-4028-ced0-89543088db77"
      },
      "execution_count": 7,
      "outputs": [
        {
          "output_type": "execute_result",
          "data": {
            "text/plain": [
              "{1, 2}"
            ]
          },
          "metadata": {},
          "execution_count": 7
        }
      ]
    },
    {
      "cell_type": "markdown",
      "source": [
        "> Son los elementos de ```a``` que no están en ```b```"
      ],
      "metadata": {
        "id": "fWLY4HTvIG74"
      }
    },
    {
      "cell_type": "code",
      "source": [
        "b.difference(a)"
      ],
      "metadata": {
        "colab": {
          "base_uri": "https://localhost:8080/"
        },
        "id": "ZqgWGwWWIMlK",
        "outputId": "6787dc9b-c850-47a6-c063-7c2a9dae60c8"
      },
      "execution_count": 8,
      "outputs": [
        {
          "output_type": "execute_result",
          "data": {
            "text/plain": [
              "{6, 7, 8}"
            ]
          },
          "metadata": {},
          "execution_count": 8
        }
      ]
    },
    {
      "cell_type": "markdown",
      "source": [
        "> Son los elementos de ```b``` que no están en ```a```"
      ],
      "metadata": {
        "id": "BQFcXtLRIId0"
      }
    },
    {
      "cell_type": "markdown",
      "source": [
        "## <font color=\"DeepPink\">**Función ```symmetric_difference()```**</font>"
      ],
      "metadata": {
        "id": "ldJZjfYQIcWm"
      }
    },
    {
      "cell_type": "code",
      "source": [
        "a.symmetric_difference(b)"
      ],
      "metadata": {
        "colab": {
          "base_uri": "https://localhost:8080/"
        },
        "id": "GnA-lh8FIkbk",
        "outputId": "7fc7e1c3-de03-4df2-b9a3-15c89c8e1818"
      },
      "execution_count": 9,
      "outputs": [
        {
          "output_type": "execute_result",
          "data": {
            "text/plain": [
              "{1, 2, 6, 7, 8}"
            ]
          },
          "metadata": {},
          "execution_count": 9
        }
      ]
    },
    {
      "cell_type": "markdown",
      "source": [
        "> Son todos los elementos de ```a```  o ```b```que no están en ambos..."
      ],
      "metadata": {
        "id": "aG9V1KdlIpwa"
      }
    }
  ]
}