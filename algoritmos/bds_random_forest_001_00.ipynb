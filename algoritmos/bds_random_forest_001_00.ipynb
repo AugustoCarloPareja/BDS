{
  "nbformat": 4,
  "nbformat_minor": 0,
  "metadata": {
    "colab": {
      "provenance": [],
      "toc_visible": true,
      "include_colab_link": true
    },
    "kernelspec": {
      "name": "python3",
      "display_name": "Python 3"
    },
    "language_info": {
      "name": "python"
    }
  },
  "cells": [
    {
      "cell_type": "markdown",
      "metadata": {
        "id": "view-in-github",
        "colab_type": "text"
      },
      "source": [
        "<a href=\"https://colab.research.google.com/github/cristiandarioortegayubro/BDS/blob/main/algoritmos/bds_random_forest_001_00.ipynb\" target=\"_parent\"><img src=\"https://colab.research.google.com/assets/colab-badge.svg\" alt=\"Open In Colab\"/></a>"
      ]
    },
    {
      "cell_type": "markdown",
      "source": [
        "<p align=\"center\">\n",
        "<img src=\"https://github.com/cristiandarioortegayubro/BDS/blob/main/images/Logo%20BDS%20Horizontal%208.png?raw=true\">\n",
        "</p>\n"
      ],
      "metadata": {
        "id": "iheuwam9e4CH"
      }
    },
    {
      "cell_type": "markdown",
      "source": [
        "<p align=\"center\">\n",
        "<img src=\"https://github.com/cristiandarioortegayubro/BDS/blob/main/images/Logo%20Scikit-learn.png?raw=true\">\n",
        "</p>\n"
      ],
      "metadata": {
        "id": "XM-hn7ZLmgQc"
      }
    },
    {
      "cell_type": "markdown",
      "source": [
        " # **<font color=\"DeepPink\">Random Forest</font>**"
      ],
      "metadata": {
        "id": "_o8tuKydjnRZ"
      }
    },
    {
      "cell_type": "markdown",
      "source": [
        "<p align=\"justify\">\n",
        "👀 En ciencia de datos, un bosque aleatorio es un algoritmo de aprendizaje automático que se utiliza para la clasificación y la regresión. Es un conjunto de árboles de decisión que se entrenan de forma independiente y luego se combinan para hacer una predicción. Los bosques aleatorios son muy precisos y pueden usarse para manejar grandes conjuntos de datos. También son resistentes a los valores atípicos y al ruido en los datos.\n",
        "<br><br>\n",
        "Para construir un bosque aleatorio, primero se selecciona un subconjunto aleatorio de características de los datos. Luego, se entrena un árbol de decisión en este subconjunto de características. Este proceso se repite muchas veces, utilizando diferentes subconjuntos de características cada vez.\n",
        "<br><br>\n",
        "Una vez que se han entrenado todos los árboles de decisión, se combinan para hacer una predicción. Para hacer una predicción, se calcula la predicción de cada árbol de decisión. Luego, se toma la media de todas las predicciones para obtener la predicción final. Es decir, la predicción de una nueva observación se obtiene agregando las predicciones de todos los árboles individuales que forman el modelo.\n",
        "<br><br>\n",
        "👀 Los métodos basados en árboles se han convertido en uno de los referentes dentro del ámbito predictivo debido a los buenos resultados que generan en problemas muy diversos.\n",
        "</p>"
      ],
      "metadata": {
        "id": "nW9lN0L_nFT7"
      }
    },
    {
      "cell_type": "markdown",
      "source": [
        " ## **<font color=\"DeepPink\">Ventajas del Random Forest</font>**"
      ],
      "metadata": {
        "id": "CpnczqJR8HE-"
      }
    },
    {
      "cell_type": "markdown",
      "source": [
        "<ul p align=\"justify\">\n",
        "<li><b>Precisión</b>: Los bosques aleatorios son muy precisos, especialmente cuando hay muchos datos disponibles. Esto se debe a que combinan el juicio de muchos árboles de decisión, cada uno de los cuales es entrenado en un subconjunto diferente de los datos.\n",
        "</li><br>\n",
        "<li><b>Robustez</b>: Los bosques aleatorios son resistentes a los valores atípicos y al ruido en los datos. Esto se debe a que cada árbol de decisión solo ve una parte de los datos, por lo que no se ve afectado por valores atípicos o ruido.\n",
        "</li><br>\n",
        "<li><b>Capacidad para manejar grandes conjuntos de datos</b>: Los bosques aleatorios pueden manejar grandes conjuntos de datos sin problemas. Esto se debe a que se pueden entrenar en paralelo, lo que significa que se pueden entrenar muchos árboles de decisión al mismo tiempo.\n",
        "</li><br>\n",
        "<li><b>Interpretabilidad</b>: Los bosques aleatorios son relativamente fáciles de interpretar en comparación con otros algoritmos de aprendizaje automático como los modelos neuronales. Esto se debe a que se pueden visualizar como un conjunto de árboles de decisión, cada uno de los cuales representa una forma diferente de clasificar los datos.\n",
        "</li>\n",
        "</ul>\n",
        "<br>\n",
        "<p align=\"justify\">\n",
        "Pero además:\n",
        "<ul p align=\"justify\">\n",
        "<li>Son capaces de seleccionar predictores de forma automática.\n",
        "</li><br>\n",
        "<li>Pueden aplicarse a problemas de regresión y clasificación.\n",
        "</li><br>\n",
        "<li>Los árboles pueden, en teoría, manejar tanto predictores numéricos como categóricos sin tener que crear variables <code>dummy</code> o <code>one-hot-encoding</code>.\n",
        "</li><br>\n",
        "<li>Al tratarse de métodos no paramétricos, <mark>no es necesario que se cumpla ningún tipo de distribución específica</mark>.\n",
        "</li><br>\n",
        "<li>Por lo general, requieren mucha menos limpieza y preprocesado de los datos en comparación a otros algoritmos de aprendizaje estadístico (por ejemplo, no requieren estandarización).\n",
        "</li><br>\n",
        "<li>No se ven muy influenciados por outliers.\n",
        "</li><br>\n",
        "<li>Si para alguna observación, el valor de un predictor no está disponible, a pesar de no poder llegar a ningún nodo terminal, se puede conseguir una predicción empleando todas las observaciones que pertenecen al último nodo alcanzado. La precisión de la predicción se verá reducida pero al menos podrá obtenerse.\n",
        "</li><br>\n",
        "<li>Son muy útiles en la exploración de datos, permiten identificar de forma rápida y eficiente las variables más importantes.\n",
        "</li><br>\n",
        "<li>Gracias al <code>Out-of-Bag Error</code> puede estimarse su error de validación sin necesidad de recurrir a estrategias computacionalmente costosas como la validación cruzada. <mark>Esto no aplica en el caso de series temporales</mark>.\n",
        "</li><br>\n",
        "<li>Tienen buena escalabilidad, pueden aplicarse a conjuntos de datos con un elevado número de observaciones.</li><br>"
      ],
      "metadata": {
        "id": "dDVq8fJv8XGy"
      }
    },
    {
      "cell_type": "markdown",
      "source": [
        " ## **<font color=\"DeepPink\">Desventajas del Random Forest</font>**"
      ],
      "metadata": {
        "id": "miR6R1AkCwEF"
      }
    },
    {
      "cell_type": "markdown",
      "source": [
        "<p align=\"justify\">\n",
        "Sin embargo, los bosques aleatorios también tienen algunas desventajas. Estas desventajas incluyen:\n",
        "<ul p align=\"justify\">\n",
        "<li><b>Sobreajuste</b>: Los bosques aleatorios pueden verse afectados por el sobreajuste, especialmente cuando hay muchos datos. Esto se debe a que pueden aprender las características específicas del conjunto de datos de entrenamiento, en lugar de aprender las características generales del problema.\n",
        "</li><br>\n",
        "<li><b>Lento</b>: Los bosques aleatorios pueden ser lentos de entrenar, especialmente cuando hay muchos árboles en el bosque. Esto se debe a que cada árbol de decisión debe entrenarse de forma independiente.\n",
        "</li><br>\n",
        "<li><b>Complejidad</b>: Los bosques aleatorios pueden ser complejos, lo que puede dificultar su interpretación y explicación. Esto se debe a que están compuestos por muchos árboles de decisión, cada uno de los cuales representa una forma diferente de clasificar los datos.\n",
        "</li><br>\n",
        "</ul>\n",
        "<p align=\"justify\">\n",
        "En general, los bosques aleatorios son una herramienta poderosa que se puede utilizar para una variedad de tareas de ciencia de datos. Sin embargo, es importante ser consciente de sus desventajas y tomar medidas para mitigarlas.\n",
        "<br>\n",
        "<br>\n",
        "Pero además:\n",
        "<ul p align=\"justify\">\n",
        "<li>Son capaces de seleccionar predictores de <mark>forma automática</mark>.\n",
        "</li><br>\n",
        "<li>Cuando se trata de predictores continuos, pierden parte de su información al categorizarlas en el momento de la división de los nodos.\n",
        "</li><br>\n",
        "<li>Tal y como se desarrolla en este Colab, la creación de las ramificaciones de los árboles se consigue mediante el algoritmo <code>recursive binary splitting</code>. Este algoritmo identifica y evalúa las posibles divisiones de cada predictor acorde a una determinada medida (Gini, entropía, otras…). <mark>Los predictores continuos o predictores cualitativos con muchos niveles</mark> tienen mayor probabilidad de contener, solo por azar, algún punto de corte óptimo, por lo que suelen verse favorecidos en la creación de los árboles.\n",
        "</li>"
      ],
      "metadata": {
        "id": "CAo5weNvE2fv"
      }
    },
    {
      "cell_type": "markdown",
      "source": [
        " # **<font color=\"DeepPink\">Métodos de ensemble</font>**"
      ],
      "metadata": {
        "id": "Ht-zkzM5l2Em"
      }
    },
    {
      "cell_type": "markdown",
      "source": [
        "<p align=\"justify\">\n",
        "Los métodos de ensemble combinan múltiples modelos en uno nuevo con el objetivo de lograr un equilibro entre <b>bias</b> y <b>varianza</b>, consiguiendo así mejores predicciones que cualquiera de los modelos individuales originales.\n",
        "<br><br>\n",
        "Todos los modelos de aprendizaje automático sufren el problema de equilibrio entre bias y varianza.\n",
        "<ul align=\"justify\">\n",
        "<li><b>El término bias</b>, lo que conocemos como sesgo, hace referencia a cuánto se alejan en promedio las predicciones de un modelo respecto a los valores reales. Refleja cómo es capaz el modelo de aprender la relación real que existe entre los predictores y la variable respuesta. Por ejemplo, si la relación sigue un patrón no lineal, por muchos datos que se disponga, un modelo de regresión lineal no podrá modelar correctamente la relación, por lo que tendrá un bias alto.\n",
        "</li><br>\n",
        "<li><b>El término varianza</b> hace referencia a cuánto cambia el modelo dependiendo de los datos utilizados en su entrenamiento. Idealmente, un modelo no debería modificarse demasiado por pequeñas variaciones en los datos de entrenamiento, si esto ocurre, es porque el modelo está memorizando los datos en lugar de aprender (generalizar) la verdadera relación entre los predictores y la variable respuesta. Por ejemplo, un modelo de árbol con muchos nodos, suele variar su estructura con que apenas cambien unos pocos datos de entrenamiento, por lo tanto, se puede concluir que tiene mucha varianza.\n",
        "</li><br>\n",
        "</ul>\n",
        "<p align=\"justify\">\n",
        "Dos de los tipos de ensemble más utilizados son:\n",
        "<br>\n",
        "<ul align=\"justify\">\n",
        "<li><b>Bagging</b>: Se ajustan múltiples modelos, cada uno con un subconjunto distinto de los datos de entrenamiento. Para predecir, todos los modelos que forman el agregado participan aportando su predicción. Como valor final, se toma la media de todas las predicciones (variables continuas) o la clase más frecuente (variables categóricas). <mark>Los modelos Random Forest están dentro de esta categoría</mark>.\n",
        "</li><br>\n",
        "<li><b>Boosting</b>: Se ajustan secuencialmente múltiples modelos sencillos, llamados <code>weak learners</code>, de forma que cada modelo aprende de los errores del anterior. Como valor final, al igual que en <code>bagging</code>, se toma la media de todas las predicciones (variables continuas) o la clase más frecuente (variables cualitativas).\n",
        "<br>Tres de los métodos de boosting más empleados son:</li>\n",
        "<ul>\n",
        "<li>AdaBoost</li>\n",
        "<li>Gradient Boosting</li>\n",
        "<li>Stochastic Gradient Boosting.</li>\n",
        "</ul>\n",
        "</ul>"
      ],
      "metadata": {
        "id": "3D8O-YHSmWT-"
      }
    },
    {
      "cell_type": "markdown",
      "source": [
        " # **<font color=\"DeepPink\">Bagging</font>**"
      ],
      "metadata": {
        "id": "KM8fFWY6tV-S"
      }
    },
    {
      "cell_type": "markdown",
      "source": [
        "<p align=\"justify\">\n",
        "El término <code>bagging</code> es el diminutivo de <code>bootstrap aggregation</code>, y hace referencia al empleo del muestreo repetido con reposición con el fin de reducir la varianza de algunos modelos de aprendizaje estadístico, entre ellos los basados en árboles.\n",
        "<br><br>\n",
        "Dadas $n$ muestras de observaciones independientes $Z1\n",
        " , ...,  Zn$ cada una con varianza $σ^2$, la varianza de la media de las observaciones $Z$ es $\\frac{σ^2}{n}$. En otras palabras, promediando un conjunto de observaciones se reduce la varianza.\n",
        " <br><br>\n",
        "👀 Basándose en esta idea, una forma de reducir la varianza y aumentar la precisión de un método predictivo es obtener múltiples muestras de la población, ajustar un modelo distinto con cada una de ellas, y hacer la media (la moda en el caso de variables cualitativas) de las predicciones resultantes.\n",
        "<br><br>\n",
        "Como en la práctica no se suele tener acceso a múltiples muestras, se puede simular el proceso generando pseudo-muestras para ajustar diferentes modelos y después agregarlos. A este proceso se le conoce como <code>bagging</code> y es aplicable a una gran variedad de métodos de regresión.\n",
        "<br><br>\n",
        "El algoritmo <code>Random Forest</code> es una modificación del proceso <code>Bagging</code> que consigue mejorar los resultados gracias a que hace menos correlacionados los árboles generados en el proceso.\n",
        "\n",
        "\n",
        "\n"
      ],
      "metadata": {
        "id": "Ypdf8PCWt1Bn"
      }
    },
    {
      "cell_type": "markdown",
      "source": [
        " # **<font color=\"DeepPink\">Random Forest, Regresión</font>**"
      ],
      "metadata": {
        "id": "WFrETDKVwC5T"
      }
    },
    {
      "cell_type": "markdown",
      "source": [
        " # **<font color=\"DeepPink\">Datos</font>**"
      ],
      "metadata": {
        "id": "8QWuPJ73ywOR"
      }
    },
    {
      "cell_type": "markdown",
      "source": [
        "<p align=\"justify\">\n",
        "El dataset <code>fetch_california_housing</code> de scikit-learn es un conjunto de datos de 20.640 registros de viviendas en California. Los registros contienen información sobre el precio de la vivienda, la superficie, la densidad de población, la tasa de criminalidad, la distancia a las escuelas, los centros comerciales y las autopistas.\n",
        "<br><br>\n",
        "El dataset <code>fetch_california_housing</code> es un conjunto de datos muy útil para entrenar modelos de aprendizaje automático para predecir el precio de la vivienda."
      ],
      "metadata": {
        "id": "BYNjMj1HbzI5"
      }
    },
    {
      "cell_type": "code",
      "source": [
        "import pandas as pd\n",
        "import numpy as np"
      ],
      "metadata": {
        "id": "FbXu0LGewSxs"
      },
      "execution_count": 1,
      "outputs": []
    },
    {
      "cell_type": "code",
      "source": [
        "from sklearn.datasets import fetch_california_housing"
      ],
      "metadata": {
        "id": "bsWjXZZiwYHM"
      },
      "execution_count": 2,
      "outputs": []
    },
    {
      "cell_type": "code",
      "source": [
        "housing = fetch_california_housing(as_frame=True)"
      ],
      "metadata": {
        "id": "iNHGFqNVy3SR"
      },
      "execution_count": 3,
      "outputs": []
    },
    {
      "cell_type": "code",
      "source": [
        "print(housing.DESCR)"
      ],
      "metadata": {
        "colab": {
          "base_uri": "https://localhost:8080/"
        },
        "id": "KLBRgxYI0YFN",
        "outputId": "81445551-fcc5-469b-9c0a-8900cc95fb4f"
      },
      "execution_count": 4,
      "outputs": [
        {
          "output_type": "stream",
          "name": "stdout",
          "text": [
            ".. _california_housing_dataset:\n",
            "\n",
            "California Housing dataset\n",
            "--------------------------\n",
            "\n",
            "**Data Set Characteristics:**\n",
            "\n",
            "    :Number of Instances: 20640\n",
            "\n",
            "    :Number of Attributes: 8 numeric, predictive attributes and the target\n",
            "\n",
            "    :Attribute Information:\n",
            "        - MedInc        median income in block group\n",
            "        - HouseAge      median house age in block group\n",
            "        - AveRooms      average number of rooms per household\n",
            "        - AveBedrms     average number of bedrooms per household\n",
            "        - Population    block group population\n",
            "        - AveOccup      average number of household members\n",
            "        - Latitude      block group latitude\n",
            "        - Longitude     block group longitude\n",
            "\n",
            "    :Missing Attribute Values: None\n",
            "\n",
            "This dataset was obtained from the StatLib repository.\n",
            "https://www.dcc.fc.up.pt/~ltorgo/Regression/cal_housing.html\n",
            "\n",
            "The target variable is the median house value for California districts,\n",
            "expressed in hundreds of thousands of dollars ($100,000).\n",
            "\n",
            "This dataset was derived from the 1990 U.S. census, using one row per census\n",
            "block group. A block group is the smallest geographical unit for which the U.S.\n",
            "Census Bureau publishes sample data (a block group typically has a population\n",
            "of 600 to 3,000 people).\n",
            "\n",
            "A household is a group of people residing within a home. Since the average\n",
            "number of rooms and bedrooms in this dataset are provided per household, these\n",
            "columns may take surprisingly large values for block groups with few households\n",
            "and many empty houses, such as vacation resorts.\n",
            "\n",
            "It can be downloaded/loaded using the\n",
            ":func:`sklearn.datasets.fetch_california_housing` function.\n",
            "\n",
            ".. topic:: References\n",
            "\n",
            "    - Pace, R. Kelley and Ronald Barry, Sparse Spatial Autoregressions,\n",
            "      Statistics and Probability Letters, 33 (1997) 291-297\n",
            "\n"
          ]
        }
      ]
    },
    {
      "cell_type": "code",
      "source": [
        "datos = housing.data"
      ],
      "metadata": {
        "id": "Vq27cvws0gTp"
      },
      "execution_count": 5,
      "outputs": []
    },
    {
      "cell_type": "code",
      "source": [
        "datos[\"Price\"] = housing.target"
      ],
      "metadata": {
        "id": "JwE4jxpL53bt"
      },
      "execution_count": 6,
      "outputs": []
    },
    {
      "cell_type": "markdown",
      "source": [
        " # **<font color=\"DeepPink\">Ajuste del modelo</font>**"
      ],
      "metadata": {
        "id": "cUewbIG10wnr"
      }
    },
    {
      "cell_type": "markdown",
      "source": [
        " ## **<font color=\"DeepPink\">División del conjunto de datos</font>**\n"
      ],
      "metadata": {
        "id": "wllKxgzp1I_4"
      }
    },
    {
      "cell_type": "code",
      "source": [
        "datos.columns"
      ],
      "metadata": {
        "colab": {
          "base_uri": "https://localhost:8080/"
        },
        "id": "sRLtaGsI07sK",
        "outputId": "9b7bd323-7ae3-4f99-f8f1-eace756cd817"
      },
      "execution_count": 7,
      "outputs": [
        {
          "output_type": "execute_result",
          "data": {
            "text/plain": [
              "Index(['MedInc', 'HouseAge', 'AveRooms', 'AveBedrms', 'Population', 'AveOccup',\n",
              "       'Latitude', 'Longitude', 'Price'],\n",
              "      dtype='object')"
            ]
          },
          "metadata": {},
          "execution_count": 7
        }
      ]
    },
    {
      "cell_type": "code",
      "source": [
        "from sklearn.model_selection import train_test_split"
      ],
      "metadata": {
        "id": "TY1gA_YYYYe1"
      },
      "execution_count": 8,
      "outputs": []
    },
    {
      "cell_type": "code",
      "source": [
        "X_train, X_test, y_train, y_test = train_test_split(datos.drop(columns = \"Price\"),\n",
        "                                                    datos['Price'],\n",
        "                                                    random_state = 123\n",
        "                                                    )"
      ],
      "metadata": {
        "id": "0Z1yE8X-07Zi"
      },
      "execution_count": 9,
      "outputs": []
    },
    {
      "cell_type": "code",
      "source": [
        "X_train.shape"
      ],
      "metadata": {
        "colab": {
          "base_uri": "https://localhost:8080/"
        },
        "id": "MADLEfUj1Voa",
        "outputId": "dd25b3ad-de46-4dff-85c9-77adb337f2f6"
      },
      "execution_count": 10,
      "outputs": [
        {
          "output_type": "execute_result",
          "data": {
            "text/plain": [
              "(15480, 8)"
            ]
          },
          "metadata": {},
          "execution_count": 10
        }
      ]
    },
    {
      "cell_type": "code",
      "source": [
        "X_test.shape"
      ],
      "metadata": {
        "colab": {
          "base_uri": "https://localhost:8080/"
        },
        "id": "vmvE-SOy1VeA",
        "outputId": "13bf415b-73cd-46fc-92e6-f26e025dc0fd"
      },
      "execution_count": 11,
      "outputs": [
        {
          "output_type": "execute_result",
          "data": {
            "text/plain": [
              "(5160, 8)"
            ]
          },
          "metadata": {},
          "execution_count": 11
        }
      ]
    },
    {
      "cell_type": "code",
      "source": [
        "y_train.shape"
      ],
      "metadata": {
        "colab": {
          "base_uri": "https://localhost:8080/"
        },
        "id": "vcEX9v8M1fyV",
        "outputId": "43b82cde-f35e-47d1-c49e-6b3b427213d2"
      },
      "execution_count": 12,
      "outputs": [
        {
          "output_type": "execute_result",
          "data": {
            "text/plain": [
              "(15480,)"
            ]
          },
          "metadata": {},
          "execution_count": 12
        }
      ]
    },
    {
      "cell_type": "code",
      "source": [
        "y_test.shape"
      ],
      "metadata": {
        "colab": {
          "base_uri": "https://localhost:8080/"
        },
        "id": "ghEjdsvq1i_q",
        "outputId": "730d965d-3068-4e0c-ba3e-4a17e0e36cb9"
      },
      "execution_count": 13,
      "outputs": [
        {
          "output_type": "execute_result",
          "data": {
            "text/plain": [
              "(5160,)"
            ]
          },
          "metadata": {},
          "execution_count": 13
        }
      ]
    },
    {
      "cell_type": "markdown",
      "source": [
        " ## **<font color=\"DeepPink\">Creación del modelo</font>**\n"
      ],
      "metadata": {
        "id": "FbXwx2bM11ts"
      }
    },
    {
      "cell_type": "code",
      "source": [
        "from sklearn.ensemble import RandomForestRegressor"
      ],
      "metadata": {
        "id": "i2GTNY-lYig5"
      },
      "execution_count": 14,
      "outputs": []
    },
    {
      "cell_type": "code",
      "source": [
        "modelo = RandomForestRegressor(n_estimators = 10,\n",
        "                               random_state = 123\n",
        "                               )"
      ],
      "metadata": {
        "id": "vGGee8WN1pB1"
      },
      "execution_count": 15,
      "outputs": []
    },
    {
      "cell_type": "code",
      "source": [
        "modelo.fit(X_train, y_train)"
      ],
      "metadata": {
        "colab": {
          "base_uri": "https://localhost:8080/",
          "height": 74
        },
        "id": "12fD75WH2WKI",
        "outputId": "ff286a89-37df-4e1a-faa8-f5bc283383bd"
      },
      "execution_count": 16,
      "outputs": [
        {
          "output_type": "execute_result",
          "data": {
            "text/plain": [
              "RandomForestRegressor(n_estimators=10, random_state=123)"
            ],
            "text/html": [
              "<style>#sk-container-id-1 {color: black;background-color: white;}#sk-container-id-1 pre{padding: 0;}#sk-container-id-1 div.sk-toggleable {background-color: white;}#sk-container-id-1 label.sk-toggleable__label {cursor: pointer;display: block;width: 100%;margin-bottom: 0;padding: 0.3em;box-sizing: border-box;text-align: center;}#sk-container-id-1 label.sk-toggleable__label-arrow:before {content: \"▸\";float: left;margin-right: 0.25em;color: #696969;}#sk-container-id-1 label.sk-toggleable__label-arrow:hover:before {color: black;}#sk-container-id-1 div.sk-estimator:hover label.sk-toggleable__label-arrow:before {color: black;}#sk-container-id-1 div.sk-toggleable__content {max-height: 0;max-width: 0;overflow: hidden;text-align: left;background-color: #f0f8ff;}#sk-container-id-1 div.sk-toggleable__content pre {margin: 0.2em;color: black;border-radius: 0.25em;background-color: #f0f8ff;}#sk-container-id-1 input.sk-toggleable__control:checked~div.sk-toggleable__content {max-height: 200px;max-width: 100%;overflow: auto;}#sk-container-id-1 input.sk-toggleable__control:checked~label.sk-toggleable__label-arrow:before {content: \"▾\";}#sk-container-id-1 div.sk-estimator input.sk-toggleable__control:checked~label.sk-toggleable__label {background-color: #d4ebff;}#sk-container-id-1 div.sk-label input.sk-toggleable__control:checked~label.sk-toggleable__label {background-color: #d4ebff;}#sk-container-id-1 input.sk-hidden--visually {border: 0;clip: rect(1px 1px 1px 1px);clip: rect(1px, 1px, 1px, 1px);height: 1px;margin: -1px;overflow: hidden;padding: 0;position: absolute;width: 1px;}#sk-container-id-1 div.sk-estimator {font-family: monospace;background-color: #f0f8ff;border: 1px dotted black;border-radius: 0.25em;box-sizing: border-box;margin-bottom: 0.5em;}#sk-container-id-1 div.sk-estimator:hover {background-color: #d4ebff;}#sk-container-id-1 div.sk-parallel-item::after {content: \"\";width: 100%;border-bottom: 1px solid gray;flex-grow: 1;}#sk-container-id-1 div.sk-label:hover label.sk-toggleable__label {background-color: #d4ebff;}#sk-container-id-1 div.sk-serial::before {content: \"\";position: absolute;border-left: 1px solid gray;box-sizing: border-box;top: 0;bottom: 0;left: 50%;z-index: 0;}#sk-container-id-1 div.sk-serial {display: flex;flex-direction: column;align-items: center;background-color: white;padding-right: 0.2em;padding-left: 0.2em;position: relative;}#sk-container-id-1 div.sk-item {position: relative;z-index: 1;}#sk-container-id-1 div.sk-parallel {display: flex;align-items: stretch;justify-content: center;background-color: white;position: relative;}#sk-container-id-1 div.sk-item::before, #sk-container-id-1 div.sk-parallel-item::before {content: \"\";position: absolute;border-left: 1px solid gray;box-sizing: border-box;top: 0;bottom: 0;left: 50%;z-index: -1;}#sk-container-id-1 div.sk-parallel-item {display: flex;flex-direction: column;z-index: 1;position: relative;background-color: white;}#sk-container-id-1 div.sk-parallel-item:first-child::after {align-self: flex-end;width: 50%;}#sk-container-id-1 div.sk-parallel-item:last-child::after {align-self: flex-start;width: 50%;}#sk-container-id-1 div.sk-parallel-item:only-child::after {width: 0;}#sk-container-id-1 div.sk-dashed-wrapped {border: 1px dashed gray;margin: 0 0.4em 0.5em 0.4em;box-sizing: border-box;padding-bottom: 0.4em;background-color: white;}#sk-container-id-1 div.sk-label label {font-family: monospace;font-weight: bold;display: inline-block;line-height: 1.2em;}#sk-container-id-1 div.sk-label-container {text-align: center;}#sk-container-id-1 div.sk-container {/* jupyter's `normalize.less` sets `[hidden] { display: none; }` but bootstrap.min.css set `[hidden] { display: none !important; }` so we also need the `!important` here to be able to override the default hidden behavior on the sphinx rendered scikit-learn.org. See: https://github.com/scikit-learn/scikit-learn/issues/21755 */display: inline-block !important;position: relative;}#sk-container-id-1 div.sk-text-repr-fallback {display: none;}</style><div id=\"sk-container-id-1\" class=\"sk-top-container\"><div class=\"sk-text-repr-fallback\"><pre>RandomForestRegressor(n_estimators=10, random_state=123)</pre><b>In a Jupyter environment, please rerun this cell to show the HTML representation or trust the notebook. <br />On GitHub, the HTML representation is unable to render, please try loading this page with nbviewer.org.</b></div><div class=\"sk-container\" hidden><div class=\"sk-item\"><div class=\"sk-estimator sk-toggleable\"><input class=\"sk-toggleable__control sk-hidden--visually\" id=\"sk-estimator-id-1\" type=\"checkbox\" checked><label for=\"sk-estimator-id-1\" class=\"sk-toggleable__label sk-toggleable__label-arrow\">RandomForestRegressor</label><div class=\"sk-toggleable__content\"><pre>RandomForestRegressor(n_estimators=10, random_state=123)</pre></div></div></div></div></div>"
            ]
          },
          "metadata": {},
          "execution_count": 16
        }
      ]
    },
    {
      "cell_type": "markdown",
      "source": [
        " ## **<font color=\"DeepPink\">Predicción y evaluación del modelo</font>**\n"
      ],
      "metadata": {
        "id": "Doj58a187aeX"
      }
    },
    {
      "cell_type": "code",
      "source": [
        "predicciones = modelo.predict(X = X_test)"
      ],
      "metadata": {
        "id": "Co-FPZst7lzv"
      },
      "execution_count": 17,
      "outputs": []
    },
    {
      "cell_type": "code",
      "source": [
        "from sklearn.metrics import mean_squared_error"
      ],
      "metadata": {
        "id": "O3Avt-iCY0Uj"
      },
      "execution_count": 18,
      "outputs": []
    },
    {
      "cell_type": "code",
      "source": [
        "rmse = mean_squared_error(y_true  = y_test,\n",
        "                          y_pred  = predicciones,\n",
        "                          squared = False\n",
        "                          )"
      ],
      "metadata": {
        "id": "_nq5xmJv7ftX"
      },
      "execution_count": 19,
      "outputs": []
    },
    {
      "cell_type": "code",
      "source": [
        "print(\"\")\n",
        "print(f\"El error (rmse) de prueba del modelo es: {rmse.round(4)}\")"
      ],
      "metadata": {
        "colab": {
          "base_uri": "https://localhost:8080/"
        },
        "id": "AUcghu2L7u26",
        "outputId": "0a8c628d-977d-4ab2-f631-8d467ad2e6e6"
      },
      "execution_count": 20,
      "outputs": [
        {
          "output_type": "stream",
          "name": "stdout",
          "text": [
            "\n",
            "El error (rmse) de prueba del modelo es: 0.5184\n"
          ]
        }
      ]
    },
    {
      "cell_type": "markdown",
      "source": [
        " ## **<font color=\"DeepPink\">Importancia de los predictores</font>**\n"
      ],
      "metadata": {
        "id": "euAOj-QU9UDP"
      }
    },
    {
      "cell_type": "markdown",
      "source": [
        " ### **<font color=\"DeepPink\">Importancia por pureza de nodos</font>**\n"
      ],
      "metadata": {
        "id": "Xf291NFU_PI0"
      }
    },
    {
      "cell_type": "markdown",
      "source": [
        "<p align=\"justify\">\n",
        "Las variables son seleccionadas en función de su capacidad para aumentar la pureza de los nodos, lo que implica que la separación resultante entre las clases objetivo sea lo más clara posible.\n",
        "<br>\n",
        "<br>\n",
        "<code>Random Forest</code> es un conjunto (ensemble) de árboles de decisión. Cada árbol en el bosque se entrena independientemente en una muestra aleatoria de los datos de entrenamiento. Luego, durante la predicción, los árboles individuales emiten votos para la clase objetivo y la clase con más votos se toma como la predicción final del bosque.\n",
        "<br><br>\n",
        "La pureza se refiere a la homogeneidad de las clases en un nodo. Si todas las observaciones en un nodo pertenecen a la misma clase, entonces el nodo es puro. La idea detrás de los árboles de decisión es buscar divisiones en las características que maximicen la pureza de los nodos resultantes.\n",
        "<br><br>\n",
        "La importancia de las características es una medida que se utiliza para evaluar cuánto contribuye cada característica al rendimiento del modelo."
      ],
      "metadata": {
        "id": "jlax0pROxnUn"
      }
    },
    {
      "cell_type": "code",
      "source": [
        "importancia_predictores = pd.DataFrame({'Predictor': datos.drop(columns = \"Price\").columns,\n",
        "                                        'Importancia': modelo.feature_importances_.round(3)}\n",
        "                                       )"
      ],
      "metadata": {
        "id": "Byq5ZtjT9c4q"
      },
      "execution_count": 21,
      "outputs": []
    },
    {
      "cell_type": "code",
      "source": [
        "importancia_predictores.sort_values('Importancia', ascending=False).reset_index(drop=True, inplace=True)"
      ],
      "metadata": {
        "id": "rESN-qSs9kue"
      },
      "execution_count": 22,
      "outputs": []
    },
    {
      "cell_type": "code",
      "source": [
        "importancia_predictores"
      ],
      "metadata": {
        "colab": {
          "base_uri": "https://localhost:8080/",
          "height": 297
        },
        "id": "dG8ylJWSzeV6",
        "outputId": "ea5eb174-abfa-4e33-b183-35f0afc9fb23"
      },
      "execution_count": 23,
      "outputs": [
        {
          "output_type": "execute_result",
          "data": {
            "text/plain": [
              "    Predictor  Importancia\n",
              "0      MedInc        0.527\n",
              "1    HouseAge        0.052\n",
              "2    AveRooms        0.048\n",
              "3   AveBedrms        0.029\n",
              "4  Population        0.032\n",
              "5    AveOccup        0.134\n",
              "6    Latitude        0.088\n",
              "7   Longitude        0.090"
            ],
            "text/html": [
              "\n",
              "\n",
              "  <div id=\"df-dd17a6d3-b76f-4137-b10d-cd13552f5d7a\">\n",
              "    <div class=\"colab-df-container\">\n",
              "      <div>\n",
              "<style scoped>\n",
              "    .dataframe tbody tr th:only-of-type {\n",
              "        vertical-align: middle;\n",
              "    }\n",
              "\n",
              "    .dataframe tbody tr th {\n",
              "        vertical-align: top;\n",
              "    }\n",
              "\n",
              "    .dataframe thead th {\n",
              "        text-align: right;\n",
              "    }\n",
              "</style>\n",
              "<table border=\"1\" class=\"dataframe\">\n",
              "  <thead>\n",
              "    <tr style=\"text-align: right;\">\n",
              "      <th></th>\n",
              "      <th>Predictor</th>\n",
              "      <th>Importancia</th>\n",
              "    </tr>\n",
              "  </thead>\n",
              "  <tbody>\n",
              "    <tr>\n",
              "      <th>0</th>\n",
              "      <td>MedInc</td>\n",
              "      <td>0.527</td>\n",
              "    </tr>\n",
              "    <tr>\n",
              "      <th>1</th>\n",
              "      <td>HouseAge</td>\n",
              "      <td>0.052</td>\n",
              "    </tr>\n",
              "    <tr>\n",
              "      <th>2</th>\n",
              "      <td>AveRooms</td>\n",
              "      <td>0.048</td>\n",
              "    </tr>\n",
              "    <tr>\n",
              "      <th>3</th>\n",
              "      <td>AveBedrms</td>\n",
              "      <td>0.029</td>\n",
              "    </tr>\n",
              "    <tr>\n",
              "      <th>4</th>\n",
              "      <td>Population</td>\n",
              "      <td>0.032</td>\n",
              "    </tr>\n",
              "    <tr>\n",
              "      <th>5</th>\n",
              "      <td>AveOccup</td>\n",
              "      <td>0.134</td>\n",
              "    </tr>\n",
              "    <tr>\n",
              "      <th>6</th>\n",
              "      <td>Latitude</td>\n",
              "      <td>0.088</td>\n",
              "    </tr>\n",
              "    <tr>\n",
              "      <th>7</th>\n",
              "      <td>Longitude</td>\n",
              "      <td>0.090</td>\n",
              "    </tr>\n",
              "  </tbody>\n",
              "</table>\n",
              "</div>\n",
              "      <button class=\"colab-df-convert\" onclick=\"convertToInteractive('df-dd17a6d3-b76f-4137-b10d-cd13552f5d7a')\"\n",
              "              title=\"Convert this dataframe to an interactive table.\"\n",
              "              style=\"display:none;\">\n",
              "\n",
              "  <svg xmlns=\"http://www.w3.org/2000/svg\" height=\"24px\"viewBox=\"0 0 24 24\"\n",
              "       width=\"24px\">\n",
              "    <path d=\"M0 0h24v24H0V0z\" fill=\"none\"/>\n",
              "    <path d=\"M18.56 5.44l.94 2.06.94-2.06 2.06-.94-2.06-.94-.94-2.06-.94 2.06-2.06.94zm-11 1L8.5 8.5l.94-2.06 2.06-.94-2.06-.94L8.5 2.5l-.94 2.06-2.06.94zm10 10l.94 2.06.94-2.06 2.06-.94-2.06-.94-.94-2.06-.94 2.06-2.06.94z\"/><path d=\"M17.41 7.96l-1.37-1.37c-.4-.4-.92-.59-1.43-.59-.52 0-1.04.2-1.43.59L10.3 9.45l-7.72 7.72c-.78.78-.78 2.05 0 2.83L4 21.41c.39.39.9.59 1.41.59.51 0 1.02-.2 1.41-.59l7.78-7.78 2.81-2.81c.8-.78.8-2.07 0-2.86zM5.41 20L4 18.59l7.72-7.72 1.47 1.35L5.41 20z\"/>\n",
              "  </svg>\n",
              "      </button>\n",
              "\n",
              "\n",
              "\n",
              "    <div id=\"df-ce55c26a-4c42-4a93-a105-743a2bb251d2\">\n",
              "      <button class=\"colab-df-quickchart\" onclick=\"quickchart('df-ce55c26a-4c42-4a93-a105-743a2bb251d2')\"\n",
              "              title=\"Suggest charts.\"\n",
              "              style=\"display:none;\">\n",
              "\n",
              "<svg xmlns=\"http://www.w3.org/2000/svg\" height=\"24px\"viewBox=\"0 0 24 24\"\n",
              "     width=\"24px\">\n",
              "    <g>\n",
              "        <path d=\"M19 3H5c-1.1 0-2 .9-2 2v14c0 1.1.9 2 2 2h14c1.1 0 2-.9 2-2V5c0-1.1-.9-2-2-2zM9 17H7v-7h2v7zm4 0h-2V7h2v10zm4 0h-2v-4h2v4z\"/>\n",
              "    </g>\n",
              "</svg>\n",
              "      </button>\n",
              "    </div>\n",
              "\n",
              "<style>\n",
              "  .colab-df-quickchart {\n",
              "    background-color: #E8F0FE;\n",
              "    border: none;\n",
              "    border-radius: 50%;\n",
              "    cursor: pointer;\n",
              "    display: none;\n",
              "    fill: #1967D2;\n",
              "    height: 32px;\n",
              "    padding: 0 0 0 0;\n",
              "    width: 32px;\n",
              "  }\n",
              "\n",
              "  .colab-df-quickchart:hover {\n",
              "    background-color: #E2EBFA;\n",
              "    box-shadow: 0px 1px 2px rgba(60, 64, 67, 0.3), 0px 1px 3px 1px rgba(60, 64, 67, 0.15);\n",
              "    fill: #174EA6;\n",
              "  }\n",
              "\n",
              "  [theme=dark] .colab-df-quickchart {\n",
              "    background-color: #3B4455;\n",
              "    fill: #D2E3FC;\n",
              "  }\n",
              "\n",
              "  [theme=dark] .colab-df-quickchart:hover {\n",
              "    background-color: #434B5C;\n",
              "    box-shadow: 0px 1px 3px 1px rgba(0, 0, 0, 0.15);\n",
              "    filter: drop-shadow(0px 1px 2px rgba(0, 0, 0, 0.3));\n",
              "    fill: #FFFFFF;\n",
              "  }\n",
              "</style>\n",
              "\n",
              "    <script>\n",
              "      async function quickchart(key) {\n",
              "        const containerElement = document.querySelector('#' + key);\n",
              "        const charts = await google.colab.kernel.invokeFunction(\n",
              "            'suggestCharts', [key], {});\n",
              "      }\n",
              "    </script>\n",
              "\n",
              "      <script>\n",
              "\n",
              "function displayQuickchartButton(domScope) {\n",
              "  let quickchartButtonEl =\n",
              "    domScope.querySelector('#df-ce55c26a-4c42-4a93-a105-743a2bb251d2 button.colab-df-quickchart');\n",
              "  quickchartButtonEl.style.display =\n",
              "    google.colab.kernel.accessAllowed ? 'block' : 'none';\n",
              "}\n",
              "\n",
              "        displayQuickchartButton(document);\n",
              "      </script>\n",
              "      <style>\n",
              "    .colab-df-container {\n",
              "      display:flex;\n",
              "      flex-wrap:wrap;\n",
              "      gap: 12px;\n",
              "    }\n",
              "\n",
              "    .colab-df-convert {\n",
              "      background-color: #E8F0FE;\n",
              "      border: none;\n",
              "      border-radius: 50%;\n",
              "      cursor: pointer;\n",
              "      display: none;\n",
              "      fill: #1967D2;\n",
              "      height: 32px;\n",
              "      padding: 0 0 0 0;\n",
              "      width: 32px;\n",
              "    }\n",
              "\n",
              "    .colab-df-convert:hover {\n",
              "      background-color: #E2EBFA;\n",
              "      box-shadow: 0px 1px 2px rgba(60, 64, 67, 0.3), 0px 1px 3px 1px rgba(60, 64, 67, 0.15);\n",
              "      fill: #174EA6;\n",
              "    }\n",
              "\n",
              "    [theme=dark] .colab-df-convert {\n",
              "      background-color: #3B4455;\n",
              "      fill: #D2E3FC;\n",
              "    }\n",
              "\n",
              "    [theme=dark] .colab-df-convert:hover {\n",
              "      background-color: #434B5C;\n",
              "      box-shadow: 0px 1px 3px 1px rgba(0, 0, 0, 0.15);\n",
              "      filter: drop-shadow(0px 1px 2px rgba(0, 0, 0, 0.3));\n",
              "      fill: #FFFFFF;\n",
              "    }\n",
              "  </style>\n",
              "\n",
              "      <script>\n",
              "        const buttonEl =\n",
              "          document.querySelector('#df-dd17a6d3-b76f-4137-b10d-cd13552f5d7a button.colab-df-convert');\n",
              "        buttonEl.style.display =\n",
              "          google.colab.kernel.accessAllowed ? 'block' : 'none';\n",
              "\n",
              "        async function convertToInteractive(key) {\n",
              "          const element = document.querySelector('#df-dd17a6d3-b76f-4137-b10d-cd13552f5d7a');\n",
              "          const dataTable =\n",
              "            await google.colab.kernel.invokeFunction('convertToInteractive',\n",
              "                                                     [key], {});\n",
              "          if (!dataTable) return;\n",
              "\n",
              "          const docLinkHtml = 'Like what you see? Visit the ' +\n",
              "            '<a target=\"_blank\" href=https://colab.research.google.com/notebooks/data_table.ipynb>data table notebook</a>'\n",
              "            + ' to learn more about interactive tables.';\n",
              "          element.innerHTML = '';\n",
              "          dataTable['output_type'] = 'display_data';\n",
              "          await google.colab.output.renderOutput(dataTable, element);\n",
              "          const docLink = document.createElement('div');\n",
              "          docLink.innerHTML = docLinkHtml;\n",
              "          element.appendChild(docLink);\n",
              "        }\n",
              "      </script>\n",
              "    </div>\n",
              "  </div>\n"
            ]
          },
          "metadata": {},
          "execution_count": 23
        }
      ]
    },
    {
      "cell_type": "markdown",
      "source": [
        " ### **<font color=\"DeepPink\">Importancia por permutación</font>**"
      ],
      "metadata": {
        "id": "sosvHHrT_wFT"
      }
    },
    {
      "cell_type": "markdown",
      "source": [],
      "metadata": {
        "id": "tYXYJGaMynE1"
      }
    },
    {
      "cell_type": "code",
      "source": [
        "from sklearn.inspection import permutation_importance"
      ],
      "metadata": {
        "id": "t4o3HB0qYsWp"
      },
      "execution_count": 24,
      "outputs": []
    },
    {
      "cell_type": "code",
      "source": [
        "importancia = permutation_importance(estimator    = modelo,\n",
        "                                     X            = X_train,\n",
        "                                     y            = y_train,\n",
        "                                     n_repeats    = 5,\n",
        "                                     random_state = 123\n",
        "                                     )"
      ],
      "metadata": {
        "id": "uRY4MpNM_6dV"
      },
      "execution_count": 25,
      "outputs": []
    },
    {
      "cell_type": "code",
      "source": [
        "df_importancia = pd.DataFrame({k: importancia[k] for k in ['importances_mean', 'importances_std']})"
      ],
      "metadata": {
        "id": "rLa_djByAa7X"
      },
      "execution_count": 26,
      "outputs": []
    },
    {
      "cell_type": "code",
      "source": [
        "df_importancia['Predictor'] = X_train.columns\n",
        "df_importancia.sort_values('importances_mean', ascending=False).reset_index(drop=True, inplace=True)"
      ],
      "metadata": {
        "id": "zUsUk3mvAl47"
      },
      "execution_count": 27,
      "outputs": []
    },
    {
      "cell_type": "code",
      "source": [
        "df_importancia"
      ],
      "metadata": {
        "colab": {
          "base_uri": "https://localhost:8080/",
          "height": 297
        },
        "id": "YAblGZXrzp31",
        "outputId": "94d1f3f5-333d-4721-f4f0-4e8fc917f3a2"
      },
      "execution_count": 28,
      "outputs": [
        {
          "output_type": "execute_result",
          "data": {
            "text/plain": [
              "   importances_mean  importances_std   Predictor\n",
              "0          0.914299         0.004640      MedInc\n",
              "1          0.124097         0.001756    HouseAge\n",
              "2          0.096455         0.001665    AveRooms\n",
              "3          0.040907         0.000469   AveBedrms\n",
              "4          0.038324         0.000640  Population\n",
              "5          0.312840         0.003537    AveOccup\n",
              "6          0.479751         0.006809    Latitude\n",
              "7          0.375963         0.004569   Longitude"
            ],
            "text/html": [
              "\n",
              "\n",
              "  <div id=\"df-927a2e26-548b-408d-b4a5-3e5b44d0a92c\">\n",
              "    <div class=\"colab-df-container\">\n",
              "      <div>\n",
              "<style scoped>\n",
              "    .dataframe tbody tr th:only-of-type {\n",
              "        vertical-align: middle;\n",
              "    }\n",
              "\n",
              "    .dataframe tbody tr th {\n",
              "        vertical-align: top;\n",
              "    }\n",
              "\n",
              "    .dataframe thead th {\n",
              "        text-align: right;\n",
              "    }\n",
              "</style>\n",
              "<table border=\"1\" class=\"dataframe\">\n",
              "  <thead>\n",
              "    <tr style=\"text-align: right;\">\n",
              "      <th></th>\n",
              "      <th>importances_mean</th>\n",
              "      <th>importances_std</th>\n",
              "      <th>Predictor</th>\n",
              "    </tr>\n",
              "  </thead>\n",
              "  <tbody>\n",
              "    <tr>\n",
              "      <th>0</th>\n",
              "      <td>0.914299</td>\n",
              "      <td>0.004640</td>\n",
              "      <td>MedInc</td>\n",
              "    </tr>\n",
              "    <tr>\n",
              "      <th>1</th>\n",
              "      <td>0.124097</td>\n",
              "      <td>0.001756</td>\n",
              "      <td>HouseAge</td>\n",
              "    </tr>\n",
              "    <tr>\n",
              "      <th>2</th>\n",
              "      <td>0.096455</td>\n",
              "      <td>0.001665</td>\n",
              "      <td>AveRooms</td>\n",
              "    </tr>\n",
              "    <tr>\n",
              "      <th>3</th>\n",
              "      <td>0.040907</td>\n",
              "      <td>0.000469</td>\n",
              "      <td>AveBedrms</td>\n",
              "    </tr>\n",
              "    <tr>\n",
              "      <th>4</th>\n",
              "      <td>0.038324</td>\n",
              "      <td>0.000640</td>\n",
              "      <td>Population</td>\n",
              "    </tr>\n",
              "    <tr>\n",
              "      <th>5</th>\n",
              "      <td>0.312840</td>\n",
              "      <td>0.003537</td>\n",
              "      <td>AveOccup</td>\n",
              "    </tr>\n",
              "    <tr>\n",
              "      <th>6</th>\n",
              "      <td>0.479751</td>\n",
              "      <td>0.006809</td>\n",
              "      <td>Latitude</td>\n",
              "    </tr>\n",
              "    <tr>\n",
              "      <th>7</th>\n",
              "      <td>0.375963</td>\n",
              "      <td>0.004569</td>\n",
              "      <td>Longitude</td>\n",
              "    </tr>\n",
              "  </tbody>\n",
              "</table>\n",
              "</div>\n",
              "      <button class=\"colab-df-convert\" onclick=\"convertToInteractive('df-927a2e26-548b-408d-b4a5-3e5b44d0a92c')\"\n",
              "              title=\"Convert this dataframe to an interactive table.\"\n",
              "              style=\"display:none;\">\n",
              "\n",
              "  <svg xmlns=\"http://www.w3.org/2000/svg\" height=\"24px\"viewBox=\"0 0 24 24\"\n",
              "       width=\"24px\">\n",
              "    <path d=\"M0 0h24v24H0V0z\" fill=\"none\"/>\n",
              "    <path d=\"M18.56 5.44l.94 2.06.94-2.06 2.06-.94-2.06-.94-.94-2.06-.94 2.06-2.06.94zm-11 1L8.5 8.5l.94-2.06 2.06-.94-2.06-.94L8.5 2.5l-.94 2.06-2.06.94zm10 10l.94 2.06.94-2.06 2.06-.94-2.06-.94-.94-2.06-.94 2.06-2.06.94z\"/><path d=\"M17.41 7.96l-1.37-1.37c-.4-.4-.92-.59-1.43-.59-.52 0-1.04.2-1.43.59L10.3 9.45l-7.72 7.72c-.78.78-.78 2.05 0 2.83L4 21.41c.39.39.9.59 1.41.59.51 0 1.02-.2 1.41-.59l7.78-7.78 2.81-2.81c.8-.78.8-2.07 0-2.86zM5.41 20L4 18.59l7.72-7.72 1.47 1.35L5.41 20z\"/>\n",
              "  </svg>\n",
              "      </button>\n",
              "\n",
              "\n",
              "\n",
              "    <div id=\"df-35e4b659-0259-4a08-b69e-728ddf261040\">\n",
              "      <button class=\"colab-df-quickchart\" onclick=\"quickchart('df-35e4b659-0259-4a08-b69e-728ddf261040')\"\n",
              "              title=\"Suggest charts.\"\n",
              "              style=\"display:none;\">\n",
              "\n",
              "<svg xmlns=\"http://www.w3.org/2000/svg\" height=\"24px\"viewBox=\"0 0 24 24\"\n",
              "     width=\"24px\">\n",
              "    <g>\n",
              "        <path d=\"M19 3H5c-1.1 0-2 .9-2 2v14c0 1.1.9 2 2 2h14c1.1 0 2-.9 2-2V5c0-1.1-.9-2-2-2zM9 17H7v-7h2v7zm4 0h-2V7h2v10zm4 0h-2v-4h2v4z\"/>\n",
              "    </g>\n",
              "</svg>\n",
              "      </button>\n",
              "    </div>\n",
              "\n",
              "<style>\n",
              "  .colab-df-quickchart {\n",
              "    background-color: #E8F0FE;\n",
              "    border: none;\n",
              "    border-radius: 50%;\n",
              "    cursor: pointer;\n",
              "    display: none;\n",
              "    fill: #1967D2;\n",
              "    height: 32px;\n",
              "    padding: 0 0 0 0;\n",
              "    width: 32px;\n",
              "  }\n",
              "\n",
              "  .colab-df-quickchart:hover {\n",
              "    background-color: #E2EBFA;\n",
              "    box-shadow: 0px 1px 2px rgba(60, 64, 67, 0.3), 0px 1px 3px 1px rgba(60, 64, 67, 0.15);\n",
              "    fill: #174EA6;\n",
              "  }\n",
              "\n",
              "  [theme=dark] .colab-df-quickchart {\n",
              "    background-color: #3B4455;\n",
              "    fill: #D2E3FC;\n",
              "  }\n",
              "\n",
              "  [theme=dark] .colab-df-quickchart:hover {\n",
              "    background-color: #434B5C;\n",
              "    box-shadow: 0px 1px 3px 1px rgba(0, 0, 0, 0.15);\n",
              "    filter: drop-shadow(0px 1px 2px rgba(0, 0, 0, 0.3));\n",
              "    fill: #FFFFFF;\n",
              "  }\n",
              "</style>\n",
              "\n",
              "    <script>\n",
              "      async function quickchart(key) {\n",
              "        const containerElement = document.querySelector('#' + key);\n",
              "        const charts = await google.colab.kernel.invokeFunction(\n",
              "            'suggestCharts', [key], {});\n",
              "      }\n",
              "    </script>\n",
              "\n",
              "      <script>\n",
              "\n",
              "function displayQuickchartButton(domScope) {\n",
              "  let quickchartButtonEl =\n",
              "    domScope.querySelector('#df-35e4b659-0259-4a08-b69e-728ddf261040 button.colab-df-quickchart');\n",
              "  quickchartButtonEl.style.display =\n",
              "    google.colab.kernel.accessAllowed ? 'block' : 'none';\n",
              "}\n",
              "\n",
              "        displayQuickchartButton(document);\n",
              "      </script>\n",
              "      <style>\n",
              "    .colab-df-container {\n",
              "      display:flex;\n",
              "      flex-wrap:wrap;\n",
              "      gap: 12px;\n",
              "    }\n",
              "\n",
              "    .colab-df-convert {\n",
              "      background-color: #E8F0FE;\n",
              "      border: none;\n",
              "      border-radius: 50%;\n",
              "      cursor: pointer;\n",
              "      display: none;\n",
              "      fill: #1967D2;\n",
              "      height: 32px;\n",
              "      padding: 0 0 0 0;\n",
              "      width: 32px;\n",
              "    }\n",
              "\n",
              "    .colab-df-convert:hover {\n",
              "      background-color: #E2EBFA;\n",
              "      box-shadow: 0px 1px 2px rgba(60, 64, 67, 0.3), 0px 1px 3px 1px rgba(60, 64, 67, 0.15);\n",
              "      fill: #174EA6;\n",
              "    }\n",
              "\n",
              "    [theme=dark] .colab-df-convert {\n",
              "      background-color: #3B4455;\n",
              "      fill: #D2E3FC;\n",
              "    }\n",
              "\n",
              "    [theme=dark] .colab-df-convert:hover {\n",
              "      background-color: #434B5C;\n",
              "      box-shadow: 0px 1px 3px 1px rgba(0, 0, 0, 0.15);\n",
              "      filter: drop-shadow(0px 1px 2px rgba(0, 0, 0, 0.3));\n",
              "      fill: #FFFFFF;\n",
              "    }\n",
              "  </style>\n",
              "\n",
              "      <script>\n",
              "        const buttonEl =\n",
              "          document.querySelector('#df-927a2e26-548b-408d-b4a5-3e5b44d0a92c button.colab-df-convert');\n",
              "        buttonEl.style.display =\n",
              "          google.colab.kernel.accessAllowed ? 'block' : 'none';\n",
              "\n",
              "        async function convertToInteractive(key) {\n",
              "          const element = document.querySelector('#df-927a2e26-548b-408d-b4a5-3e5b44d0a92c');\n",
              "          const dataTable =\n",
              "            await google.colab.kernel.invokeFunction('convertToInteractive',\n",
              "                                                     [key], {});\n",
              "          if (!dataTable) return;\n",
              "\n",
              "          const docLinkHtml = 'Like what you see? Visit the ' +\n",
              "            '<a target=\"_blank\" href=https://colab.research.google.com/notebooks/data_table.ipynb>data table notebook</a>'\n",
              "            + ' to learn more about interactive tables.';\n",
              "          element.innerHTML = '';\n",
              "          dataTable['output_type'] = 'display_data';\n",
              "          await google.colab.output.renderOutput(dataTable, element);\n",
              "          const docLink = document.createElement('div');\n",
              "          docLink.innerHTML = docLinkHtml;\n",
              "          element.appendChild(docLink);\n",
              "        }\n",
              "      </script>\n",
              "    </div>\n",
              "  </div>\n"
            ]
          },
          "metadata": {},
          "execution_count": 28
        }
      ]
    },
    {
      "cell_type": "markdown",
      "source": [
        " # **<font color=\"DeepPink\">Conclusiones</font>**"
      ],
      "metadata": {
        "id": "gUKC34ZvBm1P"
      }
    },
    {
      "cell_type": "markdown",
      "source": [
        "<p align=\"justify\">\n",
        "👀 En este colab nosotros:\n",
        "<br><br>\n",
        "✅ Cargamos los datos y le dimos estructura de <code>DataFrame</code> usando <code>Pandas</code>.<br>\n",
        "✅ Generamos un modelo base de <code>Random Forest</code>.\n",
        "<br>\n",
        "✅ Vimos la importancia de los predictores por pureza de los nodos y por importancia por permutación.\n",
        "<br>\n",
        "<br>\n"
      ],
      "metadata": {
        "id": "MxY_RMaJc0dk"
      }
    },
    {
      "cell_type": "markdown",
      "source": [
        "<br>\n",
        "<p align=\"center\"><b>\n",
        "💗\n",
        "<font color=\"DeepPink\">\n",
        "Hemos llegado al final de nuestro colab, a seguir codeando...\n",
        "</font>\n",
        "</p>\n",
        "<br>\n",
        "<p align=\"center\">\n",
        "<img src=\"https://github.com/cristiandarioortegayubro/BDS/blob/main/images/Logo%20BDS%20Horizontal%208.png?raw=true\">\n",
        "</p>\n",
        "\n",
        "---\n"
      ],
      "metadata": {
        "id": "MtN99JLz0YE9"
      }
    }
  ]
}