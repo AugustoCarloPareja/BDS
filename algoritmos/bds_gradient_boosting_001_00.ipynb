{
  "nbformat": 4,
  "nbformat_minor": 0,
  "metadata": {
    "colab": {
      "provenance": [],
      "include_colab_link": true
    },
    "kernelspec": {
      "name": "python3",
      "display_name": "Python 3"
    },
    "language_info": {
      "name": "python"
    }
  },
  "cells": [
    {
      "cell_type": "markdown",
      "metadata": {
        "id": "view-in-github",
        "colab_type": "text"
      },
      "source": [
        "<a href=\"https://colab.research.google.com/github/cristiandarioortegayubro/BDS/blob/main/algoritmos/bds_gradient_boosting_001_00.ipynb\" target=\"_parent\"><img src=\"https://colab.research.google.com/assets/colab-badge.svg\" alt=\"Open In Colab\"/></a>"
      ]
    },
    {
      "cell_type": "markdown",
      "source": [
        "<p align=\"center\">\n",
        "<img src=\"https://github.com/cristiandarioortegayubro/BDS/blob/main/images/Logo%20BDS%20Horizontal%208.png?raw=true\">\n",
        "</p>\n"
      ],
      "metadata": {
        "id": "iheuwam9e4CH"
      }
    },
    {
      "cell_type": "markdown",
      "source": [
        "<p align=\"center\">\n",
        "<img src=\"https://github.com/cristiandarioortegayubro/BDS/blob/main/images/Logo%20Scikit-learn.png?raw=true\">\n",
        "</p>\n"
      ],
      "metadata": {
        "id": "fBNtvjpUxHaM"
      }
    },
    {
      "cell_type": "markdown",
      "source": [
        " # **<font color=\"DeepPink\">Gradient Boosting con `sklearn`</font>**"
      ],
      "metadata": {
        "id": "_o8tuKydjnRZ"
      }
    },
    {
      "cell_type": "markdown",
      "source": [
        "<p align=\"justify\">\n",
        "Un modelo <b>Gradient Boosting</b> está formado por un conjunto (ensamble) de árboles de decisión individuales, <mark>entrenados de forma secuencial</mark>. Cada nuevo árbol emplea información del árbol anterior para aprender de sus errores, mejorando iteración a iteración.\n",
        "<br><br>\n",
        "Repasemos los conceptos de ensamble y boosting."
      ],
      "metadata": {
        "id": "7YQWli-uhrPQ"
      }
    },
    {
      "cell_type": "markdown",
      "source": [
        " ## **<font color=\"DeepPink\">Ensamble</font>**"
      ],
      "metadata": {
        "id": "vxIikW-9CqFu"
      }
    },
    {
      "cell_type": "markdown",
      "source": [
        "<p align=\"justify\">\n",
        "Los métodos de ensamble en machine learning son técnicas que combinan múltiples modelos de aprendizaje para mejorar la precisión y robustez de las predicciones. Estos métodos se basan en el principio de que la combinación de múltiples modelos puede generar mejores resultados que utilizar un único modelo.\n",
        "<br><br>\n",
        "Existen diferentes enfoques para construir ensambles en machine learning, siendo los más comunes:\n",
        "<ul align=\"justify\">\n",
        "<li> <b>Bagging</b>: se ajustan múltiples modelos, cada uno con un subconjunto distinto de los datos de entrenamiento.  El ejemplo más popular de algoritmo de ensamble basados en Bagging es <b>Random Forest</b>.\n",
        "<br><br>\n",
        "<li> <b>Boosting</b>: a diferencia del bagging, se basa en construir una secuencia de modelos donde cada uno se enfoca en mejorar los errores del modelo anterior. Algunos ejemplos populares de algoritmos de Boosting son <b>AdaBoost, Gradiente Boosting Machine, XGBoost, LightGBM</b> y <b>CatBoost</b>. Cada algoritmo de Boosting tiene su propio enfoque para ajustar los pesos de las instancias y combinar las predicciones, pero todos comparten la idea general de construir una secuencia de modelos que se mejoren consecutivamente."
      ],
      "metadata": {
        "id": "uBSZWX13CxwS"
      }
    },
    {
      "cell_type": "markdown",
      "source": [
        " ## **<font color=\"DeepPink\">Procedimiento Bagging</font>**\n",
        "\n"
      ],
      "metadata": {
        "id": "LVKyFSuyWk0Z"
      }
    },
    {
      "cell_type": "markdown",
      "source": [
        "<ol align=\"justify\">\n",
        "    <li>Se toma una muestra aleatoria simple con reemplazo del conjunto de datos original. Esta muestra se llama \"bag\" o \"bolsa\". La muestra tiene el mismo tamaño que el conjunto de datos original.\n",
        "    <br><br>\n",
        "    <li>Se realiza una muestra aleatoria simple de las variables predictoras. Esto significa que se seleccionan aleatoriamente un subconjunto de variables predictoras del conjunto de variables disponibles.\n",
        "    <br><br>\n",
        "    <li>Se construye un árbol de decisión utilizando la muestra de la bolsa y las variables predictoras seleccionadas en el paso anterior. El árbol se construye sin poda, es decir, sin limitar su crecimiento.\n",
        "    <br><br>\n",
        "    <li>Se realizan las predicciones utilizando las observaciones que no se incluyeron en la bolsa, es decir, las observaciones que quedaron fuera de la muestra seleccionada. Estas predicciones se conocen como \"out-of-bag\".\n",
        "    <br><br>\n",
        "    <li>Se repiten los pasos 1 al 4 tantas veces como árboles se deseen construir. Cada iteración genera una nueva muestra de la bolsa, una nueva selección de variables predictoras y un nuevo árbol de decisión.\n",
        "    <br><br>\n",
        "    <li>Las predicciones de cada árbol se combinan para obtener una predicción final. En el caso de la regresión, esto implica promediar las predicciones de los modelos base. En la clasificación, se puede utilizar una votación mayoritaria para determinar la clase final.\n",
        "</ol>"
      ],
      "metadata": {
        "id": "nMjeV9PQWip3"
      }
    },
    {
      "cell_type": "markdown",
      "source": [
        "<p align=\"center\">\n",
        "<img src=\"https://github.com/cristiandarioortegayubro/BDS/blob/main/images/random%20forest.jpg?raw=true\" width=\"350\">\n",
        "</p>"
      ],
      "metadata": {
        "id": "or-R9I_aWzM3"
      }
    },
    {
      "cell_type": "markdown",
      "source": [
        " ## **<font color=\"DeepPink\">Procedimiento Boosting</font>**"
      ],
      "metadata": {
        "id": "JOfN6D_HYqBE"
      }
    },
    {
      "cell_type": "markdown",
      "source": [
        "<ol align=\"justify\">\n",
        "<li>Se toma una muestra aleatoria simple sin reemplazo del conjunto de datos original para formar el conjunto de entrenamiento inicial. Se asigna un peso inicial igual a cada instancia.\n",
        "<br><br>\n",
        "<li>Se entrena un modelo base (árbol de decisión) con el conjunto de entrenamiento.\n",
        "<br><br>\n",
        "<li>Se evalúa el rendimiento del modelo base en el conjunto de entrenamiento. Se asignan pesos a las instancias según los errores de predicción cometidos por el modelo base. Las instancias mal clasificadas o con errores más altos reciben mayor peso para enfocarse en ellas en las iteraciones posteriores.\n",
        "<br><br>\n",
        "<li>Se actualizan los pesos de las instancias en el conjunto de entrenamiento.\n",
        "<br><br>\n",
        "<li>Se repiten los pasos 2 a 4 varias veces, donde en cada iteración se construye un nuevo modelo base utilizando el conjunto de entrenamiento actualizado.\n",
        "<br><br>\n",
        "<li>Durante cada iteración, se ajustan los pesos de las instancias nuevamente en función de los errores cometidos por los modelos base anteriores.\n",
        "<br><br>\n",
        "<li>Finalmente, se realiza una combinación ponderada de las predicciones de todos los modelos base para obtener una predicción final. Los modelos con mejor rendimiento tienen mayor peso en la combinación de predicciones. </ol><br>\n",
        "<p align=\"justify\">\n",
        "El Boosting se caracteriza por enfocarse en instancias difíciles y corregir los errores de los modelos anteriores en cada iteración. De esta manera, el modelo final tiene en cuenta los patrones que no fueron correctamente aprendidos en etapas anteriores."
      ],
      "metadata": {
        "id": "rzy0vaabYzOl"
      }
    },
    {
      "cell_type": "markdown",
      "source": [
        " ## **<font color=\"DeepPink\">Gradient Boosting en Python</font>**"
      ],
      "metadata": {
        "id": "zwxJwbyX2Kcp"
      }
    },
    {
      "cell_type": "markdown",
      "source": [
        "<p align=\"justify\">\n",
        "En Python, existen varios algoritmos de <b>Gradient Boosting</b> disponibles:\n",
        "<ul align=\"justify\">\n",
        "<br>\n",
        "<li> <b>Gradient Boosting Machine</b>: es una implementación básica y genérica del Gradient Boosting. Utiliza el algoritmo del descenso del gradiente para ajustar los modelos base.\n",
        "<br><br>\n",
        "<li> <b>XGBoost (Extreme Gradient Boosting)</b>: ofrece mejoras en términos de velocidad de entrenamiento y capacidad de manejo de conjuntos de datos grandes. También proporciona una amplia variedad de hiperparámetros para ajustar el modelo y opciones de regularización.\n",
        "<a href=\"https://xgboost.readthedocs.io/en/stable/\"> Documentación XGBoost</a>\n",
        "<br><br>\n",
        "<li> <b>LightGBM</b>: se enfoca en la eficiencia y escalabilidad en términos de velocidad de entrenamiento y uso eficiente de memoria. Utiliza el enfoque de separación de hojas por nivel, lo que permite una mayor eficiencia en la construcción de árboles y puede ser especialmente beneficioso para grandes conjuntos de datos.\n",
        "<a href=\"https://lightgbm.readthedocs.io/en/stable/\"> Documentación LightGBM</a>\n",
        "<br><br>\n",
        "<li> <b>CatBoost</b>: se destaca por su capacidad para manejar variables categóricas sin requerir una codificación previa. También incluye características como la detección automática de interacciones entre las variables explicativas y manejo automático de valores faltantes.\n",
        "<a href=\"https://catboost.ai/en/docs/\"> Documentación CatBoost</a>\n",
        "\n",
        "\n",
        "\n",
        "\n",
        "\n",
        "\n",
        "\n",
        "\n",
        "\n"
      ],
      "metadata": {
        "id": "7wqK38JwyEyY"
      }
    },
    {
      "cell_type": "markdown",
      "source": [
        " # **<font color=\"DeepPink\">Carga de las librerías básicas</font>**"
      ],
      "metadata": {
        "id": "b56mxPEzheFx"
      }
    },
    {
      "cell_type": "code",
      "source": [
        "import numpy as np\n",
        "import pandas as pd"
      ],
      "metadata": {
        "id": "dQtWrchXqRb3"
      },
      "execution_count": null,
      "outputs": []
    },
    {
      "cell_type": "code",
      "source": [
        "import plotly.express as px\n",
        "import plotly.graph_objects as go"
      ],
      "metadata": {
        "id": "qCz4roZLF6ti"
      },
      "execution_count": null,
      "outputs": []
    },
    {
      "cell_type": "markdown",
      "source": [
        " # **<font color=\"DeepPink\">Conjunto de datos</font>**"
      ],
      "metadata": {
        "id": "tZxCwdTuorIq"
      }
    },
    {
      "cell_type": "code",
      "source": [
        "url = \"https://raw.githubusercontent.com/cristiandarioortegayubro/BDS/main/datasets/Ecommerce_Customers.csv\""
      ],
      "metadata": {
        "id": "tIUUi5_ULJFs"
      },
      "execution_count": null,
      "outputs": []
    },
    {
      "cell_type": "code",
      "metadata": {
        "id": "arsPyTGL1Ydp"
      },
      "source": [
        "datos = pd.read_csv(url)"
      ],
      "execution_count": null,
      "outputs": []
    },
    {
      "cell_type": "code",
      "metadata": {
        "colab": {
          "base_uri": "https://localhost:8080/",
          "height": 206
        },
        "id": "OorC6dqD1apN",
        "outputId": "f5bd9cd1-9d0e-4a66-f8fd-67c84dfb918c"
      },
      "source": [
        "datos.head()"
      ],
      "execution_count": null,
      "outputs": [
        {
          "output_type": "execute_result",
          "data": {
            "text/plain": [
              "                           Email  \\\n",
              "0      mstephenson@fernandez.com   \n",
              "1              hduke@hotmail.com   \n",
              "2               pallen@yahoo.com   \n",
              "3        riverarebecca@gmail.com   \n",
              "4  mstephens@davidson-herman.com   \n",
              "\n",
              "                                             Address            Avatar  \\\n",
              "0       835 Frank Tunnel\\nWrightmouth, MI 82180-9605            Violet   \n",
              "1     4547 Archer Common\\nDiazchester, CA 06566-8576         DarkGreen   \n",
              "2  24645 Valerie Unions Suite 582\\nCobbborough, D...            Bisque   \n",
              "3   1414 David Throughway\\nPort Jason, OH 22070-1220       SaddleBrown   \n",
              "4  14023 Rodriguez Passage\\nPort Jacobville, PR 3...  MediumAquaMarine   \n",
              "\n",
              "   Avg. Session Length  Time on App  Time on Website  Length of Membership  \\\n",
              "0            34.497268    12.655651        39.577668              4.082621   \n",
              "1            31.926272    11.109461        37.268959              2.664034   \n",
              "2            33.000915    11.330278        37.110597              4.104543   \n",
              "3            34.305557    13.717514        36.721283              3.120179   \n",
              "4            33.330673    12.795189        37.536653              4.446308   \n",
              "\n",
              "   Yearly Amount Spent  \n",
              "0           587.951054  \n",
              "1           392.204933  \n",
              "2           487.547505  \n",
              "3           581.852344  \n",
              "4           599.406092  "
            ],
            "text/html": [
              "\n",
              "\n",
              "  <div id=\"df-3261613a-c49d-4a31-9965-9730ec75df44\">\n",
              "    <div class=\"colab-df-container\">\n",
              "      <div>\n",
              "<style scoped>\n",
              "    .dataframe tbody tr th:only-of-type {\n",
              "        vertical-align: middle;\n",
              "    }\n",
              "\n",
              "    .dataframe tbody tr th {\n",
              "        vertical-align: top;\n",
              "    }\n",
              "\n",
              "    .dataframe thead th {\n",
              "        text-align: right;\n",
              "    }\n",
              "</style>\n",
              "<table border=\"1\" class=\"dataframe\">\n",
              "  <thead>\n",
              "    <tr style=\"text-align: right;\">\n",
              "      <th></th>\n",
              "      <th>Email</th>\n",
              "      <th>Address</th>\n",
              "      <th>Avatar</th>\n",
              "      <th>Avg. Session Length</th>\n",
              "      <th>Time on App</th>\n",
              "      <th>Time on Website</th>\n",
              "      <th>Length of Membership</th>\n",
              "      <th>Yearly Amount Spent</th>\n",
              "    </tr>\n",
              "  </thead>\n",
              "  <tbody>\n",
              "    <tr>\n",
              "      <th>0</th>\n",
              "      <td>mstephenson@fernandez.com</td>\n",
              "      <td>835 Frank Tunnel\\nWrightmouth, MI 82180-9605</td>\n",
              "      <td>Violet</td>\n",
              "      <td>34.497268</td>\n",
              "      <td>12.655651</td>\n",
              "      <td>39.577668</td>\n",
              "      <td>4.082621</td>\n",
              "      <td>587.951054</td>\n",
              "    </tr>\n",
              "    <tr>\n",
              "      <th>1</th>\n",
              "      <td>hduke@hotmail.com</td>\n",
              "      <td>4547 Archer Common\\nDiazchester, CA 06566-8576</td>\n",
              "      <td>DarkGreen</td>\n",
              "      <td>31.926272</td>\n",
              "      <td>11.109461</td>\n",
              "      <td>37.268959</td>\n",
              "      <td>2.664034</td>\n",
              "      <td>392.204933</td>\n",
              "    </tr>\n",
              "    <tr>\n",
              "      <th>2</th>\n",
              "      <td>pallen@yahoo.com</td>\n",
              "      <td>24645 Valerie Unions Suite 582\\nCobbborough, D...</td>\n",
              "      <td>Bisque</td>\n",
              "      <td>33.000915</td>\n",
              "      <td>11.330278</td>\n",
              "      <td>37.110597</td>\n",
              "      <td>4.104543</td>\n",
              "      <td>487.547505</td>\n",
              "    </tr>\n",
              "    <tr>\n",
              "      <th>3</th>\n",
              "      <td>riverarebecca@gmail.com</td>\n",
              "      <td>1414 David Throughway\\nPort Jason, OH 22070-1220</td>\n",
              "      <td>SaddleBrown</td>\n",
              "      <td>34.305557</td>\n",
              "      <td>13.717514</td>\n",
              "      <td>36.721283</td>\n",
              "      <td>3.120179</td>\n",
              "      <td>581.852344</td>\n",
              "    </tr>\n",
              "    <tr>\n",
              "      <th>4</th>\n",
              "      <td>mstephens@davidson-herman.com</td>\n",
              "      <td>14023 Rodriguez Passage\\nPort Jacobville, PR 3...</td>\n",
              "      <td>MediumAquaMarine</td>\n",
              "      <td>33.330673</td>\n",
              "      <td>12.795189</td>\n",
              "      <td>37.536653</td>\n",
              "      <td>4.446308</td>\n",
              "      <td>599.406092</td>\n",
              "    </tr>\n",
              "  </tbody>\n",
              "</table>\n",
              "</div>\n",
              "      <button class=\"colab-df-convert\" onclick=\"convertToInteractive('df-3261613a-c49d-4a31-9965-9730ec75df44')\"\n",
              "              title=\"Convert this dataframe to an interactive table.\"\n",
              "              style=\"display:none;\">\n",
              "\n",
              "  <svg xmlns=\"http://www.w3.org/2000/svg\" height=\"24px\"viewBox=\"0 0 24 24\"\n",
              "       width=\"24px\">\n",
              "    <path d=\"M0 0h24v24H0V0z\" fill=\"none\"/>\n",
              "    <path d=\"M18.56 5.44l.94 2.06.94-2.06 2.06-.94-2.06-.94-.94-2.06-.94 2.06-2.06.94zm-11 1L8.5 8.5l.94-2.06 2.06-.94-2.06-.94L8.5 2.5l-.94 2.06-2.06.94zm10 10l.94 2.06.94-2.06 2.06-.94-2.06-.94-.94-2.06-.94 2.06-2.06.94z\"/><path d=\"M17.41 7.96l-1.37-1.37c-.4-.4-.92-.59-1.43-.59-.52 0-1.04.2-1.43.59L10.3 9.45l-7.72 7.72c-.78.78-.78 2.05 0 2.83L4 21.41c.39.39.9.59 1.41.59.51 0 1.02-.2 1.41-.59l7.78-7.78 2.81-2.81c.8-.78.8-2.07 0-2.86zM5.41 20L4 18.59l7.72-7.72 1.47 1.35L5.41 20z\"/>\n",
              "  </svg>\n",
              "      </button>\n",
              "\n",
              "\n",
              "\n",
              "    <div id=\"df-0e6e0d12-7a9e-43da-9e0d-21a161f6434c\">\n",
              "      <button class=\"colab-df-quickchart\" onclick=\"quickchart('df-0e6e0d12-7a9e-43da-9e0d-21a161f6434c')\"\n",
              "              title=\"Suggest charts.\"\n",
              "              style=\"display:none;\">\n",
              "\n",
              "<svg xmlns=\"http://www.w3.org/2000/svg\" height=\"24px\"viewBox=\"0 0 24 24\"\n",
              "     width=\"24px\">\n",
              "    <g>\n",
              "        <path d=\"M19 3H5c-1.1 0-2 .9-2 2v14c0 1.1.9 2 2 2h14c1.1 0 2-.9 2-2V5c0-1.1-.9-2-2-2zM9 17H7v-7h2v7zm4 0h-2V7h2v10zm4 0h-2v-4h2v4z\"/>\n",
              "    </g>\n",
              "</svg>\n",
              "      </button>\n",
              "    </div>\n",
              "\n",
              "<style>\n",
              "  .colab-df-quickchart {\n",
              "    background-color: #E8F0FE;\n",
              "    border: none;\n",
              "    border-radius: 50%;\n",
              "    cursor: pointer;\n",
              "    display: none;\n",
              "    fill: #1967D2;\n",
              "    height: 32px;\n",
              "    padding: 0 0 0 0;\n",
              "    width: 32px;\n",
              "  }\n",
              "\n",
              "  .colab-df-quickchart:hover {\n",
              "    background-color: #E2EBFA;\n",
              "    box-shadow: 0px 1px 2px rgba(60, 64, 67, 0.3), 0px 1px 3px 1px rgba(60, 64, 67, 0.15);\n",
              "    fill: #174EA6;\n",
              "  }\n",
              "\n",
              "  [theme=dark] .colab-df-quickchart {\n",
              "    background-color: #3B4455;\n",
              "    fill: #D2E3FC;\n",
              "  }\n",
              "\n",
              "  [theme=dark] .colab-df-quickchart:hover {\n",
              "    background-color: #434B5C;\n",
              "    box-shadow: 0px 1px 3px 1px rgba(0, 0, 0, 0.15);\n",
              "    filter: drop-shadow(0px 1px 2px rgba(0, 0, 0, 0.3));\n",
              "    fill: #FFFFFF;\n",
              "  }\n",
              "</style>\n",
              "\n",
              "    <script>\n",
              "      async function quickchart(key) {\n",
              "        const containerElement = document.querySelector('#' + key);\n",
              "        const charts = await google.colab.kernel.invokeFunction(\n",
              "            'suggestCharts', [key], {});\n",
              "      }\n",
              "    </script>\n",
              "\n",
              "      <script>\n",
              "\n",
              "function displayQuickchartButton(domScope) {\n",
              "  let quickchartButtonEl =\n",
              "    domScope.querySelector('#df-0e6e0d12-7a9e-43da-9e0d-21a161f6434c button.colab-df-quickchart');\n",
              "  quickchartButtonEl.style.display =\n",
              "    google.colab.kernel.accessAllowed ? 'block' : 'none';\n",
              "}\n",
              "\n",
              "        displayQuickchartButton(document);\n",
              "      </script>\n",
              "      <style>\n",
              "    .colab-df-container {\n",
              "      display:flex;\n",
              "      flex-wrap:wrap;\n",
              "      gap: 12px;\n",
              "    }\n",
              "\n",
              "    .colab-df-convert {\n",
              "      background-color: #E8F0FE;\n",
              "      border: none;\n",
              "      border-radius: 50%;\n",
              "      cursor: pointer;\n",
              "      display: none;\n",
              "      fill: #1967D2;\n",
              "      height: 32px;\n",
              "      padding: 0 0 0 0;\n",
              "      width: 32px;\n",
              "    }\n",
              "\n",
              "    .colab-df-convert:hover {\n",
              "      background-color: #E2EBFA;\n",
              "      box-shadow: 0px 1px 2px rgba(60, 64, 67, 0.3), 0px 1px 3px 1px rgba(60, 64, 67, 0.15);\n",
              "      fill: #174EA6;\n",
              "    }\n",
              "\n",
              "    [theme=dark] .colab-df-convert {\n",
              "      background-color: #3B4455;\n",
              "      fill: #D2E3FC;\n",
              "    }\n",
              "\n",
              "    [theme=dark] .colab-df-convert:hover {\n",
              "      background-color: #434B5C;\n",
              "      box-shadow: 0px 1px 3px 1px rgba(0, 0, 0, 0.15);\n",
              "      filter: drop-shadow(0px 1px 2px rgba(0, 0, 0, 0.3));\n",
              "      fill: #FFFFFF;\n",
              "    }\n",
              "  </style>\n",
              "\n",
              "      <script>\n",
              "        const buttonEl =\n",
              "          document.querySelector('#df-3261613a-c49d-4a31-9965-9730ec75df44 button.colab-df-convert');\n",
              "        buttonEl.style.display =\n",
              "          google.colab.kernel.accessAllowed ? 'block' : 'none';\n",
              "\n",
              "        async function convertToInteractive(key) {\n",
              "          const element = document.querySelector('#df-3261613a-c49d-4a31-9965-9730ec75df44');\n",
              "          const dataTable =\n",
              "            await google.colab.kernel.invokeFunction('convertToInteractive',\n",
              "                                                     [key], {});\n",
              "          if (!dataTable) return;\n",
              "\n",
              "          const docLinkHtml = 'Like what you see? Visit the ' +\n",
              "            '<a target=\"_blank\" href=https://colab.research.google.com/notebooks/data_table.ipynb>data table notebook</a>'\n",
              "            + ' to learn more about interactive tables.';\n",
              "          element.innerHTML = '';\n",
              "          dataTable['output_type'] = 'display_data';\n",
              "          await google.colab.output.renderOutput(dataTable, element);\n",
              "          const docLink = document.createElement('div');\n",
              "          docLink.innerHTML = docLinkHtml;\n",
              "          element.appendChild(docLink);\n",
              "        }\n",
              "      </script>\n",
              "    </div>\n",
              "  </div>\n"
            ]
          },
          "metadata": {},
          "execution_count": 5
        }
      ]
    },
    {
      "cell_type": "markdown",
      "source": [
        "<p align=\"justify\">\n",
        "Es una empresa de comercio electrónico con sede en la ciudad de Nueva York que vende ropa en línea, pero también tienen sesiones de asesoramiento sobre estilo y ropa en la tienda. Los clientes que vienen a la tienda, tienen sesiones/reuniones con un estilista personal, luego pueden ordenar a través de una aplicación móvil o sitio web la ropa que desean.\n",
        "<br>\n",
        "<br>\n",
        "Intentan identificar si debe enfocarse en mejorar su experiencia de aplicación movil o en su página web.\n",
        "<br>\n",
        "<br>\n",
        "Este es un conjunto de datos de los clientes de la empresa. El cual tiene información del cliente, como correo electrónico, dirección postal y su color de avatar. También tiene columnas de valores numéricos:\n",
        "\n",
        "* **Avg. Session Length**: duración promedio de sesiones de asesoramiento de estilo en la tienda.\n",
        "\n",
        "* **Time on App**: tiempo promedio de permanencia en la aplicación en minutos.\n",
        "\n",
        "* **Time on Website**: tiempo promedio de permanencia en el sitio web en minutos.\n",
        "\n",
        "* **Length of Membership**: cuántos años ha sido miembro el cliente.\n",
        "\n",
        "* **Yearly Amount Spent**: monto anual gastado en la plataforma.\n",
        "\n",
        "\n",
        "\n"
      ],
      "metadata": {
        "id": "x_uKB9hczk38"
      }
    },
    {
      "cell_type": "code",
      "source": [
        "datos.info()"
      ],
      "metadata": {
        "colab": {
          "base_uri": "https://localhost:8080/"
        },
        "id": "0RsmeDhgmnrx",
        "outputId": "be4b3693-8615-4c1f-9a3a-4e1d1644513c"
      },
      "execution_count": null,
      "outputs": [
        {
          "output_type": "stream",
          "name": "stdout",
          "text": [
            "<class 'pandas.core.frame.DataFrame'>\n",
            "RangeIndex: 500 entries, 0 to 499\n",
            "Data columns (total 8 columns):\n",
            " #   Column                Non-Null Count  Dtype  \n",
            "---  ------                --------------  -----  \n",
            " 0   Email                 500 non-null    object \n",
            " 1   Address               500 non-null    object \n",
            " 2   Avatar                500 non-null    object \n",
            " 3   Avg. Session Length   500 non-null    float64\n",
            " 4   Time on App           500 non-null    float64\n",
            " 5   Time on Website       500 non-null    float64\n",
            " 6   Length of Membership  500 non-null    float64\n",
            " 7   Yearly Amount Spent   500 non-null    float64\n",
            "dtypes: float64(5), object(3)\n",
            "memory usage: 31.4+ KB\n"
          ]
        }
      ]
    },
    {
      "cell_type": "markdown",
      "source": [
        "<p align=\"justify\">\n",
        "Con el método <code>drop()</code> de <code>Pandas</code> se eliminan las columnas del <code>DataFrame</code> que ya no son útiles. Descartamos <code>Avatar</code>, <code>Email</code> y <code>Address</code>."
      ],
      "metadata": {
        "id": "fPaUUhx5wuOj"
      }
    },
    {
      "cell_type": "code",
      "source": [
        "datos = datos.drop([\"Avatar\",\"Email\",\"Address\"], axis=1)"
      ],
      "metadata": {
        "id": "N6NjvOk3UMjN"
      },
      "execution_count": null,
      "outputs": []
    },
    {
      "cell_type": "markdown",
      "source": [
        "<p align=\"justify\">\n",
        "Se renombran las columnas para asignarles nombres más descriptivos y significativos. Es posible utilizar el método <code>rename()</code>."
      ],
      "metadata": {
        "id": "yNzjPBqoxTH-"
      }
    },
    {
      "cell_type": "code",
      "source": [
        "# Renombramos columnas:\n",
        "datos.rename(columns={\"Avg. Session Length\": \"Tiempo_sesión\",\n",
        "                      \"Time on App\":\"Tiempo_app\",\n",
        "                      \"Time on Website\":\"Tiempo_web\",\n",
        "                      \"Length of Membership\":\"Años_miembro\",\n",
        "                      \"Yearly Amount Spent\":\"Gasto_anual\"},inplace=True)"
      ],
      "metadata": {
        "id": "vF4_tuZ723Oj"
      },
      "execution_count": null,
      "outputs": []
    },
    {
      "cell_type": "code",
      "source": [
        "datos.head()"
      ],
      "metadata": {
        "colab": {
          "base_uri": "https://localhost:8080/",
          "height": 206
        },
        "id": "DaMepz7R23MR",
        "outputId": "f589d1be-4f0f-4ea1-f2c3-42eb7b2c08d9"
      },
      "execution_count": null,
      "outputs": [
        {
          "output_type": "execute_result",
          "data": {
            "text/plain": [
              "   Tiempo_sesión  Tiempo_app  Tiempo_web  Años_miembro  Gasto_anual\n",
              "0      34.497268   12.655651   39.577668      4.082621   587.951054\n",
              "1      31.926272   11.109461   37.268959      2.664034   392.204933\n",
              "2      33.000915   11.330278   37.110597      4.104543   487.547505\n",
              "3      34.305557   13.717514   36.721283      3.120179   581.852344\n",
              "4      33.330673   12.795189   37.536653      4.446308   599.406092"
            ],
            "text/html": [
              "\n",
              "\n",
              "  <div id=\"df-de6c51b8-dffa-44bc-a59f-af44ca0c9633\">\n",
              "    <div class=\"colab-df-container\">\n",
              "      <div>\n",
              "<style scoped>\n",
              "    .dataframe tbody tr th:only-of-type {\n",
              "        vertical-align: middle;\n",
              "    }\n",
              "\n",
              "    .dataframe tbody tr th {\n",
              "        vertical-align: top;\n",
              "    }\n",
              "\n",
              "    .dataframe thead th {\n",
              "        text-align: right;\n",
              "    }\n",
              "</style>\n",
              "<table border=\"1\" class=\"dataframe\">\n",
              "  <thead>\n",
              "    <tr style=\"text-align: right;\">\n",
              "      <th></th>\n",
              "      <th>Tiempo_sesión</th>\n",
              "      <th>Tiempo_app</th>\n",
              "      <th>Tiempo_web</th>\n",
              "      <th>Años_miembro</th>\n",
              "      <th>Gasto_anual</th>\n",
              "    </tr>\n",
              "  </thead>\n",
              "  <tbody>\n",
              "    <tr>\n",
              "      <th>0</th>\n",
              "      <td>34.497268</td>\n",
              "      <td>12.655651</td>\n",
              "      <td>39.577668</td>\n",
              "      <td>4.082621</td>\n",
              "      <td>587.951054</td>\n",
              "    </tr>\n",
              "    <tr>\n",
              "      <th>1</th>\n",
              "      <td>31.926272</td>\n",
              "      <td>11.109461</td>\n",
              "      <td>37.268959</td>\n",
              "      <td>2.664034</td>\n",
              "      <td>392.204933</td>\n",
              "    </tr>\n",
              "    <tr>\n",
              "      <th>2</th>\n",
              "      <td>33.000915</td>\n",
              "      <td>11.330278</td>\n",
              "      <td>37.110597</td>\n",
              "      <td>4.104543</td>\n",
              "      <td>487.547505</td>\n",
              "    </tr>\n",
              "    <tr>\n",
              "      <th>3</th>\n",
              "      <td>34.305557</td>\n",
              "      <td>13.717514</td>\n",
              "      <td>36.721283</td>\n",
              "      <td>3.120179</td>\n",
              "      <td>581.852344</td>\n",
              "    </tr>\n",
              "    <tr>\n",
              "      <th>4</th>\n",
              "      <td>33.330673</td>\n",
              "      <td>12.795189</td>\n",
              "      <td>37.536653</td>\n",
              "      <td>4.446308</td>\n",
              "      <td>599.406092</td>\n",
              "    </tr>\n",
              "  </tbody>\n",
              "</table>\n",
              "</div>\n",
              "      <button class=\"colab-df-convert\" onclick=\"convertToInteractive('df-de6c51b8-dffa-44bc-a59f-af44ca0c9633')\"\n",
              "              title=\"Convert this dataframe to an interactive table.\"\n",
              "              style=\"display:none;\">\n",
              "\n",
              "  <svg xmlns=\"http://www.w3.org/2000/svg\" height=\"24px\"viewBox=\"0 0 24 24\"\n",
              "       width=\"24px\">\n",
              "    <path d=\"M0 0h24v24H0V0z\" fill=\"none\"/>\n",
              "    <path d=\"M18.56 5.44l.94 2.06.94-2.06 2.06-.94-2.06-.94-.94-2.06-.94 2.06-2.06.94zm-11 1L8.5 8.5l.94-2.06 2.06-.94-2.06-.94L8.5 2.5l-.94 2.06-2.06.94zm10 10l.94 2.06.94-2.06 2.06-.94-2.06-.94-.94-2.06-.94 2.06-2.06.94z\"/><path d=\"M17.41 7.96l-1.37-1.37c-.4-.4-.92-.59-1.43-.59-.52 0-1.04.2-1.43.59L10.3 9.45l-7.72 7.72c-.78.78-.78 2.05 0 2.83L4 21.41c.39.39.9.59 1.41.59.51 0 1.02-.2 1.41-.59l7.78-7.78 2.81-2.81c.8-.78.8-2.07 0-2.86zM5.41 20L4 18.59l7.72-7.72 1.47 1.35L5.41 20z\"/>\n",
              "  </svg>\n",
              "      </button>\n",
              "\n",
              "\n",
              "\n",
              "    <div id=\"df-bdd632db-1b62-4286-960e-df8e317dfde7\">\n",
              "      <button class=\"colab-df-quickchart\" onclick=\"quickchart('df-bdd632db-1b62-4286-960e-df8e317dfde7')\"\n",
              "              title=\"Suggest charts.\"\n",
              "              style=\"display:none;\">\n",
              "\n",
              "<svg xmlns=\"http://www.w3.org/2000/svg\" height=\"24px\"viewBox=\"0 0 24 24\"\n",
              "     width=\"24px\">\n",
              "    <g>\n",
              "        <path d=\"M19 3H5c-1.1 0-2 .9-2 2v14c0 1.1.9 2 2 2h14c1.1 0 2-.9 2-2V5c0-1.1-.9-2-2-2zM9 17H7v-7h2v7zm4 0h-2V7h2v10zm4 0h-2v-4h2v4z\"/>\n",
              "    </g>\n",
              "</svg>\n",
              "      </button>\n",
              "    </div>\n",
              "\n",
              "<style>\n",
              "  .colab-df-quickchart {\n",
              "    background-color: #E8F0FE;\n",
              "    border: none;\n",
              "    border-radius: 50%;\n",
              "    cursor: pointer;\n",
              "    display: none;\n",
              "    fill: #1967D2;\n",
              "    height: 32px;\n",
              "    padding: 0 0 0 0;\n",
              "    width: 32px;\n",
              "  }\n",
              "\n",
              "  .colab-df-quickchart:hover {\n",
              "    background-color: #E2EBFA;\n",
              "    box-shadow: 0px 1px 2px rgba(60, 64, 67, 0.3), 0px 1px 3px 1px rgba(60, 64, 67, 0.15);\n",
              "    fill: #174EA6;\n",
              "  }\n",
              "\n",
              "  [theme=dark] .colab-df-quickchart {\n",
              "    background-color: #3B4455;\n",
              "    fill: #D2E3FC;\n",
              "  }\n",
              "\n",
              "  [theme=dark] .colab-df-quickchart:hover {\n",
              "    background-color: #434B5C;\n",
              "    box-shadow: 0px 1px 3px 1px rgba(0, 0, 0, 0.15);\n",
              "    filter: drop-shadow(0px 1px 2px rgba(0, 0, 0, 0.3));\n",
              "    fill: #FFFFFF;\n",
              "  }\n",
              "</style>\n",
              "\n",
              "    <script>\n",
              "      async function quickchart(key) {\n",
              "        const containerElement = document.querySelector('#' + key);\n",
              "        const charts = await google.colab.kernel.invokeFunction(\n",
              "            'suggestCharts', [key], {});\n",
              "      }\n",
              "    </script>\n",
              "\n",
              "      <script>\n",
              "\n",
              "function displayQuickchartButton(domScope) {\n",
              "  let quickchartButtonEl =\n",
              "    domScope.querySelector('#df-bdd632db-1b62-4286-960e-df8e317dfde7 button.colab-df-quickchart');\n",
              "  quickchartButtonEl.style.display =\n",
              "    google.colab.kernel.accessAllowed ? 'block' : 'none';\n",
              "}\n",
              "\n",
              "        displayQuickchartButton(document);\n",
              "      </script>\n",
              "      <style>\n",
              "    .colab-df-container {\n",
              "      display:flex;\n",
              "      flex-wrap:wrap;\n",
              "      gap: 12px;\n",
              "    }\n",
              "\n",
              "    .colab-df-convert {\n",
              "      background-color: #E8F0FE;\n",
              "      border: none;\n",
              "      border-radius: 50%;\n",
              "      cursor: pointer;\n",
              "      display: none;\n",
              "      fill: #1967D2;\n",
              "      height: 32px;\n",
              "      padding: 0 0 0 0;\n",
              "      width: 32px;\n",
              "    }\n",
              "\n",
              "    .colab-df-convert:hover {\n",
              "      background-color: #E2EBFA;\n",
              "      box-shadow: 0px 1px 2px rgba(60, 64, 67, 0.3), 0px 1px 3px 1px rgba(60, 64, 67, 0.15);\n",
              "      fill: #174EA6;\n",
              "    }\n",
              "\n",
              "    [theme=dark] .colab-df-convert {\n",
              "      background-color: #3B4455;\n",
              "      fill: #D2E3FC;\n",
              "    }\n",
              "\n",
              "    [theme=dark] .colab-df-convert:hover {\n",
              "      background-color: #434B5C;\n",
              "      box-shadow: 0px 1px 3px 1px rgba(0, 0, 0, 0.15);\n",
              "      filter: drop-shadow(0px 1px 2px rgba(0, 0, 0, 0.3));\n",
              "      fill: #FFFFFF;\n",
              "    }\n",
              "  </style>\n",
              "\n",
              "      <script>\n",
              "        const buttonEl =\n",
              "          document.querySelector('#df-de6c51b8-dffa-44bc-a59f-af44ca0c9633 button.colab-df-convert');\n",
              "        buttonEl.style.display =\n",
              "          google.colab.kernel.accessAllowed ? 'block' : 'none';\n",
              "\n",
              "        async function convertToInteractive(key) {\n",
              "          const element = document.querySelector('#df-de6c51b8-dffa-44bc-a59f-af44ca0c9633');\n",
              "          const dataTable =\n",
              "            await google.colab.kernel.invokeFunction('convertToInteractive',\n",
              "                                                     [key], {});\n",
              "          if (!dataTable) return;\n",
              "\n",
              "          const docLinkHtml = 'Like what you see? Visit the ' +\n",
              "            '<a target=\"_blank\" href=https://colab.research.google.com/notebooks/data_table.ipynb>data table notebook</a>'\n",
              "            + ' to learn more about interactive tables.';\n",
              "          element.innerHTML = '';\n",
              "          dataTable['output_type'] = 'display_data';\n",
              "          await google.colab.output.renderOutput(dataTable, element);\n",
              "          const docLink = document.createElement('div');\n",
              "          docLink.innerHTML = docLinkHtml;\n",
              "          element.appendChild(docLink);\n",
              "        }\n",
              "      </script>\n",
              "    </div>\n",
              "  </div>\n"
            ]
          },
          "metadata": {},
          "execution_count": 9
        }
      ]
    },
    {
      "cell_type": "markdown",
      "source": [
        " ## **<font color=\"DeepPink\">Separamos la variable objetivo y las variables explicativas</font>**"
      ],
      "metadata": {
        "id": "zgtfXztWb8Ab"
      }
    },
    {
      "cell_type": "code",
      "source": [
        "y = datos.Gasto_anual"
      ],
      "metadata": {
        "id": "e-Jetj2Fb9KI"
      },
      "execution_count": null,
      "outputs": []
    },
    {
      "cell_type": "code",
      "source": [
        "X = datos.drop(columns='Gasto_anual')\n",
        "X.head()"
      ],
      "metadata": {
        "colab": {
          "base_uri": "https://localhost:8080/",
          "height": 206
        },
        "id": "3c_ySgbvcO0w",
        "outputId": "d9a8ea3d-488f-4941-d7bd-7766350607cb"
      },
      "execution_count": null,
      "outputs": [
        {
          "output_type": "execute_result",
          "data": {
            "text/plain": [
              "   Tiempo_sesión  Tiempo_app  Tiempo_web  Años_miembro\n",
              "0      34.497268   12.655651   39.577668      4.082621\n",
              "1      31.926272   11.109461   37.268959      2.664034\n",
              "2      33.000915   11.330278   37.110597      4.104543\n",
              "3      34.305557   13.717514   36.721283      3.120179\n",
              "4      33.330673   12.795189   37.536653      4.446308"
            ],
            "text/html": [
              "\n",
              "\n",
              "  <div id=\"df-465ee6f1-0542-4392-9fb7-7f41f8d90717\">\n",
              "    <div class=\"colab-df-container\">\n",
              "      <div>\n",
              "<style scoped>\n",
              "    .dataframe tbody tr th:only-of-type {\n",
              "        vertical-align: middle;\n",
              "    }\n",
              "\n",
              "    .dataframe tbody tr th {\n",
              "        vertical-align: top;\n",
              "    }\n",
              "\n",
              "    .dataframe thead th {\n",
              "        text-align: right;\n",
              "    }\n",
              "</style>\n",
              "<table border=\"1\" class=\"dataframe\">\n",
              "  <thead>\n",
              "    <tr style=\"text-align: right;\">\n",
              "      <th></th>\n",
              "      <th>Tiempo_sesión</th>\n",
              "      <th>Tiempo_app</th>\n",
              "      <th>Tiempo_web</th>\n",
              "      <th>Años_miembro</th>\n",
              "    </tr>\n",
              "  </thead>\n",
              "  <tbody>\n",
              "    <tr>\n",
              "      <th>0</th>\n",
              "      <td>34.497268</td>\n",
              "      <td>12.655651</td>\n",
              "      <td>39.577668</td>\n",
              "      <td>4.082621</td>\n",
              "    </tr>\n",
              "    <tr>\n",
              "      <th>1</th>\n",
              "      <td>31.926272</td>\n",
              "      <td>11.109461</td>\n",
              "      <td>37.268959</td>\n",
              "      <td>2.664034</td>\n",
              "    </tr>\n",
              "    <tr>\n",
              "      <th>2</th>\n",
              "      <td>33.000915</td>\n",
              "      <td>11.330278</td>\n",
              "      <td>37.110597</td>\n",
              "      <td>4.104543</td>\n",
              "    </tr>\n",
              "    <tr>\n",
              "      <th>3</th>\n",
              "      <td>34.305557</td>\n",
              "      <td>13.717514</td>\n",
              "      <td>36.721283</td>\n",
              "      <td>3.120179</td>\n",
              "    </tr>\n",
              "    <tr>\n",
              "      <th>4</th>\n",
              "      <td>33.330673</td>\n",
              "      <td>12.795189</td>\n",
              "      <td>37.536653</td>\n",
              "      <td>4.446308</td>\n",
              "    </tr>\n",
              "  </tbody>\n",
              "</table>\n",
              "</div>\n",
              "      <button class=\"colab-df-convert\" onclick=\"convertToInteractive('df-465ee6f1-0542-4392-9fb7-7f41f8d90717')\"\n",
              "              title=\"Convert this dataframe to an interactive table.\"\n",
              "              style=\"display:none;\">\n",
              "\n",
              "  <svg xmlns=\"http://www.w3.org/2000/svg\" height=\"24px\"viewBox=\"0 0 24 24\"\n",
              "       width=\"24px\">\n",
              "    <path d=\"M0 0h24v24H0V0z\" fill=\"none\"/>\n",
              "    <path d=\"M18.56 5.44l.94 2.06.94-2.06 2.06-.94-2.06-.94-.94-2.06-.94 2.06-2.06.94zm-11 1L8.5 8.5l.94-2.06 2.06-.94-2.06-.94L8.5 2.5l-.94 2.06-2.06.94zm10 10l.94 2.06.94-2.06 2.06-.94-2.06-.94-.94-2.06-.94 2.06-2.06.94z\"/><path d=\"M17.41 7.96l-1.37-1.37c-.4-.4-.92-.59-1.43-.59-.52 0-1.04.2-1.43.59L10.3 9.45l-7.72 7.72c-.78.78-.78 2.05 0 2.83L4 21.41c.39.39.9.59 1.41.59.51 0 1.02-.2 1.41-.59l7.78-7.78 2.81-2.81c.8-.78.8-2.07 0-2.86zM5.41 20L4 18.59l7.72-7.72 1.47 1.35L5.41 20z\"/>\n",
              "  </svg>\n",
              "      </button>\n",
              "\n",
              "\n",
              "\n",
              "    <div id=\"df-4e813b1a-b939-4b9a-894a-094970d25672\">\n",
              "      <button class=\"colab-df-quickchart\" onclick=\"quickchart('df-4e813b1a-b939-4b9a-894a-094970d25672')\"\n",
              "              title=\"Suggest charts.\"\n",
              "              style=\"display:none;\">\n",
              "\n",
              "<svg xmlns=\"http://www.w3.org/2000/svg\" height=\"24px\"viewBox=\"0 0 24 24\"\n",
              "     width=\"24px\">\n",
              "    <g>\n",
              "        <path d=\"M19 3H5c-1.1 0-2 .9-2 2v14c0 1.1.9 2 2 2h14c1.1 0 2-.9 2-2V5c0-1.1-.9-2-2-2zM9 17H7v-7h2v7zm4 0h-2V7h2v10zm4 0h-2v-4h2v4z\"/>\n",
              "    </g>\n",
              "</svg>\n",
              "      </button>\n",
              "    </div>\n",
              "\n",
              "<style>\n",
              "  .colab-df-quickchart {\n",
              "    background-color: #E8F0FE;\n",
              "    border: none;\n",
              "    border-radius: 50%;\n",
              "    cursor: pointer;\n",
              "    display: none;\n",
              "    fill: #1967D2;\n",
              "    height: 32px;\n",
              "    padding: 0 0 0 0;\n",
              "    width: 32px;\n",
              "  }\n",
              "\n",
              "  .colab-df-quickchart:hover {\n",
              "    background-color: #E2EBFA;\n",
              "    box-shadow: 0px 1px 2px rgba(60, 64, 67, 0.3), 0px 1px 3px 1px rgba(60, 64, 67, 0.15);\n",
              "    fill: #174EA6;\n",
              "  }\n",
              "\n",
              "  [theme=dark] .colab-df-quickchart {\n",
              "    background-color: #3B4455;\n",
              "    fill: #D2E3FC;\n",
              "  }\n",
              "\n",
              "  [theme=dark] .colab-df-quickchart:hover {\n",
              "    background-color: #434B5C;\n",
              "    box-shadow: 0px 1px 3px 1px rgba(0, 0, 0, 0.15);\n",
              "    filter: drop-shadow(0px 1px 2px rgba(0, 0, 0, 0.3));\n",
              "    fill: #FFFFFF;\n",
              "  }\n",
              "</style>\n",
              "\n",
              "    <script>\n",
              "      async function quickchart(key) {\n",
              "        const containerElement = document.querySelector('#' + key);\n",
              "        const charts = await google.colab.kernel.invokeFunction(\n",
              "            'suggestCharts', [key], {});\n",
              "      }\n",
              "    </script>\n",
              "\n",
              "      <script>\n",
              "\n",
              "function displayQuickchartButton(domScope) {\n",
              "  let quickchartButtonEl =\n",
              "    domScope.querySelector('#df-4e813b1a-b939-4b9a-894a-094970d25672 button.colab-df-quickchart');\n",
              "  quickchartButtonEl.style.display =\n",
              "    google.colab.kernel.accessAllowed ? 'block' : 'none';\n",
              "}\n",
              "\n",
              "        displayQuickchartButton(document);\n",
              "      </script>\n",
              "      <style>\n",
              "    .colab-df-container {\n",
              "      display:flex;\n",
              "      flex-wrap:wrap;\n",
              "      gap: 12px;\n",
              "    }\n",
              "\n",
              "    .colab-df-convert {\n",
              "      background-color: #E8F0FE;\n",
              "      border: none;\n",
              "      border-radius: 50%;\n",
              "      cursor: pointer;\n",
              "      display: none;\n",
              "      fill: #1967D2;\n",
              "      height: 32px;\n",
              "      padding: 0 0 0 0;\n",
              "      width: 32px;\n",
              "    }\n",
              "\n",
              "    .colab-df-convert:hover {\n",
              "      background-color: #E2EBFA;\n",
              "      box-shadow: 0px 1px 2px rgba(60, 64, 67, 0.3), 0px 1px 3px 1px rgba(60, 64, 67, 0.15);\n",
              "      fill: #174EA6;\n",
              "    }\n",
              "\n",
              "    [theme=dark] .colab-df-convert {\n",
              "      background-color: #3B4455;\n",
              "      fill: #D2E3FC;\n",
              "    }\n",
              "\n",
              "    [theme=dark] .colab-df-convert:hover {\n",
              "      background-color: #434B5C;\n",
              "      box-shadow: 0px 1px 3px 1px rgba(0, 0, 0, 0.15);\n",
              "      filter: drop-shadow(0px 1px 2px rgba(0, 0, 0, 0.3));\n",
              "      fill: #FFFFFF;\n",
              "    }\n",
              "  </style>\n",
              "\n",
              "      <script>\n",
              "        const buttonEl =\n",
              "          document.querySelector('#df-465ee6f1-0542-4392-9fb7-7f41f8d90717 button.colab-df-convert');\n",
              "        buttonEl.style.display =\n",
              "          google.colab.kernel.accessAllowed ? 'block' : 'none';\n",
              "\n",
              "        async function convertToInteractive(key) {\n",
              "          const element = document.querySelector('#df-465ee6f1-0542-4392-9fb7-7f41f8d90717');\n",
              "          const dataTable =\n",
              "            await google.colab.kernel.invokeFunction('convertToInteractive',\n",
              "                                                     [key], {});\n",
              "          if (!dataTable) return;\n",
              "\n",
              "          const docLinkHtml = 'Like what you see? Visit the ' +\n",
              "            '<a target=\"_blank\" href=https://colab.research.google.com/notebooks/data_table.ipynb>data table notebook</a>'\n",
              "            + ' to learn more about interactive tables.';\n",
              "          element.innerHTML = '';\n",
              "          dataTable['output_type'] = 'display_data';\n",
              "          await google.colab.output.renderOutput(dataTable, element);\n",
              "          const docLink = document.createElement('div');\n",
              "          docLink.innerHTML = docLinkHtml;\n",
              "          element.appendChild(docLink);\n",
              "        }\n",
              "      </script>\n",
              "    </div>\n",
              "  </div>\n"
            ]
          },
          "metadata": {},
          "execution_count": 11
        }
      ]
    },
    {
      "cell_type": "markdown",
      "source": [
        " ## **<font color=\"DeepPink\">Conjunto de entrenamiento y conjunto de prueba</font>**"
      ],
      "metadata": {
        "id": "BdBLsBA_cWju"
      }
    },
    {
      "cell_type": "markdown",
      "source": [
        "👀 Dividimos en conjunto de entrenamiento y prueba"
      ],
      "metadata": {
        "id": "IgLslgzZcXrs"
      }
    },
    {
      "cell_type": "code",
      "source": [
        "from sklearn.model_selection import train_test_split"
      ],
      "metadata": {
        "id": "oQO0-VUlcb0w"
      },
      "execution_count": null,
      "outputs": []
    },
    {
      "cell_type": "code",
      "source": [
        "X_train, X_test, y_train, y_test = train_test_split(X, y, random_state=42)"
      ],
      "metadata": {
        "id": "aKwVqic1cek0"
      },
      "execution_count": null,
      "outputs": []
    },
    {
      "cell_type": "markdown",
      "source": [
        " # **<font color=\"DeepPink\">Gradient Boosting para regresión</font>**"
      ],
      "metadata": {
        "id": "DuJLmUHd066O"
      }
    },
    {
      "cell_type": "markdown",
      "source": [
        " ## **<font color=\"DeepPink\">Creación y ajuste del modelo</font>**"
      ],
      "metadata": {
        "id": "cj-yaSVv2k_B"
      }
    },
    {
      "cell_type": "markdown",
      "source": [
        "<p align=\"justify\">\n",
        "Se ajusta un modelo empleando como variable respuesta <code>Gasto_anual</code> y como variables predictoras todas las otras variables disponibles.\n",
        "<br><br>\n",
        "La clase <code>GradientBoostingRegressor</code> del módulo <code>ensemble</code> permite entrenar modelos Gradient Boosting para problemas de regresión.\n",
        "Puede encontrarse una descripción detallada de todos los hiperparámetros en <a href=\"https://scikit-learn.org/stable/modules/generated/sklearn.ensemble.GradientBoostingRegressor.html\"> sklearn.ensemble.GradientBoostingRegressor</a>. En la práctica, cabe prestar especial atención a aquellos que controlan el crecimiento de los árboles, la velocidad de aprendizaje del modelo, y los que gestionan la parada temprana para evitar overfitting:\n",
        "<ul align=\"justify\">\n",
        "<li><code>learning_rate</code>: es el porcentaje de cambio con el que se actualizan los coeficientes de pesos en cada iteración. Es decir, cada vez que se realiza una iteración en el proceso de entrenamiento se actualizan los pesos de las variables explicativas para dar cada vez una mejor aproximación.\n",
        "<br>\n",
        "<li><code>n_estimators</code>: es el número de árboles incluidos en el modelo.\n",
        "<br>\n",
        "<li><code>max_depth</code>: es la profundidad máxima que pueden alcanzar los árboles.\n",
        "<br>\n",
        "<li><code>min_samples_split</code>: es el número mínimo de muestras o datos que debe de tener un nodo para que pueda dividirse.\n",
        "<br>\n",
        "<li><code>min_samples_leaf</code>: es el número mínimo de muestras requeridas en un nodo hoja.\n",
        "<br>\n",
        "<li><code>max_leaf_nodes</code>: es el número máximo de nodos hoja para cada árbol.\n",
        "<br>\n",
        "<li><code>max_features</code>: es el número de variables predictoras consideradas en cada división.\n",
        "<br>\n",
        "<li><code>tol</code>: es el porcentaje mínimo de mejora entre dos iteraciones consecutivas por debajo del cual se considera que el modelo no ha mejorado.\n",
        "<br>\n",
        "<li><code>validation_fraction</code>: proporción de datos separados del conjunto entrenamiento y empleados como conjunto de validación para determinar la parada temprana (early stopping).\n",
        "<br>\n",
        "<li><code>n_iter_no_change</code>: número de iteraciones consecutivas en las que no se debe superar el tol para que el algoritmo se detenga (early stopping). Si su valor es None se desactiva la parada temprana.\n",
        "<br>\n",
        "<li><code>random_state</code>: semilla para que los resultados sean reproducibles. Tiene que ser un valor entero."
      ],
      "metadata": {
        "id": "FumHrnlV23FN"
      }
    },
    {
      "cell_type": "code",
      "source": [
        "from sklearn.ensemble import GradientBoostingRegressor"
      ],
      "metadata": {
        "id": "80xAcbF4iJ60"
      },
      "execution_count": null,
      "outputs": []
    },
    {
      "cell_type": "markdown",
      "source": [
        "<p align=\"justify\">\n",
        "Se crea un modelo de Gradient Boosting para regresión utilizando la biblioteca  <code>sklearn</code>. El hiperparámetro <code>n_estimators = 10</code> indica que el modelo tendrá 10 árboles de decisión."
      ],
      "metadata": {
        "id": "cF08w7OW4LZ8"
      }
    },
    {
      "cell_type": "code",
      "source": [
        "model_GBR = GradientBoostingRegressor(\n",
        "            n_estimators = 10,\n",
        "            random_state = 123,\n",
        "            )"
      ],
      "metadata": {
        "id": "SG0UyeiqiJ3z"
      },
      "execution_count": null,
      "outputs": []
    },
    {
      "cell_type": "markdown",
      "source": [
        "<p align=\"justify\">\n",
        "Una vez creado el modelo, se ajusta con los datos de entrenamiento: <code>X_train</code> (variables explicativas) e <code>y_train</code> (variable objetivo)."
      ],
      "metadata": {
        "id": "xb00peJw5ZgB"
      }
    },
    {
      "cell_type": "code",
      "source": [
        "model_GBR.fit(X_train, y_train)"
      ],
      "metadata": {
        "id": "GWyGNzSliJ0s",
        "colab": {
          "base_uri": "https://localhost:8080/",
          "height": 75
        },
        "outputId": "1df0ee18-f5fc-4a95-a960-1c3575ced948"
      },
      "execution_count": null,
      "outputs": [
        {
          "output_type": "execute_result",
          "data": {
            "text/plain": [
              "GradientBoostingRegressor(n_estimators=10, random_state=123)"
            ],
            "text/html": [
              "<style>#sk-container-id-1 {color: black;background-color: white;}#sk-container-id-1 pre{padding: 0;}#sk-container-id-1 div.sk-toggleable {background-color: white;}#sk-container-id-1 label.sk-toggleable__label {cursor: pointer;display: block;width: 100%;margin-bottom: 0;padding: 0.3em;box-sizing: border-box;text-align: center;}#sk-container-id-1 label.sk-toggleable__label-arrow:before {content: \"▸\";float: left;margin-right: 0.25em;color: #696969;}#sk-container-id-1 label.sk-toggleable__label-arrow:hover:before {color: black;}#sk-container-id-1 div.sk-estimator:hover label.sk-toggleable__label-arrow:before {color: black;}#sk-container-id-1 div.sk-toggleable__content {max-height: 0;max-width: 0;overflow: hidden;text-align: left;background-color: #f0f8ff;}#sk-container-id-1 div.sk-toggleable__content pre {margin: 0.2em;color: black;border-radius: 0.25em;background-color: #f0f8ff;}#sk-container-id-1 input.sk-toggleable__control:checked~div.sk-toggleable__content {max-height: 200px;max-width: 100%;overflow: auto;}#sk-container-id-1 input.sk-toggleable__control:checked~label.sk-toggleable__label-arrow:before {content: \"▾\";}#sk-container-id-1 div.sk-estimator input.sk-toggleable__control:checked~label.sk-toggleable__label {background-color: #d4ebff;}#sk-container-id-1 div.sk-label input.sk-toggleable__control:checked~label.sk-toggleable__label {background-color: #d4ebff;}#sk-container-id-1 input.sk-hidden--visually {border: 0;clip: rect(1px 1px 1px 1px);clip: rect(1px, 1px, 1px, 1px);height: 1px;margin: -1px;overflow: hidden;padding: 0;position: absolute;width: 1px;}#sk-container-id-1 div.sk-estimator {font-family: monospace;background-color: #f0f8ff;border: 1px dotted black;border-radius: 0.25em;box-sizing: border-box;margin-bottom: 0.5em;}#sk-container-id-1 div.sk-estimator:hover {background-color: #d4ebff;}#sk-container-id-1 div.sk-parallel-item::after {content: \"\";width: 100%;border-bottom: 1px solid gray;flex-grow: 1;}#sk-container-id-1 div.sk-label:hover label.sk-toggleable__label {background-color: #d4ebff;}#sk-container-id-1 div.sk-serial::before {content: \"\";position: absolute;border-left: 1px solid gray;box-sizing: border-box;top: 0;bottom: 0;left: 50%;z-index: 0;}#sk-container-id-1 div.sk-serial {display: flex;flex-direction: column;align-items: center;background-color: white;padding-right: 0.2em;padding-left: 0.2em;position: relative;}#sk-container-id-1 div.sk-item {position: relative;z-index: 1;}#sk-container-id-1 div.sk-parallel {display: flex;align-items: stretch;justify-content: center;background-color: white;position: relative;}#sk-container-id-1 div.sk-item::before, #sk-container-id-1 div.sk-parallel-item::before {content: \"\";position: absolute;border-left: 1px solid gray;box-sizing: border-box;top: 0;bottom: 0;left: 50%;z-index: -1;}#sk-container-id-1 div.sk-parallel-item {display: flex;flex-direction: column;z-index: 1;position: relative;background-color: white;}#sk-container-id-1 div.sk-parallel-item:first-child::after {align-self: flex-end;width: 50%;}#sk-container-id-1 div.sk-parallel-item:last-child::after {align-self: flex-start;width: 50%;}#sk-container-id-1 div.sk-parallel-item:only-child::after {width: 0;}#sk-container-id-1 div.sk-dashed-wrapped {border: 1px dashed gray;margin: 0 0.4em 0.5em 0.4em;box-sizing: border-box;padding-bottom: 0.4em;background-color: white;}#sk-container-id-1 div.sk-label label {font-family: monospace;font-weight: bold;display: inline-block;line-height: 1.2em;}#sk-container-id-1 div.sk-label-container {text-align: center;}#sk-container-id-1 div.sk-container {/* jupyter's `normalize.less` sets `[hidden] { display: none; }` but bootstrap.min.css set `[hidden] { display: none !important; }` so we also need the `!important` here to be able to override the default hidden behavior on the sphinx rendered scikit-learn.org. See: https://github.com/scikit-learn/scikit-learn/issues/21755 */display: inline-block !important;position: relative;}#sk-container-id-1 div.sk-text-repr-fallback {display: none;}</style><div id=\"sk-container-id-1\" class=\"sk-top-container\"><div class=\"sk-text-repr-fallback\"><pre>GradientBoostingRegressor(n_estimators=10, random_state=123)</pre><b>In a Jupyter environment, please rerun this cell to show the HTML representation or trust the notebook. <br />On GitHub, the HTML representation is unable to render, please try loading this page with nbviewer.org.</b></div><div class=\"sk-container\" hidden><div class=\"sk-item\"><div class=\"sk-estimator sk-toggleable\"><input class=\"sk-toggleable__control sk-hidden--visually\" id=\"sk-estimator-id-1\" type=\"checkbox\" checked><label for=\"sk-estimator-id-1\" class=\"sk-toggleable__label sk-toggleable__label-arrow\">GradientBoostingRegressor</label><div class=\"sk-toggleable__content\"><pre>GradientBoostingRegressor(n_estimators=10, random_state=123)</pre></div></div></div></div></div>"
            ]
          },
          "metadata": {},
          "execution_count": 16
        }
      ]
    },
    {
      "cell_type": "markdown",
      "source": [
        " ## **<font color=\"DeepPink\">Predicción y evaluación del modelo</font>**"
      ],
      "metadata": {
        "id": "QIUPV00dg6L_"
      }
    },
    {
      "cell_type": "markdown",
      "source": [
        "<p align=\"justify\">\n",
        "Después de entrenar el modelo, se realizan las predicciones sobre nuevos datos (<code>X_test</code>)."
      ],
      "metadata": {
        "id": "22eejseS6Seo"
      }
    },
    {
      "cell_type": "code",
      "source": [
        "prediction = model_GBR.predict(X_test)\n",
        "prediction[:10]"
      ],
      "metadata": {
        "colab": {
          "base_uri": "https://localhost:8080/"
        },
        "id": "qk2GcOP3hLh9",
        "outputId": "755ae8ca-8281-488b-b3f6-6abaf2a3e409"
      },
      "execution_count": null,
      "outputs": [
        {
          "output_type": "execute_result",
          "data": {
            "text/plain": [
              "array([468.71086828, 519.02246474, 504.91080311, 499.07152535,\n",
              "       468.71086828, 524.14241589, 499.34515578, 509.66171487,\n",
              "       451.12046008, 499.20411396])"
            ]
          },
          "metadata": {},
          "execution_count": 17
        }
      ]
    },
    {
      "cell_type": "markdown",
      "source": [
        "<p align=\"justify\">\n",
        "Por último, se evalua el rendimiento del modelo usando la métrica del Error Absoluto Medio (Mean Absolute Error o MAE). El MAE calcula las diferencias en valores absolutos entre las etiquetas reales (<code>y_test</code>) y las predicciones realizadas por el modelo (<code>prediction</code>).\n"
      ],
      "metadata": {
        "id": "gXmNNkJg7JWm"
      }
    },
    {
      "cell_type": "code",
      "source": [
        "from sklearn.metrics import mean_absolute_error\n",
        "MAE = round(mean_absolute_error(y_test, prediction),2)\n",
        "print(\"MAE: {}\".format(MAE))\n"
      ],
      "metadata": {
        "colab": {
          "base_uri": "https://localhost:8080/"
        },
        "id": "qtMBDHrohGV-",
        "outputId": "b6253926-fe7a-433b-de8a-e6295636b544"
      },
      "execution_count": null,
      "outputs": [
        {
          "output_type": "stream",
          "name": "stdout",
          "text": [
            "MAE: 29.97\n"
          ]
        }
      ]
    },
    {
      "cell_type": "markdown",
      "source": [
        "<p align=\"justify\">\n",
        "Un <b>MAE</b> de 29.97 significa que, en promedio, las predicciones del modelo difieren en aproximadamente 29.97 dólares anuales de los valores reales."
      ],
      "metadata": {
        "id": "Ea8w-nL29B3R"
      }
    },
    {
      "cell_type": "markdown",
      "source": [
        " ## **<font color=\"DeepPink\">Optimización de hiperparámetros</font>**"
      ],
      "metadata": {
        "id": "wamM4_6ij2pE"
      }
    },
    {
      "cell_type": "markdown",
      "source": [
        "<p align=\"justify\">\n",
        "El modelo inicial se ha entrenado utilizando 10 árboles (<code>n_estimators=10</code>) manteniendo el resto de hiperparámetros con su valor por defecto. Al ser hiperparámetros, no se puede saber de antemano cuál es el valor más adecuado.\n",
        "<br><br>\n",
        "A continuación se busca encontrar el valor óptimo de uno o más hiperparámetros para mejorar el rendimiento del modelo. Pero antes repasemos los conceptos de conjunto de <b>entrenamiento</b>, <b>validación</b> y <b>prueba</b> utilizando el siguiente gráfico:"
      ],
      "metadata": {
        "id": "jDxQ5X9Yj-ry"
      }
    },
    {
      "cell_type": "markdown",
      "source": [
        "<p align=\"justify\">\n"
      ],
      "metadata": {
        "id": "TUT05IdeHqzs"
      }
    },
    {
      "cell_type": "markdown",
      "source": [
        "<p align=\"center\">\n",
        "<img src=\"https://scikit-learn.org/stable/_images/grid_search_cross_validation.png\" width=\"500\">\n",
        "</p>\n"
      ],
      "metadata": {
        "id": "PDqAYANXF2RJ"
      }
    },
    {
      "cell_type": "markdown",
      "source": [
        "<ul align=\"justify\">\n",
        "<li><b>Conjunto de entrenamiento</b>: es el conjunto más grande de datos y se utiliza para entrenar el modelo. El modelo aprende a partir de los patrones y relaciones presentes en estos datos.\n",
        "<br><br>\n",
        "<li><b>Conjunto de validación</b>: se utiliza durante el proceso de ajuste de hiperparámetros y la selección del mejor modelo.\n",
        "<br><br>\n",
        "<li><b>Conjunto de prueba</b>: una vez que se ha seleccionado el modelo final y se han ajustado los hiperparámetros, se evalúa el rendimiento del modelo en el conjunto de prueba."
      ],
      "metadata": {
        "id": "AK06P2srIKel"
      }
    },
    {
      "cell_type": "markdown",
      "source": [
        " ### **<font color=\"DeepPink\">1. Número de árboles</font>**"
      ],
      "metadata": {
        "id": "0vW2UzEMlAdf"
      }
    },
    {
      "cell_type": "markdown",
      "source": [
        "<p align=\"justify\">\n",
        "En Gradient Boosting, el número de árboles (<code>n_estimators</code>) es un hiperparámetro crítico en cuanto que, conforme se añaden árboles, se incrementa el riesgo de <i>overfitting</i>."
      ],
      "metadata": {
        "id": "5g8yg83Q2wd3"
      }
    },
    {
      "cell_type": "code",
      "source": [
        "# Validación empleando k-cross-validation y neg_mean_absolute_error\n",
        "train_scores = []\n",
        "val_scores = []\n",
        "\n",
        "# Valores evaluados\n",
        "estimator_range = range(1, 500, 25)"
      ],
      "metadata": {
        "id": "tr1fVVrO55wL"
      },
      "execution_count": null,
      "outputs": []
    },
    {
      "cell_type": "code",
      "source": [
        "from sklearn.model_selection import cross_val_score\n",
        "\n",
        "# Bucle para entrenar un modelo con cada valor de n_estimators y extraer su error de entrenamiento y de validación.\n",
        "for n_estimator in estimator_range:\n",
        "\n",
        "    model_GBR = GradientBoostingRegressor(\n",
        "                n_estimators = n_estimator,\n",
        "                random_state = 123,\n",
        "                )\n",
        "\n",
        "    # Error de entrenamiento\n",
        "    model_GBR.fit(X_train, y_train)\n",
        "    prediction = model_GBR.predict(X_train)\n",
        "    mae = mean_absolute_error(y_true  = y_train,\n",
        "                              y_pred  = prediction)\n",
        "    train_scores.append(mae)\n",
        "\n",
        "    # Error de validación\n",
        "    scores = cross_val_score(estimator = model_GBR,\n",
        "                             X         = X_train,\n",
        "                             y         = y_train,\n",
        "                             scoring   = 'neg_mean_absolute_error')\n",
        "    val_scores.append(-1 * scores.mean())                                       # Se agregan los scores de cross_val_score() y se pasa a positivo"
      ],
      "metadata": {
        "id": "tNh8EctXiXM_"
      },
      "execution_count": null,
      "outputs": []
    },
    {
      "cell_type": "code",
      "source": [
        "fig = go.Figure()\n",
        "\n",
        "fig.add_trace(go.Scatter(x = list(estimator_range),\n",
        "                         y = train_scores,\n",
        "                         name = 'Train scores'))\n",
        "\n",
        "fig.add_trace(go.Scatter(x = list(estimator_range),\n",
        "                         y = val_scores,\n",
        "                         name = 'Validation scores'))\n",
        "\n",
        "fig.update_layout(template=\"gridon\",\n",
        "                  title_text=\"Evolución de los errores según el número árboles\",\n",
        "                  xaxis_title='Número de árboles',\n",
        "                  yaxis_title='Mean Absolute Error')\n",
        "\n",
        "fig.show()"
      ],
      "metadata": {
        "colab": {
          "base_uri": "https://localhost:8080/",
          "height": 542
        },
        "id": "R7OkqmUH96Sq",
        "outputId": "6dd7c1b1-fcd0-4d91-cfdf-1e84cc27f531"
      },
      "execution_count": null,
      "outputs": [
        {
          "output_type": "display_data",
          "data": {
            "text/html": [
              "<html>\n",
              "<head><meta charset=\"utf-8\" /></head>\n",
              "<body>\n",
              "    <div>            <script src=\"https://cdnjs.cloudflare.com/ajax/libs/mathjax/2.7.5/MathJax.js?config=TeX-AMS-MML_SVG\"></script><script type=\"text/javascript\">if (window.MathJax && window.MathJax.Hub && window.MathJax.Hub.Config) {window.MathJax.Hub.Config({SVG: {font: \"STIX-Web\"}});}</script>                <script type=\"text/javascript\">window.PlotlyConfig = {MathJaxConfig: 'local'};</script>\n",
              "        <script src=\"https://cdn.plot.ly/plotly-2.18.2.min.js\"></script>                <div id=\"5a4deda6-29f7-4294-acbc-a58445bb5f79\" class=\"plotly-graph-div\" style=\"height:525px; width:100%;\"></div>            <script type=\"text/javascript\">                                    window.PLOTLYENV=window.PLOTLYENV || {};                                    if (document.getElementById(\"5a4deda6-29f7-4294-acbc-a58445bb5f79\")) {                    Plotly.newPlot(                        \"5a4deda6-29f7-4294-acbc-a58445bb5f79\",                        [{\"name\":\"Train scores\",\"x\":[1,26,51,76,101,126,151,176,201,226,251,276,301,326,351,376,401,426,451,476],\"y\":[58.534035345699195,13.60841158733759,7.097356656919333,5.8537903756988525,5.307420631506708,4.765420434186504,4.268798958453192,3.9022543773852583,3.5519492961103913,3.213971480231144,2.9188258929243376,2.6666853679134372,2.4312893269135443,2.246908225500174,2.040906791631776,1.8730656036995155,1.729690128578981,1.6009203631694557,1.4804069592407356,1.366768555329593],\"type\":\"scatter\"},{\"name\":\"Validation scores\",\"x\":[1,26,51,76,101,126,151,176,201,226,251,276,301,326,351,376,401,426,451,476],\"y\":[58.944576971370736,18.95737307234194,13.261095381009739,12.475084015589596,12.412747720788062,12.404377282152861,12.393148450549521,12.436053165476576,12.446105371373609,12.447677796558356,12.465969468735127,12.481912004562528,12.494875588906584,12.528611692024345,12.543278106180317,12.573469559543076,12.569542947703201,12.5762467887276,12.57125711607742,12.575982592092581],\"type\":\"scatter\"}],                        {\"template\":{\"data\":{\"pie\":[{\"automargin\":true,\"type\":\"pie\"}]},\"layout\":{\"xaxis\":{\"showgrid\":true,\"title\":{\"standoff\":15}},\"yaxis\":{\"showgrid\":true,\"title\":{\"standoff\":15}}}},\"title\":{\"text\":\"Evoluci\\u00f3n de los errores seg\\u00fan el n\\u00famero \\u00e1rboles\"},\"xaxis\":{\"title\":{\"text\":\"N\\u00famero de \\u00e1rboles\"}},\"yaxis\":{\"title\":{\"text\":\"Mean Absolute Error\"}}},                        {\"responsive\": true}                    ).then(function(){\n",
              "                            \n",
              "var gd = document.getElementById('5a4deda6-29f7-4294-acbc-a58445bb5f79');\n",
              "var x = new MutationObserver(function (mutations, observer) {{\n",
              "        var display = window.getComputedStyle(gd).display;\n",
              "        if (!display || display === 'none') {{\n",
              "            console.log([gd, 'removed!']);\n",
              "            Plotly.purge(gd);\n",
              "            observer.disconnect();\n",
              "        }}\n",
              "}});\n",
              "\n",
              "// Listen for the removal of the full notebook cells\n",
              "var notebookContainer = gd.closest('#notebook-container');\n",
              "if (notebookContainer) {{\n",
              "    x.observe(notebookContainer, {childList: true});\n",
              "}}\n",
              "\n",
              "// Listen for the clearing of the current output cell\n",
              "var outputEl = gd.closest('.output');\n",
              "if (outputEl) {{\n",
              "    x.observe(outputEl, {childList: true});\n",
              "}}\n",
              "\n",
              "                        })                };                            </script>        </div>\n",
              "</body>\n",
              "</html>"
            ]
          },
          "metadata": {}
        }
      ]
    },
    {
      "cell_type": "markdown",
      "source": [
        "Según los valores del error de validación, a partir de los 51 árboles, el error del modelo se estabiliza."
      ],
      "metadata": {
        "id": "dGnA7s96CGqa"
      }
    },
    {
      "cell_type": "markdown",
      "source": [
        " ### **<font color=\"DeepPink\">2. Profundidad de los árboles</font>**"
      ],
      "metadata": {
        "id": "zED3rUlrDOXu"
      }
    },
    {
      "cell_type": "markdown",
      "source": [
        "<p align=\"justify\">\n",
        "La profundidad de los árboles (<code>max_depth</code>) en los modelos Gradient Boosting suele ser un valor muy bajo, haciendo así que cada árbol solo pueda aprender un pequeña parte de la relación entre las variables predictoras y la variable respuesta."
      ],
      "metadata": {
        "id": "i2KOpo1TDM-Y"
      }
    },
    {
      "cell_type": "code",
      "source": [
        "# Validación empleando k-cross-validation y neg_mean_absolute_error\n",
        "train_scores = []\n",
        "val_scores = []\n",
        "\n",
        "# Valores evaluados\n",
        "max_depths = [1, 3, 5, 10, 20]\n",
        "\n",
        "# Bucle para entrenar un modelo con cada valor de n_estimators y extraer su error de entrenamiento y de prueba.\n",
        "for max_depth in max_depths:\n",
        "\n",
        "    model_GBR = GradientBoostingRegressor(\n",
        "                n_estimators = 51,\n",
        "                max_depth    = max_depth,\n",
        "                random_state = 123,\n",
        "                )\n",
        "\n",
        "    # Error de entrenamiento\n",
        "    model_GBR.fit(X_train, y_train)\n",
        "    predictions = model_GBR.predict(X_train)\n",
        "    mae = mean_absolute_error(y_true  = y_train,\n",
        "                              y_pred  = predictions)\n",
        "    train_scores.append(mae)\n",
        "\n",
        "    # Error de validación\n",
        "    scores = cross_val_score(estimator = model_GBR,\n",
        "                             X         = X_train,\n",
        "                             y         = y_train,\n",
        "                             scoring   = 'neg_mean_absolute_error')\n",
        "    val_scores.append(-1 * scores.mean())"
      ],
      "metadata": {
        "id": "-puqWsf77MkM"
      },
      "execution_count": null,
      "outputs": []
    },
    {
      "cell_type": "code",
      "source": [
        "fig = go.Figure()\n",
        "\n",
        "fig.add_trace(go.Scatter(x = max_depths,\n",
        "                         y = train_scores,\n",
        "                         name = 'Train scores'))\n",
        "\n",
        "fig.add_trace(go.Scatter(x = max_depths,\n",
        "                         y = val_scores,\n",
        "                         name = 'Validation scores'))\n",
        "\n",
        "fig.update_layout(template=\"gridon\",\n",
        "                  title_text=\"Evolución de los errores según el número árboles\",\n",
        "                  xaxis_title='Número de árboles',\n",
        "                  yaxis_title='Mean Absolute Error')\n",
        "\n",
        "fig.show()"
      ],
      "metadata": {
        "colab": {
          "base_uri": "https://localhost:8080/",
          "height": 542
        },
        "id": "rBQtW_bK7Mcf",
        "outputId": "01697258-1b21-4142-8e10-97506de72830"
      },
      "execution_count": null,
      "outputs": [
        {
          "output_type": "display_data",
          "data": {
            "text/html": [
              "<html>\n",
              "<head><meta charset=\"utf-8\" /></head>\n",
              "<body>\n",
              "    <div>            <script src=\"https://cdnjs.cloudflare.com/ajax/libs/mathjax/2.7.5/MathJax.js?config=TeX-AMS-MML_SVG\"></script><script type=\"text/javascript\">if (window.MathJax && window.MathJax.Hub && window.MathJax.Hub.Config) {window.MathJax.Hub.Config({SVG: {font: \"STIX-Web\"}});}</script>                <script type=\"text/javascript\">window.PlotlyConfig = {MathJaxConfig: 'local'};</script>\n",
              "        <script src=\"https://cdn.plot.ly/plotly-2.18.2.min.js\"></script>                <div id=\"6fbe1b78-6e24-41ea-a1e6-233c5e5438e2\" class=\"plotly-graph-div\" style=\"height:525px; width:100%;\"></div>            <script type=\"text/javascript\">                                    window.PLOTLYENV=window.PLOTLYENV || {};                                    if (document.getElementById(\"6fbe1b78-6e24-41ea-a1e6-233c5e5438e2\")) {                    Plotly.newPlot(                        \"6fbe1b78-6e24-41ea-a1e6-233c5e5438e2\",                        [{\"name\":\"Train scores\",\"x\":[1,3,5,10,20],\"y\":[21.83503209965294,7.097356656919333,3.028549478075311,0.3025654568048902,0.2926748315824666],\"type\":\"scatter\"},{\"name\":\"Validation scores\",\"x\":[1,3,5,10,20],\"y\":[25.121425098818758,13.261095381009739,13.759423867211643,20.162866551321805,23.53364212066095],\"type\":\"scatter\"}],                        {\"template\":{\"data\":{\"pie\":[{\"automargin\":true,\"type\":\"pie\"}]},\"layout\":{\"xaxis\":{\"showgrid\":true,\"title\":{\"standoff\":15}},\"yaxis\":{\"showgrid\":true,\"title\":{\"standoff\":15}}}},\"title\":{\"text\":\"Evoluci\\u00f3n de los errores seg\\u00fan el n\\u00famero \\u00e1rboles\"},\"xaxis\":{\"title\":{\"text\":\"N\\u00famero de \\u00e1rboles\"}},\"yaxis\":{\"title\":{\"text\":\"Mean Absolute Error\"}}},                        {\"responsive\": true}                    ).then(function(){\n",
              "                            \n",
              "var gd = document.getElementById('6fbe1b78-6e24-41ea-a1e6-233c5e5438e2');\n",
              "var x = new MutationObserver(function (mutations, observer) {{\n",
              "        var display = window.getComputedStyle(gd).display;\n",
              "        if (!display || display === 'none') {{\n",
              "            console.log([gd, 'removed!']);\n",
              "            Plotly.purge(gd);\n",
              "            observer.disconnect();\n",
              "        }}\n",
              "}});\n",
              "\n",
              "// Listen for the removal of the full notebook cells\n",
              "var notebookContainer = gd.closest('#notebook-container');\n",
              "if (notebookContainer) {{\n",
              "    x.observe(notebookContainer, {childList: true});\n",
              "}}\n",
              "\n",
              "// Listen for the clearing of the current output cell\n",
              "var outputEl = gd.closest('.output');\n",
              "if (outputEl) {{\n",
              "    x.observe(outputEl, {childList: true});\n",
              "}}\n",
              "\n",
              "                        })                };                            </script>        </div>\n",
              "</body>\n",
              "</html>"
            ]
          },
          "metadata": {}
        }
      ]
    },
    {
      "cell_type": "markdown",
      "source": [
        "Según los valores del error de validación, el valor óptimo de `max_depth` es 3."
      ],
      "metadata": {
        "id": "OWI03v1XGsMA"
      }
    },
    {
      "cell_type": "markdown",
      "source": [
        " ### **<font color=\"DeepPink\">3. Grid Search</font>**"
      ],
      "metadata": {
        "id": "nDP4JengHpCX"
      }
    },
    {
      "cell_type": "markdown",
      "source": [
        "<p align=\"justify\">\n",
        "En la siguiente búsqueda de hiperparámetros, se emplea la estrategia de no incluir el número de árboles como hiperparámetro en el grid. En su lugar, se utiliza por defecto un número muy elevado."
      ],
      "metadata": {
        "id": "586C8bgBKHlP"
      }
    },
    {
      "cell_type": "markdown",
      "source": [
        "<p align=\"justify\">\n",
        "Definimos una grilla de hiperparámetros para ajustar un modelo <code>GradientBoostingRegressor</code>.\n",
        "<br><br>\n",
        "Los hiperparámetros considerados son:\n",
        "\n",
        "- <code>max_features</code> : número máximo de variables explicativas que se considerarán al buscar la mejor división para construir cada árbol. \"None\" indica que todas las características se considerarán, mientras que \"sqrt\" y \"log2\" representan la raíz cuadrada y el logaritmo en base 2 del número total de variables predictoras, respectivamente.\n",
        "\n",
        "- <code>max_depth</code> : representa la profundidad máxima de los árboles. Los valores posibles son None, 1, 3, 5, 10.\n",
        "\n",
        "- <code>learning_rate</code> : el algoritmo probará tres tasas de aprendizaje diferentes: 0.001, 0.01 y 0.1.\n",
        "\n",
        "Durante la búsqueda de hiperparámetros, se probarán todas las combinaciones posibles de estos valores para encontrar la combinación óptima que resulte en el mejor rendimiento del modelo."
      ],
      "metadata": {
        "id": "k2gd0Yw3Jyuv"
      }
    },
    {
      "cell_type": "code",
      "source": [
        "# Grid de hiperparámetros evaluados\n",
        "param_grid = {'max_features'  : [None, 'sqrt', 'log2'],\n",
        "              'max_depth'     : [None, 1, 3, 5, 10],\n",
        "              'learning_rate' : [0.001, 0.01, 0.1]\n",
        "             }"
      ],
      "metadata": {
        "id": "Ca9itLGTKS3_"
      },
      "execution_count": null,
      "outputs": []
    },
    {
      "cell_type": "markdown",
      "source": [
        "<p align=\"justify\">\n",
        "La clase <code>GridSearchCV</code> de <code>sklearn</code> ajusta los hiperparámetros del modelo para encontrar la combinación óptima que produce el mejor rendimiento en nuevos datos."
      ],
      "metadata": {
        "id": "WSo9dIOiMnfx"
      }
    },
    {
      "cell_type": "code",
      "source": [
        "# Búsqueda por grid search\n",
        "from sklearn.model_selection import GridSearchCV\n",
        "\n",
        "grid = GridSearchCV(estimator = GradientBoostingRegressor(n_estimators        = 1000,\n",
        "                                                          random_state        = 123,\n",
        "                                                          # Activación de la parada temprana\n",
        "                                                          tol                 = 0.0001,\n",
        "                                                          validation_fraction = 0.1,\n",
        "                                                          n_iter_no_change    = 5),\n",
        "                    param_grid = param_grid,\n",
        "                    scoring    = 'neg_mean_absolute_error',\n",
        "                    n_jobs     = 2,\n",
        "                    refit      = True)\n",
        "\n",
        "grid.fit(X_train, y_train)"
      ],
      "metadata": {
        "colab": {
          "base_uri": "https://localhost:8080/",
          "height": 118
        },
        "id": "isPQKI5xKS1c",
        "outputId": "9cd8547d-bede-4f60-d2ca-453330722a97"
      },
      "execution_count": null,
      "outputs": [
        {
          "output_type": "execute_result",
          "data": {
            "text/plain": [
              "GridSearchCV(estimator=GradientBoostingRegressor(n_estimators=1000,\n",
              "                                                 n_iter_no_change=5,\n",
              "                                                 random_state=123),\n",
              "             n_jobs=2,\n",
              "             param_grid={'learning_rate': [0.001, 0.01, 0.1],\n",
              "                         'max_depth': [None, 1, 3, 5, 10],\n",
              "                         'max_features': [None, 'sqrt', 'log2']},\n",
              "             scoring='neg_mean_absolute_error')"
            ],
            "text/html": [
              "<style>#sk-container-id-2 {color: black;background-color: white;}#sk-container-id-2 pre{padding: 0;}#sk-container-id-2 div.sk-toggleable {background-color: white;}#sk-container-id-2 label.sk-toggleable__label {cursor: pointer;display: block;width: 100%;margin-bottom: 0;padding: 0.3em;box-sizing: border-box;text-align: center;}#sk-container-id-2 label.sk-toggleable__label-arrow:before {content: \"▸\";float: left;margin-right: 0.25em;color: #696969;}#sk-container-id-2 label.sk-toggleable__label-arrow:hover:before {color: black;}#sk-container-id-2 div.sk-estimator:hover label.sk-toggleable__label-arrow:before {color: black;}#sk-container-id-2 div.sk-toggleable__content {max-height: 0;max-width: 0;overflow: hidden;text-align: left;background-color: #f0f8ff;}#sk-container-id-2 div.sk-toggleable__content pre {margin: 0.2em;color: black;border-radius: 0.25em;background-color: #f0f8ff;}#sk-container-id-2 input.sk-toggleable__control:checked~div.sk-toggleable__content {max-height: 200px;max-width: 100%;overflow: auto;}#sk-container-id-2 input.sk-toggleable__control:checked~label.sk-toggleable__label-arrow:before {content: \"▾\";}#sk-container-id-2 div.sk-estimator input.sk-toggleable__control:checked~label.sk-toggleable__label {background-color: #d4ebff;}#sk-container-id-2 div.sk-label input.sk-toggleable__control:checked~label.sk-toggleable__label {background-color: #d4ebff;}#sk-container-id-2 input.sk-hidden--visually {border: 0;clip: rect(1px 1px 1px 1px);clip: rect(1px, 1px, 1px, 1px);height: 1px;margin: -1px;overflow: hidden;padding: 0;position: absolute;width: 1px;}#sk-container-id-2 div.sk-estimator {font-family: monospace;background-color: #f0f8ff;border: 1px dotted black;border-radius: 0.25em;box-sizing: border-box;margin-bottom: 0.5em;}#sk-container-id-2 div.sk-estimator:hover {background-color: #d4ebff;}#sk-container-id-2 div.sk-parallel-item::after {content: \"\";width: 100%;border-bottom: 1px solid gray;flex-grow: 1;}#sk-container-id-2 div.sk-label:hover label.sk-toggleable__label {background-color: #d4ebff;}#sk-container-id-2 div.sk-serial::before {content: \"\";position: absolute;border-left: 1px solid gray;box-sizing: border-box;top: 0;bottom: 0;left: 50%;z-index: 0;}#sk-container-id-2 div.sk-serial {display: flex;flex-direction: column;align-items: center;background-color: white;padding-right: 0.2em;padding-left: 0.2em;position: relative;}#sk-container-id-2 div.sk-item {position: relative;z-index: 1;}#sk-container-id-2 div.sk-parallel {display: flex;align-items: stretch;justify-content: center;background-color: white;position: relative;}#sk-container-id-2 div.sk-item::before, #sk-container-id-2 div.sk-parallel-item::before {content: \"\";position: absolute;border-left: 1px solid gray;box-sizing: border-box;top: 0;bottom: 0;left: 50%;z-index: -1;}#sk-container-id-2 div.sk-parallel-item {display: flex;flex-direction: column;z-index: 1;position: relative;background-color: white;}#sk-container-id-2 div.sk-parallel-item:first-child::after {align-self: flex-end;width: 50%;}#sk-container-id-2 div.sk-parallel-item:last-child::after {align-self: flex-start;width: 50%;}#sk-container-id-2 div.sk-parallel-item:only-child::after {width: 0;}#sk-container-id-2 div.sk-dashed-wrapped {border: 1px dashed gray;margin: 0 0.4em 0.5em 0.4em;box-sizing: border-box;padding-bottom: 0.4em;background-color: white;}#sk-container-id-2 div.sk-label label {font-family: monospace;font-weight: bold;display: inline-block;line-height: 1.2em;}#sk-container-id-2 div.sk-label-container {text-align: center;}#sk-container-id-2 div.sk-container {/* jupyter's `normalize.less` sets `[hidden] { display: none; }` but bootstrap.min.css set `[hidden] { display: none !important; }` so we also need the `!important` here to be able to override the default hidden behavior on the sphinx rendered scikit-learn.org. See: https://github.com/scikit-learn/scikit-learn/issues/21755 */display: inline-block !important;position: relative;}#sk-container-id-2 div.sk-text-repr-fallback {display: none;}</style><div id=\"sk-container-id-2\" class=\"sk-top-container\"><div class=\"sk-text-repr-fallback\"><pre>GridSearchCV(estimator=GradientBoostingRegressor(n_estimators=1000,\n",
              "                                                 n_iter_no_change=5,\n",
              "                                                 random_state=123),\n",
              "             n_jobs=2,\n",
              "             param_grid={&#x27;learning_rate&#x27;: [0.001, 0.01, 0.1],\n",
              "                         &#x27;max_depth&#x27;: [None, 1, 3, 5, 10],\n",
              "                         &#x27;max_features&#x27;: [None, &#x27;sqrt&#x27;, &#x27;log2&#x27;]},\n",
              "             scoring=&#x27;neg_mean_absolute_error&#x27;)</pre><b>In a Jupyter environment, please rerun this cell to show the HTML representation or trust the notebook. <br />On GitHub, the HTML representation is unable to render, please try loading this page with nbviewer.org.</b></div><div class=\"sk-container\" hidden><div class=\"sk-item sk-dashed-wrapped\"><div class=\"sk-label-container\"><div class=\"sk-label sk-toggleable\"><input class=\"sk-toggleable__control sk-hidden--visually\" id=\"sk-estimator-id-2\" type=\"checkbox\" ><label for=\"sk-estimator-id-2\" class=\"sk-toggleable__label sk-toggleable__label-arrow\">GridSearchCV</label><div class=\"sk-toggleable__content\"><pre>GridSearchCV(estimator=GradientBoostingRegressor(n_estimators=1000,\n",
              "                                                 n_iter_no_change=5,\n",
              "                                                 random_state=123),\n",
              "             n_jobs=2,\n",
              "             param_grid={&#x27;learning_rate&#x27;: [0.001, 0.01, 0.1],\n",
              "                         &#x27;max_depth&#x27;: [None, 1, 3, 5, 10],\n",
              "                         &#x27;max_features&#x27;: [None, &#x27;sqrt&#x27;, &#x27;log2&#x27;]},\n",
              "             scoring=&#x27;neg_mean_absolute_error&#x27;)</pre></div></div></div><div class=\"sk-parallel\"><div class=\"sk-parallel-item\"><div class=\"sk-item\"><div class=\"sk-label-container\"><div class=\"sk-label sk-toggleable\"><input class=\"sk-toggleable__control sk-hidden--visually\" id=\"sk-estimator-id-3\" type=\"checkbox\" ><label for=\"sk-estimator-id-3\" class=\"sk-toggleable__label sk-toggleable__label-arrow\">estimator: GradientBoostingRegressor</label><div class=\"sk-toggleable__content\"><pre>GradientBoostingRegressor(n_estimators=1000, n_iter_no_change=5,\n",
              "                          random_state=123)</pre></div></div></div><div class=\"sk-serial\"><div class=\"sk-item\"><div class=\"sk-estimator sk-toggleable\"><input class=\"sk-toggleable__control sk-hidden--visually\" id=\"sk-estimator-id-4\" type=\"checkbox\" ><label for=\"sk-estimator-id-4\" class=\"sk-toggleable__label sk-toggleable__label-arrow\">GradientBoostingRegressor</label><div class=\"sk-toggleable__content\"><pre>GradientBoostingRegressor(n_estimators=1000, n_iter_no_change=5,\n",
              "                          random_state=123)</pre></div></div></div></div></div></div></div></div></div></div>"
            ]
          },
          "metadata": {},
          "execution_count": 25
        }
      ]
    },
    {
      "cell_type": "markdown",
      "source": [
        "<p align=\"justify\">\n",
        "Podemos inspeccionar todos los resultados que se almacenan en el atributo <code>cv_results_</code> de la búsqueda en grid-search. Eliminamos algunas columnas de estos resultados."
      ],
      "metadata": {
        "id": "wJzD4AENNgFS"
      }
    },
    {
      "cell_type": "code",
      "source": [
        "cv_results = pd.DataFrame(grid.cv_results_).sort_values('mean_test_score', ascending = False)\n",
        "cv_results[\"mean_test_error\"] = -cv_results[\"mean_test_score\"]\n",
        "cv_results = cv_results.drop(columns=['mean_test_score','std_test_score','rank_test_score','params','split0_test_score','split1_test_score','split2_test_score','split3_test_score','split4_test_score','mean_fit_time','std_fit_time','mean_score_time','std_score_time'])\n",
        "cv_results.head()"
      ],
      "metadata": {
        "colab": {
          "base_uri": "https://localhost:8080/",
          "height": 206
        },
        "id": "U3aBI2PFPQMt",
        "outputId": "24d4f0f8-9b9c-4fe9-fb38-47809f2e6077"
      },
      "execution_count": null,
      "outputs": [
        {
          "output_type": "execute_result",
          "data": {
            "text/plain": [
              "   param_learning_rate param_max_depth param_max_features  mean_test_error\n",
              "33                 0.1               1               None        11.859834\n",
              "35                 0.1               1               log2        11.901023\n",
              "34                 0.1               1               sqrt        11.901023\n",
              "22                0.01               3               sqrt        12.665232\n",
              "23                0.01               3               log2        12.665232"
            ],
            "text/html": [
              "\n",
              "\n",
              "  <div id=\"df-ee2c4635-5b55-402a-a021-7c4b97a31b34\">\n",
              "    <div class=\"colab-df-container\">\n",
              "      <div>\n",
              "<style scoped>\n",
              "    .dataframe tbody tr th:only-of-type {\n",
              "        vertical-align: middle;\n",
              "    }\n",
              "\n",
              "    .dataframe tbody tr th {\n",
              "        vertical-align: top;\n",
              "    }\n",
              "\n",
              "    .dataframe thead th {\n",
              "        text-align: right;\n",
              "    }\n",
              "</style>\n",
              "<table border=\"1\" class=\"dataframe\">\n",
              "  <thead>\n",
              "    <tr style=\"text-align: right;\">\n",
              "      <th></th>\n",
              "      <th>param_learning_rate</th>\n",
              "      <th>param_max_depth</th>\n",
              "      <th>param_max_features</th>\n",
              "      <th>mean_test_error</th>\n",
              "    </tr>\n",
              "  </thead>\n",
              "  <tbody>\n",
              "    <tr>\n",
              "      <th>33</th>\n",
              "      <td>0.1</td>\n",
              "      <td>1</td>\n",
              "      <td>None</td>\n",
              "      <td>11.859834</td>\n",
              "    </tr>\n",
              "    <tr>\n",
              "      <th>35</th>\n",
              "      <td>0.1</td>\n",
              "      <td>1</td>\n",
              "      <td>log2</td>\n",
              "      <td>11.901023</td>\n",
              "    </tr>\n",
              "    <tr>\n",
              "      <th>34</th>\n",
              "      <td>0.1</td>\n",
              "      <td>1</td>\n",
              "      <td>sqrt</td>\n",
              "      <td>11.901023</td>\n",
              "    </tr>\n",
              "    <tr>\n",
              "      <th>22</th>\n",
              "      <td>0.01</td>\n",
              "      <td>3</td>\n",
              "      <td>sqrt</td>\n",
              "      <td>12.665232</td>\n",
              "    </tr>\n",
              "    <tr>\n",
              "      <th>23</th>\n",
              "      <td>0.01</td>\n",
              "      <td>3</td>\n",
              "      <td>log2</td>\n",
              "      <td>12.665232</td>\n",
              "    </tr>\n",
              "  </tbody>\n",
              "</table>\n",
              "</div>\n",
              "      <button class=\"colab-df-convert\" onclick=\"convertToInteractive('df-ee2c4635-5b55-402a-a021-7c4b97a31b34')\"\n",
              "              title=\"Convert this dataframe to an interactive table.\"\n",
              "              style=\"display:none;\">\n",
              "\n",
              "  <svg xmlns=\"http://www.w3.org/2000/svg\" height=\"24px\"viewBox=\"0 0 24 24\"\n",
              "       width=\"24px\">\n",
              "    <path d=\"M0 0h24v24H0V0z\" fill=\"none\"/>\n",
              "    <path d=\"M18.56 5.44l.94 2.06.94-2.06 2.06-.94-2.06-.94-.94-2.06-.94 2.06-2.06.94zm-11 1L8.5 8.5l.94-2.06 2.06-.94-2.06-.94L8.5 2.5l-.94 2.06-2.06.94zm10 10l.94 2.06.94-2.06 2.06-.94-2.06-.94-.94-2.06-.94 2.06-2.06.94z\"/><path d=\"M17.41 7.96l-1.37-1.37c-.4-.4-.92-.59-1.43-.59-.52 0-1.04.2-1.43.59L10.3 9.45l-7.72 7.72c-.78.78-.78 2.05 0 2.83L4 21.41c.39.39.9.59 1.41.59.51 0 1.02-.2 1.41-.59l7.78-7.78 2.81-2.81c.8-.78.8-2.07 0-2.86zM5.41 20L4 18.59l7.72-7.72 1.47 1.35L5.41 20z\"/>\n",
              "  </svg>\n",
              "      </button>\n",
              "\n",
              "\n",
              "\n",
              "    <div id=\"df-f7b4fad3-9815-4aa7-a536-5d953d5a1c03\">\n",
              "      <button class=\"colab-df-quickchart\" onclick=\"quickchart('df-f7b4fad3-9815-4aa7-a536-5d953d5a1c03')\"\n",
              "              title=\"Suggest charts.\"\n",
              "              style=\"display:none;\">\n",
              "\n",
              "<svg xmlns=\"http://www.w3.org/2000/svg\" height=\"24px\"viewBox=\"0 0 24 24\"\n",
              "     width=\"24px\">\n",
              "    <g>\n",
              "        <path d=\"M19 3H5c-1.1 0-2 .9-2 2v14c0 1.1.9 2 2 2h14c1.1 0 2-.9 2-2V5c0-1.1-.9-2-2-2zM9 17H7v-7h2v7zm4 0h-2V7h2v10zm4 0h-2v-4h2v4z\"/>\n",
              "    </g>\n",
              "</svg>\n",
              "      </button>\n",
              "    </div>\n",
              "\n",
              "<style>\n",
              "  .colab-df-quickchart {\n",
              "    background-color: #E8F0FE;\n",
              "    border: none;\n",
              "    border-radius: 50%;\n",
              "    cursor: pointer;\n",
              "    display: none;\n",
              "    fill: #1967D2;\n",
              "    height: 32px;\n",
              "    padding: 0 0 0 0;\n",
              "    width: 32px;\n",
              "  }\n",
              "\n",
              "  .colab-df-quickchart:hover {\n",
              "    background-color: #E2EBFA;\n",
              "    box-shadow: 0px 1px 2px rgba(60, 64, 67, 0.3), 0px 1px 3px 1px rgba(60, 64, 67, 0.15);\n",
              "    fill: #174EA6;\n",
              "  }\n",
              "\n",
              "  [theme=dark] .colab-df-quickchart {\n",
              "    background-color: #3B4455;\n",
              "    fill: #D2E3FC;\n",
              "  }\n",
              "\n",
              "  [theme=dark] .colab-df-quickchart:hover {\n",
              "    background-color: #434B5C;\n",
              "    box-shadow: 0px 1px 3px 1px rgba(0, 0, 0, 0.15);\n",
              "    filter: drop-shadow(0px 1px 2px rgba(0, 0, 0, 0.3));\n",
              "    fill: #FFFFFF;\n",
              "  }\n",
              "</style>\n",
              "\n",
              "    <script>\n",
              "      async function quickchart(key) {\n",
              "        const containerElement = document.querySelector('#' + key);\n",
              "        const charts = await google.colab.kernel.invokeFunction(\n",
              "            'suggestCharts', [key], {});\n",
              "      }\n",
              "    </script>\n",
              "\n",
              "      <script>\n",
              "\n",
              "function displayQuickchartButton(domScope) {\n",
              "  let quickchartButtonEl =\n",
              "    domScope.querySelector('#df-f7b4fad3-9815-4aa7-a536-5d953d5a1c03 button.colab-df-quickchart');\n",
              "  quickchartButtonEl.style.display =\n",
              "    google.colab.kernel.accessAllowed ? 'block' : 'none';\n",
              "}\n",
              "\n",
              "        displayQuickchartButton(document);\n",
              "      </script>\n",
              "      <style>\n",
              "    .colab-df-container {\n",
              "      display:flex;\n",
              "      flex-wrap:wrap;\n",
              "      gap: 12px;\n",
              "    }\n",
              "\n",
              "    .colab-df-convert {\n",
              "      background-color: #E8F0FE;\n",
              "      border: none;\n",
              "      border-radius: 50%;\n",
              "      cursor: pointer;\n",
              "      display: none;\n",
              "      fill: #1967D2;\n",
              "      height: 32px;\n",
              "      padding: 0 0 0 0;\n",
              "      width: 32px;\n",
              "    }\n",
              "\n",
              "    .colab-df-convert:hover {\n",
              "      background-color: #E2EBFA;\n",
              "      box-shadow: 0px 1px 2px rgba(60, 64, 67, 0.3), 0px 1px 3px 1px rgba(60, 64, 67, 0.15);\n",
              "      fill: #174EA6;\n",
              "    }\n",
              "\n",
              "    [theme=dark] .colab-df-convert {\n",
              "      background-color: #3B4455;\n",
              "      fill: #D2E3FC;\n",
              "    }\n",
              "\n",
              "    [theme=dark] .colab-df-convert:hover {\n",
              "      background-color: #434B5C;\n",
              "      box-shadow: 0px 1px 3px 1px rgba(0, 0, 0, 0.15);\n",
              "      filter: drop-shadow(0px 1px 2px rgba(0, 0, 0, 0.3));\n",
              "      fill: #FFFFFF;\n",
              "    }\n",
              "  </style>\n",
              "\n",
              "      <script>\n",
              "        const buttonEl =\n",
              "          document.querySelector('#df-ee2c4635-5b55-402a-a021-7c4b97a31b34 button.colab-df-convert');\n",
              "        buttonEl.style.display =\n",
              "          google.colab.kernel.accessAllowed ? 'block' : 'none';\n",
              "\n",
              "        async function convertToInteractive(key) {\n",
              "          const element = document.querySelector('#df-ee2c4635-5b55-402a-a021-7c4b97a31b34');\n",
              "          const dataTable =\n",
              "            await google.colab.kernel.invokeFunction('convertToInteractive',\n",
              "                                                     [key], {});\n",
              "          if (!dataTable) return;\n",
              "\n",
              "          const docLinkHtml = 'Like what you see? Visit the ' +\n",
              "            '<a target=\"_blank\" href=https://colab.research.google.com/notebooks/data_table.ipynb>data table notebook</a>'\n",
              "            + ' to learn more about interactive tables.';\n",
              "          element.innerHTML = '';\n",
              "          dataTable['output_type'] = 'display_data';\n",
              "          await google.colab.output.renderOutput(dataTable, element);\n",
              "          const docLink = document.createElement('div');\n",
              "          docLink.innerHTML = docLinkHtml;\n",
              "          element.appendChild(docLink);\n",
              "        }\n",
              "      </script>\n",
              "    </div>\n",
              "  </div>\n"
            ]
          },
          "metadata": {},
          "execution_count": 26
        }
      ]
    },
    {
      "cell_type": "markdown",
      "source": [
        "<p align=\"justify\">\n",
        "Es posible obtener los hiperparámetros óptimos utilizando el atributo <code>best_params_</code> de la búsqueda en grid-search. Además, mediante los atributos <code>best_score_</code> y <code>scoring</code>, podemos acceder al valor del rendimiento óptimo y a la métrica de evaluación respectivamente, asociados con los hiperparámetros obtenidos."
      ],
      "metadata": {
        "id": "ea6cVftzPLYm"
      }
    },
    {
      "cell_type": "code",
      "source": [
        "print(\"Mejores hiperparámetros encontrados\")\n",
        "print(grid.best_params_, \":\", grid.best_score_, grid.scoring)"
      ],
      "metadata": {
        "colab": {
          "base_uri": "https://localhost:8080/"
        },
        "id": "e37_bK1vKSto",
        "outputId": "ca9e492c-9d23-4b47-d67d-69ec77a8c18c"
      },
      "execution_count": null,
      "outputs": [
        {
          "output_type": "stream",
          "name": "stdout",
          "text": [
            "Mejores hiperparámetros encontrados\n",
            "{'learning_rate': 0.1, 'max_depth': 1, 'max_features': None} : -11.859834349941561 neg_mean_absolute_error\n"
          ]
        }
      ]
    },
    {
      "cell_type": "markdown",
      "source": [
        "<p align=\"justify\">\n",
        "Aunque se ha indicado que <code>n_estimator = 1000</code>, debido a la activación de la parada temprana, el entrenamiento puede detenerse antes."
      ],
      "metadata": {
        "id": "BUsbo1NjR_xh"
      }
    },
    {
      "cell_type": "code",
      "source": [
        "print(f\"Número de árboles del modelo: {grid.best_estimator_.n_estimators_}\")"
      ],
      "metadata": {
        "colab": {
          "base_uri": "https://localhost:8080/"
        },
        "id": "J1bSKRpMKSrF",
        "outputId": "ffab1368-d9b0-46d2-cffa-c1b3b6b8d1e4"
      },
      "execution_count": null,
      "outputs": [
        {
          "output_type": "stream",
          "name": "stdout",
          "text": [
            "Número de árboles del modelo: 302\n"
          ]
        }
      ]
    },
    {
      "cell_type": "markdown",
      "source": [
        "Número de árboles del modelo final (bebido a la activación de la parada temprana) es 302."
      ],
      "metadata": {
        "id": "Lp2ryo1IQQAb"
      }
    },
    {
      "cell_type": "markdown",
      "source": [
        "<p align=\"justify\">\n",
        "Una vez identificados los mejores hiperparámetros, se reentrena el modelo indicando los valores óptimos en sus argumentos. Si en el <code>GridSearchCV</code> se indica <code>refit=True</code>, este reentrenamiento se hace automáticamente y el modelo resultante se encuentra almacenado en el atributo <code>best_estimator_</code>."
      ],
      "metadata": {
        "id": "jIqW-d7cJ2Ws"
      }
    },
    {
      "cell_type": "code",
      "source": [
        "final_model = grid.best_estimator_"
      ],
      "metadata": {
        "id": "sT5J2AGDIdNm"
      },
      "execution_count": null,
      "outputs": []
    },
    {
      "cell_type": "markdown",
      "source": [
        " ## **<font color=\"DeepPink\">Predicción y evaluación del modelo</font>**"
      ],
      "metadata": {
        "id": "6ufPVR_MxnwB"
      }
    },
    {
      "cell_type": "code",
      "source": [
        "predictions = final_model.predict(X = X_test)\n",
        "predictions[:10]"
      ],
      "metadata": {
        "colab": {
          "base_uri": "https://localhost:8080/"
        },
        "id": "cG3gaHzbxoVv",
        "outputId": "e864f326-4865-4076-a2a1-c455b5cbc5d6"
      },
      "execution_count": null,
      "outputs": [
        {
          "output_type": "execute_result",
          "data": {
            "text/plain": [
              "array([419.99237014, 541.90152311, 428.95666433, 509.1631067 ,\n",
              "       410.52332851, 572.4465513 , 537.66188483, 507.79171027,\n",
              "       417.24631696, 474.93208275])"
            ]
          },
          "metadata": {},
          "execution_count": 30
        }
      ]
    },
    {
      "cell_type": "code",
      "source": [
        "from sklearn.metrics import mean_absolute_error\n",
        "\n",
        "mae = mean_absolute_error(y_true = y_test,\n",
        "                          y_pred = predictions)\n",
        "mae"
      ],
      "metadata": {
        "colab": {
          "base_uri": "https://localhost:8080/"
        },
        "id": "jwwkdT9zxvJ2",
        "outputId": "51493917-6262-431b-a995-48818bc1d8c1"
      },
      "execution_count": null,
      "outputs": [
        {
          "output_type": "execute_result",
          "data": {
            "text/plain": [
              "10.251274345949103"
            ]
          },
          "metadata": {},
          "execution_count": 31
        }
      ]
    },
    {
      "cell_type": "markdown",
      "source": [
        "<p align=\"justify\">\n",
        "Un <b>MAE</b> de 10.25 significa que, en promedio, las predicciones del modelo difieren en aproximadamente 10.25 dólares anuales de los valores reales."
      ],
      "metadata": {
        "id": "nDGFeL6xyNxO"
      }
    },
    {
      "cell_type": "markdown",
      "source": [
        " ## **<font color=\"DeepPink\">Importancia de las variables predictoras</font>**"
      ],
      "metadata": {
        "id": "N2kDUC3hMVxC"
      }
    },
    {
      "cell_type": "markdown",
      "source": [
        "<p align=\"justify\">\n",
        "El atributo <code>feature_importances_</code> se utiliza para obtener la importancia de las variables explicativas utilizadas por el modelo para realizar predicciones."
      ],
      "metadata": {
        "id": "1D1YmG92zUy7"
      }
    },
    {
      "cell_type": "code",
      "source": [
        "importancia_predictores = pd.DataFrame(\n",
        "                            {'predictor': X.columns,\n",
        "                             'importancia': grid.best_estimator_.feature_importances_}\n",
        "                            )\n",
        "importancia_predictores"
      ],
      "metadata": {
        "colab": {
          "base_uri": "https://localhost:8080/",
          "height": 175
        },
        "id": "CjOvXmdaZLWB",
        "outputId": "18e114a5-bed2-4f19-d38e-72baa342135a"
      },
      "execution_count": null,
      "outputs": [
        {
          "output_type": "execute_result",
          "data": {
            "text/plain": [
              "       predictor  importancia\n",
              "0  Tiempo_sesión     0.100497\n",
              "1     Tiempo_app     0.233144\n",
              "2     Tiempo_web     0.000441\n",
              "3   Años_miembro     0.665918"
            ],
            "text/html": [
              "\n",
              "\n",
              "  <div id=\"df-0fd9417e-cdeb-4f50-af30-c2d198ed1313\">\n",
              "    <div class=\"colab-df-container\">\n",
              "      <div>\n",
              "<style scoped>\n",
              "    .dataframe tbody tr th:only-of-type {\n",
              "        vertical-align: middle;\n",
              "    }\n",
              "\n",
              "    .dataframe tbody tr th {\n",
              "        vertical-align: top;\n",
              "    }\n",
              "\n",
              "    .dataframe thead th {\n",
              "        text-align: right;\n",
              "    }\n",
              "</style>\n",
              "<table border=\"1\" class=\"dataframe\">\n",
              "  <thead>\n",
              "    <tr style=\"text-align: right;\">\n",
              "      <th></th>\n",
              "      <th>predictor</th>\n",
              "      <th>importancia</th>\n",
              "    </tr>\n",
              "  </thead>\n",
              "  <tbody>\n",
              "    <tr>\n",
              "      <th>0</th>\n",
              "      <td>Tiempo_sesión</td>\n",
              "      <td>0.100497</td>\n",
              "    </tr>\n",
              "    <tr>\n",
              "      <th>1</th>\n",
              "      <td>Tiempo_app</td>\n",
              "      <td>0.233144</td>\n",
              "    </tr>\n",
              "    <tr>\n",
              "      <th>2</th>\n",
              "      <td>Tiempo_web</td>\n",
              "      <td>0.000441</td>\n",
              "    </tr>\n",
              "    <tr>\n",
              "      <th>3</th>\n",
              "      <td>Años_miembro</td>\n",
              "      <td>0.665918</td>\n",
              "    </tr>\n",
              "  </tbody>\n",
              "</table>\n",
              "</div>\n",
              "      <button class=\"colab-df-convert\" onclick=\"convertToInteractive('df-0fd9417e-cdeb-4f50-af30-c2d198ed1313')\"\n",
              "              title=\"Convert this dataframe to an interactive table.\"\n",
              "              style=\"display:none;\">\n",
              "\n",
              "  <svg xmlns=\"http://www.w3.org/2000/svg\" height=\"24px\"viewBox=\"0 0 24 24\"\n",
              "       width=\"24px\">\n",
              "    <path d=\"M0 0h24v24H0V0z\" fill=\"none\"/>\n",
              "    <path d=\"M18.56 5.44l.94 2.06.94-2.06 2.06-.94-2.06-.94-.94-2.06-.94 2.06-2.06.94zm-11 1L8.5 8.5l.94-2.06 2.06-.94-2.06-.94L8.5 2.5l-.94 2.06-2.06.94zm10 10l.94 2.06.94-2.06 2.06-.94-2.06-.94-.94-2.06-.94 2.06-2.06.94z\"/><path d=\"M17.41 7.96l-1.37-1.37c-.4-.4-.92-.59-1.43-.59-.52 0-1.04.2-1.43.59L10.3 9.45l-7.72 7.72c-.78.78-.78 2.05 0 2.83L4 21.41c.39.39.9.59 1.41.59.51 0 1.02-.2 1.41-.59l7.78-7.78 2.81-2.81c.8-.78.8-2.07 0-2.86zM5.41 20L4 18.59l7.72-7.72 1.47 1.35L5.41 20z\"/>\n",
              "  </svg>\n",
              "      </button>\n",
              "\n",
              "\n",
              "\n",
              "    <div id=\"df-2abc278d-7765-4596-8ae6-bae310eda419\">\n",
              "      <button class=\"colab-df-quickchart\" onclick=\"quickchart('df-2abc278d-7765-4596-8ae6-bae310eda419')\"\n",
              "              title=\"Suggest charts.\"\n",
              "              style=\"display:none;\">\n",
              "\n",
              "<svg xmlns=\"http://www.w3.org/2000/svg\" height=\"24px\"viewBox=\"0 0 24 24\"\n",
              "     width=\"24px\">\n",
              "    <g>\n",
              "        <path d=\"M19 3H5c-1.1 0-2 .9-2 2v14c0 1.1.9 2 2 2h14c1.1 0 2-.9 2-2V5c0-1.1-.9-2-2-2zM9 17H7v-7h2v7zm4 0h-2V7h2v10zm4 0h-2v-4h2v4z\"/>\n",
              "    </g>\n",
              "</svg>\n",
              "      </button>\n",
              "    </div>\n",
              "\n",
              "<style>\n",
              "  .colab-df-quickchart {\n",
              "    background-color: #E8F0FE;\n",
              "    border: none;\n",
              "    border-radius: 50%;\n",
              "    cursor: pointer;\n",
              "    display: none;\n",
              "    fill: #1967D2;\n",
              "    height: 32px;\n",
              "    padding: 0 0 0 0;\n",
              "    width: 32px;\n",
              "  }\n",
              "\n",
              "  .colab-df-quickchart:hover {\n",
              "    background-color: #E2EBFA;\n",
              "    box-shadow: 0px 1px 2px rgba(60, 64, 67, 0.3), 0px 1px 3px 1px rgba(60, 64, 67, 0.15);\n",
              "    fill: #174EA6;\n",
              "  }\n",
              "\n",
              "  [theme=dark] .colab-df-quickchart {\n",
              "    background-color: #3B4455;\n",
              "    fill: #D2E3FC;\n",
              "  }\n",
              "\n",
              "  [theme=dark] .colab-df-quickchart:hover {\n",
              "    background-color: #434B5C;\n",
              "    box-shadow: 0px 1px 3px 1px rgba(0, 0, 0, 0.15);\n",
              "    filter: drop-shadow(0px 1px 2px rgba(0, 0, 0, 0.3));\n",
              "    fill: #FFFFFF;\n",
              "  }\n",
              "</style>\n",
              "\n",
              "    <script>\n",
              "      async function quickchart(key) {\n",
              "        const containerElement = document.querySelector('#' + key);\n",
              "        const charts = await google.colab.kernel.invokeFunction(\n",
              "            'suggestCharts', [key], {});\n",
              "      }\n",
              "    </script>\n",
              "\n",
              "      <script>\n",
              "\n",
              "function displayQuickchartButton(domScope) {\n",
              "  let quickchartButtonEl =\n",
              "    domScope.querySelector('#df-2abc278d-7765-4596-8ae6-bae310eda419 button.colab-df-quickchart');\n",
              "  quickchartButtonEl.style.display =\n",
              "    google.colab.kernel.accessAllowed ? 'block' : 'none';\n",
              "}\n",
              "\n",
              "        displayQuickchartButton(document);\n",
              "      </script>\n",
              "      <style>\n",
              "    .colab-df-container {\n",
              "      display:flex;\n",
              "      flex-wrap:wrap;\n",
              "      gap: 12px;\n",
              "    }\n",
              "\n",
              "    .colab-df-convert {\n",
              "      background-color: #E8F0FE;\n",
              "      border: none;\n",
              "      border-radius: 50%;\n",
              "      cursor: pointer;\n",
              "      display: none;\n",
              "      fill: #1967D2;\n",
              "      height: 32px;\n",
              "      padding: 0 0 0 0;\n",
              "      width: 32px;\n",
              "    }\n",
              "\n",
              "    .colab-df-convert:hover {\n",
              "      background-color: #E2EBFA;\n",
              "      box-shadow: 0px 1px 2px rgba(60, 64, 67, 0.3), 0px 1px 3px 1px rgba(60, 64, 67, 0.15);\n",
              "      fill: #174EA6;\n",
              "    }\n",
              "\n",
              "    [theme=dark] .colab-df-convert {\n",
              "      background-color: #3B4455;\n",
              "      fill: #D2E3FC;\n",
              "    }\n",
              "\n",
              "    [theme=dark] .colab-df-convert:hover {\n",
              "      background-color: #434B5C;\n",
              "      box-shadow: 0px 1px 3px 1px rgba(0, 0, 0, 0.15);\n",
              "      filter: drop-shadow(0px 1px 2px rgba(0, 0, 0, 0.3));\n",
              "      fill: #FFFFFF;\n",
              "    }\n",
              "  </style>\n",
              "\n",
              "      <script>\n",
              "        const buttonEl =\n",
              "          document.querySelector('#df-0fd9417e-cdeb-4f50-af30-c2d198ed1313 button.colab-df-convert');\n",
              "        buttonEl.style.display =\n",
              "          google.colab.kernel.accessAllowed ? 'block' : 'none';\n",
              "\n",
              "        async function convertToInteractive(key) {\n",
              "          const element = document.querySelector('#df-0fd9417e-cdeb-4f50-af30-c2d198ed1313');\n",
              "          const dataTable =\n",
              "            await google.colab.kernel.invokeFunction('convertToInteractive',\n",
              "                                                     [key], {});\n",
              "          if (!dataTable) return;\n",
              "\n",
              "          const docLinkHtml = 'Like what you see? Visit the ' +\n",
              "            '<a target=\"_blank\" href=https://colab.research.google.com/notebooks/data_table.ipynb>data table notebook</a>'\n",
              "            + ' to learn more about interactive tables.';\n",
              "          element.innerHTML = '';\n",
              "          dataTable['output_type'] = 'display_data';\n",
              "          await google.colab.output.renderOutput(dataTable, element);\n",
              "          const docLink = document.createElement('div');\n",
              "          docLink.innerHTML = docLinkHtml;\n",
              "          element.appendChild(docLink);\n",
              "        }\n",
              "      </script>\n",
              "    </div>\n",
              "  </div>\n"
            ]
          },
          "metadata": {},
          "execution_count": 32
        }
      ]
    },
    {
      "cell_type": "code",
      "source": [
        "fig = px.bar(importancia_predictores.sort_values(by='importancia'),\n",
        "             x = 'importancia',\n",
        "             y = 'predictor')\n",
        "\n",
        "fig.update_layout(template=\"gridon\",\n",
        "                  title_text=\"Importancia de las variables predictoras\",\n",
        "                  xaxis_title='',\n",
        "                  yaxis_title='',\n",
        "                  yaxis=dict(tickfont=dict(size=10))\n",
        "                  )\n",
        "\n",
        "fig.show()"
      ],
      "metadata": {
        "colab": {
          "base_uri": "https://localhost:8080/",
          "height": 542
        },
        "id": "io21UuYPaS0y",
        "outputId": "8408fa18-c9b9-4b05-98d6-0be17c30dbf1"
      },
      "execution_count": null,
      "outputs": [
        {
          "output_type": "display_data",
          "data": {
            "text/html": [
              "<html>\n",
              "<head><meta charset=\"utf-8\" /></head>\n",
              "<body>\n",
              "    <div>            <script src=\"https://cdnjs.cloudflare.com/ajax/libs/mathjax/2.7.5/MathJax.js?config=TeX-AMS-MML_SVG\"></script><script type=\"text/javascript\">if (window.MathJax && window.MathJax.Hub && window.MathJax.Hub.Config) {window.MathJax.Hub.Config({SVG: {font: \"STIX-Web\"}});}</script>                <script type=\"text/javascript\">window.PlotlyConfig = {MathJaxConfig: 'local'};</script>\n",
              "        <script src=\"https://cdn.plot.ly/plotly-2.18.2.min.js\"></script>                <div id=\"abdaed65-c67f-4703-8adc-fafa56131aaf\" class=\"plotly-graph-div\" style=\"height:525px; width:100%;\"></div>            <script type=\"text/javascript\">                                    window.PLOTLYENV=window.PLOTLYENV || {};                                    if (document.getElementById(\"abdaed65-c67f-4703-8adc-fafa56131aaf\")) {                    Plotly.newPlot(                        \"abdaed65-c67f-4703-8adc-fafa56131aaf\",                        [{\"alignmentgroup\":\"True\",\"hovertemplate\":\"importancia=%{x}<br>predictor=%{y}<extra></extra>\",\"legendgroup\":\"\",\"marker\":{\"color\":\"#636efa\",\"pattern\":{\"shape\":\"\"}},\"name\":\"\",\"offsetgroup\":\"\",\"orientation\":\"h\",\"showlegend\":false,\"textposition\":\"auto\",\"x\":[0.0004410475084219538,0.10049707109941726,0.23314372226259283,0.665918159129568],\"xaxis\":\"x\",\"y\":[\"Tiempo_web\",\"Tiempo_sesi\\u00f3n\",\"Tiempo_app\",\"A\\u00f1os_miembro\"],\"yaxis\":\"y\",\"type\":\"bar\"}],                        {\"template\":{\"data\":{\"pie\":[{\"automargin\":true,\"type\":\"pie\"}]},\"layout\":{\"xaxis\":{\"showgrid\":true,\"title\":{\"standoff\":15}},\"yaxis\":{\"showgrid\":true,\"title\":{\"standoff\":15}}}},\"xaxis\":{\"anchor\":\"y\",\"domain\":[0.0,1.0],\"title\":{\"text\":\"\"}},\"yaxis\":{\"anchor\":\"x\",\"domain\":[0.0,1.0],\"title\":{\"text\":\"\"},\"tickfont\":{\"size\":10}},\"legend\":{\"tracegroupgap\":0},\"margin\":{\"t\":60},\"barmode\":\"relative\",\"title\":{\"text\":\"Importancia de las variables predictoras\"}},                        {\"responsive\": true}                    ).then(function(){\n",
              "                            \n",
              "var gd = document.getElementById('abdaed65-c67f-4703-8adc-fafa56131aaf');\n",
              "var x = new MutationObserver(function (mutations, observer) {{\n",
              "        var display = window.getComputedStyle(gd).display;\n",
              "        if (!display || display === 'none') {{\n",
              "            console.log([gd, 'removed!']);\n",
              "            Plotly.purge(gd);\n",
              "            observer.disconnect();\n",
              "        }}\n",
              "}});\n",
              "\n",
              "// Listen for the removal of the full notebook cells\n",
              "var notebookContainer = gd.closest('#notebook-container');\n",
              "if (notebookContainer) {{\n",
              "    x.observe(notebookContainer, {childList: true});\n",
              "}}\n",
              "\n",
              "// Listen for the clearing of the current output cell\n",
              "var outputEl = gd.closest('.output');\n",
              "if (outputEl) {{\n",
              "    x.observe(outputEl, {childList: true});\n",
              "}}\n",
              "\n",
              "                        })                };                            </script>        </div>\n",
              "</body>\n",
              "</html>"
            ]
          },
          "metadata": {}
        }
      ]
    },
    {
      "cell_type": "markdown",
      "source": [
        "<p align=\"justify\">\n",
        "Las 2 variables que más contribuyen al rendimiento general del modelo son <code>Años_miembto</code> y <code>Tiempo_app</code>.  "
      ],
      "metadata": {
        "id": "Euy6UwV0z_uB"
      }
    },
    {
      "cell_type": "markdown",
      "source": [
        " # **<font color=\"DeepPink\">Conclusiones</font>**"
      ],
      "metadata": {
        "id": "AeFSFlMVY2kF"
      }
    },
    {
      "cell_type": "markdown",
      "source": [
        "<p align=\"justify\">\n",
        "👀 En este colab nosotros:\n",
        "<br><br>\n",
        "✅ Revisamos los conceptos de conjunto de entrenamiento, validación y prueba.\n",
        "<br>\n",
        "✅ Utilizamos la biblioteca <code>scikit_learn</code> para entrenar un modelo de gradient boosting en el contexto de un problema de regresión.\n",
        "<br>\n",
        "✅ Optimizamos los hiperparámetros del modelo predictivo.\n",
        "<br>\n",
        "✅ Analizamos la importancia de las variables explicativas mediente el atributo <code>feature_importances_</code>.\n",
        "\n"
      ],
      "metadata": {
        "id": "hMlr5a9OY9xY"
      }
    },
    {
      "cell_type": "markdown",
      "source": [
        "<br>\n",
        "<br>\n",
        "<p align=\"center\"><b>\n",
        "💗\n",
        "<font color=\"DeepPink\">\n",
        "Hemos llegado al final de nuestro colab, a seguir codeando...\n",
        "</font>\n",
        "</p>\n",
        "<br>\n",
        "<p align=\"center\">\n",
        "<img src=\"https://github.com/cristiandarioortegayubro/BDS/blob/main/images/Logo%20BDS%20Horizontal%208.png?raw=true\">\n",
        "</p>\n",
        "\n",
        "---\n"
      ],
      "metadata": {
        "id": "wtgChAZSaUMQ"
      }
    }
  ]
}