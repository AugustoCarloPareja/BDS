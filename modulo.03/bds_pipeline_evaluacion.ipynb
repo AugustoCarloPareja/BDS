{
  "nbformat": 4,
  "nbformat_minor": 0,
  "metadata": {
    "colab": {
      "provenance": [],
      "toc_visible": true,
      "include_colab_link": true
    },
    "kernelspec": {
      "name": "python3",
      "display_name": "Python 3"
    },
    "language_info": {
      "name": "python"
    }
  },
  "cells": [
    {
      "cell_type": "markdown",
      "metadata": {
        "id": "view-in-github",
        "colab_type": "text"
      },
      "source": [
        "<a href=\"https://colab.research.google.com/github/cristiandarioortegayubro/BDS/blob/main/modulo.03/bds_pipeline_evaluacion.ipynb\" target=\"_parent\"><img src=\"https://colab.research.google.com/assets/colab-badge.svg\" alt=\"Open In Colab\"/></a>"
      ]
    },
    {
      "cell_type": "markdown",
      "source": [
        "<p align=\"center\">\n",
        "<img src=\"https://github.com/cristiandarioortegayubro/BDS/blob/main/images/Logo%20BDS%20Horizontal%208.png?raw=true\">\n",
        "</p>\n"
      ],
      "metadata": {
        "id": "iheuwam9e4CH"
      }
    },
    {
      "cell_type": "markdown",
      "source": [
        "<p align=\"center\">\n",
        "<img src=\"https://github.com/cristiandarioortegayubro/BDS/blob/main/images/Logo%20Scikit-learn.png?raw=true\">\n",
        "</p>\n"
      ],
      "metadata": {
        "id": "XM-hn7ZLmgQc"
      }
    },
    {
      "cell_type": "markdown",
      "source": [
        " # **<font color=\"DeepPink\">Evaluación Pipeline del Aprendizaje Automático</font>**"
      ],
      "metadata": {
        "id": "_o8tuKydjnRZ"
      }
    },
    {
      "cell_type": "markdown",
      "source": [
        "Apellido y Nombre"
      ],
      "metadata": {
        "id": "6jJ2oUw8xyYY"
      }
    },
    {
      "cell_type": "code",
      "source": [
        "url=\"https://raw.githubusercontent.com/cristiandarioortegayubro/BDS/main/datasets/house_prices.csv\""
      ],
      "metadata": {
        "id": "KEGoCiUEkNaA"
      },
      "execution_count": 2,
      "outputs": []
    },
    {
      "cell_type": "markdown",
      "source": [
        " ## **<font color=\"DeepPink\">Generar el DataFrame</font>**"
      ],
      "metadata": {
        "id": "eTyZwY2TPZnv"
      }
    },
    {
      "cell_type": "code",
      "source": [
        "# mi código aquí"
      ],
      "metadata": {
        "id": "CWj7_IZyPhMc"
      },
      "execution_count": null,
      "outputs": []
    },
    {
      "cell_type": "markdown",
      "source": [
        " ## **<font color=\"DeepPink\">Dividir la variable objetivo del conjunto de datos</font>**"
      ],
      "metadata": {
        "id": "S3GqS1p0Pls_"
      }
    },
    {
      "cell_type": "code",
      "source": [
        "# mi codigo aquí"
      ],
      "metadata": {
        "id": "1oXwjkwchvqq"
      },
      "execution_count": null,
      "outputs": []
    },
    {
      "cell_type": "markdown",
      "source": [
        " ## **<font color=\"DeepPink\">Ajustar la variable objetivo para modelo de clasificación</font>**"
      ],
      "metadata": {
        "id": "qRVyrQt6P1cO"
      }
    },
    {
      "cell_type": "code",
      "source": [
        "# mi codigo aquí"
      ],
      "metadata": {
        "id": "ti0cbUQeh90p"
      },
      "execution_count": 3,
      "outputs": []
    },
    {
      "cell_type": "markdown",
      "source": [
        " ## **<font color=\"DeepPink\">Dividir en datos numéricos y datos categóricos</font>**"
      ],
      "metadata": {
        "id": "8O_GWn2-lFgC"
      }
    },
    {
      "cell_type": "code",
      "source": [
        "# mi codigo aquí"
      ],
      "metadata": {
        "id": "lzszM1a-Cbks"
      },
      "execution_count": null,
      "outputs": []
    },
    {
      "cell_type": "markdown",
      "source": [
        " ## **<font color=\"DeepPink\">Preprocesar los datos</font>**"
      ],
      "metadata": {
        "id": "jSSZpa4ji-Fk"
      }
    },
    {
      "cell_type": "code",
      "source": [
        "# mi codigo aquí"
      ],
      "metadata": {
        "id": "YgIP5JYaYFGE"
      },
      "execution_count": null,
      "outputs": []
    },
    {
      "cell_type": "markdown",
      "source": [
        " ## **<font color=\"DeepPink\">Definición del modelo</font>**"
      ],
      "metadata": {
        "id": "Y-0vC182kalQ"
      }
    },
    {
      "cell_type": "code",
      "source": [
        "from sklearn.ensemble import RandomForestClassifier"
      ],
      "metadata": {
        "id": "uJOUc6k8kecS"
      },
      "execution_count": null,
      "outputs": []
    },
    {
      "cell_type": "markdown",
      "source": [
        " ## **<font color=\"DeepPink\">Generar el Pipeline</font>**"
      ],
      "metadata": {
        "id": "HHp6-LtgQ28x"
      }
    },
    {
      "cell_type": "code",
      "source": [
        "# mi codigo aqui"
      ],
      "metadata": {
        "id": "UDCkteSqkgBe"
      },
      "execution_count": null,
      "outputs": []
    },
    {
      "cell_type": "markdown",
      "source": [
        "## **<font color=\"DeepPink\">Visualizar el Pipeline</font>**"
      ],
      "metadata": {
        "id": "WJyUvFqXkvuM"
      }
    },
    {
      "cell_type": "code",
      "source": [
        "# mi codigo aqui"
      ],
      "metadata": {
        "id": "BYgK8OFvkj-i"
      },
      "execution_count": 4,
      "outputs": []
    },
    {
      "cell_type": "markdown",
      "source": [
        "## **<font color=\"DeepPink\">Dividir el conjunto de datos</font>**"
      ],
      "metadata": {
        "id": "KOhxdCCTLX83"
      }
    },
    {
      "cell_type": "code",
      "source": [
        "# mi codigo aqui"
      ],
      "metadata": {
        "id": "GQJQv5EBLZ4-"
      },
      "execution_count": null,
      "outputs": []
    },
    {
      "cell_type": "markdown",
      "source": [
        " ## **<font color=\"DeepPink\">Ajustar y predecir</font>**"
      ],
      "metadata": {
        "id": "bexR1PWkMCY_"
      }
    },
    {
      "cell_type": "code",
      "source": [
        "# mi codigo aqui"
      ],
      "metadata": {
        "id": "grUmlPxwMa4t"
      },
      "execution_count": null,
      "outputs": []
    },
    {
      "cell_type": "markdown",
      "source": [
        " ## **<font color=\"DeepPink\">Score</font>**"
      ],
      "metadata": {
        "id": "E6JfvaiURgfR"
      }
    },
    {
      "cell_type": "code",
      "source": [
        "# mi codigo aqui"
      ],
      "metadata": {
        "id": "neX7ANEMMiX9"
      },
      "execution_count": 5,
      "outputs": []
    },
    {
      "cell_type": "markdown",
      "source": [
        "<br>\n",
        "<br>\n",
        "<p align=\"center\"><b>\n",
        "💗\n",
        "<font color=\"DeepPink\">\n",
        "Has llegado al final de la evaluación, felicitaciones por el esfuerzo...\n",
        "</font>\n",
        "</p>\n",
        "<br>\n",
        "<p align=\"center\">\n",
        "<img src=\"https://github.com/cristiandarioortegayubro/BDS/blob/main/images/Logo%20BDS%20Horizontal%208.png?raw=true\">\n",
        "</p>\n",
        "\n",
        "---\n"
      ],
      "metadata": {
        "id": "wtgChAZSaUMQ"
      }
    }
  ]
}