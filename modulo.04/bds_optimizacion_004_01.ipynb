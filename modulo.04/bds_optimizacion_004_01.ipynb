{
  "nbformat": 4,
  "nbformat_minor": 0,
  "metadata": {
    "colab": {
      "provenance": [],
      "toc_visible": true,
      "include_colab_link": true
    },
    "kernelspec": {
      "name": "python3",
      "display_name": "Python 3"
    },
    "language_info": {
      "name": "python"
    }
  },
  "cells": [
    {
      "cell_type": "markdown",
      "metadata": {
        "id": "view-in-github",
        "colab_type": "text"
      },
      "source": [
        "<a href=\"https://colab.research.google.com/github/cristiandarioortegayubro/BDS/blob/main/modulo.04/bds_optimizacion_004_01.ipynb\" target=\"_parent\"><img src=\"https://colab.research.google.com/assets/colab-badge.svg\" alt=\"Open In Colab\"/></a>"
      ]
    },
    {
      "cell_type": "markdown",
      "source": [
        "<p align=\"center\">\n",
        "<img src=\"https://github.com/cristiandarioortegayubro/BDS/blob/main/images/Logo%20BDS%20Horizontal%208.png?raw=true\">\n",
        "</p>\n"
      ],
      "metadata": {
        "id": "iheuwam9e4CH"
      }
    },
    {
      "cell_type": "markdown",
      "source": [
        "<p align=\"center\">\n",
        "<img src=\"https://github.com/cristiandarioortegayubro/BDS/blob/main/images/Logo%20Scikit-learn.png?raw=true\">\n",
        "</p>\n"
      ],
      "metadata": {
        "id": "XM-hn7ZLmgQc"
      }
    },
    {
      "cell_type": "markdown",
      "source": [
        " # **<font color=\"DeepPink\">Establecer y obtener hiperparámetros en scikit-learn</font>**"
      ],
      "metadata": {
        "id": "yaPKOxQOm6mQ"
      }
    },
    {
      "cell_type": "markdown",
      "source": [
        "<p align=\"justify\">\n",
        "♥ En los Colabs anteriores, mostramos cómo crear, entrenar, predecir e incluso evaluar un modelo predictivo. Sin embargo, no cambiamos los parámetros de los modelos que se pueden dar al crear una instancia.\n",
        "<br><br>\n",
        "Por ejemplo, para k-vecinos más cercanos, inicialmente usamos este parámetro predeterminado: <code>n_neighbors=5</code> antes de probar otros parámetros del modelo.\n",
        "<br><br>\n",
        "Estos parámetros se denominan <b>hiperparámetros</b>: son parámetros utilizados para controlar el proceso de aprendizaje, por ejemplo, el parámetro $k$ de los k-vecinos más cercanos. Los hiperparámetros los especifica el usuario, a menudo se ajustan manualmente (o mediante una búsqueda automática exhaustiva) y no se pueden estimar a partir de los datos.\n",
        "<br><br>\n",
        "No deben confundirse con los demás parámetros que se infieren durante el proceso de entrenamiento. Estos parámetros definen el propio modelo, por ejemplo <code>coef_</code> para los modelos lineales.\n",
        "<br><br>\n",
        "En este Colab, primero mostraremos que los hiperparámetros tienen un impacto en el rendimiento del modelo y que los valores predeterminados no son necesariamente la mejor opción.\n",
        "<br><br>\n",
        "Posteriormente, mostraremos cómo configurar hiperparámetros en un modelo <code>scikit-learn</code>. Finalmente, mostraremos estrategias que permitan recoger una combinación de hiperparámetros que maximice el rendimiento del modelo."
      ],
      "metadata": {
        "id": "xHyAlHWPnA9r"
      }
    },
    {
      "cell_type": "markdown",
      "source": [
        " ## **<font color=\"DeepPink\">Carga de las librerías</font>**"
      ],
      "metadata": {
        "id": "_o8tuKydjnRZ"
      }
    },
    {
      "cell_type": "code",
      "source": [
        "import numpy as np\n",
        "import pandas as pd"
      ],
      "metadata": {
        "id": "dQtWrchXqRb3"
      },
      "execution_count": null,
      "outputs": []
    },
    {
      "cell_type": "code",
      "source": [
        "from plotly.subplots import make_subplots\n",
        "import plotly.graph_objects as go\n",
        "import plotly.express as px"
      ],
      "metadata": {
        "id": "qCz4roZLF6ti"
      },
      "execution_count": null,
      "outputs": []
    },
    {
      "cell_type": "markdown",
      "source": [
        "<p align=\"justify\">\n",
        "El proceso de aprendizaje de un modelo predictivo está impulsado por un conjunto de parámetros internos y un conjunto de datos de entrenamiento. Estos parámetros internos se denominan hiperparámetros y son específicos para cada familia de modelos. Además, un conjunto específico de hiperparámetros es óptimo para un conjunto de datos específico y, por lo tanto, deben optimizarse.\n",
        "<br><br>\n",
        "🛑 <b>Nota</b>: En este Colab usaremos las palabras \"hiperparámetros\" y \"parámetros\" indistintamente. (Lo cual no es correcto).\n",
        "<br><br>\n",
        "Este Colab muestra cómo se puede obtener y establecer el valor de un hiperparámetro en un estimador de <code>scikit-learn</code>. Recordamos que los hiperparámetros se refieren al parámetro que controlará el proceso de aprendizaje y no deben confundirse con los parámetros ajustados, resultantes del entrenamiento.\n",
        "<br><br>\n",
        "Estos parámetros ajustados son reconocibles en <code>scikit-learn</code> porque se escriben con un guión bajo final, por ejemplo, <code>model.coef_</code>.\n",
        "<br><br>\n",
        "Comenzaremos cargando el conjunto de datos del censo de adultos y usaremos las características numéricas."
      ],
      "metadata": {
        "id": "QmH9gjBnExP1"
      }
    },
    {
      "cell_type": "markdown",
      "source": [
        " ## **<font color=\"DeepPink\">Carga del conjunto de datos</font>**"
      ],
      "metadata": {
        "id": "tZxCwdTuorIq"
      }
    },
    {
      "cell_type": "code",
      "source": [
        "adult_census = pd.read_csv(\"https://raw.githubusercontent.com/cristiandarioortegayubro/BDS/main/datasets/adult_census.csv\")\n",
        "adult_census"
      ],
      "metadata": {
        "colab": {
          "base_uri": "https://localhost:8080/",
          "height": 675
        },
        "id": "WRbreT3-Fgu6",
        "outputId": "e62100d4-0eb6-497e-9adf-ec14fb850894"
      },
      "execution_count": null,
      "outputs": [
        {
          "output_type": "execute_result",
          "data": {
            "text/plain": [
              "       age      workclass      education  education-num       marital-status  \\\n",
              "0       25        Private           11th              7        Never-married   \n",
              "1       38        Private        HS-grad              9   Married-civ-spouse   \n",
              "2       28      Local-gov     Assoc-acdm             12   Married-civ-spouse   \n",
              "3       44        Private   Some-college             10   Married-civ-spouse   \n",
              "4       18              ?   Some-college             10        Never-married   \n",
              "...    ...            ...            ...            ...                  ...   \n",
              "48837   27        Private     Assoc-acdm             12   Married-civ-spouse   \n",
              "48838   40        Private        HS-grad              9   Married-civ-spouse   \n",
              "48839   58        Private        HS-grad              9              Widowed   \n",
              "48840   22        Private        HS-grad              9        Never-married   \n",
              "48841   52   Self-emp-inc        HS-grad              9   Married-civ-spouse   \n",
              "\n",
              "               occupation relationship    race      sex  capital-gain  \\\n",
              "0       Machine-op-inspct    Own-child   Black     Male             0   \n",
              "1         Farming-fishing      Husband   White     Male             0   \n",
              "2         Protective-serv      Husband   White     Male             0   \n",
              "3       Machine-op-inspct      Husband   Black     Male          7688   \n",
              "4                       ?    Own-child   White   Female             0   \n",
              "...                   ...          ...     ...      ...           ...   \n",
              "48837        Tech-support         Wife   White   Female             0   \n",
              "48838   Machine-op-inspct      Husband   White     Male             0   \n",
              "48839        Adm-clerical    Unmarried   White   Female             0   \n",
              "48840        Adm-clerical    Own-child   White     Male             0   \n",
              "48841     Exec-managerial         Wife   White   Female         15024   \n",
              "\n",
              "       capital-loss  hours-per-week  native-country   class  \n",
              "0                 0              40   United-States   <=50K  \n",
              "1                 0              50   United-States   <=50K  \n",
              "2                 0              40   United-States    >50K  \n",
              "3                 0              40   United-States    >50K  \n",
              "4                 0              30   United-States   <=50K  \n",
              "...             ...             ...             ...     ...  \n",
              "48837             0              38   United-States   <=50K  \n",
              "48838             0              40   United-States    >50K  \n",
              "48839             0              40   United-States   <=50K  \n",
              "48840             0              20   United-States   <=50K  \n",
              "48841             0              40   United-States    >50K  \n",
              "\n",
              "[48842 rows x 14 columns]"
            ],
            "text/html": [
              "\n",
              "  <div id=\"df-971de69e-e8cb-4ad1-8d63-2300ca9df72e\">\n",
              "    <div class=\"colab-df-container\">\n",
              "      <div>\n",
              "<style scoped>\n",
              "    .dataframe tbody tr th:only-of-type {\n",
              "        vertical-align: middle;\n",
              "    }\n",
              "\n",
              "    .dataframe tbody tr th {\n",
              "        vertical-align: top;\n",
              "    }\n",
              "\n",
              "    .dataframe thead th {\n",
              "        text-align: right;\n",
              "    }\n",
              "</style>\n",
              "<table border=\"1\" class=\"dataframe\">\n",
              "  <thead>\n",
              "    <tr style=\"text-align: right;\">\n",
              "      <th></th>\n",
              "      <th>age</th>\n",
              "      <th>workclass</th>\n",
              "      <th>education</th>\n",
              "      <th>education-num</th>\n",
              "      <th>marital-status</th>\n",
              "      <th>occupation</th>\n",
              "      <th>relationship</th>\n",
              "      <th>race</th>\n",
              "      <th>sex</th>\n",
              "      <th>capital-gain</th>\n",
              "      <th>capital-loss</th>\n",
              "      <th>hours-per-week</th>\n",
              "      <th>native-country</th>\n",
              "      <th>class</th>\n",
              "    </tr>\n",
              "  </thead>\n",
              "  <tbody>\n",
              "    <tr>\n",
              "      <th>0</th>\n",
              "      <td>25</td>\n",
              "      <td>Private</td>\n",
              "      <td>11th</td>\n",
              "      <td>7</td>\n",
              "      <td>Never-married</td>\n",
              "      <td>Machine-op-inspct</td>\n",
              "      <td>Own-child</td>\n",
              "      <td>Black</td>\n",
              "      <td>Male</td>\n",
              "      <td>0</td>\n",
              "      <td>0</td>\n",
              "      <td>40</td>\n",
              "      <td>United-States</td>\n",
              "      <td>&lt;=50K</td>\n",
              "    </tr>\n",
              "    <tr>\n",
              "      <th>1</th>\n",
              "      <td>38</td>\n",
              "      <td>Private</td>\n",
              "      <td>HS-grad</td>\n",
              "      <td>9</td>\n",
              "      <td>Married-civ-spouse</td>\n",
              "      <td>Farming-fishing</td>\n",
              "      <td>Husband</td>\n",
              "      <td>White</td>\n",
              "      <td>Male</td>\n",
              "      <td>0</td>\n",
              "      <td>0</td>\n",
              "      <td>50</td>\n",
              "      <td>United-States</td>\n",
              "      <td>&lt;=50K</td>\n",
              "    </tr>\n",
              "    <tr>\n",
              "      <th>2</th>\n",
              "      <td>28</td>\n",
              "      <td>Local-gov</td>\n",
              "      <td>Assoc-acdm</td>\n",
              "      <td>12</td>\n",
              "      <td>Married-civ-spouse</td>\n",
              "      <td>Protective-serv</td>\n",
              "      <td>Husband</td>\n",
              "      <td>White</td>\n",
              "      <td>Male</td>\n",
              "      <td>0</td>\n",
              "      <td>0</td>\n",
              "      <td>40</td>\n",
              "      <td>United-States</td>\n",
              "      <td>&gt;50K</td>\n",
              "    </tr>\n",
              "    <tr>\n",
              "      <th>3</th>\n",
              "      <td>44</td>\n",
              "      <td>Private</td>\n",
              "      <td>Some-college</td>\n",
              "      <td>10</td>\n",
              "      <td>Married-civ-spouse</td>\n",
              "      <td>Machine-op-inspct</td>\n",
              "      <td>Husband</td>\n",
              "      <td>Black</td>\n",
              "      <td>Male</td>\n",
              "      <td>7688</td>\n",
              "      <td>0</td>\n",
              "      <td>40</td>\n",
              "      <td>United-States</td>\n",
              "      <td>&gt;50K</td>\n",
              "    </tr>\n",
              "    <tr>\n",
              "      <th>4</th>\n",
              "      <td>18</td>\n",
              "      <td>?</td>\n",
              "      <td>Some-college</td>\n",
              "      <td>10</td>\n",
              "      <td>Never-married</td>\n",
              "      <td>?</td>\n",
              "      <td>Own-child</td>\n",
              "      <td>White</td>\n",
              "      <td>Female</td>\n",
              "      <td>0</td>\n",
              "      <td>0</td>\n",
              "      <td>30</td>\n",
              "      <td>United-States</td>\n",
              "      <td>&lt;=50K</td>\n",
              "    </tr>\n",
              "    <tr>\n",
              "      <th>...</th>\n",
              "      <td>...</td>\n",
              "      <td>...</td>\n",
              "      <td>...</td>\n",
              "      <td>...</td>\n",
              "      <td>...</td>\n",
              "      <td>...</td>\n",
              "      <td>...</td>\n",
              "      <td>...</td>\n",
              "      <td>...</td>\n",
              "      <td>...</td>\n",
              "      <td>...</td>\n",
              "      <td>...</td>\n",
              "      <td>...</td>\n",
              "      <td>...</td>\n",
              "    </tr>\n",
              "    <tr>\n",
              "      <th>48837</th>\n",
              "      <td>27</td>\n",
              "      <td>Private</td>\n",
              "      <td>Assoc-acdm</td>\n",
              "      <td>12</td>\n",
              "      <td>Married-civ-spouse</td>\n",
              "      <td>Tech-support</td>\n",
              "      <td>Wife</td>\n",
              "      <td>White</td>\n",
              "      <td>Female</td>\n",
              "      <td>0</td>\n",
              "      <td>0</td>\n",
              "      <td>38</td>\n",
              "      <td>United-States</td>\n",
              "      <td>&lt;=50K</td>\n",
              "    </tr>\n",
              "    <tr>\n",
              "      <th>48838</th>\n",
              "      <td>40</td>\n",
              "      <td>Private</td>\n",
              "      <td>HS-grad</td>\n",
              "      <td>9</td>\n",
              "      <td>Married-civ-spouse</td>\n",
              "      <td>Machine-op-inspct</td>\n",
              "      <td>Husband</td>\n",
              "      <td>White</td>\n",
              "      <td>Male</td>\n",
              "      <td>0</td>\n",
              "      <td>0</td>\n",
              "      <td>40</td>\n",
              "      <td>United-States</td>\n",
              "      <td>&gt;50K</td>\n",
              "    </tr>\n",
              "    <tr>\n",
              "      <th>48839</th>\n",
              "      <td>58</td>\n",
              "      <td>Private</td>\n",
              "      <td>HS-grad</td>\n",
              "      <td>9</td>\n",
              "      <td>Widowed</td>\n",
              "      <td>Adm-clerical</td>\n",
              "      <td>Unmarried</td>\n",
              "      <td>White</td>\n",
              "      <td>Female</td>\n",
              "      <td>0</td>\n",
              "      <td>0</td>\n",
              "      <td>40</td>\n",
              "      <td>United-States</td>\n",
              "      <td>&lt;=50K</td>\n",
              "    </tr>\n",
              "    <tr>\n",
              "      <th>48840</th>\n",
              "      <td>22</td>\n",
              "      <td>Private</td>\n",
              "      <td>HS-grad</td>\n",
              "      <td>9</td>\n",
              "      <td>Never-married</td>\n",
              "      <td>Adm-clerical</td>\n",
              "      <td>Own-child</td>\n",
              "      <td>White</td>\n",
              "      <td>Male</td>\n",
              "      <td>0</td>\n",
              "      <td>0</td>\n",
              "      <td>20</td>\n",
              "      <td>United-States</td>\n",
              "      <td>&lt;=50K</td>\n",
              "    </tr>\n",
              "    <tr>\n",
              "      <th>48841</th>\n",
              "      <td>52</td>\n",
              "      <td>Self-emp-inc</td>\n",
              "      <td>HS-grad</td>\n",
              "      <td>9</td>\n",
              "      <td>Married-civ-spouse</td>\n",
              "      <td>Exec-managerial</td>\n",
              "      <td>Wife</td>\n",
              "      <td>White</td>\n",
              "      <td>Female</td>\n",
              "      <td>15024</td>\n",
              "      <td>0</td>\n",
              "      <td>40</td>\n",
              "      <td>United-States</td>\n",
              "      <td>&gt;50K</td>\n",
              "    </tr>\n",
              "  </tbody>\n",
              "</table>\n",
              "<p>48842 rows × 14 columns</p>\n",
              "</div>\n",
              "      <button class=\"colab-df-convert\" onclick=\"convertToInteractive('df-971de69e-e8cb-4ad1-8d63-2300ca9df72e')\"\n",
              "              title=\"Convert this dataframe to an interactive table.\"\n",
              "              style=\"display:none;\">\n",
              "        \n",
              "  <svg xmlns=\"http://www.w3.org/2000/svg\" height=\"24px\"viewBox=\"0 0 24 24\"\n",
              "       width=\"24px\">\n",
              "    <path d=\"M0 0h24v24H0V0z\" fill=\"none\"/>\n",
              "    <path d=\"M18.56 5.44l.94 2.06.94-2.06 2.06-.94-2.06-.94-.94-2.06-.94 2.06-2.06.94zm-11 1L8.5 8.5l.94-2.06 2.06-.94-2.06-.94L8.5 2.5l-.94 2.06-2.06.94zm10 10l.94 2.06.94-2.06 2.06-.94-2.06-.94-.94-2.06-.94 2.06-2.06.94z\"/><path d=\"M17.41 7.96l-1.37-1.37c-.4-.4-.92-.59-1.43-.59-.52 0-1.04.2-1.43.59L10.3 9.45l-7.72 7.72c-.78.78-.78 2.05 0 2.83L4 21.41c.39.39.9.59 1.41.59.51 0 1.02-.2 1.41-.59l7.78-7.78 2.81-2.81c.8-.78.8-2.07 0-2.86zM5.41 20L4 18.59l7.72-7.72 1.47 1.35L5.41 20z\"/>\n",
              "  </svg>\n",
              "      </button>\n",
              "      \n",
              "  <style>\n",
              "    .colab-df-container {\n",
              "      display:flex;\n",
              "      flex-wrap:wrap;\n",
              "      gap: 12px;\n",
              "    }\n",
              "\n",
              "    .colab-df-convert {\n",
              "      background-color: #E8F0FE;\n",
              "      border: none;\n",
              "      border-radius: 50%;\n",
              "      cursor: pointer;\n",
              "      display: none;\n",
              "      fill: #1967D2;\n",
              "      height: 32px;\n",
              "      padding: 0 0 0 0;\n",
              "      width: 32px;\n",
              "    }\n",
              "\n",
              "    .colab-df-convert:hover {\n",
              "      background-color: #E2EBFA;\n",
              "      box-shadow: 0px 1px 2px rgba(60, 64, 67, 0.3), 0px 1px 3px 1px rgba(60, 64, 67, 0.15);\n",
              "      fill: #174EA6;\n",
              "    }\n",
              "\n",
              "    [theme=dark] .colab-df-convert {\n",
              "      background-color: #3B4455;\n",
              "      fill: #D2E3FC;\n",
              "    }\n",
              "\n",
              "    [theme=dark] .colab-df-convert:hover {\n",
              "      background-color: #434B5C;\n",
              "      box-shadow: 0px 1px 3px 1px rgba(0, 0, 0, 0.15);\n",
              "      filter: drop-shadow(0px 1px 2px rgba(0, 0, 0, 0.3));\n",
              "      fill: #FFFFFF;\n",
              "    }\n",
              "  </style>\n",
              "\n",
              "      <script>\n",
              "        const buttonEl =\n",
              "          document.querySelector('#df-971de69e-e8cb-4ad1-8d63-2300ca9df72e button.colab-df-convert');\n",
              "        buttonEl.style.display =\n",
              "          google.colab.kernel.accessAllowed ? 'block' : 'none';\n",
              "\n",
              "        async function convertToInteractive(key) {\n",
              "          const element = document.querySelector('#df-971de69e-e8cb-4ad1-8d63-2300ca9df72e');\n",
              "          const dataTable =\n",
              "            await google.colab.kernel.invokeFunction('convertToInteractive',\n",
              "                                                     [key], {});\n",
              "          if (!dataTable) return;\n",
              "\n",
              "          const docLinkHtml = 'Like what you see? Visit the ' +\n",
              "            '<a target=\"_blank\" href=https://colab.research.google.com/notebooks/data_table.ipynb>data table notebook</a>'\n",
              "            + ' to learn more about interactive tables.';\n",
              "          element.innerHTML = '';\n",
              "          dataTable['output_type'] = 'display_data';\n",
              "          await google.colab.output.renderOutput(dataTable, element);\n",
              "          const docLink = document.createElement('div');\n",
              "          docLink.innerHTML = docLinkHtml;\n",
              "          element.appendChild(docLink);\n",
              "        }\n",
              "      </script>\n",
              "    </div>\n",
              "  </div>\n",
              "  "
            ]
          },
          "metadata": {},
          "execution_count": 3
        }
      ]
    },
    {
      "cell_type": "markdown",
      "source": [
        " ## **<font color=\"DeepPink\">Separamos la variable objetivo y las variables explicativas</font>**"
      ],
      "metadata": {
        "id": "7xo7Iwz4GW-U"
      }
    },
    {
      "cell_type": "markdown",
      "source": [
        "<p align=\"justify\">\n",
        "👀 Asignamos a un objeto la variable objetivo:\n",
        "</p>\n"
      ],
      "metadata": {
        "id": "wo4cJeP7F6Il"
      }
    },
    {
      "cell_type": "code",
      "source": [
        "target_name = \"class\""
      ],
      "metadata": {
        "id": "TbwKrs3SF7r4"
      },
      "execution_count": null,
      "outputs": []
    },
    {
      "cell_type": "markdown",
      "source": [
        "<p align=\"justify\">\n",
        "👀 Generamos la lista de las variables (columnas) numericas.\n",
        "</p>"
      ],
      "metadata": {
        "id": "82IFxZ5bGAjq"
      }
    },
    {
      "cell_type": "code",
      "source": [
        "numerical_columns = [\"age\",\n",
        "                     \"capital-gain\",\n",
        "                     \"capital-loss\",\n",
        "                     \"hours-per-week\"]"
      ],
      "metadata": {
        "id": "rYLO_EO2GGQf"
      },
      "execution_count": null,
      "outputs": []
    },
    {
      "cell_type": "markdown",
      "source": [
        "<p align=\"justify\">\n",
        "👀 Dividimos en variable objetivo y variables explicativas.\n",
        "</p>"
      ],
      "metadata": {
        "id": "7ii6AG9jGdO6"
      }
    },
    {
      "cell_type": "code",
      "source": [
        "y = adult_census[target_name]\n",
        "X = adult_census[numerical_columns]"
      ],
      "metadata": {
        "id": "337XCHe2Gdxi"
      },
      "execution_count": null,
      "outputs": []
    },
    {
      "cell_type": "markdown",
      "source": [
        "<p align=\"justify\">\n",
        "👀 Vemos las variables explicativas.\n",
        "</p>"
      ],
      "metadata": {
        "id": "x23LlDqSGi3E"
      }
    },
    {
      "cell_type": "code",
      "source": [
        "X"
      ],
      "metadata": {
        "colab": {
          "base_uri": "https://localhost:8080/",
          "height": 433
        },
        "id": "F3Aj8ed6G7JX",
        "outputId": "8b674f37-c5c9-4f01-c57d-5464ade2a46e"
      },
      "execution_count": null,
      "outputs": [
        {
          "output_type": "execute_result",
          "data": {
            "text/plain": [
              "       age  capital-gain  capital-loss  hours-per-week\n",
              "0       25             0             0              40\n",
              "1       38             0             0              50\n",
              "2       28             0             0              40\n",
              "3       44          7688             0              40\n",
              "4       18             0             0              30\n",
              "...    ...           ...           ...             ...\n",
              "48837   27             0             0              38\n",
              "48838   40             0             0              40\n",
              "48839   58             0             0              40\n",
              "48840   22             0             0              20\n",
              "48841   52         15024             0              40\n",
              "\n",
              "[48842 rows x 4 columns]"
            ],
            "text/html": [
              "\n",
              "  <div id=\"df-07a89f86-1e52-455a-bf73-bc519bcd3af8\">\n",
              "    <div class=\"colab-df-container\">\n",
              "      <div>\n",
              "<style scoped>\n",
              "    .dataframe tbody tr th:only-of-type {\n",
              "        vertical-align: middle;\n",
              "    }\n",
              "\n",
              "    .dataframe tbody tr th {\n",
              "        vertical-align: top;\n",
              "    }\n",
              "\n",
              "    .dataframe thead th {\n",
              "        text-align: right;\n",
              "    }\n",
              "</style>\n",
              "<table border=\"1\" class=\"dataframe\">\n",
              "  <thead>\n",
              "    <tr style=\"text-align: right;\">\n",
              "      <th></th>\n",
              "      <th>age</th>\n",
              "      <th>capital-gain</th>\n",
              "      <th>capital-loss</th>\n",
              "      <th>hours-per-week</th>\n",
              "    </tr>\n",
              "  </thead>\n",
              "  <tbody>\n",
              "    <tr>\n",
              "      <th>0</th>\n",
              "      <td>25</td>\n",
              "      <td>0</td>\n",
              "      <td>0</td>\n",
              "      <td>40</td>\n",
              "    </tr>\n",
              "    <tr>\n",
              "      <th>1</th>\n",
              "      <td>38</td>\n",
              "      <td>0</td>\n",
              "      <td>0</td>\n",
              "      <td>50</td>\n",
              "    </tr>\n",
              "    <tr>\n",
              "      <th>2</th>\n",
              "      <td>28</td>\n",
              "      <td>0</td>\n",
              "      <td>0</td>\n",
              "      <td>40</td>\n",
              "    </tr>\n",
              "    <tr>\n",
              "      <th>3</th>\n",
              "      <td>44</td>\n",
              "      <td>7688</td>\n",
              "      <td>0</td>\n",
              "      <td>40</td>\n",
              "    </tr>\n",
              "    <tr>\n",
              "      <th>4</th>\n",
              "      <td>18</td>\n",
              "      <td>0</td>\n",
              "      <td>0</td>\n",
              "      <td>30</td>\n",
              "    </tr>\n",
              "    <tr>\n",
              "      <th>...</th>\n",
              "      <td>...</td>\n",
              "      <td>...</td>\n",
              "      <td>...</td>\n",
              "      <td>...</td>\n",
              "    </tr>\n",
              "    <tr>\n",
              "      <th>48837</th>\n",
              "      <td>27</td>\n",
              "      <td>0</td>\n",
              "      <td>0</td>\n",
              "      <td>38</td>\n",
              "    </tr>\n",
              "    <tr>\n",
              "      <th>48838</th>\n",
              "      <td>40</td>\n",
              "      <td>0</td>\n",
              "      <td>0</td>\n",
              "      <td>40</td>\n",
              "    </tr>\n",
              "    <tr>\n",
              "      <th>48839</th>\n",
              "      <td>58</td>\n",
              "      <td>0</td>\n",
              "      <td>0</td>\n",
              "      <td>40</td>\n",
              "    </tr>\n",
              "    <tr>\n",
              "      <th>48840</th>\n",
              "      <td>22</td>\n",
              "      <td>0</td>\n",
              "      <td>0</td>\n",
              "      <td>20</td>\n",
              "    </tr>\n",
              "    <tr>\n",
              "      <th>48841</th>\n",
              "      <td>52</td>\n",
              "      <td>15024</td>\n",
              "      <td>0</td>\n",
              "      <td>40</td>\n",
              "    </tr>\n",
              "  </tbody>\n",
              "</table>\n",
              "<p>48842 rows × 4 columns</p>\n",
              "</div>\n",
              "      <button class=\"colab-df-convert\" onclick=\"convertToInteractive('df-07a89f86-1e52-455a-bf73-bc519bcd3af8')\"\n",
              "              title=\"Convert this dataframe to an interactive table.\"\n",
              "              style=\"display:none;\">\n",
              "        \n",
              "  <svg xmlns=\"http://www.w3.org/2000/svg\" height=\"24px\"viewBox=\"0 0 24 24\"\n",
              "       width=\"24px\">\n",
              "    <path d=\"M0 0h24v24H0V0z\" fill=\"none\"/>\n",
              "    <path d=\"M18.56 5.44l.94 2.06.94-2.06 2.06-.94-2.06-.94-.94-2.06-.94 2.06-2.06.94zm-11 1L8.5 8.5l.94-2.06 2.06-.94-2.06-.94L8.5 2.5l-.94 2.06-2.06.94zm10 10l.94 2.06.94-2.06 2.06-.94-2.06-.94-.94-2.06-.94 2.06-2.06.94z\"/><path d=\"M17.41 7.96l-1.37-1.37c-.4-.4-.92-.59-1.43-.59-.52 0-1.04.2-1.43.59L10.3 9.45l-7.72 7.72c-.78.78-.78 2.05 0 2.83L4 21.41c.39.39.9.59 1.41.59.51 0 1.02-.2 1.41-.59l7.78-7.78 2.81-2.81c.8-.78.8-2.07 0-2.86zM5.41 20L4 18.59l7.72-7.72 1.47 1.35L5.41 20z\"/>\n",
              "  </svg>\n",
              "      </button>\n",
              "      \n",
              "  <style>\n",
              "    .colab-df-container {\n",
              "      display:flex;\n",
              "      flex-wrap:wrap;\n",
              "      gap: 12px;\n",
              "    }\n",
              "\n",
              "    .colab-df-convert {\n",
              "      background-color: #E8F0FE;\n",
              "      border: none;\n",
              "      border-radius: 50%;\n",
              "      cursor: pointer;\n",
              "      display: none;\n",
              "      fill: #1967D2;\n",
              "      height: 32px;\n",
              "      padding: 0 0 0 0;\n",
              "      width: 32px;\n",
              "    }\n",
              "\n",
              "    .colab-df-convert:hover {\n",
              "      background-color: #E2EBFA;\n",
              "      box-shadow: 0px 1px 2px rgba(60, 64, 67, 0.3), 0px 1px 3px 1px rgba(60, 64, 67, 0.15);\n",
              "      fill: #174EA6;\n",
              "    }\n",
              "\n",
              "    [theme=dark] .colab-df-convert {\n",
              "      background-color: #3B4455;\n",
              "      fill: #D2E3FC;\n",
              "    }\n",
              "\n",
              "    [theme=dark] .colab-df-convert:hover {\n",
              "      background-color: #434B5C;\n",
              "      box-shadow: 0px 1px 3px 1px rgba(0, 0, 0, 0.15);\n",
              "      filter: drop-shadow(0px 1px 2px rgba(0, 0, 0, 0.3));\n",
              "      fill: #FFFFFF;\n",
              "    }\n",
              "  </style>\n",
              "\n",
              "      <script>\n",
              "        const buttonEl =\n",
              "          document.querySelector('#df-07a89f86-1e52-455a-bf73-bc519bcd3af8 button.colab-df-convert');\n",
              "        buttonEl.style.display =\n",
              "          google.colab.kernel.accessAllowed ? 'block' : 'none';\n",
              "\n",
              "        async function convertToInteractive(key) {\n",
              "          const element = document.querySelector('#df-07a89f86-1e52-455a-bf73-bc519bcd3af8');\n",
              "          const dataTable =\n",
              "            await google.colab.kernel.invokeFunction('convertToInteractive',\n",
              "                                                     [key], {});\n",
              "          if (!dataTable) return;\n",
              "\n",
              "          const docLinkHtml = 'Like what you see? Visit the ' +\n",
              "            '<a target=\"_blank\" href=https://colab.research.google.com/notebooks/data_table.ipynb>data table notebook</a>'\n",
              "            + ' to learn more about interactive tables.';\n",
              "          element.innerHTML = '';\n",
              "          dataTable['output_type'] = 'display_data';\n",
              "          await google.colab.output.renderOutput(dataTable, element);\n",
              "          const docLink = document.createElement('div');\n",
              "          docLink.innerHTML = docLinkHtml;\n",
              "          element.appendChild(docLink);\n",
              "        }\n",
              "      </script>\n",
              "    </div>\n",
              "  </div>\n",
              "  "
            ]
          },
          "metadata": {},
          "execution_count": 7
        }
      ]
    },
    {
      "cell_type": "markdown",
      "source": [
        " # **<font color=\"DeepPink\">Creando un pipeline</font>**"
      ],
      "metadata": {
        "id": "R8W-ZAXjHGaV"
      }
    },
    {
      "cell_type": "markdown",
      "source": [
        "<p align=\"justify\">\n",
        "👀 Vamos a crear un pipeline para un modelo predictivo de un clasificador de regresión logística.\n",
        "<br><br>\n",
        "Como se mencionó anteriormente, muchos modelos, incluidos los lineales, funcionan mejor si todas las funciones tienen una escala similar. Para este propósito, usamos un <code>StandardScaler</code>, que transforma los datos redimensionando las características."
      ],
      "metadata": {
        "id": "HEbrXOcTHLUd"
      }
    },
    {
      "cell_type": "code",
      "source": [
        "from sklearn.pipeline import Pipeline\n",
        "from sklearn.preprocessing import StandardScaler\n",
        "from sklearn.linear_model import LogisticRegression"
      ],
      "metadata": {
        "id": "JvBPF309HLza"
      },
      "execution_count": null,
      "outputs": []
    },
    {
      "cell_type": "code",
      "source": [
        "model = Pipeline(steps=[(\"preprocessor\", StandardScaler()),\n",
        "                        (\"classifier\", LogisticRegression())])"
      ],
      "metadata": {
        "id": "HOnbzfHDHkbX"
      },
      "execution_count": null,
      "outputs": []
    },
    {
      "cell_type": "markdown",
      "source": [
        " # **<font color=\"DeepPink\">Evaluación del modelo</font>**"
      ],
      "metadata": {
        "id": "VVcZcxLQIChJ"
      }
    },
    {
      "cell_type": "markdown",
      "source": [
        "<p align=\"justify\">\n",
        "👀 Podemos evaluar el rendimiento de generalización del modelo a través de la validación cruzada..."
      ],
      "metadata": {
        "id": "AwueXptmIFoF"
      }
    },
    {
      "cell_type": "code",
      "source": [
        "from sklearn.model_selection import cross_validate"
      ],
      "metadata": {
        "id": "UYVF2U-KIGSo"
      },
      "execution_count": null,
      "outputs": []
    },
    {
      "cell_type": "code",
      "source": [
        "cv_results = cross_validate(model, X, y)\n",
        "scores = cv_results[\"test_score\"]"
      ],
      "metadata": {
        "id": "tTOlKenEIZXZ"
      },
      "execution_count": null,
      "outputs": []
    },
    {
      "cell_type": "code",
      "source": [
        "print(\"\")\n",
        "print(f\"Accuracy score via cross-validation:\\n\"\n",
        "      f\"{scores.mean():.3f} ± {scores.std():.3f}\")"
      ],
      "metadata": {
        "colab": {
          "base_uri": "https://localhost:8080/"
        },
        "id": "AIPSqK90IiDa",
        "outputId": "eee72df4-bfdf-4435-d689-36d256f93fd2"
      },
      "execution_count": null,
      "outputs": [
        {
          "output_type": "stream",
          "name": "stdout",
          "text": [
            "\n",
            "Accuracy score via cross-validation:\n",
            "0.800 ± 0.003\n"
          ]
        }
      ]
    },
    {
      "cell_type": "markdown",
      "source": [
        "<p align=\"justify\">\n",
        "Hemos creado un modelo con el valor predeterminado de $C$ que es igual a $1$.\n",
        "<br><br>\n",
        "Si quisiéramos usar un parámetro $C$ diferente, podríamos haberlo hecho cuando creamos el objeto <code>LogisticRegression</code> con el siguiente valor (C=1e-3).\n",
        "<br><br>\n",
        "<b>Nota</b>: Para obtener más información sobre el hiperparámetro $C$ del modelo, consulte la <a class=\"reference external\" href=\"https://scikit-learn.org/stable/modules/generated/sklearn.linear_model.LogisticRegression.html\">documentación</a>.\n",
        "<br><br>\n",
        "Tenga en cuenta que nos centraremos en modelos lineales más adelante.\n",
        "<br><br>\n",
        "También podemos cambiar el parámetro de un modelo después de que se haya creado con el método <code>set_params</code>, que está disponible para todos los estimadores de <code>scikit-learn</code>. Por ejemplo, podemos establecer (C=1e-3), ajustar y evaluar el modelo:"
      ],
      "metadata": {
        "id": "qms5w5qdI7pX"
      }
    },
    {
      "cell_type": "code",
      "source": [
        "model.set_params(classifier__C=1e-3)"
      ],
      "metadata": {
        "colab": {
          "base_uri": "https://localhost:8080/",
          "height": 166
        },
        "id": "tn9Ap27tKDV3",
        "outputId": "e9de6e7c-0606-49dd-991a-790d2827b190"
      },
      "execution_count": null,
      "outputs": [
        {
          "output_type": "execute_result",
          "data": {
            "text/plain": [
              "Pipeline(steps=[('preprocessor', StandardScaler()),\n",
              "                ('classifier', LogisticRegression(C=0.001))])"
            ],
            "text/html": [
              "<style>#sk-container-id-1 {color: black;background-color: white;}#sk-container-id-1 pre{padding: 0;}#sk-container-id-1 div.sk-toggleable {background-color: white;}#sk-container-id-1 label.sk-toggleable__label {cursor: pointer;display: block;width: 100%;margin-bottom: 0;padding: 0.3em;box-sizing: border-box;text-align: center;}#sk-container-id-1 label.sk-toggleable__label-arrow:before {content: \"▸\";float: left;margin-right: 0.25em;color: #696969;}#sk-container-id-1 label.sk-toggleable__label-arrow:hover:before {color: black;}#sk-container-id-1 div.sk-estimator:hover label.sk-toggleable__label-arrow:before {color: black;}#sk-container-id-1 div.sk-toggleable__content {max-height: 0;max-width: 0;overflow: hidden;text-align: left;background-color: #f0f8ff;}#sk-container-id-1 div.sk-toggleable__content pre {margin: 0.2em;color: black;border-radius: 0.25em;background-color: #f0f8ff;}#sk-container-id-1 input.sk-toggleable__control:checked~div.sk-toggleable__content {max-height: 200px;max-width: 100%;overflow: auto;}#sk-container-id-1 input.sk-toggleable__control:checked~label.sk-toggleable__label-arrow:before {content: \"▾\";}#sk-container-id-1 div.sk-estimator input.sk-toggleable__control:checked~label.sk-toggleable__label {background-color: #d4ebff;}#sk-container-id-1 div.sk-label input.sk-toggleable__control:checked~label.sk-toggleable__label {background-color: #d4ebff;}#sk-container-id-1 input.sk-hidden--visually {border: 0;clip: rect(1px 1px 1px 1px);clip: rect(1px, 1px, 1px, 1px);height: 1px;margin: -1px;overflow: hidden;padding: 0;position: absolute;width: 1px;}#sk-container-id-1 div.sk-estimator {font-family: monospace;background-color: #f0f8ff;border: 1px dotted black;border-radius: 0.25em;box-sizing: border-box;margin-bottom: 0.5em;}#sk-container-id-1 div.sk-estimator:hover {background-color: #d4ebff;}#sk-container-id-1 div.sk-parallel-item::after {content: \"\";width: 100%;border-bottom: 1px solid gray;flex-grow: 1;}#sk-container-id-1 div.sk-label:hover label.sk-toggleable__label {background-color: #d4ebff;}#sk-container-id-1 div.sk-serial::before {content: \"\";position: absolute;border-left: 1px solid gray;box-sizing: border-box;top: 0;bottom: 0;left: 50%;z-index: 0;}#sk-container-id-1 div.sk-serial {display: flex;flex-direction: column;align-items: center;background-color: white;padding-right: 0.2em;padding-left: 0.2em;position: relative;}#sk-container-id-1 div.sk-item {position: relative;z-index: 1;}#sk-container-id-1 div.sk-parallel {display: flex;align-items: stretch;justify-content: center;background-color: white;position: relative;}#sk-container-id-1 div.sk-item::before, #sk-container-id-1 div.sk-parallel-item::before {content: \"\";position: absolute;border-left: 1px solid gray;box-sizing: border-box;top: 0;bottom: 0;left: 50%;z-index: -1;}#sk-container-id-1 div.sk-parallel-item {display: flex;flex-direction: column;z-index: 1;position: relative;background-color: white;}#sk-container-id-1 div.sk-parallel-item:first-child::after {align-self: flex-end;width: 50%;}#sk-container-id-1 div.sk-parallel-item:last-child::after {align-self: flex-start;width: 50%;}#sk-container-id-1 div.sk-parallel-item:only-child::after {width: 0;}#sk-container-id-1 div.sk-dashed-wrapped {border: 1px dashed gray;margin: 0 0.4em 0.5em 0.4em;box-sizing: border-box;padding-bottom: 0.4em;background-color: white;}#sk-container-id-1 div.sk-label label {font-family: monospace;font-weight: bold;display: inline-block;line-height: 1.2em;}#sk-container-id-1 div.sk-label-container {text-align: center;}#sk-container-id-1 div.sk-container {/* jupyter's `normalize.less` sets `[hidden] { display: none; }` but bootstrap.min.css set `[hidden] { display: none !important; }` so we also need the `!important` here to be able to override the default hidden behavior on the sphinx rendered scikit-learn.org. See: https://github.com/scikit-learn/scikit-learn/issues/21755 */display: inline-block !important;position: relative;}#sk-container-id-1 div.sk-text-repr-fallback {display: none;}</style><div id=\"sk-container-id-1\" class=\"sk-top-container\"><div class=\"sk-text-repr-fallback\"><pre>Pipeline(steps=[(&#x27;preprocessor&#x27;, StandardScaler()),\n",
              "                (&#x27;classifier&#x27;, LogisticRegression(C=0.001))])</pre><b>In a Jupyter environment, please rerun this cell to show the HTML representation or trust the notebook. <br />On GitHub, the HTML representation is unable to render, please try loading this page with nbviewer.org.</b></div><div class=\"sk-container\" hidden><div class=\"sk-item sk-dashed-wrapped\"><div class=\"sk-label-container\"><div class=\"sk-label sk-toggleable\"><input class=\"sk-toggleable__control sk-hidden--visually\" id=\"sk-estimator-id-1\" type=\"checkbox\" ><label for=\"sk-estimator-id-1\" class=\"sk-toggleable__label sk-toggleable__label-arrow\">Pipeline</label><div class=\"sk-toggleable__content\"><pre>Pipeline(steps=[(&#x27;preprocessor&#x27;, StandardScaler()),\n",
              "                (&#x27;classifier&#x27;, LogisticRegression(C=0.001))])</pre></div></div></div><div class=\"sk-serial\"><div class=\"sk-item\"><div class=\"sk-estimator sk-toggleable\"><input class=\"sk-toggleable__control sk-hidden--visually\" id=\"sk-estimator-id-2\" type=\"checkbox\" ><label for=\"sk-estimator-id-2\" class=\"sk-toggleable__label sk-toggleable__label-arrow\">StandardScaler</label><div class=\"sk-toggleable__content\"><pre>StandardScaler()</pre></div></div></div><div class=\"sk-item\"><div class=\"sk-estimator sk-toggleable\"><input class=\"sk-toggleable__control sk-hidden--visually\" id=\"sk-estimator-id-3\" type=\"checkbox\" ><label for=\"sk-estimator-id-3\" class=\"sk-toggleable__label sk-toggleable__label-arrow\">LogisticRegression</label><div class=\"sk-toggleable__content\"><pre>LogisticRegression(C=0.001)</pre></div></div></div></div></div></div></div>"
            ]
          },
          "metadata": {},
          "execution_count": 13
        }
      ]
    },
    {
      "cell_type": "code",
      "source": [
        "cv_results = cross_validate(model, X, y)\n",
        "scores = cv_results[\"test_score\"]"
      ],
      "metadata": {
        "id": "UbG1lJyjKKxH"
      },
      "execution_count": null,
      "outputs": []
    },
    {
      "cell_type": "code",
      "source": [
        "print(\"\")\n",
        "print(f\"Accuracy score via cross-validation:\\n\"\n",
        "      f\"{scores.mean():.3f} ± {scores.std():.3f}\")"
      ],
      "metadata": {
        "colab": {
          "base_uri": "https://localhost:8080/"
        },
        "id": "32j8CY0UKR5a",
        "outputId": "b9bb60f4-6dc7-421a-9fcb-da7e3a811120"
      },
      "execution_count": null,
      "outputs": [
        {
          "output_type": "stream",
          "name": "stdout",
          "text": [
            "\n",
            "Accuracy score via cross-validation:\n",
            "0.787 ± 0.002\n"
          ]
        }
      ]
    },
    {
      "cell_type": "markdown",
      "source": [
        "<p align=\"justify\">\n",
        "Los nombres de los parámetros tienen la siguiente forma <code>nombre_modelo__nombre_parámetro</code> (doble guión bajo en el medio).\n",
        "<br><br>\n",
        "En nuestro caso, <code>classifier</code> viene de la definición del <code>Pipeline</code> y $C$ es el nombre del parámetro de <code>LogisticRegression</code>."
      ],
      "metadata": {
        "id": "dgj0tn7RKjtp"
      }
    },
    {
      "cell_type": "markdown",
      "source": [
        " # **<font color=\"DeepPink\">Parámetros del modelo</font>**"
      ],
      "metadata": {
        "id": "UxrcHJ90Ktiu"
      }
    },
    {
      "cell_type": "markdown",
      "source": [
        "<p align=\"justify\">\n",
        "En general, puede usar el método <code>get_params</code> en los modelos <code>scikit-learn</code> para enumerar todos los parámetros con sus valores.\n",
        "<br><br>\n",
        "Por ejemplo, si se desea todos los nombres de los parámetros, entonces:"
      ],
      "metadata": {
        "id": "Apn9nd_gKwSd"
      }
    },
    {
      "cell_type": "code",
      "source": [
        "model.get_params()"
      ],
      "metadata": {
        "colab": {
          "base_uri": "https://localhost:8080/"
        },
        "id": "lverP0byMJvO",
        "outputId": "55b95107-5bc5-40f4-ee48-1d82eccb3c4b"
      },
      "execution_count": null,
      "outputs": [
        {
          "output_type": "execute_result",
          "data": {
            "text/plain": [
              "{'memory': None,\n",
              " 'steps': [('preprocessor', StandardScaler()),\n",
              "  ('classifier', LogisticRegression(C=0.001))],\n",
              " 'verbose': False,\n",
              " 'preprocessor': StandardScaler(),\n",
              " 'classifier': LogisticRegression(C=0.001),\n",
              " 'preprocessor__copy': True,\n",
              " 'preprocessor__with_mean': True,\n",
              " 'preprocessor__with_std': True,\n",
              " 'classifier__C': 0.001,\n",
              " 'classifier__class_weight': None,\n",
              " 'classifier__dual': False,\n",
              " 'classifier__fit_intercept': True,\n",
              " 'classifier__intercept_scaling': 1,\n",
              " 'classifier__l1_ratio': None,\n",
              " 'classifier__max_iter': 100,\n",
              " 'classifier__multi_class': 'auto',\n",
              " 'classifier__n_jobs': None,\n",
              " 'classifier__penalty': 'l2',\n",
              " 'classifier__random_state': None,\n",
              " 'classifier__solver': 'lbfgs',\n",
              " 'classifier__tol': 0.0001,\n",
              " 'classifier__verbose': 0,\n",
              " 'classifier__warm_start': False}"
            ]
          },
          "metadata": {},
          "execution_count": 16
        }
      ]
    },
    {
      "cell_type": "markdown",
      "source": [
        "<p align=\"justify\">\n",
        "👀 Consultando solo los parámetros..."
      ],
      "metadata": {
        "id": "krXgVVAXMXl0"
      }
    },
    {
      "cell_type": "code",
      "source": [
        "for i in model.get_params():\n",
        "    print(i)"
      ],
      "metadata": {
        "colab": {
          "base_uri": "https://localhost:8080/"
        },
        "id": "PER9UPrnMYF8",
        "outputId": "a085c402-27f9-41ab-87fc-5278945f327b"
      },
      "execution_count": null,
      "outputs": [
        {
          "output_type": "stream",
          "name": "stdout",
          "text": [
            "memory\n",
            "steps\n",
            "verbose\n",
            "preprocessor\n",
            "classifier\n",
            "preprocessor__copy\n",
            "preprocessor__with_mean\n",
            "preprocessor__with_std\n",
            "classifier__C\n",
            "classifier__class_weight\n",
            "classifier__dual\n",
            "classifier__fit_intercept\n",
            "classifier__intercept_scaling\n",
            "classifier__l1_ratio\n",
            "classifier__max_iter\n",
            "classifier__multi_class\n",
            "classifier__n_jobs\n",
            "classifier__penalty\n",
            "classifier__random_state\n",
            "classifier__solver\n",
            "classifier__tol\n",
            "classifier__verbose\n",
            "classifier__warm_start\n"
          ]
        }
      ]
    },
    {
      "cell_type": "markdown",
      "source": [
        "<p align=\"justify\">\n",
        "<code>.get_params()</code> devuelve un diccionario cuyas claves son los nombres de los parámetros y cuyos valores son los valores de los parámetros. Si se desea obtener el valor de un solo parámetro, por ejemplo <code>clasificador__C</code>, puede usar:"
      ],
      "metadata": {
        "id": "BlM7r6xTM5-z"
      }
    },
    {
      "cell_type": "code",
      "source": [
        "model.get_params()['classifier__C']"
      ],
      "metadata": {
        "colab": {
          "base_uri": "https://localhost:8080/"
        },
        "id": "fb2SqFhXNOnM",
        "outputId": "9a8c6711-686c-4d4a-e07a-a2c09caaefc3"
      },
      "execution_count": null,
      "outputs": [
        {
          "output_type": "execute_result",
          "data": {
            "text/plain": [
              "0.001"
            ]
          },
          "metadata": {},
          "execution_count": 18
        }
      ]
    },
    {
      "cell_type": "markdown",
      "source": [
        " # **<font color=\"DeepPink\">Valores óptimos de los parámetros</font>**"
      ],
      "metadata": {
        "id": "fSDX6UvtNZLU"
      }
    },
    {
      "cell_type": "markdown",
      "source": [
        "<p align=\"justify\">\n",
        "Podemos variar sistemáticamente el valor de $C$ para ver si hay un valor óptimo."
      ],
      "metadata": {
        "id": "JS7txhE1Nif3"
      }
    },
    {
      "cell_type": "code",
      "source": [
        "for C in [1e-3, 1e-2, 1e-1, 1, 10, 100]:\n",
        "    model.set_params(classifier__C=C)\n",
        "    cv_results = cross_validate(model, X, y)\n",
        "    scores = cv_results[\"test_score\"]\n",
        "    print(f\"Accuracy score via cross-validation with C={C}:\\n\"\n",
        "          f\"{scores.mean():.3f} ± {scores.std():.3f}\")"
      ],
      "metadata": {
        "colab": {
          "base_uri": "https://localhost:8080/"
        },
        "id": "VaUemqY0NjMg",
        "outputId": "96923225-5bae-4b85-92c5-1b574d9bb443"
      },
      "execution_count": null,
      "outputs": [
        {
          "output_type": "stream",
          "name": "stdout",
          "text": [
            "Accuracy score via cross-validation with C=0.001:\n",
            "0.787 ± 0.002\n",
            "Accuracy score via cross-validation with C=0.01:\n",
            "0.799 ± 0.003\n",
            "Accuracy score via cross-validation with C=0.1:\n",
            "0.800 ± 0.003\n",
            "Accuracy score via cross-validation with C=1:\n",
            "0.800 ± 0.003\n",
            "Accuracy score via cross-validation with C=10:\n",
            "0.800 ± 0.003\n",
            "Accuracy score via cross-validation with C=100:\n",
            "0.800 ± 0.003\n"
          ]
        }
      ]
    },
    {
      "cell_type": "markdown",
      "source": [
        "<p align=\"justify\">\n",
        "Podemos ver que mientras $C$ sea lo suficientemente alto, el modelo parece funcionar bien.\n",
        "<br><br>\n",
        "Lo que hicimos aquí es muy manual: implica escanear los valores de $C$ y elegir el mejor valor manualmente. En el próximo Colab, veremos cómo hacer esta tarea automáticamente."
      ],
      "metadata": {
        "id": "F3EEnN8_OzG0"
      }
    },
    {
      "cell_type": "markdown",
      "source": [
        " # **<font color=\"DeepPink\">Conclusiones</font>**"
      ],
      "metadata": {
        "id": "Y-dYoJ6cLjUb"
      }
    },
    {
      "cell_type": "markdown",
      "source": [
        "<p align=\"justify\">\n",
        "👀 En este colab nosotros:\n",
        "<br><br>\n",
        "✅ Cargamos los datos de un archivo <code>CSV</code> usando <code>Pandas</code>.<br>\n",
        "✅ Examinamos las variables numéricas.\n",
        "<br>\n",
        "✅ Hicimos un modelo de regresión logística con todo el conjunto de datos.\n",
        "<br>\n",
        "✅ Usamos <code>get_params</code> y <code>set_params</code> para obtener los parámetros de un modelo y para configurarlos."
      ],
      "metadata": {
        "id": "dj34CE0h5Hb6"
      }
    },
    {
      "cell_type": "markdown",
      "source": [
        "<br>\n",
        "<br>\n",
        "<p align=\"center\"><b>\n",
        "💗\n",
        "<font color=\"DeepPink\">\n",
        "Hemos llegado al final de nuestro colab, a seguir codeando...\n",
        "</font>\n",
        "</p>\n",
        "<br>\n",
        "<p align=\"center\">\n",
        "<img src=\"https://github.com/cristiandarioortegayubro/BDS/blob/main/images/Logo%20BDS%20Horizontal%208.png?raw=true\">\n",
        "</p>\n",
        "\n",
        "---\n"
      ],
      "metadata": {
        "id": "wtgChAZSaUMQ"
      }
    }
  ]
}