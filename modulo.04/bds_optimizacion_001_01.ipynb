{
  "nbformat": 4,
  "nbformat_minor": 0,
  "metadata": {
    "colab": {
      "provenance": [],
      "include_colab_link": true
    },
    "kernelspec": {
      "name": "python3",
      "display_name": "Python 3"
    },
    "language_info": {
      "name": "python"
    }
  },
  "cells": [
    {
      "cell_type": "markdown",
      "metadata": {
        "id": "view-in-github",
        "colab_type": "text"
      },
      "source": [
        "<a href=\"https://colab.research.google.com/github/cristiandarioortegayubro/BDS/blob/main/modulo.04/bds_optimizacion_001_01.ipynb\" target=\"_parent\"><img src=\"https://colab.research.google.com/assets/colab-badge.svg\" alt=\"Open In Colab\"/></a>"
      ]
    },
    {
      "cell_type": "markdown",
      "source": [
        "<p align=\"center\">\n",
        "<img src=\"https://github.com/cristiandarioortegayubro/BDS/blob/main/images/Logo%20BDS%20Horizontal%208.png?raw=true\">\n",
        "</p>\n"
      ],
      "metadata": {
        "id": "iheuwam9e4CH"
      }
    },
    {
      "cell_type": "markdown",
      "source": [
        "<p align=\"center\">\n",
        "<img src=\"https://github.com/cristiandarioortegayubro/BDS/blob/main/images/Logo%20Scikit-learn.png?raw=true\">\n",
        "</p>\n"
      ],
      "metadata": {
        "id": "XM-hn7ZLmgQc"
      }
    },
    {
      "cell_type": "markdown",
      "source": [
        " # **<font color=\"DeepPink\">Validación cruzada</font>**"
      ],
      "metadata": {
        "id": "yaPKOxQOm6mQ"
      }
    },
    {
      "cell_type": "markdown",
      "source": [
        "<p align=\"justify\">\n",
        "♥ En los Colabs anteriores, se ven algunos conceptos relacionados con los modelos predictivos. Si bien esta sección podría ser un poco redundante con lo que se ve anteriormente, la intención es la de profundizar el tema de validación cruzada.\n",
        "<br><br>\n",
        "Antes de comenzar, detengámonos en las razones para tener un conjunto de datos de entrenamiento y otro conjunto de prueba. Pero antes, vamos a ver la limitación de usar todo el conjunto de datos, sin dividirlo.\n",
        "<br><br>\n",
        "👀 Para comparar los diferentes conceptos, usamos el conjunto de datos de viviendas de California, pero previo a comenzar, vamos a definir el tema de este Colab, la validación cruzada."
      ],
      "metadata": {
        "id": "xHyAlHWPnA9r"
      }
    },
    {
      "cell_type": "markdown",
      "source": [
        " ## **<font color=\"DeepPink\">Definición y conceptos de la validación cruzada</font>**"
      ],
      "metadata": {
        "id": "_9ZVQ73bf4SU"
      }
    },
    {
      "cell_type": "markdown",
      "source": [
        "<p align=\"justify\">\n",
        "✅ La validación cruzada, también conocida como <b>cross-validation</b> en inglés, es una técnica utilizada en el aprendizaje automático para evaluar el rendimiento de un modelo o algoritmo predictivo.\n",
        "<br><br>\n",
        "En <code>scikit-learn</code>, la biblioteca seleccionada para desarrollar modelos de aprendizaje automático, la validación cruzada se implementa mediante la función <code>cross_validate</code> del módulo <code>model_selection</code>. Esta función permite realizar la validación cruzada de manera sencilla y eficiente.\n",
        "<br><br>\n",
        "El proceso de validación cruzada implica dividir el conjunto de datos disponible en varios subconjuntos o \"pliegues\" (folds en inglés). Luego, se entrena y evalúa el modelo en múltiples iteraciones, utilizando diferentes combinaciones de subconjuntos de entrenamiento y prueba. En cada iteración, se reserva uno de los pliegues como conjunto de prueba y se utiliza el resto de los pliegues para entrenar el modelo. Luego, se evalúa el modelo en el pliegue de prueba y se registra su rendimiento.\n",
        "<br><br>\n",
        "Por ese motivo, el proceso de validación cruzada permite evaluar cómo se generaliza el modelo a nuevos datos y ayuda a evitar problemas como el sobreajuste (<b>overfitting</b>). Además, proporciona una estimación más precisa del rendimiento del modelo.\n",
        "<br><br>\n",
        "La forma más común de validación cruzada es la validación cruzada <b>k-fold</b> (k-fold cross-validation en inglés). En este enfoque, se divide el conjunto de datos en $k$ pliegues de tamaño aproximadamente igual. Luego, se realiza el entrenamiento y la evaluación $k$ veces, utilizando cada uno de los pliegues como conjunto de prueba una vez, mientras que los restantes $k-1$ pliegues se utilizan como conjunto de entrenamiento en cada iteración.\n",
        "\n",
        "<p align=\"center\">\n",
        "<img src=\"https://github.com/cristiandarioortegayubro/BDS/blob/main/images/k-fold-001.png?raw=true\" width=\"600\">\n",
        "</p>"
      ],
      "metadata": {
        "id": "VfGG-APlgBEm"
      }
    },
    {
      "cell_type": "markdown",
      "source": [
        " ## **<font color=\"DeepPink\">Carga de las librerías</font>**"
      ],
      "metadata": {
        "id": "_o8tuKydjnRZ"
      }
    },
    {
      "cell_type": "code",
      "source": [
        "import numpy as np\n",
        "import pandas as pd"
      ],
      "metadata": {
        "id": "dQtWrchXqRb3"
      },
      "execution_count": null,
      "outputs": []
    },
    {
      "cell_type": "code",
      "source": [
        "import plotly.express as px"
      ],
      "metadata": {
        "id": "qCz4roZLF6ti"
      },
      "execution_count": null,
      "outputs": []
    },
    {
      "cell_type": "markdown",
      "source": [
        " ## **<font color=\"DeepPink\">Carga y análisis de conjunto de datos</font>**"
      ],
      "metadata": {
        "id": "tZxCwdTuorIq"
      }
    },
    {
      "cell_type": "markdown",
      "source": [
        "<p align = \"justify\">\n",
        "👀 Vamos a usar datos de <code>scikit-learn</code>"
      ],
      "metadata": {
        "id": "0QwHydi-Nsho"
      }
    },
    {
      "cell_type": "code",
      "source": [
        "from sklearn.datasets import fetch_california_housing"
      ],
      "metadata": {
        "id": "Ys70RyRRr5mV"
      },
      "execution_count": null,
      "outputs": []
    },
    {
      "cell_type": "code",
      "source": [
        "housing = fetch_california_housing(as_frame=True) #as_frame: como Pandas DataFrame"
      ],
      "metadata": {
        "id": "CrAA-UTEQRCa"
      },
      "execution_count": null,
      "outputs": []
    },
    {
      "cell_type": "markdown",
      "source": [
        "<p align = \"justify\">\n",
        "👀 Vemos que tipo de objeto es"
      ],
      "metadata": {
        "id": "-ca3ZlZGN7jm"
      }
    },
    {
      "cell_type": "code",
      "source": [
        "type(housing)"
      ],
      "metadata": {
        "colab": {
          "base_uri": "https://localhost:8080/"
        },
        "id": "n4eD7PhcOAnX",
        "outputId": "79f45ca2-cb10-4868-b4e9-e5b65f91fa21"
      },
      "execution_count": null,
      "outputs": [
        {
          "output_type": "execute_result",
          "data": {
            "text/plain": [
              "sklearn.utils._bunch.Bunch"
            ]
          },
          "metadata": {},
          "execution_count": 27
        }
      ]
    },
    {
      "cell_type": "markdown",
      "source": [
        "<p align = \"justify\">\n",
        "👀 Ahora vemos la descripción del conjunto de datos."
      ],
      "metadata": {
        "id": "zXAadD_NODqc"
      }
    },
    {
      "cell_type": "code",
      "source": [
        "print(housing.DESCR)"
      ],
      "metadata": {
        "colab": {
          "base_uri": "https://localhost:8080/"
        },
        "id": "goXWiYUjsEIg",
        "outputId": "f06e1024-8642-4e2e-a46d-b210661404cc"
      },
      "execution_count": null,
      "outputs": [
        {
          "output_type": "stream",
          "name": "stdout",
          "text": [
            ".. _california_housing_dataset:\n",
            "\n",
            "California Housing dataset\n",
            "--------------------------\n",
            "\n",
            "**Data Set Characteristics:**\n",
            "\n",
            "    :Number of Instances: 20640\n",
            "\n",
            "    :Number of Attributes: 8 numeric, predictive attributes and the target\n",
            "\n",
            "    :Attribute Information:\n",
            "        - MedInc        median income in block group\n",
            "        - HouseAge      median house age in block group\n",
            "        - AveRooms      average number of rooms per household\n",
            "        - AveBedrms     average number of bedrooms per household\n",
            "        - Population    block group population\n",
            "        - AveOccup      average number of household members\n",
            "        - Latitude      block group latitude\n",
            "        - Longitude     block group longitude\n",
            "\n",
            "    :Missing Attribute Values: None\n",
            "\n",
            "This dataset was obtained from the StatLib repository.\n",
            "https://www.dcc.fc.up.pt/~ltorgo/Regression/cal_housing.html\n",
            "\n",
            "The target variable is the median house value for California districts,\n",
            "expressed in hundreds of thousands of dollars ($100,000).\n",
            "\n",
            "This dataset was derived from the 1990 U.S. census, using one row per census\n",
            "block group. A block group is the smallest geographical unit for which the U.S.\n",
            "Census Bureau publishes sample data (a block group typically has a population\n",
            "of 600 to 3,000 people).\n",
            "\n",
            "A household is a group of people residing within a home. Since the average\n",
            "number of rooms and bedrooms in this dataset are provided per household, these\n",
            "columns may take surprisingly large values for block groups with few households\n",
            "and many empty houses, such as vacation resorts.\n",
            "\n",
            "It can be downloaded/loaded using the\n",
            ":func:`sklearn.datasets.fetch_california_housing` function.\n",
            "\n",
            ".. topic:: References\n",
            "\n",
            "    - Pace, R. Kelley and Ronald Barry, Sparse Spatial Autoregressions,\n",
            "      Statistics and Probability Letters, 33 (1997) 291-297\n",
            "\n"
          ]
        }
      ]
    },
    {
      "cell_type": "markdown",
      "source": [
        "<p align=\"justify\">\n",
        "👀 En este conjunto de datos, el objetivo es predecir el valor promedio de las casas en un área de California. Las características recopiladas se basan en información inmobiliaria y geográfica general de estas propiedades. Como el valor promedio a predecir es el precio medio (variable numérica continua), utilizaremos entonces un modelo predictivo específico de regresión."
      ],
      "metadata": {
        "id": "xuQqVeEzsZtE"
      }
    },
    {
      "cell_type": "markdown",
      "source": [
        "<p align=\"justify\">\n",
        "🛑 Vimos que el objeto <code>housing</code> es un objeto de <code>scikit-learn</code> y tiene sus propios métodos y atributos, como por ejemplo <code>data</code> que lo muestra o transforma en un <code>DataFrame</code>"
      ],
      "metadata": {
        "id": "CHM8EVz6iuU_"
      }
    },
    {
      "cell_type": "code",
      "source": [
        "type(housing)"
      ],
      "metadata": {
        "colab": {
          "base_uri": "https://localhost:8080/"
        },
        "id": "hX-gKga8ie7B",
        "outputId": "b4afaf4c-db65-4956-e6c3-e491bd0e0246"
      },
      "execution_count": null,
      "outputs": [
        {
          "output_type": "execute_result",
          "data": {
            "text/plain": [
              "sklearn.utils._bunch.Bunch"
            ]
          },
          "metadata": {},
          "execution_count": 29
        }
      ]
    },
    {
      "cell_type": "code",
      "source": [
        "housing.data.head()"
      ],
      "metadata": {
        "colab": {
          "base_uri": "https://localhost:8080/",
          "height": 206
        },
        "id": "LUqwAiE4ijrt",
        "outputId": "034d257f-4150-4b95-aa2d-e3f3609de000"
      },
      "execution_count": null,
      "outputs": [
        {
          "output_type": "execute_result",
          "data": {
            "text/plain": [
              "   MedInc  HouseAge  AveRooms  AveBedrms  Population  AveOccup  Latitude  \\\n",
              "0  8.3252      41.0  6.984127   1.023810       322.0  2.555556     37.88   \n",
              "1  8.3014      21.0  6.238137   0.971880      2401.0  2.109842     37.86   \n",
              "2  7.2574      52.0  8.288136   1.073446       496.0  2.802260     37.85   \n",
              "3  5.6431      52.0  5.817352   1.073059       558.0  2.547945     37.85   \n",
              "4  3.8462      52.0  6.281853   1.081081       565.0  2.181467     37.85   \n",
              "\n",
              "   Longitude  \n",
              "0    -122.23  \n",
              "1    -122.22  \n",
              "2    -122.24  \n",
              "3    -122.25  \n",
              "4    -122.25  "
            ],
            "text/html": [
              "\n",
              "  <div id=\"df-a604c136-6c81-450c-8209-975962a48f03\">\n",
              "    <div class=\"colab-df-container\">\n",
              "      <div>\n",
              "<style scoped>\n",
              "    .dataframe tbody tr th:only-of-type {\n",
              "        vertical-align: middle;\n",
              "    }\n",
              "\n",
              "    .dataframe tbody tr th {\n",
              "        vertical-align: top;\n",
              "    }\n",
              "\n",
              "    .dataframe thead th {\n",
              "        text-align: right;\n",
              "    }\n",
              "</style>\n",
              "<table border=\"1\" class=\"dataframe\">\n",
              "  <thead>\n",
              "    <tr style=\"text-align: right;\">\n",
              "      <th></th>\n",
              "      <th>MedInc</th>\n",
              "      <th>HouseAge</th>\n",
              "      <th>AveRooms</th>\n",
              "      <th>AveBedrms</th>\n",
              "      <th>Population</th>\n",
              "      <th>AveOccup</th>\n",
              "      <th>Latitude</th>\n",
              "      <th>Longitude</th>\n",
              "    </tr>\n",
              "  </thead>\n",
              "  <tbody>\n",
              "    <tr>\n",
              "      <th>0</th>\n",
              "      <td>8.3252</td>\n",
              "      <td>41.0</td>\n",
              "      <td>6.984127</td>\n",
              "      <td>1.023810</td>\n",
              "      <td>322.0</td>\n",
              "      <td>2.555556</td>\n",
              "      <td>37.88</td>\n",
              "      <td>-122.23</td>\n",
              "    </tr>\n",
              "    <tr>\n",
              "      <th>1</th>\n",
              "      <td>8.3014</td>\n",
              "      <td>21.0</td>\n",
              "      <td>6.238137</td>\n",
              "      <td>0.971880</td>\n",
              "      <td>2401.0</td>\n",
              "      <td>2.109842</td>\n",
              "      <td>37.86</td>\n",
              "      <td>-122.22</td>\n",
              "    </tr>\n",
              "    <tr>\n",
              "      <th>2</th>\n",
              "      <td>7.2574</td>\n",
              "      <td>52.0</td>\n",
              "      <td>8.288136</td>\n",
              "      <td>1.073446</td>\n",
              "      <td>496.0</td>\n",
              "      <td>2.802260</td>\n",
              "      <td>37.85</td>\n",
              "      <td>-122.24</td>\n",
              "    </tr>\n",
              "    <tr>\n",
              "      <th>3</th>\n",
              "      <td>5.6431</td>\n",
              "      <td>52.0</td>\n",
              "      <td>5.817352</td>\n",
              "      <td>1.073059</td>\n",
              "      <td>558.0</td>\n",
              "      <td>2.547945</td>\n",
              "      <td>37.85</td>\n",
              "      <td>-122.25</td>\n",
              "    </tr>\n",
              "    <tr>\n",
              "      <th>4</th>\n",
              "      <td>3.8462</td>\n",
              "      <td>52.0</td>\n",
              "      <td>6.281853</td>\n",
              "      <td>1.081081</td>\n",
              "      <td>565.0</td>\n",
              "      <td>2.181467</td>\n",
              "      <td>37.85</td>\n",
              "      <td>-122.25</td>\n",
              "    </tr>\n",
              "  </tbody>\n",
              "</table>\n",
              "</div>\n",
              "      <button class=\"colab-df-convert\" onclick=\"convertToInteractive('df-a604c136-6c81-450c-8209-975962a48f03')\"\n",
              "              title=\"Convert this dataframe to an interactive table.\"\n",
              "              style=\"display:none;\">\n",
              "        \n",
              "  <svg xmlns=\"http://www.w3.org/2000/svg\" height=\"24px\"viewBox=\"0 0 24 24\"\n",
              "       width=\"24px\">\n",
              "    <path d=\"M0 0h24v24H0V0z\" fill=\"none\"/>\n",
              "    <path d=\"M18.56 5.44l.94 2.06.94-2.06 2.06-.94-2.06-.94-.94-2.06-.94 2.06-2.06.94zm-11 1L8.5 8.5l.94-2.06 2.06-.94-2.06-.94L8.5 2.5l-.94 2.06-2.06.94zm10 10l.94 2.06.94-2.06 2.06-.94-2.06-.94-.94-2.06-.94 2.06-2.06.94z\"/><path d=\"M17.41 7.96l-1.37-1.37c-.4-.4-.92-.59-1.43-.59-.52 0-1.04.2-1.43.59L10.3 9.45l-7.72 7.72c-.78.78-.78 2.05 0 2.83L4 21.41c.39.39.9.59 1.41.59.51 0 1.02-.2 1.41-.59l7.78-7.78 2.81-2.81c.8-.78.8-2.07 0-2.86zM5.41 20L4 18.59l7.72-7.72 1.47 1.35L5.41 20z\"/>\n",
              "  </svg>\n",
              "      </button>\n",
              "      \n",
              "  <style>\n",
              "    .colab-df-container {\n",
              "      display:flex;\n",
              "      flex-wrap:wrap;\n",
              "      gap: 12px;\n",
              "    }\n",
              "\n",
              "    .colab-df-convert {\n",
              "      background-color: #E8F0FE;\n",
              "      border: none;\n",
              "      border-radius: 50%;\n",
              "      cursor: pointer;\n",
              "      display: none;\n",
              "      fill: #1967D2;\n",
              "      height: 32px;\n",
              "      padding: 0 0 0 0;\n",
              "      width: 32px;\n",
              "    }\n",
              "\n",
              "    .colab-df-convert:hover {\n",
              "      background-color: #E2EBFA;\n",
              "      box-shadow: 0px 1px 2px rgba(60, 64, 67, 0.3), 0px 1px 3px 1px rgba(60, 64, 67, 0.15);\n",
              "      fill: #174EA6;\n",
              "    }\n",
              "\n",
              "    [theme=dark] .colab-df-convert {\n",
              "      background-color: #3B4455;\n",
              "      fill: #D2E3FC;\n",
              "    }\n",
              "\n",
              "    [theme=dark] .colab-df-convert:hover {\n",
              "      background-color: #434B5C;\n",
              "      box-shadow: 0px 1px 3px 1px rgba(0, 0, 0, 0.15);\n",
              "      filter: drop-shadow(0px 1px 2px rgba(0, 0, 0, 0.3));\n",
              "      fill: #FFFFFF;\n",
              "    }\n",
              "  </style>\n",
              "\n",
              "      <script>\n",
              "        const buttonEl =\n",
              "          document.querySelector('#df-a604c136-6c81-450c-8209-975962a48f03 button.colab-df-convert');\n",
              "        buttonEl.style.display =\n",
              "          google.colab.kernel.accessAllowed ? 'block' : 'none';\n",
              "\n",
              "        async function convertToInteractive(key) {\n",
              "          const element = document.querySelector('#df-a604c136-6c81-450c-8209-975962a48f03');\n",
              "          const dataTable =\n",
              "            await google.colab.kernel.invokeFunction('convertToInteractive',\n",
              "                                                     [key], {});\n",
              "          if (!dataTable) return;\n",
              "\n",
              "          const docLinkHtml = 'Like what you see? Visit the ' +\n",
              "            '<a target=\"_blank\" href=https://colab.research.google.com/notebooks/data_table.ipynb>data table notebook</a>'\n",
              "            + ' to learn more about interactive tables.';\n",
              "          element.innerHTML = '';\n",
              "          dataTable['output_type'] = 'display_data';\n",
              "          await google.colab.output.renderOutput(dataTable, element);\n",
              "          const docLink = document.createElement('div');\n",
              "          docLink.innerHTML = docLinkHtml;\n",
              "          element.appendChild(docLink);\n",
              "        }\n",
              "      </script>\n",
              "    </div>\n",
              "  </div>\n",
              "  "
            ]
          },
          "metadata": {},
          "execution_count": 30
        }
      ]
    },
    {
      "cell_type": "markdown",
      "source": [
        "<p align = \"justify\">\n",
        "👀 Tambien podemos ver la variable objetivo con <code>target</code>"
      ],
      "metadata": {
        "id": "yS2XXH1-OWpH"
      }
    },
    {
      "cell_type": "code",
      "source": [
        "housing.target"
      ],
      "metadata": {
        "colab": {
          "base_uri": "https://localhost:8080/"
        },
        "id": "orlP2t3m68gu",
        "outputId": "7aa7efcf-2c11-461d-cdeb-fb9047d566e9"
      },
      "execution_count": null,
      "outputs": [
        {
          "output_type": "execute_result",
          "data": {
            "text/plain": [
              "0        4.526\n",
              "1        3.585\n",
              "2        3.521\n",
              "3        3.413\n",
              "4        3.422\n",
              "         ...  \n",
              "20635    0.781\n",
              "20636    0.771\n",
              "20637    0.923\n",
              "20638    0.847\n",
              "20639    0.894\n",
              "Name: MedHouseVal, Length: 20640, dtype: float64"
            ]
          },
          "metadata": {},
          "execution_count": 31
        }
      ]
    },
    {
      "cell_type": "markdown",
      "source": [
        "<p align=\"justify\">\n",
        "👀 Ahora si, dividimos todos los datos del conjunto de datos <code>housing</code>, en nuestra variable objetivo y las variables explicativas. En el caso de la variable objetivo hacemos una transformación de los datos para expresar los valores a cientos de miles de dólares."
      ],
      "metadata": {
        "id": "La2vHNcKjSF9"
      }
    },
    {
      "cell_type": "code",
      "source": [
        "y = housing.target * 100000 #transformamos el precio a cientos de miles de dólares.\n",
        "X = housing.data"
      ],
      "metadata": {
        "id": "aL_sviXos9LV"
      },
      "execution_count": null,
      "outputs": []
    },
    {
      "cell_type": "markdown",
      "source": [
        "<p align=\"justify\">\n",
        "👀 Visualizamos variable objetivo."
      ],
      "metadata": {
        "id": "BH0Zf31jkILh"
      }
    },
    {
      "cell_type": "code",
      "source": [
        "y.head()"
      ],
      "metadata": {
        "colab": {
          "base_uri": "https://localhost:8080/"
        },
        "id": "cMzb9UsctawO",
        "outputId": "88459ca5-6fda-44f2-fd5f-d0691c40cd91"
      },
      "execution_count": null,
      "outputs": [
        {
          "output_type": "execute_result",
          "data": {
            "text/plain": [
              "0    452600.0\n",
              "1    358500.0\n",
              "2    352100.0\n",
              "3    341300.0\n",
              "4    342200.0\n",
              "Name: MedHouseVal, dtype: float64"
            ]
          },
          "metadata": {},
          "execution_count": 33
        }
      ]
    },
    {
      "cell_type": "markdown",
      "source": [
        "<p align=\"justify\">\n",
        "👀 Visualizamos variables explicativas."
      ],
      "metadata": {
        "id": "w7d0ls5CkMmf"
      }
    },
    {
      "cell_type": "code",
      "source": [
        "X.head()"
      ],
      "metadata": {
        "colab": {
          "base_uri": "https://localhost:8080/",
          "height": 206
        },
        "id": "DtBzMPbdtdx9",
        "outputId": "89e47d95-ef78-49ce-fedf-0171d10a64a1"
      },
      "execution_count": null,
      "outputs": [
        {
          "output_type": "execute_result",
          "data": {
            "text/plain": [
              "   MedInc  HouseAge  AveRooms  AveBedrms  Population  AveOccup  Latitude  \\\n",
              "0  8.3252      41.0  6.984127   1.023810       322.0  2.555556     37.88   \n",
              "1  8.3014      21.0  6.238137   0.971880      2401.0  2.109842     37.86   \n",
              "2  7.2574      52.0  8.288136   1.073446       496.0  2.802260     37.85   \n",
              "3  5.6431      52.0  5.817352   1.073059       558.0  2.547945     37.85   \n",
              "4  3.8462      52.0  6.281853   1.081081       565.0  2.181467     37.85   \n",
              "\n",
              "   Longitude  \n",
              "0    -122.23  \n",
              "1    -122.22  \n",
              "2    -122.24  \n",
              "3    -122.25  \n",
              "4    -122.25  "
            ],
            "text/html": [
              "\n",
              "  <div id=\"df-39cace10-f2c2-4a67-a144-a701b26f8142\">\n",
              "    <div class=\"colab-df-container\">\n",
              "      <div>\n",
              "<style scoped>\n",
              "    .dataframe tbody tr th:only-of-type {\n",
              "        vertical-align: middle;\n",
              "    }\n",
              "\n",
              "    .dataframe tbody tr th {\n",
              "        vertical-align: top;\n",
              "    }\n",
              "\n",
              "    .dataframe thead th {\n",
              "        text-align: right;\n",
              "    }\n",
              "</style>\n",
              "<table border=\"1\" class=\"dataframe\">\n",
              "  <thead>\n",
              "    <tr style=\"text-align: right;\">\n",
              "      <th></th>\n",
              "      <th>MedInc</th>\n",
              "      <th>HouseAge</th>\n",
              "      <th>AveRooms</th>\n",
              "      <th>AveBedrms</th>\n",
              "      <th>Population</th>\n",
              "      <th>AveOccup</th>\n",
              "      <th>Latitude</th>\n",
              "      <th>Longitude</th>\n",
              "    </tr>\n",
              "  </thead>\n",
              "  <tbody>\n",
              "    <tr>\n",
              "      <th>0</th>\n",
              "      <td>8.3252</td>\n",
              "      <td>41.0</td>\n",
              "      <td>6.984127</td>\n",
              "      <td>1.023810</td>\n",
              "      <td>322.0</td>\n",
              "      <td>2.555556</td>\n",
              "      <td>37.88</td>\n",
              "      <td>-122.23</td>\n",
              "    </tr>\n",
              "    <tr>\n",
              "      <th>1</th>\n",
              "      <td>8.3014</td>\n",
              "      <td>21.0</td>\n",
              "      <td>6.238137</td>\n",
              "      <td>0.971880</td>\n",
              "      <td>2401.0</td>\n",
              "      <td>2.109842</td>\n",
              "      <td>37.86</td>\n",
              "      <td>-122.22</td>\n",
              "    </tr>\n",
              "    <tr>\n",
              "      <th>2</th>\n",
              "      <td>7.2574</td>\n",
              "      <td>52.0</td>\n",
              "      <td>8.288136</td>\n",
              "      <td>1.073446</td>\n",
              "      <td>496.0</td>\n",
              "      <td>2.802260</td>\n",
              "      <td>37.85</td>\n",
              "      <td>-122.24</td>\n",
              "    </tr>\n",
              "    <tr>\n",
              "      <th>3</th>\n",
              "      <td>5.6431</td>\n",
              "      <td>52.0</td>\n",
              "      <td>5.817352</td>\n",
              "      <td>1.073059</td>\n",
              "      <td>558.0</td>\n",
              "      <td>2.547945</td>\n",
              "      <td>37.85</td>\n",
              "      <td>-122.25</td>\n",
              "    </tr>\n",
              "    <tr>\n",
              "      <th>4</th>\n",
              "      <td>3.8462</td>\n",
              "      <td>52.0</td>\n",
              "      <td>6.281853</td>\n",
              "      <td>1.081081</td>\n",
              "      <td>565.0</td>\n",
              "      <td>2.181467</td>\n",
              "      <td>37.85</td>\n",
              "      <td>-122.25</td>\n",
              "    </tr>\n",
              "  </tbody>\n",
              "</table>\n",
              "</div>\n",
              "      <button class=\"colab-df-convert\" onclick=\"convertToInteractive('df-39cace10-f2c2-4a67-a144-a701b26f8142')\"\n",
              "              title=\"Convert this dataframe to an interactive table.\"\n",
              "              style=\"display:none;\">\n",
              "        \n",
              "  <svg xmlns=\"http://www.w3.org/2000/svg\" height=\"24px\"viewBox=\"0 0 24 24\"\n",
              "       width=\"24px\">\n",
              "    <path d=\"M0 0h24v24H0V0z\" fill=\"none\"/>\n",
              "    <path d=\"M18.56 5.44l.94 2.06.94-2.06 2.06-.94-2.06-.94-.94-2.06-.94 2.06-2.06.94zm-11 1L8.5 8.5l.94-2.06 2.06-.94-2.06-.94L8.5 2.5l-.94 2.06-2.06.94zm10 10l.94 2.06.94-2.06 2.06-.94-2.06-.94-.94-2.06-.94 2.06-2.06.94z\"/><path d=\"M17.41 7.96l-1.37-1.37c-.4-.4-.92-.59-1.43-.59-.52 0-1.04.2-1.43.59L10.3 9.45l-7.72 7.72c-.78.78-.78 2.05 0 2.83L4 21.41c.39.39.9.59 1.41.59.51 0 1.02-.2 1.41-.59l7.78-7.78 2.81-2.81c.8-.78.8-2.07 0-2.86zM5.41 20L4 18.59l7.72-7.72 1.47 1.35L5.41 20z\"/>\n",
              "  </svg>\n",
              "      </button>\n",
              "      \n",
              "  <style>\n",
              "    .colab-df-container {\n",
              "      display:flex;\n",
              "      flex-wrap:wrap;\n",
              "      gap: 12px;\n",
              "    }\n",
              "\n",
              "    .colab-df-convert {\n",
              "      background-color: #E8F0FE;\n",
              "      border: none;\n",
              "      border-radius: 50%;\n",
              "      cursor: pointer;\n",
              "      display: none;\n",
              "      fill: #1967D2;\n",
              "      height: 32px;\n",
              "      padding: 0 0 0 0;\n",
              "      width: 32px;\n",
              "    }\n",
              "\n",
              "    .colab-df-convert:hover {\n",
              "      background-color: #E2EBFA;\n",
              "      box-shadow: 0px 1px 2px rgba(60, 64, 67, 0.3), 0px 1px 3px 1px rgba(60, 64, 67, 0.15);\n",
              "      fill: #174EA6;\n",
              "    }\n",
              "\n",
              "    [theme=dark] .colab-df-convert {\n",
              "      background-color: #3B4455;\n",
              "      fill: #D2E3FC;\n",
              "    }\n",
              "\n",
              "    [theme=dark] .colab-df-convert:hover {\n",
              "      background-color: #434B5C;\n",
              "      box-shadow: 0px 1px 3px 1px rgba(0, 0, 0, 0.15);\n",
              "      filter: drop-shadow(0px 1px 2px rgba(0, 0, 0, 0.3));\n",
              "      fill: #FFFFFF;\n",
              "    }\n",
              "  </style>\n",
              "\n",
              "      <script>\n",
              "        const buttonEl =\n",
              "          document.querySelector('#df-39cace10-f2c2-4a67-a144-a701b26f8142 button.colab-df-convert');\n",
              "        buttonEl.style.display =\n",
              "          google.colab.kernel.accessAllowed ? 'block' : 'none';\n",
              "\n",
              "        async function convertToInteractive(key) {\n",
              "          const element = document.querySelector('#df-39cace10-f2c2-4a67-a144-a701b26f8142');\n",
              "          const dataTable =\n",
              "            await google.colab.kernel.invokeFunction('convertToInteractive',\n",
              "                                                     [key], {});\n",
              "          if (!dataTable) return;\n",
              "\n",
              "          const docLinkHtml = 'Like what you see? Visit the ' +\n",
              "            '<a target=\"_blank\" href=https://colab.research.google.com/notebooks/data_table.ipynb>data table notebook</a>'\n",
              "            + ' to learn more about interactive tables.';\n",
              "          element.innerHTML = '';\n",
              "          dataTable['output_type'] = 'display_data';\n",
              "          await google.colab.output.renderOutput(dataTable, element);\n",
              "          const docLink = document.createElement('div');\n",
              "          docLink.innerHTML = docLinkHtml;\n",
              "          element.appendChild(docLink);\n",
              "        }\n",
              "      </script>\n",
              "    </div>\n",
              "  </div>\n",
              "  "
            ]
          },
          "metadata": {},
          "execution_count": 34
        }
      ]
    },
    {
      "cell_type": "markdown",
      "source": [
        " # **<font color=\"DeepPink\">Error de entrenamiento versus Error de prueba</font>**\n"
      ],
      "metadata": {
        "id": "vF0xSR4JB8q3"
      }
    },
    {
      "cell_type": "markdown",
      "source": [
        " ## **<font color=\"DeepPink\">Creación y ajuste del modelo</font>**"
      ],
      "metadata": {
        "id": "tfagF9MsxsGc"
      }
    },
    {
      "cell_type": "markdown",
      "source": [
        "Para resolver el problema de regresión, utilizaremos un [Árbol de Regresión](https://scikit-learn.org/stable/modules/generated/sklearn.tree.DecisionTreeRegressor.html)"
      ],
      "metadata": {
        "id": "naTmjBuT1C9u"
      }
    },
    {
      "cell_type": "markdown",
      "source": [
        "<p align=\"justify\">\n",
        "Un árbol de decisión en <code>scikit-learn</code> es un algoritmo de aprendizaje automático supervisado utilizado para resolver problemas de clasificación y regresión. Se basa en la idea de construir un modelo en forma de árbol que toma decisiones secuenciales basadas en características o atributos de los datos de entrada, o variables explicativas.\n",
        "<br><br>\n",
        "En <code>scikit-learn</code>, los árboles de decisión se implementan a través de la clase <code>DecisionTreeClassifier</code> para problemas de clasificación y la clase <code>DecisionTreeRegressor</code> para problemas de regresión."
      ],
      "metadata": {
        "id": "-JKPRoIDk022"
      }
    },
    {
      "cell_type": "code",
      "source": [
        "from sklearn.tree import DecisionTreeRegressor"
      ],
      "metadata": {
        "id": "mzOWSymJBx0E"
      },
      "execution_count": null,
      "outputs": []
    },
    {
      "cell_type": "markdown",
      "source": [
        "<p align=\"justify\">\n",
        "👀 Entonces la creación del árbol se hace con la instancia de la clase  <code>DecisionTreeRegressor</code>, y se ajusta al conjunto de datos  utilizando el método <code>fit()</code>. Durante este proceso, el árbol se construye de forma recursiva dividiendo los datos en función de las variables explicativas para minimizar la impureza (Entropía o Gini) en los nodos (clasificación) o minimizar su varianza (regresión)."
      ],
      "metadata": {
        "id": "y-faQ_dWl6tm"
      }
    },
    {
      "cell_type": "code",
      "source": [
        "model = DecisionTreeRegressor(random_state=0)\n",
        "model.fit(X, y)"
      ],
      "metadata": {
        "id": "8cuWWp_Dxs7F",
        "colab": {
          "base_uri": "https://localhost:8080/",
          "height": 75
        },
        "outputId": "42723e7f-d0aa-491f-d071-e750e10d5e70"
      },
      "execution_count": null,
      "outputs": [
        {
          "output_type": "execute_result",
          "data": {
            "text/plain": [
              "DecisionTreeRegressor(random_state=0)"
            ],
            "text/html": [
              "<style>#sk-container-id-3 {color: black;background-color: white;}#sk-container-id-3 pre{padding: 0;}#sk-container-id-3 div.sk-toggleable {background-color: white;}#sk-container-id-3 label.sk-toggleable__label {cursor: pointer;display: block;width: 100%;margin-bottom: 0;padding: 0.3em;box-sizing: border-box;text-align: center;}#sk-container-id-3 label.sk-toggleable__label-arrow:before {content: \"▸\";float: left;margin-right: 0.25em;color: #696969;}#sk-container-id-3 label.sk-toggleable__label-arrow:hover:before {color: black;}#sk-container-id-3 div.sk-estimator:hover label.sk-toggleable__label-arrow:before {color: black;}#sk-container-id-3 div.sk-toggleable__content {max-height: 0;max-width: 0;overflow: hidden;text-align: left;background-color: #f0f8ff;}#sk-container-id-3 div.sk-toggleable__content pre {margin: 0.2em;color: black;border-radius: 0.25em;background-color: #f0f8ff;}#sk-container-id-3 input.sk-toggleable__control:checked~div.sk-toggleable__content {max-height: 200px;max-width: 100%;overflow: auto;}#sk-container-id-3 input.sk-toggleable__control:checked~label.sk-toggleable__label-arrow:before {content: \"▾\";}#sk-container-id-3 div.sk-estimator input.sk-toggleable__control:checked~label.sk-toggleable__label {background-color: #d4ebff;}#sk-container-id-3 div.sk-label input.sk-toggleable__control:checked~label.sk-toggleable__label {background-color: #d4ebff;}#sk-container-id-3 input.sk-hidden--visually {border: 0;clip: rect(1px 1px 1px 1px);clip: rect(1px, 1px, 1px, 1px);height: 1px;margin: -1px;overflow: hidden;padding: 0;position: absolute;width: 1px;}#sk-container-id-3 div.sk-estimator {font-family: monospace;background-color: #f0f8ff;border: 1px dotted black;border-radius: 0.25em;box-sizing: border-box;margin-bottom: 0.5em;}#sk-container-id-3 div.sk-estimator:hover {background-color: #d4ebff;}#sk-container-id-3 div.sk-parallel-item::after {content: \"\";width: 100%;border-bottom: 1px solid gray;flex-grow: 1;}#sk-container-id-3 div.sk-label:hover label.sk-toggleable__label {background-color: #d4ebff;}#sk-container-id-3 div.sk-serial::before {content: \"\";position: absolute;border-left: 1px solid gray;box-sizing: border-box;top: 0;bottom: 0;left: 50%;z-index: 0;}#sk-container-id-3 div.sk-serial {display: flex;flex-direction: column;align-items: center;background-color: white;padding-right: 0.2em;padding-left: 0.2em;position: relative;}#sk-container-id-3 div.sk-item {position: relative;z-index: 1;}#sk-container-id-3 div.sk-parallel {display: flex;align-items: stretch;justify-content: center;background-color: white;position: relative;}#sk-container-id-3 div.sk-item::before, #sk-container-id-3 div.sk-parallel-item::before {content: \"\";position: absolute;border-left: 1px solid gray;box-sizing: border-box;top: 0;bottom: 0;left: 50%;z-index: -1;}#sk-container-id-3 div.sk-parallel-item {display: flex;flex-direction: column;z-index: 1;position: relative;background-color: white;}#sk-container-id-3 div.sk-parallel-item:first-child::after {align-self: flex-end;width: 50%;}#sk-container-id-3 div.sk-parallel-item:last-child::after {align-self: flex-start;width: 50%;}#sk-container-id-3 div.sk-parallel-item:only-child::after {width: 0;}#sk-container-id-3 div.sk-dashed-wrapped {border: 1px dashed gray;margin: 0 0.4em 0.5em 0.4em;box-sizing: border-box;padding-bottom: 0.4em;background-color: white;}#sk-container-id-3 div.sk-label label {font-family: monospace;font-weight: bold;display: inline-block;line-height: 1.2em;}#sk-container-id-3 div.sk-label-container {text-align: center;}#sk-container-id-3 div.sk-container {/* jupyter's `normalize.less` sets `[hidden] { display: none; }` but bootstrap.min.css set `[hidden] { display: none !important; }` so we also need the `!important` here to be able to override the default hidden behavior on the sphinx rendered scikit-learn.org. See: https://github.com/scikit-learn/scikit-learn/issues/21755 */display: inline-block !important;position: relative;}#sk-container-id-3 div.sk-text-repr-fallback {display: none;}</style><div id=\"sk-container-id-3\" class=\"sk-top-container\"><div class=\"sk-text-repr-fallback\"><pre>DecisionTreeRegressor(random_state=0)</pre><b>In a Jupyter environment, please rerun this cell to show the HTML representation or trust the notebook. <br />On GitHub, the HTML representation is unable to render, please try loading this page with nbviewer.org.</b></div><div class=\"sk-container\" hidden><div class=\"sk-item\"><div class=\"sk-estimator sk-toggleable\"><input class=\"sk-toggleable__control sk-hidden--visually\" id=\"sk-estimator-id-3\" type=\"checkbox\" checked><label for=\"sk-estimator-id-3\" class=\"sk-toggleable__label sk-toggleable__label-arrow\">DecisionTreeRegressor</label><div class=\"sk-toggleable__content\"><pre>DecisionTreeRegressor(random_state=0)</pre></div></div></div></div></div>"
            ]
          },
          "metadata": {},
          "execution_count": 36
        }
      ]
    },
    {
      "cell_type": "markdown",
      "source": [
        " ## **<font color=\"DeepPink\">Evaluación del modelo</font>**"
      ],
      "metadata": {
        "id": "vLAoGjmr2nWN"
      }
    },
    {
      "cell_type": "markdown",
      "source": [
        "<p align=\"justify\">\n",
        "👀 Después de entrenar el modelo, nos gustaría conocer el rendimiento potencial una vez implementado en producción. Para este propósito, usamos el error absoluto medio (MAE por sus siglas en inglés), que nos da un error en la unidad original, es decir en este caso, expresado en $."
      ],
      "metadata": {
        "id": "qJMI-W9y3vVf"
      }
    },
    {
      "cell_type": "code",
      "source": [
        "from sklearn.metrics import mean_absolute_error"
      ],
      "metadata": {
        "id": "vjOGLCBjChUV"
      },
      "execution_count": null,
      "outputs": []
    },
    {
      "cell_type": "code",
      "source": [
        "y_predicted = model.predict(X)\n",
        "score = mean_absolute_error(y, y_predicted)\n",
        "print(\"\")\n",
        "print(f\"En promedio, nuestro modelo genera un error de $ {score:.2f}\")"
      ],
      "metadata": {
        "colab": {
          "base_uri": "https://localhost:8080/"
        },
        "id": "99TaVkNb3-Zi",
        "outputId": "373812b3-4343-47f6-f6ac-093d0c88102e"
      },
      "execution_count": null,
      "outputs": [
        {
          "output_type": "stream",
          "name": "stdout",
          "text": [
            "\n",
            "En promedio, nuestro modelo genera un error de $ 0.00\n"
          ]
        }
      ]
    },
    {
      "cell_type": "markdown",
      "source": [
        "<p align=\"justify\">\n",
        "Vemos que obtenemos una predicción perfecta sin errores de los precios de las propiedades. Esto es demasiado optimista y cuando sucede, casi siempre revela un problema metodológico.\n",
        "<br><br>\n",
        "👀 Entrenamos y predijimos con el mismo conjunto de datos.\n",
        "<br><br>\n",
        "En nuestro árbol de decisión, cada muestra en el conjunto de datos se almacena en un nodo hoja. Por lo tanto, nuestro árbol de decisiones memorizó completamente el conjunto de datos proporcionado durante el ajuste del modelo <code>fit()</code> y por ese motivo, no cometió ningún error al predecir los valores de los precios de las propiedades.\n",
        "\n"
      ],
      "metadata": {
        "id": "IUFzwFMs6hqD"
      }
    },
    {
      "cell_type": "markdown",
      "source": [
        "## **<font color=\"DeepPink\">División de datos de prueba y entrenamiento</font>**"
      ],
      "metadata": {
        "id": "QxtgNPhpoezM"
      }
    },
    {
      "cell_type": "markdown",
      "source": [
        "<p align=\"justify\">\n",
        "🛑 El error calculado anteriormente se denomina <b>error empírico</b> o <b>error de entrenamiento</b>.\n",
        "<br><br>\n",
        "Entrenamos un modelo predictivo para minimizar el error de entrenamiento, pero nuestro objetivo es minimizar el error en los datos que no se han visto durante el entrenamiento del modelo.\n",
        "<br><br>\n",
        "Este error también se denomina <b>error de generalización</b> o <b>error de prueba \"verdadero\"</b>.\n",
        "<br><br>\n",
        "Así, la evaluación más básica implica:\n",
        "\n",
        "* Dividir el conjunto de datos en un conjunto de entrenamiento y un conjunto de prueba;\n",
        "* Ajustar el modelo en el conjunto de entrenamiento;\n",
        "* Estimar el error de entrenamiento en el conjunto de entrenamiento;\n",
        "* Estimar el error de prueba en el conjunto de prueba.\n",
        "\n",
        "<br>\n",
        "<p align=\"justify\">\n",
        "👀 Así que dividamos nuestro conjunto de datos, para ello <code>scikit-learn</code> proporciona una función llamada <code>train_test_split</code> del módulo <code>model_selection</code> que se utiliza para realizar esta división. La función <code>train_test_split</code> toma como entrada el conjunto de datos completo y lo divide en dos conjuntos: uno para entrenamiento y otro para evaluación.\n",
        "<br><br>\n",
        "La división del conjunto de datos se realiza de manera aleatoria, asegurando que los datos se mezclen para evitar cualquier sesgo o patrón específico en los conjuntos de entrenamiento y evaluación. Por lo general, la división se realiza asignando un porcentaje específico de los datos al conjunto de evaluación (también conocido como conjunto de prueba) y el restante al conjunto de entrenamiento.\n",
        "<br><br>\n"
      ],
      "metadata": {
        "id": "Zrvtqf2e94ak"
      }
    },
    {
      "cell_type": "code",
      "source": [
        "from sklearn.model_selection import train_test_split"
      ],
      "metadata": {
        "id": "3mM-QE3OCuNC"
      },
      "execution_count": null,
      "outputs": []
    },
    {
      "cell_type": "code",
      "source": [
        "X_train, X_test, y_train, y_test = train_test_split(X, y, random_state=0)"
      ],
      "metadata": {
        "id": "osG0fG4HAJn7"
      },
      "execution_count": null,
      "outputs": []
    },
    {
      "cell_type": "code",
      "source": [
        "model.fit(X_train, y_train)"
      ],
      "metadata": {
        "colab": {
          "base_uri": "https://localhost:8080/",
          "height": 75
        },
        "id": "aIX7ruPzAlhn",
        "outputId": "1f351ba3-476b-4c53-b27c-860833cc9466"
      },
      "execution_count": null,
      "outputs": [
        {
          "output_type": "execute_result",
          "data": {
            "text/plain": [
              "DecisionTreeRegressor(random_state=0)"
            ],
            "text/html": [
              "<style>#sk-container-id-4 {color: black;background-color: white;}#sk-container-id-4 pre{padding: 0;}#sk-container-id-4 div.sk-toggleable {background-color: white;}#sk-container-id-4 label.sk-toggleable__label {cursor: pointer;display: block;width: 100%;margin-bottom: 0;padding: 0.3em;box-sizing: border-box;text-align: center;}#sk-container-id-4 label.sk-toggleable__label-arrow:before {content: \"▸\";float: left;margin-right: 0.25em;color: #696969;}#sk-container-id-4 label.sk-toggleable__label-arrow:hover:before {color: black;}#sk-container-id-4 div.sk-estimator:hover label.sk-toggleable__label-arrow:before {color: black;}#sk-container-id-4 div.sk-toggleable__content {max-height: 0;max-width: 0;overflow: hidden;text-align: left;background-color: #f0f8ff;}#sk-container-id-4 div.sk-toggleable__content pre {margin: 0.2em;color: black;border-radius: 0.25em;background-color: #f0f8ff;}#sk-container-id-4 input.sk-toggleable__control:checked~div.sk-toggleable__content {max-height: 200px;max-width: 100%;overflow: auto;}#sk-container-id-4 input.sk-toggleable__control:checked~label.sk-toggleable__label-arrow:before {content: \"▾\";}#sk-container-id-4 div.sk-estimator input.sk-toggleable__control:checked~label.sk-toggleable__label {background-color: #d4ebff;}#sk-container-id-4 div.sk-label input.sk-toggleable__control:checked~label.sk-toggleable__label {background-color: #d4ebff;}#sk-container-id-4 input.sk-hidden--visually {border: 0;clip: rect(1px 1px 1px 1px);clip: rect(1px, 1px, 1px, 1px);height: 1px;margin: -1px;overflow: hidden;padding: 0;position: absolute;width: 1px;}#sk-container-id-4 div.sk-estimator {font-family: monospace;background-color: #f0f8ff;border: 1px dotted black;border-radius: 0.25em;box-sizing: border-box;margin-bottom: 0.5em;}#sk-container-id-4 div.sk-estimator:hover {background-color: #d4ebff;}#sk-container-id-4 div.sk-parallel-item::after {content: \"\";width: 100%;border-bottom: 1px solid gray;flex-grow: 1;}#sk-container-id-4 div.sk-label:hover label.sk-toggleable__label {background-color: #d4ebff;}#sk-container-id-4 div.sk-serial::before {content: \"\";position: absolute;border-left: 1px solid gray;box-sizing: border-box;top: 0;bottom: 0;left: 50%;z-index: 0;}#sk-container-id-4 div.sk-serial {display: flex;flex-direction: column;align-items: center;background-color: white;padding-right: 0.2em;padding-left: 0.2em;position: relative;}#sk-container-id-4 div.sk-item {position: relative;z-index: 1;}#sk-container-id-4 div.sk-parallel {display: flex;align-items: stretch;justify-content: center;background-color: white;position: relative;}#sk-container-id-4 div.sk-item::before, #sk-container-id-4 div.sk-parallel-item::before {content: \"\";position: absolute;border-left: 1px solid gray;box-sizing: border-box;top: 0;bottom: 0;left: 50%;z-index: -1;}#sk-container-id-4 div.sk-parallel-item {display: flex;flex-direction: column;z-index: 1;position: relative;background-color: white;}#sk-container-id-4 div.sk-parallel-item:first-child::after {align-self: flex-end;width: 50%;}#sk-container-id-4 div.sk-parallel-item:last-child::after {align-self: flex-start;width: 50%;}#sk-container-id-4 div.sk-parallel-item:only-child::after {width: 0;}#sk-container-id-4 div.sk-dashed-wrapped {border: 1px dashed gray;margin: 0 0.4em 0.5em 0.4em;box-sizing: border-box;padding-bottom: 0.4em;background-color: white;}#sk-container-id-4 div.sk-label label {font-family: monospace;font-weight: bold;display: inline-block;line-height: 1.2em;}#sk-container-id-4 div.sk-label-container {text-align: center;}#sk-container-id-4 div.sk-container {/* jupyter's `normalize.less` sets `[hidden] { display: none; }` but bootstrap.min.css set `[hidden] { display: none !important; }` so we also need the `!important` here to be able to override the default hidden behavior on the sphinx rendered scikit-learn.org. See: https://github.com/scikit-learn/scikit-learn/issues/21755 */display: inline-block !important;position: relative;}#sk-container-id-4 div.sk-text-repr-fallback {display: none;}</style><div id=\"sk-container-id-4\" class=\"sk-top-container\"><div class=\"sk-text-repr-fallback\"><pre>DecisionTreeRegressor(random_state=0)</pre><b>In a Jupyter environment, please rerun this cell to show the HTML representation or trust the notebook. <br />On GitHub, the HTML representation is unable to render, please try loading this page with nbviewer.org.</b></div><div class=\"sk-container\" hidden><div class=\"sk-item\"><div class=\"sk-estimator sk-toggleable\"><input class=\"sk-toggleable__control sk-hidden--visually\" id=\"sk-estimator-id-4\" type=\"checkbox\" checked><label for=\"sk-estimator-id-4\" class=\"sk-toggleable__label sk-toggleable__label-arrow\">DecisionTreeRegressor</label><div class=\"sk-toggleable__content\"><pre>DecisionTreeRegressor(random_state=0)</pre></div></div></div></div></div>"
            ]
          },
          "metadata": {},
          "execution_count": 41
        }
      ]
    },
    {
      "cell_type": "markdown",
      "source": [
        "<p align=\"justify\">\n",
        "<code>X_train</code> y <code>y_train</code> representan los conjuntos de entrenamiento, mientras que <code>X_test</code> y <code>y_test</code> representan los conjuntos de prueba. El argumento <code>random_state</code> se utiliza para fijar la semilla aleatoria y asegurar que la división sea reproducible, es decir, independientemente de quien ejecute el script, siempre se obtenga el mismo resultado.\n",
        "<br><br>\n",
        "La división del conjunto de datos en <code>scikit-learn</code> es esencial para evaluar el rendimiento de los modelos de aprendizaje automático de manera objetiva y para evitar el sobreajuste al utilizar los mismos datos tanto para entrenamiento como para evaluación (test)."
      ],
      "metadata": {
        "id": "mpIKxDs-rZtg"
      }
    },
    {
      "cell_type": "markdown",
      "source": [
        " ## **<font color=\"DeepPink\">Evaluación del modelo</font>**"
      ],
      "metadata": {
        "id": "PO8ClX--2vVO"
      }
    },
    {
      "cell_type": "markdown",
      "source": [
        "👀 Error de entrenamiento:"
      ],
      "metadata": {
        "id": "G1w593Y6A2C9"
      }
    },
    {
      "cell_type": "code",
      "source": [
        "y_predicted = model.predict(X_train)\n",
        "score = mean_absolute_error(y_train, y_predicted)\n",
        "print(\"\")\n",
        "print(f\"El error de entrenamiento del modelo es $ {score:.2f}\")"
      ],
      "metadata": {
        "colab": {
          "base_uri": "https://localhost:8080/"
        },
        "id": "5y8TJUbjA0TF",
        "outputId": "fc1af3f8-9347-49bd-9088-b25e45fb6383"
      },
      "execution_count": null,
      "outputs": [
        {
          "output_type": "stream",
          "name": "stdout",
          "text": [
            "\n",
            "El error de entrenamiento del modelo es $ 0.00\n"
          ]
        }
      ]
    },
    {
      "cell_type": "markdown",
      "source": [
        "👀 Error de prueba:"
      ],
      "metadata": {
        "id": "XQR6CYflBAxH"
      }
    },
    {
      "cell_type": "code",
      "source": [
        "y_predicted = model.predict(X_test)\n",
        "score = mean_absolute_error(y_test, y_predicted)\n",
        "print(\"\")\n",
        "print(f\"El error de prueba del modelo es $ {score:.2f}\")"
      ],
      "metadata": {
        "colab": {
          "base_uri": "https://localhost:8080/"
        },
        "id": "2G9NuuwDBC6d",
        "outputId": "a2e740a3-56d7-49ac-d3f7-dea70921790b"
      },
      "execution_count": null,
      "outputs": [
        {
          "output_type": "stream",
          "name": "stdout",
          "text": [
            "\n",
            "El error de prueba del modelo es $ 47378.08\n"
          ]
        }
      ]
    },
    {
      "cell_type": "markdown",
      "source": [
        "<p align=\"justify\">\n",
        "✅ Este error de prueba es en realidad lo que esperaríamos de nuestro modelo si se usara en un entorno de producción."
      ],
      "metadata": {
        "id": "8pDWZ2AWBlHC"
      }
    },
    {
      "cell_type": "markdown",
      "source": [
        "# **<font color=\"DeepPink\">Estabilidad de las estimaciones de Validación Cruzada</font>**"
      ],
      "metadata": {
        "id": "EbRxj5a8peuT"
      }
    },
    {
      "cell_type": "markdown",
      "source": [
        "<p align=\"justify\">\n",
        "Al hacer una sola división de prueba y entrenamiento, no damos ninguna indicación con respecto a la robustez de la evaluación de nuestro modelo predictivo: en particular, si el conjunto de prueba es pequeño, esta estimación del error de prueba será inestable y no reflejaría la \"tasa de error real\" que habríamos observado con el mismo modelo en una cantidad mayor de datos de prueba.\n",
        "<br><br>\n",
        "Por ejemplo, podríamos haber tenido suerte cuando hicimos nuestra división aleatoria de nuestro conjunto de datos limitado y aislar algunos de los casos más fáciles de predecir en el conjunto de prueba por casualidad: la estimación del error de prueba sería demasiado optimista, en este caso.\n",
        "<br><br>\n",
        "Entonces la <b>validación cruzada</b> permite estimar la robustez de un modelo predictivo repitiendo (iterando) el procedimiento de división. Dará varios errores de entrenamientos y pruebas y, por tanto, una <b>estimación de la variabilidad del rendimiento del modelo</b>.\n",
        "\n",
        "Hay [diferentes estrategias de validación cruzada](https://scikit-learn.org/stable/modules/cross_validation.html#cross-validation-iterators),\n",
        "\n",
        "<p align=\"justify\">\n",
        "Por ahora nos vamos a centrar en uno llamado <code>shuffle-split</code>. En cada iteración de esta estrategia nosotros vamos a:\n",
        "\n",
        "\n",
        "- Mezclar aleatoriamente el orden de las muestras del conjunto de datos completo;\n",
        "- Dividir el conjunto de datos en un conjunto de entrenamiento y un conjunto de prueba;\n",
        "- Entrenar un nuevo modelo con el conjunto de entrenamiento;\n",
        "- Evaluar el error de prueba con el conjunto de prueba.\n",
        "\n",
        "<p align=\"justify\">\n",
        "Repetimos este procedimiento <code>n_splits</code> veces. Hay que tener en cuenta que el costo computacional aumenta con <code>n_splits</code>."
      ],
      "metadata": {
        "id": "LekThmYACKyt"
      }
    },
    {
      "cell_type": "markdown",
      "source": [
        "<p align=\"center\">\n",
        "<img src=\"https://github.com/cristiandarioortegayubro/BDS/blob/main/images/Validacion-001.png?raw=true\" width=\"650\">\n",
        "</p>\n"
      ],
      "metadata": {
        "id": "Z0tZ-4kBvnZX"
      }
    },
    {
      "cell_type": "markdown",
      "source": [
        "<p align=\"justify\">\n",
        "Esta figura muestra el caso particular de la estrategia de validación cruzada <code>shuffle-split</code> usando <code>n_splits = 5</code>. Para cada división de validación cruzada, el procedimiento entrena un modelo en todas las muestras rojas y evalúa su rendimiento en las muestras azules."
      ],
      "metadata": {
        "id": "emmCoOpjEdMy"
      }
    },
    {
      "cell_type": "markdown",
      "source": [
        "<p align=\"justify\">\n",
        "En este caso estableceremos <code>n_splits=40</code>, lo que significa que entrenaremos $40$ modelos en total.\n",
        "\n",
        "\n",
        "Para evaluar el desempeño de nuestro modelo, debemos usar:\n",
        "\n",
        "- [`sklearn.model_selection.cross_validate`](https://scikit-learn.org/stable/modules/generated/sklearn.model_selection.cross_validate.html)\n",
        "\n",
        "- [`sklearn.model_selection.ShuffleSplit`](https://scikit-learn.org/stable/modules/generated/sklearn.model_selection.ShuffleSplit.html)"
      ],
      "metadata": {
        "id": "FyxV9rj-EeQ9"
      }
    },
    {
      "cell_type": "markdown",
      "source": [
        "👀 Cargamos las funciones <code>cross_validate</code> y <code>ShuffleSplit</code>:"
      ],
      "metadata": {
        "id": "WKHdbh8wlfI2"
      }
    },
    {
      "cell_type": "code",
      "source": [
        "from sklearn.model_selection import cross_validate\n",
        "from sklearn.model_selection import ShuffleSplit"
      ],
      "metadata": {
        "id": "W_dI03UHDDtL"
      },
      "execution_count": null,
      "outputs": []
    },
    {
      "cell_type": "markdown",
      "source": [
        "<p align=\"justify\">\n",
        "<code>ShuffleSplit</code> es una función que se utiliza para generar divisores de conjuntos de datos aleatorios para validación cruzada. A diferencia de otros métodos de validación cruzada, <code>ShuffleSplit</code> no utiliza particiones predefinidas o pliegues fijos, sino que genera múltiples divisiones aleatorias del conjunto de datos en conjuntos de entrenamiento y prueba.\n",
        "<br><br>\n",
        "ShuffleSplit toma como argumentos el número de iteraciones (<code>n_splits</code>), el tamaño del conjunto de prueba (<code>test_size</code> o <code>train_size</code>), la semilla aleatoria (<code>random_state</code>) y otros parámetros opcionales."
      ],
      "metadata": {
        "id": "TogE3vQhmABk"
      }
    },
    {
      "cell_type": "code",
      "source": [
        "cv = ShuffleSplit(n_splits=40, test_size=0.3, random_state=0)\n",
        "cv_results = cross_validate(model, X, y, cv=cv, scoring=\"neg_mean_absolute_error\")"
      ],
      "metadata": {
        "id": "fRIt_jemHEol"
      },
      "execution_count": null,
      "outputs": []
    },
    {
      "cell_type": "markdown",
      "source": [
        "`scoring` controla qué [métrica](https://scikit-learn.org/stable/modules/model_evaluation.html#scoring-parameter) aplicar a los datos de prueba.\n",
        "\n"
      ],
      "metadata": {
        "id": "OIWRf0P9WwHY"
      }
    },
    {
      "cell_type": "code",
      "source": [
        "cv_results"
      ],
      "metadata": {
        "colab": {
          "base_uri": "https://localhost:8080/"
        },
        "id": "1PtJrJ5QHRCq",
        "outputId": "e633bdea-844d-401e-fcf9-9bf6adeed37b"
      },
      "execution_count": null,
      "outputs": [
        {
          "output_type": "execute_result",
          "data": {
            "text/plain": [
              "{'fit_time': array([0.25534487, 0.25294495, 0.2501955 , 0.24779558, 0.24156833,\n",
              "        0.25258231, 0.25279951, 0.26588869, 0.28010178, 0.25898004,\n",
              "        0.16646075, 0.16876078, 0.17307258, 0.16088533, 0.16873789,\n",
              "        0.16951847, 0.16784859, 0.1678524 , 0.16576076, 0.16912174,\n",
              "        0.17082143, 0.16321111, 0.17260623, 0.16948748, 0.16704893,\n",
              "        0.16733575, 0.18390965, 0.16612959, 0.16797161, 0.1652925 ,\n",
              "        0.16582131, 0.17231178, 0.18019247, 0.1649437 , 0.16775393,\n",
              "        0.17826939, 0.16467428, 0.16937065, 0.16732597, 0.17396331]),\n",
              " 'score_time': array([0.0072639 , 0.00555634, 0.00576329, 0.00546527, 0.00549817,\n",
              "        0.00745988, 0.00557089, 0.00566888, 0.00553107, 0.00656533,\n",
              "        0.00474501, 0.00435829, 0.00423074, 0.00428343, 0.00429821,\n",
              "        0.00430369, 0.00475836, 0.00425506, 0.00419092, 0.00419736,\n",
              "        0.00424099, 0.00420403, 0.00454211, 0.00457692, 0.0043211 ,\n",
              "        0.00431252, 0.00445127, 0.00440598, 0.00431776, 0.00431752,\n",
              "        0.00437713, 0.00426364, 0.00429773, 0.0043056 , 0.00442076,\n",
              "        0.00574493, 0.00440431, 0.00433564, 0.00422335, 0.00443268]),\n",
              " 'test_score': array([-47137.00952842, -46839.43378553, -47305.85448966, -44851.39841731,\n",
              "        -47072.16892765, -46013.86450258, -46750.69056848, -46147.9121447 ,\n",
              "        -45342.59625323, -45226.90132429, -49119.53633721, -47770.11870155,\n",
              "        -46477.23869509, -46014.51178941, -46559.39179587, -44371.60513566,\n",
              "        -47846.02147933, -43075.42280362, -46726.63533592, -47919.66392119,\n",
              "        -44693.7256137 , -46421.29198966, -45567.76049742, -46644.66602067,\n",
              "        -46423.13662791, -46953.62726098, -47214.40374677, -46662.25290698,\n",
              "        -47884.26744186, -46058.35771964, -46319.03585271, -44977.31895995,\n",
              "        -44029.9000323 , -47429.01631137, -46705.86159561, -45266.00177649,\n",
              "        -47256.19573643, -46852.80700904, -47161.4003553 , -47262.34786822])}"
            ]
          },
          "metadata": {},
          "execution_count": 46
        }
      ]
    },
    {
      "cell_type": "markdown",
      "source": [
        "<p align=\"justify\">\n",
        "👀 Los resultados <code>cv_results</code> se almacenan en un <code>diccionario</code>. Lo convertiremos a un <code>DataFrame</code> para facilitar la visualización y manipulación de los datos."
      ],
      "metadata": {
        "id": "czQzdHyEHjoV"
      }
    },
    {
      "cell_type": "code",
      "source": [
        "cv_results = pd.DataFrame(cv_results)\n",
        "cv_results.head()"
      ],
      "metadata": {
        "colab": {
          "base_uri": "https://localhost:8080/",
          "height": 206
        },
        "id": "4W0TQ9AQIBDk",
        "outputId": "338cc434-57bc-4b22-e273-9b8b438b5f55"
      },
      "execution_count": null,
      "outputs": [
        {
          "output_type": "execute_result",
          "data": {
            "text/plain": [
              "   fit_time  score_time    test_score\n",
              "0  0.255345    0.007264 -47137.009528\n",
              "1  0.252945    0.005556 -46839.433786\n",
              "2  0.250196    0.005763 -47305.854490\n",
              "3  0.247796    0.005465 -44851.398417\n",
              "4  0.241568    0.005498 -47072.168928"
            ],
            "text/html": [
              "\n",
              "  <div id=\"df-af233e48-e56d-4a74-9bba-cc54e29bb0d7\">\n",
              "    <div class=\"colab-df-container\">\n",
              "      <div>\n",
              "<style scoped>\n",
              "    .dataframe tbody tr th:only-of-type {\n",
              "        vertical-align: middle;\n",
              "    }\n",
              "\n",
              "    .dataframe tbody tr th {\n",
              "        vertical-align: top;\n",
              "    }\n",
              "\n",
              "    .dataframe thead th {\n",
              "        text-align: right;\n",
              "    }\n",
              "</style>\n",
              "<table border=\"1\" class=\"dataframe\">\n",
              "  <thead>\n",
              "    <tr style=\"text-align: right;\">\n",
              "      <th></th>\n",
              "      <th>fit_time</th>\n",
              "      <th>score_time</th>\n",
              "      <th>test_score</th>\n",
              "    </tr>\n",
              "  </thead>\n",
              "  <tbody>\n",
              "    <tr>\n",
              "      <th>0</th>\n",
              "      <td>0.255345</td>\n",
              "      <td>0.007264</td>\n",
              "      <td>-47137.009528</td>\n",
              "    </tr>\n",
              "    <tr>\n",
              "      <th>1</th>\n",
              "      <td>0.252945</td>\n",
              "      <td>0.005556</td>\n",
              "      <td>-46839.433786</td>\n",
              "    </tr>\n",
              "    <tr>\n",
              "      <th>2</th>\n",
              "      <td>0.250196</td>\n",
              "      <td>0.005763</td>\n",
              "      <td>-47305.854490</td>\n",
              "    </tr>\n",
              "    <tr>\n",
              "      <th>3</th>\n",
              "      <td>0.247796</td>\n",
              "      <td>0.005465</td>\n",
              "      <td>-44851.398417</td>\n",
              "    </tr>\n",
              "    <tr>\n",
              "      <th>4</th>\n",
              "      <td>0.241568</td>\n",
              "      <td>0.005498</td>\n",
              "      <td>-47072.168928</td>\n",
              "    </tr>\n",
              "  </tbody>\n",
              "</table>\n",
              "</div>\n",
              "      <button class=\"colab-df-convert\" onclick=\"convertToInteractive('df-af233e48-e56d-4a74-9bba-cc54e29bb0d7')\"\n",
              "              title=\"Convert this dataframe to an interactive table.\"\n",
              "              style=\"display:none;\">\n",
              "        \n",
              "  <svg xmlns=\"http://www.w3.org/2000/svg\" height=\"24px\"viewBox=\"0 0 24 24\"\n",
              "       width=\"24px\">\n",
              "    <path d=\"M0 0h24v24H0V0z\" fill=\"none\"/>\n",
              "    <path d=\"M18.56 5.44l.94 2.06.94-2.06 2.06-.94-2.06-.94-.94-2.06-.94 2.06-2.06.94zm-11 1L8.5 8.5l.94-2.06 2.06-.94-2.06-.94L8.5 2.5l-.94 2.06-2.06.94zm10 10l.94 2.06.94-2.06 2.06-.94-2.06-.94-.94-2.06-.94 2.06-2.06.94z\"/><path d=\"M17.41 7.96l-1.37-1.37c-.4-.4-.92-.59-1.43-.59-.52 0-1.04.2-1.43.59L10.3 9.45l-7.72 7.72c-.78.78-.78 2.05 0 2.83L4 21.41c.39.39.9.59 1.41.59.51 0 1.02-.2 1.41-.59l7.78-7.78 2.81-2.81c.8-.78.8-2.07 0-2.86zM5.41 20L4 18.59l7.72-7.72 1.47 1.35L5.41 20z\"/>\n",
              "  </svg>\n",
              "      </button>\n",
              "      \n",
              "  <style>\n",
              "    .colab-df-container {\n",
              "      display:flex;\n",
              "      flex-wrap:wrap;\n",
              "      gap: 12px;\n",
              "    }\n",
              "\n",
              "    .colab-df-convert {\n",
              "      background-color: #E8F0FE;\n",
              "      border: none;\n",
              "      border-radius: 50%;\n",
              "      cursor: pointer;\n",
              "      display: none;\n",
              "      fill: #1967D2;\n",
              "      height: 32px;\n",
              "      padding: 0 0 0 0;\n",
              "      width: 32px;\n",
              "    }\n",
              "\n",
              "    .colab-df-convert:hover {\n",
              "      background-color: #E2EBFA;\n",
              "      box-shadow: 0px 1px 2px rgba(60, 64, 67, 0.3), 0px 1px 3px 1px rgba(60, 64, 67, 0.15);\n",
              "      fill: #174EA6;\n",
              "    }\n",
              "\n",
              "    [theme=dark] .colab-df-convert {\n",
              "      background-color: #3B4455;\n",
              "      fill: #D2E3FC;\n",
              "    }\n",
              "\n",
              "    [theme=dark] .colab-df-convert:hover {\n",
              "      background-color: #434B5C;\n",
              "      box-shadow: 0px 1px 3px 1px rgba(0, 0, 0, 0.15);\n",
              "      filter: drop-shadow(0px 1px 2px rgba(0, 0, 0, 0.3));\n",
              "      fill: #FFFFFF;\n",
              "    }\n",
              "  </style>\n",
              "\n",
              "      <script>\n",
              "        const buttonEl =\n",
              "          document.querySelector('#df-af233e48-e56d-4a74-9bba-cc54e29bb0d7 button.colab-df-convert');\n",
              "        buttonEl.style.display =\n",
              "          google.colab.kernel.accessAllowed ? 'block' : 'none';\n",
              "\n",
              "        async function convertToInteractive(key) {\n",
              "          const element = document.querySelector('#df-af233e48-e56d-4a74-9bba-cc54e29bb0d7');\n",
              "          const dataTable =\n",
              "            await google.colab.kernel.invokeFunction('convertToInteractive',\n",
              "                                                     [key], {});\n",
              "          if (!dataTable) return;\n",
              "\n",
              "          const docLinkHtml = 'Like what you see? Visit the ' +\n",
              "            '<a target=\"_blank\" href=https://colab.research.google.com/notebooks/data_table.ipynb>data table notebook</a>'\n",
              "            + ' to learn more about interactive tables.';\n",
              "          element.innerHTML = '';\n",
              "          dataTable['output_type'] = 'display_data';\n",
              "          await google.colab.output.renderOutput(dataTable, element);\n",
              "          const docLink = document.createElement('div');\n",
              "          docLink.innerHTML = docLinkHtml;\n",
              "          element.appendChild(docLink);\n",
              "        }\n",
              "      </script>\n",
              "    </div>\n",
              "  </div>\n",
              "  "
            ]
          },
          "metadata": {},
          "execution_count": 47
        }
      ]
    },
    {
      "cell_type": "markdown",
      "source": [
        "<p align=\"justify\">\n",
        "✅ Una puntuación es una métrica, y los valores más altos significan mejores resultados.\n",
        "<br><br>\n",
        "✅ Por el contrario, un error es una métrica en la que valores más bajos significan mejores resultados.\n",
        "<br><br>\n",
        "👀 El parámetro <code>scoring</code> en <code>cross_validate</code> siempre espera una función que sea una puntuación. Para hacerlo más fácil, todas las métricas de error en <code>Scikit-learn</code>, como <code>mean_absolute_error</code>, se pueden transformar en una puntuación para usar en <code>cross_validate</code>. Para hacerlo, debe pasar una cadena de la métrica de error con una cadena neg_ adicional al principio de la puntuación del parámetro; por ejemplo, <code>scoring=\"neg_mean_absolute_error\"</code>. En este caso se computará el negativo del error absoluto medio que equivaldría a una puntuación."
      ],
      "metadata": {
        "id": "6kMK5I9P7zrY"
      }
    },
    {
      "cell_type": "markdown",
      "source": [
        "<p align=\"justify\">\n",
        "👀 Ahora creamos la columna <code>test_error</code> con los valores de la columna <code>test_score</code> sacando el valor negativo."
      ],
      "metadata": {
        "id": "H7-euwmCB9Wt"
      }
    },
    {
      "cell_type": "code",
      "source": [
        "cv_results[\"test_error\"] = -cv_results[\"test_score\"]\n",
        "cv_results.head()"
      ],
      "metadata": {
        "colab": {
          "base_uri": "https://localhost:8080/",
          "height": 206
        },
        "id": "xv1OtO6C91S-",
        "outputId": "bd63ba81-429a-42e7-feb2-b93b56c217ef"
      },
      "execution_count": null,
      "outputs": [
        {
          "output_type": "execute_result",
          "data": {
            "text/plain": [
              "   fit_time  score_time    test_score    test_error\n",
              "0  0.255345    0.007264 -47137.009528  47137.009528\n",
              "1  0.252945    0.005556 -46839.433786  46839.433786\n",
              "2  0.250196    0.005763 -47305.854490  47305.854490\n",
              "3  0.247796    0.005465 -44851.398417  44851.398417\n",
              "4  0.241568    0.005498 -47072.168928  47072.168928"
            ],
            "text/html": [
              "\n",
              "  <div id=\"df-8275d302-0aed-4902-8258-f084e9f7c0c1\">\n",
              "    <div class=\"colab-df-container\">\n",
              "      <div>\n",
              "<style scoped>\n",
              "    .dataframe tbody tr th:only-of-type {\n",
              "        vertical-align: middle;\n",
              "    }\n",
              "\n",
              "    .dataframe tbody tr th {\n",
              "        vertical-align: top;\n",
              "    }\n",
              "\n",
              "    .dataframe thead th {\n",
              "        text-align: right;\n",
              "    }\n",
              "</style>\n",
              "<table border=\"1\" class=\"dataframe\">\n",
              "  <thead>\n",
              "    <tr style=\"text-align: right;\">\n",
              "      <th></th>\n",
              "      <th>fit_time</th>\n",
              "      <th>score_time</th>\n",
              "      <th>test_score</th>\n",
              "      <th>test_error</th>\n",
              "    </tr>\n",
              "  </thead>\n",
              "  <tbody>\n",
              "    <tr>\n",
              "      <th>0</th>\n",
              "      <td>0.255345</td>\n",
              "      <td>0.007264</td>\n",
              "      <td>-47137.009528</td>\n",
              "      <td>47137.009528</td>\n",
              "    </tr>\n",
              "    <tr>\n",
              "      <th>1</th>\n",
              "      <td>0.252945</td>\n",
              "      <td>0.005556</td>\n",
              "      <td>-46839.433786</td>\n",
              "      <td>46839.433786</td>\n",
              "    </tr>\n",
              "    <tr>\n",
              "      <th>2</th>\n",
              "      <td>0.250196</td>\n",
              "      <td>0.005763</td>\n",
              "      <td>-47305.854490</td>\n",
              "      <td>47305.854490</td>\n",
              "    </tr>\n",
              "    <tr>\n",
              "      <th>3</th>\n",
              "      <td>0.247796</td>\n",
              "      <td>0.005465</td>\n",
              "      <td>-44851.398417</td>\n",
              "      <td>44851.398417</td>\n",
              "    </tr>\n",
              "    <tr>\n",
              "      <th>4</th>\n",
              "      <td>0.241568</td>\n",
              "      <td>0.005498</td>\n",
              "      <td>-47072.168928</td>\n",
              "      <td>47072.168928</td>\n",
              "    </tr>\n",
              "  </tbody>\n",
              "</table>\n",
              "</div>\n",
              "      <button class=\"colab-df-convert\" onclick=\"convertToInteractive('df-8275d302-0aed-4902-8258-f084e9f7c0c1')\"\n",
              "              title=\"Convert this dataframe to an interactive table.\"\n",
              "              style=\"display:none;\">\n",
              "        \n",
              "  <svg xmlns=\"http://www.w3.org/2000/svg\" height=\"24px\"viewBox=\"0 0 24 24\"\n",
              "       width=\"24px\">\n",
              "    <path d=\"M0 0h24v24H0V0z\" fill=\"none\"/>\n",
              "    <path d=\"M18.56 5.44l.94 2.06.94-2.06 2.06-.94-2.06-.94-.94-2.06-.94 2.06-2.06.94zm-11 1L8.5 8.5l.94-2.06 2.06-.94-2.06-.94L8.5 2.5l-.94 2.06-2.06.94zm10 10l.94 2.06.94-2.06 2.06-.94-2.06-.94-.94-2.06-.94 2.06-2.06.94z\"/><path d=\"M17.41 7.96l-1.37-1.37c-.4-.4-.92-.59-1.43-.59-.52 0-1.04.2-1.43.59L10.3 9.45l-7.72 7.72c-.78.78-.78 2.05 0 2.83L4 21.41c.39.39.9.59 1.41.59.51 0 1.02-.2 1.41-.59l7.78-7.78 2.81-2.81c.8-.78.8-2.07 0-2.86zM5.41 20L4 18.59l7.72-7.72 1.47 1.35L5.41 20z\"/>\n",
              "  </svg>\n",
              "      </button>\n",
              "      \n",
              "  <style>\n",
              "    .colab-df-container {\n",
              "      display:flex;\n",
              "      flex-wrap:wrap;\n",
              "      gap: 12px;\n",
              "    }\n",
              "\n",
              "    .colab-df-convert {\n",
              "      background-color: #E8F0FE;\n",
              "      border: none;\n",
              "      border-radius: 50%;\n",
              "      cursor: pointer;\n",
              "      display: none;\n",
              "      fill: #1967D2;\n",
              "      height: 32px;\n",
              "      padding: 0 0 0 0;\n",
              "      width: 32px;\n",
              "    }\n",
              "\n",
              "    .colab-df-convert:hover {\n",
              "      background-color: #E2EBFA;\n",
              "      box-shadow: 0px 1px 2px rgba(60, 64, 67, 0.3), 0px 1px 3px 1px rgba(60, 64, 67, 0.15);\n",
              "      fill: #174EA6;\n",
              "    }\n",
              "\n",
              "    [theme=dark] .colab-df-convert {\n",
              "      background-color: #3B4455;\n",
              "      fill: #D2E3FC;\n",
              "    }\n",
              "\n",
              "    [theme=dark] .colab-df-convert:hover {\n",
              "      background-color: #434B5C;\n",
              "      box-shadow: 0px 1px 3px 1px rgba(0, 0, 0, 0.15);\n",
              "      filter: drop-shadow(0px 1px 2px rgba(0, 0, 0, 0.3));\n",
              "      fill: #FFFFFF;\n",
              "    }\n",
              "  </style>\n",
              "\n",
              "      <script>\n",
              "        const buttonEl =\n",
              "          document.querySelector('#df-8275d302-0aed-4902-8258-f084e9f7c0c1 button.colab-df-convert');\n",
              "        buttonEl.style.display =\n",
              "          google.colab.kernel.accessAllowed ? 'block' : 'none';\n",
              "\n",
              "        async function convertToInteractive(key) {\n",
              "          const element = document.querySelector('#df-8275d302-0aed-4902-8258-f084e9f7c0c1');\n",
              "          const dataTable =\n",
              "            await google.colab.kernel.invokeFunction('convertToInteractive',\n",
              "                                                     [key], {});\n",
              "          if (!dataTable) return;\n",
              "\n",
              "          const docLinkHtml = 'Like what you see? Visit the ' +\n",
              "            '<a target=\"_blank\" href=https://colab.research.google.com/notebooks/data_table.ipynb>data table notebook</a>'\n",
              "            + ' to learn more about interactive tables.';\n",
              "          element.innerHTML = '';\n",
              "          dataTable['output_type'] = 'display_data';\n",
              "          await google.colab.output.renderOutput(dataTable, element);\n",
              "          const docLink = document.createElement('div');\n",
              "          docLink.innerHTML = docLinkHtml;\n",
              "          element.appendChild(docLink);\n",
              "        }\n",
              "      </script>\n",
              "    </div>\n",
              "  </div>\n",
              "  "
            ]
          },
          "metadata": {},
          "execution_count": 48
        }
      ]
    },
    {
      "cell_type": "code",
      "source": [
        "len(cv_results)"
      ],
      "metadata": {
        "colab": {
          "base_uri": "https://localhost:8080/"
        },
        "id": "eEC0zSg4B8k-",
        "outputId": "918bf21c-f31e-41b6-eb39-a6cac7f15dd7"
      },
      "execution_count": null,
      "outputs": [
        {
          "output_type": "execute_result",
          "data": {
            "text/plain": [
              "40"
            ]
          },
          "metadata": {},
          "execution_count": 49
        }
      ]
    },
    {
      "cell_type": "markdown",
      "source": [
        "<p align=\"justify\">\n",
        "👀 Vemos que tenemos $40$ entradas en nuestro <code>DataFrame</code> porque realizamos $40$ divisiones. Por lo tanto, podemos mostrar la distribución del error de prueba y así tener una estimación de su variabilidad."
      ],
      "metadata": {
        "id": "CaSVUQA8Cz8f"
      }
    },
    {
      "cell_type": "code",
      "source": [
        "print(\"\")\n",
        "print(f\"Media: {cv_results.test_error.mean()}\")\n",
        "print(f\"Desvío estandar: {cv_results.test_error.std()}\")"
      ],
      "metadata": {
        "colab": {
          "base_uri": "https://localhost:8080/"
        },
        "id": "m021qZbDC7Q9",
        "outputId": "e1364090-cc3b-4554-c150-17d69c869457"
      },
      "execution_count": null,
      "outputs": [
        {
          "output_type": "stream",
          "name": "stdout",
          "text": [
            "\n",
            "Media: 46408.783781492246\n",
            "Desvío estandar: 1195.4177777280847\n"
          ]
        }
      ]
    },
    {
      "cell_type": "markdown",
      "source": [
        "📊 Ahora vamos a hacer un histograma:"
      ],
      "metadata": {
        "id": "RUrfk94Sok1L"
      }
    },
    {
      "cell_type": "code",
      "source": [
        "px.histogram(cv_results,\n",
        "             x=\"test_error\",\n",
        "             template=\"gridon\",\n",
        "             nbins=30).update_layout(bargap=0.2)"
      ],
      "metadata": {
        "colab": {
          "base_uri": "https://localhost:8080/",
          "height": 542
        },
        "id": "yuQA6FI7F_E4",
        "outputId": "bc7d4765-e834-4c6e-b0d6-f5dccc171a4f"
      },
      "execution_count": null,
      "outputs": [
        {
          "output_type": "display_data",
          "data": {
            "text/html": [
              "<html>\n",
              "<head><meta charset=\"utf-8\" /></head>\n",
              "<body>\n",
              "    <div>            <script src=\"https://cdnjs.cloudflare.com/ajax/libs/mathjax/2.7.5/MathJax.js?config=TeX-AMS-MML_SVG\"></script><script type=\"text/javascript\">if (window.MathJax && window.MathJax.Hub && window.MathJax.Hub.Config) {window.MathJax.Hub.Config({SVG: {font: \"STIX-Web\"}});}</script>                <script type=\"text/javascript\">window.PlotlyConfig = {MathJaxConfig: 'local'};</script>\n",
              "        <script src=\"https://cdn.plot.ly/plotly-2.18.2.min.js\"></script>                <div id=\"fab03577-4233-43e8-ba82-bd7199086fe8\" class=\"plotly-graph-div\" style=\"height:525px; width:100%;\"></div>            <script type=\"text/javascript\">                                    window.PLOTLYENV=window.PLOTLYENV || {};                                    if (document.getElementById(\"fab03577-4233-43e8-ba82-bd7199086fe8\")) {                    Plotly.newPlot(                        \"fab03577-4233-43e8-ba82-bd7199086fe8\",                        [{\"alignmentgroup\":\"True\",\"bingroup\":\"x\",\"hovertemplate\":\"test_error=%{x}<br>count=%{y}<extra></extra>\",\"legendgroup\":\"\",\"marker\":{\"color\":\"#1F77B4\",\"pattern\":{\"shape\":\"\"}},\"name\":\"\",\"nbinsx\":30,\"offsetgroup\":\"\",\"orientation\":\"v\",\"showlegend\":false,\"x\":[47137.009528423776,46839.43378552971,47305.85448966408,44851.39841731266,47072.16892764858,46013.86450258398,46750.69056847545,46147.912144702845,45342.596253229975,45226.90132428941,49119.536337209305,47770.11870155039,46477.23869509044,46014.51178940568,46559.39179586563,44371.605135658916,47846.02147932816,43075.42280361757,46726.635335917315,47919.66392118863,44693.72561369509,46421.29198966408,45567.76049741602,46644.66602067184,46423.13662790698,46953.62726098191,47214.403746770025,46662.25290697674,47884.267441860466,46058.35771963824,46319.035852713176,44977.31895994832,44029.90003229974,47429.01631136951,46705.86159560723,45266.00177648579,47256.19573643411,46852.80700904393,47161.400355297155,47262.34786821705],\"xaxis\":\"x\",\"yaxis\":\"y\",\"type\":\"histogram\"}],                        {\"template\":{\"data\":{\"pie\":[{\"automargin\":true,\"type\":\"pie\"}]},\"layout\":{\"xaxis\":{\"showgrid\":true,\"title\":{\"standoff\":15}},\"yaxis\":{\"showgrid\":true,\"title\":{\"standoff\":15}}}},\"xaxis\":{\"anchor\":\"y\",\"domain\":[0.0,1.0],\"title\":{\"text\":\"test_error\"}},\"yaxis\":{\"anchor\":\"x\",\"domain\":[0.0,1.0],\"title\":{\"text\":\"count\"}},\"legend\":{\"tracegroupgap\":0},\"margin\":{\"t\":60},\"barmode\":\"relative\",\"bargap\":0.2},                        {\"responsive\": true}                    ).then(function(){\n",
              "                            \n",
              "var gd = document.getElementById('fab03577-4233-43e8-ba82-bd7199086fe8');\n",
              "var x = new MutationObserver(function (mutations, observer) {{\n",
              "        var display = window.getComputedStyle(gd).display;\n",
              "        if (!display || display === 'none') {{\n",
              "            console.log([gd, 'removed!']);\n",
              "            Plotly.purge(gd);\n",
              "            observer.disconnect();\n",
              "        }}\n",
              "}});\n",
              "\n",
              "// Listen for the removal of the full notebook cells\n",
              "var notebookContainer = gd.closest('#notebook-container');\n",
              "if (notebookContainer) {{\n",
              "    x.observe(notebookContainer, {childList: true});\n",
              "}}\n",
              "\n",
              "// Listen for the clearing of the current output cell\n",
              "var outputEl = gd.closest('.output');\n",
              "if (outputEl) {{\n",
              "    x.observe(outputEl, {childList: true});\n",
              "}}\n",
              "\n",
              "                        })                };                            </script>        </div>\n",
              "</body>\n",
              "</html>"
            ]
          },
          "metadata": {}
        }
      ]
    },
    {
      "cell_type": "markdown",
      "source": [
        "<p align=\"justify\">\n",
        "👀 Podemos observar que el error de prueba está agrupado alrededor de los $47$ y en un rango que va desde $43$ a $50$.\n",
        "<br><br>\n",
        "Tenga en cuenta que la desviación estándar es mucho menor que la media, y podríamos resumir que nuestra estimación de validación cruzada del error de prueba es $46.36$ ± $1,17$ k\\$.\n",
        "<br><br>\n",
        "Si tuviéramos que entrenar un solo modelo en el conjunto de datos, es decir sin validación cruzada, y luego tener acceso a una cantidad ilimitada de pruebas de los datos, esperaríamos que su verdadero error de prueba se acerque a esa región.\n",
        "<br><br>\n"
      ],
      "metadata": {
        "id": "0I2SGFPHDEsv"
      }
    },
    {
      "cell_type": "markdown",
      "source": [
        "# **<font color=\"DeepPink\">Más detalles sobre cross_validate</font>**"
      ],
      "metadata": {
        "id": "BhlQM8492wrU"
      }
    },
    {
      "cell_type": "markdown",
      "source": [
        "<p align=\"justify\">\n",
        "👀 Durante la validación cruzada, se entrenan y evalúan muchos modelos. De hecho, el número de elementos en cada matriz de la salida de <code>cross_validate</code> es un resultado de uno de estos procedimientos <code>fit</code> / <code>score</code>. Para hacerlo explícito, es posible recuperar estos modelos ajustados en cada una de las iteraciones pasando la opción <code>return_estimator=True</code> en <code>cross_validate</code>."
      ],
      "metadata": {
        "id": "574THQ-RKXDp"
      }
    },
    {
      "cell_type": "code",
      "source": [
        "from sklearn.model_selection import cross_val_score"
      ],
      "metadata": {
        "id": "HawNhcyxDdqC"
      },
      "execution_count": null,
      "outputs": []
    },
    {
      "cell_type": "code",
      "source": [
        "cv_results = cross_validate(model, X, y, return_estimator=True)\n",
        "cv_results"
      ],
      "metadata": {
        "colab": {
          "base_uri": "https://localhost:8080/"
        },
        "id": "o63GHIjoKZ6h",
        "outputId": "ed6fc62c-994c-4ce5-f669-db806cbe12ee"
      },
      "execution_count": null,
      "outputs": [
        {
          "output_type": "execute_result",
          "data": {
            "text/plain": [
              "{'fit_time': array([0.29705143, 0.28939605, 0.28960037, 0.28376889, 0.28633976]),\n",
              " 'score_time': array([0.00408411, 0.00393295, 0.00407434, 0.0038588 , 0.00464177]),\n",
              " 'estimator': [DecisionTreeRegressor(random_state=0),\n",
              "  DecisionTreeRegressor(random_state=0),\n",
              "  DecisionTreeRegressor(random_state=0),\n",
              "  DecisionTreeRegressor(random_state=0),\n",
              "  DecisionTreeRegressor(random_state=0)],\n",
              " 'test_score': array([0.21214626, 0.41969181, 0.42331813, 0.19377131, 0.4145845 ])}"
            ]
          },
          "metadata": {},
          "execution_count": 56
        }
      ]
    },
    {
      "cell_type": "code",
      "source": [
        "cv_results['estimator']"
      ],
      "metadata": {
        "colab": {
          "base_uri": "https://localhost:8080/"
        },
        "id": "L07OdqXlKiFm",
        "outputId": "bbb641a9-b9eb-4dcc-c4ff-27e098906a31"
      },
      "execution_count": null,
      "outputs": [
        {
          "output_type": "execute_result",
          "data": {
            "text/plain": [
              "[DecisionTreeRegressor(random_state=0),\n",
              " DecisionTreeRegressor(random_state=0),\n",
              " DecisionTreeRegressor(random_state=0),\n",
              " DecisionTreeRegressor(random_state=0),\n",
              " DecisionTreeRegressor(random_state=0)]"
            ]
          },
          "metadata": {},
          "execution_count": 57
        }
      ]
    },
    {
      "cell_type": "markdown",
      "source": [
        "<p align=\"justify\">\n",
        "👀 Los cinco regresores del árbol de decisión corresponden a los cinco árboles en los diferentes folds. Tener acceso a estos regresores es útil porque permite inspeccionar los parámetros ajustados internos de estos regresores.\n",
        "<br><br>\n",
        "En el caso de que solo nos interese el puntaje de la prueba, <code>Scikit-learn</code> proporciona la función <code>cross_val_score</code>. Es idéntico a llamar a la función <code>cross_validate</code> y para seleccionar <code>test_score</code> solamente."
      ],
      "metadata": {
        "id": "0DiyhDveK2Ls"
      }
    },
    {
      "cell_type": "code",
      "source": [
        "scores = cross_val_score(model, X, y)\n",
        "scores"
      ],
      "metadata": {
        "colab": {
          "base_uri": "https://localhost:8080/"
        },
        "id": "G8v3XSjfK04O",
        "outputId": "42d9ccb8-0b98-4398-9ba3-c58ee06294c7"
      },
      "execution_count": null,
      "outputs": [
        {
          "output_type": "execute_result",
          "data": {
            "text/plain": [
              "array([0.21214626, 0.41969181, 0.42331813, 0.19377131, 0.4145845 ])"
            ]
          },
          "metadata": {},
          "execution_count": 59
        }
      ]
    },
    {
      "cell_type": "markdown",
      "source": [
        " # **<font color=\"DeepPink\">Conclusiones</font>**"
      ],
      "metadata": {
        "id": "Y-dYoJ6cLjUb"
      }
    },
    {
      "cell_type": "markdown",
      "source": [
        "<p align=\"justify\">\n",
        "👀 En este colab nosotros:\n",
        "<br><br>\n",
        "✅ Cargamos los datos de un objeto de<code>Scikit-learn</code> y lo convertimos a un <code>DataFrame</code>.\n",
        "<br>\n",
        "✅ Vimos la necesidad de dividir los datos en un conjunto de entrenamiento y un conjunto de prueba.\n",
        "<br>\n",
        "✅ Constatamos el significado de los errores de entrenamiento y los errores de prueba.\n",
        "<br>\n",
        "✅ Definimos el marco general de la validación cruzada con la posibilidad de estudiar las variaciones del rendimiento de la generalización del modelo.\n"
      ],
      "metadata": {
        "id": "dj34CE0h5Hb6"
      }
    },
    {
      "cell_type": "markdown",
      "source": [
        "<br>\n",
        "<br>\n",
        "<p align=\"center\"><b>\n",
        "💗\n",
        "<font color=\"DeepPink\">\n",
        "Hemos llegado al final de nuestro colab, a seguir codeando...\n",
        "</font>\n",
        "</p>\n",
        "<br>\n",
        "<p align=\"center\">\n",
        "<img src=\"https://github.com/cristiandarioortegayubro/BDS/blob/main/images/Logo%20BDS%20Horizontal%208.png?raw=true\">\n",
        "</p>\n",
        "\n",
        "---\n"
      ],
      "metadata": {
        "id": "wtgChAZSaUMQ"
      }
    }
  ]
}