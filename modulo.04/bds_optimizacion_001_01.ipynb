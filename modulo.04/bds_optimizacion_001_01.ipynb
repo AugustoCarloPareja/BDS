{
  "nbformat": 4,
  "nbformat_minor": 0,
  "metadata": {
    "colab": {
      "provenance": [],
      "include_colab_link": true
    },
    "kernelspec": {
      "name": "python3",
      "display_name": "Python 3"
    },
    "language_info": {
      "name": "python"
    }
  },
  "cells": [
    {
      "cell_type": "markdown",
      "metadata": {
        "id": "view-in-github",
        "colab_type": "text"
      },
      "source": [
        "<a href=\"https://colab.research.google.com/github/cristiandarioortegayubro/BDS/blob/main/modulo.04/bds_optimizacion_001_01.ipynb\" target=\"_parent\"><img src=\"https://colab.research.google.com/assets/colab-badge.svg\" alt=\"Open In Colab\"/></a>"
      ]
    },
    {
      "cell_type": "markdown",
      "source": [
        "<p align=\"center\">\n",
        "<img src=\"https://github.com/cristiandarioortegayubro/BDS/blob/main/images/Logo%20BDS%20Horizontal%208.png?raw=true\">\n",
        "</p>\n"
      ],
      "metadata": {
        "id": "iheuwam9e4CH"
      }
    },
    {
      "cell_type": "markdown",
      "source": [
        "<p align=\"center\">\n",
        "<img src=\"https://github.com/cristiandarioortegayubro/BDS/blob/main/images/Logo%20Scikit-learn.png?raw=true\">\n",
        "</p>\n"
      ],
      "metadata": {
        "id": "XM-hn7ZLmgQc"
      }
    },
    {
      "cell_type": "markdown",
      "source": [
        " # **<font color=\"DeepPink\">Validación cruzada</font>**"
      ],
      "metadata": {
        "id": "yaPKOxQOm6mQ"
      }
    },
    {
      "cell_type": "markdown",
      "source": [
        "<p align=\"justify\">\n",
        "En los Colabs anteriores, se ven algunos conceptos relacionados con la evaluación de modelos predictivos. Si bien esta sección podría ser un poco redundante, tenemos la intención de profundizar el tema de validación cruzada.\n",
        "<br><br>\n",
        "Antes de comenzar, detengámonos en las razones para tener un conjunto de datos de entrenamiento y otro conjunto de datos de prueba. Pero antes, vamos a ver la limitación de usar todo el conjunto de datos, sin excluir ninguna muestra.\n",
        "<br><br>\n",
        "Para ilustrar esos los diferentes conceptos, utilizaremos el conjunto de datos de vivienda de California, pero previo a comenzar, vamos a definir el tema de este Colab, la validación cruzada."
      ],
      "metadata": {
        "id": "xHyAlHWPnA9r"
      }
    },
    {
      "cell_type": "markdown",
      "source": [
        " ## **<font color=\"DeepPink\">Definición y conceptos de la validación cruzada</font>**"
      ],
      "metadata": {
        "id": "_9ZVQ73bf4SU"
      }
    },
    {
      "cell_type": "markdown",
      "source": [
        "<p align=\"justify\">\n",
        "La validación cruzada, también conocida como <code>cross-validation</code> en inglés, es una técnica utilizada en el aprendizaje automático para evaluar el rendimiento de un modelo estadístico o algoritmo de predicción.\n",
        "<br><br>\n",
        "En <code>Scikit-learn</code>, la biblioteca seleccionada para desarrollar modelos de aprendizaje automático, la validación cruzada se implementa mediante la clase <code>cross_val_score</code> del módulo <code>model_selection</code>. Esta clase permite realizar la validación cruzada de manera sencilla y eficiente.\n",
        "<br><br>\n",
        "La validación cruzada divide el conjunto de datos en $k$ partes o pliegues denominados (folds) en ingles, los que son casi de igual tamaño. Luego, se entrena y evalúa el modelo $k$ veces, utilizando cada vez un solo pliegue diferente como conjunto de prueba y los restantes pliegues como conjunto de entrenamiento. De esta manera, se obtiene una medida de rendimiento promedio sobre los $k$ pliegues, lo que proporciona una estimación más fiable del rendimiento del modelo.\n",
        "<br><br>\n",
        "Por ese motivo, el proceso de validación cruzada permite evaluar cómo se generaliza el modelo a nuevos datos y ayuda a evitar problemas como el sobreajuste (overfitting) o el sesgo (bias). Además, proporciona una estimación más precisa del rendimiento del modelo que se obtendría al evaluarlo solo en un conjunto de prueba único.\n",
        "<br><br>\n",
        "En resumen, la validación cruzada en <code>Scikit-learn</code> es una técnica para evaluar el rendimiento de los modelos de aprendizaje automático al dividir los datos en pliegues, entrenar y evaluar el modelo en cada pliegue, y luego obtener una medida de rendimiento promedio. Esto ayuda a tener una estimación más fiable del rendimiento y a evitar problemas como el sobreajuste."
      ],
      "metadata": {
        "id": "VfGG-APlgBEm"
      }
    },
    {
      "cell_type": "markdown",
      "source": [
        " ## **<font color=\"DeepPink\">Carga de las librerías</font>**"
      ],
      "metadata": {
        "id": "_o8tuKydjnRZ"
      }
    },
    {
      "cell_type": "code",
      "source": [
        "import numpy as np\n",
        "import pandas as pd"
      ],
      "metadata": {
        "id": "dQtWrchXqRb3"
      },
      "execution_count": 1,
      "outputs": []
    },
    {
      "cell_type": "code",
      "source": [
        "import plotly.express as px"
      ],
      "metadata": {
        "id": "qCz4roZLF6ti"
      },
      "execution_count": 2,
      "outputs": []
    },
    {
      "cell_type": "markdown",
      "source": [
        " ## **<font color=\"DeepPink\">Carga y análisis de conjunto de datos</font>**"
      ],
      "metadata": {
        "id": "tZxCwdTuorIq"
      }
    },
    {
      "cell_type": "code",
      "source": [
        "from sklearn.datasets import fetch_california_housing"
      ],
      "metadata": {
        "id": "Ys70RyRRr5mV"
      },
      "execution_count": 3,
      "outputs": []
    },
    {
      "cell_type": "code",
      "source": [
        "housing = fetch_california_housing(as_frame=True) #as_frame: como Pandas DataFrame"
      ],
      "metadata": {
        "id": "CrAA-UTEQRCa"
      },
      "execution_count": 4,
      "outputs": []
    },
    {
      "cell_type": "code",
      "source": [
        "print(housing.DESCR)"
      ],
      "metadata": {
        "colab": {
          "base_uri": "https://localhost:8080/"
        },
        "id": "goXWiYUjsEIg",
        "outputId": "5c2fb530-8410-4aee-f6f1-8a4b11e7ea81"
      },
      "execution_count": 5,
      "outputs": [
        {
          "output_type": "stream",
          "name": "stdout",
          "text": [
            ".. _california_housing_dataset:\n",
            "\n",
            "California Housing dataset\n",
            "--------------------------\n",
            "\n",
            "**Data Set Characteristics:**\n",
            "\n",
            "    :Number of Instances: 20640\n",
            "\n",
            "    :Number of Attributes: 8 numeric, predictive attributes and the target\n",
            "\n",
            "    :Attribute Information:\n",
            "        - MedInc        median income in block group\n",
            "        - HouseAge      median house age in block group\n",
            "        - AveRooms      average number of rooms per household\n",
            "        - AveBedrms     average number of bedrooms per household\n",
            "        - Population    block group population\n",
            "        - AveOccup      average number of household members\n",
            "        - Latitude      block group latitude\n",
            "        - Longitude     block group longitude\n",
            "\n",
            "    :Missing Attribute Values: None\n",
            "\n",
            "This dataset was obtained from the StatLib repository.\n",
            "https://www.dcc.fc.up.pt/~ltorgo/Regression/cal_housing.html\n",
            "\n",
            "The target variable is the median house value for California districts,\n",
            "expressed in hundreds of thousands of dollars ($100,000).\n",
            "\n",
            "This dataset was derived from the 1990 U.S. census, using one row per census\n",
            "block group. A block group is the smallest geographical unit for which the U.S.\n",
            "Census Bureau publishes sample data (a block group typically has a population\n",
            "of 600 to 3,000 people).\n",
            "\n",
            "A household is a group of people residing within a home. Since the average\n",
            "number of rooms and bedrooms in this dataset are provided per household, these\n",
            "columns may take surprisingly large values for block groups with few households\n",
            "and many empty houses, such as vacation resorts.\n",
            "\n",
            "It can be downloaded/loaded using the\n",
            ":func:`sklearn.datasets.fetch_california_housing` function.\n",
            "\n",
            ".. topic:: References\n",
            "\n",
            "    - Pace, R. Kelley and Ronald Barry, Sparse Spatial Autoregressions,\n",
            "      Statistics and Probability Letters, 33 (1997) 291-297\n",
            "\n"
          ]
        }
      ]
    },
    {
      "cell_type": "markdown",
      "source": [
        "<p align=\"justify\">\n",
        "👀 En este conjunto de datos, el objetivo es predecir el valor promedio de las casas en un área de California. Las características recopiladas se basan en información inmobiliaria y geográfica general de estas propiedades. Como el valor promedio a predecir es el precio medio (variable numérica continua), utilizaremos entonces un modelo predictivo específico de regresión. "
      ],
      "metadata": {
        "id": "xuQqVeEzsZtE"
      }
    },
    {
      "cell_type": "markdown",
      "source": [
        "<p align=\"justify\">\n",
        "🛑 Vemos que el objeto <code>housing</code> es un objeto de <code>Scikit-learn</code> y tiene sus propios métodos y atributos, como por ejemplo <code>data</code> que lo muestra o transforma en un <code>DataFrame</code>"
      ],
      "metadata": {
        "id": "CHM8EVz6iuU_"
      }
    },
    {
      "cell_type": "code",
      "source": [
        "type(housing)"
      ],
      "metadata": {
        "colab": {
          "base_uri": "https://localhost:8080/"
        },
        "id": "hX-gKga8ie7B",
        "outputId": "e0dbd424-7760-47f0-8413-073713501d7b"
      },
      "execution_count": 6,
      "outputs": [
        {
          "output_type": "execute_result",
          "data": {
            "text/plain": [
              "sklearn.utils._bunch.Bunch"
            ]
          },
          "metadata": {},
          "execution_count": 6
        }
      ]
    },
    {
      "cell_type": "code",
      "source": [
        "housing.data.head()"
      ],
      "metadata": {
        "colab": {
          "base_uri": "https://localhost:8080/",
          "height": 221
        },
        "id": "LUqwAiE4ijrt",
        "outputId": "30353988-9cfe-4918-8a65-55734588872c"
      },
      "execution_count": 7,
      "outputs": [
        {
          "output_type": "execute_result",
          "data": {
            "text/plain": [
              "   MedInc  HouseAge  AveRooms  AveBedrms  Population  AveOccup  Latitude  \\\n",
              "0  8.3252      41.0  6.984127   1.023810       322.0  2.555556     37.88   \n",
              "1  8.3014      21.0  6.238137   0.971880      2401.0  2.109842     37.86   \n",
              "2  7.2574      52.0  8.288136   1.073446       496.0  2.802260     37.85   \n",
              "3  5.6431      52.0  5.817352   1.073059       558.0  2.547945     37.85   \n",
              "4  3.8462      52.0  6.281853   1.081081       565.0  2.181467     37.85   \n",
              "\n",
              "   Longitude  \n",
              "0    -122.23  \n",
              "1    -122.22  \n",
              "2    -122.24  \n",
              "3    -122.25  \n",
              "4    -122.25  "
            ],
            "text/html": [
              "\n",
              "  <div id=\"df-9f17e263-01df-4849-9933-6379b04398a2\">\n",
              "    <div class=\"colab-df-container\">\n",
              "      <div>\n",
              "<style scoped>\n",
              "    .dataframe tbody tr th:only-of-type {\n",
              "        vertical-align: middle;\n",
              "    }\n",
              "\n",
              "    .dataframe tbody tr th {\n",
              "        vertical-align: top;\n",
              "    }\n",
              "\n",
              "    .dataframe thead th {\n",
              "        text-align: right;\n",
              "    }\n",
              "</style>\n",
              "<table border=\"1\" class=\"dataframe\">\n",
              "  <thead>\n",
              "    <tr style=\"text-align: right;\">\n",
              "      <th></th>\n",
              "      <th>MedInc</th>\n",
              "      <th>HouseAge</th>\n",
              "      <th>AveRooms</th>\n",
              "      <th>AveBedrms</th>\n",
              "      <th>Population</th>\n",
              "      <th>AveOccup</th>\n",
              "      <th>Latitude</th>\n",
              "      <th>Longitude</th>\n",
              "    </tr>\n",
              "  </thead>\n",
              "  <tbody>\n",
              "    <tr>\n",
              "      <th>0</th>\n",
              "      <td>8.3252</td>\n",
              "      <td>41.0</td>\n",
              "      <td>6.984127</td>\n",
              "      <td>1.023810</td>\n",
              "      <td>322.0</td>\n",
              "      <td>2.555556</td>\n",
              "      <td>37.88</td>\n",
              "      <td>-122.23</td>\n",
              "    </tr>\n",
              "    <tr>\n",
              "      <th>1</th>\n",
              "      <td>8.3014</td>\n",
              "      <td>21.0</td>\n",
              "      <td>6.238137</td>\n",
              "      <td>0.971880</td>\n",
              "      <td>2401.0</td>\n",
              "      <td>2.109842</td>\n",
              "      <td>37.86</td>\n",
              "      <td>-122.22</td>\n",
              "    </tr>\n",
              "    <tr>\n",
              "      <th>2</th>\n",
              "      <td>7.2574</td>\n",
              "      <td>52.0</td>\n",
              "      <td>8.288136</td>\n",
              "      <td>1.073446</td>\n",
              "      <td>496.0</td>\n",
              "      <td>2.802260</td>\n",
              "      <td>37.85</td>\n",
              "      <td>-122.24</td>\n",
              "    </tr>\n",
              "    <tr>\n",
              "      <th>3</th>\n",
              "      <td>5.6431</td>\n",
              "      <td>52.0</td>\n",
              "      <td>5.817352</td>\n",
              "      <td>1.073059</td>\n",
              "      <td>558.0</td>\n",
              "      <td>2.547945</td>\n",
              "      <td>37.85</td>\n",
              "      <td>-122.25</td>\n",
              "    </tr>\n",
              "    <tr>\n",
              "      <th>4</th>\n",
              "      <td>3.8462</td>\n",
              "      <td>52.0</td>\n",
              "      <td>6.281853</td>\n",
              "      <td>1.081081</td>\n",
              "      <td>565.0</td>\n",
              "      <td>2.181467</td>\n",
              "      <td>37.85</td>\n",
              "      <td>-122.25</td>\n",
              "    </tr>\n",
              "  </tbody>\n",
              "</table>\n",
              "</div>\n",
              "      <button class=\"colab-df-convert\" onclick=\"convertToInteractive('df-9f17e263-01df-4849-9933-6379b04398a2')\"\n",
              "              title=\"Convert this dataframe to an interactive table.\"\n",
              "              style=\"display:none;\">\n",
              "        \n",
              "  <svg xmlns=\"http://www.w3.org/2000/svg\" height=\"24px\"viewBox=\"0 0 24 24\"\n",
              "       width=\"24px\">\n",
              "    <path d=\"M0 0h24v24H0V0z\" fill=\"none\"/>\n",
              "    <path d=\"M18.56 5.44l.94 2.06.94-2.06 2.06-.94-2.06-.94-.94-2.06-.94 2.06-2.06.94zm-11 1L8.5 8.5l.94-2.06 2.06-.94-2.06-.94L8.5 2.5l-.94 2.06-2.06.94zm10 10l.94 2.06.94-2.06 2.06-.94-2.06-.94-.94-2.06-.94 2.06-2.06.94z\"/><path d=\"M17.41 7.96l-1.37-1.37c-.4-.4-.92-.59-1.43-.59-.52 0-1.04.2-1.43.59L10.3 9.45l-7.72 7.72c-.78.78-.78 2.05 0 2.83L4 21.41c.39.39.9.59 1.41.59.51 0 1.02-.2 1.41-.59l7.78-7.78 2.81-2.81c.8-.78.8-2.07 0-2.86zM5.41 20L4 18.59l7.72-7.72 1.47 1.35L5.41 20z\"/>\n",
              "  </svg>\n",
              "      </button>\n",
              "      \n",
              "  <style>\n",
              "    .colab-df-container {\n",
              "      display:flex;\n",
              "      flex-wrap:wrap;\n",
              "      gap: 12px;\n",
              "    }\n",
              "\n",
              "    .colab-df-convert {\n",
              "      background-color: #E8F0FE;\n",
              "      border: none;\n",
              "      border-radius: 50%;\n",
              "      cursor: pointer;\n",
              "      display: none;\n",
              "      fill: #1967D2;\n",
              "      height: 32px;\n",
              "      padding: 0 0 0 0;\n",
              "      width: 32px;\n",
              "    }\n",
              "\n",
              "    .colab-df-convert:hover {\n",
              "      background-color: #E2EBFA;\n",
              "      box-shadow: 0px 1px 2px rgba(60, 64, 67, 0.3), 0px 1px 3px 1px rgba(60, 64, 67, 0.15);\n",
              "      fill: #174EA6;\n",
              "    }\n",
              "\n",
              "    [theme=dark] .colab-df-convert {\n",
              "      background-color: #3B4455;\n",
              "      fill: #D2E3FC;\n",
              "    }\n",
              "\n",
              "    [theme=dark] .colab-df-convert:hover {\n",
              "      background-color: #434B5C;\n",
              "      box-shadow: 0px 1px 3px 1px rgba(0, 0, 0, 0.15);\n",
              "      filter: drop-shadow(0px 1px 2px rgba(0, 0, 0, 0.3));\n",
              "      fill: #FFFFFF;\n",
              "    }\n",
              "  </style>\n",
              "\n",
              "      <script>\n",
              "        const buttonEl =\n",
              "          document.querySelector('#df-9f17e263-01df-4849-9933-6379b04398a2 button.colab-df-convert');\n",
              "        buttonEl.style.display =\n",
              "          google.colab.kernel.accessAllowed ? 'block' : 'none';\n",
              "\n",
              "        async function convertToInteractive(key) {\n",
              "          const element = document.querySelector('#df-9f17e263-01df-4849-9933-6379b04398a2');\n",
              "          const dataTable =\n",
              "            await google.colab.kernel.invokeFunction('convertToInteractive',\n",
              "                                                     [key], {});\n",
              "          if (!dataTable) return;\n",
              "\n",
              "          const docLinkHtml = 'Like what you see? Visit the ' +\n",
              "            '<a target=\"_blank\" href=https://colab.research.google.com/notebooks/data_table.ipynb>data table notebook</a>'\n",
              "            + ' to learn more about interactive tables.';\n",
              "          element.innerHTML = '';\n",
              "          dataTable['output_type'] = 'display_data';\n",
              "          await google.colab.output.renderOutput(dataTable, element);\n",
              "          const docLink = document.createElement('div');\n",
              "          docLink.innerHTML = docLinkHtml;\n",
              "          element.appendChild(docLink);\n",
              "        }\n",
              "      </script>\n",
              "    </div>\n",
              "  </div>\n",
              "  "
            ]
          },
          "metadata": {},
          "execution_count": 7
        }
      ]
    },
    {
      "cell_type": "code",
      "source": [
        "housing.target"
      ],
      "metadata": {
        "colab": {
          "base_uri": "https://localhost:8080/"
        },
        "id": "orlP2t3m68gu",
        "outputId": "574dd82f-14a2-4e60-8fd4-324716b739a5"
      },
      "execution_count": 8,
      "outputs": [
        {
          "output_type": "execute_result",
          "data": {
            "text/plain": [
              "0        4.526\n",
              "1        3.585\n",
              "2        3.521\n",
              "3        3.413\n",
              "4        3.422\n",
              "         ...  \n",
              "20635    0.781\n",
              "20636    0.771\n",
              "20637    0.923\n",
              "20638    0.847\n",
              "20639    0.894\n",
              "Name: MedHouseVal, Length: 20640, dtype: float64"
            ]
          },
          "metadata": {},
          "execution_count": 8
        }
      ]
    },
    {
      "cell_type": "markdown",
      "source": [
        "<p align=\"justify\">\n",
        "👀 Ahora si, dividimos todos los datos del conjunto de datos <code>housing</code>, en nuestra variable objetivo y las variables explicativas. En el caso de la variable objetivo hacemos una transformación de los datos para expresar los valores a cientos de miles de dólares. "
      ],
      "metadata": {
        "id": "La2vHNcKjSF9"
      }
    },
    {
      "cell_type": "code",
      "source": [
        "y = housing.target * 100000 #transformamos el precio a cientos de miles de dólares.\n",
        "X = housing.data"
      ],
      "metadata": {
        "id": "aL_sviXos9LV"
      },
      "execution_count": 9,
      "outputs": []
    },
    {
      "cell_type": "markdown",
      "source": [
        "<p align=\"justify\">\n",
        "👀 Visualizamos variable objetivo. "
      ],
      "metadata": {
        "id": "BH0Zf31jkILh"
      }
    },
    {
      "cell_type": "code",
      "source": [
        "y.head()"
      ],
      "metadata": {
        "colab": {
          "base_uri": "https://localhost:8080/"
        },
        "id": "cMzb9UsctawO",
        "outputId": "48be4588-e55d-44c2-b96b-9a25921846d7"
      },
      "execution_count": 10,
      "outputs": [
        {
          "output_type": "execute_result",
          "data": {
            "text/plain": [
              "0    452600.0\n",
              "1    358500.0\n",
              "2    352100.0\n",
              "3    341300.0\n",
              "4    342200.0\n",
              "Name: MedHouseVal, dtype: float64"
            ]
          },
          "metadata": {},
          "execution_count": 10
        }
      ]
    },
    {
      "cell_type": "markdown",
      "source": [
        "<p align=\"justify\">\n",
        "👀 Visualizamos variables explicativas."
      ],
      "metadata": {
        "id": "w7d0ls5CkMmf"
      }
    },
    {
      "cell_type": "code",
      "source": [
        "X.head()"
      ],
      "metadata": {
        "colab": {
          "base_uri": "https://localhost:8080/",
          "height": 221
        },
        "id": "DtBzMPbdtdx9",
        "outputId": "3554e973-a638-4ab2-8c1d-65e3179a01e1"
      },
      "execution_count": 11,
      "outputs": [
        {
          "output_type": "execute_result",
          "data": {
            "text/plain": [
              "   MedInc  HouseAge  AveRooms  AveBedrms  Population  AveOccup  Latitude  \\\n",
              "0  8.3252      41.0  6.984127   1.023810       322.0  2.555556     37.88   \n",
              "1  8.3014      21.0  6.238137   0.971880      2401.0  2.109842     37.86   \n",
              "2  7.2574      52.0  8.288136   1.073446       496.0  2.802260     37.85   \n",
              "3  5.6431      52.0  5.817352   1.073059       558.0  2.547945     37.85   \n",
              "4  3.8462      52.0  6.281853   1.081081       565.0  2.181467     37.85   \n",
              "\n",
              "   Longitude  \n",
              "0    -122.23  \n",
              "1    -122.22  \n",
              "2    -122.24  \n",
              "3    -122.25  \n",
              "4    -122.25  "
            ],
            "text/html": [
              "\n",
              "  <div id=\"df-6b4727cf-29f5-4c20-8fa4-6d47a86fff3d\">\n",
              "    <div class=\"colab-df-container\">\n",
              "      <div>\n",
              "<style scoped>\n",
              "    .dataframe tbody tr th:only-of-type {\n",
              "        vertical-align: middle;\n",
              "    }\n",
              "\n",
              "    .dataframe tbody tr th {\n",
              "        vertical-align: top;\n",
              "    }\n",
              "\n",
              "    .dataframe thead th {\n",
              "        text-align: right;\n",
              "    }\n",
              "</style>\n",
              "<table border=\"1\" class=\"dataframe\">\n",
              "  <thead>\n",
              "    <tr style=\"text-align: right;\">\n",
              "      <th></th>\n",
              "      <th>MedInc</th>\n",
              "      <th>HouseAge</th>\n",
              "      <th>AveRooms</th>\n",
              "      <th>AveBedrms</th>\n",
              "      <th>Population</th>\n",
              "      <th>AveOccup</th>\n",
              "      <th>Latitude</th>\n",
              "      <th>Longitude</th>\n",
              "    </tr>\n",
              "  </thead>\n",
              "  <tbody>\n",
              "    <tr>\n",
              "      <th>0</th>\n",
              "      <td>8.3252</td>\n",
              "      <td>41.0</td>\n",
              "      <td>6.984127</td>\n",
              "      <td>1.023810</td>\n",
              "      <td>322.0</td>\n",
              "      <td>2.555556</td>\n",
              "      <td>37.88</td>\n",
              "      <td>-122.23</td>\n",
              "    </tr>\n",
              "    <tr>\n",
              "      <th>1</th>\n",
              "      <td>8.3014</td>\n",
              "      <td>21.0</td>\n",
              "      <td>6.238137</td>\n",
              "      <td>0.971880</td>\n",
              "      <td>2401.0</td>\n",
              "      <td>2.109842</td>\n",
              "      <td>37.86</td>\n",
              "      <td>-122.22</td>\n",
              "    </tr>\n",
              "    <tr>\n",
              "      <th>2</th>\n",
              "      <td>7.2574</td>\n",
              "      <td>52.0</td>\n",
              "      <td>8.288136</td>\n",
              "      <td>1.073446</td>\n",
              "      <td>496.0</td>\n",
              "      <td>2.802260</td>\n",
              "      <td>37.85</td>\n",
              "      <td>-122.24</td>\n",
              "    </tr>\n",
              "    <tr>\n",
              "      <th>3</th>\n",
              "      <td>5.6431</td>\n",
              "      <td>52.0</td>\n",
              "      <td>5.817352</td>\n",
              "      <td>1.073059</td>\n",
              "      <td>558.0</td>\n",
              "      <td>2.547945</td>\n",
              "      <td>37.85</td>\n",
              "      <td>-122.25</td>\n",
              "    </tr>\n",
              "    <tr>\n",
              "      <th>4</th>\n",
              "      <td>3.8462</td>\n",
              "      <td>52.0</td>\n",
              "      <td>6.281853</td>\n",
              "      <td>1.081081</td>\n",
              "      <td>565.0</td>\n",
              "      <td>2.181467</td>\n",
              "      <td>37.85</td>\n",
              "      <td>-122.25</td>\n",
              "    </tr>\n",
              "  </tbody>\n",
              "</table>\n",
              "</div>\n",
              "      <button class=\"colab-df-convert\" onclick=\"convertToInteractive('df-6b4727cf-29f5-4c20-8fa4-6d47a86fff3d')\"\n",
              "              title=\"Convert this dataframe to an interactive table.\"\n",
              "              style=\"display:none;\">\n",
              "        \n",
              "  <svg xmlns=\"http://www.w3.org/2000/svg\" height=\"24px\"viewBox=\"0 0 24 24\"\n",
              "       width=\"24px\">\n",
              "    <path d=\"M0 0h24v24H0V0z\" fill=\"none\"/>\n",
              "    <path d=\"M18.56 5.44l.94 2.06.94-2.06 2.06-.94-2.06-.94-.94-2.06-.94 2.06-2.06.94zm-11 1L8.5 8.5l.94-2.06 2.06-.94-2.06-.94L8.5 2.5l-.94 2.06-2.06.94zm10 10l.94 2.06.94-2.06 2.06-.94-2.06-.94-.94-2.06-.94 2.06-2.06.94z\"/><path d=\"M17.41 7.96l-1.37-1.37c-.4-.4-.92-.59-1.43-.59-.52 0-1.04.2-1.43.59L10.3 9.45l-7.72 7.72c-.78.78-.78 2.05 0 2.83L4 21.41c.39.39.9.59 1.41.59.51 0 1.02-.2 1.41-.59l7.78-7.78 2.81-2.81c.8-.78.8-2.07 0-2.86zM5.41 20L4 18.59l7.72-7.72 1.47 1.35L5.41 20z\"/>\n",
              "  </svg>\n",
              "      </button>\n",
              "      \n",
              "  <style>\n",
              "    .colab-df-container {\n",
              "      display:flex;\n",
              "      flex-wrap:wrap;\n",
              "      gap: 12px;\n",
              "    }\n",
              "\n",
              "    .colab-df-convert {\n",
              "      background-color: #E8F0FE;\n",
              "      border: none;\n",
              "      border-radius: 50%;\n",
              "      cursor: pointer;\n",
              "      display: none;\n",
              "      fill: #1967D2;\n",
              "      height: 32px;\n",
              "      padding: 0 0 0 0;\n",
              "      width: 32px;\n",
              "    }\n",
              "\n",
              "    .colab-df-convert:hover {\n",
              "      background-color: #E2EBFA;\n",
              "      box-shadow: 0px 1px 2px rgba(60, 64, 67, 0.3), 0px 1px 3px 1px rgba(60, 64, 67, 0.15);\n",
              "      fill: #174EA6;\n",
              "    }\n",
              "\n",
              "    [theme=dark] .colab-df-convert {\n",
              "      background-color: #3B4455;\n",
              "      fill: #D2E3FC;\n",
              "    }\n",
              "\n",
              "    [theme=dark] .colab-df-convert:hover {\n",
              "      background-color: #434B5C;\n",
              "      box-shadow: 0px 1px 3px 1px rgba(0, 0, 0, 0.15);\n",
              "      filter: drop-shadow(0px 1px 2px rgba(0, 0, 0, 0.3));\n",
              "      fill: #FFFFFF;\n",
              "    }\n",
              "  </style>\n",
              "\n",
              "      <script>\n",
              "        const buttonEl =\n",
              "          document.querySelector('#df-6b4727cf-29f5-4c20-8fa4-6d47a86fff3d button.colab-df-convert');\n",
              "        buttonEl.style.display =\n",
              "          google.colab.kernel.accessAllowed ? 'block' : 'none';\n",
              "\n",
              "        async function convertToInteractive(key) {\n",
              "          const element = document.querySelector('#df-6b4727cf-29f5-4c20-8fa4-6d47a86fff3d');\n",
              "          const dataTable =\n",
              "            await google.colab.kernel.invokeFunction('convertToInteractive',\n",
              "                                                     [key], {});\n",
              "          if (!dataTable) return;\n",
              "\n",
              "          const docLinkHtml = 'Like what you see? Visit the ' +\n",
              "            '<a target=\"_blank\" href=https://colab.research.google.com/notebooks/data_table.ipynb>data table notebook</a>'\n",
              "            + ' to learn more about interactive tables.';\n",
              "          element.innerHTML = '';\n",
              "          dataTable['output_type'] = 'display_data';\n",
              "          await google.colab.output.renderOutput(dataTable, element);\n",
              "          const docLink = document.createElement('div');\n",
              "          docLink.innerHTML = docLinkHtml;\n",
              "          element.appendChild(docLink);\n",
              "        }\n",
              "      </script>\n",
              "    </div>\n",
              "  </div>\n",
              "  "
            ]
          },
          "metadata": {},
          "execution_count": 11
        }
      ]
    },
    {
      "cell_type": "markdown",
      "source": [
        "<p align=\"justify\">\n",
        "👀 En este caso, no vamos a utilizar las variables <code>Latitude</code> y <code>Longitude</code>, pero sería interesante tenerlas en cuenta tambien como explicativas del precio de la propiedad. "
      ],
      "metadata": {
        "id": "AdbQdK_okT-l"
      }
    },
    {
      "cell_type": "code",
      "source": [
        "X.drop(columns=[\"Latitude\", \"Longitude\"])"
      ],
      "metadata": {
        "colab": {
          "base_uri": "https://localhost:8080/",
          "height": 433
        },
        "id": "3rVnGkk00Tl7",
        "outputId": "77ff0653-026c-4736-cb52-3237394a4851"
      },
      "execution_count": 12,
      "outputs": [
        {
          "output_type": "execute_result",
          "data": {
            "text/plain": [
              "       MedInc  HouseAge  AveRooms  AveBedrms  Population  AveOccup\n",
              "0      8.3252      41.0  6.984127   1.023810       322.0  2.555556\n",
              "1      8.3014      21.0  6.238137   0.971880      2401.0  2.109842\n",
              "2      7.2574      52.0  8.288136   1.073446       496.0  2.802260\n",
              "3      5.6431      52.0  5.817352   1.073059       558.0  2.547945\n",
              "4      3.8462      52.0  6.281853   1.081081       565.0  2.181467\n",
              "...       ...       ...       ...        ...         ...       ...\n",
              "20635  1.5603      25.0  5.045455   1.133333       845.0  2.560606\n",
              "20636  2.5568      18.0  6.114035   1.315789       356.0  3.122807\n",
              "20637  1.7000      17.0  5.205543   1.120092      1007.0  2.325635\n",
              "20638  1.8672      18.0  5.329513   1.171920       741.0  2.123209\n",
              "20639  2.3886      16.0  5.254717   1.162264      1387.0  2.616981\n",
              "\n",
              "[20640 rows x 6 columns]"
            ],
            "text/html": [
              "\n",
              "  <div id=\"df-615b90c4-9cc2-4fcb-9b23-96a9f20a41b0\">\n",
              "    <div class=\"colab-df-container\">\n",
              "      <div>\n",
              "<style scoped>\n",
              "    .dataframe tbody tr th:only-of-type {\n",
              "        vertical-align: middle;\n",
              "    }\n",
              "\n",
              "    .dataframe tbody tr th {\n",
              "        vertical-align: top;\n",
              "    }\n",
              "\n",
              "    .dataframe thead th {\n",
              "        text-align: right;\n",
              "    }\n",
              "</style>\n",
              "<table border=\"1\" class=\"dataframe\">\n",
              "  <thead>\n",
              "    <tr style=\"text-align: right;\">\n",
              "      <th></th>\n",
              "      <th>MedInc</th>\n",
              "      <th>HouseAge</th>\n",
              "      <th>AveRooms</th>\n",
              "      <th>AveBedrms</th>\n",
              "      <th>Population</th>\n",
              "      <th>AveOccup</th>\n",
              "    </tr>\n",
              "  </thead>\n",
              "  <tbody>\n",
              "    <tr>\n",
              "      <th>0</th>\n",
              "      <td>8.3252</td>\n",
              "      <td>41.0</td>\n",
              "      <td>6.984127</td>\n",
              "      <td>1.023810</td>\n",
              "      <td>322.0</td>\n",
              "      <td>2.555556</td>\n",
              "    </tr>\n",
              "    <tr>\n",
              "      <th>1</th>\n",
              "      <td>8.3014</td>\n",
              "      <td>21.0</td>\n",
              "      <td>6.238137</td>\n",
              "      <td>0.971880</td>\n",
              "      <td>2401.0</td>\n",
              "      <td>2.109842</td>\n",
              "    </tr>\n",
              "    <tr>\n",
              "      <th>2</th>\n",
              "      <td>7.2574</td>\n",
              "      <td>52.0</td>\n",
              "      <td>8.288136</td>\n",
              "      <td>1.073446</td>\n",
              "      <td>496.0</td>\n",
              "      <td>2.802260</td>\n",
              "    </tr>\n",
              "    <tr>\n",
              "      <th>3</th>\n",
              "      <td>5.6431</td>\n",
              "      <td>52.0</td>\n",
              "      <td>5.817352</td>\n",
              "      <td>1.073059</td>\n",
              "      <td>558.0</td>\n",
              "      <td>2.547945</td>\n",
              "    </tr>\n",
              "    <tr>\n",
              "      <th>4</th>\n",
              "      <td>3.8462</td>\n",
              "      <td>52.0</td>\n",
              "      <td>6.281853</td>\n",
              "      <td>1.081081</td>\n",
              "      <td>565.0</td>\n",
              "      <td>2.181467</td>\n",
              "    </tr>\n",
              "    <tr>\n",
              "      <th>...</th>\n",
              "      <td>...</td>\n",
              "      <td>...</td>\n",
              "      <td>...</td>\n",
              "      <td>...</td>\n",
              "      <td>...</td>\n",
              "      <td>...</td>\n",
              "    </tr>\n",
              "    <tr>\n",
              "      <th>20635</th>\n",
              "      <td>1.5603</td>\n",
              "      <td>25.0</td>\n",
              "      <td>5.045455</td>\n",
              "      <td>1.133333</td>\n",
              "      <td>845.0</td>\n",
              "      <td>2.560606</td>\n",
              "    </tr>\n",
              "    <tr>\n",
              "      <th>20636</th>\n",
              "      <td>2.5568</td>\n",
              "      <td>18.0</td>\n",
              "      <td>6.114035</td>\n",
              "      <td>1.315789</td>\n",
              "      <td>356.0</td>\n",
              "      <td>3.122807</td>\n",
              "    </tr>\n",
              "    <tr>\n",
              "      <th>20637</th>\n",
              "      <td>1.7000</td>\n",
              "      <td>17.0</td>\n",
              "      <td>5.205543</td>\n",
              "      <td>1.120092</td>\n",
              "      <td>1007.0</td>\n",
              "      <td>2.325635</td>\n",
              "    </tr>\n",
              "    <tr>\n",
              "      <th>20638</th>\n",
              "      <td>1.8672</td>\n",
              "      <td>18.0</td>\n",
              "      <td>5.329513</td>\n",
              "      <td>1.171920</td>\n",
              "      <td>741.0</td>\n",
              "      <td>2.123209</td>\n",
              "    </tr>\n",
              "    <tr>\n",
              "      <th>20639</th>\n",
              "      <td>2.3886</td>\n",
              "      <td>16.0</td>\n",
              "      <td>5.254717</td>\n",
              "      <td>1.162264</td>\n",
              "      <td>1387.0</td>\n",
              "      <td>2.616981</td>\n",
              "    </tr>\n",
              "  </tbody>\n",
              "</table>\n",
              "<p>20640 rows × 6 columns</p>\n",
              "</div>\n",
              "      <button class=\"colab-df-convert\" onclick=\"convertToInteractive('df-615b90c4-9cc2-4fcb-9b23-96a9f20a41b0')\"\n",
              "              title=\"Convert this dataframe to an interactive table.\"\n",
              "              style=\"display:none;\">\n",
              "        \n",
              "  <svg xmlns=\"http://www.w3.org/2000/svg\" height=\"24px\"viewBox=\"0 0 24 24\"\n",
              "       width=\"24px\">\n",
              "    <path d=\"M0 0h24v24H0V0z\" fill=\"none\"/>\n",
              "    <path d=\"M18.56 5.44l.94 2.06.94-2.06 2.06-.94-2.06-.94-.94-2.06-.94 2.06-2.06.94zm-11 1L8.5 8.5l.94-2.06 2.06-.94-2.06-.94L8.5 2.5l-.94 2.06-2.06.94zm10 10l.94 2.06.94-2.06 2.06-.94-2.06-.94-.94-2.06-.94 2.06-2.06.94z\"/><path d=\"M17.41 7.96l-1.37-1.37c-.4-.4-.92-.59-1.43-.59-.52 0-1.04.2-1.43.59L10.3 9.45l-7.72 7.72c-.78.78-.78 2.05 0 2.83L4 21.41c.39.39.9.59 1.41.59.51 0 1.02-.2 1.41-.59l7.78-7.78 2.81-2.81c.8-.78.8-2.07 0-2.86zM5.41 20L4 18.59l7.72-7.72 1.47 1.35L5.41 20z\"/>\n",
              "  </svg>\n",
              "      </button>\n",
              "      \n",
              "  <style>\n",
              "    .colab-df-container {\n",
              "      display:flex;\n",
              "      flex-wrap:wrap;\n",
              "      gap: 12px;\n",
              "    }\n",
              "\n",
              "    .colab-df-convert {\n",
              "      background-color: #E8F0FE;\n",
              "      border: none;\n",
              "      border-radius: 50%;\n",
              "      cursor: pointer;\n",
              "      display: none;\n",
              "      fill: #1967D2;\n",
              "      height: 32px;\n",
              "      padding: 0 0 0 0;\n",
              "      width: 32px;\n",
              "    }\n",
              "\n",
              "    .colab-df-convert:hover {\n",
              "      background-color: #E2EBFA;\n",
              "      box-shadow: 0px 1px 2px rgba(60, 64, 67, 0.3), 0px 1px 3px 1px rgba(60, 64, 67, 0.15);\n",
              "      fill: #174EA6;\n",
              "    }\n",
              "\n",
              "    [theme=dark] .colab-df-convert {\n",
              "      background-color: #3B4455;\n",
              "      fill: #D2E3FC;\n",
              "    }\n",
              "\n",
              "    [theme=dark] .colab-df-convert:hover {\n",
              "      background-color: #434B5C;\n",
              "      box-shadow: 0px 1px 3px 1px rgba(0, 0, 0, 0.15);\n",
              "      filter: drop-shadow(0px 1px 2px rgba(0, 0, 0, 0.3));\n",
              "      fill: #FFFFFF;\n",
              "    }\n",
              "  </style>\n",
              "\n",
              "      <script>\n",
              "        const buttonEl =\n",
              "          document.querySelector('#df-615b90c4-9cc2-4fcb-9b23-96a9f20a41b0 button.colab-df-convert');\n",
              "        buttonEl.style.display =\n",
              "          google.colab.kernel.accessAllowed ? 'block' : 'none';\n",
              "\n",
              "        async function convertToInteractive(key) {\n",
              "          const element = document.querySelector('#df-615b90c4-9cc2-4fcb-9b23-96a9f20a41b0');\n",
              "          const dataTable =\n",
              "            await google.colab.kernel.invokeFunction('convertToInteractive',\n",
              "                                                     [key], {});\n",
              "          if (!dataTable) return;\n",
              "\n",
              "          const docLinkHtml = 'Like what you see? Visit the ' +\n",
              "            '<a target=\"_blank\" href=https://colab.research.google.com/notebooks/data_table.ipynb>data table notebook</a>'\n",
              "            + ' to learn more about interactive tables.';\n",
              "          element.innerHTML = '';\n",
              "          dataTable['output_type'] = 'display_data';\n",
              "          await google.colab.output.renderOutput(dataTable, element);\n",
              "          const docLink = document.createElement('div');\n",
              "          docLink.innerHTML = docLinkHtml;\n",
              "          element.appendChild(docLink);\n",
              "        }\n",
              "      </script>\n",
              "    </div>\n",
              "  </div>\n",
              "  "
            ]
          },
          "metadata": {},
          "execution_count": 12
        }
      ]
    },
    {
      "cell_type": "markdown",
      "source": [
        " # **<font color=\"DeepPink\">Error de entrenamiento versus Error de prueba</font>**\n"
      ],
      "metadata": {
        "id": "vF0xSR4JB8q3"
      }
    },
    {
      "cell_type": "markdown",
      "source": [
        " ## **<font color=\"DeepPink\">Creación y ajuste del modelo</font>**"
      ],
      "metadata": {
        "id": "tfagF9MsxsGc"
      }
    },
    {
      "cell_type": "markdown",
      "source": [
        "Para resolver el problema de regresión, utilizaremos un [Árbol de Regresión](https://scikit-learn.org/stable/modules/generated/sklearn.tree.DecisionTreeRegressor.html)"
      ],
      "metadata": {
        "id": "naTmjBuT1C9u"
      }
    },
    {
      "cell_type": "markdown",
      "source": [
        "<p align=\"justify\">\n",
        "Un árbol de decisión en <code>Scikit-learn</code> es un algoritmo de aprendizaje automático supervisado utilizado para resolver problemas de clasificación y regresión. Se basa en la idea de construir un modelo en forma de árbol que toma decisiones secuenciales basadas en características o atributos de los datos de entrada, o variables explicativas.\n",
        "<br><br>\n",
        "En <code>Scikit-learn</code>, los árboles de decisión se implementan a través de la clase <code>DecisionTreeClassifier</code> para problemas de clasificación y la clase <code>DecisionTreeRegressor</code> para problemas de regresión. "
      ],
      "metadata": {
        "id": "-JKPRoIDk022"
      }
    },
    {
      "cell_type": "code",
      "source": [
        "from sklearn.tree import DecisionTreeRegressor"
      ],
      "metadata": {
        "id": "mzOWSymJBx0E"
      },
      "execution_count": 13,
      "outputs": []
    },
    {
      "cell_type": "code",
      "source": [
        "model = DecisionTreeRegressor(random_state=0) #se usa random_state para controlar la aleatoriedad del estimador.\n",
        "model.fit(X, y)"
      ],
      "metadata": {
        "id": "8cuWWp_Dxs7F",
        "colab": {
          "base_uri": "https://localhost:8080/",
          "height": 93
        },
        "outputId": "8beb2c66-b5bb-44bc-ba56-d7f740add080"
      },
      "execution_count": 14,
      "outputs": [
        {
          "output_type": "execute_result",
          "data": {
            "text/plain": [
              "DecisionTreeRegressor(random_state=0)"
            ],
            "text/html": [
              "<style>#sk-container-id-1 {color: black;background-color: white;}#sk-container-id-1 pre{padding: 0;}#sk-container-id-1 div.sk-toggleable {background-color: white;}#sk-container-id-1 label.sk-toggleable__label {cursor: pointer;display: block;width: 100%;margin-bottom: 0;padding: 0.3em;box-sizing: border-box;text-align: center;}#sk-container-id-1 label.sk-toggleable__label-arrow:before {content: \"▸\";float: left;margin-right: 0.25em;color: #696969;}#sk-container-id-1 label.sk-toggleable__label-arrow:hover:before {color: black;}#sk-container-id-1 div.sk-estimator:hover label.sk-toggleable__label-arrow:before {color: black;}#sk-container-id-1 div.sk-toggleable__content {max-height: 0;max-width: 0;overflow: hidden;text-align: left;background-color: #f0f8ff;}#sk-container-id-1 div.sk-toggleable__content pre {margin: 0.2em;color: black;border-radius: 0.25em;background-color: #f0f8ff;}#sk-container-id-1 input.sk-toggleable__control:checked~div.sk-toggleable__content {max-height: 200px;max-width: 100%;overflow: auto;}#sk-container-id-1 input.sk-toggleable__control:checked~label.sk-toggleable__label-arrow:before {content: \"▾\";}#sk-container-id-1 div.sk-estimator input.sk-toggleable__control:checked~label.sk-toggleable__label {background-color: #d4ebff;}#sk-container-id-1 div.sk-label input.sk-toggleable__control:checked~label.sk-toggleable__label {background-color: #d4ebff;}#sk-container-id-1 input.sk-hidden--visually {border: 0;clip: rect(1px 1px 1px 1px);clip: rect(1px, 1px, 1px, 1px);height: 1px;margin: -1px;overflow: hidden;padding: 0;position: absolute;width: 1px;}#sk-container-id-1 div.sk-estimator {font-family: monospace;background-color: #f0f8ff;border: 1px dotted black;border-radius: 0.25em;box-sizing: border-box;margin-bottom: 0.5em;}#sk-container-id-1 div.sk-estimator:hover {background-color: #d4ebff;}#sk-container-id-1 div.sk-parallel-item::after {content: \"\";width: 100%;border-bottom: 1px solid gray;flex-grow: 1;}#sk-container-id-1 div.sk-label:hover label.sk-toggleable__label {background-color: #d4ebff;}#sk-container-id-1 div.sk-serial::before {content: \"\";position: absolute;border-left: 1px solid gray;box-sizing: border-box;top: 0;bottom: 0;left: 50%;z-index: 0;}#sk-container-id-1 div.sk-serial {display: flex;flex-direction: column;align-items: center;background-color: white;padding-right: 0.2em;padding-left: 0.2em;position: relative;}#sk-container-id-1 div.sk-item {position: relative;z-index: 1;}#sk-container-id-1 div.sk-parallel {display: flex;align-items: stretch;justify-content: center;background-color: white;position: relative;}#sk-container-id-1 div.sk-item::before, #sk-container-id-1 div.sk-parallel-item::before {content: \"\";position: absolute;border-left: 1px solid gray;box-sizing: border-box;top: 0;bottom: 0;left: 50%;z-index: -1;}#sk-container-id-1 div.sk-parallel-item {display: flex;flex-direction: column;z-index: 1;position: relative;background-color: white;}#sk-container-id-1 div.sk-parallel-item:first-child::after {align-self: flex-end;width: 50%;}#sk-container-id-1 div.sk-parallel-item:last-child::after {align-self: flex-start;width: 50%;}#sk-container-id-1 div.sk-parallel-item:only-child::after {width: 0;}#sk-container-id-1 div.sk-dashed-wrapped {border: 1px dashed gray;margin: 0 0.4em 0.5em 0.4em;box-sizing: border-box;padding-bottom: 0.4em;background-color: white;}#sk-container-id-1 div.sk-label label {font-family: monospace;font-weight: bold;display: inline-block;line-height: 1.2em;}#sk-container-id-1 div.sk-label-container {text-align: center;}#sk-container-id-1 div.sk-container {/* jupyter's `normalize.less` sets `[hidden] { display: none; }` but bootstrap.min.css set `[hidden] { display: none !important; }` so we also need the `!important` here to be able to override the default hidden behavior on the sphinx rendered scikit-learn.org. See: https://github.com/scikit-learn/scikit-learn/issues/21755 */display: inline-block !important;position: relative;}#sk-container-id-1 div.sk-text-repr-fallback {display: none;}</style><div id=\"sk-container-id-1\" class=\"sk-top-container\"><div class=\"sk-text-repr-fallback\"><pre>DecisionTreeRegressor(random_state=0)</pre><b>In a Jupyter environment, please rerun this cell to show the HTML representation or trust the notebook. <br />On GitHub, the HTML representation is unable to render, please try loading this page with nbviewer.org.</b></div><div class=\"sk-container\" hidden><div class=\"sk-item\"><div class=\"sk-estimator sk-toggleable\"><input class=\"sk-toggleable__control sk-hidden--visually\" id=\"sk-estimator-id-1\" type=\"checkbox\" checked><label for=\"sk-estimator-id-1\" class=\"sk-toggleable__label sk-toggleable__label-arrow\">DecisionTreeRegressor</label><div class=\"sk-toggleable__content\"><pre>DecisionTreeRegressor(random_state=0)</pre></div></div></div></div></div>"
            ]
          },
          "metadata": {},
          "execution_count": 14
        }
      ]
    },
    {
      "cell_type": "markdown",
      "source": [
        "<p align=\"justify\">\n",
        "👀 Entonces la creación del árbol se hace con la instancia de la clase  <code>DecisionTreeRegressor</code>, y se ajusta al conjunto de datos  utilizando el método <code>fit()</code>. Durante este proceso, el árbol se construye de forma recursiva dividiendo los datos en función de las características para maximizar la pureza en los nodos hoja (clasificación) o reducir el error cuadrático medio (regresión), y en nuestro caso será la reducción del error cuadrático medio."
      ],
      "metadata": {
        "id": "y-faQ_dWl6tm"
      }
    },
    {
      "cell_type": "markdown",
      "source": [
        " ## **<font color=\"DeepPink\">Evaluación del modelo</font>**"
      ],
      "metadata": {
        "id": "vLAoGjmr2nWN"
      }
    },
    {
      "cell_type": "markdown",
      "source": [
        "<p align=\"justify\">\n",
        "Después de entrenar el regresor, nos gustaría conocer su rendimiento potencial una vez implementado en producción. Para este propósito, usamos el Error Absoluto Medio (MAE), que nos da un error en la unidad original, es decir, en $."
      ],
      "metadata": {
        "id": "qJMI-W9y3vVf"
      }
    },
    {
      "cell_type": "code",
      "source": [
        "from sklearn.metrics import mean_absolute_error"
      ],
      "metadata": {
        "id": "vjOGLCBjChUV"
      },
      "execution_count": 15,
      "outputs": []
    },
    {
      "cell_type": "code",
      "source": [
        "y_predicted = model.predict(X)\n",
        "score = mean_absolute_error(y, y_predicted)\n",
        "print(\"\")\n",
        "print(f\"En promedio, nuestro modelo genera un error de $ {score:.2f}\")"
      ],
      "metadata": {
        "colab": {
          "base_uri": "https://localhost:8080/"
        },
        "id": "99TaVkNb3-Zi",
        "outputId": "81502ecc-587b-48f3-ddb7-c415e17c34bd"
      },
      "execution_count": 16,
      "outputs": [
        {
          "output_type": "stream",
          "name": "stdout",
          "text": [
            "\n",
            "En promedio, nuestro modelo genera un error de $ 0.00\n"
          ]
        }
      ]
    },
    {
      "cell_type": "markdown",
      "source": [
        "<p align=\"justify\">\n",
        "Vemos que obtenemos una predicción perfecta sin errores de los precios de las propiedades. Esto es demasiado optimista y cuando sucede, casi siempre revela un problema metodológico. \n",
        "<br><br>\n",
        "👀 Entrenamos y predijimos con el mismo conjunto de datos. \n",
        "<br><br>\n",
        "En nuestro árbol de decisión, cada muestra en el conjunto de datos se almacena en un nodo hoja. Por lo tanto, nuestro árbol de decisiones memorizó completamente el conjunto de datos proporcionado durante el ajuste del modelo <code>fit()</code> y por ese motivo, no cometió ningún error al predecir los valores de los precios de las propiedades.\n",
        "\n"
      ],
      "metadata": {
        "id": "IUFzwFMs6hqD"
      }
    },
    {
      "cell_type": "markdown",
      "source": [
        "## **<font color=\"DeepPink\">División de datos de prueba y entrenamiento</font>**"
      ],
      "metadata": {
        "id": "QxtgNPhpoezM"
      }
    },
    {
      "cell_type": "markdown",
      "source": [
        "<p align=\"justify\">\n",
        "🛑 El error calculado anteriormente se denomina <b>error empírico</b> o <b>error de entrenamiento</b>.\n",
        "<br><br>\n",
        "Entrenamos un modelo predictivo para minimizar el error de entrenamiento, pero nuestro objetivo es minimizar el error en los datos que no se han visto durante el entrenamiento del modelo.\n",
        "<br><br>\n",
        "Este error también se denomina <b>error de generalización</b> o <b>error de prueba \"verdadero\"</b>.\n",
        "<br><br>\n",
        "Así, la evaluación más básica implica:\n",
        "\n",
        "* Dividir el conjunto de datos en un conjunto de entrenamiento y un conjunto de prueba;\n",
        "* Ajustar el modelo en el conjunto de entrenamiento;\n",
        "* Estimar el error de entrenamiento en el conjunto de entrenamiento;\n",
        "* Estimar el error de prueba en el conjunto de prueba.\n",
        "\n",
        "<br>\n",
        "<p align=\"justify\">\n",
        "👀 Así que dividamos nuestro conjunto de datos, para ello <code>Scikit-learn</code> proporciona una función llamada <code>train_test_split</code> del módulo <code>model_selection</code> que se utiliza para realizar esta división. La función <code>train_test_split</code> toma como entrada el conjunto de datos completo y lo divide en dos (o más) conjuntos: uno para entrenamiento y otro para evaluación.\n",
        "<br><br>\n",
        "La división del conjunto de datos se realiza de manera aleatoria, asegurando que los datos se mezclen para evitar cualquier sesgo o patrón específico en los conjuntos de entrenamiento y evaluación. Por lo general, la división se realiza asignando un porcentaje específico de los datos al conjunto de evaluación (también conocido como conjunto de prueba) y el restante al conjunto de entrenamiento.\n",
        "<br><br>\n",
        "La función <code>train_test_split</code> también permite realizar divisiones estratificadas, lo que significa que mantiene la proporción de clases en ambos conjuntos. Esto es útil en problemas de clasificación, donde se desea que la distribución de clases sea representativa en el conjunto de entrenamiento y evaluación."
      ],
      "metadata": {
        "id": "Zrvtqf2e94ak"
      }
    },
    {
      "cell_type": "code",
      "source": [
        "from sklearn.model_selection import train_test_split"
      ],
      "metadata": {
        "id": "3mM-QE3OCuNC"
      },
      "execution_count": 17,
      "outputs": []
    },
    {
      "cell_type": "code",
      "source": [
        "X_train, X_test, y_train, y_test = train_test_split(X, y, random_state=0)"
      ],
      "metadata": {
        "id": "osG0fG4HAJn7"
      },
      "execution_count": 18,
      "outputs": []
    },
    {
      "cell_type": "code",
      "source": [
        "model.fit(X_train, y_train)"
      ],
      "metadata": {
        "colab": {
          "base_uri": "https://localhost:8080/",
          "height": 93
        },
        "id": "aIX7ruPzAlhn",
        "outputId": "9f690a2f-c6c6-4b1b-ff58-8f4cd9c3136e"
      },
      "execution_count": 19,
      "outputs": [
        {
          "output_type": "execute_result",
          "data": {
            "text/plain": [
              "DecisionTreeRegressor(random_state=0)"
            ],
            "text/html": [
              "<style>#sk-container-id-2 {color: black;background-color: white;}#sk-container-id-2 pre{padding: 0;}#sk-container-id-2 div.sk-toggleable {background-color: white;}#sk-container-id-2 label.sk-toggleable__label {cursor: pointer;display: block;width: 100%;margin-bottom: 0;padding: 0.3em;box-sizing: border-box;text-align: center;}#sk-container-id-2 label.sk-toggleable__label-arrow:before {content: \"▸\";float: left;margin-right: 0.25em;color: #696969;}#sk-container-id-2 label.sk-toggleable__label-arrow:hover:before {color: black;}#sk-container-id-2 div.sk-estimator:hover label.sk-toggleable__label-arrow:before {color: black;}#sk-container-id-2 div.sk-toggleable__content {max-height: 0;max-width: 0;overflow: hidden;text-align: left;background-color: #f0f8ff;}#sk-container-id-2 div.sk-toggleable__content pre {margin: 0.2em;color: black;border-radius: 0.25em;background-color: #f0f8ff;}#sk-container-id-2 input.sk-toggleable__control:checked~div.sk-toggleable__content {max-height: 200px;max-width: 100%;overflow: auto;}#sk-container-id-2 input.sk-toggleable__control:checked~label.sk-toggleable__label-arrow:before {content: \"▾\";}#sk-container-id-2 div.sk-estimator input.sk-toggleable__control:checked~label.sk-toggleable__label {background-color: #d4ebff;}#sk-container-id-2 div.sk-label input.sk-toggleable__control:checked~label.sk-toggleable__label {background-color: #d4ebff;}#sk-container-id-2 input.sk-hidden--visually {border: 0;clip: rect(1px 1px 1px 1px);clip: rect(1px, 1px, 1px, 1px);height: 1px;margin: -1px;overflow: hidden;padding: 0;position: absolute;width: 1px;}#sk-container-id-2 div.sk-estimator {font-family: monospace;background-color: #f0f8ff;border: 1px dotted black;border-radius: 0.25em;box-sizing: border-box;margin-bottom: 0.5em;}#sk-container-id-2 div.sk-estimator:hover {background-color: #d4ebff;}#sk-container-id-2 div.sk-parallel-item::after {content: \"\";width: 100%;border-bottom: 1px solid gray;flex-grow: 1;}#sk-container-id-2 div.sk-label:hover label.sk-toggleable__label {background-color: #d4ebff;}#sk-container-id-2 div.sk-serial::before {content: \"\";position: absolute;border-left: 1px solid gray;box-sizing: border-box;top: 0;bottom: 0;left: 50%;z-index: 0;}#sk-container-id-2 div.sk-serial {display: flex;flex-direction: column;align-items: center;background-color: white;padding-right: 0.2em;padding-left: 0.2em;position: relative;}#sk-container-id-2 div.sk-item {position: relative;z-index: 1;}#sk-container-id-2 div.sk-parallel {display: flex;align-items: stretch;justify-content: center;background-color: white;position: relative;}#sk-container-id-2 div.sk-item::before, #sk-container-id-2 div.sk-parallel-item::before {content: \"\";position: absolute;border-left: 1px solid gray;box-sizing: border-box;top: 0;bottom: 0;left: 50%;z-index: -1;}#sk-container-id-2 div.sk-parallel-item {display: flex;flex-direction: column;z-index: 1;position: relative;background-color: white;}#sk-container-id-2 div.sk-parallel-item:first-child::after {align-self: flex-end;width: 50%;}#sk-container-id-2 div.sk-parallel-item:last-child::after {align-self: flex-start;width: 50%;}#sk-container-id-2 div.sk-parallel-item:only-child::after {width: 0;}#sk-container-id-2 div.sk-dashed-wrapped {border: 1px dashed gray;margin: 0 0.4em 0.5em 0.4em;box-sizing: border-box;padding-bottom: 0.4em;background-color: white;}#sk-container-id-2 div.sk-label label {font-family: monospace;font-weight: bold;display: inline-block;line-height: 1.2em;}#sk-container-id-2 div.sk-label-container {text-align: center;}#sk-container-id-2 div.sk-container {/* jupyter's `normalize.less` sets `[hidden] { display: none; }` but bootstrap.min.css set `[hidden] { display: none !important; }` so we also need the `!important` here to be able to override the default hidden behavior on the sphinx rendered scikit-learn.org. See: https://github.com/scikit-learn/scikit-learn/issues/21755 */display: inline-block !important;position: relative;}#sk-container-id-2 div.sk-text-repr-fallback {display: none;}</style><div id=\"sk-container-id-2\" class=\"sk-top-container\"><div class=\"sk-text-repr-fallback\"><pre>DecisionTreeRegressor(random_state=0)</pre><b>In a Jupyter environment, please rerun this cell to show the HTML representation or trust the notebook. <br />On GitHub, the HTML representation is unable to render, please try loading this page with nbviewer.org.</b></div><div class=\"sk-container\" hidden><div class=\"sk-item\"><div class=\"sk-estimator sk-toggleable\"><input class=\"sk-toggleable__control sk-hidden--visually\" id=\"sk-estimator-id-2\" type=\"checkbox\" checked><label for=\"sk-estimator-id-2\" class=\"sk-toggleable__label sk-toggleable__label-arrow\">DecisionTreeRegressor</label><div class=\"sk-toggleable__content\"><pre>DecisionTreeRegressor(random_state=0)</pre></div></div></div></div></div>"
            ]
          },
          "metadata": {},
          "execution_count": 19
        }
      ]
    },
    {
      "cell_type": "markdown",
      "source": [
        "<p align=\"justify\">\n",
        "<code>X_train</code> y <code>y_train</code> representan los conjuntos de entrenamiento, mientras que <code>X_test</code> y <code>y_test</code> representan los conjuntos de evaluación. El argumento <code>random_state</code> se utiliza para fijar la semilla aleatoria y asegurar que la división sea reproducible, es decir, independientemente de quien ejecute el script, siempre se obtenga el mismo resultado.\n",
        "<br><br>\n",
        "La división del conjunto de datos en <code>Scikit-learn</code> es esencial para evaluar el rendimiento de los modelos de aprendizaje automático de manera objetiva y para evitar el sobreajuste al utilizar los mismos datos tanto para entrenamiento como para evaluación (test)."
      ],
      "metadata": {
        "id": "mpIKxDs-rZtg"
      }
    },
    {
      "cell_type": "markdown",
      "source": [
        " ## **<font color=\"DeepPink\">Evaluación del modelo</font>**"
      ],
      "metadata": {
        "id": "PO8ClX--2vVO"
      }
    },
    {
      "cell_type": "markdown",
      "source": [
        "👀 Error de entrenamiento:"
      ],
      "metadata": {
        "id": "G1w593Y6A2C9"
      }
    },
    {
      "cell_type": "code",
      "source": [
        "y_predicted = model.predict(X_train)\n",
        "score = mean_absolute_error(y_train, y_predicted)\n",
        "print(\"\")\n",
        "print(f\"El error de entrenamiento del modelo es $ {score:.2f}\")"
      ],
      "metadata": {
        "colab": {
          "base_uri": "https://localhost:8080/"
        },
        "id": "5y8TJUbjA0TF",
        "outputId": "772ccabf-97a9-41af-ec97-00e9dddd02ce"
      },
      "execution_count": 20,
      "outputs": [
        {
          "output_type": "stream",
          "name": "stdout",
          "text": [
            "\n",
            "El error de entrenamiento del modelo es $ 0.00\n"
          ]
        }
      ]
    },
    {
      "cell_type": "markdown",
      "source": [
        "👀 Error de prueba:"
      ],
      "metadata": {
        "id": "XQR6CYflBAxH"
      }
    },
    {
      "cell_type": "code",
      "source": [
        "y_predicted = model.predict(X_test)\n",
        "score = mean_absolute_error(y_test, y_predicted)\n",
        "print(\"\")\n",
        "print(f\"El error de prueba del modelo es $ {score:.2f}\")"
      ],
      "metadata": {
        "colab": {
          "base_uri": "https://localhost:8080/"
        },
        "id": "2G9NuuwDBC6d",
        "outputId": "0e560f48-05aa-4220-d1b7-b159f4f60cc1"
      },
      "execution_count": 21,
      "outputs": [
        {
          "output_type": "stream",
          "name": "stdout",
          "text": [
            "\n",
            "El error de prueba del modelo es $ 47378.08\n"
          ]
        }
      ]
    },
    {
      "cell_type": "markdown",
      "source": [
        "<p align=\"justify\">\n",
        "✅ Este error de prueba es en realidad lo que esperaríamos de nuestro modelo si se usara en un entorno de producción."
      ],
      "metadata": {
        "id": "8pDWZ2AWBlHC"
      }
    },
    {
      "cell_type": "markdown",
      "source": [
        "# **<font color=\"DeepPink\">Estabilidad de las estimaciones de Validación Cruzada</font>**"
      ],
      "metadata": {
        "id": "EbRxj5a8peuT"
      }
    },
    {
      "cell_type": "markdown",
      "source": [
        "<p align=\"justify\">\n",
        "Al hacer una sola división de prueba y entrenamiento, no damos ninguna indicación con respecto a la robustez de la evaluación de nuestro modelo predictivo: en particular, si el conjunto de prueba es pequeño, esta estimación del error de prueba será inestable y no reflejaría la \"tasa de error real\" que habríamos observado con el mismo modelo en una cantidad ilimitada de datos de prueba.\n",
        "<br><br>\n",
        "Por ejemplo, podríamos haber tenido suerte cuando hicimos nuestra división aleatoria de nuestro conjunto de datos limitado y aislar algunos de los casos más fáciles de predecir en el conjunto de prueba por casualidad: la estimación del error de prueba sería demasiado optimista, en este caso.\n",
        "<br><br>\n",
        "Entonces la <b>validación cruzada</b> permite estimar la robustez de un modelo predictivo por repitiendo el procedimiento de división. Dará varios errores de entrenamientos y pruebas. y, por tanto, alguna <b>estimación de la variabilidad de la generalización del modelo rendimiento</b>.\n",
        "\n",
        "Hay [diferentes estrategias de validación cruzada](https://scikit-learn.org/stable/modules/cross_validation.html#cross-validation-iterators), \n",
        "\n",
        "<p align=\"justify\">\n",
        "Por ahora nos vamos a centrar en uno llamado <code>shuffle-split</code>. En cada iteración de esta estrategia nosotros vamos a:\n",
        "\n",
        "\n",
        "- Mezclar aleatoriamente el orden de las muestras del conjunto de datos completo;\n",
        "- Dividir el conjunto de datos en un conjunto de entrenamiento y un conjunto de prueba;\n",
        "- Entrenar un nuevo modelo con el conjunto de entrenamiento;\n",
        "- Evaluar el error de prueba con el conjunto de prueba.\n",
        "\n",
        "<p align=\"justify\">\n",
        "Repetimos este procedimiento <code>n_splits</code> veces. Hay que tener en cuenta que el costo computacional aumenta con <code>n_splits</code>."
      ],
      "metadata": {
        "id": "LekThmYACKyt"
      }
    },
    {
      "cell_type": "markdown",
      "source": [
        "<p align=\"center\">\n",
        "<img src=\"https://github.com/cristiandarioortegayubro/BDS/blob/main/images/Validacion-001.png?raw=true\" width=\"600\">\n",
        "</p>\n"
      ],
      "metadata": {
        "id": "Z0tZ-4kBvnZX"
      }
    },
    {
      "cell_type": "markdown",
      "source": [
        "<p align=\"justify\">\n",
        "Esta figura muestra el caso particular de la estrategia de validación cruzada <code>shuffle-split</code> usando <code>n_splits = 5</code>. Para cada división de validación cruzada, el procedimiento entrena un modelo en todas las muestras rojas y evalúa la puntuación del modelo en las muestras azules."
      ],
      "metadata": {
        "id": "emmCoOpjEdMy"
      }
    },
    {
      "cell_type": "markdown",
      "source": [
        "<p align=\"justify\">\n",
        "En este caso estableceremos <code>n_splits=40</code>, lo que significa que entrenaremos $40$ modelos en total y todos ellos serán descartados: solo registramos su rendimiento de generalización en cada variante del conjunto de prueba.\n",
        "\n",
        "\n",
        "Para evaluar el desempeño de nuestro modelo, debemos usar:\n",
        "\n",
        "- [`sklearn.model_selection.cross_validate`](https://scikit-learn.org/stable/modules/generated/sklearn.model_selection.cross_validate.html)\n",
        "con un objeto\n",
        "- [`sklearn.model_selection.ShuffleSplit`](https://scikit-learn.org/stable/modules/generated/sklearn.model_selection.ShuffleSplit.html)"
      ],
      "metadata": {
        "id": "FyxV9rj-EeQ9"
      }
    },
    {
      "cell_type": "code",
      "source": [
        "from sklearn.model_selection import cross_validate\n",
        "from sklearn.model_selection import ShuffleSplit"
      ],
      "metadata": {
        "id": "W_dI03UHDDtL"
      },
      "execution_count": 22,
      "outputs": []
    },
    {
      "cell_type": "code",
      "source": [
        "cv = ShuffleSplit(n_splits=40, test_size=0.3, random_state=0)\n",
        "cv_results = cross_validate(model, X, y, cv=cv, scoring=\"neg_mean_absolute_error\")"
      ],
      "metadata": {
        "id": "fRIt_jemHEol"
      },
      "execution_count": 23,
      "outputs": []
    },
    {
      "cell_type": "code",
      "source": [
        "cv_results"
      ],
      "metadata": {
        "colab": {
          "base_uri": "https://localhost:8080/"
        },
        "id": "1PtJrJ5QHRCq",
        "outputId": "b576b52c-18aa-4809-cb79-0b6eed3cf6b1"
      },
      "execution_count": 24,
      "outputs": [
        {
          "output_type": "execute_result",
          "data": {
            "text/plain": [
              "{'fit_time': array([0.17140079, 0.17506695, 0.17244935, 0.16458821, 0.17326975,\n",
              "        0.17195749, 0.21093702, 0.2576735 , 0.24424458, 0.24315596,\n",
              "        0.23996949, 0.24746466, 0.25013471, 0.23573136, 0.1938355 ,\n",
              "        0.17082763, 0.16594172, 0.16853642, 0.1650331 , 0.16166472,\n",
              "        0.16366506, 0.16486073, 0.17013931, 0.16409063, 0.16712451,\n",
              "        0.16372776, 0.1623795 , 0.16369343, 0.17512631, 0.1636157 ,\n",
              "        0.16321683, 0.16555786, 0.16902781, 0.1639185 , 0.1732111 ,\n",
              "        0.16799116, 0.1635294 , 0.16124845, 0.1653316 , 0.1666069 ]),\n",
              " 'score_time': array([0.00431395, 0.00433803, 0.0044241 , 0.00457907, 0.00425935,\n",
              "        0.00435376, 0.00529051, 0.00661922, 0.00542498, 0.00555325,\n",
              "        0.00517607, 0.00585175, 0.00594807, 0.00590968, 0.00425339,\n",
              "        0.00439548, 0.00608563, 0.00427294, 0.00431371, 0.00418305,\n",
              "        0.00422645, 0.00432181, 0.00517464, 0.00471306, 0.00624585,\n",
              "        0.00428772, 0.00500441, 0.00593996, 0.00422812, 0.00431299,\n",
              "        0.00420022, 0.00463653, 0.0042336 , 0.00425029, 0.00438213,\n",
              "        0.00448036, 0.00419569, 0.00429058, 0.00421786, 0.00468779]),\n",
              " 'test_score': array([-47137.00952842, -46839.43378553, -47305.85448966, -44851.39841731,\n",
              "        -47072.16892765, -46013.86450258, -46750.69056848, -46147.9121447 ,\n",
              "        -45342.59625323, -45226.90132429, -49119.53633721, -47770.11870155,\n",
              "        -46477.23869509, -46014.51178941, -46559.39179587, -44371.60513566,\n",
              "        -47846.02147933, -43075.42280362, -46726.63533592, -47919.66392119,\n",
              "        -44693.7256137 , -46421.29198966, -45567.76049742, -46644.66602067,\n",
              "        -46423.13662791, -46953.62726098, -47214.40374677, -46662.25290698,\n",
              "        -47884.26744186, -46058.35771964, -46319.03585271, -44977.31895995,\n",
              "        -44029.9000323 , -47429.01631137, -46705.86159561, -45266.00177649,\n",
              "        -47256.19573643, -46852.80700904, -47161.4003553 , -47262.34786822])}"
            ]
          },
          "metadata": {},
          "execution_count": 24
        }
      ]
    },
    {
      "cell_type": "markdown",
      "source": [
        "<p align=\"justify\">\n",
        "👀 Los resultados <code>cv_results</code> se almacenan en un <b>diccionario</b>. Lo convertiremos a un <b>DataFrame</b> para facilitar la visualización y manipulación de los datos."
      ],
      "metadata": {
        "id": "czQzdHyEHjoV"
      }
    },
    {
      "cell_type": "code",
      "source": [
        "cv_results = pd.DataFrame(cv_results)\n",
        "cv_results.head()"
      ],
      "metadata": {
        "colab": {
          "base_uri": "https://localhost:8080/",
          "height": 221
        },
        "id": "4W0TQ9AQIBDk",
        "outputId": "317066bb-560d-47e7-f4bf-b2bee5dd1246"
      },
      "execution_count": 25,
      "outputs": [
        {
          "output_type": "execute_result",
          "data": {
            "text/plain": [
              "   fit_time  score_time    test_score\n",
              "0  0.171401    0.004314 -47137.009528\n",
              "1  0.175067    0.004338 -46839.433786\n",
              "2  0.172449    0.004424 -47305.854490\n",
              "3  0.164588    0.004579 -44851.398417\n",
              "4  0.173270    0.004259 -47072.168928"
            ],
            "text/html": [
              "\n",
              "  <div id=\"df-cbedb42b-4370-4b9d-a99f-2d4fcf6b3153\">\n",
              "    <div class=\"colab-df-container\">\n",
              "      <div>\n",
              "<style scoped>\n",
              "    .dataframe tbody tr th:only-of-type {\n",
              "        vertical-align: middle;\n",
              "    }\n",
              "\n",
              "    .dataframe tbody tr th {\n",
              "        vertical-align: top;\n",
              "    }\n",
              "\n",
              "    .dataframe thead th {\n",
              "        text-align: right;\n",
              "    }\n",
              "</style>\n",
              "<table border=\"1\" class=\"dataframe\">\n",
              "  <thead>\n",
              "    <tr style=\"text-align: right;\">\n",
              "      <th></th>\n",
              "      <th>fit_time</th>\n",
              "      <th>score_time</th>\n",
              "      <th>test_score</th>\n",
              "    </tr>\n",
              "  </thead>\n",
              "  <tbody>\n",
              "    <tr>\n",
              "      <th>0</th>\n",
              "      <td>0.171401</td>\n",
              "      <td>0.004314</td>\n",
              "      <td>-47137.009528</td>\n",
              "    </tr>\n",
              "    <tr>\n",
              "      <th>1</th>\n",
              "      <td>0.175067</td>\n",
              "      <td>0.004338</td>\n",
              "      <td>-46839.433786</td>\n",
              "    </tr>\n",
              "    <tr>\n",
              "      <th>2</th>\n",
              "      <td>0.172449</td>\n",
              "      <td>0.004424</td>\n",
              "      <td>-47305.854490</td>\n",
              "    </tr>\n",
              "    <tr>\n",
              "      <th>3</th>\n",
              "      <td>0.164588</td>\n",
              "      <td>0.004579</td>\n",
              "      <td>-44851.398417</td>\n",
              "    </tr>\n",
              "    <tr>\n",
              "      <th>4</th>\n",
              "      <td>0.173270</td>\n",
              "      <td>0.004259</td>\n",
              "      <td>-47072.168928</td>\n",
              "    </tr>\n",
              "  </tbody>\n",
              "</table>\n",
              "</div>\n",
              "      <button class=\"colab-df-convert\" onclick=\"convertToInteractive('df-cbedb42b-4370-4b9d-a99f-2d4fcf6b3153')\"\n",
              "              title=\"Convert this dataframe to an interactive table.\"\n",
              "              style=\"display:none;\">\n",
              "        \n",
              "  <svg xmlns=\"http://www.w3.org/2000/svg\" height=\"24px\"viewBox=\"0 0 24 24\"\n",
              "       width=\"24px\">\n",
              "    <path d=\"M0 0h24v24H0V0z\" fill=\"none\"/>\n",
              "    <path d=\"M18.56 5.44l.94 2.06.94-2.06 2.06-.94-2.06-.94-.94-2.06-.94 2.06-2.06.94zm-11 1L8.5 8.5l.94-2.06 2.06-.94-2.06-.94L8.5 2.5l-.94 2.06-2.06.94zm10 10l.94 2.06.94-2.06 2.06-.94-2.06-.94-.94-2.06-.94 2.06-2.06.94z\"/><path d=\"M17.41 7.96l-1.37-1.37c-.4-.4-.92-.59-1.43-.59-.52 0-1.04.2-1.43.59L10.3 9.45l-7.72 7.72c-.78.78-.78 2.05 0 2.83L4 21.41c.39.39.9.59 1.41.59.51 0 1.02-.2 1.41-.59l7.78-7.78 2.81-2.81c.8-.78.8-2.07 0-2.86zM5.41 20L4 18.59l7.72-7.72 1.47 1.35L5.41 20z\"/>\n",
              "  </svg>\n",
              "      </button>\n",
              "      \n",
              "  <style>\n",
              "    .colab-df-container {\n",
              "      display:flex;\n",
              "      flex-wrap:wrap;\n",
              "      gap: 12px;\n",
              "    }\n",
              "\n",
              "    .colab-df-convert {\n",
              "      background-color: #E8F0FE;\n",
              "      border: none;\n",
              "      border-radius: 50%;\n",
              "      cursor: pointer;\n",
              "      display: none;\n",
              "      fill: #1967D2;\n",
              "      height: 32px;\n",
              "      padding: 0 0 0 0;\n",
              "      width: 32px;\n",
              "    }\n",
              "\n",
              "    .colab-df-convert:hover {\n",
              "      background-color: #E2EBFA;\n",
              "      box-shadow: 0px 1px 2px rgba(60, 64, 67, 0.3), 0px 1px 3px 1px rgba(60, 64, 67, 0.15);\n",
              "      fill: #174EA6;\n",
              "    }\n",
              "\n",
              "    [theme=dark] .colab-df-convert {\n",
              "      background-color: #3B4455;\n",
              "      fill: #D2E3FC;\n",
              "    }\n",
              "\n",
              "    [theme=dark] .colab-df-convert:hover {\n",
              "      background-color: #434B5C;\n",
              "      box-shadow: 0px 1px 3px 1px rgba(0, 0, 0, 0.15);\n",
              "      filter: drop-shadow(0px 1px 2px rgba(0, 0, 0, 0.3));\n",
              "      fill: #FFFFFF;\n",
              "    }\n",
              "  </style>\n",
              "\n",
              "      <script>\n",
              "        const buttonEl =\n",
              "          document.querySelector('#df-cbedb42b-4370-4b9d-a99f-2d4fcf6b3153 button.colab-df-convert');\n",
              "        buttonEl.style.display =\n",
              "          google.colab.kernel.accessAllowed ? 'block' : 'none';\n",
              "\n",
              "        async function convertToInteractive(key) {\n",
              "          const element = document.querySelector('#df-cbedb42b-4370-4b9d-a99f-2d4fcf6b3153');\n",
              "          const dataTable =\n",
              "            await google.colab.kernel.invokeFunction('convertToInteractive',\n",
              "                                                     [key], {});\n",
              "          if (!dataTable) return;\n",
              "\n",
              "          const docLinkHtml = 'Like what you see? Visit the ' +\n",
              "            '<a target=\"_blank\" href=https://colab.research.google.com/notebooks/data_table.ipynb>data table notebook</a>'\n",
              "            + ' to learn more about interactive tables.';\n",
              "          element.innerHTML = '';\n",
              "          dataTable['output_type'] = 'display_data';\n",
              "          await google.colab.output.renderOutput(dataTable, element);\n",
              "          const docLink = document.createElement('div');\n",
              "          docLink.innerHTML = docLinkHtml;\n",
              "          element.appendChild(docLink);\n",
              "        }\n",
              "      </script>\n",
              "    </div>\n",
              "  </div>\n",
              "  "
            ]
          },
          "metadata": {},
          "execution_count": 25
        }
      ]
    },
    {
      "cell_type": "markdown",
      "source": [
        "<p align=\"justify\">\n",
        "✅ Una puntuación es una métrica, y los valores más altos significan mejores resultados. \n",
        "<br><br>\n",
        "✅ Por el contrario, un error es una métrica en la que valores más bajos significan mejores resultados.\n",
        "<br><br> \n",
        "El parámetro <code>scoring</code> en <code>cross_validate</code> siempre espera una función que sea una puntuación.\n",
        "<br><br>\n",
        "👀 Para hacerlo más fácil, todas las métricas de error en <code>Scikit-learn</code>, como <code>mean_absolute_error</code>, se pueden transformar en una puntuación para usar en <code>cross_validate</code>. Para hacerlo, debe pasar una cadena de la métrica de error con una cadena neg_ adicional al principio de la puntuación del parámetro; por ejemplo, <code>scoring=\"neg_mean_absolute_error\"</code>. En este caso se computará el negativo del error absoluto medio que equivaldría a una puntuación."
      ],
      "metadata": {
        "id": "6kMK5I9P7zrY"
      }
    },
    {
      "cell_type": "markdown",
      "source": [
        "<p align=\"justify\">\n",
        "👀 Ahora obtenemos la información de tiempo para ajustar y predecir en cada iteración de la validación cruzada. Además, obtenemos la puntuación de la prueba, que corresponde al error de prueba en cada una de las divisiones de la validación cruzada."
      ],
      "metadata": {
        "id": "H7-euwmCB9Wt"
      }
    },
    {
      "cell_type": "code",
      "source": [
        "cv_results[\"test_error\"] = -cv_results[\"test_score\"]\n",
        "cv_results.test_error.head()"
      ],
      "metadata": {
        "colab": {
          "base_uri": "https://localhost:8080/"
        },
        "id": "xv1OtO6C91S-",
        "outputId": "04159b98-c808-4e93-a990-e4d15bdf1b70"
      },
      "execution_count": 26,
      "outputs": [
        {
          "output_type": "execute_result",
          "data": {
            "text/plain": [
              "0    47137.009528\n",
              "1    46839.433786\n",
              "2    47305.854490\n",
              "3    44851.398417\n",
              "4    47072.168928\n",
              "Name: test_error, dtype: float64"
            ]
          },
          "metadata": {},
          "execution_count": 26
        }
      ]
    },
    {
      "cell_type": "code",
      "source": [
        "len(cv_results)"
      ],
      "metadata": {
        "colab": {
          "base_uri": "https://localhost:8080/"
        },
        "id": "eEC0zSg4B8k-",
        "outputId": "f13abbdb-b07e-4ea3-93ab-a570d112a7f3"
      },
      "execution_count": 27,
      "outputs": [
        {
          "output_type": "execute_result",
          "data": {
            "text/plain": [
              "40"
            ]
          },
          "metadata": {},
          "execution_count": 27
        }
      ]
    },
    {
      "cell_type": "markdown",
      "source": [
        "<p align=\"justify\">\n",
        "👀 Vemos que tenemos $40$ entradas en nuestro <code>DataFrame</code> porque realizamos $40$ divisiones. Por lo tanto, podemos mostrar la distribución del error de prueba y así tener una estimación de su variabilidad."
      ],
      "metadata": {
        "id": "CaSVUQA8Cz8f"
      }
    },
    {
      "cell_type": "code",
      "source": [
        "print(\"\")\n",
        "print(f\"Media: {cv_results.test_error.mean()}\")\n",
        "print(f\"Desvío estandar: {cv_results.test_error.std()}\")"
      ],
      "metadata": {
        "colab": {
          "base_uri": "https://localhost:8080/"
        },
        "id": "m021qZbDC7Q9",
        "outputId": "c8bdc6f5-acdb-4933-98c6-7e0ec85015b2"
      },
      "execution_count": 28,
      "outputs": [
        {
          "output_type": "stream",
          "name": "stdout",
          "text": [
            "\n",
            "Media: 46408.783781492246\n",
            "Desvío estandar: 1195.4177777280847\n"
          ]
        }
      ]
    },
    {
      "cell_type": "code",
      "source": [
        "px.histogram(cv_results,\n",
        "             x=\"test_error\",\n",
        "             template=\"gridon\",\n",
        "             nbins=30).update_layout(bargap=0.2)"
      ],
      "metadata": {
        "colab": {
          "base_uri": "https://localhost:8080/",
          "height": 562
        },
        "id": "yuQA6FI7F_E4",
        "outputId": "9e892f43-24ce-4a87-8626-80a4ec32904d"
      },
      "execution_count": 29,
      "outputs": [
        {
          "output_type": "display_data",
          "data": {
            "text/html": [
              "<html>\n",
              "<head><meta charset=\"utf-8\" /></head>\n",
              "<body>\n",
              "    <div>            <script src=\"https://cdnjs.cloudflare.com/ajax/libs/mathjax/2.7.5/MathJax.js?config=TeX-AMS-MML_SVG\"></script><script type=\"text/javascript\">if (window.MathJax && window.MathJax.Hub && window.MathJax.Hub.Config) {window.MathJax.Hub.Config({SVG: {font: \"STIX-Web\"}});}</script>                <script type=\"text/javascript\">window.PlotlyConfig = {MathJaxConfig: 'local'};</script>\n",
              "        <script src=\"https://cdn.plot.ly/plotly-2.18.2.min.js\"></script>                <div id=\"e856a333-dea6-4830-b0f2-73495abe0ee5\" class=\"plotly-graph-div\" style=\"height:525px; width:100%;\"></div>            <script type=\"text/javascript\">                                    window.PLOTLYENV=window.PLOTLYENV || {};                                    if (document.getElementById(\"e856a333-dea6-4830-b0f2-73495abe0ee5\")) {                    Plotly.newPlot(                        \"e856a333-dea6-4830-b0f2-73495abe0ee5\",                        [{\"alignmentgroup\":\"True\",\"bingroup\":\"x\",\"hovertemplate\":\"test_error=%{x}<br>count=%{y}<extra></extra>\",\"legendgroup\":\"\",\"marker\":{\"color\":\"#1F77B4\",\"pattern\":{\"shape\":\"\"}},\"name\":\"\",\"nbinsx\":30,\"offsetgroup\":\"\",\"orientation\":\"v\",\"showlegend\":false,\"x\":[47137.009528423776,46839.43378552971,47305.85448966408,44851.39841731266,47072.16892764858,46013.86450258398,46750.69056847545,46147.912144702845,45342.596253229975,45226.90132428941,49119.536337209305,47770.11870155039,46477.23869509044,46014.51178940568,46559.39179586563,44371.605135658916,47846.02147932816,43075.42280361757,46726.635335917315,47919.66392118863,44693.72561369509,46421.29198966408,45567.76049741602,46644.66602067184,46423.13662790698,46953.62726098191,47214.403746770025,46662.25290697674,47884.267441860466,46058.35771963824,46319.035852713176,44977.31895994832,44029.90003229974,47429.01631136951,46705.86159560723,45266.00177648579,47256.19573643411,46852.80700904393,47161.400355297155,47262.34786821705],\"xaxis\":\"x\",\"yaxis\":\"y\",\"type\":\"histogram\"}],                        {\"template\":{\"data\":{\"pie\":[{\"automargin\":true,\"type\":\"pie\"}]},\"layout\":{\"xaxis\":{\"showgrid\":true,\"title\":{\"standoff\":15}},\"yaxis\":{\"showgrid\":true,\"title\":{\"standoff\":15}}}},\"xaxis\":{\"anchor\":\"y\",\"domain\":[0.0,1.0],\"title\":{\"text\":\"test_error\"}},\"yaxis\":{\"anchor\":\"x\",\"domain\":[0.0,1.0],\"title\":{\"text\":\"count\"}},\"legend\":{\"tracegroupgap\":0},\"margin\":{\"t\":60},\"barmode\":\"relative\",\"bargap\":0.2},                        {\"responsive\": true}                    ).then(function(){\n",
              "                            \n",
              "var gd = document.getElementById('e856a333-dea6-4830-b0f2-73495abe0ee5');\n",
              "var x = new MutationObserver(function (mutations, observer) {{\n",
              "        var display = window.getComputedStyle(gd).display;\n",
              "        if (!display || display === 'none') {{\n",
              "            console.log([gd, 'removed!']);\n",
              "            Plotly.purge(gd);\n",
              "            observer.disconnect();\n",
              "        }}\n",
              "}});\n",
              "\n",
              "// Listen for the removal of the full notebook cells\n",
              "var notebookContainer = gd.closest('#notebook-container');\n",
              "if (notebookContainer) {{\n",
              "    x.observe(notebookContainer, {childList: true});\n",
              "}}\n",
              "\n",
              "// Listen for the clearing of the current output cell\n",
              "var outputEl = gd.closest('.output');\n",
              "if (outputEl) {{\n",
              "    x.observe(outputEl, {childList: true});\n",
              "}}\n",
              "\n",
              "                        })                };                            </script>        </div>\n",
              "</body>\n",
              "</html>"
            ]
          },
          "metadata": {}
        }
      ]
    },
    {
      "cell_type": "markdown",
      "source": [
        "<p align=\"justify\">\n",
        "👀 Podemos observar que el error de prueba está agrupado alrededor de los $47$ y en un rango que va desde $43$ a $50$.\n",
        "<br><br>\n",
        "Tenga en cuenta que la desviación estándar es mucho menor que la media, y podríamos resumir que nuestra estimación de validación cruzada del error de prueba es $46.36$ ± $1,17$ k\\$.\n",
        "<br><br>\n",
        "Si tuviéramos que entrenar un solo modelo en el conjunto de datos, es decir sin validación cruzada, y luego tener acceso a una cantidad ilimitada de pruebas de los datos, esperaríamos que su verdadero error de prueba se acerque a esa región.\n",
        "<br><br>\n",
        "Si bien esta información es interesante en sí misma, debe contrastarse con la escala de la variabilidad natural de la variable objetivo en nuestro conjunto de datos."
      ],
      "metadata": {
        "id": "0I2SGFPHDEsv"
      }
    },
    {
      "cell_type": "markdown",
      "source": [
        "✅ Veamos la distribución de la variable objetivo:"
      ],
      "metadata": {
        "id": "uFJRkuiCHTHl"
      }
    },
    {
      "cell_type": "code",
      "source": [
        "px.histogram(y, template=\"gridon\").update_layout(bargap=0.2)"
      ],
      "metadata": {
        "colab": {
          "base_uri": "https://localhost:8080/",
          "height": 562
        },
        "id": "_-coCDrpHTr1",
        "outputId": "33e3b793-c4c4-41de-cb11-fdf272b2c8ef"
      },
      "execution_count": 30,
      "outputs": [
        {
          "output_type": "display_data",
          "data": {
            "text/html": [
              "<html>\n",
              "<head><meta charset=\"utf-8\" /></head>\n",
              "<body>\n",
              "    <div>            <script src=\"https://cdnjs.cloudflare.com/ajax/libs/mathjax/2.7.5/MathJax.js?config=TeX-AMS-MML_SVG\"></script><script type=\"text/javascript\">if (window.MathJax && window.MathJax.Hub && window.MathJax.Hub.Config) {window.MathJax.Hub.Config({SVG: {font: \"STIX-Web\"}});}</script>                <script type=\"text/javascript\">window.PlotlyConfig = {MathJaxConfig: 'local'};</script>\n",
              "        <script src=\"https://cdn.plot.ly/plotly-2.18.2.min.js\"></script>                <div id=\"b8b7b78e-2896-4a0b-9afb-aee20b790a7b\" class=\"plotly-graph-div\" style=\"height:525px; width:100%;\"></div>            <script type=\"text/javascript\">                                    window.PLOTLYENV=window.PLOTLYENV || {};                                    if (document.getElementById(\"b8b7b78e-2896-4a0b-9afb-aee20b790a7b\")) {                    Plotly.newPlot(                        \"b8b7b78e-2896-4a0b-9afb-aee20b790a7b\",                        [{\"alignmentgroup\":\"True\",\"bingroup\":\"x\",\"hovertemplate\":\"variable=MedHouseVal<br>value=%{x}<br>count=%{y}<extra></extra>\",\"legendgroup\":\"MedHouseVal\",\"marker\":{\"color\":\"#1F77B4\",\"pattern\":{\"shape\":\"\"}},\"name\":\"MedHouseVal\",\"offsetgroup\":\"MedHouseVal\",\"orientation\":\"v\",\"showlegend\":true,\"x\":[452600.0,358500.0,352100.0,341300.0,342200.0,269700.0,299200.0,241400.00000000003,226700.0,261100.00000000003,281500.0,241800.00000000003,213499.99999999997,191300.0,159200.0,140000.0,152500.0,155500.0,158700.0,162900.0,147500.0,159800.0,113900.0,99700.0,132600.0,107500.0,93800.0,105500.0,108900.0,132000.0,122300.00000000001,115199.99999999999,110400.00000000001,104900.0,109700.0,97200.0,104500.0,103899.99999999999,191400.0,176000.0,155400.0,150000.0,118800.0,188800.0,184400.0,182300.0,142500.0,137500.0,187500.0,112500.0,171900.0,93800.0,97500.0,104200.0,87500.0,83100.0,87500.0,85300.0,80300.0,60000.0,75700.0,75000.0,86100.0,76100.0,73500.0,78400.0,84400.0,81300.0,85000.0,129200.0,82500.0,95200.0,75000.0,67500.0,137500.0,177500.0,102099.99999999999,108300.0,112500.0,131300.0,162500.0,112500.0,112500.0,137500.0,118800.0,98200.0,118800.0,162500.0,137500.0,500000.99999999994,162500.0,137500.0,162500.0,187500.0,179200.0,130000.0,183800.0,125000.0,170000.0,193100.0,257799.99999999997,273400.0,237500.0,350000.0,335700.0,313400.0,268500.0,259400.0,275700.0,225000.0,262500.0,218500.0,254999.99999999997,224100.0,243100.0,231599.99999999997,218500.0,234100.00000000003,327600.0,347600.0,366100.0,335000.0,373600.0,389500.0,391100.0,337300.0,295200.0,292300.0,411500.0,311500.0,325900.0,392600.0,319300.0,333300.0,335200.0,351200.0,368900.0,365900.0,366700.0,362800.0,483300.0,331400.0,323500.0,216699.99999999997,233100.0,296400.0,273700.0,227700.0,199600.0,239800.0,270100.0,302100.0,269500.0,314700.0,390100.0,410300.0,352400.0,287300.0,348700.0,243800.00000000003,211500.00000000003,218400.00000000003,269900.0,218800.00000000003,225000.0,250000.0,171400.0,193800.0,125000.0,97500.0,125000.0,138800.0,116700.0,151800.0,127000.0,128600.0,140600.0,182700.0,146900.0,122800.0,169300.0,126600.0,127899.99999999999,123500.00000000001,111900.0,112799.99999999999,107900.0,137500.0,105500.0,95500.0,116100.0,112200.00000000001,75000.0,112500.0,125000.0,114999.99999999999,95000.0,96400.0,72000.0,71300.0,80800.0,128800.0,112500.0,119400.0,118100.0,122500.00000000001,106300.0,132500.0,122700.00000000001,113300.0,109500.0,164700.0,125000.0,124700.00000000001,136700.0,141700.0,150000.0,138800.0,139200.0,143800.0,156500.0,151000.0,273000.0,217099.99999999997,187100.0,239600.0,229700.00000000003,257300.0,246900.0,179900.0,169600.0,203300.0,263400.0,231800.0,140500.0,126000.0,122000.0,134700.0,139400.0,115399.99999999999,137300.0,137000.0,142600.0,137500.0,111700.0,126800.0,111300.0,114799.99999999999,102299.99999999999,131900.0,119100.0,80600.0,80600.0,88800.0,102400.0,98700.0,100000.0,92300.0,94800.0,102000.0,158400.0,121600.0,129099.99999999999,121400.0,102800.0,160000.0,143900.0,151200.0,164400.0,156500.0,225000.0,174200.0,166900.0,163500.0,252999.99999999997,240700.0,208100.0,198100.0,172800.0,336700.0,318200.0,285800.0,293000.0,371000.0,157300.0,135300.0,136700.0,160700.0,140600.0,144000.0,161900.0,156300.0,176000.0,145800.0,141900.0,90700.0,90600.0,107900.0,107000.0,98200.0,89500.0,93800.0,96700.0,97500.0,97300.0,91200.0,91400.0,96200.0,120100.0,100000.0,94700.0,85700.0,89300.0,101400.0,72500.0,74100.0,70000.0,84600.0,81800.0,81400.0,81800.0,85800.0,87100.0,83500.0,79700.0,83400.0,84700.0,80000.0,76400.0,79700.0,82400.0,97700.0,97200.0,101600.0,86500.0,90500.0,107600.0,84200.0,88900.0,80700.0,87100.0,85100.0,82000.0,82800.0,84600.0,82100.0,89300.0,98300.0,92300.0,88800.0,90000.0,95500.0,91700.0,100400.0,94800.0,164300.0,155500.0,196900.0,279100.0,252800.0,275400.0,250000.0,329800.0,195500.0,255900.00000000003,311100.0,330000.0,248900.0,142900.0,126299.99999999999,135800.0,130600.0,107900.0,111100.0,122000.0,118000.0,95200.0,94300.0,92500.0,91800.0,109400.00000000001,129500.0,143400.0,98200.0,103099.99999999999,276800.0,270900.0,246200.00000000003,224200.0,229100.0,211600.0,256100.0,206300.00000000003,221300.0,207399.99999999997,350000.0,218200.0,216699.99999999997,270600.0,261400.0,261300.0,232200.0,375400.0,357300.0,374400.0,358800.0,417500.0,430500.0,362900.0,397000.0,346800.0,327100.0,290100.0,292000.0,270900.0,371100.0,335600.0,371300.0,344000.0,342200.0,370900.0,350000.0,368600.0,391800.0,415299.99999999994,284900.0,287500.0,272900.0,259600.0,254500.0,235600.0,218400.00000000003,229199.99999999997,192100.0,179300.0,187500.0,138800.0,150000.0,140600.0,120000.0,144800.0,144800.0,245500.0,200000.0,173700.0,185600.0,182600.0,227900.0,220699.99999999997,212000.0,271400.0,268800.0,277800.0,332500.0,338900.0,287500.0,384600.0,371400.0,350000.0,500000.99999999994,175000.0,241699.99999999997,216699.99999999997,211300.0,210200.0,196400.0,191700.0,182300.0,175000.0,165900.0,156900.0,164300.0,150000.0,150500.0,169900.0,147400.0,152700.0,182700.0,179300.0,157700.0,153100.0,250000.0,206300.00000000003,218800.00000000003,198200.0,253600.0,257399.99999999997,289500.0,241699.99999999997,489600.0,446200.0,456300.0,336800.0,500000.99999999994,500000.99999999994,376900.0,309600.0,182300.0,172700.0,150800.0,153600.0,106300.0,142300.0,119400.0,147900.0,132900.0,132500.0,126899.99999999999,143800.0,500000.99999999994,500000.99999999994,500000.99999999994,500000.99999999994,466099.99999999994,500000.99999999994,457800.00000000006,471600.0,500000.99999999994,398600.0,340700.0,289900.0,335300.0,333000.0,241000.0,189600.0,206300.00000000003,215700.0,210200.0,208800.0,197900.0,201300.0,190800.0,207900.00000000003,215300.0,212900.0,292700.0,275000.0,200000.0,173400.0,102200.0,220800.00000000003,242800.0,265400.0,219000.0,282100.0,372000.0,225800.0,220800.00000000003,234500.00000000003,254199.99999999997,351800.0,275000.0,405400.0,228100.0,234000.0,162500.0,243400.00000000003,273800.0,248500.0,244000.0,240899.99999999997,306300.0,240000.0,247100.0,286600.0,266700.0,229800.0,229300.00000000003,228399.99999999997,206199.99999999997,350700.0,231000.0,252900.0,353900.0,291700.0,100000.0,341600.0,412500.0,248600.00000000003,254900.0,241500.0,295200.0,340400.0,274700.0,238600.0,266400.0,330200.0,206800.0,209200.0,195800.0,253500.0,241800.00000000003,252500.0,263900.0,227000.0,220900.0,259300.0,232500.00000000003,231599.99999999997,209400.0,223200.00000000003,209900.00000000003,208199.99999999997,203799.99999999997,195700.0,190500.0,181000.0,184900.0,190800.0,242200.00000000003,188300.0,183500.0,204199.99999999997,251900.0,187500.0,198200.0,219000.0,275000.0,245400.00000000003,177500.0,171600.0,183300.0,175000.0,156700.0,157500.0,179800.0,205500.00000000003,178900.0,262500.0,165000.0,159700.0,158300.0,144800.0,166300.0,191000.0,175000.0,137500.0,141700.0,210900.0,198300.0,157400.0,264700.0,218400.00000000003,235100.0,341800.0,367300.0,243500.0,167900.0,371200.0,218900.0,202700.0,186200.0,188900.0,180000.0,202700.0,181700.0,166800.0,183700.0,218000.00000000003,191500.0,194700.0,187200.0,223100.0,271300.0,194100.0,190400.0,189100.0,184600.0,197300.0,192600.0,192200.0,194600.0,193500.0,202599.99999999997,83300.0,212600.0,187800.0,205700.0,192900.0,205200.0,213400.0,183600.0,178400.0,219200.00000000003,183100.0,157100.0,157800.0,161700.0,152100.0,144900.0,179900.0,179100.0,159900.0,161400.0,170400.0,137500.0,178400.0,155200.0,160900.0,167300.0,340000.0,430999.99999999994,301100.0,241900.0,162500.0,299200.0,315500.0,216800.00000000003,218100.0,170300.0,275000.0,184100.0,160000.0,175000.0,197500.0,150000.0,205600.0,170300.0,190900.0,196900.0,174000.0,170200.0,180900.0,150500.0,167100.0,148900.0,196400.0,191100.0,187500.0,180600.0,182800.0,179300.0,179400.0,210300.00000000003,192300.0,198100.0,196200.0,181600.0,186900.0,188300.0,184000.0,184700.0,179900.0,167200.0,165400.0,154000.0,153500.0,135400.0,158300.0,240700.0,180700.0,230600.0,210800.0,165300.0,254199.99999999997,332600.0,350000.0,161200.0,179300.0,154300.0,161800.0,161900.0,165400.0,166600.0,149700.0,162100.0,152600.0,195200.0,190600.0,193800.0,200599.99999999997,150000.0,185300.0,172700.0,174100.0,194400.0,206700.00000000003,204500.0,175000.0,137500.0,187200.0,173600.0,163000.0,331600.0,197600.0,197900.0,228100.0,189500.0,184200.0,180900.0,172000.0,177900.0,173100.0,172600.0,182100.0,179500.0,176000.0,192600.0,182700.0,134900.0,157600.0,190900.0,158200.0,350000.0,158200.0,146100.0,226700.0,198700.0,221200.00000000003,208500.0,204199.99999999997,193200.0,209500.00000000003,164900.0,161400.0,187000.0,190400.0,156600.0,157300.0,168100.0,177600.0,208900.0,169200.0,163900.0,164700.0,156900.0,168800.0,174100.0,206500.0,203900.00000000003,217000.0,159600.0,159800.0,154300.0,149600.0,188600.0,238499.99999999997,235300.00000000003,261400.0,234400.0,231700.00000000003,156300.0,222000.00000000003,254400.0,244300.0,247000.00000000003,236500.00000000003,151400.0,213700.0,243600.0,212500.0,214699.99999999997,213200.0,256000.0,237500.0,178100.0,231800.0,147900.0,191700.0,247600.0,283500.0,216900.0,282500.0,295600.0,281800.0,269800.0,231199.99999999997,318300.0,253399.99999999997,278200.0,300000.0,273500.0,223400.0,214500.0,220200.0,240300.0,158000.0,224200.0,177200.0,216100.0,269700.0,231199.99999999997,162500.0,254000.0,196200.0,189400.0,220800.00000000003,213800.0,442900.0,333400.0,352400.0,305300.0,259600.0,248900.0,356000.0,236000.0,218800.00000000003,227999.99999999997,235900.0,203200.0,197000.0,236400.0,223200.00000000003,222700.0,225000.0,240099.99999999997,227900.0,268600.0,275100.0,256300.00000000003,332400.0,287600.0,298900.0,287600.0,222200.0,232600.0,258300.00000000003,230900.00000000003,196900.0,223500.0,223900.0,243500.0,451100.0,500000.99999999994,193100.0,264400.0,246900.0,337300.0,284800.0,217300.0,291700.0,223800.0,223100.0,211300.0,218500.0,156300.0,248200.00000000003,186000.0,178200.0,190400.0,210300.00000000003,208000.0,183300.0,245699.99999999997,242200.00000000003,181700.0,299400.0,219499.99999999997,231800.0,221300.0,213800.0,206000.0,271100.0,336500.0,315600.0,500000.99999999994,285400.0,323000.0,291900.0,225599.99999999997,259600.0,262900.0,257300.0,259200.0,339700.0,337200.0,334100.0,311500.0,296900.0,247900.0,300400.0,332400.0,389800.0,233000.0,238499.99999999997,233300.00000000003,231300.00000000003,475800.0,393200.0,247200.0,229400.0,282500.0,300600.0,293200.0,278500.0,352900.0,400000.0,375000.0,313700.0,139300.0,327500.0,430600.0,125000.0,450000.0,200199.99999999997,192400.0,418800.0,216800.00000000003,215499.99999999997,227700.0,184400.0,158400.0,174600.0,168400.0,188400.0,256700.00000000003,183800.0,183400.0,177500.0,186900.0,238899.99999999997,172500.0,179200.0,204400.0,209400.0,264200.0,350000.0,199800.0,211000.0,201100.0,193000.0,245000.00000000003,117600.0,97900.0,140600.0,120900.00000000001,119000.0,129200.0,99100.0,108900.0,111700.0,68900.0,96400.0,116700.0,123800.0,97900.0,129800.0,121300.00000000001,107200.0,121900.00000000001,113399.99999999999,99100.0,103000.0,114199.99999999999,144100.0,128600.0,157200.0,118500.0,116700.0,134800.0,109900.0,144300.0,123600.0,112599.99999999999,107300.0,117800.0,89900.0,102299.99999999999,87300.0,142600.0,153100.0,126600.0,118300.0,147000.0,78100.0,85800.0,84500.0,137500.0,88900.0,120200.0,74500.0,85100.0,130300.0,125200.0,111400.00000000001,97000.0,122600.0,116300.0,179200.0,85800.0,94800.0,200000.0,112500.0,69000.0,55000.00000000001,77900.0,98800.0,78700.0,81300.0,60300.0,66300.0,116700.0,159700.0,139200.0,89600.0,153100.0,87500.0,158600.0,95100.0,93800.0,95300.0,141300.0,67500.0,73000.0,119600.0,93200.0,117900.0,97200.0,97600.0,95300.0,107700.0,102899.99999999999,88300.0,86500.0,57999.99999999999,84000.0,89500.0,93400.0,115199.99999999999,105700.0,97300.0,108600.00000000001,104900.0,110200.00000000001,103800.0,80800.0,87300.0,85500.0,85000.0,93500.0,96700.0,109700.0,85800.0,92800.0,70500.0,121800.0,102600.0,101200.0,168300.0,126099.99999999999,83800.0,92600.0,111200.00000000001,87500.0,87500.0,94700.0,62500.0,83300.0,85700.0,79500.0,53600.0,65200.0,84100.0,142300.0,93800.0,90800.0,91800.0,97500.0,91200.0,73800.0,86400.0,62100.0,72200.0,57599.99999999999,58299.99999999999,51700.0,57899.99999999999,53100.0,56100.00000000001,57999.99999999999,56699.99999999999,57599.99999999999,63300.0,59800.0,65200.0,42500.0,45100.0,39400.0,50300.0,53800.0,53900.0,41800.0,88900.0,82600.0,63600.0,59400.0,60600.0,57099.99999999999,49000.0,80400.0,96200.0,60000.0,61300.0,73800.0,86300.0,86400.0,84600.0,73500.0,56200.00000000001,56999.99999999999,63900.0,56000.00000000001,63000.0,85500.0,81300.0,57599.99999999999,59400.0,81900.0,82100.0,115999.99999999999,116100.0,94900.0,92200.0,79900.0,133000.0,122600.0,90400.0,93200.0,125899.99999999999,133100.0,130600.0,104000.0,101600.0,92600.0,122300.00000000001,112500.0,86600.0,77400.0,91900.0,100899.99999999999,94700.0,84800.0,139900.0,121400.0,155800.0,111500.0,123500.00000000001,113700.0,103800.0,108300.0,77500.0,65800.0,67500.0,59200.0,72000.0,92800.0,112500.0,75000.0,108000.0,65500.0,61500.0,62700.0,68800.0,69100.0,75800.0,75000.0,112500.0,192400.0,209400.0,183800.0,189100.0,156500.0,168800.0,162800.0,172900.0,129700.0,213499.99999999997,119400.0,131100.0,125400.0,151400.0,263100.0,187100.0,156700.0,186300.0,152500.0,241400.00000000003,340900.0,154400.0,253900.00000000003,109400.00000000001,105100.0,128499.99999999999,93800.0,99100.0,96400.0,127000.0,87500.0,133900.0,146800.0,124700.00000000001,110200.00000000001,130800.0,174500.0,168100.0,170400.0,150800.0,165200.0,93500.0,113399.99999999999,97300.0,131000.0,133400.0,100000.0,103600.0,145300.0,152400.0,145900.0,142500.0,75800.0,126099.99999999999,142600.0,164700.0,108500.0,178600.0,164700.0,122500.00000000001,179500.0,205100.00000000003,158600.0,90200.0,67500.0,99400.0,101400.0,87700.0,87000.0,94600.0,181800.0,117800.0,140300.0,150000.0,134400.0,151900.0,165200.0,161700.0,170500.0,174200.0,144100.0,163900.0,103899.99999999999,122200.0,136000.0,156500.0,99200.0,110600.00000000001,162200.0,177500.0,166000.0,160800.0,154800.0,143100.0,87100.0,95300.0,100699.99999999999,113900.0,100200.0,125000.0,129800.0,83500.0,139800.0,98500.0,156900.0,165900.0,133900.0,225000.0,166000.0,144800.0,178300.0,139300.0,150800.0,196100.0,116100.0,129400.0,166400.0,126499.99999999999,135700.0,172400.0,113700.0,159700.0,156300.0,204199.99999999997,212600.0,199900.0,205399.99999999997,206700.00000000003,287700.0,245200.0,294100.0,297300.0,211000.0,225400.0,269600.0,228200.0,235500.0,166900.0,186100.0,211800.0,197100.0,189600.0,266000.0,186400.0,190000.0,243000.00000000003,235600.0,196200.0,182000.0,169400.0,179300.0,235700.00000000003,205100.00000000003,220800.00000000003,233199.99999999997,232100.00000000003,265700.0,247900.0,273200.0,91100.0,134500.0,136200.0,250000.0,87500.0,137500.0,136400.0,75000.0,156300.0,140600.0,178300.0,175900.0,139900.0,138200.0,178200.0,169300.0,161900.0,166600.0,148900.0,165500.0,194000.0,226900.0,202800.0,211500.00000000003,165500.0,161700.0,192300.0,193200.0,184000.0,217200.00000000003,182000.0,161300.0,161000.0,144900.0,259500.00000000003,210500.0,244099.99999999997,184800.0,229199.99999999997,196100.0,204100.0,240200.0,231100.0,213200.0,207200.0,184100.0,179000.0,190700.0,167800.0,246700.0,126699.99999999999,260400.0,200599.99999999997,267400.0,265900.0,206199.99999999997,171000.0,151100.0,160900.0,166700.0,106300.0,112500.0,151000.0,151800.0,159800.0,165700.0,175000.0,182000.0,190800.0,298200.0,305100.0,162500.0,220500.0,208300.00000000003,202300.0,237000.0,213099.99999999997,322300.0,267100.0,268000.0,273600.0,339200.0,330200.0,163100.0,231400.0,227800.0,197100.0,144600.0,279300.0,344800.0,266500.0,184900.0,234700.0,351200.0,358800.0,367700.0,275300.0,232799.99999999997,216100.0,114300.0,225999.99999999997,252100.0,225000.0,250000.0,264900.0,259800.0,292500.0,306800.0,306900.0,266800.0,283900.0,288000.0,268800.0,263300.0,340900.0,397500.0,271000.0,335700.0,310600.0,349100.0,321200.0,275800.0,356200.0,312700.0,390600.0,469400.0,258199.99999999997,260300.00000000003,275000.0,350000.0,250000.0,266000.0,269800.0,157200.0,343500.0,296100.0,312500.0,345800.0,343700.0,359100.0,403400.0,356000.0,369200.0,341300.0,356700.0,425100.00000000006,356100.0,461400.0,432400.0,434700.00000000006,350000.0,381900.0,324600.0,399300.0,443800.0,386600.0,256400.0,200000.0,500000.99999999994,294800.0,188500.0,359300.0,358700.0,287300.0,441399.99999999994,494000.00000000006,500000.99999999994,500000.99999999994,398200.0,500000.99999999994,500000.99999999994,372000.0,351300.0,450399.99999999994,382200.0,500000.99999999994,294400.0,500000.99999999994,455300.0,406500.00000000006,310300.0,279500.0,348200.0,433300.0,257100.00000000003,350000.0,426100.0,394400.0,387200.0,99400.0,85000.0,102699.99999999999,186500.0,155000.0,252400.0,206300.00000000003,73400.0,367100.0,402600.0,314200.0,454100.00000000006,500000.99999999994,416500.0,364500.0,369900.0,500000.99999999994,314000.0,389900.0,355600.0,370200.0,404300.0,354200.0,399700.0,434500.0,401800.0,423200.0,438000.0,475000.0,367500.0,378100.0,500000.99999999994,500000.99999999994,500000.99999999994,499000.0,204199.99999999997,166800.0,213700.0,162500.0,500000.99999999994,500000.99999999994,500000.99999999994,485400.0,210100.0,194700.0,181200.0,285400.0,307000.0,353600.0,365800.0,427700.0,366700.0,237400.0,288000.0,329400.0,291700.0,320400.0,286900.0,312600.0,253600.0,205100.00000000003,197600.0,198500.0,310700.0,171100.0,147100.0,155700.0,197000.0,203700.0,134500.0,150200.0,123000.0,147700.0,174200.0,178900.0,173200.0,175400.0,162000.0,191100.0,195000.0,193300.0,198000.0,243200.0,218600.0,184800.0,269400.0,235600.0,237699.99999999997,170500.0,246400.0,240300.0,248700.0,272900.0,209800.0,200999.99999999997,272400.0,184000.0,164700.0,227400.0,149700.0,190000.0,196600.0,191400.0,194200.0,185000.0,157800.0,164300.0,161000.0,171100.0,109000.00000000001,170800.0,173500.0,162800.0,85100.0,175000.0,112500.0,212500.0,104200.0,80400.0,69800.0,81300.0,76400.0,68600.0,67500.0,131300.0,132900.0,110000.00000000001,113599.99999999999,112200.00000000001,113799.99999999999,134100.0,156600.0,158800.0,150100.0,130800.0,120700.00000000001,129400.0,114199.99999999999,97200.0,97700.0,110300.0,93900.0,107800.0,133700.0,182800.0,146100.0,120800.0,133300.0,103600.0,165100.0,210800.0,186900.0,144600.0,140400.0,140800.0,141600.0,139100.0,150800.0,134100.0,135800.0,142600.0,135300.0,133400.0,135100.0,111700.0,111600.00000000001,114599.99999999999,104700.0,143300.0,140300.0,145500.0,143900.0,105200.0,105200.0,95600.0,81700.0,79000.0,105800.0,72900.0,79700.0,71600.0,88000.0,84300.0,79400.0,121600.0,69100.0,37900.0,269800.0,274500.0,275000.0,95000.0,91500.0,86100.0,87000.0,84200.0,93800.0,94000.0,104200.0,186800.0,90300.0,111500.0,88300.0,112100.0,156300.0,140600.0,122400.0,129099.99999999999,119600.0,167800.0,178400.0,177800.0,286500.0,253399.99999999997,247300.0,267700.0,321600.0,288200.0,401000.0,304000.0,261900.00000000003,22500.0,183300.0,220100.0,195800.0,186900.0,212200.0,239000.0,218100.0,200400.0,209100.00000000003,217200.00000000003,223000.0,141700.0,162500.0,311400.0,263200.0,262000.0,273700.0,234900.00000000003,358500.0,333700.0,287500.0,324400.0,315500.0,331200.0,109400.00000000001,85800.0,73200.0,68400.0,74600.0,78300.0,66900.0,105900.0,69500.0,122400.0,75000.0,103600.0,103099.99999999999,152700.0,116700.0,71100.0,212500.0,187500.0,87500.0,92200.0,91300.0,173400.0,200000.0,84600.0,107200.0,114799.99999999999,131600.0,104200.0,110500.0,136800.0,109700.0,99300.0,103600.0,118500.0,141900.0,85800.0,90400.0,86900.0,89600.0,313400.0,126099.99999999999,126600.0,103600.0,96100.0,104200.0,107200.0,101899.99999999999,94400.0,86700.0,100800.0,114100.0,107800.0,134700.0,162500.0,127600.0,109700.0,121400.0,117700.0,118800.0,97600.0,87500.0,126000.0,206300.00000000003,437500.0,500000.99999999994,172200.0,163400.0,113199.99999999999,127299.99999999999,128600.0,128200.0,132600.0,119300.0,118500.0,120100.0,87500.0,95500.0,213300.0,239600.0,173400.0,228900.00000000003,217499.99999999997,197500.0,172500.0,198900.0,187900.0,186600.0,163300.0,176900.0,217099.99999999997,180800.0,300600.0,170100.0,207600.0,202800.0,196300.0,230600.0,167400.0,184600.0,146100.0,128299.99999999999,142600.0,120500.0,111300.0,121600.0,148500.0,108300.0,127899.99999999999,128600.0,150900.0,138100.0,158700.0,141300.0,141200.0,108700.0,106900.0,94700.0,117500.0,151700.0,140200.0,132200.0,131700.0,136600.0,133800.0,126400.0,118800.0,100000.0,98000.0,115599.99999999999,162500.0,170700.0,208300.00000000003,118800.0,155900.0,141400.0,138500.0,56699.99999999999,49600.0,47500.0,47500.0,44800.0,50400.0,56699.99999999999,59200.0,53000.0,47700.0,43300.0,52600.0,46900.0,93900.0,90300.0,50000.0,56399.99999999999,39600.0,75000.0,51800.0,61200.0,46700.0,43800.0,52600.0,54100.00000000001,62100.0,67500.0,73900.0,53000.0,53500.0,52800.0,48500.0,57799.99999999999,49500.0,51300.0,52500.0,34400.0,44100.0,45300.0,61800.0,44400.0,60600.0,49800.0,50800.0,58500.0,60800.0,52600.0,45500.0,52100.0,50000.0,93100.0,120300.0,62500.0,93100.0,117900.0,171700.0,121600.0,108300.0,153800.0,225000.0,65900.0,127200.0,89500.0,54200.00000000001,151400.0,91600.0,70400.0,49300.0,88300.0,74200.0,92300.0,110400.00000000001,57999.99999999999,65300.0,89500.0,61200.0,92800.0,92600.0,66700.0,68400.0,96000.0,74200.0,81300.0,67900.0,78300.0,96700.0,72000.0,67300.0,48800.0,57099.99999999999,55600.00000000001,67900.0,54200.00000000001,55100.00000000001,66900.0,68500.0,69200.0,58399.99999999999,57099.99999999999,78400.0,56100.00000000001,45000.0,59000.0,61300.0,51300.0,52000.0,46600.0,49800.0,50600.0,53400.0,45500.0,49100.0,56000.00000000001,54600.00000000001,49400.0,69100.0,62800.0,70100.0,48300.0,50800.0,59600.0,55600.00000000001,51300.0,54200.00000000001,55400.00000000001,58700.0,52800.0,59800.0,44500.0,69000.0,74700.0,71300.0,86900.0,64700.0,67900.0,87500.0,88300.0,72000.0,87700.0,82000.0,75900.0,74600.0,78800.0,85700.0,84700.0,81400.0,55000.00000000001,66400.0,72800.0,71500.0,69200.0,87500.0,73000.0,76900.0,70400.0,74300.0,81300.0,70700.0,72300.0,60200.0,64700.0,67300.0,67700.0,61900.0,58099.99999999999,70700.0,60200.0,87600.0,73000.0,59100.0,58700.0,89900.0,72200.0,78900.0,85000.0,83400.0,69600.0,71300.0,65600.0,68100.0,71600.0,80300.0,80200.0,76700.0,80400.0,84500.0,79700.0,74700.0,81300.0,83200.0,80100.0,81100.0,74500.0,106100.0,126400.0,119800.0,89600.0,90600.0,69000.0,112500.0,70800.0,71800.0,57799.99999999999,83200.0,60400.0,88200.0,112500.0,105400.0,55300.00000000001,82800.0,165400.0,61200.0,256199.99999999997,122500.00000000001,160300.0,141600.0,89300.0,91300.0,88900.0,119300.0,96500.0,72100.0,107800.0,68000.0,88800.0,73000.0,67900.0,345900.0,213899.99999999997,229199.99999999997,195900.0,141200.0,123000.0,229700.00000000003,144700.0,167700.0,155600.0,151500.0,150900.0,188300.0,187300.0,193500.0,123600.0,125299.99999999999,124400.0,111900.0,79500.0,128299.99999999999,54000.0,51700.0,145000.0,94400.0,158800.0,119300.0,126000.0,135500.0,69300.0,93000.0,95800.0,72200.0,105200.0,53500.0,121200.0,143300.0,169300.0,160100.0,90100.0,99500.0,88800.0,80800.0,72700.0,66900.0,65600.0,66200.0,58800.0,71400.0,67000.0,55500.00000000001,79700.0,69200.0,65900.0,64700.0,73800.0,67500.0,58800.0,96500.0,71900.0,153800.0,69600.0,66500.0,124700.00000000001,132200.0,89600.0,73400.0,64500.0,47500.0,68300.0,72800.0,78800.0,81100.0,75100.0,71400.0,71700.0,70900.0,84600.0,66000.0,83700.0,83100.0,74300.0,90600.0,74500.0,69400.0,84700.0,99300.0,85500.0,89500.0,95200.0,99600.0,110900.0,101099.99999999999,108500.0,84200.0,109400.00000000001,108200.00000000001,174200.0,143700.0,140800.0,86300.0,165200.0,164600.0,143100.0,167500.0,71400.0,68200.0,68000.0,113399.99999999999,109000.00000000001,138800.0,111400.00000000001,112500.0,69700.0,72800.0,72200.0,79700.0,112500.0,52500.0,100200.0,89500.0,54600.00000000001,78900.0,111300.0,113700.0,120000.0,123300.00000000001,114399.99999999999,106200.0,55900.00000000001,93600.0,88900.0,93800.0,88000.0,88400.0,68700.0,163100.0,83600.0,71300.0,76300.0,60600.0,83000.0,150800.0,157300.0,173800.0,148700.0,154700.0,133300.0,136900.0,156700.0,126499.99999999999,130600.0,106900.0,99500.0,73000.0,59900.0,84800.0,72900.0,58900.0,63900.0,72300.0,83900.0,58099.99999999999,55900.00000000001,58900.0,55800.00000000001,63900.0,69300.0,160100.0,115300.0,107600.0,80000.0,93800.0,92400.0,151800.0,111800.00000000001,111800.00000000001,123900.00000000001,83300.0,85600.0,94000.0,102699.99999999999,125000.0,144600.0,179200.0,78600.0,94400.0,100000.0,90500.0,92200.0,55200.00000000001,52000.0,51500.0,51700.0,65800.0,69200.0,72500.0,73000.0,108300.0,90500.0,91600.0,63300.0,67600.0,60900.0,56699.99999999999,118100.0,66100.0,63500.0,87300.0,84200.0,57099.99999999999,54700.00000000001,56899.99999999999,63400.0,95300.0,55100.00000000001,55800.00000000001,55200.00000000001,113799.99999999999,93200.0,62400.0,62400.0,131700.0,73100.0,73000.0,88000.0,92700.0,69700.0,68300.0,65100.0,55300.00000000001,54400.00000000001,92500.0,53000.0,51600.0,111500.0,120900.00000000001,76600.0,67000.0,70100.0,70200.0,95700.0,82700.0,110000.00000000001,100000.0,101600.0,94200.0,75000.0,79200.0,57899.99999999999,72500.0,76800.0,83600.0,78200.0,60000.0,90000.0,69400.0,74600.0,76400.0,75600.0,58399.99999999999,60900.0,39200.0,112500.0,55000.00000000001,64700.0,55100.00000000001,87500.0,104200.0,65000.0,62000.0,70000.0,86400.0,86300.0,85300.0,60400.0,55500.00000000001,76600.0,66000.0,90600.0,57199.99999999999,58299.99999999999,56000.00000000001,68900.0,112500.0,38800.0,55200.00000000001,60000.0,57999.99999999999,54300.00000000001,63000.0,66000.0,90500.0,58099.99999999999,71900.0,74400.0,55000.00000000001,67500.0,162500.0,63700.0,67500.0,85000.0,65600.0,72200.0,69600.0,94300.0,85400.0,73100.0,14999.000000000002,67500.0,87500.0,81600.0,71900.0,58700.0,71000.0,125000.0,66900.0,63400.0,69700.0,53000.0,70000.0,95300.0,77100.0,70500.0,58700.0,60000.0,80500.0,76900.0,75500.0,62500.0,92700.0,85400.0,68300.0,70000.0,70500.0,64600.0,70500.0,82000.0,85600.0,81300.0,70200.0,72200.0,67000.0,116100.0,82800.0,69000.0,67500.0,72600.0,74100.0,74700.0,74100.0,81000.0,104200.0,81800.0,90600.0,86400.0,92800.0,99600.0,100600.0,90000.0,96100.0,86900.0,81100.0,83000.0,92800.0,98100.0,143000.0,133900.0,150000.0,75000.0,87500.0,99200.0,101099.99999999999,105800.0,153100.0,57499.99999999999,81100.0,74100.0,82100.0,92600.0,50800.0,139500.0,136000.0,78800.0,79800.0,36700.0,50000.0,59200.0,62700.0,83800.0,62800.0,119400.0,143400.0,97900.0,102699.99999999999,98800.0,75600.0,84200.0,106300.0,75500.0,111300.0,96000.0,81700.0,99600.0,73600.0,90200.0,70100.0,126899.99999999999,165600.0,78400.0,119700.0,119900.0,111800.00000000001,128899.99999999999,100499.99999999999,130600.0,90100.0,58099.99999999999,79000.0,107000.0,86400.0,92100.0,85100.0,79600.0,128099.99999999999,66800.0,76800.0,95200.0,97300.0,92600.0,77100.0,92500.0,75100.0,74100.0,94800.0,72300.0,57499.99999999999,70500.0,55000.00000000001,71300.0,111400.00000000001,106700.0,94600.0,76100.0,135600.0,70700.0,74000.0,54300.00000000001,76800.0,82400.0,101499.99999999999,101899.99999999999,60800.0,53400.0,46700.0,40000.0,43300.0,72500.0,87500.0,61200.0,62000.0,91700.0,107800.0,113500.0,58600.0,66400.0,62200.0,63700.0,69400.0,60600.0,96000.0,80800.0,70800.0,70700.0,143000.0,107200.0,60300.0,66400.0,67500.0,100000.0,146300.0,113799.99999999999,74300.0,80900.0,71100.0,65800.0,67500.0,68600.0,62300.0,63500.0,61100.0,67500.0,90800.0,83200.0,102800.0,125000.0,55200.00000000001,93800.0,87500.0,112500.0,96300.0,67500.0,87500.0,69900.0,72600.0,93800.0,88500.0,79200.0,61200.0,63100.0,142500.0,61000.0,53600.0,56100.00000000001,60400.0,59600.0,68600.0,63900.0,59400.0,69400.0,58299.99999999999,76200.0,62500.0,68100.0,70800.0,86200.0,99600.0,76200.0,84300.0,110100.0,159900.0,64400.0,73600.0,86400.0,97200.0,87500.0,140300.0,94400.0,64000.0,95800.0,70100.0,73100.0,91200.0,88400.0,75500.0,84700.0,72700.0,67700.0,81300.0,51300.0,32500.0,43900.0,57499.99999999999,62800.0,54300.00000000001,58800.0,53800.0,67500.0,62800.0,54400.00000000001,53800.0,47500.0,59200.0,57499.99999999999,50000.0,30000.0,25000.0,56100.00000000001,45000.0,44000.0,108300.0,141500.0,166000.0,118800.0,139700.0,180400.0,54400.00000000001,116100.0,105800.0,98400.0,94500.0,137500.0,80600.0,74200.0,104700.0,45500.0,14999.000000000002,32900.0,64900.0,62400.0,67900.0,87100.0,77000.0,84400.0,70700.0,67200.0,57399.99999999999,52600.0,54600.00000000001,54300.00000000001,54700.00000000001,56999.99999999999,63200.0,67000.0,51900.0,53200.0,69400.0,51400.0,63500.0,67500.0,132000.0,107600.0,130600.0,200000.0,237500.0,126400.0,132200.0,44600.0,59400.0,50600.0,60000.0,90400.0,84600.0,93900.0,79400.0,72100.0,85500.0,76200.0,69800.0,73100.0,76600.0,94500.0,89000.0,87100.0,101699.99999999999,89100.0,79000.0,92900.0,95200.0,85600.0,87000.0,83100.0,70600.0,99500.0,104600.0,139100.0,194100.0,100800.0,143000.0,112999.99999999999,87000.0,67600.0,105300.0,75700.0,62800.0,57599.99999999999,59700.0,61300.0,57399.99999999999,55400.00000000001,52400.0,54300.00000000001,59500.0,46800.0,50000.0,48000.0,57999.99999999999,57499.99999999999,51000.0,57499.99999999999,49100.0,54800.00000000001,50800.0,49400.0,48800.0,55400.00000000001,70100.0,50700.0,46900.0,55500.00000000001,57399.99999999999,58099.99999999999,57899.99999999999,42500.0,57499.99999999999,67500.0,47500.0,66000.0,60000.0,63800.0,72500.0,84400.0,91800.0,147100.0,126600.0,82700.0,118700.0,66900.0,84700.0,118400.0,110700.0,123400.0,95200.0,72300.0,81300.0,69500.0,75300.0,61600.0,70000.0,73700.0,76800.0,57799.99999999999,60700.0,56999.99999999999,51600.0,46700.0,43600.0,42500.0,48700.0,48600.0,47100.0,49400.0,42700.0,47800.0,49300.0,76200.0,54700.00000000001,53400.0,54000.0,48900.0,46700.0,78700.0,33200.0,49800.0,52900.0,36600.0,62100.0,45600.0,57999.99999999999,63700.0,63300.0,57899.99999999999,76000.0,65800.0,71900.0,73700.0,73000.0,85000.0,69900.0,175000.0,87200.0,106200.0,86200.0,134100.0,103400.0,131000.0,245800.00000000003,176300.0,224100.0,118500.0,130100.0,170300.0,106300.0,142900.0,70700.0,100699.99999999999,82800.0,71400.0,84700.0,84700.0,68500.0,46700.0,39400.0,53800.0,63700.0,65800.0,56499.99999999999,59500.0,56200.00000000001,53300.0,109800.00000000001,50000.0,93600.0,92700.0,100200.0,82600.0,88200.0,102899.99999999999,81600.0,70000.0,74800.0,80900.0,97900.0,118200.0,65000.0,77500.0,91700.0,150000.0,113900.0,116500.0,123500.00000000001,168400.0,148200.0,128299.99999999999,52100.0,30000.0,68200.0,57899.99999999999,37500.0,52900.0,50800.0,45800.0,88300.0,75400.0,26600.0,26900.0,63800.0,69800.0,104700.0,96900.0,88900.0,94300.0,149000.0,157300.0,121000.0,82800.0,146200.0,110400.00000000001,37500.0,65400.0,78600.0,61100.0,95800.0,65800.0,58600.0,52100.0,64600.0,58800.0,125000.0,63200.0,71900.0,59000.0,60500.0,71800.0,54100.00000000001,47500.0,80000.0,156300.0,59800.0,83300.0,58500.0,55200.00000000001,54700.00000000001,59800.0,56499.99999999999,57299.99999999999,52100.0,62200.0,69900.0,67200.0,62100.0,67800.0,72500.0,68400.0,84000.0,216400.00000000003,82500.0,204199.99999999997,92300.0,67500.0,96000.0,81200.0,101400.0,90000.0,94600.0,59400.0,72500.0,96900.0,75800.0,68500.0,67300.0,69700.0,78400.0,55000.00000000001,42100.0,72000.0,81900.0,87500.0,109400.00000000001,95700.0,115700.0,63500.0,105300.0,109000.00000000001,71900.0,84500.0,102800.0,70200.0,52400.0,83200.0,85700.0,87200.0,91700.0,101299.99999999999,142500.0,54300.00000000001,91800.0,98000.0,81700.0,50800.0,86500.0,71800.0,275000.0,137500.0,68500.0,81900.0,104400.0,141700.0,84500.0,87800.0,91700.0,130000.0,54900.00000000001,64400.0,39800.0,83500.0,87900.0,111100.0,83300.0,73300.0,68900.0,83200.0,56799.99999999999,136800.0,162900.0,79000.0,115799.99999999999,137200.0,120800.0,94900.0,85500.0,99800.0,80000.0,67900.0,82200.0,94500.0,81300.0,106300.0,68000.0,53900.0,53500.0,57299.99999999999,51200.0,61400.0,54600.00000000001,63700.0,45500.0,75000.0,94200.0,126299.99999999999,103099.99999999999,100000.0,101400.0,83900.0,106300.0,75800.0,92500.0,126400.0,69100.0,72300.0,62000.0,66600.0,93100.0,104200.0,87500.0,112500.0,100800.0,107500.0,56100.00000000001,112500.0,52600.0,43500.0,60200.0,62000.0,118800.0,148000.0,107900.0,85500.0,91900.0,97400.0,90400.0,90600.0,80300.0,70200.0,71400.0,67500.0,61500.0,61000.0,59700.0,67200.0,76100.0,56699.99999999999,51700.0,59100.0,53800.0,120800.0,81700.0,92800.0,58099.99999999999,56799.99999999999,54400.00000000001,60600.0,70500.0,50400.0,43100.0,53400.0,50100.0,46300.0,97400.0,94100.0,100000.0,50000.0,53200.0,46500.0,43800.0,50800.0,64700.0,52300.0,42100.0,61600.0,54800.00000000001,68800.0,60700.0,61300.0,137500.0,52200.0,100000.0,47700.0,225000.0,60900.0,48500.0,43900.0,56200.00000000001,71300.0,62500.0,73500.0,98900.0,72500.0,68300.0,73600.0,106300.0,92600.0,137500.0,71100.0,143200.0,166300.0,140600.0,164100.0,102299.99999999999,100299.99999999999,119000.0,93500.0,80700.0,95000.0,95800.0,108300.0,86500.0,78800.0,94700.0,66800.0,65000.0,89000.0,108900.0,69700.0,112500.0,111500.0,72400.0,53300.0,109400.00000000001,162500.0,134700.0,75900.0,77800.0,109700.0,60000.0,64000.0,58800.0,57499.99999999999,71300.0,62000.0,69000.0,60200.0,63200.0,58199.99999999999,68900.0,77300.0,49000.0,81800.0,55000.00000000001,114199.99999999999,200500.0,96900.0,97300.0,93400.0,55000.00000000001,136800.0,88500.0,113900.0,77800.0,75000.0,134200.0,105700.0,93800.0,119400.0,100000.0,96600.0,90800.0,112500.0,75000.0,91700.0,84700.0,112500.0,73500.0,109200.00000000001,132600.0,132100.0,103099.99999999999,83300.0,67900.0,85300.0,89600.0,87500.0,48100.0,59200.0,80800.0,40000.0,200000.0,118300.0,78300.0,64100.0,49500.0,85900.0,71500.0,66400.0,64300.0,70200.0,59300.0,105700.0,61800.0,85600.0,70000.0,67500.0,91000.0,85100.0,73500.0,47600.0,60700.0,276100.0,213000.0,191100.0,184500.0,191900.0,197600.0,162100.0,175000.0,161500.0,257600.0,261900.00000000003,277600.0,230100.00000000003,195800.0,263600.0,316900.0,176700.0,293300.0,228700.0,258300.00000000003,181400.0,172600.0,219899.99999999997,215600.0,176500.0,185900.0,189600.0,160300.0,187300.0,222700.0,248200.00000000003,230200.0,205399.99999999997,314900.0,354400.0,378000.0,200599.99999999997,197300.0,239400.0,217099.99999999997,191500.0,166200.0,166300.0,154900.0,158300.0,147600.0,145800.0,150000.0,146700.0,164800.0,133300.0,144300.0,134300.0,131300.0,147800.0,142600.0,156800.0,148000.0,147500.0,140900.0,147200.0,139600.0,140900.0,148100.0,143100.0,136400.0,136100.0,143300.0,138600.0,137900.0,124000.0,154300.0,134200.0,137500.0,143100.0,153800.0,157100.0,163700.0,145200.0,157400.0,235600.0,211600.0,163200.0,180300.0,203399.99999999997,187400.0,156000.0,154300.0,160100.0,155500.0,182500.0,189400.0,194100.0,173100.0,158500.0,218200.0,325200.0,270100.0,172400.0,192200.0,183300.0,190000.0,431799.99999999994,319400.0,285500.0,356300.0,374000.0,344000.0,301700.0,319300.0,474600.00000000006,450699.99999999994,152100.0,160200.0,377200.0,428599.99999999994,500000.99999999994,376200.0,341200.0,152000.0,217600.00000000003,222900.0,227100.0,226700.0,192400.0,220600.0,223700.0,216800.00000000003,185800.0,195900.0,179700.0,172300.0,158100.0,142400.0,195600.0,204599.99999999997,209600.0,210300.00000000003,217099.99999999997,224200.0,208599.99999999997,199200.0,218400.00000000003,238000.0,239900.0,195700.0,195300.0,216900.0,223300.0,232900.00000000003,225900.0,236200.0,221600.00000000003,243800.00000000003,379600.0,222500.0,252100.0,271200.0,329200.0,308400.0,311800.0,348200.0,320500.0,500000.99999999994,445400.0,352800.0,237300.00000000003,254199.99999999997,332500.0,290900.0,261300.0,258000.0,500000.99999999994,357100.0,375900.0,277200.0,262100.0,271500.0,276600.0,277600.0,333700.0,350000.0,327300.0,333700.0,230300.0,254500.0,500000.99999999994,500000.99999999994,273100.0,236900.00000000003,193300.0,419900.0,280800.0,248400.0,221800.0,221900.0,230200.0,168800.0,234900.00000000003,230399.99999999997,229000.0,500000.99999999994,483500.0,477200.0,418499.99999999994,472200.00000000006,323100.0,264000.0,275300.0,232900.00000000003,230399.99999999997,322200.0,407500.0,245100.0,454399.99999999994,318100.0,240000.0,211600.0,241400.00000000003,212300.00000000003,170700.0,238899.99999999997,255399.99999999997,267600.0,253900.00000000003,244200.00000000003,262300.0,241100.0,257300.0,315300.0,319000.0,242300.0,238200.0,160000.0,258599.99999999997,273100.0,239900.0,169400.0,154600.0,151900.0,183800.0,171400.0,177200.0,179200.0,175900.0,165100.0,153900.0,159300.0,174300.0,176000.0,162500.0,136500.0,157600.0,205900.00000000003,173700.0,178700.0,182500.0,184000.0,178200.0,186700.0,233000.0,181500.0,183800.0,189000.0,176500.0,173700.0,172700.0,183100.0,184600.0,183800.0,178200.0,181800.0,170700.0,168200.0,184400.0,183000.0,183700.0,185700.0,145400.0,178800.0,185100.0,168600.0,168600.0,233700.00000000003,175500.0,187300.0,186300.0,191500.0,193200.0,181300.0,183800.0,190000.0,231500.0,229199.99999999997,164600.0,151500.0,158300.0,179500.0,181900.0,161600.0,172700.0,210500.0,239900.0,165200.0,186800.0,178500.0,172400.0,177700.0,170600.0,179100.0,198600.0,237400.0,187500.0,207300.0,176400.0,176600.0,175700.0,174100.0,150000.0,183200.0,160300.0,154300.0,152900.0,169500.0,181700.0,177200.0,159600.0,171800.0,171200.0,170400.0,176400.0,188700.0,194900.0,198900.0,185100.0,192000.0,162500.0,181300.0,171600.0,176300.0,187500.0,211900.00000000003,181300.0,226399.99999999997,191300.0,200000.0,217200.00000000003,221500.0,193800.0,222500.0,231700.00000000003,290100.0,269700.0,230799.99999999997,225599.99999999997,335500.0,202199.99999999997,267500.0,282200.0,382400.0,190700.0,237900.0,262200.0,224600.0,216699.99999999997,261800.0,312700.0,286000.0,204199.99999999997,240200.0,241500.0,223800.0,192900.0,364700.0,384700.0,364700.0,465800.00000000006,330900.0,181500.0,190800.0,165300.0,200000.0,238499.99999999997,222400.00000000003,190200.0,178400.0,186400.0,177400.0,177300.0,174200.0,200000.0,199500.0,191800.0,276100.0,366100.0,291700.0,292900.0,341800.0,336900.0,353600.0,343400.0,333900.0,365000.0,359700.0,367900.0,275000.0,386100.0,269200.0,221500.0,283600.0,265200.0,414300.0,444700.0,192300.0,309400.0,319400.0,194100.0,185400.0,184400.0,221400.0,325000.0,250000.0,225000.0,262500.0,282300.0,274300.0,325000.0,232399.99999999997,209400.0,322900.0,417900.0,500000.99999999994,140500.0,226500.0,241299.99999999997,221200.00000000003,195600.0,202100.0,202700.0,186900.0,220000.00000000003,229100.0,197400.0,189900.0,93800.0,225000.0,202000.0,215800.0,217700.0,255399.99999999997,191700.0,221099.99999999997,210400.0,281700.0,292900.0,190500.0,230799.99999999997,205600.0,192200.0,233500.0,256300.00000000003,238099.99999999997,234900.00000000003,225599.99999999997,232500.00000000003,245500.0,243600.0,215499.99999999997,199100.0,271100.0,221000.0,178100.0,154200.0,181300.0,158300.0,174200.0,225000.0,228799.99999999997,246400.0,251399.99999999997,253200.0,215000.0,286700.0,225000.0,210000.0,286100.0,266000.0,353100.0,500000.99999999994,279400.0,379700.0,328500.0,337500.0,272600.0,277300.0,261300.0,309300.0,273700.0,314800.0,280400.0,299100.0,227100.0,199200.0,224100.0,201600.0,203700.0,222100.0,236100.00000000003,215899.99999999997,209200.0,223600.00000000003,213200.0,195400.0,203300.0,206700.00000000003,211000.0,199800.0,213200.0,246400.0,205100.00000000003,196800.0,197000.0,208700.00000000003,189800.0,199800.0,205300.0,200300.0,209000.0,188400.0,193700.0,203799.99999999997,262500.0,227500.0,229199.99999999997,221099.99999999997,229100.0,228300.0,224700.0,195000.0,207200.0,191100.0,179800.0,170600.0,211800.0,203900.00000000003,206900.0,212100.0,192300.0,245400.00000000003,240300.0,190900.0,196700.0,201399.99999999997,183600.0,235100.0,250999.99999999997,239200.0,240300.0,222500.0,223800.0,217700.0,178800.0,201900.0,220900.0,258400.0,270500.0,255200.0,299300.0,228200.0,250900.0,227700.0,225400.0,227500.0,251500.0,241299.99999999997,258599.99999999997,232900.00000000003,180500.0,160900.0,227100.0,235800.0,244800.0,390000.0,500000.99999999994,338400.0,234900.00000000003,336100.0,183500.0,179800.0,150000.0,182300.0,221000.0,190400.0,208000.0,223700.0,215600.0,201500.0,209200.0,220200.0,221300.0,266700.0,224900.0,222800.00000000003,187500.0,340500.0,244800.0,333100.0,267400.0,245800.00000000003,246400.0,210100.0,213899.99999999997,259600.0,433000.0,245600.0,248400.0,263400.0,247300.0,240300.0,243000.00000000003,374900.0,338200.0,409000.0,439799.99999999994,327300.0,334900.0,271300.0,328900.0,262800.0,308300.0,389700.0,367600.0,419000.00000000006,278500.0,319100.0,367400.0,347700.0,392700.0,409900.0,500000.99999999994,500000.99999999994,296000.0,313100.0,338500.0,500000.99999999994,450699.99999999994,369700.0,361900.0,483100.00000000006,311700.0,295300.0,219000.0,213099.99999999997,216000.0,221800.0,243800.00000000003,315900.0,311000.0,457300.00000000006,174500.0,189300.0,443600.0,425000.0,500000.99999999994,500000.99999999994,259600.0,335400.0,290600.0,500000.99999999994,500000.99999999994,500000.99999999994,424000.0,500000.99999999994,303600.0,500000.99999999994,500000.99999999994,500000.99999999994,500000.99999999994,500000.99999999994,500000.99999999994,500000.99999999994,295800.0,467600.0,447400.0,360600.0,382500.0,500000.99999999994,359100.0,301700.0,304500.0,318300.0,332600.0,478400.0,265400.0,334900.0,457300.00000000006,392500.0,500000.99999999994,495500.0,500000.99999999994,500000.99999999994,500000.99999999994,500000.99999999994,500000.99999999994,500000.99999999994,500000.99999999994,490800.00000000006,500000.99999999994,500000.99999999994,366100.0,263100.0,376100.0,320600.0,365900.0,394400.0,425000.0,256300.00000000003,369100.0,425900.00000000006,371400.0,372300.0,355900.0,341700.0,375000.0,380400.0,374500.0,364700.0,424000.0,295200.0,197900.0,367700.0,386700.0,309200.0,373500.0,385900.0,409600.0,495600.00000000006,396400.0,500000.99999999994,500000.99999999994,483800.0,500000.99999999994,399300.0,360700.0,497600.0,500000.99999999994,500000.99999999994,274600.0,247700.0,293900.0,257900.00000000003,291500.0,175000.0,258100.0,272400.0,204199.99999999997,186500.0,189800.0,217000.0,209200.0,180400.0,193600.0,214200.0,173800.0,178100.0,182100.0,165100.0,167900.0,169200.0,173400.0,231999.99999999997,198000.0,162500.0,146400.0,170600.0,172100.0,196400.0,173600.0,167600.0,162000.0,173900.0,175800.0,190000.0,171300.0,162900.0,156400.0,155600.0,176900.0,150000.0,167700.0,183800.0,152200.0,169300.0,143800.0,153900.0,185700.0,166300.0,154500.0,228200.0,218299.99999999997,186800.0,252100.0,143800.0,152900.0,241699.99999999997,148200.0,196600.0,157000.0,149700.0,138900.0,165000.0,181300.0,244400.0,212500.0,205799.99999999997,185800.0,214800.0,244499.99999999997,185400.0,170500.0,220900.0,240800.0,183800.0,204199.99999999997,221099.99999999997,223500.0,187100.0,153100.0,168800.0,154200.0,178800.0,176700.0,156000.0,214000.0,210900.0,217800.0,208900.0,156300.0,141300.0,170000.0,164300.0,277300.0,270700.0,204500.0,208900.0,230300.0,276600.0,352600.0,495600.00000000006,438300.0,500000.99999999994,209100.00000000003,238200.0,230600.0,500000.99999999994,264300.0,254199.99999999997,265500.0,266700.0,500000.99999999994,436400.0,391900.0,283300.0,500000.99999999994,500000.99999999994,433300.0,500000.99999999994,498700.0,393500.0,434400.00000000006,435700.0,410700.0,438300.0,342900.0,430199.99999999994,500000.99999999994,500000.99999999994,500000.99999999994,500000.99999999994,500000.99999999994,364500.0,405100.0,500000.99999999994,225000.0,372200.0,436400.0,250000.0,237500.0,468800.0,500000.99999999994,325000.0,232100.00000000003,187500.0,333300.0,350000.0,450000.0,340000.0,262500.0,250000.0,350000.0,237500.0,237500.0,193800.0,162500.0,200000.0,250000.0,67500.0,211100.00000000003,100000.0,193800.0,250000.0,175000.0,221900.0,225000.0,200000.0,137500.0,206300.00000000003,166700.0,218800.00000000003,216699.99999999997,250000.0,203300.0,187500.0,230399.99999999997,162500.0,172500.0,175000.0,225000.0,112500.0,158300.0,198400.0,262500.0,261600.0,253300.0,205600.0,226700.0,187500.0,240600.0,218200.0,208800.0,212500.0,218800.00000000003,200000.0,165000.0,220000.00000000003,204700.00000000003,210000.0,346700.0,321600.0,500000.99999999994,280600.0,395700.0,342000.0,315800.0,333900.0,304800.0,380400.0,500000.99999999994,442900.0,254500.0,287500.0,358100.0,220000.00000000003,330300.0,380300.0,247500.0,205600.0,251100.0,227100.0,210000.0,212500.0,225000.0,258300.00000000003,173900.0,137500.0,500000.99999999994,500000.99999999994,500000.99999999994,500000.99999999994,416700.0,500000.99999999994,500000.99999999994,500000.99999999994,500000.99999999994,500000.99999999994,500000.99999999994,355300.0,367100.0,374100.0,300000.0,500000.99999999994,397900.0,393600.0,423700.0,318600.0,350000.0,421600.0,412700.0,306800.0,352100.0,397500.0,360500.0,324000.0,304600.0,210900.0,200000.0,217300.0,344800.0,268800.0,196500.0,252300.0,278800.0,241400.00000000003,230799.99999999997,225000.0,166700.0,203300.0,187500.0,198800.0,170500.0,187500.0,160000.0,157500.0,184300.0,200000.0,203100.0,185000.0,170800.0,182000.0,228799.99999999997,213499.99999999997,169100.0,219200.00000000003,156300.0,143800.0,187500.0,137500.0,136100.0,150000.0,155500.0,210000.0,241699.99999999997,200000.0,169200.0,174300.0,189400.0,166700.0,167800.0,189800.0,179200.0,181700.0,232100.00000000003,217899.99999999997,175000.0,225000.0,137500.0,192500.0,133300.0,150000.0,154200.0,152100.0,115500.0,113999.99999999999,139600.0,159600.0,133900.0,173200.0,138200.0,126000.0,213000.0,153000.0,138500.0,144200.0,159200.0,145800.0,158300.0,160200.0,167200.0,191700.0,153100.0,168800.0,147500.0,170800.0,142500.0,145800.0,153800.0,148800.0,184900.0,144200.0,200400.0,166700.0,153100.0,230900.00000000003,129299.99999999999,139500.0,166300.0,169600.0,163100.0,175000.0,162100.0,156500.0,146600.0,135500.0,151900.0,144600.0,158500.0,147500.0,156000.0,150000.0,135700.0,148500.0,148600.0,137500.0,93800.0,112500.0,111800.00000000001,137500.0,133600.0,142800.0,125000.0,109400.00000000001,156800.0,112500.0,137500.0,109100.0,153100.0,155000.0,157100.0,129200.0,131900.0,136400.0,144000.0,141700.0,121900.00000000001,117200.0,147200.0,150000.0,127899.99999999999,124300.00000000001,121800.0,134900.0,150000.0,136700.0,142600.0,136300.0,127600.0,122800.0,143800.0,147200.0,125000.0,135400.0,135300.0,165000.0,148400.0,151600.0,155000.0,139300.0,114300.0,141700.0,115599.99999999999,114999.99999999999,152500.0,139600.0,139600.0,141800.0,141100.0,146300.0,145000.0,135200.0,146000.0,135200.0,140800.0,140600.0,129700.0,144800.0,130700.0,175000.0,126600.0,67500.0,133300.0,225000.0,181300.0,112500.0,350000.0,87500.0,162500.0,350000.0,275000.0,287500.0,500000.99999999994,162500.0,312500.0,175000.0,131300.0,185900.0,165600.0,187500.0,225000.0,87500.0,213300.0,154200.0,152100.0,152500.0,208300.00000000003,183300.0,207100.00000000003,216699.99999999997,265900.0,190000.0,177500.0,400000.0,175000.0,137500.0,112500.0,187500.0,275000.0,110000.00000000001,137500.0,275000.0,225000.0,187500.0,162500.0,325000.0,225000.0,275000.0,162500.0,158900.0,162500.0,212500.0,112500.0,118100.0,225000.0,275000.0,500000.99999999994,500000.99999999994,500000.99999999994,500000.99999999994,500000.99999999994,432800.00000000006,316700.0,290600.0,141700.0,300000.0,253100.0,300000.0,230600.0,237500.0,282300.0,281700.0,305600.0,350900.0,445000.0,500000.99999999994,450000.0,500000.99999999994,404500.0,500000.99999999994,166700.0,412500.0,175000.0,500000.99999999994,75000.0,325000.0,112500.0,300000.0,150000.0,70000.0,187500.0,350000.0,137500.0,233300.00000000003,270000.0,475000.0,322200.0,500000.99999999994,187500.0,409999.99999999994,328900.0,360000.0,380000.0,291500.0,436800.00000000006,337000.0,433800.0,257799.99999999997,226300.0,171300.0,327300.0,250000.0,305800.0,417600.0,115599.99999999999,214299.99999999997,350000.0,157700.0,193800.0,193800.0,168800.0,161100.0,187500.0,250000.0,350000.0,229199.99999999997,479000.0,500000.99999999994,500000.99999999994,450000.0,500000.99999999994,500000.99999999994,500000.99999999994,500000.99999999994,500000.99999999994,175000.0,225000.0,175000.0,450000.0,287500.0,350000.0,500000.99999999994,355200.0,411100.0,405600.0,456900.0,486900.0,486400.0,287500.0,453400.0,474300.00000000006,484999.99999999994,375000.0,500000.99999999994,225000.0,500000.99999999994,500000.99999999994,321600.0,396000.0,327300.0,250000.0,385000.0,440900.0,328800.0,400000.0,355000.0,500000.99999999994,446000.0,500000.99999999994,362500.0,450000.0,310000.0,500000.0,345300.0,278500.0,275000.0,296100.0,470000.0,444299.99999999994,440900.0,500000.99999999994,322600.0,295200.0,243600.0,242000.0,254700.00000000003,338100.0,417900.0,474099.99999999994,351000.0,334100.0,333600.0,287500.0,500000.99999999994,234100.00000000003,158000.0,202100.0,252000.0,290800.0,213499.99999999997,140600.0,195800.0,259400.0,172700.0,165000.0,156300.0,192500.0,268500.0,420000.0,167100.0,139700.0,127099.99999999999,123200.0,150700.0,151600.0,179200.0,139400.0,157000.0,146800.0,133500.0,122200.0,125800.0,169400.0,110900.0,138000.0,171400.0,118800.0,134600.0,138100.0,161500.0,183900.0,251100.0,151100.0,168800.0,176800.0,113999.99999999999,137500.0,223200.00000000003,127800.0,121500.00000000001,127099.99999999999,133400.0,114199.99999999999,118200.0,125699.99999999999,125000.0,181000.0,156900.0,124000.0,123300.00000000001,134700.0,125400.0,143800.0,113500.0,120000.0,125899.99999999999,120700.00000000001,140900.0,134100.0,136600.0,130300.0,130200.0,125000.0,189700.0,188400.0,193200.0,152500.0,153400.0,132500.0,143800.0,123700.00000000001,180000.0,162500.0,121900.00000000001,190600.0,229199.99999999997,500000.0,208300.00000000003,214600.0,150000.0,227800.0,234600.0,175000.0,150000.0,170300.0,143000.0,162500.0,152800.0,128099.99999999999,125000.0,136400.0,151600.0,179200.0,258300.00000000003,135200.0,168800.0,119600.0,135500.0,132200.0,111400.00000000001,105800.0,98100.0,98400.0,147900.0,150000.0,138400.0,187500.0,156600.0,127099.99999999999,112100.0,116799.99999999999,141300.0,137500.0,119300.0,500000.99999999994,175000.0,125000.0,162500.0,160200.0,200000.0,180000.0,275000.0,147500.0,164600.0,162500.0,127299.99999999999,38800.0,187500.0,350000.0,225000.0,158300.0,312500.0,100000.0,124000.0,130700.0,123100.00000000001,136500.0,126400.0,117700.0,96200.0,114799.99999999999,109600.00000000001,119500.0,114300.0,100800.0,90300.0,119900.0,90600.0,107500.0,99200.0,100800.0,127499.99999999999,93400.0,99300.0,107200.0,100499.99999999999,110200.00000000001,118800.0,115799.99999999999,99600.0,126800.0,118300.0,97200.0,116100.0,129200.0,114100.0,113300.0,103800.0,107400.0,95800.0,108200.00000000001,104200.0,105800.0,105000.0,102899.99999999999,90400.0,95800.0,87500.0,95000.0,101299.99999999999,108200.00000000001,98600.0,88200.0,98500.0,107900.0,91900.0,103400.0,101499.99999999999,110800.00000000001,106900.0,95000.0,103499.99999999999,100000.0,100000.0,97100.0,162500.0,156300.0,143800.0,122300.00000000001,103800.0,118800.0,108000.0,111700.0,109400.00000000001,116900.0,115199.99999999999,117100.0,108800.00000000001,121000.0,123200.0,123700.00000000001,123200.0,125000.0,115999.99999999999,136200.0,134400.0,132000.0,114100.0,112500.0,137500.0,142500.0,122900.00000000001,103600.0,131300.0,126600.0,118800.0,119200.0,112500.0,124000.0,96100.0,105800.0,111700.0,128600.0,134600.0,116100.0,109600.00000000001,116399.99999999999,111600.00000000001,129099.99999999999,128000.0,120000.0,122500.00000000001,116399.99999999999,101400.0,126600.0,104800.0,100000.0,114799.99999999999,96500.0,101099.99999999999,98300.0,103400.0,101899.99999999999,95000.0,99300.0,128000.0,194300.0,189700.0,157700.0,123400.0,182600.0,193000.0,181100.0,165800.0,187500.0,188500.0,181300.0,112599.99999999999,120900.00000000001,121500.00000000001,133300.0,151600.0,98700.0,114199.99999999999,126499.99999999999,149600.0,170500.0,115199.99999999999,108900.0,122500.00000000001,140300.0,114700.0,104299.99999999999,101000.0,103299.99999999999,113900.0,108900.0,149100.0,140400.0,149000.0,180100.0,207600.0,166700.0,108600.00000000001,138800.0,118600.0,118500.0,158800.0,156400.0,195800.0,350400.0,246800.0,140600.0,170500.0,312500.0,106300.0,266700.0,187800.0,167900.0,118800.0,87500.0,353200.0,332100.0,301000.0,100000.0,103000.0,108900.0,108300.0,112900.0,98200.0,94500.0,93300.0,91400.0,111700.0,108000.0,96500.0,96600.0,106600.0,112200.00000000001,119800.0,97200.0,93100.0,94000.0,95800.0,102400.0,95200.0,100000.0,110000.00000000001,92200.0,93000.0,92300.0,121400.0,100000.0,102600.0,107000.0,100000.0,107300.0,98500.0,99800.0,124100.00000000001,119400.0,124200.0,125800.0,142600.0,136100.0,131700.0,120000.0,131000.0,133500.0,149600.0,142000.0,121000.0,131800.0,136300.0,138700.0,134200.0,113199.99999999999,109500.0,136300.0,98400.0,102099.99999999999,99000.0,116300.0,117400.0,127400.0,140400.0,140300.0,97500.0,101499.99999999999,104000.0,101800.0,97500.0,99200.0,97000.0,92500.0,98200.0,98200.0,96300.0,100600.0,95700.0,96800.0,90100.0,101400.0,97300.0,86400.0,92600.0,99100.0,94200.0,95300.0,94000.0,90600.0,90100.0,91700.0,90900.0,97900.0,95100.0,94400.0,100000.0,89800.0,96700.0,94800.0,101299.99999999999,99100.0,91400.0,99300.0,89700.0,111400.00000000001,102299.99999999999,93200.0,105600.0,107700.0,93600.0,94900.0,91600.0,89700.0,86200.0,101299.99999999999,98000.0,88800.0,98500.0,89800.0,93400.0,96700.0,94600.0,99600.0,94500.0,94200.0,89800.0,90300.0,93200.0,91300.0,92400.0,94900.0,92700.0,95400.0,104800.0,110200.00000000001,98900.0,88800.0,88700.0,93100.0,96900.0,94100.0,94200.0,81300.0,100000.0,97400.0,129900.0,105700.0,122600.0,120200.0,128099.99999999999,88400.0,90400.0,90600.0,90600.0,90600.0,99800.0,91300.0,90400.0,87500.0,89500.0,97500.0,97400.0,107600.0,95700.0,90200.0,100000.0,87500.0,100000.0,85400.0,84200.0,88300.0,86300.0,89800.0,90000.0,95500.0,90100.0,97600.0,92100.0,92000.0,87000.0,104900.0,88700.0,500000.99999999994,500000.99999999994,500000.99999999994,500000.99999999994,500000.99999999994,500000.99999999994,500000.99999999994,500000.99999999994,500000.99999999994,500000.99999999994,500000.99999999994,500000.99999999994,500000.99999999994,500000.99999999994,500000.99999999994,500000.99999999994,500000.99999999994,500000.99999999994,500000.99999999994,500000.99999999994,500000.99999999994,500000.99999999994,500000.99999999994,500000.99999999994,500000.99999999994,500000.99999999994,500000.99999999994,500000.99999999994,500000.99999999994,500000.99999999994,500000.99999999994,500000.99999999994,500000.99999999994,500000.99999999994,500000.99999999994,500000.99999999994,500000.99999999994,500000.99999999994,500000.99999999994,500000.99999999994,500000.99999999994,500000.99999999994,500000.99999999994,500000.99999999994,337500.0,387500.0,500000.99999999994,500000.99999999994,500000.99999999994,500000.99999999994,500000.99999999994,500000.99999999994,500000.99999999994,500000.99999999994,500000.99999999994,500000.99999999994,350000.0,500000.99999999994,350000.0,350000.0,500000.0,500000.99999999994,500000.99999999994,500000.99999999994,500000.99999999994,500000.99999999994,500000.99999999994,500000.0,316700.0,500000.99999999994,500000.99999999994,500000.99999999994,500000.99999999994,500000.99999999994,500000.99999999994,500000.99999999994,500000.99999999994,500000.99999999994,500000.99999999994,500000.99999999994,500000.99999999994,477299.99999999994,305000.0,500000.99999999994,494700.0,181300.0,283300.0,277500.0,409999.99999999994,275000.0,337500.0,268800.0,393800.0,325000.0,360000.0,420800.0,348100.0,360200.0,300000.0,336300.0,225000.0,350000.0,347800.0,485100.0,409800.0,427500.00000000006,500000.99999999994,500000.99999999994,500000.99999999994,500000.99999999994,500000.99999999994,500000.99999999994,500000.99999999994,500000.99999999994,500000.99999999994,412500.0,500000.99999999994,500000.99999999994,459999.99999999994,500000.99999999994,500000.99999999994,500000.99999999994,500000.99999999994,500000.99999999994,500000.99999999994,461300.00000000006,500000.99999999994,500000.99999999994,500000.99999999994,207700.0,254199.99999999997,340400.0,309100.0,271600.0,237500.0,340400.0,308300.0,232500.00000000003,319400.0,319400.0,372800.0,327300.0,300000.0,184400.0,366700.0,281300.0,320000.0,55000.00000000001,275000.0,222100.0,230900.00000000003,202800.0,143000.0,185700.0,333300.0,289400.0,427299.99999999994,373600.0,340800.0,372700.0,344200.0,352400.0,346700.0,357600.0,331000.0,343800.0,318100.0,353900.0,350900.0,386000.0,400000.0,418800.0,440100.0,354300.0,405800.0,500000.99999999994,489799.99999999994,465700.0,500000.99999999994,500000.99999999994,500000.99999999994,374300.0,463600.0,340800.0,414100.0,394700.0,450000.0,307000.0,348800.0,301900.0,310000.0,225000.0,315500.0,420099.99999999994,394000.0,412500.0,446600.0,500000.99999999994,420000.0,362200.0,355800.0,334700.0,321300.0,324000.0,243100.0,324300.0,335400.0,344200.0,458600.00000000006,310900.0,343100.0,345600.0,326700.0,346900.0,297200.0,287500.0,263500.0,235700.00000000003,321400.0,305800.0,300000.0,285000.0,239299.99999999997,425000.0,387500.0,414300.0,412500.0,358700.0,267500.0,500000.99999999994,350000.0,363200.0,334700.0,335900.0,325800.0,372000.0,348300.0,345800.0,326700.0,325000.0,339000.0,303800.0,360600.0,466700.0,500000.99999999994,500000.99999999994,500000.99999999994,343100.0,420800.0,500000.99999999994,500000.99999999994,500000.99999999994,500000.99999999994,500000.99999999994,321800.0,272000.0,271200.0,276300.0,287500.0,284600.0,324000.0,351700.0,320000.0,302900.0,366900.0,450000.0,301300.0,303900.0,215000.0,248900.0,263800.0,265500.0,276100.0,276700.0,307200.0,357200.0,362600.0,361400.0,345900.0,350800.0,340700.0,329400.0,316000.0,331800.0,285700.0,387200.0,363500.0,363600.0,356000.0,365900.0,352300.0,365200.0,365900.0,422000.0,500000.99999999994,500000.99999999994,500000.99999999994,500000.99999999994,356100.0,283200.0,411200.0,432100.0,456600.0,434800.0,456300.0,377200.0,330700.0,287800.0,294500.0,299000.0,400000.0,187500.0,247600.0,303300.0,266700.0,284400.0,289600.0,500000.99999999994,500000.99999999994,500000.99999999994,175900.0,159600.0,162000.0,156400.0,151200.0,162800.0,179700.0,232799.99999999997,184100.0,200599.99999999997,238700.0,230200.0,251300.0,222200.0,216699.99999999997,239600.0,232399.99999999997,200000.0,240200.0,226300.0,223400.0,213600.0,184400.0,175900.0,282700.0,268300.0,233300.00000000003,235300.00000000003,203300.0,224200.0,304100.0,171100.0,163100.0,181500.0,128000.0,131300.0,187500.0,177700.0,182300.0,184600.0,165500.0,191300.0,168000.0,169100.0,165400.0,154200.0,157500.0,146200.0,174000.0,174500.0,158700.0,172000.0,138100.0,150400.0,139800.0,164700.0,205600.0,350000.0,154700.0,182100.0,152300.0,163100.0,164200.0,150600.0,167300.0,160100.0,141300.0,112500.0,346200.0,290500.0,146900.0,186800.0,187500.0,200000.0,208300.00000000003,350000.0,416099.99999999994,285200.0,265600.0,273400.0,270800.0,350000.0,351200.0,192400.0,203100.0,218900.0,195300.0,306700.0,238300.0,225800.0,225000.0,242300.0,268500.0,255399.99999999997,260500.0,368500.0,351900.0,285200.0,293900.0,350000.0,248100.0,234500.00000000003,243200.0,227199.99999999997,231700.00000000003,257500.00000000003,253399.99999999997,267800.0,276400.0,321500.0,326700.0,311900.0,409800.0,500000.99999999994,446699.99999999994,300000.0,401900.0,361500.0,464300.0,332800.0,303800.0,254300.00000000003,225000.0,287500.0,396400.0,367100.0,394100.0,380100.0,361000.0,352700.0,254199.99999999997,292100.0,271200.0,336900.0,296200.0,312100.0,344400.0,329500.0,271900.0,217700.0,301200.0,261300.0,209200.0,263700.0,326600.0,341700.0,268000.0,273400.0,200000.0,234800.0,263900.0,252000.0,267000.0,285000.0,317900.0,306300.0,309900.0,245600.0,241299.99999999997,462200.0,422000.0,457400.0,446600.0,500000.99999999994,331300.0,400000.0,409800.0,500000.99999999994,366700.0,472700.00000000006,420500.0,375700.0,446100.00000000006,429100.00000000006,257100.00000000003,370400.0,374300.0,406200.0,380400.0,368100.0,372900.0,280000.0,318600.0,187500.0,206300.00000000003,351100.0,354700.0,238700.0,321200.0,331200.0,374000.0,500000.99999999994,498400.0,446800.0,358000.0,323500.0,365600.0,256300.00000000003,255399.99999999997,292600.0,286600.0,241900.0,189800.0,208300.00000000003,222400.00000000003,162500.0,238000.0,243600.0,256800.0,255500.00000000003,217099.99999999997,220200.0,230799.99999999997,253700.0,252700.0,257399.99999999997,177100.0,178600.0,252300.0,247500.0,298800.0,284100.0,282600.0,209600.0,200000.0,209800.0,192900.0,228100.0,187500.0,193800.0,201300.0,219499.99999999997,229000.0,258300.00000000003,224300.0,254000.0,238000.0,257700.0,269000.0,202300.0,222100.0,196900.0,275000.0,187500.0,268800.0,248100.0,175000.0,210700.00000000003,229000.0,218100.0,207100.00000000003,218800.00000000003,204999.99999999997,221900.0,184500.0,217499.99999999997,260500.0,243800.00000000003,255900.00000000003,181300.0,446200.0,402900.0,302200.0,320400.0,280900.0,326100.0,332400.0,287900.0,343500.0,349600.0,345300.0,328900.0,294400.0,289000.0,284600.0,262900.0,192400.0,231800.0,341200.0,352100.0,272500.0,361700.0,222700.0,206500.0,251900.0,200000.0,172100.0,181300.0,222700.0,118800.0,212100.0,250000.0,247100.0,245100.0,222000.00000000003,225999.99999999997,217000.0,223100.0,235500.0,231300.00000000003,231400.0,219899.99999999997,231199.99999999997,226900.0,229900.0,209100.00000000003,209500.00000000003,224700.0,230399.99999999997,231999.99999999997,225000.0,216000.0,229100.0,226900.0,231999.99999999997,232500.00000000003,250000.0,293800.0,267900.0,251799.99999999997,247800.00000000003,247000.00000000003,249500.0,254500.0,244499.99999999997,247900.0,17500.0,331800.0,497400.0,450000.0,246900.0,258800.0,349300.0,366700.0,279300.0,234600.0,278300.0,204999.99999999997,315000.0,218299.99999999997,219400.0,146000.0,161800.0,153500.0,160300.0,164600.0,193800.0,155500.0,154600.0,167000.0,154200.0,122900.00000000001,160100.0,154200.0,138800.0,162500.0,144100.0,151700.0,137100.0,149800.0,349100.0,293800.0,260500.0,358700.0,248700.0,211700.0,174600.0,161700.0,224500.0,215600.0,349900.0,451499.99999999994,309700.0,198000.0,451400.0,156800.0,212800.0,184200.0,155500.0,166700.0,222100.0,355500.0,186700.0,185500.0,297200.0,275000.0,283400.0,269500.0,235300.00000000003,209200.0,233000.0,192100.0,245500.0,209500.00000000003,170800.0,194500.0,194300.0,209400.0,228900.00000000003,202999.99999999997,191700.0,187600.0,223000.0,348900.0,192600.0,150400.0,144600.0,231100.0,202199.99999999997,177200.0,190500.0,275700.0,229999.99999999997,180500.0,167200.0,180900.0,212300.00000000003,214699.99999999997,240700.0,136000.0,121900.00000000001,156800.0,239500.0,261800.0,125000.0,212500.0,291200.0,181800.0,289700.0,225999.99999999997,158700.0,154200.0,151800.0,152500.0,112100.0,117800.0,115199.99999999999,136400.0,135100.0,139100.0,146900.0,139200.0,214800.0,124000.0,113599.99999999999,127299.99999999999,109800.00000000001,127200.0,103600.0,92600.0,108000.0,113500.0,114799.99999999999,116300.0,116100.0,128699.99999999999,131300.0,125899.99999999999,108500.0,117300.0,91900.0,98000.0,93300.0,116199.99999999999,134300.0,135700.0,129200.0,140100.0,161000.0,146200.0,128800.0,134200.0,130800.0,135000.0,113199.99999999999,117800.0,98800.0,122600.0,119400.0,118100.0,113300.0,94300.0,110700.0,110900.0,110600.00000000001,129700.0,118100.0,116399.99999999999,129600.0,123300.00000000001,113599.99999999999,115799.99999999999,112999.99999999999,227900.0,310700.0,247600.0,253900.00000000003,212900.0,230600.0,282100.0,315600.0,253799.99999999997,267000.0,221200.00000000003,368300.0,339700.0,262100.0,264400.0,271500.0,402500.00000000006,462700.0,386200.0,500000.99999999994,380900.0,267200.0,258700.00000000003,189900.0,218200.0,263900.0,239100.0,191700.0,189600.0,216600.0,188300.0,220000.00000000003,206900.0,186000.0,180600.0,196900.0,173300.0,180700.0,180600.0,183800.0,158500.0,178000.0,174500.0,199600.0,192200.0,182700.0,168800.0,165300.0,151300.0,157000.0,141900.0,141300.0,140200.0,140100.0,155600.0,164300.0,147400.0,117600.0,136100.0,139800.0,133000.0,124100.00000000001,138200.0,151400.0,138500.0,132600.0,145500.0,149500.0,144400.0,134400.0,142600.0,153000.0,126200.0,153400.0,137500.0,141000.0,147200.0,139400.0,152500.0,145800.0,138500.0,145900.0,134800.0,142400.0,164100.0,158400.0,157100.0,162500.0,152200.0,159700.0,161300.0,160500.0,140800.0,141600.0,143900.0,160100.0,160800.0,131000.0,141800.0,143400.0,166500.0,154100.0,140600.0,151800.0,159900.0,173100.0,176700.0,195400.0,201200.0,187700.0,189000.0,176500.0,163900.0,161300.0,165500.0,154200.0,191900.0,185200.0,188800.0,187100.0,206000.0,197000.0,185800.0,217099.99999999997,186900.0,189600.0,206999.99999999997,199400.0,181100.0,185400.0,165700.0,150500.0,166000.0,166700.0,160700.0,180400.0,175900.0,168600.0,176600.0,220800.00000000003,201200.0,181300.0,188900.0,176700.0,191800.0,187800.0,215600.0,207399.99999999997,200300.0,204400.0,428500.0,491200.0,287200.0,274700.0,266200.0,188600.0,172000.0,218800.00000000003,268300.0,249400.00000000003,189000.0,204199.99999999997,197600.0,191700.0,195500.0,218299.99999999997,211100.00000000003,224900.0,202100.0,187500.0,205100.00000000003,190700.0,182500.0,202800.0,204800.0,210200.0,193900.0,207300.0,170800.0,195200.0,184800.0,191700.0,183200.0,167300.0,162700.0,166800.0,160300.0,155500.0,160700.0,156900.0,151100.0,157600.0,158000.0,161400.0,155700.0,159800.0,154600.0,163300.0,157300.0,150400.0,152600.0,155800.0,145700.0,163100.0,158600.0,156500.0,153900.0,148300.0,158100.0,146900.0,181900.0,163500.0,160200.0,163000.0,161200.0,154500.0,158900.0,150800.0,149000.0,151800.0,157900.0,157600.0,153800.0,162900.0,135600.0,144100.0,157300.0,162400.0,159500.0,163100.0,164500.0,181000.0,178100.0,278300.0,330400.0,168800.0,161900.0,178200.0,192100.0,154100.0,131100.0,141400.0,199300.0,226200.0,136200.0,127200.0,190600.0,133300.0,191100.0,171900.0,136300.0,187500.0,211300.0,209700.0,138000.0,168300.0,215400.0,226100.0,183900.0,193200.0,262100.0,382500.0,302400.0,152900.0,165500.0,179000.0,289900.0,324900.0,334300.0,333500.0,360400.0,176300.0,186700.0,183800.0,362500.0,330400.0,284000.0,269900.0,325000.0,332200.0,297600.0,311100.0,300300.0,302200.0,265200.0,184500.0,186700.0,213200.0,105800.0,112500.0,137500.0,107500.0,94600.0,112500.0,67500.0,220100.0,273800.0,219400.0,184500.0,137500.0,151700.0,163900.0,179600.0,150300.0,136000.0,151700.0,148000.0,144500.0,142900.0,130500.0,500000.99999999994,295000.0,311800.0,318500.0,365000.0,262000.0,270600.0,256800.0,265500.0,280800.0,500000.99999999994,500000.99999999994,486800.00000000006,307400.0,410400.0,388900.0,265700.0,455400.0,350700.0,376800.0,278600.0,286500.0,362500.0,330000.0,484700.00000000006,500000.99999999994,500000.99999999994,500000.99999999994,500000.99999999994,391500.0,437300.0,500000.99999999994,352200.0,276200.0,377200.0,500000.99999999994,218299.99999999997,227300.0,252800.0,273600.0,242600.00000000003,365900.0,430900.0,429000.0,445700.0,366000.0,414799.99999999994,395100.0,408500.0,437399.99999999994,161700.0,187300.0,222800.00000000003,185600.0,178300.0,184100.0,235200.0,153000.0,167000.0,178100.0,166900.0,158100.0,129400.0,130100.0,139200.0,175000.0,173800.0,212300.00000000003,214800.0,278400.0,212200.0,211600.0,212200.0,233700.00000000003,225999.99999999997,219000.0,233599.99999999997,201700.0,223900.0,233100.0,416899.99999999994,447100.0,500000.99999999994,426499.99999999994,430199.99999999994,445200.0,500000.99999999994,500000.99999999994,476700.00000000006,248100.0,271500.0,275400.0,272400.0,239500.0,248700.0,273800.0,272600.0,257100.00000000003,283600.0,256700.00000000003,260100.0,235300.00000000003,248900.0,252199.99999999997,274300.0,262500.0,265900.0,258100.0,251600.0,198100.0,202400.0,208800.0,207200.0,206800.0,183000.0,173300.0,186000.0,146400.0,191800.0,175200.0,170000.0,180900.0,169600.0,176300.0,179200.0,181400.0,166300.0,195300.0,166300.0,175900.0,173600.0,181700.0,185100.0,164200.0,159200.0,162800.0,131300.0,138800.0,143500.0,159200.0,180500.0,189100.0,201500.0,211900.00000000003,207100.00000000003,214600.0,183100.0,184400.0,152000.0,162100.0,174000.0,173100.0,182600.0,155400.0,166800.0,156300.0,170600.0,135200.0,157800.0,153400.0,154200.0,176100.0,174500.0,162500.0,142000.0,173900.0,165900.0,199300.0,205500.00000000003,168600.0,156800.0,162200.0,160300.0,151400.0,137500.0,160600.0,165100.0,161200.0,175000.0,173800.0,156300.0,157500.0,142300.0,161700.0,167000.0,165800.0,158100.0,500000.99999999994,454800.0,326100.0,326000.0,450000.0,483300.0,444100.0,359400.0,295500.0,303900.0,274100.0,234000.0,240200.0,242200.00000000003,200999.99999999997,207399.99999999997,210300.00000000003,182100.0,184200.0,238899.99999999997,161600.0,160700.0,177900.0,176000.0,241699.99999999997,500000.99999999994,500000.99999999994,415900.0,483700.0,500000.99999999994,500000.99999999994,443900.0,450800.0,500000.99999999994,500000.99999999994,500000.99999999994,431799.99999999994,500000.99999999994,500000.99999999994,500000.99999999994,500000.99999999994,500000.99999999994,500000.99999999994,500000.99999999994,142100.0,127499.99999999999,136100.0,135700.0,163800.0,218800.00000000003,154900.0,149200.0,153500.0,166700.0,173100.0,234000.0,226500.0,237000.0,163100.0,300900.0,376000.0,352700.0,310900.0,279600.0,268100.0,261600.0,234600.0,230600.0,309100.0,225000.0,315400.0,261500.00000000003,175000.0,173100.0,166800.0,154400.0,146700.0,148800.0,181300.0,146600.0,178400.0,155400.0,230700.0,261800.0,500000.99999999994,263000.0,153500.0,187500.0,500000.99999999994,162500.0,137500.0,158000.0,142300.0,148600.0,146400.0,200000.0,156300.0,205700.0,176700.0,141700.0,500000.99999999994,175000.0,215400.0,188600.0,169500.0,155600.0,168800.0,171400.0,173100.0,125000.0,287900.0,250400.0,227900.0,215000.0,269300.0,283700.0,300500.0,222600.0,325600.0,320300.0,239900.0,196100.0,184100.0,198200.0,241900.0,330200.0,199000.0,177500.0,242400.0,237500.0,204999.99999999997,260100.0,321100.0,397500.0,369400.0,209200.0,260400.0,500000.99999999994,218699.99999999997,470800.0,500000.99999999994,500000.99999999994,281100.0,373800.0,210900.0,324400.0,358700.0,213200.0,434800.0,490400.0,217899.99999999997,493200.00000000006,210900.0,163900.0,225000.0,282300.0,258300.00000000003,55000.00000000001,187500.0,500000.99999999994,500000.99999999994,500000.99999999994,477799.99999999994,363000.0,360900.0,500000.99999999994,314700.0,500000.99999999994,500000.99999999994,500000.99999999994,251100.0,479699.99999999994,215000.0,500000.99999999994,500000.99999999994,500000.99999999994,500000.99999999994,500000.99999999994,500000.99999999994,500000.99999999994,500000.99999999994,500000.99999999994,500000.99999999994,500000.99999999994,500000.99999999994,500000.99999999994,396700.0,325000.0,342700.0,359900.0,251200.0,228500.0,279900.0,272600.0,264100.0,270500.0,270700.0,225000.0,257200.0,285300.0,214600.0,316800.0,414799.99999999994,280000.0,351400.0,352200.0,292900.0,359600.0,282600.0,306300.0,197500.0,188200.0,214100.0,208700.00000000003,351100.0,252400.0,258400.0,444500.0,419100.0,469100.0,364800.0,352800.0,319700.0,350000.0,204500.0,500000.0,435100.0,354700.0,309300.0,364900.0,364400.0,263600.0,278900.0,381400.0,477299.99999999994,231000.0,192800.0,225800.0,224000.00000000003,229300.00000000003,205600.0,199200.0,218800.00000000003,219000.0,170000.0,191700.0,217800.0,220400.00000000003,226600.0,188400.0,191700.0,219000.0,228399.99999999997,201700.0,183100.0,188500.0,258000.0,234600.0,192500.0,210900.0,259800.0,212000.0,187500.0,214100.0,213200.0,210400.0,205200.0,211400.0,224000.00000000003,235600.0,206000.0,218299.99999999997,227300.0,208100.0,204599.99999999997,238300.0,243200.0,200999.99999999997,244800.0,244400.0,208000.0,245699.99999999997,268200.0,227100.0,253900.00000000003,223000.0,234900.00000000003,220500.0,212500.0,215600.0,211800.0,183900.0,192200.0,181600.0,202300.0,192300.0,235000.0,245699.99999999997,253799.99999999997,234400.0,220699.99999999997,241500.0,254599.99999999997,242700.0,204300.00000000003,315100.0,301100.0,341100.0,305800.0,293300.0,198500.0,237200.0,268400.0,236400.0,197200.0,233300.00000000003,214699.99999999997,214699.99999999997,163700.0,160300.0,199300.0,184200.0,182100.0,176800.0,186600.0,170300.0,185000.0,170800.0,203700.0,183200.0,188500.0,179400.0,171600.0,185100.0,185600.0,178800.0,179200.0,187500.0,199000.0,183300.0,152300.0,168500.0,272600.0,266700.0,258000.0,247600.0,254900.0,227300.0,220500.0,211500.00000000003,203300.0,209300.0,198800.0,243200.0,213700.0,211400.0,235300.00000000003,246900.0,500000.99999999994,379300.0,500000.99999999994,441899.99999999994,282400.0,258800.0,498600.0,401000.0,296700.0,453800.0,500000.99999999994,375000.0,403700.0,188800.0,155100.0,171000.0,176800.0,158100.0,143800.0,150900.0,150200.0,144200.0,176400.0,147600.0,150600.0,114100.0,149500.0,160600.0,162500.0,172600.0,175200.0,162500.0,190300.0,165800.0,157800.0,160700.0,177900.0,170700.0,162000.0,163900.0,166300.0,164900.0,163300.0,153300.0,169200.0,178000.0,186900.0,172600.0,177600.0,219800.0,167300.0,263400.0,198600.0,182400.0,186200.0,166100.0,174400.0,188000.0,163200.0,137500.0,155300.0,279200.0,243800.00000000003,236800.0,163300.0,165600.0,182100.0,197100.0,332700.0,238499.99999999997,313800.0,290800.0,372600.0,273500.0,244700.0,219700.0,232399.99999999997,224300.0,196200.0,167900.0,162500.0,177500.0,192000.0,168900.0,181200.0,171400.0,164600.0,173200.0,177800.0,178500.0,154000.0,148800.0,160300.0,158200.0,172800.0,154000.0,159200.0,167800.0,169800.0,175800.0,170700.0,163200.0,155600.0,147100.0,156200.0,166700.0,161200.0,163300.0,169500.0,166000.0,164300.0,163500.0,156700.0,172200.0,152000.0,166600.0,147200.0,169700.0,163200.0,166600.0,160100.0,162500.0,142500.0,192100.0,173100.0,160600.0,162800.0,165000.0,165400.0,163000.0,170800.0,183400.0,183400.0,175400.0,171400.0,171900.0,173900.0,174000.0,170800.0,149000.0,161800.0,141500.0,150000.0,154700.0,164700.0,164800.0,158300.0,167000.0,151900.0,153500.0,144100.0,156200.0,193800.0,179500.0,179800.0,177200.0,164400.0,169000.0,181100.0,179800.0,179500.0,181000.0,192200.0,191800.0,173900.0,226200.0,232500.00000000003,208100.0,214000.0,212300.00000000003,214400.0,203700.0,188700.0,174800.0,174400.0,184700.0,175800.0,173900.0,189900.0,185000.0,174400.0,205100.00000000003,187600.0,185300.0,289600.0,285200.0,210400.0,215400.0,219800.0,222700.0,257200.0,202800.0,199700.0,200800.0,213300.0,209800.0,206300.00000000003,200999.99999999997,203399.99999999997,212800.0,188700.0,205200.0,202900.0,202900.0,198200.0,218699.99999999997,221400.0,211700.0,216699.99999999997,209900.00000000003,202400.0,213700.0,210700.00000000003,160100.0,164100.0,171100.0,162500.0,276800.0,250199.99999999997,208599.99999999997,279900.0,318900.0,265800.0,308000.0,189200.0,183300.0,195800.0,189400.0,210200.0,196000.0,205600.0,224500.0,208199.99999999997,185100.0,189300.0,192000.0,172900.0,178300.0,201100.0,192200.0,180500.0,150600.0,158800.0,141600.0,186400.0,189300.0,194600.0,162500.0,156300.0,181900.0,145000.0,134400.0,125499.99999999999,129700.0,141100.0,123800.0,121800.0,109200.00000000001,131900.0,142600.0,98200.0,116100.0,140300.0,133000.0,119200.0,135200.0,122900.00000000001,126499.99999999999,123100.00000000001,115100.0,129000.0,141700.0,146900.0,131700.0,122200.0,133900.0,150000.0,145800.0,134000.0,113999.99999999999,126000.0,124100.00000000001,150500.0,143800.0,153400.0,157600.0,153300.0,125000.0,121300.00000000001,134200.0,145600.0,142800.0,150700.0,132200.0,137500.0,142500.0,136700.0,125000.0,133900.0,127299.99999999999,140800.0,152400.0,120000.0,137500.0,140600.0,145000.0,143800.0,112500.0,145000.0,143400.0,149200.0,166000.0,138800.0,132000.0,139600.0,154300.0,151900.0,156900.0,158900.0,137500.0,173900.0,153300.0,180600.0,153500.0,153700.0,145500.0,156800.0,156500.0,161800.0,151100.0,154300.0,190000.0,173800.0,164600.0,166300.0,169300.0,193800.0,193700.0,178700.0,162500.0,176800.0,191000.0,178100.0,137500.0,162500.0,145600.0,175300.0,150500.0,130800.0,142800.0,149300.0,148800.0,112500.0,350000.0,112500.0,163200.0,143200.0,186300.0,175000.0,123200.0,190600.0,183300.0,165000.0,150600.0,96400.0,115399.99999999999,118800.0,100299.99999999999,92900.0,116700.0,112500.0,105100.0,97200.0,121900.00000000001,125000.0,108900.0,125000.0,110700.0,169900.0,166300.0,184400.0,148200.0,254999.99999999997,128800.0,150000.0,163100.0,171300.0,169000.0,164600.0,161500.0,154200.0,141700.0,142300.0,157300.0,158000.0,157500.0,156300.0,154700.0,160000.0,154700.0,156700.0,147800.0,154600.0,159400.0,189600.0,181300.0,178400.0,172100.0,172700.0,158500.0,154600.0,154800.0,161800.0,164400.0,162000.0,156100.0,170800.0,132100.0,159000.0,168200.0,163600.0,156000.0,165400.0,169400.0,189400.0,206300.00000000003,178600.0,165600.0,158100.0,170500.0,157800.0,176000.0,156000.0,177000.0,143800.0,181500.0,160800.0,150000.0,162500.0,176600.0,190600.0,191100.0,175000.0,155400.0,150000.0,160900.0,164200.0,187500.0,164200.0,146500.0,137500.0,142000.0,154500.0,146300.0,166200.0,174300.0,171700.0,169000.0,170600.0,166100.0,167600.0,166100.0,162900.0,169300.0,148200.0,171300.0,183300.0,111400.00000000001,118500.0,111800.00000000001,115100.0,112500.0,114799.99999999999,102600.0,108700.0,98800.0,117200.0,105100.0,112000.00000000001,112500.0,106600.0,100600.0,92900.0,98800.0,98100.0,95500.0,98100.0,94800.0,109100.0,109900.0,97300.0,105900.0,93400.0,99000.0,91400.0,168900.0,155300.0,170900.0,164200.0,158800.0,161800.0,154000.0,160400.0,150900.0,151600.0,152800.0,143400.0,153500.0,153800.0,144600.0,161600.0,161300.0,167000.0,164600.0,159300.0,145500.0,165100.0,151500.0,165300.0,155200.0,153400.0,160800.0,154200.0,157500.0,143800.0,156100.0,179100.0,160800.0,168100.0,164800.0,148100.0,169300.0,171800.0,159700.0,151800.0,162100.0,178600.0,179800.0,183600.0,152200.0,167500.0,165000.0,165500.0,181900.0,171800.0,166800.0,161300.0,162200.0,171000.0,136400.0,136900.0,139800.0,122900.00000000001,147200.0,144300.0,146400.0,149400.0,145700.0,139400.0,138800.0,146500.0,162500.0,141100.0,152100.0,131100.0,132700.0,145700.0,138800.0,121000.0,108900.0,130000.0,115399.99999999999,95100.0,93200.0,125000.0,118100.0,132700.0,117300.0,131900.0,125000.0,105400.0,96700.0,107200.0,90600.0,97400.0,106400.0,90000.0,83100.0,101800.0,96500.0,95900.0,92600.0,104600.0,120800.0,93300.0,106800.0,110000.00000000001,105400.0,101099.99999999999,124100.00000000001,110600.00000000001,138100.0,181400.0,89500.0,111900.0,110700.0,124400.0,119300.0,113100.0,109500.0,101899.99999999999,92800.0,93100.0,88200.0,102899.99999999999,103600.0,94300.0,96100.0,103800.0,88200.0,88900.0,90300.0,89100.0,89300.0,89200.0,84700.0,98800.0,100000.0,105300.0,110200.00000000001,110400.00000000001,103200.0,105000.0,104600.0,102299.99999999999,105600.0,115599.99999999999,130400.0,141200.0,155600.0,133000.0,151200.0,115399.99999999999,128099.99999999999,134400.0,128099.99999999999,117400.0,115799.99999999999,132400.0,118400.0,105100.0,118100.0,104800.0,105600.0,112900.0,99500.0,107300.0,105100.0,103200.0,113599.99999999999,107900.0,116199.99999999999,113900.0,120700.00000000001,118800.0,110700.0,119400.0,126800.0,138100.0,120200.0,95200.0,126600.0,133400.0,100899.99999999999,103099.99999999999,98400.0,97900.0,100800.0,96800.0,88800.0,112500.0,103000.0,93600.0,92600.0,106200.0,98000.0,105800.0,91500.0,98300.0,111700.0,115799.99999999999,104099.99999999999,109600.00000000001,120700.00000000001,111000.00000000001,98600.0,103200.0,105500.0,105200.0,108500.0,136500.0,101899.99999999999,102499.99999999999,95100.0,109800.00000000001,113700.0,117700.0,203500.0,193300.0,206999.99999999997,213099.99999999997,208100.0,169200.0,186400.0,206999.99999999997,197500.0,167000.0,168600.0,196600.0,180800.0,187900.0,194400.0,162900.0,183000.0,218000.00000000003,237900.0,216500.0,205100.00000000003,218800.00000000003,218200.0,329400.0,217700.0,212400.0,166900.0,173500.0,191100.0,113999.99999999999,165300.0,190700.0,200300.0,215899.99999999997,208599.99999999997,175700.0,200500.0,186900.0,184600.0,201900.0,117400.0,192200.0,166300.0,168300.0,160300.0,160200.0,174400.0,175200.0,176100.0,171900.0,158200.0,158000.0,157500.0,165700.0,174000.0,166800.0,172800.0,165100.0,171100.0,167400.0,170800.0,168600.0,168300.0,175300.0,171600.0,174500.0,166800.0,151300.0,156600.0,189000.0,186100.0,196900.0,204300.00000000003,261300.0,453599.99999999994,452299.99999999994,400000.0,191100.0,191300.0,261600.0,291000.0,297200.0,246000.0,267300.0,197400.0,251900.0,266000.0,254700.00000000003,277200.0,253500.0,241600.0,326600.0,294100.0,300000.0,302000.0,282100.0,285500.0,263200.0,269800.0,323800.0,264700.0,265000.0,229999.99999999997,283500.0,244899.99999999997,255399.99999999997,271300.0,283000.0,296600.0,162500.0,183700.0,187500.0,177200.0,202400.0,201500.0,218200.0,223900.0,226399.99999999997,207300.0,191900.0,195800.0,196600.0,226500.0,242400.0,199700.0,209000.0,238300.0,255900.00000000003,232900.00000000003,212300.00000000003,220500.0,218900.0,190500.0,184200.0,198400.0,161200.0,182800.0,196900.0,173800.0,183900.0,197500.0,183800.0,222000.00000000003,182300.0,187800.0,167600.0,175800.0,167600.0,160000.0,186700.0,153700.0,164400.0,159400.0,141100.0,162200.0,166200.0,165000.0,168100.0,159900.0,158700.0,164600.0,159700.0,165600.0,159200.0,146900.0,157700.0,180700.0,173300.0,157700.0,119900.0,155000.0,158000.0,220500.0,185300.0,160800.0,120300.0,123400.0,114900.0,153600.0,164100.0,162700.0,169200.0,168300.0,161100.0,153500.0,176300.0,166000.0,174600.0,167500.0,171500.0,164400.0,166600.0,185600.0,161900.0,156400.0,182100.0,178000.0,184600.0,196000.0,204700.00000000003,276000.0,236500.00000000003,178000.0,183100.0,193100.0,207399.99999999997,216600.0,191600.0,190600.0,177600.0,225800.0,180800.0,204199.99999999997,163200.0,147400.0,144600.0,156700.0,127099.99999999999,144000.0,133300.0,146100.0,144000.0,114199.99999999999,145800.0,162300.0,155000.0,146400.0,143800.0,150900.0,140400.0,143800.0,145800.0,350000.0,160700.0,131900.0,148300.0,146000.0,190800.0,190900.0,169500.0,208400.0,204900.0,183400.0,225800.0,195800.0,180100.0,202700.0,206500.0,170800.0,180900.0,173900.0,243800.00000000003,191900.0,192700.0,165500.0,179600.0,195500.0,179500.0,175000.0,161400.0,168200.0,198200.0,239699.99999999997,231800.0,240800.0,156300.0,218400.00000000003,166100.0,194600.0,171400.0,297300.0,285800.0,337400.0,313800.0,284200.0,139700.0,344700.0,299100.0,287000.0,288700.0,338900.0,319700.0,293700.0,265600.0,277600.0,275100.0,322700.0,350400.0,437399.99999999994,319600.0,268100.0,286500.0,277600.0,208100.0,195300.0,146000.0,145700.0,159500.0,120100.0,244899.99999999997,200800.0,220100.0,246000.0,225900.0,189700.0,236500.00000000003,215499.99999999997,198800.0,170400.0,194600.0,213099.99999999997,217700.0,191300.0,162700.0,153300.0,210900.0,168400.0,228200.0,345700.0,136800.0,118300.0,142900.0,234900.00000000003,226900.0,199500.0,188000.0,198400.0,209500.00000000003,200199.99999999997,219499.99999999997,208900.0,213400.0,218299.99999999997,214100.0,194100.0,213800.0,167000.0,181800.0,156700.0,170300.0,166700.0,162700.0,163000.0,167700.0,161000.0,184100.0,178300.0,167100.0,156700.0,155400.0,137500.0,153600.0,160200.0,152100.0,147300.0,136900.0,143000.0,138200.0,155500.0,158200.0,161400.0,162600.0,162300.0,162800.0,164800.0,165900.0,172900.0,175100.0,161900.0,156300.0,175000.0,173000.0,169800.0,161300.0,160800.0,158000.0,195400.0,218100.0,212600.0,217300.0,209000.0,215600.0,216200.0,201600.0,208400.0,212800.0,203300.0,210800.0,242000.0,227999.99999999997,223700.0,219499.99999999997,216299.99999999997,221700.0,213600.0,219899.99999999997,218200.0,226200.0,225800.0,225199.99999999997,218100.0,219600.00000000003,219700.0,209100.00000000003,220299.99999999997,218299.99999999997,216000.0,220000.00000000003,217400.0,218900.0,220900.0,221300.0,215800.0,226300.0,213200.0,312400.0,314700.0,339400.0,307400.0,336000.0,254900.0,228900.00000000003,481300.0,224100.0,221300.0,218800.00000000003,211000.0,214600.0,219499.99999999997,200500.0,186600.0,208700.00000000003,219200.00000000003,217300.0,213800.0,315600.0,219099.99999999997,192000.0,134400.0,143200.0,151900.0,149700.0,150300.0,149100.0,158200.0,159200.0,490299.99999999994,444200.0,406300.0,277700.0,290500.0,321800.0,371700.0,425500.0,418600.0,252199.99999999997,268200.0,268400.0,254000.0,207500.00000000003,347100.0,290000.0,272200.0,198900.0,156300.0,198500.0,194000.0,204800.0,181300.0,206900.0,212100.0,209900.00000000003,139300.0,162200.0,160700.0,146800.0,146300.0,165700.0,162500.0,138100.0,159700.0,157900.0,147800.0,156900.0,139000.0,150800.0,157100.0,165100.0,137500.0,141800.0,145300.0,143100.0,160400.0,137500.0,185200.0,190400.0,192700.0,194900.0,190600.0,197500.0,210200.0,200800.0,132700.0,141800.0,128000.0,142600.0,130600.0,117600.0,100000.0,216699.99999999997,154200.0,175000.0,199100.0,187500.0,148100.0,225900.0,222800.00000000003,225999.99999999997,224500.0,232200.0,228600.0,227599.99999999997,222500.0,225300.0,221900.0,218200.0,223100.0,225199.99999999997,227300.0,225700.0,244400.0,234400.0,402500.00000000006,239800.0,254400.0,245299.99999999997,246000.0,235600.0,232799.99999999997,254800.0,218200.0,224600.0,228500.0,231400.0,223900.0,225400.0,223700.0,241900.0,227100.0,233599.99999999997,225999.99999999997,223000.0,219800.0,249200.0,250700.0,256300.00000000003,251399.99999999997,235000.0,244899.99999999997,256999.99999999997,243299.99999999997,253900.00000000003,244800.0,231599.99999999997,257900.00000000003,239600.0,240800.0,247300.0,251799.99999999997,287200.0,249400.00000000003,500000.99999999994,500000.99999999994,500000.99999999994,480600.0,232399.99999999997,240700.0,236200.0,234800.0,212500.0,242899.99999999997,203900.00000000003,196300.0,209400.0,215400.0,217899.99999999997,185900.0,181300.0,139100.0,152700.0,153700.0,164000.0,139700.0,115900.0,129700.0,130000.0,118300.0,162500.0,156300.0,126600.0,141700.0,137500.0,116700.0,112500.0,150000.0,104200.0,87500.0,218800.00000000003,187500.0,175000.0,168800.0,162500.0,137500.0,131300.0,145800.0,143800.0,200000.0,129200.0,106300.0,162500.0,162500.0,200000.0,155000.0,112500.0,137500.0,150000.0,152500.0,100000.0,162500.0,162500.0,162500.0,162500.0,175000.0,140200.0,186200.0,146200.0,147500.0,181300.0,191100.0,165600.0,180400.0,154700.0,137500.0,159400.0,241699.99999999997,310000.0,218800.00000000003,220000.00000000003,325000.0,193800.0,175000.0,382100.0,500000.99999999994,306300.0,266300.0,272200.0,304100.0,232500.00000000003,225000.0,163300.0,222500.0,222900.0,179700.0,207799.99999999997,198600.0,250000.0,233300.00000000003,434500.0,307400.0,342900.0,393900.0,339800.0,271100.0,432500.0,500000.0,500000.99999999994,361800.0,381000.0,439300.0,400000.0,378000.0,398100.0,408300.0,500000.0,418800.0,363800.0,406900.0,461500.0,500000.99999999994,500000.99999999994,500000.99999999994,500000.99999999994,267400.0,367300.0,463500.0,500000.99999999994,395200.0,360700.0,450000.0,414700.0,300000.0,450000.0,287500.0,100000.0,99600.0,109800.00000000001,100800.0,96900.0,94000.0,108600.00000000001,114900.0,99300.0,123800.0,111200.00000000001,99200.0,124300.00000000001,128000.0,127899.99999999999,126699.99999999999,175000.0,145800.0,153800.0,142000.0,150300.0,168800.0,172100.0,148400.0,156000.0,159900.0,186200.0,183800.0,189000.0,192000.0,137500.0,191000.0,183500.0,189800.0,175600.0,169800.0,194100.0,164900.0,171300.0,166500.0,157100.0,188200.0,189200.0,198200.0,143500.0,159400.0,128099.99999999999,143400.0,152800.0,170800.0,137700.0,137800.0,136600.0,323800.0,157500.0,164300.0,147700.0,143800.0,137500.0,159800.0,164000.0,170800.0,146900.0,170000.0,151300.0,177200.0,259400.0,246300.0,218800.00000000003,179800.0,195800.0,153100.0,160900.0,142500.0,129200.0,177300.0,175000.0,262500.0,163900.0,177500.0,181700.0,174000.0,156800.0,148500.0,149400.0,170000.0,156500.0,152300.0,153900.0,146900.0,162500.0,170600.0,149100.0,142200.0,150400.0,144600.0,147500.0,160700.0,152300.0,143700.0,155700.0,167700.0,191900.0,192800.0,223300.0,204500.0,199600.0,239699.99999999997,200000.0,229300.00000000003,226799.99999999997,233800.0,212500.0,245800.00000000003,218299.99999999997,238899.99999999997,242700.0,245600.0,246300.0,246900.0,202500.0,222500.0,225599.99999999997,229999.99999999997,231900.0,227800.0,303700.0,294800.0,256300.00000000003,289600.0,231300.00000000003,265000.0,241400.00000000003,264500.0,272800.0,237000.0,269700.0,244000.0,235400.0,243100.0,229999.99999999997,230399.99999999997,185400.0,181800.0,202100.0,183300.0,185700.0,193800.0,192300.0,192700.0,177900.0,181100.0,180500.0,181300.0,184500.0,181300.0,180500.0,188000.0,146400.0,158000.0,157800.0,152800.0,137200.0,145200.0,155500.0,154700.0,169400.0,155100.0,172600.0,171300.0,177500.0,159400.0,208800.0,224100.0,173600.0,181400.0,207799.99999999997,218100.0,198400.0,208900.0,218200.0,218600.0,237000.0,214699.99999999997,234900.00000000003,253600.0,247700.0,195300.0,242099.99999999997,242300.0,238000.0,237500.0,194700.0,220600.0,231500.0,212100.0,210300.00000000003,216400.00000000003,210100.0,220600.0,242000.0,163900.0,224600.0,227300.0,242700.0,236600.0,226900.0,230799.99999999997,245900.0,244499.99999999997,207900.00000000003,225000.0,232399.99999999997,229000.0,233900.0,204999.99999999997,220299.99999999997,240000.0,227999.99999999997,227599.99999999997,214000.0,215000.0,236800.0,260800.0,267400.0,275000.0,230700.0,232700.0,238200.0,233300.00000000003,225800.0,233900.0,237500.0,254999.99999999997,270500.0,247200.0,345800.0,363800.0,376100.0,363900.0,358000.0,337500.0,339700.0,358000.0,275000.0,361300.0,346000.0,341400.0,382200.0,500000.99999999994,500000.99999999994,492199.99999999994,500000.99999999994,472100.0,500000.99999999994,500000.99999999994,500000.99999999994,500000.99999999994,500000.99999999994,500000.99999999994,500000.99999999994,500000.99999999994,500000.99999999994,477100.0,481500.00000000006,500000.99999999994,500000.99999999994,500000.99999999994,379300.0,460400.0,422700.00000000006,438100.0,329200.0,336200.0,324000.0,342600.0,359400.0,356800.0,335900.0,295800.0,293000.0,304200.0,334200.0,316900.0,345500.0,340700.0,281900.0,290000.0,338600.0,294000.0,297400.0,295900.0,305900.0,324000.0,359900.0,292900.0,321900.0,337900.0,340400.0,365500.0,352700.0,333800.0,329300.0,337600.0,456100.0,453700.0,474300.00000000006,472700.00000000006,495500.0,500000.99999999994,470000.0,442100.0,500000.99999999994,500000.99999999994,500000.99999999994,500000.99999999994,500000.99999999994,500000.99999999994,500000.99999999994,500000.99999999994,500000.99999999994,434500.0,394600.0,500000.99999999994,472700.00000000006,479500.0,500000.99999999994,500000.99999999994,469800.00000000006,500000.99999999994,392400.0,368400.0,400699.99999999994,380800.0,430000.0,500000.99999999994,434999.99999999994,378100.0,384600.0,366200.0,336400.0,349000.0,379800.0,384800.0,432700.0,355300.0,348600.0,420200.0,500000.99999999994,500000.99999999994,500000.99999999994,381200.0,439200.00000000006,416700.0,427200.0,260700.00000000003,271900.0,282100.0,280300.0,269000.0,270000.0,283300.0,265600.0,266600.0,298400.0,296300.0,325200.0,291700.0,283800.0,255900.00000000003,267100.0,278100.0,252300.0,255399.99999999997,259600.0,248600.00000000003,279400.0,285900.0,286500.0,261300.0,279600.0,256999.99999999997,281500.0,271300.0,309700.0,314100.0,331900.0,358500.0,350900.0,330700.0,354200.0,348200.0,334400.0,332600.0,341200.0,349300.0,395300.0,354700.0,361300.0,409999.99999999994,379000.0,342000.0,353600.0,343000.0,342800.0,343400.0,350200.0,353400.0,339000.0,286400.0,234800.0,270700.0,318900.0,376100.0,225000.0,273000.0,279900.0,310000.0,323700.0,361700.0,362600.0,336000.0,382100.0,379500.0,346200.0,357000.0,417800.0,446800.0,328900.0,339000.0,387800.0,352700.0,366900.0,339500.0,360800.0,330000.0,378800.0,359900.0,458300.0,483600.00000000006,410300.0,500000.99999999994,500000.99999999994,356800.0,482200.0,500000.99999999994,488500.0,500000.99999999994,487500.0,500000.99999999994,365600.0,350000.0,327700.0,318900.0,311700.0,500000.99999999994,308900.0,285800.0,254700.00000000003,277900.0,244800.0,279900.0,315100.0,286400.0,250000.0,383800.0,271100.0,500000.99999999994,500000.99999999994,500000.99999999994,500000.99999999994,500000.99999999994,500000.99999999994,500000.99999999994,500000.99999999994,500000.99999999994,500000.99999999994,500000.99999999994,500000.99999999994,500000.99999999994,500000.99999999994,500000.99999999994,418300.0,500000.99999999994,500000.99999999994,500000.99999999994,500000.99999999994,500000.99999999994,500000.99999999994,500000.99999999994,500000.99999999994,416800.0,414700.0,357300.0,396400.0,500000.99999999994,500000.99999999994,500000.99999999994,500000.99999999994,500000.99999999994,200000.0,288900.0,266700.0,236100.00000000003,312500.0,313600.0,243800.00000000003,283300.0,300000.0,200000.0,383300.0,383300.0,300000.0,500000.99999999994,225000.0,341700.0,400000.0,312500.0,431400.0,335300.0,430800.0,450000.0,281300.0,272900.0,362500.0,425000.0,375000.0,500000.99999999994,500000.99999999994,500000.99999999994,500000.99999999994,500000.99999999994,500000.99999999994,500000.99999999994,500000.99999999994,500000.99999999994,500000.99999999994,500000.99999999994,500000.99999999994,500000.99999999994,500000.99999999994,500000.99999999994,500000.99999999994,500000.99999999994,500000.99999999994,500000.99999999994,500000.99999999994,500000.99999999994,500000.99999999994,500000.99999999994,500000.99999999994,500000.99999999994,500000.99999999994,500000.99999999994,500000.99999999994,500000.99999999994,500000.99999999994,500000.99999999994,500000.99999999994,500000.99999999994,500000.99999999994,500000.99999999994,435100.0,500000.99999999994,500000.99999999994,500000.99999999994,500000.99999999994,500000.99999999994,500000.99999999994,436700.0,383300.0,483300.0,291700.0,350000.0,500000.99999999994,442100.0,450000.0,470800.0,353600.0,475000.0,330000.0,500000.99999999994,500000.99999999994,500000.99999999994,500000.99999999994,350000.0,347900.0,381800.0,290600.0,340500.0,310000.0,375000.0,375000.0,366700.0,327300.0,325000.0,337500.0,233300.00000000003,297500.0,250000.0,332500.0,330800.0,293800.0,450000.0,500000.99999999994,500000.99999999994,381500.0,370000.0,425000.0,500000.99999999994,353800.0,384400.0,340500.0,450000.0,500000.0,500000.99999999994,500000.99999999994,444400.0,470800.0,462899.99999999994,398300.0,418200.00000000006,500000.99999999994,500000.99999999994,480100.0,461100.0,413000.0,421900.00000000006,493400.0,456200.0,473000.00000000006,405400.0,196400.0,266400.0,268600.0,279400.0,314500.0,304100.0,340600.0,322900.0,355100.0,356300.0,332800.0,485700.0,369200.0,314900.0,339100.0,329400.0,336000.0,328100.0,326700.0,344300.0,351600.0,333500.0,331000.0,500000.99999999994,302500.0,285300.0,305000.0,271400.0,329800.0,275000.0,325000.0,314300.0,323000.0,275000.0,500000.99999999994,228300.0,439100.0,313700.0,397000.0,500000.99999999994,492500.0,270400.0,269100.0,287100.0,268900.0,222100.0,314900.0,313300.0,247600.0,296800.0,179400.0,183000.0,372000.0,472000.0,500000.99999999994,407000.0,438500.0,380000.0,433300.0,500000.99999999994,500000.99999999994,448100.0,500000.99999999994,500000.99999999994,500000.99999999994,500000.99999999994,377300.0,318500.0,399200.0,356700.0,346100.0,500000.99999999994,385500.0,500000.99999999994,500000.99999999994,500000.99999999994,500000.99999999994,500000.99999999994,500000.99999999994,500000.99999999994,500000.99999999994,500000.99999999994,500000.99999999994,106700.0,115100.0,120000.0,123900.00000000001,104800.0,150000.0,144000.0,140100.0,125699.99999999999,131500.0,96800.0,102600.0,187500.0,159400.0,141100.0,138500.0,137500.0,104000.0,225000.0,130000.0,93800.0,108800.00000000001,113500.0,101099.99999999999,100299.99999999999,119600.0,126499.99999999999,85400.0,107500.0,110900.0,146900.0,247200.0,118100.0,117200.0,101400.0,93000.0,86900.0,97700.0,98400.0,102099.99999999999,116300.0,127699.99999999999,126800.0,100000.0,94900.0,163600.0,146400.0,163400.0,171900.0,185600.0,167900.0,140300.0,126800.0,173200.0,179700.0,138200.0,152400.0,140100.0,136300.0,185400.0,218400.00000000003,264900.0,148900.0,156700.0,151600.0,137500.0,125600.0,132700.0,135800.0,141000.0,135700.0,99200.0,96900.0,228100.0,292200.0,204400.0,94500.0,111400.00000000001,154100.0,262100.0,222400.00000000003,181100.0,102600.0,113500.0,167600.0,148500.0,103499.99999999999,106900.0,138100.0,142900.0,146600.0,107400.0,109300.0,116300.0,145500.0,137200.0,154300.0,151300.0,137400.0,141800.0,239900.0,225199.99999999997,500000.99999999994,333300.0,311600.0,340400.0,294000.0,319100.0,150800.0,159400.0,165000.0,195300.0,220200.0,251799.99999999997,187500.0,239400.0,185000.0,233199.99999999997,185500.0,217800.0,236200.0,220100.0,253700.0,169500.0,359000.0,187900.0,199600.0,213400.0,229000.0,238499.99999999997,183000.0,218299.99999999997,194600.0,237699.99999999997,450000.0,167100.0,236300.0,155000.0,154600.0,285200.0,228100.0,136100.0,262100.0,311200.0,333700.0,323700.0,500000.99999999994,278100.0,202599.99999999997,265100.0,282900.0,320900.0,323300.0,329500.0,14999.000000000002,162500.0,191700.0,183000.0,375000.0,179500.0,214299.99999999997,114599.99999999999,95600.0,106300.0,106500.0,124100.00000000001,119800.0,103699.99999999999,122300.00000000001,104400.0,137500.0,147800.0,94400.0,80700.0,96100.0,113599.99999999999,123100.00000000001,112500.0,46300.0,91700.0,79200.0,75900.0,50500.0,50700.0,52300.0,56999.99999999999,81500.0,58800.0,63800.0,83900.0,61900.0,64300.0,63300.0,65200.0,92200.0,156300.0,95300.0,95800.0,74600.0,84900.0,88500.0,81600.0,96000.0,53900.0,98500.0,102400.0,101200.0,111800.00000000001,59600.0,60400.0,61800.0,47100.0,52800.0,48000.0,96500.0,94200.0,90900.0,119400.0,73800.0,70700.0,55000.00000000001,61700.0,52300.0,52500.0,61400.0,66100.0,65200.0,51600.0,51800.0,48300.0,62300.0,121300.00000000001,65000.0,61700.0,307000.0,392100.0,255600.0,334900.0,290900.0,423200.0,215300.0,228600.0,287900.0,309500.0,201600.0,301500.0,279200.0,368700.0,276300.0,285600.0,345000.0,209800.0,295300.0,350800.0,435900.0,118800.0,67500.0,179200.0,252700.0,310900.0,274200.0,400000.0,293200.0,387700.0,324800.0,397300.0,314000.0,239500.0,361500.0,342200.0,277000.0,301100.0,444000.00000000006,324200.0,371900.0,319900.0,500000.99999999994,337500.0,433300.0,487800.0,329400.0,439200.00000000006,500000.99999999994,420800.0,451700.00000000006,200000.0,270800.0,287500.0,352100.0,231300.00000000003,263800.0,331000.0,268800.0,500000.99999999994,290800.0,187500.0,212500.0,187500.0,292000.0,266700.0,255399.99999999997,309100.0,305400.0,275200.0,289600.0,316700.0,302000.0,246600.00000000003,414300.0,320100.0,336900.0,355000.0,316300.0,292200.0,345700.0,398900.0,382100.0,500000.99999999994,500000.99999999994,500000.99999999994,500000.99999999994,500000.99999999994,500000.99999999994,500000.99999999994,435700.0,468800.0,271300.0,470500.0,393200.0,431799.99999999994,435200.00000000006,405500.0,500000.99999999994,200000.0,333900.0,375000.0,500000.99999999994,410500.00000000006,310300.0,390800.0,317800.0,349200.0,300900.0,386200.0,310000.0,318000.0,500000.99999999994,500000.99999999994,500000.99999999994,441099.99999999994,500000.99999999994,500000.99999999994,500000.99999999994,474600.00000000006,458300.0,500000.99999999994,327200.0,370000.0,488999.99999999994,500000.99999999994,402900.0,417600.0,267100.0,389200.0,453400.0,463500.0,500000.99999999994,500000.99999999994,459999.99999999994,413100.0,414400.0,400000.0,308600.0,402400.0,424400.0,400399.99999999994,362500.0,258400.0,140400.0,346100.0,500000.99999999994,442000.0,500000.99999999994,500000.99999999994,500000.99999999994,275000.0,493800.0,478599.99999999994,350000.0,495800.0,238700.0,242600.00000000003,261500.00000000003,270700.0,200000.0,430000.0,163500.0,240899.99999999997,238800.0,253100.0,71300.0,113100.0,103800.0,91500.0,105000.0,87500.0,120800.0,70200.0,88100.0,93800.0,92400.0,112000.00000000001,104200.0,121900.00000000001,96000.0,111100.0,55900.00000000001,164600.0,70000.0,57899.99999999999,60300.0,79200.0,69800.0,145800.0,100000.0,71500.0,140700.0,157300.0,150300.0,165000.0,110400.00000000001,131600.0,95000.0,113300.0,93600.0,105800.0,116199.99999999999,150000.0,96600.0,104400.0,92600.0,124600.0,77200.0,96000.0,76900.0,71800.0,71500.0,84000.0,105000.0,147100.0,154200.0,137500.0,134200.0,142900.0,144500.0,175000.0,149300.0,118800.0,105400.0,151400.0,140500.0,277000.0,213200.0,225000.0,158800.0,165600.0,95300.0,176100.0,101000.0,109400.00000000001,115399.99999999999,142100.0,131100.0,159800.0,115199.99999999999,154600.0,144000.0,122100.00000000001,112900.0,114599.99999999999,127400.0,82300.0,109600.00000000001,96200.0,125600.0,108900.0,109200.00000000001,84400.0,100000.0,116100.0,214900.0,161900.0,94700.0,120800.0,70000.0,95800.0,94900.0,83100.0,66300.0,123200.0,90500.0,72800.0,80700.0,85900.0,73800.0,72700.0,137500.0,81300.0,88800.0,64400.0,67300.0,72900.0,71400.0,103800.0,113900.0,164500.0,109400.00000000001,103099.99999999999,94200.0,70400.0,84600.0,107600.0,72800.0,69100.0,74600.0,130100.0,86900.0,110200.00000000001,71000.0,83500.0,102099.99999999999,87300.0,66100.0,75000.0,69200.0,146300.0,68900.0,87500.0,101299.99999999999,88600.0,88000.0,67500.0,125000.0,141400.0,83000.0,79700.0,95800.0,89600.0,118300.0,83200.0,85300.0,130600.0,121600.0,108000.0,127600.0,117200.0,125299.99999999999,117800.0,101400.0,138200.0,98800.0,126200.0,133500.0,95300.0,75600.0,81800.0,72400.0,88500.0,67000.0,60900.0,95200.0,87800.0,75000.0,68300.0,79800.0,63200.0,57599.99999999999,62700.0,60900.0,60400.0,73300.0,57099.99999999999,81100.0,101499.99999999999,72300.0,212200.0,89400.0,103600.0,59600.0,55900.00000000001,57599.99999999999,56299.99999999999,59900.0,93800.0,87500.0,97600.0,77400.0,96200.0,97500.0,123400.0,97200.0,112500.0,117700.0,156300.0,97200.0,147800.0,86300.0,100000.0,78500.0,82000.0,88600.0,104200.0,140600.0,165500.0,55000.00000000001,120200.0,140600.0,150000.0,67500.0,87500.0,49500.0,61300.0,75700.0,69400.0,87500.0,44000.0,57499.99999999999,34600.0,69100.0,47500.0,56100.00000000001,52600.0,47900.0,95700.0,97800.0,114799.99999999999,82500.0,160700.0,130000.0,107800.0,159300.0,242700.0,221400.0,169800.0,195500.0,188900.0,162500.0,87500.0,137500.0,231800.0,159900.0,152900.0,177800.0,165400.0,142500.0,148100.0,157500.0,158100.0,160300.0,156100.0,108500.0,127600.0,130500.0,118500.0,119200.0,129000.0,135200.0,130400.0,137500.0,112500.0,248100.0,214200.0,221000.0,169600.0,123200.0,147500.0,192300.0,193100.0,189700.0,222500.0,202300.0,168300.0,168900.0,150000.0,293800.0,136900.0,253799.99999999997,322900.0,253500.0,211000.0,175700.0,177000.0,206300.00000000003,231900.0,245100.0,185300.0,245299.99999999997,229900.0,221000.0,238700.0,222500.0,155700.0,227199.99999999997,121000.0,135300.0,132400.0,175000.0,255200.0,286500.0,227500.0,152800.0,252599.99999999997,165500.0,201700.0,135700.0,72900.0,244899.99999999997,283100.0,291800.0,270000.0,336600.0,390100.0,129800.0,114700.0,112500.0,134100.0,210700.00000000003,274600.0,377000.0,279100.0,288400.0,230600.0,405800.0,102699.99999999999,76600.0,114300.0,109100.0,190600.0,92400.0,100499.99999999999,206300.00000000003,125499.99999999999,164600.0,76200.0,137900.0,95800.0,113700.0,163200.0,100000.0,135000.0,146900.0,200000.0,114599.99999999999,87500.0,250000.0,210000.0,362500.0,450000.0,387500.0,378800.0,426000.0,357400.0,500000.99999999994,394400.0,398800.0,468000.0,369100.0,487100.00000000006,364000.0,465800.00000000006,452799.99999999994,500000.99999999994,407800.00000000006,386500.0,469900.0,417100.0,500000.0,500000.99999999994,225700.0,253799.99999999997,278000.0,268000.0,253799.99999999997,236500.00000000003,241699.99999999997,249300.0,240099.99999999997,234600.0,235400.0,254500.0,258300.00000000003,247900.0,240200.0,286400.0,290000.0,243800.00000000003,279200.0,313900.0,319800.0,311100.0,287500.0,339100.0,217300.0,217099.99999999997,234600.0,226399.99999999997,243800.00000000003,236500.00000000003,225000.0,260300.00000000003,301000.0,289300.0,291300.0,329500.0,339100.0,225000.0,500000.0,178100.0,179500.0,150000.0,500000.99999999994,450000.0,347700.0,500000.99999999994,278800.0,195300.0,156300.0,191200.0,218000.00000000003,186300.0,221300.0,142100.0,185000.0,128899.99999999999,191800.0,112799.99999999999,122300.00000000001,169100.0,133100.0,131200.0,162400.0,161800.0,140400.0,125000.0,108300.0,150000.0,118800.0,162200.0,168300.0,190000.0,194800.0,174800.0,162500.0,146900.0,154600.0,154600.0,183300.0,140200.0,163100.0,154000.0,156100.0,134200.0,218100.0,153000.0,142500.0,325000.0,152700.0,158300.0,136200.0,281100.0,206800.0,155200.0,194500.0,153200.0,153200.0,137500.0,162900.0,166700.0,139800.0,139800.0,210400.0,183300.0,183600.0,174700.0,161500.0,209300.0,202599.99999999997,238700.0,164400.0,138100.0,175200.0,258900.0,187300.0,175500.0,126000.0,177900.0,269900.0,139700.0,142100.0,158700.0,194400.0,130200.0,163400.0,269300.0,187500.0,275000.0,148600.0,121300.00000000001,216699.99999999997,106700.0,130400.0,240800.0,195100.0,243100.0,228600.0,242499.99999999997,287500.0,267600.0,185200.0,175000.0,201200.0,216699.99999999997,331300.0,361100.0,304800.0,304000.0,398800.0,339200.0,325900.0,280800.0,336700.0,348200.0,248500.0,187500.0,196900.0,247600.0,276500.0,214500.0,184400.0,248400.0,159700.0,189400.0,303300.0,256599.99999999997,275800.0,98400.0,152800.0,142500.0,146900.0,300000.0,245000.00000000003,225000.0,195800.0,183100.0,185700.0,143400.0,143100.0,144400.0,138800.0,163500.0,185100.0,164500.0,155900.0,170200.0,201700.0,162500.0,209600.0,182100.0,206400.0,195200.0,194800.0,361900.0,187200.0,156800.0,180400.0,171500.0,170400.0,161500.0,162700.0,140300.0,185900.0,188200.0,175000.0,226100.0,213300.0,138800.0,152000.0,151800.0,128299.99999999999,144400.0,145100.0,162500.0,113799.99999999999,125699.99999999999,154900.0,132700.0,109700.0,109200.00000000001,121100.00000000001,105200.0,111800.00000000001,116700.0,90600.0,125000.0,112500.0,123100.00000000001,108300.0,103899.99999999999,117100.0,153800.0,160100.0,191700.0,182500.0,156800.0,164900.0,155400.0,153000.0,163200.0,144300.0,149500.0,155000.0,143100.0,136100.0,155400.0,171800.0,157400.0,172800.0,155100.0,179200.0,79500.0,85000.0,128899.99999999999,85700.0,83900.0,110900.0,109500.0,155700.0,119800.0,116300.0,117300.0,124800.0,138100.0,122100.00000000001,95800.0,145600.0,162500.0,180800.0,152300.0,198400.0,187500.0,174100.0,264100.0,228900.00000000003,217000.0,255799.99999999997,215700.0,202000.0,194000.0,232799.99999999997,192600.0,185200.0,162500.0,186000.0,166100.0,161900.0,161300.0,175400.0,241299.99999999997,198100.0,251399.99999999997,215000.0,153600.0,145200.0,178200.0,141300.0,165500.0,137000.0,303800.0,241100.0,267900.0,145000.0,245000.00000000003,224700.0,184400.0,267700.0,198200.0,174400.0,137500.0,139600.0,166300.0,291700.0,350500.0,227000.0,306700.0,247400.00000000003,190300.0,267600.0,208300.00000000003,196400.0,221700.0,230200.0,267100.0,170400.0,216500.0,195400.0,159500.0,125000.0,288700.0,258199.99999999997,193500.0,226600.0,201600.0,302100.0,336900.0,411800.00000000006,293500.0,400000.0,337900.0,364600.0,349600.0,375400.0,467600.0,161800.0,269500.0,381500.0,372600.0,346900.0,146800.0,341300.0,349000.0,334100.0,313000.0,500000.99999999994,459600.0,365100.0,500000.99999999994,188800.0,158700.0,137500.0,205799.99999999997,169200.0,161700.0,174300.0,141700.0,184900.0,183200.0,187500.0,193500.0,191400.0,190000.0,256000.0,184900.0,185200.0,55000.00000000001,167500.0,175800.0,275000.0,194700.0,197500.0,195700.0,182100.0,184000.0,183100.0,185600.0,240000.0,137500.0,187000.0,239299.99999999997,191100.0,162500.0,182100.0,241699.99999999997,293500.0,232500.00000000003,235600.0,243600.0,318700.0,351900.0,230399.99999999997,215400.0,218600.0,195200.0,143800.0,177300.0,119100.0,173300.0,162500.0,175000.0,229599.99999999997,243400.00000000003,188200.0,202100.0,190900.0,148900.0,168000.0,155000.0,186600.0,182500.0,162500.0,193800.0,165800.0,133900.0,157800.0,176300.0,277300.0,114399.99999999999,218400.00000000003,265500.0,270100.0,270800.0,285200.0,299200.0,280300.0,289800.0,274500.0,275000.0,201399.99999999997,171700.0,184600.0,156900.0,183900.0,190700.0,204300.00000000003,254000.0,350000.0,187500.0,262300.0,288500.0,272200.0,301900.0,260500.0,242200.00000000003,226900.0,240600.0,145300.0,324400.0,162400.0,158500.0,297100.0,216000.0,200000.0,142800.0,113900.0,297900.0,327500.0,238300.0,371700.0,278900.0,246099.99999999997,263700.0,272800.0,299600.0,245699.99999999997,259400.0,264300.0,231700.00000000003,280300.0,243900.0,461300.00000000006,233500.0,206100.0,235000.0,303000.0,308800.0,371800.0,272400.0,306400.0,277500.0,357900.0,252599.99999999997,169600.0,301900.0,268200.0,259300.0,354900.0,366300.0,307800.0,410200.00000000006,415299.99999999994,233000.0,235900.0,213499.99999999997,304900.0,454300.0,460100.0,365300.0,335600.0,266000.0,288200.0,380000.0,417000.0,231400.0,283200.0,353100.0,410500.00000000006,270500.0,300700.0,266400.0,500000.99999999994,388300.0,314000.0,413699.99999999994,500000.99999999994,230700.0,204599.99999999997,388700.0,290300.0,242000.0,237100.0,286900.0,256599.99999999997,227400.0,248400.0,274000.0,279600.0,278100.0,243200.0,143100.0,257399.99999999997,202199.99999999997,186400.0,272500.0,266000.0,288100.0,314800.0,315600.0,280300.0,286600.0,197200.0,282700.0,248000.0,236200.0,303900.0,234800.0,250800.0,164100.0,237900.0,251900.0,351300.0,294800.0,223300.0,288700.0,484100.0,436599.99999999994,293200.0,216600.0,196700.0,238000.0,275000.0,184800.0,257799.99999999997,278700.0,247900.0,316100.0,348000.0,357600.0,195600.0,331400.0,214200.0,337900.0,170800.0,181800.0,222300.0,184400.0,286000.0,363200.0,447400.0,378200.0,495400.0,302000.0,279800.0,483300.0,167800.0,215000.0,190300.0,260800.0,151900.0,233900.0,284900.0,204000.0,182800.0,500000.99999999994,219000.0,500000.99999999994,500000.99999999994,500000.99999999994,402900.0,282000.0,309200.0,294200.0,363500.0,310800.0,220699.99999999997,387300.0,325500.0,249400.00000000003,284100.0,247100.0,231000.0,231300.00000000003,370800.0,240600.0,187500.0,190600.0,310000.0,243800.00000000003,341300.0,252100.0,246000.0,280600.0,346500.0,413999.99999999994,346200.0,358800.0,500000.99999999994,277800.0,500000.99999999994,300000.0,288100.0,312700.0,500000.99999999994,248800.0,271600.0,402200.0,500000.99999999994,353600.0,256000.0,277300.0,275900.0,239299.99999999997,500000.99999999994,381200.0,500000.99999999994,420600.00000000006,244800.0,251300.0,324000.0,500000.99999999994,500000.99999999994,295900.0,288100.0,265900.0,227000.0,216900.0,279500.0,332000.0,348100.0,314000.0,330000.0,500000.99999999994,500000.99999999994,285600.0,231400.0,214500.0,106300.0,183300.0,250000.0,480800.0,294300.0,288500.0,305600.0,189600.0,186300.0,120400.0,126400.0,184400.0,300000.0,320800.0,305600.0,243800.00000000003,350000.0,500000.99999999994,315500.0,341400.0,322800.0,318300.0,272000.0,282900.0,325000.0,279000.0,278200.0,288500.0,340900.0,487000.0,500000.99999999994,500000.99999999994,384200.0,274300.0,354700.0,262100.0,298500.0,183300.0,138500.0,453800.0,318300.0,187500.0,119900.0,225999.99999999997,144300.0,268500.0,173000.0,245400.00000000003,397700.0,434700.00000000006,336700.0,340300.0,368500.0,454100.00000000006,345700.0,162500.0,355100.0,158300.0,344900.0,337100.0,207500.00000000003,137500.0,274600.0,307400.0,355600.0,308900.0,220600.0,241800.00000000003,219700.0,286800.0,67500.0,225599.99999999997,241699.99999999997,242800.0,386100.0,368700.0,362500.0,148400.0,108300.0,87500.0,350500.0,225700.0,309200.0,237400.0,239900.0,243400.00000000003,500000.99999999994,302000.0,326600.0,273800.0,215800.0,262000.0,162500.0,272800.0,261300.0,201399.99999999997,302400.0,276500.0,187200.0,184100.0,154000.0,55000.00000000001,238899.99999999997,315600.0,295500.0,325500.0,313900.0,326100.0,306700.0,250999.99999999997,328000.0,225000.0,274100.0,342900.0,242499.99999999997,199600.0,275000.0,296600.0,192200.0,234300.0,236800.0,311500.0,235600.0,265900.0,375300.0,240000.0,302500.0,329100.0,450000.0,500000.99999999994,360600.0,333600.0,290700.0,184500.0,358000.0,160200.0,278700.0,304700.0,379800.0,375700.0,227800.0,331200.0,195400.0,291300.0,233900.0,247100.0,283200.0,313400.0,239500.0,194000.0,227700.0,244800.0,340000.0,333300.0,433300.0,500000.99999999994,500000.99999999994,500000.99999999994,237500.0,500000.99999999994,450000.0,452100.0,378200.0,500000.99999999994,499099.99999999994,194400.0,450000.0,350000.0,275000.0,272800.0,291700.0,269000.0,223400.0,383900.0,274200.0,278400.0,198300.0,500000.99999999994,500000.99999999994,500000.99999999994,500000.99999999994,500000.99999999994,500000.99999999994,500000.99999999994,500000.99999999994,500000.99999999994,500000.99999999994,500000.99999999994,466399.99999999994,373700.0,384700.0,500000.99999999994,426100.0,391900.0,500000.99999999994,445600.00000000006,500000.99999999994,161800.0,231400.0,182300.0,110000.00000000001,105800.0,80300.0,162500.0,86900.0,186800.0,241699.99999999997,229800.0,180800.0,186500.0,255600.0,227599.99999999997,120600.0,322600.0,74300.0,229800.0,74800.0,80400.0,81100.0,74100.0,72300.0,72500.0,80600.0,77100.0,190900.0,230399.99999999997,231599.99999999997,225000.0,296200.0,187500.0,250400.0,387500.0,410400.0,362500.0,270800.0,450399.99999999994,493000.0,500000.99999999994,442100.0,500000.99999999994,500000.99999999994,500000.99999999994,500000.0,500000.99999999994,500000.99999999994,500000.99999999994,482900.0,500000.99999999994,500000.99999999994,500000.99999999994,500000.99999999994,500000.99999999994,500000.99999999994,500000.99999999994,500000.99999999994,500000.99999999994,500000.99999999994,500000.99999999994,345400.0,93800.0,392200.0,500000.99999999994,350000.0,500000.99999999994,500000.99999999994,500000.99999999994,500000.99999999994,500000.99999999994,500000.99999999994,500000.99999999994,500000.99999999994,500000.99999999994,500000.99999999994,500000.99999999994,477299.99999999994,500000.99999999994,106300.0,450699.99999999994,455000.0,500000.99999999994,295400.0,265200.0,225999.99999999997,245500.0,253100.0,441099.99999999994,339800.0,261800.0,272300.0,217899.99999999997,284100.0,276800.0,268400.0,310900.0,325400.0,326100.0,311100.0,317900.0,335700.0,268800.0,307600.0,236400.0,407000.0,471300.0,490800.00000000006,458500.0,500000.99999999994,500000.99999999994,500000.99999999994,312500.0,500000.99999999994,484600.0,439100.0,500000.99999999994,471400.00000000006,366700.0,500000.99999999994,500000.99999999994,222100.0,215200.0,185400.0,272000.0,192900.0,188700.0,225000.0,177800.0,358800.0,381500.0,226300.0,271600.0,213400.0,225000.0,182500.0,225000.0,181300.0,225400.0,211500.00000000003,220000.00000000003,275000.0,244600.00000000003,336500.0,367000.0,224100.0,209700.0,220100.0,263800.0,261000.0,245600.0,264200.0,374200.0,430900.0,414700.0,213000.0,229500.0,218400.00000000003,249200.0,266100.0,260300.00000000003,275900.0,253500.0,243299.99999999997,180900.0,193800.0,161000.0,192600.0,316600.0,275000.0,181300.0,233100.0,152800.0,157500.0,155500.0,262500.0,266400.0,246000.0,184900.0,185200.0,245000.00000000003,225800.0,116700.0,240499.99999999997,205399.99999999997,137500.0,182100.0,180700.0,155200.0,197800.0,183500.0,177500.0,165300.0,170000.0,260500.0,202400.0,233300.00000000003,252000.0,266300.0,305200.0,161700.0,145700.0,129200.0,190800.0,162500.0,150500.0,157700.0,165900.0,174000.0,150600.0,159100.0,114999.99999999999,175000.0,121400.0,134600.0,112500.0,131500.0,154200.0,173400.0,123200.0,117500.0,159800.0,171400.0,165300.0,175900.0,170800.0,177400.0,182100.0,180200.0,158500.0,177000.0,172500.0,165600.0,159100.0,162500.0,177400.0,164100.0,166400.0,163500.0,170500.0,139200.0,158400.0,160600.0,159500.0,180400.0,166700.0,183200.0,179900.0,178500.0,111000.00000000001,173100.0,151700.0,159000.0,154400.0,163900.0,151800.0,151900.0,159400.0,140300.0,158900.0,148500.0,163500.0,183300.0,144400.0,162500.0,158000.0,137500.0,102499.99999999999,350000.0,235500.0,205300.0,195400.0,187200.0,176800.0,163000.0,177200.0,170100.0,187500.0,288800.0,237400.0,195000.0,189600.0,192700.0,320300.0,311300.0,240300.0,205300.0,218800.00000000003,204700.00000000003,215700.0,219400.0,139500.0,213800.0,206500.0,233100.0,249100.0,229599.99999999997,296400.0,236500.00000000003,146500.0,137800.0,210200.0,252199.99999999997,247200.0,252800.0,216900.0,140600.0,234200.0,137000.0,225000.0,223000.0,183600.0,160400.0,366800.0,487200.0,500000.99999999994,500000.99999999994,286600.0,290200.0,227800.0,451300.0,438999.99999999994,500000.99999999994,481500.00000000006,374000.0,500000.99999999994,324600.0,203200.0,285400.0,287800.0,359200.0,265600.0,281800.0,349500.0,334600.0,477100.0,377600.0,231400.0,165600.0,218100.0,222300.0,221000.0,196000.0,235700.00000000003,220100.0,199600.0,229199.99999999997,248000.0,211900.00000000003,318500.0,270500.0,274700.0,500000.99999999994,500000.99999999994,500000.99999999994,431799.99999999994,500000.99999999994,456900.0,267600.0,150000.0,225599.99999999997,244000.0,234200.0,236700.0,200000.0,236800.0,146400.0,211000.0,212100.0,215000.0,225000.0,236400.0,187500.0,178800.0,168500.0,173500.0,186000.0,190400.0,194500.0,219899.99999999997,190300.0,193800.0,197900.0,271700.0,159400.0,247300.0,232399.99999999997,227100.0,219400.0,153100.0,248100.0,234500.00000000003,216699.99999999997,194100.0,244899.99999999997,222100.0,230600.0,230900.00000000003,251200.0,232600.0,182800.0,200800.0,211800.0,179100.0,187500.0,216200.0,140500.0,280100.0,235400.0,238499.99999999997,223800.0,231000.0,241200.0,266700.0,225000.0,231999.99999999997,249400.00000000003,223900.0,224700.0,213899.99999999997,225000.0,187100.0,193500.0,273000.0,186200.0,201300.0,187400.0,195100.0,225000.0,262700.0,237300.00000000003,231400.0,139000.0,249200.0,254100.0,158500.0,166100.0,223000.0,170100.0,156700.0,175400.0,180000.0,162500.0,118100.0,168600.0,178400.0,183900.0,163900.0,196900.0,186200.0,189900.0,203500.0,189200.0,182900.0,185700.0,183700.0,173400.0,180000.0,135400.0,182100.0,181500.0,191100.0,189600.0,170700.0,186300.0,186800.0,190200.0,191700.0,219000.0,255500.00000000003,187500.0,220699.99999999997,185800.0,204700.00000000003,225900.0,202300.0,219600.00000000003,196100.0,212500.0,224800.00000000003,199000.0,252100.0,191400.0,215499.99999999997,228500.0,200000.0,218100.0,230799.99999999997,200900.0,205200.0,197700.0,197400.0,137500.0,298900.0,171400.0,350000.0,217800.0,215400.0,196900.0,213200.0,216699.99999999997,220800.00000000003,210900.0,186300.0,187200.0,208100.0,228600.0,198800.0,220000.00000000003,171300.0,201900.0,287100.0,282500.0,350000.0,164700.0,175000.0,212500.0,165400.0,168100.0,160600.0,161400.0,179300.0,166400.0,170800.0,166900.0,152400.0,184600.0,182900.0,153100.0,179600.0,166300.0,205100.00000000003,218000.00000000003,159500.0,45000.0,157500.0,350000.0,212500.0,238000.0,214299.99999999997,227400.0,243200.0,254800.0,172200.0,231900.0,208700.00000000003,224700.0,183400.0,197400.0,195200.0,177400.0,182500.0,180000.0,180400.0,209400.0,195200.0,183900.0,240700.0,201799.99999999997,174700.0,177100.0,202800.0,153800.0,146300.0,162500.0,196500.0,189600.0,182900.0,153100.0,162500.0,181800.0,183100.0,215600.0,206300.00000000003,180600.0,180800.0,169000.0,190500.0,167800.0,227500.0,179700.0,191400.0,225599.99999999997,211400.0,143500.0,213000.0,213300.0,187500.0,224200.0,173900.0,203799.99999999997,180200.0,231300.00000000003,221800.0,218000.00000000003,188400.0,218299.99999999997,191000.0,214500.0,229199.99999999997,214299.99999999997,190600.0,214600.0,215700.0,236500.00000000003,231300.00000000003,199200.0,190800.0,193400.0,190500.0,198700.0,184300.0,170300.0,177900.0,182300.0,190300.0,184000.0,186500.0,133800.0,170800.0,175900.0,171100.0,166100.0,190700.0,236100.00000000003,188500.0,269300.0,181800.0,180900.0,222800.00000000003,162200.0,350000.0,179600.0,160900.0,169800.0,194000.0,174200.0,196900.0,187500.0,189500.0,193900.0,176100.0,188000.0,184200.0,176200.0,191400.0,186700.0,237300.00000000003,196300.0,276100.0,231400.0,183900.0,190700.0,190400.0,174100.0,162800.0,141600.0,161800.0,177900.0,137500.0,147500.0,194800.0,182300.0,190400.0,167400.0,174300.0,215099.99999999997,156300.0,142800.0,160000.0,142600.0,153000.0,87500.0,186500.0,159700.0,162500.0,189300.0,179500.0,207200.0,211400.0,201200.0,225199.99999999997,271900.0,160500.0,229999.99999999997,218800.00000000003,229599.99999999997,224800.00000000003,273800.0,230700.0,219200.00000000003,152100.0,260900.0,230399.99999999997,265000.0,239200.0,252800.0,137300.0,372400.0,329800.0,337400.0,197900.0,211300.0,294900.0,137500.0,139200.0,262000.0,222500.0,224200.0,229999.99999999997,347600.0,301800.0,273400.0,288000.0,318200.0,295600.0,319500.0,205799.99999999997,225800.0,274200.0,342600.0,290900.0,304500.0,306500.0,276500.0,158800.0,284500.0,284600.0,231900.0,350200.0,292000.0,390500.0,279300.0,289600.0,290400.0,316700.0,278000.0,264600.0,252900.0,286100.0,229400.0,239200.0,213000.0,247200.0,265100.0,281500.0,382100.0,333300.0,350600.0,339300.0,344000.0,289800.0,343300.0,363100.0,383900.0,269800.0,219700.0,240400.0,243100.0,264700.0,279400.0,330700.0,180300.0,369100.0,281900.0,332900.0,390800.0,232100.00000000003,447700.00000000006,397600.0,429200.0,442699.99999999994,408300.0,273600.0,186900.0,234600.0,216699.99999999997,282200.0,350000.0,262500.0,252900.0,353100.0,268800.0,271400.0,477700.0,285400.0,387800.0,279700.0,237500.0,216699.99999999997,331900.0,285700.0,267800.0,302500.0,336900.0,261000.0,237800.0,250900.0,342800.0,220800.00000000003,255700.0,134800.0,188500.0,295600.0,302700.0,500000.99999999994,248800.0,216400.00000000003,350000.0,287800.0,395300.0,271400.0,437899.99999999994,169400.0,188900.0,182500.0,295100.0,396900.0,380000.0,400000.0,346400.0,500000.99999999994,422200.00000000006,390500.0,495500.0,457100.0,500000.99999999994,500000.99999999994,484999.99999999994,500000.99999999994,500000.99999999994,500000.99999999994,461599.99999999994,500000.99999999994,401700.00000000006,500000.99999999994,500000.99999999994,340700.0,266100.0,226100.0,174500.0,62000.0,87500.0,67500.0,68500.0,46900.0,58500.0,61300.0,54300.00000000001,46700.0,71300.0,67500.0,176000.0,186000.0,137500.0,316700.0,214800.0,231199.99999999997,221900.0,338800.0,235600.0,235800.0,248200.00000000003,234100.00000000003,264900.0,180000.0,199600.0,184400.0,207500.00000000003,240000.0,304700.0,248100.0,284900.0,202400.0,197400.0,190900.0,177700.0,191800.0,150000.0,192500.0,210600.0,207500.00000000003,211500.00000000003,195800.0,204100.0,217499.99999999997,191900.0,177700.0,192800.0,194200.0,211700.0,179200.0,208800.0,221200.00000000003,181300.0,218900.0,255900.00000000003,223500.0,294900.0,237600.0,216600.0,223200.00000000003,228900.00000000003,207399.99999999997,257500.00000000003,233100.0,270100.0,259400.0,247100.0,369400.0,384500.0,376200.0,342700.0,362400.0,360100.0,372000.0,364700.0,340100.0,240400.0,258000.0,193800.0,359600.0,219499.99999999997,390900.0,353500.0,359100.0,355600.0,245100.0,196900.0,320700.0,212500.0,195300.0,193100.0,277400.0,256000.0,329700.0,320700.0,273900.0,201900.0,159600.0,190900.0,263000.0,398800.0,218200.0,237500.0,244400.0,245299.99999999997,318500.0,258300.00000000003,260000.0,198400.0,229599.99999999997,132800.0,226399.99999999997,286700.0,343900.0,386700.0,163800.0,213400.0,241000.0,216100.0,234600.0,237400.0,289300.0,279200.0,315900.0,313100.0,328500.0,344400.0,208599.99999999997,215600.0,196000.0,217600.00000000003,204500.0,192300.0,190100.0,200900.0,220699.99999999997,213000.0,203700.0,224100.0,209300.0,195200.0,188000.0,194200.0,202100.0,213400.0,214100.0,226399.99999999997,187200.0,212600.0,197200.0,202999.99999999997,192600.0,206999.99999999997,195100.0,165100.0,185700.0,178000.0,268100.0,269600.0,159400.0,161100.0,170800.0,174000.0,165600.0,217000.0,161900.0,176100.0,393700.0,240600.0,160500.0,347800.0,181800.0,137500.0,185100.0,218500.0,367400.0,321600.0,462800.0,143800.0,124000.0,170000.0,200000.0,171900.0,127800.0,146900.0,145800.0,176600.0,283300.0,179200.0,360000.0,213200.0,196900.0,158300.0,153300.0,146900.0,169500.0,163500.0,123800.0,154500.0,99300.0,93600.0,225000.0,139300.0,146800.0,101000.0,118200.0,97700.0,143000.0,138400.0,184300.0,139000.0,122200.0,239400.0,216500.0,128099.99999999999,193100.0,220100.0,237100.0,287800.0,276600.0,236500.00000000003,233000.0,217499.99999999997,277800.0,220100.0,239200.0,264400.0,394000.0,334800.0,273100.0,247600.0,229599.99999999997,203700.0,154900.0,172100.0,135900.0,267400.0,198700.0,179400.0,128499.99999999999,134700.0,139200.0,220100.0,186300.0,129200.0,86300.0,83800.0,87900.0,169300.0,101899.99999999999,85300.0,187500.0,201399.99999999997,147900.0,141100.0,136500.0,142600.0,218000.00000000003,217300.0,188700.0,173200.0,110200.00000000001,92000.0,124800.0,209400.0,151900.0,139400.0,124400.0,162700.0,126400.0,82100.0,192600.0,191400.0,108700.0,93600.0,110800.00000000001,99300.0,91300.0,111300.0,212000.0,135500.0,190500.0,125000.0,164000.0,158800.0,220600.0,196300.0,158600.0,55300.00000000001,212800.0,201900.0,191900.0,192300.0,156100.0,167700.0,150700.0,153200.0,166800.0,162900.0,174300.0,185400.0,312500.0,142700.0,128899.99999999999,118800.0,175000.0,141300.0,244000.0,139100.0,148000.0,151500.0,87800.0,83500.0,70900.0,81900.0,96600.0,118800.0,102499.99999999999,88200.0,102000.0,130500.0,126499.99999999999,83000.0,88800.0,71900.0,100000.0,55900.00000000001,75900.0,92800.0,82500.0,89200.0,69600.0,57999.99999999999,75000.0,89400.0,67500.0,93600.0,77100.0,193800.0,137500.0,143800.0,113399.99999999999,111500.0,145200.0,87800.0,92900.0,88900.0,90600.0,105100.0,124200.0,123800.0,141700.0,101600.0,169100.0,125000.0,96700.0,155000.0,162500.0,95800.0,114199.99999999999,82300.0,92400.0,79900.0,84800.0,125000.0,112500.0,85900.0,122500.00000000001,82200.0,80700.0,216600.0,235200.0,204800.0,219600.00000000003,315200.0,136200.0,150000.0,129299.99999999999,125499.99999999999,117900.0,148900.0,134800.0,118800.0,123400.0,157800.0,112500.0,116500.0,115300.0,111500.0,117300.0,132100.0,123900.00000000001,110800.00000000001,98100.0,112700.0,133800.0,122900.00000000001,120700.00000000001,121400.0,114399.99999999999,142600.0,140100.0,136800.0,127899.99999999999,109100.0,82700.0,81300.0,89300.0,112000.00000000001,115999.99999999999,117600.0,112500.0,125600.0,118500.0,113500.0,113900.0,104500.0,113300.0,129299.99999999999,109400.00000000001,115999.99999999999,103699.99999999999,114100.0,126899.99999999999,118700.0,129900.0,113900.0,110800.00000000001,121400.0,113300.0,113700.0,314100.0,148700.0,138000.0,193800.0,87800.0,92000.0,97800.0,162800.0,86800.0,76200.0,83400.0,152200.0,119500.0,95200.0,98300.0,88600.0,96600.0,116900.0,171300.0,128499.99999999999,116399.99999999999,114999.99999999999,160600.0,138700.0,158100.0,121100.00000000001,108200.00000000001,142400.0,135300.0,145500.0,124700.00000000001,182900.0,141000.0,141000.0,137500.0,375000.0,153100.0,75000.0,203200.0,163900.0,164300.0,257100.00000000003,271900.0,229400.0,203399.99999999997,137600.0,191700.0,164800.0,220800.00000000003,250999.99999999997,154300.0,163300.0,198800.0,233500.0,246400.0,214600.0,244200.00000000003,135600.0,139100.0,115599.99999999999,146800.0,169100.0,99600.0,124600.0,139200.0,143400.0,85800.0,88500.0,112900.0,117300.0,127099.99999999999,114700.0,132800.0,121100.00000000001,110500.0,105600.0,105400.0,122000.0,126099.99999999999,124600.0,127299.99999999999,144800.0,149900.0,159100.0,141100.0,334100.0,158000.0,123800.0,102499.99999999999,91000.0,239800.0,96200.0,107900.0,108800.00000000001,138200.0,112999.99999999999,119400.0,110600.00000000001,113500.0,117000.0,107000.0,116100.0,122800.0,165000.0,163900.0,144300.0,142100.0,195300.0,339300.0,195100.0,216699.99999999997,500000.99999999994,221400.0,177100.0,137100.0,204800.0,150300.0,161000.0,138100.0,257900.00000000003,111000.00000000001,189800.0,195600.0,160800.0,215000.0,189800.0,187800.0,211300.0,267900.0,240499.99999999997,110000.00000000001,161300.0,127899.99999999999,118000.0,295200.0,249100.0,223600.00000000003,123200.0,173900.0,152700.0,184500.0,144500.0,236500.00000000003,214500.0,216500.0,162500.0,162500.0,101600.0,103400.0,133500.0,140300.0,160600.0,95300.0,85400.0,129900.0,132600.0,142000.0,138700.0,163300.0,155500.0,223200.00000000003,197700.0,135700.0,86900.0,127200.0,164800.0,113900.0,113199.99999999999,137600.0,124600.0,127200.0,136600.0,114199.99999999999,117000.0,130900.0,152600.0,143500.0,121500.00000000001,244400.0,143000.0,500000.99999999994,136300.0,187500.0,161300.0,100000.0,122100.00000000001,113700.0,97900.0,110100.0,98600.0,83300.0,92400.0,83500.0,136400.0,228900.00000000003,113399.99999999999,125899.99999999999,117200.0,177300.0,145800.0,139600.0,161200.0,148200.0,169300.0,96100.0,155400.0,109200.00000000001,145300.0,148800.0,126499.99999999999,90500.0,112500.0,71300.0,111500.0,140700.0,89300.0,81500.0,83000.0,118300.0,173300.0,146500.0,104200.0,129200.0,101299.99999999999,110000.00000000001,114599.99999999999,168700.0,123800.0,154300.0,157400.0,111300.0,100600.0,125000.0,131800.0,132600.0,109200.00000000001,162200.0,163600.0,465599.99999999994,159300.0,155600.0,210700.00000000003,150900.0,174300.0,215300.0,145600.0,187300.0,147500.0,347700.0,392100.0,307600.0,337200.0,221900.0,493300.0,187500.0,500000.99999999994,191100.0,212300.00000000003,174200.0,43000.0,183000.0,429000.0,500000.99999999994,134700.0,189700.0,201300.0,173900.0,93800.0,143800.0,97800.0,127899.99999999999,85800.0,109500.0,121500.00000000001,112799.99999999999,89400.0,87000.0,94500.0,91200.0,118900.0,120000.0,132300.0,76300.0,86200.0,77500.0,77000.0,85700.0,76900.0,87600.0,137600.0,105100.0,95900.0,107900.0,69400.0,94400.0,112500.0,113100.0,120700.00000000001,139300.0,108900.0,95300.0,77700.0,83000.0,74800.0,74000.0,56699.99999999999,130800.0,140000.0,81700.0,123400.0,170700.0,104900.0,94400.0,132100.0,195900.0,118800.0,116300.0,112100.0,149000.0,105200.0,187500.0,81900.0,147500.0,57999.99999999999,90000.0,63000.0,81800.0,146300.0,55000.00000000001,91100.0,89800.0,73200.0,91200.0,73200.0,68300.0,98600.0,95600.0,72600.0,55000.00000000001,71800.0,193800.0,73400.0,54600.00000000001,73100.0,81000.0,143400.0,100000.0,150500.0,161100.0,214299.99999999997,163500.0,137500.0,128099.99999999999,122900.00000000001,115300.0,345500.0,173400.0,103099.99999999999,113500.0,155700.0,74400.0,66300.0,61000.0,68100.0,50000.0,76600.0,88400.0,78500.0,89600.0,61100.0,68200.0,66600.0,66000.0,89400.0,85200.0,81000.0,146400.0,100000.0,71000.0,130400.0,70400.0,230200.0,110900.0,500000.99999999994,159000.0,112500.0,87500.0,65900.0,145200.0,115599.99999999999,321900.0,90000.0,94800.0,162200.0,124100.00000000001,199400.0,148900.0,183900.0,301600.0,248100.0,235600.0,220500.0,125200.0,137500.0,145200.0,142500.0,104200.0,90900.0,136400.0,115100.0,285000.0,232100.00000000003,134600.0,341700.0,259200.0,99100.0,239299.99999999997,194500.0,158500.0,131900.0,55000.00000000001,83000.0,122500.00000000001,113599.99999999999,134500.0,121300.00000000001,128000.0,258100.0,238800.0,152300.0,97500.0,500000.99999999994,403300.00000000006,168800.0,177800.0,138300.0,318100.0,353100.0,231300.00000000003,137500.0,93400.0,91800.0,98000.0,102600.0,105800.0,92900.0,124700.00000000001,96700.0,199300.0,167400.0,67500.0,50000.0,93400.0,95000.0,104099.99999999999,69400.0,68200.0,68900.0,68500.0,72100.0,82200.0,58800.0,60600.0,76900.0,90000.0,112500.0,84700.0,65400.0,96300.0,100899.99999999999,100000.0,366700.0,382400.0,58600.0,100000.0,66400.0,68900.0,61400.0,65900.0,47500.0,67500.0,66700.0,155000.0,74000.0,76100.0,53500.0,27500.000000000004,71700.0,71300.0,87500.0,94900.0,44400.0,85700.0,73400.0,65500.0,45000.0,58399.99999999999,61500.0,86500.0,74000.0,275000.0,82400.0,62000.0,155700.0,163700.0,161400.0,147100.0,142000.0,164500.0,148800.0,153900.0,147900.0,181600.0,109800.00000000001,115100.0,137500.0,109300.0,94300.0,140600.0,90300.0,70500.0,85000.0,168800.0,162500.0,125000.0,77500.0,137500.0,137500.0,141700.0,187500.0,93800.0,87900.0,150000.0,123900.00000000001,114100.0,200000.0,168100.0,157500.0,236100.00000000003,233800.0,111800.00000000001,140000.0,213200.0,158900.0,156700.0,131700.0,131900.0,139400.0,125899.99999999999,137800.0,232500.00000000003,173800.0,98900.0,100099.99999999999,77600.0,122800.0,121200.0,97000.0,85600.0,104000.0,84100.0,68500.0,65400.0,85900.0,95800.0,88100.0,113599.99999999999,134700.0,114300.0,87500.0,86900.0,108800.00000000001,94600.0,87500.0,93800.0,80000.0,123100.00000000001,137500.0,137900.0,137200.0,103499.99999999999,151100.0,209800.0,137800.0,123000.0,405800.0,224100.0,236800.0,179800.0,228700.0,162500.0,94300.0,175000.0,191900.0,125000.0,65400.0,55800.00000000001,56699.99999999999,67000.0,94600.0,56000.00000000001,58299.99999999999,58199.99999999999,56999.99999999999,108000.0,92700.0,101499.99999999999,92400.0,86600.0,87600.0,94300.0,101299.99999999999,93600.0,75700.0,79000.0,72100.0,71200.0,71800.0,82700.0,81900.0,80600.0,66800.0,87800.0,72600.0,72100.0,78300.0,76600.0,192000.0,114300.0,191900.0,216600.0,59100.0,171300.0,251600.0,181400.0,101600.0,130600.0,78400.0,103899.99999999999,96400.0,96800.0,124200.0,73500.0,62300.0,52500.0,54400.00000000001,65400.0,152900.0,84500.0,87900.0,98500.0,79500.0,164800.0,160300.0,171200.0,156900.0,158300.0,180200.0,216800.00000000003,204599.99999999997,183600.0,217899.99999999997,216800.00000000003,178900.0,184400.0,212200.0,152800.0,174500.0,95800.0,72300.0,70300.0,77700.0,78200.0,83400.0,78600.0,74600.0,78800.0,76200.0,68000.0,67300.0,60500.0,69900.0,75400.0,87000.0,63900.0,65400.0,55700.00000000001,66800.0,110000.00000000001,99500.0,137500.0,80000.0,60400.0,69700.0,75900.0,71200.0,70300.0,72100.0,84100.0,65600.0,82400.0,96800.0,97500.0,90400.0,87900.0,107900.0,109800.00000000001,109300.0,103099.99999999999,90500.0,109800.00000000001,98700.0,93100.0,103000.0,115999.99999999999,106300.0,108900.0,92000.0,55000.00000000001,137400.0,133700.0,130900.0,126200.0,154300.0,142500.0,156300.0,142400.0,67500.0,82100.0,67500.0,137500.0,179500.0,387000.0,338700.0,297600.0,190700.0,327800.0,89600.0,102800.0,111400.00000000001,95700.0,55000.00000000001,105500.0,104200.0,114500.0,99100.0,141400.0,136600.0,118800.0,136400.0,103000.0,108100.0,113599.99999999999,124600.0,156800.0,98700.0,93400.0,448299.99999999994,136800.0,283300.0,446400.00000000006,148600.0,207799.99999999997,280400.0,191700.0,189400.0,194100.0,115700.0,170100.0,133000.0,133600.0,144100.0,265700.0,225700.0,344000.0,320200.0,267200.0,225900.0,380000.0,175200.0,146400.0,164000.0,134100.0,159500.0,133000.0,164500.0,139300.0,143400.0,120700.00000000001,141100.0,151800.0,166100.0,116500.0,115300.0,115599.99999999999,127099.99999999999,114100.0,126899.99999999999,118900.0,150400.0,156900.0,170500.0,160900.0,130400.0,98700.0,113199.99999999999,118800.0,97500.0,88600.0,84400.0,65200.0,64900.0,78000.0,67000.0,73100.0,73000.0,63300.0,66800.0,64400.0,60500.0,58500.0,49800.0,77400.0,65900.0,70500.0,62100.0,122200.0,62200.0,55900.00000000001,71000.0,64700.0,61000.0,110000.00000000001,103400.0,92600.0,60600.0,67000.0,67600.0,51700.0,59800.0,63100.0,81400.0,60900.0,60900.0,70100.0,158900.0,70000.0,66300.0,135600.0,67500.0,69300.0,65800.0,67500.0,331300.0,178800.0,129299.99999999999,134500.0,225000.0,117000.0,129700.0,105300.0,96600.0,89400.0,108600.00000000001,383300.0,91900.0,135500.0,99800.0,101200.0,96200.0,90400.0,93900.0,96200.0,94400.0,112200.00000000001,105200.0,94900.0,89200.0,103000.0,97300.0,96800.0,91300.0,81100.0,120500.0,112500.0,87000.0,84200.0,84200.0,83400.0,84000.0,84400.0,108300.0,80200.0,88200.0,72900.0,77000.0,93800.0,78800.0,72700.0,78400.0,73400.0,112500.0,95000.0,89500.0,88400.0,88200.0,112700.0,114300.0,120000.0,98600.0,151300.0,133000.0,107000.0,93300.0,129600.0,82500.0,116599.99999999999,86000.0,96500.0,103299.99999999999,100499.99999999999,109500.0,99300.0,124000.0,118500.0,120700.00000000001,92900.0,130700.0,137500.0,133100.0,105700.0,116100.0,159700.0,107900.0,105500.0,198500.0,199000.0,183200.0,161000.0,119500.0,139700.0,161700.0,156800.0,135800.0,153000.0,142200.0,166100.0,148000.0,162100.0,288200.0,213000.0,150000.0,150500.0,240000.0,177900.0,148300.0,190200.0,326700.0,160000.0,195400.0,158500.0,136400.0,140500.0,163400.0,143600.0,157700.0,165700.0,139000.0,139200.0,144300.0,121600.0,232300.0,196000.0,249400.00000000003,212900.0,169500.0,250300.0,216100.0,169600.0,221600.00000000003,188700.0,189800.0,258700.00000000003,270600.0,159800.0,213499.99999999997,217400.0,173300.0,147300.0,186200.0,350000.0,242099.99999999997,117100.0,112900.0,113500.0,143200.0,121200.0,124700.00000000001,115399.99999999999,124500.00000000001,142900.0,99900.0,103800.0,131900.0,122200.0,127499.99999999999,102000.0,124900.00000000001,118400.0,126000.0,117800.0,122700.00000000001,146400.0,130600.0,91600.0,135700.0,130200.0,125400.0,115500.0,114500.0,132500.0,134900.0,82500.0,134300.0,119800.0,140600.0,143000.0,117100.0,125400.0,145300.0,145600.0,133000.0,166800.0,144400.0,137000.0,134500.0,112799.99999999999,135500.0,135600.0,167400.0,276100.0,244300.0,141800.0,149000.0,124300.00000000001,111600.00000000001,128699.99999999999,147300.0,160000.0,158800.0,144000.0,130500.0,162700.0,142900.0,143400.0,146600.0,243200.0,390800.0,274500.0,131700.0,137500.0,139000.0,214699.99999999997,170500.0,148700.0,133000.0,131700.0,143800.0,145800.0,130700.0,112100.0,147000.0,115399.99999999999,171000.0,179200.0,204800.0,225000.0,293300.0,121900.00000000001,115999.99999999999,159000.0,189600.0,131600.0,222500.0,212500.0,263100.0,203399.99999999997,273200.0,55000.00000000001,112500.0,101899.99999999999,136100.0,123700.00000000001,132700.0,116900.0,103400.0,95600.0,96100.0,103299.99999999999,110500.0,115599.99999999999,111600.00000000001,112500.0,109100.0,127499.99999999999,109400.00000000001,101099.99999999999,108700.0,104400.0,165000.0,91300.0,90700.0,112500.0,113300.0,101600.0,150000.0,92500.0,95600.0,89600.0,92400.0,118600.0,113999.99999999999,116300.0,113500.0,135800.0,118000.0,129500.0,140200.0,134100.0,134500.0,123300.00000000001,126899.99999999999,118800.0,132400.0,138000.0,125499.99999999999,32500.0,52500.0,157500.0,157700.0,130600.0,145900.0,237600.0,209900.00000000003,144400.0,240899.99999999997,247500.0,188400.0,125699.99999999999,91200.0,150400.0,138700.0,154400.0,143500.0,94400.0,144400.0,148100.0,241100.0,175700.0,213800.0,219300.0,191700.0,151600.0,157800.0,160200.0,144600.0,156700.0,82000.0,170100.0,155400.0,104600.0,88300.0,134600.0,86100.0,121200.0,97800.0,100299.99999999999,96200.0,95900.0,108900.0,103600.0,153700.0,162500.0,137500.0,72900.0,92500.0,136800.0,52800.0,162500.0,89700.0,374200.0,293800.0,265900.0,193600.0,210000.0,241500.0,363300.0,146200.0,225000.0,145900.0,157300.0,136500.0,155300.0,192200.0,145400.0,192400.0,217600.00000000003,243000.00000000003,221200.00000000003,216000.0,207900.00000000003,180400.0,170800.0,202500.0,290500.0,336800.0,100000.0,225000.0,289600.0,500000.99999999994,206700.00000000003,292400.0,254900.0,187800.0,137200.0,252199.99999999997,426900.0,184200.0,140200.0,107300.0,121800.0,134300.0,129200.0,142500.0,131000.0,136000.0,128200.0,139300.0,137300.0,128400.0,114399.99999999999,144000.0,150000.0,95300.0,91300.0,187500.0,128899.99999999999,162500.0,160400.0,130500.0,104299.99999999999,107000.0,182600.0,163000.0,222100.0,231800.0,161800.0,236800.0,213000.0,179700.0,225400.0,111600.00000000001,193100.0,157700.0,164400.0,165500.0,124300.00000000001,162500.0,123500.00000000001,95600.0,213499.99999999997,360100.0,392900.0,286300.0,277000.0,325000.0,310500.0,395500.0,354000.0,345400.0,304100.0,307100.0,191700.0,254100.0,390500.0,406700.0,255900.00000000003,242700.0,226799.99999999997,202900.0,176600.0,146900.0,165600.0,119300.0,259400.0,208599.99999999997,251100.0,230500.00000000003,239000.0,233500.0,137500.0,163000.0,174000.0,155700.0,136400.0,145300.0,150000.0,106000.0,148800.0,101000.0,166300.0,162500.0,151500.0,145600.0,158800.0,243900.0,192800.0,122800.0,114100.0,121300.00000000001,116300.0,115799.99999999999,139300.0,137300.0,137200.0,123400.0,135000.0,121300.00000000001,166400.0,144900.0,139600.0,114900.0,137000.0,138100.0,141000.0,157200.0,130400.0,122800.0,144300.0,158200.0,118000.0,122600.0,111700.0,106700.0,127000.0,116300.0,126200.0,132000.0,111800.00000000001,136000.0,128800.0,135500.0,144000.0,158700.0,159800.0,113199.99999999999,117200.0,112500.0,128899.99999999999,98100.0,111200.00000000001,108300.0,110400.00000000001,91800.0,90500.0,79200.0,85700.0,88300.0,104000.0,108600.00000000001,113599.99999999999,162000.0,147600.0,147500.0,151000.0,159900.0,167500.0,194300.0,99700.0,186500.0,159100.0,185500.0,178500.0,207900.00000000003,149100.0,100000.0,96900.0,95700.0,137000.0,102499.99999999999,159100.0,158000.0,175400.0,195100.0,176000.0,164100.0,170300.0,160400.0,175400.0,103600.0,150200.0,202300.0,416700.0,500000.0,275000.0,181300.0,201100.0,225000.0,183300.0,245200.0,343100.0,225199.99999999997,181800.0,131500.0,191700.0,191700.0,315000.0,206300.00000000003,361400.0,231700.00000000003,311500.0,245600.0,164600.0,156900.0,169600.0,157600.0,155700.0,178700.0,181300.0,132600.0,139300.0,127800.0,100800.0,120400.0,118800.0,161400.0,152500.0,174800.0,158900.0,116399.99999999999,103000.0,141900.0,134100.0,119000.0,116100.0,141000.0,93500.0,108800.00000000001,101600.0,99200.0,98600.0,90600.0,120700.00000000001,113399.99999999999,117400.0,106400.0,112500.0,143100.0,195600.0,125000.0,207700.0,154700.0,143400.0,143700.0,147300.0,161400.0,149200.0,181800.0,137500.0,121700.00000000001,105800.0,91100.0,111900.0,115399.99999999999,99500.0,109800.00000000001,89900.0,95100.0,97400.0,113799.99999999999,116399.99999999999,128299.99999999999,127699.99999999999,127400.0,120200.0,127499.99999999999,121700.00000000001,113500.0,95300.0,105500.0,92000.0,105400.0,95600.0,130600.0,102000.0,105500.0,128099.99999999999,138900.0,132700.0,96300.0,101200.0,103800.0,112500.0,119800.0,112900.0,118500.0,107800.0,140800.0,105200.0,140500.0,127600.0,95500.0,114999.99999999999,112599.99999999999,122400.0,262500.0,125800.0,133200.0,130700.0,122700.00000000001,96800.0,88100.0,86100.0,91300.0,126499.99999999999,107100.0,118200.0,133200.0,132000.0,87600.0,88600.0,92800.0,112300.0,101600.0,81800.0,96400.0,146800.0,79200.0,72700.0,67800.0,66600.0,69700.0,81600.0,84500.0,73400.0,70400.0,70500.0,66400.0,69000.0,93200.0,72400.0,70600.0,70300.0,68100.0,67300.0,70400.0,105600.0,90600.0,88400.0,103800.0,111500.0,133200.0,221300.0,164300.0,155000.0,122200.0,86800.0,88300.0,111100.0,89700.0,87100.0,106500.0,137100.0,109000.00000000001,124900.00000000001,119900.0,106300.0,131000.0,122200.0,114999.99999999999,88000.0,85500.0,89000.0,86100.0,89400.0,96000.0,90800.0,65500.0,64800.0,70900.0,68500.0,66400.0,67000.0,64000.0,64900.0,64100.0,68100.0,63400.0,69500.0,78800.0,59700.0,75200.0,73700.0,159700.0,122200.0,97400.0,97000.0,99100.0,122100.00000000001,90700.0,135000.0,93300.0,97300.0,102600.0,81900.0,82900.0,97600.0,90000.0,88100.0,77100.0,76800.0,79500.0,77900.0,70600.0,65800.0,75800.0,71500.0,66900.0,66100.0,68200.0,72100.0,63500.0,70800.0,78800.0,68000.0,69500.0,71300.0,68300.0,75000.0,90800.0,73300.0,159400.0,116599.99999999999,91500.0,97600.0,88300.0,98000.0,123700.00000000001,250000.0,88800.0,114500.0,96400.0,97600.0,95300.0,90000.0,83400.0,72100.0,87500.0,78800.0,83800.0,87800.0,88200.0,72600.0,70800.0,70200.0,87500.0,67700.0,59300.0,62900.0,78000.0,84500.0,86700.0,95200.0,89200.0,90500.0,93700.0,99400.0,75300.0,78600.0,85500.0,84000.0,76900.0,63500.0,73100.0,67000.0,68200.0,65000.0,73100.0,74600.0,69900.0,70900.0,84000.0,81500.0,88300.0,116700.0,106300.0,134600.0,149500.0,95800.0,115700.0,111500.0,136700.0,123100.00000000001,123700.00000000001,122400.0,134500.0,151600.0,129299.99999999999,197700.0,79300.0,73000.0,85800.0,78800.0,82100.0,214500.0,161100.0,138200.0,85700.0,93000.0,106500.0,223900.0,165100.0,93300.0,137200.0,129400.0,107500.0,128400.0,140200.0,140700.0,159300.0,173200.0,160000.0,144800.0,87500.0,98900.0,81600.0,68700.0,110200.00000000001,126699.99999999999,82500.0,92900.0,113900.0,72300.0,73200.0,81300.0,73500.0,78300.0,77200.0,80400.0,90900.0,89400.0,90900.0,97700.0,143100.0,129200.0,164400.0,162500.0,173900.0,90300.0,84700.0,126499.99999999999,97400.0,75300.0,112500.0,85100.0,81900.0,72800.0,72500.0,100000.0,102699.99999999999,122300.00000000001,149300.0,140700.0,137000.0,117600.0,117800.0,134600.0,173400.0,153200.0,224700.0,137500.0,152800.0,152400.0,182400.0,381800.0,135800.0,108000.0,138100.0,129800.0,162000.0,141100.0,127400.0,204100.0,162300.0,149900.0,121500.00000000001,283100.0,117200.0,94300.0,269600.0,237200.0,217099.99999999997,230600.0,131300.0,103000.0,120800.0,163200.0,86900.0,500000.99999999994,146600.0,173200.0,220299.99999999997,191600.0,121000.0,135200.0,316700.0,111800.00000000001,96000.0,115700.0,122800.0,116300.0,106700.0,116700.0,103499.99999999999,104600.0,126200.0,113500.0,92000.0,98300.0,40400.0,35000.0,140200.0,138800.0,119600.0,130900.0,126499.99999999999,84900.0,69500.0,57899.99999999999,64700.0,73400.0,83300.0,91300.0,167100.0,176900.0,108000.0,153100.0,76600.0,55500.00000000001,61600.0,59600.0,72000.0,69400.0,70400.0,69300.0,66800.0,62000.0,98500.0,92500.0,110400.00000000001,111200.00000000001,104099.99999999999,170900.0,170600.0,116199.99999999999,92200.0,94100.0,64800.0,86900.0,101899.99999999999,109900.0,151600.0,142200.0,167800.0,148400.0,158200.0,119200.0,118500.0,90800.0,98500.0,64100.0,56499.99999999999,85400.0,79900.0,91700.0,92800.0,97100.0,103099.99999999999,98000.0,98300.0,122100.00000000001,74300.0,115599.99999999999,82300.0,100400.0,116700.0,93400.0,111800.00000000001,93100.0,194100.0,174500.0,165300.0,163100.0,302600.0,119700.0,118200.0,108300.0,105100.0,124400.0,125699.99999999999,151900.0,103400.0,120100.0,113500.0,100499.99999999999,123400.0,129700.0,98200.0,104000.0,71900.0,95600.0,121400.0,102000.0,93300.0,99300.0,108800.00000000001,81700.0,67500.0,75000.0,40000.0,64700.0,22500.0,137500.0,81000.0,65800.0,55400.00000000001,62300.0,54200.00000000001,57399.99999999999,60800.0,67400.0,75000.0,51300.0,69600.0,98100.0,65000.0,73300.0,72400.0,65300.0,84000.0,97800.0,78000.0,116300.0,42500.0,47800.0,66900.0,66800.0,65600.0,82600.0,65600.0,94500.0,41000.0,42500.0,57699.99999999999,50000.0,80100.0,66900.0,48500.0,69100.0,48100.0,48600.0,70400.0,86800.0,157200.0,133600.0,97900.0,103299.99999999999,96500.0,128600.0,117600.0,132400.0,110400.00000000001,135200.0,71300.0,253799.99999999997,255200.0,167600.0,230900.00000000003,162500.0,137200.0,165500.0,161100.0,114999.99999999999,144100.0,171900.0,123900.00000000001,108400.00000000001,87500.0,89000.0,150000.0,153500.0,124500.00000000001,189700.0,226500.0,176000.0,182800.0,132000.0,147800.0,157100.0,152600.0,133000.0,90600.0,92400.0,163100.0,90800.0,84700.0,111400.00000000001,89000.0,133900.0,117500.0,128600.0,42500.0,225000.0,157700.0,53300.0,57399.99999999999,100000.0,55600.00000000001,91400.0,57099.99999999999,66800.0,60800.0,73800.0,79800.0,88500.0,70500.0,69000.0,87200.0,80000.0,101499.99999999999,44700.0,55000.00000000001,186100.0,68300.0,112799.99999999999,77700.0,78500.0,441700.0,408500.0,459600.0,500000.99999999994,411599.99999999994,500000.99999999994,354200.0,249000.00000000003,274000.0,284700.0,289600.0,245500.0,137500.0,225000.0,243800.00000000003,261500.00000000003,240000.0,199100.0,200000.0,302200.0,214800.0,179800.0,175000.0,198700.0,204199.99999999997,171400.0,263600.0,211700.0,159400.0,172700.0,178100.0,118100.0,133300.0,129200.0,150000.0,162500.0,131300.0,164100.0,146400.0,145500.0,160000.0,171700.0,162500.0,154400.0,142900.0,140000.0,127099.99999999999,142300.0,112500.0,150000.0,135000.0,130600.0,168800.0,185300.0,174100.0,118300.0,155200.0,163400.0,157600.0,106700.0,119200.0,114599.99999999999,130000.0,116100.0,139000.0,127800.0,123600.0,114199.99999999999,128099.99999999999,118800.0,147500.0,150000.0,120500.0,190300.0,167000.0,175000.0,192200.0,331400.0,300000.0,281600.0,270800.0,216500.0,203100.0,223000.0,204400.0,139600.0,122700.00000000001,126299.99999999999,114399.99999999999,96400.0,91300.0,100000.0,100000.0,103099.99999999999,140000.0,122500.00000000001,151800.0,103400.0,94800.0,99200.0,92400.0,85200.0,90600.0,101099.99999999999,102099.99999999999,101800.0,93400.0,98700.0,90300.0,123100.00000000001,97300.0,102899.99999999999,126699.99999999999,132600.0,84400.0,93200.0,100000.0,94100.0,89800.0,100000.0,128099.99999999999,95300.0,95000.0,105000.0,95500.0,118800.0,125000.0,138100.0,154200.0,144700.0,119100.0,129200.0,115300.0,116900.0,120700.00000000001,118300.0,124700.00000000001,117700.0,110100.0,126499.99999999999,122000.0,113900.0,135100.0,122500.00000000001,111300.0,154200.0,218800.00000000003,291500.0,219200.00000000003,185500.0,184000.0,176600.0,184100.0,155400.0,159100.0,140300.0,143800.0,147700.0,161800.0,161800.0,167600.0,166800.0,158300.0,156800.0,150500.0,159600.0,155700.0,156800.0,139800.0,125899.99999999999,137300.0,141800.0,101899.99999999999,109100.0,126699.99999999999,116900.0,117000.0,104299.99999999999,89600.0,100600.0,98900.0,97000.0,125699.99999999999,145200.0,86200.0,123400.0,143000.0,135000.0,141400.0,109800.00000000001,119200.0,103000.0,99600.0,121800.0,125400.0,133000.0,118500.0,120800.0,165500.0,157700.0,154900.0,158900.0,109900.0,115799.99999999999,156900.0,142200.0,125800.0,125000.0,144300.0,113500.0,125000.0,129800.0,137800.0,150400.0,153800.0,234600.0,133400.0,303900.0,266600.0,267400.0,143800.0,165100.0,89300.0,152700.0,137500.0,158900.0,125000.0,114999.99999999999,132200.0,135000.0,179400.0,156100.0,175500.0,106300.0,84200.0,94200.0,108000.0,108300.0,83100.0,95600.0,86300.0,92600.0,124100.00000000001,137200.0,102499.99999999999,111800.00000000001,120300.0,96800.0,86900.0,87900.0,88600.0,85900.0,79400.0,83300.0,86400.0,90500.0,84100.0,83200.0,87200.0,98000.0,93400.0,91800.0,86300.0,86500.0,93800.0,88500.0,65700.0,78100.0,90100.0,75600.0,78900.0,80200.0,70200.0,78500.0,82700.0,87500.0,83300.0,120300.0,111300.0,137500.0,117900.0,159100.0,168800.0,175400.0,170100.0,240899.99999999997,213099.99999999997,203200.0,145000.0,140600.0,199100.0,221099.99999999997,139100.0,126600.0,139400.0,103099.99999999999,168800.0,156300.0,160400.0,106300.0,100000.0,87500.0,91100.0,81500.0,81300.0,72000.0,82900.0,77300.0,78800.0,87000.0,92500.0,82700.0,86500.0,89400.0,90000.0,162500.0,87500.0,86300.0,137500.0,137500.0,162500.0,22500.0,325000.0,204999.99999999997,187500.0,137500.0,250000.0,162500.0,200000.0,225000.0,116700.0,262500.0,112500.0,195800.0,215000.0,418800.0,466700.0,361500.0,289400.0,112500.0,254999.99999999997,258300.00000000003,191700.0,162500.0,300000.0,87500.0,262100.0,225000.0,125000.0,101800.0,162000.0,159800.0,334500.0,345700.0,345200.0,287500.0,291000.0,291400.0,240200.0,269700.0,244200.00000000003,263800.0,297700.0,388300.0,441399.99999999994,500000.99999999994,500000.99999999994,466700.0,396400.0,383600.0,345800.0,496400.00000000006,400000.0,358600.0,247700.0,288200.0,286800.0,257100.00000000003,298600.0,321800.0,367400.0,137500.0,165000.0,179200.0,169800.0,238200.0,284900.0,252700.0,220600.0,225999.99999999997,248200.00000000003,208300.00000000003,205799.99999999997,231300.00000000003,216699.99999999997,266700.0,340400.0,328600.0,291700.0,350000.0,500000.0,362500.0,385300.0,452600.0,175000.0,238000.0,266700.0,356500.0,342200.0,241699.99999999997,275000.0,245800.00000000003,212500.0,193800.0,137500.0,183300.0,190600.0,244400.0,270000.0,362500.0,270600.0,258300.00000000003,253100.0,212500.0,275000.0,317100.0,193800.0,229400.0,216100.0,241699.99999999997,234800.0,187500.0,112500.0,210000.0,276300.0,238200.0,307400.0,275000.0,295500.0,227800.0,290600.0,326500.0,500000.99999999994,450000.0,332400.0,394400.0,311900.0,376000.0,360300.0,409999.99999999994,500000.0,500000.99999999994,500000.99999999994,405199.99999999994,500000.99999999994,488900.0,381300.0,475000.0,500000.99999999994,422200.00000000006,406300.0,392300.0,500000.99999999994,500000.99999999994,500000.99999999994,500000.99999999994,204999.99999999997,274400.0,363600.0,316700.0,326000.0,260700.00000000003,277800.0,277500.0,445700.0,474000.0,500000.99999999994,500000.99999999994,500000.99999999994,500000.99999999994,500000.99999999994,500000.99999999994,500000.99999999994,500000.99999999994,500000.99999999994,388500.0,500000.99999999994,272400.0,267400.0,295300.0,213499.99999999997,417500.0,204199.99999999997,188300.0,180100.0,209800.0,100000.0,196800.0,148600.0,171000.0,280800.0,176600.0,156100.0,267000.0,254400.0,169300.0,174800.0,214600.0,183200.0,176100.0,189100.0,114599.99999999999,196300.0,151200.0,154700.0,160300.0,162100.0,175200.0,92500.0,138200.0,169600.0,163400.0,106300.0,132500.0,184700.0,191100.0,192300.0,180400.0,195500.0,171200.0,166700.0,171100.0,218900.0,185300.0,174400.0,168300.0,182900.0,168300.0,210700.00000000003,406200.0,500000.99999999994,500000.99999999994,425900.00000000006,370500.0,329300.0,294400.0,271900.0,249500.0,260900.0,241500.0,240200.0,337000.0,467600.0,322500.0,176900.0,190200.0,237300.00000000003,200400.0,183900.0,187700.0,181400.0,182100.0,176000.0,166000.0,199600.0,162500.0,184800.0,212000.0,283800.0,303100.0,362500.0,161400.0,171600.0,172300.0,208199.99999999997,204000.0,192900.0,175900.0,165100.0,167800.0,197100.0,172000.0,184100.0,169800.0,173300.0,212500.0,198100.0,197600.0,182800.0,162000.0,188000.0,184100.0,185700.0,179500.0,187500.0,159000.0,172400.0,159700.0,177800.0,176300.0,178700.0,177500.0,162300.0,204000.0,206999.99999999997,217099.99999999997,198500.0,140400.0,123600.0,133300.0,187500.0,157600.0,87500.0,146300.0,178600.0,154300.0,164100.0,165000.0,145200.0,166800.0,164800.0,87500.0,158900.0,67500.0,210000.0,200599.99999999997,302100.0,200000.0,300000.0,294100.0,289600.0,166300.0,168400.0,235100.0,238400.0,276000.0,255600.0,192200.0,252000.0,241600.0,238000.0,151000.0,143800.0,140600.0,137500.0,196900.0,178300.0,166700.0,156900.0,179800.0,169600.0,188600.0,205100.00000000003,183000.0,177400.0,179100.0,108300.0,175300.0,174200.0,166500.0,166300.0,174900.0,174100.0,173800.0,124200.0,92200.0,288200.0,175000.0,112500.0,67500.0,67500.0,131300.0,243000.00000000003,166500.0,248100.0,179500.0,264000.0,278600.0,271700.0,260600.0,177400.0,477600.0,436100.0,184500.0,169700.0,174100.0,178100.0,96900.0,129299.99999999999,73500.0,133200.0,171200.0,170000.0,177700.0,165300.0,181000.0,168900.0,170800.0,195100.0,224200.0,234700.0,228600.0,180400.0,222000.00000000003,277600.0,268300.0,222800.00000000003,306800.0,243400.00000000003,94600.0,249000.00000000003,330600.0,331800.0,391300.0,220800.00000000003,177200.0,220500.0,220000.00000000003,146700.0,84200.0,160200.0,168900.0,159300.0,168900.0,170000.0,185100.0,164000.0,180900.0,193500.0,182200.0,209700.0,254199.99999999997,197000.0,131900.0,148800.0,136900.0,147700.0,107600.0,142400.0,156500.0,152100.0,132100.0,134800.0,132700.0,127600.0,123600.0,141100.0,138000.0,114900.0,134500.0,95000.0,153300.0,93200.0,139300.0,140400.0,125000.0,108800.00000000001,67500.0,87500.0,120800.0,132800.0,122700.00000000001,136800.0,144900.0,146800.0,131400.0,103200.0,93600.0,142600.0,153000.0,142700.0,131000.0,134400.0,135300.0,88300.0,139500.0,160700.0,138900.0,151500.0,144400.0,136700.0,174100.0,156000.0,159400.0,195300.0,257700.0,135600.0,140500.0,133300.0,131600.0,125000.0,127600.0,133700.0,143200.0,132500.0,153100.0,144500.0,147800.0,478500.0,67500.0,187500.0,500000.99999999994,500000.99999999994,320800.0,452799.99999999994,500000.99999999994,432400.0,334600.0,422200.00000000006,409700.00000000006,368800.0,404500.0,482700.0,125000.0,93000.0,92500.0,47500.0,60000.0,83300.0,118800.0,117000.0,127099.99999999999,114300.0,106300.0,109100.0,110600.00000000001,120600.0,108900.0,92900.0,88900.0,103600.0,107600.0,90300.0,93600.0,97800.0,99600.0,118000.0,117000.0,111400.00000000001,112700.0,100000.0,153300.0,112400.00000000001,122600.0,104900.0,112300.0,118200.0,136300.0,103400.0,95600.0,204900.0,172800.0,145800.0,147000.0,150000.0,141700.0,145800.0,150000.0,123800.0,145900.0,142700.0,134700.0,57499.99999999999,131300.0,67500.0,67500.0,131500.0,128699.99999999999,129700.0,129700.0,139800.0,147500.0,150000.0,150400.0,156900.0,129500.0,160200.0,189700.0,154900.0,145500.0,159400.0,146300.0,158600.0,150400.0,118800.0,112999.99999999999,151900.0,149100.0,155900.0,128299.99999999999,135500.0,67500.0,96200.0,134400.0,121900.00000000001,128400.0,152300.0,131100.0,106300.0,94600.0,107300.0,108200.00000000001,160100.0,144500.0,156000.0,139900.0,129700.0,139300.0,139800.0,152900.0,98300.0,160200.0,151900.0,171300.0,166900.0,143400.0,98100.0,184300.0,186100.0,169800.0,156300.0,266900.0,264100.0,245200.0,293900.0,273600.0,233400.0,193500.0,247800.00000000003,290500.0,170400.0,221600.00000000003,225599.99999999997,281700.0,227700.0,213700.0,181600.0,189900.0,158300.0,173700.0,162300.0,158300.0,175300.0,223300.0,176100.0,141700.0,155000.0,157100.0,270700.0,214000.0,186900.0,170800.0,228900.00000000003,266200.0,229700.00000000003,181300.0,249400.00000000003,240899.99999999997,189100.0,273500.0,215300.0,118800.0,153800.0,178100.0,152500.0,135200.0,120800.0,127600.0,143200.0,132300.0,150100.0,131000.0,121400.0,113799.99999999999,123500.00000000001,129099.99999999999,169500.0,143300.0,149600.0,169500.0,144700.0,142000.0,154400.0,130400.0,141400.0,126899.99999999999,123600.0,125400.0,120600.0,137000.0,130700.0,125400.0,133900.0,133900.0,129700.0,140700.0,119200.0,132000.0,144000.0,142900.0,133700.0,161200.0,154200.0,185700.0,217099.99999999997,187300.0,148900.0,141400.0,154800.0,152200.0,144700.0,118200.0,161700.0,171300.0,158200.0,174400.0,166300.0,173500.0,189600.0,223700.0,185200.0,164200.0,149300.0,155300.0,235600.0,163000.0,147900.0,165100.0,165800.0,222800.00000000003,155800.0,301600.0,379600.0,226799.99999999997,241400.00000000003,138100.0,132800.0,226900.0,159100.0,316400.0,275000.0,307100.0,296400.0,303400.0,193200.0,197600.0,143200.0,187200.0,167800.0,210500.0,142000.0,140600.0,208800.0,294700.0,109800.00000000001,142300.0,123200.0,120800.0,123800.0,133700.0,104200.0,112500.0,138800.0,138600.0,136400.0,113599.99999999999,189700.0,164400.0,195800.0,150300.0,144100.0,200999.99999999997,250000.0,112500.0,125000.0,111400.00000000001,135200.0,137500.0,124100.00000000001,134400.0,165300.0,158900.0,171000.0,231999.99999999997,160400.0,112500.0,130000.0,125400.0,135700.0,108300.0,147700.0,152500.0,159200.0,143500.0,100000.0,144900.0,117300.0,154600.0,134200.0,134500.0,121900.00000000001,143300.0,148300.0,166100.0,160300.0,158500.0,151700.0,153200.0,146400.0,150400.0,151400.0,140800.0,168700.0,129400.0,119000.0,150000.0,161000.0,166300.0,147800.0,196600.0,285400.0,202100.0,158300.0,147100.0,139500.0,131000.0,127000.0,172500.0,163500.0,155700.0,145000.0,178000.0,174400.0,184600.0,159500.0,185300.0,153800.0,154400.0,146900.0,170100.0,186500.0,227800.0,177200.0,211900.00000000003,189200.0,119300.0,211100.00000000003,429300.0,342300.0,387400.0,314900.0,192900.0,180700.0,194300.0,165800.0,175700.0,231199.99999999997,182100.0,181300.0,160100.0,168900.0,178600.0,167800.0,121100.00000000001,159100.0,169400.0,148200.0,278000.0,265400.0,268500.0,328200.0,160600.0,210100.0,137900.0,229300.00000000003,137200.0,220699.99999999997,264100.0,450399.99999999994,85800.0,167600.0,278600.0,400000.0,222200.0,144600.0,261500.00000000003,260100.0,362300.0,296200.0,378300.0,500000.99999999994,255700.0,282200.0,255100.00000000003,184300.0,161500.0,310600.0,248400.0,308300.0,327900.0,294100.0,209200.0,281600.0,241500.0,238700.0,201399.99999999997,216800.00000000003,268800.0,156300.0,263600.0,261100.00000000003,231800.0,218100.0,238300.0,263700.0,246500.0,192300.0,296200.0,213400.0,240899.99999999997,319800.0,169200.0,344200.0,411300.00000000006,404500.0,500000.99999999994,500000.99999999994,500000.99999999994,500000.99999999994,500000.99999999994,500000.99999999994,500000.99999999994,500000.99999999994,500000.99999999994,396000.0,369100.0,500000.99999999994,439900.0,485300.0,393500.0,387800.0,492500.0,231300.00000000003,382100.0,226900.0,244700.0,230700.0,394400.0,347700.0,376700.0,278300.0,269600.0,147600.0,324600.0,215800.0,148700.0,369800.0,220900.0,286100.0,300000.0,252700.0,214600.0,286900.0,314300.0,295100.0,346700.0,342400.0,338700.0,245800.00000000003,367100.0,122400.0,343200.0,357100.0,369400.0,284800.0,276300.0,290000.0,331300.0,281300.0,243699.99999999997,245500.0,262100.0,354000.0,500000.99999999994,183000.0,188100.0,168800.0,259800.0,267900.0,185600.0,187500.0,178500.0,500000.99999999994,206300.00000000003,283300.0,181800.0,185400.0,198000.0,500000.99999999994,266700.0,173800.0,208599.99999999997,192500.0,185000.0,197900.0,313300.0,500000.0,106300.0,187500.0,162500.0,184400.0,166100.0,169900.0,150800.0,169700.0,150300.0,145700.0,142900.0,216100.0,198100.0,224500.0,173600.0,274100.0,153800.0,98500.0,169300.0,162400.0,108900.0,91200.0,91700.0,85800.0,184100.0,215499.99999999997,157300.0,87700.0,151600.0,152100.0,125600.0,189800.0,117100.0,103299.99999999999,99600.0,150700.0,359000.0,173900.0,133800.0,131000.0,102299.99999999999,97100.0,186900.0,170900.0,141000.0,155600.0,127899.99999999999,143400.0,134400.0,257300.0,263300.0,331300.0,325700.0,314400.0,189900.0,295900.0,376800.0,146700.0,227000.0,173200.0,171200.0,134400.0,137300.0,154600.0,146900.0,180900.0,222600.0,247000.00000000003,273300.0,296100.0,208300.00000000003,291500.0,168800.0,117000.0,243800.00000000003,267600.0,264700.0,232799.99999999997,419200.0,254100.0,250000.0,234500.00000000003,281300.0,298100.0,272200.0,307300.0,294600.0,286400.0,190800.0,175000.0,162500.0,240099.99999999997,196000.0,150900.0,172000.0,97000.0,148800.0,162500.0,151400.0,164600.0,204999.99999999997,198500.0,196700.0,90800.0,98600.0,177500.0,142600.0,135800.0,136000.0,175600.0,150700.0,121900.00000000001,156900.0,139300.0,165800.0,127200.0,121700.00000000001,111300.0,147500.0,171700.0,124500.00000000001,131300.0,117000.0,213800.0,198800.0,205500.00000000003,166000.0,212500.0,253700.0,216900.0,215700.0,216100.0,158500.0,206999.99999999997,159400.0,192500.0,200199.99999999997,182600.0,239000.0,283900.0,247800.00000000003,224400.00000000003,111400.00000000001,160600.0,157300.0,178100.0,225599.99999999997,244899.99999999997,87500.0,237500.0,135700.0,228100.0,214500.0,183900.0,163800.0,218500.0,209700.0,196000.0,91600.0,199000.0,139200.0,210400.0,163300.0,132800.0,214299.99999999997,159900.0,158500.0,202700.0,193200.0,168400.0,174600.0,158900.0,172600.0,170700.0,171400.0,163600.0,172600.0,153900.0,92000.0,117500.0,168000.0,247800.00000000003,258900.0,279900.0,255799.99999999997,240300.0,237400.0,171900.0,500000.99999999994,227100.0,279600.0,340300.0,285200.0,299600.0,129900.0,154200.0,160900.0,160600.0,157700.0,147500.0,222400.00000000003,212800.0,174800.0,183800.0,206700.00000000003,180400.0,156800.0,137500.0,135300.0,137500.0,137200.0,98500.0,150000.0,136300.0,143500.0,113700.0,137500.0,191100.0,161100.0,182800.0,199800.0,159500.0,190500.0,264000.0,80000.0,200000.0,275000.0,132400.0,199600.0,186600.0,347300.0,444100.0,353000.0,249100.0,177000.0,178300.0,122500.00000000001,115100.0,127699.99999999999,171600.0,145500.0,139900.0,116700.0,114300.0,187700.0,146300.0,127000.0,142300.0,262500.0,172800.0,287500.0,169900.0,223500.0,167500.0,320200.0,248300.0,335600.0,239900.0,210900.0,222600.0,225900.0,239100.0,221000.0,199200.0,166700.0,171500.0,167200.0,164500.0,170200.0,209800.0,158200.0,156300.0,172900.0,134400.0,148200.0,198100.0,221900.0,193800.0,189900.0,176400.0,100000.0,83700.0,58800.0,98700.0,116500.0,127099.99999999999,110700.0,61800.0,217400.0,231800.0,187200.0,222900.0,308600.0,274600.0,169100.0,240600.0,248900.0,300300.0,259900.00000000003,293100.0,214500.0,206100.0,500000.99999999994,500000.99999999994,500000.99999999994,500000.99999999994,500000.99999999994,500000.99999999994,500000.99999999994,500000.99999999994,350000.0,500000.99999999994,500000.99999999994,433300.0,500000.99999999994,500000.99999999994,412500.0,250000.0,375000.0,300000.0,168800.0,400000.0,243800.00000000003,450000.0,500000.99999999994,350000.0,380000.0,500000.99999999994,450000.0,458300.0,420000.0,287500.0,225000.0,400000.0,275000.0,500000.99999999994,500000.99999999994,350000.0,225000.0,55000.00000000001,500000.99999999994,500000.99999999994,450000.0,237500.0,500000.99999999994,275000.0,225000.0,225000.0,500000.99999999994,500000.99999999994,500000.99999999994,500000.99999999994,500000.99999999994,500000.99999999994,500000.99999999994,500000.99999999994,500000.99999999994,500000.99999999994,500000.0,500000.99999999994,500000.99999999994,500000.99999999994,500000.99999999994,466700.0,400000.0,500000.0,475000.0,500000.0,500000.99999999994,500000.99999999994,500000.0,500000.99999999994,500000.99999999994,500000.99999999994,500000.99999999994,500000.99999999994,500000.99999999994,500000.99999999994,500000.99999999994,500000.99999999994,500000.99999999994,500000.99999999994,500000.99999999994,500000.99999999994,425000.0,500000.99999999994,500000.99999999994,500000.99999999994,500000.99999999994,500000.99999999994,500000.99999999994,500000.99999999994,500000.99999999994,87500.0,117500.0,500000.99999999994,500000.99999999994,459999.99999999994,500000.99999999994,468800.0,500000.0,372200.0,333300.0,500000.99999999994,500000.99999999994,450000.0,220000.00000000003,237500.0,494400.0,355300.0,400000.0,492300.0,280000.0,412500.0,322700.0,428300.00000000006,418400.0,146900.0,350000.0,471400.00000000006,341700.0,346200.0,293800.0,287500.0,275000.0,187500.0,72500.0,114999.99999999999,112500.0,275000.0,187500.0,177500.0,316700.0,442900.0,425000.0,475000.0,364300.0,350000.0,500000.99999999994,500000.99999999994,500000.99999999994,500000.0,500000.0,492900.0,335700.0,400000.0,488900.0,438900.0,250000.0,450000.0,366700.0,412500.0,337500.0,222700.0,354500.0,418800.0,476900.0,400000.0,455900.0,500000.99999999994,500000.99999999994,500000.99999999994,450000.0,500000.99999999994,500000.99999999994,55000.00000000001,375000.0,350000.0,275000.0,193800.0,350000.0,250000.0,32500.0,275000.0,187500.0,350000.0,250000.0,112500.0,225000.0,162500.0,312500.0,225000.0,350000.0,325000.0,250000.0,275000.0,250000.0,350000.0,361600.0,386100.0,316200.0,423100.0,376600.0,500000.99999999994,370000.0,370000.0,405400.0,427299.99999999994,500000.99999999994,455400.0,386400.0,270000.0,391200.0,490000.00000000006,225000.0,266700.0,265000.0,212500.0,250000.0,262500.0,275000.0,250000.0,300000.0,400000.0,400000.0,275000.0,396800.0,355600.0,387900.0,437500.0,355600.0,375000.0,368900.0,383700.0,338800.0,380400.0,347500.0,362200.0,347700.0,306000.0,325700.0,328100.0,324300.0,325900.0,356100.0,409700.00000000006,391900.0,294900.0,350000.0,331000.0,333100.0,300900.0,298900.0,310800.0,450000.0,208300.00000000003,162500.0,290900.0,321600.0,253700.0,243299.99999999997,298300.0,320000.0,277300.0,262500.0,239100.0,260300.00000000003,233300.00000000003,225000.0,325000.0,300000.0,265000.0,214600.0,229000.0,253900.00000000003,229999.99999999997,255300.0,178100.0,236100.00000000003,206300.00000000003,200999.99999999997,217300.0,225400.0,211800.0,140400.0,203399.99999999997,185300.0,187500.0,193800.0,193800.0,195100.0,192000.0,189000.0,199300.0,206300.00000000003,192300.0,181300.0,275900.0,270800.0,255200.0,254700.00000000003,284900.0,335000.0,249000.00000000003,250800.0,271300.0,279900.0,281300.0,263900.0,275000.0,240899.99999999997,229599.99999999997,229999.99999999997,246400.0,240899.99999999997,258599.99999999997,243000.00000000003,292300.0,263200.0,264000.0,275500.0,259800.0,267200.0,270000.0,261900.00000000003,229400.0,279300.0,254500.0,240899.99999999997,230200.0,238700.0,233000.0,271300.0,272500.0,250300.0,219400.0,239299.99999999997,276200.0,242899.99999999997,236200.0,244700.0,252599.99999999997,254000.0,250500.0,252000.0,242000.0,251799.99999999997,222600.0,265000.0,268500.0,261800.0,260000.0,270600.0,261600.0,243600.0,246200.00000000003,231599.99999999997,266900.0,266500.0,255600.0,247700.0,251500.0,248900.0,264100.0,250999.99999999997,219099.99999999997,238000.0,226300.0,181900.0,213899.99999999997,217800.0,218299.99999999997,241900.0,278600.0,414300.0,435700.0,390000.0,500000.0,367700.0,374200.0,406500.00000000006,359600.0,345700.0,306700.0,329600.0,330000.0,350000.0,338000.0,361000.0,357000.0,366300.0,420300.00000000006,358600.0,500000.99999999994,500000.99999999994,500000.99999999994,381700.0,337400.0,333600.0,349000.0,322600.0,313400.0,394000.0,349500.0,430999.99999999994,335100.0,313600.0,346800.0,416899.99999999994,500000.99999999994,500000.99999999994,363600.0,365600.0,500000.99999999994,426800.0,405199.99999999994,484600.0,500000.99999999994,500000.99999999994,399000.0,394100.0,335100.0,344200.0,275500.0,261400.0,266200.0,264200.0,269200.0,231900.0,219300.0,221200.00000000003,225000.0,238600.0,228600.0,221500.0,244099.99999999997,231999.99999999997,237900.0,239400.0,239299.99999999997,246700.0,259700.0,228900.00000000003,221600.00000000003,219499.99999999997,225000.0,211800.0,348600.0,332100.0,323800.0,322100.0,331300.0,336100.0,339800.0,329600.0,331200.0,332700.0,339800.0,353600.0,323100.0,318400.0,317600.0,311800.0,329200.0,314700.0,331000.0,320200.0,308500.0,297800.0,319100.0,321200.0,323800.0,321300.0,323100.0,314300.0,335000.0,438500.0,340800.0,317700.0,315200.0,500000.99999999994,371500.0,369400.0,433300.0,406200.0,350000.0,350000.0,400000.0,187500.0,112500.0,307700.0,316200.0,295600.0,296300.0,278800.0,291500.0,283200.0,268900.0,274200.0,260800.0,284100.0,272300.0,270200.0,271800.0,272200.0,286300.0,297800.0,296600.0,300000.0,275700.0,275700.0,272400.0,272800.0,273700.0,268100.0,271100.0,500000.99999999994,350000.0,350000.0,500000.99999999994,500000.99999999994,307100.0,416700.0,500000.99999999994,500000.99999999994,483300.0,443300.0,396400.0,375000.0,457800.00000000006,335300.0,322900.0,352200.0,500000.99999999994,500000.99999999994,500000.99999999994,376800.0,441700.0,375000.0,360700.0,402900.0,398400.0,421300.0,446900.00000000006,422400.0,414600.0,404699.99999999994,366700.0,337200.0,393800.0,348500.0,346400.0,311400.0,329100.0,356300.0,369200.0,359500.0,318500.0,328400.0,500000.99999999994,348500.0,324700.0,336700.0,322900.0,332800.0,351100.0,342200.0,322200.0,500000.99999999994,500000.99999999994,318900.0,212800.0,180400.0,225000.0,225000.0,207100.00000000003,223700.0,52500.0,52500.0,63300.0,112500.0,75000.0,87500.0,45000.0,22500.0,76800.0,77600.0,110200.00000000001,103099.99999999999,92300.0,110400.00000000001,105100.0,97400.0,107600.0,92600.0,66000.0,61300.0,59000.0,54600.00000000001,52000.0,56799.99999999999,52700.0,42500.0,63800.0,43000.0,45000.0,60800.0,67500.0,55000.00000000001,118400.0,87200.0,88100.0,80300.0,59400.0,62100.0,50000.0,94600.0,113700.0,93900.0,247400.00000000003,189900.0,94100.0,84600.0,91600.0,87800.0,88800.0,92600.0,87400.0,90800.0,141500.0,113599.99999999999,183700.0,123100.00000000001,65400.0,98800.0,76700.0,98300.0,105400.0,90600.0,81300.0,87500.0,93800.0,55700.00000000001,55700.00000000001,70000.0,72800.0,69900.0,75200.0,54400.00000000001,63600.0,52700.0,54200.00000000001,54200.00000000001,48300.0,50500.0,63100.0,62300.0,69800.0,75000.0,63500.0,55300.00000000001,59300.0,62000.0,54000.0,62800.0,68300.0,57699.99999999999,62200.0,63800.0,65900.0,113599.99999999999,65000.0,55900.00000000001,48300.0,53000.0,51700.0,61200.0,56699.99999999999,60300.0,57699.99999999999,59100.0,61800.0,67800.0,61600.0,73100.0,65900.0,81400.0,73900.0,80400.0,67200.0,57699.99999999999,57199.99999999999,59200.0,89200.0,58399.99999999999,56399.99999999999,72100.0,66000.0,85700.0,225800.0,152400.0,123800.0,242000.0,94400.0,173300.0,87100.0,166900.0,175000.0,155100.0,129200.0,98900.0,151900.0,96400.0,102800.0,101499.99999999999,87500.0,119600.0,175900.0,194600.0,234700.0,110300.0,94600.0,176500.0,150000.0,134900.0,191700.0,136400.0,133800.0,162100.0,119800.0,130800.0,130600.0,162100.0,159100.0,146000.0,148200.0,244700.0,146400.0,142700.0,126699.99999999999,143100.0,145600.0,153900.0,155700.0,133500.0,132300.0,131300.0,138800.0,140700.0,206100.0,78700.0,92800.0,105300.0,98400.0,99100.0,110000.00000000001,112300.0,105300.0,100000.0,100000.0,116199.99999999999,108400.00000000001,131900.0,92100.0,95500.0,104800.0,101600.0,90500.0,117600.0,102800.0,107700.0,97300.0,91100.0,94100.0,111300.0,107400.0,99000.0,106300.0,95000.0,87500.0,124500.00000000001,137900.0,95900.0,120800.0,82800.0,155000.0,112500.0,106800.0,201799.99999999997,112500.0,247900.0,212500.0,220699.99999999997,162100.0,125000.0,135000.0,87500.0,126800.0,153100.0,181300.0,157700.0,177100.0,156300.0,125000.0,130900.0,130400.0,59000.0,99700.0,150000.0,121400.0,76900.0,146900.0,137500.0,158300.0,55700.00000000001,83600.0,104000.0,125000.0,162500.0,103099.99999999999,162500.0,162500.0,156300.0,123500.00000000001,96300.0,185700.0,240800.0,186900.0,147200.0,130100.0,178100.0,202800.0,229999.99999999997,155000.0,175000.0,204500.0,152800.0,127400.0,120700.00000000001,101800.0,110800.00000000001,113500.0,116700.0,131800.0,175300.0,99500.0,86900.0,137500.0,128800.0,143200.0,114100.0,98200.0,125400.0,110700.0,108000.0,154800.0,153700.0,132500.0,229300.00000000003,171700.0,103000.0,136800.0,120100.0,133100.0,163300.0,70700.0,87800.0,68800.0,73800.0,91100.0,150900.0,115100.0,133300.0,116799.99999999999,82900.0,83100.0,112999.99999999999,151200.0,244200.00000000003,146700.0,122500.00000000001,113900.0,200000.0,174200.0,166300.0,105000.0,165200.0,161100.0,176900.0,156500.0,187500.0,152200.0,158900.0,113399.99999999999,141300.0,110900.0,141900.0,157600.0,200000.0,169400.0,97100.0,90900.0,102200.0,134600.0,125899.99999999999,182700.0,149000.0,192100.0,139000.0,182400.0,165600.0,126099.99999999999,94400.0,91900.0,124300.00000000001,94200.0,120800.0,101800.0,96900.0,99200.0,172100.0,135300.0,130800.0,101499.99999999999,101800.0,163900.0,111800.00000000001,197600.0,161400.0,212500.0,175000.0,112500.0,106300.0,158300.0,195000.0,173900.0,74100.0,105000.0,101899.99999999999,117900.0,169400.0,116799.99999999999,130800.0,161000.0,137100.0,121500.00000000001,141500.0,149300.0,138500.0,155300.0,155700.0,157900.0,120000.0,179200.0,475000.0,127499.99999999999,86300.0,119400.0,222800.00000000003,322400.0,163500.0,274200.0,327300.0,222900.0,240200.0,215099.99999999997,170700.0,162100.0,121400.0,133500.0,152500.0,153200.0,128699.99999999999,132000.0,127299.99999999999,117600.0,119800.0,110400.00000000001,125000.0,147600.0,194800.0,164800.0,141700.0,151300.0,170600.0,103099.99999999999,108300.0,111500.0,112500.0,208100.0,134700.0,196700.0,63000.0,250000.0,294000.0,248700.0,154300.0,90600.0,144900.0,113999.99999999999,140000.0,161700.0,195200.0,256700.00000000003,168100.0,113500.0,158200.0,162700.0,142100.0,206900.0,264600.0,271200.0,320800.0,278800.0,184200.0,188300.0,186200.0,278100.0,279400.0,283600.0,226900.0,266800.0,221099.99999999997,200000.0,227300.0,207799.99999999997,192700.0,215800.0,183200.0,189600.0,266300.0,183900.0,196100.0,317700.0,293900.0,330000.0,204500.0,249600.0,253600.0,195000.0,500000.99999999994,300000.0,328800.0,222900.0,165900.0,258900.0,225900.0,221500.0,251300.0,233300.00000000003,209600.0,206300.00000000003,227100.0,192600.0,174200.0,208199.99999999997,226200.0,231700.00000000003,337000.0,225000.0,247000.00000000003,219300.0,221800.0,239900.0,331600.0,208000.0,262500.0,350000.0,253300.0,233700.00000000003,42500.0,336200.0,380000.0,357800.0,245900.0,236100.00000000003,55000.00000000001,275000.0,295500.0,267600.0,195200.0,156800.0,205399.99999999997,217700.0,163800.0,179700.0,153000.0,197800.0,165400.0,190400.0,162000.0,158500.0,178100.0,209900.00000000003,155800.0,160000.0,268300.0,142100.0,143600.0,178200.0,106300.0,273100.0,280200.0,329700.0,270800.0,315000.0,346100.0,152600.0,144800.0,277300.0,204800.0,181400.0,209100.00000000003,173800.0,175000.0,163900.0,171300.0,166900.0,146400.0,222400.00000000003,205799.99999999997,176100.0,184800.0,225599.99999999997,172100.0,250599.99999999997,292900.0,267500.0,69800.0,158600.0,261600.0,117200.0,253399.99999999997,272200.0,315200.0,214200.0,215300.0,290400.0,281700.0,258100.0,230100.00000000003,233700.00000000003,251500.0,267000.0,238600.0,266700.0,243200.0,238600.0,214299.99999999997,239900.0,235900.0,236500.00000000003,224400.00000000003,232100.00000000003,307000.0,297900.0,314200.0,417600.0,292500.0,266400.0,238000.0,260300.00000000003,287700.0,275600.0,264300.0,277000.0,272800.0,281300.0,239100.0,258800.0,252400.0,257500.00000000003,277700.0,229400.0,256100.0,304500.0,306700.0,268700.0,303700.0,294500.0,270800.0,319700.0,87500.0,238600.0,304300.0,297900.0,146500.0,284700.0,322900.0,246400.0,263300.0,260900.0,280700.0,276200.0,278400.0,252599.99999999997,265600.0,268400.0,226300.0,250700.0,302600.0,273500.0,327600.0,246700.0,242499.99999999997,218800.00000000003,237500.0,233300.00000000003,232399.99999999997,244000.0,281500.0,239800.0,301000.0,272700.0,353300.0,353700.0,262000.0,251200.0,236200.0,272400.0,275000.0,227400.0,263900.0,254100.0,234600.0,228200.0,281000.0,279300.0,262100.0,262500.0,237500.0,241699.99999999997,345500.0,450000.0,270600.0,273000.0,249000.00000000003,325800.0,280400.0,344600.0,302100.0,281300.0,342300.0,344500.0,284100.0,273600.0,341300.0,324700.0,308100.0,137500.0,292900.0,319000.0,306800.0,317900.0,242700.0,252999.99999999997,242499.99999999997,212500.0,144200.0,275000.0,228500.0,229100.0,224200.0,215400.0,318400.0,265100.0,273100.0,336400.0,347400.0,412000.0,405100.0,466899.99999999994,450000.0,422400.0,369300.0,420300.00000000006,387100.0,340900.0,500000.99999999994,500000.99999999994,457700.0,459199.99999999994,500000.99999999994,500000.99999999994,500000.99999999994,450000.0,350000.0,353800.0,378100.0,500000.0,500000.0,500000.99999999994,500000.99999999994,374200.0,434000.0,500000.99999999994,500000.99999999994,386400.0,359900.0,372200.0,410799.99999999994,350600.0,345000.0,375000.0,433800.0,500000.99999999994,500000.99999999994,500000.99999999994,500000.99999999994,500000.99999999994,500000.99999999994,500000.99999999994,500000.99999999994,500000.99999999994,500000.99999999994,500000.99999999994,500000.99999999994,300000.0,318400.0,290000.0,287900.0,285400.0,273000.0,258300.00000000003,267300.0,233100.0,237900.0,234800.0,256300.00000000003,292600.0,250000.0,283300.0,237500.0,500000.99999999994,500000.99999999994,415000.00000000006,500000.99999999994,500000.99999999994,500000.99999999994,500000.99999999994,356900.0,296400.0,369700.0,397100.0,500000.99999999994,407200.0,464600.0,413000.0,453099.99999999994,411200.0,458500.0,480800.0,376600.0,384200.0,376800.0,457200.0,379100.0,340500.0,337800.0,368200.0,396900.0,388200.0,361700.0,387100.0,354100.0,393800.0,385400.0,352800.0,342800.0,272900.0,309700.0,316000.0,330100.0,292900.0,273700.0,271100.0,270900.0,271800.0,276100.0,339400.0,282000.0,289400.0,274800.0,305800.0,443800.0,500000.99999999994,338200.0,376000.0,483300.0,375700.0,292100.0,322200.0,327800.0,500000.99999999994,417300.0,438800.0,419700.0,500000.99999999994,391000.0,404000.0,430300.0,270100.0,293200.0,293200.0,294200.0,298100.0,282400.0,310600.0,438000.0,310900.0,267400.0,286700.0,388100.0,397800.0,435200.00000000006,397900.0,386800.0,417000.0,391000.0,382200.0,435799.99999999994,419200.0,491200.0,339700.0,414799.99999999994,426400.0,256300.00000000003,258100.0,289400.0,253799.99999999997,364900.0,323800.0,341500.0,360500.0,345000.0,349600.0,395500.0,394700.0,374800.0,405000.0,431300.0,500000.99999999994,457200.0,500000.99999999994,451300.0,500000.99999999994,495899.99999999994,500000.99999999994,500000.99999999994,314100.0,440299.99999999994,308800.0,305000.0,383200.0,500000.99999999994,362100.0,361900.0,362700.0,427600.0,265600.0,247200.0,241699.99999999997,225000.0,229500.0,250000.0,500000.99999999994,435900.0,422499.99999999994,311800.0,366000.0,87500.0,265300.0,237500.0,218100.0,270000.0,233599.99999999997,263500.0,267000.0,286900.0,312300.0,278200.0,320800.0,232799.99999999997,202800.0,211000.0,255300.0,322800.0,166700.0,272800.0,267700.0,276600.0,298400.0,318600.0,303100.0,363700.0,333800.0,443300.0,343500.0,496000.0,343600.0,342700.0,395100.0,469900.0,409300.0,500000.99999999994,500000.99999999994,500000.99999999994,500000.99999999994,500000.99999999994,500000.99999999994,500000.99999999994,500000.99999999994,341700.0,352700.0,162600.0,157300.0,500000.99999999994,148900.0,160600.0,159400.0,173400.0,159400.0,159600.0,155700.0,185600.0,166700.0,156600.0,145500.0,151500.0,308600.0,189000.0,326400.0,379600.0,417800.0,412500.0,410200.00000000006,500000.99999999994,500000.99999999994,500000.99999999994,500000.99999999994,460200.00000000006,394300.0,464600.0,500000.99999999994,500000.99999999994,500000.99999999994,500000.99999999994,500000.99999999994,444500.0,472800.0,500000.99999999994,500000.99999999994,500000.99999999994,500000.99999999994,500000.99999999994,500000.99999999994,500000.99999999994,500000.99999999994,500000.99999999994,500000.99999999994,500000.99999999994,500000.99999999994,350000.0,500000.99999999994,500000.99999999994,500000.99999999994,500000.99999999994,500000.99999999994,500000.99999999994,500000.99999999994,500000.99999999994,500000.99999999994,411300.00000000006,334600.0,319200.0,318500.0,364300.0,345100.0,331100.0,368000.0,355800.0,371800.0,500000.0,354300.0,500000.99999999994,456300.0,500000.99999999994,277700.0,319400.0,286100.0,295300.0,450000.0,348700.0,395000.0,327300.0,290900.0,263800.0,500000.99999999994,438400.00000000006,500000.99999999994,357500.0,340400.0,294500.0,279500.0,275000.0,357400.0,320600.0,243800.00000000003,254999.99999999997,267000.0,279200.0,500000.99999999994,443000.0,418400.0,458600.00000000006,320600.0,300000.0,500000.99999999994,381800.0,384400.0,376000.0,293800.0,289900.0,351100.0,415599.99999999994,353000.0,383100.0,500000.99999999994,443600.0,318800.0,280600.0,387700.0,500000.99999999994,500000.99999999994,500000.99999999994,500000.99999999994,463800.0,228100.0,236000.0,251200.0,364300.0,236800.0,241400.00000000003,246700.0,232600.0,293800.0,350000.0,362500.0,253600.0,258300.00000000003,237500.0,246900.0,259100.00000000003,258300.00000000003,247900.0,226500.0,264700.0,250000.0,260100.0,261000.0,252900.0,230799.99999999997,231800.0,335200.0,364000.0,336400.0,326800.0,312500.0,341800.0,395100.0,254999.99999999997,226500.0,236100.00000000003,281300.0,500000.0,283200.0,340400.0,500000.99999999994,261000.0,413900.0,392800.0,335300.0,346200.0,350000.0,335000.0,329400.0,322600.0,500000.99999999994,500000.99999999994,500000.99999999994,500000.99999999994,500000.99999999994,500000.99999999994,500000.99999999994,297400.0,279700.0,301300.0,314300.0,250000.0,346000.0,250999.99999999997,300000.0,248700.0,500000.99999999994,500000.99999999994,425000.0,500000.99999999994,335000.0,500000.99999999994,230600.0,62100.0,400000.0,230799.99999999997,226399.99999999997,227900.0,215200.0,394900.0,290900.0,243100.0,500000.99999999994,309800.0,259800.0,500000.99999999994,289400.0,375000.0,272300.0,367000.0,440000.00000000006,84400.0,390200.0,292900.0,226799.99999999997,150000.0,120100.0,269700.0,275100.0,328700.0,194000.0,114799.99999999999,275000.0,157900.0,158000.0,168100.0,141500.0,326800.0,341200.0,212699.99999999997,144700.0,164000.0,165500.0,162500.0,158000.0,158200.0,158600.0,195700.0,193000.0,157700.0,201700.0,199600.0,158900.0,193600.0,131500.0,146700.0,136100.0,181800.0,133700.0,186500.0,218299.99999999997,128600.0,130100.0,160700.0,162900.0,136900.0,151400.0,132000.0,130800.0,139800.0,148300.0,149800.0,226799.99999999997,152500.0,190100.0,261000.0,137300.0,110300.0,113700.0,129299.99999999999,131300.0,108300.0,112500.0,117600.0,129200.0,113300.0,104200.0,121400.0,90200.0,147200.0,109400.00000000001,87500.0,67500.0,106400.0,98500.0,122700.00000000001,162500.0,120600.0,115500.0,97800.0,83200.0,89100.0,86100.0,73800.0,28299.999999999996,136400.0,118800.0,117500.0,129400.0,120400.0,128099.99999999999,83300.0,163400.0,134600.0,135400.0,111500.0,103299.99999999999,109300.0,130200.0,150700.0,134700.0,134000.0,135300.0,131600.0,87500.0,146600.0,148000.0,138000.0,112500.0,150000.0,172400.0,142400.0,198300.0,135200.0,166600.0,239299.99999999997,172600.0,134400.0,180100.0,142200.0,223100.0,249300.0,207200.0,152700.0,183800.0,290600.0,125800.0,128299.99999999999,307400.0,225000.0,216699.99999999997,37500.0,229500.0,282500.0,223100.0,312200.0,268800.0,280900.0,274300.0,331200.0,276800.0,432200.0,384400.0,348200.0,261400.0,268300.0,271200.0,402600.0,425000.0,316700.0,325000.0,187500.0,334000.0,288900.0,333800.0,198400.0,295400.0,206300.00000000003,112500.0,150000.0,228200.0,260000.0,204999.99999999997,342500.0,500000.99999999994,500000.99999999994,280200.0,271500.0,276400.0,271800.0,353400.0,276200.0,182500.0,186100.0,210700.00000000003,181900.0,237500.0,227100.0,185300.0,245800.00000000003,212500.0,204199.99999999997,239200.0,391300.0,295800.0,301100.0,292200.0,421000.0,330500.0,240899.99999999997,187500.0,330600.0,299500.0,200000.0,209500.00000000003,200000.0,166700.0,162500.0,212500.0,225000.0,187500.0,177500.0,190600.0,350000.0,204199.99999999997,188900.0,199000.0,193000.0,183100.0,170800.0,193800.0,193500.0,174500.0,194400.0,183500.0,325900.0,309000.0,289100.0,302900.0,153700.0,174100.0,183700.0,177300.0,185200.0,175000.0,213600.0,270300.0,205900.00000000003,192500.0,172500.0,169300.0,172500.0,184900.0,184800.0,223600.00000000003,281100.0,220600.0,180800.0,216299.99999999997,167500.0,250000.0,225800.0,184700.0,192600.0,165600.0,198400.0,211300.0,246400.0,280500.0,293000.0,233300.00000000003,229800.0,241100.0,247900.0,292500.0,252800.0,213899.99999999997,234200.0,310100.0,345800.0,332600.0,340000.0,345900.0,327600.0,344700.0,265000.0,235200.0,262800.0,283300.0,284800.0,247400.00000000003,296600.0,312000.0,247000.00000000003,274100.0,282300.0,331600.0,286600.0,424600.00000000006,283300.0,344600.0,320500.0,426900.0,351400.0,288200.0,346700.0,376200.0,214000.0,240000.0,327500.0,278100.0,211900.00000000003,236900.00000000003,238000.0,264200.0,248700.0,264700.0,332800.0,291300.0,230700.0,258500.0,240499.99999999997,308800.0,253500.0,255100.00000000003,281000.0,397000.0,282100.0,231999.99999999997,337300.0,320000.0,255600.0,240400.0,250000.0,263600.0,283300.0,267200.0,261100.00000000003,255200.0,316500.0,231700.00000000003,218600.0,204700.00000000003,225900.0,240300.0,264500.0,234800.0,268800.0,365400.0,302900.0,313100.0,281900.0,267400.0,289000.0,263300.0,240899.99999999997,184900.0,175800.0,177600.0,164200.0,112500.0,215899.99999999997,152400.0,112500.0,191100.0,173400.0,172800.0,192600.0,127899.99999999999,188100.0,176300.0,212800.0,227999.99999999997,249600.0,178400.0,87500.0,185800.0,178600.0,191900.0,160400.0,166100.0,232700.0,235800.0,253100.0,217000.0,176400.0,123500.00000000001,115199.99999999999,178600.0,183100.0,179500.0,191000.0,222800.00000000003,165300.0,177500.0,219400.0,139700.0,212500.0,164900.0,231400.0,175800.0,181000.0,343000.0,231400.0,263900.0,262400.0,223300.0,338400.0,500000.99999999994,355300.0,348400.0,378200.0,277800.0,231000.0,283700.0,359500.0,224200.0,217400.0,227599.99999999997,241900.0,241299.99999999997,286200.0,186500.0,209900.00000000003,164500.0,235600.0,235600.0,231999.99999999997,235700.00000000003,271500.0,241900.0,241000.0,362700.0,292200.0,302600.0,277900.0,335500.0,133700.0,294700.0,221000.0,165000.0,160100.0,163600.0,179000.0,182400.0,195300.0,172600.0,185500.0,192800.0,240700.0,162900.0,173600.0,193400.0,182500.0,194500.0,182100.0,153300.0,137500.0,164000.0,160100.0,182200.0,210300.00000000003,140100.0,159600.0,128600.0,205900.00000000003,156800.0,201799.99999999997,286500.0,229900.0,209900.00000000003,195800.0,184800.0,209100.00000000003,182400.0,187500.0,214800.0,196300.0,171700.0,183800.0,178600.0,215200.0,213099.99999999997,167600.0,161500.0,167900.0,456500.00000000006,286200.0,330800.0,416700.0,320900.0,328000.0,325600.0,374100.0,259700.0,246800.0,163500.0,269100.0,273900.0,273700.0,351600.0,268400.0,229800.0,258100.0,276600.0,329400.0,320700.0,288500.0,348300.0,150000.0,500000.99999999994,187500.0,333700.0,335600.0,181100.0,425000.0,257399.99999999997,271400.0,272700.0,267800.0,258500.0,265300.0,243200.0,178900.0,199100.0,266900.0,267000.0,263600.0,299400.0,265500.0,441000.0,422800.0,245800.00000000003,204100.0,254199.99999999997,367900.0,264500.0,248700.0,226900.0,264800.0,261100.00000000003,186900.0,144000.0,226399.99999999997,237900.0,500000.99999999994,500000.99999999994,254400.0,311200.0,500000.99999999994,220699.99999999997,226799.99999999997,276200.0,320500.0,174100.0,228700.0,225000.0,252199.99999999997,225800.0,255100.00000000003,212500.0,224900.0,225000.0,158000.0,112500.0,226700.0,235300.00000000003,230700.0,226799.99999999997,137500.0,81300.0,232399.99999999997,236900.00000000003,47500.0,229800.0,238000.0,255500.00000000003,219300.0,264100.0,87500.0,137500.0,112500.0,67500.0,199700.0,137500.0,208300.00000000003,208599.99999999997,235600.0,234100.00000000003,218500.0,215400.0,252100.0,217499.99999999997,237500.0,254500.0,271200.0,269900.0,264500.0,261400.0,258300.00000000003,247600.0,242700.0,287200.0,281900.0,254599.99999999997,298300.0,270300.0,261800.0,282200.0,261100.00000000003,238899.99999999997,198400.0,212200.0,240000.0,287100.0,238700.0,307400.0,262900.0,251300.0,266100.0,287100.0,279900.0,244400.0,231599.99999999997,244000.0,235500.0,237900.0,236100.00000000003,286500.0,229300.00000000003,250000.0,257600.0,251100.0,246099.99999999997,256100.0,275900.0,294700.0,288300.0,276900.0,255399.99999999997,254100.0,288300.0,252599.99999999997,247800.00000000003,330500.0,302400.0,315600.0,302100.0,287600.0,294300.0,313900.0,285800.0,335900.0,342000.0,355200.0,279800.0,217700.0,288900.0,288300.0,339600.0,237500.0,227700.0,263200.0,281900.0,264600.0,365500.0,290900.0,267500.0,314900.0,277300.0,270500.0,307000.0,329500.0,332500.0,293000.0,262500.0,267500.0,227300.0,212500.0,214100.0,181300.0,262500.0,234300.0,260000.0,242899.99999999997,283200.0,283000.0,264900.0,280400.0,296100.0,277300.0,269100.0,272600.0,275000.0,273500.0,344100.0,303400.0,275000.0,283000.0,300300.0,265300.0,278000.0,269400.0,298900.0,273900.0,269100.0,286800.0,255100.00000000003,333300.0,332000.0,413500.0,405400.0,430900.0,371900.0,268200.0,252599.99999999997,234200.0,243200.0,260100.0,245299.99999999997,274600.0,272000.0,279400.0,290500.0,363800.0,335900.0,281200.0,271800.0,405000.0,500000.99999999994,476400.0,445899.99999999994,500000.99999999994,500000.99999999994,500000.99999999994,436100.0,396300.0,500000.99999999994,339300.0,367800.0,340700.0,347800.0,442500.0,500000.99999999994,500000.99999999994,496400.00000000006,500000.99999999994,500000.99999999994,415800.00000000006,500000.99999999994,500000.99999999994,500000.99999999994,500000.99999999994,500000.99999999994,500000.99999999994,500000.99999999994,500000.99999999994,500000.99999999994,500000.99999999994,500000.99999999994,500000.99999999994,500000.99999999994,500000.99999999994,346100.0,500000.99999999994,335900.0,500000.99999999994,500000.99999999994,500000.99999999994,500000.99999999994,500000.99999999994,500000.99999999994,500000.99999999994,500000.99999999994,498800.00000000006,380800.0,455500.0,500000.99999999994,500000.99999999994,420000.0,500000.99999999994,500000.99999999994,485300.0,368900.0,396200.0,288300.0,416300.0,474700.0,436400.0,351200.0,431400.0,393800.0,355100.0,417000.0,345900.0,409100.0,411300.00000000006,380600.0,332000.0,372700.0,400699.99999999994,275700.0,326300.0,335300.0,341400.0,332500.0,354600.0,341900.0,348300.0,340100.0,404800.0,244499.99999999997,332700.0,284000.0,242200.00000000003,373600.0,412300.0,231199.99999999997,360600.0,338700.0,365700.0,354400.0,350000.0,344700.0,451800.0,352100.0,289500.0,333000.0,343100.0,351500.0,344200.0,388100.0,423900.0,416500.0,451400.0,431600.0,432599.99999999994,292900.0,370100.0,447300.0,342400.0,225000.0,271500.0,291400.0,316900.0,409700.00000000006,381800.0,327500.0,322700.0,430100.0,411900.0,383000.0,406799.99999999994,403000.0,344700.0,367400.0,362200.0,228399.99999999997,311400.0,500000.99999999994,243800.00000000003,378000.0,253600.0,335200.0,349000.0,346300.0,323600.0,368300.0,411200.0,337000.0,239400.0,256000.0,284800.0,325000.0,252800.0,311600.0,273600.0,252400.0,224600.0,230399.99999999997,327700.0,167300.0,360900.0,178100.0,232700.0,254400.0,222200.0,252599.99999999997,239400.0,250199.99999999997,261000.0,249500.0,239699.99999999997,280100.0,450000.0,364200.0,336500.0,270800.0,324200.0,350000.0,267400.0,375000.0,40000.0,500000.99999999994,470000.0,500000.99999999994,262500.0,289300.0,284600.0,262500.0,322300.0,192200.0,277000.0,308700.0,288900.0,264700.0,343300.0,284100.0,266700.0,274000.0,197200.0,290600.0,229800.0,351900.0,182700.0,165600.0,293500.0,276000.0,266400.0,175000.0,181300.0,316700.0,327700.0,261300.0,275000.0,307100.0,334300.0,340000.0,352500.0,330300.0,280200.0,342400.0,353100.0,354500.0,365600.0,359000.0,414700.0,407200.0,353600.0,366700.0,373400.0,383900.0,465000.00000000006,500000.99999999994,442100.0,342900.0,457500.0,473500.00000000006,500000.99999999994,500000.99999999994,500000.99999999994,500000.99999999994,500000.99999999994,500000.99999999994,500000.99999999994,500000.99999999994,500000.99999999994,500000.99999999994,500000.99999999994,500000.99999999994,500000.99999999994,500000.99999999994,500000.99999999994,500000.99999999994,500000.99999999994,500000.99999999994,500000.99999999994,500000.99999999994,500000.99999999994,500000.99999999994,500000.99999999994,500000.99999999994,500000.99999999994,500000.99999999994,500000.99999999994,500000.99999999994,500000.99999999994,500000.99999999994,500000.99999999994,500000.99999999994,461200.0,440900.0,437100.00000000006,265000.0,314100.0,360900.0,451300.0,463699.99999999994,417800.0,443800.0,432900.0,362100.0,373100.0,438400.00000000006,431900.0,425500.0,406300.0,397400.0,373400.0,376600.0,398100.0,500000.99999999994,500000.99999999994,500000.99999999994,500000.99999999994,446600.0,500000.99999999994,492000.0,500000.99999999994,500000.99999999994,500000.99999999994,500000.99999999994,500000.99999999994,425000.0,402500.00000000006,356000.0,405900.0,500000.99999999994,500000.99999999994,500000.99999999994,500000.99999999994,500000.99999999994,500000.99999999994,500000.99999999994,476300.0,404800.0,378600.0,375000.0,500000.99999999994,500000.99999999994,387500.0,475000.0,500000.99999999994,500000.99999999994,500000.99999999994,500000.99999999994,500000.99999999994,500000.99999999994,500000.99999999994,500000.99999999994,500000.99999999994,500000.99999999994,500000.99999999994,500000.99999999994,500000.99999999994,500000.99999999994,360000.0,500000.99999999994,318700.0,279900.0,293300.0,398500.0,226399.99999999997,255799.99999999997,361200.0,271400.0,362700.0,459199.99999999994,473400.0,484999.99999999994,405900.0,500000.99999999994,500000.99999999994,500000.99999999994,434500.0,418300.0,348000.0,387500.0,355900.0,361600.0,394200.0,361400.0,305600.0,279300.0,279500.0,269400.0,246500.0,253799.99999999997,191100.0,299300.0,233900.0,234600.0,245200.0,274100.0,238800.0,237600.0,262400.0,230900.00000000003,224000.00000000003,221500.0,279100.0,209700.0,195000.0,184400.0,294200.0,198400.0,250800.0,282600.0,253200.0,311500.0,218699.99999999997,259300.0,236200.0,249500.0,350000.0,244499.99999999997,213099.99999999997,194300.0,123400.0,234500.00000000003,224100.0,265700.0,289200.0,311800.0,291200.0,184800.0,257399.99999999997,141600.0,183900.0,241200.0,237400.0,234400.0,241000.0,245600.0,241200.0,159000.0,251799.99999999997,291500.0,233100.0,253300.0,248000.0,257200.0,278300.0,262700.0,217099.99999999997,229100.0,289600.0,259500.00000000003,265800.0,272400.0,260700.00000000003,260500.0,500000.99999999994,261100.00000000003,385700.0,500000.99999999994,394100.0,467699.99999999994,412600.00000000006,416300.0,344500.0,288100.0,229800.0,248200.00000000003,386200.0,226900.0,239299.99999999997,436700.0,321700.0,335000.0,300800.0,393100.0,386800.0,350000.0,260700.00000000003,234000.0,260300.00000000003,279800.0,264700.0,308700.0,251500.0,298500.0,198600.0,203600.0,228600.0,178000.0,170300.0,160100.0,305000.0,374600.0,500000.99999999994,262500.0,131300.0,340900.0,390000.0,400000.0,350000.0,137500.0,271400.0,263100.0,281500.0,256300.00000000003,239200.0,233000.0,265300.0,245000.00000000003,187500.0,212500.0,404699.99999999994,367600.0,362300.0,131300.0,263800.0,294100.0,320900.0,258300.00000000003,266400.0,253100.0,238600.0,223900.0,255399.99999999997,229400.0,217499.99999999997,166700.0,195300.0,260900.0,232799.99999999997,240000.0,275000.0,242400.0,240499.99999999997,400000.0,326700.0,234400.0,225000.0,262500.0,237500.0,232600.0,250000.0,281300.0,112500.0,243500.0,216100.0,202000.0,196400.0,206400.0,284200.0,263800.0,388500.0,226500.0,258300.00000000003,276000.0,265800.0,116599.99999999999,173200.0,156000.0,151700.0,164600.0,218100.0,194500.0,177800.0,238300.0,160700.0,161400.0,155000.0,151400.0,162000.0,121400.0,190400.0,184300.0,190000.0,169700.0,194800.0,189100.0,241200.0,178400.0,171300.0,192200.0,190100.0,177500.0,334000.0,315800.0,350000.0,240000.0,222600.0,231599.99999999997,239600.0,214299.99999999997,204800.0,202300.0,206900.0,284100.0,185100.0,273300.0,273900.0,206800.0,204100.0,180300.0,394900.0,383300.0,154500.0,196400.0,146300.0,270000.0,201300.0,232300.0,220900.0,203700.0,312300.0,322000.0,500000.99999999994,440500.0,261500.00000000003,240000.0,190900.0,308100.0,373400.0,397700.0,331500.0,402299.99999999994,356600.0,363500.0,386400.0,340600.0,390000.0,353000.0,304400.0,355300.0,371600.0,262400.0,272900.0,215800.0,206999.99999999997,234600.0,215600.0,251900.0,258300.00000000003,213200.0,256700.00000000003,422400.0,377300.0,294400.0,228500.0,234600.0,245100.0,229199.99999999997,252400.0,228600.0,263800.0,290700.0,264300.0,261200.0,330800.0,283500.0,315200.0,305200.0,238000.0,221700.0,351800.0,322300.0,233300.00000000003,289500.0,231900.0,252300.0,308800.0,295200.0,321100.0,335500.0,368400.0,307900.0,352000.0,300000.0,420000.0,290400.0,298600.0,349300.0,288400.0,279800.0,228600.0,305600.0,190800.0,202700.0,229100.0,224700.0,187500.0,81300.0,68900.0,76900.0,72600.0,74800.0,118800.0,101699.99999999999,87500.0,82800.0,58199.99999999999,101200.0,75300.0,86900.0,78200.0,75600.0,104200.0,84400.0,138900.0,58199.99999999999,148700.0,120100.0,90100.0,103099.99999999999,122900.00000000001,66500.0,105000.0,111400.00000000001,78700.0,94200.0,151600.0,111100.0,114199.99999999999,98800.0,64800.0,136700.0,113300.0,146500.0,86500.0,72000.0,80800.0,85900.0,100600.0,98100.0,81600.0,85200.0,97800.0,77300.0,69400.0,67900.0,75900.0,93800.0,100099.99999999999,119200.0,116700.0,118400.0,83100.0,84700.0,92200.0,80400.0,61500.0,60600.0,56599.99999999999,59800.0,65600.0,75800.0,141600.0,128299.99999999999,130700.0,108500.0,105400.0,75800.0,129800.0,138500.0,150800.0,116799.99999999999,66800.0,60400.0,48100.0,59800.0,63000.0,66000.0,68500.0,78600.0,80600.0,98700.0,95500.0,59000.0,76400.0,101600.0,66100.0,74800.0,85400.0,76400.0,97700.0,105700.0,98500.0,76500.0,74500.0,93400.0,171200.0,123200.0,65800.0,78800.0,107800.0,73200.0,52000.0,65600.0,87500.0,141200.0,101000.0,99500.0,80400.0,77400.0,90300.0,77800.0,61300.0,57799.99999999999,64500.0,90300.0,88700.0,77500.0,72900.0,93000.0,71000.0,62500.0,92400.0,68600.0,66600.0,96100.0,43500.0,44000.0,58600.0,55400.00000000001,61400.0,53500.0,64600.0,54400.00000000001,65400.0,62000.0,70100.0,55700.00000000001,81300.0,71200.0,63200.0,57499.99999999999,94200.0,100000.0,60900.0,79600.0,61700.0,63300.0,81100.0,76100.0,46200.0,53100.0,80100.0,71900.0,81500.0,97100.0,110100.0,128800.0,57499.99999999999,65500.0,56000.00000000001,34200.0,62900.0,179500.0,214800.0,131000.0,124600.0,129900.0,112700.0,93300.0,111600.00000000001,110800.00000000001,111900.0,88700.0,127000.0,171900.0,96700.0,94800.0,225199.99999999997,87900.0,90000.0,162500.0,94600.0,133300.0,109400.00000000001,109900.0,147900.0,97200.0,92800.0,103499.99999999999,107300.0,99200.0,92800.0,145800.0,141500.0,148200.0,142900.0,126899.99999999999,152400.0,166900.0,109800.00000000001,103099.99999999999,97900.0,93800.0,98400.0,109700.0,103699.99999999999,111800.00000000001,120000.0,121900.00000000001,134700.0,123700.00000000001,150600.0,91200.0,131600.0,144100.0,123600.0,171100.0,86400.0,90400.0,168500.0,185100.0,208300.00000000003,217499.99999999997,201799.99999999997,219700.0,190300.0,187100.0,195800.0,229199.99999999997,210000.0,166300.0,150600.0,143100.0,122500.00000000001,170200.0,328800.0,393000.0,320400.0,176100.0,161300.0,197700.0,195000.0,171300.0,173400.0,305200.0,135000.0,130600.0,144000.0,223900.0,161700.0,187100.0,162500.0,98900.0,99000.0,99000.0,107200.0,105900.0,129800.0,94200.0,105400.0,105900.0,92200.0,110400.00000000001,125000.0,126299.99999999999,129600.0,118500.0,108500.0,104700.0,101099.99999999999,99100.0,120400.0,126600.0,131600.0,191300.0,157700.0,87500.0,92900.0,134800.0,137900.0,131300.0,126499.99999999999,142900.0,140400.0,139700.0,137500.0,261100.00000000003,81300.0,120100.0,143800.0,78600.0,205100.00000000003,250000.0,281200.0,298400.0,245800.00000000003,232799.99999999997,260900.0,193800.0,151700.0,143500.0,150200.0,140100.0,181000.0,142100.0,158300.0,130600.0,250000.0,137500.0,101699.99999999999,102899.99999999999,126000.0,118900.0,158500.0,189700.0,315200.0,112500.0,122000.0,127200.0,117300.0,140300.0,218800.00000000003,132600.0,134800.0,126800.0,129500.0,132200.0,151700.0,136000.0,173400.0,175700.0,146200.0,216400.00000000003,198000.0,228200.0,191900.0,111500.0,101099.99999999999,125000.0,117600.0,118800.0,84400.0,135600.0,210000.0,178500.0,93800.0,128499.99999999999,154800.0,166500.0,146400.0,107500.0,122700.00000000001,98100.0,133100.0,212500.0,96400.0,94900.0,164400.0,115799.99999999999,81300.0,308400.0,251799.99999999997,254700.00000000003,257900.00000000003,209500.00000000003,333300.0,233500.0,173300.0,271700.0,297600.0,208000.0,262300.0,248300.0,332300.0,195500.0,195500.0,193600.0,171300.0,242099.99999999997,213200.0,261000.0,176000.0,192100.0,166200.0,186800.0,149300.0,211700.0,306600.0,295700.0,165100.0,202800.0,190100.0,185900.0,193800.0,201799.99999999997,204900.0,204500.0,188500.0,198400.0,181900.0,156500.0,170200.0,215200.0,189100.0,196500.0,250500.0,246300.0,234500.00000000003,202300.0,75000.0,145500.0,194100.0,230900.00000000003,228799.99999999997,232100.00000000003,267100.0,291100.0,223800.0,200800.0,252300.0,200599.99999999997,251300.0,244000.0,151600.0,193300.0,243600.0,227599.99999999997,162600.0,285000.0,288500.0,306000.0,261800.0,268000.0,317700.0,310300.0,162500.0,248000.0,292700.0,292100.0,209600.0,183600.0,157600.0,258100.0,158700.0,172400.0,163500.0,160400.0,121600.0,156300.0,255300.0,135500.0,104200.0,146500.0,67500.0,154500.0,162000.0,214000.0,252999.99999999997,191800.0,177500.0,257799.99999999997,227100.0,325400.0,184100.0,165400.0,220299.99999999997,160200.0,141400.0,114100.0,129200.0,140600.0,168100.0,324700.0,215899.99999999997,196400.0,191900.0,343100.0,344100.0,196400.0,202700.0,208400.0,334400.0,246900.0,259800.0,269200.0,201200.0,216699.99999999997,384600.0,221099.99999999997,293500.0,242600.00000000003,172200.0,169700.0,190600.0,163100.0,161200.0,168300.0,161200.0,178300.0,183000.0,193200.0,165000.0,157800.0,129900.0,124000.0,137500.0,258300.00000000003,350000.0,164800.0,157000.0,175500.0,169400.0,159300.0,167200.0,185400.0,222100.0,233300.00000000003,188800.0,244600.00000000003,194300.0,202900.0,190300.0,141300.0,213300.0,240200.0,275900.0,240499.99999999997,289100.0,381300.0,330900.0,190300.0,186200.0,172600.0,187800.0,176200.0,190500.0,313000.0,255700.0,214400.0,341500.0,265200.0,265600.0,231800.0,254199.99999999997,192000.0,248300.0,224100.0,252100.0,135400.0,156500.0,161700.0,91500.0,178300.0,197400.0,191000.0,248600.00000000003,142800.0,146900.0,199200.0,213099.99999999997,150000.0,170900.0,179200.0,147900.0,140300.0,140400.0,145000.0,146200.0,129200.0,164300.0,142300.0,167600.0,183600.0,304700.0,170200.0,180000.0,345300.0,185600.0,141000.0,143200.0,131100.0,146000.0,143800.0,150000.0,152300.0,157300.0,183300.0,149100.0,144000.0,197500.0,165000.0,169300.0,237300.00000000003,244400.0,204599.99999999997,178500.0,194400.0,175000.0,215899.99999999997,257200.0,166700.0,216900.0,260300.00000000003,233700.00000000003,240899.99999999997,259900.00000000003,222400.00000000003,271400.0,290700.0,244099.99999999997,276200.0,293900.0,305000.0,267500.0,209500.00000000003,268300.0,172200.0,269800.0,296800.0,132500.0,120000.0,162100.0,118300.0,136900.0,153100.0,132700.0,98700.0,148800.0,117000.0,146500.0,187800.0,249200.0,266200.0,117100.0,251900.0,240800.0,195100.0,183200.0,250800.0,139300.0,172900.0,213800.0,173700.0,160000.0,183300.0,174000.0,176100.0,188600.0,168800.0,201700.0,244600.00000000003,246200.00000000003,266700.0,287800.0,151300.0,227999.99999999997,241699.99999999997,210000.0,171900.0,140600.0,138800.0,133300.0,134100.0,164400.0,295400.0,131300.0,157500.0,232600.0,122900.00000000001,112500.0,262500.0,268800.0,364800.0,208300.00000000003,269500.0,173300.0,156300.0,183300.0,275300.0,187500.0,282100.0,142700.0,85400.0,109400.00000000001,96400.0,94700.0,113300.0,77300.0,77100.0,88900.0,116399.99999999999,85000.0,131200.0,71300.0,75000.0,87200.0,116700.0,85200.0,112500.0,121900.00000000001,91900.0,90200.0,156500.0,92700.0,81500.0,179500.0,268800.0,160900.0,174400.0,176700.0,170200.0,156300.0,174100.0,248600.00000000003,434999.99999999994,161100.0,155900.0,212500.0,129299.99999999999,187500.0,220000.00000000003,171400.0,187500.0,151900.0,197500.0,195500.0,131300.0,137700.0,125400.0,175000.0,142200.0,196900.0,150100.0,146400.0,162800.0,129099.99999999999,150000.0,162500.0,147500.0,135600.0,146200.0,182400.0,158100.0,109700.0,87500.0,92700.0,81400.0,145000.0,146000.0,160900.0,114500.0,110400.00000000001,110500.0,106400.0,162100.0,137600.0,138300.0,188400.0,225000.0,138500.0,148100.0,290500.0,185100.0,199400.0,94900.0,149600.0,160900.0,114300.0,130300.0,163700.0,112799.99999999999,112700.0,107400.0,155500.0,121200.0,118600.0,117300.0,114300.0,163200.0,121500.00000000001,137500.0,145200.0,127899.99999999999,179800.0,114199.99999999999,100600.0,103099.99999999999,127099.99999999999,109100.0,90500.0,107000.0,135600.0,106000.0,86600.0,119000.0,110200.00000000001,108100.0,151400.0,138100.0,152000.0,149400.0,111500.0,98300.0,75500.0,109900.0,125000.0,106000.0,102299.99999999999,120000.0,150000.0,125000.0,88300.0,81800.0,83900.0,59000.0,81300.0,77700.0,95800.0,75000.0,69900.0,81300.0,67500.0,99600.0,70000.0,187500.0,82500.0,162500.0,90600.0,137500.0,90700.0,95500.0,172200.0,110700.0,130300.0,82500.0,76300.0,81300.0,119000.0,189200.0,275000.0,107000.0,95500.0,88300.0,69400.0,450000.0,67500.0,65000.0,58800.0,73800.0,80900.0,74900.0,79500.0,73700.0,81300.0,60000.0,75000.0,54100.00000000001,129299.99999999999,62900.0,82100.0,68000.0,58399.99999999999,60000.0,145900.0,122000.0,63600.0,129299.99999999999,142200.0,93400.0,103899.99999999999,97400.0,102899.99999999999,81500.0,111300.0,99500.0,174800.0,127800.0,87500.0,137500.0,116100.0,143600.0,170500.0,201300.0,96800.0,84300.0,79200.0,154200.0,81800.0,87900.0,175000.0,178600.0,171400.0,193800.0,204300.00000000003,142500.0,86200.0,133600.0,195800.0,123100.00000000001,180500.0,65400.0,166100.0,154800.0,129700.0,121400.0,82800.0,91900.0,97900.0,129200.0,187500.0,125200.0,115199.99999999999,128099.99999999999,92700.0,145600.0,161900.0,86500.0,100000.0,112500.0,162500.0,170800.0,162500.0,73500.0,74200.0,75000.0,112500.0,95000.0,71500.0,106000.0,82100.0,115500.0,141800.0,156900.0,175000.0,275000.0,250000.0,157500.0,125000.0,139100.0,135900.0,137500.0,96300.0,108300.0,90600.0,181300.0,164800.0,145800.0,131300.0,160700.0,110300.0,159400.0,145600.0,133600.0,122500.00000000001,82800.0,76400.0,69500.0,89400.0,61500.0,104600.0,127099.99999999999,127499.99999999999,93100.0,97300.0,85700.0,86100.0,122400.0,165800.0,150000.0,135400.0,118500.0,138400.0,106500.0,150000.0,124800.0,126800.0,198400.0,110700.0,103800.0,71800.0,97100.0,72500.0,73500.0,74000.0,65300.0,68300.0,61500.0,65200.0,64100.0,79500.0,63400.0,83800.0,98800.0,65900.0,53000.0,225000.0,94200.0,117500.0,97200.0,100099.99999999999,123800.0,99700.0,179700.0,89100.0,141700.0,110700.0,92900.0,96200.0,94600.0,115199.99999999999,112300.0,134000.0,102400.0,114799.99999999999,124900.00000000001,101400.0,61600.0,64100.0,100000.0,57999.99999999999,72500.0,71200.0,97900.0,62000.0,67500.0,110400.00000000001,86000.0,118800.0,100000.0,106300.0,98200.0,258300.00000000003,137500.0,72700.0,94000.0,82300.0,79100.0,79800.0,106300.0,83900.0,92200.0,81300.0,84800.0,55600.00000000001,87500.0,137900.0,87700.0,104299.99999999999,63700.0,70500.0,128800.0,60800.0,51900.0,54100.00000000001,88900.0,84400.0,73600.0,63200.0,64900.0,55100.00000000001,64700.0,51600.0,59200.0,59000.0,55000.00000000001,68200.0,44400.0,63300.0,58399.99999999999,68400.0,58199.99999999999,91700.0,77200.0,60800.0,57399.99999999999,62700.0,86400.0,54400.00000000001,79800.0,54200.00000000001,59500.0,53500.0,90400.0,88900.0,93100.0,91200.0,102099.99999999999,71700.0,81300.0,94200.0,88800.0,66000.0,75000.0,79200.0,79200.0,84700.0,55000.00000000001,65000.0,73700.0,49600.0,61500.0,48800.0,56699.99999999999,37500.0,14999.000000000002,41300.0,64500.0,67500.0,87500.0,80000.0,85200.0,118800.0,143300.0,139700.0,147100.0,118800.0,59100.0,57399.99999999999,58299.99999999999,65600.0,109100.0,41700.0,100000.0,106300.0,49200.0,62000.0,110300.0,93500.0,108900.0,67400.0,80400.0,95300.0,72000.0,84700.0,51800.0,51400.0,59000.0,59100.0,65000.0,53200.0,50300.0,43000.0,74300.0,71300.0,57599.99999999999,55800.00000000001,52500.0,51700.0,92800.0,60000.0,129200.0,145700.0,53500.0,53500.0,57999.99999999999,123800.0,68600.0,69600.0,52900.0,48000.0,60200.0,53300.0,64900.0,48100.0,65200.0,68400.0,231300.00000000003,239100.0,150500.0,126600.0,93700.0,105600.0,132000.0,50600.0,71000.0,63100.0,54100.00000000001,112500.0,84900.0,154800.0,83700.0,72400.0,55500.00000000001,58600.0,95000.0,96900.0,92700.0,93800.0,76500.0,66200.0,79300.0,80200.0,72500.0,48300.0,61900.0,56999.99999999999,45600.0,41400.0,49400.0,54100.00000000001,69100.0,65900.0,64600.0,62900.0,66900.0,67200.0,89200.0,110200.00000000001,113100.0,72200.0,84600.0,77000.0,92500.0,109000.00000000001,88800.0,101899.99999999999,82800.0,97300.0,92600.0,86300.0,118600.0,177300.0,86600.0,83800.0,94600.0,89200.0,82800.0,88600.0,85500.0,121300.00000000001,87700.0,87500.0,107300.0,112999.99999999999,133800.0,93400.0,88900.0,74400.0,115599.99999999999,93200.0,104200.0,89200.0,120100.0,73600.0,132800.0,68300.0,64800.0,60000.0,54600.00000000001,60300.0,50200.0,54100.00000000001,90200.0,106800.0,78200.0,89900.0,67000.0,68400.0,108100.0,95400.0,78300.0,90000.0,139200.0,66000.0,129200.0,70400.0,114199.99999999999,55600.00000000001,59300.0,74300.0,47700.0,44600.0,49500.0,58399.99999999999,137500.0,113900.0,65700.0,99100.0,71300.0,82100.0,71300.0,128899.99999999999,61200.0,77100.0,54400.00000000001,54400.00000000001,63800.0,74500.0,63100.0,64500.0,83300.0,72300.0,69700.0,50800.0,51100.0,51500.0,66100.0,67800.0,106900.0,49200.0,112500.0,48700.0,112500.0,112500.0,42500.0,71300.0,85900.0,40900.0,113700.0,95500.0,49000.0,52900.0,41500.0,53900.0,62100.0,79800.0,98500.0,103400.0,63600.0,72900.0,77400.0,99200.0,52000.0,72100.0,71000.0,76200.0,64600.0,62900.0,70600.0,88600.0,55500.00000000001,67700.0,80600.0,78000.0,77600.0,60800.0,53100.0,50900.0,90000.0,47400.0,52300.0,51400.0,63900.0,42600.0,81300.0,73000.0,51900.0,43100.0,47700.0,53100.0,65200.0,47500.0,47800.0,51000.0,52500.0,42700.0,62600.0,58299.99999999999,49800.0,53300.0,43700.0,49500.0,47600.0,65700.0,51700.0,55800.00000000001,96200.0,112599.99999999999,105200.0,121200.0,86700.0,123200.0,217499.99999999997,113399.99999999999,91400.0,104800.0,87500.0,104600.0,128099.99999999999,118800.0,139100.0,115300.0,186000.0,139700.0,111300.0,145700.0,99800.0,105100.0,153500.0,170700.0,136200.0,116500.0,137000.0,162500.0,115799.99999999999,88900.0,132500.0,107100.0,148600.0,93300.0,153300.0,79400.0,68200.0,134100.0,112500.0,149500.0,118900.0,120100.0,144800.0,100000.0,162500.0,137500.0,137900.0,112500.0,137500.0,137500.0,103000.0,115900.0,98700.0,164000.0,99400.0,177000.0,87500.0,115399.99999999999,156300.0,262500.0,191700.0,120400.0,375000.0,338100.0,187900.0,190500.0,198000.0,173400.0,209100.00000000003,176100.0,134400.0,230300.0,201700.0,162500.0,181300.0,184000.0,281300.0,199300.0,183300.0,158300.0,146600.0,214800.0,186000.0,194800.0,191800.0,237900.0,189900.0,260300.00000000003,434700.00000000006,227599.99999999997,427600.0,325000.0,357900.0,297900.0,375000.0,245000.00000000003,225000.0,161200.0,231300.00000000003,500000.99999999994,197600.0,230799.99999999997,243100.0,234700.0,313000.0,219899.99999999997,241400.00000000003,199300.0,225000.0,279400.0,500000.99999999994,259200.0,224200.0,268200.0,283200.0,175700.0,500000.99999999994,225000.0,154200.0,219200.00000000003,232700.0,221099.99999999997,75000.0,279500.0,234800.0,236500.00000000003,267300.0,223600.00000000003,55000.00000000001,157300.0,145200.0,203399.99999999997,217600.00000000003,199500.0,218000.00000000003,228900.00000000003,214600.0,234100.00000000003,223200.00000000003,235000.0,187500.0,219400.0,234300.0,229300.00000000003,409300.0,281100.0,404300.0,303600.0,299700.0,257500.00000000003,231900.0,254100.0,396400.0,303200.0,229100.0,358200.0,349000.0,385200.0,323900.0,186800.0,170800.0,165300.0,160500.0,192700.0,192500.0,187500.0,395500.0,359100.0,275000.0,500000.99999999994,203799.99999999997,206300.00000000003,198400.0,206599.99999999997,384600.0,166700.0,221200.00000000003,220500.0,244499.99999999997,214900.0,219000.0,209000.0,212699.99999999997,214299.99999999997,275000.0,301800.0,112500.0,218800.00000000003,219899.99999999997,234300.0,198700.0,197100.0,143500.0,160300.0,149300.0,106900.0,234700.0,257600.0,235400.0,224500.0,253900.00000000003,208199.99999999997,213899.99999999997,220500.0,167400.0,170800.0,87500.0,423299.99999999994,500000.99999999994,500000.99999999994,380400.0,229500.0,242899.99999999997,231199.99999999997,218500.0,185400.0,180500.0,181100.0,179100.0,175800.0,172400.0,185600.0,182100.0,164900.0,188000.0,195100.0,186800.0,187300.0,187600.0,186200.0,191100.0,189000.0,183400.0,450000.0,165600.0,215200.0,185400.0,160800.0,305800.0,167400.0,186000.0,192000.0,205399.99999999997,146100.0,206800.0,194400.0,67500.0,243800.00000000003,175000.0,207700.0,196600.0,280000.0,223900.0,194300.0,169300.0,189300.0,186800.0,213200.0,500000.99999999994,182000.0,194100.0,500000.99999999994,500000.99999999994,391200.0,452100.0,228700.0,340600.0,311900.0,279600.0,284200.0,232200.0,500000.99999999994,217000.0,238099.99999999997,271300.0,232600.0,250800.0,214200.0,246600.00000000003,257500.00000000003,221700.0,222800.00000000003,177100.0,227900.0,275000.0,125000.0,319000.0,218200.0,52500.0,275000.0,293100.0,162500.0,258199.99999999997,241299.99999999997,254900.0,344900.0,299400.0,235600.0,247600.0,291500.0,287900.0,259300.0,294800.0,500000.99999999994,176000.0,302600.0,333800.0,313800.0,410700.0,318800.0,399400.0,358500.0,410799.99999999994,366300.0,337500.0,233199.99999999997,500000.99999999994,321800.0,423400.0,228799.99999999997,239400.0,242099.99999999997,281300.0,130400.0,452100.0,500000.99999999994,312000.0,264600.0,287100.0,302700.0,305400.0,342900.0,290900.0,232200.0,251700.0,251399.99999999997,241400.00000000003,206700.00000000003,211800.0,274800.0,258000.0,300000.0,286800.0,316000.0,309900.0,264600.0,243500.0,240700.0,228700.0,212800.0,173800.0,187500.0,323700.0,422900.0,392900.0,349400.0,348300.0,353900.0,500000.99999999994,428599.99999999994,357600.0,325900.0,500000.99999999994,500000.99999999994,425800.0,361900.0,224700.0,282700.0,214699.99999999997,222400.00000000003,204300.00000000003,252999.99999999997,500000.99999999994,320800.0,401900.0,264100.0,308100.0,254500.0,404699.99999999994,500000.99999999994,208599.99999999997,242600.00000000003,194100.0,375000.0,195700.0,182100.0,280200.0,321300.0,196800.0,170900.0,198500.0,196400.0,209900.00000000003,208199.99999999997,185200.0,187700.0,258100.0,239900.0,266300.0,264400.0,186600.0,188000.0,233300.00000000003,225000.0,179400.0,205300.0,215000.0,196900.0,190400.0,222100.0,198100.0,193400.0,204100.0,221000.0,225800.0,186600.0,196100.0,250000.0,223900.0,217700.0,218600.0,235300.00000000003,238000.0,393000.0,223000.0,225199.99999999997,209100.00000000003,191800.0,204599.99999999997,229199.99999999997,302000.0,221200.00000000003,238300.0,244099.99999999997,229800.0,236700.0,227000.0,335000.0,325000.0,330000.0,343900.0,248000.0,276500.0,69100.0,76000.0,80200.0,74800.0,67800.0,69600.0,225000.0,32500.0,86600.0,86200.0,74300.0,82300.0,76400.0,79200.0,118500.0,73100.0,146900.0,115900.0,141700.0,156900.0,310000.0,223200.00000000003,204300.00000000003,201799.99999999997,286000.0,153600.0,326500.0,179100.0,148500.0,130800.0,137500.0,145200.0,164100.0,194300.0,226500.0,236200.0,182600.0,219400.0,227700.0,123100.00000000001,107900.0,69400.0,122200.0,103099.99999999999,95800.0,120600.0,95300.0,97800.0,172000.0,152500.0,119400.0,154400.0,167200.0,146900.0,108900.0,107200.0,132500.0,151400.0,225000.0,200700.0,165000.0,139900.0,133400.0,139600.0,127299.99999999999,126699.99999999999,225000.0,193800.0,187500.0,98400.0,91700.0,275000.0,78400.0,87900.0,123400.0,92700.0,137500.0,69800.0,83600.0,96300.0,70300.0,61300.0,58900.0,71300.0,55500.00000000001,55000.00000000001,79800.0,84700.0,88800.0,68500.0,68700.0,55500.00000000001,63000.0,71700.0,57899.99999999999,69700.0,59600.0,65000.0,61200.0,56599.99999999999,62300.0,48800.0,57499.99999999999,45500.0,47000.0,48300.0,53400.0,57999.99999999999,57499.99999999999,55100.00000000001,70800.0,63400.0,99100.0,100000.0,77500.0,67000.0,65500.0,87200.0,72000.0,93800.0,162500.0,92400.0,108300.0,112000.00000000001,107200.0,115599.99999999999,98300.0,116799.99999999999,78100.0,77100.0,92300.0,84700.0,89400.0],\"xaxis\":\"x\",\"yaxis\":\"y\",\"type\":\"histogram\"}],                        {\"template\":{\"data\":{\"pie\":[{\"automargin\":true,\"type\":\"pie\"}]},\"layout\":{\"xaxis\":{\"showgrid\":true,\"title\":{\"standoff\":15}},\"yaxis\":{\"showgrid\":true,\"title\":{\"standoff\":15}}}},\"xaxis\":{\"anchor\":\"y\",\"domain\":[0.0,1.0],\"title\":{\"text\":\"value\"}},\"yaxis\":{\"anchor\":\"x\",\"domain\":[0.0,1.0],\"title\":{\"text\":\"count\"}},\"legend\":{\"title\":{\"text\":\"variable\"},\"tracegroupgap\":0},\"margin\":{\"t\":60},\"barmode\":\"relative\",\"bargap\":0.2},                        {\"responsive\": true}                    ).then(function(){\n",
              "                            \n",
              "var gd = document.getElementById('b8b7b78e-2896-4a0b-9afb-aee20b790a7b');\n",
              "var x = new MutationObserver(function (mutations, observer) {{\n",
              "        var display = window.getComputedStyle(gd).display;\n",
              "        if (!display || display === 'none') {{\n",
              "            console.log([gd, 'removed!']);\n",
              "            Plotly.purge(gd);\n",
              "            observer.disconnect();\n",
              "        }}\n",
              "}});\n",
              "\n",
              "// Listen for the removal of the full notebook cells\n",
              "var notebookContainer = gd.closest('#notebook-container');\n",
              "if (notebookContainer) {{\n",
              "    x.observe(notebookContainer, {childList: true});\n",
              "}}\n",
              "\n",
              "// Listen for the clearing of the current output cell\n",
              "var outputEl = gd.closest('.output');\n",
              "if (outputEl) {{\n",
              "    x.observe(outputEl, {childList: true});\n",
              "}}\n",
              "\n",
              "                        })                };                            </script>        </div>\n",
              "</body>\n",
              "</html>"
            ]
          },
          "metadata": {}
        }
      ]
    },
    {
      "cell_type": "code",
      "source": [
        "print(\"\")\n",
        "print(f\"The standard deviation of the target is: ${y.std():.2f} \")"
      ],
      "metadata": {
        "colab": {
          "base_uri": "https://localhost:8080/"
        },
        "id": "mTPqV06CHqo-",
        "outputId": "9d4a8a89-981b-4aee-9d96-cc26f6cb57ca"
      },
      "execution_count": 31,
      "outputs": [
        {
          "output_type": "stream",
          "name": "stdout",
          "text": [
            "\n",
            "The standard deviation of the target is: $115395.62 \n"
          ]
        }
      ]
    },
    {
      "cell_type": "markdown",
      "source": [
        "<p align=\"justify\">\n",
        "✅ La variable objetivo va desde cerca de $0$ hasta $500$ y, con una desviación estándar alrededor de $115$.\n",
        "<br><br>\n",
        "✅ Notamos que la estimación media del error de prueba obtenido por validación cruzada es un poco más pequeña que la escala natural de variación de la variable objetivo. Además, la desviación estándar de la estimación de validación cruzada del error de prueba es aún menor.\n",
        "<br><br>\n",
        "✅ Este es un buen comienzo, pero no necesariamente suficiente para decidir si el rendimiento de la generalización es bueno para que nuestra predicción sea útil en la práctica.\n",
        "<br><br>\n",
        "Recordamos que nuestro modelo comete, en promedio, un error de alrededor de $47$. Con esta información y mirando la distribución objetivo, tal error podría ser aceptable al predecir casas de $500$. Sin embargo, sería un problema con una casa con un valor de $50$. Por lo tanto, esto indica que nuestra métrica Error Absoluto Medio (MAE) no es ideal.\n",
        "<br><br>\n",
        "En lugar de usar entonces el Error Absoluto Medio (MAE), podríamos elegir una métrica relativa al valor objetivo para predecir, como por ejemplo, el error porcentual absoluto medio, que habría sido una opción mucho mejor.\n",
        "<br><br>\n",
        "Pero en todos los casos, un error de $47$ podría ser demasiado grande para usar automáticamente nuestro modelo para etiquetar los valores de las propiedades, sin la supervisión de un experto que conozca del negocio."
      ],
      "metadata": {
        "id": "TyY_wPaNH0L1"
      }
    },
    {
      "cell_type": "markdown",
      "source": [
        "# **<font color=\"DeepPink\">Más detalles sobre `cross_validate`</font>**"
      ],
      "metadata": {
        "id": "BhlQM8492wrU"
      }
    },
    {
      "cell_type": "markdown",
      "source": [
        "<p align=\"justify\">\n",
        "👀 Durante la validación cruzada, se entrenan y evalúan muchos modelos. De hecho, el número de elementos en cada matriz de la salida de <code>cross_validate</code> es un resultado de uno de estos procedimientos <code>fit</code> / <code>score</code>. Para hacerlo explícito, es posible recuperar estos modelos ajustados para cada una de las divisiones (folds) pasando la opción <code>return_estimator=True</code> en <code>cross_validate</code>."
      ],
      "metadata": {
        "id": "574THQ-RKXDp"
      }
    },
    {
      "cell_type": "code",
      "source": [
        "from sklearn.model_selection import cross_val_score"
      ],
      "metadata": {
        "id": "HawNhcyxDdqC"
      },
      "execution_count": 32,
      "outputs": []
    },
    {
      "cell_type": "code",
      "source": [
        "cv_results = cross_validate(model, X, y, return_estimator=True)\n",
        "cv_results"
      ],
      "metadata": {
        "colab": {
          "base_uri": "https://localhost:8080/"
        },
        "id": "o63GHIjoKZ6h",
        "outputId": "4e660bad-bf24-4422-fee6-b47ee128fb6c"
      },
      "execution_count": 33,
      "outputs": [
        {
          "output_type": "execute_result",
          "data": {
            "text/plain": [
              "{'fit_time': array([0.21872234, 0.21384168, 0.19145846, 0.19702148, 0.18613935]),\n",
              " 'score_time': array([0.00307393, 0.00314784, 0.00313091, 0.00301003, 0.00302649]),\n",
              " 'estimator': [DecisionTreeRegressor(random_state=0),\n",
              "  DecisionTreeRegressor(random_state=0),\n",
              "  DecisionTreeRegressor(random_state=0),\n",
              "  DecisionTreeRegressor(random_state=0),\n",
              "  DecisionTreeRegressor(random_state=0)],\n",
              " 'test_score': array([0.21214626, 0.41969181, 0.42331813, 0.19377131, 0.4145845 ])}"
            ]
          },
          "metadata": {},
          "execution_count": 33
        }
      ]
    },
    {
      "cell_type": "code",
      "source": [
        "cv_results['estimator']"
      ],
      "metadata": {
        "colab": {
          "base_uri": "https://localhost:8080/"
        },
        "id": "L07OdqXlKiFm",
        "outputId": "3dbbcf3c-4cad-4b34-fa12-14c1d98111ea"
      },
      "execution_count": 34,
      "outputs": [
        {
          "output_type": "execute_result",
          "data": {
            "text/plain": [
              "[DecisionTreeRegressor(random_state=0),\n",
              " DecisionTreeRegressor(random_state=0),\n",
              " DecisionTreeRegressor(random_state=0),\n",
              " DecisionTreeRegressor(random_state=0),\n",
              " DecisionTreeRegressor(random_state=0)]"
            ]
          },
          "metadata": {},
          "execution_count": 34
        }
      ]
    },
    {
      "cell_type": "markdown",
      "source": [
        "<p align=\"justify\">\n",
        "👀 Los cinco regresores del árbol de decisión corresponden a los cinco árboles en los diferentes folds. Tener acceso a estos regresores es útil porque permite inspeccionar los parámetros ajustados internos de estos regresores.\n",
        "<br><br>\n",
        "En el caso de que solo nos interese el puntaje de la prueba, <code>Scikit-learn</code> proporciona la función <code>cross_val_score</code>. Es idéntico a llamar a la función <code>cross_validate</code> y para seleccionar <code>test_score</code> solamente."
      ],
      "metadata": {
        "id": "0DiyhDveK2Ls"
      }
    },
    {
      "cell_type": "code",
      "source": [
        "scores = cross_val_score(model, X, y)\n",
        "scores"
      ],
      "metadata": {
        "colab": {
          "base_uri": "https://localhost:8080/"
        },
        "id": "G8v3XSjfK04O",
        "outputId": "db5f9ba1-3d31-40fa-ea90-d55d1fe4a441"
      },
      "execution_count": 35,
      "outputs": [
        {
          "output_type": "execute_result",
          "data": {
            "text/plain": [
              "array([0.21214626, 0.41969181, 0.42331813, 0.19377131, 0.4145845 ])"
            ]
          },
          "metadata": {},
          "execution_count": 35
        }
      ]
    },
    {
      "cell_type": "markdown",
      "source": [
        " # **<font color=\"DeepPink\">Conclusiones</font>**"
      ],
      "metadata": {
        "id": "Y-dYoJ6cLjUb"
      }
    },
    {
      "cell_type": "markdown",
      "source": [
        "<p align=\"justify\">\n",
        "👀 En este colab nosotros:\n",
        "<br><br>\n",
        "✅ Cargamos los datos de un objeto de<code>Scikit-learn</code> y lo convertimos a un <code>DataFrame</code>.\n",
        "<br> \n",
        "✅ Vimos la necesidad de dividir los datos en un conjunto de entrenamiento y un conjunto de prueba.\n",
        "<br> \n",
        "✅ Constatamos el significado de los errores de entrenamiento y los errores de prueba. \n",
        "<br> \n",
        "✅ Definimos el marco general de la validación cruzada con la posibilidad de estudiar las variaciones del rendimiento de la generalización del modelo.\n"
      ],
      "metadata": {
        "id": "dj34CE0h5Hb6"
      }
    },
    {
      "cell_type": "markdown",
      "source": [
        "<br>\n",
        "<br>\n",
        "<p align=\"center\"><b>\n",
        "💗\n",
        "<font color=\"DeepPink\">\n",
        "Hemos llegado al final de nuestro colab, a seguir codeando...\n",
        "</font>\n",
        "</p>\n",
        "<br>\n",
        "<p align=\"center\">\n",
        "<img src=\"https://github.com/cristiandarioortegayubro/BDS/blob/main/images/Logo%20BDS%20Horizontal%208.png?raw=true\">\n",
        "</p>\n",
        "\n",
        "---\n"
      ],
      "metadata": {
        "id": "wtgChAZSaUMQ"
      }
    }
  ]
}