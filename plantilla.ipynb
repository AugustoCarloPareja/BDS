{
  "nbformat": 4,
  "nbformat_minor": 0,
  "metadata": {
    "colab": {
      "provenance": [],
      "collapsed_sections": [],
      "authorship_tag": "ABX9TyOSFoDkLjJY5o7E49UlgvL5",
      "include_colab_link": true
    },
    "kernelspec": {
      "name": "python3",
      "display_name": "Python 3"
    },
    "language_info": {
      "name": "python"
    }
  },
  "cells": [
    {
      "cell_type": "markdown",
      "metadata": {
        "id": "view-in-github",
        "colab_type": "text"
      },
      "source": [
        "<a href=\"https://colab.research.google.com/github/cristiandarioortegayubro/BDS/blob/main/plantilla.ipynb\" target=\"_parent\"><img src=\"https://colab.research.google.com/assets/colab-badge.svg\" alt=\"Open In Colab\"/></a>"
      ]
    },
    {
      "cell_type": "code",
      "source": [
        "#@title\n",
        "from IPython.display import HTML\n",
        "HTML('<div style=\"width: 100%;\"><div style=\"position: relative; padding-bottom: 8.75%; padding-top: 0; height: 0;\"><iframe title=\"BDS\" frameborder=\"0\" width=\"1200\" height=\"105\" style=\"position: absolute; top: 0; left: 0; width: 100%; height: 100%;\" src=\"https://view.genial.ly/63516a74bda06a0012b541bc\" type=\"text/html\" allowscriptaccess=\"always\" allowfullscreen=\"true\" scrolling=\"yes\" allownetworking=\"all\"></iframe> </div> </div>')"
      ],
      "metadata": {
        "colab": {
          "base_uri": "https://localhost:8080/",
          "height": 118
        },
        "cellView": "form",
        "id": "XxUwt0ArNm7y",
        "outputId": "da58d8af-5f65-4895-8e69-3142252b911b"
      },
      "execution_count": 4,
      "outputs": [
        {
          "output_type": "execute_result",
          "data": {
            "text/plain": [
              "<IPython.core.display.HTML object>"
            ],
            "text/html": [
              "<div style=\"width: 100%;\"><div style=\"position: relative; padding-bottom: 8.75%; padding-top: 0; height: 0;\"><iframe title=\"BDS\" frameborder=\"0\" width=\"1200\" height=\"105\" style=\"position: absolute; top: 0; left: 0; width: 100%; height: 100%;\" src=\"https://view.genial.ly/63516a74bda06a0012b541bc\" type=\"text/html\" allowscriptaccess=\"always\" allowfullscreen=\"true\" scrolling=\"yes\" allownetworking=\"all\"></iframe> </div> </div>"
            ]
          },
          "metadata": {},
          "execution_count": 4
        }
      ]
    },
    {
      "cell_type": "markdown",
      "source": [
        "# **Titulo 1**"
      ],
      "metadata": {
        "id": "go3wAMbHOzvq"
      }
    },
    {
      "cell_type": "code",
      "source": [],
      "metadata": {
        "id": "vg8_zl8IOB9j"
      },
      "execution_count": 1,
      "outputs": []
    }
  ]
}