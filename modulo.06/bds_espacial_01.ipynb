{
  "cells": [
    {
      "cell_type": "markdown",
      "metadata": {
        "id": "view-in-github",
        "colab_type": "text"
      },
      "source": [
        "<a href=\"https://colab.research.google.com/github/cristiandarioortegayubro/BDS/blob/main/modulo.06/bds_espacial_01.ipynb\" target=\"_parent\"><img src=\"https://colab.research.google.com/assets/colab-badge.svg\" alt=\"Open In Colab\"/></a>"
      ]
    },
    {
      "cell_type": "markdown",
      "source": [
        "<p align=\"center\">\n",
        "<img src=\"https://github.com/cristiandarioortegayubro/BDS/blob/main/images/Logo%20BDS%20Horizontal%208.png?raw=true\">\n",
        "</p>\n"
      ],
      "metadata": {
        "id": "iheuwam9e4CH"
      }
    },
    {
      "cell_type": "markdown",
      "source": [
        "<p align=\"center\">\n",
        "<img src=\"https://github.com/cristiandarioortegayubro/BDS/blob/main/images/geopandas_logo_big.png?raw=true\" width=\"280\">\n",
        "</p>"
      ],
      "metadata": {
        "id": "fBNtvjpUxHaM"
      }
    },
    {
      "cell_type": "markdown",
      "source": [
        " # **<font color=\"DeepPink\">Introducción a Datos Espaciales</font>**"
      ],
      "metadata": {
        "id": "hZyG3ggrAiVq"
      }
    },
    {
      "cell_type": "markdown",
      "source": [
        "<p align=\"justify\">\n",
        "El análisis de datos espaciales juega un papel fundamental en diversas áreas, desde la planificación urbana, la economía regional, el análisis ambiental y la geografía. Con el creciente interés en la recopilación y el análisis de información geoespacial, Python se ha convertido en una herramienta poderosa para el manejo y procesamiento de datos espaciales.\n",
        "<br><br>\n",
        "Una de las librerías más destacadas para trabajar con datos geoespaciales en Python es <code>shapely</code>. <code>shapely</code> es una biblioteca de código abierto que permite realizar operaciones geométricas y topológicas en objetos espaciales. Con <code>shapely</code>, los usuarios pueden manipular, analizar y visualizar datos geográficos de manera sencilla y eficiente.\n",
        "<br><br>\n",
        "Exploraremos los conceptos básicos de <code>shapely</code> y aprenderemos a trabajar con diferentes tipos de datos espaciales. Antes de sumergirnos en ejemplos prácticos, es importante entender algunos conceptos fundamentales."
      ],
      "metadata": {
        "id": "RZKsrxSdSj7Y"
      }
    },
    {
      "cell_type": "code",
      "execution_count": null,
      "metadata": {
        "id": "tAa7UAg-Q-L1"
      },
      "outputs": [],
      "source": [
        "import shapely as sh"
      ]
    },
    {
      "cell_type": "markdown",
      "source": [
        " ## **<font color=\"DeepPink\">Geometría y tipos de datos espaciales</font>**"
      ],
      "metadata": {
        "id": "Xu3JQos7SpFE"
      }
    },
    {
      "cell_type": "markdown",
      "source": [
        "<p align=\"justify\">\n",
        "En <code>shapely</code>, los datos espaciales se representan mediante objetos geométricos. Algunos de los tipos de geometrías más comunes son los puntos, líneas y polígonos. Estos objetos geométricos permiten describir y representar entidades en un espacio bidimensional o tridimensional."
      ],
      "metadata": {
        "id": "dfNMpChVTMN3"
      }
    },
    {
      "cell_type": "markdown",
      "source": [
        " ### **<font color=\"DeepPink\">Puntos y multi - puntos</font>**\n"
      ],
      "metadata": {
        "id": "WNsHumuDTd1A"
      }
    },
    {
      "cell_type": "markdown",
      "source": [
        "<p align=\"justify\">\n",
        "Los puntos son entidades fundamentales en datos espaciales. Representan una ubicación específica en el espacio y se definen por sus coordenadas $X$ e $Y$ en un sistema de referencia dado."
      ],
      "metadata": {
        "id": "O19SLapQTntX"
      }
    },
    {
      "cell_type": "code",
      "execution_count": null,
      "metadata": {
        "colab": {
          "base_uri": "https://localhost:8080/"
        },
        "id": "qaHWVSRpQ-L1",
        "outputId": "409180c1-e7de-4658-902d-b218e4ff4227"
      },
      "outputs": [
        {
          "output_type": "stream",
          "name": "stdout",
          "text": [
            "POINT (-5 5)\n"
          ]
        }
      ],
      "source": [
        "punto = print(sh.geometry.point.Point(-5,5))\n",
        "punto"
      ]
    },
    {
      "cell_type": "code",
      "execution_count": null,
      "metadata": {
        "colab": {
          "base_uri": "https://localhost:8080/",
          "height": 122
        },
        "id": "zTuwUroyQ-L2",
        "outputId": "611c65cd-9cd3-4000-a3bc-5ce4da2e4662"
      },
      "outputs": [
        {
          "output_type": "execute_result",
          "data": {
            "text/plain": [
              "<MULTIPOINT (-5 5, -6 6)>"
            ],
            "image/svg+xml": "<svg xmlns=\"http://www.w3.org/2000/svg\" xmlns:xlink=\"http://www.w3.org/1999/xlink\" width=\"100.0\" height=\"100.0\" viewBox=\"-6.04 4.96 1.08 1.08\" preserveAspectRatio=\"xMinYMin meet\"><g transform=\"matrix(1,0,0,-1,0,11.0)\"><g><circle cx=\"-5.0\" cy=\"5.0\" r=\"0.0324\" stroke=\"#555555\" stroke-width=\"0.0108\" fill=\"#66cc99\" opacity=\"0.6\" /><circle cx=\"-6.0\" cy=\"6.0\" r=\"0.0324\" stroke=\"#555555\" stroke-width=\"0.0108\" fill=\"#66cc99\" opacity=\"0.6\" /></g></g></svg>"
          },
          "metadata": {},
          "execution_count": 3
        }
      ],
      "source": [
        "multipunto = sh.geometry.multipoint.MultiPoint(((-5,5),(-6,6)))\n",
        "multipunto"
      ]
    },
    {
      "cell_type": "markdown",
      "source": [
        " ### **<font color=\"DeepPink\">Líneas</font>**"
      ],
      "metadata": {
        "id": "FBZ1IYcOUGRX"
      }
    },
    {
      "cell_type": "markdown",
      "metadata": {
        "id": "Tw3pCW4wQ-L2"
      },
      "source": [
        "<p align=\"justify\">\n",
        "Las líneas, también conocidas como curvas, están compuestas por una secuencia de puntos conectados en orden. Pueden representar caminos, rutas o cualquier otro tipo de conectividad entre puntos.\n"
      ]
    },
    {
      "cell_type": "code",
      "execution_count": null,
      "metadata": {
        "colab": {
          "base_uri": "https://localhost:8080/",
          "height": 122
        },
        "id": "65dJwTP4Q-L3",
        "outputId": "f93ebdc6-13eb-436e-881d-12f796d9f436"
      },
      "outputs": [
        {
          "output_type": "execute_result",
          "data": {
            "text/plain": [
              "<LINESTRING (-5 5, -3 8)>"
            ],
            "image/svg+xml": "<svg xmlns=\"http://www.w3.org/2000/svg\" xmlns:xlink=\"http://www.w3.org/1999/xlink\" width=\"100.0\" height=\"100.0\" viewBox=\"-5.12 4.88 2.24 3.2399999999999993\" preserveAspectRatio=\"xMinYMin meet\"><g transform=\"matrix(1,0,0,-1,0,13.0)\"><polyline fill=\"none\" stroke=\"#66cc99\" stroke-width=\"0.06479999999999998\" points=\"-5.0,5.0 -3.0,8.0\" opacity=\"0.8\" /></g></svg>"
          },
          "metadata": {},
          "execution_count": 4
        }
      ],
      "source": [
        "linea = sh.geometry.linestring.LineString(((-5 ,5), (-3 ,8)))\n",
        "linea"
      ]
    },
    {
      "cell_type": "markdown",
      "metadata": {
        "id": "YmfA6IIGQ-L4"
      },
      "source": [
        "<p align=\"justify\">\n",
        "Son objetos más complejos que los puntos y por lo tanto cuentan con una series de atributos particualres. Uno de ellos es <code>centrid</code>, que es el punto medio de la línea"
      ]
    },
    {
      "cell_type": "code",
      "execution_count": null,
      "metadata": {
        "colab": {
          "base_uri": "https://localhost:8080/",
          "height": 122
        },
        "id": "x4sfwkh6Q-L4",
        "outputId": "41a994f1-79be-46f2-e244-188c378fe348"
      },
      "outputs": [
        {
          "output_type": "execute_result",
          "data": {
            "text/plain": [
              "<POINT (-4 6.5)>"
            ],
            "image/svg+xml": "<svg xmlns=\"http://www.w3.org/2000/svg\" xmlns:xlink=\"http://www.w3.org/1999/xlink\" width=\"100.0\" height=\"100.0\" viewBox=\"-5.0 5.5 2.0 2.0\" preserveAspectRatio=\"xMinYMin meet\"><g transform=\"matrix(1,0,0,-1,0,13.0)\"><circle cx=\"-4.0\" cy=\"6.5\" r=\"0.06\" stroke=\"#555555\" stroke-width=\"0.02\" fill=\"#66cc99\" opacity=\"0.6\" /></g></svg>"
          },
          "metadata": {},
          "execution_count": 5
        }
      ],
      "source": [
        "linea.centroid"
      ]
    },
    {
      "cell_type": "markdown",
      "metadata": {
        "id": "P37wvoVTQ-L4"
      },
      "source": [
        "El atributo <code>xy</code> permite ver los valores en los ejes."
      ]
    },
    {
      "cell_type": "code",
      "execution_count": null,
      "metadata": {
        "colab": {
          "base_uri": "https://localhost:8080/"
        },
        "id": "PfaJtawiQ-L4",
        "outputId": "f4fca35d-4ca1-4f8e-e86b-a6c1e7ed1ed4"
      },
      "outputs": [
        {
          "output_type": "execute_result",
          "data": {
            "text/plain": [
              "(array('d', [-5.0, -3.0]), array('d', [5.0, 8.0]))"
            ]
          },
          "metadata": {},
          "execution_count": 6
        }
      ],
      "source": [
        "linea.xy"
      ]
    },
    {
      "cell_type": "markdown",
      "metadata": {
        "id": "I67OxwCgQ-L4"
      },
      "source": [
        "<p align=\"justify\">\n",
        "Tambien tiene como atributo el largo de la línea (<code>length</code>), que es calculado con ladistancia euclídea. Este es muy útil dado que sirve para saber qué distancia hay entre dos puntos."
      ]
    },
    {
      "cell_type": "code",
      "execution_count": null,
      "metadata": {
        "colab": {
          "base_uri": "https://localhost:8080/"
        },
        "id": "MvMO3MU1Q-L5",
        "outputId": "346ac723-c1fb-4d52-89b4-b974e38424e2"
      },
      "outputs": [
        {
          "output_type": "execute_result",
          "data": {
            "text/plain": [
              "3.605551275463989"
            ]
          },
          "metadata": {},
          "execution_count": 7
        }
      ],
      "source": [
        "linea.length"
      ]
    },
    {
      "cell_type": "code",
      "execution_count": null,
      "metadata": {
        "colab": {
          "base_uri": "https://localhost:8080/"
        },
        "id": "cqkgBP6GQ-L5",
        "outputId": "a3f7ed0d-c78d-46ba-a624-8c7c974ebbf7"
      },
      "outputs": [
        {
          "output_type": "execute_result",
          "data": {
            "text/plain": [
              "3.605551275463989"
            ]
          },
          "metadata": {},
          "execution_count": 8
        }
      ],
      "source": [
        "((-5+3)**2+(5-8)**2)**(1/2)"
      ]
    },
    {
      "cell_type": "markdown",
      "metadata": {
        "id": "-qjvt9ktQ-L5"
      },
      "source": [
        "<p align=\"justify\">\n",
        "También se pueden hacer líneas más complejas que pasan por más de dos puntos, en este caso el largo sería la suma de los segmentos."
      ]
    },
    {
      "cell_type": "code",
      "execution_count": null,
      "metadata": {
        "colab": {
          "base_uri": "https://localhost:8080/",
          "height": 122
        },
        "id": "7PiTATqMQ-L5",
        "outputId": "2856cec1-f535-4519-ad84-0e8cde27a642"
      },
      "outputs": [
        {
          "output_type": "execute_result",
          "data": {
            "text/plain": [
              "<LINESTRING (-5 5, -3 8, 0 1)>"
            ],
            "image/svg+xml": "<svg xmlns=\"http://www.w3.org/2000/svg\" xmlns:xlink=\"http://www.w3.org/1999/xlink\" width=\"100.0\" height=\"100.0\" viewBox=\"-5.28 0.72 5.5600000000000005 7.56\" preserveAspectRatio=\"xMinYMin meet\"><g transform=\"matrix(1,0,0,-1,0,9.0)\"><polyline fill=\"none\" stroke=\"#66cc99\" stroke-width=\"0.1512\" points=\"-5.0,5.0 -3.0,8.0 0.0,1.0\" opacity=\"0.8\" /></g></svg>"
          },
          "metadata": {},
          "execution_count": 9
        }
      ],
      "source": [
        "linea = sh.geometry.linestring.LineString(((-5 ,5), (-3 ,8), (0,1)))\n",
        "linea"
      ]
    },
    {
      "cell_type": "code",
      "execution_count": null,
      "metadata": {
        "colab": {
          "base_uri": "https://localhost:8080/"
        },
        "id": "DXZCZLniQ-L5",
        "outputId": "7a160c39-dc22-4f2c-875c-793ef34bdbd6"
      },
      "outputs": [
        {
          "output_type": "execute_result",
          "data": {
            "text/plain": [
              "11.221324381327898"
            ]
          },
          "metadata": {},
          "execution_count": 10
        }
      ],
      "source": [
        "linea.length"
      ]
    },
    {
      "cell_type": "markdown",
      "metadata": {
        "id": "hdGS3KzoQ-L6"
      },
      "source": [
        " ### **<font color=\"DeepPink\">Multi - líneas</font>**"
      ]
    },
    {
      "cell_type": "markdown",
      "source": [
        "<p align=\"justify\">\n",
        "Las multi - líneas son una lista de líneas que se pueden juntar todas en un solo objeto. Tienen los mismos aotributos que las líneas."
      ],
      "metadata": {
        "id": "qSeFoMlBbAA4"
      }
    },
    {
      "cell_type": "code",
      "execution_count": null,
      "metadata": {
        "colab": {
          "base_uri": "https://localhost:8080/",
          "height": 122
        },
        "id": "kKN_fEW4Q-L6",
        "outputId": "8422986b-548a-4bce-aa23-f67359b3fb4d"
      },
      "outputs": [
        {
          "output_type": "execute_result",
          "data": {
            "text/plain": [
              "<MULTILINESTRING ((-5 5, -3 8), (-6 5, -4 6))>"
            ],
            "image/svg+xml": "<svg xmlns=\"http://www.w3.org/2000/svg\" xmlns:xlink=\"http://www.w3.org/1999/xlink\" width=\"100.0\" height=\"100.0\" viewBox=\"-6.12 4.88 3.24 3.2399999999999993\" preserveAspectRatio=\"xMinYMin meet\"><g transform=\"matrix(1,0,0,-1,0,13.0)\"><g><polyline fill=\"none\" stroke=\"#66cc99\" stroke-width=\"0.06480000000000001\" points=\"-5.0,5.0 -3.0,8.0\" opacity=\"0.8\" /><polyline fill=\"none\" stroke=\"#66cc99\" stroke-width=\"0.06480000000000001\" points=\"-6.0,5.0 -4.0,6.0\" opacity=\"0.8\" /></g></g></svg>"
          },
          "metadata": {},
          "execution_count": 11
        }
      ],
      "source": [
        "multilinea = sh.geometry.multilinestring.MultiLineString((((-5 ,5), (-3 ,8)),((-6 ,5), (-4 ,6))))\n",
        "multilinea"
      ]
    },
    {
      "cell_type": "code",
      "source": [
        "linea1 = sh.geometry.linestring.LineString(((-5 ,5), (-3 ,8)))\n",
        "linea2 = sh.geometry.linestring.LineString(((-6 ,5), (-4 ,6)))\n",
        "multilinea = sh.geometry.multilinestring.MultiLineString((linea1,linea2))\n",
        "multilinea"
      ],
      "metadata": {
        "colab": {
          "base_uri": "https://localhost:8080/",
          "height": 122
        },
        "id": "PQ2aWzjfWJNg",
        "outputId": "db8e3d97-ec8d-482b-fec2-90fcc4d61ae9"
      },
      "execution_count": null,
      "outputs": [
        {
          "output_type": "execute_result",
          "data": {
            "text/plain": [
              "<MULTILINESTRING ((-5 5, -3 8), (-6 5, -4 6))>"
            ],
            "image/svg+xml": "<svg xmlns=\"http://www.w3.org/2000/svg\" xmlns:xlink=\"http://www.w3.org/1999/xlink\" width=\"100.0\" height=\"100.0\" viewBox=\"-6.12 4.88 3.24 3.2399999999999993\" preserveAspectRatio=\"xMinYMin meet\"><g transform=\"matrix(1,0,0,-1,0,13.0)\"><g><polyline fill=\"none\" stroke=\"#66cc99\" stroke-width=\"0.06480000000000001\" points=\"-5.0,5.0 -3.0,8.0\" opacity=\"0.8\" /><polyline fill=\"none\" stroke=\"#66cc99\" stroke-width=\"0.06480000000000001\" points=\"-6.0,5.0 -4.0,6.0\" opacity=\"0.8\" /></g></g></svg>"
          },
          "metadata": {},
          "execution_count": 12
        }
      ]
    },
    {
      "cell_type": "code",
      "source": [
        "multilinea.length"
      ],
      "metadata": {
        "colab": {
          "base_uri": "https://localhost:8080/"
        },
        "id": "SwMB5kliWAGJ",
        "outputId": "6b97f6c2-a723-4984-8b47-eabc47dc17dd"
      },
      "execution_count": null,
      "outputs": [
        {
          "output_type": "execute_result",
          "data": {
            "text/plain": [
              "5.841619252963779"
            ]
          },
          "metadata": {},
          "execution_count": 13
        }
      ]
    },
    {
      "cell_type": "code",
      "source": [
        "linea1.length+linea2.length"
      ],
      "metadata": {
        "colab": {
          "base_uri": "https://localhost:8080/"
        },
        "id": "1rK6L4JQWmCB",
        "outputId": "4492c8f7-1003-4755-a659-a00944807cc2"
      },
      "execution_count": null,
      "outputs": [
        {
          "output_type": "execute_result",
          "data": {
            "text/plain": [
              "5.841619252963779"
            ]
          },
          "metadata": {},
          "execution_count": 14
        }
      ]
    },
    {
      "cell_type": "markdown",
      "source": [
        " ### **<font color=\"DeepPink\">Polígonos y multi - polígonos</font>**"
      ],
      "metadata": {
        "id": "KaT9hIaJbPut"
      }
    },
    {
      "cell_type": "markdown",
      "metadata": {
        "id": "ensVUMpQQ-L6"
      },
      "source": [
        "<p align=\"justify\">\n",
        "Los polígonos son una serie de líneas cerradas que forman una figura geométrica plana. Pueden representar áreas como países, ciudades o cualquier región con bordes bien definidos."
      ]
    },
    {
      "cell_type": "code",
      "execution_count": null,
      "metadata": {
        "colab": {
          "base_uri": "https://localhost:8080/",
          "height": 122
        },
        "id": "Pg6G-LjhQ-L6",
        "outputId": "fb41c06a-da31-4445-9273-a4578884c17e"
      },
      "outputs": [
        {
          "output_type": "execute_result",
          "data": {
            "text/plain": [
              "<POLYGON ((1 1, 2 2, 1 4, 1 1))>"
            ],
            "image/svg+xml": "<svg xmlns=\"http://www.w3.org/2000/svg\" xmlns:xlink=\"http://www.w3.org/1999/xlink\" width=\"100.0\" height=\"100.0\" viewBox=\"0.88 0.88 1.2400000000000002 3.24\" preserveAspectRatio=\"xMinYMin meet\"><g transform=\"matrix(1,0,0,-1,0,5.0)\"><path fill-rule=\"evenodd\" fill=\"#66cc99\" stroke=\"#555555\" stroke-width=\"0.06480000000000001\" opacity=\"0.6\" d=\"M 1.0,1.0 L 2.0,2.0 L 1.0,4.0 L 1.0,1.0 z\" /></g></svg>"
          },
          "metadata": {},
          "execution_count": 15
        }
      ],
      "source": [
        "sh.geometry.polygon.Polygon(((1,1),(2,2),(1,4)))"
      ]
    },
    {
      "cell_type": "code",
      "execution_count": null,
      "metadata": {
        "colab": {
          "base_uri": "https://localhost:8080/",
          "height": 122
        },
        "id": "ubSDPxZXQ-L6",
        "outputId": "bd06b2b0-b3d5-4831-dc1c-e77de119e3a2"
      },
      "outputs": [
        {
          "output_type": "execute_result",
          "data": {
            "text/plain": [
              "<MULTIPOLYGON (((1 1, 2 2, 1 4, 1 1)), ((-1 1, -2 2, -1 4, -1 1)))>"
            ],
            "image/svg+xml": "<svg xmlns=\"http://www.w3.org/2000/svg\" xmlns:xlink=\"http://www.w3.org/1999/xlink\" width=\"100.0\" height=\"100.0\" viewBox=\"-2.16 0.84 4.32 3.3200000000000003\" preserveAspectRatio=\"xMinYMin meet\"><g transform=\"matrix(1,0,0,-1,0,5.0)\"><g><path fill-rule=\"evenodd\" fill=\"#66cc99\" stroke=\"#555555\" stroke-width=\"0.0864\" opacity=\"0.6\" d=\"M 1.0,1.0 L 2.0,2.0 L 1.0,4.0 L 1.0,1.0 z\" /><path fill-rule=\"evenodd\" fill=\"#66cc99\" stroke=\"#555555\" stroke-width=\"0.0864\" opacity=\"0.6\" d=\"M -1.0,1.0 L -2.0,2.0 L -1.0,4.0 L -1.0,1.0 z\" /></g></g></svg>"
          },
          "metadata": {},
          "execution_count": 16
        }
      ],
      "source": [
        "poli1 = sh.geometry.polygon.Polygon(((1,1),(2,2),(1,4)))\n",
        "poli2 = sh.geometry.polygon.Polygon(((-1,1),(-2,2),(-1,4)))\n",
        "\n",
        "multipoli = sh.geometry.multipolygon.MultiPolygon([poli1,poli2])\n",
        "multipoli"
      ]
    },
    {
      "cell_type": "markdown",
      "source": [
        "Los polígonos tienen otros atributos más, como son el perímetro (<code>boundary</code>), el área (<code>area</code>) y los bordes(<code>bounds</code>)."
      ],
      "metadata": {
        "id": "dm1Vgu_rXNEg"
      }
    },
    {
      "cell_type": "code",
      "source": [
        "multipoli.boundary"
      ],
      "metadata": {
        "colab": {
          "base_uri": "https://localhost:8080/",
          "height": 122
        },
        "id": "UQFpzuKLXDTI",
        "outputId": "b0e2948a-3711-4217-d6c8-fbadc8c94180"
      },
      "execution_count": null,
      "outputs": [
        {
          "output_type": "execute_result",
          "data": {
            "text/plain": [
              "<MULTILINESTRING ((1 1, 2 2, 1 4, 1 1), (-1 1, -2 2, -1 4, -1 1))>"
            ],
            "image/svg+xml": "<svg xmlns=\"http://www.w3.org/2000/svg\" xmlns:xlink=\"http://www.w3.org/1999/xlink\" width=\"100.0\" height=\"100.0\" viewBox=\"-2.16 0.84 4.32 3.3200000000000003\" preserveAspectRatio=\"xMinYMin meet\"><g transform=\"matrix(1,0,0,-1,0,5.0)\"><g><polyline fill=\"none\" stroke=\"#66cc99\" stroke-width=\"0.0864\" points=\"1.0,1.0 2.0,2.0 1.0,4.0 1.0,1.0\" opacity=\"0.8\" /><polyline fill=\"none\" stroke=\"#66cc99\" stroke-width=\"0.0864\" points=\"-1.0,1.0 -2.0,2.0 -1.0,4.0 -1.0,1.0\" opacity=\"0.8\" /></g></g></svg>"
          },
          "metadata": {},
          "execution_count": 17
        }
      ]
    },
    {
      "cell_type": "code",
      "execution_count": null,
      "metadata": {
        "colab": {
          "base_uri": "https://localhost:8080/"
        },
        "id": "Syqh89GLQ-L6",
        "outputId": "da07f42d-1307-43bc-fe25-8dc70453099f"
      },
      "outputs": [
        {
          "output_type": "execute_result",
          "data": {
            "text/plain": [
              "1.5"
            ]
          },
          "metadata": {},
          "execution_count": 18
        }
      ],
      "source": [
        "poli1.area"
      ]
    },
    {
      "cell_type": "code",
      "execution_count": null,
      "metadata": {
        "colab": {
          "base_uri": "https://localhost:8080/"
        },
        "id": "3JZF6cUkQ-L6",
        "outputId": "5071e973-1433-4458-f3b0-d5d6a7c6b3cc"
      },
      "outputs": [
        {
          "output_type": "execute_result",
          "data": {
            "text/plain": [
              "3.0"
            ]
          },
          "metadata": {},
          "execution_count": 19
        }
      ],
      "source": [
        "multipoli.area"
      ]
    },
    {
      "cell_type": "code",
      "execution_count": null,
      "metadata": {
        "colab": {
          "base_uri": "https://localhost:8080/"
        },
        "id": "0wT_y0jaQ-L7",
        "outputId": "cf317240-97cd-4594-a4c9-5c8646485dee"
      },
      "outputs": [
        {
          "output_type": "execute_result",
          "data": {
            "text/plain": [
              "(1.0, 1.0, 2.0, 4.0)"
            ]
          },
          "metadata": {},
          "execution_count": 20
        }
      ],
      "source": [
        "poli1.bounds"
      ]
    },
    {
      "cell_type": "code",
      "source": [
        "print(poli1)"
      ],
      "metadata": {
        "colab": {
          "base_uri": "https://localhost:8080/"
        },
        "id": "ZMkrY-h2Y87q",
        "outputId": "73113dea-790c-4b35-f1eb-028aae9973a3"
      },
      "execution_count": null,
      "outputs": [
        {
          "output_type": "stream",
          "name": "stdout",
          "text": [
            "POLYGON ((1 1, 2 2, 1 4, 1 1))\n"
          ]
        }
      ]
    },
    {
      "cell_type": "markdown",
      "source": [
        " ## **<font color=\"DeepPink\">Operaciones geométricas</font>**"
      ],
      "metadata": {
        "id": "eQaVP116btpB"
      }
    },
    {
      "cell_type": "markdown",
      "source": [
        "<p align=\"justify\">\n",
        "<code>shapely</code> ofrece una amplia gama de operaciones geométricas que permiten realizar tareas como unión, intersección, diferencia entre otras. Estas operaciones son esenciales para analizar y manipular datos espaciales."
      ],
      "metadata": {
        "id": "XSP0xoekZWER"
      }
    },
    {
      "cell_type": "code",
      "execution_count": null,
      "metadata": {
        "colab": {
          "base_uri": "https://localhost:8080/",
          "height": 122
        },
        "id": "UxAkfmPMQ-L7",
        "outputId": "0938c286-c094-4e94-b1ff-268af4c0e779"
      },
      "outputs": [
        {
          "output_type": "execute_result",
          "data": {
            "text/plain": [
              "<MULTIPOLYGON (((1.5 1.5, 1 1, 1 4, 2 2, 5 2, 5 -2, 1.5 -2, 1.5 1.5)), ((-2 ...>"
            ],
            "image/svg+xml": "<svg xmlns=\"http://www.w3.org/2000/svg\" xmlns:xlink=\"http://www.w3.org/1999/xlink\" width=\"100.0\" height=\"100.0\" viewBox=\"-2.2800000000000002 -2.2800000000000002 7.5600000000000005 6.5600000000000005\" preserveAspectRatio=\"xMinYMin meet\"><g transform=\"matrix(1,0,0,-1,0,2.0)\"><g><path fill-rule=\"evenodd\" fill=\"#66cc99\" stroke=\"#555555\" stroke-width=\"0.1512\" opacity=\"0.6\" d=\"M 1.5,1.5 L 1.0,1.0 L 1.0,4.0 L 2.0,2.0 L 5.0,2.0 L 5.0,-2.0 L 1.5,-2.0 L 1.5,1.5 z\" /><path fill-rule=\"evenodd\" fill=\"#66cc99\" stroke=\"#555555\" stroke-width=\"0.1512\" opacity=\"0.6\" d=\"M -2.0,2.0 L -1.0,4.0 L -1.0,1.0 L -2.0,2.0 z\" /></g></g></svg>"
          },
          "metadata": {},
          "execution_count": 22
        }
      ],
      "source": [
        "basepoli = sh.geometry.polygon.Polygon(((1.5,-2),(1.5,2),(5,2),(5,-2)))\n",
        "basepoli.union(multipoli)"
      ]
    },
    {
      "cell_type": "code",
      "source": [
        "basepoli.intersection(multipoli)"
      ],
      "metadata": {
        "colab": {
          "base_uri": "https://localhost:8080/",
          "height": 122
        },
        "id": "h9ZzCkAnZ0Wx",
        "outputId": "abb890a0-a3e6-4471-c44f-1631b1cb208b"
      },
      "execution_count": null,
      "outputs": [
        {
          "output_type": "execute_result",
          "data": {
            "text/plain": [
              "<POLYGON ((1.5 2, 2 2, 1.5 1.5, 1.5 2))>"
            ],
            "image/svg+xml": "<svg xmlns=\"http://www.w3.org/2000/svg\" xmlns:xlink=\"http://www.w3.org/1999/xlink\" width=\"100.0\" height=\"100.0\" viewBox=\"1.48 1.48 0.54 0.54\" preserveAspectRatio=\"xMinYMin meet\"><g transform=\"matrix(1,0,0,-1,0,3.5)\"><path fill-rule=\"evenodd\" fill=\"#66cc99\" stroke=\"#555555\" stroke-width=\"0.0108\" opacity=\"0.6\" d=\"M 1.5,2.0 L 2.0,2.0 L 1.5,1.5 L 1.5,2.0 z\" /></g></svg>"
          },
          "metadata": {},
          "execution_count": 23
        }
      ]
    },
    {
      "cell_type": "code",
      "source": [
        "basepoli.difference(multipoli)"
      ],
      "metadata": {
        "colab": {
          "base_uri": "https://localhost:8080/",
          "height": 122
        },
        "id": "wwZWulfbaBqZ",
        "outputId": "68e0ab0c-4902-437e-a850-4386523dd911"
      },
      "execution_count": null,
      "outputs": [
        {
          "output_type": "execute_result",
          "data": {
            "text/plain": [
              "<POLYGON ((1.5 1.5, 2 2, 5 2, 5 -2, 1.5 -2, 1.5 1.5))>"
            ],
            "image/svg+xml": "<svg xmlns=\"http://www.w3.org/2000/svg\" xmlns:xlink=\"http://www.w3.org/1999/xlink\" width=\"100.0\" height=\"100.0\" viewBox=\"1.34 -2.16 3.8200000000000003 4.32\" preserveAspectRatio=\"xMinYMin meet\"><g transform=\"matrix(1,0,0,-1,0,0.0)\"><path fill-rule=\"evenodd\" fill=\"#66cc99\" stroke=\"#555555\" stroke-width=\"0.0864\" opacity=\"0.6\" d=\"M 1.5,1.5 L 2.0,2.0 L 5.0,2.0 L 5.0,-2.0 L 1.5,-2.0 L 1.5,1.5 z\" /></g></svg>"
          },
          "metadata": {},
          "execution_count": 24
        }
      ]
    },
    {
      "cell_type": "markdown",
      "source": [
        " # **<font color=\"DeepPink\">GeoPandas</font>**"
      ],
      "metadata": {
        "id": "ehzy-TVaccbZ"
      }
    },
    {
      "cell_type": "markdown",
      "source": [
        "<p align=\"justify\">\n",
        "Además de la funcionalidad que ofrece <code>shapely</code> para el manejo de datos espaciales, la librería <code>geopandas</code> surge como una potente herramienta que une las capacidades geométricas de <code>shapely</code> con la eficiencia y versatilidad de la tradicional biblioteca <code>pandas</code>. Esta combinación permite a los usuarios trabajar con datos geoespaciales de manera más efectiva, facilitando el análisis, la manipulación y la visualización de información espacial en entornos tabulares.\n",
        "<br><br>\n",
        "La principal estructura de datos que tiene <code>geopandas</code> es <code>geopandas.GeoDataFrame</code>. Esta es una subclase de <code>pandas.DataFrame</code> que puede almacenar una columna geométrica que permite realizar operaciones espaciales. La columna geométrica es un objeto de clase <code>geopandas.GeoSeries</code>, subclase de <code>pandas.Series</code>. Esto quiere decir que el <code>GeoDataFrame</code> es un conjunto de series de <code>pandas</code> más una geoserie de <code>geopandas</code>.\n",
        "\n",
        "<a href=\"https://geopandas.org/en/stable/\">Página web de GeoPandas</a>\n"
      ],
      "metadata": {
        "id": "ew6g29XoanuS"
      }
    },
    {
      "cell_type": "markdown",
      "source": [
        "<p align=\"center\">\n",
        "<img src=\"https://github.com/cristiandarioortegayubro/BDS/blob/main/images/GeoPandasFrame.png?raw=true\" width=\"480\">\n",
        "</p>"
      ],
      "metadata": {
        "id": "KjJJXbWie3Ja"
      }
    },
    {
      "cell_type": "code",
      "execution_count": null,
      "metadata": {
        "id": "PSNUNzF5Q-Lx"
      },
      "outputs": [],
      "source": [
        "import geopandas as gpd\n",
        "import matplotlib.pyplot as plt"
      ]
    },
    {
      "cell_type": "markdown",
      "source": [
        " ## **<font color=\"DeepPink\">Lectura de archivos</font>**"
      ],
      "metadata": {
        "id": "ldIUYlaChlgl"
      }
    },
    {
      "cell_type": "markdown",
      "source": [
        "<p align=\"justify\">\n",
        "Los archivos que contienen datos georeferenciados no vienen en formatos .txt o .csv (excepto que traigan las coordenadas como campos, pero no es un archivo georeferenciado propiamente dicho) sino que tienen que venir en un formato específico.\n",
        "<br><br>\n",
        "<b>Archivos Shapefile</b>\n",
        "<br><br>\n",
        "Un shapefile consta de al menos tres archivos, que en conjunto conforman una capa de datos geoespaciales:\n",
        "<br><br>\n",
        "<ol align=\"justify\">\n",
        "<li> Archivo .shp (shape): Este es el archivo principal que contiene la geometría de los objetos espaciales, como puntos, líneas o polígonos. Cada entidad geométrica se representa con sus coordenadas $X$ e $Y$, lo que permite definir su forma y ubicación en el espacio.\n",
        "<br><br>\n",
        "<li>Archivo .shx (shape index): Este archivo es el índice del shapefile y almacena la ubicación de los registros en el archivo .shp. Facilita el acceso rápido y eficiente a los datos geométricos en el shapefile.\n",
        "<br><br>\n",
        "<li>Archivo .dbf (data attribute table): El archivo .dbf es una tabla que contiene los atributos no espaciales asociados a cada entidad geométrica del shapefile. Cada fila en la tabla representa una entidad y las columnas representan los atributos.\n",
        "<br><br>\n",
        "<li>Opcionalmente, un shapefile puede incluir archivos adicionales para almacenar información adicional, como metadatos, índices espaciales o proyecciones cartográficas. Estos archivos suelen tener extensiones como .prj (proyección), .sbn y .sbx (índices espaciales) entre otros.\n",
        "</ol>\n",
        "<p align=\"justify\">\n",
        "<b>Archivos GeoJSON</b>\n",
        "<br><br>\n",
        "GeoJSON es un formato de codificación de datos geoespaciales basado en JavaScript Object Notation (JSON). Este formato se ha vuelto muy popular debido a su facilidad de lectura tanto por humanos como por máquinas. Los archivos GeoJSON contienen información geográfica y atributos asociados en una estructura jerárquica de objetos y propiedades.\n",
        "<br><br>\n",
        "<p align=\"justify\">\n",
        "<b>Lectura de archivos en GeoPandas</b>\n",
        "<br><br>\n",
        "GeoPandas simplifica enormemente la lectura de archivos y la manipulación de datos geoespaciales. Para leer un shapefile en GeoPandas, simplemente utilizamos la función <code>gpd.read_file()</code> y proporcionamos la ruta al archivo .shp como argumento. GeoPandas se encarga de cargar todos los archivos relacionados y crea un <code>GeoDataFrame</code> con la información geométrica y atributos asociados.\n",
        "<br><br>\n",
        "En el caso de leer un GeoJson también se usa la misma función <code>gpd.read_file()</code> con la ruta de dónde se encuentra el archivo."
      ],
      "metadata": {
        "id": "KkjRpZdD1Vt8"
      }
    },
    {
      "cell_type": "code",
      "source": [
        "# Examinamos un conjunto de datos adjunto en la biblioteca GeoPandas, mediante lo cual adquirimos la ubicación referente a un archivo en formato .shp.\n",
        "ruta = gpd.datasets.get_path('naturalearth_lowres')\n",
        "ruta"
      ],
      "metadata": {
        "colab": {
          "base_uri": "https://localhost:8080/",
          "height": 73
        },
        "id": "5mP3_e695AMm",
        "outputId": "7d6fd3ca-61e6-4107-c7d8-f3d618e15f54"
      },
      "execution_count": null,
      "outputs": [
        {
          "output_type": "stream",
          "name": "stderr",
          "text": [
            "<ipython-input-26-e805ff073205>:2: FutureWarning: The geopandas.dataset module is deprecated and will be removed in GeoPandas 1.0. You can get the original 'naturalearth_lowres' data from https://www.naturalearthdata.com/downloads/110m-cultural-vectors/.\n",
            "  ruta = gpd.datasets.get_path('naturalearth_lowres')\n"
          ]
        },
        {
          "output_type": "execute_result",
          "data": {
            "text/plain": [
              "'/usr/local/lib/python3.10/dist-packages/geopandas/datasets/naturalearth_lowres/naturalearth_lowres.shp'"
            ],
            "application/vnd.google.colaboratory.intrinsic+json": {
              "type": "string"
            }
          },
          "metadata": {},
          "execution_count": 26
        }
      ]
    },
    {
      "cell_type": "code",
      "execution_count": null,
      "metadata": {
        "colab": {
          "base_uri": "https://localhost:8080/",
          "height": 206
        },
        "id": "AfzysKsJQ-L0",
        "outputId": "3bd5c979-df0c-4296-c424-bc9b289a407b"
      },
      "outputs": [
        {
          "output_type": "execute_result",
          "data": {
            "text/plain": [
              "       pop_est      continent                      name iso_a3  gdp_md_est  \\\n",
              "0     889953.0        Oceania                      Fiji    FJI        5496   \n",
              "1   58005463.0         Africa                  Tanzania    TZA       63177   \n",
              "2     603253.0         Africa                 W. Sahara    ESH         907   \n",
              "3   37589262.0  North America                    Canada    CAN     1736425   \n",
              "4  328239523.0  North America  United States of America    USA    21433226   \n",
              "\n",
              "                                            geometry  \n",
              "0  MULTIPOLYGON (((180.00000 -16.06713, 180.00000...  \n",
              "1  POLYGON ((33.90371 -0.95000, 34.07262 -1.05982...  \n",
              "2  POLYGON ((-8.66559 27.65643, -8.66512 27.58948...  \n",
              "3  MULTIPOLYGON (((-122.84000 49.00000, -122.9742...  \n",
              "4  MULTIPOLYGON (((-122.84000 49.00000, -120.0000...  "
            ],
            "text/html": [
              "\n",
              "\n",
              "  <div id=\"df-518c03bb-a0f1-4bf8-9180-0f04dc583c16\">\n",
              "    <div class=\"colab-df-container\">\n",
              "      <div>\n",
              "<style scoped>\n",
              "    .dataframe tbody tr th:only-of-type {\n",
              "        vertical-align: middle;\n",
              "    }\n",
              "\n",
              "    .dataframe tbody tr th {\n",
              "        vertical-align: top;\n",
              "    }\n",
              "\n",
              "    .dataframe thead th {\n",
              "        text-align: right;\n",
              "    }\n",
              "</style>\n",
              "<table border=\"1\" class=\"dataframe\">\n",
              "  <thead>\n",
              "    <tr style=\"text-align: right;\">\n",
              "      <th></th>\n",
              "      <th>pop_est</th>\n",
              "      <th>continent</th>\n",
              "      <th>name</th>\n",
              "      <th>iso_a3</th>\n",
              "      <th>gdp_md_est</th>\n",
              "      <th>geometry</th>\n",
              "    </tr>\n",
              "  </thead>\n",
              "  <tbody>\n",
              "    <tr>\n",
              "      <th>0</th>\n",
              "      <td>889953.0</td>\n",
              "      <td>Oceania</td>\n",
              "      <td>Fiji</td>\n",
              "      <td>FJI</td>\n",
              "      <td>5496</td>\n",
              "      <td>MULTIPOLYGON (((180.00000 -16.06713, 180.00000...</td>\n",
              "    </tr>\n",
              "    <tr>\n",
              "      <th>1</th>\n",
              "      <td>58005463.0</td>\n",
              "      <td>Africa</td>\n",
              "      <td>Tanzania</td>\n",
              "      <td>TZA</td>\n",
              "      <td>63177</td>\n",
              "      <td>POLYGON ((33.90371 -0.95000, 34.07262 -1.05982...</td>\n",
              "    </tr>\n",
              "    <tr>\n",
              "      <th>2</th>\n",
              "      <td>603253.0</td>\n",
              "      <td>Africa</td>\n",
              "      <td>W. Sahara</td>\n",
              "      <td>ESH</td>\n",
              "      <td>907</td>\n",
              "      <td>POLYGON ((-8.66559 27.65643, -8.66512 27.58948...</td>\n",
              "    </tr>\n",
              "    <tr>\n",
              "      <th>3</th>\n",
              "      <td>37589262.0</td>\n",
              "      <td>North America</td>\n",
              "      <td>Canada</td>\n",
              "      <td>CAN</td>\n",
              "      <td>1736425</td>\n",
              "      <td>MULTIPOLYGON (((-122.84000 49.00000, -122.9742...</td>\n",
              "    </tr>\n",
              "    <tr>\n",
              "      <th>4</th>\n",
              "      <td>328239523.0</td>\n",
              "      <td>North America</td>\n",
              "      <td>United States of America</td>\n",
              "      <td>USA</td>\n",
              "      <td>21433226</td>\n",
              "      <td>MULTIPOLYGON (((-122.84000 49.00000, -120.0000...</td>\n",
              "    </tr>\n",
              "  </tbody>\n",
              "</table>\n",
              "</div>\n",
              "      <button class=\"colab-df-convert\" onclick=\"convertToInteractive('df-518c03bb-a0f1-4bf8-9180-0f04dc583c16')\"\n",
              "              title=\"Convert this dataframe to an interactive table.\"\n",
              "              style=\"display:none;\">\n",
              "\n",
              "  <svg xmlns=\"http://www.w3.org/2000/svg\" height=\"24px\"viewBox=\"0 0 24 24\"\n",
              "       width=\"24px\">\n",
              "    <path d=\"M0 0h24v24H0V0z\" fill=\"none\"/>\n",
              "    <path d=\"M18.56 5.44l.94 2.06.94-2.06 2.06-.94-2.06-.94-.94-2.06-.94 2.06-2.06.94zm-11 1L8.5 8.5l.94-2.06 2.06-.94-2.06-.94L8.5 2.5l-.94 2.06-2.06.94zm10 10l.94 2.06.94-2.06 2.06-.94-2.06-.94-.94-2.06-.94 2.06-2.06.94z\"/><path d=\"M17.41 7.96l-1.37-1.37c-.4-.4-.92-.59-1.43-.59-.52 0-1.04.2-1.43.59L10.3 9.45l-7.72 7.72c-.78.78-.78 2.05 0 2.83L4 21.41c.39.39.9.59 1.41.59.51 0 1.02-.2 1.41-.59l7.78-7.78 2.81-2.81c.8-.78.8-2.07 0-2.86zM5.41 20L4 18.59l7.72-7.72 1.47 1.35L5.41 20z\"/>\n",
              "  </svg>\n",
              "      </button>\n",
              "\n",
              "\n",
              "\n",
              "    <div id=\"df-aebb19fd-c32f-444f-b545-1da3f4334cdb\">\n",
              "      <button class=\"colab-df-quickchart\" onclick=\"quickchart('df-aebb19fd-c32f-444f-b545-1da3f4334cdb')\"\n",
              "              title=\"Suggest charts.\"\n",
              "              style=\"display:none;\">\n",
              "\n",
              "<svg xmlns=\"http://www.w3.org/2000/svg\" height=\"24px\"viewBox=\"0 0 24 24\"\n",
              "     width=\"24px\">\n",
              "    <g>\n",
              "        <path d=\"M19 3H5c-1.1 0-2 .9-2 2v14c0 1.1.9 2 2 2h14c1.1 0 2-.9 2-2V5c0-1.1-.9-2-2-2zM9 17H7v-7h2v7zm4 0h-2V7h2v10zm4 0h-2v-4h2v4z\"/>\n",
              "    </g>\n",
              "</svg>\n",
              "      </button>\n",
              "    </div>\n",
              "\n",
              "<style>\n",
              "  .colab-df-quickchart {\n",
              "    background-color: #E8F0FE;\n",
              "    border: none;\n",
              "    border-radius: 50%;\n",
              "    cursor: pointer;\n",
              "    display: none;\n",
              "    fill: #1967D2;\n",
              "    height: 32px;\n",
              "    padding: 0 0 0 0;\n",
              "    width: 32px;\n",
              "  }\n",
              "\n",
              "  .colab-df-quickchart:hover {\n",
              "    background-color: #E2EBFA;\n",
              "    box-shadow: 0px 1px 2px rgba(60, 64, 67, 0.3), 0px 1px 3px 1px rgba(60, 64, 67, 0.15);\n",
              "    fill: #174EA6;\n",
              "  }\n",
              "\n",
              "  [theme=dark] .colab-df-quickchart {\n",
              "    background-color: #3B4455;\n",
              "    fill: #D2E3FC;\n",
              "  }\n",
              "\n",
              "  [theme=dark] .colab-df-quickchart:hover {\n",
              "    background-color: #434B5C;\n",
              "    box-shadow: 0px 1px 3px 1px rgba(0, 0, 0, 0.15);\n",
              "    filter: drop-shadow(0px 1px 2px rgba(0, 0, 0, 0.3));\n",
              "    fill: #FFFFFF;\n",
              "  }\n",
              "</style>\n",
              "\n",
              "    <script>\n",
              "      async function quickchart(key) {\n",
              "        const containerElement = document.querySelector('#' + key);\n",
              "        const charts = await google.colab.kernel.invokeFunction(\n",
              "            'suggestCharts', [key], {});\n",
              "      }\n",
              "    </script>\n",
              "\n",
              "      <script>\n",
              "\n",
              "function displayQuickchartButton(domScope) {\n",
              "  let quickchartButtonEl =\n",
              "    domScope.querySelector('#df-aebb19fd-c32f-444f-b545-1da3f4334cdb button.colab-df-quickchart');\n",
              "  quickchartButtonEl.style.display =\n",
              "    google.colab.kernel.accessAllowed ? 'block' : 'none';\n",
              "}\n",
              "\n",
              "        displayQuickchartButton(document);\n",
              "      </script>\n",
              "      <style>\n",
              "    .colab-df-container {\n",
              "      display:flex;\n",
              "      flex-wrap:wrap;\n",
              "      gap: 12px;\n",
              "    }\n",
              "\n",
              "    .colab-df-convert {\n",
              "      background-color: #E8F0FE;\n",
              "      border: none;\n",
              "      border-radius: 50%;\n",
              "      cursor: pointer;\n",
              "      display: none;\n",
              "      fill: #1967D2;\n",
              "      height: 32px;\n",
              "      padding: 0 0 0 0;\n",
              "      width: 32px;\n",
              "    }\n",
              "\n",
              "    .colab-df-convert:hover {\n",
              "      background-color: #E2EBFA;\n",
              "      box-shadow: 0px 1px 2px rgba(60, 64, 67, 0.3), 0px 1px 3px 1px rgba(60, 64, 67, 0.15);\n",
              "      fill: #174EA6;\n",
              "    }\n",
              "\n",
              "    [theme=dark] .colab-df-convert {\n",
              "      background-color: #3B4455;\n",
              "      fill: #D2E3FC;\n",
              "    }\n",
              "\n",
              "    [theme=dark] .colab-df-convert:hover {\n",
              "      background-color: #434B5C;\n",
              "      box-shadow: 0px 1px 3px 1px rgba(0, 0, 0, 0.15);\n",
              "      filter: drop-shadow(0px 1px 2px rgba(0, 0, 0, 0.3));\n",
              "      fill: #FFFFFF;\n",
              "    }\n",
              "  </style>\n",
              "\n",
              "      <script>\n",
              "        const buttonEl =\n",
              "          document.querySelector('#df-518c03bb-a0f1-4bf8-9180-0f04dc583c16 button.colab-df-convert');\n",
              "        buttonEl.style.display =\n",
              "          google.colab.kernel.accessAllowed ? 'block' : 'none';\n",
              "\n",
              "        async function convertToInteractive(key) {\n",
              "          const element = document.querySelector('#df-518c03bb-a0f1-4bf8-9180-0f04dc583c16');\n",
              "          const dataTable =\n",
              "            await google.colab.kernel.invokeFunction('convertToInteractive',\n",
              "                                                     [key], {});\n",
              "          if (!dataTable) return;\n",
              "\n",
              "          const docLinkHtml = 'Like what you see? Visit the ' +\n",
              "            '<a target=\"_blank\" href=https://colab.research.google.com/notebooks/data_table.ipynb>data table notebook</a>'\n",
              "            + ' to learn more about interactive tables.';\n",
              "          element.innerHTML = '';\n",
              "          dataTable['output_type'] = 'display_data';\n",
              "          await google.colab.output.renderOutput(dataTable, element);\n",
              "          const docLink = document.createElement('div');\n",
              "          docLink.innerHTML = docLinkHtml;\n",
              "          element.appendChild(docLink);\n",
              "        }\n",
              "      </script>\n",
              "    </div>\n",
              "  </div>\n"
            ]
          },
          "metadata": {},
          "execution_count": 27
        }
      ],
      "source": [
        "# Leemos el archivo con la función gpd.read_file\n",
        "world = gpd.read_file(ruta)\n",
        "world.head()"
      ]
    },
    {
      "cell_type": "markdown",
      "source": [
        "<p align=\"justify\">\n",
        "Para guardar un archivo se utiliza el método <code>GeoDataFrame.to_file()</code>. Por defecto se va guardar en formato .shp, pero se puede elegir el formato usando el parámetro <code>driver</code>."
      ],
      "metadata": {
        "id": "ZuxZ_O796XfW"
      }
    },
    {
      "cell_type": "code",
      "source": [
        "world.to_file(\"world.shp\")"
      ],
      "metadata": {
        "colab": {
          "base_uri": "https://localhost:8080/"
        },
        "id": "FbHvTBPa6t63",
        "outputId": "204516f6-a88c-454d-e936-7dabb233932c"
      },
      "execution_count": null,
      "outputs": [
        {
          "output_type": "stream",
          "name": "stderr",
          "text": [
            "WARNING:fiona._env:Value 328239523 of field pop_est of feature 4 not successfully written. Possibly due to too larger number with respect to field width\n",
            "WARNING:fiona._env:Value 270625568 of field pop_est of feature 8 not successfully written. Possibly due to too larger number with respect to field width\n",
            "WARNING:fiona._env:Value 144373535 of field pop_est of feature 18 not successfully written. Possibly due to too larger number with respect to field width\n",
            "WARNING:fiona._env:Value 127575529 of field pop_est of feature 27 not successfully written. Possibly due to too larger number with respect to field width\n",
            "WARNING:fiona._env:Value 211049527 of field pop_est of feature 29 not successfully written. Possibly due to too larger number with respect to field width\n",
            "WARNING:fiona._env:Value 200963599 of field pop_est of feature 56 not successfully written. Possibly due to too larger number with respect to field width\n",
            "WARNING:fiona._env:Value 1366417754 of field pop_est of feature 98 not successfully written. Possibly due to too larger number with respect to field width\n",
            "WARNING:fiona._env:Value 163046161 of field pop_est of feature 99 not successfully written. Possibly due to too larger number with respect to field width\n",
            "WARNING:fiona._env:Value 216565318 of field pop_est of feature 102 not successfully written. Possibly due to too larger number with respect to field width\n",
            "WARNING:fiona._env:Value 1397715000 of field pop_est of feature 139 not successfully written. Possibly due to too larger number with respect to field width\n",
            "WARNING:fiona._env:Value 108116615 of field pop_est of feature 147 not successfully written. Possibly due to too larger number with respect to field width\n",
            "WARNING:fiona._env:Value 126264931 of field pop_est of feature 155 not successfully written. Possibly due to too larger number with respect to field width\n",
            "WARNING:fiona._env:Value 100388073 of field pop_est of feature 163 not successfully written. Possibly due to too larger number with respect to field width\n",
            "WARNING:fiona._env:Value 112078730 of field pop_est of feature 165 not successfully written. Possibly due to too larger number with respect to field width\n"
          ]
        }
      ]
    },
    {
      "cell_type": "code",
      "source": [
        "world.to_file(\"world.geojson\", driver = \"GeoJSON\")"
      ],
      "metadata": {
        "id": "k1HVqUPf617f"
      },
      "execution_count": null,
      "outputs": []
    },
    {
      "cell_type": "markdown",
      "source": [
        " ## **<font color=\"DeepPink\">Proyecciones</font>**"
      ],
      "metadata": {
        "id": "RikBm33PoDOC"
      }
    },
    {
      "cell_type": "markdown",
      "source": [
        "<p align=\"justify\">\n",
        "La proyección cartográfica es un concepto fundamental en la representación de la superficie curva de la Tierra en un plano, como un mapa o una imagen. Dado que la Tierra es esférica, es imposible representar su superficie tridimensional directamente en un plano sin distorsionar ciertos aspectos geográficos.\n",
        "<br><br>\n",
        "Al realizar una proyección cartográfica, se busca traducir los puntos geográficos de la Tierra en coordenadas planas de manera que se pueda visualizar, medir y analizar la información geoespacial de manera práctica y comprensible. Sin embargo, debido a la naturaleza esférica de la Tierra, es inevitable que surjan distorsiones en la forma, el área, la dirección o la distancia al realizar la conversión.\n",
        "<br><br>\n",
        "Existen innumerables proyecciones cartográficas, cada una con sus propias características y aplicaciones específicas. Algunas proyecciones están diseñadas para preservar áreas, lo que resulta útil para comparar tamaños de regiones. Otras proyecciones buscan mantener las formas de las áreas, lo que es esencial para la navegación y el análisis de líneas de rumbo. Además, hay proyecciones que intentan conservar las direcciones, lo que es valioso para determinar la orientación precisa de un punto con respecto a otro.\n",
        "<br><br>\n",
        "En general las proyecciones del mundo se pueden dividir en tres familias: proyecciones cilíndricas, proyecciones cónicas y proyecciones planas.\n",
        "\n"
      ],
      "metadata": {
        "id": "uP4t1UCy8R-_"
      }
    },
    {
      "cell_type": "markdown",
      "source": [
        "<p align=\"center\">\n",
        "<img src=\"https://github.com/cristiandarioortegayubro/BDS/blob/main/images/proyecciones.png?raw=true\" width=\"980\">\n",
        "</p>"
      ],
      "metadata": {
        "id": "64eHP5rGp94S"
      }
    },
    {
      "cell_type": "markdown",
      "source": [
        " ## **<font color=\"DeepPink\">Sistema de Referencia de Coordenadas (CRS): La clave para ubicar puntos en el espacio</font>**\n"
      ],
      "metadata": {
        "id": "dRs9Pc-yqeI1"
      }
    },
    {
      "cell_type": "markdown",
      "source": [
        "<p align=\"justify\">\n",
        "Las proyecciones se defines con el sistema de referencia de coordenadas, que es un sistema establecidoque nos permite saber con qué proyección estamos realizando nuestro análisis.\n",
        "<br><br>\n",
        "El Sistema de Referencia de Coordenadas (CRS) es un componente esencial en el manejo de datos geoespaciales y representa la forma en que se asignan las coordenadas a puntos, líneas y polígonos en la superficie de la Tierra. El CRS proporciona un marco de referencia que permite ubicar y representar objetos geográficos de manera precisa y coherente en un sistema de coordenadas específico.\n",
        "<br><br>\n",
        "EL CRS es un atributo que va tener el GeoDataFrame que estemos trabajando, si es que el mismo está proyectado.\n"
      ],
      "metadata": {
        "id": "BLxFFh27A-bA"
      }
    },
    {
      "cell_type": "code",
      "execution_count": null,
      "metadata": {
        "colab": {
          "base_uri": "https://localhost:8080/"
        },
        "id": "XIT_GrfHQ-L7",
        "outputId": "41b314fe-b49e-4fa7-ac5d-aadb81017089"
      },
      "outputs": [
        {
          "output_type": "execute_result",
          "data": {
            "text/plain": [
              "<Geographic 2D CRS: EPSG:4326>\n",
              "Name: WGS 84\n",
              "Axis Info [ellipsoidal]:\n",
              "- Lat[north]: Geodetic latitude (degree)\n",
              "- Lon[east]: Geodetic longitude (degree)\n",
              "Area of Use:\n",
              "- name: World.\n",
              "- bounds: (-180.0, -90.0, 180.0, 90.0)\n",
              "Datum: World Geodetic System 1984 ensemble\n",
              "- Ellipsoid: WGS 84\n",
              "- Prime Meridian: Greenwich"
            ]
          },
          "metadata": {},
          "execution_count": 30
        }
      ],
      "source": [
        "world.crs"
      ]
    },
    {
      "cell_type": "markdown",
      "source": [
        "<p align=\"justify\">\n",
        "Para tener una referencia de los diferentes CRS que se pueden utilizar hay que visitar la página <a href=\"https://spatialreference.org/\">https://spatialreference.org/</a> .\n",
        "<br><br>\n",
        "Para referencia, aquí estan algunas proyecciones de las más comunes y sus códigos EPSG:\n",
        "<ul align=\"justify\">\n",
        "<br><li>WGS 84 latitud/longitud: EPSG: 4326\n",
        "<br><br><li>Zonas UTM(Norte): EPSG:32633\n",
        "<br><br><li>Zonas UTM(Sur): EPSG:32733\n",
        "<br><br><li>Google Mercator: EPSG:3857\n",
        "<br><br><li>Posgar 98/ Argentina : EPSG: 22177\n",
        "</ul>\n",
        "<br>\n",
        "<p align=\"justify\">\n",
        "GeoPandas permite reproyectar nuestro conjunto de datos geográfico con el método <code>GeoSeries.to_crs()</code> o directamnete modificando el atributo <code>GeoSeries.crs</code>. Para nombrar el CRS deseado se puede utilizar el nombre, en formato texto \"EPSG:4326\", directamente se le puede atribuir el EPSG (European Petroleum Survey Group) o se puede usar el código ESRI (Environmental Systems Research Institute) de la siguiente forma \"ESRI:54009\".\n",
        "\n",
        "\n",
        "\n",
        "\n"
      ],
      "metadata": {
        "id": "Y0D_Gst3Eb7-"
      }
    },
    {
      "cell_type": "code",
      "source": [
        "world1 = world.to_crs(\"World Robinson\")\n",
        "world2 = world.to_crs(\"ESRI:54009\")\n"
      ],
      "metadata": {
        "id": "4uMr-_TkNfVF"
      },
      "execution_count": null,
      "outputs": []
    },
    {
      "cell_type": "code",
      "source": [
        "world1.plot()"
      ],
      "metadata": {
        "colab": {
          "base_uri": "https://localhost:8080/",
          "height": 362
        },
        "id": "4U9Z-5NcQNkX",
        "outputId": "d303dde5-f4e1-4e25-8ade-a420b741d9e6"
      },
      "execution_count": null,
      "outputs": [
        {
          "output_type": "execute_result",
          "data": {
            "text/plain": [
              "<Axes: >"
            ]
          },
          "metadata": {},
          "execution_count": 32
        },
        {
          "output_type": "display_data",
          "data": {
            "text/plain": [
              "<Figure size 640x480 with 1 Axes>"
            ],
            "image/png": "[encoded data removed]"
          },
          "metadata": {}
        }
      ]
    },
    {
      "cell_type": "markdown",
      "source": [
        "Observemos las diferencias que tenemos visualizando los mapas con el método <code>GeoDataFrame.plot()</code>."
      ],
      "metadata": {
        "id": "0he4ghPSPN7m"
      }
    },
    {
      "cell_type": "code",
      "source": [
        "# Crea una figura con 2 filas y 2 columnas para los subplots\n",
        "fig, ax = plt.subplots(1,3, figsize=(12, 10))\n",
        "\n",
        "# Grafica el primer GeoDataFrame en el primer subplot (fila 0, columna 0)\n",
        "world.plot(ax=ax[0])\n",
        "ax[0].set_title(\"Proyección WGS 84\")\n",
        "\n",
        "# Grafica el segundo GeoDataFrame en el segundo subplot (fila 0, columna 1)\n",
        "world1.plot(ax=ax[1])\n",
        "ax[1].set_title(\"Proyeccion Robinson\")\n",
        "\n",
        "# Grafica el tercer GeoDataFrame en el tercer subplot (fila 1, columna 0)\n",
        "world2.plot(ax=ax[2])\n",
        "ax[2].set_title(\"Proyección Mollweide\")\n",
        "\n",
        "# Ajusta los espacios entre los subplots para una mejor presentación\n",
        "plt.tight_layout()\n",
        "\n",
        "# Muestra el gráfico resultante\n",
        "plt.show()\n"
      ],
      "metadata": {
        "colab": {
          "base_uri": "https://localhost:8080/",
          "height": 276
        },
        "id": "Obz7pARgPK82",
        "outputId": "54bc9379-97d7-42cf-df30-40a7de75ecef"
      },
      "execution_count": null,
      "outputs": [
        {
          "output_type": "display_data",
          "data": {
            "text/plain": [
              "<Figure size 1200x1000 with 3 Axes>"
            ],
            "image/png": "[encoded data removed]"
          },
          "metadata": {}
        }
      ]
    },
    {
      "cell_type": "code",
      "source": [
        "world1.crs"
      ],
      "metadata": {
        "colab": {
          "base_uri": "https://localhost:8080/"
        },
        "id": "K4ZzejeUVn0i",
        "outputId": "3deb2f0e-d518-4896-c396-f83243997315"
      },
      "execution_count": null,
      "outputs": [
        {
          "output_type": "execute_result",
          "data": {
            "text/plain": [
              "<Projected CRS: ESRI:54030>\n",
              "Name: World_Robinson\n",
              "Axis Info [cartesian]:\n",
              "- E[east]: Easting (metre)\n",
              "- N[north]: Northing (metre)\n",
              "Area of Use:\n",
              "- name: World.\n",
              "- bounds: (-180.0, -90.0, 180.0, 90.0)\n",
              "Coordinate Operation:\n",
              "- name: World_Robinson\n",
              "- method: Robinson\n",
              "Datum: World Geodetic System 1984\n",
              "- Ellipsoid: WGS 84\n",
              "- Prime Meridian: Greenwich"
            ]
          },
          "metadata": {},
          "execution_count": 34
        }
      ]
    },
    {
      "cell_type": "code",
      "source": [
        "world2.query(\"name == 'Argentina'\").plot()"
      ],
      "metadata": {
        "colab": {
          "base_uri": "https://localhost:8080/",
          "height": 481
        },
        "id": "_J8Uf8FbW4UR",
        "outputId": "638e9047-eabe-43d6-cac2-efa9f1d4b2ba"
      },
      "execution_count": null,
      "outputs": [
        {
          "output_type": "execute_result",
          "data": {
            "text/plain": [
              "<Axes: >"
            ]
          },
          "metadata": {},
          "execution_count": 35
        },
        {
          "output_type": "display_data",
          "data": {
            "text/plain": [
              "<Figure size 640x480 with 1 Axes>"
            ],
            "image/png": "[encoded data removed]"
          },
          "metadata": {}
        }
      ]
    },
    {
      "cell_type": "code",
      "source": [
        "world.query(\"name == 'Argentina'\").to_crs(epsg = 22177).plot()"
      ],
      "metadata": {
        "colab": {
          "base_uri": "https://localhost:8080/",
          "height": 481
        },
        "id": "w-pyi8p4W7rZ",
        "outputId": "3167680e-62e4-4c3b-a2f5-01fc9ef28f09"
      },
      "execution_count": null,
      "outputs": [
        {
          "output_type": "execute_result",
          "data": {
            "text/plain": [
              "<Axes: >"
            ]
          },
          "metadata": {},
          "execution_count": 36
        },
        {
          "output_type": "display_data",
          "data": {
            "text/plain": [
              "<Figure size 640x480 with 1 Axes>"
            ],
            "image/png": "[encoded data removed]"
          },
          "metadata": {}
        }
      ]
    },
    {
      "cell_type": "markdown",
      "source": [
        "<p align=\"justify\">\n",
        "La proyección también influye cuando queremos calcular distancias o áreas. En el caso del crs en el que está el dataset world (WGS 84) se encuentra medido en grados, por lo tanto calcular distancias no va ser correcto en ese dataframe y bajo las otras también puede variar. Veamos un ejemplo para Argentina."
      ],
      "metadata": {
        "id": "f95woHDpXYTy"
      }
    },
    {
      "cell_type": "code",
      "source": [
        "world.query(\"name == 'Argentina'\").area"
      ],
      "metadata": {
        "colab": {
          "base_uri": "https://localhost:8080/"
        },
        "id": "SMNF04mUX22K",
        "outputId": "8eb22ce0-5dd7-47d5-ed2c-84ac89c3ea65"
      },
      "execution_count": null,
      "outputs": [
        {
          "output_type": "stream",
          "name": "stderr",
          "text": [
            "<ipython-input-37-053cd36297a8>:1: UserWarning: Geometry is in a geographic CRS. Results from 'area' are likely incorrect. Use 'GeoSeries.to_crs()' to re-project geometries to a projected CRS before this operation.\n",
            "\n",
            "  world.query(\"name == 'Argentina'\").area\n"
          ]
        },
        {
          "output_type": "execute_result",
          "data": {
            "text/plain": [
              "9    278.923392\n",
              "dtype: float64"
            ]
          },
          "metadata": {},
          "execution_count": 37
        }
      ]
    },
    {
      "cell_type": "code",
      "source": [
        "world1.query(\"name == 'Argentina'\").area/(1000**2) # dividimos para que nos quede en km^2\n"
      ],
      "metadata": {
        "colab": {
          "base_uri": "https://localhost:8080/"
        },
        "id": "8unh_B9ZVeiy",
        "outputId": "a77a0385-d681-40f7-a029-efc1844ecb8b"
      },
      "execution_count": null,
      "outputs": [
        {
          "output_type": "execute_result",
          "data": {
            "text/plain": [
              "9    2.623326e+06\n",
              "dtype: float64"
            ]
          },
          "metadata": {},
          "execution_count": 38
        }
      ]
    },
    {
      "cell_type": "code",
      "source": [
        "world2.query(\"name == 'Argentina'\").area/(1000**2)"
      ],
      "metadata": {
        "colab": {
          "base_uri": "https://localhost:8080/"
        },
        "id": "s0POD4_sV5Kq",
        "outputId": "73e1cdfe-546b-4dc9-f66c-d636033a3164"
      },
      "execution_count": null,
      "outputs": [
        {
          "output_type": "execute_result",
          "data": {
            "text/plain": [
              "9    2.790478e+06\n",
              "dtype: float64"
            ]
          },
          "metadata": {},
          "execution_count": 39
        }
      ]
    },
    {
      "cell_type": "code",
      "source": [
        "world2.query(\"name == 'Argentina'\").to_crs(epsg = 22177).area/1000**2"
      ],
      "metadata": {
        "colab": {
          "base_uri": "https://localhost:8080/"
        },
        "id": "ditLJKUlWJFh",
        "outputId": "203b1c17-f1e2-4c6d-a68e-94f3ea111fa9"
      },
      "execution_count": null,
      "outputs": [
        {
          "output_type": "execute_result",
          "data": {
            "text/plain": [
              "9    2.858347e+06\n",
              "dtype: float64"
            ]
          },
          "metadata": {},
          "execution_count": 40
        }
      ]
    },
    {
      "cell_type": "markdown",
      "source": [
        " # **<font color=\"DeepPink\">Conclusiones</font>**"
      ],
      "metadata": {
        "id": "AeFSFlMVY2kF"
      }
    },
    {
      "cell_type": "markdown",
      "source": [
        "<p align=\"justify\">\n",
        "👀 En este colab nosotros:<br><br>\n",
        "✅\n",
        "Aprendimos como crear objetos geométricos y manipularlos con <code>shapely</code>. <br>\n",
        "✅ Leimos archivos geográficos externos con <code>GeoPandas</code>. <br>✅ Aprendimos a proyectar un dataset y para que sirve el CRS. <br>\n",
        "\n",
        "<p align=\"justify\">\n",
        "\n"
      ],
      "metadata": {
        "id": "hMlr5a9OY9xY"
      }
    },
    {
      "cell_type": "markdown",
      "source": [
        "<br>\n",
        "<br>\n",
        "<p align=\"center\"><b>\n",
        "💗\n",
        "<font color=\"DeepPink\">\n",
        "Hemos llegado al final de nuestro colab, a seguir codeando...\n",
        "</font>\n",
        "</p>\n",
        "<br>\n",
        "<p align=\"center\">\n",
        "<img src=\"https://github.com/cristiandarioortegayubro/BDS/blob/main/images/Logo%20BDS%20Horizontal%208.png?raw=true\">\n",
        "</p>\n",
        "\n",
        "---\n"
      ],
      "metadata": {
        "id": "wtgChAZSaUMQ"
      }
    }
  ],
  "metadata": {
    "kernelspec": {
      "display_name": "espacial",
      "language": "python",
      "name": "python3"
    },
    "language_info": {
      "codemirror_mode": {
        "name": "ipython",
        "version": 3
      },
      "file_extension": ".py",
      "mimetype": "text/x-python",
      "name": "python",
      "nbconvert_exporter": "python",
      "pygments_lexer": "ipython3",
      "version": "3.8.12"
    },
    "orig_nbformat": 4,
    "colab": {
      "provenance": [],
      "toc_visible": true,
      "include_colab_link": true
    }
  },
  "nbformat": 4,
  "nbformat_minor": 0
}