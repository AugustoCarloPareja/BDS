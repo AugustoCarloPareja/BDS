{
  "nbformat": 4,
  "nbformat_minor": 0,
  "metadata": {
    "colab": {
      "provenance": [],
      "toc_visible": true,
      "include_colab_link": true
    },
    "kernelspec": {
      "name": "python3",
      "display_name": "Python 3"
    },
    "language_info": {
      "name": "python"
    }
  },
  "cells": [
    {
      "cell_type": "markdown",
      "metadata": {
        "id": "view-in-github",
        "colab_type": "text"
      },
      "source": [
        "<a href=\"https://colab.research.google.com/github/cristiandarioortegayubro/BDS/blob/main/paper/Redes_neuronales_aplicadas_a_finanzas_01.ipynb\" target=\"_parent\"><img src=\"https://colab.research.google.com/assets/colab-badge.svg\" alt=\"Open In Colab\"/></a>"
      ]
    },
    {
      "cell_type": "markdown",
      "source": [
        "<p align=\"center\">\n",
        "<img src=\"https://github.com/cristiandarioortegayubro/BDS/blob/main/images/Logo%20BDS%20Horizontal%208.png?raw=true\"/>\n",
        "</p>\n",
        "\n",
        "\n"
      ],
      "metadata": {
        "id": "iheuwam9e4CH"
      }
    },
    {
      "cell_type": "markdown",
      "source": [
        "# **<font color=\"DeepPink\">Redes neuronales aplicadas a finanzas</font>**"
      ],
      "metadata": {
        "id": "_fRBXj8mbrnO"
      }
    },
    {
      "cell_type": "markdown",
      "source": [
        "## **<font color=\"DeepPink\">Análisis de series temporales con redes neuronales</font>**"
      ],
      "metadata": {
        "id": "nauuplxtzlzH"
      }
    },
    {
      "cell_type": "markdown",
      "source": [
        "## **<font color=\"DeepPink\">Bibliotecas</font>**"
      ],
      "metadata": {
        "id": "VVbs6NdzkzyB"
      }
    },
    {
      "cell_type": "code",
      "source": [
        "import yfinance as yf\n",
        "import numpy as np\n",
        "import pandas as pd\n",
        "import plotly.express as px\n",
        "from sklearn.preprocessing import MinMaxScaler\n",
        "from tensorflow import keras\n",
        "from tensorflow.keras import layers"
      ],
      "metadata": {
        "id": "B15K1U6ahtdr"
      },
      "execution_count": null,
      "outputs": []
    },
    {
      "cell_type": "markdown",
      "source": [
        "Este código es una serie de importaciones de bibliotecas de Python que son utilizadas en un contexto relacionado con el análisis de series temporales y el modelado de redes neuronales con TensorFlow y Keras.\n",
        "\n",
        "A continuación, se explica el propósito de cada importación:\n",
        "\n",
        "1. `import yfinance as yf`: Importa la biblioteca `yfinance`, que proporciona una interfaz para acceder y descargar datos financieros y bursátiles de Yahoo Finance. Esto es útil para obtener información sobre precios de acciones y otros datos relacionados con finanzas.\n",
        "\n",
        "2. `import numpy as np`: Importa la biblioteca NumPy con el alias `np`, que es una biblioteca fundamental para realizar cálculos numéricos y manipulación de matrices en Python. Se utiliza comúnmente en análisis de datos y modelado de aprendizaje automático.\n",
        "\n",
        "3. `import pandas as pd`: Importa la biblioteca Pandas con el alias `pd`, que es ampliamente utilizada para la manipulación y análisis de datos en forma de estructuras de datos tabulares.\n",
        "\n",
        "4. `import plotly.express as px`: Importa la biblioteca Plotly Express con el alias `px`, que proporciona una interfaz sencilla para crear visualizaciones interactivas y gráficos de datos.\n",
        "\n",
        "5. `from sklearn.preprocessing import MinMaxScaler`: Importa la clase `MinMaxScaler` de la biblioteca Scikit-learn (`sklearn.preprocessing`). Esta clase se utiliza para normalizar los datos en un rango específico, como se utiliza comúnmente en el preprocesamiento de datos para el modelado de redes neuronales.\n",
        "\n",
        "6. `from tensorflow import keras`: Importa el módulo `keras` de la biblioteca TensorFlow, que es una biblioteca de aprendizaje automático de código abierto desarrollada por Google. Keras proporciona una interfaz de alto nivel para construir y entrenar modelos de redes neuronales.\n",
        "\n",
        "7. `from tensorflow.keras import layers`: Importa el módulo `layers` de la biblioteca Keras en TensorFlow. Este módulo contiene clases y funciones para crear diferentes tipos de capas en una red neuronal, como capas densas, convolucionales, recurrentes, etc.\n",
        "\n",
        "En resumen, estas importaciones establecen las bases para realizar análisis de series temporales y crear modelos de redes neuronales."
      ],
      "metadata": {
        "id": "QqhRLbX6y8cm"
      }
    },
    {
      "cell_type": "markdown",
      "source": [
        "## **<font color=\"DeepPink\">Simbolo de la acción</font>**"
      ],
      "metadata": {
        "id": "W9k5pZOdk7uj"
      }
    },
    {
      "cell_type": "code",
      "source": [
        "symbol = \"AAPL\""
      ],
      "metadata": {
        "id": "fyZeWOwZjebO"
      },
      "execution_count": null,
      "outputs": []
    },
    {
      "cell_type": "markdown",
      "source": [
        "La línea de código `symbol = \"AAPL\"` simplemente está asignando el valor de la cadena de caracteres `\"AAPL\"` a la variable llamada `symbol`. En este caso, parece que se está utilizando la abreviatura \"AAPL\" para representar el símbolo de una acción específica en el mercado de valores.\n",
        "\n",
        "Las abreviaturas de símbolos de acciones se utilizan comúnmente para identificar empresas en los mercados financieros. En este caso, \"AAPL\" es el símbolo de acciones utilizado en los mercados para representar a la empresa Apple Inc., una de las empresas tecnológicas más grandes y conocidas del mundo.\n",
        "\n",
        "Esta variable `symbol` probablemente se usa en el código posterior para acceder a los datos financieros específicos de las acciones de Apple Inc. utilizando la biblioteca `yfinance`, que permite descargar información de Yahoo Finance y, por ejemplo, obtener los precios de cierre históricos de las acciones de Apple."
      ],
      "metadata": {
        "id": "15kudCUKz4o6"
      }
    },
    {
      "cell_type": "markdown",
      "source": [
        "## **<font color=\"DeepPink\">Periodo bajo análisis</font>**"
      ],
      "metadata": {
        "id": "jDgT1fWmk_ZK"
      }
    },
    {
      "cell_type": "code",
      "source": [
        "start_date = \"2020-01-01\"\n",
        "end_date = \"2023-01-01\""
      ],
      "metadata": {
        "id": "PndcNPrVjhWg"
      },
      "execution_count": null,
      "outputs": []
    },
    {
      "cell_type": "markdown",
      "source": [
        "## **<font color=\"DeepPink\">Obtención remota de datos</font>**"
      ],
      "metadata": {
        "id": "5qzBSGvalDMA"
      }
    },
    {
      "cell_type": "code",
      "source": [
        "data = yf.download(symbol, start=start_date, end=end_date).round(2)"
      ],
      "metadata": {
        "colab": {
          "base_uri": "https://localhost:8080/"
        },
        "id": "hhbw07e-jpEZ",
        "outputId": "76b9654c-0361-49ab-81e2-04ba7b81069a"
      },
      "execution_count": null,
      "outputs": [
        {
          "output_type": "stream",
          "name": "stdout",
          "text": [
            "\r[*********************100%%**********************]  1 of 1 completed\n"
          ]
        }
      ]
    },
    {
      "cell_type": "markdown",
      "source": [
        "La línea de código `data = yf.download(symbol, start=start_date, end=end_date)` se utiliza para descargar datos históricos de precios de una acción o activo financiero específico de Yahoo Finance utilizando la biblioteca `yfinance`.\n",
        "\n",
        "A continuación, se desglosa lo que cada parte de la línea de código hace:\n",
        "\n",
        "- `data`: Es el nombre de la variable en la que almacenaremos los datos descargados. Puede cambiar el nombre de la variable según sus preferencias.\n",
        "\n",
        "- `yf.download(...)`: Este es el método de la biblioteca `yfinance` que se utiliza para descargar los datos históricos. Toma varios argumentos que especifican qué datos se deben descargar.\n",
        "\n",
        "- `symbol`: Este argumento especifica el símbolo del activo financiero del que se desea obtener los datos. Por ejemplo, si desea los datos de las acciones de Apple, el símbolo sería `\"AAPL\"`.\n",
        "\n",
        "- `start`: Este argumento indica la fecha de inicio desde la cual se deben descargar los datos históricos. Debe especificarse en formato de cadena de texto, como `\"2020-01-01\"`.\n",
        "\n",
        "- `end`: Este argumento indica la fecha de finalización hasta la cual se deben descargar los datos históricos. También debe especificarse en formato de cadena de texto, como `\"2023-01-01\"`.\n",
        "\n",
        "En resumen, esta línea de código se utiliza para descargar datos históricos de precios de acciones o activos financieros de Yahoo Finance y almacenarlos en una variable llamada `data`. Los datos descargados se limitarán al período de tiempo especificado entre `start_date` y `end_date`. Estos datos pueden incluir información como precios de apertura, precios de cierre, volúmenes de negociación, máximos, mínimos, etc., dependiendo de lo que se haya especificado al descargar los datos."
      ],
      "metadata": {
        "id": "m8ZWnnJAsCqe"
      }
    },
    {
      "cell_type": "markdown",
      "source": [
        "## **<font color=\"DeepPink\">Data</font>**"
      ],
      "metadata": {
        "id": "VWQR6l0ylIoH"
      }
    },
    {
      "cell_type": "code",
      "source": [
        "data"
      ],
      "metadata": {
        "colab": {
          "base_uri": "https://localhost:8080/",
          "height": 464
        },
        "id": "tJau8SZ7jrs0",
        "outputId": "5aedb940-5d2b-4e99-851c-7420933a3fea"
      },
      "execution_count": null,
      "outputs": [
        {
          "output_type": "execute_result",
          "data": {
            "text/plain": [
              "              Open    High     Low   Close  Adj Close     Volume\n",
              "Date                                                            \n",
              "2020-01-02   74.06   75.15   73.80   75.09      73.25  135480400\n",
              "2020-01-03   74.29   75.14   74.12   74.36      72.54  146322800\n",
              "2020-01-06   73.45   74.99   73.19   74.95      73.11  118387200\n",
              "2020-01-07   74.96   75.22   74.37   74.60      72.77  108872000\n",
              "2020-01-08   74.29   76.11   74.29   75.80      73.94  132079200\n",
              "...            ...     ...     ...     ...        ...        ...\n",
              "2022-12-23  130.92  132.42  129.64  131.86     131.30   63814900\n",
              "2022-12-27  131.38  131.41  128.72  130.03     129.48   69007800\n",
              "2022-12-28  129.67  131.03  125.87  126.04     125.50   85438400\n",
              "2022-12-29  127.99  130.48  127.73  129.61     129.06   75703700\n",
              "2022-12-30  128.41  129.95  127.43  129.93     129.38   77034200\n",
              "\n",
              "[756 rows x 6 columns]"
            ],
            "text/html": [
              "\n",
              "  <div id=\"df-2ac1346f-54d7-4b20-ad5a-f9f801eaeb63\" class=\"colab-df-container\">\n",
              "    <div>\n",
              "<style scoped>\n",
              "    .dataframe tbody tr th:only-of-type {\n",
              "        vertical-align: middle;\n",
              "    }\n",
              "\n",
              "    .dataframe tbody tr th {\n",
              "        vertical-align: top;\n",
              "    }\n",
              "\n",
              "    .dataframe thead th {\n",
              "        text-align: right;\n",
              "    }\n",
              "</style>\n",
              "<table border=\"1\" class=\"dataframe\">\n",
              "  <thead>\n",
              "    <tr style=\"text-align: right;\">\n",
              "      <th></th>\n",
              "      <th>Open</th>\n",
              "      <th>High</th>\n",
              "      <th>Low</th>\n",
              "      <th>Close</th>\n",
              "      <th>Adj Close</th>\n",
              "      <th>Volume</th>\n",
              "    </tr>\n",
              "    <tr>\n",
              "      <th>Date</th>\n",
              "      <th></th>\n",
              "      <th></th>\n",
              "      <th></th>\n",
              "      <th></th>\n",
              "      <th></th>\n",
              "      <th></th>\n",
              "    </tr>\n",
              "  </thead>\n",
              "  <tbody>\n",
              "    <tr>\n",
              "      <th>2020-01-02</th>\n",
              "      <td>74.06</td>\n",
              "      <td>75.15</td>\n",
              "      <td>73.80</td>\n",
              "      <td>75.09</td>\n",
              "      <td>73.25</td>\n",
              "      <td>135480400</td>\n",
              "    </tr>\n",
              "    <tr>\n",
              "      <th>2020-01-03</th>\n",
              "      <td>74.29</td>\n",
              "      <td>75.14</td>\n",
              "      <td>74.12</td>\n",
              "      <td>74.36</td>\n",
              "      <td>72.54</td>\n",
              "      <td>146322800</td>\n",
              "    </tr>\n",
              "    <tr>\n",
              "      <th>2020-01-06</th>\n",
              "      <td>73.45</td>\n",
              "      <td>74.99</td>\n",
              "      <td>73.19</td>\n",
              "      <td>74.95</td>\n",
              "      <td>73.11</td>\n",
              "      <td>118387200</td>\n",
              "    </tr>\n",
              "    <tr>\n",
              "      <th>2020-01-07</th>\n",
              "      <td>74.96</td>\n",
              "      <td>75.22</td>\n",
              "      <td>74.37</td>\n",
              "      <td>74.60</td>\n",
              "      <td>72.77</td>\n",
              "      <td>108872000</td>\n",
              "    </tr>\n",
              "    <tr>\n",
              "      <th>2020-01-08</th>\n",
              "      <td>74.29</td>\n",
              "      <td>76.11</td>\n",
              "      <td>74.29</td>\n",
              "      <td>75.80</td>\n",
              "      <td>73.94</td>\n",
              "      <td>132079200</td>\n",
              "    </tr>\n",
              "    <tr>\n",
              "      <th>...</th>\n",
              "      <td>...</td>\n",
              "      <td>...</td>\n",
              "      <td>...</td>\n",
              "      <td>...</td>\n",
              "      <td>...</td>\n",
              "      <td>...</td>\n",
              "    </tr>\n",
              "    <tr>\n",
              "      <th>2022-12-23</th>\n",
              "      <td>130.92</td>\n",
              "      <td>132.42</td>\n",
              "      <td>129.64</td>\n",
              "      <td>131.86</td>\n",
              "      <td>131.30</td>\n",
              "      <td>63814900</td>\n",
              "    </tr>\n",
              "    <tr>\n",
              "      <th>2022-12-27</th>\n",
              "      <td>131.38</td>\n",
              "      <td>131.41</td>\n",
              "      <td>128.72</td>\n",
              "      <td>130.03</td>\n",
              "      <td>129.48</td>\n",
              "      <td>69007800</td>\n",
              "    </tr>\n",
              "    <tr>\n",
              "      <th>2022-12-28</th>\n",
              "      <td>129.67</td>\n",
              "      <td>131.03</td>\n",
              "      <td>125.87</td>\n",
              "      <td>126.04</td>\n",
              "      <td>125.50</td>\n",
              "      <td>85438400</td>\n",
              "    </tr>\n",
              "    <tr>\n",
              "      <th>2022-12-29</th>\n",
              "      <td>127.99</td>\n",
              "      <td>130.48</td>\n",
              "      <td>127.73</td>\n",
              "      <td>129.61</td>\n",
              "      <td>129.06</td>\n",
              "      <td>75703700</td>\n",
              "    </tr>\n",
              "    <tr>\n",
              "      <th>2022-12-30</th>\n",
              "      <td>128.41</td>\n",
              "      <td>129.95</td>\n",
              "      <td>127.43</td>\n",
              "      <td>129.93</td>\n",
              "      <td>129.38</td>\n",
              "      <td>77034200</td>\n",
              "    </tr>\n",
              "  </tbody>\n",
              "</table>\n",
              "<p>756 rows × 6 columns</p>\n",
              "</div>\n",
              "    <div class=\"colab-df-buttons\">\n",
              "\n",
              "  <div class=\"colab-df-container\">\n",
              "    <button class=\"colab-df-convert\" onclick=\"convertToInteractive('df-2ac1346f-54d7-4b20-ad5a-f9f801eaeb63')\"\n",
              "            title=\"Convert this dataframe to an interactive table.\"\n",
              "            style=\"display:none;\">\n",
              "\n",
              "  <svg xmlns=\"http://www.w3.org/2000/svg\" height=\"24px\" viewBox=\"0 -960 960 960\">\n",
              "    <path d=\"M120-120v-720h720v720H120Zm60-500h600v-160H180v160Zm220 220h160v-160H400v160Zm0 220h160v-160H400v160ZM180-400h160v-160H180v160Zm440 0h160v-160H620v160ZM180-180h160v-160H180v160Zm440 0h160v-160H620v160Z\"/>\n",
              "  </svg>\n",
              "    </button>\n",
              "\n",
              "  <style>\n",
              "    .colab-df-container {\n",
              "      display:flex;\n",
              "      gap: 12px;\n",
              "    }\n",
              "\n",
              "    .colab-df-convert {\n",
              "      background-color: #E8F0FE;\n",
              "      border: none;\n",
              "      border-radius: 50%;\n",
              "      cursor: pointer;\n",
              "      display: none;\n",
              "      fill: #1967D2;\n",
              "      height: 32px;\n",
              "      padding: 0 0 0 0;\n",
              "      width: 32px;\n",
              "    }\n",
              "\n",
              "    .colab-df-convert:hover {\n",
              "      background-color: #E2EBFA;\n",
              "      box-shadow: 0px 1px 2px rgba(60, 64, 67, 0.3), 0px 1px 3px 1px rgba(60, 64, 67, 0.15);\n",
              "      fill: #174EA6;\n",
              "    }\n",
              "\n",
              "    .colab-df-buttons div {\n",
              "      margin-bottom: 4px;\n",
              "    }\n",
              "\n",
              "    [theme=dark] .colab-df-convert {\n",
              "      background-color: #3B4455;\n",
              "      fill: #D2E3FC;\n",
              "    }\n",
              "\n",
              "    [theme=dark] .colab-df-convert:hover {\n",
              "      background-color: #434B5C;\n",
              "      box-shadow: 0px 1px 3px 1px rgba(0, 0, 0, 0.15);\n",
              "      filter: drop-shadow(0px 1px 2px rgba(0, 0, 0, 0.3));\n",
              "      fill: #FFFFFF;\n",
              "    }\n",
              "  </style>\n",
              "\n",
              "    <script>\n",
              "      const buttonEl =\n",
              "        document.querySelector('#df-2ac1346f-54d7-4b20-ad5a-f9f801eaeb63 button.colab-df-convert');\n",
              "      buttonEl.style.display =\n",
              "        google.colab.kernel.accessAllowed ? 'block' : 'none';\n",
              "\n",
              "      async function convertToInteractive(key) {\n",
              "        const element = document.querySelector('#df-2ac1346f-54d7-4b20-ad5a-f9f801eaeb63');\n",
              "        const dataTable =\n",
              "          await google.colab.kernel.invokeFunction('convertToInteractive',\n",
              "                                                    [key], {});\n",
              "        if (!dataTable) return;\n",
              "\n",
              "        const docLinkHtml = 'Like what you see? Visit the ' +\n",
              "          '<a target=\"_blank\" href=https://colab.research.google.com/notebooks/data_table.ipynb>data table notebook</a>'\n",
              "          + ' to learn more about interactive tables.';\n",
              "        element.innerHTML = '';\n",
              "        dataTable['output_type'] = 'display_data';\n",
              "        await google.colab.output.renderOutput(dataTable, element);\n",
              "        const docLink = document.createElement('div');\n",
              "        docLink.innerHTML = docLinkHtml;\n",
              "        element.appendChild(docLink);\n",
              "      }\n",
              "    </script>\n",
              "  </div>\n",
              "\n",
              "\n",
              "<div id=\"df-8770ca21-052d-4e34-a52d-98c3ea5d6ae7\">\n",
              "  <button class=\"colab-df-quickchart\" onclick=\"quickchart('df-8770ca21-052d-4e34-a52d-98c3ea5d6ae7')\"\n",
              "            title=\"Suggest charts.\"\n",
              "            style=\"display:none;\">\n",
              "\n",
              "<svg xmlns=\"http://www.w3.org/2000/svg\" height=\"24px\"viewBox=\"0 0 24 24\"\n",
              "     width=\"24px\">\n",
              "    <g>\n",
              "        <path d=\"M19 3H5c-1.1 0-2 .9-2 2v14c0 1.1.9 2 2 2h14c1.1 0 2-.9 2-2V5c0-1.1-.9-2-2-2zM9 17H7v-7h2v7zm4 0h-2V7h2v10zm4 0h-2v-4h2v4z\"/>\n",
              "    </g>\n",
              "</svg>\n",
              "  </button>\n",
              "\n",
              "<style>\n",
              "  .colab-df-quickchart {\n",
              "    background-color: #E8F0FE;\n",
              "    border: none;\n",
              "    border-radius: 50%;\n",
              "    cursor: pointer;\n",
              "    display: none;\n",
              "    fill: #1967D2;\n",
              "    height: 32px;\n",
              "    padding: 0 0 0 0;\n",
              "    width: 32px;\n",
              "  }\n",
              "\n",
              "  .colab-df-quickchart:hover {\n",
              "    background-color: #E2EBFA;\n",
              "    box-shadow: 0px 1px 2px rgba(60, 64, 67, 0.3), 0px 1px 3px 1px rgba(60, 64, 67, 0.15);\n",
              "    fill: #174EA6;\n",
              "  }\n",
              "\n",
              "  [theme=dark] .colab-df-quickchart {\n",
              "    background-color: #3B4455;\n",
              "    fill: #D2E3FC;\n",
              "  }\n",
              "\n",
              "  [theme=dark] .colab-df-quickchart:hover {\n",
              "    background-color: #434B5C;\n",
              "    box-shadow: 0px 1px 3px 1px rgba(0, 0, 0, 0.15);\n",
              "    filter: drop-shadow(0px 1px 2px rgba(0, 0, 0, 0.3));\n",
              "    fill: #FFFFFF;\n",
              "  }\n",
              "</style>\n",
              "\n",
              "  <script>\n",
              "    async function quickchart(key) {\n",
              "      const charts = await google.colab.kernel.invokeFunction(\n",
              "          'suggestCharts', [key], {});\n",
              "    }\n",
              "    (() => {\n",
              "      let quickchartButtonEl =\n",
              "        document.querySelector('#df-8770ca21-052d-4e34-a52d-98c3ea5d6ae7 button');\n",
              "      quickchartButtonEl.style.display =\n",
              "        google.colab.kernel.accessAllowed ? 'block' : 'none';\n",
              "    })();\n",
              "  </script>\n",
              "</div>\n",
              "    </div>\n",
              "  </div>\n"
            ]
          },
          "metadata": {},
          "execution_count": 5
        }
      ]
    },
    {
      "cell_type": "markdown",
      "source": [
        "## **<font color=\"DeepPink\">DataFrame con Precios de Cierre</font>**"
      ],
      "metadata": {
        "id": "B8ngtZ49lM_R"
      }
    },
    {
      "cell_type": "code",
      "source": [
        "df = data[['Close']]"
      ],
      "metadata": {
        "id": "Q4trKz_Mj-vH"
      },
      "execution_count": null,
      "outputs": []
    },
    {
      "cell_type": "markdown",
      "source": [
        "La línea de código `df = data[['Close']]` se utiliza para crear un nuevo DataFrame de Pandas que contiene solo una columna específica de los datos descargados. En este caso, estamos interesados en la columna \"Close\", que corresponde a los precios de cierre de las acciones o activos financieros.\n",
        "\n",
        "A continuación, se desglosa lo que cada parte de la línea de código hace:\n",
        "\n",
        "- `df`: Es el nombre de la variable en la que almacenaremos el nuevo DataFrame. Puede cambiar el nombre de la variable según sus preferencias.\n",
        "\n",
        "- `data[['Close']]`: Aquí, estamos utilizando la variable `data`, que contiene los datos históricos descargados de Yahoo Finance. Al usar la notación de corchetes dobles `[['Close']]`, estamos seleccionando una columna específica del DataFrame original y creando un nuevo DataFrame que contiene solo esa columna.\n",
        "\n",
        "- `'Close'`: Este es el nombre de la columna que estamos seleccionando del DataFrame original. En este caso, estamos interesados en la columna de precios de cierre.\n",
        "\n",
        "En resumen, esta línea de código se utiliza para crear un nuevo DataFrame llamado `df` que contiene únicamente la columna de precios de cierre de las acciones o activos financieros. Esto facilita el análisis y la manipulación de los datos específicos que nos interesan."
      ],
      "metadata": {
        "id": "Zb6IV_I9sXe1"
      }
    },
    {
      "cell_type": "code",
      "source": [
        "df"
      ],
      "metadata": {
        "colab": {
          "base_uri": "https://localhost:8080/",
          "height": 464
        },
        "id": "dMcDzHXBkA3T",
        "outputId": "80f589ca-aa86-4760-9b91-ec155d36c78a"
      },
      "execution_count": null,
      "outputs": [
        {
          "output_type": "execute_result",
          "data": {
            "text/plain": [
              "             Close\n",
              "Date              \n",
              "2020-01-02   75.09\n",
              "2020-01-03   74.36\n",
              "2020-01-06   74.95\n",
              "2020-01-07   74.60\n",
              "2020-01-08   75.80\n",
              "...            ...\n",
              "2022-12-23  131.86\n",
              "2022-12-27  130.03\n",
              "2022-12-28  126.04\n",
              "2022-12-29  129.61\n",
              "2022-12-30  129.93\n",
              "\n",
              "[756 rows x 1 columns]"
            ],
            "text/html": [
              "\n",
              "  <div id=\"df-91a87583-da2d-4742-8f3c-88a61df7c821\" class=\"colab-df-container\">\n",
              "    <div>\n",
              "<style scoped>\n",
              "    .dataframe tbody tr th:only-of-type {\n",
              "        vertical-align: middle;\n",
              "    }\n",
              "\n",
              "    .dataframe tbody tr th {\n",
              "        vertical-align: top;\n",
              "    }\n",
              "\n",
              "    .dataframe thead th {\n",
              "        text-align: right;\n",
              "    }\n",
              "</style>\n",
              "<table border=\"1\" class=\"dataframe\">\n",
              "  <thead>\n",
              "    <tr style=\"text-align: right;\">\n",
              "      <th></th>\n",
              "      <th>Close</th>\n",
              "    </tr>\n",
              "    <tr>\n",
              "      <th>Date</th>\n",
              "      <th></th>\n",
              "    </tr>\n",
              "  </thead>\n",
              "  <tbody>\n",
              "    <tr>\n",
              "      <th>2020-01-02</th>\n",
              "      <td>75.09</td>\n",
              "    </tr>\n",
              "    <tr>\n",
              "      <th>2020-01-03</th>\n",
              "      <td>74.36</td>\n",
              "    </tr>\n",
              "    <tr>\n",
              "      <th>2020-01-06</th>\n",
              "      <td>74.95</td>\n",
              "    </tr>\n",
              "    <tr>\n",
              "      <th>2020-01-07</th>\n",
              "      <td>74.60</td>\n",
              "    </tr>\n",
              "    <tr>\n",
              "      <th>2020-01-08</th>\n",
              "      <td>75.80</td>\n",
              "    </tr>\n",
              "    <tr>\n",
              "      <th>...</th>\n",
              "      <td>...</td>\n",
              "    </tr>\n",
              "    <tr>\n",
              "      <th>2022-12-23</th>\n",
              "      <td>131.86</td>\n",
              "    </tr>\n",
              "    <tr>\n",
              "      <th>2022-12-27</th>\n",
              "      <td>130.03</td>\n",
              "    </tr>\n",
              "    <tr>\n",
              "      <th>2022-12-28</th>\n",
              "      <td>126.04</td>\n",
              "    </tr>\n",
              "    <tr>\n",
              "      <th>2022-12-29</th>\n",
              "      <td>129.61</td>\n",
              "    </tr>\n",
              "    <tr>\n",
              "      <th>2022-12-30</th>\n",
              "      <td>129.93</td>\n",
              "    </tr>\n",
              "  </tbody>\n",
              "</table>\n",
              "<p>756 rows × 1 columns</p>\n",
              "</div>\n",
              "    <div class=\"colab-df-buttons\">\n",
              "\n",
              "  <div class=\"colab-df-container\">\n",
              "    <button class=\"colab-df-convert\" onclick=\"convertToInteractive('df-91a87583-da2d-4742-8f3c-88a61df7c821')\"\n",
              "            title=\"Convert this dataframe to an interactive table.\"\n",
              "            style=\"display:none;\">\n",
              "\n",
              "  <svg xmlns=\"http://www.w3.org/2000/svg\" height=\"24px\" viewBox=\"0 -960 960 960\">\n",
              "    <path d=\"M120-120v-720h720v720H120Zm60-500h600v-160H180v160Zm220 220h160v-160H400v160Zm0 220h160v-160H400v160ZM180-400h160v-160H180v160Zm440 0h160v-160H620v160ZM180-180h160v-160H180v160Zm440 0h160v-160H620v160Z\"/>\n",
              "  </svg>\n",
              "    </button>\n",
              "\n",
              "  <style>\n",
              "    .colab-df-container {\n",
              "      display:flex;\n",
              "      gap: 12px;\n",
              "    }\n",
              "\n",
              "    .colab-df-convert {\n",
              "      background-color: #E8F0FE;\n",
              "      border: none;\n",
              "      border-radius: 50%;\n",
              "      cursor: pointer;\n",
              "      display: none;\n",
              "      fill: #1967D2;\n",
              "      height: 32px;\n",
              "      padding: 0 0 0 0;\n",
              "      width: 32px;\n",
              "    }\n",
              "\n",
              "    .colab-df-convert:hover {\n",
              "      background-color: #E2EBFA;\n",
              "      box-shadow: 0px 1px 2px rgba(60, 64, 67, 0.3), 0px 1px 3px 1px rgba(60, 64, 67, 0.15);\n",
              "      fill: #174EA6;\n",
              "    }\n",
              "\n",
              "    .colab-df-buttons div {\n",
              "      margin-bottom: 4px;\n",
              "    }\n",
              "\n",
              "    [theme=dark] .colab-df-convert {\n",
              "      background-color: #3B4455;\n",
              "      fill: #D2E3FC;\n",
              "    }\n",
              "\n",
              "    [theme=dark] .colab-df-convert:hover {\n",
              "      background-color: #434B5C;\n",
              "      box-shadow: 0px 1px 3px 1px rgba(0, 0, 0, 0.15);\n",
              "      filter: drop-shadow(0px 1px 2px rgba(0, 0, 0, 0.3));\n",
              "      fill: #FFFFFF;\n",
              "    }\n",
              "  </style>\n",
              "\n",
              "    <script>\n",
              "      const buttonEl =\n",
              "        document.querySelector('#df-91a87583-da2d-4742-8f3c-88a61df7c821 button.colab-df-convert');\n",
              "      buttonEl.style.display =\n",
              "        google.colab.kernel.accessAllowed ? 'block' : 'none';\n",
              "\n",
              "      async function convertToInteractive(key) {\n",
              "        const element = document.querySelector('#df-91a87583-da2d-4742-8f3c-88a61df7c821');\n",
              "        const dataTable =\n",
              "          await google.colab.kernel.invokeFunction('convertToInteractive',\n",
              "                                                    [key], {});\n",
              "        if (!dataTable) return;\n",
              "\n",
              "        const docLinkHtml = 'Like what you see? Visit the ' +\n",
              "          '<a target=\"_blank\" href=https://colab.research.google.com/notebooks/data_table.ipynb>data table notebook</a>'\n",
              "          + ' to learn more about interactive tables.';\n",
              "        element.innerHTML = '';\n",
              "        dataTable['output_type'] = 'display_data';\n",
              "        await google.colab.output.renderOutput(dataTable, element);\n",
              "        const docLink = document.createElement('div');\n",
              "        docLink.innerHTML = docLinkHtml;\n",
              "        element.appendChild(docLink);\n",
              "      }\n",
              "    </script>\n",
              "  </div>\n",
              "\n",
              "\n",
              "<div id=\"df-4ab0c131-dbd8-4ffe-b643-7726145a3396\">\n",
              "  <button class=\"colab-df-quickchart\" onclick=\"quickchart('df-4ab0c131-dbd8-4ffe-b643-7726145a3396')\"\n",
              "            title=\"Suggest charts.\"\n",
              "            style=\"display:none;\">\n",
              "\n",
              "<svg xmlns=\"http://www.w3.org/2000/svg\" height=\"24px\"viewBox=\"0 0 24 24\"\n",
              "     width=\"24px\">\n",
              "    <g>\n",
              "        <path d=\"M19 3H5c-1.1 0-2 .9-2 2v14c0 1.1.9 2 2 2h14c1.1 0 2-.9 2-2V5c0-1.1-.9-2-2-2zM9 17H7v-7h2v7zm4 0h-2V7h2v10zm4 0h-2v-4h2v4z\"/>\n",
              "    </g>\n",
              "</svg>\n",
              "  </button>\n",
              "\n",
              "<style>\n",
              "  .colab-df-quickchart {\n",
              "    background-color: #E8F0FE;\n",
              "    border: none;\n",
              "    border-radius: 50%;\n",
              "    cursor: pointer;\n",
              "    display: none;\n",
              "    fill: #1967D2;\n",
              "    height: 32px;\n",
              "    padding: 0 0 0 0;\n",
              "    width: 32px;\n",
              "  }\n",
              "\n",
              "  .colab-df-quickchart:hover {\n",
              "    background-color: #E2EBFA;\n",
              "    box-shadow: 0px 1px 2px rgba(60, 64, 67, 0.3), 0px 1px 3px 1px rgba(60, 64, 67, 0.15);\n",
              "    fill: #174EA6;\n",
              "  }\n",
              "\n",
              "  [theme=dark] .colab-df-quickchart {\n",
              "    background-color: #3B4455;\n",
              "    fill: #D2E3FC;\n",
              "  }\n",
              "\n",
              "  [theme=dark] .colab-df-quickchart:hover {\n",
              "    background-color: #434B5C;\n",
              "    box-shadow: 0px 1px 3px 1px rgba(0, 0, 0, 0.15);\n",
              "    filter: drop-shadow(0px 1px 2px rgba(0, 0, 0, 0.3));\n",
              "    fill: #FFFFFF;\n",
              "  }\n",
              "</style>\n",
              "\n",
              "  <script>\n",
              "    async function quickchart(key) {\n",
              "      const charts = await google.colab.kernel.invokeFunction(\n",
              "          'suggestCharts', [key], {});\n",
              "    }\n",
              "    (() => {\n",
              "      let quickchartButtonEl =\n",
              "        document.querySelector('#df-4ab0c131-dbd8-4ffe-b643-7726145a3396 button');\n",
              "      quickchartButtonEl.style.display =\n",
              "        google.colab.kernel.accessAllowed ? 'block' : 'none';\n",
              "    })();\n",
              "  </script>\n",
              "</div>\n",
              "    </div>\n",
              "  </div>\n"
            ]
          },
          "metadata": {},
          "execution_count": 7
        }
      ]
    },
    {
      "cell_type": "markdown",
      "source": [
        "## **<font color=\"DeepPink\">Grafico lineal Precios de Cierre</font>**"
      ],
      "metadata": {
        "id": "nb6en_YHlQ4q"
      }
    },
    {
      "cell_type": "code",
      "source": [
        "fig = px.line(df,\n",
        "              x=df.index,\n",
        "              y='Close',\n",
        "              template=\"plotly_dark\",\n",
        "              title=f\"Precios de Cierre de {symbol}\")\n",
        "fig.show()"
      ],
      "metadata": {
        "colab": {
          "base_uri": "https://localhost:8080/",
          "height": 562
        },
        "id": "se9y_NwSkH3F",
        "outputId": "316ed111-aa27-4e55-f91b-a206f813fd8b"
      },
      "execution_count": null,
      "outputs": [
        {
          "output_type": "display_data",
          "data": {
            "text/html": [
              "<html>\n",
              "<head><meta charset=\"utf-8\" /></head>\n",
              "<body>\n",
              "    <div>            <script src=\"https://cdnjs.cloudflare.com/ajax/libs/mathjax/2.7.5/MathJax.js?config=TeX-AMS-MML_SVG\"></script><script type=\"text/javascript\">if (window.MathJax && window.MathJax.Hub && window.MathJax.Hub.Config) {window.MathJax.Hub.Config({SVG: {font: \"STIX-Web\"}});}</script>                <script type=\"text/javascript\">window.PlotlyConfig = {MathJaxConfig: 'local'};</script>\n",
              "        <script charset=\"utf-8\" src=\"https://cdn.plot.ly/plotly-2.24.1.min.js\"></script>                <div id=\"38ac3619-dd41-4e49-80a6-df5a0fd97148\" class=\"plotly-graph-div\" style=\"height:525px; width:100%;\"></div>            <script type=\"text/javascript\">                                    window.PLOTLYENV=window.PLOTLYENV || {};                                    if (document.getElementById(\"38ac3619-dd41-4e49-80a6-df5a0fd97148\")) {                    Plotly.newPlot(                        \"38ac3619-dd41-4e49-80a6-df5a0fd97148\",                        [{\"hovertemplate\":\"Date=%{x}\\u003cbr\\u003eClose=%{y}\\u003cextra\\u003e\\u003c\\u002fextra\\u003e\",\"legendgroup\":\"\",\"line\":{\"color\":\"#636efa\",\"dash\":\"solid\"},\"marker\":{\"symbol\":\"circle\"},\"mode\":\"lines\",\"name\":\"\",\"orientation\":\"v\",\"showlegend\":false,\"x\":[\"2020-01-02T00:00:00\",\"2020-01-03T00:00:00\",\"2020-01-06T00:00:00\",\"2020-01-07T00:00:00\",\"2020-01-08T00:00:00\",\"2020-01-09T00:00:00\",\"2020-01-10T00:00:00\",\"2020-01-13T00:00:00\",\"2020-01-14T00:00:00\",\"2020-01-15T00:00:00\",\"2020-01-16T00:00:00\",\"2020-01-17T00:00:00\",\"2020-01-21T00:00:00\",\"2020-01-22T00:00:00\",\"2020-01-23T00:00:00\",\"2020-01-24T00:00:00\",\"2020-01-27T00:00:00\",\"2020-01-28T00:00:00\",\"2020-01-29T00:00:00\",\"2020-01-30T00:00:00\",\"2020-01-31T00:00:00\",\"2020-02-03T00:00:00\",\"2020-02-04T00:00:00\",\"2020-02-05T00:00:00\",\"2020-02-06T00:00:00\",\"2020-02-07T00:00:00\",\"2020-02-10T00:00:00\",\"2020-02-11T00:00:00\",\"2020-02-12T00:00:00\",\"2020-02-13T00:00:00\",\"2020-02-14T00:00:00\",\"2020-02-18T00:00:00\",\"2020-02-19T00:00:00\",\"2020-02-20T00:00:00\",\"2020-02-21T00:00:00\",\"2020-02-24T00:00:00\",\"2020-02-25T00:00:00\",\"2020-02-26T00:00:00\",\"2020-02-27T00:00:00\",\"2020-02-28T00:00:00\",\"2020-03-02T00:00:00\",\"2020-03-03T00:00:00\",\"2020-03-04T00:00:00\",\"2020-03-05T00:00:00\",\"2020-03-06T00:00:00\",\"2020-03-09T00:00:00\",\"2020-03-10T00:00:00\",\"2020-03-11T00:00:00\",\"2020-03-12T00:00:00\",\"2020-03-13T00:00:00\",\"2020-03-16T00:00:00\",\"2020-03-17T00:00:00\",\"2020-03-18T00:00:00\",\"2020-03-19T00:00:00\",\"2020-03-20T00:00:00\",\"2020-03-23T00:00:00\",\"2020-03-24T00:00:00\",\"2020-03-25T00:00:00\",\"2020-03-26T00:00:00\",\"2020-03-27T00:00:00\",\"2020-03-30T00:00:00\",\"2020-03-31T00:00:00\",\"2020-04-01T00:00:00\",\"2020-04-02T00:00:00\",\"2020-04-03T00:00:00\",\"2020-04-06T00:00:00\",\"2020-04-07T00:00:00\",\"2020-04-08T00:00:00\",\"2020-04-09T00:00:00\",\"2020-04-13T00:00:00\",\"2020-04-14T00:00:00\",\"2020-04-15T00:00:00\",\"2020-04-16T00:00:00\",\"2020-04-17T00:00:00\",\"2020-04-20T00:00:00\",\"2020-04-21T00:00:00\",\"2020-04-22T00:00:00\",\"2020-04-23T00:00:00\",\"2020-04-24T00:00:00\",\"2020-04-27T00:00:00\",\"2020-04-28T00:00:00\",\"2020-04-29T00:00:00\",\"2020-04-30T00:00:00\",\"2020-05-01T00:00:00\",\"2020-05-04T00:00:00\",\"2020-05-05T00:00:00\",\"2020-05-06T00:00:00\",\"2020-05-07T00:00:00\",\"2020-05-08T00:00:00\",\"2020-05-11T00:00:00\",\"2020-05-12T00:00:00\",\"2020-05-13T00:00:00\",\"2020-05-14T00:00:00\",\"2020-05-15T00:00:00\",\"2020-05-18T00:00:00\",\"2020-05-19T00:00:00\",\"2020-05-20T00:00:00\",\"2020-05-21T00:00:00\",\"2020-05-22T00:00:00\",\"2020-05-26T00:00:00\",\"2020-05-27T00:00:00\",\"2020-05-28T00:00:00\",\"2020-05-29T00:00:00\",\"2020-06-01T00:00:00\",\"2020-06-02T00:00:00\",\"2020-06-03T00:00:00\",\"2020-06-04T00:00:00\",\"2020-06-05T00:00:00\",\"2020-06-08T00:00:00\",\"2020-06-09T00:00:00\",\"2020-06-10T00:00:00\",\"2020-06-11T00:00:00\",\"2020-06-12T00:00:00\",\"2020-06-15T00:00:00\",\"2020-06-16T00:00:00\",\"2020-06-17T00:00:00\",\"2020-06-18T00:00:00\",\"2020-06-19T00:00:00\",\"2020-06-22T00:00:00\",\"2020-06-23T00:00:00\",\"2020-06-24T00:00:00\",\"2020-06-25T00:00:00\",\"2020-06-26T00:00:00\",\"2020-06-29T00:00:00\",\"2020-06-30T00:00:00\",\"2020-07-01T00:00:00\",\"2020-07-02T00:00:00\",\"2020-07-06T00:00:00\",\"2020-07-07T00:00:00\",\"2020-07-08T00:00:00\",\"2020-07-09T00:00:00\",\"2020-07-10T00:00:00\",\"2020-07-13T00:00:00\",\"2020-07-14T00:00:00\",\"2020-07-15T00:00:00\",\"2020-07-16T00:00:00\",\"2020-07-17T00:00:00\",\"2020-07-20T00:00:00\",\"2020-07-21T00:00:00\",\"2020-07-22T00:00:00\",\"2020-07-23T00:00:00\",\"2020-07-24T00:00:00\",\"2020-07-27T00:00:00\",\"2020-07-28T00:00:00\",\"2020-07-29T00:00:00\",\"2020-07-30T00:00:00\",\"2020-07-31T00:00:00\",\"2020-08-03T00:00:00\",\"2020-08-04T00:00:00\",\"2020-08-05T00:00:00\",\"2020-08-06T00:00:00\",\"2020-08-07T00:00:00\",\"2020-08-10T00:00:00\",\"2020-08-11T00:00:00\",\"2020-08-12T00:00:00\",\"2020-08-13T00:00:00\",\"2020-08-14T00:00:00\",\"2020-08-17T00:00:00\",\"2020-08-18T00:00:00\",\"2020-08-19T00:00:00\",\"2020-08-20T00:00:00\",\"2020-08-21T00:00:00\",\"2020-08-24T00:00:00\",\"2020-08-25T00:00:00\",\"2020-08-26T00:00:00\",\"2020-08-27T00:00:00\",\"2020-08-28T00:00:00\",\"2020-08-31T00:00:00\",\"2020-09-01T00:00:00\",\"2020-09-02T00:00:00\",\"2020-09-03T00:00:00\",\"2020-09-04T00:00:00\",\"2020-09-08T00:00:00\",\"2020-09-09T00:00:00\",\"2020-09-10T00:00:00\",\"2020-09-11T00:00:00\",\"2020-09-14T00:00:00\",\"2020-09-15T00:00:00\",\"2020-09-16T00:00:00\",\"2020-09-17T00:00:00\",\"2020-09-18T00:00:00\",\"2020-09-21T00:00:00\",\"2020-09-22T00:00:00\",\"2020-09-23T00:00:00\",\"2020-09-24T00:00:00\",\"2020-09-25T00:00:00\",\"2020-09-28T00:00:00\",\"2020-09-29T00:00:00\",\"2020-09-30T00:00:00\",\"2020-10-01T00:00:00\",\"2020-10-02T00:00:00\",\"2020-10-05T00:00:00\",\"2020-10-06T00:00:00\",\"2020-10-07T00:00:00\",\"2020-10-08T00:00:00\",\"2020-10-09T00:00:00\",\"2020-10-12T00:00:00\",\"2020-10-13T00:00:00\",\"2020-10-14T00:00:00\",\"2020-10-15T00:00:00\",\"2020-10-16T00:00:00\",\"2020-10-19T00:00:00\",\"2020-10-20T00:00:00\",\"2020-10-21T00:00:00\",\"2020-10-22T00:00:00\",\"2020-10-23T00:00:00\",\"2020-10-26T00:00:00\",\"2020-10-27T00:00:00\",\"2020-10-28T00:00:00\",\"2020-10-29T00:00:00\",\"2020-10-30T00:00:00\",\"2020-11-02T00:00:00\",\"2020-11-03T00:00:00\",\"2020-11-04T00:00:00\",\"2020-11-05T00:00:00\",\"2020-11-06T00:00:00\",\"2020-11-09T00:00:00\",\"2020-11-10T00:00:00\",\"2020-11-11T00:00:00\",\"2020-11-12T00:00:00\",\"2020-11-13T00:00:00\",\"2020-11-16T00:00:00\",\"2020-11-17T00:00:00\",\"2020-11-18T00:00:00\",\"2020-11-19T00:00:00\",\"2020-11-20T00:00:00\",\"2020-11-23T00:00:00\",\"2020-11-24T00:00:00\",\"2020-11-25T00:00:00\",\"2020-11-27T00:00:00\",\"2020-11-30T00:00:00\",\"2020-12-01T00:00:00\",\"2020-12-02T00:00:00\",\"2020-12-03T00:00:00\",\"2020-12-04T00:00:00\",\"2020-12-07T00:00:00\",\"2020-12-08T00:00:00\",\"2020-12-09T00:00:00\",\"2020-12-10T00:00:00\",\"2020-12-11T00:00:00\",\"2020-12-14T00:00:00\",\"2020-12-15T00:00:00\",\"2020-12-16T00:00:00\",\"2020-12-17T00:00:00\",\"2020-12-18T00:00:00\",\"2020-12-21T00:00:00\",\"2020-12-22T00:00:00\",\"2020-12-23T00:00:00\",\"2020-12-24T00:00:00\",\"2020-12-28T00:00:00\",\"2020-12-29T00:00:00\",\"2020-12-30T00:00:00\",\"2020-12-31T00:00:00\",\"2021-01-04T00:00:00\",\"2021-01-05T00:00:00\",\"2021-01-06T00:00:00\",\"2021-01-07T00:00:00\",\"2021-01-08T00:00:00\",\"2021-01-11T00:00:00\",\"2021-01-12T00:00:00\",\"2021-01-13T00:00:00\",\"2021-01-14T00:00:00\",\"2021-01-15T00:00:00\",\"2021-01-19T00:00:00\",\"2021-01-20T00:00:00\",\"2021-01-21T00:00:00\",\"2021-01-22T00:00:00\",\"2021-01-25T00:00:00\",\"2021-01-26T00:00:00\",\"2021-01-27T00:00:00\",\"2021-01-28T00:00:00\",\"2021-01-29T00:00:00\",\"2021-02-01T00:00:00\",\"2021-02-02T00:00:00\",\"2021-02-03T00:00:00\",\"2021-02-04T00:00:00\",\"2021-02-05T00:00:00\",\"2021-02-08T00:00:00\",\"2021-02-09T00:00:00\",\"2021-02-10T00:00:00\",\"2021-02-11T00:00:00\",\"2021-02-12T00:00:00\",\"2021-02-16T00:00:00\",\"2021-02-17T00:00:00\",\"2021-02-18T00:00:00\",\"2021-02-19T00:00:00\",\"2021-02-22T00:00:00\",\"2021-02-23T00:00:00\",\"2021-02-24T00:00:00\",\"2021-02-25T00:00:00\",\"2021-02-26T00:00:00\",\"2021-03-01T00:00:00\",\"2021-03-02T00:00:00\",\"2021-03-03T00:00:00\",\"2021-03-04T00:00:00\",\"2021-03-05T00:00:00\",\"2021-03-08T00:00:00\",\"2021-03-09T00:00:00\",\"2021-03-10T00:00:00\",\"2021-03-11T00:00:00\",\"2021-03-12T00:00:00\",\"2021-03-15T00:00:00\",\"2021-03-16T00:00:00\",\"2021-03-17T00:00:00\",\"2021-03-18T00:00:00\",\"2021-03-19T00:00:00\",\"2021-03-22T00:00:00\",\"2021-03-23T00:00:00\",\"2021-03-24T00:00:00\",\"2021-03-25T00:00:00\",\"2021-03-26T00:00:00\",\"2021-03-29T00:00:00\",\"2021-03-30T00:00:00\",\"2021-03-31T00:00:00\",\"2021-04-01T00:00:00\",\"2021-04-05T00:00:00\",\"2021-04-06T00:00:00\",\"2021-04-07T00:00:00\",\"2021-04-08T00:00:00\",\"2021-04-09T00:00:00\",\"2021-04-12T00:00:00\",\"2021-04-13T00:00:00\",\"2021-04-14T00:00:00\",\"2021-04-15T00:00:00\",\"2021-04-16T00:00:00\",\"2021-04-19T00:00:00\",\"2021-04-20T00:00:00\",\"2021-04-21T00:00:00\",\"2021-04-22T00:00:00\",\"2021-04-23T00:00:00\",\"2021-04-26T00:00:00\",\"2021-04-27T00:00:00\",\"2021-04-28T00:00:00\",\"2021-04-29T00:00:00\",\"2021-04-30T00:00:00\",\"2021-05-03T00:00:00\",\"2021-05-04T00:00:00\",\"2021-05-05T00:00:00\",\"2021-05-06T00:00:00\",\"2021-05-07T00:00:00\",\"2021-05-10T00:00:00\",\"2021-05-11T00:00:00\",\"2021-05-12T00:00:00\",\"2021-05-13T00:00:00\",\"2021-05-14T00:00:00\",\"2021-05-17T00:00:00\",\"2021-05-18T00:00:00\",\"2021-05-19T00:00:00\",\"2021-05-20T00:00:00\",\"2021-05-21T00:00:00\",\"2021-05-24T00:00:00\",\"2021-05-25T00:00:00\",\"2021-05-26T00:00:00\",\"2021-05-27T00:00:00\",\"2021-05-28T00:00:00\",\"2021-06-01T00:00:00\",\"2021-06-02T00:00:00\",\"2021-06-03T00:00:00\",\"2021-06-04T00:00:00\",\"2021-06-07T00:00:00\",\"2021-06-08T00:00:00\",\"2021-06-09T00:00:00\",\"2021-06-10T00:00:00\",\"2021-06-11T00:00:00\",\"2021-06-14T00:00:00\",\"2021-06-15T00:00:00\",\"2021-06-16T00:00:00\",\"2021-06-17T00:00:00\",\"2021-06-18T00:00:00\",\"2021-06-21T00:00:00\",\"2021-06-22T00:00:00\",\"2021-06-23T00:00:00\",\"2021-06-24T00:00:00\",\"2021-06-25T00:00:00\",\"2021-06-28T00:00:00\",\"2021-06-29T00:00:00\",\"2021-06-30T00:00:00\",\"2021-07-01T00:00:00\",\"2021-07-02T00:00:00\",\"2021-07-06T00:00:00\",\"2021-07-07T00:00:00\",\"2021-07-08T00:00:00\",\"2021-07-09T00:00:00\",\"2021-07-12T00:00:00\",\"2021-07-13T00:00:00\",\"2021-07-14T00:00:00\",\"2021-07-15T00:00:00\",\"2021-07-16T00:00:00\",\"2021-07-19T00:00:00\",\"2021-07-20T00:00:00\",\"2021-07-21T00:00:00\",\"2021-07-22T00:00:00\",\"2021-07-23T00:00:00\",\"2021-07-26T00:00:00\",\"2021-07-27T00:00:00\",\"2021-07-28T00:00:00\",\"2021-07-29T00:00:00\",\"2021-07-30T00:00:00\",\"2021-08-02T00:00:00\",\"2021-08-03T00:00:00\",\"2021-08-04T00:00:00\",\"2021-08-05T00:00:00\",\"2021-08-06T00:00:00\",\"2021-08-09T00:00:00\",\"2021-08-10T00:00:00\",\"2021-08-11T00:00:00\",\"2021-08-12T00:00:00\",\"2021-08-13T00:00:00\",\"2021-08-16T00:00:00\",\"2021-08-17T00:00:00\",\"2021-08-18T00:00:00\",\"2021-08-19T00:00:00\",\"2021-08-20T00:00:00\",\"2021-08-23T00:00:00\",\"2021-08-24T00:00:00\",\"2021-08-25T00:00:00\",\"2021-08-26T00:00:00\",\"2021-08-27T00:00:00\",\"2021-08-30T00:00:00\",\"2021-08-31T00:00:00\",\"2021-09-01T00:00:00\",\"2021-09-02T00:00:00\",\"2021-09-03T00:00:00\",\"2021-09-07T00:00:00\",\"2021-09-08T00:00:00\",\"2021-09-09T00:00:00\",\"2021-09-10T00:00:00\",\"2021-09-13T00:00:00\",\"2021-09-14T00:00:00\",\"2021-09-15T00:00:00\",\"2021-09-16T00:00:00\",\"2021-09-17T00:00:00\",\"2021-09-20T00:00:00\",\"2021-09-21T00:00:00\",\"2021-09-22T00:00:00\",\"2021-09-23T00:00:00\",\"2021-09-24T00:00:00\",\"2021-09-27T00:00:00\",\"2021-09-28T00:00:00\",\"2021-09-29T00:00:00\",\"2021-09-30T00:00:00\",\"2021-10-01T00:00:00\",\"2021-10-04T00:00:00\",\"2021-10-05T00:00:00\",\"2021-10-06T00:00:00\",\"2021-10-07T00:00:00\",\"2021-10-08T00:00:00\",\"2021-10-11T00:00:00\",\"2021-10-12T00:00:00\",\"2021-10-13T00:00:00\",\"2021-10-14T00:00:00\",\"2021-10-15T00:00:00\",\"2021-10-18T00:00:00\",\"2021-10-19T00:00:00\",\"2021-10-20T00:00:00\",\"2021-10-21T00:00:00\",\"2021-10-22T00:00:00\",\"2021-10-25T00:00:00\",\"2021-10-26T00:00:00\",\"2021-10-27T00:00:00\",\"2021-10-28T00:00:00\",\"2021-10-29T00:00:00\",\"2021-11-01T00:00:00\",\"2021-11-02T00:00:00\",\"2021-11-03T00:00:00\",\"2021-11-04T00:00:00\",\"2021-11-05T00:00:00\",\"2021-11-08T00:00:00\",\"2021-11-09T00:00:00\",\"2021-11-10T00:00:00\",\"2021-11-11T00:00:00\",\"2021-11-12T00:00:00\",\"2021-11-15T00:00:00\",\"2021-11-16T00:00:00\",\"2021-11-17T00:00:00\",\"2021-11-18T00:00:00\",\"2021-11-19T00:00:00\",\"2021-11-22T00:00:00\",\"2021-11-23T00:00:00\",\"2021-11-24T00:00:00\",\"2021-11-26T00:00:00\",\"2021-11-29T00:00:00\",\"2021-11-30T00:00:00\",\"2021-12-01T00:00:00\",\"2021-12-02T00:00:00\",\"2021-12-03T00:00:00\",\"2021-12-06T00:00:00\",\"2021-12-07T00:00:00\",\"2021-12-08T00:00:00\",\"2021-12-09T00:00:00\",\"2021-12-10T00:00:00\",\"2021-12-13T00:00:00\",\"2021-12-14T00:00:00\",\"2021-12-15T00:00:00\",\"2021-12-16T00:00:00\",\"2021-12-17T00:00:00\",\"2021-12-20T00:00:00\",\"2021-12-21T00:00:00\",\"2021-12-22T00:00:00\",\"2021-12-23T00:00:00\",\"2021-12-27T00:00:00\",\"2021-12-28T00:00:00\",\"2021-12-29T00:00:00\",\"2021-12-30T00:00:00\",\"2021-12-31T00:00:00\",\"2022-01-03T00:00:00\",\"2022-01-04T00:00:00\",\"2022-01-05T00:00:00\",\"2022-01-06T00:00:00\",\"2022-01-07T00:00:00\",\"2022-01-10T00:00:00\",\"2022-01-11T00:00:00\",\"2022-01-12T00:00:00\",\"2022-01-13T00:00:00\",\"2022-01-14T00:00:00\",\"2022-01-18T00:00:00\",\"2022-01-19T00:00:00\",\"2022-01-20T00:00:00\",\"2022-01-21T00:00:00\",\"2022-01-24T00:00:00\",\"2022-01-25T00:00:00\",\"2022-01-26T00:00:00\",\"2022-01-27T00:00:00\",\"2022-01-28T00:00:00\",\"2022-01-31T00:00:00\",\"2022-02-01T00:00:00\",\"2022-02-02T00:00:00\",\"2022-02-03T00:00:00\",\"2022-02-04T00:00:00\",\"2022-02-07T00:00:00\",\"2022-02-08T00:00:00\",\"2022-02-09T00:00:00\",\"2022-02-10T00:00:00\",\"2022-02-11T00:00:00\",\"2022-02-14T00:00:00\",\"2022-02-15T00:00:00\",\"2022-02-16T00:00:00\",\"2022-02-17T00:00:00\",\"2022-02-18T00:00:00\",\"2022-02-22T00:00:00\",\"2022-02-23T00:00:00\",\"2022-02-24T00:00:00\",\"2022-02-25T00:00:00\",\"2022-02-28T00:00:00\",\"2022-03-01T00:00:00\",\"2022-03-02T00:00:00\",\"2022-03-03T00:00:00\",\"2022-03-04T00:00:00\",\"2022-03-07T00:00:00\",\"2022-03-08T00:00:00\",\"2022-03-09T00:00:00\",\"2022-03-10T00:00:00\",\"2022-03-11T00:00:00\",\"2022-03-14T00:00:00\",\"2022-03-15T00:00:00\",\"2022-03-16T00:00:00\",\"2022-03-17T00:00:00\",\"2022-03-18T00:00:00\",\"2022-03-21T00:00:00\",\"2022-03-22T00:00:00\",\"2022-03-23T00:00:00\",\"2022-03-24T00:00:00\",\"2022-03-25T00:00:00\",\"2022-03-28T00:00:00\",\"2022-03-29T00:00:00\",\"2022-03-30T00:00:00\",\"2022-03-31T00:00:00\",\"2022-04-01T00:00:00\",\"2022-04-04T00:00:00\",\"2022-04-05T00:00:00\",\"2022-04-06T00:00:00\",\"2022-04-07T00:00:00\",\"2022-04-08T00:00:00\",\"2022-04-11T00:00:00\",\"2022-04-12T00:00:00\",\"2022-04-13T00:00:00\",\"2022-04-14T00:00:00\",\"2022-04-18T00:00:00\",\"2022-04-19T00:00:00\",\"2022-04-20T00:00:00\",\"2022-04-21T00:00:00\",\"2022-04-22T00:00:00\",\"2022-04-25T00:00:00\",\"2022-04-26T00:00:00\",\"2022-04-27T00:00:00\",\"2022-04-28T00:00:00\",\"2022-04-29T00:00:00\",\"2022-05-02T00:00:00\",\"2022-05-03T00:00:00\",\"2022-05-04T00:00:00\",\"2022-05-05T00:00:00\",\"2022-05-06T00:00:00\",\"2022-05-09T00:00:00\",\"2022-05-10T00:00:00\",\"2022-05-11T00:00:00\",\"2022-05-12T00:00:00\",\"2022-05-13T00:00:00\",\"2022-05-16T00:00:00\",\"2022-05-17T00:00:00\",\"2022-05-18T00:00:00\",\"2022-05-19T00:00:00\",\"2022-05-20T00:00:00\",\"2022-05-23T00:00:00\",\"2022-05-24T00:00:00\",\"2022-05-25T00:00:00\",\"2022-05-26T00:00:00\",\"2022-05-27T00:00:00\",\"2022-05-31T00:00:00\",\"2022-06-01T00:00:00\",\"2022-06-02T00:00:00\",\"2022-06-03T00:00:00\",\"2022-06-06T00:00:00\",\"2022-06-07T00:00:00\",\"2022-06-08T00:00:00\",\"2022-06-09T00:00:00\",\"2022-06-10T00:00:00\",\"2022-06-13T00:00:00\",\"2022-06-14T00:00:00\",\"2022-06-15T00:00:00\",\"2022-06-16T00:00:00\",\"2022-06-17T00:00:00\",\"2022-06-21T00:00:00\",\"2022-06-22T00:00:00\",\"2022-06-23T00:00:00\",\"2022-06-24T00:00:00\",\"2022-06-27T00:00:00\",\"2022-06-28T00:00:00\",\"2022-06-29T00:00:00\",\"2022-06-30T00:00:00\",\"2022-07-01T00:00:00\",\"2022-07-05T00:00:00\",\"2022-07-06T00:00:00\",\"2022-07-07T00:00:00\",\"2022-07-08T00:00:00\",\"2022-07-11T00:00:00\",\"2022-07-12T00:00:00\",\"2022-07-13T00:00:00\",\"2022-07-14T00:00:00\",\"2022-07-15T00:00:00\",\"2022-07-18T00:00:00\",\"2022-07-19T00:00:00\",\"2022-07-20T00:00:00\",\"2022-07-21T00:00:00\",\"2022-07-22T00:00:00\",\"2022-07-25T00:00:00\",\"2022-07-26T00:00:00\",\"2022-07-27T00:00:00\",\"2022-07-28T00:00:00\",\"2022-07-29T00:00:00\",\"2022-08-01T00:00:00\",\"2022-08-02T00:00:00\",\"2022-08-03T00:00:00\",\"2022-08-04T00:00:00\",\"2022-08-05T00:00:00\",\"2022-08-08T00:00:00\",\"2022-08-09T00:00:00\",\"2022-08-10T00:00:00\",\"2022-08-11T00:00:00\",\"2022-08-12T00:00:00\",\"2022-08-15T00:00:00\",\"2022-08-16T00:00:00\",\"2022-08-17T00:00:00\",\"2022-08-18T00:00:00\",\"2022-08-19T00:00:00\",\"2022-08-22T00:00:00\",\"2022-08-23T00:00:00\",\"2022-08-24T00:00:00\",\"2022-08-25T00:00:00\",\"2022-08-26T00:00:00\",\"2022-08-29T00:00:00\",\"2022-08-30T00:00:00\",\"2022-08-31T00:00:00\",\"2022-09-01T00:00:00\",\"2022-09-02T00:00:00\",\"2022-09-06T00:00:00\",\"2022-09-07T00:00:00\",\"2022-09-08T00:00:00\",\"2022-09-09T00:00:00\",\"2022-09-12T00:00:00\",\"2022-09-13T00:00:00\",\"2022-09-14T00:00:00\",\"2022-09-15T00:00:00\",\"2022-09-16T00:00:00\",\"2022-09-19T00:00:00\",\"2022-09-20T00:00:00\",\"2022-09-21T00:00:00\",\"2022-09-22T00:00:00\",\"2022-09-23T00:00:00\",\"2022-09-26T00:00:00\",\"2022-09-27T00:00:00\",\"2022-09-28T00:00:00\",\"2022-09-29T00:00:00\",\"2022-09-30T00:00:00\",\"2022-10-03T00:00:00\",\"2022-10-04T00:00:00\",\"2022-10-05T00:00:00\",\"2022-10-06T00:00:00\",\"2022-10-07T00:00:00\",\"2022-10-10T00:00:00\",\"2022-10-11T00:00:00\",\"2022-10-12T00:00:00\",\"2022-10-13T00:00:00\",\"2022-10-14T00:00:00\",\"2022-10-17T00:00:00\",\"2022-10-18T00:00:00\",\"2022-10-19T00:00:00\",\"2022-10-20T00:00:00\",\"2022-10-21T00:00:00\",\"2022-10-24T00:00:00\",\"2022-10-25T00:00:00\",\"2022-10-26T00:00:00\",\"2022-10-27T00:00:00\",\"2022-10-28T00:00:00\",\"2022-10-31T00:00:00\",\"2022-11-01T00:00:00\",\"2022-11-02T00:00:00\",\"2022-11-03T00:00:00\",\"2022-11-04T00:00:00\",\"2022-11-07T00:00:00\",\"2022-11-08T00:00:00\",\"2022-11-09T00:00:00\",\"2022-11-10T00:00:00\",\"2022-11-11T00:00:00\",\"2022-11-14T00:00:00\",\"2022-11-15T00:00:00\",\"2022-11-16T00:00:00\",\"2022-11-17T00:00:00\",\"2022-11-18T00:00:00\",\"2022-11-21T00:00:00\",\"2022-11-22T00:00:00\",\"2022-11-23T00:00:00\",\"2022-11-25T00:00:00\",\"2022-11-28T00:00:00\",\"2022-11-29T00:00:00\",\"2022-11-30T00:00:00\",\"2022-12-01T00:00:00\",\"2022-12-02T00:00:00\",\"2022-12-05T00:00:00\",\"2022-12-06T00:00:00\",\"2022-12-07T00:00:00\",\"2022-12-08T00:00:00\",\"2022-12-09T00:00:00\",\"2022-12-12T00:00:00\",\"2022-12-13T00:00:00\",\"2022-12-14T00:00:00\",\"2022-12-15T00:00:00\",\"2022-12-16T00:00:00\",\"2022-12-19T00:00:00\",\"2022-12-20T00:00:00\",\"2022-12-21T00:00:00\",\"2022-12-22T00:00:00\",\"2022-12-23T00:00:00\",\"2022-12-27T00:00:00\",\"2022-12-28T00:00:00\",\"2022-12-29T00:00:00\",\"2022-12-30T00:00:00\"],\"xaxis\":\"x\",\"y\":[75.09,74.36,74.95,74.6,75.8,77.41,77.58,79.24,78.17,77.83,78.81,79.68,79.14,79.43,79.81,79.58,77.24,79.42,81.08,80.97,77.38,77.17,79.71,80.36,81.3,80.01,80.39,79.9,81.8,81.22,81.24,79.75,80.9,80.07,78.26,74.54,72.02,73.16,68.38,68.34,74.7,72.33,75.68,73.23,72.26,66.54,71.33,68.86,62.06,69.49,60.55,63.22,61.67,61.19,57.31,56.09,61.72,61.38,64.61,61.94,63.7,63.57,60.23,61.23,60.35,65.62,64.86,66.52,67.0,68.31,71.76,71.11,71.67,70.7,69.23,67.09,69.03,68.76,70.74,70.79,69.64,71.93,73.45,72.27,73.29,74.39,75.16,75.93,77.53,78.75,77.85,76.91,77.39,76.93,78.74,78.29,79.81,79.21,79.72,79.18,79.53,79.56,79.49,80.46,80.83,81.28,80.58,82.88,83.36,86.0,88.21,83.97,84.7,85.75,88.02,87.9,87.93,87.43,89.72,91.63,90.01,91.21,88.41,90.44,91.2,91.03,91.03,93.46,93.17,95.34,95.75,95.92,95.48,97.06,97.72,96.52,96.33,98.36,97.0,97.27,92.85,92.61,94.81,93.25,95.04,96.19,106.26,108.94,109.67,110.06,113.9,111.11,112.73,109.38,113.01,115.01,114.91,114.61,115.56,115.71,118.28,124.37,125.86,124.82,126.52,125.01,124.81,129.04,134.18,131.4,120.88,120.96,112.82,117.32,113.49,112.0,115.36,115.54,112.13,110.34,106.84,110.08,111.81,107.12,108.22,112.28,114.96,114.09,115.81,116.79,113.02,116.5,113.16,115.08,114.97,116.97,124.4,121.1,121.19,120.71,119.02,115.98,117.51,116.87,115.75,115.04,115.05,116.6,111.2,115.32,108.86,108.77,110.44,114.95,119.03,118.69,116.32,115.97,119.49,119.21,119.26,120.3,119.39,118.03,118.64,117.34,113.85,115.17,116.03,116.59,119.05,122.72,123.08,122.94,122.25,123.75,124.38,121.78,123.24,122.41,121.78,127.88,127.81,128.7,126.66,128.23,131.88,130.96,131.97,136.69,134.87,133.72,132.69,129.41,131.01,126.6,130.92,132.05,128.98,128.8,130.89,128.91,127.14,127.83,132.03,136.87,139.07,142.92,143.16,142.06,137.09,131.96,134.14,134.99,133.94,137.39,136.76,136.91,136.01,135.39,135.13,135.37,133.19,130.84,129.71,129.87,126.0,125.86,125.35,120.99,121.26,127.79,125.12,122.06,120.13,121.42,116.36,121.09,119.98,121.96,121.03,123.99,125.57,124.76,120.53,119.99,123.39,122.54,120.09,120.59,121.21,121.39,119.9,122.15,123.0,125.9,126.21,127.9,130.36,133.0,131.24,134.43,132.03,134.5,134.16,134.84,133.11,133.5,131.94,134.32,134.72,134.39,133.58,133.48,131.46,132.54,127.85,128.1,129.74,130.21,126.85,125.91,122.77,124.97,127.45,126.27,124.85,124.69,127.31,125.43,127.1,126.9,126.85,125.28,124.61,124.28,125.06,123.54,125.89,125.9,126.74,127.13,126.11,127.35,130.48,129.64,130.15,131.79,130.46,132.3,133.98,133.7,133.41,133.11,134.78,136.33,136.96,137.27,139.96,142.02,144.57,143.24,145.11,144.5,145.64,149.15,148.48,146.39,142.45,146.15,145.4,146.8,148.56,148.99,146.77,144.98,145.64,145.86,145.52,147.36,146.95,147.06,146.14,146.09,145.6,145.86,148.89,149.1,151.12,150.19,146.36,146.7,148.19,149.71,149.62,148.36,147.54,148.6,153.12,151.83,152.51,153.65,154.3,156.69,155.11,154.07,148.97,149.55,148.12,149.03,148.79,146.06,142.94,143.43,145.85,146.83,146.92,145.37,141.91,142.83,141.5,142.65,139.14,141.11,142.0,143.29,142.9,142.81,141.51,140.91,143.76,144.84,146.55,148.76,149.26,149.48,148.69,148.64,149.32,148.85,152.57,149.8,148.96,150.02,151.49,150.96,151.28,150.44,150.81,147.92,147.87,149.99,150.0,151.0,153.49,157.87,160.55,161.02,161.41,161.94,156.81,160.24,165.3,164.77,163.76,161.84,165.32,171.18,175.08,174.56,179.45,175.74,174.33,179.3,172.26,171.14,169.75,172.99,175.64,176.28,180.33,179.29,179.38,178.2,177.57,182.01,179.7,174.92,172.0,172.17,172.19,175.08,175.53,172.19,173.07,169.8,166.23,164.51,162.41,161.62,159.78,159.69,159.22,170.33,174.78,174.61,175.84,172.9,172.39,171.66,174.83,176.28,172.12,168.64,168.88,172.79,172.55,168.88,167.3,164.32,160.07,162.74,164.85,165.12,163.2,166.56,166.23,163.17,159.3,157.44,162.95,158.52,154.73,150.62,155.09,159.59,160.62,163.98,165.38,168.82,170.21,174.07,174.72,175.6,178.96,177.77,174.61,174.31,178.44,175.06,171.83,172.14,170.09,165.75,167.66,170.4,165.29,165.07,167.4,167.23,166.42,161.79,162.88,156.8,156.57,163.64,157.65,157.96,159.48,166.02,156.77,157.28,152.06,154.51,146.5,142.56,147.11,145.54,149.24,140.82,137.35,137.59,143.11,140.36,140.52,143.78,149.64,148.84,148.71,151.21,145.38,146.14,148.71,147.96,142.64,137.13,131.88,132.76,135.43,130.06,131.56,135.87,135.35,138.27,141.66,141.66,137.44,139.23,136.72,138.93,141.56,142.92,146.35,147.04,144.87,145.86,145.49,148.47,150.17,147.07,151.0,153.04,155.35,154.09,152.95,151.6,156.79,157.35,162.51,161.51,160.01,166.13,165.81,165.35,164.87,164.92,169.24,168.49,172.1,173.19,173.03,174.55,174.15,171.52,167.57,167.23,167.53,170.03,163.62,161.38,158.91,157.22,157.96,155.81,154.53,155.96,154.46,157.37,163.43,153.84,155.31,152.37,150.7,154.48,156.9,153.72,152.74,150.43,150.77,151.76,149.84,142.48,138.2,142.45,146.1,146.4,145.43,140.09,140.42,138.98,138.34,142.99,138.38,142.41,143.75,143.86,143.39,147.27,149.45,152.34,149.35,144.8,155.74,153.34,150.65,145.03,138.88,138.38,138.92,139.5,134.87,146.87,149.7,148.28,150.04,148.79,150.72,151.29,148.01,150.18,151.07,148.11,144.22,141.17,148.03,148.31,147.81,146.63,142.91,140.94,142.65,142.16,144.49,145.47,143.21,136.5,134.51,132.37,132.3,135.45,132.23,131.86,130.03,126.04,129.61,129.93],\"yaxis\":\"y\",\"type\":\"scatter\"}],                        {\"template\":{\"data\":{\"barpolar\":[{\"marker\":{\"line\":{\"color\":\"rgb(17,17,17)\",\"width\":0.5},\"pattern\":{\"fillmode\":\"overlay\",\"size\":10,\"solidity\":0.2}},\"type\":\"barpolar\"}],\"bar\":[{\"error_x\":{\"color\":\"#f2f5fa\"},\"error_y\":{\"color\":\"#f2f5fa\"},\"marker\":{\"line\":{\"color\":\"rgb(17,17,17)\",\"width\":0.5},\"pattern\":{\"fillmode\":\"overlay\",\"size\":10,\"solidity\":0.2}},\"type\":\"bar\"}],\"carpet\":[{\"aaxis\":{\"endlinecolor\":\"#A2B1C6\",\"gridcolor\":\"#506784\",\"linecolor\":\"#506784\",\"minorgridcolor\":\"#506784\",\"startlinecolor\":\"#A2B1C6\"},\"baxis\":{\"endlinecolor\":\"#A2B1C6\",\"gridcolor\":\"#506784\",\"linecolor\":\"#506784\",\"minorgridcolor\":\"#506784\",\"startlinecolor\":\"#A2B1C6\"},\"type\":\"carpet\"}],\"choropleth\":[{\"colorbar\":{\"outlinewidth\":0,\"ticks\":\"\"},\"type\":\"choropleth\"}],\"contourcarpet\":[{\"colorbar\":{\"outlinewidth\":0,\"ticks\":\"\"},\"type\":\"contourcarpet\"}],\"contour\":[{\"colorbar\":{\"outlinewidth\":0,\"ticks\":\"\"},\"colorscale\":[[0.0,\"#0d0887\"],[0.1111111111111111,\"#46039f\"],[0.2222222222222222,\"#7201a8\"],[0.3333333333333333,\"#9c179e\"],[0.4444444444444444,\"#bd3786\"],[0.5555555555555556,\"#d8576b\"],[0.6666666666666666,\"#ed7953\"],[0.7777777777777778,\"#fb9f3a\"],[0.8888888888888888,\"#fdca26\"],[1.0,\"#f0f921\"]],\"type\":\"contour\"}],\"heatmapgl\":[{\"colorbar\":{\"outlinewidth\":0,\"ticks\":\"\"},\"colorscale\":[[0.0,\"#0d0887\"],[0.1111111111111111,\"#46039f\"],[0.2222222222222222,\"#7201a8\"],[0.3333333333333333,\"#9c179e\"],[0.4444444444444444,\"#bd3786\"],[0.5555555555555556,\"#d8576b\"],[0.6666666666666666,\"#ed7953\"],[0.7777777777777778,\"#fb9f3a\"],[0.8888888888888888,\"#fdca26\"],[1.0,\"#f0f921\"]],\"type\":\"heatmapgl\"}],\"heatmap\":[{\"colorbar\":{\"outlinewidth\":0,\"ticks\":\"\"},\"colorscale\":[[0.0,\"#0d0887\"],[0.1111111111111111,\"#46039f\"],[0.2222222222222222,\"#7201a8\"],[0.3333333333333333,\"#9c179e\"],[0.4444444444444444,\"#bd3786\"],[0.5555555555555556,\"#d8576b\"],[0.6666666666666666,\"#ed7953\"],[0.7777777777777778,\"#fb9f3a\"],[0.8888888888888888,\"#fdca26\"],[1.0,\"#f0f921\"]],\"type\":\"heatmap\"}],\"histogram2dcontour\":[{\"colorbar\":{\"outlinewidth\":0,\"ticks\":\"\"},\"colorscale\":[[0.0,\"#0d0887\"],[0.1111111111111111,\"#46039f\"],[0.2222222222222222,\"#7201a8\"],[0.3333333333333333,\"#9c179e\"],[0.4444444444444444,\"#bd3786\"],[0.5555555555555556,\"#d8576b\"],[0.6666666666666666,\"#ed7953\"],[0.7777777777777778,\"#fb9f3a\"],[0.8888888888888888,\"#fdca26\"],[1.0,\"#f0f921\"]],\"type\":\"histogram2dcontour\"}],\"histogram2d\":[{\"colorbar\":{\"outlinewidth\":0,\"ticks\":\"\"},\"colorscale\":[[0.0,\"#0d0887\"],[0.1111111111111111,\"#46039f\"],[0.2222222222222222,\"#7201a8\"],[0.3333333333333333,\"#9c179e\"],[0.4444444444444444,\"#bd3786\"],[0.5555555555555556,\"#d8576b\"],[0.6666666666666666,\"#ed7953\"],[0.7777777777777778,\"#fb9f3a\"],[0.8888888888888888,\"#fdca26\"],[1.0,\"#f0f921\"]],\"type\":\"histogram2d\"}],\"histogram\":[{\"marker\":{\"pattern\":{\"fillmode\":\"overlay\",\"size\":10,\"solidity\":0.2}},\"type\":\"histogram\"}],\"mesh3d\":[{\"colorbar\":{\"outlinewidth\":0,\"ticks\":\"\"},\"type\":\"mesh3d\"}],\"parcoords\":[{\"line\":{\"colorbar\":{\"outlinewidth\":0,\"ticks\":\"\"}},\"type\":\"parcoords\"}],\"pie\":[{\"automargin\":true,\"type\":\"pie\"}],\"scatter3d\":[{\"line\":{\"colorbar\":{\"outlinewidth\":0,\"ticks\":\"\"}},\"marker\":{\"colorbar\":{\"outlinewidth\":0,\"ticks\":\"\"}},\"type\":\"scatter3d\"}],\"scattercarpet\":[{\"marker\":{\"colorbar\":{\"outlinewidth\":0,\"ticks\":\"\"}},\"type\":\"scattercarpet\"}],\"scattergeo\":[{\"marker\":{\"colorbar\":{\"outlinewidth\":0,\"ticks\":\"\"}},\"type\":\"scattergeo\"}],\"scattergl\":[{\"marker\":{\"line\":{\"color\":\"#283442\"}},\"type\":\"scattergl\"}],\"scattermapbox\":[{\"marker\":{\"colorbar\":{\"outlinewidth\":0,\"ticks\":\"\"}},\"type\":\"scattermapbox\"}],\"scatterpolargl\":[{\"marker\":{\"colorbar\":{\"outlinewidth\":0,\"ticks\":\"\"}},\"type\":\"scatterpolargl\"}],\"scatterpolar\":[{\"marker\":{\"colorbar\":{\"outlinewidth\":0,\"ticks\":\"\"}},\"type\":\"scatterpolar\"}],\"scatter\":[{\"marker\":{\"line\":{\"color\":\"#283442\"}},\"type\":\"scatter\"}],\"scatterternary\":[{\"marker\":{\"colorbar\":{\"outlinewidth\":0,\"ticks\":\"\"}},\"type\":\"scatterternary\"}],\"surface\":[{\"colorbar\":{\"outlinewidth\":0,\"ticks\":\"\"},\"colorscale\":[[0.0,\"#0d0887\"],[0.1111111111111111,\"#46039f\"],[0.2222222222222222,\"#7201a8\"],[0.3333333333333333,\"#9c179e\"],[0.4444444444444444,\"#bd3786\"],[0.5555555555555556,\"#d8576b\"],[0.6666666666666666,\"#ed7953\"],[0.7777777777777778,\"#fb9f3a\"],[0.8888888888888888,\"#fdca26\"],[1.0,\"#f0f921\"]],\"type\":\"surface\"}],\"table\":[{\"cells\":{\"fill\":{\"color\":\"#506784\"},\"line\":{\"color\":\"rgb(17,17,17)\"}},\"header\":{\"fill\":{\"color\":\"#2a3f5f\"},\"line\":{\"color\":\"rgb(17,17,17)\"}},\"type\":\"table\"}]},\"layout\":{\"annotationdefaults\":{\"arrowcolor\":\"#f2f5fa\",\"arrowhead\":0,\"arrowwidth\":1},\"autotypenumbers\":\"strict\",\"coloraxis\":{\"colorbar\":{\"outlinewidth\":0,\"ticks\":\"\"}},\"colorscale\":{\"diverging\":[[0,\"#8e0152\"],[0.1,\"#c51b7d\"],[0.2,\"#de77ae\"],[0.3,\"#f1b6da\"],[0.4,\"#fde0ef\"],[0.5,\"#f7f7f7\"],[0.6,\"#e6f5d0\"],[0.7,\"#b8e186\"],[0.8,\"#7fbc41\"],[0.9,\"#4d9221\"],[1,\"#276419\"]],\"sequential\":[[0.0,\"#0d0887\"],[0.1111111111111111,\"#46039f\"],[0.2222222222222222,\"#7201a8\"],[0.3333333333333333,\"#9c179e\"],[0.4444444444444444,\"#bd3786\"],[0.5555555555555556,\"#d8576b\"],[0.6666666666666666,\"#ed7953\"],[0.7777777777777778,\"#fb9f3a\"],[0.8888888888888888,\"#fdca26\"],[1.0,\"#f0f921\"]],\"sequentialminus\":[[0.0,\"#0d0887\"],[0.1111111111111111,\"#46039f\"],[0.2222222222222222,\"#7201a8\"],[0.3333333333333333,\"#9c179e\"],[0.4444444444444444,\"#bd3786\"],[0.5555555555555556,\"#d8576b\"],[0.6666666666666666,\"#ed7953\"],[0.7777777777777778,\"#fb9f3a\"],[0.8888888888888888,\"#fdca26\"],[1.0,\"#f0f921\"]]},\"colorway\":[\"#636efa\",\"#EF553B\",\"#00cc96\",\"#ab63fa\",\"#FFA15A\",\"#19d3f3\",\"#FF6692\",\"#B6E880\",\"#FF97FF\",\"#FECB52\"],\"font\":{\"color\":\"#f2f5fa\"},\"geo\":{\"bgcolor\":\"rgb(17,17,17)\",\"lakecolor\":\"rgb(17,17,17)\",\"landcolor\":\"rgb(17,17,17)\",\"showlakes\":true,\"showland\":true,\"subunitcolor\":\"#506784\"},\"hoverlabel\":{\"align\":\"left\"},\"hovermode\":\"closest\",\"mapbox\":{\"style\":\"dark\"},\"paper_bgcolor\":\"rgb(17,17,17)\",\"plot_bgcolor\":\"rgb(17,17,17)\",\"polar\":{\"angularaxis\":{\"gridcolor\":\"#506784\",\"linecolor\":\"#506784\",\"ticks\":\"\"},\"bgcolor\":\"rgb(17,17,17)\",\"radialaxis\":{\"gridcolor\":\"#506784\",\"linecolor\":\"#506784\",\"ticks\":\"\"}},\"scene\":{\"xaxis\":{\"backgroundcolor\":\"rgb(17,17,17)\",\"gridcolor\":\"#506784\",\"gridwidth\":2,\"linecolor\":\"#506784\",\"showbackground\":true,\"ticks\":\"\",\"zerolinecolor\":\"#C8D4E3\"},\"yaxis\":{\"backgroundcolor\":\"rgb(17,17,17)\",\"gridcolor\":\"#506784\",\"gridwidth\":2,\"linecolor\":\"#506784\",\"showbackground\":true,\"ticks\":\"\",\"zerolinecolor\":\"#C8D4E3\"},\"zaxis\":{\"backgroundcolor\":\"rgb(17,17,17)\",\"gridcolor\":\"#506784\",\"gridwidth\":2,\"linecolor\":\"#506784\",\"showbackground\":true,\"ticks\":\"\",\"zerolinecolor\":\"#C8D4E3\"}},\"shapedefaults\":{\"line\":{\"color\":\"#f2f5fa\"}},\"sliderdefaults\":{\"bgcolor\":\"#C8D4E3\",\"bordercolor\":\"rgb(17,17,17)\",\"borderwidth\":1,\"tickwidth\":0},\"ternary\":{\"aaxis\":{\"gridcolor\":\"#506784\",\"linecolor\":\"#506784\",\"ticks\":\"\"},\"baxis\":{\"gridcolor\":\"#506784\",\"linecolor\":\"#506784\",\"ticks\":\"\"},\"bgcolor\":\"rgb(17,17,17)\",\"caxis\":{\"gridcolor\":\"#506784\",\"linecolor\":\"#506784\",\"ticks\":\"\"}},\"title\":{\"x\":0.05},\"updatemenudefaults\":{\"bgcolor\":\"#506784\",\"borderwidth\":0},\"xaxis\":{\"automargin\":true,\"gridcolor\":\"#283442\",\"linecolor\":\"#506784\",\"ticks\":\"\",\"title\":{\"standoff\":15},\"zerolinecolor\":\"#283442\",\"zerolinewidth\":2},\"yaxis\":{\"automargin\":true,\"gridcolor\":\"#283442\",\"linecolor\":\"#506784\",\"ticks\":\"\",\"title\":{\"standoff\":15},\"zerolinecolor\":\"#283442\",\"zerolinewidth\":2}}},\"xaxis\":{\"anchor\":\"y\",\"domain\":[0.0,1.0],\"title\":{\"text\":\"Date\"}},\"yaxis\":{\"anchor\":\"x\",\"domain\":[0.0,1.0],\"title\":{\"text\":\"Close\"}},\"legend\":{\"tracegroupgap\":0},\"title\":{\"text\":\"Precios de Cierre de AAPL\"}},                        {\"responsive\": true}                    ).then(function(){\n",
              "                            \n",
              "var gd = document.getElementById('38ac3619-dd41-4e49-80a6-df5a0fd97148');\n",
              "var x = new MutationObserver(function (mutations, observer) {{\n",
              "        var display = window.getComputedStyle(gd).display;\n",
              "        if (!display || display === 'none') {{\n",
              "            console.log([gd, 'removed!']);\n",
              "            Plotly.purge(gd);\n",
              "            observer.disconnect();\n",
              "        }}\n",
              "}});\n",
              "\n",
              "// Listen for the removal of the full notebook cells\n",
              "var notebookContainer = gd.closest('#notebook-container');\n",
              "if (notebookContainer) {{\n",
              "    x.observe(notebookContainer, {childList: true});\n",
              "}}\n",
              "\n",
              "// Listen for the clearing of the current output cell\n",
              "var outputEl = gd.closest('.output');\n",
              "if (outputEl) {{\n",
              "    x.observe(outputEl, {childList: true});\n",
              "}}\n",
              "\n",
              "                        })                };                            </script>        </div>\n",
              "</body>\n",
              "</html>"
            ]
          },
          "metadata": {}
        }
      ]
    },
    {
      "cell_type": "markdown",
      "source": [
        "La línea de código `fig = px.line(df, x=df.index, y='Close', template=\"gridon\", markers=True, title=f\"Precios de Cierre de {symbol}\")` utiliza la biblioteca Plotly Express (`px`) para crear un gráfico de línea que muestra la evolución de los precios de cierre a lo largo del tiempo. Aquí hay una explicación detallada de cada parte de la línea de código:\n",
        "\n",
        "- `fig`: Es el nombre de la variable en la que almacenamos la figura del gráfico que estamos creando. Puede cambiar el nombre de la variable según sus preferencias.\n",
        "\n",
        "- `px.line(...)`: Esta es la función de Plotly Express que usamos para crear el gráfico de línea.\n",
        "\n",
        "- `df`: Es el DataFrame que contiene los datos que queremos visualizar. En este caso, estamos utilizando el DataFrame que creamos previamente y que contiene los precios de cierre.\n",
        "\n",
        "- `x=df.index`: Este argumento especifica qué columna del DataFrame se utilizará para el eje x (horizontal) del gráfico. `df.index` se refiere al índice de fechas del DataFrame, lo que significa que estamos utilizando las fechas como valores en el eje x.\n",
        "\n",
        "- `y='Close'`: Este argumento especifica qué columna del DataFrame se utilizará para el eje y (vertical) del gráfico. Aquí, estamos utilizando la columna de precios de cierre.\n",
        "\n",
        "- `template=\"gridon\"`: Esto define el estilo de la plantilla del gráfico. En este caso, estamos usando la plantilla con la cuadrícula activada.\n",
        "\n",
        "- `markers=True`: Indica si se deben mostrar marcadores en los puntos de datos en el gráfico de línea. En este caso, estamos mostrando marcadores en los puntos de datos.\n",
        "\n",
        "- `title=f\"Precios de Cierre de {symbol}\"`: Este argumento establece el título del gráfico. Estamos utilizando una cadena formateada para incluir el símbolo de la acción en el título.\n",
        "\n",
        "- `fig.show()`: Esta línea muestra la figura del gráfico en la salida. Puede ver el gráfico en una ventana emergente en su entorno de desarrollo o en el entorno en el que está ejecutando el código.\n",
        "\n",
        "En resumen, esta línea de código crea un gráfico de línea utilizando Plotly Express que muestra la evolución de los precios de cierre de las acciones a lo largo del tiempo. Utiliza el DataFrame que contiene los datos y personaliza varios aspectos del gráfico, como los ejes, los marcadores y el título. Luego, muestra el gráfico para su visualización."
      ],
      "metadata": {
        "id": "SI1zzfdgsqu1"
      }
    },
    {
      "cell_type": "markdown",
      "source": [
        "## **<font color=\"DeepPink\">Grafico de dispersión Precios de Cierre, con línea de tendencia</font>**"
      ],
      "metadata": {
        "id": "YkO5KuyEPB-G"
      }
    },
    {
      "cell_type": "code",
      "source": [
        "fig = px.scatter(df,\n",
        "                 x=df.index,\n",
        "                 y='Close',\n",
        "                 template=\"plotly_dark\",\n",
        "                 trendline='lowess',\n",
        "                 trendline_color_override=\"orange\",\n",
        "                 title=f\"Precios de Cierre de {symbol}\")\n",
        "\n",
        "fig.update_traces(mode='lines')\n",
        "\n",
        "fig.show()"
      ],
      "metadata": {
        "colab": {
          "base_uri": "https://localhost:8080/",
          "height": 562
        },
        "id": "AfoUx3HkPHq8",
        "outputId": "4d53fa34-f4bb-4f56-e774-314e99b5587e"
      },
      "execution_count": null,
      "outputs": [
        {
          "output_type": "display_data",
          "data": {
            "text/html": [
              "<html>\n",
              "<head><meta charset=\"utf-8\" /></head>\n",
              "<body>\n",
              "    <div>            <script src=\"https://cdnjs.cloudflare.com/ajax/libs/mathjax/2.7.5/MathJax.js?config=TeX-AMS-MML_SVG\"></script><script type=\"text/javascript\">if (window.MathJax && window.MathJax.Hub && window.MathJax.Hub.Config) {window.MathJax.Hub.Config({SVG: {font: \"STIX-Web\"}});}</script>                <script type=\"text/javascript\">window.PlotlyConfig = {MathJaxConfig: 'local'};</script>\n",
              "        <script charset=\"utf-8\" src=\"https://cdn.plot.ly/plotly-2.24.1.min.js\"></script>                <div id=\"561e4470-e443-4aa3-be35-7da10baf331e\" class=\"plotly-graph-div\" style=\"height:525px; width:100%;\"></div>            <script type=\"text/javascript\">                                    window.PLOTLYENV=window.PLOTLYENV || {};                                    if (document.getElementById(\"561e4470-e443-4aa3-be35-7da10baf331e\")) {                    Plotly.newPlot(                        \"561e4470-e443-4aa3-be35-7da10baf331e\",                        [{\"hovertemplate\":\"Date=%{x}\\u003cbr\\u003eClose=%{y}\\u003cextra\\u003e\\u003c\\u002fextra\\u003e\",\"legendgroup\":\"\",\"marker\":{\"color\":\"#636efa\",\"symbol\":\"circle\"},\"mode\":\"lines\",\"name\":\"\",\"orientation\":\"v\",\"showlegend\":false,\"x\":[\"2020-01-02T00:00:00\",\"2020-01-03T00:00:00\",\"2020-01-06T00:00:00\",\"2020-01-07T00:00:00\",\"2020-01-08T00:00:00\",\"2020-01-09T00:00:00\",\"2020-01-10T00:00:00\",\"2020-01-13T00:00:00\",\"2020-01-14T00:00:00\",\"2020-01-15T00:00:00\",\"2020-01-16T00:00:00\",\"2020-01-17T00:00:00\",\"2020-01-21T00:00:00\",\"2020-01-22T00:00:00\",\"2020-01-23T00:00:00\",\"2020-01-24T00:00:00\",\"2020-01-27T00:00:00\",\"2020-01-28T00:00:00\",\"2020-01-29T00:00:00\",\"2020-01-30T00:00:00\",\"2020-01-31T00:00:00\",\"2020-02-03T00:00:00\",\"2020-02-04T00:00:00\",\"2020-02-05T00:00:00\",\"2020-02-06T00:00:00\",\"2020-02-07T00:00:00\",\"2020-02-10T00:00:00\",\"2020-02-11T00:00:00\",\"2020-02-12T00:00:00\",\"2020-02-13T00:00:00\",\"2020-02-14T00:00:00\",\"2020-02-18T00:00:00\",\"2020-02-19T00:00:00\",\"2020-02-20T00:00:00\",\"2020-02-21T00:00:00\",\"2020-02-24T00:00:00\",\"2020-02-25T00:00:00\",\"2020-02-26T00:00:00\",\"2020-02-27T00:00:00\",\"2020-02-28T00:00:00\",\"2020-03-02T00:00:00\",\"2020-03-03T00:00:00\",\"2020-03-04T00:00:00\",\"2020-03-05T00:00:00\",\"2020-03-06T00:00:00\",\"2020-03-09T00:00:00\",\"2020-03-10T00:00:00\",\"2020-03-11T00:00:00\",\"2020-03-12T00:00:00\",\"2020-03-13T00:00:00\",\"2020-03-16T00:00:00\",\"2020-03-17T00:00:00\",\"2020-03-18T00:00:00\",\"2020-03-19T00:00:00\",\"2020-03-20T00:00:00\",\"2020-03-23T00:00:00\",\"2020-03-24T00:00:00\",\"2020-03-25T00:00:00\",\"2020-03-26T00:00:00\",\"2020-03-27T00:00:00\",\"2020-03-30T00:00:00\",\"2020-03-31T00:00:00\",\"2020-04-01T00:00:00\",\"2020-04-02T00:00:00\",\"2020-04-03T00:00:00\",\"2020-04-06T00:00:00\",\"2020-04-07T00:00:00\",\"2020-04-08T00:00:00\",\"2020-04-09T00:00:00\",\"2020-04-13T00:00:00\",\"2020-04-14T00:00:00\",\"2020-04-15T00:00:00\",\"2020-04-16T00:00:00\",\"2020-04-17T00:00:00\",\"2020-04-20T00:00:00\",\"2020-04-21T00:00:00\",\"2020-04-22T00:00:00\",\"2020-04-23T00:00:00\",\"2020-04-24T00:00:00\",\"2020-04-27T00:00:00\",\"2020-04-28T00:00:00\",\"2020-04-29T00:00:00\",\"2020-04-30T00:00:00\",\"2020-05-01T00:00:00\",\"2020-05-04T00:00:00\",\"2020-05-05T00:00:00\",\"2020-05-06T00:00:00\",\"2020-05-07T00:00:00\",\"2020-05-08T00:00:00\",\"2020-05-11T00:00:00\",\"2020-05-12T00:00:00\",\"2020-05-13T00:00:00\",\"2020-05-14T00:00:00\",\"2020-05-15T00:00:00\",\"2020-05-18T00:00:00\",\"2020-05-19T00:00:00\",\"2020-05-20T00:00:00\",\"2020-05-21T00:00:00\",\"2020-05-22T00:00:00\",\"2020-05-26T00:00:00\",\"2020-05-27T00:00:00\",\"2020-05-28T00:00:00\",\"2020-05-29T00:00:00\",\"2020-06-01T00:00:00\",\"2020-06-02T00:00:00\",\"2020-06-03T00:00:00\",\"2020-06-04T00:00:00\",\"2020-06-05T00:00:00\",\"2020-06-08T00:00:00\",\"2020-06-09T00:00:00\",\"2020-06-10T00:00:00\",\"2020-06-11T00:00:00\",\"2020-06-12T00:00:00\",\"2020-06-15T00:00:00\",\"2020-06-16T00:00:00\",\"2020-06-17T00:00:00\",\"2020-06-18T00:00:00\",\"2020-06-19T00:00:00\",\"2020-06-22T00:00:00\",\"2020-06-23T00:00:00\",\"2020-06-24T00:00:00\",\"2020-06-25T00:00:00\",\"2020-06-26T00:00:00\",\"2020-06-29T00:00:00\",\"2020-06-30T00:00:00\",\"2020-07-01T00:00:00\",\"2020-07-02T00:00:00\",\"2020-07-06T00:00:00\",\"2020-07-07T00:00:00\",\"2020-07-08T00:00:00\",\"2020-07-09T00:00:00\",\"2020-07-10T00:00:00\",\"2020-07-13T00:00:00\",\"2020-07-14T00:00:00\",\"2020-07-15T00:00:00\",\"2020-07-16T00:00:00\",\"2020-07-17T00:00:00\",\"2020-07-20T00:00:00\",\"2020-07-21T00:00:00\",\"2020-07-22T00:00:00\",\"2020-07-23T00:00:00\",\"2020-07-24T00:00:00\",\"2020-07-27T00:00:00\",\"2020-07-28T00:00:00\",\"2020-07-29T00:00:00\",\"2020-07-30T00:00:00\",\"2020-07-31T00:00:00\",\"2020-08-03T00:00:00\",\"2020-08-04T00:00:00\",\"2020-08-05T00:00:00\",\"2020-08-06T00:00:00\",\"2020-08-07T00:00:00\",\"2020-08-10T00:00:00\",\"2020-08-11T00:00:00\",\"2020-08-12T00:00:00\",\"2020-08-13T00:00:00\",\"2020-08-14T00:00:00\",\"2020-08-17T00:00:00\",\"2020-08-18T00:00:00\",\"2020-08-19T00:00:00\",\"2020-08-20T00:00:00\",\"2020-08-21T00:00:00\",\"2020-08-24T00:00:00\",\"2020-08-25T00:00:00\",\"2020-08-26T00:00:00\",\"2020-08-27T00:00:00\",\"2020-08-28T00:00:00\",\"2020-08-31T00:00:00\",\"2020-09-01T00:00:00\",\"2020-09-02T00:00:00\",\"2020-09-03T00:00:00\",\"2020-09-04T00:00:00\",\"2020-09-08T00:00:00\",\"2020-09-09T00:00:00\",\"2020-09-10T00:00:00\",\"2020-09-11T00:00:00\",\"2020-09-14T00:00:00\",\"2020-09-15T00:00:00\",\"2020-09-16T00:00:00\",\"2020-09-17T00:00:00\",\"2020-09-18T00:00:00\",\"2020-09-21T00:00:00\",\"2020-09-22T00:00:00\",\"2020-09-23T00:00:00\",\"2020-09-24T00:00:00\",\"2020-09-25T00:00:00\",\"2020-09-28T00:00:00\",\"2020-09-29T00:00:00\",\"2020-09-30T00:00:00\",\"2020-10-01T00:00:00\",\"2020-10-02T00:00:00\",\"2020-10-05T00:00:00\",\"2020-10-06T00:00:00\",\"2020-10-07T00:00:00\",\"2020-10-08T00:00:00\",\"2020-10-09T00:00:00\",\"2020-10-12T00:00:00\",\"2020-10-13T00:00:00\",\"2020-10-14T00:00:00\",\"2020-10-15T00:00:00\",\"2020-10-16T00:00:00\",\"2020-10-19T00:00:00\",\"2020-10-20T00:00:00\",\"2020-10-21T00:00:00\",\"2020-10-22T00:00:00\",\"2020-10-23T00:00:00\",\"2020-10-26T00:00:00\",\"2020-10-27T00:00:00\",\"2020-10-28T00:00:00\",\"2020-10-29T00:00:00\",\"2020-10-30T00:00:00\",\"2020-11-02T00:00:00\",\"2020-11-03T00:00:00\",\"2020-11-04T00:00:00\",\"2020-11-05T00:00:00\",\"2020-11-06T00:00:00\",\"2020-11-09T00:00:00\",\"2020-11-10T00:00:00\",\"2020-11-11T00:00:00\",\"2020-11-12T00:00:00\",\"2020-11-13T00:00:00\",\"2020-11-16T00:00:00\",\"2020-11-17T00:00:00\",\"2020-11-18T00:00:00\",\"2020-11-19T00:00:00\",\"2020-11-20T00:00:00\",\"2020-11-23T00:00:00\",\"2020-11-24T00:00:00\",\"2020-11-25T00:00:00\",\"2020-11-27T00:00:00\",\"2020-11-30T00:00:00\",\"2020-12-01T00:00:00\",\"2020-12-02T00:00:00\",\"2020-12-03T00:00:00\",\"2020-12-04T00:00:00\",\"2020-12-07T00:00:00\",\"2020-12-08T00:00:00\",\"2020-12-09T00:00:00\",\"2020-12-10T00:00:00\",\"2020-12-11T00:00:00\",\"2020-12-14T00:00:00\",\"2020-12-15T00:00:00\",\"2020-12-16T00:00:00\",\"2020-12-17T00:00:00\",\"2020-12-18T00:00:00\",\"2020-12-21T00:00:00\",\"2020-12-22T00:00:00\",\"2020-12-23T00:00:00\",\"2020-12-24T00:00:00\",\"2020-12-28T00:00:00\",\"2020-12-29T00:00:00\",\"2020-12-30T00:00:00\",\"2020-12-31T00:00:00\",\"2021-01-04T00:00:00\",\"2021-01-05T00:00:00\",\"2021-01-06T00:00:00\",\"2021-01-07T00:00:00\",\"2021-01-08T00:00:00\",\"2021-01-11T00:00:00\",\"2021-01-12T00:00:00\",\"2021-01-13T00:00:00\",\"2021-01-14T00:00:00\",\"2021-01-15T00:00:00\",\"2021-01-19T00:00:00\",\"2021-01-20T00:00:00\",\"2021-01-21T00:00:00\",\"2021-01-22T00:00:00\",\"2021-01-25T00:00:00\",\"2021-01-26T00:00:00\",\"2021-01-27T00:00:00\",\"2021-01-28T00:00:00\",\"2021-01-29T00:00:00\",\"2021-02-01T00:00:00\",\"2021-02-02T00:00:00\",\"2021-02-03T00:00:00\",\"2021-02-04T00:00:00\",\"2021-02-05T00:00:00\",\"2021-02-08T00:00:00\",\"2021-02-09T00:00:00\",\"2021-02-10T00:00:00\",\"2021-02-11T00:00:00\",\"2021-02-12T00:00:00\",\"2021-02-16T00:00:00\",\"2021-02-17T00:00:00\",\"2021-02-18T00:00:00\",\"2021-02-19T00:00:00\",\"2021-02-22T00:00:00\",\"2021-02-23T00:00:00\",\"2021-02-24T00:00:00\",\"2021-02-25T00:00:00\",\"2021-02-26T00:00:00\",\"2021-03-01T00:00:00\",\"2021-03-02T00:00:00\",\"2021-03-03T00:00:00\",\"2021-03-04T00:00:00\",\"2021-03-05T00:00:00\",\"2021-03-08T00:00:00\",\"2021-03-09T00:00:00\",\"2021-03-10T00:00:00\",\"2021-03-11T00:00:00\",\"2021-03-12T00:00:00\",\"2021-03-15T00:00:00\",\"2021-03-16T00:00:00\",\"2021-03-17T00:00:00\",\"2021-03-18T00:00:00\",\"2021-03-19T00:00:00\",\"2021-03-22T00:00:00\",\"2021-03-23T00:00:00\",\"2021-03-24T00:00:00\",\"2021-03-25T00:00:00\",\"2021-03-26T00:00:00\",\"2021-03-29T00:00:00\",\"2021-03-30T00:00:00\",\"2021-03-31T00:00:00\",\"2021-04-01T00:00:00\",\"2021-04-05T00:00:00\",\"2021-04-06T00:00:00\",\"2021-04-07T00:00:00\",\"2021-04-08T00:00:00\",\"2021-04-09T00:00:00\",\"2021-04-12T00:00:00\",\"2021-04-13T00:00:00\",\"2021-04-14T00:00:00\",\"2021-04-15T00:00:00\",\"2021-04-16T00:00:00\",\"2021-04-19T00:00:00\",\"2021-04-20T00:00:00\",\"2021-04-21T00:00:00\",\"2021-04-22T00:00:00\",\"2021-04-23T00:00:00\",\"2021-04-26T00:00:00\",\"2021-04-27T00:00:00\",\"2021-04-28T00:00:00\",\"2021-04-29T00:00:00\",\"2021-04-30T00:00:00\",\"2021-05-03T00:00:00\",\"2021-05-04T00:00:00\",\"2021-05-05T00:00:00\",\"2021-05-06T00:00:00\",\"2021-05-07T00:00:00\",\"2021-05-10T00:00:00\",\"2021-05-11T00:00:00\",\"2021-05-12T00:00:00\",\"2021-05-13T00:00:00\",\"2021-05-14T00:00:00\",\"2021-05-17T00:00:00\",\"2021-05-18T00:00:00\",\"2021-05-19T00:00:00\",\"2021-05-20T00:00:00\",\"2021-05-21T00:00:00\",\"2021-05-24T00:00:00\",\"2021-05-25T00:00:00\",\"2021-05-26T00:00:00\",\"2021-05-27T00:00:00\",\"2021-05-28T00:00:00\",\"2021-06-01T00:00:00\",\"2021-06-02T00:00:00\",\"2021-06-03T00:00:00\",\"2021-06-04T00:00:00\",\"2021-06-07T00:00:00\",\"2021-06-08T00:00:00\",\"2021-06-09T00:00:00\",\"2021-06-10T00:00:00\",\"2021-06-11T00:00:00\",\"2021-06-14T00:00:00\",\"2021-06-15T00:00:00\",\"2021-06-16T00:00:00\",\"2021-06-17T00:00:00\",\"2021-06-18T00:00:00\",\"2021-06-21T00:00:00\",\"2021-06-22T00:00:00\",\"2021-06-23T00:00:00\",\"2021-06-24T00:00:00\",\"2021-06-25T00:00:00\",\"2021-06-28T00:00:00\",\"2021-06-29T00:00:00\",\"2021-06-30T00:00:00\",\"2021-07-01T00:00:00\",\"2021-07-02T00:00:00\",\"2021-07-06T00:00:00\",\"2021-07-07T00:00:00\",\"2021-07-08T00:00:00\",\"2021-07-09T00:00:00\",\"2021-07-12T00:00:00\",\"2021-07-13T00:00:00\",\"2021-07-14T00:00:00\",\"2021-07-15T00:00:00\",\"2021-07-16T00:00:00\",\"2021-07-19T00:00:00\",\"2021-07-20T00:00:00\",\"2021-07-21T00:00:00\",\"2021-07-22T00:00:00\",\"2021-07-23T00:00:00\",\"2021-07-26T00:00:00\",\"2021-07-27T00:00:00\",\"2021-07-28T00:00:00\",\"2021-07-29T00:00:00\",\"2021-07-30T00:00:00\",\"2021-08-02T00:00:00\",\"2021-08-03T00:00:00\",\"2021-08-04T00:00:00\",\"2021-08-05T00:00:00\",\"2021-08-06T00:00:00\",\"2021-08-09T00:00:00\",\"2021-08-10T00:00:00\",\"2021-08-11T00:00:00\",\"2021-08-12T00:00:00\",\"2021-08-13T00:00:00\",\"2021-08-16T00:00:00\",\"2021-08-17T00:00:00\",\"2021-08-18T00:00:00\",\"2021-08-19T00:00:00\",\"2021-08-20T00:00:00\",\"2021-08-23T00:00:00\",\"2021-08-24T00:00:00\",\"2021-08-25T00:00:00\",\"2021-08-26T00:00:00\",\"2021-08-27T00:00:00\",\"2021-08-30T00:00:00\",\"2021-08-31T00:00:00\",\"2021-09-01T00:00:00\",\"2021-09-02T00:00:00\",\"2021-09-03T00:00:00\",\"2021-09-07T00:00:00\",\"2021-09-08T00:00:00\",\"2021-09-09T00:00:00\",\"2021-09-10T00:00:00\",\"2021-09-13T00:00:00\",\"2021-09-14T00:00:00\",\"2021-09-15T00:00:00\",\"2021-09-16T00:00:00\",\"2021-09-17T00:00:00\",\"2021-09-20T00:00:00\",\"2021-09-21T00:00:00\",\"2021-09-22T00:00:00\",\"2021-09-23T00:00:00\",\"2021-09-24T00:00:00\",\"2021-09-27T00:00:00\",\"2021-09-28T00:00:00\",\"2021-09-29T00:00:00\",\"2021-09-30T00:00:00\",\"2021-10-01T00:00:00\",\"2021-10-04T00:00:00\",\"2021-10-05T00:00:00\",\"2021-10-06T00:00:00\",\"2021-10-07T00:00:00\",\"2021-10-08T00:00:00\",\"2021-10-11T00:00:00\",\"2021-10-12T00:00:00\",\"2021-10-13T00:00:00\",\"2021-10-14T00:00:00\",\"2021-10-15T00:00:00\",\"2021-10-18T00:00:00\",\"2021-10-19T00:00:00\",\"2021-10-20T00:00:00\",\"2021-10-21T00:00:00\",\"2021-10-22T00:00:00\",\"2021-10-25T00:00:00\",\"2021-10-26T00:00:00\",\"2021-10-27T00:00:00\",\"2021-10-28T00:00:00\",\"2021-10-29T00:00:00\",\"2021-11-01T00:00:00\",\"2021-11-02T00:00:00\",\"2021-11-03T00:00:00\",\"2021-11-04T00:00:00\",\"2021-11-05T00:00:00\",\"2021-11-08T00:00:00\",\"2021-11-09T00:00:00\",\"2021-11-10T00:00:00\",\"2021-11-11T00:00:00\",\"2021-11-12T00:00:00\",\"2021-11-15T00:00:00\",\"2021-11-16T00:00:00\",\"2021-11-17T00:00:00\",\"2021-11-18T00:00:00\",\"2021-11-19T00:00:00\",\"2021-11-22T00:00:00\",\"2021-11-23T00:00:00\",\"2021-11-24T00:00:00\",\"2021-11-26T00:00:00\",\"2021-11-29T00:00:00\",\"2021-11-30T00:00:00\",\"2021-12-01T00:00:00\",\"2021-12-02T00:00:00\",\"2021-12-03T00:00:00\",\"2021-12-06T00:00:00\",\"2021-12-07T00:00:00\",\"2021-12-08T00:00:00\",\"2021-12-09T00:00:00\",\"2021-12-10T00:00:00\",\"2021-12-13T00:00:00\",\"2021-12-14T00:00:00\",\"2021-12-15T00:00:00\",\"2021-12-16T00:00:00\",\"2021-12-17T00:00:00\",\"2021-12-20T00:00:00\",\"2021-12-21T00:00:00\",\"2021-12-22T00:00:00\",\"2021-12-23T00:00:00\",\"2021-12-27T00:00:00\",\"2021-12-28T00:00:00\",\"2021-12-29T00:00:00\",\"2021-12-30T00:00:00\",\"2021-12-31T00:00:00\",\"2022-01-03T00:00:00\",\"2022-01-04T00:00:00\",\"2022-01-05T00:00:00\",\"2022-01-06T00:00:00\",\"2022-01-07T00:00:00\",\"2022-01-10T00:00:00\",\"2022-01-11T00:00:00\",\"2022-01-12T00:00:00\",\"2022-01-13T00:00:00\",\"2022-01-14T00:00:00\",\"2022-01-18T00:00:00\",\"2022-01-19T00:00:00\",\"2022-01-20T00:00:00\",\"2022-01-21T00:00:00\",\"2022-01-24T00:00:00\",\"2022-01-25T00:00:00\",\"2022-01-26T00:00:00\",\"2022-01-27T00:00:00\",\"2022-01-28T00:00:00\",\"2022-01-31T00:00:00\",\"2022-02-01T00:00:00\",\"2022-02-02T00:00:00\",\"2022-02-03T00:00:00\",\"2022-02-04T00:00:00\",\"2022-02-07T00:00:00\",\"2022-02-08T00:00:00\",\"2022-02-09T00:00:00\",\"2022-02-10T00:00:00\",\"2022-02-11T00:00:00\",\"2022-02-14T00:00:00\",\"2022-02-15T00:00:00\",\"2022-02-16T00:00:00\",\"2022-02-17T00:00:00\",\"2022-02-18T00:00:00\",\"2022-02-22T00:00:00\",\"2022-02-23T00:00:00\",\"2022-02-24T00:00:00\",\"2022-02-25T00:00:00\",\"2022-02-28T00:00:00\",\"2022-03-01T00:00:00\",\"2022-03-02T00:00:00\",\"2022-03-03T00:00:00\",\"2022-03-04T00:00:00\",\"2022-03-07T00:00:00\",\"2022-03-08T00:00:00\",\"2022-03-09T00:00:00\",\"2022-03-10T00:00:00\",\"2022-03-11T00:00:00\",\"2022-03-14T00:00:00\",\"2022-03-15T00:00:00\",\"2022-03-16T00:00:00\",\"2022-03-17T00:00:00\",\"2022-03-18T00:00:00\",\"2022-03-21T00:00:00\",\"2022-03-22T00:00:00\",\"2022-03-23T00:00:00\",\"2022-03-24T00:00:00\",\"2022-03-25T00:00:00\",\"2022-03-28T00:00:00\",\"2022-03-29T00:00:00\",\"2022-03-30T00:00:00\",\"2022-03-31T00:00:00\",\"2022-04-01T00:00:00\",\"2022-04-04T00:00:00\",\"2022-04-05T00:00:00\",\"2022-04-06T00:00:00\",\"2022-04-07T00:00:00\",\"2022-04-08T00:00:00\",\"2022-04-11T00:00:00\",\"2022-04-12T00:00:00\",\"2022-04-13T00:00:00\",\"2022-04-14T00:00:00\",\"2022-04-18T00:00:00\",\"2022-04-19T00:00:00\",\"2022-04-20T00:00:00\",\"2022-04-21T00:00:00\",\"2022-04-22T00:00:00\",\"2022-04-25T00:00:00\",\"2022-04-26T00:00:00\",\"2022-04-27T00:00:00\",\"2022-04-28T00:00:00\",\"2022-04-29T00:00:00\",\"2022-05-02T00:00:00\",\"2022-05-03T00:00:00\",\"2022-05-04T00:00:00\",\"2022-05-05T00:00:00\",\"2022-05-06T00:00:00\",\"2022-05-09T00:00:00\",\"2022-05-10T00:00:00\",\"2022-05-11T00:00:00\",\"2022-05-12T00:00:00\",\"2022-05-13T00:00:00\",\"2022-05-16T00:00:00\",\"2022-05-17T00:00:00\",\"2022-05-18T00:00:00\",\"2022-05-19T00:00:00\",\"2022-05-20T00:00:00\",\"2022-05-23T00:00:00\",\"2022-05-24T00:00:00\",\"2022-05-25T00:00:00\",\"2022-05-26T00:00:00\",\"2022-05-27T00:00:00\",\"2022-05-31T00:00:00\",\"2022-06-01T00:00:00\",\"2022-06-02T00:00:00\",\"2022-06-03T00:00:00\",\"2022-06-06T00:00:00\",\"2022-06-07T00:00:00\",\"2022-06-08T00:00:00\",\"2022-06-09T00:00:00\",\"2022-06-10T00:00:00\",\"2022-06-13T00:00:00\",\"2022-06-14T00:00:00\",\"2022-06-15T00:00:00\",\"2022-06-16T00:00:00\",\"2022-06-17T00:00:00\",\"2022-06-21T00:00:00\",\"2022-06-22T00:00:00\",\"2022-06-23T00:00:00\",\"2022-06-24T00:00:00\",\"2022-06-27T00:00:00\",\"2022-06-28T00:00:00\",\"2022-06-29T00:00:00\",\"2022-06-30T00:00:00\",\"2022-07-01T00:00:00\",\"2022-07-05T00:00:00\",\"2022-07-06T00:00:00\",\"2022-07-07T00:00:00\",\"2022-07-08T00:00:00\",\"2022-07-11T00:00:00\",\"2022-07-12T00:00:00\",\"2022-07-13T00:00:00\",\"2022-07-14T00:00:00\",\"2022-07-15T00:00:00\",\"2022-07-18T00:00:00\",\"2022-07-19T00:00:00\",\"2022-07-20T00:00:00\",\"2022-07-21T00:00:00\",\"2022-07-22T00:00:00\",\"2022-07-25T00:00:00\",\"2022-07-26T00:00:00\",\"2022-07-27T00:00:00\",\"2022-07-28T00:00:00\",\"2022-07-29T00:00:00\",\"2022-08-01T00:00:00\",\"2022-08-02T00:00:00\",\"2022-08-03T00:00:00\",\"2022-08-04T00:00:00\",\"2022-08-05T00:00:00\",\"2022-08-08T00:00:00\",\"2022-08-09T00:00:00\",\"2022-08-10T00:00:00\",\"2022-08-11T00:00:00\",\"2022-08-12T00:00:00\",\"2022-08-15T00:00:00\",\"2022-08-16T00:00:00\",\"2022-08-17T00:00:00\",\"2022-08-18T00:00:00\",\"2022-08-19T00:00:00\",\"2022-08-22T00:00:00\",\"2022-08-23T00:00:00\",\"2022-08-24T00:00:00\",\"2022-08-25T00:00:00\",\"2022-08-26T00:00:00\",\"2022-08-29T00:00:00\",\"2022-08-30T00:00:00\",\"2022-08-31T00:00:00\",\"2022-09-01T00:00:00\",\"2022-09-02T00:00:00\",\"2022-09-06T00:00:00\",\"2022-09-07T00:00:00\",\"2022-09-08T00:00:00\",\"2022-09-09T00:00:00\",\"2022-09-12T00:00:00\",\"2022-09-13T00:00:00\",\"2022-09-14T00:00:00\",\"2022-09-15T00:00:00\",\"2022-09-16T00:00:00\",\"2022-09-19T00:00:00\",\"2022-09-20T00:00:00\",\"2022-09-21T00:00:00\",\"2022-09-22T00:00:00\",\"2022-09-23T00:00:00\",\"2022-09-26T00:00:00\",\"2022-09-27T00:00:00\",\"2022-09-28T00:00:00\",\"2022-09-29T00:00:00\",\"2022-09-30T00:00:00\",\"2022-10-03T00:00:00\",\"2022-10-04T00:00:00\",\"2022-10-05T00:00:00\",\"2022-10-06T00:00:00\",\"2022-10-07T00:00:00\",\"2022-10-10T00:00:00\",\"2022-10-11T00:00:00\",\"2022-10-12T00:00:00\",\"2022-10-13T00:00:00\",\"2022-10-14T00:00:00\",\"2022-10-17T00:00:00\",\"2022-10-18T00:00:00\",\"2022-10-19T00:00:00\",\"2022-10-20T00:00:00\",\"2022-10-21T00:00:00\",\"2022-10-24T00:00:00\",\"2022-10-25T00:00:00\",\"2022-10-26T00:00:00\",\"2022-10-27T00:00:00\",\"2022-10-28T00:00:00\",\"2022-10-31T00:00:00\",\"2022-11-01T00:00:00\",\"2022-11-02T00:00:00\",\"2022-11-03T00:00:00\",\"2022-11-04T00:00:00\",\"2022-11-07T00:00:00\",\"2022-11-08T00:00:00\",\"2022-11-09T00:00:00\",\"2022-11-10T00:00:00\",\"2022-11-11T00:00:00\",\"2022-11-14T00:00:00\",\"2022-11-15T00:00:00\",\"2022-11-16T00:00:00\",\"2022-11-17T00:00:00\",\"2022-11-18T00:00:00\",\"2022-11-21T00:00:00\",\"2022-11-22T00:00:00\",\"2022-11-23T00:00:00\",\"2022-11-25T00:00:00\",\"2022-11-28T00:00:00\",\"2022-11-29T00:00:00\",\"2022-11-30T00:00:00\",\"2022-12-01T00:00:00\",\"2022-12-02T00:00:00\",\"2022-12-05T00:00:00\",\"2022-12-06T00:00:00\",\"2022-12-07T00:00:00\",\"2022-12-08T00:00:00\",\"2022-12-09T00:00:00\",\"2022-12-12T00:00:00\",\"2022-12-13T00:00:00\",\"2022-12-14T00:00:00\",\"2022-12-15T00:00:00\",\"2022-12-16T00:00:00\",\"2022-12-19T00:00:00\",\"2022-12-20T00:00:00\",\"2022-12-21T00:00:00\",\"2022-12-22T00:00:00\",\"2022-12-23T00:00:00\",\"2022-12-27T00:00:00\",\"2022-12-28T00:00:00\",\"2022-12-29T00:00:00\",\"2022-12-30T00:00:00\"],\"xaxis\":\"x\",\"y\":[75.09,74.36,74.95,74.6,75.8,77.41,77.58,79.24,78.17,77.83,78.81,79.68,79.14,79.43,79.81,79.58,77.24,79.42,81.08,80.97,77.38,77.17,79.71,80.36,81.3,80.01,80.39,79.9,81.8,81.22,81.24,79.75,80.9,80.07,78.26,74.54,72.02,73.16,68.38,68.34,74.7,72.33,75.68,73.23,72.26,66.54,71.33,68.86,62.06,69.49,60.55,63.22,61.67,61.19,57.31,56.09,61.72,61.38,64.61,61.94,63.7,63.57,60.23,61.23,60.35,65.62,64.86,66.52,67.0,68.31,71.76,71.11,71.67,70.7,69.23,67.09,69.03,68.76,70.74,70.79,69.64,71.93,73.45,72.27,73.29,74.39,75.16,75.93,77.53,78.75,77.85,76.91,77.39,76.93,78.74,78.29,79.81,79.21,79.72,79.18,79.53,79.56,79.49,80.46,80.83,81.28,80.58,82.88,83.36,86.0,88.21,83.97,84.7,85.75,88.02,87.9,87.93,87.43,89.72,91.63,90.01,91.21,88.41,90.44,91.2,91.03,91.03,93.46,93.17,95.34,95.75,95.92,95.48,97.06,97.72,96.52,96.33,98.36,97.0,97.27,92.85,92.61,94.81,93.25,95.04,96.19,106.26,108.94,109.67,110.06,113.9,111.11,112.73,109.38,113.01,115.01,114.91,114.61,115.56,115.71,118.28,124.37,125.86,124.82,126.52,125.01,124.81,129.04,134.18,131.4,120.88,120.96,112.82,117.32,113.49,112.0,115.36,115.54,112.13,110.34,106.84,110.08,111.81,107.12,108.22,112.28,114.96,114.09,115.81,116.79,113.02,116.5,113.16,115.08,114.97,116.97,124.4,121.1,121.19,120.71,119.02,115.98,117.51,116.87,115.75,115.04,115.05,116.6,111.2,115.32,108.86,108.77,110.44,114.95,119.03,118.69,116.32,115.97,119.49,119.21,119.26,120.3,119.39,118.03,118.64,117.34,113.85,115.17,116.03,116.59,119.05,122.72,123.08,122.94,122.25,123.75,124.38,121.78,123.24,122.41,121.78,127.88,127.81,128.7,126.66,128.23,131.88,130.96,131.97,136.69,134.87,133.72,132.69,129.41,131.01,126.6,130.92,132.05,128.98,128.8,130.89,128.91,127.14,127.83,132.03,136.87,139.07,142.92,143.16,142.06,137.09,131.96,134.14,134.99,133.94,137.39,136.76,136.91,136.01,135.39,135.13,135.37,133.19,130.84,129.71,129.87,126.0,125.86,125.35,120.99,121.26,127.79,125.12,122.06,120.13,121.42,116.36,121.09,119.98,121.96,121.03,123.99,125.57,124.76,120.53,119.99,123.39,122.54,120.09,120.59,121.21,121.39,119.9,122.15,123.0,125.9,126.21,127.9,130.36,133.0,131.24,134.43,132.03,134.5,134.16,134.84,133.11,133.5,131.94,134.32,134.72,134.39,133.58,133.48,131.46,132.54,127.85,128.1,129.74,130.21,126.85,125.91,122.77,124.97,127.45,126.27,124.85,124.69,127.31,125.43,127.1,126.9,126.85,125.28,124.61,124.28,125.06,123.54,125.89,125.9,126.74,127.13,126.11,127.35,130.48,129.64,130.15,131.79,130.46,132.3,133.98,133.7,133.41,133.11,134.78,136.33,136.96,137.27,139.96,142.02,144.57,143.24,145.11,144.5,145.64,149.15,148.48,146.39,142.45,146.15,145.4,146.8,148.56,148.99,146.77,144.98,145.64,145.86,145.52,147.36,146.95,147.06,146.14,146.09,145.6,145.86,148.89,149.1,151.12,150.19,146.36,146.7,148.19,149.71,149.62,148.36,147.54,148.6,153.12,151.83,152.51,153.65,154.3,156.69,155.11,154.07,148.97,149.55,148.12,149.03,148.79,146.06,142.94,143.43,145.85,146.83,146.92,145.37,141.91,142.83,141.5,142.65,139.14,141.11,142.0,143.29,142.9,142.81,141.51,140.91,143.76,144.84,146.55,148.76,149.26,149.48,148.69,148.64,149.32,148.85,152.57,149.8,148.96,150.02,151.49,150.96,151.28,150.44,150.81,147.92,147.87,149.99,150.0,151.0,153.49,157.87,160.55,161.02,161.41,161.94,156.81,160.24,165.3,164.77,163.76,161.84,165.32,171.18,175.08,174.56,179.45,175.74,174.33,179.3,172.26,171.14,169.75,172.99,175.64,176.28,180.33,179.29,179.38,178.2,177.57,182.01,179.7,174.92,172.0,172.17,172.19,175.08,175.53,172.19,173.07,169.8,166.23,164.51,162.41,161.62,159.78,159.69,159.22,170.33,174.78,174.61,175.84,172.9,172.39,171.66,174.83,176.28,172.12,168.64,168.88,172.79,172.55,168.88,167.3,164.32,160.07,162.74,164.85,165.12,163.2,166.56,166.23,163.17,159.3,157.44,162.95,158.52,154.73,150.62,155.09,159.59,160.62,163.98,165.38,168.82,170.21,174.07,174.72,175.6,178.96,177.77,174.61,174.31,178.44,175.06,171.83,172.14,170.09,165.75,167.66,170.4,165.29,165.07,167.4,167.23,166.42,161.79,162.88,156.8,156.57,163.64,157.65,157.96,159.48,166.02,156.77,157.28,152.06,154.51,146.5,142.56,147.11,145.54,149.24,140.82,137.35,137.59,143.11,140.36,140.52,143.78,149.64,148.84,148.71,151.21,145.38,146.14,148.71,147.96,142.64,137.13,131.88,132.76,135.43,130.06,131.56,135.87,135.35,138.27,141.66,141.66,137.44,139.23,136.72,138.93,141.56,142.92,146.35,147.04,144.87,145.86,145.49,148.47,150.17,147.07,151.0,153.04,155.35,154.09,152.95,151.6,156.79,157.35,162.51,161.51,160.01,166.13,165.81,165.35,164.87,164.92,169.24,168.49,172.1,173.19,173.03,174.55,174.15,171.52,167.57,167.23,167.53,170.03,163.62,161.38,158.91,157.22,157.96,155.81,154.53,155.96,154.46,157.37,163.43,153.84,155.31,152.37,150.7,154.48,156.9,153.72,152.74,150.43,150.77,151.76,149.84,142.48,138.2,142.45,146.1,146.4,145.43,140.09,140.42,138.98,138.34,142.99,138.38,142.41,143.75,143.86,143.39,147.27,149.45,152.34,149.35,144.8,155.74,153.34,150.65,145.03,138.88,138.38,138.92,139.5,134.87,146.87,149.7,148.28,150.04,148.79,150.72,151.29,148.01,150.18,151.07,148.11,144.22,141.17,148.03,148.31,147.81,146.63,142.91,140.94,142.65,142.16,144.49,145.47,143.21,136.5,134.51,132.37,132.3,135.45,132.23,131.86,130.03,126.04,129.61,129.93],\"yaxis\":\"y\",\"type\":\"scatter\"},{\"hovertemplate\":\"\\u003cb\\u003eLOWESS trendline\\u003c\\u002fb\\u003e\\u003cbr\\u003e\\u003cbr\\u003eDate=%{x}\\u003cbr\\u003eClose=%{y} \\u003cb\\u003e(trend)\\u003c\\u002fb\\u003e\\u003cextra\\u003e\\u003c\\u002fextra\\u003e\",\"legendgroup\":\"\",\"line\":{\"color\":\"orange\"},\"marker\":{\"color\":\"#636efa\",\"symbol\":\"circle\"},\"mode\":\"lines\",\"name\":\"\",\"showlegend\":false,\"x\":[\"2020-01-02T00:00:00\",\"2020-01-03T00:00:00\",\"2020-01-06T00:00:00\",\"2020-01-07T00:00:00\",\"2020-01-08T00:00:00\",\"2020-01-09T00:00:00\",\"2020-01-10T00:00:00\",\"2020-01-13T00:00:00\",\"2020-01-14T00:00:00\",\"2020-01-15T00:00:00\",\"2020-01-16T00:00:00\",\"2020-01-17T00:00:00\",\"2020-01-21T00:00:00\",\"2020-01-22T00:00:00\",\"2020-01-23T00:00:00\",\"2020-01-24T00:00:00\",\"2020-01-27T00:00:00\",\"2020-01-28T00:00:00\",\"2020-01-29T00:00:00\",\"2020-01-30T00:00:00\",\"2020-01-31T00:00:00\",\"2020-02-03T00:00:00\",\"2020-02-04T00:00:00\",\"2020-02-05T00:00:00\",\"2020-02-06T00:00:00\",\"2020-02-07T00:00:00\",\"2020-02-10T00:00:00\",\"2020-02-11T00:00:00\",\"2020-02-12T00:00:00\",\"2020-02-13T00:00:00\",\"2020-02-14T00:00:00\",\"2020-02-18T00:00:00\",\"2020-02-19T00:00:00\",\"2020-02-20T00:00:00\",\"2020-02-21T00:00:00\",\"2020-02-24T00:00:00\",\"2020-02-25T00:00:00\",\"2020-02-26T00:00:00\",\"2020-02-27T00:00:00\",\"2020-02-28T00:00:00\",\"2020-03-02T00:00:00\",\"2020-03-03T00:00:00\",\"2020-03-04T00:00:00\",\"2020-03-05T00:00:00\",\"2020-03-06T00:00:00\",\"2020-03-09T00:00:00\",\"2020-03-10T00:00:00\",\"2020-03-11T00:00:00\",\"2020-03-12T00:00:00\",\"2020-03-13T00:00:00\",\"2020-03-16T00:00:00\",\"2020-03-17T00:00:00\",\"2020-03-18T00:00:00\",\"2020-03-19T00:00:00\",\"2020-03-20T00:00:00\",\"2020-03-23T00:00:00\",\"2020-03-24T00:00:00\",\"2020-03-25T00:00:00\",\"2020-03-26T00:00:00\",\"2020-03-27T00:00:00\",\"2020-03-30T00:00:00\",\"2020-03-31T00:00:00\",\"2020-04-01T00:00:00\",\"2020-04-02T00:00:00\",\"2020-04-03T00:00:00\",\"2020-04-06T00:00:00\",\"2020-04-07T00:00:00\",\"2020-04-08T00:00:00\",\"2020-04-09T00:00:00\",\"2020-04-13T00:00:00\",\"2020-04-14T00:00:00\",\"2020-04-15T00:00:00\",\"2020-04-16T00:00:00\",\"2020-04-17T00:00:00\",\"2020-04-20T00:00:00\",\"2020-04-21T00:00:00\",\"2020-04-22T00:00:00\",\"2020-04-23T00:00:00\",\"2020-04-24T00:00:00\",\"2020-04-27T00:00:00\",\"2020-04-28T00:00:00\",\"2020-04-29T00:00:00\",\"2020-04-30T00:00:00\",\"2020-05-01T00:00:00\",\"2020-05-04T00:00:00\",\"2020-05-05T00:00:00\",\"2020-05-06T00:00:00\",\"2020-05-07T00:00:00\",\"2020-05-08T00:00:00\",\"2020-05-11T00:00:00\",\"2020-05-12T00:00:00\",\"2020-05-13T00:00:00\",\"2020-05-14T00:00:00\",\"2020-05-15T00:00:00\",\"2020-05-18T00:00:00\",\"2020-05-19T00:00:00\",\"2020-05-20T00:00:00\",\"2020-05-21T00:00:00\",\"2020-05-22T00:00:00\",\"2020-05-26T00:00:00\",\"2020-05-27T00:00:00\",\"2020-05-28T00:00:00\",\"2020-05-29T00:00:00\",\"2020-06-01T00:00:00\",\"2020-06-02T00:00:00\",\"2020-06-03T00:00:00\",\"2020-06-04T00:00:00\",\"2020-06-05T00:00:00\",\"2020-06-08T00:00:00\",\"2020-06-09T00:00:00\",\"2020-06-10T00:00:00\",\"2020-06-11T00:00:00\",\"2020-06-12T00:00:00\",\"2020-06-15T00:00:00\",\"2020-06-16T00:00:00\",\"2020-06-17T00:00:00\",\"2020-06-18T00:00:00\",\"2020-06-19T00:00:00\",\"2020-06-22T00:00:00\",\"2020-06-23T00:00:00\",\"2020-06-24T00:00:00\",\"2020-06-25T00:00:00\",\"2020-06-26T00:00:00\",\"2020-06-29T00:00:00\",\"2020-06-30T00:00:00\",\"2020-07-01T00:00:00\",\"2020-07-02T00:00:00\",\"2020-07-06T00:00:00\",\"2020-07-07T00:00:00\",\"2020-07-08T00:00:00\",\"2020-07-09T00:00:00\",\"2020-07-10T00:00:00\",\"2020-07-13T00:00:00\",\"2020-07-14T00:00:00\",\"2020-07-15T00:00:00\",\"2020-07-16T00:00:00\",\"2020-07-17T00:00:00\",\"2020-07-20T00:00:00\",\"2020-07-21T00:00:00\",\"2020-07-22T00:00:00\",\"2020-07-23T00:00:00\",\"2020-07-24T00:00:00\",\"2020-07-27T00:00:00\",\"2020-07-28T00:00:00\",\"2020-07-29T00:00:00\",\"2020-07-30T00:00:00\",\"2020-07-31T00:00:00\",\"2020-08-03T00:00:00\",\"2020-08-04T00:00:00\",\"2020-08-05T00:00:00\",\"2020-08-06T00:00:00\",\"2020-08-07T00:00:00\",\"2020-08-10T00:00:00\",\"2020-08-11T00:00:00\",\"2020-08-12T00:00:00\",\"2020-08-13T00:00:00\",\"2020-08-14T00:00:00\",\"2020-08-17T00:00:00\",\"2020-08-18T00:00:00\",\"2020-08-19T00:00:00\",\"2020-08-20T00:00:00\",\"2020-08-21T00:00:00\",\"2020-08-24T00:00:00\",\"2020-08-25T00:00:00\",\"2020-08-26T00:00:00\",\"2020-08-27T00:00:00\",\"2020-08-28T00:00:00\",\"2020-08-31T00:00:00\",\"2020-09-01T00:00:00\",\"2020-09-02T00:00:00\",\"2020-09-03T00:00:00\",\"2020-09-04T00:00:00\",\"2020-09-08T00:00:00\",\"2020-09-09T00:00:00\",\"2020-09-10T00:00:00\",\"2020-09-11T00:00:00\",\"2020-09-14T00:00:00\",\"2020-09-15T00:00:00\",\"2020-09-16T00:00:00\",\"2020-09-17T00:00:00\",\"2020-09-18T00:00:00\",\"2020-09-21T00:00:00\",\"2020-09-22T00:00:00\",\"2020-09-23T00:00:00\",\"2020-09-24T00:00:00\",\"2020-09-25T00:00:00\",\"2020-09-28T00:00:00\",\"2020-09-29T00:00:00\",\"2020-09-30T00:00:00\",\"2020-10-01T00:00:00\",\"2020-10-02T00:00:00\",\"2020-10-05T00:00:00\",\"2020-10-06T00:00:00\",\"2020-10-07T00:00:00\",\"2020-10-08T00:00:00\",\"2020-10-09T00:00:00\",\"2020-10-12T00:00:00\",\"2020-10-13T00:00:00\",\"2020-10-14T00:00:00\",\"2020-10-15T00:00:00\",\"2020-10-16T00:00:00\",\"2020-10-19T00:00:00\",\"2020-10-20T00:00:00\",\"2020-10-21T00:00:00\",\"2020-10-22T00:00:00\",\"2020-10-23T00:00:00\",\"2020-10-26T00:00:00\",\"2020-10-27T00:00:00\",\"2020-10-28T00:00:00\",\"2020-10-29T00:00:00\",\"2020-10-30T00:00:00\",\"2020-11-02T00:00:00\",\"2020-11-03T00:00:00\",\"2020-11-04T00:00:00\",\"2020-11-05T00:00:00\",\"2020-11-06T00:00:00\",\"2020-11-09T00:00:00\",\"2020-11-10T00:00:00\",\"2020-11-11T00:00:00\",\"2020-11-12T00:00:00\",\"2020-11-13T00:00:00\",\"2020-11-16T00:00:00\",\"2020-11-17T00:00:00\",\"2020-11-18T00:00:00\",\"2020-11-19T00:00:00\",\"2020-11-20T00:00:00\",\"2020-11-23T00:00:00\",\"2020-11-24T00:00:00\",\"2020-11-25T00:00:00\",\"2020-11-27T00:00:00\",\"2020-11-30T00:00:00\",\"2020-12-01T00:00:00\",\"2020-12-02T00:00:00\",\"2020-12-03T00:00:00\",\"2020-12-04T00:00:00\",\"2020-12-07T00:00:00\",\"2020-12-08T00:00:00\",\"2020-12-09T00:00:00\",\"2020-12-10T00:00:00\",\"2020-12-11T00:00:00\",\"2020-12-14T00:00:00\",\"2020-12-15T00:00:00\",\"2020-12-16T00:00:00\",\"2020-12-17T00:00:00\",\"2020-12-18T00:00:00\",\"2020-12-21T00:00:00\",\"2020-12-22T00:00:00\",\"2020-12-23T00:00:00\",\"2020-12-24T00:00:00\",\"2020-12-28T00:00:00\",\"2020-12-29T00:00:00\",\"2020-12-30T00:00:00\",\"2020-12-31T00:00:00\",\"2021-01-04T00:00:00\",\"2021-01-05T00:00:00\",\"2021-01-06T00:00:00\",\"2021-01-07T00:00:00\",\"2021-01-08T00:00:00\",\"2021-01-11T00:00:00\",\"2021-01-12T00:00:00\",\"2021-01-13T00:00:00\",\"2021-01-14T00:00:00\",\"2021-01-15T00:00:00\",\"2021-01-19T00:00:00\",\"2021-01-20T00:00:00\",\"2021-01-21T00:00:00\",\"2021-01-22T00:00:00\",\"2021-01-25T00:00:00\",\"2021-01-26T00:00:00\",\"2021-01-27T00:00:00\",\"2021-01-28T00:00:00\",\"2021-01-29T00:00:00\",\"2021-02-01T00:00:00\",\"2021-02-02T00:00:00\",\"2021-02-03T00:00:00\",\"2021-02-04T00:00:00\",\"2021-02-05T00:00:00\",\"2021-02-08T00:00:00\",\"2021-02-09T00:00:00\",\"2021-02-10T00:00:00\",\"2021-02-11T00:00:00\",\"2021-02-12T00:00:00\",\"2021-02-16T00:00:00\",\"2021-02-17T00:00:00\",\"2021-02-18T00:00:00\",\"2021-02-19T00:00:00\",\"2021-02-22T00:00:00\",\"2021-02-23T00:00:00\",\"2021-02-24T00:00:00\",\"2021-02-25T00:00:00\",\"2021-02-26T00:00:00\",\"2021-03-01T00:00:00\",\"2021-03-02T00:00:00\",\"2021-03-03T00:00:00\",\"2021-03-04T00:00:00\",\"2021-03-05T00:00:00\",\"2021-03-08T00:00:00\",\"2021-03-09T00:00:00\",\"2021-03-10T00:00:00\",\"2021-03-11T00:00:00\",\"2021-03-12T00:00:00\",\"2021-03-15T00:00:00\",\"2021-03-16T00:00:00\",\"2021-03-17T00:00:00\",\"2021-03-18T00:00:00\",\"2021-03-19T00:00:00\",\"2021-03-22T00:00:00\",\"2021-03-23T00:00:00\",\"2021-03-24T00:00:00\",\"2021-03-25T00:00:00\",\"2021-03-26T00:00:00\",\"2021-03-29T00:00:00\",\"2021-03-30T00:00:00\",\"2021-03-31T00:00:00\",\"2021-04-01T00:00:00\",\"2021-04-05T00:00:00\",\"2021-04-06T00:00:00\",\"2021-04-07T00:00:00\",\"2021-04-08T00:00:00\",\"2021-04-09T00:00:00\",\"2021-04-12T00:00:00\",\"2021-04-13T00:00:00\",\"2021-04-14T00:00:00\",\"2021-04-15T00:00:00\",\"2021-04-16T00:00:00\",\"2021-04-19T00:00:00\",\"2021-04-20T00:00:00\",\"2021-04-21T00:00:00\",\"2021-04-22T00:00:00\",\"2021-04-23T00:00:00\",\"2021-04-26T00:00:00\",\"2021-04-27T00:00:00\",\"2021-04-28T00:00:00\",\"2021-04-29T00:00:00\",\"2021-04-30T00:00:00\",\"2021-05-03T00:00:00\",\"2021-05-04T00:00:00\",\"2021-05-05T00:00:00\",\"2021-05-06T00:00:00\",\"2021-05-07T00:00:00\",\"2021-05-10T00:00:00\",\"2021-05-11T00:00:00\",\"2021-05-12T00:00:00\",\"2021-05-13T00:00:00\",\"2021-05-14T00:00:00\",\"2021-05-17T00:00:00\",\"2021-05-18T00:00:00\",\"2021-05-19T00:00:00\",\"2021-05-20T00:00:00\",\"2021-05-21T00:00:00\",\"2021-05-24T00:00:00\",\"2021-05-25T00:00:00\",\"2021-05-26T00:00:00\",\"2021-05-27T00:00:00\",\"2021-05-28T00:00:00\",\"2021-06-01T00:00:00\",\"2021-06-02T00:00:00\",\"2021-06-03T00:00:00\",\"2021-06-04T00:00:00\",\"2021-06-07T00:00:00\",\"2021-06-08T00:00:00\",\"2021-06-09T00:00:00\",\"2021-06-10T00:00:00\",\"2021-06-11T00:00:00\",\"2021-06-14T00:00:00\",\"2021-06-15T00:00:00\",\"2021-06-16T00:00:00\",\"2021-06-17T00:00:00\",\"2021-06-18T00:00:00\",\"2021-06-21T00:00:00\",\"2021-06-22T00:00:00\",\"2021-06-23T00:00:00\",\"2021-06-24T00:00:00\",\"2021-06-25T00:00:00\",\"2021-06-28T00:00:00\",\"2021-06-29T00:00:00\",\"2021-06-30T00:00:00\",\"2021-07-01T00:00:00\",\"2021-07-02T00:00:00\",\"2021-07-06T00:00:00\",\"2021-07-07T00:00:00\",\"2021-07-08T00:00:00\",\"2021-07-09T00:00:00\",\"2021-07-12T00:00:00\",\"2021-07-13T00:00:00\",\"2021-07-14T00:00:00\",\"2021-07-15T00:00:00\",\"2021-07-16T00:00:00\",\"2021-07-19T00:00:00\",\"2021-07-20T00:00:00\",\"2021-07-21T00:00:00\",\"2021-07-22T00:00:00\",\"2021-07-23T00:00:00\",\"2021-07-26T00:00:00\",\"2021-07-27T00:00:00\",\"2021-07-28T00:00:00\",\"2021-07-29T00:00:00\",\"2021-07-30T00:00:00\",\"2021-08-02T00:00:00\",\"2021-08-03T00:00:00\",\"2021-08-04T00:00:00\",\"2021-08-05T00:00:00\",\"2021-08-06T00:00:00\",\"2021-08-09T00:00:00\",\"2021-08-10T00:00:00\",\"2021-08-11T00:00:00\",\"2021-08-12T00:00:00\",\"2021-08-13T00:00:00\",\"2021-08-16T00:00:00\",\"2021-08-17T00:00:00\",\"2021-08-18T00:00:00\",\"2021-08-19T00:00:00\",\"2021-08-20T00:00:00\",\"2021-08-23T00:00:00\",\"2021-08-24T00:00:00\",\"2021-08-25T00:00:00\",\"2021-08-26T00:00:00\",\"2021-08-27T00:00:00\",\"2021-08-30T00:00:00\",\"2021-08-31T00:00:00\",\"2021-09-01T00:00:00\",\"2021-09-02T00:00:00\",\"2021-09-03T00:00:00\",\"2021-09-07T00:00:00\",\"2021-09-08T00:00:00\",\"2021-09-09T00:00:00\",\"2021-09-10T00:00:00\",\"2021-09-13T00:00:00\",\"2021-09-14T00:00:00\",\"2021-09-15T00:00:00\",\"2021-09-16T00:00:00\",\"2021-09-17T00:00:00\",\"2021-09-20T00:00:00\",\"2021-09-21T00:00:00\",\"2021-09-22T00:00:00\",\"2021-09-23T00:00:00\",\"2021-09-24T00:00:00\",\"2021-09-27T00:00:00\",\"2021-09-28T00:00:00\",\"2021-09-29T00:00:00\",\"2021-09-30T00:00:00\",\"2021-10-01T00:00:00\",\"2021-10-04T00:00:00\",\"2021-10-05T00:00:00\",\"2021-10-06T00:00:00\",\"2021-10-07T00:00:00\",\"2021-10-08T00:00:00\",\"2021-10-11T00:00:00\",\"2021-10-12T00:00:00\",\"2021-10-13T00:00:00\",\"2021-10-14T00:00:00\",\"2021-10-15T00:00:00\",\"2021-10-18T00:00:00\",\"2021-10-19T00:00:00\",\"2021-10-20T00:00:00\",\"2021-10-21T00:00:00\",\"2021-10-22T00:00:00\",\"2021-10-25T00:00:00\",\"2021-10-26T00:00:00\",\"2021-10-27T00:00:00\",\"2021-10-28T00:00:00\",\"2021-10-29T00:00:00\",\"2021-11-01T00:00:00\",\"2021-11-02T00:00:00\",\"2021-11-03T00:00:00\",\"2021-11-04T00:00:00\",\"2021-11-05T00:00:00\",\"2021-11-08T00:00:00\",\"2021-11-09T00:00:00\",\"2021-11-10T00:00:00\",\"2021-11-11T00:00:00\",\"2021-11-12T00:00:00\",\"2021-11-15T00:00:00\",\"2021-11-16T00:00:00\",\"2021-11-17T00:00:00\",\"2021-11-18T00:00:00\",\"2021-11-19T00:00:00\",\"2021-11-22T00:00:00\",\"2021-11-23T00:00:00\",\"2021-11-24T00:00:00\",\"2021-11-26T00:00:00\",\"2021-11-29T00:00:00\",\"2021-11-30T00:00:00\",\"2021-12-01T00:00:00\",\"2021-12-02T00:00:00\",\"2021-12-03T00:00:00\",\"2021-12-06T00:00:00\",\"2021-12-07T00:00:00\",\"2021-12-08T00:00:00\",\"2021-12-09T00:00:00\",\"2021-12-10T00:00:00\",\"2021-12-13T00:00:00\",\"2021-12-14T00:00:00\",\"2021-12-15T00:00:00\",\"2021-12-16T00:00:00\",\"2021-12-17T00:00:00\",\"2021-12-20T00:00:00\",\"2021-12-21T00:00:00\",\"2021-12-22T00:00:00\",\"2021-12-23T00:00:00\",\"2021-12-27T00:00:00\",\"2021-12-28T00:00:00\",\"2021-12-29T00:00:00\",\"2021-12-30T00:00:00\",\"2021-12-31T00:00:00\",\"2022-01-03T00:00:00\",\"2022-01-04T00:00:00\",\"2022-01-05T00:00:00\",\"2022-01-06T00:00:00\",\"2022-01-07T00:00:00\",\"2022-01-10T00:00:00\",\"2022-01-11T00:00:00\",\"2022-01-12T00:00:00\",\"2022-01-13T00:00:00\",\"2022-01-14T00:00:00\",\"2022-01-18T00:00:00\",\"2022-01-19T00:00:00\",\"2022-01-20T00:00:00\",\"2022-01-21T00:00:00\",\"2022-01-24T00:00:00\",\"2022-01-25T00:00:00\",\"2022-01-26T00:00:00\",\"2022-01-27T00:00:00\",\"2022-01-28T00:00:00\",\"2022-01-31T00:00:00\",\"2022-02-01T00:00:00\",\"2022-02-02T00:00:00\",\"2022-02-03T00:00:00\",\"2022-02-04T00:00:00\",\"2022-02-07T00:00:00\",\"2022-02-08T00:00:00\",\"2022-02-09T00:00:00\",\"2022-02-10T00:00:00\",\"2022-02-11T00:00:00\",\"2022-02-14T00:00:00\",\"2022-02-15T00:00:00\",\"2022-02-16T00:00:00\",\"2022-02-17T00:00:00\",\"2022-02-18T00:00:00\",\"2022-02-22T00:00:00\",\"2022-02-23T00:00:00\",\"2022-02-24T00:00:00\",\"2022-02-25T00:00:00\",\"2022-02-28T00:00:00\",\"2022-03-01T00:00:00\",\"2022-03-02T00:00:00\",\"2022-03-03T00:00:00\",\"2022-03-04T00:00:00\",\"2022-03-07T00:00:00\",\"2022-03-08T00:00:00\",\"2022-03-09T00:00:00\",\"2022-03-10T00:00:00\",\"2022-03-11T00:00:00\",\"2022-03-14T00:00:00\",\"2022-03-15T00:00:00\",\"2022-03-16T00:00:00\",\"2022-03-17T00:00:00\",\"2022-03-18T00:00:00\",\"2022-03-21T00:00:00\",\"2022-03-22T00:00:00\",\"2022-03-23T00:00:00\",\"2022-03-24T00:00:00\",\"2022-03-25T00:00:00\",\"2022-03-28T00:00:00\",\"2022-03-29T00:00:00\",\"2022-03-30T00:00:00\",\"2022-03-31T00:00:00\",\"2022-04-01T00:00:00\",\"2022-04-04T00:00:00\",\"2022-04-05T00:00:00\",\"2022-04-06T00:00:00\",\"2022-04-07T00:00:00\",\"2022-04-08T00:00:00\",\"2022-04-11T00:00:00\",\"2022-04-12T00:00:00\",\"2022-04-13T00:00:00\",\"2022-04-14T00:00:00\",\"2022-04-18T00:00:00\",\"2022-04-19T00:00:00\",\"2022-04-20T00:00:00\",\"2022-04-21T00:00:00\",\"2022-04-22T00:00:00\",\"2022-04-25T00:00:00\",\"2022-04-26T00:00:00\",\"2022-04-27T00:00:00\",\"2022-04-28T00:00:00\",\"2022-04-29T00:00:00\",\"2022-05-02T00:00:00\",\"2022-05-03T00:00:00\",\"2022-05-04T00:00:00\",\"2022-05-05T00:00:00\",\"2022-05-06T00:00:00\",\"2022-05-09T00:00:00\",\"2022-05-10T00:00:00\",\"2022-05-11T00:00:00\",\"2022-05-12T00:00:00\",\"2022-05-13T00:00:00\",\"2022-05-16T00:00:00\",\"2022-05-17T00:00:00\",\"2022-05-18T00:00:00\",\"2022-05-19T00:00:00\",\"2022-05-20T00:00:00\",\"2022-05-23T00:00:00\",\"2022-05-24T00:00:00\",\"2022-05-25T00:00:00\",\"2022-05-26T00:00:00\",\"2022-05-27T00:00:00\",\"2022-05-31T00:00:00\",\"2022-06-01T00:00:00\",\"2022-06-02T00:00:00\",\"2022-06-03T00:00:00\",\"2022-06-06T00:00:00\",\"2022-06-07T00:00:00\",\"2022-06-08T00:00:00\",\"2022-06-09T00:00:00\",\"2022-06-10T00:00:00\",\"2022-06-13T00:00:00\",\"2022-06-14T00:00:00\",\"2022-06-15T00:00:00\",\"2022-06-16T00:00:00\",\"2022-06-17T00:00:00\",\"2022-06-21T00:00:00\",\"2022-06-22T00:00:00\",\"2022-06-23T00:00:00\",\"2022-06-24T00:00:00\",\"2022-06-27T00:00:00\",\"2022-06-28T00:00:00\",\"2022-06-29T00:00:00\",\"2022-06-30T00:00:00\",\"2022-07-01T00:00:00\",\"2022-07-05T00:00:00\",\"2022-07-06T00:00:00\",\"2022-07-07T00:00:00\",\"2022-07-08T00:00:00\",\"2022-07-11T00:00:00\",\"2022-07-12T00:00:00\",\"2022-07-13T00:00:00\",\"2022-07-14T00:00:00\",\"2022-07-15T00:00:00\",\"2022-07-18T00:00:00\",\"2022-07-19T00:00:00\",\"2022-07-20T00:00:00\",\"2022-07-21T00:00:00\",\"2022-07-22T00:00:00\",\"2022-07-25T00:00:00\",\"2022-07-26T00:00:00\",\"2022-07-27T00:00:00\",\"2022-07-28T00:00:00\",\"2022-07-29T00:00:00\",\"2022-08-01T00:00:00\",\"2022-08-02T00:00:00\",\"2022-08-03T00:00:00\",\"2022-08-04T00:00:00\",\"2022-08-05T00:00:00\",\"2022-08-08T00:00:00\",\"2022-08-09T00:00:00\",\"2022-08-10T00:00:00\",\"2022-08-11T00:00:00\",\"2022-08-12T00:00:00\",\"2022-08-15T00:00:00\",\"2022-08-16T00:00:00\",\"2022-08-17T00:00:00\",\"2022-08-18T00:00:00\",\"2022-08-19T00:00:00\",\"2022-08-22T00:00:00\",\"2022-08-23T00:00:00\",\"2022-08-24T00:00:00\",\"2022-08-25T00:00:00\",\"2022-08-26T00:00:00\",\"2022-08-29T00:00:00\",\"2022-08-30T00:00:00\",\"2022-08-31T00:00:00\",\"2022-09-01T00:00:00\",\"2022-09-02T00:00:00\",\"2022-09-06T00:00:00\",\"2022-09-07T00:00:00\",\"2022-09-08T00:00:00\",\"2022-09-09T00:00:00\",\"2022-09-12T00:00:00\",\"2022-09-13T00:00:00\",\"2022-09-14T00:00:00\",\"2022-09-15T00:00:00\",\"2022-09-16T00:00:00\",\"2022-09-19T00:00:00\",\"2022-09-20T00:00:00\",\"2022-09-21T00:00:00\",\"2022-09-22T00:00:00\",\"2022-09-23T00:00:00\",\"2022-09-26T00:00:00\",\"2022-09-27T00:00:00\",\"2022-09-28T00:00:00\",\"2022-09-29T00:00:00\",\"2022-09-30T00:00:00\",\"2022-10-03T00:00:00\",\"2022-10-04T00:00:00\",\"2022-10-05T00:00:00\",\"2022-10-06T00:00:00\",\"2022-10-07T00:00:00\",\"2022-10-10T00:00:00\",\"2022-10-11T00:00:00\",\"2022-10-12T00:00:00\",\"2022-10-13T00:00:00\",\"2022-10-14T00:00:00\",\"2022-10-17T00:00:00\",\"2022-10-18T00:00:00\",\"2022-10-19T00:00:00\",\"2022-10-20T00:00:00\",\"2022-10-21T00:00:00\",\"2022-10-24T00:00:00\",\"2022-10-25T00:00:00\",\"2022-10-26T00:00:00\",\"2022-10-27T00:00:00\",\"2022-10-28T00:00:00\",\"2022-10-31T00:00:00\",\"2022-11-01T00:00:00\",\"2022-11-02T00:00:00\",\"2022-11-03T00:00:00\",\"2022-11-04T00:00:00\",\"2022-11-07T00:00:00\",\"2022-11-08T00:00:00\",\"2022-11-09T00:00:00\",\"2022-11-10T00:00:00\",\"2022-11-11T00:00:00\",\"2022-11-14T00:00:00\",\"2022-11-15T00:00:00\",\"2022-11-16T00:00:00\",\"2022-11-17T00:00:00\",\"2022-11-18T00:00:00\",\"2022-11-21T00:00:00\",\"2022-11-22T00:00:00\",\"2022-11-23T00:00:00\",\"2022-11-25T00:00:00\",\"2022-11-28T00:00:00\",\"2022-11-29T00:00:00\",\"2022-11-30T00:00:00\",\"2022-12-01T00:00:00\",\"2022-12-02T00:00:00\",\"2022-12-05T00:00:00\",\"2022-12-06T00:00:00\",\"2022-12-07T00:00:00\",\"2022-12-08T00:00:00\",\"2022-12-09T00:00:00\",\"2022-12-12T00:00:00\",\"2022-12-13T00:00:00\",\"2022-12-14T00:00:00\",\"2022-12-15T00:00:00\",\"2022-12-16T00:00:00\",\"2022-12-19T00:00:00\",\"2022-12-20T00:00:00\",\"2022-12-21T00:00:00\",\"2022-12-22T00:00:00\",\"2022-12-23T00:00:00\",\"2022-12-27T00:00:00\",\"2022-12-28T00:00:00\",\"2022-12-29T00:00:00\",\"2022-12-30T00:00:00\"],\"xaxis\":\"x\",\"y\":[67.20728308144162,67.35843450307596,67.81175872991503,67.96282274651094,68.11386436458929,68.26488335005662,68.41587945841907,68.86872792251354,69.01962989450465,69.17050764510257,69.32136088026192,69.47218929482038,70.07524828951217,70.22594771476304,70.37662033116267,70.52726578202187,70.97903541790564,71.12956845435912,71.28007242247938,71.43054692026203,71.58099153412579,72.03214179358393,72.1824625696595,72.33275128807838,72.48300749506683,72.6332307266267,73.08369778807125,73.23378431092407,73.38383542908227,73.53385063629065,73.68382941638681,74.28336964818598,74.43315829241673,74.58290728137375,74.7326160580704,75.18149544613348,75.33103768817644,75.48053686271969,75.62999239590889,75.77940371547395,76.22736673371982,76.37659554645738,76.52577732102074,76.6749114938602,76.82399750167183,77.27096092636847,77.4198486682327,77.56868544930309,77.7174707210124,77.86620394196521,78.31208600774013,78.46060574648467,78.60907081206913,78.75748070082224,78.90583492064768,79.35055880796288,79.49868561769907,79.64675441549537,79.79476475627993,79.9427162070696,80.38621304903366,80.53392479457001,80.6815756025519,80.82916508739987,80.97669287621846,81.41890251095843,81.56617998809983,81.71339403267568,81.86054432196549,82.4485018228563,82.59532879343612,82.74209021952498,82.8887858252627,83.0354153450384,83.47490487567902,83.6212675650196,83.76756295269716,83.91379082111735,84.05995096525773,84.49802317118416,84.64391056783536,84.78972934573025,84.93547935237734,85.08116044736445,85.51778901858107,85.6631932551848,85.80852800615874,85.95379318228164,86.09898870551707,86.53415672533372,86.67907303392468,86.82391941716166,86.96869584344938,87.11340229229037,87.54710172712426,87.69152825363992,87.83588483041193,87.98017148865982,88.12438827042226,88.700557819566,88.84442616419885,88.9882250556386,89.1319545947293,89.56272828059339,89.70618163393793,89.84956628763899,89.9928824021029,90.13613015036304,90.56546510694871,90.70844134170491,90.85135022788994,90.99419199674581,91.13696688896475,91.56489288101527,91.70740288683913,91.84984737060104,91.9922266321282,92.13454098188436,92.5610978259479,92.7031558402892,92.84515064376603,92.98708260412144,93.12895209935749,93.55418973435167,93.69581336002523,93.83737656653466,93.97887979507342,94.54430215609315,94.68551250645956,94.82666575635062,94.96776242293112,95.10880303372004,95.5315939587875,95.67241582768237,95.8131844363786,95.95390037680055,96.0945642512428,96.51624967612223,96.65671154546965,96.7971245393666,96.93748933274044,97.0778066142273,97.49848052599363,97.63861497828023,97.77870560745183,97.91875320232715,98.05875856995226,98.4785296037678,98.61837442570194,98.7581812687884,98.89795101558929,99.03768455609732,99.45667695631795,99.59627475498093,99.73584095684814,99.87537651911495,100.01488240712835,100.43323180788589,100.5726288532185,100.71200122489697,100.85134995970475,100.99067610284615,101.40852957332906,101.54777601898927,101.6870052870504,101.8262184997459,101.96541678860827,102.38293358751012,102.52208374359608,102.6612248473207,102.80035812225113,102.93948480510906,103.49595084141475,103.6350636736624,103.77417771723348,103.9132943456798,104.33067377398918,104.46981490335247,104.60896582597975,104.7481280538035,104.88730312212569,105.30492114218033,105.4441635058004,105.58342683790892,105.72271285799175,105.86202331935687,106.28011939394125,106.41954584322143,106.55900602531813,106.69850190174608,106.83803546583802,107.25688273110741,107.3965876969352,107.53634088141423,107.67614451113198,107.81600085177864,108.23590940025066,108.37600007235673,108.51615542390847,108.65637797349828,108.7966702781039,109.21799191035849,109.35858966877795,109.49927065019585,109.64003769473953,109.78089368933954,110.20402498576311,110.34526666319343,110.4866125029567,110.62806570487311,110.76962952221706,111.19501800033633,111.33705789096295,111.47922547917715,111.62152434324342,111.76395810490489,112.1921055243215,112.3351158031155,112.47827961108383,112.62160075690508,112.76508305918775,113.19653510422899,113.34070020697465,113.48504549660903,113.62957470363352,113.77429150615455,114.20960321362111,114.35510568809495,114.50081291238908,114.79285373585651,115.2325214657812,115.37951498955626,115.52673035189916,115.67416886720628,115.82183145969752,116.26616629496431,116.41472531555026,116.56350583983877,116.71250560020812,116.86172162988284,117.31062611734185,117.46066182668126,117.61088674598831,117.76129265194687,117.91187025719206,118.36452356463757,118.51567245495895,118.666929383203,118.81827798143911,119.42421885393527,119.57573801868547,119.7272259917496,119.85895746578237,120.38439645773033,120.51537096153606,120.64618591683643,120.77683858835576,120.90732624840751,121.29777196592593,121.42757236081525,121.5571941448228,121.68663465586368,121.81589126317452,122.33102721154347,122.45932591359794,122.5874255167242,122.71532356343917,123.09778368457532,123.22485091329185,123.35170435411229,123.47834152007779,123.60475989661386,123.98267730107005,124.1081958946907,124.23348379038268,124.35853886820189,124.4833591153671,124.85639226785094,124.98025513031256,125.10387468861703,125.2272495801584,125.35037856779046,125.85367814030991,125.97533899480946,126.09674732131568,126.21790294261677,126.57985409243757,126.68834384138188,126.80847373684385,126.92835359744662,127.04798366180005,127.40537698826884,127.52401026663487,127.64239549683214,127.76053322974944,127.87842405229519,128.230621406216,128.3475315177723,128.4641986988999,128.58062380952276,128.69680764037608,129.04391799439614,129.15914359771912,129.2741316658937,129.3888828303277,129.50339760582446,129.84552813188907,129.9591025114239,130.07244374969025,130.18555273782846,130.29843037778616,130.6356848867063,130.74764755251303,130.8593848321494,130.97089822854554,131.41474418871613,131.52516234814493,131.63536707794756,131.74536040148,131.85647423180862,132.18399013886204,132.2927624100362,132.40133918136556,132.5097229562434,132.6179161708102,132.94197746329306,133.04961483724333,133.15707225460713,133.26435227013195,133.3714573478006,133.69174629883807,133.79817523778198,133.9044413052598,134.01054675086883,134.11649361197152,134.43340107549164,134.53873213942333,134.64391404264228,134.74894851443088,134.85383716251337,135.16764194568108,135.27196121197773,135.37614170230256,135.4801845485079,135.5840905745359,135.89499178278143,135.99835448905847,136.10158227665664,136.20467512784714,136.3076326974554,136.61077822609516,136.71314906623613,136.81538729286305,136.91749206427704,137.01946219685786,137.43099085593977,137.5322486744994,137.6333557937102,137.73431034972907,138.03623691791356,138.13655964227374,138.23671916143817,138.3367131016827,138.43653886011558,138.73497764398607,138.83410145279655,138.9330426776202,139.03179821066618,139.13036469796222,139.42489381324268,139.5226684970157,139.62023707504898,139.71759630303038,139.81474269431772,140.1048671438382,140.20112484128651,140.29715138802072,140.3929429424554,140.48849541656008,140.86822915980255,140.96252378381163,141.05655541052403,141.15032005153154,141.42997016175912,141.522625566514,141.61499391420074,141.70707114533045,141.79885301342875,142.07238230715453,142.1629393129924,142.25317996139205,142.3431001269728,142.43269557130094,142.69949003477927,142.78774378705833,142.87565211916592,142.9632109210585,143.05041597649515,143.30986689833617,143.39561640986432,143.48099311295312,143.56599375539147,143.65061526459624,143.90217752071698,143.98525638007527,144.0679443675142,144.1502397888198,144.23214116580886,144.47546995420745,144.55578548611305,144.63570352900715,144.71522419039798,144.7943478452704,145.02934446020186,145.10688900390295,145.1840421299331,145.26080552917824,145.33718105757546,145.5640014600411,145.63884740273798,145.71331717888953,145.7874133505811,145.86113843429314,146.15237817426254,146.2242867566926,146.29584068611626,146.3670427643328,146.57856442485715,146.64838608222044,146.71786992113542,146.78701882891224,146.85583553186441,147.06031705442084,147.1278297506725,147.19502289386568,147.26189893266704,147.32846011067375,147.52627432414002,147.59159617308813,147.6566135069521,147.72132828243002,147.7857422748914,147.97719461179358,148.0404207713513,148.10335405836267,148.16599586977168,148.22834739429246,148.41366979086416,148.47487013218688,148.535785624697,148.59641731658445,148.65676609683152,148.8361222613549,148.89534727629476,148.95429386211043,149.0129628596448,149.0713549233114,149.24487416564565,149.30216380674997,149.35917984631197,149.4159230488459,149.4723940090371,149.6401777012186,149.6955646870277,149.75068260008126,149.8055320636509,149.86011348835027,150.02225142270726,150.0757631268391,150.12900850157834,150.1819877598734,150.2347009255279,150.3912428677753,150.4428914109765,150.49427445535505,150.5453922137604,150.59624475586617,150.747210459237,150.7970021385646,150.8465291228446,150.94478888363847,151.09019271751401,151.13813174088887,151.1858067283726,151.2332176302262,151.280364199928,151.42021343645888,151.46629861507364,151.5121178089436,151.557670515087,151.60295595594926,151.7371978179228,151.78140356412362,151.8253369545132,151.86899677760246,151.91238161241242,152.04086922039758,152.08313737761603,152.12512242397324,152.1668225441844,152.33073118996236,152.37097481715148,152.41092145787405,152.45056937179803,152.48991666046047,152.60613386288946,152.61257931693854,152.61864563837352,152.62434005060888,152.6296720998912,152.64361541566998,152.64762552813693,152.65134213487676,152.65478108148153,152.6579583537117,152.6683668413302,152.67047043088488,152.6724037846229,152.67418054983588,152.6786985681302,152.6799730810862,152.6811498745097,152.68223878975678,152.68324902790093,152.68589033960924,152.6866655640669,152.68739906177828,152.6880965388807,152.68876318494637,152.69062284567332,152.69120871736897,152.69178295763885,152.6923482250343,152.69290682979621,152.69456104762742,152.69511001052769,152.69565951070996,152.69621025178938,152.69676272427586,152.6989933385186,152.69955572486322,152.7001193783578,152.70068378231986,152.70237485454376,152.70293522293804,152.7034924561042,152.7040455719599,152.7045935297051,152.70619533204214,152.70671137992403,152.7072164975933,152.7077094621036,152.7081890311554,152.7095348035885,152.70994822806685,152.71034198855452,152.71071484476067,152.7110655573669,152.71197246301207,152.71222227217118,152.71244381704776,152.71263589041968,152.71279728622306,152.7130854091904,152.71311216482607,152.71310234934785,152.71305481730457,152.71296843002673,152.71246487925163,152.71221189930046,152.71191456519517,152.711571817943,152.71118260665656,152.7097258322634,152.70914049898136,152.70850366052613,152.70781435333728,152.7045135875419,152.70354797100447,152.70252443514056,152.70144212537627,152.70030019571152,152.6965083945113,152.6951197787351,152.6936675255081,152.69215087915262,152.6905690986501,152.68542572555972,152.6835762642896,152.68165817832656,152.6796708113097,152.6776135145197,152.67101574458056,152.66867250290161,152.66625629688556,152.6637665670689,152.66120277471575,152.65306195927957,152.65019693655788,152.64725544280782,152.64423704725996,152.64114134102422,152.63138660454996,152.6279779816151,152.62449028665594,152.6209232178665,152.61727649280328,152.6018878673704,152.59783907003725,152.59370916346285,152.58949793911523,152.57637442385243,152.57183603826127,152.56721543444235,152.56251246073234,152.55772697611957,152.54287425037023,152.53775756500096,152.53255784024083,152.52727500908063,152.52190902076018,152.4996129653685,152.49383085536698,152.48796550215704,152.4820169253043,152.46367222330184,152.4573911525417,152.4510270883891,152.44458010238876,152.43805027816038,152.41110462864654,152.40416217226505,152.39713752857563,152.39003082557167,152.36821972193636,152.36078615538435,152.35327123010978,152.3456750988717,152.3379979200574,152.31448172577296,152.30648198887621,152.2984020267584,152.2902420084185,152.28200210198406,152.25680470247102,152.2482468870486,152.23961000158494,152.23089420787534,152.22209966403344,152.19524503123412,152.1861369685934,152.17695087917392,152.16768689198761,152.15834512618906,152.1298542105119,152.12020236255935,152.11047323142037,152.10066689662636,152.09078342672922,152.06067074044762,152.05047924109712,152.04021083902356,152.02986555828815,152.01944341154402,151.98771575146318,151.9769860957708,151.96617953144963,151.95529603033685,151.9443355541465,151.910991760174,151.8997228543714,151.88837669659233,151.87695322094763,151.86545235788515,151.81867355135043,151.80678464308582,151.7948179067892,151.78277326749586,151.74617115513738,151.73381412305952,151.72137878998248,151.70886506925837,151.69627287300955,151.65802456574198,151.6451176095116,151.6321317527573,151.61906690805702,151.60592298691037,151.56601589188966,151.5525547997093,151.53901420587954,151.52539402980233,151.51169419437346,151.47011608832747,151.45609699891793,151.44199796625594,151.4278189502185,151.41355991639608,151.3703024698532,151.35572314966007,151.34106372785857,151.32632420970424,151.31150461129056,151.26656562648338,151.25142602266322,151.23620651784304,151.22090716456643,151.2055280226855,151.158912548731,151.14321494505134,151.12743790519946,151.11158150127716,151.09564580739058,151.04736375204774,151.03111165746301,151.01478064630803,150.99837079138055,150.98188217130604,150.9319446426605,150.91514190718814,150.89826090149862,150.88130174550713,150.86426456991856,150.8126862821725,150.795338385403,150.77791314881307,150.76041070995902,150.74283120719832,150.68963168883877,150.67174529944887,150.65378252891884,150.61762839029734,150.56282772129254,150.5444095185464,150.5259158908329,150.5073469862878,150.48870295586553,150.43232163852264,150.41337863487453,150.39436127329935,150.37526971627003,150.35610413416933,150.2981650393298,150.27870517061044,150.25917219318237,150.23956629905075,150.2198876870806,150.16041768347006,150.14045036247654,150.12041142863833,150.10030112801934,150.0801197192816,149.99868855343792,149.97815579299515,149.95755362137805,149.93688234606196],\"yaxis\":\"y\",\"type\":\"scatter\"}],                        {\"template\":{\"data\":{\"barpolar\":[{\"marker\":{\"line\":{\"color\":\"rgb(17,17,17)\",\"width\":0.5},\"pattern\":{\"fillmode\":\"overlay\",\"size\":10,\"solidity\":0.2}},\"type\":\"barpolar\"}],\"bar\":[{\"error_x\":{\"color\":\"#f2f5fa\"},\"error_y\":{\"color\":\"#f2f5fa\"},\"marker\":{\"line\":{\"color\":\"rgb(17,17,17)\",\"width\":0.5},\"pattern\":{\"fillmode\":\"overlay\",\"size\":10,\"solidity\":0.2}},\"type\":\"bar\"}],\"carpet\":[{\"aaxis\":{\"endlinecolor\":\"#A2B1C6\",\"gridcolor\":\"#506784\",\"linecolor\":\"#506784\",\"minorgridcolor\":\"#506784\",\"startlinecolor\":\"#A2B1C6\"},\"baxis\":{\"endlinecolor\":\"#A2B1C6\",\"gridcolor\":\"#506784\",\"linecolor\":\"#506784\",\"minorgridcolor\":\"#506784\",\"startlinecolor\":\"#A2B1C6\"},\"type\":\"carpet\"}],\"choropleth\":[{\"colorbar\":{\"outlinewidth\":0,\"ticks\":\"\"},\"type\":\"choropleth\"}],\"contourcarpet\":[{\"colorbar\":{\"outlinewidth\":0,\"ticks\":\"\"},\"type\":\"contourcarpet\"}],\"contour\":[{\"colorbar\":{\"outlinewidth\":0,\"ticks\":\"\"},\"colorscale\":[[0.0,\"#0d0887\"],[0.1111111111111111,\"#46039f\"],[0.2222222222222222,\"#7201a8\"],[0.3333333333333333,\"#9c179e\"],[0.4444444444444444,\"#bd3786\"],[0.5555555555555556,\"#d8576b\"],[0.6666666666666666,\"#ed7953\"],[0.7777777777777778,\"#fb9f3a\"],[0.8888888888888888,\"#fdca26\"],[1.0,\"#f0f921\"]],\"type\":\"contour\"}],\"heatmapgl\":[{\"colorbar\":{\"outlinewidth\":0,\"ticks\":\"\"},\"colorscale\":[[0.0,\"#0d0887\"],[0.1111111111111111,\"#46039f\"],[0.2222222222222222,\"#7201a8\"],[0.3333333333333333,\"#9c179e\"],[0.4444444444444444,\"#bd3786\"],[0.5555555555555556,\"#d8576b\"],[0.6666666666666666,\"#ed7953\"],[0.7777777777777778,\"#fb9f3a\"],[0.8888888888888888,\"#fdca26\"],[1.0,\"#f0f921\"]],\"type\":\"heatmapgl\"}],\"heatmap\":[{\"colorbar\":{\"outlinewidth\":0,\"ticks\":\"\"},\"colorscale\":[[0.0,\"#0d0887\"],[0.1111111111111111,\"#46039f\"],[0.2222222222222222,\"#7201a8\"],[0.3333333333333333,\"#9c179e\"],[0.4444444444444444,\"#bd3786\"],[0.5555555555555556,\"#d8576b\"],[0.6666666666666666,\"#ed7953\"],[0.7777777777777778,\"#fb9f3a\"],[0.8888888888888888,\"#fdca26\"],[1.0,\"#f0f921\"]],\"type\":\"heatmap\"}],\"histogram2dcontour\":[{\"colorbar\":{\"outlinewidth\":0,\"ticks\":\"\"},\"colorscale\":[[0.0,\"#0d0887\"],[0.1111111111111111,\"#46039f\"],[0.2222222222222222,\"#7201a8\"],[0.3333333333333333,\"#9c179e\"],[0.4444444444444444,\"#bd3786\"],[0.5555555555555556,\"#d8576b\"],[0.6666666666666666,\"#ed7953\"],[0.7777777777777778,\"#fb9f3a\"],[0.8888888888888888,\"#fdca26\"],[1.0,\"#f0f921\"]],\"type\":\"histogram2dcontour\"}],\"histogram2d\":[{\"colorbar\":{\"outlinewidth\":0,\"ticks\":\"\"},\"colorscale\":[[0.0,\"#0d0887\"],[0.1111111111111111,\"#46039f\"],[0.2222222222222222,\"#7201a8\"],[0.3333333333333333,\"#9c179e\"],[0.4444444444444444,\"#bd3786\"],[0.5555555555555556,\"#d8576b\"],[0.6666666666666666,\"#ed7953\"],[0.7777777777777778,\"#fb9f3a\"],[0.8888888888888888,\"#fdca26\"],[1.0,\"#f0f921\"]],\"type\":\"histogram2d\"}],\"histogram\":[{\"marker\":{\"pattern\":{\"fillmode\":\"overlay\",\"size\":10,\"solidity\":0.2}},\"type\":\"histogram\"}],\"mesh3d\":[{\"colorbar\":{\"outlinewidth\":0,\"ticks\":\"\"},\"type\":\"mesh3d\"}],\"parcoords\":[{\"line\":{\"colorbar\":{\"outlinewidth\":0,\"ticks\":\"\"}},\"type\":\"parcoords\"}],\"pie\":[{\"automargin\":true,\"type\":\"pie\"}],\"scatter3d\":[{\"line\":{\"colorbar\":{\"outlinewidth\":0,\"ticks\":\"\"}},\"marker\":{\"colorbar\":{\"outlinewidth\":0,\"ticks\":\"\"}},\"type\":\"scatter3d\"}],\"scattercarpet\":[{\"marker\":{\"colorbar\":{\"outlinewidth\":0,\"ticks\":\"\"}},\"type\":\"scattercarpet\"}],\"scattergeo\":[{\"marker\":{\"colorbar\":{\"outlinewidth\":0,\"ticks\":\"\"}},\"type\":\"scattergeo\"}],\"scattergl\":[{\"marker\":{\"line\":{\"color\":\"#283442\"}},\"type\":\"scattergl\"}],\"scattermapbox\":[{\"marker\":{\"colorbar\":{\"outlinewidth\":0,\"ticks\":\"\"}},\"type\":\"scattermapbox\"}],\"scatterpolargl\":[{\"marker\":{\"colorbar\":{\"outlinewidth\":0,\"ticks\":\"\"}},\"type\":\"scatterpolargl\"}],\"scatterpolar\":[{\"marker\":{\"colorbar\":{\"outlinewidth\":0,\"ticks\":\"\"}},\"type\":\"scatterpolar\"}],\"scatter\":[{\"marker\":{\"line\":{\"color\":\"#283442\"}},\"type\":\"scatter\"}],\"scatterternary\":[{\"marker\":{\"colorbar\":{\"outlinewidth\":0,\"ticks\":\"\"}},\"type\":\"scatterternary\"}],\"surface\":[{\"colorbar\":{\"outlinewidth\":0,\"ticks\":\"\"},\"colorscale\":[[0.0,\"#0d0887\"],[0.1111111111111111,\"#46039f\"],[0.2222222222222222,\"#7201a8\"],[0.3333333333333333,\"#9c179e\"],[0.4444444444444444,\"#bd3786\"],[0.5555555555555556,\"#d8576b\"],[0.6666666666666666,\"#ed7953\"],[0.7777777777777778,\"#fb9f3a\"],[0.8888888888888888,\"#fdca26\"],[1.0,\"#f0f921\"]],\"type\":\"surface\"}],\"table\":[{\"cells\":{\"fill\":{\"color\":\"#506784\"},\"line\":{\"color\":\"rgb(17,17,17)\"}},\"header\":{\"fill\":{\"color\":\"#2a3f5f\"},\"line\":{\"color\":\"rgb(17,17,17)\"}},\"type\":\"table\"}]},\"layout\":{\"annotationdefaults\":{\"arrowcolor\":\"#f2f5fa\",\"arrowhead\":0,\"arrowwidth\":1},\"autotypenumbers\":\"strict\",\"coloraxis\":{\"colorbar\":{\"outlinewidth\":0,\"ticks\":\"\"}},\"colorscale\":{\"diverging\":[[0,\"#8e0152\"],[0.1,\"#c51b7d\"],[0.2,\"#de77ae\"],[0.3,\"#f1b6da\"],[0.4,\"#fde0ef\"],[0.5,\"#f7f7f7\"],[0.6,\"#e6f5d0\"],[0.7,\"#b8e186\"],[0.8,\"#7fbc41\"],[0.9,\"#4d9221\"],[1,\"#276419\"]],\"sequential\":[[0.0,\"#0d0887\"],[0.1111111111111111,\"#46039f\"],[0.2222222222222222,\"#7201a8\"],[0.3333333333333333,\"#9c179e\"],[0.4444444444444444,\"#bd3786\"],[0.5555555555555556,\"#d8576b\"],[0.6666666666666666,\"#ed7953\"],[0.7777777777777778,\"#fb9f3a\"],[0.8888888888888888,\"#fdca26\"],[1.0,\"#f0f921\"]],\"sequentialminus\":[[0.0,\"#0d0887\"],[0.1111111111111111,\"#46039f\"],[0.2222222222222222,\"#7201a8\"],[0.3333333333333333,\"#9c179e\"],[0.4444444444444444,\"#bd3786\"],[0.5555555555555556,\"#d8576b\"],[0.6666666666666666,\"#ed7953\"],[0.7777777777777778,\"#fb9f3a\"],[0.8888888888888888,\"#fdca26\"],[1.0,\"#f0f921\"]]},\"colorway\":[\"#636efa\",\"#EF553B\",\"#00cc96\",\"#ab63fa\",\"#FFA15A\",\"#19d3f3\",\"#FF6692\",\"#B6E880\",\"#FF97FF\",\"#FECB52\"],\"font\":{\"color\":\"#f2f5fa\"},\"geo\":{\"bgcolor\":\"rgb(17,17,17)\",\"lakecolor\":\"rgb(17,17,17)\",\"landcolor\":\"rgb(17,17,17)\",\"showlakes\":true,\"showland\":true,\"subunitcolor\":\"#506784\"},\"hoverlabel\":{\"align\":\"left\"},\"hovermode\":\"closest\",\"mapbox\":{\"style\":\"dark\"},\"paper_bgcolor\":\"rgb(17,17,17)\",\"plot_bgcolor\":\"rgb(17,17,17)\",\"polar\":{\"angularaxis\":{\"gridcolor\":\"#506784\",\"linecolor\":\"#506784\",\"ticks\":\"\"},\"bgcolor\":\"rgb(17,17,17)\",\"radialaxis\":{\"gridcolor\":\"#506784\",\"linecolor\":\"#506784\",\"ticks\":\"\"}},\"scene\":{\"xaxis\":{\"backgroundcolor\":\"rgb(17,17,17)\",\"gridcolor\":\"#506784\",\"gridwidth\":2,\"linecolor\":\"#506784\",\"showbackground\":true,\"ticks\":\"\",\"zerolinecolor\":\"#C8D4E3\"},\"yaxis\":{\"backgroundcolor\":\"rgb(17,17,17)\",\"gridcolor\":\"#506784\",\"gridwidth\":2,\"linecolor\":\"#506784\",\"showbackground\":true,\"ticks\":\"\",\"zerolinecolor\":\"#C8D4E3\"},\"zaxis\":{\"backgroundcolor\":\"rgb(17,17,17)\",\"gridcolor\":\"#506784\",\"gridwidth\":2,\"linecolor\":\"#506784\",\"showbackground\":true,\"ticks\":\"\",\"zerolinecolor\":\"#C8D4E3\"}},\"shapedefaults\":{\"line\":{\"color\":\"#f2f5fa\"}},\"sliderdefaults\":{\"bgcolor\":\"#C8D4E3\",\"bordercolor\":\"rgb(17,17,17)\",\"borderwidth\":1,\"tickwidth\":0},\"ternary\":{\"aaxis\":{\"gridcolor\":\"#506784\",\"linecolor\":\"#506784\",\"ticks\":\"\"},\"baxis\":{\"gridcolor\":\"#506784\",\"linecolor\":\"#506784\",\"ticks\":\"\"},\"bgcolor\":\"rgb(17,17,17)\",\"caxis\":{\"gridcolor\":\"#506784\",\"linecolor\":\"#506784\",\"ticks\":\"\"}},\"title\":{\"x\":0.05},\"updatemenudefaults\":{\"bgcolor\":\"#506784\",\"borderwidth\":0},\"xaxis\":{\"automargin\":true,\"gridcolor\":\"#283442\",\"linecolor\":\"#506784\",\"ticks\":\"\",\"title\":{\"standoff\":15},\"zerolinecolor\":\"#283442\",\"zerolinewidth\":2},\"yaxis\":{\"automargin\":true,\"gridcolor\":\"#283442\",\"linecolor\":\"#506784\",\"ticks\":\"\",\"title\":{\"standoff\":15},\"zerolinecolor\":\"#283442\",\"zerolinewidth\":2}}},\"xaxis\":{\"anchor\":\"y\",\"domain\":[0.0,1.0],\"title\":{\"text\":\"Date\"}},\"yaxis\":{\"anchor\":\"x\",\"domain\":[0.0,1.0],\"title\":{\"text\":\"Close\"}},\"legend\":{\"tracegroupgap\":0},\"title\":{\"text\":\"Precios de Cierre de AAPL\"}},                        {\"responsive\": true}                    ).then(function(){\n",
              "                            \n",
              "var gd = document.getElementById('561e4470-e443-4aa3-be35-7da10baf331e');\n",
              "var x = new MutationObserver(function (mutations, observer) {{\n",
              "        var display = window.getComputedStyle(gd).display;\n",
              "        if (!display || display === 'none') {{\n",
              "            console.log([gd, 'removed!']);\n",
              "            Plotly.purge(gd);\n",
              "            observer.disconnect();\n",
              "        }}\n",
              "}});\n",
              "\n",
              "// Listen for the removal of the full notebook cells\n",
              "var notebookContainer = gd.closest('#notebook-container');\n",
              "if (notebookContainer) {{\n",
              "    x.observe(notebookContainer, {childList: true});\n",
              "}}\n",
              "\n",
              "// Listen for the clearing of the current output cell\n",
              "var outputEl = gd.closest('.output');\n",
              "if (outputEl) {{\n",
              "    x.observe(outputEl, {childList: true});\n",
              "}}\n",
              "\n",
              "                        })                };                            </script>        </div>\n",
              "</body>\n",
              "</html>"
            ]
          },
          "metadata": {}
        }
      ]
    },
    {
      "cell_type": "markdown",
      "source": [],
      "metadata": {
        "id": "gRG1pzoIxpzu"
      }
    },
    {
      "cell_type": "markdown",
      "source": [
        "## **<font color=\"DeepPink\">Normalizado de datos</font>**"
      ],
      "metadata": {
        "id": "-6Z1gwSnldoz"
      }
    },
    {
      "cell_type": "code",
      "source": [
        "scaler = MinMaxScaler()\n",
        "data_scaled = scaler.fit_transform(df)"
      ],
      "metadata": {
        "id": "ZOZAjrVeksh8"
      },
      "execution_count": null,
      "outputs": []
    },
    {
      "cell_type": "markdown",
      "source": [
        "Las líneas de código `scaler = MinMaxScaler()` y `data_scaled = scaler.fit_transform(df)` se utilizan para normalizar los datos de los precios de cierre de las acciones utilizando la técnica de escalado Min-Max. La normalización es un proceso común en el preprocesamiento de datos para que los valores estén en un rango específico y puedan ser procesados más eficientemente por algoritmos de aprendizaje automático.\n",
        "\n",
        "A continuación, se explica cada parte de las líneas de código:\n",
        "\n",
        "- `scaler = MinMaxScaler()`: Esta línea crea una instancia del objeto `MinMaxScaler` de la biblioteca `sklearn.preprocessing`. El escalador Min-Max ajusta y transforma los datos para que estén dentro de un rango específico. En este caso, los valores serán escalados a un rango entre 0 y 1.\n",
        "\n",
        "- `data_scaled = scaler.fit_transform(df)`: Aquí, estamos utilizando el escalador Min-Max para transformar los datos en el DataFrame `df` (que contiene los precios de cierre) y almacenar los datos transformados en la variable `data_scaled`. La función `fit_transform` calcula los parámetros de escala (mínimo y máximo) a partir de los datos y luego transforma los datos según esos parámetros.\n",
        "\n",
        "En resumen, estas líneas de código aplican la normalización Min-Max a los datos de precios de cierre de las acciones. Después de la normalización, los valores estarán en un rango entre 0 y 1, lo que puede ayudar a mejorar el rendimiento de los modelos de aprendizaje automático y facilitar la comparación y el análisis de los datos."
      ],
      "metadata": {
        "id": "ureSx79Qs9A-"
      }
    },
    {
      "cell_type": "markdown",
      "source": [
        "## **<font color=\"DeepPink\">Conjunto de entrenamiento y conjunto de testeo</font>**"
      ],
      "metadata": {
        "id": "K5Ti-Du-lid4"
      }
    },
    {
      "cell_type": "code",
      "source": [
        "train_size = int(len(data_scaled) * 0.8)\n",
        "train_data, test_data = data_scaled[:train_size], data_scaled[train_size:]"
      ],
      "metadata": {
        "id": "82c7G0Mlllqv"
      },
      "execution_count": null,
      "outputs": []
    },
    {
      "cell_type": "markdown",
      "source": [
        "Estas líneas de código se utilizan para dividir los datos normalizados en conjuntos de entrenamiento y prueba. La división de los datos en estos conjuntos es una práctica común en el aprendizaje automático para evaluar la capacidad de generalización de un modelo.\n",
        "\n",
        "A continuación, se explica cada parte de las líneas de código:\n",
        "\n",
        "- `train_size = int(len(data_scaled) * 0.8)`: Esta línea calcula el tamaño del conjunto de entrenamiento como el 80% del tamaño total de los datos normalizados. `len(data_scaled)` devuelve la longitud total de los datos normalizados y `0.8` representa el 80% de esos datos. El resultado se convierte en un número entero utilizando `int()`.\n",
        "\n",
        "- `train_data, test_data = data_scaled[:train_size], data_scaled[train_size:]`: Aquí, estamos utilizando el tamaño del conjunto de entrenamiento calculado para dividir los datos normalizados en dos conjuntos: `train_data` y `test_data`. La notación `[:train_size]` selecciona las primeras `train_size` filas de los datos, que serán el conjunto de entrenamiento. La notación `[train_size:]` selecciona las filas restantes a partir de `train_size`, que serán el conjunto de prueba.\n",
        "\n",
        "En resumen, estas líneas de código dividen los datos normalizados en dos conjuntos: un conjunto de entrenamiento que representa el 80% de los datos y un conjunto de prueba que representa el 20% restante. Esta división permitirá que utilices el conjunto de entrenamiento para entrenar tu modelo de redes neuronales y el conjunto de prueba para evaluar su rendimiento en datos no vistos durante el entrenamiento."
      ],
      "metadata": {
        "id": "dVzi21PrtIY6"
      }
    },
    {
      "cell_type": "code",
      "source": [
        "def create_dataset(dataset, time_steps=1):\n",
        "    X, y = [], []\n",
        "    for i in range(len(dataset) - time_steps):\n",
        "        X.append(dataset[i:i + time_steps])\n",
        "        y.append(dataset[i + time_steps])\n",
        "    return np.array(X), np.array(y)"
      ],
      "metadata": {
        "id": "oMDOXO7CoBD6"
      },
      "execution_count": null,
      "outputs": []
    },
    {
      "cell_type": "markdown",
      "source": [
        "La función `create_dataset` en el código es una función auxiliar que se utiliza para crear conjuntos de datos en el formato requerido para el entrenamiento de modelos de series temporales, como las redes neuronales. Esta función toma un conjunto de datos y lo divide en conjuntos de entrada (`X`) y salidas esperadas (`y`) para el modelado de series temporales.\n",
        "\n",
        "A continuación, se explica cada parte de la función:\n",
        "\n",
        "- `def create_dataset(dataset, time_steps=1):`: Esto define la función `create_dataset`, que toma dos argumentos. `dataset` es el conjunto de datos que se desea dividir, y `time_steps` es el número de pasos de tiempo que se utilizarán para predecir el siguiente valor. Por defecto, se establece en 1.\n",
        "\n",
        "- `X, y = [], []`: Aquí se crean dos listas vacías, `X` para almacenar las secuencias de entrada y `y` para almacenar las salidas esperadas.\n",
        "\n",
        "- `for i in range(len(dataset) - time_steps):`: Este bucle itera a través de los índices del conjunto de datos menos el número de pasos de tiempo. Esto se hace para asegurarse de que haya suficientes datos para formar una secuencia de entrada y su correspondiente salida esperada.\n",
        "\n",
        "- `X.append(dataset[i:i + time_steps])`: En cada iteración del bucle, se agrega una secuencia de `time_steps` valores del conjunto de datos a la lista `X`. Esto crea las secuencias de entrada para el modelado de series temporales.\n",
        "\n",
        "- `y.append(dataset[i + time_steps])`: En cada iteración, se agrega el valor en el siguiente paso de tiempo al conjunto de datos a la lista `y`. Esto crea las salidas esperadas correspondientes a las secuencias de entrada.\n",
        "\n",
        "- `return np.array(X), np.array(y)`: Finalmente, se convierten las listas `X` y `y` en matrices NumPy y se devuelven como resultado de la función.\n",
        "\n",
        "En resumen, la función `create_dataset` toma un conjunto de datos y crea conjuntos de entrada y salidas esperadas para el modelado de series temporales. Cada secuencia de entrada consta de `time_steps` valores del conjunto de datos, y la salida esperada corresponde al siguiente valor en el conjunto de datos. Esta función es útil para preparar los datos de entrenamiento para modelos de redes neuronales que se utilizan en el análisis de series temporales."
      ],
      "metadata": {
        "id": "xzaTicvxtp2G"
      }
    },
    {
      "cell_type": "code",
      "source": [
        "time_steps = 10\n",
        "X_train, y_train = create_dataset(train_data, time_steps)\n",
        "X_test, y_test = create_dataset(test_data, time_steps)"
      ],
      "metadata": {
        "id": "c0wVSkPBoJOR"
      },
      "execution_count": null,
      "outputs": []
    },
    {
      "cell_type": "markdown",
      "source": [
        "En estas líneas de código, se está utilizando la función `create_dataset` para preparar los conjuntos de entrenamiento y prueba para un modelo de series temporales. Se está creando un conjunto de secuencias de entrada (`X`) y salidas esperadas (`y`) utilizando un número específico de pasos de tiempo (`time_steps`) a partir de los datos normalizados de entrenamiento y prueba.\n",
        "\n",
        "Aquí está la explicación de cada parte de las líneas de código:\n",
        "\n",
        "- `time_steps = 10`: Esto define el número de pasos de tiempo en cada secuencia de entrada. En este caso, se establece en 10, lo que significa que cada secuencia de entrada contendrá 10 valores de precios de cierre consecutivos.\n",
        "\n",
        "- `X_train, y_train = create_dataset(train_data, time_steps)`: Aquí se utiliza la función `create_dataset` para crear conjuntos de entrenamiento. Se pasa el conjunto de datos normalizados de entrenamiento `train_data` y el valor de `time_steps`. La función generará secuencias de entrada (`X_train`) y salidas esperadas (`y_train`) a partir de los datos de entrenamiento.\n",
        "\n",
        "- `X_test, y_test = create_dataset(test_data, time_steps)`: Similarmente, esta línea utiliza la función `create_dataset` para crear conjuntos de prueba. Se pasa el conjunto de datos normalizados de prueba `test_data` y el valor de `time_steps`. La función generará secuencias de entrada (`X_test`) y salidas esperadas (`y_test`) a partir de los datos de prueba.\n",
        "\n",
        "En resumen, estas líneas de código están utilizando la función `create_dataset` para preparar los conjuntos de entrada y salidas esperadas para el entrenamiento y prueba de un modelo de series temporales. Cada secuencia de entrada contendrá un número específico de pasos de tiempo de datos de precios de cierre consecutivos, y las salidas esperadas corresponden al siguiente valor de precio de cierre en cada secuencia. Esto es fundamental para entrenar un modelo de redes neuronales en el análisis de series temporales."
      ],
      "metadata": {
        "id": "F72JnhBntuMn"
      }
    },
    {
      "cell_type": "markdown",
      "source": [
        "## **<font color=\"DeepPink\">Modelo de redes neuronales</font>**"
      ],
      "metadata": {
        "id": "1PgQFrdxoWvr"
      }
    },
    {
      "cell_type": "code",
      "source": [
        "model = keras.Sequential()"
      ],
      "metadata": {
        "id": "jN7NLduAolwv"
      },
      "execution_count": null,
      "outputs": []
    },
    {
      "cell_type": "markdown",
      "source": [
        "`model = keras.Sequential()` crea una instancia de un modelo secuencial utilizando la biblioteca `Keras`, que es una interfaz de alto nivel para construir y entrenar modelos de redes neuronales en TensorFlow u otros backends de aprendizaje automático.\n",
        "\n",
        "Un modelo secuencial en Keras es una pila lineal de capas, donde cada capa tiene exactamente un tensor de entrada y uno de salida. Esto es útil para construir modelos de redes neuronales feedforward simples y es la forma más común de crear modelos en Keras.\n",
        "\n",
        "La variable `model` es la que utilizarás para construir y definir la arquitectura de tu red neuronal. A medida que agregas capas al modelo secuencial, estas se conectan en secuencia, pasando la salida de una capa a la siguiente.\n",
        "\n",
        "`model = keras.Sequential()` te permite crear un modelo secuencial que puedes personalizar agregando capas y configurando sus detalles, como la función de activación, el número de unidades, la forma de entrada y otros hiperparámetros. Luego, puedes compilar el modelo y entrenarlo utilizando los datos preparados."
      ],
      "metadata": {
        "id": "uA43HBx8t_7B"
      }
    },
    {
      "cell_type": "code",
      "source": [
        "model.add(layers.LSTM(50, activation='relu', input_shape=(time_steps, 1)))\n",
        "model.add(layers.Dense(1))\n",
        "model.compile(optimizer='adam', loss='mse')"
      ],
      "metadata": {
        "id": "_vMAPZXMop9V"
      },
      "execution_count": null,
      "outputs": []
    },
    {
      "cell_type": "markdown",
      "source": [
        "Estas líneas de código están siendo utilizadas para construir y compilar un modelo de redes neuronales en Keras utilizando la arquitectura LSTM (Long Short-Term Memory) para el análisis de series temporales. Vamos a desglosar cada parte:\n",
        "\n",
        "1. `model.add(layers.LSTM(50, activation='relu', input_shape=(time_steps, 1)))`:\n",
        "\n",
        "   - `model.add(...)`: Esta línea agrega una capa al modelo secuencial `model` que se está construyendo.\n",
        "   - `layers.LSTM(50, activation='relu', input_shape=(time_steps, 1))`: Aquí estamos agregando una capa LSTM al modelo. Los parámetros son:\n",
        "      - `50`: Indica que la capa LSTM tendrá 50 unidades de memoria (neuronas).\n",
        "      - `activation='relu'`: Establece la función de activación de las unidades LSTM como la función ReLU.\n",
        "      - `input_shape=(time_steps, 1)`: Define la forma de entrada para la capa LSTM. `time_steps` representa la longitud de las secuencias de entrada, y `1` indica que cada paso de tiempo tiene una sola característica (en este caso, los precios de cierre normalizados).\n",
        "\n",
        "2. `model.add(layers.Dense(1))`:\n",
        "\n",
        "   - Esta línea agrega una capa densa (fully connected) al modelo. En este caso, se agrega una capa densa con una sola unidad de salida, que se utilizará para predecir el siguiente valor en la serie temporal.\n",
        "\n",
        "3. `model.compile(optimizer='adam', loss='mse')`:\n",
        "\n",
        "   - `model.compile(...)`: Aquí se compila el modelo, lo que significa que se configuran detalles adicionales para el entrenamiento, como el optimizador y la función de pérdida.\n",
        "   - `optimizer='adam'`: Se utiliza el optimizador Adam para ajustar los pesos de las neuronas durante el entrenamiento.\n",
        "   - `loss='mse'`: La función de pérdida se establece en el error cuadrado medio (Mean Squared Error), que es una métrica comúnmente utilizada para problemas de regresión.\n",
        "\n",
        "En resumen, estas líneas de código construyen y compilan un modelo de redes neuronales con una arquitectura LSTM seguida de una capa densa para la predicción de series temporales. El modelo se configura para minimizar el error cuadrado medio durante el entrenamiento utilizando el optimizador Adam. Después de compilar el modelo, estará listo para ser entrenado utilizando los datos de entrenamiento preparados."
      ],
      "metadata": {
        "id": "0NGBH-TNuq4e"
      }
    },
    {
      "cell_type": "markdown",
      "source": [
        "## **<font color=\"DeepPink\">Entrenando el modelo</font>**"
      ],
      "metadata": {
        "id": "2iFFiL6eozAD"
      }
    },
    {
      "cell_type": "code",
      "source": [
        "model.fit(X_train, y_train, epochs=50, batch_size=16, verbose=1)"
      ],
      "metadata": {
        "colab": {
          "base_uri": "https://localhost:8080/"
        },
        "id": "bdSJXnTOovDP",
        "outputId": "366f4d5f-601a-42a2-a5fc-9c6c4e9538f8"
      },
      "execution_count": null,
      "outputs": [
        {
          "output_type": "stream",
          "name": "stdout",
          "text": [
            "Epoch 1/50\n",
            "38/38 [==============================] - 2s 6ms/step - loss: 0.0719\n",
            "Epoch 2/50\n",
            "38/38 [==============================] - 0s 6ms/step - loss: 0.0026\n",
            "Epoch 3/50\n",
            "38/38 [==============================] - 0s 6ms/step - loss: 0.0015\n",
            "Epoch 4/50\n",
            "38/38 [==============================] - 0s 6ms/step - loss: 0.0013\n",
            "Epoch 5/50\n",
            "38/38 [==============================] - 0s 6ms/step - loss: 0.0013\n",
            "Epoch 6/50\n",
            "38/38 [==============================] - 0s 7ms/step - loss: 0.0014\n",
            "Epoch 7/50\n",
            "38/38 [==============================] - 0s 6ms/step - loss: 0.0012\n",
            "Epoch 8/50\n",
            "38/38 [==============================] - 0s 6ms/step - loss: 0.0012\n",
            "Epoch 9/50\n",
            "38/38 [==============================] - 0s 6ms/step - loss: 0.0012\n",
            "Epoch 10/50\n",
            "38/38 [==============================] - 0s 7ms/step - loss: 0.0012\n",
            "Epoch 11/50\n",
            "38/38 [==============================] - 0s 6ms/step - loss: 0.0012\n",
            "Epoch 12/50\n",
            "38/38 [==============================] - 0s 6ms/step - loss: 0.0011\n",
            "Epoch 13/50\n",
            "38/38 [==============================] - 0s 7ms/step - loss: 0.0011\n",
            "Epoch 14/50\n",
            "38/38 [==============================] - 0s 6ms/step - loss: 0.0010\n",
            "Epoch 15/50\n",
            "38/38 [==============================] - 0s 6ms/step - loss: 0.0010\n",
            "Epoch 16/50\n",
            "38/38 [==============================] - 0s 6ms/step - loss: 9.6561e-04\n",
            "Epoch 17/50\n",
            "38/38 [==============================] - 0s 6ms/step - loss: 9.6016e-04\n",
            "Epoch 18/50\n",
            "38/38 [==============================] - 0s 6ms/step - loss: 9.1813e-04\n",
            "Epoch 19/50\n",
            "38/38 [==============================] - 0s 6ms/step - loss: 9.6351e-04\n",
            "Epoch 20/50\n",
            "38/38 [==============================] - 0s 6ms/step - loss: 9.2363e-04\n",
            "Epoch 21/50\n",
            "38/38 [==============================] - 0s 6ms/step - loss: 8.6172e-04\n",
            "Epoch 22/50\n",
            "38/38 [==============================] - 0s 7ms/step - loss: 8.9563e-04\n",
            "Epoch 23/50\n",
            "38/38 [==============================] - 0s 8ms/step - loss: 8.8842e-04\n",
            "Epoch 24/50\n",
            "38/38 [==============================] - 0s 7ms/step - loss: 8.8612e-04\n",
            "Epoch 25/50\n",
            "38/38 [==============================] - 0s 7ms/step - loss: 0.0010\n",
            "Epoch 26/50\n",
            "38/38 [==============================] - 0s 9ms/step - loss: 8.5137e-04\n",
            "Epoch 27/50\n",
            "38/38 [==============================] - 0s 8ms/step - loss: 7.7843e-04\n",
            "Epoch 28/50\n",
            "38/38 [==============================] - 0s 9ms/step - loss: 8.1611e-04\n",
            "Epoch 29/50\n",
            "38/38 [==============================] - 0s 8ms/step - loss: 7.6845e-04\n",
            "Epoch 30/50\n",
            "38/38 [==============================] - 0s 8ms/step - loss: 8.1928e-04\n",
            "Epoch 31/50\n",
            "38/38 [==============================] - 0s 6ms/step - loss: 7.6684e-04\n",
            "Epoch 32/50\n",
            "38/38 [==============================] - 0s 6ms/step - loss: 9.3186e-04\n",
            "Epoch 33/50\n",
            "38/38 [==============================] - 0s 6ms/step - loss: 7.4469e-04\n",
            "Epoch 34/50\n",
            "38/38 [==============================] - 0s 6ms/step - loss: 7.7314e-04\n",
            "Epoch 35/50\n",
            "38/38 [==============================] - 0s 6ms/step - loss: 8.4614e-04\n",
            "Epoch 36/50\n",
            "38/38 [==============================] - 0s 5ms/step - loss: 7.1955e-04\n",
            "Epoch 37/50\n",
            "38/38 [==============================] - 0s 6ms/step - loss: 7.4492e-04\n",
            "Epoch 38/50\n",
            "38/38 [==============================] - 0s 6ms/step - loss: 7.4912e-04\n",
            "Epoch 39/50\n",
            "38/38 [==============================] - 0s 6ms/step - loss: 7.3768e-04\n",
            "Epoch 40/50\n",
            "38/38 [==============================] - 0s 6ms/step - loss: 7.0421e-04\n",
            "Epoch 41/50\n",
            "38/38 [==============================] - 0s 6ms/step - loss: 8.0034e-04\n",
            "Epoch 42/50\n",
            "38/38 [==============================] - 0s 7ms/step - loss: 7.3262e-04\n",
            "Epoch 43/50\n",
            "38/38 [==============================] - 0s 6ms/step - loss: 6.7492e-04\n",
            "Epoch 44/50\n",
            "38/38 [==============================] - 0s 6ms/step - loss: 6.8692e-04\n",
            "Epoch 45/50\n",
            "38/38 [==============================] - 0s 6ms/step - loss: 7.6925e-04\n",
            "Epoch 46/50\n",
            "38/38 [==============================] - 0s 6ms/step - loss: 7.4623e-04\n",
            "Epoch 47/50\n",
            "38/38 [==============================] - 0s 6ms/step - loss: 6.6432e-04\n",
            "Epoch 48/50\n",
            "38/38 [==============================] - 0s 6ms/step - loss: 6.5623e-04\n",
            "Epoch 49/50\n",
            "38/38 [==============================] - 0s 6ms/step - loss: 6.6898e-04\n",
            "Epoch 50/50\n",
            "38/38 [==============================] - 0s 6ms/step - loss: 6.7787e-04\n"
          ]
        },
        {
          "output_type": "execute_result",
          "data": {
            "text/plain": [
              "<keras.callbacks.History at 0x7ac9f0443880>"
            ]
          },
          "metadata": {},
          "execution_count": 16
        }
      ]
    },
    {
      "cell_type": "markdown",
      "source": [
        "La línea de código `model.fit(X_train, y_train, epochs=50, batch_size=16, verbose=1)` se utiliza para entrenar el modelo de redes neuronales que has construido utilizando los conjuntos de datos de entrenamiento `X_train` y `y_train`.\n",
        "\n",
        "A continuación, se desglosa cada parte de la línea de código:\n",
        "\n",
        "- `model.fit(...)`: Esta es la función que se utiliza para entrenar el modelo. Recibe varios argumentos para configurar el proceso de entrenamiento.\n",
        "\n",
        "- `X_train`: Este es el conjunto de datos de entrada de entrenamiento que contiene secuencias de valores de precios de cierre.\n",
        "\n",
        "- `y_train`: Este es el conjunto de datos de salida esperada correspondiente a las secuencias de entrada en `X_train`.\n",
        "\n",
        "- `epochs=50`: Este argumento especifica el número de épocas (iteraciones completas a través del conjunto de datos de entrenamiento) que se utilizarán durante el entrenamiento. En este caso, se establece en 50.\n",
        "\n",
        "- `batch_size=16`: Este argumento define el tamaño de lote utilizado durante el entrenamiento. Los datos se dividirán en lotes de 16 ejemplos cada uno, y los pesos de la red se ajustarán después de cada lote. El tamaño de lote es un hiperparámetro que influye en cómo se actualizan los pesos y puede afectar la velocidad y la calidad del entrenamiento.\n",
        "\n",
        "- `verbose=1`: Este argumento controla la verbosidad de la salida durante el entrenamiento. `verbose=1` significa que se mostrarán mensajes detallados durante el entrenamiento, como el progreso de cada época y las métricas de pérdida y precisión.\n",
        "\n",
        "En resumen, esta línea de código inicia el proceso de entrenamiento del modelo de redes neuronales utilizando los datos de entrada y salida esperada proporcionados. El modelo pasará por 50 épocas, ajustando los pesos en lotes de 16 ejemplos a la vez, y mostrará información detallada sobre el progreso del entrenamiento en la salida. Después de completar este proceso, el modelo habrá aprendido a hacer predicciones en función de los patrones en los datos de entrenamiento."
      ],
      "metadata": {
        "id": "QyEzBwpOuwn5"
      }
    },
    {
      "cell_type": "markdown",
      "source": [
        "## **<font color=\"DeepPink\">Evaluando el modelo</font>**"
      ],
      "metadata": {
        "id": "_412OdxspIms"
      }
    },
    {
      "cell_type": "code",
      "source": [
        "test_loss = model.evaluate(X_test, y_test, verbose=0)\n",
        "print(f\"Pérdida en el conjunto de prueba: {test_loss}\")"
      ],
      "metadata": {
        "colab": {
          "base_uri": "https://localhost:8080/"
        },
        "id": "mdcnUL1lpOUP",
        "outputId": "ebad8c2b-b5fe-489b-f77a-b8aff2056e21"
      },
      "execution_count": null,
      "outputs": [
        {
          "output_type": "stream",
          "name": "stdout",
          "text": [
            "Pérdida en el conjunto de prueba: 0.0009824545122683048\n"
          ]
        }
      ]
    },
    {
      "cell_type": "markdown",
      "source": [
        "Estas líneas de código se utilizan para evaluar el rendimiento del modelo de redes neuronales entrenado en el conjunto de prueba y mostrar la pérdida resultante en el conjunto de prueba. La pérdida es una medida de qué tan bien se ajusta el modelo a los datos de prueba y es una métrica comúnmente utilizada para evaluar modelos de aprendizaje automático.\n",
        "\n",
        "A continuación, se explica cada parte de las líneas de código:\n",
        "\n",
        "1. `test_loss = model.evaluate(X_test, y_test, verbose=0)`:\n",
        "\n",
        "   - `model.evaluate(...)`: Esta es la función que se utiliza para evaluar el modelo en un conjunto de datos. Recibe los datos de entrada `X_test` y las salidas esperadas `y_test` del conjunto de prueba.\n",
        "   - `X_test`: El conjunto de datos de entrada de prueba.\n",
        "   - `y_test`: El conjunto de datos de salida esperada correspondiente a las secuencias de entrada en `X_test`.\n",
        "   - `verbose=0`: En este caso, `verbose` se establece en 0 para evitar que se muestre información detallada durante la evaluación. Esto significa que no verás mensajes en la salida mientras se evalúa el modelo.\n",
        "\n",
        "2. `print(f\"Pérdida en el conjunto de prueba: {test_loss}\")`:\n",
        "\n",
        "   - `print(...)`: Esta línea de código muestra un mensaje en la salida.\n",
        "   - `f\"Pérdida en el conjunto de prueba: {test_loss}\"`: Aquí estamos formateando una cadena para mostrar la pérdida calculada en el conjunto de prueba. `test_loss` es el valor numérico de la pérdida calculada.\n",
        "\n",
        "En resumen, estas líneas de código se utilizan para calcular la pérdida del modelo en el conjunto de prueba y luego mostrar esta pérdida en la salida. La pérdida en el conjunto de prueba proporciona una indicación de qué tan bien el modelo generaliza a datos no vistos durante el entrenamiento. Una pérdida más baja en el conjunto de prueba indica un mejor rendimiento del modelo en datos no vistos anteriormente."
      ],
      "metadata": {
        "id": "jW_rlwG8u59-"
      }
    },
    {
      "cell_type": "markdown",
      "source": [
        "## **<font color=\"DeepPink\">Predicción</font>**"
      ],
      "metadata": {
        "id": "fra8J2gapZsq"
      }
    },
    {
      "cell_type": "code",
      "source": [
        "y_pred = model.predict(X_test)"
      ],
      "metadata": {
        "colab": {
          "base_uri": "https://localhost:8080/"
        },
        "id": "daWYRFeUpcuT",
        "outputId": "04c26d66-cdfb-4d0f-94ec-79c2af1fe484"
      },
      "execution_count": null,
      "outputs": [
        {
          "output_type": "stream",
          "name": "stdout",
          "text": [
            "5/5 [==============================] - 0s 3ms/step\n"
          ]
        }
      ]
    },
    {
      "cell_type": "markdown",
      "source": [
        "La línea de código `y_pred = model.predict(X_test)` se utiliza para realizar predicciones utilizando el modelo de redes neuronales entrenado en el conjunto de datos de prueba (`X_test`). Esta operación permite generar predicciones de salida basadas en las entradas de prueba y evaluar cómo el modelo se desempeña en datos que no ha visto durante el entrenamiento.\n",
        "\n",
        "Aquí está la explicación de esta línea de código:\n",
        "\n",
        "- `y_pred`: Esta variable almacenará las predicciones generadas por el modelo.\n",
        "\n",
        "- `model.predict(...)`: Esta es la función que se utiliza para realizar predicciones utilizando el modelo entrenado. Recibe los datos de entrada `X_test` del conjunto de prueba y devuelve las predicciones correspondientes.\n",
        "\n",
        "- `X_test`: El conjunto de datos de entrada de prueba para el cual se generarán las predicciones.\n",
        "\n",
        "Después de ejecutar esta línea de código, la variable `y_pred` contendrá las predicciones generadas por el modelo para el conjunto de datos de prueba `X_test`. Estas predicciones representan las respuestas estimadas del modelo para las entradas de prueba. Puedes usar estas predicciones para compararlas con las salidas reales `y_test` y evaluar el rendimiento del modelo en el conjunto de prueba."
      ],
      "metadata": {
        "id": "i_tVbLo9vKzO"
      }
    },
    {
      "cell_type": "markdown",
      "source": [
        "## **<font color=\"DeepPink\">Inversión de la normalización</font>**"
      ],
      "metadata": {
        "id": "V9_NEgFQpsf1"
      }
    },
    {
      "cell_type": "code",
      "source": [
        "y_pred_actual = scaler.inverse_transform(y_pred)\n",
        "y_test_actual = scaler.inverse_transform(y_test)"
      ],
      "metadata": {
        "id": "ishLPmBwpv-R"
      },
      "execution_count": null,
      "outputs": []
    },
    {
      "cell_type": "markdown",
      "source": [
        "Estas líneas de código se utilizan para revertir la transformación de normalización que se aplicó previamente a los datos de prueba y a las predicciones generadas por el modelo. Esto es necesario para obtener los valores reales en su escala original y poder comparar las predicciones del modelo con los valores reales.\n",
        "\n",
        "Aquí está la explicación de cada parte de las líneas de código:\n",
        "\n",
        "1. `y_pred_actual = scaler.inverse_transform(y_pred)`:\n",
        "\n",
        "   - `y_pred_actual`: Esta variable almacenará las predicciones del modelo en su escala original (no normalizada).\n",
        "   - `scaler.inverse_transform(...)`: Esta es una función de la instancia del escalador Min-Max (`scaler`) que se utilizó previamente para normalizar los datos. La función `inverse_transform` se utiliza para revertir la normalización y devolver los valores a su escala original.\n",
        "   - `y_pred`: Las predicciones generadas por el modelo, que están en la escala normalizada.\n",
        "\n",
        "2. `y_test_actual = scaler.inverse_transform(y_test)`:\n",
        "\n",
        "   - `y_test_actual`: Esta variable almacenará los valores reales de salida del conjunto de prueba en su escala original.\n",
        "   - `scaler.inverse_transform(...)`: Nuevamente, se aplica la función `inverse_transform` del escalador Min-Max para revertir la normalización de los valores de salida reales del conjunto de prueba.\n",
        "   - `y_test`: Los valores reales del conjunto de prueba, que están en la escala normalizada.\n",
        "\n",
        "Después de ejecutar estas líneas de código, las variables `y_pred_actual` y `y_test_actual` contendrán los valores reales correspondientes a las predicciones del modelo y a los valores de salida del conjunto de prueba, respectivamente. Esto permitirá comparar directamente las predicciones del modelo con los valores reales en su escala original y evaluar la precisión del modelo."
      ],
      "metadata": {
        "id": "MjTHou85vVY9"
      }
    },
    {
      "cell_type": "markdown",
      "source": [
        "## **<font color=\"DeepPink\">Graficando predicciones y valores reales</font>**"
      ],
      "metadata": {
        "id": "R7gimyfMp2Aw"
      }
    },
    {
      "cell_type": "code",
      "source": [
        "fig = px.scatter()\n",
        "\n",
        "fig.add_scatter(y=y_test_actual.flatten(),\n",
        "                mode='lines',\n",
        "                name='Valores Reales')\n",
        "\n",
        "fig.add_scatter(y=y_pred_actual.flatten(),\n",
        "                mode='lines',\n",
        "                name='Predicciones')\n",
        "\n",
        "fig.update_layout(\n",
        "    title=f'Predicciones de Precios de Cierre de {symbol}',\n",
        "    xaxis_title='Días',\n",
        "    yaxis_title='Precio de Cierre',\n",
        "    template=\"plotly_dark\")\n",
        "\n",
        "fig.show()"
      ],
      "metadata": {
        "colab": {
          "base_uri": "https://localhost:8080/",
          "height": 562
        },
        "id": "nm2xlPhMxAI7",
        "outputId": "6a0f7e20-30c8-41b7-aa72-c8794cff9646"
      },
      "execution_count": null,
      "outputs": [
        {
          "output_type": "display_data",
          "data": {
            "text/html": [
              "<html>\n",
              "<head><meta charset=\"utf-8\" /></head>\n",
              "<body>\n",
              "    <div>            <script src=\"https://cdnjs.cloudflare.com/ajax/libs/mathjax/2.7.5/MathJax.js?config=TeX-AMS-MML_SVG\"></script><script type=\"text/javascript\">if (window.MathJax && window.MathJax.Hub && window.MathJax.Hub.Config) {window.MathJax.Hub.Config({SVG: {font: \"STIX-Web\"}});}</script>                <script type=\"text/javascript\">window.PlotlyConfig = {MathJaxConfig: 'local'};</script>\n",
              "        <script charset=\"utf-8\" src=\"https://cdn.plot.ly/plotly-2.24.1.min.js\"></script>                <div id=\"87e04562-7f27-4e18-9237-9b77bf949af4\" class=\"plotly-graph-div\" style=\"height:525px; width:100%;\"></div>            <script type=\"text/javascript\">                                    window.PLOTLYENV=window.PLOTLYENV || {};                                    if (document.getElementById(\"87e04562-7f27-4e18-9237-9b77bf949af4\")) {                    Plotly.newPlot(                        \"87e04562-7f27-4e18-9237-9b77bf949af4\",                        [{\"hovertemplate\":\"\\u003cextra\\u003e\\u003c\\u002fextra\\u003e\",\"legendgroup\":\"\",\"marker\":{\"color\":\"#636efa\",\"symbol\":\"circle\"},\"mode\":\"markers\",\"name\":\"\",\"orientation\":\"v\",\"showlegend\":false,\"xaxis\":\"x\",\"yaxis\":\"y\",\"type\":\"scatter\"},{\"mode\":\"lines\",\"name\":\"Valores Reales\",\"y\":[142.64,137.13,131.88,132.76,135.43,130.06,131.56,135.87,135.35,138.27,141.66,141.66,137.44,139.23,136.72,138.93,141.56,142.92,146.35,147.04,144.87,145.86,145.49,148.47,150.17,147.07,151.0,153.04,155.35,154.09,152.95,151.6,156.79,157.35,162.51,161.51,160.01,166.13,165.81,165.35,164.87,164.92,169.24,168.49,172.1,173.19,173.03,174.55,174.15,171.52,167.57,167.23,167.53,170.03,163.62,161.38,158.91,157.22,157.96,155.81,154.53,155.96,154.46,157.37,163.43,153.84,155.31,152.37,150.7,154.48,156.9,153.72,152.74,150.43,150.77,151.76,149.84,142.48,138.2,142.45,146.1,146.4,145.43,140.09,140.42,138.98,138.34,142.99,138.38,142.41,143.75,143.86,143.39,147.27,149.45,152.34,149.35,144.8,155.74,153.34,150.65,145.03,138.88,138.38,138.92,139.5,134.87,146.87,149.7,148.28,150.04,148.79,150.72,151.29,148.01,150.18,151.07,148.11,144.22,141.17,148.03,148.31,147.81,146.63,142.91,140.94,142.65,142.16,144.49,145.47,143.21,136.5,134.51,132.37,132.3,135.45,132.23,131.86,130.03,126.04000000000002,129.61,129.93],\"type\":\"scatter\"},{\"mode\":\"lines\",\"name\":\"Predicciones\",\"y\":[147.71035766601562,145.75729370117188,141.84506225585938,136.84507751464844,133.01025390625,132.25265502929688,131.5290985107422,131.23550415039062,132.11558532714844,134.03054809570312,136.17068481445312,138.61961364746094,140.00282287597656,139.26243591308594,138.83670043945312,138.32359313964844,138.21922302246094,139.5477294921875,141.22311401367188,143.37892150878906,145.06044006347656,145.11300659179688,145.23025512695312,145.42312622070312,146.48243713378906,148.2234344482422,148.015625,148.76150512695312,150.78207397460938,152.57664489746094,153.33663940429688,153.2027130126953,152.397216796875,153.68190002441406,155.57553100585938,158.20594787597656,159.72625732421875,159.9508056640625,162.1203155517578,163.61151123046875,164.3513641357422,164.59573364257812,164.64549255371094,166.17152404785156,167.39637756347656,169.2168426513672,170.9871368408203,171.82101440429688,172.97645568847656,173.4920196533203,172.6712646484375,169.95350646972656,167.6421661376953,166.80355834960938,167.43211364746094,166.08387756347656,162.8324432373047,160.26524353027344,157.74842834472656,156.6603240966797,155.79405212402344,154.8037567138672,154.61239624023438,154.4265594482422,155.22579956054688,158.6503448486328,157.31239318847656,155.440673828125,154.17044067382812,152.00096130371094,152.28192138671875,154.1163787841797,154.38143920898438,153.31410217285156,151.98362731933594,150.90061950683594,150.96121215820312,150.52310180664062,147.1859588623047,142.58877563476562,140.20431518554688,141.38214111328125,144.29054260253906,145.22467041015625,143.41323852539062,141.5377655029297,140.19949340820312,139.18006896972656,140.15011596679688,139.8944549560547,140.47862243652344,142.03070068359375,143.0043487548828,143.31861877441406,144.67361450195312,146.79734802246094,149.01907348632812,149.29757690429688,147.62255859375,149.7342529296875,151.93414306640625,151.43560791015625,148.80612182617188,144.22023010253906,140.34378051757812,137.77854919433594,137.76495361328125,136.62298583984375,139.53460693359375,143.98678588867188,146.37950134277344,147.77154541015625,148.09896850585938,149.06787109375,150.01119995117188,149.45907592773438,149.2542724609375,150.10890197753906,149.35726928710938,147.0384063720703,144.1777801513672,144.3522491455078,145.74049377441406,147.16452026367188,147.10960388183594,145.38394165039062,143.13121032714844,142.3125457763672,141.9761199951172,142.86993408203125,144.03973388671875,144.0248260498047,141.12704467773438,137.7885284423828,134.4982147216797,132.537841796875,132.7397003173828,132.7528076171875,132.64492797851562,131.37908935546875,129.3570556640625,128.7147216796875],\"type\":\"scatter\"}],                        {\"template\":{\"data\":{\"barpolar\":[{\"marker\":{\"line\":{\"color\":\"rgb(17,17,17)\",\"width\":0.5},\"pattern\":{\"fillmode\":\"overlay\",\"size\":10,\"solidity\":0.2}},\"type\":\"barpolar\"}],\"bar\":[{\"error_x\":{\"color\":\"#f2f5fa\"},\"error_y\":{\"color\":\"#f2f5fa\"},\"marker\":{\"line\":{\"color\":\"rgb(17,17,17)\",\"width\":0.5},\"pattern\":{\"fillmode\":\"overlay\",\"size\":10,\"solidity\":0.2}},\"type\":\"bar\"}],\"carpet\":[{\"aaxis\":{\"endlinecolor\":\"#A2B1C6\",\"gridcolor\":\"#506784\",\"linecolor\":\"#506784\",\"minorgridcolor\":\"#506784\",\"startlinecolor\":\"#A2B1C6\"},\"baxis\":{\"endlinecolor\":\"#A2B1C6\",\"gridcolor\":\"#506784\",\"linecolor\":\"#506784\",\"minorgridcolor\":\"#506784\",\"startlinecolor\":\"#A2B1C6\"},\"type\":\"carpet\"}],\"choropleth\":[{\"colorbar\":{\"outlinewidth\":0,\"ticks\":\"\"},\"type\":\"choropleth\"}],\"contourcarpet\":[{\"colorbar\":{\"outlinewidth\":0,\"ticks\":\"\"},\"type\":\"contourcarpet\"}],\"contour\":[{\"colorbar\":{\"outlinewidth\":0,\"ticks\":\"\"},\"colorscale\":[[0.0,\"#0d0887\"],[0.1111111111111111,\"#46039f\"],[0.2222222222222222,\"#7201a8\"],[0.3333333333333333,\"#9c179e\"],[0.4444444444444444,\"#bd3786\"],[0.5555555555555556,\"#d8576b\"],[0.6666666666666666,\"#ed7953\"],[0.7777777777777778,\"#fb9f3a\"],[0.8888888888888888,\"#fdca26\"],[1.0,\"#f0f921\"]],\"type\":\"contour\"}],\"heatmapgl\":[{\"colorbar\":{\"outlinewidth\":0,\"ticks\":\"\"},\"colorscale\":[[0.0,\"#0d0887\"],[0.1111111111111111,\"#46039f\"],[0.2222222222222222,\"#7201a8\"],[0.3333333333333333,\"#9c179e\"],[0.4444444444444444,\"#bd3786\"],[0.5555555555555556,\"#d8576b\"],[0.6666666666666666,\"#ed7953\"],[0.7777777777777778,\"#fb9f3a\"],[0.8888888888888888,\"#fdca26\"],[1.0,\"#f0f921\"]],\"type\":\"heatmapgl\"}],\"heatmap\":[{\"colorbar\":{\"outlinewidth\":0,\"ticks\":\"\"},\"colorscale\":[[0.0,\"#0d0887\"],[0.1111111111111111,\"#46039f\"],[0.2222222222222222,\"#7201a8\"],[0.3333333333333333,\"#9c179e\"],[0.4444444444444444,\"#bd3786\"],[0.5555555555555556,\"#d8576b\"],[0.6666666666666666,\"#ed7953\"],[0.7777777777777778,\"#fb9f3a\"],[0.8888888888888888,\"#fdca26\"],[1.0,\"#f0f921\"]],\"type\":\"heatmap\"}],\"histogram2dcontour\":[{\"colorbar\":{\"outlinewidth\":0,\"ticks\":\"\"},\"colorscale\":[[0.0,\"#0d0887\"],[0.1111111111111111,\"#46039f\"],[0.2222222222222222,\"#7201a8\"],[0.3333333333333333,\"#9c179e\"],[0.4444444444444444,\"#bd3786\"],[0.5555555555555556,\"#d8576b\"],[0.6666666666666666,\"#ed7953\"],[0.7777777777777778,\"#fb9f3a\"],[0.8888888888888888,\"#fdca26\"],[1.0,\"#f0f921\"]],\"type\":\"histogram2dcontour\"}],\"histogram2d\":[{\"colorbar\":{\"outlinewidth\":0,\"ticks\":\"\"},\"colorscale\":[[0.0,\"#0d0887\"],[0.1111111111111111,\"#46039f\"],[0.2222222222222222,\"#7201a8\"],[0.3333333333333333,\"#9c179e\"],[0.4444444444444444,\"#bd3786\"],[0.5555555555555556,\"#d8576b\"],[0.6666666666666666,\"#ed7953\"],[0.7777777777777778,\"#fb9f3a\"],[0.8888888888888888,\"#fdca26\"],[1.0,\"#f0f921\"]],\"type\":\"histogram2d\"}],\"histogram\":[{\"marker\":{\"pattern\":{\"fillmode\":\"overlay\",\"size\":10,\"solidity\":0.2}},\"type\":\"histogram\"}],\"mesh3d\":[{\"colorbar\":{\"outlinewidth\":0,\"ticks\":\"\"},\"type\":\"mesh3d\"}],\"parcoords\":[{\"line\":{\"colorbar\":{\"outlinewidth\":0,\"ticks\":\"\"}},\"type\":\"parcoords\"}],\"pie\":[{\"automargin\":true,\"type\":\"pie\"}],\"scatter3d\":[{\"line\":{\"colorbar\":{\"outlinewidth\":0,\"ticks\":\"\"}},\"marker\":{\"colorbar\":{\"outlinewidth\":0,\"ticks\":\"\"}},\"type\":\"scatter3d\"}],\"scattercarpet\":[{\"marker\":{\"colorbar\":{\"outlinewidth\":0,\"ticks\":\"\"}},\"type\":\"scattercarpet\"}],\"scattergeo\":[{\"marker\":{\"colorbar\":{\"outlinewidth\":0,\"ticks\":\"\"}},\"type\":\"scattergeo\"}],\"scattergl\":[{\"marker\":{\"line\":{\"color\":\"#283442\"}},\"type\":\"scattergl\"}],\"scattermapbox\":[{\"marker\":{\"colorbar\":{\"outlinewidth\":0,\"ticks\":\"\"}},\"type\":\"scattermapbox\"}],\"scatterpolargl\":[{\"marker\":{\"colorbar\":{\"outlinewidth\":0,\"ticks\":\"\"}},\"type\":\"scatterpolargl\"}],\"scatterpolar\":[{\"marker\":{\"colorbar\":{\"outlinewidth\":0,\"ticks\":\"\"}},\"type\":\"scatterpolar\"}],\"scatter\":[{\"marker\":{\"line\":{\"color\":\"#283442\"}},\"type\":\"scatter\"}],\"scatterternary\":[{\"marker\":{\"colorbar\":{\"outlinewidth\":0,\"ticks\":\"\"}},\"type\":\"scatterternary\"}],\"surface\":[{\"colorbar\":{\"outlinewidth\":0,\"ticks\":\"\"},\"colorscale\":[[0.0,\"#0d0887\"],[0.1111111111111111,\"#46039f\"],[0.2222222222222222,\"#7201a8\"],[0.3333333333333333,\"#9c179e\"],[0.4444444444444444,\"#bd3786\"],[0.5555555555555556,\"#d8576b\"],[0.6666666666666666,\"#ed7953\"],[0.7777777777777778,\"#fb9f3a\"],[0.8888888888888888,\"#fdca26\"],[1.0,\"#f0f921\"]],\"type\":\"surface\"}],\"table\":[{\"cells\":{\"fill\":{\"color\":\"#506784\"},\"line\":{\"color\":\"rgb(17,17,17)\"}},\"header\":{\"fill\":{\"color\":\"#2a3f5f\"},\"line\":{\"color\":\"rgb(17,17,17)\"}},\"type\":\"table\"}]},\"layout\":{\"annotationdefaults\":{\"arrowcolor\":\"#f2f5fa\",\"arrowhead\":0,\"arrowwidth\":1},\"autotypenumbers\":\"strict\",\"coloraxis\":{\"colorbar\":{\"outlinewidth\":0,\"ticks\":\"\"}},\"colorscale\":{\"diverging\":[[0,\"#8e0152\"],[0.1,\"#c51b7d\"],[0.2,\"#de77ae\"],[0.3,\"#f1b6da\"],[0.4,\"#fde0ef\"],[0.5,\"#f7f7f7\"],[0.6,\"#e6f5d0\"],[0.7,\"#b8e186\"],[0.8,\"#7fbc41\"],[0.9,\"#4d9221\"],[1,\"#276419\"]],\"sequential\":[[0.0,\"#0d0887\"],[0.1111111111111111,\"#46039f\"],[0.2222222222222222,\"#7201a8\"],[0.3333333333333333,\"#9c179e\"],[0.4444444444444444,\"#bd3786\"],[0.5555555555555556,\"#d8576b\"],[0.6666666666666666,\"#ed7953\"],[0.7777777777777778,\"#fb9f3a\"],[0.8888888888888888,\"#fdca26\"],[1.0,\"#f0f921\"]],\"sequentialminus\":[[0.0,\"#0d0887\"],[0.1111111111111111,\"#46039f\"],[0.2222222222222222,\"#7201a8\"],[0.3333333333333333,\"#9c179e\"],[0.4444444444444444,\"#bd3786\"],[0.5555555555555556,\"#d8576b\"],[0.6666666666666666,\"#ed7953\"],[0.7777777777777778,\"#fb9f3a\"],[0.8888888888888888,\"#fdca26\"],[1.0,\"#f0f921\"]]},\"colorway\":[\"#636efa\",\"#EF553B\",\"#00cc96\",\"#ab63fa\",\"#FFA15A\",\"#19d3f3\",\"#FF6692\",\"#B6E880\",\"#FF97FF\",\"#FECB52\"],\"font\":{\"color\":\"#f2f5fa\"},\"geo\":{\"bgcolor\":\"rgb(17,17,17)\",\"lakecolor\":\"rgb(17,17,17)\",\"landcolor\":\"rgb(17,17,17)\",\"showlakes\":true,\"showland\":true,\"subunitcolor\":\"#506784\"},\"hoverlabel\":{\"align\":\"left\"},\"hovermode\":\"closest\",\"mapbox\":{\"style\":\"dark\"},\"paper_bgcolor\":\"rgb(17,17,17)\",\"plot_bgcolor\":\"rgb(17,17,17)\",\"polar\":{\"angularaxis\":{\"gridcolor\":\"#506784\",\"linecolor\":\"#506784\",\"ticks\":\"\"},\"bgcolor\":\"rgb(17,17,17)\",\"radialaxis\":{\"gridcolor\":\"#506784\",\"linecolor\":\"#506784\",\"ticks\":\"\"}},\"scene\":{\"xaxis\":{\"backgroundcolor\":\"rgb(17,17,17)\",\"gridcolor\":\"#506784\",\"gridwidth\":2,\"linecolor\":\"#506784\",\"showbackground\":true,\"ticks\":\"\",\"zerolinecolor\":\"#C8D4E3\"},\"yaxis\":{\"backgroundcolor\":\"rgb(17,17,17)\",\"gridcolor\":\"#506784\",\"gridwidth\":2,\"linecolor\":\"#506784\",\"showbackground\":true,\"ticks\":\"\",\"zerolinecolor\":\"#C8D4E3\"},\"zaxis\":{\"backgroundcolor\":\"rgb(17,17,17)\",\"gridcolor\":\"#506784\",\"gridwidth\":2,\"linecolor\":\"#506784\",\"showbackground\":true,\"ticks\":\"\",\"zerolinecolor\":\"#C8D4E3\"}},\"shapedefaults\":{\"line\":{\"color\":\"#f2f5fa\"}},\"sliderdefaults\":{\"bgcolor\":\"#C8D4E3\",\"bordercolor\":\"rgb(17,17,17)\",\"borderwidth\":1,\"tickwidth\":0},\"ternary\":{\"aaxis\":{\"gridcolor\":\"#506784\",\"linecolor\":\"#506784\",\"ticks\":\"\"},\"baxis\":{\"gridcolor\":\"#506784\",\"linecolor\":\"#506784\",\"ticks\":\"\"},\"bgcolor\":\"rgb(17,17,17)\",\"caxis\":{\"gridcolor\":\"#506784\",\"linecolor\":\"#506784\",\"ticks\":\"\"}},\"title\":{\"x\":0.05},\"updatemenudefaults\":{\"bgcolor\":\"#506784\",\"borderwidth\":0},\"xaxis\":{\"automargin\":true,\"gridcolor\":\"#283442\",\"linecolor\":\"#506784\",\"ticks\":\"\",\"title\":{\"standoff\":15},\"zerolinecolor\":\"#283442\",\"zerolinewidth\":2},\"yaxis\":{\"automargin\":true,\"gridcolor\":\"#283442\",\"linecolor\":\"#506784\",\"ticks\":\"\",\"title\":{\"standoff\":15},\"zerolinecolor\":\"#283442\",\"zerolinewidth\":2}}},\"xaxis\":{\"anchor\":\"y\",\"domain\":[0.0,1.0],\"title\":{\"text\":\"D\\u00edas\"}},\"yaxis\":{\"anchor\":\"x\",\"domain\":[0.0,1.0],\"title\":{\"text\":\"Precio de Cierre\"}},\"legend\":{\"tracegroupgap\":0},\"margin\":{\"t\":60},\"title\":{\"text\":\"Predicciones de Precios de Cierre de AAPL\"}},                        {\"responsive\": true}                    ).then(function(){\n",
              "                            \n",
              "var gd = document.getElementById('87e04562-7f27-4e18-9237-9b77bf949af4');\n",
              "var x = new MutationObserver(function (mutations, observer) {{\n",
              "        var display = window.getComputedStyle(gd).display;\n",
              "        if (!display || display === 'none') {{\n",
              "            console.log([gd, 'removed!']);\n",
              "            Plotly.purge(gd);\n",
              "            observer.disconnect();\n",
              "        }}\n",
              "}});\n",
              "\n",
              "// Listen for the removal of the full notebook cells\n",
              "var notebookContainer = gd.closest('#notebook-container');\n",
              "if (notebookContainer) {{\n",
              "    x.observe(notebookContainer, {childList: true});\n",
              "}}\n",
              "\n",
              "// Listen for the clearing of the current output cell\n",
              "var outputEl = gd.closest('.output');\n",
              "if (outputEl) {{\n",
              "    x.observe(outputEl, {childList: true});\n",
              "}}\n",
              "\n",
              "                        })                };                            </script>        </div>\n",
              "</body>\n",
              "</html>"
            ]
          },
          "metadata": {}
        }
      ]
    }
  ]
}