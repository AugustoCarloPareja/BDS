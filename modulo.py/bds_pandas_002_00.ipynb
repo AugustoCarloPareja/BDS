{
  "nbformat": 4,
  "nbformat_minor": 0,
  "metadata": {
    "colab": {
      "provenance": [],
      "toc_visible": true,
      "authorship_tag": "ABX9TyMGYfad8vRPDwh8efRNTEw+",
      "include_colab_link": true
    },
    "kernelspec": {
      "name": "python3",
      "display_name": "Python 3"
    },
    "language_info": {
      "name": "python"
    }
  },
  "cells": [
    {
      "cell_type": "markdown",
      "metadata": {
        "id": "view-in-github",
        "colab_type": "text"
      },
      "source": [
        "<a href=\"https://colab.research.google.com/github/cristiandarioortegayubro/BDS/blob/main/modulo.py/bds_pandas_002_00.ipynb\" target=\"_parent\"><img src=\"https://colab.research.google.com/assets/colab-badge.svg\" alt=\"Open In Colab\"/></a>"
      ]
    },
    {
      "cell_type": "markdown",
      "source": [
        "![logo](https://github.com/cristiandarioortegayubro/BDS/blob/main/images/Logo%20BDS%20Horizontal%208.png?raw=true)"
      ],
      "metadata": {
        "id": "iheuwam9e4CH"
      }
    },
    {
      "cell_type": "markdown",
      "source": [
        "![](https://github.com/cristiandarioortegayubro/BDS/blob/main/images/Logo%20Pandas.png?raw=true)"
      ],
      "metadata": {
        "id": "zFXfyR2BTcmO"
      }
    },
    {
      "cell_type": "markdown",
      "source": [
        " # **<font color=\"DeepPink\">Algo más que 10 minutos... listas, diccionarios y dataframes</font>**"
      ],
      "metadata": {
        "id": "PO99UQh5hxQ2"
      }
    },
    {
      "cell_type": "markdown",
      "source": [
        " ## **<font color=\"DeepPink\">Habilitando bibliotecas de análisis de datos...</font>**"
      ],
      "metadata": {
        "id": "yVFrM8sFjKIY"
      }
    },
    {
      "cell_type": "code",
      "source": [
        "import numpy as np\n",
        "import pandas as pd"
      ],
      "metadata": {
        "id": "VQgCEI8EWqf0"
      },
      "execution_count": null,
      "outputs": []
    },
    {
      "cell_type": "markdown",
      "source": [
        "## **<font color=\"DeepPink\">Configurando las opciones deseadas</font>**"
      ],
      "metadata": {
        "id": "ShULCYPraoe1"
      }
    },
    {
      "cell_type": "code",
      "source": [
        "pd.options.display.precision = 2\n",
        "pd.options.display.float_format = \"{:.2f}\".format"
      ],
      "metadata": {
        "id": "gVLhFboQxvFs"
      },
      "execution_count": null,
      "outputs": []
    },
    {
      "cell_type": "markdown",
      "source": [
        "## **<font color=\"DeepPink\">Obtención de datos y creación del dataframe</font>**\n",
        "\n"
      ],
      "metadata": {
        "id": "MOVop3Rob3cM"
      }
    },
    {
      "cell_type": "markdown",
      "source": [
        "https://www.atm.mendoza.gov.ar/portalatm/zoneBottom/datosInteres/recaudacion/recaudacion_por_impuesto_anual.jsp"
      ],
      "metadata": {
        "id": "2b8uwCKmmvIp"
      }
    },
    {
      "cell_type": "code",
      "source": [
        "data = \"https://www.atm.mendoza.gov.ar/portalatm/zoneBottom/datosInteres/recaudacion/recaudacion_por_impuesto_anual.jsp\"\n",
        "lista = pd.read_html(data, flavor=\"html5lib\", index_col=0, header=1)"
      ],
      "metadata": {
        "id": "VrXOfyCZdvju"
      },
      "execution_count": null,
      "outputs": []
    },
    {
      "cell_type": "markdown",
      "source": [
        "---\n",
        "<p align=\"justify\"><b>\n",
        "<font color=\"DeepPink\">\n",
        "⛳ Vamos por el desafío, que es automatizar los scrips para que de la lista inicial, se puedan crear todos los dataframes resultantes en virtud de los ejercicios fiscales que tiene la lista, es decir, desde el año $2000$ hasta el año actual.\n",
        "</font>\n",
        "</p>\n",
        "\n",
        "---"
      ],
      "metadata": {
        "id": "59iYXJD4aijH"
      }
    },
    {
      "cell_type": "markdown",
      "source": [
        "<p>\n",
        "<font color=\"DeepPink\">\n",
        "\n",
        "> **Verificamos la cantidad de elementos de la lista con el método ```len()```...**\n",
        "</font>\n",
        "</p>"
      ],
      "metadata": {
        "id": "Uat4I7fFcKSZ"
      }
    },
    {
      "cell_type": "code",
      "source": [
        "len(lista)"
      ],
      "metadata": {
        "colab": {
          "base_uri": "https://localhost:8080/"
        },
        "id": "hXThmvvIcemz",
        "outputId": "dd970b3e-8a07-4e3c-a73f-bc927ac26cf1"
      },
      "execution_count": null,
      "outputs": [
        {
          "output_type": "execute_result",
          "data": {
            "text/plain": [
              "23"
            ]
          },
          "metadata": {},
          "execution_count": 4
        }
      ]
    },
    {
      "cell_type": "markdown",
      "source": [
        "<p align=\"justify\"><b>\n",
        "<font color=\"DeepPink\">\n",
        "Estos elementos corresponden a la cantidad de tablas que hay en la página web de la Administración Tributaria Mendoza, mostrando cada una de las tablas, la recaudación en impuestos provinciales por año, desde el año $2000$.\n",
        "\n",
        "</font>\n",
        "</p>\n"
      ],
      "metadata": {
        "id": "QOn7swW4i-E3"
      }
    },
    {
      "cell_type": "markdown",
      "source": [
        "https://www.atm.mendoza.gov.ar/portalatm/zoneBottom/datosInteres/recaudacion/recaudacion_por_impuesto_anual.jsp"
      ],
      "metadata": {
        "id": "LuyFPBMpovEe"
      }
    },
    {
      "cell_type": "markdown",
      "source": [
        "<p align=\"justify\">\n",
        "<font color=\"DeepPink\">\n",
        "\n",
        "> **Verificamos ahora el tipo de estructura de datos del objeto ```lista``` con el método ```type()```...**\n",
        "</font>\n",
        "</p>"
      ],
      "metadata": {
        "id": "sso6dN8yoBQH"
      }
    },
    {
      "cell_type": "code",
      "source": [
        "type(lista)"
      ],
      "metadata": {
        "colab": {
          "base_uri": "https://localhost:8080/"
        },
        "id": "Z9n19os2chjT",
        "outputId": "912fde1c-769c-47db-cfe6-fa83f410b0a2"
      },
      "execution_count": null,
      "outputs": [
        {
          "output_type": "execute_result",
          "data": {
            "text/plain": [
              "list"
            ]
          },
          "metadata": {},
          "execution_count": 5
        }
      ]
    },
    {
      "cell_type": "code",
      "source": [
        "print(list(range(0,len(lista))))"
      ],
      "metadata": {
        "colab": {
          "base_uri": "https://localhost:8080/"
        },
        "id": "5vopawgPckdG",
        "outputId": "b6e6d37c-dd2f-4bb4-d9ab-968b44b81cd1"
      },
      "execution_count": null,
      "outputs": [
        {
          "output_type": "stream",
          "name": "stdout",
          "text": [
            "[0, 1, 2, 3, 4, 5, 6, 7, 8, 9, 10, 11, 12, 13, 14, 15, 16, 17, 18, 19, 20, 21, 22]\n"
          ]
        }
      ]
    },
    {
      "cell_type": "markdown",
      "source": [
        "<p align=\"justify\">\n",
        "<font color=\"DeepPink\">\n",
        "\n",
        "> **Ahora creamos listas vacías...**\n",
        "</font>\n",
        "</p>"
      ],
      "metadata": {
        "id": "Kxs6ArOKoPW7"
      }
    },
    {
      "cell_type": "code",
      "source": [
        "nombre_dataframe = []\n",
        "for i in list(range(0,len(lista))):\n",
        "  ej_fiscal = \"ejercicio_\" + str(2000 + i)\n",
        "  nombre_dataframe.append(ej_fiscal)"
      ],
      "metadata": {
        "id": "bzYcLqIxPQvk"
      },
      "execution_count": null,
      "outputs": []
    },
    {
      "cell_type": "code",
      "source": [
        "dataframe = []\n",
        "for i in list(range(0,len(lista))):\n",
        "  df = lista[i].dropna(axis=1, how=\"all\")\n",
        "  df.columns = df.iloc[0,]\n",
        "  df.columns.name = None\n",
        "  df.index.name = \"Mes\"\n",
        "  df.reset_index(inplace=True)\n",
        "  df = df.dropna(axis=0, how=\"all\")\n",
        "  df.reset_index(drop=True,inplace=True)\n",
        "  df = df[(df.Automotor != \"Automotor\") & (df.Mes != \"Totales\")]\n",
        "  df.set_index(\"Mes\", drop=True, inplace=True)\n",
        "  df = df.astype(\"float\")\n",
        "  df.reset_index(inplace=True)\n",
        "  dataframe.append(df)"
      ],
      "metadata": {
        "id": "7q6bjzY0c_PF"
      },
      "execution_count": null,
      "outputs": []
    },
    {
      "cell_type": "markdown",
      "source": [
        "<p align=\"justify\"><b>\n",
        "<font color=\"DeepPink\">\n",
        "Un diccionario es un ejemplo de un almacén de valores claves, también conocido como Mapeo en Python. Los diccionarios permiten almacenar y recuperar elementos haciendo referencia a esas claves.<br><br> \n",
        "Como los diccionarios se referencian por clave, tienen búsquedas muy rápidas. Como se utilizan principalmente para hacer referencia a elementos por clave, los diccionarios no se ordenan.\n",
        "</font>\n",
        "</p>\n"
      ],
      "metadata": {
        "id": "QQRCteJYllN3"
      }
    },
    {
      "cell_type": "code",
      "source": [
        "diccionario = dict(zip(nombre_dataframe, dataframe))"
      ],
      "metadata": {
        "id": "7gygHcS_oP-j"
      },
      "execution_count": null,
      "outputs": []
    },
    {
      "cell_type": "markdown",
      "source": [
        "<p>\n",
        "<font color=\"DeepPink\">\n",
        "\n",
        "> **Vemos las claves del diccionario con el método ```keys()```...**\n",
        "</font>\n",
        "</p>"
      ],
      "metadata": {
        "id": "yCyPyJllmfTF"
      }
    },
    {
      "cell_type": "code",
      "source": [
        "diccionario.keys()"
      ],
      "metadata": {
        "colab": {
          "base_uri": "https://localhost:8080/"
        },
        "id": "yYNrs2AGspTr",
        "outputId": "5c65afc5-3469-4a5e-848b-a9dcecab8379"
      },
      "execution_count": null,
      "outputs": [
        {
          "output_type": "execute_result",
          "data": {
            "text/plain": [
              "dict_keys(['ejercicio_2000', 'ejercicio_2001', 'ejercicio_2002', 'ejercicio_2003', 'ejercicio_2004', 'ejercicio_2005', 'ejercicio_2006', 'ejercicio_2007', 'ejercicio_2008', 'ejercicio_2009', 'ejercicio_2010', 'ejercicio_2011', 'ejercicio_2012', 'ejercicio_2013', 'ejercicio_2014', 'ejercicio_2015', 'ejercicio_2016', 'ejercicio_2017', 'ejercicio_2018', 'ejercicio_2019', 'ejercicio_2020', 'ejercicio_2021', 'ejercicio_2022'])"
            ]
          },
          "metadata": {},
          "execution_count": 10
        }
      ]
    },
    {
      "cell_type": "code",
      "source": [
        "diccionario[\"ejercicio_2000\"]"
      ],
      "metadata": {
        "colab": {
          "base_uri": "https://localhost:8080/",
          "height": 426
        },
        "id": "PF9GgiZTuFbp",
        "outputId": "c41e445a-0f83-4ee4-f375-7260a548f4be"
      },
      "execution_count": null,
      "outputs": [
        {
          "output_type": "execute_result",
          "data": {
            "text/plain": [
              "           Mes  Ingresos Varios  Ingresos Brutos  Inmobiliario   Automotor  \\\n",
              "0        Enero       4925476.00      18843926.00    1781596.00  1991123.00   \n",
              "1      Febrero       2363495.00      16258743.00   11819577.00  2922430.00   \n",
              "2        Marzo       3238795.00      17468327.00    3654542.00 10795541.00   \n",
              "3        Abril       2420553.00      17463084.00    4631617.00  2993672.00   \n",
              "4         Mayo       2910477.00      15978692.00    2282175.00  6414061.00   \n",
              "5        Junio       2992103.00      14676011.00    6058065.00  2621789.00   \n",
              "6        Julio       3986098.00      15299790.00    2576257.00  6927012.00   \n",
              "7       Agosto       2911897.00      15802483.00    4604708.00  2820010.00   \n",
              "8   Septiembre       2729553.00      15756538.00    2089292.00  6327725.00   \n",
              "9      Octubre       2239812.00      15731005.00    5094736.00  2838513.00   \n",
              "10   Noviembre       2300925.00      15660556.00    1801204.00  3241242.00   \n",
              "11   Diciembre       3994951.00      16032799.00    1859617.00  2331999.00   \n",
              "\n",
              "       Sellos  \n",
              "0  4960397.00  \n",
              "1  3497740.00  \n",
              "2  3726054.00  \n",
              "3  4336669.00  \n",
              "4  3439462.00  \n",
              "5  3670132.00  \n",
              "6  4013424.00  \n",
              "7  3911091.00  \n",
              "8  4597739.00  \n",
              "9  4199000.00  \n",
              "10 3834782.00  \n",
              "11 3620270.00  "
            ],
            "text/html": [
              "\n",
              "  <div id=\"df-612dcb8d-51df-46a1-8f3a-788736f0e9cc\">\n",
              "    <div class=\"colab-df-container\">\n",
              "      <div>\n",
              "<style scoped>\n",
              "    .dataframe tbody tr th:only-of-type {\n",
              "        vertical-align: middle;\n",
              "    }\n",
              "\n",
              "    .dataframe tbody tr th {\n",
              "        vertical-align: top;\n",
              "    }\n",
              "\n",
              "    .dataframe thead th {\n",
              "        text-align: right;\n",
              "    }\n",
              "</style>\n",
              "<table border=\"1\" class=\"dataframe\">\n",
              "  <thead>\n",
              "    <tr style=\"text-align: right;\">\n",
              "      <th></th>\n",
              "      <th>Mes</th>\n",
              "      <th>Ingresos Varios</th>\n",
              "      <th>Ingresos Brutos</th>\n",
              "      <th>Inmobiliario</th>\n",
              "      <th>Automotor</th>\n",
              "      <th>Sellos</th>\n",
              "    </tr>\n",
              "  </thead>\n",
              "  <tbody>\n",
              "    <tr>\n",
              "      <th>0</th>\n",
              "      <td>Enero</td>\n",
              "      <td>4925476.00</td>\n",
              "      <td>18843926.00</td>\n",
              "      <td>1781596.00</td>\n",
              "      <td>1991123.00</td>\n",
              "      <td>4960397.00</td>\n",
              "    </tr>\n",
              "    <tr>\n",
              "      <th>1</th>\n",
              "      <td>Febrero</td>\n",
              "      <td>2363495.00</td>\n",
              "      <td>16258743.00</td>\n",
              "      <td>11819577.00</td>\n",
              "      <td>2922430.00</td>\n",
              "      <td>3497740.00</td>\n",
              "    </tr>\n",
              "    <tr>\n",
              "      <th>2</th>\n",
              "      <td>Marzo</td>\n",
              "      <td>3238795.00</td>\n",
              "      <td>17468327.00</td>\n",
              "      <td>3654542.00</td>\n",
              "      <td>10795541.00</td>\n",
              "      <td>3726054.00</td>\n",
              "    </tr>\n",
              "    <tr>\n",
              "      <th>3</th>\n",
              "      <td>Abril</td>\n",
              "      <td>2420553.00</td>\n",
              "      <td>17463084.00</td>\n",
              "      <td>4631617.00</td>\n",
              "      <td>2993672.00</td>\n",
              "      <td>4336669.00</td>\n",
              "    </tr>\n",
              "    <tr>\n",
              "      <th>4</th>\n",
              "      <td>Mayo</td>\n",
              "      <td>2910477.00</td>\n",
              "      <td>15978692.00</td>\n",
              "      <td>2282175.00</td>\n",
              "      <td>6414061.00</td>\n",
              "      <td>3439462.00</td>\n",
              "    </tr>\n",
              "    <tr>\n",
              "      <th>5</th>\n",
              "      <td>Junio</td>\n",
              "      <td>2992103.00</td>\n",
              "      <td>14676011.00</td>\n",
              "      <td>6058065.00</td>\n",
              "      <td>2621789.00</td>\n",
              "      <td>3670132.00</td>\n",
              "    </tr>\n",
              "    <tr>\n",
              "      <th>6</th>\n",
              "      <td>Julio</td>\n",
              "      <td>3986098.00</td>\n",
              "      <td>15299790.00</td>\n",
              "      <td>2576257.00</td>\n",
              "      <td>6927012.00</td>\n",
              "      <td>4013424.00</td>\n",
              "    </tr>\n",
              "    <tr>\n",
              "      <th>7</th>\n",
              "      <td>Agosto</td>\n",
              "      <td>2911897.00</td>\n",
              "      <td>15802483.00</td>\n",
              "      <td>4604708.00</td>\n",
              "      <td>2820010.00</td>\n",
              "      <td>3911091.00</td>\n",
              "    </tr>\n",
              "    <tr>\n",
              "      <th>8</th>\n",
              "      <td>Septiembre</td>\n",
              "      <td>2729553.00</td>\n",
              "      <td>15756538.00</td>\n",
              "      <td>2089292.00</td>\n",
              "      <td>6327725.00</td>\n",
              "      <td>4597739.00</td>\n",
              "    </tr>\n",
              "    <tr>\n",
              "      <th>9</th>\n",
              "      <td>Octubre</td>\n",
              "      <td>2239812.00</td>\n",
              "      <td>15731005.00</td>\n",
              "      <td>5094736.00</td>\n",
              "      <td>2838513.00</td>\n",
              "      <td>4199000.00</td>\n",
              "    </tr>\n",
              "    <tr>\n",
              "      <th>10</th>\n",
              "      <td>Noviembre</td>\n",
              "      <td>2300925.00</td>\n",
              "      <td>15660556.00</td>\n",
              "      <td>1801204.00</td>\n",
              "      <td>3241242.00</td>\n",
              "      <td>3834782.00</td>\n",
              "    </tr>\n",
              "    <tr>\n",
              "      <th>11</th>\n",
              "      <td>Diciembre</td>\n",
              "      <td>3994951.00</td>\n",
              "      <td>16032799.00</td>\n",
              "      <td>1859617.00</td>\n",
              "      <td>2331999.00</td>\n",
              "      <td>3620270.00</td>\n",
              "    </tr>\n",
              "  </tbody>\n",
              "</table>\n",
              "</div>\n",
              "      <button class=\"colab-df-convert\" onclick=\"convertToInteractive('df-612dcb8d-51df-46a1-8f3a-788736f0e9cc')\"\n",
              "              title=\"Convert this dataframe to an interactive table.\"\n",
              "              style=\"display:none;\">\n",
              "        \n",
              "  <svg xmlns=\"http://www.w3.org/2000/svg\" height=\"24px\"viewBox=\"0 0 24 24\"\n",
              "       width=\"24px\">\n",
              "    <path d=\"M0 0h24v24H0V0z\" fill=\"none\"/>\n",
              "    <path d=\"M18.56 5.44l.94 2.06.94-2.06 2.06-.94-2.06-.94-.94-2.06-.94 2.06-2.06.94zm-11 1L8.5 8.5l.94-2.06 2.06-.94-2.06-.94L8.5 2.5l-.94 2.06-2.06.94zm10 10l.94 2.06.94-2.06 2.06-.94-2.06-.94-.94-2.06-.94 2.06-2.06.94z\"/><path d=\"M17.41 7.96l-1.37-1.37c-.4-.4-.92-.59-1.43-.59-.52 0-1.04.2-1.43.59L10.3 9.45l-7.72 7.72c-.78.78-.78 2.05 0 2.83L4 21.41c.39.39.9.59 1.41.59.51 0 1.02-.2 1.41-.59l7.78-7.78 2.81-2.81c.8-.78.8-2.07 0-2.86zM5.41 20L4 18.59l7.72-7.72 1.47 1.35L5.41 20z\"/>\n",
              "  </svg>\n",
              "      </button>\n",
              "      \n",
              "  <style>\n",
              "    .colab-df-container {\n",
              "      display:flex;\n",
              "      flex-wrap:wrap;\n",
              "      gap: 12px;\n",
              "    }\n",
              "\n",
              "    .colab-df-convert {\n",
              "      background-color: #E8F0FE;\n",
              "      border: none;\n",
              "      border-radius: 50%;\n",
              "      cursor: pointer;\n",
              "      display: none;\n",
              "      fill: #1967D2;\n",
              "      height: 32px;\n",
              "      padding: 0 0 0 0;\n",
              "      width: 32px;\n",
              "    }\n",
              "\n",
              "    .colab-df-convert:hover {\n",
              "      background-color: #E2EBFA;\n",
              "      box-shadow: 0px 1px 2px rgba(60, 64, 67, 0.3), 0px 1px 3px 1px rgba(60, 64, 67, 0.15);\n",
              "      fill: #174EA6;\n",
              "    }\n",
              "\n",
              "    [theme=dark] .colab-df-convert {\n",
              "      background-color: #3B4455;\n",
              "      fill: #D2E3FC;\n",
              "    }\n",
              "\n",
              "    [theme=dark] .colab-df-convert:hover {\n",
              "      background-color: #434B5C;\n",
              "      box-shadow: 0px 1px 3px 1px rgba(0, 0, 0, 0.15);\n",
              "      filter: drop-shadow(0px 1px 2px rgba(0, 0, 0, 0.3));\n",
              "      fill: #FFFFFF;\n",
              "    }\n",
              "  </style>\n",
              "\n",
              "      <script>\n",
              "        const buttonEl =\n",
              "          document.querySelector('#df-612dcb8d-51df-46a1-8f3a-788736f0e9cc button.colab-df-convert');\n",
              "        buttonEl.style.display =\n",
              "          google.colab.kernel.accessAllowed ? 'block' : 'none';\n",
              "\n",
              "        async function convertToInteractive(key) {\n",
              "          const element = document.querySelector('#df-612dcb8d-51df-46a1-8f3a-788736f0e9cc');\n",
              "          const dataTable =\n",
              "            await google.colab.kernel.invokeFunction('convertToInteractive',\n",
              "                                                     [key], {});\n",
              "          if (!dataTable) return;\n",
              "\n",
              "          const docLinkHtml = 'Like what you see? Visit the ' +\n",
              "            '<a target=\"_blank\" href=https://colab.research.google.com/notebooks/data_table.ipynb>data table notebook</a>'\n",
              "            + ' to learn more about interactive tables.';\n",
              "          element.innerHTML = '';\n",
              "          dataTable['output_type'] = 'display_data';\n",
              "          await google.colab.output.renderOutput(dataTable, element);\n",
              "          const docLink = document.createElement('div');\n",
              "          docLink.innerHTML = docLinkHtml;\n",
              "          element.appendChild(docLink);\n",
              "        }\n",
              "      </script>\n",
              "    </div>\n",
              "  </div>\n",
              "  "
            ]
          },
          "metadata": {},
          "execution_count": 11
        }
      ]
    },
    {
      "cell_type": "markdown",
      "source": [
        "<p align=\"justify\"><b>\n",
        "<font color=\"DeepPink\">\n",
        "✅ Ya tenemos dentro de un diccionario, todos los ejercicios fiscales en diferentes dataframe.\n",
        "</font>\n",
        "</p>\n"
      ],
      "metadata": {
        "id": "TXtJaRYvm7tz"
      }
    },
    {
      "cell_type": "markdown",
      "source": [
        "---\n",
        "<p align=\"justify\">\n",
        "<font color=\"DeepPink\">\n",
        "\n",
        "💗 **El desafío ahora, es crear un objeto para cada uno de los dataframe del diccionario...**\n",
        "\n",
        "</font>\n",
        "</p>\n",
        "\n",
        "---"
      ],
      "metadata": {
        "id": "HlUGyGS-m8Vz"
      }
    }
  ]
}