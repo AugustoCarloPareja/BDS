{
  "nbformat": 4,
  "nbformat_minor": 0,
  "metadata": {
    "colab": {
      "provenance": [],
      "authorship_tag": "ABX9TyNPkJOfgghXCE6jWJ1aeFRD",
      "include_colab_link": true
    },
    "kernelspec": {
      "name": "python3",
      "display_name": "Python 3"
    },
    "language_info": {
      "name": "python"
    }
  },
  "cells": [
    {
      "cell_type": "markdown",
      "metadata": {
        "id": "view-in-github",
        "colab_type": "text"
      },
      "source": [
        "<a href=\"https://colab.research.google.com/github/cristiandarioortegayubro/BDS/blob/main/modulo.py/bds_pandas_002_01.ipynb\" target=\"_parent\"><img src=\"https://colab.research.google.com/assets/colab-badge.svg\" alt=\"Open In Colab\"/></a>"
      ]
    },
    {
      "cell_type": "markdown",
      "source": [
        "![logo](https://github.com/cristiandarioortegayubro/BDS/blob/main/images/Logo%20BDS%20Horizontal%208.png?raw=true)"
      ],
      "metadata": {
        "id": "iheuwam9e4CH"
      }
    },
    {
      "cell_type": "markdown",
      "source": [
        "![](https://github.com/cristiandarioortegayubro/BDS/blob/main/images/Logo%20Pandas.png?raw=true)"
      ],
      "metadata": {
        "id": "zFXfyR2BTcmO"
      }
    },
    {
      "cell_type": "markdown",
      "source": [
        " # **<font color=\"DeepPink\">Algo más que 10 minutos... listas y dataframes</font>**"
      ],
      "metadata": {
        "id": "PO99UQh5hxQ2"
      }
    },
    {
      "cell_type": "markdown",
      "source": [
        " ## **<font color=\"DeepPink\">Actualizando las bibliotecas requeridas...</font>**"
      ],
      "metadata": {
        "id": "4S16NiJ1zUEo"
      }
    },
    {
      "cell_type": "code",
      "source": [
        "!pip install plotly --upgrade "
      ],
      "metadata": {
        "colab": {
          "base_uri": "https://localhost:8080/"
        },
        "id": "3dXCVmqjzQ9a",
        "outputId": "9a07e353-34f8-4b3e-c19d-31bf413ac2fa"
      },
      "execution_count": 1,
      "outputs": [
        {
          "output_type": "stream",
          "name": "stdout",
          "text": [
            "Looking in indexes: https://pypi.org/simple, https://us-python.pkg.dev/colab-wheels/public/simple/\n",
            "Requirement already satisfied: plotly in /usr/local/lib/python3.8/dist-packages (5.5.0)\n",
            "Collecting plotly\n",
            "  Downloading plotly-5.13.0-py2.py3-none-any.whl (15.2 MB)\n",
            "\u001b[2K     \u001b[90m━━━━━━━━━━━━━━━━━━━━━━━━━━━━━━━━━━━━━━━━\u001b[0m \u001b[32m15.2/15.2 MB\u001b[0m \u001b[31m35.1 MB/s\u001b[0m eta \u001b[36m0:00:00\u001b[0m\n",
            "\u001b[?25hRequirement already satisfied: tenacity>=6.2.0 in /usr/local/lib/python3.8/dist-packages (from plotly) (8.1.0)\n",
            "Installing collected packages: plotly\n",
            "  Attempting uninstall: plotly\n",
            "    Found existing installation: plotly 5.5.0\n",
            "    Uninstalling plotly-5.5.0:\n",
            "      Successfully uninstalled plotly-5.5.0\n",
            "Successfully installed plotly-5.13.0\n"
          ]
        }
      ]
    },
    {
      "cell_type": "markdown",
      "source": [
        " ## **<font color=\"DeepPink\">Habilitando bibliotecas de análisis de datos...</font>**"
      ],
      "metadata": {
        "id": "yVFrM8sFjKIY"
      }
    },
    {
      "cell_type": "code",
      "source": [
        "import pandas as pd"
      ],
      "metadata": {
        "id": "VQgCEI8EWqf0"
      },
      "execution_count": 2,
      "outputs": []
    },
    {
      "cell_type": "markdown",
      "source": [
        " ## **<font color=\"DeepPink\">Biblioteca gráfica...</font>**"
      ],
      "metadata": {
        "id": "cZhH9cSAziMO"
      }
    },
    {
      "cell_type": "code",
      "source": [
        "import plotly.express as px"
      ],
      "metadata": {
        "id": "aut17FonzfOp"
      },
      "execution_count": 3,
      "outputs": []
    },
    {
      "cell_type": "markdown",
      "source": [
        "## **<font color=\"DeepPink\">Configurando las opciones deseadas</font>**"
      ],
      "metadata": {
        "id": "ShULCYPraoe1"
      }
    },
    {
      "cell_type": "code",
      "source": [
        "pd.options.display.precision = 2\n",
        "pd.options.display.float_format = \"{:.2f}\".format"
      ],
      "metadata": {
        "id": "gVLhFboQxvFs"
      },
      "execution_count": 4,
      "outputs": []
    },
    {
      "cell_type": "markdown",
      "source": [
        "## **<font color=\"DeepPink\">Obtención de datos y creación del dataframe</font>**\n",
        "\n"
      ],
      "metadata": {
        "id": "MOVop3Rob3cM"
      }
    },
    {
      "cell_type": "markdown",
      "source": [
        "https://www.atm.mendoza.gov.ar/portalatm/zoneBottom/datosInteres/recaudacion/recaudacion_por_impuesto_anual.jsp"
      ],
      "metadata": {
        "id": "2b8uwCKmmvIp"
      }
    },
    {
      "cell_type": "code",
      "source": [
        "data = \"https://www.atm.mendoza.gov.ar/portalatm/zoneBottom/datosInteres/recaudacion/recaudacion_por_impuesto_anual.jsp\"\n",
        "lista = pd.read_html(data, flavor=\"html5lib\", index_col=0, header=1)"
      ],
      "metadata": {
        "id": "VrXOfyCZdvju"
      },
      "execution_count": 5,
      "outputs": []
    },
    {
      "cell_type": "markdown",
      "source": [
        "---\n",
        "<p align=\"justify\">\n",
        "<font color=\"DeepPink\">\n",
        "\n",
        "⛳ **Vamos por el desafío, que es automatizar los scrips para que de la lista inicial, se puedan crear todos los dataframes resultantes en virtud de los ejercicios fiscales que tiene la lista, es decir, desde el año $2000$ hasta el año actual.**\n",
        "</font>\n",
        "</p>\n",
        "\n",
        "---"
      ],
      "metadata": {
        "id": "59iYXJD4aijH"
      }
    },
    {
      "cell_type": "markdown",
      "source": [
        "<p>\n",
        "<font color=\"DeepPink\">\n",
        "\n",
        "> **Verificamos la cantidad de elementos de la lista con el método ```len()```...**\n",
        "</font>\n",
        "</p>"
      ],
      "metadata": {
        "id": "Uat4I7fFcKSZ"
      }
    },
    {
      "cell_type": "code",
      "source": [
        "len(lista)"
      ],
      "metadata": {
        "colab": {
          "base_uri": "https://localhost:8080/"
        },
        "id": "hXThmvvIcemz",
        "outputId": "375ce165-4942-47de-8ff8-f43de0e9470e"
      },
      "execution_count": 6,
      "outputs": [
        {
          "output_type": "execute_result",
          "data": {
            "text/plain": [
              "23"
            ]
          },
          "metadata": {},
          "execution_count": 6
        }
      ]
    },
    {
      "cell_type": "markdown",
      "source": [
        "<p>\n",
        "<font color=\"DeepPink\">\n",
        "\n",
        "**Estos elementos corresponden a la cantidad de tablas que hay en la página web de la Administración Tributaria Mendoza, mostrando cada una de las tablas, la recaudación en impuestos provinciales por año, desde el año $2000$.**\n",
        "\n",
        "</font>\n",
        "</p>\n"
      ],
      "metadata": {
        "id": "QOn7swW4i-E3"
      }
    },
    {
      "cell_type": "markdown",
      "source": [
        "https://www.atm.mendoza.gov.ar/portalatm/zoneBottom/datosInteres/recaudacion/recaudacion_por_impuesto_anual.jsp"
      ],
      "metadata": {
        "id": "LuyFPBMpovEe"
      }
    },
    {
      "cell_type": "code",
      "source": [
        "dataframe = []\n",
        "for i in list(range(0,len(lista))):\n",
        "  df = lista[i].dropna(axis=1, how=\"all\")\n",
        "  df.columns = df.iloc[0,]\n",
        "  df.columns.name = None\n",
        "  df.index.name = \"Datos\"\n",
        "  df.reset_index(inplace=True)\n",
        "  df = df.dropna(axis=0, how=\"all\")                               \n",
        "  df.reset_index(drop=True,inplace=True)\n",
        "  df = df[(df.Automotor != \"Automotor\") & (df.Datos != \"Totales\")]\n",
        "  df.drop(columns=\"Datos\",inplace=True)\n",
        "  df = df.astype(\"float\")\n",
        "  df.index.name = \"Mes\"\n",
        "  df.reset_index(inplace=True)\n",
        "  df[\"Año\"] = int(2000 + i)\n",
        "  dataframe.append(df)"
      ],
      "metadata": {
        "id": "7q6bjzY0c_PF"
      },
      "execution_count": 9,
      "outputs": []
    },
    {
      "cell_type": "code",
      "source": [
        "impuestos = pd.concat(dataframe)\n",
        "impuestos.reset_index(drop=True,inplace=True)\n",
        "impuestos = impuestos[[\"Mes\",\"Año\",\"Ingresos Varios\",\"Ingresos Brutos\",\"Inmobiliario\",\"Automotor\",\"Sellos\"]]"
      ],
      "metadata": {
        "id": "QpKOXorJd4ut"
      },
      "execution_count": 10,
      "outputs": []
    },
    {
      "cell_type": "code",
      "source": [
        "impuestos.info()"
      ],
      "metadata": {
        "colab": {
          "base_uri": "https://localhost:8080/"
        },
        "id": "syhR5I19t0aG",
        "outputId": "799d9e4b-e14b-4269-81da-4649aad0d892"
      },
      "execution_count": 11,
      "outputs": [
        {
          "output_type": "stream",
          "name": "stdout",
          "text": [
            "<class 'pandas.core.frame.DataFrame'>\n",
            "RangeIndex: 276 entries, 0 to 275\n",
            "Data columns (total 7 columns):\n",
            " #   Column           Non-Null Count  Dtype  \n",
            "---  ------           --------------  -----  \n",
            " 0   Mes              276 non-null    int64  \n",
            " 1   Año              276 non-null    int64  \n",
            " 2   Ingresos Varios  276 non-null    float64\n",
            " 3   Ingresos Brutos  276 non-null    float64\n",
            " 4   Inmobiliario     276 non-null    float64\n",
            " 5   Automotor        276 non-null    float64\n",
            " 6   Sellos           276 non-null    float64\n",
            "dtypes: float64(5), int64(2)\n",
            "memory usage: 15.2 KB\n"
          ]
        }
      ]
    },
    {
      "cell_type": "markdown",
      "source": [
        " ## **<font color=\"DeepPink\">Graficando...</font>**"
      ],
      "metadata": {
        "id": "DxCmQUBnzrCU"
      }
    },
    {
      "cell_type": "markdown",
      "source": [
        " ### **<font color=\"DeepPink\">Ingresos Brutos...</font>**"
      ],
      "metadata": {
        "id": "85km2tF022oS"
      }
    },
    {
      "cell_type": "code",
      "source": [
        "pre = impuestos.query(\"Año > 2015 and Año < 2020\")"
      ],
      "metadata": {
        "id": "8Y75MkcA1ZGU"
      },
      "execution_count": 23,
      "outputs": []
    },
    {
      "cell_type": "code",
      "source": [
        "post = impuestos.query(\"Año > 2020\")"
      ],
      "metadata": {
        "id": "8Ytq4N0h0CTu"
      },
      "execution_count": 19,
      "outputs": []
    },
    {
      "cell_type": "code",
      "source": [
        "px.line(pre, \n",
        "        x=\"Mes\",\n",
        "        y=\"Ingresos Brutos\",\n",
        "        markers=True, \n",
        "        title='Ingresos Brutos 2016 al 2019 pre pandemia',\n",
        "        template=\"gridon\",\n",
        "        color=\"Año\")"
      ],
      "metadata": {
        "colab": {
          "base_uri": "https://localhost:8080/",
          "height": 542
        },
        "id": "P4_Xp1RD0l24",
        "outputId": "64a5e7df-1f6a-4157-adf2-d1e468e595fb"
      },
      "execution_count": 24,
      "outputs": [
        {
          "output_type": "display_data",
          "data": {
            "text/html": [
              "<html>\n",
              "<head><meta charset=\"utf-8\" /></head>\n",
              "<body>\n",
              "    <div>            <script src=\"https://cdnjs.cloudflare.com/ajax/libs/mathjax/2.7.5/MathJax.js?config=TeX-AMS-MML_SVG\"></script><script type=\"text/javascript\">if (window.MathJax && window.MathJax.Hub && window.MathJax.Hub.Config) {window.MathJax.Hub.Config({SVG: {font: \"STIX-Web\"}});}</script>                <script type=\"text/javascript\">window.PlotlyConfig = {MathJaxConfig: 'local'};</script>\n",
              "        <script src=\"https://cdn.plot.ly/plotly-2.18.0.min.js\"></script>                <div id=\"0656c61d-c60e-4c24-8d3e-bc320cd91ddc\" class=\"plotly-graph-div\" style=\"height:525px; width:100%;\"></div>            <script type=\"text/javascript\">                                    window.PLOTLYENV=window.PLOTLYENV || {};                                    if (document.getElementById(\"0656c61d-c60e-4c24-8d3e-bc320cd91ddc\")) {                    Plotly.newPlot(                        \"0656c61d-c60e-4c24-8d3e-bc320cd91ddc\",                        [{\"hovertemplate\":\"A\\u00f1o=2016<br>Mes=%{x}<br>Ingresos Brutos=%{y}<extra></extra>\",\"legendgroup\":\"2016\",\"line\":{\"color\":\"#1F77B4\",\"dash\":\"solid\"},\"marker\":{\"symbol\":\"circle\"},\"mode\":\"lines+markers\",\"name\":\"2016\",\"orientation\":\"v\",\"showlegend\":true,\"x\":[1,2,3,4,5,6,7,8,9,10,11,12],\"xaxis\":\"x\",\"y\":[990329978.0,919810308.0,965441676.0,1046270167.0,1043528821.0,991656616.0,1105998076.0,1127364425.0,1141604417.0,1098256448.0,1175329181.0,1192269519.0],\"yaxis\":\"y\",\"type\":\"scatter\"},{\"hovertemplate\":\"A\\u00f1o=2017<br>Mes=%{x}<br>Ingresos Brutos=%{y}<extra></extra>\",\"legendgroup\":\"2017\",\"line\":{\"color\":\"#FF7F0E\",\"dash\":\"solid\"},\"marker\":{\"symbol\":\"circle\"},\"mode\":\"lines+markers\",\"name\":\"2017\",\"orientation\":\"v\",\"showlegend\":true,\"x\":[1,2,3,4,5,6,7,8,9,10,11,12],\"xaxis\":\"x\",\"y\":[1317982229.0,1194014665.0,1202600310.0,1386964121.0,1288922134.0,1291359719.0,1355228857.0,1460045961.0,1518901732.0,1483261492.0,1484020632.0,1668256848.0],\"yaxis\":\"y\",\"type\":\"scatter\"},{\"hovertemplate\":\"A\\u00f1o=2018<br>Mes=%{x}<br>Ingresos Brutos=%{y}<extra></extra>\",\"legendgroup\":\"2018\",\"line\":{\"color\":\"#2CA02C\",\"dash\":\"solid\"},\"marker\":{\"symbol\":\"circle\"},\"mode\":\"lines+markers\",\"name\":\"2018\",\"orientation\":\"v\",\"showlegend\":true,\"x\":[1,2,3,4,5,6,7,8,9,10,11,12],\"xaxis\":\"x\",\"y\":[1642808124.0,1497939109.0,1492442509.0,1611327512.0,1630360944.0,1725684002.0,1734466058.0,1884253360.0,2059133833.0,2154164859.0,2203835394.0,2105064934.0],\"yaxis\":\"y\",\"type\":\"scatter\"},{\"hovertemplate\":\"A\\u00f1o=2019<br>Mes=%{x}<br>Ingresos Brutos=%{y}<extra></extra>\",\"legendgroup\":\"2019\",\"line\":{\"color\":\"#D62728\",\"dash\":\"solid\"},\"marker\":{\"symbol\":\"circle\"},\"mode\":\"lines+markers\",\"name\":\"2019\",\"orientation\":\"v\",\"showlegend\":true,\"x\":[1,2,3,4,5,6,7,8,9,10,11,12],\"xaxis\":\"x\",\"y\":[2195529730.0,2103363732.0,2143791335.0,2277286791.0,2456053054.0,2334065968.0,2419755126.0,2761171810.0,2874249708.0,2863717767.0,2963817482.0,2857067481.0],\"yaxis\":\"y\",\"type\":\"scatter\"}],                        {\"template\":{\"data\":{\"pie\":[{\"automargin\":true,\"type\":\"pie\"}]},\"layout\":{\"xaxis\":{\"showgrid\":true,\"title\":{\"standoff\":15}},\"yaxis\":{\"showgrid\":true,\"title\":{\"standoff\":15}}}},\"xaxis\":{\"anchor\":\"y\",\"domain\":[0.0,1.0],\"title\":{\"text\":\"Mes\"}},\"yaxis\":{\"anchor\":\"x\",\"domain\":[0.0,1.0],\"title\":{\"text\":\"Ingresos Brutos\"}},\"legend\":{\"title\":{\"text\":\"A\\u00f1o\"},\"tracegroupgap\":0},\"title\":{\"text\":\"Ingresos Brutos 2016 al 2019 pre pandemia\"}},                        {\"responsive\": true}                    ).then(function(){\n",
              "                            \n",
              "var gd = document.getElementById('0656c61d-c60e-4c24-8d3e-bc320cd91ddc');\n",
              "var x = new MutationObserver(function (mutations, observer) {{\n",
              "        var display = window.getComputedStyle(gd).display;\n",
              "        if (!display || display === 'none') {{\n",
              "            console.log([gd, 'removed!']);\n",
              "            Plotly.purge(gd);\n",
              "            observer.disconnect();\n",
              "        }}\n",
              "}});\n",
              "\n",
              "// Listen for the removal of the full notebook cells\n",
              "var notebookContainer = gd.closest('#notebook-container');\n",
              "if (notebookContainer) {{\n",
              "    x.observe(notebookContainer, {childList: true});\n",
              "}}\n",
              "\n",
              "// Listen for the clearing of the current output cell\n",
              "var outputEl = gd.closest('.output');\n",
              "if (outputEl) {{\n",
              "    x.observe(outputEl, {childList: true});\n",
              "}}\n",
              "\n",
              "                        })                };                            </script>        </div>\n",
              "</body>\n",
              "</html>"
            ]
          },
          "metadata": {}
        }
      ]
    },
    {
      "cell_type": "code",
      "source": [
        "px.line(post, \n",
        "        x=\"Mes\",\n",
        "        y=\"Ingresos Brutos\",\n",
        "        markers=True, \n",
        "        title='Ingresos Brutos 2021 al 2022 post pandemia',\n",
        "        template=\"gridon\",\n",
        "        color=\"Año\")"
      ],
      "metadata": {
        "colab": {
          "base_uri": "https://localhost:8080/",
          "height": 542
        },
        "id": "nNHNJFMa2epc",
        "outputId": "2b00c2f5-0a13-47c5-d272-af87aac1487a"
      },
      "execution_count": 21,
      "outputs": [
        {
          "output_type": "display_data",
          "data": {
            "text/html": [
              "<html>\n",
              "<head><meta charset=\"utf-8\" /></head>\n",
              "<body>\n",
              "    <div>            <script src=\"https://cdnjs.cloudflare.com/ajax/libs/mathjax/2.7.5/MathJax.js?config=TeX-AMS-MML_SVG\"></script><script type=\"text/javascript\">if (window.MathJax && window.MathJax.Hub && window.MathJax.Hub.Config) {window.MathJax.Hub.Config({SVG: {font: \"STIX-Web\"}});}</script>                <script type=\"text/javascript\">window.PlotlyConfig = {MathJaxConfig: 'local'};</script>\n",
              "        <script src=\"https://cdn.plot.ly/plotly-2.18.0.min.js\"></script>                <div id=\"b6c031ad-81ff-42df-98ef-0580c2905c81\" class=\"plotly-graph-div\" style=\"height:525px; width:100%;\"></div>            <script type=\"text/javascript\">                                    window.PLOTLYENV=window.PLOTLYENV || {};                                    if (document.getElementById(\"b6c031ad-81ff-42df-98ef-0580c2905c81\")) {                    Plotly.newPlot(                        \"b6c031ad-81ff-42df-98ef-0580c2905c81\",                        [{\"hovertemplate\":\"A\\u00f1o=2021<br>Mes=%{x}<br>Ingresos Brutos=%{y}<extra></extra>\",\"legendgroup\":\"2021\",\"line\":{\"color\":\"#1F77B4\",\"dash\":\"solid\"},\"marker\":{\"symbol\":\"circle\"},\"mode\":\"lines+markers\",\"name\":\"2021\",\"orientation\":\"v\",\"showlegend\":true,\"x\":[1,2,3,4,5,6,7,8,9,10,11,12],\"xaxis\":\"x\",\"y\":[4210333243.0,4035920128.0,3969197922.0,4446800638.0,4285918498.0,4477259473.0,4653112414.0,4977782152.0,5349090672.0,5368896164.0,5800018664.0,6548178069.0],\"yaxis\":\"y\",\"type\":\"scatter\"},{\"hovertemplate\":\"A\\u00f1o=2022<br>Mes=%{x}<br>Ingresos Brutos=%{y}<extra></extra>\",\"legendgroup\":\"2022\",\"line\":{\"color\":\"#FF7F0E\",\"dash\":\"solid\"},\"marker\":{\"symbol\":\"circle\"},\"mode\":\"lines+markers\",\"name\":\"2022\",\"orientation\":\"v\",\"showlegend\":true,\"x\":[1,2,3,4,5,6,7,8,9,10,11,12],\"xaxis\":\"x\",\"y\":[6815275641.0,6525087915.0,6633613415.0,7882943560.5,8485148694.0,8272230858.0,9777144943.0,10673847335.0,10903034059.0,11468663772.0,12420675590.0,12973069983.0],\"yaxis\":\"y\",\"type\":\"scatter\"}],                        {\"template\":{\"data\":{\"pie\":[{\"automargin\":true,\"type\":\"pie\"}]},\"layout\":{\"xaxis\":{\"showgrid\":true,\"title\":{\"standoff\":15}},\"yaxis\":{\"showgrid\":true,\"title\":{\"standoff\":15}}}},\"xaxis\":{\"anchor\":\"y\",\"domain\":[0.0,1.0],\"title\":{\"text\":\"Mes\"}},\"yaxis\":{\"anchor\":\"x\",\"domain\":[0.0,1.0],\"title\":{\"text\":\"Ingresos Brutos\"}},\"legend\":{\"title\":{\"text\":\"A\\u00f1o\"},\"tracegroupgap\":0},\"title\":{\"text\":\"Ingresos Brutos 2021 al 2022 post pandemia\"}},                        {\"responsive\": true}                    ).then(function(){\n",
              "                            \n",
              "var gd = document.getElementById('b6c031ad-81ff-42df-98ef-0580c2905c81');\n",
              "var x = new MutationObserver(function (mutations, observer) {{\n",
              "        var display = window.getComputedStyle(gd).display;\n",
              "        if (!display || display === 'none') {{\n",
              "            console.log([gd, 'removed!']);\n",
              "            Plotly.purge(gd);\n",
              "            observer.disconnect();\n",
              "        }}\n",
              "}});\n",
              "\n",
              "// Listen for the removal of the full notebook cells\n",
              "var notebookContainer = gd.closest('#notebook-container');\n",
              "if (notebookContainer) {{\n",
              "    x.observe(notebookContainer, {childList: true});\n",
              "}}\n",
              "\n",
              "// Listen for the clearing of the current output cell\n",
              "var outputEl = gd.closest('.output');\n",
              "if (outputEl) {{\n",
              "    x.observe(outputEl, {childList: true});\n",
              "}}\n",
              "\n",
              "                        })                };                            </script>        </div>\n",
              "</body>\n",
              "</html>"
            ]
          },
          "metadata": {}
        }
      ]
    },
    {
      "cell_type": "markdown",
      "source": [
        " ### **<font color=\"DeepPink\">Automotor...</font>**"
      ],
      "metadata": {
        "id": "45waRHYl3vWr"
      }
    },
    {
      "cell_type": "code",
      "source": [
        "px.line(pre, \n",
        "        x=\"Mes\",\n",
        "        y=\"Automotor\",\n",
        "        markers=True, \n",
        "        title='Automotor 2016 al 2019 pre pandemia',\n",
        "        template=\"gridon\",\n",
        "        color=\"Año\")"
      ],
      "metadata": {
        "colab": {
          "base_uri": "https://localhost:8080/",
          "height": 542
        },
        "id": "KY8sgT6Q3yKO",
        "outputId": "88b83ae8-e5a2-4424-b70b-0ac70363fb8a"
      },
      "execution_count": 25,
      "outputs": [
        {
          "output_type": "display_data",
          "data": {
            "text/html": [
              "<html>\n",
              "<head><meta charset=\"utf-8\" /></head>\n",
              "<body>\n",
              "    <div>            <script src=\"https://cdnjs.cloudflare.com/ajax/libs/mathjax/2.7.5/MathJax.js?config=TeX-AMS-MML_SVG\"></script><script type=\"text/javascript\">if (window.MathJax && window.MathJax.Hub && window.MathJax.Hub.Config) {window.MathJax.Hub.Config({SVG: {font: \"STIX-Web\"}});}</script>                <script type=\"text/javascript\">window.PlotlyConfig = {MathJaxConfig: 'local'};</script>\n",
              "        <script src=\"https://cdn.plot.ly/plotly-2.18.0.min.js\"></script>                <div id=\"1203778c-86dd-428d-b929-5b97d5e78b81\" class=\"plotly-graph-div\" style=\"height:525px; width:100%;\"></div>            <script type=\"text/javascript\">                                    window.PLOTLYENV=window.PLOTLYENV || {};                                    if (document.getElementById(\"1203778c-86dd-428d-b929-5b97d5e78b81\")) {                    Plotly.newPlot(                        \"1203778c-86dd-428d-b929-5b97d5e78b81\",                        [{\"hovertemplate\":\"A\\u00f1o=2016<br>Mes=%{x}<br>Automotor=%{y}<extra></extra>\",\"legendgroup\":\"2016\",\"line\":{\"color\":\"#1F77B4\",\"dash\":\"solid\"},\"marker\":{\"symbol\":\"circle\"},\"mode\":\"lines+markers\",\"name\":\"2016\",\"orientation\":\"v\",\"showlegend\":true,\"x\":[1,2,3,4,5,6,7,8,9,10,11,12],\"xaxis\":\"x\",\"y\":[35554393.0,381565214.0,54271664.0,131959608.0,50495756.0,127447870.0,54009257.0,123623014.0,49617499.0,42393383.0,44662350.0,71630999.0],\"yaxis\":\"y\",\"type\":\"scatter\"},{\"hovertemplate\":\"A\\u00f1o=2017<br>Mes=%{x}<br>Automotor=%{y}<extra></extra>\",\"legendgroup\":\"2017\",\"line\":{\"color\":\"#FF7F0E\",\"dash\":\"solid\"},\"marker\":{\"symbol\":\"circle\"},\"mode\":\"lines+markers\",\"name\":\"2017\",\"orientation\":\"v\",\"showlegend\":true,\"x\":[1,2,3,4,5,6,7,8,9,10,11,12],\"xaxis\":\"x\",\"y\":[44109662.0,461702779.0,109062615.0,184972696.0,88827966.0,192795553.0,85124155.0,195675259.0,83053116.0,81554469.0,81289343.0,116711852.0],\"yaxis\":\"y\",\"type\":\"scatter\"},{\"hovertemplate\":\"A\\u00f1o=2018<br>Mes=%{x}<br>Automotor=%{y}<extra></extra>\",\"legendgroup\":\"2018\",\"line\":{\"color\":\"#2CA02C\",\"dash\":\"solid\"},\"marker\":{\"symbol\":\"circle\"},\"mode\":\"lines+markers\",\"name\":\"2018\",\"orientation\":\"v\",\"showlegend\":true,\"x\":[1,2,3,4,5,6,7,8,9,10,11,12],\"xaxis\":\"x\",\"y\":[88182331.0,578732685.0,152952295.0,244443615.0,128329810.0,235866588.0,125465097.0,239762407.0,94034621.0,90717717.0,82063812.0,130930449.0],\"yaxis\":\"y\",\"type\":\"scatter\"},{\"hovertemplate\":\"A\\u00f1o=2019<br>Mes=%{x}<br>Automotor=%{y}<extra></extra>\",\"legendgroup\":\"2019\",\"line\":{\"color\":\"#D62728\",\"dash\":\"solid\"},\"marker\":{\"symbol\":\"circle\"},\"mode\":\"lines+markers\",\"name\":\"2019\",\"orientation\":\"v\",\"showlegend\":true,\"x\":[1,2,3,4,5,6,7,8,9,10,11,12],\"xaxis\":\"x\",\"y\":[82291944.0,813826971.0,179919622.0,308841020.0,145652094.0,333229405.0,169198505.0,326512863.0,138362020.0,127779800.0,116605131.0,193592151.0],\"yaxis\":\"y\",\"type\":\"scatter\"}],                        {\"template\":{\"data\":{\"pie\":[{\"automargin\":true,\"type\":\"pie\"}]},\"layout\":{\"xaxis\":{\"showgrid\":true,\"title\":{\"standoff\":15}},\"yaxis\":{\"showgrid\":true,\"title\":{\"standoff\":15}}}},\"xaxis\":{\"anchor\":\"y\",\"domain\":[0.0,1.0],\"title\":{\"text\":\"Mes\"}},\"yaxis\":{\"anchor\":\"x\",\"domain\":[0.0,1.0],\"title\":{\"text\":\"Automotor\"}},\"legend\":{\"title\":{\"text\":\"A\\u00f1o\"},\"tracegroupgap\":0},\"title\":{\"text\":\"Automotor 2016 al 2019 pre pandemia\"}},                        {\"responsive\": true}                    ).then(function(){\n",
              "                            \n",
              "var gd = document.getElementById('1203778c-86dd-428d-b929-5b97d5e78b81');\n",
              "var x = new MutationObserver(function (mutations, observer) {{\n",
              "        var display = window.getComputedStyle(gd).display;\n",
              "        if (!display || display === 'none') {{\n",
              "            console.log([gd, 'removed!']);\n",
              "            Plotly.purge(gd);\n",
              "            observer.disconnect();\n",
              "        }}\n",
              "}});\n",
              "\n",
              "// Listen for the removal of the full notebook cells\n",
              "var notebookContainer = gd.closest('#notebook-container');\n",
              "if (notebookContainer) {{\n",
              "    x.observe(notebookContainer, {childList: true});\n",
              "}}\n",
              "\n",
              "// Listen for the clearing of the current output cell\n",
              "var outputEl = gd.closest('.output');\n",
              "if (outputEl) {{\n",
              "    x.observe(outputEl, {childList: true});\n",
              "}}\n",
              "\n",
              "                        })                };                            </script>        </div>\n",
              "</body>\n",
              "</html>"
            ]
          },
          "metadata": {}
        }
      ]
    },
    {
      "cell_type": "code",
      "source": [
        "px.line(post, \n",
        "        x=\"Mes\",\n",
        "        y=\"Automotor\",\n",
        "        markers=True, \n",
        "        title='Automotor 2021 al 2022 post pandemia',\n",
        "        template=\"gridon\",\n",
        "        color=\"Año\")"
      ],
      "metadata": {
        "colab": {
          "base_uri": "https://localhost:8080/",
          "height": 542
        },
        "id": "iqtz9kD24KxR",
        "outputId": "4ae86684-3c10-4833-eaf1-34e88609340e"
      },
      "execution_count": 26,
      "outputs": [
        {
          "output_type": "display_data",
          "data": {
            "text/html": [
              "<html>\n",
              "<head><meta charset=\"utf-8\" /></head>\n",
              "<body>\n",
              "    <div>            <script src=\"https://cdnjs.cloudflare.com/ajax/libs/mathjax/2.7.5/MathJax.js?config=TeX-AMS-MML_SVG\"></script><script type=\"text/javascript\">if (window.MathJax && window.MathJax.Hub && window.MathJax.Hub.Config) {window.MathJax.Hub.Config({SVG: {font: \"STIX-Web\"}});}</script>                <script type=\"text/javascript\">window.PlotlyConfig = {MathJaxConfig: 'local'};</script>\n",
              "        <script src=\"https://cdn.plot.ly/plotly-2.18.0.min.js\"></script>                <div id=\"6480d3a0-8943-4769-bc8b-d06a2e25d7a9\" class=\"plotly-graph-div\" style=\"height:525px; width:100%;\"></div>            <script type=\"text/javascript\">                                    window.PLOTLYENV=window.PLOTLYENV || {};                                    if (document.getElementById(\"6480d3a0-8943-4769-bc8b-d06a2e25d7a9\")) {                    Plotly.newPlot(                        \"6480d3a0-8943-4769-bc8b-d06a2e25d7a9\",                        [{\"hovertemplate\":\"A\\u00f1o=2021<br>Mes=%{x}<br>Automotor=%{y}<extra></extra>\",\"legendgroup\":\"2021\",\"line\":{\"color\":\"#1F77B4\",\"dash\":\"solid\"},\"marker\":{\"symbol\":\"circle\"},\"mode\":\"lines+markers\",\"name\":\"2021\",\"orientation\":\"v\",\"showlegend\":true,\"x\":[1,2,3,4,5,6,7,8,9,10,11,12],\"xaxis\":\"x\",\"y\":[187670787.0,1589430350.0,448477595.0,640338868.0,296312430.0,683761508.0,388049466.0,682564682.0,353299650.0,284069475.0,313396834.0,520451174.0],\"yaxis\":\"y\",\"type\":\"scatter\"},{\"hovertemplate\":\"A\\u00f1o=2022<br>Mes=%{x}<br>Automotor=%{y}<extra></extra>\",\"legendgroup\":\"2022\",\"line\":{\"color\":\"#FF7F0E\",\"dash\":\"solid\"},\"marker\":{\"symbol\":\"circle\"},\"mode\":\"lines+markers\",\"name\":\"2022\",\"orientation\":\"v\",\"showlegend\":true,\"x\":[1,2,3,4,5,6,7,8,9,10,11,12],\"xaxis\":\"x\",\"y\":[277734375.0,2165283816.0,675398064.0,925755849.22,511257271.0,986531047.0,562866368.0,1051893523.0,539079630.0,497258187.0,532424814.0,826642196.0],\"yaxis\":\"y\",\"type\":\"scatter\"}],                        {\"template\":{\"data\":{\"pie\":[{\"automargin\":true,\"type\":\"pie\"}]},\"layout\":{\"xaxis\":{\"showgrid\":true,\"title\":{\"standoff\":15}},\"yaxis\":{\"showgrid\":true,\"title\":{\"standoff\":15}}}},\"xaxis\":{\"anchor\":\"y\",\"domain\":[0.0,1.0],\"title\":{\"text\":\"Mes\"}},\"yaxis\":{\"anchor\":\"x\",\"domain\":[0.0,1.0],\"title\":{\"text\":\"Automotor\"}},\"legend\":{\"title\":{\"text\":\"A\\u00f1o\"},\"tracegroupgap\":0},\"title\":{\"text\":\"Automotor 2021 al 2022 post pandemia\"}},                        {\"responsive\": true}                    ).then(function(){\n",
              "                            \n",
              "var gd = document.getElementById('6480d3a0-8943-4769-bc8b-d06a2e25d7a9');\n",
              "var x = new MutationObserver(function (mutations, observer) {{\n",
              "        var display = window.getComputedStyle(gd).display;\n",
              "        if (!display || display === 'none') {{\n",
              "            console.log([gd, 'removed!']);\n",
              "            Plotly.purge(gd);\n",
              "            observer.disconnect();\n",
              "        }}\n",
              "}});\n",
              "\n",
              "// Listen for the removal of the full notebook cells\n",
              "var notebookContainer = gd.closest('#notebook-container');\n",
              "if (notebookContainer) {{\n",
              "    x.observe(notebookContainer, {childList: true});\n",
              "}}\n",
              "\n",
              "// Listen for the clearing of the current output cell\n",
              "var outputEl = gd.closest('.output');\n",
              "if (outputEl) {{\n",
              "    x.observe(outputEl, {childList: true});\n",
              "}}\n",
              "\n",
              "                        })                };                            </script>        </div>\n",
              "</body>\n",
              "</html>"
            ]
          },
          "metadata": {}
        }
      ]
    },
    {
      "cell_type": "code",
      "source": [
        "px.line(impuestos.query(\"Año > 2017\"), \n",
        "        x=\"Mes\",\n",
        "        y=\"Automotor\",\n",
        "        markers=True, \n",
        "        title='Automotor 2018 al 2022',\n",
        "        template=\"gridon\",\n",
        "        color=\"Año\")"
      ],
      "metadata": {
        "colab": {
          "base_uri": "https://localhost:8080/",
          "height": 542
        },
        "id": "l24TgpSw6Meo",
        "outputId": "632a05ad-4c92-4798-d4b6-241f9660db01"
      },
      "execution_count": 33,
      "outputs": [
        {
          "output_type": "display_data",
          "data": {
            "text/html": [
              "<html>\n",
              "<head><meta charset=\"utf-8\" /></head>\n",
              "<body>\n",
              "    <div>            <script src=\"https://cdnjs.cloudflare.com/ajax/libs/mathjax/2.7.5/MathJax.js?config=TeX-AMS-MML_SVG\"></script><script type=\"text/javascript\">if (window.MathJax && window.MathJax.Hub && window.MathJax.Hub.Config) {window.MathJax.Hub.Config({SVG: {font: \"STIX-Web\"}});}</script>                <script type=\"text/javascript\">window.PlotlyConfig = {MathJaxConfig: 'local'};</script>\n",
              "        <script src=\"https://cdn.plot.ly/plotly-2.18.0.min.js\"></script>                <div id=\"5c1972a9-054e-47c5-a308-c36e32f991d2\" class=\"plotly-graph-div\" style=\"height:525px; width:100%;\"></div>            <script type=\"text/javascript\">                                    window.PLOTLYENV=window.PLOTLYENV || {};                                    if (document.getElementById(\"5c1972a9-054e-47c5-a308-c36e32f991d2\")) {                    Plotly.newPlot(                        \"5c1972a9-054e-47c5-a308-c36e32f991d2\",                        [{\"hovertemplate\":\"A\\u00f1o=2018<br>Mes=%{x}<br>Automotor=%{y}<extra></extra>\",\"legendgroup\":\"2018\",\"line\":{\"color\":\"#1F77B4\",\"dash\":\"solid\"},\"marker\":{\"symbol\":\"circle\"},\"mode\":\"lines+markers\",\"name\":\"2018\",\"orientation\":\"v\",\"showlegend\":true,\"x\":[1,2,3,4,5,6,7,8,9,10,11,12],\"xaxis\":\"x\",\"y\":[88182331.0,578732685.0,152952295.0,244443615.0,128329810.0,235866588.0,125465097.0,239762407.0,94034621.0,90717717.0,82063812.0,130930449.0],\"yaxis\":\"y\",\"type\":\"scatter\"},{\"hovertemplate\":\"A\\u00f1o=2019<br>Mes=%{x}<br>Automotor=%{y}<extra></extra>\",\"legendgroup\":\"2019\",\"line\":{\"color\":\"#FF7F0E\",\"dash\":\"solid\"},\"marker\":{\"symbol\":\"circle\"},\"mode\":\"lines+markers\",\"name\":\"2019\",\"orientation\":\"v\",\"showlegend\":true,\"x\":[1,2,3,4,5,6,7,8,9,10,11,12],\"xaxis\":\"x\",\"y\":[82291944.0,813826971.0,179919622.0,308841020.0,145652094.0,333229405.0,169198505.0,326512863.0,138362020.0,127779800.0,116605131.0,193592151.0],\"yaxis\":\"y\",\"type\":\"scatter\"},{\"hovertemplate\":\"A\\u00f1o=2020<br>Mes=%{x}<br>Automotor=%{y}<extra></extra>\",\"legendgroup\":\"2020\",\"line\":{\"color\":\"#2CA02C\",\"dash\":\"solid\"},\"marker\":{\"symbol\":\"circle\"},\"mode\":\"lines+markers\",\"name\":\"2020\",\"orientation\":\"v\",\"showlegend\":true,\"x\":[1,2,3,4,5,6,7,8,9,10,11,12],\"xaxis\":\"x\",\"y\":[125229366.0,1307068371.0,231202627.0,326218968.0,204955539.0,460044506.0,246656920.0,448556840.0,205791939.0,187337273.0,169007251.0,318175778.0],\"yaxis\":\"y\",\"type\":\"scatter\"},{\"hovertemplate\":\"A\\u00f1o=2021<br>Mes=%{x}<br>Automotor=%{y}<extra></extra>\",\"legendgroup\":\"2021\",\"line\":{\"color\":\"#D62728\",\"dash\":\"solid\"},\"marker\":{\"symbol\":\"circle\"},\"mode\":\"lines+markers\",\"name\":\"2021\",\"orientation\":\"v\",\"showlegend\":true,\"x\":[1,2,3,4,5,6,7,8,9,10,11,12],\"xaxis\":\"x\",\"y\":[187670787.0,1589430350.0,448477595.0,640338868.0,296312430.0,683761508.0,388049466.0,682564682.0,353299650.0,284069475.0,313396834.0,520451174.0],\"yaxis\":\"y\",\"type\":\"scatter\"},{\"hovertemplate\":\"A\\u00f1o=2022<br>Mes=%{x}<br>Automotor=%{y}<extra></extra>\",\"legendgroup\":\"2022\",\"line\":{\"color\":\"#9467BD\",\"dash\":\"solid\"},\"marker\":{\"symbol\":\"circle\"},\"mode\":\"lines+markers\",\"name\":\"2022\",\"orientation\":\"v\",\"showlegend\":true,\"x\":[1,2,3,4,5,6,7,8,9,10,11,12],\"xaxis\":\"x\",\"y\":[277734375.0,2165283816.0,675398064.0,925755849.22,511257271.0,986531047.0,562866368.0,1051893523.0,539079630.0,497258187.0,532424814.0,826642196.0],\"yaxis\":\"y\",\"type\":\"scatter\"}],                        {\"template\":{\"data\":{\"pie\":[{\"automargin\":true,\"type\":\"pie\"}]},\"layout\":{\"xaxis\":{\"showgrid\":true,\"title\":{\"standoff\":15}},\"yaxis\":{\"showgrid\":true,\"title\":{\"standoff\":15}}}},\"xaxis\":{\"anchor\":\"y\",\"domain\":[0.0,1.0],\"title\":{\"text\":\"Mes\"}},\"yaxis\":{\"anchor\":\"x\",\"domain\":[0.0,1.0],\"title\":{\"text\":\"Automotor\"}},\"legend\":{\"title\":{\"text\":\"A\\u00f1o\"},\"tracegroupgap\":0},\"title\":{\"text\":\"Automotor 2018 al 2022\"}},                        {\"responsive\": true}                    ).then(function(){\n",
              "                            \n",
              "var gd = document.getElementById('5c1972a9-054e-47c5-a308-c36e32f991d2');\n",
              "var x = new MutationObserver(function (mutations, observer) {{\n",
              "        var display = window.getComputedStyle(gd).display;\n",
              "        if (!display || display === 'none') {{\n",
              "            console.log([gd, 'removed!']);\n",
              "            Plotly.purge(gd);\n",
              "            observer.disconnect();\n",
              "        }}\n",
              "}});\n",
              "\n",
              "// Listen for the removal of the full notebook cells\n",
              "var notebookContainer = gd.closest('#notebook-container');\n",
              "if (notebookContainer) {{\n",
              "    x.observe(notebookContainer, {childList: true});\n",
              "}}\n",
              "\n",
              "// Listen for the clearing of the current output cell\n",
              "var outputEl = gd.closest('.output');\n",
              "if (outputEl) {{\n",
              "    x.observe(outputEl, {childList: true});\n",
              "}}\n",
              "\n",
              "                        })                };                            </script>        </div>\n",
              "</body>\n",
              "</html>"
            ]
          },
          "metadata": {}
        }
      ]
    },
    {
      "cell_type": "markdown",
      "source": [
        " ### **<font color=\"DeepPink\">Inmobiliario...</font>**"
      ],
      "metadata": {
        "id": "UDln_4El5GdB"
      }
    },
    {
      "cell_type": "code",
      "source": [
        "px.line(pre, \n",
        "        x=\"Mes\",\n",
        "        y=\"Inmobiliario\",\n",
        "        markers=True, \n",
        "        title='Inmobiliario 2016 al 2019 pre pandemia',\n",
        "        template=\"gridon\",\n",
        "        color=\"Año\")"
      ],
      "metadata": {
        "colab": {
          "base_uri": "https://localhost:8080/",
          "height": 542
        },
        "id": "Q3CDLvke5bLf",
        "outputId": "57fabeeb-6b7e-4003-c93a-6716bcc87968"
      },
      "execution_count": 27,
      "outputs": [
        {
          "output_type": "display_data",
          "data": {
            "text/html": [
              "<html>\n",
              "<head><meta charset=\"utf-8\" /></head>\n",
              "<body>\n",
              "    <div>            <script src=\"https://cdnjs.cloudflare.com/ajax/libs/mathjax/2.7.5/MathJax.js?config=TeX-AMS-MML_SVG\"></script><script type=\"text/javascript\">if (window.MathJax && window.MathJax.Hub && window.MathJax.Hub.Config) {window.MathJax.Hub.Config({SVG: {font: \"STIX-Web\"}});}</script>                <script type=\"text/javascript\">window.PlotlyConfig = {MathJaxConfig: 'local'};</script>\n",
              "        <script src=\"https://cdn.plot.ly/plotly-2.18.0.min.js\"></script>                <div id=\"8a1ebf0e-032c-4fb5-a388-6cbcb6909671\" class=\"plotly-graph-div\" style=\"height:525px; width:100%;\"></div>            <script type=\"text/javascript\">                                    window.PLOTLYENV=window.PLOTLYENV || {};                                    if (document.getElementById(\"8a1ebf0e-032c-4fb5-a388-6cbcb6909671\")) {                    Plotly.newPlot(                        \"8a1ebf0e-032c-4fb5-a388-6cbcb6909671\",                        [{\"hovertemplate\":\"A\\u00f1o=2016<br>Mes=%{x}<br>Inmobiliario=%{y}<extra></extra>\",\"legendgroup\":\"2016\",\"line\":{\"color\":\"#1F77B4\",\"dash\":\"solid\"},\"marker\":{\"symbol\":\"circle\"},\"mode\":\"lines+markers\",\"name\":\"2016\",\"orientation\":\"v\",\"showlegend\":true,\"x\":[1,2,3,4,5,6,7,8,9,10,11,12],\"xaxis\":\"x\",\"y\":[9969717.0,60486015.0,247941795.0,25733690.0,59880096.0,23403872.0,57842450.0,20457150.0,55561701.0,17901167.0,59486871.0,27986924.0],\"yaxis\":\"y\",\"type\":\"scatter\"},{\"hovertemplate\":\"A\\u00f1o=2017<br>Mes=%{x}<br>Inmobiliario=%{y}<extra></extra>\",\"legendgroup\":\"2017\",\"line\":{\"color\":\"#FF7F0E\",\"dash\":\"solid\"},\"marker\":{\"symbol\":\"circle\"},\"mode\":\"lines+markers\",\"name\":\"2017\",\"orientation\":\"v\",\"showlegend\":true,\"x\":[1,2,3,4,5,6,7,8,9,10,11,12],\"xaxis\":\"x\",\"y\":[11902593.0,14299473.0,383803740.0,36419595.0,81856693.0,32630210.0,86107998.0,30257905.0,82907482.0,30963261.0,84324908.0,42054755.0],\"yaxis\":\"y\",\"type\":\"scatter\"},{\"hovertemplate\":\"A\\u00f1o=2018<br>Mes=%{x}<br>Inmobiliario=%{y}<extra></extra>\",\"legendgroup\":\"2018\",\"line\":{\"color\":\"#2CA02C\",\"dash\":\"solid\"},\"marker\":{\"symbol\":\"circle\"},\"mode\":\"lines+markers\",\"name\":\"2018\",\"orientation\":\"v\",\"showlegend\":true,\"x\":[1,2,3,4,5,6,7,8,9,10,11,12],\"xaxis\":\"x\",\"y\":[21853585.0,22591985.0,518425522.0,63244506.0,116952066.0,52966048.0,126013684.0,47907639.0,114813263.0,44968091.0,113648630.0,58160256.0],\"yaxis\":\"y\",\"type\":\"scatter\"},{\"hovertemplate\":\"A\\u00f1o=2019<br>Mes=%{x}<br>Inmobiliario=%{y}<extra></extra>\",\"legendgroup\":\"2019\",\"line\":{\"color\":\"#D62728\",\"dash\":\"solid\"},\"marker\":{\"symbol\":\"circle\"},\"mode\":\"lines+markers\",\"name\":\"2019\",\"orientation\":\"v\",\"showlegend\":true,\"x\":[1,2,3,4,5,6,7,8,9,10,11,12],\"xaxis\":\"x\",\"y\":[24767326.0,29877020.0,642946260.0,75537728.0,166128414.0,54316682.0,157358299.0,53781816.0,155425882.0,55180391.0,156842263.0,86291241.0],\"yaxis\":\"y\",\"type\":\"scatter\"}],                        {\"template\":{\"data\":{\"pie\":[{\"automargin\":true,\"type\":\"pie\"}]},\"layout\":{\"xaxis\":{\"showgrid\":true,\"title\":{\"standoff\":15}},\"yaxis\":{\"showgrid\":true,\"title\":{\"standoff\":15}}}},\"xaxis\":{\"anchor\":\"y\",\"domain\":[0.0,1.0],\"title\":{\"text\":\"Mes\"}},\"yaxis\":{\"anchor\":\"x\",\"domain\":[0.0,1.0],\"title\":{\"text\":\"Inmobiliario\"}},\"legend\":{\"title\":{\"text\":\"A\\u00f1o\"},\"tracegroupgap\":0},\"title\":{\"text\":\"Inmobiliario 2016 al 2019 pre pandemia\"}},                        {\"responsive\": true}                    ).then(function(){\n",
              "                            \n",
              "var gd = document.getElementById('8a1ebf0e-032c-4fb5-a388-6cbcb6909671');\n",
              "var x = new MutationObserver(function (mutations, observer) {{\n",
              "        var display = window.getComputedStyle(gd).display;\n",
              "        if (!display || display === 'none') {{\n",
              "            console.log([gd, 'removed!']);\n",
              "            Plotly.purge(gd);\n",
              "            observer.disconnect();\n",
              "        }}\n",
              "}});\n",
              "\n",
              "// Listen for the removal of the full notebook cells\n",
              "var notebookContainer = gd.closest('#notebook-container');\n",
              "if (notebookContainer) {{\n",
              "    x.observe(notebookContainer, {childList: true});\n",
              "}}\n",
              "\n",
              "// Listen for the clearing of the current output cell\n",
              "var outputEl = gd.closest('.output');\n",
              "if (outputEl) {{\n",
              "    x.observe(outputEl, {childList: true});\n",
              "}}\n",
              "\n",
              "                        })                };                            </script>        </div>\n",
              "</body>\n",
              "</html>"
            ]
          },
          "metadata": {}
        }
      ]
    },
    {
      "cell_type": "code",
      "source": [
        "px.line(post, \n",
        "        x=\"Mes\",\n",
        "        y=\"Inmobiliario\",\n",
        "        markers=True, \n",
        "        title='Inmobiliario 2021 al 2022 post pandemia',\n",
        "        template=\"gridon\",\n",
        "        color=\"Año\")"
      ],
      "metadata": {
        "colab": {
          "base_uri": "https://localhost:8080/",
          "height": 542
        },
        "id": "bGP5UyMQ5plh",
        "outputId": "6f7b2cd5-f8e8-4f34-a3cf-8829e1cfd0d1"
      },
      "execution_count": 28,
      "outputs": [
        {
          "output_type": "display_data",
          "data": {
            "text/html": [
              "<html>\n",
              "<head><meta charset=\"utf-8\" /></head>\n",
              "<body>\n",
              "    <div>            <script src=\"https://cdnjs.cloudflare.com/ajax/libs/mathjax/2.7.5/MathJax.js?config=TeX-AMS-MML_SVG\"></script><script type=\"text/javascript\">if (window.MathJax && window.MathJax.Hub && window.MathJax.Hub.Config) {window.MathJax.Hub.Config({SVG: {font: \"STIX-Web\"}});}</script>                <script type=\"text/javascript\">window.PlotlyConfig = {MathJaxConfig: 'local'};</script>\n",
              "        <script src=\"https://cdn.plot.ly/plotly-2.18.0.min.js\"></script>                <div id=\"971ab45b-970b-474d-87fc-b1c4045527e9\" class=\"plotly-graph-div\" style=\"height:525px; width:100%;\"></div>            <script type=\"text/javascript\">                                    window.PLOTLYENV=window.PLOTLYENV || {};                                    if (document.getElementById(\"971ab45b-970b-474d-87fc-b1c4045527e9\")) {                    Plotly.newPlot(                        \"971ab45b-970b-474d-87fc-b1c4045527e9\",                        [{\"hovertemplate\":\"A\\u00f1o=2021<br>Mes=%{x}<br>Inmobiliario=%{y}<extra></extra>\",\"legendgroup\":\"2021\",\"line\":{\"color\":\"#1F77B4\",\"dash\":\"solid\"},\"marker\":{\"symbol\":\"circle\"},\"mode\":\"lines+markers\",\"name\":\"2021\",\"orientation\":\"v\",\"showlegend\":true,\"x\":[1,2,3,4,5,6,7,8,9,10,11,12],\"xaxis\":\"x\",\"y\":[61482934.0,51977279.0,1046762350.0,177043707.0,275741560.0,131759614.0,313170057.0,123376283.0,296393085.0,118127460.0,320249942.0,240338176.0],\"yaxis\":\"y\",\"type\":\"scatter\"},{\"hovertemplate\":\"A\\u00f1o=2022<br>Mes=%{x}<br>Inmobiliario=%{y}<extra></extra>\",\"legendgroup\":\"2022\",\"line\":{\"color\":\"#FF7F0E\",\"dash\":\"solid\"},\"marker\":{\"symbol\":\"circle\"},\"mode\":\"lines+markers\",\"name\":\"2022\",\"orientation\":\"v\",\"showlegend\":true,\"x\":[1,2,3,4,5,6,7,8,9,10,11,12],\"xaxis\":\"x\",\"y\":[83236124.0,327088196.0,1377477738.0,214670297.57,429439154.0,192503829.0,423569483.0,208783168.0,454538851.0,212987319.0,464892777.0,365062223.0],\"yaxis\":\"y\",\"type\":\"scatter\"}],                        {\"template\":{\"data\":{\"pie\":[{\"automargin\":true,\"type\":\"pie\"}]},\"layout\":{\"xaxis\":{\"showgrid\":true,\"title\":{\"standoff\":15}},\"yaxis\":{\"showgrid\":true,\"title\":{\"standoff\":15}}}},\"xaxis\":{\"anchor\":\"y\",\"domain\":[0.0,1.0],\"title\":{\"text\":\"Mes\"}},\"yaxis\":{\"anchor\":\"x\",\"domain\":[0.0,1.0],\"title\":{\"text\":\"Inmobiliario\"}},\"legend\":{\"title\":{\"text\":\"A\\u00f1o\"},\"tracegroupgap\":0},\"title\":{\"text\":\"Inmobiliario 2021 al 2022 post pandemia\"}},                        {\"responsive\": true}                    ).then(function(){\n",
              "                            \n",
              "var gd = document.getElementById('971ab45b-970b-474d-87fc-b1c4045527e9');\n",
              "var x = new MutationObserver(function (mutations, observer) {{\n",
              "        var display = window.getComputedStyle(gd).display;\n",
              "        if (!display || display === 'none') {{\n",
              "            console.log([gd, 'removed!']);\n",
              "            Plotly.purge(gd);\n",
              "            observer.disconnect();\n",
              "        }}\n",
              "}});\n",
              "\n",
              "// Listen for the removal of the full notebook cells\n",
              "var notebookContainer = gd.closest('#notebook-container');\n",
              "if (notebookContainer) {{\n",
              "    x.observe(notebookContainer, {childList: true});\n",
              "}}\n",
              "\n",
              "// Listen for the clearing of the current output cell\n",
              "var outputEl = gd.closest('.output');\n",
              "if (outputEl) {{\n",
              "    x.observe(outputEl, {childList: true});\n",
              "}}\n",
              "\n",
              "                        })                };                            </script>        </div>\n",
              "</body>\n",
              "</html>"
            ]
          },
          "metadata": {}
        }
      ]
    },
    {
      "cell_type": "code",
      "source": [
        "px.line(impuestos.query(\"Año > 2017\"), \n",
        "        x=\"Mes\",\n",
        "        y=\"Inmobiliario\",\n",
        "        markers=True, \n",
        "        title='Inmobiliario 2018 al 2022',\n",
        "        template=\"gridon\",\n",
        "        color=\"Año\")"
      ],
      "metadata": {
        "colab": {
          "base_uri": "https://localhost:8080/",
          "height": 542
        },
        "id": "q2k2dRXN6uvF",
        "outputId": "26495d1f-c6ef-494b-92b2-7db8f211120c"
      },
      "execution_count": 32,
      "outputs": [
        {
          "output_type": "display_data",
          "data": {
            "text/html": [
              "<html>\n",
              "<head><meta charset=\"utf-8\" /></head>\n",
              "<body>\n",
              "    <div>            <script src=\"https://cdnjs.cloudflare.com/ajax/libs/mathjax/2.7.5/MathJax.js?config=TeX-AMS-MML_SVG\"></script><script type=\"text/javascript\">if (window.MathJax && window.MathJax.Hub && window.MathJax.Hub.Config) {window.MathJax.Hub.Config({SVG: {font: \"STIX-Web\"}});}</script>                <script type=\"text/javascript\">window.PlotlyConfig = {MathJaxConfig: 'local'};</script>\n",
              "        <script src=\"https://cdn.plot.ly/plotly-2.18.0.min.js\"></script>                <div id=\"6285ccc0-c06a-467f-a1f8-132d27b0ac0b\" class=\"plotly-graph-div\" style=\"height:525px; width:100%;\"></div>            <script type=\"text/javascript\">                                    window.PLOTLYENV=window.PLOTLYENV || {};                                    if (document.getElementById(\"6285ccc0-c06a-467f-a1f8-132d27b0ac0b\")) {                    Plotly.newPlot(                        \"6285ccc0-c06a-467f-a1f8-132d27b0ac0b\",                        [{\"hovertemplate\":\"A\\u00f1o=2018<br>Mes=%{x}<br>Inmobiliario=%{y}<extra></extra>\",\"legendgroup\":\"2018\",\"line\":{\"color\":\"#1F77B4\",\"dash\":\"solid\"},\"marker\":{\"symbol\":\"circle\"},\"mode\":\"lines+markers\",\"name\":\"2018\",\"orientation\":\"v\",\"showlegend\":true,\"x\":[1,2,3,4,5,6,7,8,9,10,11,12],\"xaxis\":\"x\",\"y\":[21853585.0,22591985.0,518425522.0,63244506.0,116952066.0,52966048.0,126013684.0,47907639.0,114813263.0,44968091.0,113648630.0,58160256.0],\"yaxis\":\"y\",\"type\":\"scatter\"},{\"hovertemplate\":\"A\\u00f1o=2019<br>Mes=%{x}<br>Inmobiliario=%{y}<extra></extra>\",\"legendgroup\":\"2019\",\"line\":{\"color\":\"#FF7F0E\",\"dash\":\"solid\"},\"marker\":{\"symbol\":\"circle\"},\"mode\":\"lines+markers\",\"name\":\"2019\",\"orientation\":\"v\",\"showlegend\":true,\"x\":[1,2,3,4,5,6,7,8,9,10,11,12],\"xaxis\":\"x\",\"y\":[24767326.0,29877020.0,642946260.0,75537728.0,166128414.0,54316682.0,157358299.0,53781816.0,155425882.0,55180391.0,156842263.0,86291241.0],\"yaxis\":\"y\",\"type\":\"scatter\"},{\"hovertemplate\":\"A\\u00f1o=2020<br>Mes=%{x}<br>Inmobiliario=%{y}<extra></extra>\",\"legendgroup\":\"2020\",\"line\":{\"color\":\"#2CA02C\",\"dash\":\"solid\"},\"marker\":{\"symbol\":\"circle\"},\"mode\":\"lines+markers\",\"name\":\"2020\",\"orientation\":\"v\",\"showlegend\":true,\"x\":[1,2,3,4,5,6,7,8,9,10,11,12],\"xaxis\":\"x\",\"y\":[41864982.0,77772566.0,542799410.0,249665265.0,222573978.0,105007444.0,199935750.0,86616593.0,211604146.0,88987776.0,203818733.0,161112576.0],\"yaxis\":\"y\",\"type\":\"scatter\"},{\"hovertemplate\":\"A\\u00f1o=2021<br>Mes=%{x}<br>Inmobiliario=%{y}<extra></extra>\",\"legendgroup\":\"2021\",\"line\":{\"color\":\"#D62728\",\"dash\":\"solid\"},\"marker\":{\"symbol\":\"circle\"},\"mode\":\"lines+markers\",\"name\":\"2021\",\"orientation\":\"v\",\"showlegend\":true,\"x\":[1,2,3,4,5,6,7,8,9,10,11,12],\"xaxis\":\"x\",\"y\":[61482934.0,51977279.0,1046762350.0,177043707.0,275741560.0,131759614.0,313170057.0,123376283.0,296393085.0,118127460.0,320249942.0,240338176.0],\"yaxis\":\"y\",\"type\":\"scatter\"},{\"hovertemplate\":\"A\\u00f1o=2022<br>Mes=%{x}<br>Inmobiliario=%{y}<extra></extra>\",\"legendgroup\":\"2022\",\"line\":{\"color\":\"#9467BD\",\"dash\":\"solid\"},\"marker\":{\"symbol\":\"circle\"},\"mode\":\"lines+markers\",\"name\":\"2022\",\"orientation\":\"v\",\"showlegend\":true,\"x\":[1,2,3,4,5,6,7,8,9,10,11,12],\"xaxis\":\"x\",\"y\":[83236124.0,327088196.0,1377477738.0,214670297.57,429439154.0,192503829.0,423569483.0,208783168.0,454538851.0,212987319.0,464892777.0,365062223.0],\"yaxis\":\"y\",\"type\":\"scatter\"}],                        {\"template\":{\"data\":{\"pie\":[{\"automargin\":true,\"type\":\"pie\"}]},\"layout\":{\"xaxis\":{\"showgrid\":true,\"title\":{\"standoff\":15}},\"yaxis\":{\"showgrid\":true,\"title\":{\"standoff\":15}}}},\"xaxis\":{\"anchor\":\"y\",\"domain\":[0.0,1.0],\"title\":{\"text\":\"Mes\"}},\"yaxis\":{\"anchor\":\"x\",\"domain\":[0.0,1.0],\"title\":{\"text\":\"Inmobiliario\"}},\"legend\":{\"title\":{\"text\":\"A\\u00f1o\"},\"tracegroupgap\":0},\"title\":{\"text\":\"Inmobiliario 2018 al 2022\"}},                        {\"responsive\": true}                    ).then(function(){\n",
              "                            \n",
              "var gd = document.getElementById('6285ccc0-c06a-467f-a1f8-132d27b0ac0b');\n",
              "var x = new MutationObserver(function (mutations, observer) {{\n",
              "        var display = window.getComputedStyle(gd).display;\n",
              "        if (!display || display === 'none') {{\n",
              "            console.log([gd, 'removed!']);\n",
              "            Plotly.purge(gd);\n",
              "            observer.disconnect();\n",
              "        }}\n",
              "}});\n",
              "\n",
              "// Listen for the removal of the full notebook cells\n",
              "var notebookContainer = gd.closest('#notebook-container');\n",
              "if (notebookContainer) {{\n",
              "    x.observe(notebookContainer, {childList: true});\n",
              "}}\n",
              "\n",
              "// Listen for the clearing of the current output cell\n",
              "var outputEl = gd.closest('.output');\n",
              "if (outputEl) {{\n",
              "    x.observe(outputEl, {childList: true});\n",
              "}}\n",
              "\n",
              "                        })                };                            </script>        </div>\n",
              "</body>\n",
              "</html>"
            ]
          },
          "metadata": {}
        }
      ]
    }
  ]
}