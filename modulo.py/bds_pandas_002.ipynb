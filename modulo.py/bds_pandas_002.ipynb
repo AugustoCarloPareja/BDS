{
  "nbformat": 4,
  "nbformat_minor": 0,
  "metadata": {
    "colab": {
      "provenance": [],
      "toc_visible": true,
      "authorship_tag": "ABX9TyMgz/Ra8M0GoPpZ7fpz/CuU",
      "include_colab_link": true
    },
    "kernelspec": {
      "name": "python3",
      "display_name": "Python 3"
    },
    "language_info": {
      "name": "python"
    }
  },
  "cells": [
    {
      "cell_type": "markdown",
      "metadata": {
        "id": "view-in-github",
        "colab_type": "text"
      },
      "source": [
        "<a href=\"https://colab.research.google.com/github/cristiandarioortegayubro/BDS/blob/main/modulo.py/bds_pandas_002.ipynb\" target=\"_parent\"><img src=\"https://colab.research.google.com/assets/colab-badge.svg\" alt=\"Open In Colab\"/></a>"
      ]
    },
    {
      "cell_type": "markdown",
      "source": [
        "![logo](https://github.com/cristiandarioortegayubro/BDS/blob/main/images/Logo%20BDS%20Horizontal%208.png?raw=true)"
      ],
      "metadata": {
        "id": "iheuwam9e4CH"
      }
    },
    {
      "cell_type": "markdown",
      "source": [
        " # <font color=\"DeepPink\">Pandas</font>"
      ],
      "metadata": {
        "id": "yIdu040yghlJ"
      }
    },
    {
      "cell_type": "markdown",
      "source": [
        " # <font color=\"DeepPink\">Algo más que 10 minutos...</font>"
      ],
      "metadata": {
        "id": "PO99UQh5hxQ2"
      }
    },
    {
      "cell_type": "markdown",
      "source": [
        " ## <font color=\"DeepPink\">Habilitando bibliotecas de análisis de datos...</font>"
      ],
      "metadata": {
        "id": "yVFrM8sFjKIY"
      }
    },
    {
      "cell_type": "code",
      "source": [
        "import numpy as np\n",
        "import pandas as pd"
      ],
      "metadata": {
        "id": "VQgCEI8EWqf0"
      },
      "execution_count": 1,
      "outputs": []
    },
    {
      "cell_type": "markdown",
      "source": [
        " ## <font color=\"DeepPink\">Configurando las opciones deseadas</font>"
      ],
      "metadata": {
        "id": "ShULCYPraoe1"
      }
    },
    {
      "cell_type": "code",
      "source": [
        "pd.options.display.precision = 2\n",
        "pd.options.display.float_format = \"{:.2f}\".format"
      ],
      "metadata": {
        "id": "gVLhFboQxvFs"
      },
      "execution_count": 2,
      "outputs": []
    },
    {
      "cell_type": "markdown",
      "source": [
        "## <font color=\"DeepPink\">Obtención de datos y creación del dataframe</font>\n",
        "\n"
      ],
      "metadata": {
        "id": "MOVop3Rob3cM"
      }
    },
    {
      "cell_type": "markdown",
      "source": [
        "https://www.datos.gob.ar/dataset/produccion-programa-produccion-colaborativa-economia-conocimiento"
      ],
      "metadata": {
        "id": "2b8uwCKmmvIp"
      }
    },
    {
      "cell_type": "code",
      "source": [
        "datos=\"https://raw.githubusercontent.com/cristiandarioortegayubro/BDS/main/datasets/beneficios-otorgados-colaborativa-202210.xlsx-Dataset.csv\"\n",
        "df1 = pd.read_csv(datos)"
      ],
      "metadata": {
        "id": "VrXOfyCZdvju"
      },
      "execution_count": 3,
      "outputs": []
    },
    {
      "cell_type": "code",
      "source": [
        "type(df1)"
      ],
      "metadata": {
        "colab": {
          "base_uri": "https://localhost:8080/"
        },
        "id": "WMzpznXY7LFc",
        "outputId": "9b533309-e7dd-43de-afcb-1bd7a8edfabe"
      },
      "execution_count": 4,
      "outputs": [
        {
          "output_type": "execute_result",
          "data": {
            "text/plain": [
              "pandas.core.frame.DataFrame"
            ]
          },
          "metadata": {},
          "execution_count": 4
        }
      ]
    },
    {
      "cell_type": "code",
      "source": [
        "df1.describe()"
      ],
      "metadata": {
        "colab": {
          "base_uri": "https://localhost:8080/",
          "height": 300
        },
        "id": "7nmi9DiKrmwm",
        "outputId": "51350153-90d8-47b5-9591-898f86d405c7"
      },
      "execution_count": 6,
      "outputs": [
        {
          "output_type": "execute_result",
          "data": {
            "text/plain": [
              "       beneficiario_cuit  proyecto_id  provincia_id   localidad_id  \\\n",
              "count              62.00        62.00         62.00          62.00   \n",
              "mean      30826376417.39        10.35         36.19 36389477903.71   \n",
              "std         646105653.68         5.75         34.53 34416966939.68   \n",
              "min       30501145315.00         1.00          2.00  2000010000.00   \n",
              "25%       30682667709.00         5.25          6.00  6573510001.25   \n",
              "50%       30709585939.00        10.00         14.00 14119225000.00   \n",
              "75%       30714565272.50        15.50         82.00 82063170000.00   \n",
              "max       33714529809.00        20.00         82.00 82084270000.00   \n",
              "\n",
              "       anr_abonado  \n",
              "count        39.00  \n",
              "mean    7417206.54  \n",
              "std     2797758.58  \n",
              "min      600000.00  \n",
              "25%     5190372.00  \n",
              "50%     8590000.00  \n",
              "75%     9999875.00  \n",
              "max    10000000.00  "
            ],
            "text/html": [
              "\n",
              "  <div id=\"df-37c748ad-4444-4527-a6b9-22c1611d2da4\">\n",
              "    <div class=\"colab-df-container\">\n",
              "      <div>\n",
              "<style scoped>\n",
              "    .dataframe tbody tr th:only-of-type {\n",
              "        vertical-align: middle;\n",
              "    }\n",
              "\n",
              "    .dataframe tbody tr th {\n",
              "        vertical-align: top;\n",
              "    }\n",
              "\n",
              "    .dataframe thead th {\n",
              "        text-align: right;\n",
              "    }\n",
              "</style>\n",
              "<table border=\"1\" class=\"dataframe\">\n",
              "  <thead>\n",
              "    <tr style=\"text-align: right;\">\n",
              "      <th></th>\n",
              "      <th>beneficiario_cuit</th>\n",
              "      <th>proyecto_id</th>\n",
              "      <th>provincia_id</th>\n",
              "      <th>localidad_id</th>\n",
              "      <th>anr_abonado</th>\n",
              "    </tr>\n",
              "  </thead>\n",
              "  <tbody>\n",
              "    <tr>\n",
              "      <th>count</th>\n",
              "      <td>62.00</td>\n",
              "      <td>62.00</td>\n",
              "      <td>62.00</td>\n",
              "      <td>62.00</td>\n",
              "      <td>39.00</td>\n",
              "    </tr>\n",
              "    <tr>\n",
              "      <th>mean</th>\n",
              "      <td>30826376417.39</td>\n",
              "      <td>10.35</td>\n",
              "      <td>36.19</td>\n",
              "      <td>36389477903.71</td>\n",
              "      <td>7417206.54</td>\n",
              "    </tr>\n",
              "    <tr>\n",
              "      <th>std</th>\n",
              "      <td>646105653.68</td>\n",
              "      <td>5.75</td>\n",
              "      <td>34.53</td>\n",
              "      <td>34416966939.68</td>\n",
              "      <td>2797758.58</td>\n",
              "    </tr>\n",
              "    <tr>\n",
              "      <th>min</th>\n",
              "      <td>30501145315.00</td>\n",
              "      <td>1.00</td>\n",
              "      <td>2.00</td>\n",
              "      <td>2000010000.00</td>\n",
              "      <td>600000.00</td>\n",
              "    </tr>\n",
              "    <tr>\n",
              "      <th>25%</th>\n",
              "      <td>30682667709.00</td>\n",
              "      <td>5.25</td>\n",
              "      <td>6.00</td>\n",
              "      <td>6573510001.25</td>\n",
              "      <td>5190372.00</td>\n",
              "    </tr>\n",
              "    <tr>\n",
              "      <th>50%</th>\n",
              "      <td>30709585939.00</td>\n",
              "      <td>10.00</td>\n",
              "      <td>14.00</td>\n",
              "      <td>14119225000.00</td>\n",
              "      <td>8590000.00</td>\n",
              "    </tr>\n",
              "    <tr>\n",
              "      <th>75%</th>\n",
              "      <td>30714565272.50</td>\n",
              "      <td>15.50</td>\n",
              "      <td>82.00</td>\n",
              "      <td>82063170000.00</td>\n",
              "      <td>9999875.00</td>\n",
              "    </tr>\n",
              "    <tr>\n",
              "      <th>max</th>\n",
              "      <td>33714529809.00</td>\n",
              "      <td>20.00</td>\n",
              "      <td>82.00</td>\n",
              "      <td>82084270000.00</td>\n",
              "      <td>10000000.00</td>\n",
              "    </tr>\n",
              "  </tbody>\n",
              "</table>\n",
              "</div>\n",
              "      <button class=\"colab-df-convert\" onclick=\"convertToInteractive('df-37c748ad-4444-4527-a6b9-22c1611d2da4')\"\n",
              "              title=\"Convert this dataframe to an interactive table.\"\n",
              "              style=\"display:none;\">\n",
              "        \n",
              "  <svg xmlns=\"http://www.w3.org/2000/svg\" height=\"24px\"viewBox=\"0 0 24 24\"\n",
              "       width=\"24px\">\n",
              "    <path d=\"M0 0h24v24H0V0z\" fill=\"none\"/>\n",
              "    <path d=\"M18.56 5.44l.94 2.06.94-2.06 2.06-.94-2.06-.94-.94-2.06-.94 2.06-2.06.94zm-11 1L8.5 8.5l.94-2.06 2.06-.94-2.06-.94L8.5 2.5l-.94 2.06-2.06.94zm10 10l.94 2.06.94-2.06 2.06-.94-2.06-.94-.94-2.06-.94 2.06-2.06.94z\"/><path d=\"M17.41 7.96l-1.37-1.37c-.4-.4-.92-.59-1.43-.59-.52 0-1.04.2-1.43.59L10.3 9.45l-7.72 7.72c-.78.78-.78 2.05 0 2.83L4 21.41c.39.39.9.59 1.41.59.51 0 1.02-.2 1.41-.59l7.78-7.78 2.81-2.81c.8-.78.8-2.07 0-2.86zM5.41 20L4 18.59l7.72-7.72 1.47 1.35L5.41 20z\"/>\n",
              "  </svg>\n",
              "      </button>\n",
              "      \n",
              "  <style>\n",
              "    .colab-df-container {\n",
              "      display:flex;\n",
              "      flex-wrap:wrap;\n",
              "      gap: 12px;\n",
              "    }\n",
              "\n",
              "    .colab-df-convert {\n",
              "      background-color: #E8F0FE;\n",
              "      border: none;\n",
              "      border-radius: 50%;\n",
              "      cursor: pointer;\n",
              "      display: none;\n",
              "      fill: #1967D2;\n",
              "      height: 32px;\n",
              "      padding: 0 0 0 0;\n",
              "      width: 32px;\n",
              "    }\n",
              "\n",
              "    .colab-df-convert:hover {\n",
              "      background-color: #E2EBFA;\n",
              "      box-shadow: 0px 1px 2px rgba(60, 64, 67, 0.3), 0px 1px 3px 1px rgba(60, 64, 67, 0.15);\n",
              "      fill: #174EA6;\n",
              "    }\n",
              "\n",
              "    [theme=dark] .colab-df-convert {\n",
              "      background-color: #3B4455;\n",
              "      fill: #D2E3FC;\n",
              "    }\n",
              "\n",
              "    [theme=dark] .colab-df-convert:hover {\n",
              "      background-color: #434B5C;\n",
              "      box-shadow: 0px 1px 3px 1px rgba(0, 0, 0, 0.15);\n",
              "      filter: drop-shadow(0px 1px 2px rgba(0, 0, 0, 0.3));\n",
              "      fill: #FFFFFF;\n",
              "    }\n",
              "  </style>\n",
              "\n",
              "      <script>\n",
              "        const buttonEl =\n",
              "          document.querySelector('#df-37c748ad-4444-4527-a6b9-22c1611d2da4 button.colab-df-convert');\n",
              "        buttonEl.style.display =\n",
              "          google.colab.kernel.accessAllowed ? 'block' : 'none';\n",
              "\n",
              "        async function convertToInteractive(key) {\n",
              "          const element = document.querySelector('#df-37c748ad-4444-4527-a6b9-22c1611d2da4');\n",
              "          const dataTable =\n",
              "            await google.colab.kernel.invokeFunction('convertToInteractive',\n",
              "                                                     [key], {});\n",
              "          if (!dataTable) return;\n",
              "\n",
              "          const docLinkHtml = 'Like what you see? Visit the ' +\n",
              "            '<a target=\"_blank\" href=https://colab.research.google.com/notebooks/data_table.ipynb>data table notebook</a>'\n",
              "            + ' to learn more about interactive tables.';\n",
              "          element.innerHTML = '';\n",
              "          dataTable['output_type'] = 'display_data';\n",
              "          await google.colab.output.renderOutput(dataTable, element);\n",
              "          const docLink = document.createElement('div');\n",
              "          docLink.innerHTML = docLinkHtml;\n",
              "          element.appendChild(docLink);\n",
              "        }\n",
              "      </script>\n",
              "    </div>\n",
              "  </div>\n",
              "  "
            ]
          },
          "metadata": {},
          "execution_count": 6
        }
      ]
    }
  ]
}