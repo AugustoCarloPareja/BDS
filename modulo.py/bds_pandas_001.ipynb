{
  "nbformat": 4,
  "nbformat_minor": 0,
  "metadata": {
    "colab": {
      "provenance": [],
      "collapsed_sections": [],
      "toc_visible": true,
      "authorship_tag": "ABX9TyPucnXMBhDrt3RygfM9275L",
      "include_colab_link": true
    },
    "kernelspec": {
      "name": "python3",
      "display_name": "Python 3"
    },
    "language_info": {
      "name": "python"
    }
  },
  "cells": [
    {
      "cell_type": "markdown",
      "metadata": {
        "id": "view-in-github",
        "colab_type": "text"
      },
      "source": [
        "<a href=\"https://colab.research.google.com/github/cristiandarioortegayubro/BDS/blob/main/modulo.py/bds_pandas_001.ipynb\" target=\"_parent\"><img src=\"https://colab.research.google.com/assets/colab-badge.svg\" alt=\"Open In Colab\"/></a>"
      ]
    },
    {
      "cell_type": "markdown",
      "source": [
        "![logo](https://github.com/cristiandarioortegayubro/BDS/blob/main/images/Logo%20BDS%20Horizontal.png?raw=true)"
      ],
      "metadata": {
        "id": "iheuwam9e4CH"
      }
    },
    {
      "cell_type": "markdown",
      "source": [
        "<h1><b>\n",
        "<font color=\"#41a8c7\">\n",
        "Pandas\n",
        "</font>\n",
        "</b></h1>\n",
        "\n",
        "https://pandas.pydata.org"
      ],
      "metadata": {
        "id": "yIdu040yghlJ"
      }
    },
    {
      "cell_type": "markdown",
      "source": [
        "Antes que nada, verificamos la version de Python con la cual estamos trabajando..."
      ],
      "metadata": {
        "id": "Flc-sKiPRwj2"
      }
    },
    {
      "cell_type": "code",
      "source": [
        "!python3 -V"
      ],
      "metadata": {
        "colab": {
          "base_uri": "https://localhost:8080/"
        },
        "id": "QZrQLzKbPisZ",
        "outputId": "6fefd398-3d71-4d0b-d8be-79109eed828d"
      },
      "execution_count": 1,
      "outputs": [
        {
          "output_type": "stream",
          "name": "stdout",
          "text": [
            "Python 3.7.15\n"
          ]
        }
      ]
    },
    {
      "cell_type": "markdown",
      "source": [
        "# Algo mas de 10 minutos..."
      ],
      "metadata": {
        "id": "BZiXD1y0Wl-D"
      }
    },
    {
      "cell_type": "code",
      "source": [
        "import numpy as np\n",
        "import pandas as pd"
      ],
      "metadata": {
        "id": "VQgCEI8EWqf0"
      },
      "execution_count": 2,
      "outputs": []
    },
    {
      "cell_type": "markdown",
      "source": [
        "## Versiones"
      ],
      "metadata": {
        "id": "ShULCYPraoe1"
      }
    },
    {
      "cell_type": "markdown",
      "source": [
        "Ahora verificamos las versiones de ```numpy```y de ```pandas```. "
      ],
      "metadata": {
        "id": "CzaTrdo_XGdo"
      }
    },
    {
      "cell_type": "code",
      "source": [
        "!pip show numpy"
      ],
      "metadata": {
        "colab": {
          "base_uri": "https://localhost:8080/"
        },
        "id": "Q6_DBjPgXeXV",
        "outputId": "62fc0c00-6605-4b5f-954e-71dae406feb3"
      },
      "execution_count": 3,
      "outputs": [
        {
          "output_type": "stream",
          "name": "stdout",
          "text": [
            "Name: numpy\n",
            "Version: 1.21.6\n",
            "Summary: NumPy is the fundamental package for array computing with Python.\n",
            "Home-page: https://www.numpy.org\n",
            "Author: Travis E. Oliphant et al.\n",
            "Author-email: None\n",
            "License: BSD\n",
            "Location: /usr/local/lib/python3.7/dist-packages\n",
            "Requires: \n",
            "Required-by: yellowbrick, xgboost, xarray, xarray-einstats, wordcloud, torchvision, torchtext, tifffile, thinc, tensorflow, tensorflow-probability, tensorflow-hub, tensorflow-datasets, tensorboard, tables, statsmodels, spacy, sklearn-pandas, seaborn, scs, scipy, scikit-learn, scikit-image, resampy, qudida, qdldl, PyWavelets, python-louvain, pystan, pysndfile, pymc, pyerfa, pyemd, pycocotools, pyarrow, prophet, plotnine, patsy, pandas, osqp, opt-einsum, opencv-python, opencv-python-headless, opencv-contrib-python, numexpr, numba, nibabel, netCDF4, moviepy, mlxtend, mizani, missingno, matplotlib, matplotlib-venn, lightgbm, librosa, Keras-Preprocessing, kapre, jpeg4py, jaxlib, jax, imgaug, imbalanced-learn, imageio, hyperopt, httpstan, holoviews, h5py, gym, gensim, folium, fix-yahoo-finance, fastdtw, fa2, ecos, datascience, daft, cvxpy, cufflinks, cmdstanpy, cftime, bokeh, blis, autograd, atari-py, astropy, arviz, altair, albumentations, aesara, aeppl\n"
          ]
        }
      ]
    },
    {
      "cell_type": "code",
      "source": [
        "!pip show pandas "
      ],
      "metadata": {
        "colab": {
          "base_uri": "https://localhost:8080/"
        },
        "id": "I_Kzr_e5XkzY",
        "outputId": "6a07cffd-b641-463c-c826-0af63419a67c"
      },
      "execution_count": 19,
      "outputs": [
        {
          "output_type": "stream",
          "name": "stdout",
          "text": [
            "Name: pandas\n",
            "Version: 1.3.5\n",
            "Summary: Powerful data structures for data analysis, time series, and statistics\n",
            "Home-page: https://pandas.pydata.org\n",
            "Author: The Pandas Development Team\n",
            "Author-email: pandas-dev@python.org\n",
            "License: BSD-3-Clause\n",
            "Location: /usr/local/lib/python3.7/dist-packages\n",
            "Requires: python-dateutil, pytz, numpy\n",
            "Required-by: xarray, vega-datasets, statsmodels, sklearn-pandas, seaborn, pymc, prophet, plotnine, pandas-profiling, pandas-gbq, pandas-datareader, mlxtend, mizani, holoviews, gspread-dataframe, google-colab, fix-yahoo-finance, fastai, datascience, cufflinks, cmdstanpy, arviz, altair\n"
          ]
        }
      ]
    },
    {
      "cell_type": "markdown",
      "source": [
        "## Creando un objeto"
      ],
      "metadata": {
        "id": "_vKQ0e4NasVw"
      }
    },
    {
      "cell_type": "markdown",
      "source": [
        "### Obtención de datos\n",
        "\n",
        "https://www.datos.gob.ar/dataset/produccion-programa-produccion-colaborativa-economia-conocimiento"
      ],
      "metadata": {
        "id": "MOVop3Rob3cM"
      }
    },
    {
      "cell_type": "code",
      "source": [
        "datos=\"https://raw.githubusercontent.com/cristiandarioortegayubro/BDS/main/datasets/beneficios-otorgados-colaborativa-202210.xlsx-Dataset.csv\""
      ],
      "metadata": {
        "id": "VrXOfyCZdvju"
      },
      "execution_count": 21,
      "outputs": []
    },
    {
      "cell_type": "markdown",
      "source": [
        "### Creando un dataframe"
      ],
      "metadata": {
        "id": "KoP6ZCepePmC"
      }
    },
    {
      "cell_type": "code",
      "source": [
        "df = pd.read_csv(datos)"
      ],
      "metadata": {
        "id": "w6cafcYHeTG9"
      },
      "execution_count": 22,
      "outputs": []
    },
    {
      "cell_type": "code",
      "source": [
        "df.head(3)"
      ],
      "metadata": {
        "colab": {
          "base_uri": "https://localhost:8080/",
          "height": 308
        },
        "id": "D7G7OpJmeYIf",
        "outputId": "5dae3858-833b-4790-e7b7-00d920bd36dc"
      },
      "execution_count": 24,
      "outputs": [
        {
          "output_type": "execute_result",
          "data": {
            "text/plain": [
              "                    beneficio_tipo         beneficiario_razon_social  \\\n",
              "0  Bonificación de tasa crediticia                      Esg Dilec SA   \n",
              "1                              ANR                      Esg Dilec SA   \n",
              "2                              ANR  Laboratorio Biológico Tandil SRL   \n",
              "\n",
              "   beneficiario_cuit                                    proyecto_nombre  \\\n",
              "0        30708334584  Sistema multiplataforma de lectura, explotació...   \n",
              "1        30708334584  Sistema multiplataforma de lectura, explotació...   \n",
              "2        30638064126                Fabricación de Polarímetro nacional   \n",
              "\n",
              "   proyecto_id                                   proyecto_resumen  \\\n",
              "0            1  La provisión de una plataforma informática y d...   \n",
              "1            1  La provisión de una plataforma informática y d...   \n",
              "2            2  Industrialización del codesarrollo realizado e...   \n",
              "\n",
              "         sector_edc provincia_nombre  provincia_id localidad_nombre  \\\n",
              "0     Industria 4.0         Santa Fe            82          Rosario   \n",
              "1     Industria 4.0         Santa Fe            82          Rosario   \n",
              "2  Biotecnología \\n     Buenos Aires             6           Tandil   \n",
              "\n",
              "   localidad_id                       resolucion  anr_abonado  \\\n",
              "0   82084270000  RESOL-2021-407-APN-SIECYGCE#MDP          NaN   \n",
              "1   82084270000  RESOL-2021-407-APN-SIECYGCE#MDP    4954725.0   \n",
              "2    6791050000  RESOL-2021-416-APN-SIECYGCE#MDP    4482165.0   \n",
              "\n",
              "  subsidio_tasa_credito  \n",
              "0               4008128  \n",
              "1                   NaN  \n",
              "2                   NaN  "
            ],
            "text/html": [
              "\n",
              "  <div id=\"df-a3fc5de7-57ee-4df7-af6b-d997c1388f55\">\n",
              "    <div class=\"colab-df-container\">\n",
              "      <div>\n",
              "<style scoped>\n",
              "    .dataframe tbody tr th:only-of-type {\n",
              "        vertical-align: middle;\n",
              "    }\n",
              "\n",
              "    .dataframe tbody tr th {\n",
              "        vertical-align: top;\n",
              "    }\n",
              "\n",
              "    .dataframe thead th {\n",
              "        text-align: right;\n",
              "    }\n",
              "</style>\n",
              "<table border=\"1\" class=\"dataframe\">\n",
              "  <thead>\n",
              "    <tr style=\"text-align: right;\">\n",
              "      <th></th>\n",
              "      <th>beneficio_tipo</th>\n",
              "      <th>beneficiario_razon_social</th>\n",
              "      <th>beneficiario_cuit</th>\n",
              "      <th>proyecto_nombre</th>\n",
              "      <th>proyecto_id</th>\n",
              "      <th>proyecto_resumen</th>\n",
              "      <th>sector_edc</th>\n",
              "      <th>provincia_nombre</th>\n",
              "      <th>provincia_id</th>\n",
              "      <th>localidad_nombre</th>\n",
              "      <th>localidad_id</th>\n",
              "      <th>resolucion</th>\n",
              "      <th>anr_abonado</th>\n",
              "      <th>subsidio_tasa_credito</th>\n",
              "    </tr>\n",
              "  </thead>\n",
              "  <tbody>\n",
              "    <tr>\n",
              "      <th>0</th>\n",
              "      <td>Bonificación de tasa crediticia</td>\n",
              "      <td>Esg Dilec SA</td>\n",
              "      <td>30708334584</td>\n",
              "      <td>Sistema multiplataforma de lectura, explotació...</td>\n",
              "      <td>1</td>\n",
              "      <td>La provisión de una plataforma informática y d...</td>\n",
              "      <td>Industria 4.0</td>\n",
              "      <td>Santa Fe</td>\n",
              "      <td>82</td>\n",
              "      <td>Rosario</td>\n",
              "      <td>82084270000</td>\n",
              "      <td>RESOL-2021-407-APN-SIECYGCE#MDP</td>\n",
              "      <td>NaN</td>\n",
              "      <td>4008128</td>\n",
              "    </tr>\n",
              "    <tr>\n",
              "      <th>1</th>\n",
              "      <td>ANR</td>\n",
              "      <td>Esg Dilec SA</td>\n",
              "      <td>30708334584</td>\n",
              "      <td>Sistema multiplataforma de lectura, explotació...</td>\n",
              "      <td>1</td>\n",
              "      <td>La provisión de una plataforma informática y d...</td>\n",
              "      <td>Industria 4.0</td>\n",
              "      <td>Santa Fe</td>\n",
              "      <td>82</td>\n",
              "      <td>Rosario</td>\n",
              "      <td>82084270000</td>\n",
              "      <td>RESOL-2021-407-APN-SIECYGCE#MDP</td>\n",
              "      <td>4954725.0</td>\n",
              "      <td>NaN</td>\n",
              "    </tr>\n",
              "    <tr>\n",
              "      <th>2</th>\n",
              "      <td>ANR</td>\n",
              "      <td>Laboratorio Biológico Tandil SRL</td>\n",
              "      <td>30638064126</td>\n",
              "      <td>Fabricación de Polarímetro nacional</td>\n",
              "      <td>2</td>\n",
              "      <td>Industrialización del codesarrollo realizado e...</td>\n",
              "      <td>Biotecnología \\n</td>\n",
              "      <td>Buenos Aires</td>\n",
              "      <td>6</td>\n",
              "      <td>Tandil</td>\n",
              "      <td>6791050000</td>\n",
              "      <td>RESOL-2021-416-APN-SIECYGCE#MDP</td>\n",
              "      <td>4482165.0</td>\n",
              "      <td>NaN</td>\n",
              "    </tr>\n",
              "  </tbody>\n",
              "</table>\n",
              "</div>\n",
              "      <button class=\"colab-df-convert\" onclick=\"convertToInteractive('df-a3fc5de7-57ee-4df7-af6b-d997c1388f55')\"\n",
              "              title=\"Convert this dataframe to an interactive table.\"\n",
              "              style=\"display:none;\">\n",
              "        \n",
              "  <svg xmlns=\"http://www.w3.org/2000/svg\" height=\"24px\"viewBox=\"0 0 24 24\"\n",
              "       width=\"24px\">\n",
              "    <path d=\"M0 0h24v24H0V0z\" fill=\"none\"/>\n",
              "    <path d=\"M18.56 5.44l.94 2.06.94-2.06 2.06-.94-2.06-.94-.94-2.06-.94 2.06-2.06.94zm-11 1L8.5 8.5l.94-2.06 2.06-.94-2.06-.94L8.5 2.5l-.94 2.06-2.06.94zm10 10l.94 2.06.94-2.06 2.06-.94-2.06-.94-.94-2.06-.94 2.06-2.06.94z\"/><path d=\"M17.41 7.96l-1.37-1.37c-.4-.4-.92-.59-1.43-.59-.52 0-1.04.2-1.43.59L10.3 9.45l-7.72 7.72c-.78.78-.78 2.05 0 2.83L4 21.41c.39.39.9.59 1.41.59.51 0 1.02-.2 1.41-.59l7.78-7.78 2.81-2.81c.8-.78.8-2.07 0-2.86zM5.41 20L4 18.59l7.72-7.72 1.47 1.35L5.41 20z\"/>\n",
              "  </svg>\n",
              "      </button>\n",
              "      \n",
              "  <style>\n",
              "    .colab-df-container {\n",
              "      display:flex;\n",
              "      flex-wrap:wrap;\n",
              "      gap: 12px;\n",
              "    }\n",
              "\n",
              "    .colab-df-convert {\n",
              "      background-color: #E8F0FE;\n",
              "      border: none;\n",
              "      border-radius: 50%;\n",
              "      cursor: pointer;\n",
              "      display: none;\n",
              "      fill: #1967D2;\n",
              "      height: 32px;\n",
              "      padding: 0 0 0 0;\n",
              "      width: 32px;\n",
              "    }\n",
              "\n",
              "    .colab-df-convert:hover {\n",
              "      background-color: #E2EBFA;\n",
              "      box-shadow: 0px 1px 2px rgba(60, 64, 67, 0.3), 0px 1px 3px 1px rgba(60, 64, 67, 0.15);\n",
              "      fill: #174EA6;\n",
              "    }\n",
              "\n",
              "    [theme=dark] .colab-df-convert {\n",
              "      background-color: #3B4455;\n",
              "      fill: #D2E3FC;\n",
              "    }\n",
              "\n",
              "    [theme=dark] .colab-df-convert:hover {\n",
              "      background-color: #434B5C;\n",
              "      box-shadow: 0px 1px 3px 1px rgba(0, 0, 0, 0.15);\n",
              "      filter: drop-shadow(0px 1px 2px rgba(0, 0, 0, 0.3));\n",
              "      fill: #FFFFFF;\n",
              "    }\n",
              "  </style>\n",
              "\n",
              "      <script>\n",
              "        const buttonEl =\n",
              "          document.querySelector('#df-a3fc5de7-57ee-4df7-af6b-d997c1388f55 button.colab-df-convert');\n",
              "        buttonEl.style.display =\n",
              "          google.colab.kernel.accessAllowed ? 'block' : 'none';\n",
              "\n",
              "        async function convertToInteractive(key) {\n",
              "          const element = document.querySelector('#df-a3fc5de7-57ee-4df7-af6b-d997c1388f55');\n",
              "          const dataTable =\n",
              "            await google.colab.kernel.invokeFunction('convertToInteractive',\n",
              "                                                     [key], {});\n",
              "          if (!dataTable) return;\n",
              "\n",
              "          const docLinkHtml = 'Like what you see? Visit the ' +\n",
              "            '<a target=\"_blank\" href=https://colab.research.google.com/notebooks/data_table.ipynb>data table notebook</a>'\n",
              "            + ' to learn more about interactive tables.';\n",
              "          element.innerHTML = '';\n",
              "          dataTable['output_type'] = 'display_data';\n",
              "          await google.colab.output.renderOutput(dataTable, element);\n",
              "          const docLink = document.createElement('div');\n",
              "          docLink.innerHTML = docLinkHtml;\n",
              "          element.appendChild(docLink);\n",
              "        }\n",
              "      </script>\n",
              "    </div>\n",
              "  </div>\n",
              "  "
            ]
          },
          "metadata": {},
          "execution_count": 24
        }
      ]
    }
  ]
}