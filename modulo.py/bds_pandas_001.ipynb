{
  "nbformat": 4,
  "nbformat_minor": 0,
  "metadata": {
    "colab": {
      "provenance": [],
      "collapsed_sections": [],
      "toc_visible": true,
      "authorship_tag": "ABX9TyONWTiZWN+L+GtOZCnrmcv0",
      "include_colab_link": true
    },
    "kernelspec": {
      "name": "python3",
      "display_name": "Python 3"
    },
    "language_info": {
      "name": "python"
    }
  },
  "cells": [
    {
      "cell_type": "markdown",
      "metadata": {
        "id": "view-in-github",
        "colab_type": "text"
      },
      "source": [
        "<a href=\"https://colab.research.google.com/github/cristiandarioortegayubro/BDS/blob/main/modulo.py/bds_pandas_001.ipynb\" target=\"_parent\"><img src=\"https://colab.research.google.com/assets/colab-badge.svg\" alt=\"Open In Colab\"/></a>"
      ]
    },
    {
      "cell_type": "markdown",
      "source": [
        "![logo](https://github.com/cristiandarioortegayubro/BDS/blob/main/images/Logo%20BDS%20Horizontal.png?raw=true)"
      ],
      "metadata": {
        "id": "iheuwam9e4CH"
      }
    },
    {
      "cell_type": "markdown",
      "source": [
        "<h1><b>\n",
        "<font color=\"#41a8c7\">\n",
        "Pandas\n",
        "</font>\n",
        "</b></h1>\n",
        "\n",
        "https://pandas.pydata.org"
      ],
      "metadata": {
        "id": "yIdu040yghlJ"
      }
    },
    {
      "cell_type": "markdown",
      "source": [
        "Antes que nada, verificamos la version de Python con la cual estamos trabajando..."
      ],
      "metadata": {
        "id": "Flc-sKiPRwj2"
      }
    },
    {
      "cell_type": "code",
      "source": [
        "!python3 -V"
      ],
      "metadata": {
        "colab": {
          "base_uri": "https://localhost:8080/"
        },
        "id": "QZrQLzKbPisZ",
        "outputId": "6fefd398-3d71-4d0b-d8be-79109eed828d"
      },
      "execution_count": 1,
      "outputs": [
        {
          "output_type": "stream",
          "name": "stdout",
          "text": [
            "Python 3.7.15\n"
          ]
        }
      ]
    }
  ]
}