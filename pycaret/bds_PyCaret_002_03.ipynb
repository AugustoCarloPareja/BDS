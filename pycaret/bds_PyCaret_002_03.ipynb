{
  "nbformat": 4,
  "nbformat_minor": 0,
  "metadata": {
    "colab": {
      "provenance": [],
      "toc_visible": true,
      "include_colab_link": true
    },
    "kernelspec": {
      "name": "python3",
      "display_name": "Python 3"
    },
    "language_info": {
      "name": "python"
    },
    "widgets": {
      "application/vnd.jupyter.widget-state+json": {
        "8130d4c788144591af64386fb4a1afbb": {
          "model_module": "@jupyter-widgets/controls",
          "model_name": "VBoxModel",
          "model_module_version": "1.5.0",
          "state": {
            "_dom_classes": [
              "widget-interact"
            ],
            "_model_module": "@jupyter-widgets/controls",
            "_model_module_version": "1.5.0",
            "_model_name": "VBoxModel",
            "_view_count": null,
            "_view_module": "@jupyter-widgets/controls",
            "_view_module_version": "1.5.0",
            "_view_name": "VBoxView",
            "box_style": "",
            "children": [
              "IPY_MODEL_151b5d92b6fa42578548bdd40f3cb4c6",
              "IPY_MODEL_b038f180bc914f34bfb587d5a293263b"
            ],
            "layout": "IPY_MODEL_ccef06c3628b4a6b90567ad7bce573e0"
          }
        },
        "151b5d92b6fa42578548bdd40f3cb4c6": {
          "model_module": "@jupyter-widgets/controls",
          "model_name": "ToggleButtonsModel",
          "model_module_version": "1.5.0",
          "state": {
            "_dom_classes": [],
            "_model_module": "@jupyter-widgets/controls",
            "_model_module_version": "1.5.0",
            "_model_name": "ToggleButtonsModel",
            "_options_labels": [
              "Pipeline Plot",
              "Hyperparameters",
              "Residuals",
              "Prediction Error",
              "Cooks Distance",
              "Feature Selection",
              "Learning Curve",
              "Manifold Learning",
              "Validation Curve",
              "Feature Importance",
              "Feature Importance (All)",
              "Decision Tree",
              "Interactive Residuals"
            ],
            "_view_count": null,
            "_view_module": "@jupyter-widgets/controls",
            "_view_module_version": "1.5.0",
            "_view_name": "ToggleButtonsView",
            "button_style": "",
            "description": "Plot Type:",
            "description_tooltip": null,
            "disabled": false,
            "icons": [
              ""
            ],
            "index": 0,
            "layout": "IPY_MODEL_f7ee3bcaddb746eeb084fe4a4457a1db",
            "style": "IPY_MODEL_9c91a5177d464095a83e3cfc9ae09ce7",
            "tooltips": []
          }
        },
        "b038f180bc914f34bfb587d5a293263b": {
          "model_module": "@jupyter-widgets/output",
          "model_name": "OutputModel",
          "model_module_version": "1.0.0",
          "state": {
            "_dom_classes": [],
            "_model_module": "@jupyter-widgets/output",
            "_model_module_version": "1.0.0",
            "_model_name": "OutputModel",
            "_view_count": null,
            "_view_module": "@jupyter-widgets/output",
            "_view_module_version": "1.0.0",
            "_view_name": "OutputView",
            "layout": "IPY_MODEL_1753c27781f041dc89e1ba7176681916",
            "msg_id": "",
            "outputs": [
              {
                "output_type": "display_data",
                "data": {
                  "text/plain": "<Figure size 2200x600 with 1 Axes>",
                  "image/png": "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\n"
                },
                "metadata": {}
              }
            ]
          }
        },
        "ccef06c3628b4a6b90567ad7bce573e0": {
          "model_module": "@jupyter-widgets/base",
          "model_name": "LayoutModel",
          "model_module_version": "1.2.0",
          "state": {
            "_model_module": "@jupyter-widgets/base",
            "_model_module_version": "1.2.0",
            "_model_name": "LayoutModel",
            "_view_count": null,
            "_view_module": "@jupyter-widgets/base",
            "_view_module_version": "1.2.0",
            "_view_name": "LayoutView",
            "align_content": null,
            "align_items": null,
            "align_self": null,
            "border": null,
            "bottom": null,
            "display": null,
            "flex": null,
            "flex_flow": null,
            "grid_area": null,
            "grid_auto_columns": null,
            "grid_auto_flow": null,
            "grid_auto_rows": null,
            "grid_column": null,
            "grid_gap": null,
            "grid_row": null,
            "grid_template_areas": null,
            "grid_template_columns": null,
            "grid_template_rows": null,
            "height": null,
            "justify_content": null,
            "justify_items": null,
            "left": null,
            "margin": null,
            "max_height": null,
            "max_width": null,
            "min_height": null,
            "min_width": null,
            "object_fit": null,
            "object_position": null,
            "order": null,
            "overflow": null,
            "overflow_x": null,
            "overflow_y": null,
            "padding": null,
            "right": null,
            "top": null,
            "visibility": null,
            "width": null
          }
        },
        "f7ee3bcaddb746eeb084fe4a4457a1db": {
          "model_module": "@jupyter-widgets/base",
          "model_name": "LayoutModel",
          "model_module_version": "1.2.0",
          "state": {
            "_model_module": "@jupyter-widgets/base",
            "_model_module_version": "1.2.0",
            "_model_name": "LayoutModel",
            "_view_count": null,
            "_view_module": "@jupyter-widgets/base",
            "_view_module_version": "1.2.0",
            "_view_name": "LayoutView",
            "align_content": null,
            "align_items": null,
            "align_self": null,
            "border": null,
            "bottom": null,
            "display": null,
            "flex": null,
            "flex_flow": null,
            "grid_area": null,
            "grid_auto_columns": null,
            "grid_auto_flow": null,
            "grid_auto_rows": null,
            "grid_column": null,
            "grid_gap": null,
            "grid_row": null,
            "grid_template_areas": null,
            "grid_template_columns": null,
            "grid_template_rows": null,
            "height": null,
            "justify_content": null,
            "justify_items": null,
            "left": null,
            "margin": null,
            "max_height": null,
            "max_width": null,
            "min_height": null,
            "min_width": null,
            "object_fit": null,
            "object_position": null,
            "order": null,
            "overflow": null,
            "overflow_x": null,
            "overflow_y": null,
            "padding": null,
            "right": null,
            "top": null,
            "visibility": null,
            "width": null
          }
        },
        "9c91a5177d464095a83e3cfc9ae09ce7": {
          "model_module": "@jupyter-widgets/controls",
          "model_name": "ToggleButtonsStyleModel",
          "model_module_version": "1.5.0",
          "state": {
            "_model_module": "@jupyter-widgets/controls",
            "_model_module_version": "1.5.0",
            "_model_name": "ToggleButtonsStyleModel",
            "_view_count": null,
            "_view_module": "@jupyter-widgets/base",
            "_view_module_version": "1.2.0",
            "_view_name": "StyleView",
            "button_width": "",
            "description_width": "",
            "font_weight": ""
          }
        },
        "1753c27781f041dc89e1ba7176681916": {
          "model_module": "@jupyter-widgets/base",
          "model_name": "LayoutModel",
          "model_module_version": "1.2.0",
          "state": {
            "_model_module": "@jupyter-widgets/base",
            "_model_module_version": "1.2.0",
            "_model_name": "LayoutModel",
            "_view_count": null,
            "_view_module": "@jupyter-widgets/base",
            "_view_module_version": "1.2.0",
            "_view_name": "LayoutView",
            "align_content": null,
            "align_items": null,
            "align_self": null,
            "border": null,
            "bottom": null,
            "display": null,
            "flex": null,
            "flex_flow": null,
            "grid_area": null,
            "grid_auto_columns": null,
            "grid_auto_flow": null,
            "grid_auto_rows": null,
            "grid_column": null,
            "grid_gap": null,
            "grid_row": null,
            "grid_template_areas": null,
            "grid_template_columns": null,
            "grid_template_rows": null,
            "height": null,
            "justify_content": null,
            "justify_items": null,
            "left": null,
            "margin": null,
            "max_height": null,
            "max_width": null,
            "min_height": null,
            "min_width": null,
            "object_fit": null,
            "object_position": null,
            "order": null,
            "overflow": null,
            "overflow_x": null,
            "overflow_y": null,
            "padding": null,
            "right": null,
            "top": null,
            "visibility": null,
            "width": null
          }
        },
        "aa1cd9f9c6ea4655bd9ef586386d2af9": {
          "model_module": "@jupyter-widgets/controls",
          "model_name": "VBoxModel",
          "model_module_version": "1.5.0",
          "state": {
            "_dom_classes": [
              "widget-interact"
            ],
            "_model_module": "@jupyter-widgets/controls",
            "_model_module_version": "1.5.0",
            "_model_name": "VBoxModel",
            "_view_count": null,
            "_view_module": "@jupyter-widgets/controls",
            "_view_module_version": "1.5.0",
            "_view_name": "VBoxView",
            "box_style": "",
            "children": [
              "IPY_MODEL_6920727e1f8f4f4bb1595dde3e21bd23",
              "IPY_MODEL_f9ca10c9413c49dabe5572da12adc929"
            ],
            "layout": "IPY_MODEL_09b37da9e5e8433b9e1f972f2bddd4ed"
          }
        },
        "6920727e1f8f4f4bb1595dde3e21bd23": {
          "model_module": "@jupyter-widgets/controls",
          "model_name": "ToggleButtonsModel",
          "model_module_version": "1.5.0",
          "state": {
            "_dom_classes": [],
            "_model_module": "@jupyter-widgets/controls",
            "_model_module_version": "1.5.0",
            "_model_name": "ToggleButtonsModel",
            "_options_labels": [
              "Pipeline Plot",
              "Hyperparameters",
              "Residuals",
              "Prediction Error",
              "Cooks Distance",
              "Feature Selection",
              "Learning Curve",
              "Manifold Learning",
              "Validation Curve",
              "Feature Importance",
              "Feature Importance (All)",
              "Decision Tree",
              "Interactive Residuals"
            ],
            "_view_count": null,
            "_view_module": "@jupyter-widgets/controls",
            "_view_module_version": "1.5.0",
            "_view_name": "ToggleButtonsView",
            "button_style": "",
            "description": "Plot Type:",
            "description_tooltip": null,
            "disabled": false,
            "icons": [
              ""
            ],
            "index": 0,
            "layout": "IPY_MODEL_49a355291fb1426f9a327419a0265568",
            "style": "IPY_MODEL_3079d0e4947b4097b6697aa615b9a2eb",
            "tooltips": []
          }
        },
        "f9ca10c9413c49dabe5572da12adc929": {
          "model_module": "@jupyter-widgets/output",
          "model_name": "OutputModel",
          "model_module_version": "1.0.0",
          "state": {
            "_dom_classes": [],
            "_model_module": "@jupyter-widgets/output",
            "_model_module_version": "1.0.0",
            "_model_name": "OutputModel",
            "_view_count": null,
            "_view_module": "@jupyter-widgets/output",
            "_view_module_version": "1.0.0",
            "_view_name": "OutputView",
            "layout": "IPY_MODEL_da20b84a06a14c21b670fd66cb15a1aa",
            "msg_id": "",
            "outputs": [
              {
                "output_type": "display_data",
                "data": {
                  "text/plain": "<Figure size 2200x600 with 1 Axes>",
                  "image/png": "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\n"
                },
                "metadata": {}
              }
            ]
          }
        },
        "09b37da9e5e8433b9e1f972f2bddd4ed": {
          "model_module": "@jupyter-widgets/base",
          "model_name": "LayoutModel",
          "model_module_version": "1.2.0",
          "state": {
            "_model_module": "@jupyter-widgets/base",
            "_model_module_version": "1.2.0",
            "_model_name": "LayoutModel",
            "_view_count": null,
            "_view_module": "@jupyter-widgets/base",
            "_view_module_version": "1.2.0",
            "_view_name": "LayoutView",
            "align_content": null,
            "align_items": null,
            "align_self": null,
            "border": null,
            "bottom": null,
            "display": null,
            "flex": null,
            "flex_flow": null,
            "grid_area": null,
            "grid_auto_columns": null,
            "grid_auto_flow": null,
            "grid_auto_rows": null,
            "grid_column": null,
            "grid_gap": null,
            "grid_row": null,
            "grid_template_areas": null,
            "grid_template_columns": null,
            "grid_template_rows": null,
            "height": null,
            "justify_content": null,
            "justify_items": null,
            "left": null,
            "margin": null,
            "max_height": null,
            "max_width": null,
            "min_height": null,
            "min_width": null,
            "object_fit": null,
            "object_position": null,
            "order": null,
            "overflow": null,
            "overflow_x": null,
            "overflow_y": null,
            "padding": null,
            "right": null,
            "top": null,
            "visibility": null,
            "width": null
          }
        },
        "49a355291fb1426f9a327419a0265568": {
          "model_module": "@jupyter-widgets/base",
          "model_name": "LayoutModel",
          "model_module_version": "1.2.0",
          "state": {
            "_model_module": "@jupyter-widgets/base",
            "_model_module_version": "1.2.0",
            "_model_name": "LayoutModel",
            "_view_count": null,
            "_view_module": "@jupyter-widgets/base",
            "_view_module_version": "1.2.0",
            "_view_name": "LayoutView",
            "align_content": null,
            "align_items": null,
            "align_self": null,
            "border": null,
            "bottom": null,
            "display": null,
            "flex": null,
            "flex_flow": null,
            "grid_area": null,
            "grid_auto_columns": null,
            "grid_auto_flow": null,
            "grid_auto_rows": null,
            "grid_column": null,
            "grid_gap": null,
            "grid_row": null,
            "grid_template_areas": null,
            "grid_template_columns": null,
            "grid_template_rows": null,
            "height": null,
            "justify_content": null,
            "justify_items": null,
            "left": null,
            "margin": null,
            "max_height": null,
            "max_width": null,
            "min_height": null,
            "min_width": null,
            "object_fit": null,
            "object_position": null,
            "order": null,
            "overflow": null,
            "overflow_x": null,
            "overflow_y": null,
            "padding": null,
            "right": null,
            "top": null,
            "visibility": null,
            "width": null
          }
        },
        "3079d0e4947b4097b6697aa615b9a2eb": {
          "model_module": "@jupyter-widgets/controls",
          "model_name": "ToggleButtonsStyleModel",
          "model_module_version": "1.5.0",
          "state": {
            "_model_module": "@jupyter-widgets/controls",
            "_model_module_version": "1.5.0",
            "_model_name": "ToggleButtonsStyleModel",
            "_view_count": null,
            "_view_module": "@jupyter-widgets/base",
            "_view_module_version": "1.2.0",
            "_view_name": "StyleView",
            "button_width": "",
            "description_width": "",
            "font_weight": ""
          }
        },
        "da20b84a06a14c21b670fd66cb15a1aa": {
          "model_module": "@jupyter-widgets/base",
          "model_name": "LayoutModel",
          "model_module_version": "1.2.0",
          "state": {
            "_model_module": "@jupyter-widgets/base",
            "_model_module_version": "1.2.0",
            "_model_name": "LayoutModel",
            "_view_count": null,
            "_view_module": "@jupyter-widgets/base",
            "_view_module_version": "1.2.0",
            "_view_name": "LayoutView",
            "align_content": null,
            "align_items": null,
            "align_self": null,
            "border": null,
            "bottom": null,
            "display": null,
            "flex": null,
            "flex_flow": null,
            "grid_area": null,
            "grid_auto_columns": null,
            "grid_auto_flow": null,
            "grid_auto_rows": null,
            "grid_column": null,
            "grid_gap": null,
            "grid_row": null,
            "grid_template_areas": null,
            "grid_template_columns": null,
            "grid_template_rows": null,
            "height": null,
            "justify_content": null,
            "justify_items": null,
            "left": null,
            "margin": null,
            "max_height": null,
            "max_width": null,
            "min_height": null,
            "min_width": null,
            "object_fit": null,
            "object_position": null,
            "order": null,
            "overflow": null,
            "overflow_x": null,
            "overflow_y": null,
            "padding": null,
            "right": null,
            "top": null,
            "visibility": null,
            "width": null
          }
        },
        "4d2e688cc6d14577874cff53628412ab": {
          "model_module": "@jupyter-widgets/controls",
          "model_name": "HBoxModel",
          "model_module_version": "1.5.0",
          "state": {
            "_dom_classes": [],
            "_model_module": "@jupyter-widgets/controls",
            "_model_module_version": "1.5.0",
            "_model_name": "HBoxModel",
            "_view_count": null,
            "_view_module": "@jupyter-widgets/controls",
            "_view_module_version": "1.5.0",
            "_view_name": "HBoxView",
            "box_style": "",
            "children": [
              "IPY_MODEL_8b73fcbd91b247e79cb7923e7f291a62",
              "IPY_MODEL_df8a0c06a7484676b3382820eded143a",
              "IPY_MODEL_3c25a78d9e474be5864cbe0beab7ac15"
            ],
            "layout": "IPY_MODEL_188f0de88e004a47b1b06e93e6656c36"
          }
        },
        "8b73fcbd91b247e79cb7923e7f291a62": {
          "model_module": "@jupyter-widgets/controls",
          "model_name": "HTMLModel",
          "model_module_version": "1.5.0",
          "state": {
            "_dom_classes": [],
            "_model_module": "@jupyter-widgets/controls",
            "_model_module_version": "1.5.0",
            "_model_name": "HTMLModel",
            "_view_count": null,
            "_view_module": "@jupyter-widgets/controls",
            "_view_module_version": "1.5.0",
            "_view_name": "HTMLView",
            "description": "",
            "description_tooltip": null,
            "layout": "IPY_MODEL_daacb332d5a84485bcbcbfb3b8b8bc3e",
            "placeholder": "​",
            "style": "IPY_MODEL_effc9bc8189c4540aecd3d0beb1b4563",
            "value": "Processing: 100%"
          }
        },
        "df8a0c06a7484676b3382820eded143a": {
          "model_module": "@jupyter-widgets/controls",
          "model_name": "FloatProgressModel",
          "model_module_version": "1.5.0",
          "state": {
            "_dom_classes": [],
            "_model_module": "@jupyter-widgets/controls",
            "_model_module_version": "1.5.0",
            "_model_name": "FloatProgressModel",
            "_view_count": null,
            "_view_module": "@jupyter-widgets/controls",
            "_view_module_version": "1.5.0",
            "_view_name": "ProgressView",
            "bar_style": "",
            "description": "",
            "description_tooltip": null,
            "layout": "IPY_MODEL_8187ca1802c947e296cc6995da52834c",
            "max": 4,
            "min": 0,
            "orientation": "horizontal",
            "style": "IPY_MODEL_68e556c9b22e474295127db398e30ab5",
            "value": 4
          }
        },
        "3c25a78d9e474be5864cbe0beab7ac15": {
          "model_module": "@jupyter-widgets/controls",
          "model_name": "HTMLModel",
          "model_module_version": "1.5.0",
          "state": {
            "_dom_classes": [],
            "_model_module": "@jupyter-widgets/controls",
            "_model_module_version": "1.5.0",
            "_model_name": "HTMLModel",
            "_view_count": null,
            "_view_module": "@jupyter-widgets/controls",
            "_view_module_version": "1.5.0",
            "_view_name": "HTMLView",
            "description": "",
            "description_tooltip": null,
            "layout": "IPY_MODEL_395c8326a3c04b2f8a93372087073303",
            "placeholder": "​",
            "style": "IPY_MODEL_b4f2a7c87fa048ff837cc76920e215a0",
            "value": " 4/4 [00:07&lt;00:00,  1.72s/it]"
          }
        },
        "188f0de88e004a47b1b06e93e6656c36": {
          "model_module": "@jupyter-widgets/base",
          "model_name": "LayoutModel",
          "model_module_version": "1.2.0",
          "state": {
            "_model_module": "@jupyter-widgets/base",
            "_model_module_version": "1.2.0",
            "_model_name": "LayoutModel",
            "_view_count": null,
            "_view_module": "@jupyter-widgets/base",
            "_view_module_version": "1.2.0",
            "_view_name": "LayoutView",
            "align_content": null,
            "align_items": null,
            "align_self": null,
            "border": null,
            "bottom": null,
            "display": null,
            "flex": null,
            "flex_flow": null,
            "grid_area": null,
            "grid_auto_columns": null,
            "grid_auto_flow": null,
            "grid_auto_rows": null,
            "grid_column": null,
            "grid_gap": null,
            "grid_row": null,
            "grid_template_areas": null,
            "grid_template_columns": null,
            "grid_template_rows": null,
            "height": null,
            "justify_content": null,
            "justify_items": null,
            "left": null,
            "margin": null,
            "max_height": null,
            "max_width": null,
            "min_height": null,
            "min_width": null,
            "object_fit": null,
            "object_position": null,
            "order": null,
            "overflow": null,
            "overflow_x": null,
            "overflow_y": null,
            "padding": null,
            "right": null,
            "top": null,
            "visibility": "hidden",
            "width": null
          }
        },
        "daacb332d5a84485bcbcbfb3b8b8bc3e": {
          "model_module": "@jupyter-widgets/base",
          "model_name": "LayoutModel",
          "model_module_version": "1.2.0",
          "state": {
            "_model_module": "@jupyter-widgets/base",
            "_model_module_version": "1.2.0",
            "_model_name": "LayoutModel",
            "_view_count": null,
            "_view_module": "@jupyter-widgets/base",
            "_view_module_version": "1.2.0",
            "_view_name": "LayoutView",
            "align_content": null,
            "align_items": null,
            "align_self": null,
            "border": null,
            "bottom": null,
            "display": null,
            "flex": null,
            "flex_flow": null,
            "grid_area": null,
            "grid_auto_columns": null,
            "grid_auto_flow": null,
            "grid_auto_rows": null,
            "grid_column": null,
            "grid_gap": null,
            "grid_row": null,
            "grid_template_areas": null,
            "grid_template_columns": null,
            "grid_template_rows": null,
            "height": null,
            "justify_content": null,
            "justify_items": null,
            "left": null,
            "margin": null,
            "max_height": null,
            "max_width": null,
            "min_height": null,
            "min_width": null,
            "object_fit": null,
            "object_position": null,
            "order": null,
            "overflow": null,
            "overflow_x": null,
            "overflow_y": null,
            "padding": null,
            "right": null,
            "top": null,
            "visibility": null,
            "width": null
          }
        },
        "effc9bc8189c4540aecd3d0beb1b4563": {
          "model_module": "@jupyter-widgets/controls",
          "model_name": "DescriptionStyleModel",
          "model_module_version": "1.5.0",
          "state": {
            "_model_module": "@jupyter-widgets/controls",
            "_model_module_version": "1.5.0",
            "_model_name": "DescriptionStyleModel",
            "_view_count": null,
            "_view_module": "@jupyter-widgets/base",
            "_view_module_version": "1.2.0",
            "_view_name": "StyleView",
            "description_width": ""
          }
        },
        "8187ca1802c947e296cc6995da52834c": {
          "model_module": "@jupyter-widgets/base",
          "model_name": "LayoutModel",
          "model_module_version": "1.2.0",
          "state": {
            "_model_module": "@jupyter-widgets/base",
            "_model_module_version": "1.2.0",
            "_model_name": "LayoutModel",
            "_view_count": null,
            "_view_module": "@jupyter-widgets/base",
            "_view_module_version": "1.2.0",
            "_view_name": "LayoutView",
            "align_content": null,
            "align_items": null,
            "align_self": null,
            "border": null,
            "bottom": null,
            "display": null,
            "flex": null,
            "flex_flow": null,
            "grid_area": null,
            "grid_auto_columns": null,
            "grid_auto_flow": null,
            "grid_auto_rows": null,
            "grid_column": null,
            "grid_gap": null,
            "grid_row": null,
            "grid_template_areas": null,
            "grid_template_columns": null,
            "grid_template_rows": null,
            "height": null,
            "justify_content": null,
            "justify_items": null,
            "left": null,
            "margin": null,
            "max_height": null,
            "max_width": null,
            "min_height": null,
            "min_width": null,
            "object_fit": null,
            "object_position": null,
            "order": null,
            "overflow": null,
            "overflow_x": null,
            "overflow_y": null,
            "padding": null,
            "right": null,
            "top": null,
            "visibility": null,
            "width": null
          }
        },
        "68e556c9b22e474295127db398e30ab5": {
          "model_module": "@jupyter-widgets/controls",
          "model_name": "ProgressStyleModel",
          "model_module_version": "1.5.0",
          "state": {
            "_model_module": "@jupyter-widgets/controls",
            "_model_module_version": "1.5.0",
            "_model_name": "ProgressStyleModel",
            "_view_count": null,
            "_view_module": "@jupyter-widgets/base",
            "_view_module_version": "1.2.0",
            "_view_name": "StyleView",
            "bar_color": null,
            "description_width": ""
          }
        },
        "395c8326a3c04b2f8a93372087073303": {
          "model_module": "@jupyter-widgets/base",
          "model_name": "LayoutModel",
          "model_module_version": "1.2.0",
          "state": {
            "_model_module": "@jupyter-widgets/base",
            "_model_module_version": "1.2.0",
            "_model_name": "LayoutModel",
            "_view_count": null,
            "_view_module": "@jupyter-widgets/base",
            "_view_module_version": "1.2.0",
            "_view_name": "LayoutView",
            "align_content": null,
            "align_items": null,
            "align_self": null,
            "border": null,
            "bottom": null,
            "display": null,
            "flex": null,
            "flex_flow": null,
            "grid_area": null,
            "grid_auto_columns": null,
            "grid_auto_flow": null,
            "grid_auto_rows": null,
            "grid_column": null,
            "grid_gap": null,
            "grid_row": null,
            "grid_template_areas": null,
            "grid_template_columns": null,
            "grid_template_rows": null,
            "height": null,
            "justify_content": null,
            "justify_items": null,
            "left": null,
            "margin": null,
            "max_height": null,
            "max_width": null,
            "min_height": null,
            "min_width": null,
            "object_fit": null,
            "object_position": null,
            "order": null,
            "overflow": null,
            "overflow_x": null,
            "overflow_y": null,
            "padding": null,
            "right": null,
            "top": null,
            "visibility": null,
            "width": null
          }
        },
        "b4f2a7c87fa048ff837cc76920e215a0": {
          "model_module": "@jupyter-widgets/controls",
          "model_name": "DescriptionStyleModel",
          "model_module_version": "1.5.0",
          "state": {
            "_model_module": "@jupyter-widgets/controls",
            "_model_module_version": "1.5.0",
            "_model_name": "DescriptionStyleModel",
            "_view_count": null,
            "_view_module": "@jupyter-widgets/base",
            "_view_module_version": "1.2.0",
            "_view_name": "StyleView",
            "description_width": ""
          }
        },
        "f7d45749afe447788e871f791ee756af": {
          "model_module": "@jupyter-widgets/controls",
          "model_name": "HBoxModel",
          "model_module_version": "1.5.0",
          "state": {
            "_dom_classes": [],
            "_model_module": "@jupyter-widgets/controls",
            "_model_module_version": "1.5.0",
            "_model_name": "HBoxModel",
            "_view_count": null,
            "_view_module": "@jupyter-widgets/controls",
            "_view_module_version": "1.5.0",
            "_view_name": "HBoxView",
            "box_style": "",
            "children": [
              "IPY_MODEL_12022bfe52f34b21ba52f4d2360d29a7",
              "IPY_MODEL_34b4d89672694f1ea070145afcec0bc6",
              "IPY_MODEL_de4d9af078554bcc8d8461173ea91c07"
            ],
            "layout": "IPY_MODEL_fe63025600bc42a7ba6b63ab4e9b538b"
          }
        },
        "12022bfe52f34b21ba52f4d2360d29a7": {
          "model_module": "@jupyter-widgets/controls",
          "model_name": "HTMLModel",
          "model_module_version": "1.5.0",
          "state": {
            "_dom_classes": [],
            "_model_module": "@jupyter-widgets/controls",
            "_model_module_version": "1.5.0",
            "_model_name": "HTMLModel",
            "_view_count": null,
            "_view_module": "@jupyter-widgets/controls",
            "_view_module_version": "1.5.0",
            "_view_name": "HTMLView",
            "description": "",
            "description_tooltip": null,
            "layout": "IPY_MODEL_b246f54ca06f4ac7822c4fbb19e05321",
            "placeholder": "​",
            "style": "IPY_MODEL_74a60c86cc7b4660bea5833b71b7c6e2",
            "value": "Processing: 100%"
          }
        },
        "34b4d89672694f1ea070145afcec0bc6": {
          "model_module": "@jupyter-widgets/controls",
          "model_name": "FloatProgressModel",
          "model_module_version": "1.5.0",
          "state": {
            "_dom_classes": [],
            "_model_module": "@jupyter-widgets/controls",
            "_model_module_version": "1.5.0",
            "_model_name": "FloatProgressModel",
            "_view_count": null,
            "_view_module": "@jupyter-widgets/controls",
            "_view_module_version": "1.5.0",
            "_view_name": "ProgressView",
            "bar_style": "",
            "description": "",
            "description_tooltip": null,
            "layout": "IPY_MODEL_2d3d12334d9b47f8a99bd8bba4b80c4a",
            "max": 7,
            "min": 0,
            "orientation": "horizontal",
            "style": "IPY_MODEL_9f40f39f4b1f4c0b9f751e10a114e768",
            "value": 7
          }
        },
        "de4d9af078554bcc8d8461173ea91c07": {
          "model_module": "@jupyter-widgets/controls",
          "model_name": "HTMLModel",
          "model_module_version": "1.5.0",
          "state": {
            "_dom_classes": [],
            "_model_module": "@jupyter-widgets/controls",
            "_model_module_version": "1.5.0",
            "_model_name": "HTMLModel",
            "_view_count": null,
            "_view_module": "@jupyter-widgets/controls",
            "_view_module_version": "1.5.0",
            "_view_name": "HTMLView",
            "description": "",
            "description_tooltip": null,
            "layout": "IPY_MODEL_655609466b054a62be97a07bc881abaf",
            "placeholder": "​",
            "style": "IPY_MODEL_ffc17d9c7ea547609e5d01d03b40c06d",
            "value": " 7/7 [00:25&lt;00:00,  2.89s/it]"
          }
        },
        "fe63025600bc42a7ba6b63ab4e9b538b": {
          "model_module": "@jupyter-widgets/base",
          "model_name": "LayoutModel",
          "model_module_version": "1.2.0",
          "state": {
            "_model_module": "@jupyter-widgets/base",
            "_model_module_version": "1.2.0",
            "_model_name": "LayoutModel",
            "_view_count": null,
            "_view_module": "@jupyter-widgets/base",
            "_view_module_version": "1.2.0",
            "_view_name": "LayoutView",
            "align_content": null,
            "align_items": null,
            "align_self": null,
            "border": null,
            "bottom": null,
            "display": null,
            "flex": null,
            "flex_flow": null,
            "grid_area": null,
            "grid_auto_columns": null,
            "grid_auto_flow": null,
            "grid_auto_rows": null,
            "grid_column": null,
            "grid_gap": null,
            "grid_row": null,
            "grid_template_areas": null,
            "grid_template_columns": null,
            "grid_template_rows": null,
            "height": null,
            "justify_content": null,
            "justify_items": null,
            "left": null,
            "margin": null,
            "max_height": null,
            "max_width": null,
            "min_height": null,
            "min_width": null,
            "object_fit": null,
            "object_position": null,
            "order": null,
            "overflow": null,
            "overflow_x": null,
            "overflow_y": null,
            "padding": null,
            "right": null,
            "top": null,
            "visibility": "hidden",
            "width": null
          }
        },
        "b246f54ca06f4ac7822c4fbb19e05321": {
          "model_module": "@jupyter-widgets/base",
          "model_name": "LayoutModel",
          "model_module_version": "1.2.0",
          "state": {
            "_model_module": "@jupyter-widgets/base",
            "_model_module_version": "1.2.0",
            "_model_name": "LayoutModel",
            "_view_count": null,
            "_view_module": "@jupyter-widgets/base",
            "_view_module_version": "1.2.0",
            "_view_name": "LayoutView",
            "align_content": null,
            "align_items": null,
            "align_self": null,
            "border": null,
            "bottom": null,
            "display": null,
            "flex": null,
            "flex_flow": null,
            "grid_area": null,
            "grid_auto_columns": null,
            "grid_auto_flow": null,
            "grid_auto_rows": null,
            "grid_column": null,
            "grid_gap": null,
            "grid_row": null,
            "grid_template_areas": null,
            "grid_template_columns": null,
            "grid_template_rows": null,
            "height": null,
            "justify_content": null,
            "justify_items": null,
            "left": null,
            "margin": null,
            "max_height": null,
            "max_width": null,
            "min_height": null,
            "min_width": null,
            "object_fit": null,
            "object_position": null,
            "order": null,
            "overflow": null,
            "overflow_x": null,
            "overflow_y": null,
            "padding": null,
            "right": null,
            "top": null,
            "visibility": null,
            "width": null
          }
        },
        "74a60c86cc7b4660bea5833b71b7c6e2": {
          "model_module": "@jupyter-widgets/controls",
          "model_name": "DescriptionStyleModel",
          "model_module_version": "1.5.0",
          "state": {
            "_model_module": "@jupyter-widgets/controls",
            "_model_module_version": "1.5.0",
            "_model_name": "DescriptionStyleModel",
            "_view_count": null,
            "_view_module": "@jupyter-widgets/base",
            "_view_module_version": "1.2.0",
            "_view_name": "StyleView",
            "description_width": ""
          }
        },
        "2d3d12334d9b47f8a99bd8bba4b80c4a": {
          "model_module": "@jupyter-widgets/base",
          "model_name": "LayoutModel",
          "model_module_version": "1.2.0",
          "state": {
            "_model_module": "@jupyter-widgets/base",
            "_model_module_version": "1.2.0",
            "_model_name": "LayoutModel",
            "_view_count": null,
            "_view_module": "@jupyter-widgets/base",
            "_view_module_version": "1.2.0",
            "_view_name": "LayoutView",
            "align_content": null,
            "align_items": null,
            "align_self": null,
            "border": null,
            "bottom": null,
            "display": null,
            "flex": null,
            "flex_flow": null,
            "grid_area": null,
            "grid_auto_columns": null,
            "grid_auto_flow": null,
            "grid_auto_rows": null,
            "grid_column": null,
            "grid_gap": null,
            "grid_row": null,
            "grid_template_areas": null,
            "grid_template_columns": null,
            "grid_template_rows": null,
            "height": null,
            "justify_content": null,
            "justify_items": null,
            "left": null,
            "margin": null,
            "max_height": null,
            "max_width": null,
            "min_height": null,
            "min_width": null,
            "object_fit": null,
            "object_position": null,
            "order": null,
            "overflow": null,
            "overflow_x": null,
            "overflow_y": null,
            "padding": null,
            "right": null,
            "top": null,
            "visibility": null,
            "width": null
          }
        },
        "9f40f39f4b1f4c0b9f751e10a114e768": {
          "model_module": "@jupyter-widgets/controls",
          "model_name": "ProgressStyleModel",
          "model_module_version": "1.5.0",
          "state": {
            "_model_module": "@jupyter-widgets/controls",
            "_model_module_version": "1.5.0",
            "_model_name": "ProgressStyleModel",
            "_view_count": null,
            "_view_module": "@jupyter-widgets/base",
            "_view_module_version": "1.2.0",
            "_view_name": "StyleView",
            "bar_color": null,
            "description_width": ""
          }
        },
        "655609466b054a62be97a07bc881abaf": {
          "model_module": "@jupyter-widgets/base",
          "model_name": "LayoutModel",
          "model_module_version": "1.2.0",
          "state": {
            "_model_module": "@jupyter-widgets/base",
            "_model_module_version": "1.2.0",
            "_model_name": "LayoutModel",
            "_view_count": null,
            "_view_module": "@jupyter-widgets/base",
            "_view_module_version": "1.2.0",
            "_view_name": "LayoutView",
            "align_content": null,
            "align_items": null,
            "align_self": null,
            "border": null,
            "bottom": null,
            "display": null,
            "flex": null,
            "flex_flow": null,
            "grid_area": null,
            "grid_auto_columns": null,
            "grid_auto_flow": null,
            "grid_auto_rows": null,
            "grid_column": null,
            "grid_gap": null,
            "grid_row": null,
            "grid_template_areas": null,
            "grid_template_columns": null,
            "grid_template_rows": null,
            "height": null,
            "justify_content": null,
            "justify_items": null,
            "left": null,
            "margin": null,
            "max_height": null,
            "max_width": null,
            "min_height": null,
            "min_width": null,
            "object_fit": null,
            "object_position": null,
            "order": null,
            "overflow": null,
            "overflow_x": null,
            "overflow_y": null,
            "padding": null,
            "right": null,
            "top": null,
            "visibility": null,
            "width": null
          }
        },
        "ffc17d9c7ea547609e5d01d03b40c06d": {
          "model_module": "@jupyter-widgets/controls",
          "model_name": "DescriptionStyleModel",
          "model_module_version": "1.5.0",
          "state": {
            "_model_module": "@jupyter-widgets/controls",
            "_model_module_version": "1.5.0",
            "_model_name": "DescriptionStyleModel",
            "_view_count": null,
            "_view_module": "@jupyter-widgets/base",
            "_view_module_version": "1.2.0",
            "_view_name": "StyleView",
            "description_width": ""
          }
        },
        "6c5e9ea6b0bd49d5a9e77bcd96630602": {
          "model_module": "@jupyter-widgets/controls",
          "model_name": "HBoxModel",
          "model_module_version": "1.5.0",
          "state": {
            "_dom_classes": [],
            "_model_module": "@jupyter-widgets/controls",
            "_model_module_version": "1.5.0",
            "_model_name": "HBoxModel",
            "_view_count": null,
            "_view_module": "@jupyter-widgets/controls",
            "_view_module_version": "1.5.0",
            "_view_name": "HBoxView",
            "box_style": "",
            "children": [
              "IPY_MODEL_aba655367a484780aa9fa8d0b8937d75",
              "IPY_MODEL_0f8f8920ff1d4996b8027825371dc166",
              "IPY_MODEL_781df31eb24d408ba09ac55c8e8e2f37"
            ],
            "layout": "IPY_MODEL_746554bc0d894dccbe8153af5d05b3da"
          }
        },
        "aba655367a484780aa9fa8d0b8937d75": {
          "model_module": "@jupyter-widgets/controls",
          "model_name": "HTMLModel",
          "model_module_version": "1.5.0",
          "state": {
            "_dom_classes": [],
            "_model_module": "@jupyter-widgets/controls",
            "_model_module_version": "1.5.0",
            "_model_name": "HTMLModel",
            "_view_count": null,
            "_view_module": "@jupyter-widgets/controls",
            "_view_module_version": "1.5.0",
            "_view_name": "HTMLView",
            "description": "",
            "description_tooltip": null,
            "layout": "IPY_MODEL_4d46f31157af415dbd420246de901f06",
            "placeholder": "​",
            "style": "IPY_MODEL_009c330533b248e0bb3e21d0c0b1b1ef",
            "value": "Processing: 100%"
          }
        },
        "0f8f8920ff1d4996b8027825371dc166": {
          "model_module": "@jupyter-widgets/controls",
          "model_name": "FloatProgressModel",
          "model_module_version": "1.5.0",
          "state": {
            "_dom_classes": [],
            "_model_module": "@jupyter-widgets/controls",
            "_model_module_version": "1.5.0",
            "_model_name": "FloatProgressModel",
            "_view_count": null,
            "_view_module": "@jupyter-widgets/controls",
            "_view_module_version": "1.5.0",
            "_view_name": "ProgressView",
            "bar_style": "",
            "description": "",
            "description_tooltip": null,
            "layout": "IPY_MODEL_39256cfb22014b9daf98e300e69a268c",
            "max": 6,
            "min": 0,
            "orientation": "horizontal",
            "style": "IPY_MODEL_78a85ca905724a6f83d03f7ee10be51c",
            "value": 6
          }
        },
        "781df31eb24d408ba09ac55c8e8e2f37": {
          "model_module": "@jupyter-widgets/controls",
          "model_name": "HTMLModel",
          "model_module_version": "1.5.0",
          "state": {
            "_dom_classes": [],
            "_model_module": "@jupyter-widgets/controls",
            "_model_module_version": "1.5.0",
            "_model_name": "HTMLModel",
            "_view_count": null,
            "_view_module": "@jupyter-widgets/controls",
            "_view_module_version": "1.5.0",
            "_view_name": "HTMLView",
            "description": "",
            "description_tooltip": null,
            "layout": "IPY_MODEL_9d54ef3b341f460db601492935cd7af3",
            "placeholder": "​",
            "style": "IPY_MODEL_f3aa6ef744f24447a49e7e530f4d6c61",
            "value": " 6/6 [00:01&lt;00:00,  3.14it/s]"
          }
        },
        "746554bc0d894dccbe8153af5d05b3da": {
          "model_module": "@jupyter-widgets/base",
          "model_name": "LayoutModel",
          "model_module_version": "1.2.0",
          "state": {
            "_model_module": "@jupyter-widgets/base",
            "_model_module_version": "1.2.0",
            "_model_name": "LayoutModel",
            "_view_count": null,
            "_view_module": "@jupyter-widgets/base",
            "_view_module_version": "1.2.0",
            "_view_name": "LayoutView",
            "align_content": null,
            "align_items": null,
            "align_self": null,
            "border": null,
            "bottom": null,
            "display": null,
            "flex": null,
            "flex_flow": null,
            "grid_area": null,
            "grid_auto_columns": null,
            "grid_auto_flow": null,
            "grid_auto_rows": null,
            "grid_column": null,
            "grid_gap": null,
            "grid_row": null,
            "grid_template_areas": null,
            "grid_template_columns": null,
            "grid_template_rows": null,
            "height": null,
            "justify_content": null,
            "justify_items": null,
            "left": null,
            "margin": null,
            "max_height": null,
            "max_width": null,
            "min_height": null,
            "min_width": null,
            "object_fit": null,
            "object_position": null,
            "order": null,
            "overflow": null,
            "overflow_x": null,
            "overflow_y": null,
            "padding": null,
            "right": null,
            "top": null,
            "visibility": "hidden",
            "width": null
          }
        },
        "4d46f31157af415dbd420246de901f06": {
          "model_module": "@jupyter-widgets/base",
          "model_name": "LayoutModel",
          "model_module_version": "1.2.0",
          "state": {
            "_model_module": "@jupyter-widgets/base",
            "_model_module_version": "1.2.0",
            "_model_name": "LayoutModel",
            "_view_count": null,
            "_view_module": "@jupyter-widgets/base",
            "_view_module_version": "1.2.0",
            "_view_name": "LayoutView",
            "align_content": null,
            "align_items": null,
            "align_self": null,
            "border": null,
            "bottom": null,
            "display": null,
            "flex": null,
            "flex_flow": null,
            "grid_area": null,
            "grid_auto_columns": null,
            "grid_auto_flow": null,
            "grid_auto_rows": null,
            "grid_column": null,
            "grid_gap": null,
            "grid_row": null,
            "grid_template_areas": null,
            "grid_template_columns": null,
            "grid_template_rows": null,
            "height": null,
            "justify_content": null,
            "justify_items": null,
            "left": null,
            "margin": null,
            "max_height": null,
            "max_width": null,
            "min_height": null,
            "min_width": null,
            "object_fit": null,
            "object_position": null,
            "order": null,
            "overflow": null,
            "overflow_x": null,
            "overflow_y": null,
            "padding": null,
            "right": null,
            "top": null,
            "visibility": null,
            "width": null
          }
        },
        "009c330533b248e0bb3e21d0c0b1b1ef": {
          "model_module": "@jupyter-widgets/controls",
          "model_name": "DescriptionStyleModel",
          "model_module_version": "1.5.0",
          "state": {
            "_model_module": "@jupyter-widgets/controls",
            "_model_module_version": "1.5.0",
            "_model_name": "DescriptionStyleModel",
            "_view_count": null,
            "_view_module": "@jupyter-widgets/base",
            "_view_module_version": "1.2.0",
            "_view_name": "StyleView",
            "description_width": ""
          }
        },
        "39256cfb22014b9daf98e300e69a268c": {
          "model_module": "@jupyter-widgets/base",
          "model_name": "LayoutModel",
          "model_module_version": "1.2.0",
          "state": {
            "_model_module": "@jupyter-widgets/base",
            "_model_module_version": "1.2.0",
            "_model_name": "LayoutModel",
            "_view_count": null,
            "_view_module": "@jupyter-widgets/base",
            "_view_module_version": "1.2.0",
            "_view_name": "LayoutView",
            "align_content": null,
            "align_items": null,
            "align_self": null,
            "border": null,
            "bottom": null,
            "display": null,
            "flex": null,
            "flex_flow": null,
            "grid_area": null,
            "grid_auto_columns": null,
            "grid_auto_flow": null,
            "grid_auto_rows": null,
            "grid_column": null,
            "grid_gap": null,
            "grid_row": null,
            "grid_template_areas": null,
            "grid_template_columns": null,
            "grid_template_rows": null,
            "height": null,
            "justify_content": null,
            "justify_items": null,
            "left": null,
            "margin": null,
            "max_height": null,
            "max_width": null,
            "min_height": null,
            "min_width": null,
            "object_fit": null,
            "object_position": null,
            "order": null,
            "overflow": null,
            "overflow_x": null,
            "overflow_y": null,
            "padding": null,
            "right": null,
            "top": null,
            "visibility": null,
            "width": null
          }
        },
        "78a85ca905724a6f83d03f7ee10be51c": {
          "model_module": "@jupyter-widgets/controls",
          "model_name": "ProgressStyleModel",
          "model_module_version": "1.5.0",
          "state": {
            "_model_module": "@jupyter-widgets/controls",
            "_model_module_version": "1.5.0",
            "_model_name": "ProgressStyleModel",
            "_view_count": null,
            "_view_module": "@jupyter-widgets/base",
            "_view_module_version": "1.2.0",
            "_view_name": "StyleView",
            "bar_color": null,
            "description_width": ""
          }
        },
        "9d54ef3b341f460db601492935cd7af3": {
          "model_module": "@jupyter-widgets/base",
          "model_name": "LayoutModel",
          "model_module_version": "1.2.0",
          "state": {
            "_model_module": "@jupyter-widgets/base",
            "_model_module_version": "1.2.0",
            "_model_name": "LayoutModel",
            "_view_count": null,
            "_view_module": "@jupyter-widgets/base",
            "_view_module_version": "1.2.0",
            "_view_name": "LayoutView",
            "align_content": null,
            "align_items": null,
            "align_self": null,
            "border": null,
            "bottom": null,
            "display": null,
            "flex": null,
            "flex_flow": null,
            "grid_area": null,
            "grid_auto_columns": null,
            "grid_auto_flow": null,
            "grid_auto_rows": null,
            "grid_column": null,
            "grid_gap": null,
            "grid_row": null,
            "grid_template_areas": null,
            "grid_template_columns": null,
            "grid_template_rows": null,
            "height": null,
            "justify_content": null,
            "justify_items": null,
            "left": null,
            "margin": null,
            "max_height": null,
            "max_width": null,
            "min_height": null,
            "min_width": null,
            "object_fit": null,
            "object_position": null,
            "order": null,
            "overflow": null,
            "overflow_x": null,
            "overflow_y": null,
            "padding": null,
            "right": null,
            "top": null,
            "visibility": null,
            "width": null
          }
        },
        "f3aa6ef744f24447a49e7e530f4d6c61": {
          "model_module": "@jupyter-widgets/controls",
          "model_name": "DescriptionStyleModel",
          "model_module_version": "1.5.0",
          "state": {
            "_model_module": "@jupyter-widgets/controls",
            "_model_module_version": "1.5.0",
            "_model_name": "DescriptionStyleModel",
            "_view_count": null,
            "_view_module": "@jupyter-widgets/base",
            "_view_module_version": "1.2.0",
            "_view_name": "StyleView",
            "description_width": ""
          }
        },
        "32169bfb1f6242e194db148f2398e6ba": {
          "model_module": "@jupyter-widgets/controls",
          "model_name": "VBoxModel",
          "model_module_version": "1.5.0",
          "state": {
            "_dom_classes": [
              "widget-interact"
            ],
            "_model_module": "@jupyter-widgets/controls",
            "_model_module_version": "1.5.0",
            "_model_name": "VBoxModel",
            "_view_count": null,
            "_view_module": "@jupyter-widgets/controls",
            "_view_module_version": "1.5.0",
            "_view_name": "VBoxView",
            "box_style": "",
            "children": [
              "IPY_MODEL_9934ee6986e74944865dd4d304b17aac",
              "IPY_MODEL_0d26b7d0117c4399968c453289961d0c"
            ],
            "layout": "IPY_MODEL_a6d64e91216c4c3b9e4358451cfd8a88"
          }
        },
        "9934ee6986e74944865dd4d304b17aac": {
          "model_module": "@jupyter-widgets/controls",
          "model_name": "ToggleButtonsModel",
          "model_module_version": "1.5.0",
          "state": {
            "_dom_classes": [],
            "_model_module": "@jupyter-widgets/controls",
            "_model_module_version": "1.5.0",
            "_model_name": "ToggleButtonsModel",
            "_options_labels": [
              "Pipeline Plot",
              "Hyperparameters",
              "Residuals",
              "Prediction Error",
              "Cooks Distance",
              "Feature Selection",
              "Learning Curve",
              "Manifold Learning",
              "Validation Curve",
              "Feature Importance",
              "Feature Importance (All)",
              "Decision Tree",
              "Interactive Residuals"
            ],
            "_view_count": null,
            "_view_module": "@jupyter-widgets/controls",
            "_view_module_version": "1.5.0",
            "_view_name": "ToggleButtonsView",
            "button_style": "",
            "description": "Plot Type:",
            "description_tooltip": null,
            "disabled": false,
            "icons": [
              ""
            ],
            "index": 0,
            "layout": "IPY_MODEL_adadf0f917b940fa9e6effaecc7885fc",
            "style": "IPY_MODEL_36c5d4f90f7b4aa89535f83ae0e4b713",
            "tooltips": []
          }
        },
        "0d26b7d0117c4399968c453289961d0c": {
          "model_module": "@jupyter-widgets/output",
          "model_name": "OutputModel",
          "model_module_version": "1.0.0",
          "state": {
            "_dom_classes": [],
            "_model_module": "@jupyter-widgets/output",
            "_model_module_version": "1.0.0",
            "_model_name": "OutputModel",
            "_view_count": null,
            "_view_module": "@jupyter-widgets/output",
            "_view_module_version": "1.0.0",
            "_view_name": "OutputView",
            "layout": "IPY_MODEL_f767553d65db473286c2c864971ebd0c",
            "msg_id": "",
            "outputs": [
              {
                "output_type": "display_data",
                "data": {
                  "text/plain": "<Figure size 2200x600 with 1 Axes>",
                  "image/png": "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\n"
                },
                "metadata": {}
              }
            ]
          }
        },
        "a6d64e91216c4c3b9e4358451cfd8a88": {
          "model_module": "@jupyter-widgets/base",
          "model_name": "LayoutModel",
          "model_module_version": "1.2.0",
          "state": {
            "_model_module": "@jupyter-widgets/base",
            "_model_module_version": "1.2.0",
            "_model_name": "LayoutModel",
            "_view_count": null,
            "_view_module": "@jupyter-widgets/base",
            "_view_module_version": "1.2.0",
            "_view_name": "LayoutView",
            "align_content": null,
            "align_items": null,
            "align_self": null,
            "border": null,
            "bottom": null,
            "display": null,
            "flex": null,
            "flex_flow": null,
            "grid_area": null,
            "grid_auto_columns": null,
            "grid_auto_flow": null,
            "grid_auto_rows": null,
            "grid_column": null,
            "grid_gap": null,
            "grid_row": null,
            "grid_template_areas": null,
            "grid_template_columns": null,
            "grid_template_rows": null,
            "height": null,
            "justify_content": null,
            "justify_items": null,
            "left": null,
            "margin": null,
            "max_height": null,
            "max_width": null,
            "min_height": null,
            "min_width": null,
            "object_fit": null,
            "object_position": null,
            "order": null,
            "overflow": null,
            "overflow_x": null,
            "overflow_y": null,
            "padding": null,
            "right": null,
            "top": null,
            "visibility": null,
            "width": null
          }
        },
        "adadf0f917b940fa9e6effaecc7885fc": {
          "model_module": "@jupyter-widgets/base",
          "model_name": "LayoutModel",
          "model_module_version": "1.2.0",
          "state": {
            "_model_module": "@jupyter-widgets/base",
            "_model_module_version": "1.2.0",
            "_model_name": "LayoutModel",
            "_view_count": null,
            "_view_module": "@jupyter-widgets/base",
            "_view_module_version": "1.2.0",
            "_view_name": "LayoutView",
            "align_content": null,
            "align_items": null,
            "align_self": null,
            "border": null,
            "bottom": null,
            "display": null,
            "flex": null,
            "flex_flow": null,
            "grid_area": null,
            "grid_auto_columns": null,
            "grid_auto_flow": null,
            "grid_auto_rows": null,
            "grid_column": null,
            "grid_gap": null,
            "grid_row": null,
            "grid_template_areas": null,
            "grid_template_columns": null,
            "grid_template_rows": null,
            "height": null,
            "justify_content": null,
            "justify_items": null,
            "left": null,
            "margin": null,
            "max_height": null,
            "max_width": null,
            "min_height": null,
            "min_width": null,
            "object_fit": null,
            "object_position": null,
            "order": null,
            "overflow": null,
            "overflow_x": null,
            "overflow_y": null,
            "padding": null,
            "right": null,
            "top": null,
            "visibility": null,
            "width": null
          }
        },
        "36c5d4f90f7b4aa89535f83ae0e4b713": {
          "model_module": "@jupyter-widgets/controls",
          "model_name": "ToggleButtonsStyleModel",
          "model_module_version": "1.5.0",
          "state": {
            "_model_module": "@jupyter-widgets/controls",
            "_model_module_version": "1.5.0",
            "_model_name": "ToggleButtonsStyleModel",
            "_view_count": null,
            "_view_module": "@jupyter-widgets/base",
            "_view_module_version": "1.2.0",
            "_view_name": "StyleView",
            "button_width": "",
            "description_width": "",
            "font_weight": ""
          }
        },
        "f767553d65db473286c2c864971ebd0c": {
          "model_module": "@jupyter-widgets/base",
          "model_name": "LayoutModel",
          "model_module_version": "1.2.0",
          "state": {
            "_model_module": "@jupyter-widgets/base",
            "_model_module_version": "1.2.0",
            "_model_name": "LayoutModel",
            "_view_count": null,
            "_view_module": "@jupyter-widgets/base",
            "_view_module_version": "1.2.0",
            "_view_name": "LayoutView",
            "align_content": null,
            "align_items": null,
            "align_self": null,
            "border": null,
            "bottom": null,
            "display": null,
            "flex": null,
            "flex_flow": null,
            "grid_area": null,
            "grid_auto_columns": null,
            "grid_auto_flow": null,
            "grid_auto_rows": null,
            "grid_column": null,
            "grid_gap": null,
            "grid_row": null,
            "grid_template_areas": null,
            "grid_template_columns": null,
            "grid_template_rows": null,
            "height": null,
            "justify_content": null,
            "justify_items": null,
            "left": null,
            "margin": null,
            "max_height": null,
            "max_width": null,
            "min_height": null,
            "min_width": null,
            "object_fit": null,
            "object_position": null,
            "order": null,
            "overflow": null,
            "overflow_x": null,
            "overflow_y": null,
            "padding": null,
            "right": null,
            "top": null,
            "visibility": null,
            "width": null
          }
        }
      }
    }
  },
  "cells": [
    {
      "cell_type": "markdown",
      "metadata": {
        "id": "view-in-github",
        "colab_type": "text"
      },
      "source": [
        "<a href=\"https://colab.research.google.com/github/cristiandarioortegayubro/BDS/blob/main/pycaret/bds_PyCaret_002_03.ipynb\" target=\"_parent\"><img src=\"https://colab.research.google.com/assets/colab-badge.svg\" alt=\"Open In Colab\"/></a>"
      ]
    },
    {
      "cell_type": "markdown",
      "source": [
        "<p align=\"center\">\n",
        "<img src=\"https://github.com/cristiandarioortegayubro/BDS/blob/main/images/Logo%20BDS%20Horizontal%208.png?raw=true\">\n",
        "</p>\n"
      ],
      "metadata": {
        "id": "iheuwam9e4CH"
      }
    },
    {
      "cell_type": "markdown",
      "source": [
        "<p align=\"center\">\n",
        "<img src=\"https://github.com/cristiandarioortegayubro/BDS/blob/main/datasets/Logo%20PyCaret.png?raw=true\" width=\"150\">\n",
        "</p>\n"
      ],
      "metadata": {
        "id": "XM-hn7ZLmgQc"
      }
    },
    {
      "cell_type": "markdown",
      "source": [
        "<p align=\"justify\"><b>\n",
        "<font color=\"DeepPink\">\n",
        "💗 Todo el mundo deberia aprender a programar, porque te enseña a pensar...\n",
        "</font>\n",
        "</p>\n",
        "<p align=\"right\"><b>\n",
        "<font color=\"DeepPink\">\n",
        "Steve Jobs (1995)\n",
        "</font>\n",
        "</p>\n",
        "<br>\n",
        "<br>\n",
        "\n"
      ],
      "metadata": {
        "id": "prta5XtJmixn"
      }
    },
    {
      "cell_type": "markdown",
      "source": [
        " # **<font color=\"DeepPink\">PyCaret - Regresión - Optimización - Ensemble</font>**"
      ],
      "metadata": {
        "id": "_o8tuKydjnRZ"
      }
    },
    {
      "cell_type": "markdown",
      "source": [
        "<p align=\"justify\">\n",
        "En <code>PyCaret</code>, el módulo de Regresión (Regression Module) es una parte importante de la biblioteca diseñada para abordar tareas de regresión automatizada. La regresión es un tipo de problema de aprendizaje automático supervisado en el que el objetivo es predecir un valor numérico continuo, en lugar de una clase o categoría como en la clasificación.\n",
        "<br><br>\n",
        "El módulo de Regresión de <code>PyCaret</code> ofrece una serie de funciones y herramientas que simplifican el proceso de construcción, entrenamiento y evaluación de modelos de regresión de manera automatizada y eficiente.\n",
        "<br><br>\n",
        "Algunas de las características clave del módulo de Regresión de <code>PyCaret</code> son:\n",
        "<br>\n",
        "<br>\n",
        "<ol align=\"justify\">\n",
        "<li><b>Preprocesamiento de datos</b>: <code>PyCaret</code> automatiza el preprocesamiento de datos para tareas de regresión, lo que incluye el manejo de valores faltantes, codificación de variables categóricas, normalización de datos, y partición de datos en conjuntos de entrenamiento y prueba. Esto permite a los usuarios concentrarse más en el desarrollo del modelo y menos en las tareas de limpieza y transformación de datos.</li>\n",
        "<br>\n",
        "<li><b>Comparación de modelos</b>: <code>PyCaret</code> permite a los usuarios comparar fácilmente varios modelos de regresión populares. La biblioteca entrena automáticamente múltiples modelos en el conjunto de datos y proporciona una tabla de resultados que muestra las métricas de rendimiento de cada modelo, lo que facilita la identificación del modelo más prometedor para un problema en particular.</li>\n",
        "<br>\n",
        "<li><b>Optimización de hiperparámetros</b>: Los hiperparámetros son configuraciones que afectan el rendimiento y comportamiento de un modelo de aprendizaje automático. <code>PyCaret</code> realiza una búsqueda inteligente en el espacio de hiperparámetros para encontrar la combinación óptima que maximice el rendimiento del modelo de regresión.</li>\n",
        "<br>\n",
        "<li><b>Interpretación de modelos</b>: <code>PyCaret</code> ofrece herramientas para interpretar y visualizar los modelos de regresión, lo que ayuda a comprender cómo se ajustan los datos y cómo se relacionan las características con las predicciones.</li>\n",
        "<br>\n",
        "<li><b>Análisis de residuos</b>: Los residuos son las diferencias entre las predicciones del modelo y los valores reales. <code>PyCaret</code> proporciona herramientas para analizar y visualizar los residuos, lo que ayuda a evaluar la calidad del modelo.</li>\n",
        "<br>\n",
        "<li><b>Ensemble Learning</b>: <code>PyCaret</code> admite Ensemble Learning, que combina múltiples modelos de regresión para mejorar el rendimiento general y reducir el riesgo de sobreajuste (overfitting).</li>\n",
        "<br>\n",
        "<li><b>Predicción en nuevos datos</b>: Una vez que se ha construido y entrenado un modelo de regresión, <code>PyCaret</code> permite utilizarlo para hacer predicciones en nuevos datos sin la necesidad de escribir mucho código adicional.</li>\n",
        "</ol>\n",
        "<br>\n",
        "<p align=\"justify\">\n",
        "El módulo de Regresión de <code>PyCaret</code> está diseñado para ser accesible y útil para estudiantes y profesionales de Ciencia de Datos, permitiéndoles abordar tareas de regresión complejas con mayor facilidad y rapidez. Al automatizar gran parte del proceso, PyCaret permite a los usuarios centrarse en la interpretación de resultados, el ajuste de modelos y la toma de decisiones informadas.\n",
        "<br>\n",
        "<br>\n",
        "💗 A disfrutar las Regresiones de <code>PyCaret</code>...\n",
        "</p>"
      ],
      "metadata": {
        "id": "dGLaA0Y12GQS"
      }
    },
    {
      "cell_type": "markdown",
      "source": [
        " # **<font color=\"DeepPink\">Instalando PyCaret...</font>**"
      ],
      "metadata": {
        "id": "ZFLqreYtWuKH"
      }
    },
    {
      "cell_type": "markdown",
      "source": [
        "<p align=\"justify\"> 👀 Primero instalamos <code>PyCaret</code>:  </p>"
      ],
      "metadata": {
        "id": "riE9ZSRbOdsF"
      }
    },
    {
      "cell_type": "code",
      "source": [
        "!pip install pycaret"
      ],
      "metadata": {
        "id": "dQtWrchXqRb3",
        "colab": {
          "base_uri": "https://localhost:8080/"
        },
        "outputId": "e13edba2-c0da-463f-fe16-309de4cc9c46"
      },
      "execution_count": 1,
      "outputs": [
        {
          "output_type": "stream",
          "name": "stdout",
          "text": [
            "Collecting pycaret\n",
            "  Downloading pycaret-3.0.4-py3-none-any.whl (484 kB)\n",
            "\u001b[2K     \u001b[90m━━━━━━━━━━━━━━━━━━━━━━━━━━━━━━━━━━━━━━━\u001b[0m \u001b[32m484.4/484.4 kB\u001b[0m \u001b[31m7.3 MB/s\u001b[0m eta \u001b[36m0:00:00\u001b[0m\n",
            "\u001b[?25hRequirement already satisfied: ipython>=5.5.0 in /usr/local/lib/python3.10/dist-packages (from pycaret) (7.34.0)\n",
            "Requirement already satisfied: ipywidgets>=7.6.5 in /usr/local/lib/python3.10/dist-packages (from pycaret) (7.7.1)\n",
            "Requirement already satisfied: tqdm>=4.62.0 in /usr/local/lib/python3.10/dist-packages (from pycaret) (4.65.0)\n",
            "Requirement already satisfied: numpy<1.24,>=1.21 in /usr/local/lib/python3.10/dist-packages (from pycaret) (1.23.5)\n",
            "Requirement already satisfied: pandas<2.0.0,>=1.3.0 in /usr/local/lib/python3.10/dist-packages (from pycaret) (1.5.3)\n",
            "Requirement already satisfied: jinja2>=1.2 in /usr/local/lib/python3.10/dist-packages (from pycaret) (3.1.2)\n",
            "Requirement already satisfied: scipy<2.0.0 in /usr/local/lib/python3.10/dist-packages (from pycaret) (1.10.1)\n",
            "Requirement already satisfied: joblib>=1.2.0 in /usr/local/lib/python3.10/dist-packages (from pycaret) (1.3.1)\n",
            "Requirement already satisfied: scikit-learn<1.3.0,>=1.0 in /usr/local/lib/python3.10/dist-packages (from pycaret) (1.2.2)\n",
            "Collecting pyod>=1.0.8 (from pycaret)\n",
            "  Downloading pyod-1.1.0.tar.gz (153 kB)\n",
            "\u001b[2K     \u001b[90m━━━━━━━━━━━━━━━━━━━━━━━━━━━━━━━━━━━━━━\u001b[0m \u001b[32m153.4/153.4 kB\u001b[0m \u001b[31m16.6 MB/s\u001b[0m eta \u001b[36m0:00:00\u001b[0m\n",
            "\u001b[?25h  Preparing metadata (setup.py) ... \u001b[?25l\u001b[?25hdone\n",
            "Requirement already satisfied: imbalanced-learn>=0.8.1 in /usr/local/lib/python3.10/dist-packages (from pycaret) (0.10.1)\n",
            "Collecting category-encoders>=2.4.0 (from pycaret)\n",
            "  Downloading category_encoders-2.6.1-py2.py3-none-any.whl (81 kB)\n",
            "\u001b[2K     \u001b[90m━━━━━━━━━━━━━━━━━━━━━━━━━━━━━━━━━━━━━━━━\u001b[0m \u001b[32m81.9/81.9 kB\u001b[0m \u001b[31m9.1 MB/s\u001b[0m eta \u001b[36m0:00:00\u001b[0m\n",
            "\u001b[?25hRequirement already satisfied: lightgbm>=3.0.0 in /usr/local/lib/python3.10/dist-packages (from pycaret) (3.3.5)\n",
            "Requirement already satisfied: numba>=0.55.0 in /usr/local/lib/python3.10/dist-packages (from pycaret) (0.56.4)\n",
            "Requirement already satisfied: requests>=2.27.1 in /usr/local/lib/python3.10/dist-packages (from pycaret) (2.31.0)\n",
            "Requirement already satisfied: psutil>=5.9.0 in /usr/local/lib/python3.10/dist-packages (from pycaret) (5.9.5)\n",
            "Requirement already satisfied: markupsafe>=2.0.1 in /usr/local/lib/python3.10/dist-packages (from pycaret) (2.1.3)\n",
            "Collecting importlib-metadata>=4.12.0 (from pycaret)\n",
            "  Downloading importlib_metadata-6.8.0-py3-none-any.whl (22 kB)\n",
            "Requirement already satisfied: nbformat>=4.2.0 in /usr/local/lib/python3.10/dist-packages (from pycaret) (5.9.2)\n",
            "Requirement already satisfied: cloudpickle in /usr/local/lib/python3.10/dist-packages (from pycaret) (2.2.1)\n",
            "Collecting deprecation>=2.1.0 (from pycaret)\n",
            "  Downloading deprecation-2.1.0-py2.py3-none-any.whl (11 kB)\n",
            "Collecting xxhash (from pycaret)\n",
            "  Downloading xxhash-3.3.0-cp310-cp310-manylinux_2_17_x86_64.manylinux2014_x86_64.whl (194 kB)\n",
            "\u001b[2K     \u001b[90m━━━━━━━━━━━━━━━━━━━━━━━━━━━━━━━━━━━━━━\u001b[0m \u001b[32m194.1/194.1 kB\u001b[0m \u001b[31m17.1 MB/s\u001b[0m eta \u001b[36m0:00:00\u001b[0m\n",
            "\u001b[?25hRequirement already satisfied: matplotlib>=3.3.0 in /usr/local/lib/python3.10/dist-packages (from pycaret) (3.7.1)\n",
            "Collecting scikit-plot>=0.3.7 (from pycaret)\n",
            "  Downloading scikit_plot-0.3.7-py3-none-any.whl (33 kB)\n",
            "Requirement already satisfied: yellowbrick>=1.4 in /usr/local/lib/python3.10/dist-packages (from pycaret) (1.5)\n",
            "Requirement already satisfied: plotly>=5.0.0 in /usr/local/lib/python3.10/dist-packages (from pycaret) (5.13.1)\n",
            "Collecting kaleido>=0.2.1 (from pycaret)\n",
            "  Downloading kaleido-0.2.1-py2.py3-none-manylinux1_x86_64.whl (79.9 MB)\n",
            "\u001b[2K     \u001b[90m━━━━━━━━━━━━━━━━━━━━━━━━━━━━━━━━━━━━━━━━\u001b[0m \u001b[32m79.9/79.9 MB\u001b[0m \u001b[31m10.2 MB/s\u001b[0m eta \u001b[36m0:00:00\u001b[0m\n",
            "\u001b[?25hCollecting schemdraw==0.15 (from pycaret)\n",
            "  Downloading schemdraw-0.15-py3-none-any.whl (106 kB)\n",
            "\u001b[2K     \u001b[90m━━━━━━━━━━━━━━━━━━━━━━━━━━━━━━━━━━━━━━\u001b[0m \u001b[32m106.8/106.8 kB\u001b[0m \u001b[31m11.0 MB/s\u001b[0m eta \u001b[36m0:00:00\u001b[0m\n",
            "\u001b[?25hCollecting plotly-resampler>=0.8.3.1 (from pycaret)\n",
            "  Downloading plotly_resampler-0.9.1-py3-none-any.whl (73 kB)\n",
            "\u001b[2K     \u001b[90m━━━━━━━━━━━━━━━━━━━━━━━━━━━━━━━━━━━━━━━━\u001b[0m \u001b[32m73.4/73.4 kB\u001b[0m \u001b[31m8.2 MB/s\u001b[0m eta \u001b[36m0:00:00\u001b[0m\n",
            "\u001b[?25hRequirement already satisfied: statsmodels>=0.12.1 in /usr/local/lib/python3.10/dist-packages (from pycaret) (0.13.5)\n",
            "Collecting sktime!=0.17.1,!=0.17.2,!=0.18.0,>=0.16.1 (from pycaret)\n",
            "  Downloading sktime-0.21.0-py3-none-any.whl (17.1 MB)\n",
            "\u001b[2K     \u001b[90m━━━━━━━━━━━━━━━━━━━━━━━━━━━━━━━━━━━━━━━━\u001b[0m \u001b[32m17.1/17.1 MB\u001b[0m \u001b[31m66.8 MB/s\u001b[0m eta \u001b[36m0:00:00\u001b[0m\n",
            "\u001b[?25hCollecting tbats>=1.1.3 (from pycaret)\n",
            "  Downloading tbats-1.1.3-py3-none-any.whl (44 kB)\n",
            "\u001b[2K     \u001b[90m━━━━━━━━━━━━━━━━━━━━━━━━━━━━━━━━━━━━━━━━\u001b[0m \u001b[32m44.0/44.0 kB\u001b[0m \u001b[31m4.5 MB/s\u001b[0m eta \u001b[36m0:00:00\u001b[0m\n",
            "\u001b[?25hCollecting pmdarima!=1.8.1,<3.0.0,>=1.8.0 (from pycaret)\n",
            "  Downloading pmdarima-2.0.3-cp310-cp310-manylinux_2_17_x86_64.manylinux2014_x86_64.manylinux_2_28_x86_64.whl (1.8 MB)\n",
            "\u001b[2K     \u001b[90m━━━━━━━━━━━━━━━━━━━━━━━━━━━━━━━━━━━━━━━━\u001b[0m \u001b[32m1.8/1.8 MB\u001b[0m \u001b[31m66.3 MB/s\u001b[0m eta \u001b[36m0:00:00\u001b[0m\n",
            "\u001b[?25hCollecting wurlitzer (from pycaret)\n",
            "  Downloading wurlitzer-3.0.3-py3-none-any.whl (7.3 kB)\n",
            "Requirement already satisfied: patsy>=0.5.1 in /usr/local/lib/python3.10/dist-packages (from category-encoders>=2.4.0->pycaret) (0.5.3)\n",
            "Requirement already satisfied: packaging in /usr/local/lib/python3.10/dist-packages (from deprecation>=2.1.0->pycaret) (23.1)\n",
            "Requirement already satisfied: threadpoolctl>=2.0.0 in /usr/local/lib/python3.10/dist-packages (from imbalanced-learn>=0.8.1->pycaret) (3.2.0)\n",
            "Requirement already satisfied: zipp>=0.5 in /usr/local/lib/python3.10/dist-packages (from importlib-metadata>=4.12.0->pycaret) (3.16.2)\n",
            "Requirement already satisfied: setuptools>=18.5 in /usr/local/lib/python3.10/dist-packages (from ipython>=5.5.0->pycaret) (67.7.2)\n",
            "Collecting jedi>=0.16 (from ipython>=5.5.0->pycaret)\n",
            "  Downloading jedi-0.19.0-py2.py3-none-any.whl (1.6 MB)\n",
            "\u001b[2K     \u001b[90m━━━━━━━━━━━━━━━━━━━━━━━━━━━━━━━━━━━━━━━━\u001b[0m \u001b[32m1.6/1.6 MB\u001b[0m \u001b[31m60.5 MB/s\u001b[0m eta \u001b[36m0:00:00\u001b[0m\n",
            "\u001b[?25hRequirement already satisfied: decorator in /usr/local/lib/python3.10/dist-packages (from ipython>=5.5.0->pycaret) (4.4.2)\n",
            "Requirement already satisfied: pickleshare in /usr/local/lib/python3.10/dist-packages (from ipython>=5.5.0->pycaret) (0.7.5)\n",
            "Requirement already satisfied: traitlets>=4.2 in /usr/local/lib/python3.10/dist-packages (from ipython>=5.5.0->pycaret) (5.7.1)\n",
            "Requirement already satisfied: prompt-toolkit!=3.0.0,!=3.0.1,<3.1.0,>=2.0.0 in /usr/local/lib/python3.10/dist-packages (from ipython>=5.5.0->pycaret) (3.0.39)\n",
            "Requirement already satisfied: pygments in /usr/local/lib/python3.10/dist-packages (from ipython>=5.5.0->pycaret) (2.14.0)\n",
            "Requirement already satisfied: backcall in /usr/local/lib/python3.10/dist-packages (from ipython>=5.5.0->pycaret) (0.2.0)\n",
            "Requirement already satisfied: matplotlib-inline in /usr/local/lib/python3.10/dist-packages (from ipython>=5.5.0->pycaret) (0.1.6)\n",
            "Requirement already satisfied: pexpect>4.3 in /usr/local/lib/python3.10/dist-packages (from ipython>=5.5.0->pycaret) (4.8.0)\n",
            "Requirement already satisfied: ipykernel>=4.5.1 in /usr/local/lib/python3.10/dist-packages (from ipywidgets>=7.6.5->pycaret) (5.5.6)\n",
            "Requirement already satisfied: ipython-genutils~=0.2.0 in /usr/local/lib/python3.10/dist-packages (from ipywidgets>=7.6.5->pycaret) (0.2.0)\n",
            "Requirement already satisfied: widgetsnbextension~=3.6.0 in /usr/local/lib/python3.10/dist-packages (from ipywidgets>=7.6.5->pycaret) (3.6.5)\n",
            "Requirement already satisfied: jupyterlab-widgets>=1.0.0 in /usr/local/lib/python3.10/dist-packages (from ipywidgets>=7.6.5->pycaret) (3.0.8)\n",
            "Requirement already satisfied: wheel in /usr/local/lib/python3.10/dist-packages (from lightgbm>=3.0.0->pycaret) (0.41.0)\n",
            "Requirement already satisfied: contourpy>=1.0.1 in /usr/local/lib/python3.10/dist-packages (from matplotlib>=3.3.0->pycaret) (1.1.0)\n",
            "Requirement already satisfied: cycler>=0.10 in /usr/local/lib/python3.10/dist-packages (from matplotlib>=3.3.0->pycaret) (0.11.0)\n",
            "Requirement already satisfied: fonttools>=4.22.0 in /usr/local/lib/python3.10/dist-packages (from matplotlib>=3.3.0->pycaret) (4.42.0)\n",
            "Requirement already satisfied: kiwisolver>=1.0.1 in /usr/local/lib/python3.10/dist-packages (from matplotlib>=3.3.0->pycaret) (1.4.4)\n",
            "Requirement already satisfied: pillow>=6.2.0 in /usr/local/lib/python3.10/dist-packages (from matplotlib>=3.3.0->pycaret) (9.4.0)\n",
            "Requirement already satisfied: pyparsing>=2.3.1 in /usr/local/lib/python3.10/dist-packages (from matplotlib>=3.3.0->pycaret) (3.1.1)\n",
            "Requirement already satisfied: python-dateutil>=2.7 in /usr/local/lib/python3.10/dist-packages (from matplotlib>=3.3.0->pycaret) (2.8.2)\n",
            "Requirement already satisfied: fastjsonschema in /usr/local/lib/python3.10/dist-packages (from nbformat>=4.2.0->pycaret) (2.18.0)\n",
            "Requirement already satisfied: jsonschema>=2.6 in /usr/local/lib/python3.10/dist-packages (from nbformat>=4.2.0->pycaret) (4.3.3)\n",
            "Requirement already satisfied: jupyter-core in /usr/local/lib/python3.10/dist-packages (from nbformat>=4.2.0->pycaret) (5.3.1)\n",
            "Requirement already satisfied: llvmlite<0.40,>=0.39.0dev0 in /usr/local/lib/python3.10/dist-packages (from numba>=0.55.0->pycaret) (0.39.1)\n",
            "Requirement already satisfied: pytz>=2020.1 in /usr/local/lib/python3.10/dist-packages (from pandas<2.0.0,>=1.3.0->pycaret) (2022.7.1)\n",
            "Requirement already satisfied: tenacity>=6.2.0 in /usr/local/lib/python3.10/dist-packages (from plotly>=5.0.0->pycaret) (8.2.2)\n",
            "Collecting dash<3.0.0,>=2.11.0 (from plotly-resampler>=0.8.3.1->pycaret)\n",
            "  Downloading dash-2.11.1-py3-none-any.whl (10.4 MB)\n",
            "\u001b[2K     \u001b[90m━━━━━━━━━━━━━━━━━━━━━━━━━━━━━━━━━━━━━━━━\u001b[0m \u001b[32m10.4/10.4 MB\u001b[0m \u001b[31m88.5 MB/s\u001b[0m eta \u001b[36m0:00:00\u001b[0m\n",
            "\u001b[?25hCollecting orjson<4.0.0,>=3.8.0 (from plotly-resampler>=0.8.3.1->pycaret)\n",
            "  Downloading orjson-3.9.4-cp310-cp310-manylinux_2_17_x86_64.manylinux2014_x86_64.whl (140 kB)\n",
            "\u001b[2K     \u001b[90m━━━━━━━━━━━━━━━━━━━━━━━━━━━━━━━━━━━━━━\u001b[0m \u001b[32m140.3/140.3 kB\u001b[0m \u001b[31m16.0 MB/s\u001b[0m eta \u001b[36m0:00:00\u001b[0m\n",
            "\u001b[?25hCollecting trace-updater>=0.0.8 (from plotly-resampler>=0.8.3.1->pycaret)\n",
            "  Downloading trace_updater-0.0.9.1-py3-none-any.whl (185 kB)\n",
            "\u001b[2K     \u001b[90m━━━━━━━━━━━━━━━━━━━━━━━━━━━━━━━━━━━━━━\u001b[0m \u001b[32m185.2/185.2 kB\u001b[0m \u001b[31m21.3 MB/s\u001b[0m eta \u001b[36m0:00:00\u001b[0m\n",
            "\u001b[?25hCollecting tsdownsample==0.1.2 (from plotly-resampler>=0.8.3.1->pycaret)\n",
            "  Downloading tsdownsample-0.1.2-cp310-cp310-manylinux_2_17_x86_64.manylinux2014_x86_64.whl (2.3 MB)\n",
            "\u001b[2K     \u001b[90m━━━━━━━━━━━━━━━━━━━━━━━━━━━━━━━━━━━━━━━━\u001b[0m \u001b[32m2.3/2.3 MB\u001b[0m \u001b[31m73.2 MB/s\u001b[0m eta \u001b[36m0:00:00\u001b[0m\n",
            "\u001b[?25hRequirement already satisfied: Cython!=0.29.18,!=0.29.31,>=0.29 in /usr/local/lib/python3.10/dist-packages (from pmdarima!=1.8.1,<3.0.0,>=1.8.0->pycaret) (0.29.36)\n",
            "Requirement already satisfied: urllib3 in /usr/local/lib/python3.10/dist-packages (from pmdarima!=1.8.1,<3.0.0,>=1.8.0->pycaret) (1.26.16)\n",
            "Requirement already satisfied: six in /usr/local/lib/python3.10/dist-packages (from pyod>=1.0.8->pycaret) (1.16.0)\n",
            "Requirement already satisfied: charset-normalizer<4,>=2 in /usr/local/lib/python3.10/dist-packages (from requests>=2.27.1->pycaret) (3.2.0)\n",
            "Requirement already satisfied: idna<4,>=2.5 in /usr/local/lib/python3.10/dist-packages (from requests>=2.27.1->pycaret) (3.4)\n",
            "Requirement already satisfied: certifi>=2017.4.17 in /usr/local/lib/python3.10/dist-packages (from requests>=2.27.1->pycaret) (2023.7.22)\n",
            "Collecting deprecated>=1.2.13 (from sktime!=0.17.1,!=0.17.2,!=0.18.0,>=0.16.1->pycaret)\n",
            "  Downloading Deprecated-1.2.14-py2.py3-none-any.whl (9.6 kB)\n",
            "Collecting scikit-base<0.6.0 (from sktime!=0.17.1,!=0.17.2,!=0.18.0,>=0.16.1->pycaret)\n",
            "  Downloading scikit_base-0.5.0-py3-none-any.whl (118 kB)\n",
            "\u001b[2K     \u001b[90m━━━━━━━━━━━━━━━━━━━━━━━━━━━━━━━━━━━━━━\u001b[0m \u001b[32m118.2/118.2 kB\u001b[0m \u001b[31m14.1 MB/s\u001b[0m eta \u001b[36m0:00:00\u001b[0m\n",
            "\u001b[?25hRequirement already satisfied: Flask<2.3.0,>=1.0.4 in /usr/local/lib/python3.10/dist-packages (from dash<3.0.0,>=2.11.0->plotly-resampler>=0.8.3.1->pycaret) (2.2.5)\n",
            "Collecting Werkzeug<2.3.0 (from dash<3.0.0,>=2.11.0->plotly-resampler>=0.8.3.1->pycaret)\n",
            "  Downloading Werkzeug-2.2.3-py3-none-any.whl (233 kB)\n",
            "\u001b[2K     \u001b[90m━━━━━━━━━━━━━━━━━━━━━━━━━━━━━━━━━━━━━━\u001b[0m \u001b[32m233.6/233.6 kB\u001b[0m \u001b[31m24.3 MB/s\u001b[0m eta \u001b[36m0:00:00\u001b[0m\n",
            "\u001b[?25hCollecting dash-html-components==2.0.0 (from dash<3.0.0,>=2.11.0->plotly-resampler>=0.8.3.1->pycaret)\n",
            "  Downloading dash_html_components-2.0.0-py3-none-any.whl (4.1 kB)\n",
            "Collecting dash-core-components==2.0.0 (from dash<3.0.0,>=2.11.0->plotly-resampler>=0.8.3.1->pycaret)\n",
            "  Downloading dash_core_components-2.0.0-py3-none-any.whl (3.8 kB)\n",
            "Collecting dash-table==5.0.0 (from dash<3.0.0,>=2.11.0->plotly-resampler>=0.8.3.1->pycaret)\n",
            "  Downloading dash_table-5.0.0-py3-none-any.whl (3.9 kB)\n",
            "Requirement already satisfied: typing-extensions>=4.1.1 in /usr/local/lib/python3.10/dist-packages (from dash<3.0.0,>=2.11.0->plotly-resampler>=0.8.3.1->pycaret) (4.7.1)\n",
            "Collecting retrying (from dash<3.0.0,>=2.11.0->plotly-resampler>=0.8.3.1->pycaret)\n",
            "  Downloading retrying-1.3.4-py3-none-any.whl (11 kB)\n",
            "Collecting ansi2html (from dash<3.0.0,>=2.11.0->plotly-resampler>=0.8.3.1->pycaret)\n",
            "  Downloading ansi2html-1.8.0-py3-none-any.whl (16 kB)\n",
            "Requirement already satisfied: nest-asyncio in /usr/local/lib/python3.10/dist-packages (from dash<3.0.0,>=2.11.0->plotly-resampler>=0.8.3.1->pycaret) (1.5.7)\n",
            "Requirement already satisfied: wrapt<2,>=1.10 in /usr/local/lib/python3.10/dist-packages (from deprecated>=1.2.13->sktime!=0.17.1,!=0.17.2,!=0.18.0,>=0.16.1->pycaret) (1.14.1)\n",
            "Requirement already satisfied: jupyter-client in /usr/local/lib/python3.10/dist-packages (from ipykernel>=4.5.1->ipywidgets>=7.6.5->pycaret) (6.1.12)\n",
            "Requirement already satisfied: tornado>=4.2 in /usr/local/lib/python3.10/dist-packages (from ipykernel>=4.5.1->ipywidgets>=7.6.5->pycaret) (6.3.1)\n",
            "Requirement already satisfied: parso<0.9.0,>=0.8.3 in /usr/local/lib/python3.10/dist-packages (from jedi>=0.16->ipython>=5.5.0->pycaret) (0.8.3)\n",
            "Requirement already satisfied: attrs>=17.4.0 in /usr/local/lib/python3.10/dist-packages (from jsonschema>=2.6->nbformat>=4.2.0->pycaret) (23.1.0)\n",
            "Requirement already satisfied: pyrsistent!=0.17.0,!=0.17.1,!=0.17.2,>=0.14.0 in /usr/local/lib/python3.10/dist-packages (from jsonschema>=2.6->nbformat>=4.2.0->pycaret) (0.19.3)\n",
            "Requirement already satisfied: ptyprocess>=0.5 in /usr/local/lib/python3.10/dist-packages (from pexpect>4.3->ipython>=5.5.0->pycaret) (0.7.0)\n",
            "Requirement already satisfied: wcwidth in /usr/local/lib/python3.10/dist-packages (from prompt-toolkit!=3.0.0,!=3.0.1,<3.1.0,>=2.0.0->ipython>=5.5.0->pycaret) (0.2.6)\n",
            "Requirement already satisfied: notebook>=4.4.1 in /usr/local/lib/python3.10/dist-packages (from widgetsnbextension~=3.6.0->ipywidgets>=7.6.5->pycaret) (6.4.8)\n",
            "Requirement already satisfied: platformdirs>=2.5 in /usr/local/lib/python3.10/dist-packages (from jupyter-core->nbformat>=4.2.0->pycaret) (3.10.0)\n",
            "Requirement already satisfied: itsdangerous>=2.0 in /usr/local/lib/python3.10/dist-packages (from Flask<2.3.0,>=1.0.4->dash<3.0.0,>=2.11.0->plotly-resampler>=0.8.3.1->pycaret) (2.1.2)\n",
            "Requirement already satisfied: click>=8.0 in /usr/local/lib/python3.10/dist-packages (from Flask<2.3.0,>=1.0.4->dash<3.0.0,>=2.11.0->plotly-resampler>=0.8.3.1->pycaret) (8.1.6)\n",
            "Requirement already satisfied: pyzmq>=17 in /usr/local/lib/python3.10/dist-packages (from notebook>=4.4.1->widgetsnbextension~=3.6.0->ipywidgets>=7.6.5->pycaret) (23.2.1)\n",
            "Requirement already satisfied: argon2-cffi in /usr/local/lib/python3.10/dist-packages (from notebook>=4.4.1->widgetsnbextension~=3.6.0->ipywidgets>=7.6.5->pycaret) (21.3.0)\n",
            "Requirement already satisfied: nbconvert in /usr/local/lib/python3.10/dist-packages (from notebook>=4.4.1->widgetsnbextension~=3.6.0->ipywidgets>=7.6.5->pycaret) (6.5.4)\n",
            "Requirement already satisfied: Send2Trash>=1.8.0 in /usr/local/lib/python3.10/dist-packages (from notebook>=4.4.1->widgetsnbextension~=3.6.0->ipywidgets>=7.6.5->pycaret) (1.8.2)\n",
            "Requirement already satisfied: terminado>=0.8.3 in /usr/local/lib/python3.10/dist-packages (from notebook>=4.4.1->widgetsnbextension~=3.6.0->ipywidgets>=7.6.5->pycaret) (0.17.1)\n",
            "Requirement already satisfied: prometheus-client in /usr/local/lib/python3.10/dist-packages (from notebook>=4.4.1->widgetsnbextension~=3.6.0->ipywidgets>=7.6.5->pycaret) (0.17.1)\n",
            "Requirement already satisfied: argon2-cffi-bindings in /usr/local/lib/python3.10/dist-packages (from argon2-cffi->notebook>=4.4.1->widgetsnbextension~=3.6.0->ipywidgets>=7.6.5->pycaret) (21.2.0)\n",
            "Requirement already satisfied: lxml in /usr/local/lib/python3.10/dist-packages (from nbconvert->notebook>=4.4.1->widgetsnbextension~=3.6.0->ipywidgets>=7.6.5->pycaret) (4.9.3)\n",
            "Requirement already satisfied: beautifulsoup4 in /usr/local/lib/python3.10/dist-packages (from nbconvert->notebook>=4.4.1->widgetsnbextension~=3.6.0->ipywidgets>=7.6.5->pycaret) (4.11.2)\n",
            "Requirement already satisfied: bleach in /usr/local/lib/python3.10/dist-packages (from nbconvert->notebook>=4.4.1->widgetsnbextension~=3.6.0->ipywidgets>=7.6.5->pycaret) (6.0.0)\n",
            "Requirement already satisfied: defusedxml in /usr/local/lib/python3.10/dist-packages (from nbconvert->notebook>=4.4.1->widgetsnbextension~=3.6.0->ipywidgets>=7.6.5->pycaret) (0.7.1)\n",
            "Requirement already satisfied: entrypoints>=0.2.2 in /usr/local/lib/python3.10/dist-packages (from nbconvert->notebook>=4.4.1->widgetsnbextension~=3.6.0->ipywidgets>=7.6.5->pycaret) (0.4)\n",
            "Requirement already satisfied: jupyterlab-pygments in /usr/local/lib/python3.10/dist-packages (from nbconvert->notebook>=4.4.1->widgetsnbextension~=3.6.0->ipywidgets>=7.6.5->pycaret) (0.2.2)\n",
            "Requirement already satisfied: mistune<2,>=0.8.1 in /usr/local/lib/python3.10/dist-packages (from nbconvert->notebook>=4.4.1->widgetsnbextension~=3.6.0->ipywidgets>=7.6.5->pycaret) (0.8.4)\n",
            "Requirement already satisfied: nbclient>=0.5.0 in /usr/local/lib/python3.10/dist-packages (from nbconvert->notebook>=4.4.1->widgetsnbextension~=3.6.0->ipywidgets>=7.6.5->pycaret) (0.8.0)\n",
            "Requirement already satisfied: pandocfilters>=1.4.1 in /usr/local/lib/python3.10/dist-packages (from nbconvert->notebook>=4.4.1->widgetsnbextension~=3.6.0->ipywidgets>=7.6.5->pycaret) (1.5.0)\n",
            "Requirement already satisfied: tinycss2 in /usr/local/lib/python3.10/dist-packages (from nbconvert->notebook>=4.4.1->widgetsnbextension~=3.6.0->ipywidgets>=7.6.5->pycaret) (1.2.1)\n",
            "Requirement already satisfied: cffi>=1.0.1 in /usr/local/lib/python3.10/dist-packages (from argon2-cffi-bindings->argon2-cffi->notebook>=4.4.1->widgetsnbextension~=3.6.0->ipywidgets>=7.6.5->pycaret) (1.15.1)\n",
            "Requirement already satisfied: soupsieve>1.2 in /usr/local/lib/python3.10/dist-packages (from beautifulsoup4->nbconvert->notebook>=4.4.1->widgetsnbextension~=3.6.0->ipywidgets>=7.6.5->pycaret) (2.4.1)\n",
            "Requirement already satisfied: webencodings in /usr/local/lib/python3.10/dist-packages (from bleach->nbconvert->notebook>=4.4.1->widgetsnbextension~=3.6.0->ipywidgets>=7.6.5->pycaret) (0.5.1)\n",
            "Requirement already satisfied: pycparser in /usr/local/lib/python3.10/dist-packages (from cffi>=1.0.1->argon2-cffi-bindings->argon2-cffi->notebook>=4.4.1->widgetsnbextension~=3.6.0->ipywidgets>=7.6.5->pycaret) (2.21)\n",
            "Building wheels for collected packages: pyod\n",
            "  Building wheel for pyod (setup.py) ... \u001b[?25l\u001b[?25hdone\n",
            "  Created wheel for pyod: filename=pyod-1.1.0-py3-none-any.whl size=185330 sha256=3705ffba86f7ed16882ab773dc5b57f49adb8ad7c33f2d6ca477fc680f4f7ac2\n",
            "  Stored in directory: /root/.cache/pip/wheels/36/8e/e2/e932956b10b843eb6be9eefa70b5c1bee7b561be14c423b136\n",
            "Successfully built pyod\n",
            "Installing collected packages: trace-updater, kaleido, dash-table, dash-html-components, dash-core-components, xxhash, wurlitzer, Werkzeug, tsdownsample, scikit-base, schemdraw, retrying, orjson, jedi, importlib-metadata, deprecation, deprecated, ansi2html, sktime, scikit-plot, pyod, dash, pmdarima, plotly-resampler, category-encoders, tbats, pycaret\n",
            "  Attempting uninstall: Werkzeug\n",
            "    Found existing installation: Werkzeug 2.3.6\n",
            "    Uninstalling Werkzeug-2.3.6:\n",
            "      Successfully uninstalled Werkzeug-2.3.6\n",
            "  Attempting uninstall: importlib-metadata\n",
            "    Found existing installation: importlib-metadata 4.6.4\n",
            "    Uninstalling importlib-metadata-4.6.4:\n",
            "      Successfully uninstalled importlib-metadata-4.6.4\n",
            "Successfully installed Werkzeug-2.2.3 ansi2html-1.8.0 category-encoders-2.6.1 dash-2.11.1 dash-core-components-2.0.0 dash-html-components-2.0.0 dash-table-5.0.0 deprecated-1.2.14 deprecation-2.1.0 importlib-metadata-6.8.0 jedi-0.19.0 kaleido-0.2.1 orjson-3.9.4 plotly-resampler-0.9.1 pmdarima-2.0.3 pycaret-3.0.4 pyod-1.1.0 retrying-1.3.4 schemdraw-0.15 scikit-base-0.5.0 scikit-plot-0.3.7 sktime-0.21.0 tbats-1.1.3 trace-updater-0.0.9.1 tsdownsample-0.1.2 wurlitzer-3.0.3 xxhash-3.3.0\n"
          ]
        }
      ]
    },
    {
      "cell_type": "markdown",
      "source": [
        " # **<font color=\"DeepPink\">Workflow</font>**"
      ],
      "metadata": {
        "id": "_E-OYvNCXmr6"
      }
    },
    {
      "cell_type": "markdown",
      "source": [
        "<h5 align=\"center\"><b>\n",
        "<font color=\"DeepPink\">\n",
        "<b>Setup ▶ Create Model ▶ Analyze Model ▶ Prediction ▶ Save Model\n",
        "\n"
      ],
      "metadata": {
        "id": "fRLEG1lTXn2n"
      }
    },
    {
      "cell_type": "markdown",
      "source": [
        " # **<font color=\"DeepPink\">Obteniendo datos</font>**"
      ],
      "metadata": {
        "id": "Y7LDCZ14PIKr"
      }
    },
    {
      "cell_type": "code",
      "source": [
        "from pycaret.datasets import get_data"
      ],
      "metadata": {
        "id": "TMqziLIxnZKd"
      },
      "execution_count": 2,
      "outputs": []
    },
    {
      "cell_type": "code",
      "source": [
        "data = get_data('insurance')"
      ],
      "metadata": {
        "id": "5qLuNXTnnZGi",
        "colab": {
          "base_uri": "https://localhost:8080/",
          "height": 221
        },
        "outputId": "8f3cd770-c526-4f5f-d5a0-d624390d9e3b"
      },
      "execution_count": 3,
      "outputs": [
        {
          "output_type": "display_data",
          "data": {
            "text/plain": [
              "   age     sex     bmi  children smoker     region      charges\n",
              "0   19  female  27.900         0    yes  southwest  16884.92400\n",
              "1   18    male  33.770         1     no  southeast   1725.55230\n",
              "2   28    male  33.000         3     no  southeast   4449.46200\n",
              "3   33    male  22.705         0     no  northwest  21984.47061\n",
              "4   32    male  28.880         0     no  northwest   3866.85520"
            ],
            "text/html": [
              "\n",
              "\n",
              "  <div id=\"df-53526fde-7bc8-4938-a6e4-5916055f2601\">\n",
              "    <div class=\"colab-df-container\">\n",
              "      <div>\n",
              "<style scoped>\n",
              "    .dataframe tbody tr th:only-of-type {\n",
              "        vertical-align: middle;\n",
              "    }\n",
              "\n",
              "    .dataframe tbody tr th {\n",
              "        vertical-align: top;\n",
              "    }\n",
              "\n",
              "    .dataframe thead th {\n",
              "        text-align: right;\n",
              "    }\n",
              "</style>\n",
              "<table border=\"1\" class=\"dataframe\">\n",
              "  <thead>\n",
              "    <tr style=\"text-align: right;\">\n",
              "      <th></th>\n",
              "      <th>age</th>\n",
              "      <th>sex</th>\n",
              "      <th>bmi</th>\n",
              "      <th>children</th>\n",
              "      <th>smoker</th>\n",
              "      <th>region</th>\n",
              "      <th>charges</th>\n",
              "    </tr>\n",
              "  </thead>\n",
              "  <tbody>\n",
              "    <tr>\n",
              "      <th>0</th>\n",
              "      <td>19</td>\n",
              "      <td>female</td>\n",
              "      <td>27.900</td>\n",
              "      <td>0</td>\n",
              "      <td>yes</td>\n",
              "      <td>southwest</td>\n",
              "      <td>16884.92400</td>\n",
              "    </tr>\n",
              "    <tr>\n",
              "      <th>1</th>\n",
              "      <td>18</td>\n",
              "      <td>male</td>\n",
              "      <td>33.770</td>\n",
              "      <td>1</td>\n",
              "      <td>no</td>\n",
              "      <td>southeast</td>\n",
              "      <td>1725.55230</td>\n",
              "    </tr>\n",
              "    <tr>\n",
              "      <th>2</th>\n",
              "      <td>28</td>\n",
              "      <td>male</td>\n",
              "      <td>33.000</td>\n",
              "      <td>3</td>\n",
              "      <td>no</td>\n",
              "      <td>southeast</td>\n",
              "      <td>4449.46200</td>\n",
              "    </tr>\n",
              "    <tr>\n",
              "      <th>3</th>\n",
              "      <td>33</td>\n",
              "      <td>male</td>\n",
              "      <td>22.705</td>\n",
              "      <td>0</td>\n",
              "      <td>no</td>\n",
              "      <td>northwest</td>\n",
              "      <td>21984.47061</td>\n",
              "    </tr>\n",
              "    <tr>\n",
              "      <th>4</th>\n",
              "      <td>32</td>\n",
              "      <td>male</td>\n",
              "      <td>28.880</td>\n",
              "      <td>0</td>\n",
              "      <td>no</td>\n",
              "      <td>northwest</td>\n",
              "      <td>3866.85520</td>\n",
              "    </tr>\n",
              "  </tbody>\n",
              "</table>\n",
              "</div>\n",
              "      <button class=\"colab-df-convert\" onclick=\"convertToInteractive('df-53526fde-7bc8-4938-a6e4-5916055f2601')\"\n",
              "              title=\"Convert this dataframe to an interactive table.\"\n",
              "              style=\"display:none;\">\n",
              "\n",
              "  <svg xmlns=\"http://www.w3.org/2000/svg\" height=\"24px\"viewBox=\"0 0 24 24\"\n",
              "       width=\"24px\">\n",
              "    <path d=\"M0 0h24v24H0V0z\" fill=\"none\"/>\n",
              "    <path d=\"M18.56 5.44l.94 2.06.94-2.06 2.06-.94-2.06-.94-.94-2.06-.94 2.06-2.06.94zm-11 1L8.5 8.5l.94-2.06 2.06-.94-2.06-.94L8.5 2.5l-.94 2.06-2.06.94zm10 10l.94 2.06.94-2.06 2.06-.94-2.06-.94-.94-2.06-.94 2.06-2.06.94z\"/><path d=\"M17.41 7.96l-1.37-1.37c-.4-.4-.92-.59-1.43-.59-.52 0-1.04.2-1.43.59L10.3 9.45l-7.72 7.72c-.78.78-.78 2.05 0 2.83L4 21.41c.39.39.9.59 1.41.59.51 0 1.02-.2 1.41-.59l7.78-7.78 2.81-2.81c.8-.78.8-2.07 0-2.86zM5.41 20L4 18.59l7.72-7.72 1.47 1.35L5.41 20z\"/>\n",
              "  </svg>\n",
              "      </button>\n",
              "\n",
              "\n",
              "\n",
              "    <div id=\"df-0578b0dd-7a0f-42dc-a2bf-23ce378ed130\">\n",
              "      <button class=\"colab-df-quickchart\" onclick=\"quickchart('df-0578b0dd-7a0f-42dc-a2bf-23ce378ed130')\"\n",
              "              title=\"Suggest charts.\"\n",
              "              style=\"display:none;\">\n",
              "\n",
              "<svg xmlns=\"http://www.w3.org/2000/svg\" height=\"24px\"viewBox=\"0 0 24 24\"\n",
              "     width=\"24px\">\n",
              "    <g>\n",
              "        <path d=\"M19 3H5c-1.1 0-2 .9-2 2v14c0 1.1.9 2 2 2h14c1.1 0 2-.9 2-2V5c0-1.1-.9-2-2-2zM9 17H7v-7h2v7zm4 0h-2V7h2v10zm4 0h-2v-4h2v4z\"/>\n",
              "    </g>\n",
              "</svg>\n",
              "      </button>\n",
              "    </div>\n",
              "\n",
              "<style>\n",
              "  .colab-df-quickchart {\n",
              "    background-color: #E8F0FE;\n",
              "    border: none;\n",
              "    border-radius: 50%;\n",
              "    cursor: pointer;\n",
              "    display: none;\n",
              "    fill: #1967D2;\n",
              "    height: 32px;\n",
              "    padding: 0 0 0 0;\n",
              "    width: 32px;\n",
              "  }\n",
              "\n",
              "  .colab-df-quickchart:hover {\n",
              "    background-color: #E2EBFA;\n",
              "    box-shadow: 0px 1px 2px rgba(60, 64, 67, 0.3), 0px 1px 3px 1px rgba(60, 64, 67, 0.15);\n",
              "    fill: #174EA6;\n",
              "  }\n",
              "\n",
              "  [theme=dark] .colab-df-quickchart {\n",
              "    background-color: #3B4455;\n",
              "    fill: #D2E3FC;\n",
              "  }\n",
              "\n",
              "  [theme=dark] .colab-df-quickchart:hover {\n",
              "    background-color: #434B5C;\n",
              "    box-shadow: 0px 1px 3px 1px rgba(0, 0, 0, 0.15);\n",
              "    filter: drop-shadow(0px 1px 2px rgba(0, 0, 0, 0.3));\n",
              "    fill: #FFFFFF;\n",
              "  }\n",
              "</style>\n",
              "\n",
              "    <script>\n",
              "      async function quickchart(key) {\n",
              "        const containerElement = document.querySelector('#' + key);\n",
              "        const charts = await google.colab.kernel.invokeFunction(\n",
              "            'suggestCharts', [key], {});\n",
              "      }\n",
              "    </script>\n",
              "\n",
              "      <script>\n",
              "\n",
              "function displayQuickchartButton(domScope) {\n",
              "  let quickchartButtonEl =\n",
              "    domScope.querySelector('#df-0578b0dd-7a0f-42dc-a2bf-23ce378ed130 button.colab-df-quickchart');\n",
              "  quickchartButtonEl.style.display =\n",
              "    google.colab.kernel.accessAllowed ? 'block' : 'none';\n",
              "}\n",
              "\n",
              "        displayQuickchartButton(document);\n",
              "      </script>\n",
              "      <style>\n",
              "    .colab-df-container {\n",
              "      display:flex;\n",
              "      flex-wrap:wrap;\n",
              "      gap: 12px;\n",
              "    }\n",
              "\n",
              "    .colab-df-convert {\n",
              "      background-color: #E8F0FE;\n",
              "      border: none;\n",
              "      border-radius: 50%;\n",
              "      cursor: pointer;\n",
              "      display: none;\n",
              "      fill: #1967D2;\n",
              "      height: 32px;\n",
              "      padding: 0 0 0 0;\n",
              "      width: 32px;\n",
              "    }\n",
              "\n",
              "    .colab-df-convert:hover {\n",
              "      background-color: #E2EBFA;\n",
              "      box-shadow: 0px 1px 2px rgba(60, 64, 67, 0.3), 0px 1px 3px 1px rgba(60, 64, 67, 0.15);\n",
              "      fill: #174EA6;\n",
              "    }\n",
              "\n",
              "    [theme=dark] .colab-df-convert {\n",
              "      background-color: #3B4455;\n",
              "      fill: #D2E3FC;\n",
              "    }\n",
              "\n",
              "    [theme=dark] .colab-df-convert:hover {\n",
              "      background-color: #434B5C;\n",
              "      box-shadow: 0px 1px 3px 1px rgba(0, 0, 0, 0.15);\n",
              "      filter: drop-shadow(0px 1px 2px rgba(0, 0, 0, 0.3));\n",
              "      fill: #FFFFFF;\n",
              "    }\n",
              "  </style>\n",
              "\n",
              "      <script>\n",
              "        const buttonEl =\n",
              "          document.querySelector('#df-53526fde-7bc8-4938-a6e4-5916055f2601 button.colab-df-convert');\n",
              "        buttonEl.style.display =\n",
              "          google.colab.kernel.accessAllowed ? 'block' : 'none';\n",
              "\n",
              "        async function convertToInteractive(key) {\n",
              "          const element = document.querySelector('#df-53526fde-7bc8-4938-a6e4-5916055f2601');\n",
              "          const dataTable =\n",
              "            await google.colab.kernel.invokeFunction('convertToInteractive',\n",
              "                                                     [key], {});\n",
              "          if (!dataTable) return;\n",
              "\n",
              "          const docLinkHtml = 'Like what you see? Visit the ' +\n",
              "            '<a target=\"_blank\" href=https://colab.research.google.com/notebooks/data_table.ipynb>data table notebook</a>'\n",
              "            + ' to learn more about interactive tables.';\n",
              "          element.innerHTML = '';\n",
              "          dataTable['output_type'] = 'display_data';\n",
              "          await google.colab.output.renderOutput(dataTable, element);\n",
              "          const docLink = document.createElement('div');\n",
              "          docLink.innerHTML = docLinkHtml;\n",
              "          element.appendChild(docLink);\n",
              "        }\n",
              "      </script>\n",
              "    </div>\n",
              "  </div>\n"
            ]
          },
          "metadata": {}
        }
      ]
    },
    {
      "cell_type": "code",
      "source": [
        "data.shape"
      ],
      "metadata": {
        "id": "0zEK-AFKnZCB",
        "colab": {
          "base_uri": "https://localhost:8080/"
        },
        "outputId": "7c8d91c1-b718-49a9-be78-add870a2b3ff"
      },
      "execution_count": 4,
      "outputs": [
        {
          "output_type": "execute_result",
          "data": {
            "text/plain": [
              "(1338, 7)"
            ]
          },
          "metadata": {},
          "execution_count": 4
        }
      ]
    },
    {
      "cell_type": "code",
      "source": [
        "data.info()"
      ],
      "metadata": {
        "id": "YJDwev9-nY9p",
        "colab": {
          "base_uri": "https://localhost:8080/"
        },
        "outputId": "28e6ae10-076c-4628-aeb8-356da2bfebc6"
      },
      "execution_count": 5,
      "outputs": [
        {
          "output_type": "stream",
          "name": "stdout",
          "text": [
            "<class 'pandas.core.frame.DataFrame'>\n",
            "RangeIndex: 1338 entries, 0 to 1337\n",
            "Data columns (total 7 columns):\n",
            " #   Column    Non-Null Count  Dtype  \n",
            "---  ------    --------------  -----  \n",
            " 0   age       1338 non-null   int64  \n",
            " 1   sex       1338 non-null   object \n",
            " 2   bmi       1338 non-null   float64\n",
            " 3   children  1338 non-null   int64  \n",
            " 4   smoker    1338 non-null   object \n",
            " 5   region    1338 non-null   object \n",
            " 6   charges   1338 non-null   float64\n",
            "dtypes: float64(2), int64(2), object(3)\n",
            "memory usage: 73.3+ KB\n"
          ]
        }
      ]
    },
    {
      "cell_type": "markdown",
      "source": [
        "# **<font color=\"DeepPink\">01 - Setup</font>**\n",
        "\n",
        "<h5 align=\"center\"><b>\n",
        "<font color=\"DeepPink\">\n",
        "<b><mark>Setup</mark> ▶ Create Model ▶ Analyze Model ▶ Prediction ▶ Save Model\n"
      ],
      "metadata": {
        "id": "xN6y6nPPYC8R"
      }
    },
    {
      "cell_type": "markdown",
      "source": [
        "<p align=\"justify\">\n",
        "Esta función inicializa el entorno de entrenamiento y crea el pipeline de transformación. La función de configuración debe llamarse antes de ejecutar cualquier otra función en <code>PyCaret</code>.\n",
        "<br><br>\n",
        "👀 <code>Setup()</code> tiene dos parámetros obligatorios, <code>data</code> y <code>target</code>. Todos los demás parámetros son opcionales."
      ],
      "metadata": {
        "id": "nPywuyahYMUJ"
      }
    },
    {
      "cell_type": "code",
      "source": [
        "from pycaret.regression import *"
      ],
      "metadata": {
        "id": "zW_dRvTQnY44"
      },
      "execution_count": 6,
      "outputs": []
    },
    {
      "cell_type": "code",
      "source": [
        "s = setup(data, target = 'charges', session_id = 123)"
      ],
      "metadata": {
        "colab": {
          "base_uri": "https://localhost:8080/",
          "height": 771
        },
        "id": "LWamb8CfYUJW",
        "outputId": "4707a6b1-b7cf-4c67-a450-ae2069e86cec"
      },
      "execution_count": 7,
      "outputs": [
        {
          "output_type": "display_data",
          "data": {
            "text/plain": [
              "<pandas.io.formats.style.Styler at 0x785ef992f700>"
            ],
            "text/html": [
              "<style type=\"text/css\">\n",
              "#T_f5fbb_row10_col1 {\n",
              "  background-color: lightgreen;\n",
              "}\n",
              "</style>\n",
              "<table id=\"T_f5fbb\" class=\"dataframe\">\n",
              "  <thead>\n",
              "    <tr>\n",
              "      <th class=\"blank level0\" >&nbsp;</th>\n",
              "      <th id=\"T_f5fbb_level0_col0\" class=\"col_heading level0 col0\" >Description</th>\n",
              "      <th id=\"T_f5fbb_level0_col1\" class=\"col_heading level0 col1\" >Value</th>\n",
              "    </tr>\n",
              "  </thead>\n",
              "  <tbody>\n",
              "    <tr>\n",
              "      <th id=\"T_f5fbb_level0_row0\" class=\"row_heading level0 row0\" >0</th>\n",
              "      <td id=\"T_f5fbb_row0_col0\" class=\"data row0 col0\" >Session id</td>\n",
              "      <td id=\"T_f5fbb_row0_col1\" class=\"data row0 col1\" >123</td>\n",
              "    </tr>\n",
              "    <tr>\n",
              "      <th id=\"T_f5fbb_level0_row1\" class=\"row_heading level0 row1\" >1</th>\n",
              "      <td id=\"T_f5fbb_row1_col0\" class=\"data row1 col0\" >Target</td>\n",
              "      <td id=\"T_f5fbb_row1_col1\" class=\"data row1 col1\" >charges</td>\n",
              "    </tr>\n",
              "    <tr>\n",
              "      <th id=\"T_f5fbb_level0_row2\" class=\"row_heading level0 row2\" >2</th>\n",
              "      <td id=\"T_f5fbb_row2_col0\" class=\"data row2 col0\" >Target type</td>\n",
              "      <td id=\"T_f5fbb_row2_col1\" class=\"data row2 col1\" >Regression</td>\n",
              "    </tr>\n",
              "    <tr>\n",
              "      <th id=\"T_f5fbb_level0_row3\" class=\"row_heading level0 row3\" >3</th>\n",
              "      <td id=\"T_f5fbb_row3_col0\" class=\"data row3 col0\" >Original data shape</td>\n",
              "      <td id=\"T_f5fbb_row3_col1\" class=\"data row3 col1\" >(1338, 7)</td>\n",
              "    </tr>\n",
              "    <tr>\n",
              "      <th id=\"T_f5fbb_level0_row4\" class=\"row_heading level0 row4\" >4</th>\n",
              "      <td id=\"T_f5fbb_row4_col0\" class=\"data row4 col0\" >Transformed data shape</td>\n",
              "      <td id=\"T_f5fbb_row4_col1\" class=\"data row4 col1\" >(1338, 10)</td>\n",
              "    </tr>\n",
              "    <tr>\n",
              "      <th id=\"T_f5fbb_level0_row5\" class=\"row_heading level0 row5\" >5</th>\n",
              "      <td id=\"T_f5fbb_row5_col0\" class=\"data row5 col0\" >Transformed train set shape</td>\n",
              "      <td id=\"T_f5fbb_row5_col1\" class=\"data row5 col1\" >(936, 10)</td>\n",
              "    </tr>\n",
              "    <tr>\n",
              "      <th id=\"T_f5fbb_level0_row6\" class=\"row_heading level0 row6\" >6</th>\n",
              "      <td id=\"T_f5fbb_row6_col0\" class=\"data row6 col0\" >Transformed test set shape</td>\n",
              "      <td id=\"T_f5fbb_row6_col1\" class=\"data row6 col1\" >(402, 10)</td>\n",
              "    </tr>\n",
              "    <tr>\n",
              "      <th id=\"T_f5fbb_level0_row7\" class=\"row_heading level0 row7\" >7</th>\n",
              "      <td id=\"T_f5fbb_row7_col0\" class=\"data row7 col0\" >Ordinal features</td>\n",
              "      <td id=\"T_f5fbb_row7_col1\" class=\"data row7 col1\" >2</td>\n",
              "    </tr>\n",
              "    <tr>\n",
              "      <th id=\"T_f5fbb_level0_row8\" class=\"row_heading level0 row8\" >8</th>\n",
              "      <td id=\"T_f5fbb_row8_col0\" class=\"data row8 col0\" >Numeric features</td>\n",
              "      <td id=\"T_f5fbb_row8_col1\" class=\"data row8 col1\" >3</td>\n",
              "    </tr>\n",
              "    <tr>\n",
              "      <th id=\"T_f5fbb_level0_row9\" class=\"row_heading level0 row9\" >9</th>\n",
              "      <td id=\"T_f5fbb_row9_col0\" class=\"data row9 col0\" >Categorical features</td>\n",
              "      <td id=\"T_f5fbb_row9_col1\" class=\"data row9 col1\" >3</td>\n",
              "    </tr>\n",
              "    <tr>\n",
              "      <th id=\"T_f5fbb_level0_row10\" class=\"row_heading level0 row10\" >10</th>\n",
              "      <td id=\"T_f5fbb_row10_col0\" class=\"data row10 col0\" >Preprocess</td>\n",
              "      <td id=\"T_f5fbb_row10_col1\" class=\"data row10 col1\" >True</td>\n",
              "    </tr>\n",
              "    <tr>\n",
              "      <th id=\"T_f5fbb_level0_row11\" class=\"row_heading level0 row11\" >11</th>\n",
              "      <td id=\"T_f5fbb_row11_col0\" class=\"data row11 col0\" >Imputation type</td>\n",
              "      <td id=\"T_f5fbb_row11_col1\" class=\"data row11 col1\" >simple</td>\n",
              "    </tr>\n",
              "    <tr>\n",
              "      <th id=\"T_f5fbb_level0_row12\" class=\"row_heading level0 row12\" >12</th>\n",
              "      <td id=\"T_f5fbb_row12_col0\" class=\"data row12 col0\" >Numeric imputation</td>\n",
              "      <td id=\"T_f5fbb_row12_col1\" class=\"data row12 col1\" >mean</td>\n",
              "    </tr>\n",
              "    <tr>\n",
              "      <th id=\"T_f5fbb_level0_row13\" class=\"row_heading level0 row13\" >13</th>\n",
              "      <td id=\"T_f5fbb_row13_col0\" class=\"data row13 col0\" >Categorical imputation</td>\n",
              "      <td id=\"T_f5fbb_row13_col1\" class=\"data row13 col1\" >mode</td>\n",
              "    </tr>\n",
              "    <tr>\n",
              "      <th id=\"T_f5fbb_level0_row14\" class=\"row_heading level0 row14\" >14</th>\n",
              "      <td id=\"T_f5fbb_row14_col0\" class=\"data row14 col0\" >Maximum one-hot encoding</td>\n",
              "      <td id=\"T_f5fbb_row14_col1\" class=\"data row14 col1\" >25</td>\n",
              "    </tr>\n",
              "    <tr>\n",
              "      <th id=\"T_f5fbb_level0_row15\" class=\"row_heading level0 row15\" >15</th>\n",
              "      <td id=\"T_f5fbb_row15_col0\" class=\"data row15 col0\" >Encoding method</td>\n",
              "      <td id=\"T_f5fbb_row15_col1\" class=\"data row15 col1\" >None</td>\n",
              "    </tr>\n",
              "    <tr>\n",
              "      <th id=\"T_f5fbb_level0_row16\" class=\"row_heading level0 row16\" >16</th>\n",
              "      <td id=\"T_f5fbb_row16_col0\" class=\"data row16 col0\" >Fold Generator</td>\n",
              "      <td id=\"T_f5fbb_row16_col1\" class=\"data row16 col1\" >KFold</td>\n",
              "    </tr>\n",
              "    <tr>\n",
              "      <th id=\"T_f5fbb_level0_row17\" class=\"row_heading level0 row17\" >17</th>\n",
              "      <td id=\"T_f5fbb_row17_col0\" class=\"data row17 col0\" >Fold Number</td>\n",
              "      <td id=\"T_f5fbb_row17_col1\" class=\"data row17 col1\" >10</td>\n",
              "    </tr>\n",
              "    <tr>\n",
              "      <th id=\"T_f5fbb_level0_row18\" class=\"row_heading level0 row18\" >18</th>\n",
              "      <td id=\"T_f5fbb_row18_col0\" class=\"data row18 col0\" >CPU Jobs</td>\n",
              "      <td id=\"T_f5fbb_row18_col1\" class=\"data row18 col1\" >-1</td>\n",
              "    </tr>\n",
              "    <tr>\n",
              "      <th id=\"T_f5fbb_level0_row19\" class=\"row_heading level0 row19\" >19</th>\n",
              "      <td id=\"T_f5fbb_row19_col0\" class=\"data row19 col0\" >Use GPU</td>\n",
              "      <td id=\"T_f5fbb_row19_col1\" class=\"data row19 col1\" >False</td>\n",
              "    </tr>\n",
              "    <tr>\n",
              "      <th id=\"T_f5fbb_level0_row20\" class=\"row_heading level0 row20\" >20</th>\n",
              "      <td id=\"T_f5fbb_row20_col0\" class=\"data row20 col0\" >Log Experiment</td>\n",
              "      <td id=\"T_f5fbb_row20_col1\" class=\"data row20 col1\" >False</td>\n",
              "    </tr>\n",
              "    <tr>\n",
              "      <th id=\"T_f5fbb_level0_row21\" class=\"row_heading level0 row21\" >21</th>\n",
              "      <td id=\"T_f5fbb_row21_col0\" class=\"data row21 col0\" >Experiment Name</td>\n",
              "      <td id=\"T_f5fbb_row21_col1\" class=\"data row21 col1\" >reg-default-name</td>\n",
              "    </tr>\n",
              "    <tr>\n",
              "      <th id=\"T_f5fbb_level0_row22\" class=\"row_heading level0 row22\" >22</th>\n",
              "      <td id=\"T_f5fbb_row22_col0\" class=\"data row22 col0\" >USI</td>\n",
              "      <td id=\"T_f5fbb_row22_col1\" class=\"data row22 col1\" >cab4</td>\n",
              "    </tr>\n",
              "  </tbody>\n",
              "</table>\n"
            ]
          },
          "metadata": {}
        }
      ]
    },
    {
      "cell_type": "code",
      "source": [
        "get_config('pipeline')"
      ],
      "metadata": {
        "colab": {
          "base_uri": "https://localhost:8080/",
          "height": 474
        },
        "id": "CVfOQPlFYp6X",
        "outputId": "5d38514c-aa2c-4f26-af13-efb48d141e5c"
      },
      "execution_count": 8,
      "outputs": [
        {
          "output_type": "execute_result",
          "data": {
            "text/plain": [
              "Pipeline(memory=FastMemory(location=/tmp/joblib),\n",
              "         steps=[('numerical_imputer',\n",
              "                 TransformerWrapper(include=['age', 'bmi', 'children'],\n",
              "                                    transformer=SimpleImputer())),\n",
              "                ('categorical_imputer',\n",
              "                 TransformerWrapper(include=['sex', 'smoker', 'region'],\n",
              "                                    transformer=SimpleImputer(strategy='most_frequent'))),\n",
              "                ('ordinal_encoding',\n",
              "                 TransformerWrapper(include=['sex', 'smoker...\n",
              "                                                                     'smoker'],\n",
              "                                                               handle_missing='return_nan',\n",
              "                                                               mapping=[{'col': 'sex',\n",
              "                                                                         'data_type': dtype('O'),\n",
              "                                                                         'mapping': female    0\n",
              "male      1\n",
              "NaN      -1\n",
              "dtype: int64},\n",
              "                                                                        {'col': 'smoker',\n",
              "                                                                         'data_type': dtype('O'),\n",
              "                                                                         'mapping': no     0\n",
              "yes    1\n",
              "NaN   -1\n",
              "dtype: int64}]))),\n",
              "                ('onehot_encoding',\n",
              "                 TransformerWrapper(include=['region'],\n",
              "                                    transformer=OneHotEncoder(cols=['region'],\n",
              "                                                              handle_missing='return_nan',\n",
              "                                                              use_cat_names=True)))])"
            ],
            "text/html": [
              "<style>#sk-container-id-1 {color: black;background-color: white;}#sk-container-id-1 pre{padding: 0;}#sk-container-id-1 div.sk-toggleable {background-color: white;}#sk-container-id-1 label.sk-toggleable__label {cursor: pointer;display: block;width: 100%;margin-bottom: 0;padding: 0.3em;box-sizing: border-box;text-align: center;}#sk-container-id-1 label.sk-toggleable__label-arrow:before {content: \"▸\";float: left;margin-right: 0.25em;color: #696969;}#sk-container-id-1 label.sk-toggleable__label-arrow:hover:before {color: black;}#sk-container-id-1 div.sk-estimator:hover label.sk-toggleable__label-arrow:before {color: black;}#sk-container-id-1 div.sk-toggleable__content {max-height: 0;max-width: 0;overflow: hidden;text-align: left;background-color: #f0f8ff;}#sk-container-id-1 div.sk-toggleable__content pre {margin: 0.2em;color: black;border-radius: 0.25em;background-color: #f0f8ff;}#sk-container-id-1 input.sk-toggleable__control:checked~div.sk-toggleable__content {max-height: 200px;max-width: 100%;overflow: auto;}#sk-container-id-1 input.sk-toggleable__control:checked~label.sk-toggleable__label-arrow:before {content: \"▾\";}#sk-container-id-1 div.sk-estimator input.sk-toggleable__control:checked~label.sk-toggleable__label {background-color: #d4ebff;}#sk-container-id-1 div.sk-label input.sk-toggleable__control:checked~label.sk-toggleable__label {background-color: #d4ebff;}#sk-container-id-1 input.sk-hidden--visually {border: 0;clip: rect(1px 1px 1px 1px);clip: rect(1px, 1px, 1px, 1px);height: 1px;margin: -1px;overflow: hidden;padding: 0;position: absolute;width: 1px;}#sk-container-id-1 div.sk-estimator {font-family: monospace;background-color: #f0f8ff;border: 1px dotted black;border-radius: 0.25em;box-sizing: border-box;margin-bottom: 0.5em;}#sk-container-id-1 div.sk-estimator:hover {background-color: #d4ebff;}#sk-container-id-1 div.sk-parallel-item::after {content: \"\";width: 100%;border-bottom: 1px solid gray;flex-grow: 1;}#sk-container-id-1 div.sk-label:hover label.sk-toggleable__label {background-color: #d4ebff;}#sk-container-id-1 div.sk-serial::before {content: \"\";position: absolute;border-left: 1px solid gray;box-sizing: border-box;top: 0;bottom: 0;left: 50%;z-index: 0;}#sk-container-id-1 div.sk-serial {display: flex;flex-direction: column;align-items: center;background-color: white;padding-right: 0.2em;padding-left: 0.2em;position: relative;}#sk-container-id-1 div.sk-item {position: relative;z-index: 1;}#sk-container-id-1 div.sk-parallel {display: flex;align-items: stretch;justify-content: center;background-color: white;position: relative;}#sk-container-id-1 div.sk-item::before, #sk-container-id-1 div.sk-parallel-item::before {content: \"\";position: absolute;border-left: 1px solid gray;box-sizing: border-box;top: 0;bottom: 0;left: 50%;z-index: -1;}#sk-container-id-1 div.sk-parallel-item {display: flex;flex-direction: column;z-index: 1;position: relative;background-color: white;}#sk-container-id-1 div.sk-parallel-item:first-child::after {align-self: flex-end;width: 50%;}#sk-container-id-1 div.sk-parallel-item:last-child::after {align-self: flex-start;width: 50%;}#sk-container-id-1 div.sk-parallel-item:only-child::after {width: 0;}#sk-container-id-1 div.sk-dashed-wrapped {border: 1px dashed gray;margin: 0 0.4em 0.5em 0.4em;box-sizing: border-box;padding-bottom: 0.4em;background-color: white;}#sk-container-id-1 div.sk-label label {font-family: monospace;font-weight: bold;display: inline-block;line-height: 1.2em;}#sk-container-id-1 div.sk-label-container {text-align: center;}#sk-container-id-1 div.sk-container {/* jupyter's `normalize.less` sets `[hidden] { display: none; }` but bootstrap.min.css set `[hidden] { display: none !important; }` so we also need the `!important` here to be able to override the default hidden behavior on the sphinx rendered scikit-learn.org. See: https://github.com/scikit-learn/scikit-learn/issues/21755 */display: inline-block !important;position: relative;}#sk-container-id-1 div.sk-text-repr-fallback {display: none;}</style><div id=\"sk-container-id-1\" class=\"sk-top-container\"><div class=\"sk-text-repr-fallback\"><pre>Pipeline(memory=FastMemory(location=/tmp/joblib),\n",
              "         steps=[(&#x27;numerical_imputer&#x27;,\n",
              "                 TransformerWrapper(include=[&#x27;age&#x27;, &#x27;bmi&#x27;, &#x27;children&#x27;],\n",
              "                                    transformer=SimpleImputer())),\n",
              "                (&#x27;categorical_imputer&#x27;,\n",
              "                 TransformerWrapper(include=[&#x27;sex&#x27;, &#x27;smoker&#x27;, &#x27;region&#x27;],\n",
              "                                    transformer=SimpleImputer(strategy=&#x27;most_frequent&#x27;))),\n",
              "                (&#x27;ordinal_encoding&#x27;,\n",
              "                 TransformerWrapper(include=[&#x27;sex&#x27;, &#x27;smoker...\n",
              "                                                                     &#x27;smoker&#x27;],\n",
              "                                                               handle_missing=&#x27;return_nan&#x27;,\n",
              "                                                               mapping=[{&#x27;col&#x27;: &#x27;sex&#x27;,\n",
              "                                                                         &#x27;data_type&#x27;: dtype(&#x27;O&#x27;),\n",
              "                                                                         &#x27;mapping&#x27;: female    0\n",
              "male      1\n",
              "NaN      -1\n",
              "dtype: int64},\n",
              "                                                                        {&#x27;col&#x27;: &#x27;smoker&#x27;,\n",
              "                                                                         &#x27;data_type&#x27;: dtype(&#x27;O&#x27;),\n",
              "                                                                         &#x27;mapping&#x27;: no     0\n",
              "yes    1\n",
              "NaN   -1\n",
              "dtype: int64}]))),\n",
              "                (&#x27;onehot_encoding&#x27;,\n",
              "                 TransformerWrapper(include=[&#x27;region&#x27;],\n",
              "                                    transformer=OneHotEncoder(cols=[&#x27;region&#x27;],\n",
              "                                                              handle_missing=&#x27;return_nan&#x27;,\n",
              "                                                              use_cat_names=True)))])</pre><b>In a Jupyter environment, please rerun this cell to show the HTML representation or trust the notebook. <br />On GitHub, the HTML representation is unable to render, please try loading this page with nbviewer.org.</b></div><div class=\"sk-container\" hidden><div class=\"sk-item sk-dashed-wrapped\"><div class=\"sk-label-container\"><div class=\"sk-label sk-toggleable\"><input class=\"sk-toggleable__control sk-hidden--visually\" id=\"sk-estimator-id-1\" type=\"checkbox\" ><label for=\"sk-estimator-id-1\" class=\"sk-toggleable__label sk-toggleable__label-arrow\">Pipeline</label><div class=\"sk-toggleable__content\"><pre>Pipeline(memory=FastMemory(location=/tmp/joblib),\n",
              "         steps=[(&#x27;numerical_imputer&#x27;,\n",
              "                 TransformerWrapper(include=[&#x27;age&#x27;, &#x27;bmi&#x27;, &#x27;children&#x27;],\n",
              "                                    transformer=SimpleImputer())),\n",
              "                (&#x27;categorical_imputer&#x27;,\n",
              "                 TransformerWrapper(include=[&#x27;sex&#x27;, &#x27;smoker&#x27;, &#x27;region&#x27;],\n",
              "                                    transformer=SimpleImputer(strategy=&#x27;most_frequent&#x27;))),\n",
              "                (&#x27;ordinal_encoding&#x27;,\n",
              "                 TransformerWrapper(include=[&#x27;sex&#x27;, &#x27;smoker...\n",
              "                                                                     &#x27;smoker&#x27;],\n",
              "                                                               handle_missing=&#x27;return_nan&#x27;,\n",
              "                                                               mapping=[{&#x27;col&#x27;: &#x27;sex&#x27;,\n",
              "                                                                         &#x27;data_type&#x27;: dtype(&#x27;O&#x27;),\n",
              "                                                                         &#x27;mapping&#x27;: female    0\n",
              "male      1\n",
              "NaN      -1\n",
              "dtype: int64},\n",
              "                                                                        {&#x27;col&#x27;: &#x27;smoker&#x27;,\n",
              "                                                                         &#x27;data_type&#x27;: dtype(&#x27;O&#x27;),\n",
              "                                                                         &#x27;mapping&#x27;: no     0\n",
              "yes    1\n",
              "NaN   -1\n",
              "dtype: int64}]))),\n",
              "                (&#x27;onehot_encoding&#x27;,\n",
              "                 TransformerWrapper(include=[&#x27;region&#x27;],\n",
              "                                    transformer=OneHotEncoder(cols=[&#x27;region&#x27;],\n",
              "                                                              handle_missing=&#x27;return_nan&#x27;,\n",
              "                                                              use_cat_names=True)))])</pre></div></div></div><div class=\"sk-serial\"><div class=\"sk-item sk-dashed-wrapped\"><div class=\"sk-label-container\"><div class=\"sk-label sk-toggleable\"><input class=\"sk-toggleable__control sk-hidden--visually\" id=\"sk-estimator-id-2\" type=\"checkbox\" ><label for=\"sk-estimator-id-2\" class=\"sk-toggleable__label sk-toggleable__label-arrow\">numerical_imputer: TransformerWrapper</label><div class=\"sk-toggleable__content\"><pre>TransformerWrapper(include=[&#x27;age&#x27;, &#x27;bmi&#x27;, &#x27;children&#x27;],\n",
              "                   transformer=SimpleImputer())</pre></div></div></div><div class=\"sk-parallel\"><div class=\"sk-parallel-item\"><div class=\"sk-item\"><div class=\"sk-label-container\"><div class=\"sk-label sk-toggleable\"><input class=\"sk-toggleable__control sk-hidden--visually\" id=\"sk-estimator-id-3\" type=\"checkbox\" ><label for=\"sk-estimator-id-3\" class=\"sk-toggleable__label sk-toggleable__label-arrow\">transformer: SimpleImputer</label><div class=\"sk-toggleable__content\"><pre>SimpleImputer()</pre></div></div></div><div class=\"sk-serial\"><div class=\"sk-item\"><div class=\"sk-estimator sk-toggleable\"><input class=\"sk-toggleable__control sk-hidden--visually\" id=\"sk-estimator-id-4\" type=\"checkbox\" ><label for=\"sk-estimator-id-4\" class=\"sk-toggleable__label sk-toggleable__label-arrow\">SimpleImputer</label><div class=\"sk-toggleable__content\"><pre>SimpleImputer()</pre></div></div></div></div></div></div></div></div><div class=\"sk-item sk-dashed-wrapped\"><div class=\"sk-label-container\"><div class=\"sk-label sk-toggleable\"><input class=\"sk-toggleable__control sk-hidden--visually\" id=\"sk-estimator-id-5\" type=\"checkbox\" ><label for=\"sk-estimator-id-5\" class=\"sk-toggleable__label sk-toggleable__label-arrow\">categorical_imputer: TransformerWrapper</label><div class=\"sk-toggleable__content\"><pre>TransformerWrapper(include=[&#x27;sex&#x27;, &#x27;smoker&#x27;, &#x27;region&#x27;],\n",
              "                   transformer=SimpleImputer(strategy=&#x27;most_frequent&#x27;))</pre></div></div></div><div class=\"sk-parallel\"><div class=\"sk-parallel-item\"><div class=\"sk-item\"><div class=\"sk-label-container\"><div class=\"sk-label sk-toggleable\"><input class=\"sk-toggleable__control sk-hidden--visually\" id=\"sk-estimator-id-6\" type=\"checkbox\" ><label for=\"sk-estimator-id-6\" class=\"sk-toggleable__label sk-toggleable__label-arrow\">transformer: SimpleImputer</label><div class=\"sk-toggleable__content\"><pre>SimpleImputer(strategy=&#x27;most_frequent&#x27;)</pre></div></div></div><div class=\"sk-serial\"><div class=\"sk-item\"><div class=\"sk-estimator sk-toggleable\"><input class=\"sk-toggleable__control sk-hidden--visually\" id=\"sk-estimator-id-7\" type=\"checkbox\" ><label for=\"sk-estimator-id-7\" class=\"sk-toggleable__label sk-toggleable__label-arrow\">SimpleImputer</label><div class=\"sk-toggleable__content\"><pre>SimpleImputer(strategy=&#x27;most_frequent&#x27;)</pre></div></div></div></div></div></div></div></div><div class=\"sk-item sk-dashed-wrapped\"><div class=\"sk-label-container\"><div class=\"sk-label sk-toggleable\"><input class=\"sk-toggleable__control sk-hidden--visually\" id=\"sk-estimator-id-8\" type=\"checkbox\" ><label for=\"sk-estimator-id-8\" class=\"sk-toggleable__label sk-toggleable__label-arrow\">ordinal_encoding: TransformerWrapper</label><div class=\"sk-toggleable__content\"><pre>TransformerWrapper(include=[&#x27;sex&#x27;, &#x27;smoker&#x27;],\n",
              "                   transformer=OrdinalEncoder(cols=[&#x27;sex&#x27;, &#x27;smoker&#x27;],\n",
              "                                              handle_missing=&#x27;return_nan&#x27;,\n",
              "                                              mapping=[{&#x27;col&#x27;: &#x27;sex&#x27;,\n",
              "                                                        &#x27;data_type&#x27;: dtype(&#x27;O&#x27;),\n",
              "                                                        &#x27;mapping&#x27;: female    0\n",
              "male      1\n",
              "NaN      -1\n",
              "dtype: int64},\n",
              "                                                       {&#x27;col&#x27;: &#x27;smoker&#x27;,\n",
              "                                                        &#x27;data_type&#x27;: dtype(&#x27;O&#x27;),\n",
              "                                                        &#x27;mapping&#x27;: no     0\n",
              "yes    1\n",
              "NaN   -1\n",
              "dtype: int64}]))</pre></div></div></div><div class=\"sk-parallel\"><div class=\"sk-parallel-item\"><div class=\"sk-item\"><div class=\"sk-label-container\"><div class=\"sk-label sk-toggleable\"><input class=\"sk-toggleable__control sk-hidden--visually\" id=\"sk-estimator-id-9\" type=\"checkbox\" ><label for=\"sk-estimator-id-9\" class=\"sk-toggleable__label sk-toggleable__label-arrow\">transformer: OrdinalEncoder</label><div class=\"sk-toggleable__content\"><pre>OrdinalEncoder(cols=[&#x27;sex&#x27;, &#x27;smoker&#x27;], handle_missing=&#x27;return_nan&#x27;,\n",
              "               mapping=[{&#x27;col&#x27;: &#x27;sex&#x27;, &#x27;data_type&#x27;: dtype(&#x27;O&#x27;),\n",
              "                         &#x27;mapping&#x27;: female    0\n",
              "male      1\n",
              "NaN      -1\n",
              "dtype: int64},\n",
              "                        {&#x27;col&#x27;: &#x27;smoker&#x27;, &#x27;data_type&#x27;: dtype(&#x27;O&#x27;),\n",
              "                         &#x27;mapping&#x27;: no     0\n",
              "yes    1\n",
              "NaN   -1\n",
              "dtype: int64}])</pre></div></div></div><div class=\"sk-serial\"><div class=\"sk-item\"><div class=\"sk-estimator sk-toggleable\"><input class=\"sk-toggleable__control sk-hidden--visually\" id=\"sk-estimator-id-10\" type=\"checkbox\" ><label for=\"sk-estimator-id-10\" class=\"sk-toggleable__label sk-toggleable__label-arrow\">OrdinalEncoder</label><div class=\"sk-toggleable__content\"><pre>OrdinalEncoder(cols=[&#x27;sex&#x27;, &#x27;smoker&#x27;], handle_missing=&#x27;return_nan&#x27;,\n",
              "               mapping=[{&#x27;col&#x27;: &#x27;sex&#x27;, &#x27;data_type&#x27;: dtype(&#x27;O&#x27;),\n",
              "                         &#x27;mapping&#x27;: female    0\n",
              "male      1\n",
              "NaN      -1\n",
              "dtype: int64},\n",
              "                        {&#x27;col&#x27;: &#x27;smoker&#x27;, &#x27;data_type&#x27;: dtype(&#x27;O&#x27;),\n",
              "                         &#x27;mapping&#x27;: no     0\n",
              "yes    1\n",
              "NaN   -1\n",
              "dtype: int64}])</pre></div></div></div></div></div></div></div></div><div class=\"sk-item sk-dashed-wrapped\"><div class=\"sk-label-container\"><div class=\"sk-label sk-toggleable\"><input class=\"sk-toggleable__control sk-hidden--visually\" id=\"sk-estimator-id-11\" type=\"checkbox\" ><label for=\"sk-estimator-id-11\" class=\"sk-toggleable__label sk-toggleable__label-arrow\">onehot_encoding: TransformerWrapper</label><div class=\"sk-toggleable__content\"><pre>TransformerWrapper(include=[&#x27;region&#x27;],\n",
              "                   transformer=OneHotEncoder(cols=[&#x27;region&#x27;],\n",
              "                                             handle_missing=&#x27;return_nan&#x27;,\n",
              "                                             use_cat_names=True))</pre></div></div></div><div class=\"sk-parallel\"><div class=\"sk-parallel-item\"><div class=\"sk-item\"><div class=\"sk-label-container\"><div class=\"sk-label sk-toggleable\"><input class=\"sk-toggleable__control sk-hidden--visually\" id=\"sk-estimator-id-12\" type=\"checkbox\" ><label for=\"sk-estimator-id-12\" class=\"sk-toggleable__label sk-toggleable__label-arrow\">transformer: OneHotEncoder</label><div class=\"sk-toggleable__content\"><pre>OneHotEncoder(cols=[&#x27;region&#x27;], handle_missing=&#x27;return_nan&#x27;, use_cat_names=True)</pre></div></div></div><div class=\"sk-serial\"><div class=\"sk-item\"><div class=\"sk-estimator sk-toggleable\"><input class=\"sk-toggleable__control sk-hidden--visually\" id=\"sk-estimator-id-13\" type=\"checkbox\" ><label for=\"sk-estimator-id-13\" class=\"sk-toggleable__label sk-toggleable__label-arrow\">OneHotEncoder</label><div class=\"sk-toggleable__content\"><pre>OneHotEncoder(cols=[&#x27;region&#x27;], handle_missing=&#x27;return_nan&#x27;, use_cat_names=True)</pre></div></div></div></div></div></div></div></div></div></div></div></div>"
            ]
          },
          "metadata": {},
          "execution_count": 8
        }
      ]
    },
    {
      "cell_type": "markdown",
      "source": [
        "# **<font color=\"DeepPink\">02 - Create Model</font>**\n",
        "\n",
        "<h5 align=\"center\"><b>\n",
        "<font color=\"DeepPink\">\n",
        "<b><mark>Setup</mark> ▶ <mark>Create Model</mark> ▶ Analyze Model ▶ Prediction ▶ Save Model\n"
      ],
      "metadata": {
        "id": "OUYqaDqtYv3t"
      }
    },
    {
      "cell_type": "markdown",
      "source": [
        "<p align=\"justify\">\n",
        "Esta función entrena y evalúa el rendimiento de un estimador determinado mediante validación cruzada. El resultado de esta función es una cuadrícula de puntuación con puntuaciones."
      ],
      "metadata": {
        "id": "8zBGM7upY3Sg"
      }
    },
    {
      "cell_type": "code",
      "source": [
        "remove_metric(\"mse\")\n",
        "remove_metric(\"rmsle\")\n",
        "remove_metric(\"mape\")"
      ],
      "metadata": {
        "id": "CuLcgR30ZKv5"
      },
      "execution_count": 9,
      "outputs": []
    },
    {
      "cell_type": "code",
      "source": [
        "model = create_model(\"dt\")"
      ],
      "metadata": {
        "colab": {
          "base_uri": "https://localhost:8080/",
          "height": 466,
          "referenced_widgets": [
            "4d2e688cc6d14577874cff53628412ab",
            "8b73fcbd91b247e79cb7923e7f291a62",
            "df8a0c06a7484676b3382820eded143a",
            "3c25a78d9e474be5864cbe0beab7ac15",
            "188f0de88e004a47b1b06e93e6656c36",
            "daacb332d5a84485bcbcbfb3b8b8bc3e",
            "effc9bc8189c4540aecd3d0beb1b4563",
            "8187ca1802c947e296cc6995da52834c",
            "68e556c9b22e474295127db398e30ab5",
            "395c8326a3c04b2f8a93372087073303",
            "b4f2a7c87fa048ff837cc76920e215a0"
          ]
        },
        "id": "ohPVVkxIZEWF",
        "outputId": "482494dd-5e8d-4091-b525-98b543640ade"
      },
      "execution_count": 10,
      "outputs": [
        {
          "output_type": "display_data",
          "data": {
            "text/plain": [
              "<IPython.core.display.HTML object>"
            ],
            "text/html": []
          },
          "metadata": {}
        },
        {
          "output_type": "display_data",
          "data": {
            "text/plain": [
              "<pandas.io.formats.style.Styler at 0x785ef985e260>"
            ],
            "text/html": [
              "<style type=\"text/css\">\n",
              "#T_6a734_row10_col0, #T_6a734_row10_col1, #T_6a734_row10_col2 {\n",
              "  background: yellow;\n",
              "}\n",
              "</style>\n",
              "<table id=\"T_6a734\" class=\"dataframe\">\n",
              "  <thead>\n",
              "    <tr>\n",
              "      <th class=\"blank level0\" >&nbsp;</th>\n",
              "      <th id=\"T_6a734_level0_col0\" class=\"col_heading level0 col0\" >MAE</th>\n",
              "      <th id=\"T_6a734_level0_col1\" class=\"col_heading level0 col1\" >RMSE</th>\n",
              "      <th id=\"T_6a734_level0_col2\" class=\"col_heading level0 col2\" >R2</th>\n",
              "    </tr>\n",
              "    <tr>\n",
              "      <th class=\"index_name level0\" >Fold</th>\n",
              "      <th class=\"blank col0\" >&nbsp;</th>\n",
              "      <th class=\"blank col1\" >&nbsp;</th>\n",
              "      <th class=\"blank col2\" >&nbsp;</th>\n",
              "    </tr>\n",
              "  </thead>\n",
              "  <tbody>\n",
              "    <tr>\n",
              "      <th id=\"T_6a734_level0_row0\" class=\"row_heading level0 row0\" >0</th>\n",
              "      <td id=\"T_6a734_row0_col0\" class=\"data row0 col0\" >3244.6173</td>\n",
              "      <td id=\"T_6a734_row0_col1\" class=\"data row0 col1\" >6708.4212</td>\n",
              "      <td id=\"T_6a734_row0_col2\" class=\"data row0 col2\" >0.7312</td>\n",
              "    </tr>\n",
              "    <tr>\n",
              "      <th id=\"T_6a734_level0_row1\" class=\"row_heading level0 row1\" >1</th>\n",
              "      <td id=\"T_6a734_row1_col0\" class=\"data row1 col0\" >3121.3069</td>\n",
              "      <td id=\"T_6a734_row1_col1\" class=\"data row1 col1\" >6742.1612</td>\n",
              "      <td id=\"T_6a734_row1_col2\" class=\"data row1 col2\" >0.7357</td>\n",
              "    </tr>\n",
              "    <tr>\n",
              "      <th id=\"T_6a734_level0_row2\" class=\"row_heading level0 row2\" >2</th>\n",
              "      <td id=\"T_6a734_row2_col0\" class=\"data row2 col0\" >3646.2662</td>\n",
              "      <td id=\"T_6a734_row2_col1\" class=\"data row2 col1\" >7378.7318</td>\n",
              "      <td id=\"T_6a734_row2_col2\" class=\"data row2 col2\" >0.3107</td>\n",
              "    </tr>\n",
              "    <tr>\n",
              "      <th id=\"T_6a734_level0_row3\" class=\"row_heading level0 row3\" >3</th>\n",
              "      <td id=\"T_6a734_row3_col0\" class=\"data row3 col0\" >3228.2250</td>\n",
              "      <td id=\"T_6a734_row3_col1\" class=\"data row3 col1\" >6673.5668</td>\n",
              "      <td id=\"T_6a734_row3_col2\" class=\"data row3 col2\" >0.6281</td>\n",
              "    </tr>\n",
              "    <tr>\n",
              "      <th id=\"T_6a734_level0_row4\" class=\"row_heading level0 row4\" >4</th>\n",
              "      <td id=\"T_6a734_row4_col0\" class=\"data row4 col0\" >4344.7470</td>\n",
              "      <td id=\"T_6a734_row4_col1\" class=\"data row4 col1\" >8078.4546</td>\n",
              "      <td id=\"T_6a734_row4_col2\" class=\"data row4 col2\" >0.5146</td>\n",
              "    </tr>\n",
              "    <tr>\n",
              "      <th id=\"T_6a734_level0_row5\" class=\"row_heading level0 row5\" >5</th>\n",
              "      <td id=\"T_6a734_row5_col0\" class=\"data row5 col0\" >3497.9281</td>\n",
              "      <td id=\"T_6a734_row5_col1\" class=\"data row5 col1\" >6556.2885</td>\n",
              "      <td id=\"T_6a734_row5_col2\" class=\"data row5 col2\" >0.7235</td>\n",
              "    </tr>\n",
              "    <tr>\n",
              "      <th id=\"T_6a734_level0_row6\" class=\"row_heading level0 row6\" >6</th>\n",
              "      <td id=\"T_6a734_row6_col0\" class=\"data row6 col0\" >3464.9372</td>\n",
              "      <td id=\"T_6a734_row6_col1\" class=\"data row6 col1\" >7192.8383</td>\n",
              "      <td id=\"T_6a734_row6_col2\" class=\"data row6 col2\" >0.6480</td>\n",
              "    </tr>\n",
              "    <tr>\n",
              "      <th id=\"T_6a734_level0_row7\" class=\"row_heading level0 row7\" >7</th>\n",
              "      <td id=\"T_6a734_row7_col0\" class=\"data row7 col0\" >2804.7111</td>\n",
              "      <td id=\"T_6a734_row7_col1\" class=\"data row7 col1\" >6120.6084</td>\n",
              "      <td id=\"T_6a734_row7_col2\" class=\"data row7 col2\" >0.7940</td>\n",
              "    </tr>\n",
              "    <tr>\n",
              "      <th id=\"T_6a734_level0_row8\" class=\"row_heading level0 row8\" >8</th>\n",
              "      <td id=\"T_6a734_row8_col0\" class=\"data row8 col0\" >3080.1801</td>\n",
              "      <td id=\"T_6a734_row8_col1\" class=\"data row8 col1\" >6488.6124</td>\n",
              "      <td id=\"T_6a734_row8_col2\" class=\"data row8 col2\" >0.7281</td>\n",
              "    </tr>\n",
              "    <tr>\n",
              "      <th id=\"T_6a734_level0_row9\" class=\"row_heading level0 row9\" >9</th>\n",
              "      <td id=\"T_6a734_row9_col0\" class=\"data row9 col0\" >3401.9976</td>\n",
              "      <td id=\"T_6a734_row9_col1\" class=\"data row9 col1\" >7017.3323</td>\n",
              "      <td id=\"T_6a734_row9_col2\" class=\"data row9 col2\" >0.6828</td>\n",
              "    </tr>\n",
              "    <tr>\n",
              "      <th id=\"T_6a734_level0_row10\" class=\"row_heading level0 row10\" >Mean</th>\n",
              "      <td id=\"T_6a734_row10_col0\" class=\"data row10 col0\" >3383.4916</td>\n",
              "      <td id=\"T_6a734_row10_col1\" class=\"data row10 col1\" >6895.7016</td>\n",
              "      <td id=\"T_6a734_row10_col2\" class=\"data row10 col2\" >0.6497</td>\n",
              "    </tr>\n",
              "    <tr>\n",
              "      <th id=\"T_6a734_level0_row11\" class=\"row_heading level0 row11\" >Std</th>\n",
              "      <td id=\"T_6a734_row11_col0\" class=\"data row11 col0\" >393.9865</td>\n",
              "      <td id=\"T_6a734_row11_col1\" class=\"data row11 col1\" >522.0146</td>\n",
              "      <td id=\"T_6a734_row11_col2\" class=\"data row11 col2\" >0.1346</td>\n",
              "    </tr>\n",
              "  </tbody>\n",
              "</table>\n"
            ]
          },
          "metadata": {}
        },
        {
          "output_type": "display_data",
          "data": {
            "text/plain": [
              "Processing:   0%|          | 0/4 [00:00<?, ?it/s]"
            ],
            "application/vnd.jupyter.widget-view+json": {
              "version_major": 2,
              "version_minor": 0,
              "model_id": "4d2e688cc6d14577874cff53628412ab"
            }
          },
          "metadata": {
            "application/vnd.jupyter.widget-view+json": {
              "colab": {
                "custom_widget_manager": {
                  "url": "https://ssl.gstatic.com/colaboratory-static/widgets/colab-cdn-widget-manager/b3e629b1971e1542/manager.min.js"
                }
              }
            }
          }
        },
        {
          "output_type": "display_data",
          "data": {
            "text/plain": [
              "<IPython.core.display.HTML object>"
            ],
            "text/html": []
          },
          "metadata": {}
        }
      ]
    },
    {
      "cell_type": "markdown",
      "source": [
        " ## **<font color=\"DeepPink\">Metricas</font>**"
      ],
      "metadata": {
        "id": "ESaVEIrOZu_k"
      }
    },
    {
      "cell_type": "markdown",
      "source": [
        " ### **<font color=\"DeepPink\">MAE</font>**"
      ],
      "metadata": {
        "id": "lmaPyjoWZ0rp"
      }
    },
    {
      "cell_type": "markdown",
      "source": [
        "<p align = \"justify\">\n",
        "<b>MAE</b> (Error Absoluto Medio, por sus siglas en inglés) es una métrica utilizada para evaluar el rendimiento de un modelo de regresión. Representa el promedio de las diferencias absolutas entre las predicciones del modelo y los valores reales de los datos de prueba.\n",
        "<br><br>\n",
        "Para calcular MAE, primero se deben hacer predicciones con el modelo sobre un conjunto de datos de prueba y luego se resta el valor real de cada dato de prueba a su correspondiente predicción para obtener la diferencia absoluta. Después, se toma el promedio de todas estas diferencias absolutas para obtener MAE.\n",
        "<br><br>\n",
        "La fórmula para calcular MAE es la siguiente:\n",
        "<br><br>\n",
        "MAE $= \\frac{1}{n} \\sum_{i=1}^{n} |y_{i} - \\hat{y_{i}}|$\n",
        "<br><br>\n",
        "Donde:\n",
        "<br><br>\n",
        "<ul align = \"justify\">\n",
        "<li> \\( n \\) es el número de muestras en el conjunto de datos de prueba.</li><br>\n",
        "<li> \\( y_{i} \\) es el valor real del dato \\( i \\) en el conjunto de datos de prueba.</li><br>\n",
        "<li> \\( \\hat{y_{i}} \\) es la predicción del modelo para el dato \\( i \\) en el conjunto de datos de prueba.</li><br>\n",
        "<li> \\( |x| \\) representa el valor absoluto de \\( x \\).</li><br>\n",
        "</ul>\n",
        "<p align=\"justify\">\n",
        "<b>MAE</b> es una medida de la magnitud promedio de los errores de predicción del modelo, independientemente de la dirección de los errores (es decir, no toma en cuenta si el modelo subestima o sobreestima los valores).\n",
        "<br><br>\n",
        "Un MAE más bajo indica un mejor rendimiento del modelo, ya que significa que las predicciones están más cercanas a los valores reales en promedio."
      ],
      "metadata": {
        "id": "mwseEankZ2xQ"
      }
    },
    {
      "cell_type": "markdown",
      "source": [
        " ### **<font color=\"DeepPink\">RMSE</font>**"
      ],
      "metadata": {
        "id": "D4mk6vf2e8Ze"
      }
    },
    {
      "cell_type": "markdown",
      "source": [
        "<p align=\"justify\">\n",
        "<b>RMSE</b> (Root Mean Squared Error, por sus siglas en inglés) es otra métrica comúnmente utilizada para evaluar el rendimiento de un modelo de regresión. Al igual que el MAE, el RMSE mide la precisión del modelo al comparar las predicciones con los valores reales de los datos de prueba.\n",
        "<br><br>\n",
        "Sin embargo, a diferencia del MAE, el RMSE penaliza de manera más significativa los errores grandes.\n",
        "<br><br>\n",
        "El RMSE se calcula de la siguiente manera:\n",
        "<br><br>\n",
        "RMSE = $\\sqrt{\\frac{1}{n} \\sum_{i=1}^{n} (y_{i} - \\hat{y_{i}})^{2}}$\n",
        "<br><br>\n",
        "Donde:\n",
        "<br><br>\n",
        "<ul align=\"justify\">\n",
        "<li> \\( n \\) es el número de muestras en el conjunto de datos de prueba.</li><br>\n",
        "<li> \\( y_{i} \\) es el valor real del dato \\( i \\) en el conjunto de datos de prueba.</li><br>\n",
        "<li> \\( \\hat{y_{i}} \\) es la predicción del modelo para el dato \\( i \\) en el conjunto de datos de prueba.</li><br>\n",
        "</ul>\n",
        "<p align=\"justify\">\n",
        "RMSE toma la raíz cuadrada del promedio de los errores al cuadrado. Al elevar los errores al cuadrado, los errores más grandes se vuelven más prominentes y afectan más la métrica, lo que penaliza fuertemente las predicciones que están lejos de los valores reales.\n",
        "<br><br>\n",
        "Una vez más, al igual que con el MAE, un RMSE más bajo indica un mejor rendimiento del modelo, ya que significa que las predicciones están más cercanas a los valores reales en promedio.\n",
        "<br><br>\n",
        "El RMSE es especialmente útil cuando se quiere tener en cuenta la magnitud de los errores y se quiere penalizar más fuertemente las predicciones inexactas."
      ],
      "metadata": {
        "id": "1lFfAiTdfAqj"
      }
    },
    {
      "cell_type": "markdown",
      "source": [
        " ### **<font color=\"DeepPink\">$R^2$</font>**"
      ],
      "metadata": {
        "id": "GsQFn7S6gStp"
      }
    },
    {
      "cell_type": "markdown",
      "source": [
        "<p align=\"justify\">\n",
        "El coeficiente de determinación, comúnmente conocido como <b>$R^2$</b> (pronunciado \"R cuadrado\"), es una métrica utilizada para evaluar la calidad de ajuste de un modelo de regresión.\n",
        "<br><br>\n",
        "Mientras que el MAE y el RMSE miden la magnitud de los errores absolutos, el $R^2$ proporciona una medida de cuánta variabilidad de la variable dependiente (la variable a predecir) es explicada por el modelo.\n",
        "<br><br>\n",
        "El $R^2$ varía entre 0 y 1, y puede ser interpretado como el porcentaje de la variabilidad de la variable dependiente que es explicada por el modelo en comparación con la variabilidad total presente en los datos.\n",
        "<br><br>\n",
        "La fórmula para calcular el $R^2$ es la siguiente:\n",
        "<br><br>\n",
        "$R^2 = 1 - \\frac{SS_{res}}{SS_{tot}}$\n",
        "<br><br>\n",
        "Donde:\n",
        "<br><br>\n",
        "<ul align=\"justify\">\n",
        "<li>\\( SS_{res} \\) es la suma de los cuadrados de los residuos (diferencia entre los valores reales y las predicciones del modelo).</li><br>\n",
        "<li> \\( SS_{tot} \\) es la suma total de los cuadrados de la diferencia entre los valores reales y la media de la variable dependiente.</li><br>\n",
        "</ul>\n",
        "<p align=\"justify\">\n",
        "El $R^2$ puede tomar los siguientes valores:\n",
        "<br><br>\n",
        "<ul align=\"justify\">\n",
        "<li> $R^2 = 1$: El modelo ajusta perfectamente los datos, explicando el $100$% de la variabilidad de la variable dependiente.</li><br>\n",
        "<li> $R^2 = 0$: El modelo no ofrece ninguna mejora en comparación con simplemente usar la media de la variable dependiente para hacer predicciones.</li><br>\n",
        "<li> $R^2 < 0$: El modelo se ajusta tan mal que su rendimiento es peor que simplemente usar la media como predicción.</li><br>\n",
        "</ul>\n",
        "<p align=\"justify\">\n",
        "Es importante tener en cuenta que un alto $R^2$ no garantiza que el modelo sea válido o que esté libre de problemas.\n",
        "<br><br>\n",
        "El $R^2$ solo proporciona información sobre cómo el modelo se ajusta a los datos, pero no dice nada sobre la causalidad o la validez de las relaciones entre variables. Por lo tanto, es fundamental complementar la evaluación con otras técnicas y análisis para asegurar la robustez y relevancia del modelo."
      ],
      "metadata": {
        "id": "MwPTm-dwgZcy"
      }
    },
    {
      "cell_type": "markdown",
      "source": [
        " ## **<font color=\"DeepPink\">Modelo</font>**"
      ],
      "metadata": {
        "id": "iTppwTZ0j2cW"
      }
    },
    {
      "cell_type": "markdown",
      "source": [
        "👀 Podemos ver los hiperparámetros del mejor modelo..."
      ],
      "metadata": {
        "id": "gjZkn3Euj6Ck"
      }
    },
    {
      "cell_type": "code",
      "source": [
        "model"
      ],
      "metadata": {
        "colab": {
          "base_uri": "https://localhost:8080/",
          "height": 93
        },
        "id": "firbAZxej-2c",
        "outputId": "2e9a2e83-bb0a-449b-8f93-98b29dbc3ffd"
      },
      "execution_count": 11,
      "outputs": [
        {
          "output_type": "execute_result",
          "data": {
            "text/plain": [
              "DecisionTreeRegressor(random_state=123)"
            ],
            "text/html": [
              "<style>#sk-container-id-2 {color: black;background-color: white;}#sk-container-id-2 pre{padding: 0;}#sk-container-id-2 div.sk-toggleable {background-color: white;}#sk-container-id-2 label.sk-toggleable__label {cursor: pointer;display: block;width: 100%;margin-bottom: 0;padding: 0.3em;box-sizing: border-box;text-align: center;}#sk-container-id-2 label.sk-toggleable__label-arrow:before {content: \"▸\";float: left;margin-right: 0.25em;color: #696969;}#sk-container-id-2 label.sk-toggleable__label-arrow:hover:before {color: black;}#sk-container-id-2 div.sk-estimator:hover label.sk-toggleable__label-arrow:before {color: black;}#sk-container-id-2 div.sk-toggleable__content {max-height: 0;max-width: 0;overflow: hidden;text-align: left;background-color: #f0f8ff;}#sk-container-id-2 div.sk-toggleable__content pre {margin: 0.2em;color: black;border-radius: 0.25em;background-color: #f0f8ff;}#sk-container-id-2 input.sk-toggleable__control:checked~div.sk-toggleable__content {max-height: 200px;max-width: 100%;overflow: auto;}#sk-container-id-2 input.sk-toggleable__control:checked~label.sk-toggleable__label-arrow:before {content: \"▾\";}#sk-container-id-2 div.sk-estimator input.sk-toggleable__control:checked~label.sk-toggleable__label {background-color: #d4ebff;}#sk-container-id-2 div.sk-label input.sk-toggleable__control:checked~label.sk-toggleable__label {background-color: #d4ebff;}#sk-container-id-2 input.sk-hidden--visually {border: 0;clip: rect(1px 1px 1px 1px);clip: rect(1px, 1px, 1px, 1px);height: 1px;margin: -1px;overflow: hidden;padding: 0;position: absolute;width: 1px;}#sk-container-id-2 div.sk-estimator {font-family: monospace;background-color: #f0f8ff;border: 1px dotted black;border-radius: 0.25em;box-sizing: border-box;margin-bottom: 0.5em;}#sk-container-id-2 div.sk-estimator:hover {background-color: #d4ebff;}#sk-container-id-2 div.sk-parallel-item::after {content: \"\";width: 100%;border-bottom: 1px solid gray;flex-grow: 1;}#sk-container-id-2 div.sk-label:hover label.sk-toggleable__label {background-color: #d4ebff;}#sk-container-id-2 div.sk-serial::before {content: \"\";position: absolute;border-left: 1px solid gray;box-sizing: border-box;top: 0;bottom: 0;left: 50%;z-index: 0;}#sk-container-id-2 div.sk-serial {display: flex;flex-direction: column;align-items: center;background-color: white;padding-right: 0.2em;padding-left: 0.2em;position: relative;}#sk-container-id-2 div.sk-item {position: relative;z-index: 1;}#sk-container-id-2 div.sk-parallel {display: flex;align-items: stretch;justify-content: center;background-color: white;position: relative;}#sk-container-id-2 div.sk-item::before, #sk-container-id-2 div.sk-parallel-item::before {content: \"\";position: absolute;border-left: 1px solid gray;box-sizing: border-box;top: 0;bottom: 0;left: 50%;z-index: -1;}#sk-container-id-2 div.sk-parallel-item {display: flex;flex-direction: column;z-index: 1;position: relative;background-color: white;}#sk-container-id-2 div.sk-parallel-item:first-child::after {align-self: flex-end;width: 50%;}#sk-container-id-2 div.sk-parallel-item:last-child::after {align-self: flex-start;width: 50%;}#sk-container-id-2 div.sk-parallel-item:only-child::after {width: 0;}#sk-container-id-2 div.sk-dashed-wrapped {border: 1px dashed gray;margin: 0 0.4em 0.5em 0.4em;box-sizing: border-box;padding-bottom: 0.4em;background-color: white;}#sk-container-id-2 div.sk-label label {font-family: monospace;font-weight: bold;display: inline-block;line-height: 1.2em;}#sk-container-id-2 div.sk-label-container {text-align: center;}#sk-container-id-2 div.sk-container {/* jupyter's `normalize.less` sets `[hidden] { display: none; }` but bootstrap.min.css set `[hidden] { display: none !important; }` so we also need the `!important` here to be able to override the default hidden behavior on the sphinx rendered scikit-learn.org. See: https://github.com/scikit-learn/scikit-learn/issues/21755 */display: inline-block !important;position: relative;}#sk-container-id-2 div.sk-text-repr-fallback {display: none;}</style><div id=\"sk-container-id-2\" class=\"sk-top-container\"><div class=\"sk-text-repr-fallback\"><pre>DecisionTreeRegressor(random_state=123)</pre><b>In a Jupyter environment, please rerun this cell to show the HTML representation or trust the notebook. <br />On GitHub, the HTML representation is unable to render, please try loading this page with nbviewer.org.</b></div><div class=\"sk-container\" hidden><div class=\"sk-item\"><div class=\"sk-estimator sk-toggleable\"><input class=\"sk-toggleable__control sk-hidden--visually\" id=\"sk-estimator-id-14\" type=\"checkbox\" checked><label for=\"sk-estimator-id-14\" class=\"sk-toggleable__label sk-toggleable__label-arrow\">DecisionTreeRegressor</label><div class=\"sk-toggleable__content\"><pre>DecisionTreeRegressor(random_state=123)</pre></div></div></div></div></div>"
            ]
          },
          "metadata": {},
          "execution_count": 11
        }
      ]
    },
    {
      "cell_type": "markdown",
      "source": [
        " ## **<font color=\"DeepPink\">Optimizando Modelo</font>**"
      ],
      "metadata": {
        "id": "XNb-04sJvYOR"
      }
    },
    {
      "cell_type": "markdown",
      "source": [
        "👀 Podemos optimizar los hiperparámetros del modelo..."
      ],
      "metadata": {
        "id": "sp-Sh_cXvdOi"
      }
    },
    {
      "cell_type": "code",
      "source": [
        "tuned_dt = tune_model(model)"
      ],
      "metadata": {
        "colab": {
          "base_uri": "https://localhost:8080/",
          "height": 482,
          "referenced_widgets": [
            "f7d45749afe447788e871f791ee756af",
            "12022bfe52f34b21ba52f4d2360d29a7",
            "34b4d89672694f1ea070145afcec0bc6",
            "de4d9af078554bcc8d8461173ea91c07",
            "fe63025600bc42a7ba6b63ab4e9b538b",
            "b246f54ca06f4ac7822c4fbb19e05321",
            "74a60c86cc7b4660bea5833b71b7c6e2",
            "2d3d12334d9b47f8a99bd8bba4b80c4a",
            "9f40f39f4b1f4c0b9f751e10a114e768",
            "655609466b054a62be97a07bc881abaf",
            "ffc17d9c7ea547609e5d01d03b40c06d"
          ]
        },
        "id": "7RoYVZPwvhd3",
        "outputId": "ed7f30a2-e26f-4635-a482-a13faa34faec"
      },
      "execution_count": 14,
      "outputs": [
        {
          "output_type": "display_data",
          "data": {
            "text/plain": [
              "<IPython.core.display.HTML object>"
            ],
            "text/html": []
          },
          "metadata": {}
        },
        {
          "output_type": "display_data",
          "data": {
            "text/plain": [
              "<pandas.io.formats.style.Styler at 0x785efb0377c0>"
            ],
            "text/html": [
              "<style type=\"text/css\">\n",
              "#T_00ee4_row10_col0, #T_00ee4_row10_col1, #T_00ee4_row10_col2 {\n",
              "  background: yellow;\n",
              "}\n",
              "</style>\n",
              "<table id=\"T_00ee4\" class=\"dataframe\">\n",
              "  <thead>\n",
              "    <tr>\n",
              "      <th class=\"blank level0\" >&nbsp;</th>\n",
              "      <th id=\"T_00ee4_level0_col0\" class=\"col_heading level0 col0\" >MAE</th>\n",
              "      <th id=\"T_00ee4_level0_col1\" class=\"col_heading level0 col1\" >RMSE</th>\n",
              "      <th id=\"T_00ee4_level0_col2\" class=\"col_heading level0 col2\" >R2</th>\n",
              "    </tr>\n",
              "    <tr>\n",
              "      <th class=\"index_name level0\" >Fold</th>\n",
              "      <th class=\"blank col0\" >&nbsp;</th>\n",
              "      <th class=\"blank col1\" >&nbsp;</th>\n",
              "      <th class=\"blank col2\" >&nbsp;</th>\n",
              "    </tr>\n",
              "  </thead>\n",
              "  <tbody>\n",
              "    <tr>\n",
              "      <th id=\"T_00ee4_level0_row0\" class=\"row_heading level0 row0\" >0</th>\n",
              "      <td id=\"T_00ee4_row0_col0\" class=\"data row0 col0\" >1745.0008</td>\n",
              "      <td id=\"T_00ee4_row0_col1\" class=\"data row0 col1\" >4251.3082</td>\n",
              "      <td id=\"T_00ee4_row0_col2\" class=\"data row0 col2\" >0.8920</td>\n",
              "    </tr>\n",
              "    <tr>\n",
              "      <th id=\"T_00ee4_level0_row1\" class=\"row_heading level0 row1\" >1</th>\n",
              "      <td id=\"T_00ee4_row1_col0\" class=\"data row1 col0\" >2380.2671</td>\n",
              "      <td id=\"T_00ee4_row1_col1\" class=\"data row1 col1\" >5828.3186</td>\n",
              "      <td id=\"T_00ee4_row1_col2\" class=\"data row1 col2\" >0.8025</td>\n",
              "    </tr>\n",
              "    <tr>\n",
              "      <th id=\"T_00ee4_level0_row2\" class=\"row_heading level0 row2\" >2</th>\n",
              "      <td id=\"T_00ee4_row2_col0\" class=\"data row2 col0\" >2005.5481</td>\n",
              "      <td id=\"T_00ee4_row2_col1\" class=\"data row2 col1\" >4845.3628</td>\n",
              "      <td id=\"T_00ee4_row2_col2\" class=\"data row2 col2\" >0.7027</td>\n",
              "    </tr>\n",
              "    <tr>\n",
              "      <th id=\"T_00ee4_level0_row3\" class=\"row_heading level0 row3\" >3</th>\n",
              "      <td id=\"T_00ee4_row3_col0\" class=\"data row3 col0\" >1986.9419</td>\n",
              "      <td id=\"T_00ee4_row3_col1\" class=\"data row3 col1\" >4707.0989</td>\n",
              "      <td id=\"T_00ee4_row3_col2\" class=\"data row3 col2\" >0.8150</td>\n",
              "    </tr>\n",
              "    <tr>\n",
              "      <th id=\"T_00ee4_level0_row4\" class=\"row_heading level0 row4\" >4</th>\n",
              "      <td id=\"T_00ee4_row4_col0\" class=\"data row4 col0\" >2255.0797</td>\n",
              "      <td id=\"T_00ee4_row4_col1\" class=\"data row4 col1\" >5340.1453</td>\n",
              "      <td id=\"T_00ee4_row4_col2\" class=\"data row4 col2\" >0.7879</td>\n",
              "    </tr>\n",
              "    <tr>\n",
              "      <th id=\"T_00ee4_level0_row5\" class=\"row_heading level0 row5\" >5</th>\n",
              "      <td id=\"T_00ee4_row5_col0\" class=\"data row5 col0\" >1961.7810</td>\n",
              "      <td id=\"T_00ee4_row5_col1\" class=\"data row5 col1\" >4560.1440</td>\n",
              "      <td id=\"T_00ee4_row5_col2\" class=\"data row5 col2\" >0.8662</td>\n",
              "    </tr>\n",
              "    <tr>\n",
              "      <th id=\"T_00ee4_level0_row6\" class=\"row_heading level0 row6\" >6</th>\n",
              "      <td id=\"T_00ee4_row6_col0\" class=\"data row6 col0\" >1643.3779</td>\n",
              "      <td id=\"T_00ee4_row6_col1\" class=\"data row6 col1\" >4477.3181</td>\n",
              "      <td id=\"T_00ee4_row6_col2\" class=\"data row6 col2\" >0.8636</td>\n",
              "    </tr>\n",
              "    <tr>\n",
              "      <th id=\"T_00ee4_level0_row7\" class=\"row_heading level0 row7\" >7</th>\n",
              "      <td id=\"T_00ee4_row7_col0\" class=\"data row7 col0\" >2049.2066</td>\n",
              "      <td id=\"T_00ee4_row7_col1\" class=\"data row7 col1\" >5126.5868</td>\n",
              "      <td id=\"T_00ee4_row7_col2\" class=\"data row7 col2\" >0.8555</td>\n",
              "    </tr>\n",
              "    <tr>\n",
              "      <th id=\"T_00ee4_level0_row8\" class=\"row_heading level0 row8\" >8</th>\n",
              "      <td id=\"T_00ee4_row8_col0\" class=\"data row8 col0\" >1991.8599</td>\n",
              "      <td id=\"T_00ee4_row8_col1\" class=\"data row8 col1\" >4864.9428</td>\n",
              "      <td id=\"T_00ee4_row8_col2\" class=\"data row8 col2\" >0.8471</td>\n",
              "    </tr>\n",
              "    <tr>\n",
              "      <th id=\"T_00ee4_level0_row9\" class=\"row_heading level0 row9\" >9</th>\n",
              "      <td id=\"T_00ee4_row9_col0\" class=\"data row9 col0\" >2159.0994</td>\n",
              "      <td id=\"T_00ee4_row9_col1\" class=\"data row9 col1\" >5100.3050</td>\n",
              "      <td id=\"T_00ee4_row9_col2\" class=\"data row9 col2\" >0.8324</td>\n",
              "    </tr>\n",
              "    <tr>\n",
              "      <th id=\"T_00ee4_level0_row10\" class=\"row_heading level0 row10\" >Mean</th>\n",
              "      <td id=\"T_00ee4_row10_col0\" class=\"data row10 col0\" >2017.8162</td>\n",
              "      <td id=\"T_00ee4_row10_col1\" class=\"data row10 col1\" >4910.1530</td>\n",
              "      <td id=\"T_00ee4_row10_col2\" class=\"data row10 col2\" >0.8265</td>\n",
              "    </tr>\n",
              "    <tr>\n",
              "      <th id=\"T_00ee4_level0_row11\" class=\"row_heading level0 row11\" >Std</th>\n",
              "      <td id=\"T_00ee4_row11_col0\" class=\"data row11 col0\" >206.9204</td>\n",
              "      <td id=\"T_00ee4_row11_col1\" class=\"data row11 col1\" >436.1564</td>\n",
              "      <td id=\"T_00ee4_row11_col2\" class=\"data row11 col2\" >0.0511</td>\n",
              "    </tr>\n",
              "  </tbody>\n",
              "</table>\n"
            ]
          },
          "metadata": {}
        },
        {
          "output_type": "display_data",
          "data": {
            "text/plain": [
              "Processing:   0%|          | 0/7 [00:00<?, ?it/s]"
            ],
            "application/vnd.jupyter.widget-view+json": {
              "version_major": 2,
              "version_minor": 0,
              "model_id": "f7d45749afe447788e871f791ee756af"
            }
          },
          "metadata": {
            "application/vnd.jupyter.widget-view+json": {
              "colab": {
                "custom_widget_manager": {
                  "url": "https://ssl.gstatic.com/colaboratory-static/widgets/colab-cdn-widget-manager/b3e629b1971e1542/manager.min.js"
                }
              }
            }
          }
        },
        {
          "output_type": "stream",
          "name": "stdout",
          "text": [
            "Fitting 10 folds for each of 10 candidates, totalling 100 fits\n"
          ]
        },
        {
          "output_type": "display_data",
          "data": {
            "text/plain": [
              "<IPython.core.display.HTML object>"
            ],
            "text/html": []
          },
          "metadata": {}
        }
      ]
    },
    {
      "cell_type": "markdown",
      "source": [
        " ## **<font color=\"DeepPink\">Ensemble</font>**"
      ],
      "metadata": {
        "id": "6C1cH4euzp7J"
      }
    },
    {
      "cell_type": "markdown",
      "source": [
        "👀 Hacemos Ensemble con Bagging\n"
      ],
      "metadata": {
        "id": "niYsOOOwzx8z"
      }
    },
    {
      "cell_type": "code",
      "source": [
        "bagging_dt = ensemble_model(tuned_dt, method = 'Bagging')"
      ],
      "metadata": {
        "colab": {
          "base_uri": "https://localhost:8080/",
          "height": 466,
          "referenced_widgets": [
            "6c5e9ea6b0bd49d5a9e77bcd96630602",
            "aba655367a484780aa9fa8d0b8937d75",
            "0f8f8920ff1d4996b8027825371dc166",
            "781df31eb24d408ba09ac55c8e8e2f37",
            "746554bc0d894dccbe8153af5d05b3da",
            "4d46f31157af415dbd420246de901f06",
            "009c330533b248e0bb3e21d0c0b1b1ef",
            "39256cfb22014b9daf98e300e69a268c",
            "78a85ca905724a6f83d03f7ee10be51c",
            "9d54ef3b341f460db601492935cd7af3",
            "f3aa6ef744f24447a49e7e530f4d6c61"
          ]
        },
        "id": "ifCD2ExHz09D",
        "outputId": "319f38fa-f6b1-4e65-c2f0-c453133f2912"
      },
      "execution_count": 17,
      "outputs": [
        {
          "output_type": "display_data",
          "data": {
            "text/plain": [
              "<IPython.core.display.HTML object>"
            ],
            "text/html": []
          },
          "metadata": {}
        },
        {
          "output_type": "display_data",
          "data": {
            "text/plain": [
              "<pandas.io.formats.style.Styler at 0x785f38221720>"
            ],
            "text/html": [
              "<style type=\"text/css\">\n",
              "#T_36fdf_row10_col0, #T_36fdf_row10_col1, #T_36fdf_row10_col2 {\n",
              "  background: yellow;\n",
              "}\n",
              "</style>\n",
              "<table id=\"T_36fdf\" class=\"dataframe\">\n",
              "  <thead>\n",
              "    <tr>\n",
              "      <th class=\"blank level0\" >&nbsp;</th>\n",
              "      <th id=\"T_36fdf_level0_col0\" class=\"col_heading level0 col0\" >MAE</th>\n",
              "      <th id=\"T_36fdf_level0_col1\" class=\"col_heading level0 col1\" >RMSE</th>\n",
              "      <th id=\"T_36fdf_level0_col2\" class=\"col_heading level0 col2\" >R2</th>\n",
              "    </tr>\n",
              "    <tr>\n",
              "      <th class=\"index_name level0\" >Fold</th>\n",
              "      <th class=\"blank col0\" >&nbsp;</th>\n",
              "      <th class=\"blank col1\" >&nbsp;</th>\n",
              "      <th class=\"blank col2\" >&nbsp;</th>\n",
              "    </tr>\n",
              "  </thead>\n",
              "  <tbody>\n",
              "    <tr>\n",
              "      <th id=\"T_36fdf_level0_row0\" class=\"row_heading level0 row0\" >0</th>\n",
              "      <td id=\"T_36fdf_row0_col0\" class=\"data row0 col0\" >1819.2053</td>\n",
              "      <td id=\"T_36fdf_row0_col1\" class=\"data row0 col1\" >4374.8855</td>\n",
              "      <td id=\"T_36fdf_row0_col2\" class=\"data row0 col2\" >0.8857</td>\n",
              "    </tr>\n",
              "    <tr>\n",
              "      <th id=\"T_36fdf_level0_row1\" class=\"row_heading level0 row1\" >1</th>\n",
              "      <td id=\"T_36fdf_row1_col0\" class=\"data row1 col0\" >2313.2341</td>\n",
              "      <td id=\"T_36fdf_row1_col1\" class=\"data row1 col1\" >5602.7506</td>\n",
              "      <td id=\"T_36fdf_row1_col2\" class=\"data row1 col2\" >0.8175</td>\n",
              "    </tr>\n",
              "    <tr>\n",
              "      <th id=\"T_36fdf_level0_row2\" class=\"row_heading level0 row2\" >2</th>\n",
              "      <td id=\"T_36fdf_row2_col0\" class=\"data row2 col0\" >1873.1911</td>\n",
              "      <td id=\"T_36fdf_row2_col1\" class=\"data row2 col1\" >4474.1821</td>\n",
              "      <td id=\"T_36fdf_row2_col2\" class=\"data row2 col2\" >0.7465</td>\n",
              "    </tr>\n",
              "    <tr>\n",
              "      <th id=\"T_36fdf_level0_row3\" class=\"row_heading level0 row3\" >3</th>\n",
              "      <td id=\"T_36fdf_row3_col0\" class=\"data row3 col0\" >2088.0396</td>\n",
              "      <td id=\"T_36fdf_row3_col1\" class=\"data row3 col1\" >4660.4784</td>\n",
              "      <td id=\"T_36fdf_row3_col2\" class=\"data row3 col2\" >0.8186</td>\n",
              "    </tr>\n",
              "    <tr>\n",
              "      <th id=\"T_36fdf_level0_row4\" class=\"row_heading level0 row4\" >4</th>\n",
              "      <td id=\"T_36fdf_row4_col0\" class=\"data row4 col0\" >2166.1871</td>\n",
              "      <td id=\"T_36fdf_row4_col1\" class=\"data row4 col1\" >5101.1767</td>\n",
              "      <td id=\"T_36fdf_row4_col2\" class=\"data row4 col2\" >0.8065</td>\n",
              "    </tr>\n",
              "    <tr>\n",
              "      <th id=\"T_36fdf_level0_row5\" class=\"row_heading level0 row5\" >5</th>\n",
              "      <td id=\"T_36fdf_row5_col0\" class=\"data row5 col0\" >2108.7967</td>\n",
              "      <td id=\"T_36fdf_row5_col1\" class=\"data row5 col1\" >4356.4181</td>\n",
              "      <td id=\"T_36fdf_row5_col2\" class=\"data row5 col2\" >0.8779</td>\n",
              "    </tr>\n",
              "    <tr>\n",
              "      <th id=\"T_36fdf_level0_row6\" class=\"row_heading level0 row6\" >6</th>\n",
              "      <td id=\"T_36fdf_row6_col0\" class=\"data row6 col0\" >1653.9872</td>\n",
              "      <td id=\"T_36fdf_row6_col1\" class=\"data row6 col1\" >4230.3904</td>\n",
              "      <td id=\"T_36fdf_row6_col2\" class=\"data row6 col2\" >0.8782</td>\n",
              "    </tr>\n",
              "    <tr>\n",
              "      <th id=\"T_36fdf_level0_row7\" class=\"row_heading level0 row7\" >7</th>\n",
              "      <td id=\"T_36fdf_row7_col0\" class=\"data row7 col0\" >2033.6384</td>\n",
              "      <td id=\"T_36fdf_row7_col1\" class=\"data row7 col1\" >5021.1107</td>\n",
              "      <td id=\"T_36fdf_row7_col2\" class=\"data row7 col2\" >0.8614</td>\n",
              "    </tr>\n",
              "    <tr>\n",
              "      <th id=\"T_36fdf_level0_row8\" class=\"row_heading level0 row8\" >8</th>\n",
              "      <td id=\"T_36fdf_row8_col0\" class=\"data row8 col0\" >2001.8731</td>\n",
              "      <td id=\"T_36fdf_row8_col1\" class=\"data row8 col1\" >4667.4181</td>\n",
              "      <td id=\"T_36fdf_row8_col2\" class=\"data row8 col2\" >0.8593</td>\n",
              "    </tr>\n",
              "    <tr>\n",
              "      <th id=\"T_36fdf_level0_row9\" class=\"row_heading level0 row9\" >9</th>\n",
              "      <td id=\"T_36fdf_row9_col0\" class=\"data row9 col0\" >2116.5225</td>\n",
              "      <td id=\"T_36fdf_row9_col1\" class=\"data row9 col1\" >5048.0780</td>\n",
              "      <td id=\"T_36fdf_row9_col2\" class=\"data row9 col2\" >0.8359</td>\n",
              "    </tr>\n",
              "    <tr>\n",
              "      <th id=\"T_36fdf_level0_row10\" class=\"row_heading level0 row10\" >Mean</th>\n",
              "      <td id=\"T_36fdf_row10_col0\" class=\"data row10 col0\" >2017.4675</td>\n",
              "      <td id=\"T_36fdf_row10_col1\" class=\"data row10 col1\" >4753.6889</td>\n",
              "      <td id=\"T_36fdf_row10_col2\" class=\"data row10 col2\" >0.8387</td>\n",
              "    </tr>\n",
              "    <tr>\n",
              "      <th id=\"T_36fdf_level0_row11\" class=\"row_heading level0 row11\" >Std</th>\n",
              "      <td id=\"T_36fdf_row11_col0\" class=\"data row11 col0\" >180.4092</td>\n",
              "      <td id=\"T_36fdf_row11_col1\" class=\"data row11 col1\" >408.5640</td>\n",
              "      <td id=\"T_36fdf_row11_col2\" class=\"data row11 col2\" >0.0408</td>\n",
              "    </tr>\n",
              "  </tbody>\n",
              "</table>\n"
            ]
          },
          "metadata": {}
        },
        {
          "output_type": "display_data",
          "data": {
            "text/plain": [
              "Processing:   0%|          | 0/6 [00:00<?, ?it/s]"
            ],
            "application/vnd.jupyter.widget-view+json": {
              "version_major": 2,
              "version_minor": 0,
              "model_id": "6c5e9ea6b0bd49d5a9e77bcd96630602"
            }
          },
          "metadata": {
            "application/vnd.jupyter.widget-view+json": {
              "colab": {
                "custom_widget_manager": {
                  "url": "https://ssl.gstatic.com/colaboratory-static/widgets/colab-cdn-widget-manager/b3e629b1971e1542/manager.min.js"
                }
              }
            }
          }
        },
        {
          "output_type": "display_data",
          "data": {
            "text/plain": [
              "<IPython.core.display.HTML object>"
            ],
            "text/html": []
          },
          "metadata": {}
        }
      ]
    },
    {
      "cell_type": "markdown",
      "source": [
        "# **<font color=\"DeepPink\">03 - Analyze Model</font>**\n",
        "\n",
        "<h5 align=\"center\"><b>\n",
        "<font color=\"DeepPink\">\n",
        "<b><mark>Setup</mark> ▶ <mark>Create Model</mark> ▶ <mark>Analyze Model</mark> ▶ Prediction ▶ Save Model\n",
        "\n"
      ],
      "metadata": {
        "id": "Wf2xKCq7kUxP"
      }
    },
    {
      "cell_type": "markdown",
      "source": [
        "<p align=\"justify\">\n",
        "Puede usar la función <code>plot_model</code> para analizar el rendimiento de un modelo entrenado en el conjunto de prueba. Tambien se puede requerir volver a entrenar el modelo en determinados casos."
      ],
      "metadata": {
        "id": "ZfAC5EK3kZQB"
      }
    },
    {
      "cell_type": "markdown",
      "source": [
        " ## **<font color=\"DeepPink\">Residuos</font>**"
      ],
      "metadata": {
        "id": "iNEc1Pzwkaev"
      }
    },
    {
      "cell_type": "markdown",
      "source": [
        "<p align=\"justify\">\n",
        "En el contexto de modelos de regresión, los residuos son las diferencias entre los valores reales de la variable dependiente y las predicciones realizadas por el modelo. En otras palabras, los residuos son el error entre lo que el modelo predice y lo que realmente ocurre en los datos de prueba.\n",
        "<br><br>\n",
        "Matemáticamente, el residuo de una observación $i$ se calcula restando el valor real $y_{i}$ de la variable dependiente al valor predicho $\\hat{y_{i}}$ por el modelo para esa misma observación:\n",
        "<br><br>\n",
        "$$ \\text{Residuo}_{i} = y_{i} - \\hat{y_{i}}$$\n",
        "<br>\n",
        "<p align=\"justify\">\n",
        "Esperamos que los residuos tengan una distribución alrededor de cero, lo que significa que el modelo ha ajustado bien los datos y que las predicciones están lo más cercanas posible a los valores reales.\n",
        "<br><br>\n",
        "Sin embargo, en la práctica, los residuos no siempre serán cero, ya que los modelos de regresión generalmente no pueden ajustarse perfectamente a todos los datos.\n",
        "<br><br>\n",
        "El análisis de los residuos es una parte importante de la validación del modelo. Algunas de las cosas que podemos hacer con los residuos son:\n",
        "<br><br>\n",
        "<ol align=\"justify\">\n",
        "<li><b>Comprobar la normalidad</b>: Un buen modelo de regresión debe tener residuos que sigan una distribución normal. Si los residuos muestran una desviación significativa de la normalidad, puede indicar que el modelo no está capturando completamente la estructura subyacente de los datos.</li>\n",
        "<br>\n",
        "<li><b>Identificar patrones no lineales</b>: Si los residuos muestran algún patrón sistemático, como una forma de U o una relación curvilínea con las variables independientes, esto puede indicar que el modelo no está capturando correctamente relaciones no lineales en los datos.</li>\n",
        "<br>\n",
        "<li><b>Verificar la homocedasticidad</b>: La homocedasticidad significa que los residuos tienen una varianza constante en todas las observaciones. Si los residuos tienen una varianza que cambia con el nivel de la variable dependiente, puede indicar una falta de homocedasticidad, lo que afecta la precisión y fiabilidad del modelo.</li>\n",
        "<br>\n",
        "<li><b>Detectar valores atípicos</b>: Los residuos también pueden ayudarnos a identificar valores atípicos o datos inusuales que pueden tener un impacto significativo en el modelo.</li></ol>\n",
        "<p align=\"justify\">\n",
        "👀 En general, un análisis detallado de los residuos es esencial para entender cómo bien se ajusta el modelo a los datos y si existen problemas o áreas de mejora en el mismo."
      ],
      "metadata": {
        "id": "GgpRqd2nk5-2"
      }
    },
    {
      "cell_type": "code",
      "source": [
        "plot_model(model, plot = 'residuals', scale=0.7)"
      ],
      "metadata": {
        "colab": {
          "base_uri": "https://localhost:8080/",
          "height": 393
        },
        "id": "32tZ04NckgMq",
        "outputId": "5aa002d2-f4a4-4e88-8cde-f7d787c6267a"
      },
      "execution_count": null,
      "outputs": [
        {
          "output_type": "display_data",
          "data": {
            "text/plain": [
              "<IPython.core.display.HTML object>"
            ],
            "text/html": []
          },
          "metadata": {}
        },
        {
          "output_type": "display_data",
          "data": {
            "text/plain": [
              "<Figure size 560x385 with 2 Axes>"
            ],
            "image/png": "[encoded data removed]"
          },
          "metadata": {}
        }
      ]
    },
    {
      "cell_type": "code",
      "source": [
        "plot_model(tuned_dt, plot = 'residuals', scale=0.7)"
      ],
      "metadata": {
        "colab": {
          "base_uri": "https://localhost:8080/",
          "height": 393
        },
        "id": "swQI-Thxv5iZ",
        "outputId": "effe58e5-49a5-461a-aac7-3e23a33a880f"
      },
      "execution_count": null,
      "outputs": [
        {
          "output_type": "display_data",
          "data": {
            "text/plain": [
              "<IPython.core.display.HTML object>"
            ],
            "text/html": []
          },
          "metadata": {}
        },
        {
          "output_type": "display_data",
          "data": {
            "text/plain": [
              "<Figure size 560x385 with 2 Axes>"
            ],
            "image/png": "[encoded data removed]"
          },
          "metadata": {}
        }
      ]
    },
    {
      "cell_type": "code",
      "source": [
        "plot_model(bagging_dt, plot = 'residuals', scale=0.7)"
      ],
      "metadata": {
        "colab": {
          "base_uri": "https://localhost:8080/",
          "height": 393
        },
        "id": "3FOWOduZ0ifl",
        "outputId": "b2c2ca0a-8547-4b0c-f4e1-17c5a1981a81"
      },
      "execution_count": 18,
      "outputs": [
        {
          "output_type": "display_data",
          "data": {
            "text/plain": [
              "<IPython.core.display.HTML object>"
            ],
            "text/html": []
          },
          "metadata": {}
        },
        {
          "output_type": "display_data",
          "data": {
            "text/plain": [
              "<Figure size 560x385 with 2 Axes>"
            ],
            "image/png": "[encoded data removed]"
          },
          "metadata": {}
        }
      ]
    },
    {
      "cell_type": "markdown",
      "source": [
        " ## **<font color=\"DeepPink\">Error</font>**"
      ],
      "metadata": {
        "id": "sNrTTj6no3z6"
      }
    },
    {
      "cell_type": "markdown",
      "source": [
        "<p align=\"justify\">\n",
        "<b>Error</b> en el contexto de modelos y estadísticas, se refiere a la discrepancia entre un valor observado y el valor esperado o predicho por un modelo o estimación. Es una medida de cuánto el modelo o estimación difiere de la realidad o los datos reales.\n",
        "<br><br>\n",
        "En un modelo de regresión, el error se refiere a la diferencia entre el valor real de la variable dependiente y el valor predicho por el modelo. Estos errores son lo que llamamos \"residuos\". En este contexto, el error indica cuánto se desvían las predicciones del modelo de los valores reales en el conjunto de datos de prueba.\n",
        "<br><br>\n",
        "En otros contextos, como en el cálculo de estimaciones o pronósticos, el error puede referirse a la diferencia entre el valor estimado o pronosticado y el valor real observado. En este caso, el error puede ser positivo (si la estimación es mayor que el valor real) o negativo (si la estimación es menor que el valor real).\n",
        "<br><br>\n",
        "El error es una parte esencial del proceso de modelado y estimación, ya que nos permite evaluar la precisión y calidad de nuestros modelos o estimaciones. Un objetivo clave al construir modelos es minimizar el error y obtener predicciones o estimaciones lo más precisas posible para los datos o situaciones en cuestión."
      ],
      "metadata": {
        "id": "wxmH8A21oyaE"
      }
    },
    {
      "cell_type": "code",
      "source": [
        "plot_model(model, plot = 'error', scale=0.9)"
      ],
      "metadata": {
        "colab": {
          "base_uri": "https://localhost:8080/",
          "height": 496
        },
        "id": "5UAuS6R7oIAi",
        "outputId": "9cdaceb5-cf87-41a9-b0ff-b5aec71016e7"
      },
      "execution_count": null,
      "outputs": [
        {
          "output_type": "display_data",
          "data": {
            "text/plain": [
              "<IPython.core.display.HTML object>"
            ],
            "text/html": []
          },
          "metadata": {}
        },
        {
          "output_type": "display_data",
          "data": {
            "text/plain": [
              "<Figure size 720x495 with 1 Axes>"
            ],
            "image/png": "[encoded data removed]"
          },
          "metadata": {}
        }
      ]
    },
    {
      "cell_type": "code",
      "source": [
        "plot_model(tuned_dt, plot = 'error', scale=0.9)"
      ],
      "metadata": {
        "colab": {
          "base_uri": "https://localhost:8080/",
          "height": 496
        },
        "id": "ut0gXl8uwJ1W",
        "outputId": "f76ec926-cd74-4d41-c966-1c7d31207311"
      },
      "execution_count": null,
      "outputs": [
        {
          "output_type": "display_data",
          "data": {
            "text/plain": [
              "<IPython.core.display.HTML object>"
            ],
            "text/html": []
          },
          "metadata": {}
        },
        {
          "output_type": "display_data",
          "data": {
            "text/plain": [
              "<Figure size 720x495 with 1 Axes>"
            ],
            "image/png": "[encoded data removed]"
          },
          "metadata": {}
        }
      ]
    },
    {
      "cell_type": "code",
      "source": [
        "plot_model(bagging_dt, plot = 'error', scale=0.9)"
      ],
      "metadata": {
        "colab": {
          "base_uri": "https://localhost:8080/",
          "height": 496
        },
        "id": "dROcGqDp0qtJ",
        "outputId": "97af9e82-cd3f-4e48-8adb-9c32878a7293"
      },
      "execution_count": 19,
      "outputs": [
        {
          "output_type": "display_data",
          "data": {
            "text/plain": [
              "<IPython.core.display.HTML object>"
            ],
            "text/html": []
          },
          "metadata": {}
        },
        {
          "output_type": "display_data",
          "data": {
            "text/plain": [
              "<Figure size 720x495 with 1 Axes>"
            ],
            "image/png": "[encoded data removed]"
          },
          "metadata": {}
        }
      ]
    },
    {
      "cell_type": "markdown",
      "source": [
        " ## **<font color=\"DeepPink\">Importancia de Variables</font>**"
      ],
      "metadata": {
        "id": "t522oG5Tpd5E"
      }
    },
    {
      "cell_type": "markdown",
      "source": [
        "<p align=\"justify\">\n",
        "La \"Feature Importance\" o importancia de variables o caracteristicas, es un concepto utilizado en el contexto del aprendizaje automático (machine learning) y, en particular, en modelos de clasificación o regresión. Se refiere a una técnica que permite determinar la contribución relativa de cada característica o variable utilizada en el modelo para realizar las predicciones.\n",
        "<br><br>\n",
        "Cuando se entrena un modelo de aprendizaje automático, como un algoritmo de clasificación (por ejemplo, Random Forest, Gradient Boosting, etc.) o un algoritmo de regresión (por ejemplo, Regresión Lineal, Lasso, etc.), el modelo utiliza un conjunto de características o variables (también conocidas como atributos o columnas) para hacer predicciones.\n",
        "<br><br>\n",
        "La importancia de características nos ayuda a responder preguntas como:\n",
        "<br><br>\n",
        "<ul aling=\"justify\">\n",
        "<li>¿Cuáles son las características más influyentes para el modelo en sus predicciones?</li><br>\n",
        "<li>¿Cuáles características pueden ser descartadas sin afectar significativamente el rendimiento del modelo?</li><br>\n",
        "<li>¿Cuáles características tienen una correlación más fuerte con la variable objetivo (o la variable a predecir)?</li></ul><br>\n",
        "<p align=\"justify\">\n",
        "Hay varias formas de calcular la importancia de características, y algunos algoritmos ya proporcionan esta información directamente después de ser entrenados.\n",
        "<br><br>\n",
        "Algunas de las técnicas comunes para calcular la importancia de características son:\n",
        "<br>\n",
        "<ol align=\"justify\">\n",
        "<li><b>Importancia basada en árboles (Tree-based Importance)</b>:\n",
        "   En algoritmos de árboles, como Random Forest o Gradient Boosting, la importancia de características se puede calcular al observar cómo cada característica afecta la precisión de la predicción en el árbol. Las características que se utilizan para tomar decisiones en los niveles superiores del árbol o <mark>que reducen la impureza</mark> (como la entropía o la ganancia de información) en mayor medida, generalmente se consideran más importantes.</li><br>\n",
        "<li><b>Coeficientes en regresión lineal</b>:\n",
        "   En modelos de regresión lineal o regresión lineal regularizada (por ejemplo, Lasso, Ridge), los coeficientes asociados con cada característica indican su contribución a la predicción. Los coeficientes más grandes, en valor absoluto, indican que esa característica tiene una mayor influencia en las predicciones.</li><br>\n",
        "<li><b>Permutación de características (Permutation Feature Importance)</b>:\n",
        "   En este enfoque, se mide cómo cambia el rendimiento del modelo cuando se permutan aleatoriamente los valores de una característica específica mientras se evalúa en un conjunto de prueba. <mark>Si una característica es importante, su permutación causará una disminución significativa en el rendimiento del modelo</mark>.</li></ol><br>\n",
        "<p align=\"justify\">\n",
        "La importancia de características es una herramienta útil para comprender y analizar el comportamiento de un modelo de aprendizaje automático, así como para identificar qué características tienen un mayor impacto en las predicciones.\n",
        "<br><br>\n",
        "Sin embargo, debe utilizarse con precaución, ya que la interpretación de la importancia puede variar según el contexto y el problema específico que se esté abordando."
      ],
      "metadata": {
        "id": "lifOcKa2pe2q"
      }
    },
    {
      "cell_type": "code",
      "source": [
        "plot_model(model, plot = 'feature', scale=0.78)"
      ],
      "metadata": {
        "colab": {
          "base_uri": "https://localhost:8080/",
          "height": 403
        },
        "id": "oebNN7yjpZEN",
        "outputId": "a35b14ec-44e6-44b8-8f9f-46753d2db79c"
      },
      "execution_count": null,
      "outputs": [
        {
          "output_type": "display_data",
          "data": {
            "text/plain": [
              "<IPython.core.display.HTML object>"
            ],
            "text/html": []
          },
          "metadata": {}
        },
        {
          "output_type": "display_data",
          "data": {
            "text/plain": [
              "<Figure size 624x390 with 1 Axes>"
            ],
            "image/png": "[encoded data removed]"
          },
          "metadata": {}
        }
      ]
    },
    {
      "cell_type": "code",
      "source": [
        "plot_model(tuned_dt, plot = 'feature', scale=0.78)"
      ],
      "metadata": {
        "colab": {
          "base_uri": "https://localhost:8080/",
          "height": 403
        },
        "id": "UeRoFatcwSxh",
        "outputId": "adb78586-ee25-4b25-f674-6a8e47cda440"
      },
      "execution_count": null,
      "outputs": [
        {
          "output_type": "display_data",
          "data": {
            "text/plain": [
              "<IPython.core.display.HTML object>"
            ],
            "text/html": []
          },
          "metadata": {}
        },
        {
          "output_type": "display_data",
          "data": {
            "text/plain": [
              "<Figure size 624x390 with 1 Axes>"
            ],
            "image/png": "[encoded data removed]"
          },
          "metadata": {}
        }
      ]
    },
    {
      "cell_type": "code",
      "source": [
        "plot_model(tuned_dt, plot = 'feature', scale=0.78)"
      ],
      "metadata": {
        "colab": {
          "base_uri": "https://localhost:8080/",
          "height": 403
        },
        "id": "aj50K3GS0xGK",
        "outputId": "5c61b547-0416-47e9-d4e1-9f4c67645e96"
      },
      "execution_count": 20,
      "outputs": [
        {
          "output_type": "display_data",
          "data": {
            "text/plain": [
              "<IPython.core.display.HTML object>"
            ],
            "text/html": []
          },
          "metadata": {}
        },
        {
          "output_type": "display_data",
          "data": {
            "text/plain": [
              "<Figure size 624x390 with 1 Axes>"
            ],
            "image/png": "[encoded data removed]"
          },
          "metadata": {}
        }
      ]
    },
    {
      "cell_type": "markdown",
      "source": [
        " ## **<font color=\"DeepPink\">Evaluación</font>**"
      ],
      "metadata": {
        "id": "7-WNOpFep4GB"
      }
    },
    {
      "cell_type": "code",
      "source": [
        "evaluate_model(model)"
      ],
      "metadata": {
        "colab": {
          "base_uri": "https://localhost:8080/",
          "height": 221,
          "referenced_widgets": [
            "8130d4c788144591af64386fb4a1afbb",
            "151b5d92b6fa42578548bdd40f3cb4c6",
            "b038f180bc914f34bfb587d5a293263b",
            "ccef06c3628b4a6b90567ad7bce573e0",
            "f7ee3bcaddb746eeb084fe4a4457a1db",
            "9c91a5177d464095a83e3cfc9ae09ce7",
            "1753c27781f041dc89e1ba7176681916"
          ]
        },
        "id": "bbRlmOWZp9ur",
        "outputId": "28f3dd82-5055-4d86-af9f-c6226d81b2be"
      },
      "execution_count": null,
      "outputs": [
        {
          "output_type": "display_data",
          "data": {
            "text/plain": [
              "interactive(children=(ToggleButtons(description='Plot Type:', icons=('',), options=(('Pipeline Plot', 'pipelin…"
            ],
            "application/vnd.jupyter.widget-view+json": {
              "version_major": 2,
              "version_minor": 0,
              "model_id": "8130d4c788144591af64386fb4a1afbb"
            }
          },
          "metadata": {
            "application/vnd.jupyter.widget-view+json": {
              "colab": {
                "custom_widget_manager": {
                  "url": "https://ssl.gstatic.com/colaboratory-static/widgets/colab-cdn-widget-manager/b3e629b1971e1542/manager.min.js"
                }
              }
            }
          }
        }
      ]
    },
    {
      "cell_type": "code",
      "source": [
        "evaluate_model(tuned_dt)"
      ],
      "metadata": {
        "colab": {
          "base_uri": "https://localhost:8080/",
          "height": 221,
          "referenced_widgets": [
            "aa1cd9f9c6ea4655bd9ef586386d2af9",
            "6920727e1f8f4f4bb1595dde3e21bd23",
            "f9ca10c9413c49dabe5572da12adc929",
            "09b37da9e5e8433b9e1f972f2bddd4ed",
            "49a355291fb1426f9a327419a0265568",
            "3079d0e4947b4097b6697aa615b9a2eb",
            "da20b84a06a14c21b670fd66cb15a1aa"
          ]
        },
        "id": "v-KGgWegwbn5",
        "outputId": "b0531b58-1b0e-4a9e-a98c-37ad9e2063b9"
      },
      "execution_count": null,
      "outputs": [
        {
          "output_type": "display_data",
          "data": {
            "text/plain": [
              "interactive(children=(ToggleButtons(description='Plot Type:', icons=('',), options=(('Pipeline Plot', 'pipelin…"
            ],
            "application/vnd.jupyter.widget-view+json": {
              "version_major": 2,
              "version_minor": 0,
              "model_id": "aa1cd9f9c6ea4655bd9ef586386d2af9"
            }
          },
          "metadata": {
            "application/vnd.jupyter.widget-view+json": {
              "colab": {
                "custom_widget_manager": {
                  "url": "https://ssl.gstatic.com/colaboratory-static/widgets/colab-cdn-widget-manager/b3e629b1971e1542/manager.min.js"
                }
              }
            }
          }
        }
      ]
    },
    {
      "cell_type": "code",
      "source": [
        "evaluate_model(bagging_dt)"
      ],
      "metadata": {
        "colab": {
          "base_uri": "https://localhost:8080/",
          "height": 220,
          "referenced_widgets": [
            "32169bfb1f6242e194db148f2398e6ba",
            "9934ee6986e74944865dd4d304b17aac",
            "0d26b7d0117c4399968c453289961d0c",
            "a6d64e91216c4c3b9e4358451cfd8a88",
            "adadf0f917b940fa9e6effaecc7885fc",
            "36c5d4f90f7b4aa89535f83ae0e4b713",
            "f767553d65db473286c2c864971ebd0c"
          ]
        },
        "id": "s85P1HCZ03Rf",
        "outputId": "1f3c5201-8284-463b-9d19-c9501cdbe713"
      },
      "execution_count": 21,
      "outputs": [
        {
          "output_type": "display_data",
          "data": {
            "text/plain": [
              "interactive(children=(ToggleButtons(description='Plot Type:', icons=('',), options=(('Pipeline Plot', 'pipelin…"
            ],
            "application/vnd.jupyter.widget-view+json": {
              "version_major": 2,
              "version_minor": 0,
              "model_id": "32169bfb1f6242e194db148f2398e6ba"
            }
          },
          "metadata": {
            "application/vnd.jupyter.widget-view+json": {
              "colab": {
                "custom_widget_manager": {
                  "url": "https://ssl.gstatic.com/colaboratory-static/widgets/colab-cdn-widget-manager/b3e629b1971e1542/manager.min.js"
                }
              }
            }
          }
        }
      ]
    },
    {
      "cell_type": "markdown",
      "source": [
        "# **<font color=\"DeepPink\">04 - Prediction</font>**\n",
        "\n",
        "<h5 align=\"center\"><b>\n",
        "<font color=\"DeepPink\">\n",
        "<b><mark>Setup</mark> ▶ <mark>Create Model</mark> ▶ <mark>Analyze Model</mark> ▶ <mark>Prediction</mark> ▶ Save Model\n"
      ],
      "metadata": {
        "id": "g4kzLKThqFnG"
      }
    },
    {
      "cell_type": "code",
      "source": [
        "holdout_pred = predict_model(model)"
      ],
      "metadata": {
        "colab": {
          "base_uri": "https://localhost:8080/",
          "height": 100
        },
        "id": "RbvJ4H4_qK8Z",
        "outputId": "6f434c2a-024c-4c6a-bfce-14d78288ed8d"
      },
      "execution_count": 23,
      "outputs": [
        {
          "output_type": "display_data",
          "data": {
            "text/plain": [
              "<pandas.io.formats.style.Styler at 0x785ee1218af0>"
            ],
            "text/html": [
              "<style type=\"text/css\">\n",
              "</style>\n",
              "<table id=\"T_4c644\" class=\"dataframe\">\n",
              "  <thead>\n",
              "    <tr>\n",
              "      <th class=\"blank level0\" >&nbsp;</th>\n",
              "      <th id=\"T_4c644_level0_col0\" class=\"col_heading level0 col0\" >Model</th>\n",
              "      <th id=\"T_4c644_level0_col1\" class=\"col_heading level0 col1\" >MAE</th>\n",
              "      <th id=\"T_4c644_level0_col2\" class=\"col_heading level0 col2\" >RMSE</th>\n",
              "      <th id=\"T_4c644_level0_col3\" class=\"col_heading level0 col3\" >R2</th>\n",
              "    </tr>\n",
              "  </thead>\n",
              "  <tbody>\n",
              "    <tr>\n",
              "      <th id=\"T_4c644_level0_row0\" class=\"row_heading level0 row0\" >0</th>\n",
              "      <td id=\"T_4c644_row0_col0\" class=\"data row0 col0\" >Decision Tree Regressor</td>\n",
              "      <td id=\"T_4c644_row0_col1\" class=\"data row0 col1\" >3378.9089</td>\n",
              "      <td id=\"T_4c644_row0_col2\" class=\"data row0 col2\" >6752.6804</td>\n",
              "      <td id=\"T_4c644_row0_col3\" class=\"data row0 col3\" >0.6808</td>\n",
              "    </tr>\n",
              "  </tbody>\n",
              "</table>\n"
            ]
          },
          "metadata": {}
        }
      ]
    },
    {
      "cell_type": "code",
      "source": [
        "holdout_pred_tuned = predict_model(tuned_dt)"
      ],
      "metadata": {
        "colab": {
          "base_uri": "https://localhost:8080/",
          "height": 100
        },
        "id": "mWwftdZ3wr4N",
        "outputId": "ea1db1cb-c31a-4800-af13-8f61633a63fc"
      },
      "execution_count": 24,
      "outputs": [
        {
          "output_type": "display_data",
          "data": {
            "text/plain": [
              "<pandas.io.formats.style.Styler at 0x785ee121b850>"
            ],
            "text/html": [
              "<style type=\"text/css\">\n",
              "</style>\n",
              "<table id=\"T_59183\" class=\"dataframe\">\n",
              "  <thead>\n",
              "    <tr>\n",
              "      <th class=\"blank level0\" >&nbsp;</th>\n",
              "      <th id=\"T_59183_level0_col0\" class=\"col_heading level0 col0\" >Model</th>\n",
              "      <th id=\"T_59183_level0_col1\" class=\"col_heading level0 col1\" >MAE</th>\n",
              "      <th id=\"T_59183_level0_col2\" class=\"col_heading level0 col2\" >RMSE</th>\n",
              "      <th id=\"T_59183_level0_col3\" class=\"col_heading level0 col3\" >R2</th>\n",
              "    </tr>\n",
              "  </thead>\n",
              "  <tbody>\n",
              "    <tr>\n",
              "      <th id=\"T_59183_level0_row0\" class=\"row_heading level0 row0\" >0</th>\n",
              "      <td id=\"T_59183_row0_col0\" class=\"data row0 col0\" >Decision Tree Regressor</td>\n",
              "      <td id=\"T_59183_row0_col1\" class=\"data row0 col1\" >1685.4813</td>\n",
              "      <td id=\"T_59183_row0_col2\" class=\"data row0 col2\" >4127.7200</td>\n",
              "      <td id=\"T_59183_row0_col3\" class=\"data row0 col3\" >0.8807</td>\n",
              "    </tr>\n",
              "  </tbody>\n",
              "</table>\n"
            ]
          },
          "metadata": {}
        }
      ]
    },
    {
      "cell_type": "code",
      "source": [
        "holdout_pred_bagging = predict_model(bagging_dt)"
      ],
      "metadata": {
        "colab": {
          "base_uri": "https://localhost:8080/",
          "height": 100
        },
        "id": "MFAInNRZ0-Ej",
        "outputId": "637418a0-8ee6-4aae-98a9-40faf66695a2"
      },
      "execution_count": 22,
      "outputs": [
        {
          "output_type": "display_data",
          "data": {
            "text/plain": [
              "<pandas.io.formats.style.Styler at 0x785ee1218f70>"
            ],
            "text/html": [
              "<style type=\"text/css\">\n",
              "</style>\n",
              "<table id=\"T_aaeb0\" class=\"dataframe\">\n",
              "  <thead>\n",
              "    <tr>\n",
              "      <th class=\"blank level0\" >&nbsp;</th>\n",
              "      <th id=\"T_aaeb0_level0_col0\" class=\"col_heading level0 col0\" >Model</th>\n",
              "      <th id=\"T_aaeb0_level0_col1\" class=\"col_heading level0 col1\" >MAE</th>\n",
              "      <th id=\"T_aaeb0_level0_col2\" class=\"col_heading level0 col2\" >RMSE</th>\n",
              "      <th id=\"T_aaeb0_level0_col3\" class=\"col_heading level0 col3\" >R2</th>\n",
              "    </tr>\n",
              "  </thead>\n",
              "  <tbody>\n",
              "    <tr>\n",
              "      <th id=\"T_aaeb0_level0_row0\" class=\"row_heading level0 row0\" >0</th>\n",
              "      <td id=\"T_aaeb0_row0_col0\" class=\"data row0 col0\" >Bagging Regressor</td>\n",
              "      <td id=\"T_aaeb0_row0_col1\" class=\"data row0 col1\" >1750.5999</td>\n",
              "      <td id=\"T_aaeb0_row0_col2\" class=\"data row0 col2\" >4093.5211</td>\n",
              "      <td id=\"T_aaeb0_row0_col3\" class=\"data row0 col3\" >0.8827</td>\n",
              "    </tr>\n",
              "  </tbody>\n",
              "</table>\n"
            ]
          },
          "metadata": {}
        }
      ]
    },
    {
      "cell_type": "markdown",
      "source": [
        "# **<font color=\"DeepPink\">05 - Save Models</font>**\n",
        "\n",
        "<h5 align=\"center\"><b>\n",
        "<font color=\"DeepPink\">\n",
        "<b><mark>Setup</mark> ▶ <mark>Create Model</mark> ▶ <mark>Analyze Model</mark> ▶ <mark>Prediction</mark> ▶ <mark>Save Model</mark>\n"
      ],
      "metadata": {
        "id": "CbJEr7lWqohF"
      }
    },
    {
      "cell_type": "markdown",
      "source": [
        "<p align=\"justify\">\n",
        "👀 Finalmente, se puede guardar todo el pipeline para su uso posterior, utilizando la función <code>save_model</code>."
      ],
      "metadata": {
        "id": "cZHqAL1wqqG-"
      }
    },
    {
      "cell_type": "code",
      "source": [
        "save_model(model, 'my_first_pipeline')"
      ],
      "metadata": {
        "colab": {
          "base_uri": "https://localhost:8080/"
        },
        "id": "ugYR5GCUqpze",
        "outputId": "7f8aca36-0bb3-4458-85fc-6aa79f7599d8"
      },
      "execution_count": null,
      "outputs": [
        {
          "output_type": "stream",
          "name": "stdout",
          "text": [
            "Transformation Pipeline and Model Successfully Saved\n"
          ]
        },
        {
          "output_type": "execute_result",
          "data": {
            "text/plain": [
              "(Pipeline(memory=FastMemory(location=/tmp/joblib),\n",
              "          steps=[('numerical_imputer',\n",
              "                  TransformerWrapper(include=['age', 'bmi', 'children'],\n",
              "                                     transformer=SimpleImputer())),\n",
              "                 ('categorical_imputer',\n",
              "                  TransformerWrapper(include=['sex', 'smoker', 'region'],\n",
              "                                     transformer=SimpleImputer(strategy='most_frequent'))),\n",
              "                 ('ordinal_encoding',\n",
              "                  TransformerWrapper(include=['sex', 'smoker...\n",
              "                                                                mapping=[{'col': 'sex',\n",
              "                                                                          'data_type': dtype('O'),\n",
              "                                                                          'mapping': female    0\n",
              " male      1\n",
              " NaN      -1\n",
              " dtype: int64},\n",
              "                                                                         {'col': 'smoker',\n",
              "                                                                          'data_type': dtype('O'),\n",
              "                                                                          'mapping': no     0\n",
              " yes    1\n",
              " NaN   -1\n",
              " dtype: int64}]))),\n",
              "                 ('onehot_encoding',\n",
              "                  TransformerWrapper(include=['region'],\n",
              "                                     transformer=OneHotEncoder(cols=['region'],\n",
              "                                                               handle_missing='return_nan',\n",
              "                                                               use_cat_names=True))),\n",
              "                 ('trained_model', DecisionTreeRegressor(random_state=123))]),\n",
              " 'my_first_pipeline.pkl')"
            ]
          },
          "metadata": {},
          "execution_count": 25
        }
      ]
    },
    {
      "cell_type": "code",
      "source": [
        "loaded_best_pipeline = load_model('my_first_pipeline')\n",
        "loaded_best_pipeline"
      ],
      "metadata": {
        "colab": {
          "base_uri": "https://localhost:8080/",
          "height": 525
        },
        "id": "3W9tjnf2qz8Z",
        "outputId": "1ae1f977-93ed-4793-91b9-ee3e97863c55"
      },
      "execution_count": null,
      "outputs": [
        {
          "output_type": "stream",
          "name": "stdout",
          "text": [
            "Transformation Pipeline and Model Successfully Loaded\n"
          ]
        },
        {
          "output_type": "execute_result",
          "data": {
            "text/plain": [
              "Pipeline(memory=FastMemory(location=/tmp/joblib),\n",
              "         steps=[('numerical_imputer',\n",
              "                 TransformerWrapper(include=['age', 'bmi', 'children'],\n",
              "                                    transformer=SimpleImputer())),\n",
              "                ('categorical_imputer',\n",
              "                 TransformerWrapper(include=['sex', 'smoker', 'region'],\n",
              "                                    transformer=SimpleImputer(strategy='most_frequent'))),\n",
              "                ('ordinal_encoding',\n",
              "                 TransformerWrapper(include=['sex', 'smoker...\n",
              "                                                               mapping=[{'col': 'sex',\n",
              "                                                                         'data_type': dtype('O'),\n",
              "                                                                         'mapping': female    0\n",
              "male      1\n",
              "NaN      -1\n",
              "dtype: int64},\n",
              "                                                                        {'col': 'smoker',\n",
              "                                                                         'data_type': dtype('O'),\n",
              "                                                                         'mapping': no     0\n",
              "yes    1\n",
              "NaN   -1\n",
              "dtype: int64}]))),\n",
              "                ('onehot_encoding',\n",
              "                 TransformerWrapper(include=['region'],\n",
              "                                    transformer=OneHotEncoder(cols=['region'],\n",
              "                                                              handle_missing='return_nan',\n",
              "                                                              use_cat_names=True))),\n",
              "                ('trained_model', DecisionTreeRegressor(random_state=123))])"
            ],
            "text/html": [
              "<style>#sk-container-id-3 {color: black;background-color: white;}#sk-container-id-3 pre{padding: 0;}#sk-container-id-3 div.sk-toggleable {background-color: white;}#sk-container-id-3 label.sk-toggleable__label {cursor: pointer;display: block;width: 100%;margin-bottom: 0;padding: 0.3em;box-sizing: border-box;text-align: center;}#sk-container-id-3 label.sk-toggleable__label-arrow:before {content: \"▸\";float: left;margin-right: 0.25em;color: #696969;}#sk-container-id-3 label.sk-toggleable__label-arrow:hover:before {color: black;}#sk-container-id-3 div.sk-estimator:hover label.sk-toggleable__label-arrow:before {color: black;}#sk-container-id-3 div.sk-toggleable__content {max-height: 0;max-width: 0;overflow: hidden;text-align: left;background-color: #f0f8ff;}#sk-container-id-3 div.sk-toggleable__content pre {margin: 0.2em;color: black;border-radius: 0.25em;background-color: #f0f8ff;}#sk-container-id-3 input.sk-toggleable__control:checked~div.sk-toggleable__content {max-height: 200px;max-width: 100%;overflow: auto;}#sk-container-id-3 input.sk-toggleable__control:checked~label.sk-toggleable__label-arrow:before {content: \"▾\";}#sk-container-id-3 div.sk-estimator input.sk-toggleable__control:checked~label.sk-toggleable__label {background-color: #d4ebff;}#sk-container-id-3 div.sk-label input.sk-toggleable__control:checked~label.sk-toggleable__label {background-color: #d4ebff;}#sk-container-id-3 input.sk-hidden--visually {border: 0;clip: rect(1px 1px 1px 1px);clip: rect(1px, 1px, 1px, 1px);height: 1px;margin: -1px;overflow: hidden;padding: 0;position: absolute;width: 1px;}#sk-container-id-3 div.sk-estimator {font-family: monospace;background-color: #f0f8ff;border: 1px dotted black;border-radius: 0.25em;box-sizing: border-box;margin-bottom: 0.5em;}#sk-container-id-3 div.sk-estimator:hover {background-color: #d4ebff;}#sk-container-id-3 div.sk-parallel-item::after {content: \"\";width: 100%;border-bottom: 1px solid gray;flex-grow: 1;}#sk-container-id-3 div.sk-label:hover label.sk-toggleable__label {background-color: #d4ebff;}#sk-container-id-3 div.sk-serial::before {content: \"\";position: absolute;border-left: 1px solid gray;box-sizing: border-box;top: 0;bottom: 0;left: 50%;z-index: 0;}#sk-container-id-3 div.sk-serial {display: flex;flex-direction: column;align-items: center;background-color: white;padding-right: 0.2em;padding-left: 0.2em;position: relative;}#sk-container-id-3 div.sk-item {position: relative;z-index: 1;}#sk-container-id-3 div.sk-parallel {display: flex;align-items: stretch;justify-content: center;background-color: white;position: relative;}#sk-container-id-3 div.sk-item::before, #sk-container-id-3 div.sk-parallel-item::before {content: \"\";position: absolute;border-left: 1px solid gray;box-sizing: border-box;top: 0;bottom: 0;left: 50%;z-index: -1;}#sk-container-id-3 div.sk-parallel-item {display: flex;flex-direction: column;z-index: 1;position: relative;background-color: white;}#sk-container-id-3 div.sk-parallel-item:first-child::after {align-self: flex-end;width: 50%;}#sk-container-id-3 div.sk-parallel-item:last-child::after {align-self: flex-start;width: 50%;}#sk-container-id-3 div.sk-parallel-item:only-child::after {width: 0;}#sk-container-id-3 div.sk-dashed-wrapped {border: 1px dashed gray;margin: 0 0.4em 0.5em 0.4em;box-sizing: border-box;padding-bottom: 0.4em;background-color: white;}#sk-container-id-3 div.sk-label label {font-family: monospace;font-weight: bold;display: inline-block;line-height: 1.2em;}#sk-container-id-3 div.sk-label-container {text-align: center;}#sk-container-id-3 div.sk-container {/* jupyter's `normalize.less` sets `[hidden] { display: none; }` but bootstrap.min.css set `[hidden] { display: none !important; }` so we also need the `!important` here to be able to override the default hidden behavior on the sphinx rendered scikit-learn.org. See: https://github.com/scikit-learn/scikit-learn/issues/21755 */display: inline-block !important;position: relative;}#sk-container-id-3 div.sk-text-repr-fallback {display: none;}</style><div id=\"sk-container-id-3\" class=\"sk-top-container\"><div class=\"sk-text-repr-fallback\"><pre>Pipeline(memory=FastMemory(location=/tmp/joblib),\n",
              "         steps=[(&#x27;numerical_imputer&#x27;,\n",
              "                 TransformerWrapper(include=[&#x27;age&#x27;, &#x27;bmi&#x27;, &#x27;children&#x27;],\n",
              "                                    transformer=SimpleImputer())),\n",
              "                (&#x27;categorical_imputer&#x27;,\n",
              "                 TransformerWrapper(include=[&#x27;sex&#x27;, &#x27;smoker&#x27;, &#x27;region&#x27;],\n",
              "                                    transformer=SimpleImputer(strategy=&#x27;most_frequent&#x27;))),\n",
              "                (&#x27;ordinal_encoding&#x27;,\n",
              "                 TransformerWrapper(include=[&#x27;sex&#x27;, &#x27;smoker...\n",
              "                                                               mapping=[{&#x27;col&#x27;: &#x27;sex&#x27;,\n",
              "                                                                         &#x27;data_type&#x27;: dtype(&#x27;O&#x27;),\n",
              "                                                                         &#x27;mapping&#x27;: female    0\n",
              "male      1\n",
              "NaN      -1\n",
              "dtype: int64},\n",
              "                                                                        {&#x27;col&#x27;: &#x27;smoker&#x27;,\n",
              "                                                                         &#x27;data_type&#x27;: dtype(&#x27;O&#x27;),\n",
              "                                                                         &#x27;mapping&#x27;: no     0\n",
              "yes    1\n",
              "NaN   -1\n",
              "dtype: int64}]))),\n",
              "                (&#x27;onehot_encoding&#x27;,\n",
              "                 TransformerWrapper(include=[&#x27;region&#x27;],\n",
              "                                    transformer=OneHotEncoder(cols=[&#x27;region&#x27;],\n",
              "                                                              handle_missing=&#x27;return_nan&#x27;,\n",
              "                                                              use_cat_names=True))),\n",
              "                (&#x27;trained_model&#x27;, DecisionTreeRegressor(random_state=123))])</pre><b>In a Jupyter environment, please rerun this cell to show the HTML representation or trust the notebook. <br />On GitHub, the HTML representation is unable to render, please try loading this page with nbviewer.org.</b></div><div class=\"sk-container\" hidden><div class=\"sk-item sk-dashed-wrapped\"><div class=\"sk-label-container\"><div class=\"sk-label sk-toggleable\"><input class=\"sk-toggleable__control sk-hidden--visually\" id=\"sk-estimator-id-15\" type=\"checkbox\" ><label for=\"sk-estimator-id-15\" class=\"sk-toggleable__label sk-toggleable__label-arrow\">Pipeline</label><div class=\"sk-toggleable__content\"><pre>Pipeline(memory=FastMemory(location=/tmp/joblib),\n",
              "         steps=[(&#x27;numerical_imputer&#x27;,\n",
              "                 TransformerWrapper(include=[&#x27;age&#x27;, &#x27;bmi&#x27;, &#x27;children&#x27;],\n",
              "                                    transformer=SimpleImputer())),\n",
              "                (&#x27;categorical_imputer&#x27;,\n",
              "                 TransformerWrapper(include=[&#x27;sex&#x27;, &#x27;smoker&#x27;, &#x27;region&#x27;],\n",
              "                                    transformer=SimpleImputer(strategy=&#x27;most_frequent&#x27;))),\n",
              "                (&#x27;ordinal_encoding&#x27;,\n",
              "                 TransformerWrapper(include=[&#x27;sex&#x27;, &#x27;smoker...\n",
              "                                                               mapping=[{&#x27;col&#x27;: &#x27;sex&#x27;,\n",
              "                                                                         &#x27;data_type&#x27;: dtype(&#x27;O&#x27;),\n",
              "                                                                         &#x27;mapping&#x27;: female    0\n",
              "male      1\n",
              "NaN      -1\n",
              "dtype: int64},\n",
              "                                                                        {&#x27;col&#x27;: &#x27;smoker&#x27;,\n",
              "                                                                         &#x27;data_type&#x27;: dtype(&#x27;O&#x27;),\n",
              "                                                                         &#x27;mapping&#x27;: no     0\n",
              "yes    1\n",
              "NaN   -1\n",
              "dtype: int64}]))),\n",
              "                (&#x27;onehot_encoding&#x27;,\n",
              "                 TransformerWrapper(include=[&#x27;region&#x27;],\n",
              "                                    transformer=OneHotEncoder(cols=[&#x27;region&#x27;],\n",
              "                                                              handle_missing=&#x27;return_nan&#x27;,\n",
              "                                                              use_cat_names=True))),\n",
              "                (&#x27;trained_model&#x27;, DecisionTreeRegressor(random_state=123))])</pre></div></div></div><div class=\"sk-serial\"><div class=\"sk-item sk-dashed-wrapped\"><div class=\"sk-label-container\"><div class=\"sk-label sk-toggleable\"><input class=\"sk-toggleable__control sk-hidden--visually\" id=\"sk-estimator-id-16\" type=\"checkbox\" ><label for=\"sk-estimator-id-16\" class=\"sk-toggleable__label sk-toggleable__label-arrow\">numerical_imputer: TransformerWrapper</label><div class=\"sk-toggleable__content\"><pre>TransformerWrapper(include=[&#x27;age&#x27;, &#x27;bmi&#x27;, &#x27;children&#x27;],\n",
              "                   transformer=SimpleImputer())</pre></div></div></div><div class=\"sk-parallel\"><div class=\"sk-parallel-item\"><div class=\"sk-item\"><div class=\"sk-label-container\"><div class=\"sk-label sk-toggleable\"><input class=\"sk-toggleable__control sk-hidden--visually\" id=\"sk-estimator-id-17\" type=\"checkbox\" ><label for=\"sk-estimator-id-17\" class=\"sk-toggleable__label sk-toggleable__label-arrow\">transformer: SimpleImputer</label><div class=\"sk-toggleable__content\"><pre>SimpleImputer()</pre></div></div></div><div class=\"sk-serial\"><div class=\"sk-item\"><div class=\"sk-estimator sk-toggleable\"><input class=\"sk-toggleable__control sk-hidden--visually\" id=\"sk-estimator-id-18\" type=\"checkbox\" ><label for=\"sk-estimator-id-18\" class=\"sk-toggleable__label sk-toggleable__label-arrow\">SimpleImputer</label><div class=\"sk-toggleable__content\"><pre>SimpleImputer()</pre></div></div></div></div></div></div></div></div><div class=\"sk-item sk-dashed-wrapped\"><div class=\"sk-label-container\"><div class=\"sk-label sk-toggleable\"><input class=\"sk-toggleable__control sk-hidden--visually\" id=\"sk-estimator-id-19\" type=\"checkbox\" ><label for=\"sk-estimator-id-19\" class=\"sk-toggleable__label sk-toggleable__label-arrow\">categorical_imputer: TransformerWrapper</label><div class=\"sk-toggleable__content\"><pre>TransformerWrapper(include=[&#x27;sex&#x27;, &#x27;smoker&#x27;, &#x27;region&#x27;],\n",
              "                   transformer=SimpleImputer(strategy=&#x27;most_frequent&#x27;))</pre></div></div></div><div class=\"sk-parallel\"><div class=\"sk-parallel-item\"><div class=\"sk-item\"><div class=\"sk-label-container\"><div class=\"sk-label sk-toggleable\"><input class=\"sk-toggleable__control sk-hidden--visually\" id=\"sk-estimator-id-20\" type=\"checkbox\" ><label for=\"sk-estimator-id-20\" class=\"sk-toggleable__label sk-toggleable__label-arrow\">transformer: SimpleImputer</label><div class=\"sk-toggleable__content\"><pre>SimpleImputer(strategy=&#x27;most_frequent&#x27;)</pre></div></div></div><div class=\"sk-serial\"><div class=\"sk-item\"><div class=\"sk-estimator sk-toggleable\"><input class=\"sk-toggleable__control sk-hidden--visually\" id=\"sk-estimator-id-21\" type=\"checkbox\" ><label for=\"sk-estimator-id-21\" class=\"sk-toggleable__label sk-toggleable__label-arrow\">SimpleImputer</label><div class=\"sk-toggleable__content\"><pre>SimpleImputer(strategy=&#x27;most_frequent&#x27;)</pre></div></div></div></div></div></div></div></div><div class=\"sk-item sk-dashed-wrapped\"><div class=\"sk-label-container\"><div class=\"sk-label sk-toggleable\"><input class=\"sk-toggleable__control sk-hidden--visually\" id=\"sk-estimator-id-22\" type=\"checkbox\" ><label for=\"sk-estimator-id-22\" class=\"sk-toggleable__label sk-toggleable__label-arrow\">ordinal_encoding: TransformerWrapper</label><div class=\"sk-toggleable__content\"><pre>TransformerWrapper(include=[&#x27;sex&#x27;, &#x27;smoker&#x27;],\n",
              "                   transformer=OrdinalEncoder(cols=[&#x27;sex&#x27;, &#x27;smoker&#x27;],\n",
              "                                              handle_missing=&#x27;return_nan&#x27;,\n",
              "                                              mapping=[{&#x27;col&#x27;: &#x27;sex&#x27;,\n",
              "                                                        &#x27;data_type&#x27;: dtype(&#x27;O&#x27;),\n",
              "                                                        &#x27;mapping&#x27;: female    0\n",
              "male      1\n",
              "NaN      -1\n",
              "dtype: int64},\n",
              "                                                       {&#x27;col&#x27;: &#x27;smoker&#x27;,\n",
              "                                                        &#x27;data_type&#x27;: dtype(&#x27;O&#x27;),\n",
              "                                                        &#x27;mapping&#x27;: no     0\n",
              "yes    1\n",
              "NaN   -1\n",
              "dtype: int64}]))</pre></div></div></div><div class=\"sk-parallel\"><div class=\"sk-parallel-item\"><div class=\"sk-item\"><div class=\"sk-label-container\"><div class=\"sk-label sk-toggleable\"><input class=\"sk-toggleable__control sk-hidden--visually\" id=\"sk-estimator-id-23\" type=\"checkbox\" ><label for=\"sk-estimator-id-23\" class=\"sk-toggleable__label sk-toggleable__label-arrow\">transformer: OrdinalEncoder</label><div class=\"sk-toggleable__content\"><pre>OrdinalEncoder(cols=[&#x27;sex&#x27;, &#x27;smoker&#x27;], handle_missing=&#x27;return_nan&#x27;,\n",
              "               mapping=[{&#x27;col&#x27;: &#x27;sex&#x27;, &#x27;data_type&#x27;: dtype(&#x27;O&#x27;),\n",
              "                         &#x27;mapping&#x27;: female    0\n",
              "male      1\n",
              "NaN      -1\n",
              "dtype: int64},\n",
              "                        {&#x27;col&#x27;: &#x27;smoker&#x27;, &#x27;data_type&#x27;: dtype(&#x27;O&#x27;),\n",
              "                         &#x27;mapping&#x27;: no     0\n",
              "yes    1\n",
              "NaN   -1\n",
              "dtype: int64}])</pre></div></div></div><div class=\"sk-serial\"><div class=\"sk-item\"><div class=\"sk-estimator sk-toggleable\"><input class=\"sk-toggleable__control sk-hidden--visually\" id=\"sk-estimator-id-24\" type=\"checkbox\" ><label for=\"sk-estimator-id-24\" class=\"sk-toggleable__label sk-toggleable__label-arrow\">OrdinalEncoder</label><div class=\"sk-toggleable__content\"><pre>OrdinalEncoder(cols=[&#x27;sex&#x27;, &#x27;smoker&#x27;], handle_missing=&#x27;return_nan&#x27;,\n",
              "               mapping=[{&#x27;col&#x27;: &#x27;sex&#x27;, &#x27;data_type&#x27;: dtype(&#x27;O&#x27;),\n",
              "                         &#x27;mapping&#x27;: female    0\n",
              "male      1\n",
              "NaN      -1\n",
              "dtype: int64},\n",
              "                        {&#x27;col&#x27;: &#x27;smoker&#x27;, &#x27;data_type&#x27;: dtype(&#x27;O&#x27;),\n",
              "                         &#x27;mapping&#x27;: no     0\n",
              "yes    1\n",
              "NaN   -1\n",
              "dtype: int64}])</pre></div></div></div></div></div></div></div></div><div class=\"sk-item sk-dashed-wrapped\"><div class=\"sk-label-container\"><div class=\"sk-label sk-toggleable\"><input class=\"sk-toggleable__control sk-hidden--visually\" id=\"sk-estimator-id-25\" type=\"checkbox\" ><label for=\"sk-estimator-id-25\" class=\"sk-toggleable__label sk-toggleable__label-arrow\">onehot_encoding: TransformerWrapper</label><div class=\"sk-toggleable__content\"><pre>TransformerWrapper(include=[&#x27;region&#x27;],\n",
              "                   transformer=OneHotEncoder(cols=[&#x27;region&#x27;],\n",
              "                                             handle_missing=&#x27;return_nan&#x27;,\n",
              "                                             use_cat_names=True))</pre></div></div></div><div class=\"sk-parallel\"><div class=\"sk-parallel-item\"><div class=\"sk-item\"><div class=\"sk-label-container\"><div class=\"sk-label sk-toggleable\"><input class=\"sk-toggleable__control sk-hidden--visually\" id=\"sk-estimator-id-26\" type=\"checkbox\" ><label for=\"sk-estimator-id-26\" class=\"sk-toggleable__label sk-toggleable__label-arrow\">transformer: OneHotEncoder</label><div class=\"sk-toggleable__content\"><pre>OneHotEncoder(cols=[&#x27;region&#x27;], handle_missing=&#x27;return_nan&#x27;, use_cat_names=True)</pre></div></div></div><div class=\"sk-serial\"><div class=\"sk-item\"><div class=\"sk-estimator sk-toggleable\"><input class=\"sk-toggleable__control sk-hidden--visually\" id=\"sk-estimator-id-27\" type=\"checkbox\" ><label for=\"sk-estimator-id-27\" class=\"sk-toggleable__label sk-toggleable__label-arrow\">OneHotEncoder</label><div class=\"sk-toggleable__content\"><pre>OneHotEncoder(cols=[&#x27;region&#x27;], handle_missing=&#x27;return_nan&#x27;, use_cat_names=True)</pre></div></div></div></div></div></div></div></div><div class=\"sk-item\"><div class=\"sk-estimator sk-toggleable\"><input class=\"sk-toggleable__control sk-hidden--visually\" id=\"sk-estimator-id-28\" type=\"checkbox\" ><label for=\"sk-estimator-id-28\" class=\"sk-toggleable__label sk-toggleable__label-arrow\">DecisionTreeRegressor</label><div class=\"sk-toggleable__content\"><pre>DecisionTreeRegressor(random_state=123)</pre></div></div></div></div></div></div></div>"
            ]
          },
          "metadata": {},
          "execution_count": 26
        }
      ]
    },
    {
      "cell_type": "markdown",
      "source": [
        " # **<font color=\"DeepPink\">Conclusiones</font>**"
      ],
      "metadata": {
        "id": "1c2fQ7bornEn"
      }
    },
    {
      "cell_type": "markdown",
      "source": [
        "<p align=\"justify\">\n",
        "👀 En este colab nosotros:\n",
        "<br><br>\n",
        "✅ Instalamos <code>PyCaret</code> y utilizamos un conjunto de datos de prueba de la biblioteca.\n",
        "<br>\n",
        "✅ Definimos un <code>WorkFlow</code>.\n",
        "<br>\n",
        "✅ Hicimos el <code>setup</code>.\n",
        "<br>\n",
        "✅ Creamos un modelo, optimizamos e hicimos un ensemble.\n",
        "<br>\n",
        "✅ Analizamos los modelos, con gráficos y evaluando.\n",
        "<br>\n",
        "✅ Hicimos la predicción del modelo.\n",
        "<br>\n",
        "✅ Grabamos el modelo para volver a usarlo.\n",
        "\n"
      ],
      "metadata": {
        "id": "o08nYaPHroWC"
      }
    },
    {
      "cell_type": "markdown",
      "source": [
        "<br>\n",
        "<br>\n",
        "<p align=\"center\"><b>\n",
        "💗\n",
        "<font color=\"DeepPink\">\n",
        "Hemos llegado al final de nuestro colab, a seguir codeando...\n",
        "</font>\n",
        "</p>\n",
        "<br>\n",
        "<p align=\"center\">\n",
        "<img src=\"https://github.com/cristiandarioortegayubro/BDS/blob/main/images/Logo%20BDS%20Horizontal%208.png?raw=true\">\n",
        "</p>\n",
        "\n",
        "---\n"
      ],
      "metadata": {
        "id": "3bltEYbynZuu"
      }
    }
  ]
}