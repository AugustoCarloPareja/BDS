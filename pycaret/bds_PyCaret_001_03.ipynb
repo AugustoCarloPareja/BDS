{
  "nbformat": 4,
  "nbformat_minor": 0,
  "metadata": {
    "colab": {
      "provenance": [],
      "toc_visible": true,
      "include_colab_link": true
    },
    "kernelspec": {
      "name": "python3",
      "display_name": "Python 3"
    },
    "language_info": {
      "name": "python"
    },
    "widgets": {
      "application/vnd.jupyter.widget-state+json": {
        "18f0b2e905564eaf9b1bc6a718104f6b": {
          "model_module": "@jupyter-widgets/controls",
          "model_name": "HBoxModel",
          "model_module_version": "1.5.0",
          "state": {
            "_dom_classes": [],
            "_model_module": "@jupyter-widgets/controls",
            "_model_module_version": "1.5.0",
            "_model_name": "HBoxModel",
            "_view_count": null,
            "_view_module": "@jupyter-widgets/controls",
            "_view_module_version": "1.5.0",
            "_view_name": "HBoxView",
            "box_style": "",
            "children": [
              "IPY_MODEL_b487b17f5c994bc8a4eb9430d23f9d9e",
              "IPY_MODEL_6776bfc4815641d68dba86e306f1ee2f",
              "IPY_MODEL_f5ba8313259441bfb52f64cb5fa5b96a"
            ],
            "layout": "IPY_MODEL_18c09bdf1d9c442dbfb31c9beac939e9"
          }
        },
        "b487b17f5c994bc8a4eb9430d23f9d9e": {
          "model_module": "@jupyter-widgets/controls",
          "model_name": "HTMLModel",
          "model_module_version": "1.5.0",
          "state": {
            "_dom_classes": [],
            "_model_module": "@jupyter-widgets/controls",
            "_model_module_version": "1.5.0",
            "_model_name": "HTMLModel",
            "_view_count": null,
            "_view_module": "@jupyter-widgets/controls",
            "_view_module_version": "1.5.0",
            "_view_name": "HTMLView",
            "description": "",
            "description_tooltip": null,
            "layout": "IPY_MODEL_26d5adafc7264891ac4adbfaa1d0182d",
            "placeholder": "​",
            "style": "IPY_MODEL_7529da1657174605a7f27af1fdcd6d3c",
            "value": "Processing: 100%"
          }
        },
        "6776bfc4815641d68dba86e306f1ee2f": {
          "model_module": "@jupyter-widgets/controls",
          "model_name": "FloatProgressModel",
          "model_module_version": "1.5.0",
          "state": {
            "_dom_classes": [],
            "_model_module": "@jupyter-widgets/controls",
            "_model_module_version": "1.5.0",
            "_model_name": "FloatProgressModel",
            "_view_count": null,
            "_view_module": "@jupyter-widgets/controls",
            "_view_module_version": "1.5.0",
            "_view_name": "ProgressView",
            "bar_style": "",
            "description": "",
            "description_tooltip": null,
            "layout": "IPY_MODEL_65c7ebf3b9974a3493a832b81ef0867c",
            "max": 4,
            "min": 0,
            "orientation": "horizontal",
            "style": "IPY_MODEL_7ad36d1acc7a4385b97e088772ff65cd",
            "value": 4
          }
        },
        "f5ba8313259441bfb52f64cb5fa5b96a": {
          "model_module": "@jupyter-widgets/controls",
          "model_name": "HTMLModel",
          "model_module_version": "1.5.0",
          "state": {
            "_dom_classes": [],
            "_model_module": "@jupyter-widgets/controls",
            "_model_module_version": "1.5.0",
            "_model_name": "HTMLModel",
            "_view_count": null,
            "_view_module": "@jupyter-widgets/controls",
            "_view_module_version": "1.5.0",
            "_view_name": "HTMLView",
            "description": "",
            "description_tooltip": null,
            "layout": "IPY_MODEL_c6fb5ea4e4814bd0bbdaeb19e5f31db0",
            "placeholder": "​",
            "style": "IPY_MODEL_ad15d8887f1b4f77b1894a75ac1534a3",
            "value": " 4/4 [00:07&lt;00:00,  1.71s/it]"
          }
        },
        "18c09bdf1d9c442dbfb31c9beac939e9": {
          "model_module": "@jupyter-widgets/base",
          "model_name": "LayoutModel",
          "model_module_version": "1.2.0",
          "state": {
            "_model_module": "@jupyter-widgets/base",
            "_model_module_version": "1.2.0",
            "_model_name": "LayoutModel",
            "_view_count": null,
            "_view_module": "@jupyter-widgets/base",
            "_view_module_version": "1.2.0",
            "_view_name": "LayoutView",
            "align_content": null,
            "align_items": null,
            "align_self": null,
            "border": null,
            "bottom": null,
            "display": null,
            "flex": null,
            "flex_flow": null,
            "grid_area": null,
            "grid_auto_columns": null,
            "grid_auto_flow": null,
            "grid_auto_rows": null,
            "grid_column": null,
            "grid_gap": null,
            "grid_row": null,
            "grid_template_areas": null,
            "grid_template_columns": null,
            "grid_template_rows": null,
            "height": null,
            "justify_content": null,
            "justify_items": null,
            "left": null,
            "margin": null,
            "max_height": null,
            "max_width": null,
            "min_height": null,
            "min_width": null,
            "object_fit": null,
            "object_position": null,
            "order": null,
            "overflow": null,
            "overflow_x": null,
            "overflow_y": null,
            "padding": null,
            "right": null,
            "top": null,
            "visibility": "hidden",
            "width": null
          }
        },
        "26d5adafc7264891ac4adbfaa1d0182d": {
          "model_module": "@jupyter-widgets/base",
          "model_name": "LayoutModel",
          "model_module_version": "1.2.0",
          "state": {
            "_model_module": "@jupyter-widgets/base",
            "_model_module_version": "1.2.0",
            "_model_name": "LayoutModel",
            "_view_count": null,
            "_view_module": "@jupyter-widgets/base",
            "_view_module_version": "1.2.0",
            "_view_name": "LayoutView",
            "align_content": null,
            "align_items": null,
            "align_self": null,
            "border": null,
            "bottom": null,
            "display": null,
            "flex": null,
            "flex_flow": null,
            "grid_area": null,
            "grid_auto_columns": null,
            "grid_auto_flow": null,
            "grid_auto_rows": null,
            "grid_column": null,
            "grid_gap": null,
            "grid_row": null,
            "grid_template_areas": null,
            "grid_template_columns": null,
            "grid_template_rows": null,
            "height": null,
            "justify_content": null,
            "justify_items": null,
            "left": null,
            "margin": null,
            "max_height": null,
            "max_width": null,
            "min_height": null,
            "min_width": null,
            "object_fit": null,
            "object_position": null,
            "order": null,
            "overflow": null,
            "overflow_x": null,
            "overflow_y": null,
            "padding": null,
            "right": null,
            "top": null,
            "visibility": null,
            "width": null
          }
        },
        "7529da1657174605a7f27af1fdcd6d3c": {
          "model_module": "@jupyter-widgets/controls",
          "model_name": "DescriptionStyleModel",
          "model_module_version": "1.5.0",
          "state": {
            "_model_module": "@jupyter-widgets/controls",
            "_model_module_version": "1.5.0",
            "_model_name": "DescriptionStyleModel",
            "_view_count": null,
            "_view_module": "@jupyter-widgets/base",
            "_view_module_version": "1.2.0",
            "_view_name": "StyleView",
            "description_width": ""
          }
        },
        "65c7ebf3b9974a3493a832b81ef0867c": {
          "model_module": "@jupyter-widgets/base",
          "model_name": "LayoutModel",
          "model_module_version": "1.2.0",
          "state": {
            "_model_module": "@jupyter-widgets/base",
            "_model_module_version": "1.2.0",
            "_model_name": "LayoutModel",
            "_view_count": null,
            "_view_module": "@jupyter-widgets/base",
            "_view_module_version": "1.2.0",
            "_view_name": "LayoutView",
            "align_content": null,
            "align_items": null,
            "align_self": null,
            "border": null,
            "bottom": null,
            "display": null,
            "flex": null,
            "flex_flow": null,
            "grid_area": null,
            "grid_auto_columns": null,
            "grid_auto_flow": null,
            "grid_auto_rows": null,
            "grid_column": null,
            "grid_gap": null,
            "grid_row": null,
            "grid_template_areas": null,
            "grid_template_columns": null,
            "grid_template_rows": null,
            "height": null,
            "justify_content": null,
            "justify_items": null,
            "left": null,
            "margin": null,
            "max_height": null,
            "max_width": null,
            "min_height": null,
            "min_width": null,
            "object_fit": null,
            "object_position": null,
            "order": null,
            "overflow": null,
            "overflow_x": null,
            "overflow_y": null,
            "padding": null,
            "right": null,
            "top": null,
            "visibility": null,
            "width": null
          }
        },
        "7ad36d1acc7a4385b97e088772ff65cd": {
          "model_module": "@jupyter-widgets/controls",
          "model_name": "ProgressStyleModel",
          "model_module_version": "1.5.0",
          "state": {
            "_model_module": "@jupyter-widgets/controls",
            "_model_module_version": "1.5.0",
            "_model_name": "ProgressStyleModel",
            "_view_count": null,
            "_view_module": "@jupyter-widgets/base",
            "_view_module_version": "1.2.0",
            "_view_name": "StyleView",
            "bar_color": null,
            "description_width": ""
          }
        },
        "c6fb5ea4e4814bd0bbdaeb19e5f31db0": {
          "model_module": "@jupyter-widgets/base",
          "model_name": "LayoutModel",
          "model_module_version": "1.2.0",
          "state": {
            "_model_module": "@jupyter-widgets/base",
            "_model_module_version": "1.2.0",
            "_model_name": "LayoutModel",
            "_view_count": null,
            "_view_module": "@jupyter-widgets/base",
            "_view_module_version": "1.2.0",
            "_view_name": "LayoutView",
            "align_content": null,
            "align_items": null,
            "align_self": null,
            "border": null,
            "bottom": null,
            "display": null,
            "flex": null,
            "flex_flow": null,
            "grid_area": null,
            "grid_auto_columns": null,
            "grid_auto_flow": null,
            "grid_auto_rows": null,
            "grid_column": null,
            "grid_gap": null,
            "grid_row": null,
            "grid_template_areas": null,
            "grid_template_columns": null,
            "grid_template_rows": null,
            "height": null,
            "justify_content": null,
            "justify_items": null,
            "left": null,
            "margin": null,
            "max_height": null,
            "max_width": null,
            "min_height": null,
            "min_width": null,
            "object_fit": null,
            "object_position": null,
            "order": null,
            "overflow": null,
            "overflow_x": null,
            "overflow_y": null,
            "padding": null,
            "right": null,
            "top": null,
            "visibility": null,
            "width": null
          }
        },
        "ad15d8887f1b4f77b1894a75ac1534a3": {
          "model_module": "@jupyter-widgets/controls",
          "model_name": "DescriptionStyleModel",
          "model_module_version": "1.5.0",
          "state": {
            "_model_module": "@jupyter-widgets/controls",
            "_model_module_version": "1.5.0",
            "_model_name": "DescriptionStyleModel",
            "_view_count": null,
            "_view_module": "@jupyter-widgets/base",
            "_view_module_version": "1.2.0",
            "_view_name": "StyleView",
            "description_width": ""
          }
        },
        "3ffcb16e0186408dad40968b6ec6a997": {
          "model_module": "@jupyter-widgets/controls",
          "model_name": "HBoxModel",
          "model_module_version": "1.5.0",
          "state": {
            "_dom_classes": [],
            "_model_module": "@jupyter-widgets/controls",
            "_model_module_version": "1.5.0",
            "_model_name": "HBoxModel",
            "_view_count": null,
            "_view_module": "@jupyter-widgets/controls",
            "_view_module_version": "1.5.0",
            "_view_name": "HBoxView",
            "box_style": "",
            "children": [
              "IPY_MODEL_2667e63f144c46ef8d4de7319d73b607",
              "IPY_MODEL_54081fef58724b7186112e5666e604b3",
              "IPY_MODEL_4046abd83c2c4346a94d3a28abda8907"
            ],
            "layout": "IPY_MODEL_8bed1585b6b94eeb8b3d4ae56d00eabe"
          }
        },
        "2667e63f144c46ef8d4de7319d73b607": {
          "model_module": "@jupyter-widgets/controls",
          "model_name": "HTMLModel",
          "model_module_version": "1.5.0",
          "state": {
            "_dom_classes": [],
            "_model_module": "@jupyter-widgets/controls",
            "_model_module_version": "1.5.0",
            "_model_name": "HTMLModel",
            "_view_count": null,
            "_view_module": "@jupyter-widgets/controls",
            "_view_module_version": "1.5.0",
            "_view_name": "HTMLView",
            "description": "",
            "description_tooltip": null,
            "layout": "IPY_MODEL_ae8380b394af43e2aa5c50c05c548cc9",
            "placeholder": "​",
            "style": "IPY_MODEL_977798cc426a4eccbd851e03ef44e7bb",
            "value": "Processing: 100%"
          }
        },
        "54081fef58724b7186112e5666e604b3": {
          "model_module": "@jupyter-widgets/controls",
          "model_name": "FloatProgressModel",
          "model_module_version": "1.5.0",
          "state": {
            "_dom_classes": [],
            "_model_module": "@jupyter-widgets/controls",
            "_model_module_version": "1.5.0",
            "_model_name": "FloatProgressModel",
            "_view_count": null,
            "_view_module": "@jupyter-widgets/controls",
            "_view_module_version": "1.5.0",
            "_view_name": "ProgressView",
            "bar_style": "",
            "description": "",
            "description_tooltip": null,
            "layout": "IPY_MODEL_796f27ffeacf4f8699ef9583afed9038",
            "max": 7,
            "min": 0,
            "orientation": "horizontal",
            "style": "IPY_MODEL_fd51c00177ef45babaff9bc848a5eba4",
            "value": 7
          }
        },
        "4046abd83c2c4346a94d3a28abda8907": {
          "model_module": "@jupyter-widgets/controls",
          "model_name": "HTMLModel",
          "model_module_version": "1.5.0",
          "state": {
            "_dom_classes": [],
            "_model_module": "@jupyter-widgets/controls",
            "_model_module_version": "1.5.0",
            "_model_name": "HTMLModel",
            "_view_count": null,
            "_view_module": "@jupyter-widgets/controls",
            "_view_module_version": "1.5.0",
            "_view_name": "HTMLView",
            "description": "",
            "description_tooltip": null,
            "layout": "IPY_MODEL_44c0919462aa4f5198dc2d680ad32e34",
            "placeholder": "​",
            "style": "IPY_MODEL_fdedc0bee805499e89183906ba8c9efb",
            "value": " 7/7 [00:35&lt;00:00,  4.04s/it]"
          }
        },
        "8bed1585b6b94eeb8b3d4ae56d00eabe": {
          "model_module": "@jupyter-widgets/base",
          "model_name": "LayoutModel",
          "model_module_version": "1.2.0",
          "state": {
            "_model_module": "@jupyter-widgets/base",
            "_model_module_version": "1.2.0",
            "_model_name": "LayoutModel",
            "_view_count": null,
            "_view_module": "@jupyter-widgets/base",
            "_view_module_version": "1.2.0",
            "_view_name": "LayoutView",
            "align_content": null,
            "align_items": null,
            "align_self": null,
            "border": null,
            "bottom": null,
            "display": null,
            "flex": null,
            "flex_flow": null,
            "grid_area": null,
            "grid_auto_columns": null,
            "grid_auto_flow": null,
            "grid_auto_rows": null,
            "grid_column": null,
            "grid_gap": null,
            "grid_row": null,
            "grid_template_areas": null,
            "grid_template_columns": null,
            "grid_template_rows": null,
            "height": null,
            "justify_content": null,
            "justify_items": null,
            "left": null,
            "margin": null,
            "max_height": null,
            "max_width": null,
            "min_height": null,
            "min_width": null,
            "object_fit": null,
            "object_position": null,
            "order": null,
            "overflow": null,
            "overflow_x": null,
            "overflow_y": null,
            "padding": null,
            "right": null,
            "top": null,
            "visibility": "hidden",
            "width": null
          }
        },
        "ae8380b394af43e2aa5c50c05c548cc9": {
          "model_module": "@jupyter-widgets/base",
          "model_name": "LayoutModel",
          "model_module_version": "1.2.0",
          "state": {
            "_model_module": "@jupyter-widgets/base",
            "_model_module_version": "1.2.0",
            "_model_name": "LayoutModel",
            "_view_count": null,
            "_view_module": "@jupyter-widgets/base",
            "_view_module_version": "1.2.0",
            "_view_name": "LayoutView",
            "align_content": null,
            "align_items": null,
            "align_self": null,
            "border": null,
            "bottom": null,
            "display": null,
            "flex": null,
            "flex_flow": null,
            "grid_area": null,
            "grid_auto_columns": null,
            "grid_auto_flow": null,
            "grid_auto_rows": null,
            "grid_column": null,
            "grid_gap": null,
            "grid_row": null,
            "grid_template_areas": null,
            "grid_template_columns": null,
            "grid_template_rows": null,
            "height": null,
            "justify_content": null,
            "justify_items": null,
            "left": null,
            "margin": null,
            "max_height": null,
            "max_width": null,
            "min_height": null,
            "min_width": null,
            "object_fit": null,
            "object_position": null,
            "order": null,
            "overflow": null,
            "overflow_x": null,
            "overflow_y": null,
            "padding": null,
            "right": null,
            "top": null,
            "visibility": null,
            "width": null
          }
        },
        "977798cc426a4eccbd851e03ef44e7bb": {
          "model_module": "@jupyter-widgets/controls",
          "model_name": "DescriptionStyleModel",
          "model_module_version": "1.5.0",
          "state": {
            "_model_module": "@jupyter-widgets/controls",
            "_model_module_version": "1.5.0",
            "_model_name": "DescriptionStyleModel",
            "_view_count": null,
            "_view_module": "@jupyter-widgets/base",
            "_view_module_version": "1.2.0",
            "_view_name": "StyleView",
            "description_width": ""
          }
        },
        "796f27ffeacf4f8699ef9583afed9038": {
          "model_module": "@jupyter-widgets/base",
          "model_name": "LayoutModel",
          "model_module_version": "1.2.0",
          "state": {
            "_model_module": "@jupyter-widgets/base",
            "_model_module_version": "1.2.0",
            "_model_name": "LayoutModel",
            "_view_count": null,
            "_view_module": "@jupyter-widgets/base",
            "_view_module_version": "1.2.0",
            "_view_name": "LayoutView",
            "align_content": null,
            "align_items": null,
            "align_self": null,
            "border": null,
            "bottom": null,
            "display": null,
            "flex": null,
            "flex_flow": null,
            "grid_area": null,
            "grid_auto_columns": null,
            "grid_auto_flow": null,
            "grid_auto_rows": null,
            "grid_column": null,
            "grid_gap": null,
            "grid_row": null,
            "grid_template_areas": null,
            "grid_template_columns": null,
            "grid_template_rows": null,
            "height": null,
            "justify_content": null,
            "justify_items": null,
            "left": null,
            "margin": null,
            "max_height": null,
            "max_width": null,
            "min_height": null,
            "min_width": null,
            "object_fit": null,
            "object_position": null,
            "order": null,
            "overflow": null,
            "overflow_x": null,
            "overflow_y": null,
            "padding": null,
            "right": null,
            "top": null,
            "visibility": null,
            "width": null
          }
        },
        "fd51c00177ef45babaff9bc848a5eba4": {
          "model_module": "@jupyter-widgets/controls",
          "model_name": "ProgressStyleModel",
          "model_module_version": "1.5.0",
          "state": {
            "_model_module": "@jupyter-widgets/controls",
            "_model_module_version": "1.5.0",
            "_model_name": "ProgressStyleModel",
            "_view_count": null,
            "_view_module": "@jupyter-widgets/base",
            "_view_module_version": "1.2.0",
            "_view_name": "StyleView",
            "bar_color": null,
            "description_width": ""
          }
        },
        "44c0919462aa4f5198dc2d680ad32e34": {
          "model_module": "@jupyter-widgets/base",
          "model_name": "LayoutModel",
          "model_module_version": "1.2.0",
          "state": {
            "_model_module": "@jupyter-widgets/base",
            "_model_module_version": "1.2.0",
            "_model_name": "LayoutModel",
            "_view_count": null,
            "_view_module": "@jupyter-widgets/base",
            "_view_module_version": "1.2.0",
            "_view_name": "LayoutView",
            "align_content": null,
            "align_items": null,
            "align_self": null,
            "border": null,
            "bottom": null,
            "display": null,
            "flex": null,
            "flex_flow": null,
            "grid_area": null,
            "grid_auto_columns": null,
            "grid_auto_flow": null,
            "grid_auto_rows": null,
            "grid_column": null,
            "grid_gap": null,
            "grid_row": null,
            "grid_template_areas": null,
            "grid_template_columns": null,
            "grid_template_rows": null,
            "height": null,
            "justify_content": null,
            "justify_items": null,
            "left": null,
            "margin": null,
            "max_height": null,
            "max_width": null,
            "min_height": null,
            "min_width": null,
            "object_fit": null,
            "object_position": null,
            "order": null,
            "overflow": null,
            "overflow_x": null,
            "overflow_y": null,
            "padding": null,
            "right": null,
            "top": null,
            "visibility": null,
            "width": null
          }
        },
        "fdedc0bee805499e89183906ba8c9efb": {
          "model_module": "@jupyter-widgets/controls",
          "model_name": "DescriptionStyleModel",
          "model_module_version": "1.5.0",
          "state": {
            "_model_module": "@jupyter-widgets/controls",
            "_model_module_version": "1.5.0",
            "_model_name": "DescriptionStyleModel",
            "_view_count": null,
            "_view_module": "@jupyter-widgets/base",
            "_view_module_version": "1.2.0",
            "_view_name": "StyleView",
            "description_width": ""
          }
        },
        "ab08dd71b6cb44ad83d5fc4170bf918a": {
          "model_module": "@jupyter-widgets/controls",
          "model_name": "HBoxModel",
          "model_module_version": "1.5.0",
          "state": {
            "_dom_classes": [],
            "_model_module": "@jupyter-widgets/controls",
            "_model_module_version": "1.5.0",
            "_model_name": "HBoxModel",
            "_view_count": null,
            "_view_module": "@jupyter-widgets/controls",
            "_view_module_version": "1.5.0",
            "_view_name": "HBoxView",
            "box_style": "",
            "children": [
              "IPY_MODEL_a5991556fc7447f9a9c74845888f8821",
              "IPY_MODEL_5540ce66036f4a1d88b409f4d08bbd51",
              "IPY_MODEL_0face5a510204ee0835bfe94a339e7bd"
            ],
            "layout": "IPY_MODEL_c46d12e16c684a969fa37414a77d7657"
          }
        },
        "a5991556fc7447f9a9c74845888f8821": {
          "model_module": "@jupyter-widgets/controls",
          "model_name": "HTMLModel",
          "model_module_version": "1.5.0",
          "state": {
            "_dom_classes": [],
            "_model_module": "@jupyter-widgets/controls",
            "_model_module_version": "1.5.0",
            "_model_name": "HTMLModel",
            "_view_count": null,
            "_view_module": "@jupyter-widgets/controls",
            "_view_module_version": "1.5.0",
            "_view_name": "HTMLView",
            "description": "",
            "description_tooltip": null,
            "layout": "IPY_MODEL_6b9ff2dd1e524bea80d942687a40e3d1",
            "placeholder": "​",
            "style": "IPY_MODEL_2bd3067482c6418d9c8c96a0b75dd0bd",
            "value": "Processing: 100%"
          }
        },
        "5540ce66036f4a1d88b409f4d08bbd51": {
          "model_module": "@jupyter-widgets/controls",
          "model_name": "FloatProgressModel",
          "model_module_version": "1.5.0",
          "state": {
            "_dom_classes": [],
            "_model_module": "@jupyter-widgets/controls",
            "_model_module_version": "1.5.0",
            "_model_name": "FloatProgressModel",
            "_view_count": null,
            "_view_module": "@jupyter-widgets/controls",
            "_view_module_version": "1.5.0",
            "_view_name": "ProgressView",
            "bar_style": "",
            "description": "",
            "description_tooltip": null,
            "layout": "IPY_MODEL_33c08a46bff8499fb8a55e8ec4127c13",
            "max": 6,
            "min": 0,
            "orientation": "horizontal",
            "style": "IPY_MODEL_9fc086127931455baac95746883364ab",
            "value": 6
          }
        },
        "0face5a510204ee0835bfe94a339e7bd": {
          "model_module": "@jupyter-widgets/controls",
          "model_name": "HTMLModel",
          "model_module_version": "1.5.0",
          "state": {
            "_dom_classes": [],
            "_model_module": "@jupyter-widgets/controls",
            "_model_module_version": "1.5.0",
            "_model_name": "HTMLModel",
            "_view_count": null,
            "_view_module": "@jupyter-widgets/controls",
            "_view_module_version": "1.5.0",
            "_view_name": "HTMLView",
            "description": "",
            "description_tooltip": null,
            "layout": "IPY_MODEL_799c4d8d1f8046c7ac15a5889e652feb",
            "placeholder": "​",
            "style": "IPY_MODEL_517262be0b2f455aaf075b629b20cd6f",
            "value": " 6/6 [00:03&lt;00:00,  1.59it/s]"
          }
        },
        "c46d12e16c684a969fa37414a77d7657": {
          "model_module": "@jupyter-widgets/base",
          "model_name": "LayoutModel",
          "model_module_version": "1.2.0",
          "state": {
            "_model_module": "@jupyter-widgets/base",
            "_model_module_version": "1.2.0",
            "_model_name": "LayoutModel",
            "_view_count": null,
            "_view_module": "@jupyter-widgets/base",
            "_view_module_version": "1.2.0",
            "_view_name": "LayoutView",
            "align_content": null,
            "align_items": null,
            "align_self": null,
            "border": null,
            "bottom": null,
            "display": null,
            "flex": null,
            "flex_flow": null,
            "grid_area": null,
            "grid_auto_columns": null,
            "grid_auto_flow": null,
            "grid_auto_rows": null,
            "grid_column": null,
            "grid_gap": null,
            "grid_row": null,
            "grid_template_areas": null,
            "grid_template_columns": null,
            "grid_template_rows": null,
            "height": null,
            "justify_content": null,
            "justify_items": null,
            "left": null,
            "margin": null,
            "max_height": null,
            "max_width": null,
            "min_height": null,
            "min_width": null,
            "object_fit": null,
            "object_position": null,
            "order": null,
            "overflow": null,
            "overflow_x": null,
            "overflow_y": null,
            "padding": null,
            "right": null,
            "top": null,
            "visibility": "hidden",
            "width": null
          }
        },
        "6b9ff2dd1e524bea80d942687a40e3d1": {
          "model_module": "@jupyter-widgets/base",
          "model_name": "LayoutModel",
          "model_module_version": "1.2.0",
          "state": {
            "_model_module": "@jupyter-widgets/base",
            "_model_module_version": "1.2.0",
            "_model_name": "LayoutModel",
            "_view_count": null,
            "_view_module": "@jupyter-widgets/base",
            "_view_module_version": "1.2.0",
            "_view_name": "LayoutView",
            "align_content": null,
            "align_items": null,
            "align_self": null,
            "border": null,
            "bottom": null,
            "display": null,
            "flex": null,
            "flex_flow": null,
            "grid_area": null,
            "grid_auto_columns": null,
            "grid_auto_flow": null,
            "grid_auto_rows": null,
            "grid_column": null,
            "grid_gap": null,
            "grid_row": null,
            "grid_template_areas": null,
            "grid_template_columns": null,
            "grid_template_rows": null,
            "height": null,
            "justify_content": null,
            "justify_items": null,
            "left": null,
            "margin": null,
            "max_height": null,
            "max_width": null,
            "min_height": null,
            "min_width": null,
            "object_fit": null,
            "object_position": null,
            "order": null,
            "overflow": null,
            "overflow_x": null,
            "overflow_y": null,
            "padding": null,
            "right": null,
            "top": null,
            "visibility": null,
            "width": null
          }
        },
        "2bd3067482c6418d9c8c96a0b75dd0bd": {
          "model_module": "@jupyter-widgets/controls",
          "model_name": "DescriptionStyleModel",
          "model_module_version": "1.5.0",
          "state": {
            "_model_module": "@jupyter-widgets/controls",
            "_model_module_version": "1.5.0",
            "_model_name": "DescriptionStyleModel",
            "_view_count": null,
            "_view_module": "@jupyter-widgets/base",
            "_view_module_version": "1.2.0",
            "_view_name": "StyleView",
            "description_width": ""
          }
        },
        "33c08a46bff8499fb8a55e8ec4127c13": {
          "model_module": "@jupyter-widgets/base",
          "model_name": "LayoutModel",
          "model_module_version": "1.2.0",
          "state": {
            "_model_module": "@jupyter-widgets/base",
            "_model_module_version": "1.2.0",
            "_model_name": "LayoutModel",
            "_view_count": null,
            "_view_module": "@jupyter-widgets/base",
            "_view_module_version": "1.2.0",
            "_view_name": "LayoutView",
            "align_content": null,
            "align_items": null,
            "align_self": null,
            "border": null,
            "bottom": null,
            "display": null,
            "flex": null,
            "flex_flow": null,
            "grid_area": null,
            "grid_auto_columns": null,
            "grid_auto_flow": null,
            "grid_auto_rows": null,
            "grid_column": null,
            "grid_gap": null,
            "grid_row": null,
            "grid_template_areas": null,
            "grid_template_columns": null,
            "grid_template_rows": null,
            "height": null,
            "justify_content": null,
            "justify_items": null,
            "left": null,
            "margin": null,
            "max_height": null,
            "max_width": null,
            "min_height": null,
            "min_width": null,
            "object_fit": null,
            "object_position": null,
            "order": null,
            "overflow": null,
            "overflow_x": null,
            "overflow_y": null,
            "padding": null,
            "right": null,
            "top": null,
            "visibility": null,
            "width": null
          }
        },
        "9fc086127931455baac95746883364ab": {
          "model_module": "@jupyter-widgets/controls",
          "model_name": "ProgressStyleModel",
          "model_module_version": "1.5.0",
          "state": {
            "_model_module": "@jupyter-widgets/controls",
            "_model_module_version": "1.5.0",
            "_model_name": "ProgressStyleModel",
            "_view_count": null,
            "_view_module": "@jupyter-widgets/base",
            "_view_module_version": "1.2.0",
            "_view_name": "StyleView",
            "bar_color": null,
            "description_width": ""
          }
        },
        "799c4d8d1f8046c7ac15a5889e652feb": {
          "model_module": "@jupyter-widgets/base",
          "model_name": "LayoutModel",
          "model_module_version": "1.2.0",
          "state": {
            "_model_module": "@jupyter-widgets/base",
            "_model_module_version": "1.2.0",
            "_model_name": "LayoutModel",
            "_view_count": null,
            "_view_module": "@jupyter-widgets/base",
            "_view_module_version": "1.2.0",
            "_view_name": "LayoutView",
            "align_content": null,
            "align_items": null,
            "align_self": null,
            "border": null,
            "bottom": null,
            "display": null,
            "flex": null,
            "flex_flow": null,
            "grid_area": null,
            "grid_auto_columns": null,
            "grid_auto_flow": null,
            "grid_auto_rows": null,
            "grid_column": null,
            "grid_gap": null,
            "grid_row": null,
            "grid_template_areas": null,
            "grid_template_columns": null,
            "grid_template_rows": null,
            "height": null,
            "justify_content": null,
            "justify_items": null,
            "left": null,
            "margin": null,
            "max_height": null,
            "max_width": null,
            "min_height": null,
            "min_width": null,
            "object_fit": null,
            "object_position": null,
            "order": null,
            "overflow": null,
            "overflow_x": null,
            "overflow_y": null,
            "padding": null,
            "right": null,
            "top": null,
            "visibility": null,
            "width": null
          }
        },
        "517262be0b2f455aaf075b629b20cd6f": {
          "model_module": "@jupyter-widgets/controls",
          "model_name": "DescriptionStyleModel",
          "model_module_version": "1.5.0",
          "state": {
            "_model_module": "@jupyter-widgets/controls",
            "_model_module_version": "1.5.0",
            "_model_name": "DescriptionStyleModel",
            "_view_count": null,
            "_view_module": "@jupyter-widgets/base",
            "_view_module_version": "1.2.0",
            "_view_name": "StyleView",
            "description_width": ""
          }
        },
        "eaf939b2f2f84ee68c521d7e148aece5": {
          "model_module": "@jupyter-widgets/controls",
          "model_name": "VBoxModel",
          "model_module_version": "1.5.0",
          "state": {
            "_dom_classes": [
              "widget-interact"
            ],
            "_model_module": "@jupyter-widgets/controls",
            "_model_module_version": "1.5.0",
            "_model_name": "VBoxModel",
            "_view_count": null,
            "_view_module": "@jupyter-widgets/controls",
            "_view_module_version": "1.5.0",
            "_view_name": "VBoxView",
            "box_style": "",
            "children": [
              "IPY_MODEL_f64728bd3daf4e63a29eaed84c9e3fb8",
              "IPY_MODEL_655d92ee842b441986593e283a0445cc"
            ],
            "layout": "IPY_MODEL_539aed71cc2a4df5ae582ee1a6fee813"
          }
        },
        "f64728bd3daf4e63a29eaed84c9e3fb8": {
          "model_module": "@jupyter-widgets/controls",
          "model_name": "ToggleButtonsModel",
          "model_module_version": "1.5.0",
          "state": {
            "_dom_classes": [],
            "_model_module": "@jupyter-widgets/controls",
            "_model_module_version": "1.5.0",
            "_model_name": "ToggleButtonsModel",
            "_options_labels": [
              "Pipeline Plot",
              "Hyperparameters",
              "AUC",
              "Confusion Matrix",
              "Threshold",
              "Precision Recall",
              "Prediction Error",
              "Class Report",
              "Feature Selection",
              "Learning Curve",
              "Manifold Learning",
              "Calibration Curve",
              "Validation Curve",
              "Dimensions",
              "Feature Importance",
              "Feature Importance (All)",
              "Decision Boundary",
              "Lift Chart",
              "Gain Chart",
              "Decision Tree",
              "KS Statistic Plot"
            ],
            "_view_count": null,
            "_view_module": "@jupyter-widgets/controls",
            "_view_module_version": "1.5.0",
            "_view_name": "ToggleButtonsView",
            "button_style": "",
            "description": "Plot Type:",
            "description_tooltip": null,
            "disabled": false,
            "icons": [
              ""
            ],
            "index": 0,
            "layout": "IPY_MODEL_36448d2d53c345979c29f7404c55b42c",
            "style": "IPY_MODEL_d8ce922862ad46f394644478535af7e9",
            "tooltips": []
          }
        },
        "655d92ee842b441986593e283a0445cc": {
          "model_module": "@jupyter-widgets/output",
          "model_name": "OutputModel",
          "model_module_version": "1.0.0",
          "state": {
            "_dom_classes": [],
            "_model_module": "@jupyter-widgets/output",
            "_model_module_version": "1.0.0",
            "_model_name": "OutputModel",
            "_view_count": null,
            "_view_module": "@jupyter-widgets/output",
            "_view_module_version": "1.0.0",
            "_view_name": "OutputView",
            "layout": "IPY_MODEL_5a8d6feea18a41de998ebe5e2aabd16e",
            "msg_id": "",
            "outputs": [
              {
                "output_type": "display_data",
                "data": {
                  "text/plain": "<Figure size 2700x600 with 1 Axes>",
                  "image/png": "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\n"
                },
                "metadata": {}
              }
            ]
          }
        },
        "539aed71cc2a4df5ae582ee1a6fee813": {
          "model_module": "@jupyter-widgets/base",
          "model_name": "LayoutModel",
          "model_module_version": "1.2.0",
          "state": {
            "_model_module": "@jupyter-widgets/base",
            "_model_module_version": "1.2.0",
            "_model_name": "LayoutModel",
            "_view_count": null,
            "_view_module": "@jupyter-widgets/base",
            "_view_module_version": "1.2.0",
            "_view_name": "LayoutView",
            "align_content": null,
            "align_items": null,
            "align_self": null,
            "border": null,
            "bottom": null,
            "display": null,
            "flex": null,
            "flex_flow": null,
            "grid_area": null,
            "grid_auto_columns": null,
            "grid_auto_flow": null,
            "grid_auto_rows": null,
            "grid_column": null,
            "grid_gap": null,
            "grid_row": null,
            "grid_template_areas": null,
            "grid_template_columns": null,
            "grid_template_rows": null,
            "height": null,
            "justify_content": null,
            "justify_items": null,
            "left": null,
            "margin": null,
            "max_height": null,
            "max_width": null,
            "min_height": null,
            "min_width": null,
            "object_fit": null,
            "object_position": null,
            "order": null,
            "overflow": null,
            "overflow_x": null,
            "overflow_y": null,
            "padding": null,
            "right": null,
            "top": null,
            "visibility": null,
            "width": null
          }
        },
        "36448d2d53c345979c29f7404c55b42c": {
          "model_module": "@jupyter-widgets/base",
          "model_name": "LayoutModel",
          "model_module_version": "1.2.0",
          "state": {
            "_model_module": "@jupyter-widgets/base",
            "_model_module_version": "1.2.0",
            "_model_name": "LayoutModel",
            "_view_count": null,
            "_view_module": "@jupyter-widgets/base",
            "_view_module_version": "1.2.0",
            "_view_name": "LayoutView",
            "align_content": null,
            "align_items": null,
            "align_self": null,
            "border": null,
            "bottom": null,
            "display": null,
            "flex": null,
            "flex_flow": null,
            "grid_area": null,
            "grid_auto_columns": null,
            "grid_auto_flow": null,
            "grid_auto_rows": null,
            "grid_column": null,
            "grid_gap": null,
            "grid_row": null,
            "grid_template_areas": null,
            "grid_template_columns": null,
            "grid_template_rows": null,
            "height": null,
            "justify_content": null,
            "justify_items": null,
            "left": null,
            "margin": null,
            "max_height": null,
            "max_width": null,
            "min_height": null,
            "min_width": null,
            "object_fit": null,
            "object_position": null,
            "order": null,
            "overflow": null,
            "overflow_x": null,
            "overflow_y": null,
            "padding": null,
            "right": null,
            "top": null,
            "visibility": null,
            "width": null
          }
        },
        "d8ce922862ad46f394644478535af7e9": {
          "model_module": "@jupyter-widgets/controls",
          "model_name": "ToggleButtonsStyleModel",
          "model_module_version": "1.5.0",
          "state": {
            "_model_module": "@jupyter-widgets/controls",
            "_model_module_version": "1.5.0",
            "_model_name": "ToggleButtonsStyleModel",
            "_view_count": null,
            "_view_module": "@jupyter-widgets/base",
            "_view_module_version": "1.2.0",
            "_view_name": "StyleView",
            "button_width": "",
            "description_width": "",
            "font_weight": ""
          }
        },
        "5a8d6feea18a41de998ebe5e2aabd16e": {
          "model_module": "@jupyter-widgets/base",
          "model_name": "LayoutModel",
          "model_module_version": "1.2.0",
          "state": {
            "_model_module": "@jupyter-widgets/base",
            "_model_module_version": "1.2.0",
            "_model_name": "LayoutModel",
            "_view_count": null,
            "_view_module": "@jupyter-widgets/base",
            "_view_module_version": "1.2.0",
            "_view_name": "LayoutView",
            "align_content": null,
            "align_items": null,
            "align_self": null,
            "border": null,
            "bottom": null,
            "display": null,
            "flex": null,
            "flex_flow": null,
            "grid_area": null,
            "grid_auto_columns": null,
            "grid_auto_flow": null,
            "grid_auto_rows": null,
            "grid_column": null,
            "grid_gap": null,
            "grid_row": null,
            "grid_template_areas": null,
            "grid_template_columns": null,
            "grid_template_rows": null,
            "height": null,
            "justify_content": null,
            "justify_items": null,
            "left": null,
            "margin": null,
            "max_height": null,
            "max_width": null,
            "min_height": null,
            "min_width": null,
            "object_fit": null,
            "object_position": null,
            "order": null,
            "overflow": null,
            "overflow_x": null,
            "overflow_y": null,
            "padding": null,
            "right": null,
            "top": null,
            "visibility": null,
            "width": null
          }
        },
        "30826d9304064ec2972e42bba55691a5": {
          "model_module": "@jupyter-widgets/controls",
          "model_name": "VBoxModel",
          "model_module_version": "1.5.0",
          "state": {
            "_dom_classes": [
              "widget-interact"
            ],
            "_model_module": "@jupyter-widgets/controls",
            "_model_module_version": "1.5.0",
            "_model_name": "VBoxModel",
            "_view_count": null,
            "_view_module": "@jupyter-widgets/controls",
            "_view_module_version": "1.5.0",
            "_view_name": "VBoxView",
            "box_style": "",
            "children": [
              "IPY_MODEL_1e387d4c6b8e4ce48180b105ffc3dcf0",
              "IPY_MODEL_165a86164a204cbfb0d46bb0d67ea223"
            ],
            "layout": "IPY_MODEL_cd9efb3a6201461dae4de4f9a4ef8529"
          }
        },
        "1e387d4c6b8e4ce48180b105ffc3dcf0": {
          "model_module": "@jupyter-widgets/controls",
          "model_name": "ToggleButtonsModel",
          "model_module_version": "1.5.0",
          "state": {
            "_dom_classes": [],
            "_model_module": "@jupyter-widgets/controls",
            "_model_module_version": "1.5.0",
            "_model_name": "ToggleButtonsModel",
            "_options_labels": [
              "Pipeline Plot",
              "Hyperparameters",
              "AUC",
              "Confusion Matrix",
              "Threshold",
              "Precision Recall",
              "Prediction Error",
              "Class Report",
              "Feature Selection",
              "Learning Curve",
              "Manifold Learning",
              "Calibration Curve",
              "Validation Curve",
              "Dimensions",
              "Feature Importance",
              "Feature Importance (All)",
              "Decision Boundary",
              "Lift Chart",
              "Gain Chart",
              "Decision Tree",
              "KS Statistic Plot"
            ],
            "_view_count": null,
            "_view_module": "@jupyter-widgets/controls",
            "_view_module_version": "1.5.0",
            "_view_name": "ToggleButtonsView",
            "button_style": "",
            "description": "Plot Type:",
            "description_tooltip": null,
            "disabled": false,
            "icons": [
              ""
            ],
            "index": 0,
            "layout": "IPY_MODEL_6f8911115e7a448490d92bb71317c85d",
            "style": "IPY_MODEL_768236355da942e1b7e7f366a9b5380d",
            "tooltips": []
          }
        },
        "165a86164a204cbfb0d46bb0d67ea223": {
          "model_module": "@jupyter-widgets/output",
          "model_name": "OutputModel",
          "model_module_version": "1.0.0",
          "state": {
            "_dom_classes": [],
            "_model_module": "@jupyter-widgets/output",
            "_model_module_version": "1.0.0",
            "_model_name": "OutputModel",
            "_view_count": null,
            "_view_module": "@jupyter-widgets/output",
            "_view_module_version": "1.0.0",
            "_view_name": "OutputView",
            "layout": "IPY_MODEL_023285140fef4d27a9491453c7f592f2",
            "msg_id": "",
            "outputs": [
              {
                "output_type": "display_data",
                "data": {
                  "text/plain": "<Figure size 2700x600 with 1 Axes>",
                  "image/png": "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\n"
                },
                "metadata": {}
              }
            ]
          }
        },
        "cd9efb3a6201461dae4de4f9a4ef8529": {
          "model_module": "@jupyter-widgets/base",
          "model_name": "LayoutModel",
          "model_module_version": "1.2.0",
          "state": {
            "_model_module": "@jupyter-widgets/base",
            "_model_module_version": "1.2.0",
            "_model_name": "LayoutModel",
            "_view_count": null,
            "_view_module": "@jupyter-widgets/base",
            "_view_module_version": "1.2.0",
            "_view_name": "LayoutView",
            "align_content": null,
            "align_items": null,
            "align_self": null,
            "border": null,
            "bottom": null,
            "display": null,
            "flex": null,
            "flex_flow": null,
            "grid_area": null,
            "grid_auto_columns": null,
            "grid_auto_flow": null,
            "grid_auto_rows": null,
            "grid_column": null,
            "grid_gap": null,
            "grid_row": null,
            "grid_template_areas": null,
            "grid_template_columns": null,
            "grid_template_rows": null,
            "height": null,
            "justify_content": null,
            "justify_items": null,
            "left": null,
            "margin": null,
            "max_height": null,
            "max_width": null,
            "min_height": null,
            "min_width": null,
            "object_fit": null,
            "object_position": null,
            "order": null,
            "overflow": null,
            "overflow_x": null,
            "overflow_y": null,
            "padding": null,
            "right": null,
            "top": null,
            "visibility": null,
            "width": null
          }
        },
        "6f8911115e7a448490d92bb71317c85d": {
          "model_module": "@jupyter-widgets/base",
          "model_name": "LayoutModel",
          "model_module_version": "1.2.0",
          "state": {
            "_model_module": "@jupyter-widgets/base",
            "_model_module_version": "1.2.0",
            "_model_name": "LayoutModel",
            "_view_count": null,
            "_view_module": "@jupyter-widgets/base",
            "_view_module_version": "1.2.0",
            "_view_name": "LayoutView",
            "align_content": null,
            "align_items": null,
            "align_self": null,
            "border": null,
            "bottom": null,
            "display": null,
            "flex": null,
            "flex_flow": null,
            "grid_area": null,
            "grid_auto_columns": null,
            "grid_auto_flow": null,
            "grid_auto_rows": null,
            "grid_column": null,
            "grid_gap": null,
            "grid_row": null,
            "grid_template_areas": null,
            "grid_template_columns": null,
            "grid_template_rows": null,
            "height": null,
            "justify_content": null,
            "justify_items": null,
            "left": null,
            "margin": null,
            "max_height": null,
            "max_width": null,
            "min_height": null,
            "min_width": null,
            "object_fit": null,
            "object_position": null,
            "order": null,
            "overflow": null,
            "overflow_x": null,
            "overflow_y": null,
            "padding": null,
            "right": null,
            "top": null,
            "visibility": null,
            "width": null
          }
        },
        "768236355da942e1b7e7f366a9b5380d": {
          "model_module": "@jupyter-widgets/controls",
          "model_name": "ToggleButtonsStyleModel",
          "model_module_version": "1.5.0",
          "state": {
            "_model_module": "@jupyter-widgets/controls",
            "_model_module_version": "1.5.0",
            "_model_name": "ToggleButtonsStyleModel",
            "_view_count": null,
            "_view_module": "@jupyter-widgets/base",
            "_view_module_version": "1.2.0",
            "_view_name": "StyleView",
            "button_width": "",
            "description_width": "",
            "font_weight": ""
          }
        },
        "023285140fef4d27a9491453c7f592f2": {
          "model_module": "@jupyter-widgets/base",
          "model_name": "LayoutModel",
          "model_module_version": "1.2.0",
          "state": {
            "_model_module": "@jupyter-widgets/base",
            "_model_module_version": "1.2.0",
            "_model_name": "LayoutModel",
            "_view_count": null,
            "_view_module": "@jupyter-widgets/base",
            "_view_module_version": "1.2.0",
            "_view_name": "LayoutView",
            "align_content": null,
            "align_items": null,
            "align_self": null,
            "border": null,
            "bottom": null,
            "display": null,
            "flex": null,
            "flex_flow": null,
            "grid_area": null,
            "grid_auto_columns": null,
            "grid_auto_flow": null,
            "grid_auto_rows": null,
            "grid_column": null,
            "grid_gap": null,
            "grid_row": null,
            "grid_template_areas": null,
            "grid_template_columns": null,
            "grid_template_rows": null,
            "height": null,
            "justify_content": null,
            "justify_items": null,
            "left": null,
            "margin": null,
            "max_height": null,
            "max_width": null,
            "min_height": null,
            "min_width": null,
            "object_fit": null,
            "object_position": null,
            "order": null,
            "overflow": null,
            "overflow_x": null,
            "overflow_y": null,
            "padding": null,
            "right": null,
            "top": null,
            "visibility": null,
            "width": null
          }
        },
        "5ffbf2fe73eb425eb3215ed256a36758": {
          "model_module": "@jupyter-widgets/controls",
          "model_name": "VBoxModel",
          "model_module_version": "1.5.0",
          "state": {
            "_dom_classes": [
              "widget-interact"
            ],
            "_model_module": "@jupyter-widgets/controls",
            "_model_module_version": "1.5.0",
            "_model_name": "VBoxModel",
            "_view_count": null,
            "_view_module": "@jupyter-widgets/controls",
            "_view_module_version": "1.5.0",
            "_view_name": "VBoxView",
            "box_style": "",
            "children": [
              "IPY_MODEL_c45d9768203346c0b2600f97b23daed4",
              "IPY_MODEL_28a0879620b84623b5d37c7f3b5d05ab"
            ],
            "layout": "IPY_MODEL_053acbb1dae346728f4b01626e6840bc"
          }
        },
        "c45d9768203346c0b2600f97b23daed4": {
          "model_module": "@jupyter-widgets/controls",
          "model_name": "ToggleButtonsModel",
          "model_module_version": "1.5.0",
          "state": {
            "_dom_classes": [],
            "_model_module": "@jupyter-widgets/controls",
            "_model_module_version": "1.5.0",
            "_model_name": "ToggleButtonsModel",
            "_options_labels": [
              "Pipeline Plot",
              "Hyperparameters",
              "AUC",
              "Confusion Matrix",
              "Threshold",
              "Precision Recall",
              "Prediction Error",
              "Class Report",
              "Feature Selection",
              "Learning Curve",
              "Manifold Learning",
              "Calibration Curve",
              "Validation Curve",
              "Dimensions",
              "Feature Importance",
              "Feature Importance (All)",
              "Decision Boundary",
              "Lift Chart",
              "Gain Chart",
              "Decision Tree",
              "KS Statistic Plot"
            ],
            "_view_count": null,
            "_view_module": "@jupyter-widgets/controls",
            "_view_module_version": "1.5.0",
            "_view_name": "ToggleButtonsView",
            "button_style": "",
            "description": "Plot Type:",
            "description_tooltip": null,
            "disabled": false,
            "icons": [
              ""
            ],
            "index": 0,
            "layout": "IPY_MODEL_2866db16117a44a490ecf7f4df91f575",
            "style": "IPY_MODEL_91d6394ba27e4bfa8501f16c0f37965d",
            "tooltips": []
          }
        },
        "28a0879620b84623b5d37c7f3b5d05ab": {
          "model_module": "@jupyter-widgets/output",
          "model_name": "OutputModel",
          "model_module_version": "1.0.0",
          "state": {
            "_dom_classes": [],
            "_model_module": "@jupyter-widgets/output",
            "_model_module_version": "1.0.0",
            "_model_name": "OutputModel",
            "_view_count": null,
            "_view_module": "@jupyter-widgets/output",
            "_view_module_version": "1.0.0",
            "_view_name": "OutputView",
            "layout": "IPY_MODEL_c6c494e782de4de19b92109b71b0ec82",
            "msg_id": "",
            "outputs": [
              {
                "output_type": "display_data",
                "data": {
                  "text/plain": "<Figure size 2700x600 with 1 Axes>",
                  "image/png": "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\n"
                },
                "metadata": {}
              }
            ]
          }
        },
        "053acbb1dae346728f4b01626e6840bc": {
          "model_module": "@jupyter-widgets/base",
          "model_name": "LayoutModel",
          "model_module_version": "1.2.0",
          "state": {
            "_model_module": "@jupyter-widgets/base",
            "_model_module_version": "1.2.0",
            "_model_name": "LayoutModel",
            "_view_count": null,
            "_view_module": "@jupyter-widgets/base",
            "_view_module_version": "1.2.0",
            "_view_name": "LayoutView",
            "align_content": null,
            "align_items": null,
            "align_self": null,
            "border": null,
            "bottom": null,
            "display": null,
            "flex": null,
            "flex_flow": null,
            "grid_area": null,
            "grid_auto_columns": null,
            "grid_auto_flow": null,
            "grid_auto_rows": null,
            "grid_column": null,
            "grid_gap": null,
            "grid_row": null,
            "grid_template_areas": null,
            "grid_template_columns": null,
            "grid_template_rows": null,
            "height": null,
            "justify_content": null,
            "justify_items": null,
            "left": null,
            "margin": null,
            "max_height": null,
            "max_width": null,
            "min_height": null,
            "min_width": null,
            "object_fit": null,
            "object_position": null,
            "order": null,
            "overflow": null,
            "overflow_x": null,
            "overflow_y": null,
            "padding": null,
            "right": null,
            "top": null,
            "visibility": null,
            "width": null
          }
        },
        "2866db16117a44a490ecf7f4df91f575": {
          "model_module": "@jupyter-widgets/base",
          "model_name": "LayoutModel",
          "model_module_version": "1.2.0",
          "state": {
            "_model_module": "@jupyter-widgets/base",
            "_model_module_version": "1.2.0",
            "_model_name": "LayoutModel",
            "_view_count": null,
            "_view_module": "@jupyter-widgets/base",
            "_view_module_version": "1.2.0",
            "_view_name": "LayoutView",
            "align_content": null,
            "align_items": null,
            "align_self": null,
            "border": null,
            "bottom": null,
            "display": null,
            "flex": null,
            "flex_flow": null,
            "grid_area": null,
            "grid_auto_columns": null,
            "grid_auto_flow": null,
            "grid_auto_rows": null,
            "grid_column": null,
            "grid_gap": null,
            "grid_row": null,
            "grid_template_areas": null,
            "grid_template_columns": null,
            "grid_template_rows": null,
            "height": null,
            "justify_content": null,
            "justify_items": null,
            "left": null,
            "margin": null,
            "max_height": null,
            "max_width": null,
            "min_height": null,
            "min_width": null,
            "object_fit": null,
            "object_position": null,
            "order": null,
            "overflow": null,
            "overflow_x": null,
            "overflow_y": null,
            "padding": null,
            "right": null,
            "top": null,
            "visibility": null,
            "width": null
          }
        },
        "91d6394ba27e4bfa8501f16c0f37965d": {
          "model_module": "@jupyter-widgets/controls",
          "model_name": "ToggleButtonsStyleModel",
          "model_module_version": "1.5.0",
          "state": {
            "_model_module": "@jupyter-widgets/controls",
            "_model_module_version": "1.5.0",
            "_model_name": "ToggleButtonsStyleModel",
            "_view_count": null,
            "_view_module": "@jupyter-widgets/base",
            "_view_module_version": "1.2.0",
            "_view_name": "StyleView",
            "button_width": "",
            "description_width": "",
            "font_weight": ""
          }
        },
        "c6c494e782de4de19b92109b71b0ec82": {
          "model_module": "@jupyter-widgets/base",
          "model_name": "LayoutModel",
          "model_module_version": "1.2.0",
          "state": {
            "_model_module": "@jupyter-widgets/base",
            "_model_module_version": "1.2.0",
            "_model_name": "LayoutModel",
            "_view_count": null,
            "_view_module": "@jupyter-widgets/base",
            "_view_module_version": "1.2.0",
            "_view_name": "LayoutView",
            "align_content": null,
            "align_items": null,
            "align_self": null,
            "border": null,
            "bottom": null,
            "display": null,
            "flex": null,
            "flex_flow": null,
            "grid_area": null,
            "grid_auto_columns": null,
            "grid_auto_flow": null,
            "grid_auto_rows": null,
            "grid_column": null,
            "grid_gap": null,
            "grid_row": null,
            "grid_template_areas": null,
            "grid_template_columns": null,
            "grid_template_rows": null,
            "height": null,
            "justify_content": null,
            "justify_items": null,
            "left": null,
            "margin": null,
            "max_height": null,
            "max_width": null,
            "min_height": null,
            "min_width": null,
            "object_fit": null,
            "object_position": null,
            "order": null,
            "overflow": null,
            "overflow_x": null,
            "overflow_y": null,
            "padding": null,
            "right": null,
            "top": null,
            "visibility": null,
            "width": null
          }
        }
      }
    }
  },
  "cells": [
    {
      "cell_type": "markdown",
      "metadata": {
        "id": "view-in-github",
        "colab_type": "text"
      },
      "source": [
        "<a href=\"https://colab.research.google.com/github/cristiandarioortegayubro/BDS/blob/main/pycaret/bds_PyCaret_001_03.ipynb\" target=\"_parent\"><img src=\"https://colab.research.google.com/assets/colab-badge.svg\" alt=\"Open In Colab\"/></a>"
      ]
    },
    {
      "cell_type": "markdown",
      "source": [
        "<p align=\"center\">\n",
        "<img src=\"https://github.com/cristiandarioortegayubro/BDS/blob/main/images/Logo%20BDS%20Horizontal%208.png?raw=true\">\n",
        "</p>\n"
      ],
      "metadata": {
        "id": "iheuwam9e4CH"
      }
    },
    {
      "cell_type": "markdown",
      "source": [
        "<p align=\"center\">\n",
        "<img src=\"https://github.com/cristiandarioortegayubro/BDS/blob/main/datasets/Logo%20PyCaret.png?raw=true\" width=\"150\">\n",
        "</p>\n"
      ],
      "metadata": {
        "id": "XM-hn7ZLmgQc"
      }
    },
    {
      "cell_type": "markdown",
      "source": [
        "<p align=\"justify\"><b>\n",
        "<font color=\"DeepPink\">\n",
        "💗 Todo el mundo deberia aprender a programar, porque te enseña a pensar...\n",
        "</font>\n",
        "</p>\n",
        "<p align=\"right\"><b>\n",
        "<font color=\"DeepPink\">\n",
        "Steve Jobs (1995)\n",
        "</font>\n",
        "</p>\n",
        "<br>\n",
        "<br>\n",
        "\n"
      ],
      "metadata": {
        "id": "WwQ24btLmgSN"
      }
    },
    {
      "cell_type": "markdown",
      "source": [
        " # **<font color=\"DeepPink\">PyCaret - Clasificación - Optimización - Ensemble</font>**"
      ],
      "metadata": {
        "id": "_o8tuKydjnRZ"
      }
    },
    {
      "cell_type": "markdown",
      "source": [
        "<p align=\"justify\">\n",
        "En <code>PyCaret</code>, el módulo de Clasificación (Classification Module) es una parte integral de la biblioteca diseñada para realizar tareas de clasificación automatizada. La clasificación es un tipo de problema de aprendizaje automático supervisado en el que el objetivo es predecir la clase o categoría de un elemento basándose en sus características (atributos).\n",
        "<br>\n",
        "<br>\n",
        "El módulo de Clasificación de <code>PyCaret</code> ofrece una serie de funciones y herramientas que facilitan el proceso de construcción, entrenamiento y evaluación de modelos de clasificación de manera automatizada y eficiente.\n",
        "<br>\n",
        "<br>\n",
        "Algunas de las características clave del módulo de Clasificación de PyCaret son:\n",
        "<br>\n",
        "<br>\n",
        "<ol align=\"justify\">\n",
        "<li><b>Preprocesamiento de datos</b>: <code>PyCaret</code> automatiza el preprocesamiento de datos, lo que incluye el manejo de valores faltantes, codificación de variables categóricas, división de datos en conjuntos de entrenamiento y prueba, y más. Esto permite a los usuarios centrarse más en el desarrollo del modelo en sí y menos en las tareas de limpieza y transformación de datos.</li>\n",
        "<br>\n",
        "<li><b>Comparación de modelos</b>: <code>PyCaret</code> permite a los usuarios comparar fácilmente varios modelos de clasificación populares. La biblioteca entrena automáticamente múltiples modelos en el conjunto de datos y proporciona una tabla de clasificación que muestra las métricas de rendimiento de cada modelo, lo que facilita la identificación del modelo más prometedor para un problema en particular.</li>\n",
        "<br>\n",
        "<li><b>Optimización de hiperparámetros</b>: Los hiperparámetros son configuraciones que afectan el rendimiento y comportamiento de un modelo de aprendizaje automático. <code>PyCaret</code> realiza una búsqueda inteligente en el espacio de hiperparámetros para encontrar la combinación óptima que maximice el rendimiento del modelo.</li>\n",
        "<br>\n",
        "<li><b>Interpretación de modelos</b>: <code>PyCaret</code> ofrece herramientas para interpretar y visualizar los modelos de clasificación, lo que ayuda a comprender cómo toman decisiones y qué características son más importantes para el modelo.</li>\n",
        "<br>\n",
        "<li><b>Curvas ROC y Matrices de Confusión</b>: <code>PyCaret</code> proporciona curvas ROC (Receiver Operating Characteristic) y matrices de confusión para evaluar el rendimiento de los modelos de clasificación en diferentes umbrales de decisión.</li>\n",
        "<br>\n",
        "<li><b>Ensemble Learning</b>: <code>PyCaret</code> admite Ensemble Learning, que combina múltiples modelos para mejorar el rendimiento general y reducir el riesgo de sobreajuste (overfitting).</li>\n",
        "<br>\n",
        "<li><b>Predicción en nuevos datos</b>: Una vez que se ha construido y entrenado un modelo, PyCaret permite utilizarlo para hacer predicciones en nuevos datos sin la necesidad de escribir mucho código adicional.</li>\n",
        "</ol>\n",
        "<br>\n",
        "<p align=\"justify\">\n",
        "El módulo de Clasificación de <code>PyCaret</code> está diseñado para ser amigable para principiantes, lo que permite a estudiantes y profesionales de Ciencia de Datos realizar tareas de clasificación complejas con mayor facilidad y rapidez. Al automatizar gran parte del proceso, <code>PyCaret</code> permite a los usuarios centrarse en la exploración de resultados, la interpretación de modelos y la toma de decisiones informadas en lugar de dedicar tiempo a tareas repetitivas.\n",
        "<br>\n",
        "<br>\n",
        "💗 A disfrutar las Clasificaciones de <code>PyCaret</code>...\n",
        "</p>"
      ],
      "metadata": {
        "id": "XaMAYwSH1pVn"
      }
    },
    {
      "cell_type": "markdown",
      "source": [
        " # **<font color=\"DeepPink\">Instalando PyCaret...</font>**"
      ],
      "metadata": {
        "id": "ZFLqreYtWuKH"
      }
    },
    {
      "cell_type": "markdown",
      "source": [
        "<p align=\"justify\"> 👀 Primero instalamos <code>PyCaret</code>:  </p>"
      ],
      "metadata": {
        "id": "riE9ZSRbOdsF"
      }
    },
    {
      "cell_type": "code",
      "source": [
        "!pip install pycaret"
      ],
      "metadata": {
        "id": "dQtWrchXqRb3",
        "colab": {
          "base_uri": "https://localhost:8080/"
        },
        "outputId": "9d466ffa-4eca-490a-8881-7821cd458c0a"
      },
      "execution_count": 1,
      "outputs": [
        {
          "output_type": "stream",
          "name": "stdout",
          "text": [
            "Requirement already satisfied: pycaret in /usr/local/lib/python3.10/dist-packages (3.0.4)\n",
            "Requirement already satisfied: ipython>=5.5.0 in /usr/local/lib/python3.10/dist-packages (from pycaret) (7.34.0)\n",
            "Requirement already satisfied: ipywidgets>=7.6.5 in /usr/local/lib/python3.10/dist-packages (from pycaret) (7.7.1)\n",
            "Requirement already satisfied: tqdm>=4.62.0 in /usr/local/lib/python3.10/dist-packages (from pycaret) (4.65.0)\n",
            "Requirement already satisfied: numpy<1.24,>=1.21 in /usr/local/lib/python3.10/dist-packages (from pycaret) (1.23.5)\n",
            "Requirement already satisfied: pandas<2.0.0,>=1.3.0 in /usr/local/lib/python3.10/dist-packages (from pycaret) (1.5.3)\n",
            "Requirement already satisfied: jinja2>=1.2 in /usr/local/lib/python3.10/dist-packages (from pycaret) (3.1.2)\n",
            "Requirement already satisfied: scipy<2.0.0 in /usr/local/lib/python3.10/dist-packages (from pycaret) (1.10.1)\n",
            "Requirement already satisfied: joblib>=1.2.0 in /usr/local/lib/python3.10/dist-packages (from pycaret) (1.3.1)\n",
            "Requirement already satisfied: scikit-learn<1.3.0,>=1.0 in /usr/local/lib/python3.10/dist-packages (from pycaret) (1.2.2)\n",
            "Requirement already satisfied: pyod>=1.0.8 in /usr/local/lib/python3.10/dist-packages (from pycaret) (1.1.0)\n",
            "Requirement already satisfied: imbalanced-learn>=0.8.1 in /usr/local/lib/python3.10/dist-packages (from pycaret) (0.10.1)\n",
            "Requirement already satisfied: category-encoders>=2.4.0 in /usr/local/lib/python3.10/dist-packages (from pycaret) (2.6.1)\n",
            "Requirement already satisfied: lightgbm>=3.0.0 in /usr/local/lib/python3.10/dist-packages (from pycaret) (3.3.5)\n",
            "Requirement already satisfied: numba>=0.55.0 in /usr/local/lib/python3.10/dist-packages (from pycaret) (0.56.4)\n",
            "Requirement already satisfied: requests>=2.27.1 in /usr/local/lib/python3.10/dist-packages (from pycaret) (2.31.0)\n",
            "Requirement already satisfied: psutil>=5.9.0 in /usr/local/lib/python3.10/dist-packages (from pycaret) (5.9.5)\n",
            "Requirement already satisfied: markupsafe>=2.0.1 in /usr/local/lib/python3.10/dist-packages (from pycaret) (2.1.3)\n",
            "Requirement already satisfied: importlib-metadata>=4.12.0 in /usr/local/lib/python3.10/dist-packages (from pycaret) (6.8.0)\n",
            "Requirement already satisfied: nbformat>=4.2.0 in /usr/local/lib/python3.10/dist-packages (from pycaret) (5.9.2)\n",
            "Requirement already satisfied: cloudpickle in /usr/local/lib/python3.10/dist-packages (from pycaret) (2.2.1)\n",
            "Requirement already satisfied: deprecation>=2.1.0 in /usr/local/lib/python3.10/dist-packages (from pycaret) (2.1.0)\n",
            "Requirement already satisfied: xxhash in /usr/local/lib/python3.10/dist-packages (from pycaret) (3.3.0)\n",
            "Requirement already satisfied: matplotlib>=3.3.0 in /usr/local/lib/python3.10/dist-packages (from pycaret) (3.7.1)\n",
            "Requirement already satisfied: scikit-plot>=0.3.7 in /usr/local/lib/python3.10/dist-packages (from pycaret) (0.3.7)\n",
            "Requirement already satisfied: yellowbrick>=1.4 in /usr/local/lib/python3.10/dist-packages (from pycaret) (1.5)\n",
            "Requirement already satisfied: plotly>=5.0.0 in /usr/local/lib/python3.10/dist-packages (from pycaret) (5.13.1)\n",
            "Requirement already satisfied: kaleido>=0.2.1 in /usr/local/lib/python3.10/dist-packages (from pycaret) (0.2.1)\n",
            "Requirement already satisfied: schemdraw==0.15 in /usr/local/lib/python3.10/dist-packages (from pycaret) (0.15)\n",
            "Requirement already satisfied: plotly-resampler>=0.8.3.1 in /usr/local/lib/python3.10/dist-packages (from pycaret) (0.9.1)\n",
            "Requirement already satisfied: statsmodels>=0.12.1 in /usr/local/lib/python3.10/dist-packages (from pycaret) (0.13.5)\n",
            "Requirement already satisfied: sktime!=0.17.1,!=0.17.2,!=0.18.0,>=0.16.1 in /usr/local/lib/python3.10/dist-packages (from pycaret) (0.21.0)\n",
            "Requirement already satisfied: tbats>=1.1.3 in /usr/local/lib/python3.10/dist-packages (from pycaret) (1.1.3)\n",
            "Requirement already satisfied: pmdarima!=1.8.1,<3.0.0,>=1.8.0 in /usr/local/lib/python3.10/dist-packages (from pycaret) (2.0.3)\n",
            "Requirement already satisfied: wurlitzer in /usr/local/lib/python3.10/dist-packages (from pycaret) (3.0.3)\n",
            "Requirement already satisfied: patsy>=0.5.1 in /usr/local/lib/python3.10/dist-packages (from category-encoders>=2.4.0->pycaret) (0.5.3)\n",
            "Requirement already satisfied: packaging in /usr/local/lib/python3.10/dist-packages (from deprecation>=2.1.0->pycaret) (23.1)\n",
            "Requirement already satisfied: threadpoolctl>=2.0.0 in /usr/local/lib/python3.10/dist-packages (from imbalanced-learn>=0.8.1->pycaret) (3.2.0)\n",
            "Requirement already satisfied: zipp>=0.5 in /usr/local/lib/python3.10/dist-packages (from importlib-metadata>=4.12.0->pycaret) (3.16.2)\n",
            "Requirement already satisfied: setuptools>=18.5 in /usr/local/lib/python3.10/dist-packages (from ipython>=5.5.0->pycaret) (67.7.2)\n",
            "Requirement already satisfied: jedi>=0.16 in /usr/local/lib/python3.10/dist-packages (from ipython>=5.5.0->pycaret) (0.19.0)\n",
            "Requirement already satisfied: decorator in /usr/local/lib/python3.10/dist-packages (from ipython>=5.5.0->pycaret) (4.4.2)\n",
            "Requirement already satisfied: pickleshare in /usr/local/lib/python3.10/dist-packages (from ipython>=5.5.0->pycaret) (0.7.5)\n",
            "Requirement already satisfied: traitlets>=4.2 in /usr/local/lib/python3.10/dist-packages (from ipython>=5.5.0->pycaret) (5.7.1)\n",
            "Requirement already satisfied: prompt-toolkit!=3.0.0,!=3.0.1,<3.1.0,>=2.0.0 in /usr/local/lib/python3.10/dist-packages (from ipython>=5.5.0->pycaret) (3.0.39)\n",
            "Requirement already satisfied: pygments in /usr/local/lib/python3.10/dist-packages (from ipython>=5.5.0->pycaret) (2.14.0)\n",
            "Requirement already satisfied: backcall in /usr/local/lib/python3.10/dist-packages (from ipython>=5.5.0->pycaret) (0.2.0)\n",
            "Requirement already satisfied: matplotlib-inline in /usr/local/lib/python3.10/dist-packages (from ipython>=5.5.0->pycaret) (0.1.6)\n",
            "Requirement already satisfied: pexpect>4.3 in /usr/local/lib/python3.10/dist-packages (from ipython>=5.5.0->pycaret) (4.8.0)\n",
            "Requirement already satisfied: ipykernel>=4.5.1 in /usr/local/lib/python3.10/dist-packages (from ipywidgets>=7.6.5->pycaret) (5.5.6)\n",
            "Requirement already satisfied: ipython-genutils~=0.2.0 in /usr/local/lib/python3.10/dist-packages (from ipywidgets>=7.6.5->pycaret) (0.2.0)\n",
            "Requirement already satisfied: widgetsnbextension~=3.6.0 in /usr/local/lib/python3.10/dist-packages (from ipywidgets>=7.6.5->pycaret) (3.6.5)\n",
            "Requirement already satisfied: jupyterlab-widgets>=1.0.0 in /usr/local/lib/python3.10/dist-packages (from ipywidgets>=7.6.5->pycaret) (3.0.8)\n",
            "Requirement already satisfied: wheel in /usr/local/lib/python3.10/dist-packages (from lightgbm>=3.0.0->pycaret) (0.41.0)\n",
            "Requirement already satisfied: contourpy>=1.0.1 in /usr/local/lib/python3.10/dist-packages (from matplotlib>=3.3.0->pycaret) (1.1.0)\n",
            "Requirement already satisfied: cycler>=0.10 in /usr/local/lib/python3.10/dist-packages (from matplotlib>=3.3.0->pycaret) (0.11.0)\n",
            "Requirement already satisfied: fonttools>=4.22.0 in /usr/local/lib/python3.10/dist-packages (from matplotlib>=3.3.0->pycaret) (4.42.0)\n",
            "Requirement already satisfied: kiwisolver>=1.0.1 in /usr/local/lib/python3.10/dist-packages (from matplotlib>=3.3.0->pycaret) (1.4.4)\n",
            "Requirement already satisfied: pillow>=6.2.0 in /usr/local/lib/python3.10/dist-packages (from matplotlib>=3.3.0->pycaret) (9.4.0)\n",
            "Requirement already satisfied: pyparsing>=2.3.1 in /usr/local/lib/python3.10/dist-packages (from matplotlib>=3.3.0->pycaret) (3.1.1)\n",
            "Requirement already satisfied: python-dateutil>=2.7 in /usr/local/lib/python3.10/dist-packages (from matplotlib>=3.3.0->pycaret) (2.8.2)\n",
            "Requirement already satisfied: fastjsonschema in /usr/local/lib/python3.10/dist-packages (from nbformat>=4.2.0->pycaret) (2.18.0)\n",
            "Requirement already satisfied: jsonschema>=2.6 in /usr/local/lib/python3.10/dist-packages (from nbformat>=4.2.0->pycaret) (4.3.3)\n",
            "Requirement already satisfied: jupyter-core in /usr/local/lib/python3.10/dist-packages (from nbformat>=4.2.0->pycaret) (5.3.1)\n",
            "Requirement already satisfied: llvmlite<0.40,>=0.39.0dev0 in /usr/local/lib/python3.10/dist-packages (from numba>=0.55.0->pycaret) (0.39.1)\n",
            "Requirement already satisfied: pytz>=2020.1 in /usr/local/lib/python3.10/dist-packages (from pandas<2.0.0,>=1.3.0->pycaret) (2022.7.1)\n",
            "Requirement already satisfied: tenacity>=6.2.0 in /usr/local/lib/python3.10/dist-packages (from plotly>=5.0.0->pycaret) (8.2.2)\n",
            "Requirement already satisfied: dash<3.0.0,>=2.11.0 in /usr/local/lib/python3.10/dist-packages (from plotly-resampler>=0.8.3.1->pycaret) (2.11.1)\n",
            "Requirement already satisfied: orjson<4.0.0,>=3.8.0 in /usr/local/lib/python3.10/dist-packages (from plotly-resampler>=0.8.3.1->pycaret) (3.9.4)\n",
            "Requirement already satisfied: trace-updater>=0.0.8 in /usr/local/lib/python3.10/dist-packages (from plotly-resampler>=0.8.3.1->pycaret) (0.0.9.1)\n",
            "Requirement already satisfied: tsdownsample==0.1.2 in /usr/local/lib/python3.10/dist-packages (from plotly-resampler>=0.8.3.1->pycaret) (0.1.2)\n",
            "Requirement already satisfied: Cython!=0.29.18,!=0.29.31,>=0.29 in /usr/local/lib/python3.10/dist-packages (from pmdarima!=1.8.1,<3.0.0,>=1.8.0->pycaret) (0.29.36)\n",
            "Requirement already satisfied: urllib3 in /usr/local/lib/python3.10/dist-packages (from pmdarima!=1.8.1,<3.0.0,>=1.8.0->pycaret) (1.26.16)\n",
            "Requirement already satisfied: six in /usr/local/lib/python3.10/dist-packages (from pyod>=1.0.8->pycaret) (1.16.0)\n",
            "Requirement already satisfied: charset-normalizer<4,>=2 in /usr/local/lib/python3.10/dist-packages (from requests>=2.27.1->pycaret) (3.2.0)\n",
            "Requirement already satisfied: idna<4,>=2.5 in /usr/local/lib/python3.10/dist-packages (from requests>=2.27.1->pycaret) (3.4)\n",
            "Requirement already satisfied: certifi>=2017.4.17 in /usr/local/lib/python3.10/dist-packages (from requests>=2.27.1->pycaret) (2023.7.22)\n",
            "Requirement already satisfied: deprecated>=1.2.13 in /usr/local/lib/python3.10/dist-packages (from sktime!=0.17.1,!=0.17.2,!=0.18.0,>=0.16.1->pycaret) (1.2.14)\n",
            "Requirement already satisfied: scikit-base<0.6.0 in /usr/local/lib/python3.10/dist-packages (from sktime!=0.17.1,!=0.17.2,!=0.18.0,>=0.16.1->pycaret) (0.5.0)\n",
            "Requirement already satisfied: Flask<2.3.0,>=1.0.4 in /usr/local/lib/python3.10/dist-packages (from dash<3.0.0,>=2.11.0->plotly-resampler>=0.8.3.1->pycaret) (2.2.5)\n",
            "Requirement already satisfied: Werkzeug<2.3.0 in /usr/local/lib/python3.10/dist-packages (from dash<3.0.0,>=2.11.0->plotly-resampler>=0.8.3.1->pycaret) (2.2.3)\n",
            "Requirement already satisfied: dash-html-components==2.0.0 in /usr/local/lib/python3.10/dist-packages (from dash<3.0.0,>=2.11.0->plotly-resampler>=0.8.3.1->pycaret) (2.0.0)\n",
            "Requirement already satisfied: dash-core-components==2.0.0 in /usr/local/lib/python3.10/dist-packages (from dash<3.0.0,>=2.11.0->plotly-resampler>=0.8.3.1->pycaret) (2.0.0)\n",
            "Requirement already satisfied: dash-table==5.0.0 in /usr/local/lib/python3.10/dist-packages (from dash<3.0.0,>=2.11.0->plotly-resampler>=0.8.3.1->pycaret) (5.0.0)\n",
            "Requirement already satisfied: typing-extensions>=4.1.1 in /usr/local/lib/python3.10/dist-packages (from dash<3.0.0,>=2.11.0->plotly-resampler>=0.8.3.1->pycaret) (4.7.1)\n",
            "Requirement already satisfied: retrying in /usr/local/lib/python3.10/dist-packages (from dash<3.0.0,>=2.11.0->plotly-resampler>=0.8.3.1->pycaret) (1.3.4)\n",
            "Requirement already satisfied: ansi2html in /usr/local/lib/python3.10/dist-packages (from dash<3.0.0,>=2.11.0->plotly-resampler>=0.8.3.1->pycaret) (1.8.0)\n",
            "Requirement already satisfied: nest-asyncio in /usr/local/lib/python3.10/dist-packages (from dash<3.0.0,>=2.11.0->plotly-resampler>=0.8.3.1->pycaret) (1.5.7)\n",
            "Requirement already satisfied: wrapt<2,>=1.10 in /usr/local/lib/python3.10/dist-packages (from deprecated>=1.2.13->sktime!=0.17.1,!=0.17.2,!=0.18.0,>=0.16.1->pycaret) (1.14.1)\n",
            "Requirement already satisfied: jupyter-client in /usr/local/lib/python3.10/dist-packages (from ipykernel>=4.5.1->ipywidgets>=7.6.5->pycaret) (6.1.12)\n",
            "Requirement already satisfied: tornado>=4.2 in /usr/local/lib/python3.10/dist-packages (from ipykernel>=4.5.1->ipywidgets>=7.6.5->pycaret) (6.3.1)\n",
            "Requirement already satisfied: parso<0.9.0,>=0.8.3 in /usr/local/lib/python3.10/dist-packages (from jedi>=0.16->ipython>=5.5.0->pycaret) (0.8.3)\n",
            "Requirement already satisfied: attrs>=17.4.0 in /usr/local/lib/python3.10/dist-packages (from jsonschema>=2.6->nbformat>=4.2.0->pycaret) (23.1.0)\n",
            "Requirement already satisfied: pyrsistent!=0.17.0,!=0.17.1,!=0.17.2,>=0.14.0 in /usr/local/lib/python3.10/dist-packages (from jsonschema>=2.6->nbformat>=4.2.0->pycaret) (0.19.3)\n",
            "Requirement already satisfied: ptyprocess>=0.5 in /usr/local/lib/python3.10/dist-packages (from pexpect>4.3->ipython>=5.5.0->pycaret) (0.7.0)\n",
            "Requirement already satisfied: wcwidth in /usr/local/lib/python3.10/dist-packages (from prompt-toolkit!=3.0.0,!=3.0.1,<3.1.0,>=2.0.0->ipython>=5.5.0->pycaret) (0.2.6)\n",
            "Requirement already satisfied: notebook>=4.4.1 in /usr/local/lib/python3.10/dist-packages (from widgetsnbextension~=3.6.0->ipywidgets>=7.6.5->pycaret) (6.4.8)\n",
            "Requirement already satisfied: platformdirs>=2.5 in /usr/local/lib/python3.10/dist-packages (from jupyter-core->nbformat>=4.2.0->pycaret) (3.10.0)\n",
            "Requirement already satisfied: itsdangerous>=2.0 in /usr/local/lib/python3.10/dist-packages (from Flask<2.3.0,>=1.0.4->dash<3.0.0,>=2.11.0->plotly-resampler>=0.8.3.1->pycaret) (2.1.2)\n",
            "Requirement already satisfied: click>=8.0 in /usr/local/lib/python3.10/dist-packages (from Flask<2.3.0,>=1.0.4->dash<3.0.0,>=2.11.0->plotly-resampler>=0.8.3.1->pycaret) (8.1.6)\n",
            "Requirement already satisfied: pyzmq>=17 in /usr/local/lib/python3.10/dist-packages (from notebook>=4.4.1->widgetsnbextension~=3.6.0->ipywidgets>=7.6.5->pycaret) (23.2.1)\n",
            "Requirement already satisfied: argon2-cffi in /usr/local/lib/python3.10/dist-packages (from notebook>=4.4.1->widgetsnbextension~=3.6.0->ipywidgets>=7.6.5->pycaret) (21.3.0)\n",
            "Requirement already satisfied: nbconvert in /usr/local/lib/python3.10/dist-packages (from notebook>=4.4.1->widgetsnbextension~=3.6.0->ipywidgets>=7.6.5->pycaret) (6.5.4)\n",
            "Requirement already satisfied: Send2Trash>=1.8.0 in /usr/local/lib/python3.10/dist-packages (from notebook>=4.4.1->widgetsnbextension~=3.6.0->ipywidgets>=7.6.5->pycaret) (1.8.2)\n",
            "Requirement already satisfied: terminado>=0.8.3 in /usr/local/lib/python3.10/dist-packages (from notebook>=4.4.1->widgetsnbextension~=3.6.0->ipywidgets>=7.6.5->pycaret) (0.17.1)\n",
            "Requirement already satisfied: prometheus-client in /usr/local/lib/python3.10/dist-packages (from notebook>=4.4.1->widgetsnbextension~=3.6.0->ipywidgets>=7.6.5->pycaret) (0.17.1)\n",
            "Requirement already satisfied: argon2-cffi-bindings in /usr/local/lib/python3.10/dist-packages (from argon2-cffi->notebook>=4.4.1->widgetsnbextension~=3.6.0->ipywidgets>=7.6.5->pycaret) (21.2.0)\n",
            "Requirement already satisfied: lxml in /usr/local/lib/python3.10/dist-packages (from nbconvert->notebook>=4.4.1->widgetsnbextension~=3.6.0->ipywidgets>=7.6.5->pycaret) (4.9.3)\n",
            "Requirement already satisfied: beautifulsoup4 in /usr/local/lib/python3.10/dist-packages (from nbconvert->notebook>=4.4.1->widgetsnbextension~=3.6.0->ipywidgets>=7.6.5->pycaret) (4.11.2)\n",
            "Requirement already satisfied: bleach in /usr/local/lib/python3.10/dist-packages (from nbconvert->notebook>=4.4.1->widgetsnbextension~=3.6.0->ipywidgets>=7.6.5->pycaret) (6.0.0)\n",
            "Requirement already satisfied: defusedxml in /usr/local/lib/python3.10/dist-packages (from nbconvert->notebook>=4.4.1->widgetsnbextension~=3.6.0->ipywidgets>=7.6.5->pycaret) (0.7.1)\n",
            "Requirement already satisfied: entrypoints>=0.2.2 in /usr/local/lib/python3.10/dist-packages (from nbconvert->notebook>=4.4.1->widgetsnbextension~=3.6.0->ipywidgets>=7.6.5->pycaret) (0.4)\n",
            "Requirement already satisfied: jupyterlab-pygments in /usr/local/lib/python3.10/dist-packages (from nbconvert->notebook>=4.4.1->widgetsnbextension~=3.6.0->ipywidgets>=7.6.5->pycaret) (0.2.2)\n",
            "Requirement already satisfied: mistune<2,>=0.8.1 in /usr/local/lib/python3.10/dist-packages (from nbconvert->notebook>=4.4.1->widgetsnbextension~=3.6.0->ipywidgets>=7.6.5->pycaret) (0.8.4)\n",
            "Requirement already satisfied: nbclient>=0.5.0 in /usr/local/lib/python3.10/dist-packages (from nbconvert->notebook>=4.4.1->widgetsnbextension~=3.6.0->ipywidgets>=7.6.5->pycaret) (0.8.0)\n",
            "Requirement already satisfied: pandocfilters>=1.4.1 in /usr/local/lib/python3.10/dist-packages (from nbconvert->notebook>=4.4.1->widgetsnbextension~=3.6.0->ipywidgets>=7.6.5->pycaret) (1.5.0)\n",
            "Requirement already satisfied: tinycss2 in /usr/local/lib/python3.10/dist-packages (from nbconvert->notebook>=4.4.1->widgetsnbextension~=3.6.0->ipywidgets>=7.6.5->pycaret) (1.2.1)\n",
            "Requirement already satisfied: cffi>=1.0.1 in /usr/local/lib/python3.10/dist-packages (from argon2-cffi-bindings->argon2-cffi->notebook>=4.4.1->widgetsnbextension~=3.6.0->ipywidgets>=7.6.5->pycaret) (1.15.1)\n",
            "Requirement already satisfied: soupsieve>1.2 in /usr/local/lib/python3.10/dist-packages (from beautifulsoup4->nbconvert->notebook>=4.4.1->widgetsnbextension~=3.6.0->ipywidgets>=7.6.5->pycaret) (2.4.1)\n",
            "Requirement already satisfied: webencodings in /usr/local/lib/python3.10/dist-packages (from bleach->nbconvert->notebook>=4.4.1->widgetsnbextension~=3.6.0->ipywidgets>=7.6.5->pycaret) (0.5.1)\n",
            "Requirement already satisfied: pycparser in /usr/local/lib/python3.10/dist-packages (from cffi>=1.0.1->argon2-cffi-bindings->argon2-cffi->notebook>=4.4.1->widgetsnbextension~=3.6.0->ipywidgets>=7.6.5->pycaret) (2.21)\n"
          ]
        }
      ]
    },
    {
      "cell_type": "markdown",
      "source": [
        " # **<font color=\"DeepPink\">Workflow</font>**"
      ],
      "metadata": {
        "id": "Pi9auIK65jF4"
      }
    },
    {
      "cell_type": "markdown",
      "source": [
        "<h5 align=\"center\"><b>\n",
        "<font color=\"DeepPink\">\n",
        "<b>Setup ▶ Create Model ▶ Analyze Model ▶ Prediction ▶ Save Model\n",
        "\n",
        "\n"
      ],
      "metadata": {
        "id": "jlGdAhen5k_T"
      }
    },
    {
      "cell_type": "markdown",
      "source": [
        " # **<font color=\"DeepPink\">Obteniendo datos</font>**"
      ],
      "metadata": {
        "id": "Y7LDCZ14PIKr"
      }
    },
    {
      "cell_type": "code",
      "source": [
        "from pycaret.datasets import get_data"
      ],
      "metadata": {
        "id": "GNWhBU3OnSWq"
      },
      "execution_count": 2,
      "outputs": []
    },
    {
      "cell_type": "code",
      "source": [
        "data = get_data('bank')"
      ],
      "metadata": {
        "id": "VQ_U5DirnSSw",
        "colab": {
          "base_uri": "https://localhost:8080/",
          "height": 266
        },
        "outputId": "8d36045c-5576-4424-ac7c-48a5a146fa85"
      },
      "execution_count": 3,
      "outputs": [
        {
          "output_type": "display_data",
          "data": {
            "text/plain": [
              "   age           job  marital  education default  balance housing loan  \\\n",
              "0   58    management  married   tertiary      no     2143     yes   no   \n",
              "1   44    technician   single  secondary      no       29     yes   no   \n",
              "2   33  entrepreneur  married  secondary      no        2     yes  yes   \n",
              "3   47   blue-collar  married    unknown      no     1506     yes   no   \n",
              "4   33       unknown   single    unknown      no        1      no   no   \n",
              "\n",
              "   contact  day month  duration  campaign  pdays  previous poutcome deposit  \n",
              "0  unknown    5   may       261         1     -1         0  unknown      no  \n",
              "1  unknown    5   may       151         1     -1         0  unknown      no  \n",
              "2  unknown    5   may        76         1     -1         0  unknown      no  \n",
              "3  unknown    5   may        92         1     -1         0  unknown      no  \n",
              "4  unknown    5   may       198         1     -1         0  unknown      no  "
            ],
            "text/html": [
              "\n",
              "\n",
              "  <div id=\"df-101210f0-9df7-43cb-8fae-7023deb75d95\">\n",
              "    <div class=\"colab-df-container\">\n",
              "      <div>\n",
              "<style scoped>\n",
              "    .dataframe tbody tr th:only-of-type {\n",
              "        vertical-align: middle;\n",
              "    }\n",
              "\n",
              "    .dataframe tbody tr th {\n",
              "        vertical-align: top;\n",
              "    }\n",
              "\n",
              "    .dataframe thead th {\n",
              "        text-align: right;\n",
              "    }\n",
              "</style>\n",
              "<table border=\"1\" class=\"dataframe\">\n",
              "  <thead>\n",
              "    <tr style=\"text-align: right;\">\n",
              "      <th></th>\n",
              "      <th>age</th>\n",
              "      <th>job</th>\n",
              "      <th>marital</th>\n",
              "      <th>education</th>\n",
              "      <th>default</th>\n",
              "      <th>balance</th>\n",
              "      <th>housing</th>\n",
              "      <th>loan</th>\n",
              "      <th>contact</th>\n",
              "      <th>day</th>\n",
              "      <th>month</th>\n",
              "      <th>duration</th>\n",
              "      <th>campaign</th>\n",
              "      <th>pdays</th>\n",
              "      <th>previous</th>\n",
              "      <th>poutcome</th>\n",
              "      <th>deposit</th>\n",
              "    </tr>\n",
              "  </thead>\n",
              "  <tbody>\n",
              "    <tr>\n",
              "      <th>0</th>\n",
              "      <td>58</td>\n",
              "      <td>management</td>\n",
              "      <td>married</td>\n",
              "      <td>tertiary</td>\n",
              "      <td>no</td>\n",
              "      <td>2143</td>\n",
              "      <td>yes</td>\n",
              "      <td>no</td>\n",
              "      <td>unknown</td>\n",
              "      <td>5</td>\n",
              "      <td>may</td>\n",
              "      <td>261</td>\n",
              "      <td>1</td>\n",
              "      <td>-1</td>\n",
              "      <td>0</td>\n",
              "      <td>unknown</td>\n",
              "      <td>no</td>\n",
              "    </tr>\n",
              "    <tr>\n",
              "      <th>1</th>\n",
              "      <td>44</td>\n",
              "      <td>technician</td>\n",
              "      <td>single</td>\n",
              "      <td>secondary</td>\n",
              "      <td>no</td>\n",
              "      <td>29</td>\n",
              "      <td>yes</td>\n",
              "      <td>no</td>\n",
              "      <td>unknown</td>\n",
              "      <td>5</td>\n",
              "      <td>may</td>\n",
              "      <td>151</td>\n",
              "      <td>1</td>\n",
              "      <td>-1</td>\n",
              "      <td>0</td>\n",
              "      <td>unknown</td>\n",
              "      <td>no</td>\n",
              "    </tr>\n",
              "    <tr>\n",
              "      <th>2</th>\n",
              "      <td>33</td>\n",
              "      <td>entrepreneur</td>\n",
              "      <td>married</td>\n",
              "      <td>secondary</td>\n",
              "      <td>no</td>\n",
              "      <td>2</td>\n",
              "      <td>yes</td>\n",
              "      <td>yes</td>\n",
              "      <td>unknown</td>\n",
              "      <td>5</td>\n",
              "      <td>may</td>\n",
              "      <td>76</td>\n",
              "      <td>1</td>\n",
              "      <td>-1</td>\n",
              "      <td>0</td>\n",
              "      <td>unknown</td>\n",
              "      <td>no</td>\n",
              "    </tr>\n",
              "    <tr>\n",
              "      <th>3</th>\n",
              "      <td>47</td>\n",
              "      <td>blue-collar</td>\n",
              "      <td>married</td>\n",
              "      <td>unknown</td>\n",
              "      <td>no</td>\n",
              "      <td>1506</td>\n",
              "      <td>yes</td>\n",
              "      <td>no</td>\n",
              "      <td>unknown</td>\n",
              "      <td>5</td>\n",
              "      <td>may</td>\n",
              "      <td>92</td>\n",
              "      <td>1</td>\n",
              "      <td>-1</td>\n",
              "      <td>0</td>\n",
              "      <td>unknown</td>\n",
              "      <td>no</td>\n",
              "    </tr>\n",
              "    <tr>\n",
              "      <th>4</th>\n",
              "      <td>33</td>\n",
              "      <td>unknown</td>\n",
              "      <td>single</td>\n",
              "      <td>unknown</td>\n",
              "      <td>no</td>\n",
              "      <td>1</td>\n",
              "      <td>no</td>\n",
              "      <td>no</td>\n",
              "      <td>unknown</td>\n",
              "      <td>5</td>\n",
              "      <td>may</td>\n",
              "      <td>198</td>\n",
              "      <td>1</td>\n",
              "      <td>-1</td>\n",
              "      <td>0</td>\n",
              "      <td>unknown</td>\n",
              "      <td>no</td>\n",
              "    </tr>\n",
              "  </tbody>\n",
              "</table>\n",
              "</div>\n",
              "      <button class=\"colab-df-convert\" onclick=\"convertToInteractive('df-101210f0-9df7-43cb-8fae-7023deb75d95')\"\n",
              "              title=\"Convert this dataframe to an interactive table.\"\n",
              "              style=\"display:none;\">\n",
              "\n",
              "  <svg xmlns=\"http://www.w3.org/2000/svg\" height=\"24px\"viewBox=\"0 0 24 24\"\n",
              "       width=\"24px\">\n",
              "    <path d=\"M0 0h24v24H0V0z\" fill=\"none\"/>\n",
              "    <path d=\"M18.56 5.44l.94 2.06.94-2.06 2.06-.94-2.06-.94-.94-2.06-.94 2.06-2.06.94zm-11 1L8.5 8.5l.94-2.06 2.06-.94-2.06-.94L8.5 2.5l-.94 2.06-2.06.94zm10 10l.94 2.06.94-2.06 2.06-.94-2.06-.94-.94-2.06-.94 2.06-2.06.94z\"/><path d=\"M17.41 7.96l-1.37-1.37c-.4-.4-.92-.59-1.43-.59-.52 0-1.04.2-1.43.59L10.3 9.45l-7.72 7.72c-.78.78-.78 2.05 0 2.83L4 21.41c.39.39.9.59 1.41.59.51 0 1.02-.2 1.41-.59l7.78-7.78 2.81-2.81c.8-.78.8-2.07 0-2.86zM5.41 20L4 18.59l7.72-7.72 1.47 1.35L5.41 20z\"/>\n",
              "  </svg>\n",
              "      </button>\n",
              "\n",
              "\n",
              "\n",
              "    <div id=\"df-fbdb0880-30de-44c6-adeb-ac956f74d7aa\">\n",
              "      <button class=\"colab-df-quickchart\" onclick=\"quickchart('df-fbdb0880-30de-44c6-adeb-ac956f74d7aa')\"\n",
              "              title=\"Suggest charts.\"\n",
              "              style=\"display:none;\">\n",
              "\n",
              "<svg xmlns=\"http://www.w3.org/2000/svg\" height=\"24px\"viewBox=\"0 0 24 24\"\n",
              "     width=\"24px\">\n",
              "    <g>\n",
              "        <path d=\"M19 3H5c-1.1 0-2 .9-2 2v14c0 1.1.9 2 2 2h14c1.1 0 2-.9 2-2V5c0-1.1-.9-2-2-2zM9 17H7v-7h2v7zm4 0h-2V7h2v10zm4 0h-2v-4h2v4z\"/>\n",
              "    </g>\n",
              "</svg>\n",
              "      </button>\n",
              "    </div>\n",
              "\n",
              "<style>\n",
              "  .colab-df-quickchart {\n",
              "    background-color: #E8F0FE;\n",
              "    border: none;\n",
              "    border-radius: 50%;\n",
              "    cursor: pointer;\n",
              "    display: none;\n",
              "    fill: #1967D2;\n",
              "    height: 32px;\n",
              "    padding: 0 0 0 0;\n",
              "    width: 32px;\n",
              "  }\n",
              "\n",
              "  .colab-df-quickchart:hover {\n",
              "    background-color: #E2EBFA;\n",
              "    box-shadow: 0px 1px 2px rgba(60, 64, 67, 0.3), 0px 1px 3px 1px rgba(60, 64, 67, 0.15);\n",
              "    fill: #174EA6;\n",
              "  }\n",
              "\n",
              "  [theme=dark] .colab-df-quickchart {\n",
              "    background-color: #3B4455;\n",
              "    fill: #D2E3FC;\n",
              "  }\n",
              "\n",
              "  [theme=dark] .colab-df-quickchart:hover {\n",
              "    background-color: #434B5C;\n",
              "    box-shadow: 0px 1px 3px 1px rgba(0, 0, 0, 0.15);\n",
              "    filter: drop-shadow(0px 1px 2px rgba(0, 0, 0, 0.3));\n",
              "    fill: #FFFFFF;\n",
              "  }\n",
              "</style>\n",
              "\n",
              "    <script>\n",
              "      async function quickchart(key) {\n",
              "        const containerElement = document.querySelector('#' + key);\n",
              "        const charts = await google.colab.kernel.invokeFunction(\n",
              "            'suggestCharts', [key], {});\n",
              "      }\n",
              "    </script>\n",
              "\n",
              "      <script>\n",
              "\n",
              "function displayQuickchartButton(domScope) {\n",
              "  let quickchartButtonEl =\n",
              "    domScope.querySelector('#df-fbdb0880-30de-44c6-adeb-ac956f74d7aa button.colab-df-quickchart');\n",
              "  quickchartButtonEl.style.display =\n",
              "    google.colab.kernel.accessAllowed ? 'block' : 'none';\n",
              "}\n",
              "\n",
              "        displayQuickchartButton(document);\n",
              "      </script>\n",
              "      <style>\n",
              "    .colab-df-container {\n",
              "      display:flex;\n",
              "      flex-wrap:wrap;\n",
              "      gap: 12px;\n",
              "    }\n",
              "\n",
              "    .colab-df-convert {\n",
              "      background-color: #E8F0FE;\n",
              "      border: none;\n",
              "      border-radius: 50%;\n",
              "      cursor: pointer;\n",
              "      display: none;\n",
              "      fill: #1967D2;\n",
              "      height: 32px;\n",
              "      padding: 0 0 0 0;\n",
              "      width: 32px;\n",
              "    }\n",
              "\n",
              "    .colab-df-convert:hover {\n",
              "      background-color: #E2EBFA;\n",
              "      box-shadow: 0px 1px 2px rgba(60, 64, 67, 0.3), 0px 1px 3px 1px rgba(60, 64, 67, 0.15);\n",
              "      fill: #174EA6;\n",
              "    }\n",
              "\n",
              "    [theme=dark] .colab-df-convert {\n",
              "      background-color: #3B4455;\n",
              "      fill: #D2E3FC;\n",
              "    }\n",
              "\n",
              "    [theme=dark] .colab-df-convert:hover {\n",
              "      background-color: #434B5C;\n",
              "      box-shadow: 0px 1px 3px 1px rgba(0, 0, 0, 0.15);\n",
              "      filter: drop-shadow(0px 1px 2px rgba(0, 0, 0, 0.3));\n",
              "      fill: #FFFFFF;\n",
              "    }\n",
              "  </style>\n",
              "\n",
              "      <script>\n",
              "        const buttonEl =\n",
              "          document.querySelector('#df-101210f0-9df7-43cb-8fae-7023deb75d95 button.colab-df-convert');\n",
              "        buttonEl.style.display =\n",
              "          google.colab.kernel.accessAllowed ? 'block' : 'none';\n",
              "\n",
              "        async function convertToInteractive(key) {\n",
              "          const element = document.querySelector('#df-101210f0-9df7-43cb-8fae-7023deb75d95');\n",
              "          const dataTable =\n",
              "            await google.colab.kernel.invokeFunction('convertToInteractive',\n",
              "                                                     [key], {});\n",
              "          if (!dataTable) return;\n",
              "\n",
              "          const docLinkHtml = 'Like what you see? Visit the ' +\n",
              "            '<a target=\"_blank\" href=https://colab.research.google.com/notebooks/data_table.ipynb>data table notebook</a>'\n",
              "            + ' to learn more about interactive tables.';\n",
              "          element.innerHTML = '';\n",
              "          dataTable['output_type'] = 'display_data';\n",
              "          await google.colab.output.renderOutput(dataTable, element);\n",
              "          const docLink = document.createElement('div');\n",
              "          docLink.innerHTML = docLinkHtml;\n",
              "          element.appendChild(docLink);\n",
              "        }\n",
              "      </script>\n",
              "    </div>\n",
              "  </div>\n"
            ]
          },
          "metadata": {}
        }
      ]
    },
    {
      "cell_type": "markdown",
      "source": [
        "# **<font color=\"DeepPink\">01 - Setup</font>**\n",
        "\n",
        "<h5 align=\"center\"><b>\n",
        "<font color=\"DeepPink\">\n",
        "<b><mark>Setup</mark> ▶ Create Model ▶ Analyze Model ▶ Prediction ▶ Save Model\n"
      ],
      "metadata": {
        "id": "hFp2KQml9ciL"
      }
    },
    {
      "cell_type": "markdown",
      "source": [
        "<p align=\"justify\">\n",
        "Esta función inicializa el entorno de entrenamiento y crea el pipeline de transformación. La función de configuración debe llamarse antes de ejecutar cualquier otra función en <code>PyCaret</code>.\n",
        "<br><br>\n",
        "👀 <code>Setup()</code> tiene dos parámetros obligatorios, <code>data</code> y <code>target</code>. Todos los demás parámetros son opcionales."
      ],
      "metadata": {
        "id": "A61cL_Yt9tbE"
      }
    },
    {
      "cell_type": "code",
      "source": [
        "from pycaret.classification import *"
      ],
      "metadata": {
        "id": "uh12JFTfnSPs"
      },
      "execution_count": 4,
      "outputs": []
    },
    {
      "cell_type": "code",
      "source": [
        "s = setup(data, target = 'deposit', session_id = 123)"
      ],
      "metadata": {
        "id": "AxWTBJb7nSMi",
        "colab": {
          "base_uri": "https://localhost:8080/",
          "height": 801
        },
        "outputId": "e6a12bcd-210c-4e6f-8db5-b043b5329b0f"
      },
      "execution_count": 5,
      "outputs": [
        {
          "output_type": "display_data",
          "data": {
            "text/plain": [
              "<pandas.io.formats.style.Styler at 0x7a517911c040>"
            ],
            "text/html": [
              "<style type=\"text/css\">\n",
              "#T_d3f64_row11_col1 {\n",
              "  background-color: lightgreen;\n",
              "}\n",
              "</style>\n",
              "<table id=\"T_d3f64\" class=\"dataframe\">\n",
              "  <thead>\n",
              "    <tr>\n",
              "      <th class=\"blank level0\" >&nbsp;</th>\n",
              "      <th id=\"T_d3f64_level0_col0\" class=\"col_heading level0 col0\" >Description</th>\n",
              "      <th id=\"T_d3f64_level0_col1\" class=\"col_heading level0 col1\" >Value</th>\n",
              "    </tr>\n",
              "  </thead>\n",
              "  <tbody>\n",
              "    <tr>\n",
              "      <th id=\"T_d3f64_level0_row0\" class=\"row_heading level0 row0\" >0</th>\n",
              "      <td id=\"T_d3f64_row0_col0\" class=\"data row0 col0\" >Session id</td>\n",
              "      <td id=\"T_d3f64_row0_col1\" class=\"data row0 col1\" >123</td>\n",
              "    </tr>\n",
              "    <tr>\n",
              "      <th id=\"T_d3f64_level0_row1\" class=\"row_heading level0 row1\" >1</th>\n",
              "      <td id=\"T_d3f64_row1_col0\" class=\"data row1 col0\" >Target</td>\n",
              "      <td id=\"T_d3f64_row1_col1\" class=\"data row1 col1\" >deposit</td>\n",
              "    </tr>\n",
              "    <tr>\n",
              "      <th id=\"T_d3f64_level0_row2\" class=\"row_heading level0 row2\" >2</th>\n",
              "      <td id=\"T_d3f64_row2_col0\" class=\"data row2 col0\" >Target type</td>\n",
              "      <td id=\"T_d3f64_row2_col1\" class=\"data row2 col1\" >Binary</td>\n",
              "    </tr>\n",
              "    <tr>\n",
              "      <th id=\"T_d3f64_level0_row3\" class=\"row_heading level0 row3\" >3</th>\n",
              "      <td id=\"T_d3f64_row3_col0\" class=\"data row3 col0\" >Target mapping</td>\n",
              "      <td id=\"T_d3f64_row3_col1\" class=\"data row3 col1\" >no: 0, yes: 1</td>\n",
              "    </tr>\n",
              "    <tr>\n",
              "      <th id=\"T_d3f64_level0_row4\" class=\"row_heading level0 row4\" >4</th>\n",
              "      <td id=\"T_d3f64_row4_col0\" class=\"data row4 col0\" >Original data shape</td>\n",
              "      <td id=\"T_d3f64_row4_col1\" class=\"data row4 col1\" >(45211, 17)</td>\n",
              "    </tr>\n",
              "    <tr>\n",
              "      <th id=\"T_d3f64_level0_row5\" class=\"row_heading level0 row5\" >5</th>\n",
              "      <td id=\"T_d3f64_row5_col0\" class=\"data row5 col0\" >Transformed data shape</td>\n",
              "      <td id=\"T_d3f64_row5_col1\" class=\"data row5 col1\" >(45211, 49)</td>\n",
              "    </tr>\n",
              "    <tr>\n",
              "      <th id=\"T_d3f64_level0_row6\" class=\"row_heading level0 row6\" >6</th>\n",
              "      <td id=\"T_d3f64_row6_col0\" class=\"data row6 col0\" >Transformed train set shape</td>\n",
              "      <td id=\"T_d3f64_row6_col1\" class=\"data row6 col1\" >(31647, 49)</td>\n",
              "    </tr>\n",
              "    <tr>\n",
              "      <th id=\"T_d3f64_level0_row7\" class=\"row_heading level0 row7\" >7</th>\n",
              "      <td id=\"T_d3f64_row7_col0\" class=\"data row7 col0\" >Transformed test set shape</td>\n",
              "      <td id=\"T_d3f64_row7_col1\" class=\"data row7 col1\" >(13564, 49)</td>\n",
              "    </tr>\n",
              "    <tr>\n",
              "      <th id=\"T_d3f64_level0_row8\" class=\"row_heading level0 row8\" >8</th>\n",
              "      <td id=\"T_d3f64_row8_col0\" class=\"data row8 col0\" >Ordinal features</td>\n",
              "      <td id=\"T_d3f64_row8_col1\" class=\"data row8 col1\" >3</td>\n",
              "    </tr>\n",
              "    <tr>\n",
              "      <th id=\"T_d3f64_level0_row9\" class=\"row_heading level0 row9\" >9</th>\n",
              "      <td id=\"T_d3f64_row9_col0\" class=\"data row9 col0\" >Numeric features</td>\n",
              "      <td id=\"T_d3f64_row9_col1\" class=\"data row9 col1\" >7</td>\n",
              "    </tr>\n",
              "    <tr>\n",
              "      <th id=\"T_d3f64_level0_row10\" class=\"row_heading level0 row10\" >10</th>\n",
              "      <td id=\"T_d3f64_row10_col0\" class=\"data row10 col0\" >Categorical features</td>\n",
              "      <td id=\"T_d3f64_row10_col1\" class=\"data row10 col1\" >9</td>\n",
              "    </tr>\n",
              "    <tr>\n",
              "      <th id=\"T_d3f64_level0_row11\" class=\"row_heading level0 row11\" >11</th>\n",
              "      <td id=\"T_d3f64_row11_col0\" class=\"data row11 col0\" >Preprocess</td>\n",
              "      <td id=\"T_d3f64_row11_col1\" class=\"data row11 col1\" >True</td>\n",
              "    </tr>\n",
              "    <tr>\n",
              "      <th id=\"T_d3f64_level0_row12\" class=\"row_heading level0 row12\" >12</th>\n",
              "      <td id=\"T_d3f64_row12_col0\" class=\"data row12 col0\" >Imputation type</td>\n",
              "      <td id=\"T_d3f64_row12_col1\" class=\"data row12 col1\" >simple</td>\n",
              "    </tr>\n",
              "    <tr>\n",
              "      <th id=\"T_d3f64_level0_row13\" class=\"row_heading level0 row13\" >13</th>\n",
              "      <td id=\"T_d3f64_row13_col0\" class=\"data row13 col0\" >Numeric imputation</td>\n",
              "      <td id=\"T_d3f64_row13_col1\" class=\"data row13 col1\" >mean</td>\n",
              "    </tr>\n",
              "    <tr>\n",
              "      <th id=\"T_d3f64_level0_row14\" class=\"row_heading level0 row14\" >14</th>\n",
              "      <td id=\"T_d3f64_row14_col0\" class=\"data row14 col0\" >Categorical imputation</td>\n",
              "      <td id=\"T_d3f64_row14_col1\" class=\"data row14 col1\" >mode</td>\n",
              "    </tr>\n",
              "    <tr>\n",
              "      <th id=\"T_d3f64_level0_row15\" class=\"row_heading level0 row15\" >15</th>\n",
              "      <td id=\"T_d3f64_row15_col0\" class=\"data row15 col0\" >Maximum one-hot encoding</td>\n",
              "      <td id=\"T_d3f64_row15_col1\" class=\"data row15 col1\" >25</td>\n",
              "    </tr>\n",
              "    <tr>\n",
              "      <th id=\"T_d3f64_level0_row16\" class=\"row_heading level0 row16\" >16</th>\n",
              "      <td id=\"T_d3f64_row16_col0\" class=\"data row16 col0\" >Encoding method</td>\n",
              "      <td id=\"T_d3f64_row16_col1\" class=\"data row16 col1\" >None</td>\n",
              "    </tr>\n",
              "    <tr>\n",
              "      <th id=\"T_d3f64_level0_row17\" class=\"row_heading level0 row17\" >17</th>\n",
              "      <td id=\"T_d3f64_row17_col0\" class=\"data row17 col0\" >Fold Generator</td>\n",
              "      <td id=\"T_d3f64_row17_col1\" class=\"data row17 col1\" >StratifiedKFold</td>\n",
              "    </tr>\n",
              "    <tr>\n",
              "      <th id=\"T_d3f64_level0_row18\" class=\"row_heading level0 row18\" >18</th>\n",
              "      <td id=\"T_d3f64_row18_col0\" class=\"data row18 col0\" >Fold Number</td>\n",
              "      <td id=\"T_d3f64_row18_col1\" class=\"data row18 col1\" >10</td>\n",
              "    </tr>\n",
              "    <tr>\n",
              "      <th id=\"T_d3f64_level0_row19\" class=\"row_heading level0 row19\" >19</th>\n",
              "      <td id=\"T_d3f64_row19_col0\" class=\"data row19 col0\" >CPU Jobs</td>\n",
              "      <td id=\"T_d3f64_row19_col1\" class=\"data row19 col1\" >-1</td>\n",
              "    </tr>\n",
              "    <tr>\n",
              "      <th id=\"T_d3f64_level0_row20\" class=\"row_heading level0 row20\" >20</th>\n",
              "      <td id=\"T_d3f64_row20_col0\" class=\"data row20 col0\" >Use GPU</td>\n",
              "      <td id=\"T_d3f64_row20_col1\" class=\"data row20 col1\" >False</td>\n",
              "    </tr>\n",
              "    <tr>\n",
              "      <th id=\"T_d3f64_level0_row21\" class=\"row_heading level0 row21\" >21</th>\n",
              "      <td id=\"T_d3f64_row21_col0\" class=\"data row21 col0\" >Log Experiment</td>\n",
              "      <td id=\"T_d3f64_row21_col1\" class=\"data row21 col1\" >False</td>\n",
              "    </tr>\n",
              "    <tr>\n",
              "      <th id=\"T_d3f64_level0_row22\" class=\"row_heading level0 row22\" >22</th>\n",
              "      <td id=\"T_d3f64_row22_col0\" class=\"data row22 col0\" >Experiment Name</td>\n",
              "      <td id=\"T_d3f64_row22_col1\" class=\"data row22 col1\" >clf-default-name</td>\n",
              "    </tr>\n",
              "    <tr>\n",
              "      <th id=\"T_d3f64_level0_row23\" class=\"row_heading level0 row23\" >23</th>\n",
              "      <td id=\"T_d3f64_row23_col0\" class=\"data row23 col0\" >USI</td>\n",
              "      <td id=\"T_d3f64_row23_col1\" class=\"data row23 col1\" >7e10</td>\n",
              "    </tr>\n",
              "  </tbody>\n",
              "</table>\n"
            ]
          },
          "metadata": {}
        }
      ]
    },
    {
      "cell_type": "code",
      "source": [
        "get_config('pipeline')"
      ],
      "metadata": {
        "colab": {
          "base_uri": "https://localhost:8080/",
          "height": 573
        },
        "id": "HVXvSwzWJG_t",
        "outputId": "b32385bf-74a6-463c-9a44-dbac43684585"
      },
      "execution_count": 6,
      "outputs": [
        {
          "output_type": "execute_result",
          "data": {
            "text/plain": [
              "Pipeline(memory=FastMemory(location=/tmp/joblib),\n",
              "         steps=[('label_encoding',\n",
              "                 TransformerWrapperWithInverse(exclude=None, include=None,\n",
              "                                               transformer=LabelEncoder())),\n",
              "                ('numerical_imputer',\n",
              "                 TransformerWrapper(exclude=None,\n",
              "                                    include=['age', 'balance', 'day',\n",
              "                                             'duration', 'campaign', 'pdays',\n",
              "                                             'previous'],\n",
              "                                    transformer=SimpleImputer(add_indicator=False,\n",
              "                                                              copy=True,\n",
              "                                                              fill_valu...\n",
              "                                                               verbose=0))),\n",
              "                ('onehot_encoding',\n",
              "                 TransformerWrapper(exclude=None,\n",
              "                                    include=['job', 'marital', 'education',\n",
              "                                             'contact', 'month', 'poutcome'],\n",
              "                                    transformer=OneHotEncoder(cols=['job',\n",
              "                                                                    'marital',\n",
              "                                                                    'education',\n",
              "                                                                    'contact',\n",
              "                                                                    'month',\n",
              "                                                                    'poutcome'],\n",
              "                                                              drop_invariant=False,\n",
              "                                                              handle_missing='return_nan',\n",
              "                                                              handle_unknown='value',\n",
              "                                                              return_df=True,\n",
              "                                                              use_cat_names=True,\n",
              "                                                              verbose=0)))],\n",
              "         verbose=False)"
            ],
            "text/html": [
              "<style>#sk-container-id-1 {color: black;background-color: white;}#sk-container-id-1 pre{padding: 0;}#sk-container-id-1 div.sk-toggleable {background-color: white;}#sk-container-id-1 label.sk-toggleable__label {cursor: pointer;display: block;width: 100%;margin-bottom: 0;padding: 0.3em;box-sizing: border-box;text-align: center;}#sk-container-id-1 label.sk-toggleable__label-arrow:before {content: \"▸\";float: left;margin-right: 0.25em;color: #696969;}#sk-container-id-1 label.sk-toggleable__label-arrow:hover:before {color: black;}#sk-container-id-1 div.sk-estimator:hover label.sk-toggleable__label-arrow:before {color: black;}#sk-container-id-1 div.sk-toggleable__content {max-height: 0;max-width: 0;overflow: hidden;text-align: left;background-color: #f0f8ff;}#sk-container-id-1 div.sk-toggleable__content pre {margin: 0.2em;color: black;border-radius: 0.25em;background-color: #f0f8ff;}#sk-container-id-1 input.sk-toggleable__control:checked~div.sk-toggleable__content {max-height: 200px;max-width: 100%;overflow: auto;}#sk-container-id-1 input.sk-toggleable__control:checked~label.sk-toggleable__label-arrow:before {content: \"▾\";}#sk-container-id-1 div.sk-estimator input.sk-toggleable__control:checked~label.sk-toggleable__label {background-color: #d4ebff;}#sk-container-id-1 div.sk-label input.sk-toggleable__control:checked~label.sk-toggleable__label {background-color: #d4ebff;}#sk-container-id-1 input.sk-hidden--visually {border: 0;clip: rect(1px 1px 1px 1px);clip: rect(1px, 1px, 1px, 1px);height: 1px;margin: -1px;overflow: hidden;padding: 0;position: absolute;width: 1px;}#sk-container-id-1 div.sk-estimator {font-family: monospace;background-color: #f0f8ff;border: 1px dotted black;border-radius: 0.25em;box-sizing: border-box;margin-bottom: 0.5em;}#sk-container-id-1 div.sk-estimator:hover {background-color: #d4ebff;}#sk-container-id-1 div.sk-parallel-item::after {content: \"\";width: 100%;border-bottom: 1px solid gray;flex-grow: 1;}#sk-container-id-1 div.sk-label:hover label.sk-toggleable__label {background-color: #d4ebff;}#sk-container-id-1 div.sk-serial::before {content: \"\";position: absolute;border-left: 1px solid gray;box-sizing: border-box;top: 0;bottom: 0;left: 50%;z-index: 0;}#sk-container-id-1 div.sk-serial {display: flex;flex-direction: column;align-items: center;background-color: white;padding-right: 0.2em;padding-left: 0.2em;position: relative;}#sk-container-id-1 div.sk-item {position: relative;z-index: 1;}#sk-container-id-1 div.sk-parallel {display: flex;align-items: stretch;justify-content: center;background-color: white;position: relative;}#sk-container-id-1 div.sk-item::before, #sk-container-id-1 div.sk-parallel-item::before {content: \"\";position: absolute;border-left: 1px solid gray;box-sizing: border-box;top: 0;bottom: 0;left: 50%;z-index: -1;}#sk-container-id-1 div.sk-parallel-item {display: flex;flex-direction: column;z-index: 1;position: relative;background-color: white;}#sk-container-id-1 div.sk-parallel-item:first-child::after {align-self: flex-end;width: 50%;}#sk-container-id-1 div.sk-parallel-item:last-child::after {align-self: flex-start;width: 50%;}#sk-container-id-1 div.sk-parallel-item:only-child::after {width: 0;}#sk-container-id-1 div.sk-dashed-wrapped {border: 1px dashed gray;margin: 0 0.4em 0.5em 0.4em;box-sizing: border-box;padding-bottom: 0.4em;background-color: white;}#sk-container-id-1 div.sk-label label {font-family: monospace;font-weight: bold;display: inline-block;line-height: 1.2em;}#sk-container-id-1 div.sk-label-container {text-align: center;}#sk-container-id-1 div.sk-container {/* jupyter's `normalize.less` sets `[hidden] { display: none; }` but bootstrap.min.css set `[hidden] { display: none !important; }` so we also need the `!important` here to be able to override the default hidden behavior on the sphinx rendered scikit-learn.org. See: https://github.com/scikit-learn/scikit-learn/issues/21755 */display: inline-block !important;position: relative;}#sk-container-id-1 div.sk-text-repr-fallback {display: none;}</style><div id=\"sk-container-id-1\" class=\"sk-top-container\"><div class=\"sk-text-repr-fallback\"><pre>Pipeline(memory=FastMemory(location=/tmp/joblib),\n",
              "         steps=[(&#x27;label_encoding&#x27;,\n",
              "                 TransformerWrapperWithInverse(exclude=None, include=None,\n",
              "                                               transformer=LabelEncoder())),\n",
              "                (&#x27;numerical_imputer&#x27;,\n",
              "                 TransformerWrapper(exclude=None,\n",
              "                                    include=[&#x27;age&#x27;, &#x27;balance&#x27;, &#x27;day&#x27;,\n",
              "                                             &#x27;duration&#x27;, &#x27;campaign&#x27;, &#x27;pdays&#x27;,\n",
              "                                             &#x27;previous&#x27;],\n",
              "                                    transformer=SimpleImputer(add_indicator=False,\n",
              "                                                              copy=True,\n",
              "                                                              fill_valu...\n",
              "                                                               verbose=0))),\n",
              "                (&#x27;onehot_encoding&#x27;,\n",
              "                 TransformerWrapper(exclude=None,\n",
              "                                    include=[&#x27;job&#x27;, &#x27;marital&#x27;, &#x27;education&#x27;,\n",
              "                                             &#x27;contact&#x27;, &#x27;month&#x27;, &#x27;poutcome&#x27;],\n",
              "                                    transformer=OneHotEncoder(cols=[&#x27;job&#x27;,\n",
              "                                                                    &#x27;marital&#x27;,\n",
              "                                                                    &#x27;education&#x27;,\n",
              "                                                                    &#x27;contact&#x27;,\n",
              "                                                                    &#x27;month&#x27;,\n",
              "                                                                    &#x27;poutcome&#x27;],\n",
              "                                                              drop_invariant=False,\n",
              "                                                              handle_missing=&#x27;return_nan&#x27;,\n",
              "                                                              handle_unknown=&#x27;value&#x27;,\n",
              "                                                              return_df=True,\n",
              "                                                              use_cat_names=True,\n",
              "                                                              verbose=0)))],\n",
              "         verbose=False)</pre><b>In a Jupyter environment, please rerun this cell to show the HTML representation or trust the notebook. <br />On GitHub, the HTML representation is unable to render, please try loading this page with nbviewer.org.</b></div><div class=\"sk-container\" hidden><div class=\"sk-item sk-dashed-wrapped\"><div class=\"sk-label-container\"><div class=\"sk-label sk-toggleable\"><input class=\"sk-toggleable__control sk-hidden--visually\" id=\"sk-estimator-id-1\" type=\"checkbox\" ><label for=\"sk-estimator-id-1\" class=\"sk-toggleable__label sk-toggleable__label-arrow\">Pipeline</label><div class=\"sk-toggleable__content\"><pre>Pipeline(memory=FastMemory(location=/tmp/joblib),\n",
              "         steps=[(&#x27;label_encoding&#x27;,\n",
              "                 TransformerWrapperWithInverse(exclude=None, include=None,\n",
              "                                               transformer=LabelEncoder())),\n",
              "                (&#x27;numerical_imputer&#x27;,\n",
              "                 TransformerWrapper(exclude=None,\n",
              "                                    include=[&#x27;age&#x27;, &#x27;balance&#x27;, &#x27;day&#x27;,\n",
              "                                             &#x27;duration&#x27;, &#x27;campaign&#x27;, &#x27;pdays&#x27;,\n",
              "                                             &#x27;previous&#x27;],\n",
              "                                    transformer=SimpleImputer(add_indicator=False,\n",
              "                                                              copy=True,\n",
              "                                                              fill_valu...\n",
              "                                                               verbose=0))),\n",
              "                (&#x27;onehot_encoding&#x27;,\n",
              "                 TransformerWrapper(exclude=None,\n",
              "                                    include=[&#x27;job&#x27;, &#x27;marital&#x27;, &#x27;education&#x27;,\n",
              "                                             &#x27;contact&#x27;, &#x27;month&#x27;, &#x27;poutcome&#x27;],\n",
              "                                    transformer=OneHotEncoder(cols=[&#x27;job&#x27;,\n",
              "                                                                    &#x27;marital&#x27;,\n",
              "                                                                    &#x27;education&#x27;,\n",
              "                                                                    &#x27;contact&#x27;,\n",
              "                                                                    &#x27;month&#x27;,\n",
              "                                                                    &#x27;poutcome&#x27;],\n",
              "                                                              drop_invariant=False,\n",
              "                                                              handle_missing=&#x27;return_nan&#x27;,\n",
              "                                                              handle_unknown=&#x27;value&#x27;,\n",
              "                                                              return_df=True,\n",
              "                                                              use_cat_names=True,\n",
              "                                                              verbose=0)))],\n",
              "         verbose=False)</pre></div></div></div><div class=\"sk-serial\"><div class=\"sk-item sk-dashed-wrapped\"><div class=\"sk-label-container\"><div class=\"sk-label sk-toggleable\"><input class=\"sk-toggleable__control sk-hidden--visually\" id=\"sk-estimator-id-2\" type=\"checkbox\" ><label for=\"sk-estimator-id-2\" class=\"sk-toggleable__label sk-toggleable__label-arrow\">label_encoding: TransformerWrapperWithInverse</label><div class=\"sk-toggleable__content\"><pre>TransformerWrapperWithInverse(exclude=None, include=None,\n",
              "                              transformer=LabelEncoder())</pre></div></div></div><div class=\"sk-parallel\"><div class=\"sk-parallel-item\"><div class=\"sk-item\"><div class=\"sk-label-container\"><div class=\"sk-label sk-toggleable\"><input class=\"sk-toggleable__control sk-hidden--visually\" id=\"sk-estimator-id-3\" type=\"checkbox\" ><label for=\"sk-estimator-id-3\" class=\"sk-toggleable__label sk-toggleable__label-arrow\">transformer: LabelEncoder</label><div class=\"sk-toggleable__content\"><pre>LabelEncoder()</pre></div></div></div><div class=\"sk-serial\"><div class=\"sk-item\"><div class=\"sk-estimator sk-toggleable\"><input class=\"sk-toggleable__control sk-hidden--visually\" id=\"sk-estimator-id-4\" type=\"checkbox\" ><label for=\"sk-estimator-id-4\" class=\"sk-toggleable__label sk-toggleable__label-arrow\">LabelEncoder</label><div class=\"sk-toggleable__content\"><pre>LabelEncoder()</pre></div></div></div></div></div></div></div></div><div class=\"sk-item sk-dashed-wrapped\"><div class=\"sk-label-container\"><div class=\"sk-label sk-toggleable\"><input class=\"sk-toggleable__control sk-hidden--visually\" id=\"sk-estimator-id-5\" type=\"checkbox\" ><label for=\"sk-estimator-id-5\" class=\"sk-toggleable__label sk-toggleable__label-arrow\">numerical_imputer: TransformerWrapper</label><div class=\"sk-toggleable__content\"><pre>TransformerWrapper(exclude=None,\n",
              "                   include=[&#x27;age&#x27;, &#x27;balance&#x27;, &#x27;day&#x27;, &#x27;duration&#x27;, &#x27;campaign&#x27;,\n",
              "                            &#x27;pdays&#x27;, &#x27;previous&#x27;],\n",
              "                   transformer=SimpleImputer(add_indicator=False, copy=True,\n",
              "                                             fill_value=None,\n",
              "                                             keep_empty_features=False,\n",
              "                                             missing_values=nan,\n",
              "                                             strategy=&#x27;mean&#x27;,\n",
              "                                             verbose=&#x27;deprecated&#x27;))</pre></div></div></div><div class=\"sk-parallel\"><div class=\"sk-parallel-item\"><div class=\"sk-item\"><div class=\"sk-label-container\"><div class=\"sk-label sk-toggleable\"><input class=\"sk-toggleable__control sk-hidden--visually\" id=\"sk-estimator-id-6\" type=\"checkbox\" ><label for=\"sk-estimator-id-6\" class=\"sk-toggleable__label sk-toggleable__label-arrow\">transformer: SimpleImputer</label><div class=\"sk-toggleable__content\"><pre>SimpleImputer()</pre></div></div></div><div class=\"sk-serial\"><div class=\"sk-item\"><div class=\"sk-estimator sk-toggleable\"><input class=\"sk-toggleable__control sk-hidden--visually\" id=\"sk-estimator-id-7\" type=\"checkbox\" ><label for=\"sk-estimator-id-7\" class=\"sk-toggleable__label sk-toggleable__label-arrow\">SimpleImputer</label><div class=\"sk-toggleable__content\"><pre>SimpleImputer()</pre></div></div></div></div></div></div></div></div><div class=\"sk-item sk-dashed-wrapped\"><div class=\"sk-label-container\"><div class=\"sk-label sk-toggleable\"><input class=\"sk-toggleable__control sk-hidden--visually\" id=\"sk-estimator-id-8\" type=\"checkbox\" ><label for=\"sk-estimator-id-8\" class=\"sk-toggleable__label sk-toggleable__label-arrow\">categorical_imputer: TransformerWrapper</label><div class=\"sk-toggleable__content\"><pre>TransformerWrapper(exclude=None,\n",
              "                   include=[&#x27;job&#x27;, &#x27;marital&#x27;, &#x27;education&#x27;, &#x27;default&#x27;, &#x27;housing&#x27;,\n",
              "                            &#x27;loan&#x27;, &#x27;contact&#x27;, &#x27;month&#x27;, &#x27;poutcome&#x27;],\n",
              "                   transformer=SimpleImputer(add_indicator=False, copy=True,\n",
              "                                             fill_value=None,\n",
              "                                             keep_empty_features=False,\n",
              "                                             missing_values=nan,\n",
              "                                             strategy=&#x27;most_frequent&#x27;,\n",
              "                                             verbose=&#x27;deprecated&#x27;))</pre></div></div></div><div class=\"sk-parallel\"><div class=\"sk-parallel-item\"><div class=\"sk-item\"><div class=\"sk-label-container\"><div class=\"sk-label sk-toggleable\"><input class=\"sk-toggleable__control sk-hidden--visually\" id=\"sk-estimator-id-9\" type=\"checkbox\" ><label for=\"sk-estimator-id-9\" class=\"sk-toggleable__label sk-toggleable__label-arrow\">transformer: SimpleImputer</label><div class=\"sk-toggleable__content\"><pre>SimpleImputer(strategy=&#x27;most_frequent&#x27;)</pre></div></div></div><div class=\"sk-serial\"><div class=\"sk-item\"><div class=\"sk-estimator sk-toggleable\"><input class=\"sk-toggleable__control sk-hidden--visually\" id=\"sk-estimator-id-10\" type=\"checkbox\" ><label for=\"sk-estimator-id-10\" class=\"sk-toggleable__label sk-toggleable__label-arrow\">SimpleImputer</label><div class=\"sk-toggleable__content\"><pre>SimpleImputer(strategy=&#x27;most_frequent&#x27;)</pre></div></div></div></div></div></div></div></div><div class=\"sk-item sk-dashed-wrapped\"><div class=\"sk-label-container\"><div class=\"sk-label sk-toggleable\"><input class=\"sk-toggleable__control sk-hidden--visually\" id=\"sk-estimator-id-11\" type=\"checkbox\" ><label for=\"sk-estimator-id-11\" class=\"sk-toggleable__label sk-toggleable__label-arrow\">ordinal_encoding: TransformerWrapper</label><div class=\"sk-toggleable__content\"><pre>TransformerWrapper(exclude=None, include=[&#x27;default&#x27;, &#x27;housing&#x27;, &#x27;loan&#x27;],\n",
              "                   transformer=OrdinalEncoder(cols=[&#x27;default&#x27;, &#x27;housing&#x27;,\n",
              "                                                    &#x27;loan&#x27;],\n",
              "                                              drop_invariant=False,\n",
              "                                              handle_missing=&#x27;return_nan&#x27;,\n",
              "                                              handle_unknown=&#x27;value&#x27;,\n",
              "                                              mapping=[{&#x27;col&#x27;: &#x27;default&#x27;,\n",
              "                                                        &#x27;data_type&#x27;: dtype(&#x27;O&#x27;),\n",
              "                                                        &#x27;mapping&#x27;: no     0\n",
              "yes    1\n",
              "NaN   -1\n",
              "dtype: int64},\n",
              "                                                       {&#x27;col&#x27;: &#x27;housing&#x27;,\n",
              "                                                        &#x27;data_type&#x27;: dtype(&#x27;O&#x27;),\n",
              "                                                        &#x27;mapping&#x27;: no     0\n",
              "yes    1\n",
              "NaN   -1\n",
              "dtype: int64},\n",
              "                                                       {&#x27;col&#x27;: &#x27;loan&#x27;,\n",
              "                                                        &#x27;data_type&#x27;: dtype(&#x27;O&#x27;),\n",
              "                                                        &#x27;mapping&#x27;: no     0\n",
              "yes    1\n",
              "NaN   -1\n",
              "dtype: int64}],\n",
              "                                              return_df=True, verbose=0))</pre></div></div></div><div class=\"sk-parallel\"><div class=\"sk-parallel-item\"><div class=\"sk-item\"><div class=\"sk-label-container\"><div class=\"sk-label sk-toggleable\"><input class=\"sk-toggleable__control sk-hidden--visually\" id=\"sk-estimator-id-12\" type=\"checkbox\" ><label for=\"sk-estimator-id-12\" class=\"sk-toggleable__label sk-toggleable__label-arrow\">transformer: OrdinalEncoder</label><div class=\"sk-toggleable__content\"><pre>OrdinalEncoder(cols=[&#x27;default&#x27;, &#x27;housing&#x27;, &#x27;loan&#x27;], handle_missing=&#x27;return_nan&#x27;,\n",
              "               mapping=[{&#x27;col&#x27;: &#x27;default&#x27;, &#x27;data_type&#x27;: dtype(&#x27;O&#x27;),\n",
              "                         &#x27;mapping&#x27;: no     0\n",
              "yes    1\n",
              "NaN   -1\n",
              "dtype: int64},\n",
              "                        {&#x27;col&#x27;: &#x27;housing&#x27;, &#x27;data_type&#x27;: dtype(&#x27;O&#x27;),\n",
              "                         &#x27;mapping&#x27;: no     0\n",
              "yes    1\n",
              "NaN   -1\n",
              "dtype: int64},\n",
              "                        {&#x27;col&#x27;: &#x27;loan&#x27;, &#x27;data_type&#x27;: dtype(&#x27;O&#x27;),\n",
              "                         &#x27;mapping&#x27;: no     0\n",
              "yes    1\n",
              "NaN   -1\n",
              "dtype: int64}])</pre></div></div></div><div class=\"sk-serial\"><div class=\"sk-item\"><div class=\"sk-estimator sk-toggleable\"><input class=\"sk-toggleable__control sk-hidden--visually\" id=\"sk-estimator-id-13\" type=\"checkbox\" ><label for=\"sk-estimator-id-13\" class=\"sk-toggleable__label sk-toggleable__label-arrow\">OrdinalEncoder</label><div class=\"sk-toggleable__content\"><pre>OrdinalEncoder(cols=[&#x27;default&#x27;, &#x27;housing&#x27;, &#x27;loan&#x27;], handle_missing=&#x27;return_nan&#x27;,\n",
              "               mapping=[{&#x27;col&#x27;: &#x27;default&#x27;, &#x27;data_type&#x27;: dtype(&#x27;O&#x27;),\n",
              "                         &#x27;mapping&#x27;: no     0\n",
              "yes    1\n",
              "NaN   -1\n",
              "dtype: int64},\n",
              "                        {&#x27;col&#x27;: &#x27;housing&#x27;, &#x27;data_type&#x27;: dtype(&#x27;O&#x27;),\n",
              "                         &#x27;mapping&#x27;: no     0\n",
              "yes    1\n",
              "NaN   -1\n",
              "dtype: int64},\n",
              "                        {&#x27;col&#x27;: &#x27;loan&#x27;, &#x27;data_type&#x27;: dtype(&#x27;O&#x27;),\n",
              "                         &#x27;mapping&#x27;: no     0\n",
              "yes    1\n",
              "NaN   -1\n",
              "dtype: int64}])</pre></div></div></div></div></div></div></div></div><div class=\"sk-item sk-dashed-wrapped\"><div class=\"sk-label-container\"><div class=\"sk-label sk-toggleable\"><input class=\"sk-toggleable__control sk-hidden--visually\" id=\"sk-estimator-id-14\" type=\"checkbox\" ><label for=\"sk-estimator-id-14\" class=\"sk-toggleable__label sk-toggleable__label-arrow\">onehot_encoding: TransformerWrapper</label><div class=\"sk-toggleable__content\"><pre>TransformerWrapper(exclude=None,\n",
              "                   include=[&#x27;job&#x27;, &#x27;marital&#x27;, &#x27;education&#x27;, &#x27;contact&#x27;, &#x27;month&#x27;,\n",
              "                            &#x27;poutcome&#x27;],\n",
              "                   transformer=OneHotEncoder(cols=[&#x27;job&#x27;, &#x27;marital&#x27;,\n",
              "                                                   &#x27;education&#x27;, &#x27;contact&#x27;,\n",
              "                                                   &#x27;month&#x27;, &#x27;poutcome&#x27;],\n",
              "                                             drop_invariant=False,\n",
              "                                             handle_missing=&#x27;return_nan&#x27;,\n",
              "                                             handle_unknown=&#x27;value&#x27;,\n",
              "                                             return_df=True, use_cat_names=True,\n",
              "                                             verbose=0))</pre></div></div></div><div class=\"sk-parallel\"><div class=\"sk-parallel-item\"><div class=\"sk-item\"><div class=\"sk-label-container\"><div class=\"sk-label sk-toggleable\"><input class=\"sk-toggleable__control sk-hidden--visually\" id=\"sk-estimator-id-15\" type=\"checkbox\" ><label for=\"sk-estimator-id-15\" class=\"sk-toggleable__label sk-toggleable__label-arrow\">transformer: OneHotEncoder</label><div class=\"sk-toggleable__content\"><pre>OneHotEncoder(cols=[&#x27;job&#x27;, &#x27;marital&#x27;, &#x27;education&#x27;, &#x27;contact&#x27;, &#x27;month&#x27;,\n",
              "                    &#x27;poutcome&#x27;],\n",
              "              handle_missing=&#x27;return_nan&#x27;, use_cat_names=True)</pre></div></div></div><div class=\"sk-serial\"><div class=\"sk-item\"><div class=\"sk-estimator sk-toggleable\"><input class=\"sk-toggleable__control sk-hidden--visually\" id=\"sk-estimator-id-16\" type=\"checkbox\" ><label for=\"sk-estimator-id-16\" class=\"sk-toggleable__label sk-toggleable__label-arrow\">OneHotEncoder</label><div class=\"sk-toggleable__content\"><pre>OneHotEncoder(cols=[&#x27;job&#x27;, &#x27;marital&#x27;, &#x27;education&#x27;, &#x27;contact&#x27;, &#x27;month&#x27;,\n",
              "                    &#x27;poutcome&#x27;],\n",
              "              handle_missing=&#x27;return_nan&#x27;, use_cat_names=True)</pre></div></div></div></div></div></div></div></div></div></div></div></div>"
            ]
          },
          "metadata": {},
          "execution_count": 6
        }
      ]
    },
    {
      "cell_type": "markdown",
      "source": [
        "# **<font color=\"DeepPink\">02 - Create Model</font>**\n",
        "\n",
        "<h5 align=\"center\"><b>\n",
        "<font color=\"DeepPink\">\n",
        "<b><mark>Setup</mark> ▶ <mark>Create Model</mark> ▶ Analyze Model ▶ Prediction ▶ Save Model\n"
      ],
      "metadata": {
        "id": "l8mSSfKMAhM8"
      }
    },
    {
      "cell_type": "markdown",
      "source": [
        "<p align=\"justify\">\n",
        "Esta función entrena y evalúa el rendimiento de un estimador determinado mediante validación cruzada. El resultado de esta función es una cuadrícula de puntuación con puntuaciones.\n"
      ],
      "metadata": {
        "id": "zsRXbtthBQ66"
      }
    },
    {
      "cell_type": "code",
      "source": [
        "remove_metric(\"auc\")\n",
        "remove_metric(\"kappa\")\n",
        "remove_metric(\"mcc\")"
      ],
      "metadata": {
        "id": "YBGuAnavLCOF"
      },
      "execution_count": 7,
      "outputs": []
    },
    {
      "cell_type": "code",
      "source": [
        "model = create_model(\"dt\")"
      ],
      "metadata": {
        "id": "dlKBAywMnSEE",
        "colab": {
          "base_uri": "https://localhost:8080/",
          "height": 466,
          "referenced_widgets": [
            "18f0b2e905564eaf9b1bc6a718104f6b",
            "b487b17f5c994bc8a4eb9430d23f9d9e",
            "6776bfc4815641d68dba86e306f1ee2f",
            "f5ba8313259441bfb52f64cb5fa5b96a",
            "18c09bdf1d9c442dbfb31c9beac939e9",
            "26d5adafc7264891ac4adbfaa1d0182d",
            "7529da1657174605a7f27af1fdcd6d3c",
            "65c7ebf3b9974a3493a832b81ef0867c",
            "7ad36d1acc7a4385b97e088772ff65cd",
            "c6fb5ea4e4814bd0bbdaeb19e5f31db0",
            "ad15d8887f1b4f77b1894a75ac1534a3"
          ]
        },
        "outputId": "8c7c0390-e3bb-4cae-eedd-ad39239c93f1"
      },
      "execution_count": 8,
      "outputs": [
        {
          "output_type": "display_data",
          "data": {
            "text/plain": [
              "<IPython.core.display.HTML object>"
            ],
            "text/html": []
          },
          "metadata": {}
        },
        {
          "output_type": "display_data",
          "data": {
            "text/plain": [
              "<pandas.io.formats.style.Styler at 0x7a51790020b0>"
            ],
            "text/html": [
              "<style type=\"text/css\">\n",
              "#T_092e6_row10_col0, #T_092e6_row10_col1, #T_092e6_row10_col2, #T_092e6_row10_col3 {\n",
              "  background: yellow;\n",
              "}\n",
              "</style>\n",
              "<table id=\"T_092e6\" class=\"dataframe\">\n",
              "  <thead>\n",
              "    <tr>\n",
              "      <th class=\"blank level0\" >&nbsp;</th>\n",
              "      <th id=\"T_092e6_level0_col0\" class=\"col_heading level0 col0\" >Accuracy</th>\n",
              "      <th id=\"T_092e6_level0_col1\" class=\"col_heading level0 col1\" >Recall</th>\n",
              "      <th id=\"T_092e6_level0_col2\" class=\"col_heading level0 col2\" >Prec.</th>\n",
              "      <th id=\"T_092e6_level0_col3\" class=\"col_heading level0 col3\" >F1</th>\n",
              "    </tr>\n",
              "    <tr>\n",
              "      <th class=\"index_name level0\" >Fold</th>\n",
              "      <th class=\"blank col0\" >&nbsp;</th>\n",
              "      <th class=\"blank col1\" >&nbsp;</th>\n",
              "      <th class=\"blank col2\" >&nbsp;</th>\n",
              "      <th class=\"blank col3\" >&nbsp;</th>\n",
              "    </tr>\n",
              "  </thead>\n",
              "  <tbody>\n",
              "    <tr>\n",
              "      <th id=\"T_092e6_level0_row0\" class=\"row_heading level0 row0\" >0</th>\n",
              "      <td id=\"T_092e6_row0_col0\" class=\"data row0 col0\" >0.8682</td>\n",
              "      <td id=\"T_092e6_row0_col1\" class=\"data row0 col1\" >0.4960</td>\n",
              "      <td id=\"T_092e6_row0_col2\" class=\"data row0 col2\" >0.4444</td>\n",
              "      <td id=\"T_092e6_row0_col3\" class=\"data row0 col3\" >0.4688</td>\n",
              "    </tr>\n",
              "    <tr>\n",
              "      <th id=\"T_092e6_level0_row1\" class=\"row_heading level0 row1\" >1</th>\n",
              "      <td id=\"T_092e6_row1_col0\" class=\"data row1 col0\" >0.8774</td>\n",
              "      <td id=\"T_092e6_row1_col1\" class=\"data row1 col1\" >0.5283</td>\n",
              "      <td id=\"T_092e6_row1_col2\" class=\"data row1 col2\" >0.4792</td>\n",
              "      <td id=\"T_092e6_row1_col3\" class=\"data row1 col3\" >0.5026</td>\n",
              "    </tr>\n",
              "    <tr>\n",
              "      <th id=\"T_092e6_level0_row2\" class=\"row_heading level0 row2\" >2</th>\n",
              "      <td id=\"T_092e6_row2_col0\" class=\"data row2 col0\" >0.8774</td>\n",
              "      <td id=\"T_092e6_row2_col1\" class=\"data row2 col1\" >0.4784</td>\n",
              "      <td id=\"T_092e6_row2_col2\" class=\"data row2 col2\" >0.4758</td>\n",
              "      <td id=\"T_092e6_row2_col3\" class=\"data row2 col3\" >0.4771</td>\n",
              "    </tr>\n",
              "    <tr>\n",
              "      <th id=\"T_092e6_level0_row3\" class=\"row_heading level0 row3\" >3</th>\n",
              "      <td id=\"T_092e6_row3_col0\" class=\"data row3 col0\" >0.8815</td>\n",
              "      <td id=\"T_092e6_row3_col1\" class=\"data row3 col1\" >0.4838</td>\n",
              "      <td id=\"T_092e6_row3_col2\" class=\"data row3 col2\" >0.4931</td>\n",
              "      <td id=\"T_092e6_row3_col3\" class=\"data row3 col3\" >0.4884</td>\n",
              "    </tr>\n",
              "    <tr>\n",
              "      <th id=\"T_092e6_level0_row4\" class=\"row_heading level0 row4\" >4</th>\n",
              "      <td id=\"T_092e6_row4_col0\" class=\"data row4 col0\" >0.8859</td>\n",
              "      <td id=\"T_092e6_row4_col1\" class=\"data row4 col1\" >0.4973</td>\n",
              "      <td id=\"T_092e6_row4_col2\" class=\"data row4 col2\" >0.5125</td>\n",
              "      <td id=\"T_092e6_row4_col3\" class=\"data row4 col3\" >0.5048</td>\n",
              "    </tr>\n",
              "    <tr>\n",
              "      <th id=\"T_092e6_level0_row5\" class=\"row_heading level0 row5\" >5</th>\n",
              "      <td id=\"T_092e6_row5_col0\" class=\"data row5 col0\" >0.8714</td>\n",
              "      <td id=\"T_092e6_row5_col1\" class=\"data row5 col1\" >0.4838</td>\n",
              "      <td id=\"T_092e6_row5_col2\" class=\"data row5 col2\" >0.4532</td>\n",
              "      <td id=\"T_092e6_row5_col3\" class=\"data row5 col3\" >0.4680</td>\n",
              "    </tr>\n",
              "    <tr>\n",
              "      <th id=\"T_092e6_level0_row6\" class=\"row_heading level0 row6\" >6</th>\n",
              "      <td id=\"T_092e6_row6_col0\" class=\"data row6 col0\" >0.8746</td>\n",
              "      <td id=\"T_092e6_row6_col1\" class=\"data row6 col1\" >0.4676</td>\n",
              "      <td id=\"T_092e6_row6_col2\" class=\"data row6 col2\" >0.4638</td>\n",
              "      <td id=\"T_092e6_row6_col3\" class=\"data row6 col3\" >0.4657</td>\n",
              "    </tr>\n",
              "    <tr>\n",
              "      <th id=\"T_092e6_level0_row7\" class=\"row_heading level0 row7\" >7</th>\n",
              "      <td id=\"T_092e6_row7_col0\" class=\"data row7 col0\" >0.8799</td>\n",
              "      <td id=\"T_092e6_row7_col1\" class=\"data row7 col1\" >0.4730</td>\n",
              "      <td id=\"T_092e6_row7_col2\" class=\"data row7 col2\" >0.4861</td>\n",
              "      <td id=\"T_092e6_row7_col3\" class=\"data row7 col3\" >0.4795</td>\n",
              "    </tr>\n",
              "    <tr>\n",
              "      <th id=\"T_092e6_level0_row8\" class=\"row_heading level0 row8\" >8</th>\n",
              "      <td id=\"T_092e6_row8_col0\" class=\"data row8 col0\" >0.8790</td>\n",
              "      <td id=\"T_092e6_row8_col1\" class=\"data row8 col1\" >0.5000</td>\n",
              "      <td id=\"T_092e6_row8_col2\" class=\"data row8 col2\" >0.4830</td>\n",
              "      <td id=\"T_092e6_row8_col3\" class=\"data row8 col3\" >0.4914</td>\n",
              "    </tr>\n",
              "    <tr>\n",
              "      <th id=\"T_092e6_level0_row9\" class=\"row_heading level0 row9\" >9</th>\n",
              "      <td id=\"T_092e6_row9_col0\" class=\"data row9 col0\" >0.8777</td>\n",
              "      <td id=\"T_092e6_row9_col1\" class=\"data row9 col1\" >0.4514</td>\n",
              "      <td id=\"T_092e6_row9_col2\" class=\"data row9 col2\" >0.4758</td>\n",
              "      <td id=\"T_092e6_row9_col3\" class=\"data row9 col3\" >0.4632</td>\n",
              "    </tr>\n",
              "    <tr>\n",
              "      <th id=\"T_092e6_level0_row10\" class=\"row_heading level0 row10\" >Mean</th>\n",
              "      <td id=\"T_092e6_row10_col0\" class=\"data row10 col0\" >0.8773</td>\n",
              "      <td id=\"T_092e6_row10_col1\" class=\"data row10 col1\" >0.4859</td>\n",
              "      <td id=\"T_092e6_row10_col2\" class=\"data row10 col2\" >0.4767</td>\n",
              "      <td id=\"T_092e6_row10_col3\" class=\"data row10 col3\" >0.4809</td>\n",
              "    </tr>\n",
              "    <tr>\n",
              "      <th id=\"T_092e6_level0_row11\" class=\"row_heading level0 row11\" >Std</th>\n",
              "      <td id=\"T_092e6_row11_col0\" class=\"data row11 col0\" >0.0048</td>\n",
              "      <td id=\"T_092e6_row11_col1\" class=\"data row11 col1\" >0.0200</td>\n",
              "      <td id=\"T_092e6_row11_col2\" class=\"data row11 col2\" >0.0186</td>\n",
              "      <td id=\"T_092e6_row11_col3\" class=\"data row11 col3\" >0.0144</td>\n",
              "    </tr>\n",
              "  </tbody>\n",
              "</table>\n"
            ]
          },
          "metadata": {}
        },
        {
          "output_type": "display_data",
          "data": {
            "text/plain": [
              "Processing:   0%|          | 0/4 [00:00<?, ?it/s]"
            ],
            "application/vnd.jupyter.widget-view+json": {
              "version_major": 2,
              "version_minor": 0,
              "model_id": "18f0b2e905564eaf9b1bc6a718104f6b"
            }
          },
          "metadata": {
            "application/vnd.jupyter.widget-view+json": {
              "colab": {
                "custom_widget_manager": {
                  "url": "https://ssl.gstatic.com/colaboratory-static/widgets/colab-cdn-widget-manager/b3e629b1971e1542/manager.min.js"
                }
              }
            }
          }
        },
        {
          "output_type": "display_data",
          "data": {
            "text/plain": [
              "<IPython.core.display.HTML object>"
            ],
            "text/html": []
          },
          "metadata": {}
        }
      ]
    },
    {
      "cell_type": "markdown",
      "source": [
        " ## **<font color=\"DeepPink\">Metricas</font>**"
      ],
      "metadata": {
        "id": "gWgFVQiInAqm"
      }
    },
    {
      "cell_type": "markdown",
      "source": [
        " ### **<font color=\"DeepPink\">Accuracy</font>**"
      ],
      "metadata": {
        "id": "nl9PbCXhw1l5"
      }
    },
    {
      "cell_type": "markdown",
      "source": [
        "<p align=\"justify\">\n",
        "<b>Accuracy</b> es una métrica comúnmente utilizada para evaluar el rendimiento de un modelo de clasificación. Esta métrica mide la proporción de instancias clasificadas correctamente por el modelo sobre el total de instancias en el conjunto de datos de prueba.\n",
        "<br><br>\n",
        "Accuracy se calcula dividiendo el número de predicciones correctas (tanto verdaderos positivos como verdaderos negativos) entre el número total de instancias en el conjunto de prueba. La fórmula es la siguiente:\n",
        "<br><br>\n",
        "Accuracy = $\\frac{(VP + VN)}{Total}$\n",
        "<br><br>\n",
        "Los términos de la fórmula:<br><br>\n",
        "<ul align=\"justify\">\n",
        "<li><b>Verdaderos positivos (VP)</b>: Son los casos positivos que el modelo clasifica correctamente como positivos.</li><br>\n",
        "<li><b>Verdaderos negativos (VN)</b>: Son los casos negativos que el modelo clasifica correctamente como negativos.</li><br>\n",
        "</ul>\n",
        "<p align=\"justify\">\n",
        "En otras palabras, accuracy nos dice cuántas de las predicciones del modelo son correctas en comparación con todas las predicciones realizadas.\n",
        "<br><br>\n",
        "<mark>Accuracy es una métrica útil cuando las clases están bien equilibradas</mark> en el conjunto de datos, es decir,<mark>cuando el número de instancias de una clase es aproximadamente igual al número de instancias de la otra clase</mark>. Sin embargo, accuracy puede ser engañosa si las clases están desequilibradas, ya que un modelo puede alcanzar alta accuracy al simplemente predecir siempre la clase mayoritaria en un conjunto de datos desequilibrado, pero sin ser capaz de generalizar bien a otras clases.\n",
        "<br><br>\n",
        "En casos de conjuntos de datos desequilibrados, es importante considerar otras métricas..."
      ],
      "metadata": {
        "id": "-RvEDKK_EG8k"
      }
    },
    {
      "cell_type": "markdown",
      "source": [
        " ### **<font color=\"DeepPink\">Recall</font>**"
      ],
      "metadata": {
        "id": "2gq02Kh9w9Ox"
      }
    },
    {
      "cell_type": "markdown",
      "source": [
        "<p align=\"justify\">\n",
        "<b>Recall</b> (también conocido como sensibilidad o tasa de verdaderos positivos) es una métrica utilizada para evaluar el rendimiento de un modelo de clasificación, especialmente cuando el objetivo es identificar correctamente casos positivos en un conjunto de datos.\n",
        "<br><br>\n",
        "Recall se define como la proporción de casos positivos que el modelo ha identificado correctamente sobre el total de casos positivos en el conjunto de datos. En otras palabras, es la capacidad del modelo para \"recordar\" o \"capturar\" correctamente los casos de la clase positiva.\n",
        "<br><br>\n",
        "La fórmula para calcular el Recall es la siguiente:\n",
        "<br><br>\n",
        "Recall = $\\frac{VP}{VP + FN}$\n",
        "<br><br>\n",
        "Los términos de la fórmula:<br><br>\n",
        "<ul align=\"justify\">\n",
        "<li><b>Verdaderos positivos (VP)</b>: Son los casos positivos que el modelo clasifica correctamente como positivos.</li><br>\n",
        "<li><b>Falsos negativos (FN)</b>: Son los casos positivos que el modelo clasifica incorrectamente como negativos</li><br>\n",
        "</ul>\n",
        "<p align=\"justify\">\n",
        "Recall mide la capacidad del modelo para encontrar y capturar todos los casos positivos en el conjunto de datos. Es especialmente útil en problemas donde la detección de casos positivos es crucial, como en aplicaciones médicas donde la identificación de enfermedades o en problemas de detección de fraudes.\n",
        "<br><br>\n",
        "Es importante tener en cuenta que Recall y Accuracy están relacionados, pero también pueden ser contradictorios. A medida que el modelo se vuelve más sensible y mejora su Recall al capturar más casos positivos, puede aumentar la cantidad de falsos positivos (casos negativos que se clasifican incorrectamente como positivos), lo que podría disminuir la precisión.\n",
        "<br><br>\n",
        "Por lo tanto, la elección de la métrica adecuada depende del contexto y los objetivos del problema. Si se prioriza la identificación correcta de los casos positivos, Recall es una métrica clave a considerar."
      ],
      "metadata": {
        "id": "TdauxuVIFmOg"
      }
    },
    {
      "cell_type": "markdown",
      "source": [
        " ### **<font color=\"DeepPink\">Precision</font>**"
      ],
      "metadata": {
        "id": "RPNXndSpxAZ1"
      }
    },
    {
      "cell_type": "markdown",
      "source": [
        "<p align=\"justify\">\n",
        "<b>Precision</b> (también conocido como valor predictivo positivo) es otra métrica importante utilizada para evaluar el rendimiento de un modelo de clasificación. La Precision se enfoca en la proporción de instancias clasificadas como positivas por el modelo que realmente son verdaderos positivos, es decir, la precisión en las predicciones positivas del modelo.\n",
        "<br><br>\n",
        "La fórmula para calcular la Precision es la siguiente:\n",
        "<br><br>\n",
        "Precision = $\\frac{VP}{VP + FP}$\n",
        "<br><br>\n",
        "Los términos de la fórmula significan lo siguiente:<br><br>\n",
        "<ul align=\"justify\">\n",
        "<li><b>Verdaderos positivos (VP)</b>: Son los casos positivos que el modelo clasifica correctamente como positivos.</li><br>\n",
        "<li><b>Falsos positivos (FP)</b>: Son los casos negativos que el modelo clasifica incorrectamente como positivos</li><br>\n",
        "</ul>\n",
        "<p align=\"justify\">\n",
        "En otras palabras, la Precision mide la proporción de las instancias clasificadas como positivas que realmente son casos positivos entre todas las instancias clasificadas como positivas.\n",
        "<br><br>\n",
        "La Precision es particularmente relevante en situaciones donde el costo de los falsos positivos es alto, es decir, cuando clasificar incorrectamente una instancia como positiva tiene consecuencias graves o costosas. Un alto valor de Precision indica que el modelo es preciso en sus predicciones positivas y minimiza los errores de clasificación de casos negativos como positivos.\n",
        "<br><br>\n",
        "Es importante tener en cuenta que la Precision y el Recall (sensibilidad) están relacionados y suelen ser compensatorios entre sí. A medida que se mejora la Precision al reducir los falsos positivos, es probable que disminuya el Recall, lo que implica que se pueden perder algunos verdaderos positivos. Por lo tanto, encontrar el equilibrio adecuado entre la Precision y el Recall depende de las necesidades y objetivos específicos del problema.\n",
        "<br><br>\n",
        "En resumen, la Precision es una métrica crucial en la evaluación del rendimiento de un modelo de clasificación, especialmente en escenarios donde la precisión en las predicciones positivas es de gran importancia.\n",
        "<br><br>\n",
        "👀 Sin embargo, para obtener una visión completa del rendimiento del modelo, es necesario considerar otras métricas, como por ejemplo: el F1-score, que combina la Precision y el Recall en una única medida."
      ],
      "metadata": {
        "id": "1UDS6xcNMl8e"
      }
    },
    {
      "cell_type": "markdown",
      "source": [
        " ### **<font color=\"DeepPink\">F1</font>**"
      ],
      "metadata": {
        "id": "7ushg8VPxFm-"
      }
    },
    {
      "cell_type": "markdown",
      "source": [
        "<p align=\"justify\">\n",
        "<b>F1</b> (también conocido como F-score o medida F) es una métrica utilizada en la evaluación de modelos de clasificación binaria que combina Precision y el Recall en una única medida.\n",
        "<br><br>\n",
        "Esta métrica es útil cuando se desea encontrar un equilibrio entre la precisión de las predicciones positivas y la capacidad de identificar correctamente los casos positivos en el conjunto de datos.\n",
        "<br><br>\n",
        "El F1-score se calcula como la media armónica entre la Precision y el Recall y se define mediante la siguiente fórmula:\n",
        "<br><br>\n",
        "F1 = $2 \\times \\frac{Precision \\times Recall}{Precision + Recall}$\n",
        "<br><br>\n",
        "La media armónica se utiliza para combinar Precision y Recall en el F1-score porque penaliza más fuertemente los valores bajos. Esto significa que si una de las dos métricas tiene un valor bajo, el F1-score también será bajo, lo que destaca situaciones donde el modelo tiene un desequilibrio significativo entre Precision y Recall.\n",
        "<br><br>\n",
        "<mark>F1-score proporciona una medida más equilibrada del rendimiento del modelo en comparación con la precisión o el recall por separado, especialmente cuando las clases están desequilibradas</mark> en el conjunto de datos. En problemas donde la precisión de las predicciones positivas y la capacidad de detectar correctamente los casos positivos son igualmente importantes, el F1-score es una métrica valiosa.\n",
        "<br><br>\n",
        "Es esencial considerar el contexto y los objetivos del problema al elegir la métrica de evaluación más adecuada.\n",
        "<br><br>\n",
        "✅ Si se da prioridad a la identificación correcta de los casos positivos, el Recall es relevante.<br>\n",
        "✅ Si se necesita alta precisión en las predicciones positivas y la identificación de casos positivos no es tan crucial, la Precision puede ser más relevante.<br>\n",
        "✅ Sin embargo, si se busca un equilibrio entre ambas, el F1-score es la métrica."
      ],
      "metadata": {
        "id": "DmqgnbyfwayW"
      }
    },
    {
      "cell_type": "markdown",
      "source": [
        " ## **<font color=\"DeepPink\">Modelo</font>**"
      ],
      "metadata": {
        "id": "wdfiv9WHzo-B"
      }
    },
    {
      "cell_type": "markdown",
      "source": [
        "👀 Podemos ver los hiperparámetros del modelo..."
      ],
      "metadata": {
        "id": "2ONSooewzHvv"
      }
    },
    {
      "cell_type": "code",
      "source": [
        "model"
      ],
      "metadata": {
        "colab": {
          "base_uri": "https://localhost:8080/",
          "height": 160
        },
        "id": "tq_vpjfZKVYV",
        "outputId": "62e1380d-9686-4d92-dd3d-32ba1704b112"
      },
      "execution_count": 9,
      "outputs": [
        {
          "output_type": "execute_result",
          "data": {
            "text/plain": [
              "DecisionTreeClassifier(ccp_alpha=0.0, class_weight=None, criterion='gini',\n",
              "                       max_depth=None, max_features=None, max_leaf_nodes=None,\n",
              "                       min_impurity_decrease=0.0, min_samples_leaf=1,\n",
              "                       min_samples_split=2, min_weight_fraction_leaf=0.0,\n",
              "                       random_state=123, splitter='best')"
            ],
            "text/html": [
              "<style>#sk-container-id-2 {color: black;background-color: white;}#sk-container-id-2 pre{padding: 0;}#sk-container-id-2 div.sk-toggleable {background-color: white;}#sk-container-id-2 label.sk-toggleable__label {cursor: pointer;display: block;width: 100%;margin-bottom: 0;padding: 0.3em;box-sizing: border-box;text-align: center;}#sk-container-id-2 label.sk-toggleable__label-arrow:before {content: \"▸\";float: left;margin-right: 0.25em;color: #696969;}#sk-container-id-2 label.sk-toggleable__label-arrow:hover:before {color: black;}#sk-container-id-2 div.sk-estimator:hover label.sk-toggleable__label-arrow:before {color: black;}#sk-container-id-2 div.sk-toggleable__content {max-height: 0;max-width: 0;overflow: hidden;text-align: left;background-color: #f0f8ff;}#sk-container-id-2 div.sk-toggleable__content pre {margin: 0.2em;color: black;border-radius: 0.25em;background-color: #f0f8ff;}#sk-container-id-2 input.sk-toggleable__control:checked~div.sk-toggleable__content {max-height: 200px;max-width: 100%;overflow: auto;}#sk-container-id-2 input.sk-toggleable__control:checked~label.sk-toggleable__label-arrow:before {content: \"▾\";}#sk-container-id-2 div.sk-estimator input.sk-toggleable__control:checked~label.sk-toggleable__label {background-color: #d4ebff;}#sk-container-id-2 div.sk-label input.sk-toggleable__control:checked~label.sk-toggleable__label {background-color: #d4ebff;}#sk-container-id-2 input.sk-hidden--visually {border: 0;clip: rect(1px 1px 1px 1px);clip: rect(1px, 1px, 1px, 1px);height: 1px;margin: -1px;overflow: hidden;padding: 0;position: absolute;width: 1px;}#sk-container-id-2 div.sk-estimator {font-family: monospace;background-color: #f0f8ff;border: 1px dotted black;border-radius: 0.25em;box-sizing: border-box;margin-bottom: 0.5em;}#sk-container-id-2 div.sk-estimator:hover {background-color: #d4ebff;}#sk-container-id-2 div.sk-parallel-item::after {content: \"\";width: 100%;border-bottom: 1px solid gray;flex-grow: 1;}#sk-container-id-2 div.sk-label:hover label.sk-toggleable__label {background-color: #d4ebff;}#sk-container-id-2 div.sk-serial::before {content: \"\";position: absolute;border-left: 1px solid gray;box-sizing: border-box;top: 0;bottom: 0;left: 50%;z-index: 0;}#sk-container-id-2 div.sk-serial {display: flex;flex-direction: column;align-items: center;background-color: white;padding-right: 0.2em;padding-left: 0.2em;position: relative;}#sk-container-id-2 div.sk-item {position: relative;z-index: 1;}#sk-container-id-2 div.sk-parallel {display: flex;align-items: stretch;justify-content: center;background-color: white;position: relative;}#sk-container-id-2 div.sk-item::before, #sk-container-id-2 div.sk-parallel-item::before {content: \"\";position: absolute;border-left: 1px solid gray;box-sizing: border-box;top: 0;bottom: 0;left: 50%;z-index: -1;}#sk-container-id-2 div.sk-parallel-item {display: flex;flex-direction: column;z-index: 1;position: relative;background-color: white;}#sk-container-id-2 div.sk-parallel-item:first-child::after {align-self: flex-end;width: 50%;}#sk-container-id-2 div.sk-parallel-item:last-child::after {align-self: flex-start;width: 50%;}#sk-container-id-2 div.sk-parallel-item:only-child::after {width: 0;}#sk-container-id-2 div.sk-dashed-wrapped {border: 1px dashed gray;margin: 0 0.4em 0.5em 0.4em;box-sizing: border-box;padding-bottom: 0.4em;background-color: white;}#sk-container-id-2 div.sk-label label {font-family: monospace;font-weight: bold;display: inline-block;line-height: 1.2em;}#sk-container-id-2 div.sk-label-container {text-align: center;}#sk-container-id-2 div.sk-container {/* jupyter's `normalize.less` sets `[hidden] { display: none; }` but bootstrap.min.css set `[hidden] { display: none !important; }` so we also need the `!important` here to be able to override the default hidden behavior on the sphinx rendered scikit-learn.org. See: https://github.com/scikit-learn/scikit-learn/issues/21755 */display: inline-block !important;position: relative;}#sk-container-id-2 div.sk-text-repr-fallback {display: none;}</style><div id=\"sk-container-id-2\" class=\"sk-top-container\"><div class=\"sk-text-repr-fallback\"><pre>DecisionTreeClassifier(ccp_alpha=0.0, class_weight=None, criterion=&#x27;gini&#x27;,\n",
              "                       max_depth=None, max_features=None, max_leaf_nodes=None,\n",
              "                       min_impurity_decrease=0.0, min_samples_leaf=1,\n",
              "                       min_samples_split=2, min_weight_fraction_leaf=0.0,\n",
              "                       random_state=123, splitter=&#x27;best&#x27;)</pre><b>In a Jupyter environment, please rerun this cell to show the HTML representation or trust the notebook. <br />On GitHub, the HTML representation is unable to render, please try loading this page with nbviewer.org.</b></div><div class=\"sk-container\" hidden><div class=\"sk-item\"><div class=\"sk-estimator sk-toggleable\"><input class=\"sk-toggleable__control sk-hidden--visually\" id=\"sk-estimator-id-17\" type=\"checkbox\" checked><label for=\"sk-estimator-id-17\" class=\"sk-toggleable__label sk-toggleable__label-arrow\">DecisionTreeClassifier</label><div class=\"sk-toggleable__content\"><pre>DecisionTreeClassifier(ccp_alpha=0.0, class_weight=None, criterion=&#x27;gini&#x27;,\n",
              "                       max_depth=None, max_features=None, max_leaf_nodes=None,\n",
              "                       min_impurity_decrease=0.0, min_samples_leaf=1,\n",
              "                       min_samples_split=2, min_weight_fraction_leaf=0.0,\n",
              "                       random_state=123, splitter=&#x27;best&#x27;)</pre></div></div></div></div></div>"
            ]
          },
          "metadata": {},
          "execution_count": 9
        }
      ]
    },
    {
      "cell_type": "markdown",
      "source": [
        " ## **<font color=\"DeepPink\">Optimizando Modelo</font>**"
      ],
      "metadata": {
        "id": "M40Nenj1js9A"
      }
    },
    {
      "cell_type": "markdown",
      "source": [
        "👀 Podemos optimizar los hiperparámetros del modelo..."
      ],
      "metadata": {
        "id": "LfUmgL1ikAMF"
      }
    },
    {
      "cell_type": "code",
      "source": [
        "tuned_dt = tune_model(model)"
      ],
      "metadata": {
        "colab": {
          "base_uri": "https://localhost:8080/",
          "height": 482,
          "referenced_widgets": [
            "3ffcb16e0186408dad40968b6ec6a997",
            "2667e63f144c46ef8d4de7319d73b607",
            "54081fef58724b7186112e5666e604b3",
            "4046abd83c2c4346a94d3a28abda8907",
            "8bed1585b6b94eeb8b3d4ae56d00eabe",
            "ae8380b394af43e2aa5c50c05c548cc9",
            "977798cc426a4eccbd851e03ef44e7bb",
            "796f27ffeacf4f8699ef9583afed9038",
            "fd51c00177ef45babaff9bc848a5eba4",
            "44c0919462aa4f5198dc2d680ad32e34",
            "fdedc0bee805499e89183906ba8c9efb"
          ]
        },
        "id": "zpmFri0LkH3I",
        "outputId": "01251222-0f3c-4af0-d857-97cc8f4077c7"
      },
      "execution_count": 10,
      "outputs": [
        {
          "output_type": "display_data",
          "data": {
            "text/plain": [
              "<IPython.core.display.HTML object>"
            ],
            "text/html": []
          },
          "metadata": {}
        },
        {
          "output_type": "display_data",
          "data": {
            "text/plain": [
              "<pandas.io.formats.style.Styler at 0x7a519a923040>"
            ],
            "text/html": [
              "<style type=\"text/css\">\n",
              "#T_ae647_row10_col0, #T_ae647_row10_col1, #T_ae647_row10_col2, #T_ae647_row10_col3 {\n",
              "  background: yellow;\n",
              "}\n",
              "</style>\n",
              "<table id=\"T_ae647\" class=\"dataframe\">\n",
              "  <thead>\n",
              "    <tr>\n",
              "      <th class=\"blank level0\" >&nbsp;</th>\n",
              "      <th id=\"T_ae647_level0_col0\" class=\"col_heading level0 col0\" >Accuracy</th>\n",
              "      <th id=\"T_ae647_level0_col1\" class=\"col_heading level0 col1\" >Recall</th>\n",
              "      <th id=\"T_ae647_level0_col2\" class=\"col_heading level0 col2\" >Prec.</th>\n",
              "      <th id=\"T_ae647_level0_col3\" class=\"col_heading level0 col3\" >F1</th>\n",
              "    </tr>\n",
              "    <tr>\n",
              "      <th class=\"index_name level0\" >Fold</th>\n",
              "      <th class=\"blank col0\" >&nbsp;</th>\n",
              "      <th class=\"blank col1\" >&nbsp;</th>\n",
              "      <th class=\"blank col2\" >&nbsp;</th>\n",
              "      <th class=\"blank col3\" >&nbsp;</th>\n",
              "    </tr>\n",
              "  </thead>\n",
              "  <tbody>\n",
              "    <tr>\n",
              "      <th id=\"T_ae647_level0_row0\" class=\"row_heading level0 row0\" >0</th>\n",
              "      <td id=\"T_ae647_row0_col0\" class=\"data row0 col0\" >0.8935</td>\n",
              "      <td id=\"T_ae647_row0_col1\" class=\"data row0 col1\" >0.3827</td>\n",
              "      <td id=\"T_ae647_row0_col2\" class=\"data row0 col2\" >0.5680</td>\n",
              "      <td id=\"T_ae647_row0_col3\" class=\"data row0 col3\" >0.4573</td>\n",
              "    </tr>\n",
              "    <tr>\n",
              "      <th id=\"T_ae647_level0_row1\" class=\"row_heading level0 row1\" >1</th>\n",
              "      <td id=\"T_ae647_row1_col0\" class=\"data row1 col0\" >0.9081</td>\n",
              "      <td id=\"T_ae647_row1_col1\" class=\"data row1 col1\" >0.4340</td>\n",
              "      <td id=\"T_ae647_row1_col2\" class=\"data row1 col2\" >0.6653</td>\n",
              "      <td id=\"T_ae647_row1_col3\" class=\"data row1 col3\" >0.5253</td>\n",
              "    </tr>\n",
              "    <tr>\n",
              "      <th id=\"T_ae647_level0_row2\" class=\"row_heading level0 row2\" >2</th>\n",
              "      <td id=\"T_ae647_row2_col0\" class=\"data row2 col0\" >0.9036</td>\n",
              "      <td id=\"T_ae647_row2_col1\" class=\"data row2 col1\" >0.4000</td>\n",
              "      <td id=\"T_ae647_row2_col2\" class=\"data row2 col2\" >0.6407</td>\n",
              "      <td id=\"T_ae647_row2_col3\" class=\"data row2 col3\" >0.4925</td>\n",
              "    </tr>\n",
              "    <tr>\n",
              "      <th id=\"T_ae647_level0_row3\" class=\"row_heading level0 row3\" >3</th>\n",
              "      <td id=\"T_ae647_row3_col0\" class=\"data row3 col0\" >0.9011</td>\n",
              "      <td id=\"T_ae647_row3_col1\" class=\"data row3 col1\" >0.4027</td>\n",
              "      <td id=\"T_ae647_row3_col2\" class=\"data row3 col2\" >0.6183</td>\n",
              "      <td id=\"T_ae647_row3_col3\" class=\"data row3 col3\" >0.4877</td>\n",
              "    </tr>\n",
              "    <tr>\n",
              "      <th id=\"T_ae647_level0_row4\" class=\"row_heading level0 row4\" >4</th>\n",
              "      <td id=\"T_ae647_row4_col0\" class=\"data row4 col0\" >0.9030</td>\n",
              "      <td id=\"T_ae647_row4_col1\" class=\"data row4 col1\" >0.4027</td>\n",
              "      <td id=\"T_ae647_row4_col2\" class=\"data row4 col2\" >0.6340</td>\n",
              "      <td id=\"T_ae647_row4_col3\" class=\"data row4 col3\" >0.4926</td>\n",
              "    </tr>\n",
              "    <tr>\n",
              "      <th id=\"T_ae647_level0_row5\" class=\"row_heading level0 row5\" >5</th>\n",
              "      <td id=\"T_ae647_row5_col0\" class=\"data row5 col0\" >0.8973</td>\n",
              "      <td id=\"T_ae647_row5_col1\" class=\"data row5 col1\" >0.3297</td>\n",
              "      <td id=\"T_ae647_row5_col2\" class=\"data row5 col2\" >0.6131</td>\n",
              "      <td id=\"T_ae647_row5_col3\" class=\"data row5 col3\" >0.4288</td>\n",
              "    </tr>\n",
              "    <tr>\n",
              "      <th id=\"T_ae647_level0_row6\" class=\"row_heading level0 row6\" >6</th>\n",
              "      <td id=\"T_ae647_row6_col0\" class=\"data row6 col0\" >0.8935</td>\n",
              "      <td id=\"T_ae647_row6_col1\" class=\"data row6 col1\" >0.3270</td>\n",
              "      <td id=\"T_ae647_row6_col2\" class=\"data row6 col2\" >0.5789</td>\n",
              "      <td id=\"T_ae647_row6_col3\" class=\"data row6 col3\" >0.4180</td>\n",
              "    </tr>\n",
              "    <tr>\n",
              "      <th id=\"T_ae647_level0_row7\" class=\"row_heading level0 row7\" >7</th>\n",
              "      <td id=\"T_ae647_row7_col0\" class=\"data row7 col0\" >0.8989</td>\n",
              "      <td id=\"T_ae647_row7_col1\" class=\"data row7 col1\" >0.3541</td>\n",
              "      <td id=\"T_ae647_row7_col2\" class=\"data row7 col2\" >0.6179</td>\n",
              "      <td id=\"T_ae647_row7_col3\" class=\"data row7 col3\" >0.4502</td>\n",
              "    </tr>\n",
              "    <tr>\n",
              "      <th id=\"T_ae647_level0_row8\" class=\"row_heading level0 row8\" >8</th>\n",
              "      <td id=\"T_ae647_row8_col0\" class=\"data row8 col0\" >0.9096</td>\n",
              "      <td id=\"T_ae647_row8_col1\" class=\"data row8 col1\" >0.4351</td>\n",
              "      <td id=\"T_ae647_row8_col2\" class=\"data row8 col2\" >0.6765</td>\n",
              "      <td id=\"T_ae647_row8_col3\" class=\"data row8 col3\" >0.5296</td>\n",
              "    </tr>\n",
              "    <tr>\n",
              "      <th id=\"T_ae647_level0_row9\" class=\"row_heading level0 row9\" >9</th>\n",
              "      <td id=\"T_ae647_row9_col0\" class=\"data row9 col0\" >0.9042</td>\n",
              "      <td id=\"T_ae647_row9_col1\" class=\"data row9 col1\" >0.3784</td>\n",
              "      <td id=\"T_ae647_row9_col2\" class=\"data row9 col2\" >0.6573</td>\n",
              "      <td id=\"T_ae647_row9_col3\" class=\"data row9 col3\" >0.4803</td>\n",
              "    </tr>\n",
              "    <tr>\n",
              "      <th id=\"T_ae647_level0_row10\" class=\"row_heading level0 row10\" >Mean</th>\n",
              "      <td id=\"T_ae647_row10_col0\" class=\"data row10 col0\" >0.9013</td>\n",
              "      <td id=\"T_ae647_row10_col1\" class=\"data row10 col1\" >0.3846</td>\n",
              "      <td id=\"T_ae647_row10_col2\" class=\"data row10 col2\" >0.6270</td>\n",
              "      <td id=\"T_ae647_row10_col3\" class=\"data row10 col3\" >0.4762</td>\n",
              "    </tr>\n",
              "    <tr>\n",
              "      <th id=\"T_ae647_level0_row11\" class=\"row_heading level0 row11\" >Std</th>\n",
              "      <td id=\"T_ae647_row11_col0\" class=\"data row11 col0\" >0.0052</td>\n",
              "      <td id=\"T_ae647_row11_col1\" class=\"data row11 col1\" >0.0363</td>\n",
              "      <td id=\"T_ae647_row11_col2\" class=\"data row11 col2\" >0.0335</td>\n",
              "      <td id=\"T_ae647_row11_col3\" class=\"data row11 col3\" >0.0355</td>\n",
              "    </tr>\n",
              "  </tbody>\n",
              "</table>\n"
            ]
          },
          "metadata": {}
        },
        {
          "output_type": "display_data",
          "data": {
            "text/plain": [
              "Processing:   0%|          | 0/7 [00:00<?, ?it/s]"
            ],
            "application/vnd.jupyter.widget-view+json": {
              "version_major": 2,
              "version_minor": 0,
              "model_id": "3ffcb16e0186408dad40968b6ec6a997"
            }
          },
          "metadata": {
            "application/vnd.jupyter.widget-view+json": {
              "colab": {
                "custom_widget_manager": {
                  "url": "https://ssl.gstatic.com/colaboratory-static/widgets/colab-cdn-widget-manager/b3e629b1971e1542/manager.min.js"
                }
              }
            }
          }
        },
        {
          "output_type": "stream",
          "name": "stdout",
          "text": [
            "Fitting 10 folds for each of 10 candidates, totalling 100 fits\n"
          ]
        },
        {
          "output_type": "display_data",
          "data": {
            "text/plain": [
              "<IPython.core.display.HTML object>"
            ],
            "text/html": []
          },
          "metadata": {}
        }
      ]
    },
    {
      "cell_type": "markdown",
      "source": [
        " ## **<font color=\"DeepPink\">Ensemble</font>**"
      ],
      "metadata": {
        "id": "HIJKZ-EUL7D2"
      }
    },
    {
      "cell_type": "markdown",
      "source": [
        "👀 Hacemos Ensemble con Bagging\n"
      ],
      "metadata": {
        "id": "lAhfyE8sMYHd"
      }
    },
    {
      "cell_type": "code",
      "source": [
        "bagging_dt = ensemble_model(model, method = 'Bagging')"
      ],
      "metadata": {
        "colab": {
          "base_uri": "https://localhost:8080/",
          "height": 466,
          "referenced_widgets": [
            "ab08dd71b6cb44ad83d5fc4170bf918a",
            "a5991556fc7447f9a9c74845888f8821",
            "5540ce66036f4a1d88b409f4d08bbd51",
            "0face5a510204ee0835bfe94a339e7bd",
            "c46d12e16c684a969fa37414a77d7657",
            "6b9ff2dd1e524bea80d942687a40e3d1",
            "2bd3067482c6418d9c8c96a0b75dd0bd",
            "33c08a46bff8499fb8a55e8ec4127c13",
            "9fc086127931455baac95746883364ab",
            "799c4d8d1f8046c7ac15a5889e652feb",
            "517262be0b2f455aaf075b629b20cd6f"
          ]
        },
        "id": "_di0OudLL-JA",
        "outputId": "8b60668a-ebdc-4484-f582-75a1bc8fb487"
      },
      "execution_count": 11,
      "outputs": [
        {
          "output_type": "display_data",
          "data": {
            "text/plain": [
              "<IPython.core.display.HTML object>"
            ],
            "text/html": []
          },
          "metadata": {}
        },
        {
          "output_type": "display_data",
          "data": {
            "text/plain": [
              "<pandas.io.formats.style.Styler at 0x7a51ceaf3040>"
            ],
            "text/html": [
              "<style type=\"text/css\">\n",
              "#T_67f3b_row10_col0, #T_67f3b_row10_col1, #T_67f3b_row10_col2, #T_67f3b_row10_col3 {\n",
              "  background: yellow;\n",
              "}\n",
              "</style>\n",
              "<table id=\"T_67f3b\" class=\"dataframe\">\n",
              "  <thead>\n",
              "    <tr>\n",
              "      <th class=\"blank level0\" >&nbsp;</th>\n",
              "      <th id=\"T_67f3b_level0_col0\" class=\"col_heading level0 col0\" >Accuracy</th>\n",
              "      <th id=\"T_67f3b_level0_col1\" class=\"col_heading level0 col1\" >Recall</th>\n",
              "      <th id=\"T_67f3b_level0_col2\" class=\"col_heading level0 col2\" >Prec.</th>\n",
              "      <th id=\"T_67f3b_level0_col3\" class=\"col_heading level0 col3\" >F1</th>\n",
              "    </tr>\n",
              "    <tr>\n",
              "      <th class=\"index_name level0\" >Fold</th>\n",
              "      <th class=\"blank col0\" >&nbsp;</th>\n",
              "      <th class=\"blank col1\" >&nbsp;</th>\n",
              "      <th class=\"blank col2\" >&nbsp;</th>\n",
              "      <th class=\"blank col3\" >&nbsp;</th>\n",
              "    </tr>\n",
              "  </thead>\n",
              "  <tbody>\n",
              "    <tr>\n",
              "      <th id=\"T_67f3b_level0_row0\" class=\"row_heading level0 row0\" >0</th>\n",
              "      <td id=\"T_67f3b_row0_col0\" class=\"data row0 col0\" >0.8951</td>\n",
              "      <td id=\"T_67f3b_row0_col1\" class=\"data row0 col1\" >0.4097</td>\n",
              "      <td id=\"T_67f3b_row0_col2\" class=\"data row0 col2\" >0.5736</td>\n",
              "      <td id=\"T_67f3b_row0_col3\" class=\"data row0 col3\" >0.4780</td>\n",
              "    </tr>\n",
              "    <tr>\n",
              "      <th id=\"T_67f3b_level0_row1\" class=\"row_heading level0 row1\" >1</th>\n",
              "      <td id=\"T_67f3b_row1_col0\" class=\"data row1 col0\" >0.8935</td>\n",
              "      <td id=\"T_67f3b_row1_col1\" class=\"data row1 col1\" >0.4097</td>\n",
              "      <td id=\"T_67f3b_row1_col2\" class=\"data row1 col2\" >0.5630</td>\n",
              "      <td id=\"T_67f3b_row1_col3\" class=\"data row1 col3\" >0.4743</td>\n",
              "    </tr>\n",
              "    <tr>\n",
              "      <th id=\"T_67f3b_level0_row2\" class=\"row_heading level0 row2\" >2</th>\n",
              "      <td id=\"T_67f3b_row2_col0\" class=\"data row2 col0\" >0.8976</td>\n",
              "      <td id=\"T_67f3b_row2_col1\" class=\"data row2 col1\" >0.4027</td>\n",
              "      <td id=\"T_67f3b_row2_col2\" class=\"data row2 col2\" >0.5913</td>\n",
              "      <td id=\"T_67f3b_row2_col3\" class=\"data row2 col3\" >0.4791</td>\n",
              "    </tr>\n",
              "    <tr>\n",
              "      <th id=\"T_67f3b_level0_row3\" class=\"row_heading level0 row3\" >3</th>\n",
              "      <td id=\"T_67f3b_row3_col0\" class=\"data row3 col0\" >0.9043</td>\n",
              "      <td id=\"T_67f3b_row3_col1\" class=\"data row3 col1\" >0.4027</td>\n",
              "      <td id=\"T_67f3b_row3_col2\" class=\"data row3 col2\" >0.6450</td>\n",
              "      <td id=\"T_67f3b_row3_col3\" class=\"data row3 col3\" >0.4958</td>\n",
              "    </tr>\n",
              "    <tr>\n",
              "      <th id=\"T_67f3b_level0_row4\" class=\"row_heading level0 row4\" >4</th>\n",
              "      <td id=\"T_67f3b_row4_col0\" class=\"data row4 col0\" >0.9036</td>\n",
              "      <td id=\"T_67f3b_row4_col1\" class=\"data row4 col1\" >0.4378</td>\n",
              "      <td id=\"T_67f3b_row4_col2\" class=\"data row4 col2\" >0.6255</td>\n",
              "      <td id=\"T_67f3b_row4_col3\" class=\"data row4 col3\" >0.5151</td>\n",
              "    </tr>\n",
              "    <tr>\n",
              "      <th id=\"T_67f3b_level0_row5\" class=\"row_heading level0 row5\" >5</th>\n",
              "      <td id=\"T_67f3b_row5_col0\" class=\"data row5 col0\" >0.9014</td>\n",
              "      <td id=\"T_67f3b_row5_col1\" class=\"data row5 col1\" >0.4081</td>\n",
              "      <td id=\"T_67f3b_row5_col2\" class=\"data row5 col2\" >0.6189</td>\n",
              "      <td id=\"T_67f3b_row5_col3\" class=\"data row5 col3\" >0.4919</td>\n",
              "    </tr>\n",
              "    <tr>\n",
              "      <th id=\"T_67f3b_level0_row6\" class=\"row_heading level0 row6\" >6</th>\n",
              "      <td id=\"T_67f3b_row6_col0\" class=\"data row6 col0\" >0.8998</td>\n",
              "      <td id=\"T_67f3b_row6_col1\" class=\"data row6 col1\" >0.4027</td>\n",
              "      <td id=\"T_67f3b_row6_col2\" class=\"data row6 col2\" >0.6082</td>\n",
              "      <td id=\"T_67f3b_row6_col3\" class=\"data row6 col3\" >0.4846</td>\n",
              "    </tr>\n",
              "    <tr>\n",
              "      <th id=\"T_67f3b_level0_row7\" class=\"row_heading level0 row7\" >7</th>\n",
              "      <td id=\"T_67f3b_row7_col0\" class=\"data row7 col0\" >0.8985</td>\n",
              "      <td id=\"T_67f3b_row7_col1\" class=\"data row7 col1\" >0.4189</td>\n",
              "      <td id=\"T_67f3b_row7_col2\" class=\"data row7 col2\" >0.5939</td>\n",
              "      <td id=\"T_67f3b_row7_col3\" class=\"data row7 col3\" >0.4913</td>\n",
              "    </tr>\n",
              "    <tr>\n",
              "      <th id=\"T_67f3b_level0_row8\" class=\"row_heading level0 row8\" >8</th>\n",
              "      <td id=\"T_67f3b_row8_col0\" class=\"data row8 col0\" >0.9027</td>\n",
              "      <td id=\"T_67f3b_row8_col1\" class=\"data row8 col1\" >0.4189</td>\n",
              "      <td id=\"T_67f3b_row8_col2\" class=\"data row8 col2\" >0.6250</td>\n",
              "      <td id=\"T_67f3b_row8_col3\" class=\"data row8 col3\" >0.5016</td>\n",
              "    </tr>\n",
              "    <tr>\n",
              "      <th id=\"T_67f3b_level0_row9\" class=\"row_heading level0 row9\" >9</th>\n",
              "      <td id=\"T_67f3b_row9_col0\" class=\"data row9 col0\" >0.9046</td>\n",
              "      <td id=\"T_67f3b_row9_col1\" class=\"data row9 col1\" >0.4297</td>\n",
              "      <td id=\"T_67f3b_row9_col2\" class=\"data row9 col2\" >0.6360</td>\n",
              "      <td id=\"T_67f3b_row9_col3\" class=\"data row9 col3\" >0.5129</td>\n",
              "    </tr>\n",
              "    <tr>\n",
              "      <th id=\"T_67f3b_level0_row10\" class=\"row_heading level0 row10\" >Mean</th>\n",
              "      <td id=\"T_67f3b_row10_col0\" class=\"data row10 col0\" >0.9001</td>\n",
              "      <td id=\"T_67f3b_row10_col1\" class=\"data row10 col1\" >0.4141</td>\n",
              "      <td id=\"T_67f3b_row10_col2\" class=\"data row10 col2\" >0.6080</td>\n",
              "      <td id=\"T_67f3b_row10_col3\" class=\"data row10 col3\" >0.4925</td>\n",
              "    </tr>\n",
              "    <tr>\n",
              "      <th id=\"T_67f3b_level0_row11\" class=\"row_heading level0 row11\" >Std</th>\n",
              "      <td id=\"T_67f3b_row11_col0\" class=\"data row11 col0\" >0.0037</td>\n",
              "      <td id=\"T_67f3b_row11_col1\" class=\"data row11 col1\" >0.0115</td>\n",
              "      <td id=\"T_67f3b_row11_col2\" class=\"data row11 col2\" >0.0256</td>\n",
              "      <td id=\"T_67f3b_row11_col3\" class=\"data row11 col3\" >0.0135</td>\n",
              "    </tr>\n",
              "  </tbody>\n",
              "</table>\n"
            ]
          },
          "metadata": {}
        },
        {
          "output_type": "display_data",
          "data": {
            "text/plain": [
              "Processing:   0%|          | 0/6 [00:00<?, ?it/s]"
            ],
            "application/vnd.jupyter.widget-view+json": {
              "version_major": 2,
              "version_minor": 0,
              "model_id": "ab08dd71b6cb44ad83d5fc4170bf918a"
            }
          },
          "metadata": {
            "application/vnd.jupyter.widget-view+json": {
              "colab": {
                "custom_widget_manager": {
                  "url": "https://ssl.gstatic.com/colaboratory-static/widgets/colab-cdn-widget-manager/b3e629b1971e1542/manager.min.js"
                }
              }
            }
          }
        },
        {
          "output_type": "display_data",
          "data": {
            "text/plain": [
              "<IPython.core.display.HTML object>"
            ],
            "text/html": []
          },
          "metadata": {}
        }
      ]
    },
    {
      "cell_type": "markdown",
      "source": [
        "# **<font color=\"DeepPink\">03 - Analyze Model</font>**\n",
        "\n",
        "<h5 align=\"center\"><b>\n",
        "<font color=\"DeepPink\">\n",
        "<b><mark>Setup</mark> ▶ <mark>Create Model</mark> ▶ <mark>Analyze Model</mark> ▶ Prediction ▶ Save Model\n"
      ],
      "metadata": {
        "id": "zJwtxaD_C5Os"
      }
    },
    {
      "cell_type": "markdown",
      "source": [
        "Puede usar la función <code>plot_model</code> para analizar el rendimiento de un modelo entrenado en el conjunto de prueba. Tambien se puede requerir volver a entrenar el modelo en determinados casos."
      ],
      "metadata": {
        "id": "WBGSpHi1DKSV"
      }
    },
    {
      "cell_type": "markdown",
      "source": [
        " ## **<font color=\"DeepPink\">Matriz de confusión</font>**"
      ],
      "metadata": {
        "id": "lf-pXx9N3nm5"
      }
    },
    {
      "cell_type": "markdown",
      "source": [
        "<p align=\"justify\">\n",
        "La matriz de confusión es una herramienta comúnmente utilizada para evaluar el rendimiento de un modelo de clasificación, especialmente cuando se trata de problemas de dos clases, como la clasificación binaria, donde solo hay dos clases posibles: la clase 0 y la clase 1.\n",
        "<br>\n",
        "<br>\n",
        "En un modelo de clasificación binaria, los resultados de las predicciones se pueden resumir en cuatro términos:\n",
        "\n",
        "<ol align=\"justify\">\n",
        "<li><b>Verdaderos positivos (TP)</b>: Representa el número de muestras que pertenecen a la clase 1 (positiva) y fueron clasificadas correctamente como clase 1.</li><br>\n",
        "<li><b>Verdaderos negativos (TN)</b>: Representa el número de muestras que pertenecen a la clase 0 (negativa) y fueron clasificadas correctamente como clase 0.</li><br>\n",
        "<li><b>Falsos positivos (FP)</b>: Representa el número de muestras que pertenecen a la clase 0 (negativa) pero fueron incorrectamente clasificadas como clase 1.</li><br>\n",
        "<li><b>Falsos negativos (FN)</b>: Representa el número de muestras que pertenecen a la clase 1 (positiva) pero fueron incorrectamente clasificadas como clase 0.</li>"
      ],
      "metadata": {
        "id": "tzQLb1In4bpy"
      }
    },
    {
      "cell_type": "code",
      "source": [
        "plot_model(model, plot = 'confusion_matrix', scale=0.7)"
      ],
      "metadata": {
        "colab": {
          "base_uri": "https://localhost:8080/",
          "height": 411
        },
        "id": "0cN3mh6hDKps",
        "outputId": "903e73b4-c19f-4178-d120-0788f019df52"
      },
      "execution_count": 12,
      "outputs": [
        {
          "output_type": "display_data",
          "data": {
            "text/plain": [
              "<IPython.core.display.HTML object>"
            ],
            "text/html": []
          },
          "metadata": {}
        },
        {
          "output_type": "display_data",
          "data": {
            "text/plain": [
              "<Figure size 560x385 with 1 Axes>"
            ],
            "image/png": "[encoded data removed]"
          },
          "metadata": {}
        }
      ]
    },
    {
      "cell_type": "code",
      "source": [
        "plot_model(tuned_dt, plot = 'confusion_matrix', scale=0.7)"
      ],
      "metadata": {
        "colab": {
          "base_uri": "https://localhost:8080/",
          "height": 411
        },
        "id": "aU-qNgxJlAU9",
        "outputId": "b0508045-0f0d-4bee-a935-31328849fd9c"
      },
      "execution_count": 13,
      "outputs": [
        {
          "output_type": "display_data",
          "data": {
            "text/plain": [
              "<IPython.core.display.HTML object>"
            ],
            "text/html": []
          },
          "metadata": {}
        },
        {
          "output_type": "display_data",
          "data": {
            "text/plain": [
              "<Figure size 560x385 with 1 Axes>"
            ],
            "image/png": "[encoded data removed]"
          },
          "metadata": {}
        }
      ]
    },
    {
      "cell_type": "code",
      "source": [
        "plot_model(bagging_dt, plot = 'confusion_matrix', scale=0.7)"
      ],
      "metadata": {
        "colab": {
          "base_uri": "https://localhost:8080/",
          "height": 411
        },
        "id": "tluIdHHdNO2c",
        "outputId": "0a0677a0-c6d1-4299-a922-2b9e25bcf142"
      },
      "execution_count": 14,
      "outputs": [
        {
          "output_type": "display_data",
          "data": {
            "text/plain": [
              "<IPython.core.display.HTML object>"
            ],
            "text/html": []
          },
          "metadata": {}
        },
        {
          "output_type": "display_data",
          "data": {
            "text/plain": [
              "<Figure size 560x385 with 1 Axes>"
            ],
            "image/png": "[encoded data removed]"
          },
          "metadata": {}
        }
      ]
    },
    {
      "cell_type": "markdown",
      "source": [
        " ## **<font color=\"DeepPink\">Curva ROC</font>**"
      ],
      "metadata": {
        "id": "88QbQsNH3xqK"
      }
    },
    {
      "cell_type": "markdown",
      "source": [
        "<p align=\"justify\">\n",
        "La Curva ROC (Receiver Operating Characteristic) es una herramienta gráfica que se utiliza para evaluar el rendimiento de un modelo de clasificación binaria.\n",
        "<br><br>\n",
        "Es una representación visual de la sensibilidad (tasa de verdaderos positivos) frente a la tasa de falsos positivos $(1 - especificidad)$ para diferentes umbrales de decisión.\n",
        "<br><br>\n",
        "Aquí está la explicación paso a paso de cómo se construye la Curva ROC:\n",
        "<br><br>\n",
        "<ol align=\"justify\">\n",
        "<li><b>Definición de términos</b>:</li>\n",
        "<ul align=\"justify\">\n",
        "<li><b>Verdaderos positivos (VP)</b>: Son los casos positivos que el modelo clasifica correctamente como positivos.</li><br>\n",
        "<li><b>Falsos positivos (FP)</b>: Son los casos negativos que el modelo clasifica incorrectamente como positivos.</li><br>\n",
        "<li><b>Verdaderos negativos (VN)</b>: Son los casos negativos que el modelo clasifica correctamente como negativos.</li><br>\n",
        "<li><b>Falsos negativos (FN)</b>: Son los casos positivos que el modelo clasifica incorrectamente como negativos</li><br>\n",
        "</ul>\n",
        "<li><b>Variación del umbral de decisión</b>:\n",
        "   Un modelo de clasificación binaria asigna probabilidades o puntajes a cada instancia para determinar si pertenece a la clase positiva o negativa. Al cambiar el umbral de decisión, es posible ajustar el equilibrio entre la sensibilidad y la especificidad del modelo.</li><br>\n",
        "<li><b>Cálculo de la sensibilidad y especificidad</b>:\n",
        "   Para cada umbral de decisión, se calculan la sensibilidad y la especificidad del modelo. La sensibilidad se define como la tasa de verdaderos positivos $\\frac {VP} {VP + FN}$, mientras que la especificidad se define como la tasa de verdaderos negativos $\\frac {VN}{VN + FP}$.</li><br>\n",
        "<li><b>Construcción de la Curva ROC</b>:\n",
        "   La Curva ROC se crea trazando la sensibilidad en el eje $Y$ (eje vertical) y el complemento de la especificidad $(1 - especificidad)$ en el eje $X$ (eje horizontal). A medida que el umbral de decisión varía, se obtienen diferentes puntos en la curva.</li><br>\n",
        "<li><b>Interpretación de la Curva ROC</b>:\n",
        "   La Curva ROC muestra cómo varía el equilibrio entre la sensibilidad y la especificidad a diferentes niveles de umbral de decisión. Un modelo con un rendimiento excelente tendría una curva ROC que se acerca al vértice superior izquierdo del gráfico, lo que indica una alta sensibilidad y una baja tasa de falsos positivos. Un modelo sin capacidad de discriminación tendría una curva ROC que se asemeja a la línea diagonal (tasa de verdaderos positivos igual a tasa de falsos positivos).</li></ol>\n",
        "<br>\n",
        "<p align=\"justify\">\n",
        "Además de la Curva ROC, se utiliza el área bajo la curva (AUC, Area Under the Curve) como una métrica resumen del rendimiento del modelo. El AUC mide la capacidad de discriminación del modelo en general, y un valor de AUC cercano a $1$ indica un mejor rendimiento del modelo. En cambio, un valor cercano a $0.5$ indica que el modelo no supera el rendimiento aleatorio y, por lo tanto, es poco útil."
      ],
      "metadata": {
        "id": "ipp00crT47iK"
      }
    },
    {
      "cell_type": "code",
      "source": [
        "plot_model(model, plot = 'auc', scale=0.78)"
      ],
      "metadata": {
        "colab": {
          "base_uri": "https://localhost:8080/",
          "height": 433
        },
        "id": "Dw49zVuvES-H",
        "outputId": "696ed414-0376-4479-b9e2-c5b1425894e2"
      },
      "execution_count": 15,
      "outputs": [
        {
          "output_type": "display_data",
          "data": {
            "text/plain": [
              "<IPython.core.display.HTML object>"
            ],
            "text/html": []
          },
          "metadata": {}
        },
        {
          "output_type": "display_data",
          "data": {
            "text/plain": [
              "<Figure size 624x429 with 1 Axes>"
            ],
            "image/png": "[encoded data removed]"
          },
          "metadata": {}
        }
      ]
    },
    {
      "cell_type": "code",
      "source": [
        "plot_model(tuned_dt, plot = 'auc', scale=0.78)"
      ],
      "metadata": {
        "colab": {
          "base_uri": "https://localhost:8080/",
          "height": 433
        },
        "id": "x_LHDyMmllDV",
        "outputId": "13f1d1e3-e693-4749-8d09-13a6bf9f3ecd"
      },
      "execution_count": 16,
      "outputs": [
        {
          "output_type": "display_data",
          "data": {
            "text/plain": [
              "<IPython.core.display.HTML object>"
            ],
            "text/html": []
          },
          "metadata": {}
        },
        {
          "output_type": "display_data",
          "data": {
            "text/plain": [
              "<Figure size 624x429 with 1 Axes>"
            ],
            "image/png": "[encoded data removed]"
          },
          "metadata": {}
        }
      ]
    },
    {
      "cell_type": "code",
      "source": [
        "plot_model(bagging_dt, plot = 'auc', scale=0.78)"
      ],
      "metadata": {
        "colab": {
          "base_uri": "https://localhost:8080/",
          "height": 433
        },
        "id": "h0QHrQDINWQD",
        "outputId": "642ac8a8-44b2-4052-a557-25bac779107b"
      },
      "execution_count": 17,
      "outputs": [
        {
          "output_type": "display_data",
          "data": {
            "text/plain": [
              "<IPython.core.display.HTML object>"
            ],
            "text/html": []
          },
          "metadata": {}
        },
        {
          "output_type": "display_data",
          "data": {
            "text/plain": [
              "<Figure size 624x429 with 1 Axes>"
            ],
            "image/png": "[encoded data removed]"
          },
          "metadata": {}
        }
      ]
    },
    {
      "cell_type": "markdown",
      "source": [
        " ## **<font color=\"DeepPink\">Importancia de Variables</font>**"
      ],
      "metadata": {
        "id": "Nzn72DMr31kn"
      }
    },
    {
      "cell_type": "markdown",
      "source": [
        "<p align=\"justify\">\n",
        "La \"Feature Importance\" o importancia de variables o caracteristicas, es un concepto utilizado en el contexto del aprendizaje automático (machine learning) y, en particular, en modelos de clasificación o regresión. Se refiere a una técnica que permite determinar la contribución relativa de cada característica o variable utilizada en el modelo para realizar las predicciones.\n",
        "<br><br>\n",
        "Cuando se entrena un modelo de aprendizaje automático, como un algoritmo de clasificación (por ejemplo, Random Forest, Gradient Boosting, etc.) o un algoritmo de regresión (por ejemplo, Regresión Lineal, Lasso, etc.), el modelo utiliza un conjunto de características o variables (también conocidas como atributos o columnas) para hacer predicciones.\n",
        "<br><br>\n",
        "La importancia de características nos ayuda a responder preguntas como:\n",
        "<br><br>\n",
        "<ul aling=\"justify\">\n",
        "<li>¿Cuáles son las características más influyentes para el modelo en sus predicciones?</li><br>\n",
        "<li>¿Cuáles características pueden ser descartadas sin afectar significativamente el rendimiento del modelo?</li><br>\n",
        "<li>¿Cuáles características tienen una correlación más fuerte con la variable objetivo (o la variable a predecir)?</li></ul><br>\n",
        "<p align=\"justify\">\n",
        "Hay varias formas de calcular la importancia de características, y algunos algoritmos ya proporcionan esta información directamente después de ser entrenados.\n",
        "<br><br>\n",
        "Algunas de las técnicas comunes para calcular la importancia de características son:\n",
        "<br>\n",
        "<ol align=\"justify\">\n",
        "<li><b>Importancia basada en árboles (Tree-based Importance)</b>:\n",
        "   En algoritmos de árboles, como Random Forest o Gradient Boosting, la importancia de características se puede calcular al observar cómo cada característica afecta la precisión de la predicción en el árbol. Las características que se utilizan para tomar decisiones en los niveles superiores del árbol o <mark>que reducen la impureza</mark> (como la entropía o la ganancia de información) en mayor medida, generalmente se consideran más importantes.</li><br>\n",
        "<li><b>Coeficientes en regresión lineal</b>:\n",
        "   En modelos de regresión lineal o regresión lineal regularizada (por ejemplo, Lasso, Ridge), los coeficientes asociados con cada característica indican su contribución a la predicción. Los coeficientes más grandes, en valor absoluto, indican que esa característica tiene una mayor influencia en las predicciones.</li><br>\n",
        "<li><b>Permutación de características (Permutation Feature Importance)</b>:\n",
        "   En este enfoque, se mide cómo cambia el rendimiento del modelo cuando se permutan aleatoriamente los valores de una característica específica mientras se evalúa en un conjunto de prueba. <mark>Si una característica es importante, su permutación causará una disminución significativa en el rendimiento del modelo</mark>.</li></ol><br>\n",
        "<p align=\"justify\">\n",
        "La importancia de características es una herramienta útil para comprender y analizar el comportamiento de un modelo de aprendizaje automático, así como para identificar qué características tienen un mayor impacto en las predicciones.\n",
        "<br><br>\n",
        "Sin embargo, debe utilizarse con precaución, ya que la interpretación de la importancia puede variar según el contexto y el problema específico que se esté abordando."
      ],
      "metadata": {
        "id": "hCUb141Y9rxS"
      }
    },
    {
      "cell_type": "code",
      "source": [
        "plot_model(model, plot = 'feature', scale=0.78)"
      ],
      "metadata": {
        "colab": {
          "base_uri": "https://localhost:8080/",
          "height": 403
        },
        "id": "_rRvZ5jpEngf",
        "outputId": "6475bac5-9b7b-49f8-984c-3cdbc581c8bf"
      },
      "execution_count": 18,
      "outputs": [
        {
          "output_type": "display_data",
          "data": {
            "text/plain": [
              "<IPython.core.display.HTML object>"
            ],
            "text/html": []
          },
          "metadata": {}
        },
        {
          "output_type": "display_data",
          "data": {
            "text/plain": [
              "<Figure size 624x390 with 1 Axes>"
            ],
            "image/png": "[encoded data removed]"
          },
          "metadata": {}
        }
      ]
    },
    {
      "cell_type": "code",
      "source": [
        "plot_model(tuned_dt, plot = 'feature', scale=0.78)"
      ],
      "metadata": {
        "colab": {
          "base_uri": "https://localhost:8080/",
          "height": 403
        },
        "id": "-5H-ZY_flxVp",
        "outputId": "dfb6f0d1-7eec-4517-ff2d-4873012761ea"
      },
      "execution_count": 19,
      "outputs": [
        {
          "output_type": "display_data",
          "data": {
            "text/plain": [
              "<IPython.core.display.HTML object>"
            ],
            "text/html": []
          },
          "metadata": {}
        },
        {
          "output_type": "display_data",
          "data": {
            "text/plain": [
              "<Figure size 624x390 with 1 Axes>"
            ],
            "image/png": "[encoded data removed]"
          },
          "metadata": {}
        }
      ]
    },
    {
      "cell_type": "markdown",
      "source": [
        " ## **<font color=\"DeepPink\">Evaluación</font>**"
      ],
      "metadata": {
        "id": "8huh4kH238GK"
      }
    },
    {
      "cell_type": "code",
      "source": [
        "evaluate_model(model)"
      ],
      "metadata": {
        "colab": {
          "base_uri": "https://localhost:8080/",
          "height": 244,
          "referenced_widgets": [
            "eaf939b2f2f84ee68c521d7e148aece5",
            "f64728bd3daf4e63a29eaed84c9e3fb8",
            "655d92ee842b441986593e283a0445cc",
            "539aed71cc2a4df5ae582ee1a6fee813",
            "36448d2d53c345979c29f7404c55b42c",
            "d8ce922862ad46f394644478535af7e9",
            "5a8d6feea18a41de998ebe5e2aabd16e"
          ]
        },
        "id": "8QHEhOa6E0bh",
        "outputId": "607e2efa-26b0-4cae-a877-b49e08f5af0f"
      },
      "execution_count": 20,
      "outputs": [
        {
          "output_type": "display_data",
          "data": {
            "text/plain": [
              "interactive(children=(ToggleButtons(description='Plot Type:', icons=('',), options=(('Pipeline Plot', 'pipelin…"
            ],
            "application/vnd.jupyter.widget-view+json": {
              "version_major": 2,
              "version_minor": 0,
              "model_id": "eaf939b2f2f84ee68c521d7e148aece5"
            }
          },
          "metadata": {
            "application/vnd.jupyter.widget-view+json": {
              "colab": {
                "custom_widget_manager": {
                  "url": "https://ssl.gstatic.com/colaboratory-static/widgets/colab-cdn-widget-manager/b3e629b1971e1542/manager.min.js"
                }
              }
            }
          }
        }
      ]
    },
    {
      "cell_type": "code",
      "source": [
        "evaluate_model(tuned_dt)"
      ],
      "metadata": {
        "colab": {
          "base_uri": "https://localhost:8080/",
          "height": 244,
          "referenced_widgets": [
            "30826d9304064ec2972e42bba55691a5",
            "1e387d4c6b8e4ce48180b105ffc3dcf0",
            "165a86164a204cbfb0d46bb0d67ea223",
            "cd9efb3a6201461dae4de4f9a4ef8529",
            "6f8911115e7a448490d92bb71317c85d",
            "768236355da942e1b7e7f366a9b5380d",
            "023285140fef4d27a9491453c7f592f2"
          ]
        },
        "id": "CEFttqiFl4_m",
        "outputId": "b87ee78e-30b3-4576-a563-f6699bd28c82"
      },
      "execution_count": 21,
      "outputs": [
        {
          "output_type": "display_data",
          "data": {
            "text/plain": [
              "interactive(children=(ToggleButtons(description='Plot Type:', icons=('',), options=(('Pipeline Plot', 'pipelin…"
            ],
            "application/vnd.jupyter.widget-view+json": {
              "version_major": 2,
              "version_minor": 0,
              "model_id": "30826d9304064ec2972e42bba55691a5"
            }
          },
          "metadata": {
            "application/vnd.jupyter.widget-view+json": {
              "colab": {
                "custom_widget_manager": {
                  "url": "https://ssl.gstatic.com/colaboratory-static/widgets/colab-cdn-widget-manager/b3e629b1971e1542/manager.min.js"
                }
              }
            }
          }
        }
      ]
    },
    {
      "cell_type": "code",
      "source": [
        "evaluate_model(bagging_dt)"
      ],
      "metadata": {
        "colab": {
          "base_uri": "https://localhost:8080/",
          "height": 246,
          "referenced_widgets": [
            "5ffbf2fe73eb425eb3215ed256a36758",
            "c45d9768203346c0b2600f97b23daed4",
            "28a0879620b84623b5d37c7f3b5d05ab",
            "053acbb1dae346728f4b01626e6840bc",
            "2866db16117a44a490ecf7f4df91f575",
            "91d6394ba27e4bfa8501f16c0f37965d",
            "c6c494e782de4de19b92109b71b0ec82"
          ]
        },
        "id": "G6KooznHNowU",
        "outputId": "95ac59e0-9351-4304-fca9-13eb060d4040"
      },
      "execution_count": 22,
      "outputs": [
        {
          "output_type": "display_data",
          "data": {
            "text/plain": [
              "interactive(children=(ToggleButtons(description='Plot Type:', icons=('',), options=(('Pipeline Plot', 'pipelin…"
            ],
            "application/vnd.jupyter.widget-view+json": {
              "version_major": 2,
              "version_minor": 0,
              "model_id": "5ffbf2fe73eb425eb3215ed256a36758"
            }
          },
          "metadata": {
            "application/vnd.jupyter.widget-view+json": {
              "colab": {
                "custom_widget_manager": {
                  "url": "https://ssl.gstatic.com/colaboratory-static/widgets/colab-cdn-widget-manager/b3e629b1971e1542/manager.min.js"
                }
              }
            }
          }
        }
      ]
    },
    {
      "cell_type": "markdown",
      "source": [
        "# **<font color=\"DeepPink\">04 - Prediction</font>**\n",
        "\n",
        "<h5 align=\"center\"><b>\n",
        "<font color=\"DeepPink\">\n",
        "<b><mark>Setup</mark> ▶ <mark>Create Model</mark> ▶ <mark>Analyze Model</mark> ▶ <mark>Prediction</mark> ▶ Save Model\n"
      ],
      "metadata": {
        "id": "nPVGjc6dFOH-"
      }
    },
    {
      "cell_type": "markdown",
      "source": [
        "<p align=\"justify\">\n",
        "La función <code>predict_model</code> devuelve la etiqueta de predicción y la puntuación de predicción (probabilidad de la clase predicha) como columnas nuevas en el DataFrame."
      ],
      "metadata": {
        "id": "AykebkMpFXFU"
      }
    },
    {
      "cell_type": "code",
      "source": [
        "holdout_pred = predict_model(model)"
      ],
      "metadata": {
        "colab": {
          "base_uri": "https://localhost:8080/",
          "height": 100
        },
        "id": "-hvSlJRXFXeC",
        "outputId": "10f04721-0881-4d46-9fa2-6eebbd051426"
      },
      "execution_count": 23,
      "outputs": [
        {
          "output_type": "display_data",
          "data": {
            "text/plain": [
              "<pandas.io.formats.style.Styler at 0x7a5179c9ef20>"
            ],
            "text/html": [
              "<style type=\"text/css\">\n",
              "</style>\n",
              "<table id=\"T_8cfd0\" class=\"dataframe\">\n",
              "  <thead>\n",
              "    <tr>\n",
              "      <th class=\"blank level0\" >&nbsp;</th>\n",
              "      <th id=\"T_8cfd0_level0_col0\" class=\"col_heading level0 col0\" >Model</th>\n",
              "      <th id=\"T_8cfd0_level0_col1\" class=\"col_heading level0 col1\" >Accuracy</th>\n",
              "      <th id=\"T_8cfd0_level0_col2\" class=\"col_heading level0 col2\" >Recall</th>\n",
              "      <th id=\"T_8cfd0_level0_col3\" class=\"col_heading level0 col3\" >Prec.</th>\n",
              "      <th id=\"T_8cfd0_level0_col4\" class=\"col_heading level0 col4\" >F1</th>\n",
              "    </tr>\n",
              "  </thead>\n",
              "  <tbody>\n",
              "    <tr>\n",
              "      <th id=\"T_8cfd0_level0_row0\" class=\"row_heading level0 row0\" >0</th>\n",
              "      <td id=\"T_8cfd0_row0_col0\" class=\"data row0 col0\" >Decision Tree Classifier</td>\n",
              "      <td id=\"T_8cfd0_row0_col1\" class=\"data row0 col1\" >0.8753</td>\n",
              "      <td id=\"T_8cfd0_row0_col2\" class=\"data row0 col2\" >0.4739</td>\n",
              "      <td id=\"T_8cfd0_row0_col3\" class=\"data row0 col3\" >0.4674</td>\n",
              "      <td id=\"T_8cfd0_row0_col4\" class=\"data row0 col4\" >0.4706</td>\n",
              "    </tr>\n",
              "  </tbody>\n",
              "</table>\n"
            ]
          },
          "metadata": {}
        }
      ]
    },
    {
      "cell_type": "code",
      "source": [
        "holdout_pred_tuned = predict_model(tuned_dt)"
      ],
      "metadata": {
        "colab": {
          "base_uri": "https://localhost:8080/",
          "height": 100
        },
        "id": "f6BhAsslmI8F",
        "outputId": "ddfef07d-6941-44be-e588-1c072fbdbd8c"
      },
      "execution_count": 24,
      "outputs": [
        {
          "output_type": "display_data",
          "data": {
            "text/plain": [
              "<pandas.io.formats.style.Styler at 0x7a518b175a20>"
            ],
            "text/html": [
              "<style type=\"text/css\">\n",
              "</style>\n",
              "<table id=\"T_c4a24\" class=\"dataframe\">\n",
              "  <thead>\n",
              "    <tr>\n",
              "      <th class=\"blank level0\" >&nbsp;</th>\n",
              "      <th id=\"T_c4a24_level0_col0\" class=\"col_heading level0 col0\" >Model</th>\n",
              "      <th id=\"T_c4a24_level0_col1\" class=\"col_heading level0 col1\" >Accuracy</th>\n",
              "      <th id=\"T_c4a24_level0_col2\" class=\"col_heading level0 col2\" >Recall</th>\n",
              "      <th id=\"T_c4a24_level0_col3\" class=\"col_heading level0 col3\" >Prec.</th>\n",
              "      <th id=\"T_c4a24_level0_col4\" class=\"col_heading level0 col4\" >F1</th>\n",
              "    </tr>\n",
              "  </thead>\n",
              "  <tbody>\n",
              "    <tr>\n",
              "      <th id=\"T_c4a24_level0_row0\" class=\"row_heading level0 row0\" >0</th>\n",
              "      <td id=\"T_c4a24_row0_col0\" class=\"data row0 col0\" >Decision Tree Classifier</td>\n",
              "      <td id=\"T_c4a24_row0_col1\" class=\"data row0 col1\" >0.9030</td>\n",
              "      <td id=\"T_c4a24_row0_col2\" class=\"data row0 col2\" >0.3957</td>\n",
              "      <td id=\"T_c4a24_row0_col3\" class=\"data row0 col3\" >0.6376</td>\n",
              "      <td id=\"T_c4a24_row0_col4\" class=\"data row0 col4\" >0.4883</td>\n",
              "    </tr>\n",
              "  </tbody>\n",
              "</table>\n"
            ]
          },
          "metadata": {}
        }
      ]
    },
    {
      "cell_type": "code",
      "source": [
        "holdout_pred_bagging = predict_model(bagging_dt)"
      ],
      "metadata": {
        "colab": {
          "base_uri": "https://localhost:8080/",
          "height": 100
        },
        "id": "f5FIT2i4NtWY",
        "outputId": "0c236bf1-21ba-4325-d9c8-2bba4884cbc9"
      },
      "execution_count": 25,
      "outputs": [
        {
          "output_type": "display_data",
          "data": {
            "text/plain": [
              "<pandas.io.formats.style.Styler at 0x7a51cdf48220>"
            ],
            "text/html": [
              "<style type=\"text/css\">\n",
              "</style>\n",
              "<table id=\"T_8a928\" class=\"dataframe\">\n",
              "  <thead>\n",
              "    <tr>\n",
              "      <th class=\"blank level0\" >&nbsp;</th>\n",
              "      <th id=\"T_8a928_level0_col0\" class=\"col_heading level0 col0\" >Model</th>\n",
              "      <th id=\"T_8a928_level0_col1\" class=\"col_heading level0 col1\" >Accuracy</th>\n",
              "      <th id=\"T_8a928_level0_col2\" class=\"col_heading level0 col2\" >Recall</th>\n",
              "      <th id=\"T_8a928_level0_col3\" class=\"col_heading level0 col3\" >Prec.</th>\n",
              "      <th id=\"T_8a928_level0_col4\" class=\"col_heading level0 col4\" >F1</th>\n",
              "    </tr>\n",
              "  </thead>\n",
              "  <tbody>\n",
              "    <tr>\n",
              "      <th id=\"T_8a928_level0_row0\" class=\"row_heading level0 row0\" >0</th>\n",
              "      <td id=\"T_8a928_row0_col0\" class=\"data row0 col0\" >Bagging Classifier</td>\n",
              "      <td id=\"T_8a928_row0_col1\" class=\"data row0 col1\" >0.9000</td>\n",
              "      <td id=\"T_8a928_row0_col2\" class=\"data row0 col2\" >0.3932</td>\n",
              "      <td id=\"T_8a928_row0_col3\" class=\"data row0 col3\" >0.6130</td>\n",
              "      <td id=\"T_8a928_row0_col4\" class=\"data row0 col4\" >0.4791</td>\n",
              "    </tr>\n",
              "  </tbody>\n",
              "</table>\n"
            ]
          },
          "metadata": {}
        }
      ]
    },
    {
      "cell_type": "markdown",
      "source": [
        "# **<font color=\"DeepPink\">05 - Save Models</font>**\n",
        "\n",
        "<h5 align=\"center\"><b>\n",
        "<font color=\"DeepPink\">\n",
        "<b><mark>Setup</mark> ▶ <mark>Compare Models</mark> ▶ <mark>Analyze Model</mark> ▶ <mark>Prediction</mark> ▶ <mark>Save Model</mark>\n"
      ],
      "metadata": {
        "id": "IbX3I_SbGH1I"
      }
    },
    {
      "cell_type": "markdown",
      "source": [
        "<p align=\"justify\">\n",
        "👀 Finalmente, se puede guardar todo el pipeline para su uso posterior, utilizando la función <code>save_model</code>."
      ],
      "metadata": {
        "id": "DAoJ_g3MGO_l"
      }
    },
    {
      "cell_type": "code",
      "source": [
        "save_model(model, 'my_first_pipeline')"
      ],
      "metadata": {
        "colab": {
          "base_uri": "https://localhost:8080/"
        },
        "id": "lp-ZD5JlGPbb",
        "outputId": "547ff6e3-6f0f-4282-8613-fb8d9b42fe19"
      },
      "execution_count": 26,
      "outputs": [
        {
          "output_type": "stream",
          "name": "stdout",
          "text": [
            "Transformation Pipeline and Model Successfully Saved\n"
          ]
        },
        {
          "output_type": "execute_result",
          "data": {
            "text/plain": [
              "(Pipeline(memory=FastMemory(location=/tmp/joblib),\n",
              "          steps=[('label_encoding',\n",
              "                  TransformerWrapperWithInverse(exclude=None, include=None,\n",
              "                                                transformer=LabelEncoder())),\n",
              "                 ('numerical_imputer',\n",
              "                  TransformerWrapper(exclude=None,\n",
              "                                     include=['age', 'balance', 'day',\n",
              "                                              'duration', 'campaign', 'pdays',\n",
              "                                              'previous'],\n",
              "                                     transformer=SimpleImputer(add_indicator=False,\n",
              "                                                               copy=True,\n",
              "                                                               fill_valu...\n",
              "                                                               handle_unknown='value',\n",
              "                                                               return_df=True,\n",
              "                                                               use_cat_names=True,\n",
              "                                                               verbose=0))),\n",
              "                 ('trained_model',\n",
              "                  DecisionTreeClassifier(ccp_alpha=0.0, class_weight=None,\n",
              "                                         criterion='gini', max_depth=None,\n",
              "                                         max_features=None, max_leaf_nodes=None,\n",
              "                                         min_impurity_decrease=0.0,\n",
              "                                         min_samples_leaf=1, min_samples_split=2,\n",
              "                                         min_weight_fraction_leaf=0.0,\n",
              "                                         random_state=123, splitter='best'))],\n",
              "          verbose=False),\n",
              " 'my_first_pipeline.pkl')"
            ]
          },
          "metadata": {},
          "execution_count": 26
        }
      ]
    },
    {
      "cell_type": "code",
      "source": [
        "loaded_best_pipeline = load_model('my_first_pipeline')\n",
        "loaded_best_pipeline"
      ],
      "metadata": {
        "colab": {
          "base_uri": "https://localhost:8080/",
          "height": 624
        },
        "id": "qAUKGI_NHqOt",
        "outputId": "45f8bba1-0640-4b26-d7a7-f061634997b0"
      },
      "execution_count": 27,
      "outputs": [
        {
          "output_type": "stream",
          "name": "stdout",
          "text": [
            "Transformation Pipeline and Model Successfully Loaded\n"
          ]
        },
        {
          "output_type": "execute_result",
          "data": {
            "text/plain": [
              "Pipeline(memory=FastMemory(location=/tmp/joblib),\n",
              "         steps=[('label_encoding',\n",
              "                 TransformerWrapperWithInverse(exclude=None, include=None,\n",
              "                                               transformer=LabelEncoder())),\n",
              "                ('numerical_imputer',\n",
              "                 TransformerWrapper(exclude=None,\n",
              "                                    include=['age', 'balance', 'day',\n",
              "                                             'duration', 'campaign', 'pdays',\n",
              "                                             'previous'],\n",
              "                                    transformer=SimpleImputer(add_indicator=False,\n",
              "                                                              copy=True,\n",
              "                                                              fill_valu...\n",
              "                                                              handle_unknown='value',\n",
              "                                                              return_df=True,\n",
              "                                                              use_cat_names=True,\n",
              "                                                              verbose=0))),\n",
              "                ('trained_model',\n",
              "                 DecisionTreeClassifier(ccp_alpha=0.0, class_weight=None,\n",
              "                                        criterion='gini', max_depth=None,\n",
              "                                        max_features=None, max_leaf_nodes=None,\n",
              "                                        min_impurity_decrease=0.0,\n",
              "                                        min_samples_leaf=1, min_samples_split=2,\n",
              "                                        min_weight_fraction_leaf=0.0,\n",
              "                                        random_state=123, splitter='best'))],\n",
              "         verbose=False)"
            ],
            "text/html": [
              "<style>#sk-container-id-3 {color: black;background-color: white;}#sk-container-id-3 pre{padding: 0;}#sk-container-id-3 div.sk-toggleable {background-color: white;}#sk-container-id-3 label.sk-toggleable__label {cursor: pointer;display: block;width: 100%;margin-bottom: 0;padding: 0.3em;box-sizing: border-box;text-align: center;}#sk-container-id-3 label.sk-toggleable__label-arrow:before {content: \"▸\";float: left;margin-right: 0.25em;color: #696969;}#sk-container-id-3 label.sk-toggleable__label-arrow:hover:before {color: black;}#sk-container-id-3 div.sk-estimator:hover label.sk-toggleable__label-arrow:before {color: black;}#sk-container-id-3 div.sk-toggleable__content {max-height: 0;max-width: 0;overflow: hidden;text-align: left;background-color: #f0f8ff;}#sk-container-id-3 div.sk-toggleable__content pre {margin: 0.2em;color: black;border-radius: 0.25em;background-color: #f0f8ff;}#sk-container-id-3 input.sk-toggleable__control:checked~div.sk-toggleable__content {max-height: 200px;max-width: 100%;overflow: auto;}#sk-container-id-3 input.sk-toggleable__control:checked~label.sk-toggleable__label-arrow:before {content: \"▾\";}#sk-container-id-3 div.sk-estimator input.sk-toggleable__control:checked~label.sk-toggleable__label {background-color: #d4ebff;}#sk-container-id-3 div.sk-label input.sk-toggleable__control:checked~label.sk-toggleable__label {background-color: #d4ebff;}#sk-container-id-3 input.sk-hidden--visually {border: 0;clip: rect(1px 1px 1px 1px);clip: rect(1px, 1px, 1px, 1px);height: 1px;margin: -1px;overflow: hidden;padding: 0;position: absolute;width: 1px;}#sk-container-id-3 div.sk-estimator {font-family: monospace;background-color: #f0f8ff;border: 1px dotted black;border-radius: 0.25em;box-sizing: border-box;margin-bottom: 0.5em;}#sk-container-id-3 div.sk-estimator:hover {background-color: #d4ebff;}#sk-container-id-3 div.sk-parallel-item::after {content: \"\";width: 100%;border-bottom: 1px solid gray;flex-grow: 1;}#sk-container-id-3 div.sk-label:hover label.sk-toggleable__label {background-color: #d4ebff;}#sk-container-id-3 div.sk-serial::before {content: \"\";position: absolute;border-left: 1px solid gray;box-sizing: border-box;top: 0;bottom: 0;left: 50%;z-index: 0;}#sk-container-id-3 div.sk-serial {display: flex;flex-direction: column;align-items: center;background-color: white;padding-right: 0.2em;padding-left: 0.2em;position: relative;}#sk-container-id-3 div.sk-item {position: relative;z-index: 1;}#sk-container-id-3 div.sk-parallel {display: flex;align-items: stretch;justify-content: center;background-color: white;position: relative;}#sk-container-id-3 div.sk-item::before, #sk-container-id-3 div.sk-parallel-item::before {content: \"\";position: absolute;border-left: 1px solid gray;box-sizing: border-box;top: 0;bottom: 0;left: 50%;z-index: -1;}#sk-container-id-3 div.sk-parallel-item {display: flex;flex-direction: column;z-index: 1;position: relative;background-color: white;}#sk-container-id-3 div.sk-parallel-item:first-child::after {align-self: flex-end;width: 50%;}#sk-container-id-3 div.sk-parallel-item:last-child::after {align-self: flex-start;width: 50%;}#sk-container-id-3 div.sk-parallel-item:only-child::after {width: 0;}#sk-container-id-3 div.sk-dashed-wrapped {border: 1px dashed gray;margin: 0 0.4em 0.5em 0.4em;box-sizing: border-box;padding-bottom: 0.4em;background-color: white;}#sk-container-id-3 div.sk-label label {font-family: monospace;font-weight: bold;display: inline-block;line-height: 1.2em;}#sk-container-id-3 div.sk-label-container {text-align: center;}#sk-container-id-3 div.sk-container {/* jupyter's `normalize.less` sets `[hidden] { display: none; }` but bootstrap.min.css set `[hidden] { display: none !important; }` so we also need the `!important` here to be able to override the default hidden behavior on the sphinx rendered scikit-learn.org. See: https://github.com/scikit-learn/scikit-learn/issues/21755 */display: inline-block !important;position: relative;}#sk-container-id-3 div.sk-text-repr-fallback {display: none;}</style><div id=\"sk-container-id-3\" class=\"sk-top-container\"><div class=\"sk-text-repr-fallback\"><pre>Pipeline(memory=FastMemory(location=/tmp/joblib),\n",
              "         steps=[(&#x27;label_encoding&#x27;,\n",
              "                 TransformerWrapperWithInverse(exclude=None, include=None,\n",
              "                                               transformer=LabelEncoder())),\n",
              "                (&#x27;numerical_imputer&#x27;,\n",
              "                 TransformerWrapper(exclude=None,\n",
              "                                    include=[&#x27;age&#x27;, &#x27;balance&#x27;, &#x27;day&#x27;,\n",
              "                                             &#x27;duration&#x27;, &#x27;campaign&#x27;, &#x27;pdays&#x27;,\n",
              "                                             &#x27;previous&#x27;],\n",
              "                                    transformer=SimpleImputer(add_indicator=False,\n",
              "                                                              copy=True,\n",
              "                                                              fill_valu...\n",
              "                                                              handle_unknown=&#x27;value&#x27;,\n",
              "                                                              return_df=True,\n",
              "                                                              use_cat_names=True,\n",
              "                                                              verbose=0))),\n",
              "                (&#x27;trained_model&#x27;,\n",
              "                 DecisionTreeClassifier(ccp_alpha=0.0, class_weight=None,\n",
              "                                        criterion=&#x27;gini&#x27;, max_depth=None,\n",
              "                                        max_features=None, max_leaf_nodes=None,\n",
              "                                        min_impurity_decrease=0.0,\n",
              "                                        min_samples_leaf=1, min_samples_split=2,\n",
              "                                        min_weight_fraction_leaf=0.0,\n",
              "                                        random_state=123, splitter=&#x27;best&#x27;))],\n",
              "         verbose=False)</pre><b>In a Jupyter environment, please rerun this cell to show the HTML representation or trust the notebook. <br />On GitHub, the HTML representation is unable to render, please try loading this page with nbviewer.org.</b></div><div class=\"sk-container\" hidden><div class=\"sk-item sk-dashed-wrapped\"><div class=\"sk-label-container\"><div class=\"sk-label sk-toggleable\"><input class=\"sk-toggleable__control sk-hidden--visually\" id=\"sk-estimator-id-18\" type=\"checkbox\" ><label for=\"sk-estimator-id-18\" class=\"sk-toggleable__label sk-toggleable__label-arrow\">Pipeline</label><div class=\"sk-toggleable__content\"><pre>Pipeline(memory=FastMemory(location=/tmp/joblib),\n",
              "         steps=[(&#x27;label_encoding&#x27;,\n",
              "                 TransformerWrapperWithInverse(exclude=None, include=None,\n",
              "                                               transformer=LabelEncoder())),\n",
              "                (&#x27;numerical_imputer&#x27;,\n",
              "                 TransformerWrapper(exclude=None,\n",
              "                                    include=[&#x27;age&#x27;, &#x27;balance&#x27;, &#x27;day&#x27;,\n",
              "                                             &#x27;duration&#x27;, &#x27;campaign&#x27;, &#x27;pdays&#x27;,\n",
              "                                             &#x27;previous&#x27;],\n",
              "                                    transformer=SimpleImputer(add_indicator=False,\n",
              "                                                              copy=True,\n",
              "                                                              fill_valu...\n",
              "                                                              handle_unknown=&#x27;value&#x27;,\n",
              "                                                              return_df=True,\n",
              "                                                              use_cat_names=True,\n",
              "                                                              verbose=0))),\n",
              "                (&#x27;trained_model&#x27;,\n",
              "                 DecisionTreeClassifier(ccp_alpha=0.0, class_weight=None,\n",
              "                                        criterion=&#x27;gini&#x27;, max_depth=None,\n",
              "                                        max_features=None, max_leaf_nodes=None,\n",
              "                                        min_impurity_decrease=0.0,\n",
              "                                        min_samples_leaf=1, min_samples_split=2,\n",
              "                                        min_weight_fraction_leaf=0.0,\n",
              "                                        random_state=123, splitter=&#x27;best&#x27;))],\n",
              "         verbose=False)</pre></div></div></div><div class=\"sk-serial\"><div class=\"sk-item sk-dashed-wrapped\"><div class=\"sk-label-container\"><div class=\"sk-label sk-toggleable\"><input class=\"sk-toggleable__control sk-hidden--visually\" id=\"sk-estimator-id-19\" type=\"checkbox\" ><label for=\"sk-estimator-id-19\" class=\"sk-toggleable__label sk-toggleable__label-arrow\">label_encoding: TransformerWrapperWithInverse</label><div class=\"sk-toggleable__content\"><pre>TransformerWrapperWithInverse(exclude=None, include=None,\n",
              "                              transformer=LabelEncoder())</pre></div></div></div><div class=\"sk-parallel\"><div class=\"sk-parallel-item\"><div class=\"sk-item\"><div class=\"sk-label-container\"><div class=\"sk-label sk-toggleable\"><input class=\"sk-toggleable__control sk-hidden--visually\" id=\"sk-estimator-id-20\" type=\"checkbox\" ><label for=\"sk-estimator-id-20\" class=\"sk-toggleable__label sk-toggleable__label-arrow\">transformer: LabelEncoder</label><div class=\"sk-toggleable__content\"><pre>LabelEncoder()</pre></div></div></div><div class=\"sk-serial\"><div class=\"sk-item\"><div class=\"sk-estimator sk-toggleable\"><input class=\"sk-toggleable__control sk-hidden--visually\" id=\"sk-estimator-id-21\" type=\"checkbox\" ><label for=\"sk-estimator-id-21\" class=\"sk-toggleable__label sk-toggleable__label-arrow\">LabelEncoder</label><div class=\"sk-toggleable__content\"><pre>LabelEncoder()</pre></div></div></div></div></div></div></div></div><div class=\"sk-item sk-dashed-wrapped\"><div class=\"sk-label-container\"><div class=\"sk-label sk-toggleable\"><input class=\"sk-toggleable__control sk-hidden--visually\" id=\"sk-estimator-id-22\" type=\"checkbox\" ><label for=\"sk-estimator-id-22\" class=\"sk-toggleable__label sk-toggleable__label-arrow\">numerical_imputer: TransformerWrapper</label><div class=\"sk-toggleable__content\"><pre>TransformerWrapper(exclude=None,\n",
              "                   include=[&#x27;age&#x27;, &#x27;balance&#x27;, &#x27;day&#x27;, &#x27;duration&#x27;, &#x27;campaign&#x27;,\n",
              "                            &#x27;pdays&#x27;, &#x27;previous&#x27;],\n",
              "                   transformer=SimpleImputer(add_indicator=False, copy=True,\n",
              "                                             fill_value=None,\n",
              "                                             keep_empty_features=False,\n",
              "                                             missing_values=nan,\n",
              "                                             strategy=&#x27;mean&#x27;,\n",
              "                                             verbose=&#x27;deprecated&#x27;))</pre></div></div></div><div class=\"sk-parallel\"><div class=\"sk-parallel-item\"><div class=\"sk-item\"><div class=\"sk-label-container\"><div class=\"sk-label sk-toggleable\"><input class=\"sk-toggleable__control sk-hidden--visually\" id=\"sk-estimator-id-23\" type=\"checkbox\" ><label for=\"sk-estimator-id-23\" class=\"sk-toggleable__label sk-toggleable__label-arrow\">transformer: SimpleImputer</label><div class=\"sk-toggleable__content\"><pre>SimpleImputer()</pre></div></div></div><div class=\"sk-serial\"><div class=\"sk-item\"><div class=\"sk-estimator sk-toggleable\"><input class=\"sk-toggleable__control sk-hidden--visually\" id=\"sk-estimator-id-24\" type=\"checkbox\" ><label for=\"sk-estimator-id-24\" class=\"sk-toggleable__label sk-toggleable__label-arrow\">SimpleImputer</label><div class=\"sk-toggleable__content\"><pre>SimpleImputer()</pre></div></div></div></div></div></div></div></div><div class=\"sk-item sk-dashed-wrapped\"><div class=\"sk-label-container\"><div class=\"sk-label sk-toggleable\"><input class=\"sk-toggleable__control sk-hidden--visually\" id=\"sk-estimator-id-25\" type=\"checkbox\" ><label for=\"sk-estimator-id-25\" class=\"sk-toggleable__label sk-toggleable__label-arrow\">categorical_imputer: TransformerWrapper</label><div class=\"sk-toggleable__content\"><pre>TransformerWrapper(exclude=None,\n",
              "                   include=[&#x27;job&#x27;, &#x27;marital&#x27;, &#x27;education&#x27;, &#x27;default&#x27;, &#x27;housing&#x27;,\n",
              "                            &#x27;loan&#x27;, &#x27;contact&#x27;, &#x27;month&#x27;, &#x27;poutcome&#x27;],\n",
              "                   transformer=SimpleImputer(add_indicator=False, copy=True,\n",
              "                                             fill_value=None,\n",
              "                                             keep_empty_features=False,\n",
              "                                             missing_values=nan,\n",
              "                                             strategy=&#x27;most_frequent&#x27;,\n",
              "                                             verbose=&#x27;deprecated&#x27;))</pre></div></div></div><div class=\"sk-parallel\"><div class=\"sk-parallel-item\"><div class=\"sk-item\"><div class=\"sk-label-container\"><div class=\"sk-label sk-toggleable\"><input class=\"sk-toggleable__control sk-hidden--visually\" id=\"sk-estimator-id-26\" type=\"checkbox\" ><label for=\"sk-estimator-id-26\" class=\"sk-toggleable__label sk-toggleable__label-arrow\">transformer: SimpleImputer</label><div class=\"sk-toggleable__content\"><pre>SimpleImputer(strategy=&#x27;most_frequent&#x27;)</pre></div></div></div><div class=\"sk-serial\"><div class=\"sk-item\"><div class=\"sk-estimator sk-toggleable\"><input class=\"sk-toggleable__control sk-hidden--visually\" id=\"sk-estimator-id-27\" type=\"checkbox\" ><label for=\"sk-estimator-id-27\" class=\"sk-toggleable__label sk-toggleable__label-arrow\">SimpleImputer</label><div class=\"sk-toggleable__content\"><pre>SimpleImputer(strategy=&#x27;most_frequent&#x27;)</pre></div></div></div></div></div></div></div></div><div class=\"sk-item sk-dashed-wrapped\"><div class=\"sk-label-container\"><div class=\"sk-label sk-toggleable\"><input class=\"sk-toggleable__control sk-hidden--visually\" id=\"sk-estimator-id-28\" type=\"checkbox\" ><label for=\"sk-estimator-id-28\" class=\"sk-toggleable__label sk-toggleable__label-arrow\">ordinal_encoding: TransformerWrapper</label><div class=\"sk-toggleable__content\"><pre>TransformerWrapper(exclude=None, include=[&#x27;default&#x27;, &#x27;housing&#x27;, &#x27;loan&#x27;],\n",
              "                   transformer=OrdinalEncoder(cols=[&#x27;default&#x27;, &#x27;housing&#x27;,\n",
              "                                                    &#x27;loan&#x27;],\n",
              "                                              drop_invariant=False,\n",
              "                                              handle_missing=&#x27;return_nan&#x27;,\n",
              "                                              handle_unknown=&#x27;value&#x27;,\n",
              "                                              mapping=[{&#x27;col&#x27;: &#x27;default&#x27;,\n",
              "                                                        &#x27;data_type&#x27;: dtype(&#x27;O&#x27;),\n",
              "                                                        &#x27;mapping&#x27;: no     0\n",
              "yes    1\n",
              "NaN   -1\n",
              "dtype: int64},\n",
              "                                                       {&#x27;col&#x27;: &#x27;housing&#x27;,\n",
              "                                                        &#x27;data_type&#x27;: dtype(&#x27;O&#x27;),\n",
              "                                                        &#x27;mapping&#x27;: no     0\n",
              "yes    1\n",
              "NaN   -1\n",
              "dtype: int64},\n",
              "                                                       {&#x27;col&#x27;: &#x27;loan&#x27;,\n",
              "                                                        &#x27;data_type&#x27;: dtype(&#x27;O&#x27;),\n",
              "                                                        &#x27;mapping&#x27;: no     0\n",
              "yes    1\n",
              "NaN   -1\n",
              "dtype: int64}],\n",
              "                                              return_df=True, verbose=0))</pre></div></div></div><div class=\"sk-parallel\"><div class=\"sk-parallel-item\"><div class=\"sk-item\"><div class=\"sk-label-container\"><div class=\"sk-label sk-toggleable\"><input class=\"sk-toggleable__control sk-hidden--visually\" id=\"sk-estimator-id-29\" type=\"checkbox\" ><label for=\"sk-estimator-id-29\" class=\"sk-toggleable__label sk-toggleable__label-arrow\">transformer: OrdinalEncoder</label><div class=\"sk-toggleable__content\"><pre>OrdinalEncoder(cols=[&#x27;default&#x27;, &#x27;housing&#x27;, &#x27;loan&#x27;], handle_missing=&#x27;return_nan&#x27;,\n",
              "               mapping=[{&#x27;col&#x27;: &#x27;default&#x27;, &#x27;data_type&#x27;: dtype(&#x27;O&#x27;),\n",
              "                         &#x27;mapping&#x27;: no     0\n",
              "yes    1\n",
              "NaN   -1\n",
              "dtype: int64},\n",
              "                        {&#x27;col&#x27;: &#x27;housing&#x27;, &#x27;data_type&#x27;: dtype(&#x27;O&#x27;),\n",
              "                         &#x27;mapping&#x27;: no     0\n",
              "yes    1\n",
              "NaN   -1\n",
              "dtype: int64},\n",
              "                        {&#x27;col&#x27;: &#x27;loan&#x27;, &#x27;data_type&#x27;: dtype(&#x27;O&#x27;),\n",
              "                         &#x27;mapping&#x27;: no     0\n",
              "yes    1\n",
              "NaN   -1\n",
              "dtype: int64}])</pre></div></div></div><div class=\"sk-serial\"><div class=\"sk-item\"><div class=\"sk-estimator sk-toggleable\"><input class=\"sk-toggleable__control sk-hidden--visually\" id=\"sk-estimator-id-30\" type=\"checkbox\" ><label for=\"sk-estimator-id-30\" class=\"sk-toggleable__label sk-toggleable__label-arrow\">OrdinalEncoder</label><div class=\"sk-toggleable__content\"><pre>OrdinalEncoder(cols=[&#x27;default&#x27;, &#x27;housing&#x27;, &#x27;loan&#x27;], handle_missing=&#x27;return_nan&#x27;,\n",
              "               mapping=[{&#x27;col&#x27;: &#x27;default&#x27;, &#x27;data_type&#x27;: dtype(&#x27;O&#x27;),\n",
              "                         &#x27;mapping&#x27;: no     0\n",
              "yes    1\n",
              "NaN   -1\n",
              "dtype: int64},\n",
              "                        {&#x27;col&#x27;: &#x27;housing&#x27;, &#x27;data_type&#x27;: dtype(&#x27;O&#x27;),\n",
              "                         &#x27;mapping&#x27;: no     0\n",
              "yes    1\n",
              "NaN   -1\n",
              "dtype: int64},\n",
              "                        {&#x27;col&#x27;: &#x27;loan&#x27;, &#x27;data_type&#x27;: dtype(&#x27;O&#x27;),\n",
              "                         &#x27;mapping&#x27;: no     0\n",
              "yes    1\n",
              "NaN   -1\n",
              "dtype: int64}])</pre></div></div></div></div></div></div></div></div><div class=\"sk-item sk-dashed-wrapped\"><div class=\"sk-label-container\"><div class=\"sk-label sk-toggleable\"><input class=\"sk-toggleable__control sk-hidden--visually\" id=\"sk-estimator-id-31\" type=\"checkbox\" ><label for=\"sk-estimator-id-31\" class=\"sk-toggleable__label sk-toggleable__label-arrow\">onehot_encoding: TransformerWrapper</label><div class=\"sk-toggleable__content\"><pre>TransformerWrapper(exclude=None,\n",
              "                   include=[&#x27;job&#x27;, &#x27;marital&#x27;, &#x27;education&#x27;, &#x27;contact&#x27;, &#x27;month&#x27;,\n",
              "                            &#x27;poutcome&#x27;],\n",
              "                   transformer=OneHotEncoder(cols=[&#x27;job&#x27;, &#x27;marital&#x27;,\n",
              "                                                   &#x27;education&#x27;, &#x27;contact&#x27;,\n",
              "                                                   &#x27;month&#x27;, &#x27;poutcome&#x27;],\n",
              "                                             drop_invariant=False,\n",
              "                                             handle_missing=&#x27;return_nan&#x27;,\n",
              "                                             handle_unknown=&#x27;value&#x27;,\n",
              "                                             return_df=True, use_cat_names=True,\n",
              "                                             verbose=0))</pre></div></div></div><div class=\"sk-parallel\"><div class=\"sk-parallel-item\"><div class=\"sk-item\"><div class=\"sk-label-container\"><div class=\"sk-label sk-toggleable\"><input class=\"sk-toggleable__control sk-hidden--visually\" id=\"sk-estimator-id-32\" type=\"checkbox\" ><label for=\"sk-estimator-id-32\" class=\"sk-toggleable__label sk-toggleable__label-arrow\">transformer: OneHotEncoder</label><div class=\"sk-toggleable__content\"><pre>OneHotEncoder(cols=[&#x27;job&#x27;, &#x27;marital&#x27;, &#x27;education&#x27;, &#x27;contact&#x27;, &#x27;month&#x27;,\n",
              "                    &#x27;poutcome&#x27;],\n",
              "              handle_missing=&#x27;return_nan&#x27;, use_cat_names=True)</pre></div></div></div><div class=\"sk-serial\"><div class=\"sk-item\"><div class=\"sk-estimator sk-toggleable\"><input class=\"sk-toggleable__control sk-hidden--visually\" id=\"sk-estimator-id-33\" type=\"checkbox\" ><label for=\"sk-estimator-id-33\" class=\"sk-toggleable__label sk-toggleable__label-arrow\">OneHotEncoder</label><div class=\"sk-toggleable__content\"><pre>OneHotEncoder(cols=[&#x27;job&#x27;, &#x27;marital&#x27;, &#x27;education&#x27;, &#x27;contact&#x27;, &#x27;month&#x27;,\n",
              "                    &#x27;poutcome&#x27;],\n",
              "              handle_missing=&#x27;return_nan&#x27;, use_cat_names=True)</pre></div></div></div></div></div></div></div></div><div class=\"sk-item\"><div class=\"sk-estimator sk-toggleable\"><input class=\"sk-toggleable__control sk-hidden--visually\" id=\"sk-estimator-id-34\" type=\"checkbox\" ><label for=\"sk-estimator-id-34\" class=\"sk-toggleable__label sk-toggleable__label-arrow\">DecisionTreeClassifier</label><div class=\"sk-toggleable__content\"><pre>DecisionTreeClassifier(random_state=123)</pre></div></div></div></div></div></div></div>"
            ]
          },
          "metadata": {},
          "execution_count": 27
        }
      ]
    },
    {
      "cell_type": "markdown",
      "source": [
        " # **<font color=\"DeepPink\">Conclusiones</font>**"
      ],
      "metadata": {
        "id": "KtCVYcE1rj9b"
      }
    },
    {
      "cell_type": "markdown",
      "source": [
        "<p align=\"justify\">\n",
        "👀 En este colab nosotros:\n",
        "<br><br>\n",
        "✅ Instalamos <code>PyCaret</code> y utilizamos un conjunto de datos de prueba de la biblioteca.\n",
        "<br>\n",
        "✅ Definimos un <code>WorkFlow</code>.\n",
        "<br>\n",
        "✅ Hicimos el <code>setup</code>.\n",
        "<br>\n",
        "✅ Creamos un modelo, optimizamos e hicimos un ensemble.\n",
        "<br>\n",
        "✅ Analizamos los modelos, con gráficos y evaluando.\n",
        "<br>\n",
        "✅ Hicimos la predicción del modelo.\n",
        "<br>\n",
        "✅ Grabamos el modelo para volver a usarlo.\n",
        "\n"
      ],
      "metadata": {
        "id": "WVXLkvWDrlPM"
      }
    },
    {
      "cell_type": "markdown",
      "source": [
        "<br>\n",
        "<br>\n",
        "<p align=\"center\"><b>\n",
        "💗\n",
        "<font color=\"DeepPink\">\n",
        "Hemos llegado al final de nuestro colab, a seguir codeando...\n",
        "</font>\n",
        "</p>\n",
        "<br>\n",
        "<p align=\"center\">\n",
        "<img src=\"https://github.com/cristiandarioortegayubro/BDS/blob/main/images/Logo%20BDS%20Horizontal%208.png?raw=true\">\n",
        "</p>\n",
        "\n",
        "---\n",
        "[![Invitame un café en cafecito.app](https://cdn.cafecito.app/imgs/buttons/button_5.svg)](https://cafecito.app/cristiandarioortega)"
      ],
      "metadata": {
        "id": "hcnCfKscnTI0"
      }
    }
  ]
}